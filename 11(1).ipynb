{
 "cells": [
  {
   "cell_type": "markdown",
   "id": "a02108c3",
   "metadata": {},
   "source": [
    "1)Python program to add two numbers"
   ]
  },
  {
   "cell_type": "code",
   "execution_count": 10,
   "id": "b5026ed6",
   "metadata": {},
   "outputs": [
    {
     "data": {
      "text/plain": [
       "5"
      ]
     },
     "execution_count": 10,
     "metadata": {},
     "output_type": "execute_result"
    }
   ],
   "source": [
    "def add(x,y):\n",
    "    add=x+y\n",
    "    return add\n",
    "add(2,3)"
   ]
  },
  {
   "cell_type": "code",
   "execution_count": 5,
   "id": "8a8ca963",
   "metadata": {},
   "outputs": [
    {
     "name": "stdout",
     "output_type": "stream",
     "text": [
      "13\n"
     ]
    }
   ],
   "source": [
    "x=10\n",
    "y=3\n",
    "z=x+y\n",
    "print(z)"
   ]
  },
  {
   "cell_type": "markdown",
   "id": "3bf6c2bf",
   "metadata": {},
   "source": [
    "2)Maximum of two numbers in Python"
   ]
  },
  {
   "cell_type": "code",
   "execution_count": 35,
   "id": "458ad073",
   "metadata": {},
   "outputs": [
    {
     "name": "stdout",
     "output_type": "stream",
     "text": [
      "a is smaller than b\n"
     ]
    }
   ],
   "source": [
    "def maximum(a,b):\n",
    "    if a>=b:\n",
    "        print(\"a is greater than b\")\n",
    "    else: \n",
    "        print(\"a is smaller than b\")\n",
    "        \n",
    "a=10\n",
    "b=70\n",
    "maximum(a,b)"
   ]
  },
  {
   "cell_type": "markdown",
   "id": "bab7b65b",
   "metadata": {},
   "source": [
    "3)Python Program for factorial of a number"
   ]
  },
  {
   "cell_type": "code",
   "execution_count": 2,
   "id": "1c26d7de",
   "metadata": {},
   "outputs": [
    {
     "name": "stdout",
     "output_type": "stream",
     "text": [
      "120\n"
     ]
    }
   ],
   "source": [
    "def fac(n):\n",
    "    i=1\n",
    "    fact=1\n",
    "    while i <= n:\n",
    "        fact = fact * i\n",
    "        i=i+1\n",
    "    return fact\n",
    "\n",
    "print(fac(5))\n",
    "    "
   ]
  },
  {
   "cell_type": "code",
   "execution_count": 6,
   "id": "be62c14e",
   "metadata": {},
   "outputs": [
    {
     "name": "stdout",
     "output_type": "stream",
     "text": [
      "factorial of: 5\n",
      "fact 120\n"
     ]
    }
   ],
   "source": [
    "n=int(input(\"factorial of: \"))\n",
    "fact=1\n",
    "i=1\n",
    "for i in range(1,n+1):\n",
    "    fact=fact*i\n",
    "    i=i+1\n",
    "\n",
    "print(\"fact\",fact)"
   ]
  },
  {
   "cell_type": "markdown",
   "id": "757ac630",
   "metadata": {},
   "source": [
    "4)Python Program for simple interest"
   ]
  },
  {
   "cell_type": "code",
   "execution_count": 1,
   "id": "53fe8ca5",
   "metadata": {},
   "outputs": [
    {
     "name": "stdout",
     "output_type": "stream",
     "text": [
      "the value of principal is: 1000\n",
      "the value of time period is: 2\n",
      "the value of rate is: 1\n",
      "20.0\n"
     ]
    }
   ],
   "source": [
    "p=int(input(\"the value of principal is: \"))\n",
    "n=int(input(\"the value of time period is: \"))\n",
    "r=int(input(\"the value of rate is: \"))\n",
    "\n",
    "def simpleint(p,n,r):\n",
    "    z=p*n*r/100\n",
    "    print(z)\n",
    "    \n",
    "\n",
    "simpleint(p,n,r)"
   ]
  },
  {
   "cell_type": "code",
   "execution_count": 6,
   "id": "622e01c8",
   "metadata": {},
   "outputs": [
    {
     "name": "stdout",
     "output_type": "stream",
     "text": [
      "the value of principal is: 10000\n",
      "the value of time period is: 2\n",
      "the value of rate is: 2\n",
      "intrest is:   400.0\n"
     ]
    }
   ],
   "source": [
    "p=int(input(\"the value of principal is: \"))\n",
    "n=int(input(\"the value of time period is: \"))\n",
    "r=int(input(\"the value of rate is: \"))\n",
    "z=p*n*r/100\n",
    "print(\"intrest is:  \",z)"
   ]
  },
  {
   "cell_type": "markdown",
   "id": "472d53fd",
   "metadata": {},
   "source": [
    "5)Python Program for compound interest\n"
   ]
  },
  {
   "cell_type": "code",
   "execution_count": 22,
   "id": "b9c1197c",
   "metadata": {},
   "outputs": [
    {
     "name": "stdout",
     "output_type": "stream",
     "text": [
      "the value of principal is: 1000\n",
      "the value of time period is: 2\n",
      "the value of rate is: 1\n",
      "intrest is:   20.0\n"
     ]
    }
   ],
   "source": [
    "p=int(input(\"the value of principal is: \"))\n",
    "n=int(input(\"the value of time period is: \"))\n",
    "r=int(input(\"the value of rate is: \"))\n",
    "\n",
    "z=p*pow((1+n/100),r)-p\n",
    "\n",
    "print(\"intrest is:  \",z)"
   ]
  },
  {
   "cell_type": "markdown",
   "id": "c0f473a4",
   "metadata": {},
   "source": [
    "6)Python Program to check Armstrong Number"
   ]
  },
  {
   "cell_type": "code",
   "execution_count": null,
   "id": "654b97d2",
   "metadata": {},
   "outputs": [],
   "source": []
  },
  {
   "cell_type": "markdown",
   "id": "6b7216f0",
   "metadata": {},
   "source": [
    "7)Python Program for Program to find area of a circle"
   ]
  },
  {
   "cell_type": "code",
   "execution_count": 9,
   "id": "1ef20854",
   "metadata": {},
   "outputs": [
    {
     "name": "stdout",
     "output_type": "stream",
     "text": [
      "the radious of circle :  5\n"
     ]
    },
    {
     "data": {
      "text/plain": [
       "78.5"
      ]
     },
     "execution_count": 9,
     "metadata": {},
     "output_type": "execute_result"
    }
   ],
   "source": [
    "def area(n):\n",
    "    a=3.14*r**2\n",
    "    return a\n",
    "r=int(input(\"the radious of circle :  \"))    \n",
    "area(n)"
   ]
  },
  {
   "cell_type": "markdown",
   "id": "8395450a",
   "metadata": {},
   "source": [
    "8)Python program to print all Prime numbers in an Interval"
   ]
  },
  {
   "cell_type": "code",
   "execution_count": 13,
   "id": "416d7d48",
   "metadata": {},
   "outputs": [
    {
     "name": "stdout",
     "output_type": "stream",
     "text": [
      "the prime number :   1\n",
      "the prime number :   3\n",
      "the prime number :   5\n",
      "the prime number :   7\n",
      "the prime number :   9\n",
      "the prime number :   11\n",
      "the prime number :   13\n",
      "the prime number :   15\n",
      "the prime number :   17\n",
      "the prime number :   19\n",
      "the prime number :   21\n",
      "the prime number :   23\n",
      "the prime number :   25\n",
      "the prime number :   27\n",
      "the prime number :   29\n",
      "the prime number :   31\n",
      "the prime number :   33\n",
      "the prime number :   35\n",
      "the prime number :   37\n",
      "the prime number :   39\n",
      "the prime number :   41\n",
      "the prime number :   43\n",
      "the prime number :   45\n",
      "the prime number :   47\n",
      "the prime number :   49\n",
      "the prime number :   51\n",
      "the prime number :   53\n",
      "the prime number :   55\n",
      "the prime number :   57\n",
      "the prime number :   59\n",
      "the prime number :   61\n",
      "the prime number :   63\n",
      "the prime number :   65\n",
      "the prime number :   67\n",
      "the prime number :   69\n",
      "the prime number :   71\n",
      "the prime number :   73\n",
      "the prime number :   75\n",
      "the prime number :   77\n",
      "the prime number :   79\n",
      "the prime number :   81\n",
      "the prime number :   83\n",
      "the prime number :   85\n",
      "the prime number :   87\n",
      "the prime number :   89\n",
      "the prime number :   91\n",
      "the prime number :   93\n",
      "the prime number :   95\n",
      "the prime number :   97\n",
      "the prime number :   99\n"
     ]
    }
   ],
   "source": [
    "for i in range (1,100):\n",
    "    if i%2==0:\n",
    "        continue\n",
    "    elif i%i==0:\n",
    "        print(\"the prime number :  \",i)\n",
    "        "
   ]
  },
  {
   "cell_type": "markdown",
   "id": "2317bcd4",
   "metadata": {},
   "source": [
    "9)Python program to check whether a number is Prime or not"
   ]
  },
  {
   "cell_type": "code",
   "execution_count": 1,
   "id": "9d2a737a",
   "metadata": {},
   "outputs": [
    {
     "name": "stdout",
     "output_type": "stream",
     "text": [
      "number to check prime or not:   5\n",
      "this is prime number :   5\n"
     ]
    }
   ],
   "source": [
    "def check_prime(n):\n",
    "    if n%2==0:\n",
    "        print(\"this number is not prime number :  \",n)\n",
    "    elif n%n==0:\n",
    "        print(\"this is prime number :  \",n)\n",
    "n=int(input(\"number to check prime or not:   \"))       \n",
    "check_prime(n)\n",
    "    "
   ]
  },
  {
   "cell_type": "markdown",
   "id": "63be308f",
   "metadata": {},
   "source": [
    "10 Program to print ASCII Value of a character"
   ]
  },
  {
   "cell_type": "code",
   "execution_count": 20,
   "id": "6d072999",
   "metadata": {},
   "outputs": [
    {
     "name": "stdout",
     "output_type": "stream",
     "text": [
      "the ascii value of c is:  97\n",
      "the ascii value of A is:  65\n",
      "the ascii value of l is:  108\n",
      "the ascii value of b is:  98\n"
     ]
    }
   ],
   "source": [
    "c=\"a\"\n",
    "d=\"A\"\n",
    "e=\"l\"\n",
    "q=\"b\"\n",
    "print(\"the ascii value of c is: \",ord(c))\n",
    "print(\"the ascii value of A is: \",ord(d))\n",
    "print(\"the ascii value of l is: \",ord(e))\n",
    "print(\"the ascii value of b is: \",ord(q))"
   ]
  },
  {
   "cell_type": "markdown",
   "id": "4811722a",
   "metadata": {},
   "source": [
    "11 Python Program for Sum of squares of first n natural numbers"
   ]
  },
  {
   "cell_type": "code",
   "execution_count": 48,
   "id": "235c86fe",
   "metadata": {},
   "outputs": [
    {
     "name": "stdout",
     "output_type": "stream",
     "text": [
      "to get squre sum upto: 3\n",
      "square sum of numbers 14\n"
     ]
    }
   ],
   "source": [
    "sum=0\n",
    "n=int(input(\"to get squre sum upto: \"))\n",
    "for i in range(1,n+1):\n",
    "    sum=sum+pow(i,2)\n",
    "print(\"square sum of numbers\",sum)"
   ]
  },
  {
   "cell_type": "code",
   "execution_count": null,
   "id": "dadb56a7",
   "metadata": {},
   "outputs": [],
   "source": [
    "n=int(input(\"the number for Sum of squares of first n natural numbers:  \"))\n",
    "\n"
   ]
  },
  {
   "cell_type": "markdown",
   "id": "3bec01a0",
   "metadata": {},
   "source": [
    "12 Python Program for cube sum of first n natural numbers\n"
   ]
  },
  {
   "cell_type": "code",
   "execution_count": 3,
   "id": "d012c582",
   "metadata": {},
   "outputs": [
    {
     "name": "stdout",
     "output_type": "stream",
     "text": [
      "the cube sum of first how many numbers: 4\n",
      "36\n"
     ]
    }
   ],
   "source": [
    "def cube(c):\n",
    "    sum=0\n",
    "    for i in range(0,c):\n",
    "        x=i**3\n",
    "        sum=sum+x\n",
    "    print(sum)\n",
    "\n",
    "n=int(input(\"the cube sum of first how many numbers: \"))\n",
    "\n",
    "cube(n)"
   ]
  },
  {
   "cell_type": "code",
   "execution_count": 49,
   "id": "830739ed",
   "metadata": {},
   "outputs": [
    {
     "name": "stdout",
     "output_type": "stream",
     "text": [
      "to get cube sum upto: 4\n",
      "cube sum of numbers 100\n"
     ]
    }
   ],
   "source": [
    "sum=0\n",
    "n=int(input(\"to get cube sum upto: \"))\n",
    "for i in range(1,n+1):\n",
    "    sum=sum+pow(i,3)\n",
    "print(\"cube sum of numbers\",sum)"
   ]
  },
  {
   "cell_type": "code",
   "execution_count": null,
   "id": "1177d210",
   "metadata": {},
   "outputs": [],
   "source": [
    "\n"
   ]
  },
  {
   "cell_type": "markdown",
   "id": "fd21e887",
   "metadata": {},
   "source": [
    "Python Program to check Armstrong Number"
   ]
  },
  {
   "cell_type": "code",
   "execution_count": 7,
   "id": "cbed661d",
   "metadata": {},
   "outputs": [
    {
     "name": "stdout",
     "output_type": "stream",
     "text": [
      "the number to check armstron or not:  407\n",
      "armstrong number\n"
     ]
    }
   ],
   "source": [
    "num=int(input(\"the number to check armstron or not:  \"))\n",
    "sum=0\n",
    "temp = num\n",
    "while temp > 0:\n",
    "   digit = temp % 10\n",
    "   sum += digit ** 3\n",
    "   temp //= 10\n",
    "    \n",
    "if num==sum:\n",
    "    print(\"armstrong number\")\n",
    "else:\n",
    "    print(\"not armstrong\")\n",
    "    "
   ]
  },
  {
   "cell_type": "markdown",
   "id": "3df1960c",
   "metadata": {},
   "source": [
    "Python Program for n-th Fibonacci number"
   ]
  },
  {
   "cell_type": "code",
   "execution_count": 9,
   "id": "4d0cde08",
   "metadata": {},
   "outputs": [
    {
     "name": "stdout",
     "output_type": "stream",
     "text": [
      "How many terms? 5\n",
      "0\n",
      "1\n",
      "1\n",
      "2\n",
      "3\n"
     ]
    }
   ],
   "source": [
    "nterms = int(input(\"How many terms? \"))\n",
    "n1, n2 = 0, 1\n",
    "count = 0\n",
    "while count < nterms:\n",
    "       print(n1)\n",
    "       nth = n1 + n2\n",
    "       n1 = n2\n",
    "       n2 = nth\n",
    "       count += 1"
   ]
  },
  {
   "cell_type": "markdown",
   "id": "09e671e4",
   "metadata": {},
   "source": [
    "Python Program for How to check if a given number is Fibonacci number?"
   ]
  },
  {
   "cell_type": "code",
   "execution_count": 10,
   "id": "4eb6a648",
   "metadata": {},
   "outputs": [
    {
     "name": "stdout",
     "output_type": "stream",
     "text": [
      "enter the value of n34\n",
      "0 1 1 2 3 5 8 13 21 34 55 89 144 233 377 610 987 1597 2584 4181 6765 10946 17711 28657 46368 75025 121393 196418 317811 514229 832040 1346269 2178309 3524578 \n",
      "\n",
      "34 is fibonacci number\n"
     ]
    }
   ],
   "source": [
    "def febo(n):\n",
    "    n1=0\n",
    "    n2=1\n",
    "    res1=[]\n",
    "    \n",
    "    if n<1:\n",
    "        print(\"invalid\")\n",
    "    elif n==1:\n",
    "        print(n1)\n",
    "    else:\n",
    "        for i in range(n):\n",
    "            print(n1,end=\" \")\n",
    "            res=n1+n2\n",
    "            res1.append(res)\n",
    "            n1=n2\n",
    "            n2=res\n",
    "        print(\"\\n\")\n",
    "        if n in res1:\n",
    "             print(n,\"is fibonacci number\")\n",
    "        else:\n",
    "            print(n,\"is not fibonacci number\")\n",
    "            \n",
    "            \n",
    "n=int(input(\"enter the value of n\"))\n",
    "febo(n)\n",
    "    "
   ]
  },
  {
   "cell_type": "code",
   "execution_count": null,
   "id": "e8282f22",
   "metadata": {},
   "outputs": [],
   "source": []
  },
  {
   "cell_type": "markdown",
   "id": "d765db4a",
   "metadata": {},
   "source": [
    "Python Program for n\\’th multiple of a number in Fibonacci Series"
   ]
  },
  {
   "cell_type": "code",
   "execution_count": null,
   "id": "5ca084a9",
   "metadata": {},
   "outputs": [],
   "source": []
  }
 ],
 "metadata": {
  "kernelspec": {
   "display_name": "Python 3",
   "language": "python",
   "name": "python3"
  },
  "language_info": {
   "codemirror_mode": {
    "name": "ipython",
    "version": 3
   },
   "file_extension": ".py",
   "mimetype": "text/x-python",
   "name": "python",
   "nbconvert_exporter": "python",
   "pygments_lexer": "ipython3",
   "version": "3.8.8"
  }
 },
 "nbformat": 4,
 "nbformat_minor": 5
}
