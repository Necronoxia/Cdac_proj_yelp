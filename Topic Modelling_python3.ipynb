{
 "cells": [
  {
   "cell_type": "code",
   "execution_count": 1,
   "id": "5cb013a2-6e0a-4032-8ec2-e8cf91da362e",
   "metadata": {
    "execution": {
     "iopub.execute_input": "2022-04-01T02:51:51.245750Z",
     "iopub.status.busy": "2022-04-01T02:51:51.245442Z",
     "iopub.status.idle": "2022-04-01T02:52:01.503054Z",
     "shell.execute_reply": "2022-04-01T02:52:01.501818Z",
     "shell.execute_reply.started": "2022-04-01T02:51:51.245666Z"
    },
    "tags": []
   },
   "outputs": [
    {
     "name": "stdout",
     "output_type": "stream",
     "text": [
      "Defaulting to user installation because normal site-packages is not writeable\n",
      "Collecting gensim\n",
      "  Downloading gensim-4.1.2-cp37-cp37m-manylinux_2_12_x86_64.manylinux2010_x86_64.whl (24.1 MB)\n",
      "\u001b[K     |████████████████████████████████| 24.1 MB 11.9 MB/s eta 0:00:01\n",
      "\u001b[?25hRequirement already satisfied: numpy>=1.17.0 in /mnt/notebook-env/lib/python3.7/site-packages (from gensim) (1.21.2)\n",
      "Collecting smart-open>=1.8.1\n",
      "  Downloading smart_open-5.2.1-py3-none-any.whl (58 kB)\n",
      "\u001b[K     |████████████████████████████████| 58 kB 5.2 MB/s  eta 0:00:01\n",
      "\u001b[?25hCollecting scipy>=0.18.1\n",
      "  Downloading scipy-1.7.3-cp37-cp37m-manylinux_2_12_x86_64.manylinux2010_x86_64.whl (38.1 MB)\n",
      "\u001b[K     |████████████████████████████████| 38.1 MB 58.4 MB/s eta 0:00:01\n",
      "\u001b[?25hInstalling collected packages: smart-open, scipy, gensim\n",
      "Successfully installed gensim-4.1.2 scipy-1.7.3 smart-open-5.2.1\n",
      "Note: you may need to restart the kernel to use updated packages.\n"
     ]
    }
   ],
   "source": [
    "pip install gensim"
   ]
  },
  {
   "cell_type": "code",
   "execution_count": 2,
   "id": "51cc1eb2-3662-49ce-9967-e781ff42e16e",
   "metadata": {
    "execution": {
     "iopub.execute_input": "2022-04-01T02:52:41.330443Z",
     "iopub.status.busy": "2022-04-01T02:52:41.330068Z",
     "iopub.status.idle": "2022-04-01T02:52:59.977114Z",
     "shell.execute_reply": "2022-04-01T02:52:59.975853Z",
     "shell.execute_reply.started": "2022-04-01T02:52:41.330406Z"
    },
    "tags": []
   },
   "outputs": [
    {
     "name": "stdout",
     "output_type": "stream",
     "text": [
      "Defaulting to user installation because normal site-packages is not writeable\n",
      "Collecting pyldavis\n",
      "  Downloading pyLDAvis-3.3.1.tar.gz (1.7 MB)\n",
      "\u001b[K     |████████████████████████████████| 1.7 MB 42.5 MB/s eta 0:00:01\n",
      "\u001b[?25h  Installing build dependencies ... \u001b[?25ldone\n",
      "\u001b[?25h  Getting requirements to build wheel ... \u001b[?25ldone\n",
      "\u001b[?25h  Installing backend dependencies ... \u001b[?25ldone\n",
      "\u001b[?25h    Preparing wheel metadata ... \u001b[?25ldone\n",
      "\u001b[?25hRequirement already satisfied: setuptools in /mnt/notebook-env/lib/python3.7/site-packages (from pyldavis) (58.0.4)\n",
      "Collecting joblib\n",
      "  Downloading joblib-1.1.0-py2.py3-none-any.whl (306 kB)\n",
      "\u001b[K     |████████████████████████████████| 306 kB 54.4 MB/s eta 0:00:01\n",
      "\u001b[?25hRequirement already satisfied: numexpr in /mnt/notebook-env/lib/python3.7/site-packages (from pyldavis) (2.8.1)\n",
      "Requirement already satisfied: numpy>=1.20.0 in /mnt/notebook-env/lib/python3.7/site-packages (from pyldavis) (1.21.2)\n",
      "Requirement already satisfied: scipy in /home/emr-notebook/.local/lib/python3.7/site-packages (from pyldavis) (1.7.3)\n",
      "Requirement already satisfied: jinja2 in /mnt/notebook-env/lib/python3.7/site-packages (from pyldavis) (3.0.2)\n",
      "Collecting funcy\n",
      "  Downloading funcy-1.17-py2.py3-none-any.whl (33 kB)\n",
      "Collecting sklearn\n",
      "  Downloading sklearn-0.0.tar.gz (1.1 kB)\n",
      "Collecting scikit-learn\n",
      "  Downloading scikit_learn-1.0.2-cp37-cp37m-manylinux_2_17_x86_64.manylinux2014_x86_64.whl (24.8 MB)\n",
      "\u001b[K     |████████████████████████████████| 24.8 MB 62.7 MB/s eta 0:00:01\n",
      "\u001b[?25hRequirement already satisfied: gensim in /home/emr-notebook/.local/lib/python3.7/site-packages (from pyldavis) (4.1.2)\n",
      "Collecting future\n",
      "  Downloading future-0.18.2.tar.gz (829 kB)\n",
      "\u001b[K     |████████████████████████████████| 829 kB 67.9 MB/s eta 0:00:01\n",
      "\u001b[?25hRequirement already satisfied: pandas>=1.2.0 in /mnt/notebook-env/lib/python3.7/site-packages (from pyldavis) (1.3.5)\n",
      "Requirement already satisfied: python-dateutil>=2.7.3 in /mnt/notebook-env/lib/python3.7/site-packages (from pandas>=1.2.0->pyldavis) (2.8.2)\n",
      "Requirement already satisfied: pytz>=2017.3 in /mnt/notebook-env/lib/python3.7/site-packages (from pandas>=1.2.0->pyldavis) (2021.3)\n",
      "Requirement already satisfied: six>=1.5 in /mnt/notebook-env/lib/python3.7/site-packages (from python-dateutil>=2.7.3->pandas>=1.2.0->pyldavis) (1.15.0)\n",
      "Requirement already satisfied: smart-open>=1.8.1 in /home/emr-notebook/.local/lib/python3.7/site-packages (from gensim->pyldavis) (5.2.1)\n",
      "Requirement already satisfied: MarkupSafe>=2.0 in /mnt/notebook-env/lib/python3.7/site-packages (from jinja2->pyldavis) (2.0.1)\n",
      "Requirement already satisfied: packaging in /mnt/notebook-env/lib/python3.7/site-packages (from numexpr->pyldavis) (21.3)\n",
      "Requirement already satisfied: pyparsing!=3.0.5,>=2.0.2 in /mnt/notebook-env/lib/python3.7/site-packages (from packaging->numexpr->pyldavis) (3.0.4)\n",
      "Collecting threadpoolctl>=2.0.0\n",
      "  Downloading threadpoolctl-3.1.0-py3-none-any.whl (14 kB)\n",
      "Building wheels for collected packages: pyldavis, future, sklearn\n",
      "  Building wheel for pyldavis (PEP 517) ... \u001b[?25ldone\n",
      "\u001b[?25h  Created wheel for pyldavis: filename=pyLDAvis-3.3.1-py2.py3-none-any.whl size=136900 sha256=3600a61334e7144c2a1836d42a572c92825105f614cf551a32d7cdc99b65c4ff\n",
      "  Stored in directory: /home/emr-notebook/.cache/pip/wheels/c9/21/f6/17bcf2667e8a68532ba2fbf6d5c72fdf4c7f7d9abfa4852d2f\n",
      "  Building wheel for future (setup.py) ... \u001b[?25ldone\n",
      "\u001b[?25h  Created wheel for future: filename=future-0.18.2-py3-none-any.whl size=491070 sha256=906e7db32db0d57800ba50d3ac8104649626b407ad22c10cd104cf37e021bbd4\n",
      "  Stored in directory: /home/emr-notebook/.cache/pip/wheels/56/b0/fe/4410d17b32f1f0c3cf54cdfb2bc04d7b4b8f4ae377e2229ba0\n",
      "  Building wheel for sklearn (setup.py) ... \u001b[?25ldone\n",
      "\u001b[?25h  Created wheel for sklearn: filename=sklearn-0.0-py2.py3-none-any.whl size=1310 sha256=61352b51fc0fb3a06d18b15541593eb58135c4aeeb8afff66098df1511ef0190\n",
      "  Stored in directory: /home/emr-notebook/.cache/pip/wheels/46/ef/c3/157e41f5ee1372d1be90b09f74f82b10e391eaacca8f22d33e\n",
      "Successfully built pyldavis future sklearn\n",
      "Installing collected packages: threadpoolctl, joblib, scikit-learn, sklearn, future, funcy, pyldavis\n",
      "\u001b[33m  WARNING: The scripts futurize and pasteurize are installed in '/home/emr-notebook/.local/bin' which is not on PATH.\n",
      "  Consider adding this directory to PATH or, if you prefer to suppress this warning, use --no-warn-script-location.\u001b[0m\n",
      "Successfully installed funcy-1.17 future-0.18.2 joblib-1.1.0 pyldavis-3.3.1 scikit-learn-1.0.2 sklearn-0.0 threadpoolctl-3.1.0\n",
      "Note: you may need to restart the kernel to use updated packages.\n"
     ]
    }
   ],
   "source": [
    "pip install pyldavis"
   ]
  },
  {
   "cell_type": "code",
   "execution_count": 5,
   "id": "016fe18f-9963-4bc0-a67a-ae2f7d7c8f91",
   "metadata": {
    "collapsed": true,
    "execution": {
     "iopub.execute_input": "2022-03-31T08:51:49.236246Z",
     "iopub.status.busy": "2022-03-31T08:51:49.235935Z",
     "iopub.status.idle": "2022-03-31T08:51:50.807843Z",
     "shell.execute_reply": "2022-03-31T08:51:50.806578Z",
     "shell.execute_reply.started": "2022-03-31T08:51:49.236212Z"
    },
    "jupyter": {
     "outputs_hidden": true
    },
    "tags": []
   },
   "outputs": [
    {
     "name": "stdout",
     "output_type": "stream",
     "text": [
      "Defaulting to user installation because normal site-packages is not writeable\n",
      "Requirement already satisfied: pyLDAvis in /home/emr-notebook/.local/lib/python3.7/site-packages (3.3.1)\n",
      "Requirement already satisfied: sklearn in /home/emr-notebook/.local/lib/python3.7/site-packages (from pyLDAvis) (0.0)\n",
      "Requirement already satisfied: joblib in /home/emr-notebook/.local/lib/python3.7/site-packages (from pyLDAvis) (1.1.0)\n",
      "Requirement already satisfied: numexpr in /mnt/notebook-env/lib/python3.7/site-packages (from pyLDAvis) (2.8.1)\n",
      "Requirement already satisfied: setuptools in /mnt/notebook-env/lib/python3.7/site-packages (from pyLDAvis) (58.0.4)\n",
      "Requirement already satisfied: numpy>=1.20.0 in /mnt/notebook-env/lib/python3.7/site-packages (from pyLDAvis) (1.21.2)\n",
      "Requirement already satisfied: jinja2 in /mnt/notebook-env/lib/python3.7/site-packages (from pyLDAvis) (3.0.2)\n",
      "Requirement already satisfied: scipy in /home/emr-notebook/.local/lib/python3.7/site-packages (from pyLDAvis) (1.7.3)\n",
      "Requirement already satisfied: future in /home/emr-notebook/.local/lib/python3.7/site-packages (from pyLDAvis) (0.18.2)\n",
      "Requirement already satisfied: scikit-learn in /home/emr-notebook/.local/lib/python3.7/site-packages (from pyLDAvis) (1.0.2)\n",
      "Requirement already satisfied: funcy in /home/emr-notebook/.local/lib/python3.7/site-packages (from pyLDAvis) (1.17)\n",
      "Requirement already satisfied: gensim in /home/emr-notebook/.local/lib/python3.7/site-packages (from pyLDAvis) (4.1.2)\n",
      "Requirement already satisfied: pandas>=1.2.0 in /mnt/notebook-env/lib/python3.7/site-packages (from pyLDAvis) (1.3.5)\n",
      "Requirement already satisfied: python-dateutil>=2.7.3 in /mnt/notebook-env/lib/python3.7/site-packages (from pandas>=1.2.0->pyLDAvis) (2.8.2)\n",
      "Requirement already satisfied: pytz>=2017.3 in /mnt/notebook-env/lib/python3.7/site-packages (from pandas>=1.2.0->pyLDAvis) (2021.3)\n",
      "Requirement already satisfied: six>=1.5 in /mnt/notebook-env/lib/python3.7/site-packages (from python-dateutil>=2.7.3->pandas>=1.2.0->pyLDAvis) (1.15.0)\n",
      "Requirement already satisfied: smart-open>=1.8.1 in /home/emr-notebook/.local/lib/python3.7/site-packages (from gensim->pyLDAvis) (5.2.1)\n",
      "Requirement already satisfied: MarkupSafe>=2.0 in /mnt/notebook-env/lib/python3.7/site-packages (from jinja2->pyLDAvis) (2.0.1)\n",
      "Requirement already satisfied: packaging in /mnt/notebook-env/lib/python3.7/site-packages (from numexpr->pyLDAvis) (21.3)\n",
      "Requirement already satisfied: pyparsing!=3.0.5,>=2.0.2 in /mnt/notebook-env/lib/python3.7/site-packages (from packaging->numexpr->pyLDAvis) (3.0.4)\n",
      "Requirement already satisfied: threadpoolctl>=2.0.0 in /home/emr-notebook/.local/lib/python3.7/site-packages (from scikit-learn->pyLDAvis) (3.1.0)\n",
      "Note: you may need to restart the kernel to use updated packages.\n"
     ]
    }
   ],
   "source": [
    "pip install pyLDAvis"
   ]
  },
  {
   "cell_type": "code",
   "execution_count": 7,
   "id": "fd78031d-ae09-46aa-b9d2-7b4f540f1001",
   "metadata": {
    "collapsed": true,
    "execution": {
     "iopub.execute_input": "2022-03-31T08:46:06.250310Z",
     "iopub.status.busy": "2022-03-31T08:46:06.249934Z",
     "iopub.status.idle": "2022-03-31T08:46:08.074501Z",
     "shell.execute_reply": "2022-03-31T08:46:08.073323Z",
     "shell.execute_reply.started": "2022-03-31T08:46:06.250275Z"
    },
    "jupyter": {
     "outputs_hidden": true
    },
    "tags": []
   },
   "outputs": [
    {
     "name": "stdout",
     "output_type": "stream",
     "text": [
      "Defaulting to user installation because normal site-packages is not writeable\n",
      "Collecting findspark\n",
      "  Downloading findspark-2.0.1-py2.py3-none-any.whl (4.4 kB)\n",
      "Installing collected packages: findspark\n",
      "Successfully installed findspark-2.0.1\n",
      "Note: you may need to restart the kernel to use updated packages.\n"
     ]
    }
   ],
   "source": [
    "pip install findspark"
   ]
  },
  {
   "cell_type": "code",
   "execution_count": 3,
   "id": "ba5e2662-e316-4c67-b363-21d416e3d739",
   "metadata": {
    "execution": {
     "iopub.execute_input": "2022-04-01T02:54:22.372659Z",
     "iopub.status.busy": "2022-04-01T02:54:22.372383Z",
     "iopub.status.idle": "2022-04-01T02:54:23.649292Z",
     "shell.execute_reply": "2022-04-01T02:54:23.648316Z",
     "shell.execute_reply.started": "2022-04-01T02:54:22.372626Z"
    },
    "tags": []
   },
   "outputs": [
    {
     "name": "stdout",
     "output_type": "stream",
     "text": [
      "Defaulting to user installation because normal site-packages is not writeable\n",
      "Requirement already satisfied: pandas in /mnt/notebook-env/lib/python3.7/site-packages (1.3.5)\n",
      "Requirement already satisfied: python-dateutil>=2.7.3 in /mnt/notebook-env/lib/python3.7/site-packages (from pandas) (2.8.2)\n",
      "Requirement already satisfied: pytz>=2017.3 in /mnt/notebook-env/lib/python3.7/site-packages (from pandas) (2021.3)\n",
      "Requirement already satisfied: numpy>=1.17.3 in /mnt/notebook-env/lib/python3.7/site-packages (from pandas) (1.21.2)\n",
      "Requirement already satisfied: six>=1.5 in /mnt/notebook-env/lib/python3.7/site-packages (from python-dateutil>=2.7.3->pandas) (1.15.0)\n",
      "Note: you may need to restart the kernel to use updated packages.\n"
     ]
    }
   ],
   "source": [
    "pip install pandas"
   ]
  },
  {
   "cell_type": "code",
   "execution_count": 4,
   "id": "15548b9c-229f-4161-9ad8-3e82d3f7139c",
   "metadata": {
    "execution": {
     "iopub.execute_input": "2022-04-01T02:54:56.841681Z",
     "iopub.status.busy": "2022-04-01T02:54:56.841396Z",
     "iopub.status.idle": "2022-04-01T02:55:00.913400Z",
     "shell.execute_reply": "2022-04-01T02:55:00.912301Z",
     "shell.execute_reply.started": "2022-04-01T02:54:56.841648Z"
    },
    "tags": []
   },
   "outputs": [
    {
     "name": "stdout",
     "output_type": "stream",
     "text": [
      "Defaulting to user installation because normal site-packages is not writeable\n",
      "Collecting nltk\n",
      "  Downloading nltk-3.7-py3-none-any.whl (1.5 MB)\n",
      "\u001b[K     |████████████████████████████████| 1.5 MB 22.1 MB/s eta 0:00:01\n",
      "\u001b[?25hCollecting regex>=2021.8.3\n",
      "  Downloading regex-2022.3.15-cp37-cp37m-manylinux_2_17_x86_64.manylinux2014_x86_64.whl (749 kB)\n",
      "\u001b[K     |████████████████████████████████| 749 kB 68.5 MB/s eta 0:00:01\n",
      "\u001b[?25hRequirement already satisfied: tqdm in /mnt/notebook-env/lib/python3.7/site-packages (from nltk) (4.62.3)\n",
      "Collecting click\n",
      "  Downloading click-8.1.2-py3-none-any.whl (96 kB)\n",
      "\u001b[K     |████████████████████████████████| 96 kB 1.1 MB/s  eta 0:00:01\n",
      "\u001b[?25hRequirement already satisfied: joblib in /home/emr-notebook/.local/lib/python3.7/site-packages (from nltk) (1.1.0)\n",
      "Requirement already satisfied: importlib-metadata in /mnt/notebook-env/lib/python3.7/site-packages (from click->nltk) (4.8.2)\n",
      "Requirement already satisfied: typing-extensions>=3.6.4 in /mnt/notebook-env/lib/python3.7/site-packages (from importlib-metadata->click->nltk) (3.10.0.2)\n",
      "Requirement already satisfied: zipp>=0.5 in /mnt/notebook-env/lib/python3.7/site-packages (from importlib-metadata->click->nltk) (3.7.0)\n",
      "Installing collected packages: regex, click, nltk\n",
      "\u001b[33m  WARNING: The script nltk is installed in '/home/emr-notebook/.local/bin' which is not on PATH.\n",
      "  Consider adding this directory to PATH or, if you prefer to suppress this warning, use --no-warn-script-location.\u001b[0m\n",
      "Successfully installed click-8.1.2 nltk-3.7 regex-2022.3.15\n",
      "Note: you may need to restart the kernel to use updated packages.\n"
     ]
    }
   ],
   "source": [
    "pip install nltk"
   ]
  },
  {
   "cell_type": "code",
   "execution_count": 5,
   "id": "fc576a61-faa9-408b-9bb8-ca205f7ff7c0",
   "metadata": {
    "execution": {
     "iopub.execute_input": "2022-04-01T02:55:33.908434Z",
     "iopub.status.busy": "2022-04-01T02:55:33.908150Z",
     "iopub.status.idle": "2022-04-01T02:55:38.991319Z",
     "shell.execute_reply": "2022-04-01T02:55:38.990412Z",
     "shell.execute_reply.started": "2022-04-01T02:55:33.908383Z"
    },
    "tags": []
   },
   "outputs": [
    {
     "name": "stdout",
     "output_type": "stream",
     "text": [
      "Defaulting to user installation because normal site-packages is not writeable\n",
      "Collecting matplotlib\n",
      "  Downloading matplotlib-3.5.1-cp37-cp37m-manylinux_2_5_x86_64.manylinux1_x86_64.whl (11.2 MB)\n",
      "\u001b[K     |████████████████████████████████| 11.2 MB 20.3 MB/s eta 0:00:01\n",
      "\u001b[?25hRequirement already satisfied: numpy>=1.17 in /mnt/notebook-env/lib/python3.7/site-packages (from matplotlib) (1.21.2)\n",
      "Collecting kiwisolver>=1.0.1\n",
      "  Downloading kiwisolver-1.4.2-cp37-cp37m-manylinux_2_5_x86_64.manylinux1_x86_64.whl (1.1 MB)\n",
      "\u001b[K     |████████████████████████████████| 1.1 MB 55.8 MB/s eta 0:00:01\n",
      "\u001b[?25hRequirement already satisfied: packaging>=20.0 in /mnt/notebook-env/lib/python3.7/site-packages (from matplotlib) (21.3)\n",
      "Collecting fonttools>=4.22.0\n",
      "  Downloading fonttools-4.31.2-py3-none-any.whl (899 kB)\n",
      "\u001b[K     |████████████████████████████████| 899 kB 53.5 MB/s eta 0:00:01\n",
      "\u001b[?25hRequirement already satisfied: pyparsing>=2.2.1 in /mnt/notebook-env/lib/python3.7/site-packages (from matplotlib) (3.0.4)\n",
      "Requirement already satisfied: python-dateutil>=2.7 in /mnt/notebook-env/lib/python3.7/site-packages (from matplotlib) (2.8.2)\n",
      "Requirement already satisfied: pillow>=6.2.0 in /mnt/notebook-env/lib/python3.7/site-packages (from matplotlib) (8.4.0)\n",
      "Collecting cycler>=0.10\n",
      "  Downloading cycler-0.11.0-py3-none-any.whl (6.4 kB)\n",
      "Requirement already satisfied: typing-extensions in /mnt/notebook-env/lib/python3.7/site-packages (from kiwisolver>=1.0.1->matplotlib) (3.10.0.2)\n",
      "Requirement already satisfied: six>=1.5 in /mnt/notebook-env/lib/python3.7/site-packages (from python-dateutil>=2.7->matplotlib) (1.15.0)\n",
      "Installing collected packages: kiwisolver, fonttools, cycler, matplotlib\n",
      "\u001b[33m  WARNING: The scripts fonttools, pyftmerge, pyftsubset and ttx are installed in '/home/emr-notebook/.local/bin' which is not on PATH.\n",
      "  Consider adding this directory to PATH or, if you prefer to suppress this warning, use --no-warn-script-location.\u001b[0m\n",
      "Successfully installed cycler-0.11.0 fonttools-4.31.2 kiwisolver-1.4.2 matplotlib-3.5.1\n",
      "Note: you may need to restart the kernel to use updated packages.\n"
     ]
    }
   ],
   "source": [
    "pip install matplotlib"
   ]
  },
  {
   "cell_type": "code",
   "execution_count": 40,
   "id": "baf1d4e8-9ff4-4ea3-b037-6aff36b088ac",
   "metadata": {
    "execution": {
     "iopub.execute_input": "2022-03-31T09:22:24.775263Z",
     "iopub.status.busy": "2022-03-31T09:22:24.774922Z",
     "iopub.status.idle": "2022-03-31T09:22:30.447577Z",
     "shell.execute_reply": "2022-03-31T09:22:30.446606Z",
     "shell.execute_reply.started": "2022-03-31T09:22:24.775224Z"
    },
    "tags": []
   },
   "outputs": [
    {
     "name": "stderr",
     "output_type": "stream",
     "text": [
      "/emr/notebook-env/lib/python3.7/site-packages/ipykernel/ipkernel.py:287: DeprecationWarning: `should_run_async` will not call `transform_cell` automatically in the future. Please pass the result to `transformed_cell` argument and any exception that happen during thetransform in `preprocessing_exc_tuple` in IPython 7.17 and above.\n",
      "  and should_run_async(code)\n",
      "/emr/notebook-env/lib/python3.7/site-packages/ipykernel/pylab/backend_inline.py:164: DeprecationWarning: `configure_inline_support` is deprecated since IPython 7.23, directly use `matplotlib_inline.backend_inline.configure_inline_support()`\n",
      "  configure_inline_support(ip, backend)\n"
     ]
    }
   ],
   "source": [
    "import matplotlib.pyplot as plt"
   ]
  },
  {
   "cell_type": "code",
   "execution_count": 1,
   "id": "9a00bf83-b324-4b8b-a1ae-a1727298ae93",
   "metadata": {
    "execution": {
     "iopub.execute_input": "2022-03-31T09:12:46.175776Z",
     "iopub.status.busy": "2022-03-31T09:12:46.175278Z",
     "iopub.status.idle": "2022-03-31T09:12:46.313052Z",
     "shell.execute_reply": "2022-03-31T09:12:46.312268Z",
     "shell.execute_reply.started": "2022-03-31T09:12:46.175673Z"
    },
    "tags": []
   },
   "outputs": [],
   "source": [
    "import findspark\n",
    "findspark.init()\n",
    "import pyspark\n",
    "from pyspark.sql import SparkSession"
   ]
  },
  {
   "cell_type": "code",
   "execution_count": null,
   "id": "e4390f4e-d9c8-4178-a26e-e653313c14e3",
   "metadata": {
    "execution": {
     "iopub.execute_input": "2022-03-31T09:12:46.317225Z",
     "iopub.status.busy": "2022-03-31T09:12:46.317023Z",
     "iopub.status.idle": "2022-03-31T09:12:51.070727Z"
    },
    "tags": []
   },
   "outputs": [
    {
     "name": "stdout",
     "output_type": "stream",
     "text": [
      "CPU times: user 43.8 ms, sys: 5.91 ms, total: 49.7 ms\n",
      "Wall time: 4.75 s\n"
     ]
    }
   ],
   "source": [
    "%%time\n",
    "# spark-ui : http://localhost:4040/\n",
    "from pyspark import SparkContext, SparkConf\n",
    "conf = SparkConf().setAppName(\"Cdac_proj\").setMaster(\"local[*]\")\n",
    "sc = SparkContext(conf=conf)\n",
    "\n",
    "spark = SparkSession.builder.getOrCreate()"
   ]
  },
  {
   "cell_type": "code",
   "execution_count": 1,
   "id": "af68faa9-52ee-4896-b6a7-987ef775f51b",
   "metadata": {
    "execution": {
     "iopub.execute_input": "2022-04-01T02:39:07.248141Z",
     "iopub.status.busy": "2022-04-01T02:39:07.247812Z",
     "iopub.status.idle": "2022-04-01T02:39:07.374060Z",
     "shell.execute_reply": "2022-04-01T02:39:07.372852Z",
     "shell.execute_reply.started": "2022-04-01T02:39:07.248049Z"
    },
    "tags": []
   },
   "outputs": [
    {
     "ename": "ModuleNotFoundError",
     "evalue": "No module named 'gensim'",
     "output_type": "error",
     "traceback": [
      "\u001b[0;31m---------------------------------------------------------------------------\u001b[0m",
      "\u001b[0;31mModuleNotFoundError\u001b[0m                       Traceback (most recent call last)",
      "\u001b[0;32m<ipython-input-1-e70e92d32c6e>\u001b[0m in \u001b[0;36m<module>\u001b[0;34m\u001b[0m\n\u001b[0;32m----> 1\u001b[0;31m \u001b[0;32mimport\u001b[0m \u001b[0mgensim\u001b[0m\u001b[0;34m\u001b[0m\u001b[0;34m\u001b[0m\u001b[0m\n\u001b[0m",
      "\u001b[0;31mModuleNotFoundError\u001b[0m: No module named 'gensim'"
     ]
    }
   ],
   "source": [
    "import gensim"
   ]
  },
  {
   "cell_type": "code",
   "execution_count": 4,
   "id": "ce8c8ea5-5964-4dfc-988b-42b786d888c9",
   "metadata": {
    "execution": {
     "iopub.execute_input": "2022-03-31T09:12:51.482722Z",
     "iopub.status.busy": "2022-03-31T09:12:51.482490Z",
     "iopub.status.idle": "2022-03-31T09:12:52.356229Z",
     "shell.execute_reply": "2022-03-31T09:12:52.355347Z",
     "shell.execute_reply.started": "2022-03-31T09:12:51.482691Z"
    },
    "tags": []
   },
   "outputs": [],
   "source": [
    "import pyLDAvis"
   ]
  },
  {
   "cell_type": "code",
   "execution_count": 5,
   "id": "d4a50716-44ad-42d3-84e0-4a8f2701077f",
   "metadata": {
    "execution": {
     "iopub.execute_input": "2022-03-31T09:12:52.357594Z",
     "iopub.status.busy": "2022-03-31T09:12:52.357363Z",
     "iopub.status.idle": "2022-03-31T09:12:52.389089Z",
     "shell.execute_reply": "2022-03-31T09:12:52.387737Z",
     "shell.execute_reply.started": "2022-03-31T09:12:52.357564Z"
    },
    "tags": []
   },
   "outputs": [
    {
     "name": "stderr",
     "output_type": "stream",
     "text": [
      "/emr/notebook-env/lib/python3.7/site-packages/ipykernel/ipkernel.py:287: DeprecationWarning: `should_run_async` will not call `transform_cell` automatically in the future. Please pass the result to `transformed_cell` argument and any exception that happen during thetransform in `preprocessing_exc_tuple` in IPython 7.17 and above.\n",
      "  and should_run_async(code)\n"
     ]
    }
   ],
   "source": [
    "import pyLDAvis.gensim_models as gensimvis"
   ]
  },
  {
   "cell_type": "code",
   "execution_count": 6,
   "id": "bc2a380a-0716-4a63-902c-571c40892435",
   "metadata": {
    "execution": {
     "iopub.execute_input": "2022-03-31T09:12:52.391070Z",
     "iopub.status.busy": "2022-03-31T09:12:52.390718Z",
     "iopub.status.idle": "2022-03-31T09:12:52.573274Z",
     "shell.execute_reply": "2022-03-31T09:12:52.572178Z",
     "shell.execute_reply.started": "2022-03-31T09:12:52.391016Z"
    },
    "tags": []
   },
   "outputs": [
    {
     "name": "stderr",
     "output_type": "stream",
     "text": [
      "/emr/notebook-env/lib/python3.7/site-packages/ipykernel/ipkernel.py:287: DeprecationWarning: `should_run_async` will not call `transform_cell` automatically in the future. Please pass the result to `transformed_cell` argument and any exception that happen during thetransform in `preprocessing_exc_tuple` in IPython 7.17 and above.\n",
      "  and should_run_async(code)\n"
     ]
    }
   ],
   "source": [
    "from pyspark.sql.functions import *\n",
    "from pyspark.sql.functions import udf\n",
    "from pyspark.sql.types import IntegerType\n",
    "\n",
    "from pyspark.mllib.classification import SVMModel, SVMWithSGD\n",
    "from pyspark.mllib.regression import LabeledPoint\n",
    "from pyspark.mllib.linalg import Vectors as MLLibVectors\n",
    "from pyspark.ml import Pipeline\n",
    "from pyspark.ml.evaluation import BinaryClassificationEvaluator, MulticlassClassificationEvaluator\n",
    "from pyspark.ml.feature import * \n",
    "from pyspark.ml.tuning import CrossValidator"
   ]
  },
  {
   "cell_type": "code",
   "execution_count": 7,
   "id": "2c7c75b2-902f-4344-b356-31f30b36ad3d",
   "metadata": {
    "execution": {
     "iopub.execute_input": "2022-03-31T09:12:52.575898Z",
     "iopub.status.busy": "2022-03-31T09:12:52.575630Z",
     "iopub.status.idle": "2022-03-31T09:12:53.255810Z",
     "shell.execute_reply": "2022-03-31T09:12:53.254775Z",
     "shell.execute_reply.started": "2022-03-31T09:12:52.575866Z"
    },
    "tags": []
   },
   "outputs": [
    {
     "name": "stderr",
     "output_type": "stream",
     "text": [
      "/emr/notebook-env/lib/python3.7/site-packages/ipykernel/ipkernel.py:287: DeprecationWarning: `should_run_async` will not call `transform_cell` automatically in the future. Please pass the result to `transformed_cell` argument and any exception that happen during thetransform in `preprocessing_exc_tuple` in IPython 7.17 and above.\n",
      "  and should_run_async(code)\n"
     ]
    }
   ],
   "source": [
    "import nltk\n",
    "from nltk.stem import WordNetLemmatizer\n",
    "from nltk.corpus import stopwords"
   ]
  },
  {
   "cell_type": "code",
   "execution_count": 8,
   "id": "35c19837-5dc3-43c0-ae16-5e6cb0599b57",
   "metadata": {
    "execution": {
     "iopub.execute_input": "2022-03-31T09:12:53.257935Z",
     "iopub.status.busy": "2022-03-31T09:12:53.257600Z",
     "iopub.status.idle": "2022-03-31T09:13:02.557846Z",
     "shell.execute_reply": "2022-03-31T09:13:02.556839Z",
     "shell.execute_reply.started": "2022-03-31T09:12:53.257886Z"
    },
    "tags": []
   },
   "outputs": [
    {
     "name": "stderr",
     "output_type": "stream",
     "text": [
      "/emr/notebook-env/lib/python3.7/site-packages/ipykernel/ipkernel.py:287: DeprecationWarning: `should_run_async` will not call `transform_cell` automatically in the future. Please pass the result to `transformed_cell` argument and any exception that happen during thetransform in `preprocessing_exc_tuple` in IPython 7.17 and above.\n",
      "  and should_run_async(code)\n"
     ]
    }
   ],
   "source": [
    "review = spark.read.parquet(\"s3://mukeshproj/parquet/yelp_academic_dataset_review_parquet/*.parquet\").limit(500)"
   ]
  },
  {
   "cell_type": "code",
   "execution_count": 9,
   "id": "b4c2fcdf-a550-4492-8788-e7f6185e01c8",
   "metadata": {
    "execution": {
     "iopub.execute_input": "2022-03-31T09:13:02.559849Z",
     "iopub.status.busy": "2022-03-31T09:13:02.559513Z",
     "iopub.status.idle": "2022-03-31T09:13:42.632567Z",
     "shell.execute_reply": "2022-03-31T09:13:42.631481Z",
     "shell.execute_reply.started": "2022-03-31T09:13:02.559799Z"
    },
    "tags": []
   },
   "outputs": [
    {
     "name": "stderr",
     "output_type": "stream",
     "text": [
      "/emr/notebook-env/lib/python3.7/site-packages/ipykernel/ipkernel.py:287: DeprecationWarning: `should_run_async` will not call `transform_cell` automatically in the future. Please pass the result to `transformed_cell` argument and any exception that happen during thetransform in `preprocessing_exc_tuple` in IPython 7.17 and above.\n",
      "  and should_run_async(code)\n"
     ]
    },
    {
     "name": "stdout",
     "output_type": "stream",
     "text": [
      "+-----+--------------------+\n",
      "|stars|                text|\n",
      "+-----+--------------------+\n",
      "|  1.0|Had to bring the ...|\n",
      "|  1.0|Very friendly rec...|\n",
      "|  5.0|Our son was buyin...|\n",
      "|  5.0|FINALLY!!! A grea...|\n",
      "|  5.0|Clay came out and...|\n",
      "+-----+--------------------+\n",
      "only showing top 5 rows\n",
      "\n"
     ]
    }
   ],
   "source": [
    "review.show(5)"
   ]
  },
  {
   "cell_type": "code",
   "execution_count": 10,
   "id": "0f480cef-3706-41d2-8262-6374a682c437",
   "metadata": {
    "execution": {
     "iopub.execute_input": "2022-03-31T09:13:42.634705Z",
     "iopub.status.busy": "2022-03-31T09:13:42.634400Z",
     "iopub.status.idle": "2022-03-31T09:13:42.777702Z",
     "shell.execute_reply": "2022-03-31T09:13:42.776470Z",
     "shell.execute_reply.started": "2022-03-31T09:13:42.634659Z"
    },
    "tags": []
   },
   "outputs": [
    {
     "name": "stderr",
     "output_type": "stream",
     "text": [
      "/emr/notebook-env/lib/python3.7/site-packages/ipykernel/ipkernel.py:287: DeprecationWarning: `should_run_async` will not call `transform_cell` automatically in the future. Please pass the result to `transformed_cell` argument and any exception that happen during thetransform in `preprocessing_exc_tuple` in IPython 7.17 and above.\n",
      "  and should_run_async(code)\n"
     ]
    }
   ],
   "source": [
    "def remove_punct(text):\n",
    "    regex = re.compile('[' + re.escape(string.punctuation) + '0-9\\\\r\\\\t\\\\n]')\n",
    "    nopunct = regex.sub(\" \", text) \n",
    "    return nopunct\n",
    "    \n",
    "# binarize rating\n",
    "def convert_rating(rating):\n",
    "    rating = int(rating)\n",
    "    if rating < 2: return 1\n",
    "    else: return 0\n",
    "\n",
    "# udf\n",
    "punct_remover = udf(lambda x: remove_punct(x))\n",
    "rating_convert = udf(lambda x: convert_rating(x))\n",
    "review_df = review.select( punct_remover('text'), rating_convert('stars'))\n",
    "review_df = review_df.withColumnRenamed('<lambda>(text)', 'text')\\\n",
    "                     .withColumn('label', review_df[\"<lambda>(stars)\"].cast(IntegerType()))\\\n",
    "                     .drop('<lambda>(stars)')\\\n",
    "                     .limit(500)"
   ]
  },
  {
   "cell_type": "code",
   "execution_count": 11,
   "id": "a8288f02-8ccb-4974-8026-8bb6bb3f75ef",
   "metadata": {
    "execution": {
     "iopub.execute_input": "2022-03-31T09:13:42.780147Z",
     "iopub.status.busy": "2022-03-31T09:13:42.779900Z",
     "iopub.status.idle": "2022-03-31T09:13:43.186965Z",
     "shell.execute_reply": "2022-03-31T09:13:43.186078Z",
     "shell.execute_reply.started": "2022-03-31T09:13:42.780115Z"
    },
    "tags": []
   },
   "outputs": [
    {
     "name": "stderr",
     "output_type": "stream",
     "text": [
      "/emr/notebook-env/lib/python3.7/site-packages/ipykernel/ipkernel.py:287: DeprecationWarning: `should_run_async` will not call `transform_cell` automatically in the future. Please pass the result to `transformed_cell` argument and any exception that happen during thetransform in `preprocessing_exc_tuple` in IPython 7.17 and above.\n",
      "  and should_run_async(code)\n"
     ]
    }
   ],
   "source": [
    "df=review_df.filter(review_df.label=='1')"
   ]
  },
  {
   "cell_type": "code",
   "execution_count": 12,
   "id": "545fe2c2-8ff9-4329-becc-f34d66e92208",
   "metadata": {
    "execution": {
     "iopub.execute_input": "2022-03-31T09:13:43.188359Z",
     "iopub.status.busy": "2022-03-31T09:13:43.188130Z",
     "iopub.status.idle": "2022-03-31T09:13:43.206272Z",
     "shell.execute_reply": "2022-03-31T09:13:43.205161Z",
     "shell.execute_reply.started": "2022-03-31T09:13:43.188329Z"
    },
    "tags": []
   },
   "outputs": [
    {
     "name": "stderr",
     "output_type": "stream",
     "text": [
      "/emr/notebook-env/lib/python3.7/site-packages/ipykernel/ipkernel.py:287: DeprecationWarning: `should_run_async` will not call `transform_cell` automatically in the future. Please pass the result to `transformed_cell` argument and any exception that happen during thetransform in `preprocessing_exc_tuple` in IPython 7.17 and above.\n",
      "  and should_run_async(code)\n"
     ]
    }
   ],
   "source": [
    "df=review.filter(review.stars=='1')"
   ]
  },
  {
   "cell_type": "code",
   "execution_count": 13,
   "id": "f41eac19-2252-4ffa-a200-ed4018b2326d",
   "metadata": {
    "execution": {
     "iopub.execute_input": "2022-03-31T09:13:43.207531Z",
     "iopub.status.busy": "2022-03-31T09:13:43.207326Z",
     "iopub.status.idle": "2022-03-31T09:14:20.096730Z",
     "shell.execute_reply": "2022-03-31T09:14:20.095751Z",
     "shell.execute_reply.started": "2022-03-31T09:13:43.207504Z"
    },
    "tags": []
   },
   "outputs": [
    {
     "name": "stderr",
     "output_type": "stream",
     "text": [
      "/emr/notebook-env/lib/python3.7/site-packages/ipykernel/ipkernel.py:287: DeprecationWarning: `should_run_async` will not call `transform_cell` automatically in the future. Please pass the result to `transformed_cell` argument and any exception that happen during thetransform in `preprocessing_exc_tuple` in IPython 7.17 and above.\n",
      "  and should_run_async(code)\n"
     ]
    },
    {
     "name": "stdout",
     "output_type": "stream",
     "text": [
      "+-----+--------------------+\n",
      "|stars|                text|\n",
      "+-----+--------------------+\n",
      "|  1.0|Had to bring the ...|\n",
      "|  1.0|Very friendly rec...|\n",
      "|  1.0|Stay away, far aw...|\n",
      "|  1.0|Worst endocrinolo...|\n",
      "|  1.0|Disappointed. I t...|\n",
      "+-----+--------------------+\n",
      "only showing top 5 rows\n",
      "\n"
     ]
    }
   ],
   "source": [
    "df.show(5)"
   ]
  },
  {
   "cell_type": "code",
   "execution_count": 14,
   "id": "d2ef7e07-6640-49bd-bfd3-e291eb12d255",
   "metadata": {
    "execution": {
     "iopub.execute_input": "2022-03-31T09:14:20.099826Z",
     "iopub.status.busy": "2022-03-31T09:14:20.099486Z",
     "iopub.status.idle": "2022-03-31T09:14:56.261743Z",
     "shell.execute_reply": "2022-03-31T09:14:56.260498Z",
     "shell.execute_reply.started": "2022-03-31T09:14:20.099782Z"
    },
    "tags": []
   },
   "outputs": [
    {
     "name": "stderr",
     "output_type": "stream",
     "text": [
      "/emr/notebook-env/lib/python3.7/site-packages/ipykernel/ipkernel.py:287: DeprecationWarning: `should_run_async` will not call `transform_cell` automatically in the future. Please pass the result to `transformed_cell` argument and any exception that happen during thetransform in `preprocessing_exc_tuple` in IPython 7.17 and above.\n",
      "  and should_run_async(code)\n"
     ]
    }
   ],
   "source": [
    "df_badreviews=df.toPandas()"
   ]
  },
  {
   "cell_type": "code",
   "execution_count": 15,
   "id": "150d4e4b-ad95-4062-a51e-e6f73f106fd2",
   "metadata": {
    "execution": {
     "iopub.execute_input": "2022-03-31T09:14:56.264793Z",
     "iopub.status.busy": "2022-03-31T09:14:56.264110Z",
     "iopub.status.idle": "2022-03-31T09:14:56.305717Z",
     "shell.execute_reply": "2022-03-31T09:14:56.304598Z",
     "shell.execute_reply.started": "2022-03-31T09:14:56.264742Z"
    },
    "tags": []
   },
   "outputs": [
    {
     "name": "stderr",
     "output_type": "stream",
     "text": [
      "/emr/notebook-env/lib/python3.7/site-packages/ipykernel/ipkernel.py:287: DeprecationWarning: `should_run_async` will not call `transform_cell` automatically in the future. Please pass the result to `transformed_cell` argument and any exception that happen during thetransform in `preprocessing_exc_tuple` in IPython 7.17 and above.\n",
      "  and should_run_async(code)\n"
     ]
    },
    {
     "data": {
      "text/html": [
       "<div>\n",
       "<style scoped>\n",
       "    .dataframe tbody tr th:only-of-type {\n",
       "        vertical-align: middle;\n",
       "    }\n",
       "\n",
       "    .dataframe tbody tr th {\n",
       "        vertical-align: top;\n",
       "    }\n",
       "\n",
       "    .dataframe thead th {\n",
       "        text-align: right;\n",
       "    }\n",
       "</style>\n",
       "<table border=\"1\" class=\"dataframe\">\n",
       "  <thead>\n",
       "    <tr style=\"text-align: right;\">\n",
       "      <th></th>\n",
       "      <th>stars</th>\n",
       "      <th>text</th>\n",
       "    </tr>\n",
       "  </thead>\n",
       "  <tbody>\n",
       "    <tr>\n",
       "      <th>0</th>\n",
       "      <td>1.0</td>\n",
       "      <td>Had to bring the truck in for a Chevrolet reca...</td>\n",
       "    </tr>\n",
       "    <tr>\n",
       "      <th>1</th>\n",
       "      <td>1.0</td>\n",
       "      <td>Very friendly reception staff, kind and educat...</td>\n",
       "    </tr>\n",
       "    <tr>\n",
       "      <th>2</th>\n",
       "      <td>1.0</td>\n",
       "      <td>Stay away, far away. This is by far, hands dow...</td>\n",
       "    </tr>\n",
       "    <tr>\n",
       "      <th>3</th>\n",
       "      <td>1.0</td>\n",
       "      <td>Worst endocrinologist ever.  I had a swelling ...</td>\n",
       "    </tr>\n",
       "    <tr>\n",
       "      <th>4</th>\n",
       "      <td>1.0</td>\n",
       "      <td>Disappointed. I think I have been very patient...</td>\n",
       "    </tr>\n",
       "    <tr>\n",
       "      <th>...</th>\n",
       "      <td>...</td>\n",
       "      <td>...</td>\n",
       "    </tr>\n",
       "    <tr>\n",
       "      <th>87</th>\n",
       "      <td>1.0</td>\n",
       "      <td>I took my car here around July, and I thought ...</td>\n",
       "    </tr>\n",
       "    <tr>\n",
       "      <th>88</th>\n",
       "      <td>1.0</td>\n",
       "      <td>Terrible management. This isn't the first time...</td>\n",
       "    </tr>\n",
       "    <tr>\n",
       "      <th>89</th>\n",
       "      <td>1.0</td>\n",
       "      <td>I waited for about an hour for food while peop...</td>\n",
       "    </tr>\n",
       "    <tr>\n",
       "      <th>90</th>\n",
       "      <td>1.0</td>\n",
       "      <td>I went and got my nails done 5 days ago and th...</td>\n",
       "    </tr>\n",
       "    <tr>\n",
       "      <th>91</th>\n",
       "      <td>1.0</td>\n",
       "      <td>This Company is just interested on your money ...</td>\n",
       "    </tr>\n",
       "  </tbody>\n",
       "</table>\n",
       "<p>92 rows × 2 columns</p>\n",
       "</div>"
      ],
      "text/plain": [
       "    stars                                               text\n",
       "0     1.0  Had to bring the truck in for a Chevrolet reca...\n",
       "1     1.0  Very friendly reception staff, kind and educat...\n",
       "2     1.0  Stay away, far away. This is by far, hands dow...\n",
       "3     1.0  Worst endocrinologist ever.  I had a swelling ...\n",
       "4     1.0  Disappointed. I think I have been very patient...\n",
       "..    ...                                                ...\n",
       "87    1.0  I took my car here around July, and I thought ...\n",
       "88    1.0  Terrible management. This isn't the first time...\n",
       "89    1.0  I waited for about an hour for food while peop...\n",
       "90    1.0  I went and got my nails done 5 days ago and th...\n",
       "91    1.0  This Company is just interested on your money ...\n",
       "\n",
       "[92 rows x 2 columns]"
      ]
     },
     "execution_count": 15,
     "metadata": {},
     "output_type": "execute_result"
    }
   ],
   "source": [
    "df_badreviews"
   ]
  },
  {
   "cell_type": "code",
   "execution_count": 16,
   "id": "cfddc810-190d-430d-a099-9f713326809c",
   "metadata": {
    "execution": {
     "iopub.execute_input": "2022-03-31T09:14:56.308206Z",
     "iopub.status.busy": "2022-03-31T09:14:56.307569Z",
     "iopub.status.idle": "2022-03-31T09:14:56.315040Z",
     "shell.execute_reply": "2022-03-31T09:14:56.313983Z",
     "shell.execute_reply.started": "2022-03-31T09:14:56.308153Z"
    },
    "tags": []
   },
   "outputs": [
    {
     "name": "stderr",
     "output_type": "stream",
     "text": [
      "/emr/notebook-env/lib/python3.7/site-packages/ipykernel/ipkernel.py:287: DeprecationWarning: `should_run_async` will not call `transform_cell` automatically in the future. Please pass the result to `transformed_cell` argument and any exception that happen during thetransform in `preprocessing_exc_tuple` in IPython 7.17 and above.\n",
      "  and should_run_async(code)\n"
     ]
    }
   ],
   "source": [
    "texts = []\n",
    "for review in df_badreviews.text:\n",
    "    texts.append(review)"
   ]
  },
  {
   "cell_type": "code",
   "execution_count": 17,
   "id": "896b85c9-960c-40e0-83b8-39196f657fe1",
   "metadata": {
    "collapsed": true,
    "execution": {
     "iopub.execute_input": "2022-03-31T09:14:56.317281Z",
     "iopub.status.busy": "2022-03-31T09:14:56.316527Z",
     "iopub.status.idle": "2022-03-31T09:14:56.334178Z",
     "shell.execute_reply": "2022-03-31T09:14:56.332961Z",
     "shell.execute_reply.started": "2022-03-31T09:14:56.317228Z"
    },
    "jupyter": {
     "outputs_hidden": true
    },
    "tags": []
   },
   "outputs": [
    {
     "name": "stderr",
     "output_type": "stream",
     "text": [
      "/emr/notebook-env/lib/python3.7/site-packages/ipykernel/ipkernel.py:287: DeprecationWarning: `should_run_async` will not call `transform_cell` automatically in the future. Please pass the result to `transformed_cell` argument and any exception that happen during thetransform in `preprocessing_exc_tuple` in IPython 7.17 and above.\n",
      "  and should_run_async(code)\n"
     ]
    },
    {
     "data": {
      "text/plain": [
       "[\"Had to bring the truck in for a Chevrolet recall.  Came to pick it up with the recall not resolved and more problems.  Just left after visit #2 and there is yet another problem that didn't exist before.  Horrible knowledge, service and integrity.  Don't bring your business here.  You'll be sorry.\",\n",
       " 'Very friendly reception staff, kind and educated assistant .\\nBut Dr Stoever is extremely kurt.\\nWill not return.',\n",
       " 'Stay away, far away. This is by far, hands down, without a doubt the worst retail business location I have ever seen. The employees are rude, the product is junk, the wait times are extensive beyond an hour, airport transportation is so unsafe that walking is probably a better option. But by far the worst of this whole experience are the unseen charges placed on your bill after you exit. It may not seem like much to add $10 fuel charge to a tank that is already full and that you have photographed, you will spend days trying to get those charges removed. The corporate office is obviously full of leaders that are so incompetent they have no idea how to provide their customers with good quality service. This company has resorted to nothing more than thievery and deception. Ace rental car company is the epitome of what has become the state of Florida. What a joke!',\n",
       " \"Worst endocrinologist ever.  I had a swelling in my neck (thyroid) and she looked at my blood work, which as I recall was only T4 and stated that I didn't have a thyroid problem since my T4 was within normal range.  I went to another endocrinologist who tested my TSH as well (which most competent endos do now) and concluded that yes,  I had pretty serious thyroid disease that had led to a huge tumor on my now extinct thyroid.  Yay.\",\n",
       " \"Disappointed. I think I have been very patiently waiting for them to follow up with me. But nobody called, so here is my review.\\nAfter spending some time on researching for a best place for Botox in Austin, I have stopped my choice on this one. I went for my first Botox at 33 and lip injection a month ago. They seemed very nice friendly ladies. After quick consultation the appointment was made, they were nice enough to squeeze me in their busy schedule. At the consultation Dr. Wright. told me that I would need 20 units of Botox for my forehead, 10 between my eye brows and 10 on my forehead. Plus a half of the syringe of juviderm ultra into my lips. \\nThe procedure was pretty painless. But the Dr Wright has changed the the dosage and did 16 units of Botox between my eye brows and 8 units into my forehead, which left me a little confused and concerned. \\nMy lips were swollen next day and in couple days I couldn't even tell if anything was done on my lips. But that's fine, I wanted it to be very natural. \\nThe area between my eyes was totally frozen next morning, but my forehead (the main reason I did Botox) didn't change at all. Dr. warned me at would take a week or so to see the results on my forehead. So I waited a week and not seeing any changes called to them to ask if it's ok, because I was leaving Taxes for a while, and will not be able to visit them after I leave. They said I have to wait two weeks at least to the full affect and told me not to come for follow up. \\nAfter two weeks my forehead was still the same in the middle,  except the area where the needle went on both sides. \\nSo my 11 area is totally frozen for nothing (I have never had wrinkles there)  and  my forehead wrinkles are still there. I called them to ask for an advice how to fix it now, but nobody called me back. Very disappointing and unprofessional. I know everyone is different and have different skin but I do feel the dosage of Botox was wrong. Also their Yelp ad says they offer military discount, but the receptionist said they don't. So many good reviews here but almost no pictures of clients... should have been a red flag for me, wasted money:(\\nUpdate \\n5 month later . All wrinkles were back within less 2 month. But my 11 is still frozen. I can't do nothing until it goes away. \\nUnprofessional\",\n",
       " \"I will never shop there again. I was completely new to vaping and needed a cigarette replacement and something for dry herb. Instead of recommending I get two fixtures and one battery, I was sold a Fantasia for liquid and a Randy's for dry herb. The Randy's is a piece of crapt and works terribly. Barely used since it fails to produce a hit and would not even exchange.\",\n",
       " \"My experience here was terrible I asked for help here times and got no help. Only thing was helpful was me asking a worker where's the cashier and she sent me where it was located. My cashier was very rude didn't ask how I was or anything. I had to be the one to ask. I couldn't tell you her name because she had no name tag but she was in cashier #1 my purchased was 06/03/17 at 2:57pm. Me as an manager at a store I would not want her to be a cashier. Being on your phone while ringing up a person ? Yeah Not ok.\",\n",
       " 'This hotel has the worst service in the area. Today I just put a \"privacy\" sign for 5 minutes!! while I was taking a shower early in the morning then I took it off. Then after coming back from the parks etc our room was still the same, no cleaning at all. \\nWhen I asked the front desk to pls clean our room etc . The lady in the front desk was just mean and had an attitude... she just said there were no cleaning staff to do it. \\nSo this is a shitty hotel and the price is not worth it at all.',\n",
       " \"This continues to be the worst chipotle experience time after time. I will drive an extra 10 minutes to the Kingsdale location to avoid going here. I just found a hair in my tacos and my husband's chicken burrito came without any chicken. I tried calling several times to do something about it and the phone just rang and rang and went to a weird robotic voice. Very disappointing!\",\n",
       " \"Like others have said, PEOPLE BEWARE!  That's right, people.  It is a shame because the park is very large, especially the small section compared to every other Orlando Dog Park I have been to.  But the owners are the WORST!  There is a clique and they show up in the afternoon almost every day and they will harass you about everything your dog does.  Thankfully they didn't go there yet when I went everyday to socialize my puppies.  They turned 1, this nasty group started coming and we haven't been back since.  You would think you are on the set of Mean Girls, but Regina, Gretchen, Cady and Karen have been replaced with sad, middle aged, homely women.  You can't sit with us?  Thank God because if I had to I would most definitely blow my brains out.\\n\\nI now only go with our Central Florida Corgi group arranges meets there every few months because we come in numbers!\",\n",
       " \"Pizza never delivered after nearly 2 hrs. \\nCalled to check order status, gentleman said he send it out already and then said he's cancelling my order? He hung up right away...haha, what just happened?\\n\\n**** Beware ****\",\n",
       " \"I'm a patient of Brident at 2110 W Slaughter Ln, Austin, TX. \\n\\nI want to report unacceptable service I experienced on 7/17/2020. I scheduled my dental or orthodontic appointments the same day. \\n\\nAfter having my wires for my braces removed and x-rays, I was then told to return to the waiting room. About 20-30 minutes of waiting I was informed that the dentists didn't have time to clean my teeth that day (regular cleaning; I didn't even need a deep cleaning). And I was very upset because Brident had already taken my payment for the cleaning. I live nearly an hour away and it's convenient for me to have my appointments on the same day. I was able to have my bands exchanged, but was told to reschedule for my cleaning. This was not the first time I experienced this issue. I requested, at least, a free cleaning but would have to speak to a manager regarding the request (well, there's currently no manager at the Slaughter Ln location). \\n\\nAfter I have my braces removed, I won't ever return to Brident for any services and definitely will not recommend them to anyone. Others complained in the office as well.\",\n",
       " \"DO NOT GO TO THIS FIRESTONE.\\n\\nNothing is more frustrating than waiting around for something simple like change your oil. Granted I should've made an appointment but I called ahead and they said they could get me right in. I get there and they tell me it will be a one and a half hour wait. I  grab lunch came back in 2 1/2 hours and they still have not even touched it. When I asked the gentleman behind the desk he said he was told 1 1/2 hours so he doesn't know what happened. Extremely frustrating and won't go back.  \\n\\nGave them another chance Aug 2020 and same thing happened.  Drop the car off for 3 1/2 hours, came back and still was not fixed.  Employee named Joaquin failed to replace sensor and was waiting to ask me before doing work, even though he agreed to call if needed so it would be done upon return.  Very very unimpressive and waste is time.\",\n",
       " 'Got a small wrist tat back in December 2014 by a guy named Austin Gervias here. When I went in for a consultation to talk about the piece, I told him what I wanted and how I wanted it. He told me the way I wanted it (my tattoo facing me and not outwards) was the \"wrong\" way. It almost came off as kind of \"elitest\", like \"your tattoo is wrong, but okay, it\\'s gonna be on your skin\" which kind of made me feel off-put and dumb. Does it really matter? I mean a tattoo is a tatttoo is a tattoo is a tattoo is a tattoo, no matter what it is or which direction it\\'s facing.\\n\\nMy tat had a lettering in it, so when the day came, he showed me some of the original designs he had drafted up for the wording. I decided on one but there was one little thing I wanted to change about it. When I asked him if we could change it, he IMMEDIATELY without a second thought said \"no, it won\\'t be correct if we do it that way\" and that just kind of shocked me that he would say that to me... and then after a while of uncomfortable silence, he said something along the lines of \"but it\\'s your skin so i guess\". At that point I kind of just wanted to walk out because I kind of felt like I was being disrespected, but I decided to stay put. Like... really? I get that as an artist you can have preferences but I mean for small things like which way I wanted my tat facing or how I wanted my letting to look, I don\\'t think the elitest sassy attitude was needed.\\n\\nThe tatting itself went fine. I just sat in a chair in the back room with my arm on a padded table. At one point, some random dude comes over, doesn\\'t even give me a second look, talks to Austin as he\\'s tatting me, leans over me to get a look at my arm,  and then comments on how detailed the tat is, and then walks away. Like I don\\'t know about you but I don\\'t want some stranger ignoring me and leaning over me to look at my tat without giving me a second thought and talk my my artist while I\\'m getting tatted, like, this is kind of an intimate deal for me.\\n\\nAfterwards, when it was all over, he just shook my hand and that was sort of my cue like \"you\\'re done now you can leave\". No wrapping my new tat in plastic, no after-tat care instruction, no cream recommendation... nothing. I had to get all that information from elsewhere. This was not my first but my second tattoo, but it had been a while and I needed a refresher course and would have liked to get that information, but I ended up having to get it from other friends instead.\\n\\nI am happy with the way my tat turned out in the end, it was great for the price I paid for it, but my initial reaction to how I was talked to/treated was intimidating and off putting, so I will DEFINITELY not come here again.',\n",
       " 'If you are from Houston (or anywhere else for that matter), and you love the original Tiny\\'s, then don\\'t even think of coming here. Or if you must, then come with the lowest expectations of staff and service.\\n\\nTHE STORY: I grew up in Houston and lived in Austin for a few years. I was so excited they were building a Tiny\\'s in Austin. Except once it opened, it\\'s quality of service was clearly very poor. FOR THIS REASON: I will only place TO-GO orders whenever I eat at Austin\\'s TB. \\n\\nThis fine Saturday afternoon I came into pick up my single Turkey Avacado Club TO-GO order. Over the phone they said it\\'d be 10-15 minutes. I arrived 30 minutes later, to the staff telling me there there\\'s not a single TO-GO order for me. After inconclusive answers from the waitstaff, I realized the order was placed in TB Houston. {who I had to call myself to cancel the order and they were so nice about the mixup and delightful to talk to, might I add} \\n\\nHungry and disappointed, I asked if I could place another sandwich TO-GO and if it could be ready in about 10-15 minutes. The staff member asked her manager who confirmed. I thanked them and gave my appreciation with a nicer than normal tip. \\n\\nWaited in my car for 10 minutes and came back inside to get the drinks and wait for the food. Had been keeping my eye on the manager/staff (with nothing else to do but wait) and noticed a problem went down with \"2 separate orders\". Once I\\'d been waiting close to 25 minutes, I asked what the holdup was. The bar staff (in charge of TO-GO orders) was unhelpful AS ALWAYS and to make matters worse she was texting behind the bar when she had drink orders lined up. \\n\\n30 minutes later, the manager who took charge of my order (probably because her staff is so incompetent) came to me with my Club Sandwhich TOGO. Praise the Lord.\\n\\nShe apologized (which I thanked her for). Then she tells me that my original TO-GO order was accidentally given away to another customer who came in, hence the mix up with \"2 separate orders\". Then nothing. \\n\\nI stared at her. \\nI was speechless. \\nI had been sitting right in front of them waiting for my TO-GO order while it was given away, THEN kept in the dark waiting for 30 minutes all the while getting less help and information and more hungry and irritable.\\nLike I said, I was speechless. \\nI started at her and said \"well...\" & she just walked away. I shouldn\\'t be paying for this???!\\n\\nThis kind of restaurant that charges $$$ for food (which is tasty) and then has the most blatantly rude service (throughout the ladder) is a waste of time - and if you try to avoid wasting time by placing a TO-GO order, then it\\'s also a waste of money.',\n",
       " \"Story time. While my family and I were trying to check in to the hotel, the front desk worker and another customer got into a huge argument about the charges on her credit card. It got so bad that the police were called and it was an entire scene. Moreover, the line to check in only grew longer and no other employees were called to help us. I understand that incidents like this arise, but it was managed really poorly.\\n\\nWhen I was finally able to check in, I ended up paying an extra $10 to park my car. On top of all of that, my room was really dirty. I walked in and there was a wrapper on the floor and so much hair in the bathroom. In the hallway, I met another frustrated guest who was on her way down to the front desk since they assigned her to a room that hasn't even been cleaned yet. All in all, my stay was a pretty unpleasant experience.\\n\\nTLDR: Yeah no.\",\n",
       " 'It\\'s a no for me. As a Latina identifying woman Rocios mission to be in company of family, or as a couple and enjoy a meal in a relaxed setting did not live up to it\\'s expectation. Upon arrival the door was locked, my family called and the host working on 10/22 was rude and said, \"that\\'s weird, because its unlocked.. hmmm\" and continued to question my call, and even looked at us out the window as we stood there. She eventually walked over. Her demeanor and tone of voice as a white woman was aggressive, I hope she recognizes how her approach in treating others is very unnecessary and unacceptable. She grabbed menus and placed them on a table while proceeding to walk away. She made no remark to tell us to have a seat, or even stay. She just went and talked to a fellow coworker. Confused as to if we should stay we waited at the door. She then brings over salsa and chips and made the statement \"if you want to stay you can, i mean it\\'s okay\" I asked if she was sure and we didn\\'t want to impose on their closing hour. She continued to hesitate and say yes... her body language and presence stated otherwise. We stated that online the time had yet to change to their new hour and she not once acknowledged what we were saying. I will never bring my family to a place that will disrespect them and me. I do not recommend this establishment unless accountability is issued. 0 stars.',\n",
       " \"The service was slow! I ordered a half lb snow crab and half lb shrimp no head and I only got 5 shrimp!! Which I know wouldn't add up to a half of lb! I will not return I'll just continue to go to the pirates boil or the juicy crab! This place is a ripoff!!!!\",\n",
       " \"Worst place ever to purchase a car came in to tell us what numbers on ac my finance paper completely different numbers didn't take my down payment towards my car stole the down payment\",\n",
       " \"The worst in service, people and food.  Disgusting swill.  If you're in the mood for some abuse and people who will prepare your food with bout regard for your experience... this is your place!\",\n",
       " 'I placed a take-out order tonight with Nando\\'s, and I am incredibly disappointed. This place prides itself on \"flame grilled chicken\" but what I got today was not even edible. Please look at the picture attached to my review. The chicken was soggy and did not appear to be seasoning, even though I ordered it \"medium.\" The inside of the chicken was dark and downright disgusting. I have been to other Nando\\'s locations and I have never had this problem. I don\\'t think I will be going to this location again.',\n",
       " 'Having frequented often to the Belmont il Casale but not for about 5 years, I was looking forward to the Lexington site. I was very disappointed to say the least.  I was expecting a higher end Italian restaurant with  nice ambience and good food. What I got was a school cafeteria atmosphere and food. The portions were so tiny it was just not right. Its not very often that I feel the food in a restaurant  is terrible but this was the case. Just terrible. Even my children complained about the pasta and tomato sauce. The kitchen seemed overwhelmed and flustered. The waitress was super nice thats the only positive thing i can say about this place.',\n",
       " 'SAY YES TO THE DRESS BUT NO TO THE STORE - STUCK FOR $450! BUYER BEWARE\\n\\n\\nMy customer experience with Bridals By Lori BBL - advertised and supported by the TLC a discovery Chanel \"Say Yes to the Dress\" was one of the worst experiences possible!  My customer experience with this store was far from exemplary in demonstrating any level of quality customer service.  I came to the store to purchase a wedding gown.  I found a beautiful gown, was pressured into a sale with an offer of a 12  1/2% discount if purchasing the dress the same day.  I did leave and come back the same day.  At which point I was then informed that the dress would not be available for my wedding date in April 2014 (this was now October 2013) even though there was a gown in the designer\\'s inventory, unless I paid an additional $250 expediting fee! This was not a rush cut or special order.  It was an order of a gown that existed in the manufacturer\\'s inventory. When I questioned a $250 up charge for ordering a dress that existed in inventory at the manufacturer, I was adamantly told that this charge was being made by the manufacturer and just being passed through.   I was very uneasy about what I was being told but I did want the gown so I moved forward with the purchase.\\n\\nThe next phase of customer non-service was with the actual purchase.  This was after 5pm.  I found that this store does NOT accept American Express.  I had a problem with my MasterCard (waiting for a replacement card) and asked if they would hold the gown until the next day.  I even offered a small check to hold the purchase and they refused.  Unluckily for me my fiancée had received the card in the mail and I called the house, got my credit card number and completed the transaction that evening.  I was soo frazzled that I didn\\'t realize that they charged the entire gown on my card.\\n\\nNow comes the really bad part - I read the contract and ignored the part about a CANCELLATION PENALTY WITHIN 24 HOURS OF THE PURCHASE!  Now you might say - well if you want the gown so what.  The so what happened the next morning when I looked on line for a picture of the gown to send to a friend and saw the gown for 40% $800 less than what I was paying for it!    I found this 40% pricing difference, quite by chance when looking online for a picture of the gown.  This is a huge difference and from a qualified distributer of the manufacturer, not a fly by night!  When I called the store, they refused to negotiate anything.   I found them to be totally rigid in every manner.  They even refused to credit anything back until I called my lawyer at which point they credited back the dress minus the $450 cancellation fee!\\n\\nOf course I realize at this point, I was quite foolish in ever signing such an agreement.  A total lapse in common sense in my part.  I probably signed this because I was so stressed over getting my credit card information and the fact that they absolutely refused to hold the purchase until the next day.  I can absolutely tell you that normally, I would never have signed this.  I would have immediately gone elsewhere to shop for my gown.\\n \\nAny organization that feels the need to have a clause with a large penalty for cancellation within 24 hours of an agreement is obviously questionable in my opinion.    I might understand it for a special cut or order but not an inventory item!\\n \\nOf course their business practices are their decision, however, in all fairness - I purchased the gown after 5 pm Friday and tried to contact them before noon on Saturday the next day.  They did not return my call until after 3pm that day.  Yes I know that regardless technically I was still within the 24 hours but then I was SCRXXED the second I signed this agreement.  \\n \\nAs to the expediting fee - umm there is none.  I ordered the gown from a different shop and there is no expediting fee for a gown in inventory.   I also called the manufacturer and they were not aware of any up charges related to existing merchandise that was in inventory.  I have received the gown within 2 weeks of my purchase through another store.\\n \\nThere was not one part of this experience that was of any pleasure - right down to the end where it appears I am \"stuck\" for $450.   Atlanta is known for customer service and reputation / word of mouth here is of huge importance.',\n",
       " 'I got food poisoning from this place. NEVER AGAIN!!! They undercooked the salmon, the bathrooms were horrible. I have been sick for days.',\n",
       " \"Do not take your dog to this vet for anything more than regular shots - I wish I could rank them lower than 1 star.  Several months ago my 7 year old lab started having back problems that were orginially treated at AM/PM a year earlier during emergency hours.  I took him to AM/PM thinking it was the same problem he had before.  Also, I thought I should go back since he had x-rays from there and had been treated successfully before.  I thought I would take him, they would put him on the same medicine and I would have my happy dog back in a couple days.  \\n\\nThey put him on the same medication he was on before but ran some very expensive tests and determined he also had a liver infection - which later specialist agreed he never had.  They put him on new medication that was very expensive and said he should be better in a couple weeks.  Several weeks passed by and he wasn't getting any better so I took him back.  We saw a different doctor this time.  We had to go through the entire spill about the dog, his history, how he had been treated, etc.  This doctor thought it was something completely different and put him on different very expensive medicine.  Finally, after another several weeks he was getting worse, he was to the point that he wasnt able to walk and was miserable.  I took him back again.  Once again, a different doctor.  You would think that if the dog was this sick and had been in several times they would have the same doctor see him.  Once again, we went through the entire spill of what was wrong with him, etc.  This doctor thought he had a bone stuck in his esophagus and tried to send us to a specialist to take x-rays to confirm her suspicion - which would have cost over $3000.  At this point we had enough of AM/PM and took him to a different vet - Ben White Animal Hospital - for a second opinion.\\n\\nThey agreed that the vet at AM/PM was wrong about the esophagus diagnosis and thought he was probably having muscular problems and referred us to a specialist.  We eventually had to put him down because he was sick for too long to recover from the damage.  The vets at Ben White were there for us and were amazing people - I wish I would have taken Django to him first so that he may still be with us today.  They thoroughly explained everthing to us and are very good vets. They were also honest about not knowing what was wrong with him.  \\n\\nThroughout the entire experience these are the major problems I had with AM/PM:\\nA different doctor everytime and each one was dead wrong on diagnosis.  None of the vets seemed that concerned that my dog was very sick - maybe if the same dr would have seen him and could have seen the progression of his illness they would have understood and been more concerned.  Staff was not helpful at all!  I waited several times in the lobby to pay for my visit holding a very sick dog while the front desk staff took their dear sweet time to wait on me.  Also, he is a large dog and they never offered assistance getting him to the car, etc.  When I received medications there was no instructions, or information about the drugs.  Each time I left I was very confused about what was wrong with my dog and with what the vets told me - they never explained very well what was going on.  The rates and medications were very expensive and everytime I went there they wanted to run more tests and run up my bill.  And finally, I never received any follow up calls from the hospital.  \\n\\nPlease never take your animals to this place!!!  I really regret that I took him there and am upset with myself for not getting a second opinion sooner.  The entire process was very confusing and upsetting and I was led to believe that my dogs illness was undiagnosable, only to find out it was just the vet I was taking him to the entire time.\",\n",
       " \"This Outback steakhouse had the most rudest service I ever had in a restaurant in a long time. I was there yesterday 9/16/2019 . My friend and I stopped to eat around 4pm. We sat down and were rushed since we got there. There was hardly any people in there. So they waiter asked what we wanted to drink which was fine and brought our drinks. Then he cases our table many times asking if we were ready to order. So we order and in 5 min brings our salads. 5min into our salads he brings us our food with to go boxes. At this point I'm like wtf. Are they trying to boot us out or what. So I took my time as this was the rudest thing I have seen here yet and I'm on travel not from here. I should of spoke to the manager yesterday. Well I hope he sees this post and gives his employees proper hospitality training or with that kids of service he will definitely lose business. Left them a 10 cent tip I think or maybe I took it with me as they didn't deserve shit. What I got from what the young kid was trying to do is hurry up on his shift that was probably ending so the next person wouldn't get the tip and he would. Well sux for both because in the end you treat the customer shitty you definitely won't get a tip from me. The only TIP I'm going to give you is fix the employees customer service skills. Rushing to try to make the TIP in the end will get you no tip with your rude ways. I honestly wanted to make a scene and cuss his ass out. But I took the higher road kept my mouth shut and decided to do the minimum in the end as in only paying my food which his ass was lucky I did that and didn't walk out.\",\n",
       " 'How do you run a successful business with 1 employee on the floor? I needed a cut that would have taken 5 minutes and I was told the wait was 10. Yet here I am nearly 30 minutes later still waiting. Seriously? You deserve negative stars.',\n",
       " \"The name is the best . \\n\\nThe people behind the counter they are only interested in sales. After you buy something it is hard for them to do a good job in repairs. They always want to say that your warranty does not work or does not cover. The Spanish speakers are a bunch of  crows  not profesional not helpful their service is rude. Every little thing on repair   they tell you that you have to talk to the owner and the owner is just like them. Hungry for money.\\nOn my last experience I have to return my equipment 4 time just to be fix it the right way . The last time I spoke with the   owner and she was rule also  trying to avoid my repair under my warranty . I spent almost $10,000 on this place on my lawn  equipment and they don't  treat me  The right way. Well. \\nMy last purchase from this place this September was for $3.600  \\nLast year $3.900\\n2013 $4.200\\n$590\\n\\nI hope I do not have to go back to this place\\n\\n\\n\\n!You can go to others places around the corner!\",\n",
       " 'My last review was deleted by Yelp. I\\'m assuming that Prato,  aka \"Sensitive Snowflakes\" of Winter Park, had Yelp delete my previous review. This establishment is deplorable, like its staff, service, and food! Do NOT recommend. I would visit Bulla Gastrobar, Hillstone, or Fleming\\'s of Winter Park. You\\'ll definitely have a better experience.',\n",
       " \"STOP! Don't eat here. Just picked up takeout and took it back to my hotel. If I had eaten in the restaurant I would not have paid. General Chows chicken was 90% breading and was more like a potato dumpling. The roast pork fried rice was totally flavorless and the rice was swollen with water. The roast pork Lomien was so overwhelmed with ginger or some other spice it was not edible. The reason for one star is that the egg roll was OK. Otherwise zero stars.\",\n",
       " \"The location inside of Kroger is consistently unacceptable. They are usually slow, which I've grown used to but today I got the rudest barista. I didn't get her name because she wasn't in uniform. This woman legit had a pink tank top on and a face mask worn below her nose. As if her appearance wasn't startling enough, she rolled her eyes at everything I asked for in my drink. I literally almost walked away because I didn't want to pay this rude woman. To top it all off, my drink way sweeter than what just 2 pumps taste like and not even full!!! Honestly this location is the worst and despite its convenience I will have to stay away.\",\n",
       " 'I bought the nearly 1K Iphone and asked for the receipt with the IMEI number. They failed to provide me and said that I can return if I would like to, but there is $45 restock fee. Although I did not even open the Iphone package. \\n\\nThe guy helping me is the customer service manager, he still treated me discourteous and called for the next customer in line without finishing the conversation with me! \\n\\nWill never shop there again. It was a horrible experience.',\n",
       " 'As a longtime food service professional and a loyal customer of this establishment, I am going to do something I hoped I would never have to do.\\nThis is going to be a very negative review: I came in this restaurant to have dinner, I was seated. The place was busy so I expected to wait a little.\\nTwo members of management approached my table and said I had made an inappropriate comment to one of the servers during a previous visit. Server was said to be uncomfortable with me. I was told to leave. I did just that , I do not like being accused of something I did not do.\\nIt is unfortunate because the food and service are very good.\\nIf I could give less than one star, I would.',\n",
       " \"Last night was the final nail in the coffin, so to speak, for this place. We have been faithful weekly regulars since the restaurant and hotel bar opened and I've never felt so ripped off as I did last night. We always ordered the Kistler Chardonnay, which cost around $90 per bottle. Last night I went with a friend and I told the waitress to open a bottle of the Kistler. She never mentioned they raised the price by $100!!! So, the price is now all of the sudden $190 per bottle!!!!!!! Not knowing this, my husband showed up later for dinner and we ordered a second bottle. We had a hamburger, cheese plate and he had an appetizer of gnocchi and it was over $500!!! Ultimately, It was my fault for not looking at the menu, I guess, but it sure would have been nice to be told that the $55 bottle of Chardonnay at a wine store sky rocketed to $190. The manager is also extremely cocky and no help whatsoever. I was there a month ago with a couple friends and was denied access to the dining room, although there was plenty of room. I just got home from Paris and they have a lot to learn about manners and attitude from the French when it comes to fine dining and taking care of people who make you the most money. Don't eat here. Don't drink here. Trust me, it's gone way downhill from the top down.\",\n",
       " \"Got to this Popeyes and I guess because it's Christmas Eve and they close at 6pm they didn't want to make food anymore Mind you we got there at 5:20pm. They said we don't have tenders or the chicken sandwich then proceeded to point at the rack where they keep the chicken and said that's all they got. So we basically couldn't order anything because they didn't have anything \\u200d. We walked out disappointed and pray next time they do better.\",\n",
       " 'They charged us for 6 oysters that we never received. We tried to explain to them that the people sitting next to us had oysters but we never received ours. The server was also the manager and she proceeded to tell us that we were lying. \\u200d We usually give a very good tip (the bill was over $250) but for 6 oysters they were willing to compromise their tip. It was such odd behavior. We were truly disappointed by their actions.',\n",
       " 'Wow, what a disappointment.  I was really excited to see Hillside Farmacy opening near my house.  Even more excited to see how cleverly they incorporated the old pharmacy fixtures and redid an old building.  Finally, yesterday, I went to give it a try.\\n\\nTrès tragique!\\n\\nThere were three of us.  After sending our server back at least once to ask about menu selections (she was clueless as to what the ice creams were and something else we asked about, too), we all ordered.  Three \"fountain sodas\", one side of cheese and a salad.  You\\'d think this is all very simple food and hard to mess up.  You\\'d think wrong.\\n\\nFirst the \"sodas\" - when I think \"soda\" I think carbonation and fizz.  All three (each a different flavor:  one hibiscus, one orange spice and one elderberry (I think it was) vanilla) were completely lacking in fizz and almost completely devoid of any flavor whatsoever.  The hibiscus was the most flavorful, but still nothing I would ever want to drink.  If they are supposed to be \"tea\" then call them that, because it\\'s pretty disappointing to have your \"soda\" taste like this.  The waitress told us that they had some difficulty with the flavors because the syrups had not come in and when they finally did, they were the wrong ones.  But the menu says, \"homemade\".  Homemade implies, to me, that the chef/cook/whoever in the back made a simple syrup, added fruits, etc and created a delicious and tasty syrup.  So, which is it (minus the delicious and tasty, of course...)?  When the waitress cleared the table at the end of the meal, the hibiscus was all gone, half of the orange remained and 3/4 of the berry thing remained.  Did she ask at all if they were ok?  Nope.  Huge missed opportunity to improve our experience.\\n\\nMy salad was completely bland and about 1/6 of the lettuce was brown, wilted or slimy looking.  The dressing was completely lacking any flavor.  It was a regular sized (small) dinner salad and cost $6.  What a ripoff.  I was concerned for my well-being after eating what parts of it I did.\\n\\nMy companion\\'s cheese was fine.  Cheddar cheese hacked off a larger piece of cheddar cheese.  Difficult to screw up.\\n\\nWe also asked for and got two small plates of sliced baguette.  It was nicely crisp and soft in the correct way but strangely bland.  We all tried it and agreed.  Maybe the chef forgot to add a smidgen of salt to the dough?  Weird.\\n\\nSadly, the most disturbing thing was the FLIES.  We were sitting outside and the waitress told us the fan was on to keep them away.  OK, cool, no problem.  Unfortunately, most of them were INSIDE.  We sat next to a window in the second dining room (which was closed at this time) and it was swarming with flies.  There were also numerous dead flies lying on the sill inside.  I had to literally turn my chair away from the window (I was the only one directly next to it) to keep from staring at them and being completely turned off.  I actually took a photo of the dead ones, but decided it would be too crass to post it here.  As we were leaving, I noticed that the window on the other side of the front door (in the main dining room) had even more flies.  It was just nasty.\\n\\nFor this lovely experience, including tip, we paid $30.  Let me say that again --  $30 for three \"sodas\", a salad, and a small piece of cheese.\\n\\nThe whole thing makes me very sad.  Huge waste of potential.  None of us will be back.',\n",
       " \"Marina double charged me for queso and then acted like she didn't understand English. Horrible experience..I used to work in the industry and never thought I'd be THAT customer..today that changed. Decent food but horrible service. DO NOT COME HERE.\",\n",
       " 'Why are so many people here wearing masks UNDER their nose? They realize the virus spreads through respiratory droplets, right? Will the management please enforce the mask order correctly?\\n\\nRecently found out that their policy changed and masks are no longer being required on cardio machines and temperatures are not being checked. I do not understand why rules are being lifted when the pandemic is only getting worse. Please do your part.',\n",
       " 'Lol...no wonder you got 3 stars..yall suck! Collin as manager is pathetic.  Dont expect a tip when you charge a delivery fee for .5 miles',\n",
       " 'Beware of scams. Go straight to Verizon or find a more trustworthy reseller. I\\'ve been a Verizon Annual iPhone Upgrade customer for years -- this reseller had an iPhone 12 Pro in stock so I went to upgrade here. They refused to give me the free upgrade I\\'ve received every year when I turn in my current device, and instead demanded $250 for transferring my phone (which is a free service that anyone can do themselves) and \"free\" accessories that I didn\\'t want.',\n",
       " \"They snapped up the domain name for a nearby (and far better) Chinese restaurant when it expired while the owners were on vacation and redirected it to their site to steal business. While this may be technically legal it's super shady and makes them a poor member of the community.\",\n",
       " \"Continued to charge our credit card after we canceled in person with signed forms. Ignored all email requests for cancellation forms. \\n\\nThey're just making a quick buck off fair weather gym go-ers and hoping you won't notice.\",\n",
       " \"THIS NAIL SALON IS SO SUCK!!!!!\\nThe services are awful,they are slow in process and do not have enough employees.Not to mention the employees' bad attitudes, the place is so dirty.. to be honesty, I dont even want to place my hands on their table. There are small pieces of nails all over  the place. And they do not clean the area after servicing one customer,but just continuing service others.\\nThe salon also has a really strong awful smell!!\\nThey also asked me to wait so long! \\nThis salon does NOT deserve any good reputation!!!!!!!!!!!!!!!!!!!!!!!!!!!!\",\n",
       " \"The only star is for the friendly service people who try their best to remain pleasant when faced with an unruly mob who have waited over an hour and been charged more than double the quested price. \\n\\nWe waited over 30min to be picked up from the airport and another hour at the place for our vehicle. We were quoted $92 for 4days with a Volvo S60 or better. We paid $180 for 4days with a Hyundai SUV.  Granted this included the ezpass and liability, however the cheap rate got us cheap quality. Next time we'll pay up for an airport-located rental.\",\n",
       " \"I live on Mississippi which is a pretty densely populated neighborhood. there is only one Zipcar in the entire neighborhood and that is used most of the time. The nearest car for me after that is over a mile away. Sometimes the app doesn't work and won't unlock your car. Unlike Cars 2 Go, do you have to bring the car back in the exact same spot you picked it up in so I have to walk a fair amount to even get a car. They really need to get more cars.\",\n",
       " \"ZERO - straight up. \\n\\n1) got an empty box which should've had biscuits. I've posted missing signs around the neighborhood, hopefully they show up. \\n\\n2) ordered an 8 piece spicy with dark meat, but got 8 piece mixed of regular. \\n\\n3) took 40 min from waiting in the Disneyland line to get home to disappointment. \\n\\nThe only highlight was I was able to try the overhyped spicy chicken sandwich, which was good, but not break the internet good. \\n\\nCouldn't be more utterly disappointed. It's not like my order was complex, customized or anything. Terrible execution. Today dinner was chicken with a side of disappointment.\",\n",
       " \"friends told me this was a must -have in boston.......i hate to disappoint my friends, but i've had betta chowda. =(\\n\\nit was just too watery for me....good thing i only ordered a small one.\",\n",
       " \"Go to Nudi or any other place Bai Mint Thai is really terrible. We tried them first July 2017 and were really under impressed. Gave them a second chance 1.5 years later because we love second chances. \\n\\nOk we're done. The chicken is poor quality and the food just doesn't taste right. Yuck. I want my $23 back!\",\n",
       " 'No phone number to call\\nNever open\\nNever updates business hours \\nNever will be going back!',\n",
       " 'When it\\'s over, it\\'s over!\\n\\nLew\\'s what happened?  This used to be \"the\" place on McLoughlin.  How many of us have memories of Lew\\'s?  \\n\\nStopped by as I hadn\\'t been in a long time.  Just so sad.  You know walking in when you see the ice cream freezer sitting there empty in the lobby that something is off.  I ordered a chocolate shake(my Lew\\'s usual), and a friend and I split some fries.  Fries were crispy and actually pretty good.  Milkshake wasn\\'t made with a lot of care but still tasted decent.\\n\\nI think the trouble for me here is the dirty kitchen, the grime on the ground, the seating area that was torn up, and a restroom that\\'s less than appealing.  I\\'ll save the further details, just isn\\'t worth it.  It\\'s like they gave up 10 years ago and have just been waiting until their regular customers have passed on, and are refusing to close out of respect for them.  I can appreciate that, and I\\'m sure to the owners it\\'s a source of family pride and don\\'t want to let it go.\\n\\nService was so so, but when you see the employees out front smoking and just hanging around, you know there\\'s just not much focus on this business anymore.  \\n\\nIt\\'s a shame.  This place holds memories for me.  Going here for Boy Scout events, seeing the car show, just seeing that sign lit up at night driving 99E is special.  It represents a by-gone era when towns like Milwaukie were your cliche All American types before it turned into a car lot plus Walgreens.  I think that sooner rather than later we\\'ll be passing by with our children and grandchildren and saying, gee remember when.................',\n",
       " \"Used to be amazing... But I think they are under New Management and a different chef and nothing is the same. Food lacked flavor, the Dosa was rubbery sambar was bland, chutneys tasted like nothing, mango lassi was okay. The idli sambar came without any sambar. They couldn't figure out how to put the masala on the side in my masala dosa. Our order took over 45 minutes to arrive and the service was surly. There are water bottles on the tables, but no glasses to be found anywhere. \\nSo bummed, this used to be my go-to place for good Indian food.\",\n",
       " 'I was rear ended in our family SUV and we had to drop the car off at the body shop to get it fixed, so we reserved a rental car through our insurance company a week prior. We told them we need a Ford Explorer or larger SUV, or a 4 door full size pickup. When we got to the rental lot they literally only had a Dodge Challenger, or a tiny eco car. We have 2 kids  both in giant car seats, and I\\'m 6\\'5\" so that doesn\\'t work at all. They were not apologetic at all, but the guy we were talking with had no control over what happened, and he was very nice. The manager never even came to talk to us or anything. They said to call around the other locations to see if we can swap it out, so we did... all day... and no luck. It was Christmas week, and we had no car to drive in to go to families houses. We called Christmas Eve, the next day, and they had some available! Bonus! But the guy on the phone said \"yeah sorry those are all reserved already.\" I told him \"I had a reservation as well, but you guys gave my reservation away.\" He could care less, didn\\'t offer to see what cars were being dropped off that day, and had a rude tone. Meanwhile, I will have to beg family members to let me put my kids\\' car seats in their car so I can drive my tiny car with my wife 65 miles to have our family Christmas. This place is pretty bad when they\\'re even willing to burn their customers 2 days before Christmas. I rented a car from them 3 times this year, but customer loyalty means nothing apparently.',\n",
       " \"This place has gone down hills over the years. It is dirty, worn down and messy. There is equipment and storage all over the place, the bathrooms are GROSS and often not working properly. However, they charge for spectators and can't seem to keep the place tidy or kept up.\",\n",
       " \"As a follow up to my last post, Ben is threatening to file a lien on our property if I don't take down my Yelp review. Is this the kind of person you'd like to do business with?\\n\\nHere's what he wrote:\\nI'll see you in court for your defamatory yelp review as well after I put a lien on the property\\nI'll give you an hour to remove the review \\nNo lien and no lawsuit and will take down pictures and videos \\nWe each go our separate way \\nBut if you want a legal fight and a lien then so be it\\n\\nHe also sent me two emails echoing these threats and more.\",\n",
       " \"I've never seen such a bad service. I don't even want to give it a star. It seems that I am not alone. People who have been to this store know it. The reason is because they have a very disgusting manager ！ \\nHow to be a manager, take the lead in swearing and scolding others, the most important thing is to fire the manager!  We will never go back again. With this kind of manager, this store will never be good!  I have never seen a manager who takes the lead in swearing, and today is really an eye-opener for me!  This kind of manager doesn't have the quality of self-cultivation at all, it's really too low!  She shouldn't come out to work!\",\n",
       " 'This place is a dam shit show. I purchased a coat on Saturday and was told I had to wait until Wednesday to pick it up. I came by at 10:15am to pick up my coat today and they spent 30 minutes looking for my coat. They came back and told me that they couldn\\'t find my coat so they would have to look for it. I told them maybe it\\'s elsewhere because the zipper was a bit messed up. They called alterations but couldn\\'t get a hold of them. They took down my name and number and said that they would call me later today once they have it. I had a missed call from them in the afternoon but they didn\\'t leave a voicemail. I called the store back later on and it was even more of a mess trying to explain my situation to them. Maybe it\\'s my fault for not asking for their names in the morning but how hard is it to leave a voicemail with your name and a message?\\n\\nAnyways I figured I would go back, so I get there at 7:30pm to pick it up. I hand the guy my receipt and he comes out with my coat in a bag. He was matching up the receipt I gave him to the ones that were stapled to the bag. He said the receipts attached \"didn\\'t make sense\" to him and he had to try to make sense out of it before he could release the coat. He tells me to come back in 10 minutes so he can try to \"figure it out.\" I came back 10 minutes later and got my coat. The reason it didn\\'t make sense was I was given a 10% discount for the inconvenience which is great but when you\\'re having a bad day to begin with it\\'s whatever. I would have given back the 10% for the hour of my life I lost waiting for this coat. \\n\\nAll in all I spent more time waiting for my coat than I did searching for a Bugatti coat. Safe to say I\\'ll never be back here. Absolute joke.',\n",
       " \"Would give it zero stars if I could. Misrepresents itself on Expedia--not at the airport, requires long shuttle ride to sketchy area, requires buying their insurance, doesn't give you the car reserved, and places large deposit charge. AVOID!\",\n",
       " 'Came to tire discounters for a nail in a tire. Took over an hour after they said they would get me right in. Witnessed a good amount of horseplay behind counter when they could have been working on cars. Smoking witb the vapor right beside cars with windows down, one person tired to lick anothers face. Weird experience. I have had a patch in tire before and it, at most, took 20 minutes. Will NEVER be back and would not recommend.',\n",
       " 'I would give them zero stars if I could. When we got off the plane, the car we reserved could not be found. When we asked the desk where to find it, he put us in a different car. Little did we know, they also charged us an extra $250+ for the change.\\n\\nWe called customer service and got nowhere. They did not listen to us at all, even though we were reading their policy to them from their website. They refused to give us a refund. After a month of not giving up, we FINALLY talked to what seems to be their only competent employee. We got our money back. I would never trust this company again because of the hassle we went through with the rest of the customer service team. \\n\\nHertz, train your customer service team. They are useless.',\n",
       " 'I\\'m sad to be writing this review after a year of good experiences with 1st Nail. I was double charged for my last service with them, my usual $51 gel mani/pedi was $102 when I checked my bank statement. I stopped in after I saw this misunderstanding and showed the employee (I think her brother owns the salon but I could be wrong)  the bank statement through my phone and she hurried me away saying, \"come back with paper.\" All I wanted was a credit for the extra funds they charged in the form of a salon credit and was rushed away. I printed out my bank statement as she said was required and brought it in 2 weeks later to show her and now I\\'m told that it\\'s too late. I explained to her that I\\'m busy and can\\'t be running to Southpark Meadows nonstop. In any case, it didn\\'t end well. I\\'m on the phone with my bank as I write this because they refused to make good on their error. One of their other employees stepped up and said, \"yeah, our credit card machine sometimes makes mistakes.\" but again....they aren\\'t looking to help me and told me it\\'s too late. I tried twice to resolve this matter with them kindly and now I have to resort to my bank to rectify the matter. I have been a customer for a while, getting services every month, they recognize me yet want nothing to with me once there is a problem. Next time you get a service here, bring cash!',\n",
       " \"I was told from a worker not to ever come back because the nails SHE MADE kept breaking as I told her I need them Thick. Bad staff an attitudes I wouldn't recomend this place.\",\n",
       " 'I am not sure how you can sell a burnt pizza and not notice it is burnt. I usually love their pizza, salads and sides but tonight it was a major disappointment. At least try to be good on the quality of product you provide to clients.',\n",
       " 'Below is a rolling timeline of our experience..... starts GREAT.... ends not so well.\\n\\nJD our sales rep was super nice and helpful.  Had kind of a Grace vibe from Frankie  and Grace.  We found a great couch.  Our last bobs couch was from the vaunted Calgary line and it lasted 10 years until\\nmy daughter puked all over it and it leaked into the cushions. Bobs warranty is 100 bucks for 5 years.  I\\'m sure we will get it cleaned every 6 months on account of my kids being nasty little monsters. Ts and Ps to he world.\\n\\nUpdate!  Bobs just called and said the couch was discontinued 3 + weeks later.  Wife  is fuming and wants heads on pikes.  Had to change to 1.  They were pretty laid back about it.  No sorry or 10% off, not free shipping offered.   Waiting on the poor sales rep to call the wife back.  Pray for her.  Guessing we go to Jordans.  We have purchased a few beds from them and had no issues.\\n\\nUpdate 2.  We reordered the recommended couch.  It was a complete fiasco between calling the store and calling customer support.   They informed us they will discuss a discount for the headache but only after the furniture is delivered.... wife explained this doesn\\'t make sense.  But customer service kept stating it\\'s company policy.  I picture a half wit staring at a spreadsheet concluding, if we negotiate after furniture is delivered ... half the requests for discounts go away because people are tired of fighting with us , and the other half ... well they have no leverage.  Bobs like, \"let\\'s call it clear and simple returns \" and move some furniture!\\n\\nUpdate-JD out sales rep told us if we didn\\'t like the couch to refuse it.  She didn\\'t tell us that we had to pay shipping costs either way.  One of many very misleading tactics used to make us \"feel\" valued while all they are doing is lying to get the sale.\\n\\nUpdate- Couch was delivered and we like it.  Very well built.  Delivery went very smooth.   Before that Bob\\'s customer service rep David promised we would receive refund for our issues.   Jordans once screwed up a delivery, so they waived the delivery fee. Would you be shocked to know I called him 7 times over 3 weeks and he never called back.  Then I called the main line, waited on hold for a 30+ minutes and finally spoke with someone who offered 25$ in bobs gift cards...... I explained that\\'s not what was promised, again they said its our policy and I can give you 50$ in Bobs gift cards.  Here\\'s wily old Bob taking his mistake and cleverly using it to get you to buy more furniture. Wife and I knew this was going to happen.  You could tell the customer service reps were embarrassed at their company policy.  when we had an issue with Jordans, it was fixed in 1 easy phone call.  \\n\\nThe customer service rep could only say, \"well I see David left you a message, that\\'s all I can go on.\"  As if the world outside of her screen and common sense don\\'t exist.\\n\\nBob is smart, sends out survey right after you purchase and are still feeling that new purchase glow.  Most people aren\\'t as deranged as I am to keep updating to how things actually went.\\n\\nThis is classic bait and switch and misleading and bold faced lies.  Shady tactics.  Just unnecessary.',\n",
       " \"The absolute worst food and service. The manager is a young lady who was beyond rude. We went with family for breakfast for a birthday. We had a large party, maybe 17 of us total but they were prepared for us.....or so they said they were. We sat down, the young lady took our drink order and once most of the drinks were out she took our food order. The food starts coming out in peices but not a full meal that was ordered. So someone got their eggs and bacon but no pancakes. Several people had to send their food back 3 times because the food was not cooked properly. I ordered an apple pancake only to bite into it and find it was mainly eggs. It was nasty! My husband ordered peanut butter pancakes with bacon, that didn't come out until everyone had most of their food and we had to ask where his food was. The kitchen staff clearly is horrible. We asked to speak to the manager to let her know how awful everything was and she apologized stating that they have been looking for kitchen staff and told us she would take care of the table. We all came together to leave our waitresses a tip because majority of it was not her fault. We all started to get up and some of us walked out, the people who did not eat their food or get their food because we weren't paying for it and the manager said she'd take care of it. The rest of our family that did eat their food were trying to figure out the bill situation and the manager came back out and got very rude stating that we were dinning and dashing! But how can you dine and dash if you don't eat your food and  she said she was going to take care of the table?!??! Clearly this place runs so poorly because of her and the way she runs the place. We were not the only people in the place displeased with everything. My family and I will never be back here, ever! They need to find a manager who isn't bipolar and who doesn't accuse customers of something they had no intention of doing in the 1st place.\",\n",
       " \"I watched a man get kicked out of this restaurant a few days ago. I overheard him talking to a manager about spit in his food. They straight up walked him out no refund etc. Its safe to say I dont think I'll visit here again.  After reading past reviews I see how shady this place can be!!\",\n",
       " \"There chicken is good. But for lunch I want more than chicken. There French fries are cold 4 times in a row. Then I asked for warm fries and they Though an order of fries back in fryer. Grease sponge.  This happened twice in a row. Lazy   I'm done.  Lazy.\",\n",
       " \"Shithole. Shit food. Shit waitstaff. Fucking shit experience. I'd rather chew on some 3rd world toe-nail clippings than eat at that suckhole.I will highly recommend this place to everyone I hate.\",\n",
       " 'Echoing other people\\'s reviews that this guy does not show up when scheduled and seems to have an awful lot of \"emergencies\". He did an estimate in a timely manner and seemed legit. However, we then waited hours and hours for this guy but he never called or showed up. The first time he had an emergency and the second time just didn\\'t call, come, or reschedule. Give me a break. Be a professional adult and show up when you are supposed to. Do not disrespect other people\\'s time because your time is not more valuable than others. Why even bother to do an estimate if you never do the actual job? It makes no sense, and it\\'s just rude and shady.',\n",
       " 'Yeah ordered from Uber eats and this was crap usually order from here but this is gross',\n",
       " \"Will never return now that they've put up an anti-gun sign. It's bad enough with all the hoodlums that work there (I had a manager tell me once he was a felon), but now they have taken a stance that they don't want money from people who carry a firearm? No thanks.\",\n",
       " 'Disappointing. Bought a used biked and brought it in for an inspection, some small work needed to be done so I brought it back. When I came in to pick it up the bill is double what I was quoted and work was done that I did not request. I ordered some gear and almost a month later I had to ask them where it was. The response was \"that I had already picked it up, no? I\\'ll call you right back\" after a week of waiting I came in to the store and was told the order was lost. After asking for my money back they magically found it. \\n\\nThe final straw was when I came in for a quick look from a service tech and no one was at the desk. So of course I went to the front desk and asked where they could be found. After getting the obvious \"over there\" I informed him there was no one there. Then who I think is the manager or maybe owner said in a loud and rude way \"well then I\\'ll go get one\".\\n\\nIncompetent, stupid and rude? I want to go to an official BMW shop for my work but not these people. After giving them multiple second chances I\\'m done!',\n",
       " \"Overpriced for a junky salon. They only play Christian music which is why I will never be returning. No hot water to rinse my hair. Black mold in ceiling. Rude staff that speak Russian to each other. Will not be returning and will tell others to steer clear. Can't believe I dumped money in this place for the last 3 years....\",\n",
       " 'I travel often and like to check out local card shops.  This one was a real stinker.  The raw singles were outrageously priced.  He said that they were half off, but in reality, most of the cards would have been more fairly priced at 75-90 percent off.  I have bought and sold hundreds, if not thousands of PSA cards and he was asking PSA 6/7 prices for raw cards that were so beat up that they might only grade a 1 or 2.  It was shameful.  Do yourself a favor and skip this one.',\n",
       " \"I don't know where to begin with this place. First let me start by saying that our server was awesome. Our issues tonight had nothing to do with her.  \\n\\nThey have recently changed their menu. This used to be my go to place for chicken and sausage gumbo when I was too lazy to make it myself. I'm a true Louisiana girl and most places don't match up to my standards but I had given this place a chance. Please tell me how do you make only a Chicken Gumbo???? What happened to the andouille sausage? Heck if the andouille was too much get some smoked sausage.  They have removed the sausage from their gumbo. The roux is not the nice dark and spicy one from previous visits. I didn't finish my plate. I was completely disappointed and did voice my concerns. No manager came out to talk to us. Nothing. The only thing that I did enjoy was my Cat 5 hurricane drink and the live entertainment.  After a $70 check for mediocre food, we most likely won't be back.\",\n",
       " \"Don't get the eggs Benedict if you like traditional Canadian bacon on them.  The don't get the French toast, if you like traditional French toast.  They serve it with a pound of apples and green grapes with a tub of maple syrup dumped on it.   BARF   the coffee was delicious and the staff of friendly and accommodating.\",\n",
       " 'I ordered a Chile Relleno Burrito (no beans but add carnitas) and picked it up at 8:30pm. Got home and got something else entirely. Called them at 8:50pm but unfortunately no one picked up. What a disappointment.',\n",
       " \"It's Sunday and the wait is 1 hr to get thru tsa check in? Who runs this place a blind man? Said it for years if all you have working are slow overweight low energy people in tsa at one of the busiest airports on earth what else's can you expect. They have had what 19 years to figure it out. Will always be the worst run airport in the us.\",\n",
       " \"I've been going here for the past 6 years, and lately within the past 2-3 months everything's changed. Almost every time I go there now my order takes forever (when I'm the only customer there) or food comes out burnt, or straight up is wrong. I know there's been management turn over for the past couple months but they need to seriously get their act together, because this used to be my favorite place but now I'm just disappointed by the lack of care and service\",\n",
       " 'UPDATE ON HIS COMMENT BELOW: I have a signed contract on June 1, 2019 so that is a bold face lie that it was 6 months ago. The siding was off when Ian came to quote the job and when you completed the job. When the siding when to be installed it was discovered that the aluminum wrap was installed with a huge run off and gap, not flat against the house so impossible to install the siding. So saying it has to be bent a different way makes zero sense. It is pathetic and cowardly they wouldn\\'t even send someone here for 5 minutes to discuss with me in person, although I would still be willing to if they wanted to come see my face to face. I was very respectful when you told me you were tied up for a month and you told me you were willing to work with me. In reality, you were pushing me off so the gap in time was longer from the actual job so you could make an excuse not to come out. Everything in this comment is a lie, I am very disappointed on how dishonest and disrespectful this company is.\\n\\nORIGINAL POST: The company installed a total of 40\\' of gutters and one 4\\' piece of fascia trim that runs off 1.25\" to an existing piece of fascia trim. That run off creates a large gap from the fascia to the exterior wall and doesn\\'t allow the siding to be nailed into anything, multiple vertical 2x4 shims would be required to make up for the gap in order to have something to nail the siding to, this would also create a hump on the exterior wall.  \\nInitially Ian Zmud came to my house to review the job, he said he would call if anything came up during the job because his crew are professionals and might see something that he didn\\'t. We did discuss how much trim needed to be replaced and I said only what trim needs to be replaced because I did not know exactly. Ian was great and helpful at the time. \\nThe job was completed on Friday June 7th when I was not home. The siding was ordered and took a couple weeks to come in through Lowes (messed up delivery and a special color), by the time the siding started going up (June 29, I realized this issue when I was measuring up from the top of the exterior wall and saw the gap. I texted the Chris, the owner, with photos and a description, who said everyone is on a commercial job for 1 month. I said that is ok I want to work with you to get this resolved because I will have work in the future and want to stay in good standing. He agreed and said to touch base, I call him back a week later and says he will touch base with me in two weeks because they are still busy, I called him 2.5 weeks later (7/29) to review the situation again (after we did a few times via text and on the phone) and this is when he said he cannot help me out because the job is not big enough and I already had paid. This small job would only require a couple hours. \\nNow I am left with a gap and have to find another contractor to come out, quote the job and complete it. I do not feel like I received good customer service or professional craftsmanship on the job.',\n",
       " \"Wow I can't believe this place remains open for business. It's a veritable bygone dump that looks like a foreclosed Subway franchise. And the bagels are the standard fare but everything else in there is very uninventive, stale looking and boring as heck. Put some effort and pride into your establishment. This location is embarrassing for the brand and for good bagels everywhere. I lost my appetite just walking in. And the screaming children didn't help. Stay away from here and maybe they'll have some incentive to clean up and present themselves with some dignity and heaven forbid some creativity.\",\n",
       " \"If I could give this zero stars I would. I showed up with five other woman for a girlfriends birthday. Stood in line for not even 5 minutes, then had security come and tell us we needed to leave. When we asked why they said we weren't welcome in the establishment, and we needed to leave immediately other wise we were trespassing.. So I asked the other security guy why this had happened and he laughed in my face, didn't say a word and went back to checking ids. Considering we were completely sober, and had dressed to the venue, I am shocked they can get away with treating PAYING CUSTOMERS like this. I will NEVER be back, and will be passing the word along. \\n\\nSeeing the reviews below, I am surprised they have customers still.\",\n",
       " \"Took a red eye from SFO.  I have been waiting since 9am for my room. It's now 3:30 pm. I just want to lay down and take a nap. Still no fucking room.\\n\\n\\nUpdate 9/25 - They said they were upgrading me to a suite, got to the room and it was a run of the mill room. Smells like old carpet. The toilet would not flush... Im over it, not even gonna try to deal with that...\\n\\nWas supposed to stay thru Friday but booked a room at the DoubleTree Suites. \\n\\nBye bye Wyndham, never again.\",\n",
       " 'I love Buffalo Wild Wings... but the service here was terrible... a simple take out of wings and cheese curds took 40 mins was over 20 dollars and I had to go back once I realized I had no utensils no napkins and no sauce.... this makes me miss NY customer service.',\n",
       " \"I have been here twice, and services has been horrible. First time we sat with a waitress and she said it was her first day, and they kept overloading her area. \\n\\nSecond time we walked in and no one was at the hostage stand with three employees standing to the left not helping anyone. We waited about five minutes to be greeted and sat. During our time we noticed our server sitting down with empty plates in front of us. Then were handed the check when we weren't even done drinking/watching the games. \\n\\nNever again\",\n",
       " \"4 people working, but they seem to have to double up to help ever customer. Don't know if there's a problem with every reservation but it takes them 15 minutes to process every customer. Ridiculous.\",\n",
       " 'Rented and paid for a full size suv 30 days in advance. Arrived at midnight just at my scheduled time for pickup and the car is not ready. New born and my kids waiting for over a hour as they scramble to find alternate cars. Would not recommend hertz',\n",
       " \"I took my car here around July, and I thought they did a good job. Plus I loved how they gave me a report of everything. After paying and leaving there still was work needed In my car Which I know since it said it on the report. I had my step dad check out the problems they lied! They said I needed new back brakes we checked they were brand new. When in the report it said it was worn and needed them badly! Meaning they are just trying to sponge people for money!                                 Second the charge for the parts is ridiculous they give generic brands, and expect you to pay as if it was name brand from a dealership!                            Third I went back today to see if I can get a diagnosis on my car because I live close and explained to the owner my last problem and she assured me she will look at everything to make sure it was done right. I came in at 2:30 and was told they would have my car done today. Yet they didn't call me until 5:02 to tell me they didnt finish and to come back tomorrow when they close at 6. That made me furious because I have work and wanted to get things fixed. Now I just wasted my day waiting for nothing. They have horrible customer service. I don't trust them at all and would not Recommend them to anyone! If you are smart you will never spend a dime at this place!\",\n",
       " \"Terrible management. This isn't the first time, now that I recall but, don't order for here. We spent EXTRA money using the delivery service and got completely wrong orders. I called them and they put me on hold for 30 mins. I called back 5 times to a busy tone. Hope you lost business and I'll be in to give you a price oft mind soon. It's really not hard people. It's few ingredients in assembly line and for a multi million dollar corporation to ignore a customer with zero customer service and no manger to answer my call...yeah, not ok.\",\n",
       " 'I waited for about an hour for food while people who came before us had gotten their food. When I asked they told us 5 minutes, but it did not come out. We ended up leaving. Bad service.',\n",
       " \"I went and got my nails done 5 days ago and they were beautiful! But 2 days later they started cracking. I always get SND and have never had the clear crack before. They obviously use a very CHEAP top coat. It is peeling and cracking already. A complete waste of money!!!!! I should NOT have to be getting my nails re-done this soon. I have NEVER had this happen at any other shop before. As much as y'all charge you all need to purchase QUALITY supplies for your clients. I will not be returning!!! Don't waste your money.\",\n",
       " 'This Company is just interested on your money ! They just like your cash! There are better companies focus in real business like Oxygen Yoga or Birkram or one hour yoga!!\\nDont waste your money here!']"
      ]
     },
     "execution_count": 17,
     "metadata": {},
     "output_type": "execute_result"
    }
   ],
   "source": [
    "texts"
   ]
  },
  {
   "cell_type": "code",
   "execution_count": 18,
   "id": "1e453930-8bce-4e4b-9c1e-90a9e916df5f",
   "metadata": {
    "execution": {
     "iopub.execute_input": "2022-03-31T09:14:56.336703Z",
     "iopub.status.busy": "2022-03-31T09:14:56.335799Z",
     "iopub.status.idle": "2022-03-31T09:14:56.346492Z",
     "shell.execute_reply": "2022-03-31T09:14:56.345335Z",
     "shell.execute_reply.started": "2022-03-31T09:14:56.336650Z"
    },
    "tags": []
   },
   "outputs": [
    {
     "name": "stderr",
     "output_type": "stream",
     "text": [
      "/emr/notebook-env/lib/python3.7/site-packages/ipykernel/ipkernel.py:287: DeprecationWarning: `should_run_async` will not call `transform_cell` automatically in the future. Please pass the result to `transformed_cell` argument and any exception that happen during thetransform in `preprocessing_exc_tuple` in IPython 7.17 and above.\n",
      "  and should_run_async(code)\n"
     ]
    }
   ],
   "source": [
    "def tokenize(texts):\n",
    "    tokenizer = nltk.RegexpTokenizer(r'\\w+')\n",
    "\n",
    "    texts_tokens = []\n",
    "    for i, val in enumerate(texts):\n",
    "        text_tokens = tokenizer.tokenize(val.lower())\n",
    "\n",
    "        for i in range(len(text_tokens) - 1, -1, -1):\n",
    "            if len(text_tokens[i]) < 4:\n",
    "                del(text_tokens[i])\n",
    "\n",
    "        texts_tokens.append(text_tokens)\n",
    "        \n",
    "    return texts_tokens"
   ]
  },
  {
   "cell_type": "code",
   "execution_count": 19,
   "id": "ae9e94f1-4ef4-4e84-86b3-c77f14b2073f",
   "metadata": {
    "collapsed": true,
    "execution": {
     "iopub.execute_input": "2022-03-31T09:14:56.348845Z",
     "iopub.status.busy": "2022-03-31T09:14:56.348089Z",
     "iopub.status.idle": "2022-03-31T09:14:56.371704Z",
     "shell.execute_reply": "2022-03-31T09:14:56.370637Z",
     "shell.execute_reply.started": "2022-03-31T09:14:56.348794Z"
    },
    "jupyter": {
     "outputs_hidden": true
    },
    "tags": []
   },
   "outputs": [
    {
     "name": "stderr",
     "output_type": "stream",
     "text": [
      "/emr/notebook-env/lib/python3.7/site-packages/ipykernel/ipkernel.py:287: DeprecationWarning: `should_run_async` will not call `transform_cell` automatically in the future. Please pass the result to `transformed_cell` argument and any exception that happen during thetransform in `preprocessing_exc_tuple` in IPython 7.17 and above.\n",
      "  and should_run_async(code)\n"
     ]
    },
    {
     "data": {
      "text/plain": [
       "[['bring',\n",
       "  'truck',\n",
       "  'chevrolet',\n",
       "  'recall',\n",
       "  'came',\n",
       "  'pick',\n",
       "  'with',\n",
       "  'recall',\n",
       "  'resolved',\n",
       "  'more',\n",
       "  'problems',\n",
       "  'just',\n",
       "  'left',\n",
       "  'after',\n",
       "  'visit',\n",
       "  'there',\n",
       "  'another',\n",
       "  'problem',\n",
       "  'that',\n",
       "  'didn',\n",
       "  'exist',\n",
       "  'before',\n",
       "  'horrible',\n",
       "  'knowledge',\n",
       "  'service',\n",
       "  'integrity',\n",
       "  'bring',\n",
       "  'your',\n",
       "  'business',\n",
       "  'here',\n",
       "  'sorry']]"
      ]
     },
     "execution_count": 19,
     "metadata": {},
     "output_type": "execute_result"
    }
   ],
   "source": [
    "texts_tokens = tokenize(texts)\n",
    "\n",
    "texts_tokens[:1]"
   ]
  },
  {
   "cell_type": "code",
   "execution_count": 27,
   "id": "00e02357-85c2-4894-86e9-8e672e0d341e",
   "metadata": {
    "execution": {
     "iopub.execute_input": "2022-03-31T09:17:43.060538Z",
     "iopub.status.busy": "2022-03-31T09:17:43.060244Z",
     "iopub.status.idle": "2022-03-31T09:17:44.228260Z",
     "shell.execute_reply": "2022-03-31T09:17:44.227191Z",
     "shell.execute_reply.started": "2022-03-31T09:17:43.060506Z"
    },
    "tags": []
   },
   "outputs": [
    {
     "name": "stderr",
     "output_type": "stream",
     "text": [
      "/emr/notebook-env/lib/python3.7/site-packages/ipykernel/ipkernel.py:287: DeprecationWarning: `should_run_async` will not call `transform_cell` automatically in the future. Please pass the result to `transformed_cell` argument and any exception that happen during thetransform in `preprocessing_exc_tuple` in IPython 7.17 and above.\n",
      "  and should_run_async(code)\n",
      "[nltk_data] Downloading package stopwords to /home/emr-\n",
      "[nltk_data]     notebook/nltk_data...\n",
      "[nltk_data]   Package stopwords is already up-to-date!\n",
      "[nltk_data] Downloading package wordnet to /home/emr-\n",
      "[nltk_data]     notebook/nltk_data...\n",
      "[nltk_data]   Package wordnet is already up-to-date!\n",
      "[nltk_data] Downloading package omw-1.4 to /home/emr-\n",
      "[nltk_data]     notebook/nltk_data...\n",
      "[nltk_data]   Unzipping corpora/omw-1.4.zip.\n"
     ]
    },
    {
     "data": {
      "text/plain": [
       "True"
      ]
     },
     "execution_count": 27,
     "metadata": {},
     "output_type": "execute_result"
    }
   ],
   "source": [
    "nltk.download('stopwords')\n",
    "nltk.download('wordnet')\n",
    "nltk.download('omw-1.4')"
   ]
  },
  {
   "cell_type": "code",
   "execution_count": 23,
   "id": "29b1292b-4d42-468d-8600-8ab8037473c2",
   "metadata": {
    "execution": {
     "iopub.execute_input": "2022-03-31T09:16:39.811075Z",
     "iopub.status.busy": "2022-03-31T09:16:39.810778Z",
     "iopub.status.idle": "2022-03-31T09:16:39.817215Z",
     "shell.execute_reply": "2022-03-31T09:16:39.816221Z",
     "shell.execute_reply.started": "2022-03-31T09:16:39.811042Z"
    },
    "tags": []
   },
   "outputs": [
    {
     "name": "stderr",
     "output_type": "stream",
     "text": [
      "/emr/notebook-env/lib/python3.7/site-packages/ipykernel/ipkernel.py:287: DeprecationWarning: `should_run_async` will not call `transform_cell` automatically in the future. Please pass the result to `transformed_cell` argument and any exception that happen during thetransform in `preprocessing_exc_tuple` in IPython 7.17 and above.\n",
      "  and should_run_async(code)\n"
     ]
    }
   ],
   "source": [
    "def removeSW(texts_tokens):\n",
    "    stopWords = set(stopwords.words('english'))\n",
    "    texts_filtered = []\n",
    "\n",
    "    for i, val in enumerate(texts_tokens):\n",
    "        text_filtered = []\n",
    "        for w in val:\n",
    "            if w not in stopWords:\n",
    "                text_filtered.append(w)\n",
    "        texts_filtered.append(text_filtered)\n",
    "        \n",
    "    return texts_filtered"
   ]
  },
  {
   "cell_type": "code",
   "execution_count": 24,
   "id": "36913710-9659-41f9-8a24-10cc71e7d998",
   "metadata": {
    "execution": {
     "iopub.execute_input": "2022-03-31T09:16:45.575931Z",
     "iopub.status.busy": "2022-03-31T09:16:45.575601Z",
     "iopub.status.idle": "2022-03-31T09:16:45.585439Z",
     "shell.execute_reply": "2022-03-31T09:16:45.584563Z",
     "shell.execute_reply.started": "2022-03-31T09:16:45.575897Z"
    },
    "tags": []
   },
   "outputs": [
    {
     "name": "stderr",
     "output_type": "stream",
     "text": [
      "/emr/notebook-env/lib/python3.7/site-packages/ipykernel/ipkernel.py:287: DeprecationWarning: `should_run_async` will not call `transform_cell` automatically in the future. Please pass the result to `transformed_cell` argument and any exception that happen during thetransform in `preprocessing_exc_tuple` in IPython 7.17 and above.\n",
      "  and should_run_async(code)\n"
     ]
    },
    {
     "data": {
      "text/plain": [
       "[['bring',\n",
       "  'truck',\n",
       "  'chevrolet',\n",
       "  'recall',\n",
       "  'came',\n",
       "  'pick',\n",
       "  'recall',\n",
       "  'resolved',\n",
       "  'problems',\n",
       "  'left',\n",
       "  'visit',\n",
       "  'another',\n",
       "  'problem',\n",
       "  'exist',\n",
       "  'horrible',\n",
       "  'knowledge',\n",
       "  'service',\n",
       "  'integrity',\n",
       "  'bring',\n",
       "  'business',\n",
       "  'sorry']]"
      ]
     },
     "execution_count": 24,
     "metadata": {},
     "output_type": "execute_result"
    }
   ],
   "source": [
    "texts_filtered = removeSW(texts_tokens)\n",
    "texts_filtered[:1]"
   ]
  },
  {
   "cell_type": "code",
   "execution_count": 25,
   "id": "7ac271e9-c1c2-4154-a6d0-4d178f125d6d",
   "metadata": {
    "execution": {
     "iopub.execute_input": "2022-03-31T09:17:08.453655Z",
     "iopub.status.busy": "2022-03-31T09:17:08.453306Z",
     "iopub.status.idle": "2022-03-31T09:17:08.459828Z",
     "shell.execute_reply": "2022-03-31T09:17:08.458834Z",
     "shell.execute_reply.started": "2022-03-31T09:17:08.453621Z"
    }
   },
   "outputs": [
    {
     "name": "stderr",
     "output_type": "stream",
     "text": [
      "/emr/notebook-env/lib/python3.7/site-packages/ipykernel/ipkernel.py:287: DeprecationWarning: `should_run_async` will not call `transform_cell` automatically in the future. Please pass the result to `transformed_cell` argument and any exception that happen during thetransform in `preprocessing_exc_tuple` in IPython 7.17 and above.\n",
      "  and should_run_async(code)\n"
     ]
    }
   ],
   "source": [
    "def lemma(texts_filtered):\n",
    "    wordnet_lemmatizer = WordNetLemmatizer()\n",
    "    texts_lem = []\n",
    "\n",
    "    for i, val in enumerate(texts_filtered):\n",
    "        text_lem = []\n",
    "        for word in val:\n",
    "            text_lem.append(wordnet_lemmatizer.lemmatize(word, pos=\"v\"))\n",
    "        texts_lem.append(text_lem)\n",
    "    \n",
    "    return texts_lem"
   ]
  },
  {
   "cell_type": "code",
   "execution_count": 28,
   "id": "bf334849-e779-4c61-85fa-784ee76b3fcc",
   "metadata": {
    "execution": {
     "iopub.execute_input": "2022-03-31T09:17:47.888329Z",
     "iopub.status.busy": "2022-03-31T09:17:47.888017Z",
     "iopub.status.idle": "2022-03-31T09:17:49.905762Z",
     "shell.execute_reply": "2022-03-31T09:17:49.904710Z",
     "shell.execute_reply.started": "2022-03-31T09:17:47.888295Z"
    },
    "tags": []
   },
   "outputs": [
    {
     "name": "stderr",
     "output_type": "stream",
     "text": [
      "/emr/notebook-env/lib/python3.7/site-packages/ipykernel/ipkernel.py:287: DeprecationWarning: `should_run_async` will not call `transform_cell` automatically in the future. Please pass the result to `transformed_cell` argument and any exception that happen during thetransform in `preprocessing_exc_tuple` in IPython 7.17 and above.\n",
      "  and should_run_async(code)\n"
     ]
    },
    {
     "data": {
      "text/plain": [
       "[['bring',\n",
       "  'truck',\n",
       "  'chevrolet',\n",
       "  'recall',\n",
       "  'come',\n",
       "  'pick',\n",
       "  'recall',\n",
       "  'resolve',\n",
       "  'problems',\n",
       "  'leave',\n",
       "  'visit',\n",
       "  'another',\n",
       "  'problem',\n",
       "  'exist',\n",
       "  'horrible',\n",
       "  'knowledge',\n",
       "  'service',\n",
       "  'integrity',\n",
       "  'bring',\n",
       "  'business',\n",
       "  'sorry']]"
      ]
     },
     "execution_count": 28,
     "metadata": {},
     "output_type": "execute_result"
    }
   ],
   "source": [
    "texts_lem = lemma(texts_filtered)\n",
    "\n",
    "texts_lem[:1]"
   ]
  },
  {
   "cell_type": "code",
   "execution_count": 29,
   "id": "a27ca524-b24a-4350-9a66-3b70a65f7468",
   "metadata": {
    "execution": {
     "iopub.execute_input": "2022-03-31T09:18:11.854988Z",
     "iopub.status.busy": "2022-03-31T09:18:11.854696Z",
     "iopub.status.idle": "2022-03-31T09:18:11.860829Z",
     "shell.execute_reply": "2022-03-31T09:18:11.859743Z",
     "shell.execute_reply.started": "2022-03-31T09:18:11.854955Z"
    }
   },
   "outputs": [
    {
     "name": "stderr",
     "output_type": "stream",
     "text": [
      "/emr/notebook-env/lib/python3.7/site-packages/ipykernel/ipkernel.py:287: DeprecationWarning: `should_run_async` will not call `transform_cell` automatically in the future. Please pass the result to `transformed_cell` argument and any exception that happen during thetransform in `preprocessing_exc_tuple` in IPython 7.17 and above.\n",
      "  and should_run_async(code)\n"
     ]
    }
   ],
   "source": [
    "texts_string = []\n",
    "for text in texts_lem:\n",
    "    string = ' '\n",
    "    string = string.join(text)\n",
    "    texts_string.append(string)"
   ]
  },
  {
   "cell_type": "code",
   "execution_count": 30,
   "id": "20972747-7e5b-442c-93b4-ef5ee5511c39",
   "metadata": {
    "execution": {
     "iopub.execute_input": "2022-03-31T09:18:26.742508Z",
     "iopub.status.busy": "2022-03-31T09:18:26.742210Z",
     "iopub.status.idle": "2022-03-31T09:18:26.749625Z",
     "shell.execute_reply": "2022-03-31T09:18:26.748522Z",
     "shell.execute_reply.started": "2022-03-31T09:18:26.742474Z"
    }
   },
   "outputs": [
    {
     "name": "stderr",
     "output_type": "stream",
     "text": [
      "/emr/notebook-env/lib/python3.7/site-packages/ipykernel/ipkernel.py:287: DeprecationWarning: `should_run_async` will not call `transform_cell` automatically in the future. Please pass the result to `transformed_cell` argument and any exception that happen during thetransform in `preprocessing_exc_tuple` in IPython 7.17 and above.\n",
      "  and should_run_async(code)\n"
     ]
    },
    {
     "data": {
      "text/plain": [
       "['bring truck chevrolet recall come pick recall resolve problems leave visit another problem exist horrible knowledge service integrity bring business sorry']"
      ]
     },
     "execution_count": 30,
     "metadata": {},
     "output_type": "execute_result"
    }
   ],
   "source": [
    " texts_string[:1]"
   ]
  },
  {
   "cell_type": "code",
   "execution_count": 31,
   "id": "ca8e5c88-ec7d-42e3-898d-d49c8643f35c",
   "metadata": {
    "execution": {
     "iopub.execute_input": "2022-03-31T09:18:55.919563Z",
     "iopub.status.busy": "2022-03-31T09:18:55.919221Z",
     "iopub.status.idle": "2022-03-31T09:18:56.055187Z",
     "shell.execute_reply": "2022-03-31T09:18:56.054125Z",
     "shell.execute_reply.started": "2022-03-31T09:18:55.919529Z"
    }
   },
   "outputs": [
    {
     "name": "stderr",
     "output_type": "stream",
     "text": [
      "/emr/notebook-env/lib/python3.7/site-packages/ipykernel/ipkernel.py:287: DeprecationWarning: `should_run_async` will not call `transform_cell` automatically in the future. Please pass the result to `transformed_cell` argument and any exception that happen during thetransform in `preprocessing_exc_tuple` in IPython 7.17 and above.\n",
      "  and should_run_async(code)\n"
     ]
    },
    {
     "data": {
      "text/plain": [
       "1709"
      ]
     },
     "execution_count": 31,
     "metadata": {},
     "output_type": "execute_result"
    }
   ],
   "source": [
    "dictionary = gensim.corpora.Dictionary(texts_lem)\n",
    "len(dictionary.cfs)"
   ]
  },
  {
   "cell_type": "code",
   "execution_count": 32,
   "id": "686d867d-f883-4589-a02a-608a4a550770",
   "metadata": {
    "execution": {
     "iopub.execute_input": "2022-03-31T09:19:16.359476Z",
     "iopub.status.busy": "2022-03-31T09:19:16.359186Z",
     "iopub.status.idle": "2022-03-31T09:19:16.369915Z",
     "shell.execute_reply": "2022-03-31T09:19:16.368912Z",
     "shell.execute_reply.started": "2022-03-31T09:19:16.359444Z"
    }
   },
   "outputs": [
    {
     "name": "stderr",
     "output_type": "stream",
     "text": [
      "/emr/notebook-env/lib/python3.7/site-packages/ipykernel/ipkernel.py:287: DeprecationWarning: `should_run_async` will not call `transform_cell` automatically in the future. Please pass the result to `transformed_cell` argument and any exception that happen during thetransform in `preprocessing_exc_tuple` in IPython 7.17 and above.\n",
      "  and should_run_async(code)\n"
     ]
    }
   ],
   "source": [
    "bow_corpus = [dictionary.doc2bow(doc) for doc in texts_lem]"
   ]
  },
  {
   "cell_type": "code",
   "execution_count": 33,
   "id": "3a72d804-810d-4179-8f28-cad518b64d81",
   "metadata": {
    "execution": {
     "iopub.execute_input": "2022-03-31T09:19:33.759114Z",
     "iopub.status.busy": "2022-03-31T09:19:33.758812Z",
     "iopub.status.idle": "2022-03-31T09:19:33.769812Z",
     "shell.execute_reply": "2022-03-31T09:19:33.768875Z",
     "shell.execute_reply.started": "2022-03-31T09:19:33.759080Z"
    }
   },
   "outputs": [
    {
     "name": "stderr",
     "output_type": "stream",
     "text": [
      "/emr/notebook-env/lib/python3.7/site-packages/ipykernel/ipkernel.py:287: DeprecationWarning: `should_run_async` will not call `transform_cell` automatically in the future. Please pass the result to `transformed_cell` argument and any exception that happen during thetransform in `preprocessing_exc_tuple` in IPython 7.17 and above.\n",
      "  and should_run_async(code)\n"
     ]
    }
   ],
   "source": [
    "tfidf = gensim.models.TfidfModel(bow_corpus)\n",
    "corpus_tfidf = tfidf[bow_corpus]"
   ]
  },
  {
   "cell_type": "code",
   "execution_count": 34,
   "id": "a6c61cec-36eb-4745-9e81-a4d695881572",
   "metadata": {
    "execution": {
     "iopub.execute_input": "2022-03-31T09:20:06.759765Z",
     "iopub.status.busy": "2022-03-31T09:20:06.759462Z",
     "iopub.status.idle": "2022-03-31T09:20:12.009489Z",
     "shell.execute_reply": "2022-03-31T09:20:12.008517Z",
     "shell.execute_reply.started": "2022-03-31T09:20:06.759732Z"
    }
   },
   "outputs": [
    {
     "name": "stderr",
     "output_type": "stream",
     "text": [
      "/emr/notebook-env/lib/python3.7/site-packages/ipykernel/ipkernel.py:287: DeprecationWarning: `should_run_async` will not call `transform_cell` automatically in the future. Please pass the result to `transformed_cell` argument and any exception that happen during thetransform in `preprocessing_exc_tuple` in IPython 7.17 and above.\n",
      "  and should_run_async(code)\n"
     ]
    }
   ],
   "source": [
    "lda_model_coherence = []\n",
    "for i in range (2,15):\n",
    "    lda_model = gensim.models.LdaMulticore(bow_corpus, num_topics=i, id2word=dictionary, passes=2, workers=4)\n",
    "    cm = gensim.models.CoherenceModel(model=lda_model, corpus=bow_corpus, coherence='u_mass')\n",
    "    coherence = cm.get_coherence()\n",
    "    lda_model_coherence.append(coherence)"
   ]
  },
  {
   "cell_type": "code",
   "execution_count": 41,
   "id": "649cca97-581a-461e-ba56-b0655f2b3ccd",
   "metadata": {
    "execution": {
     "iopub.execute_input": "2022-03-31T09:22:51.138946Z",
     "iopub.status.busy": "2022-03-31T09:22:51.138597Z",
     "iopub.status.idle": "2022-03-31T09:22:51.358307Z",
     "shell.execute_reply": "2022-03-31T09:22:51.357056Z",
     "shell.execute_reply.started": "2022-03-31T09:22:51.138908Z"
    },
    "tags": []
   },
   "outputs": [
    {
     "name": "stderr",
     "output_type": "stream",
     "text": [
      "/emr/notebook-env/lib/python3.7/site-packages/ipykernel/ipkernel.py:287: DeprecationWarning: `should_run_async` will not call `transform_cell` automatically in the future. Please pass the result to `transformed_cell` argument and any exception that happen during thetransform in `preprocessing_exc_tuple` in IPython 7.17 and above.\n",
      "  and should_run_async(code)\n"
     ]
    },
    {
     "data": {
      "image/png": "[encoded data removed]",
      "text/plain": [
       "<Figure size 640x480 with 1 Axes>"
      ]
     },
     "metadata": {},
     "output_type": "display_data"
    }
   ],
   "source": [
    "plt.plot(range(2, 15),lda_model_coherence)\n",
    "plt.xlabel('Number of topics')\n",
    "plt.ylabel('Coherence score')\n",
    "plt.title('How many topics ? (Closer to 0 = better)')\n",
    "plt.show()"
   ]
  },
  {
   "cell_type": "code",
   "execution_count": 42,
   "id": "bb221862-940f-44b0-86a1-c611ed10de9d",
   "metadata": {
    "execution": {
     "iopub.execute_input": "2022-03-31T09:23:11.184714Z",
     "iopub.status.busy": "2022-03-31T09:23:11.184390Z",
     "iopub.status.idle": "2022-03-31T09:23:11.584864Z",
     "shell.execute_reply": "2022-03-31T09:23:11.583780Z",
     "shell.execute_reply.started": "2022-03-31T09:23:11.184680Z"
    }
   },
   "outputs": [
    {
     "name": "stderr",
     "output_type": "stream",
     "text": [
      "/emr/notebook-env/lib/python3.7/site-packages/ipykernel/ipkernel.py:287: DeprecationWarning: `should_run_async` will not call `transform_cell` automatically in the future. Please pass the result to `transformed_cell` argument and any exception that happen during thetransform in `preprocessing_exc_tuple` in IPython 7.17 and above.\n",
      "  and should_run_async(code)\n"
     ]
    }
   ],
   "source": [
    "lda_model = gensim.models.LdaMulticore(bow_corpus, num_topics=8, id2word=dictionary, passes=2, workers=4)"
   ]
  },
  {
   "cell_type": "code",
   "execution_count": 43,
   "id": "0437b32f-f587-4bf0-96e1-8c0628a82c59",
   "metadata": {
    "execution": {
     "iopub.execute_input": "2022-03-31T09:23:29.134502Z",
     "iopub.status.busy": "2022-03-31T09:23:29.134190Z",
     "iopub.status.idle": "2022-03-31T09:23:30.995581Z",
     "shell.execute_reply": "2022-03-31T09:23:30.994564Z",
     "shell.execute_reply.started": "2022-03-31T09:23:29.134464Z"
    }
   },
   "outputs": [
    {
     "name": "stderr",
     "output_type": "stream",
     "text": [
      "/emr/notebook-env/lib/python3.7/site-packages/ipykernel/ipkernel.py:287: DeprecationWarning: `should_run_async` will not call `transform_cell` automatically in the future. Please pass the result to `transformed_cell` argument and any exception that happen during thetransform in `preprocessing_exc_tuple` in IPython 7.17 and above.\n",
      "  and should_run_async(code)\n",
      "/home/emr-notebook/.local/lib/python3.7/site-packages/pyLDAvis/_prepare.py:247: FutureWarning: In a future version of pandas all arguments of DataFrame.drop except for the argument 'labels' will be keyword-only\n",
      "  by='saliency', ascending=False).head(R).drop('saliency', 1)\n"
     ]
    },
    {
     "data": {
      "text/html": [
       "\n",
       "<link rel=\"stylesheet\" type=\"text/css\" href=\"https://cdn.jsdelivr.net/gh/bmabey/pyLDAvis@3.3.1/pyLDAvis/js/ldavis.v1.0.0.css\">\n",
       "\n",
       "\n",
       "<div id=\"ldavis_el15311402385010612003219050891\"></div>\n",
       "<script type=\"text/javascript\">\n",
       "\n",
       "var ldavis_el15311402385010612003219050891_data = {\"mdsDat\": {\"x\": [0.01999071696263751, 0.12210051649141966, -0.010522308720393012, -0.0035127147659899612, -0.052947434842852616, -0.022441099594022376, -0.051644367911337176, -0.0010233076194617872], \"y\": [0.0853393162844271, -0.04377650405853866, 0.03230825260510891, 0.024430885373477335, 0.01203599189405589, -0.027957398383315128, -0.07883073274278043, -0.0035498109724348545], \"topics\": [1, 2, 3, 4, 5, 6, 7, 8], \"cluster\": [1, 1, 1, 1, 1, 1, 1, 1], \"Freq\": [27.04052941400058, 23.662115151264082, 14.731988406737925, 9.386858785555003, 6.938282992958415, 6.836763893006692, 6.760019164722713, 4.643442191754593]}, \"tinfo\": {\"Term\": [\"place\", \"clean\", \"charge\", \"never\", \"coat\", \"would\", \"tell\", \"wait\", \"back\", \"minutes\", \"away\", \"even\", \"take\", \"food\", \"number\", \"want\", \"come\", \"give\", \"like\", \"go\", \"need\", \"call\", \"gown\", \"bank\", \"cars\", \"people\", \"cashier\", \"manager\", \"order\", \"completely\", \"horrible\", \"pizza\", \"waitress\", \"din\", \"doctor\", \"problems\", \"sick\", \"fly\", \"4days\", \"salad\", \"estimate\", \"three\", \"sodas\", \"july\", \"include\", \"dead\", \"sponge\", \"expensive\", \"hibiscus\", \"vet\", \"excite\", \"diagnosis\", \"major\", \"emergency\", \"overwhelm\", \"ridiculous\", \"clearly\", \"roast\", \"rice\", \"cheese\", \"bottle\", \"several\", \"specialist\", \"food\", \"tasty\", \"love\", \"second\", \"notice\", \"quality\", \"think\", \"problem\", \"take\", \"order\", \"fry\", \"time\", \"wrong\", \"never\", \"people\", \"completely\", \"back\", \"place\", \"come\", \"would\", \"wait\", \"also\", \"go\", \"say\", \"staff\", \"tell\", \"service\", \"different\", \"manager\", \"customer\", \"charge\", \"call\", \"give\", \"make\", \"know\", \"good\", \"delivery\", \"bob\", \"couch\", \"furniture\", \"trim\", \"card\", \"world\", \"shrimp\", \"crab\", \"wing\", \"sambar\", \"wall\", \"fascia\", \"discuss\", \"jordans\", \"mins\", \"winter\", \"delete\", \"june\", \"instal\", \"exterior\", \"gown\", \"suck\", \"traditional\", \"real\", \"pathetic\", \"toast\", \"head\", \"reality\", \"david\", \"inventory\", \"complete\", \"wife\", \"half\", \"purchase\", \"policy\", \"manufacturer\", \"update\", \"customer\", \"exist\", \"call\", \"company\", \"side\", \"service\", \"find\", \"like\", \"might\", \"dress\", \"would\", \"salon\", \"refuse\", \"experience\", \"say\", \"store\", \"time\", \"weeks\", \"come\", \"even\", \"order\", \"back\", \"tell\", \"check\", \"know\", \"make\", \"want\", \"place\", \"go\", \"take\", \"wait\", \"thyroid\", \"swear\", \"lead\", \"endocrinologist\", \"botox\", \"anymore\", \"forehead\", \"consultation\", \"memories\", \"appointment\", \"bean\", \"carnitas\", \"hoodlums\", \"chile\", \"stance\", \"entirely\", \"firearm\", \"anti\", \"50pm\", \"felon\", \"carry\", \"relleno\", \"mix\", \"internet\", \"biscuits\", \"hopefully\", \"disneyland\", \"meat\", \"utterly\", \"complex\", \"units\", \"tattoo\", \"wrinkle\", \"shake\", \"skin\", \"spicy\", \"freeze\", \"kind\", \"disappointment\", \"sandwich\", \"detail\", \"lips\", \"wright\", \"nobody\", \"see\", \"do\", \"work\", \"want\", \"manager\", \"swell\", \"pick\", \"like\", \"say\", \"anything\", \"wait\", \"come\", \"back\", \"go\", \"disappoint\", \"change\", \"think\", \"tell\", \"still\", \"know\", \"good\", \"call\", \"order\", \"never\", \"chicken\", \"give\", \"take\", \"make\", \"look\", \"would\", \"time\", \"coat\", \"negative\", \"safe\", \"approach\", \"voicemail\", \"successful\", \"kick\", \"overhear\", \"spit\", \"doubletree\", \"book\", \"suit\", \"mill\", \"wyndham\", \"toilet\", \"flush\", \"suite\", \"carpet\", \"receipt\", \"robotic\", \"deserve\", \"tacos\", \"chipotle\", \"waiter\", \"hospitality\", \"cent\", \"minimum\", \"kingsdale\", \"steakhouse\", \"shift\", \"rudest\", \"ring\", \"voice\", \"salads\", \"yesterday\", \"minutes\", \"room\", \"bring\", \"continue\", \"wait\", \"make\", \"stay\", \"would\", \"restaurant\", \"give\", \"time\", \"later\", \"maybe\", \"tell\", \"take\", \"try\", \"walk\", \"table\", \"come\", \"food\", \"say\", \"back\", \"go\", \"call\", \"service\", \"leave\", \"place\", \"ask\", \"want\", \"something\", \"even\", \"never\", \"order\", \"customer\", \"like\", \"brident\", \"gross\", \"equipment\", \"unacceptable\", \"repair\", \"nando\", \"brace\", \"slaughter\", \"appointments\", \"member\", \"clean\", \"woman\", \"vacation\", \"redirect\", \"messy\", \"community\", \"storage\", \"tidy\", \"domain\", \"spectators\", \"expire\", \"chinese\", \"nearby\", \"snap\", \"uber\", \"hill\", \"crap\", \"privacy\", \"shower\", \"early\", \"location\", \"owner\", \"wear\", \"place\", \"warranty\", \"inside\", \"usually\", \"hungry\", \"away\", \"austin\", \"order\", \"grow\", \"even\", \"last\", \"name\", \"today\", \"talk\", \"request\", \"desk\", \"keep\", \"service\", \"ask\", \"minutes\", \"well\", \"rude\", \"take\", \"want\", \"time\", \"room\", \"tell\", \"manager\", \"drink\", \"work\", \"wait\", \"go\", \"back\", \"come\", \"cashier\", \"oyster\", \"bank\", \"crack\", \"sausage\", \"gumbo\", \"late\", \"resort\", \"andouille\", \"expedia\", \"shuttle\", \"ride\", \"sketchy\", \"deposit\", \"misrepresent\", \"57pm\", \"action\", \"truly\", \"compromise\", \"behavior\", \"statement\", \"peel\", \"supply\", \"mediocre\", \"hurricane\", \"standards\", \"awesome\", \"girl\", \"print\", \"louisiana\", \"write\", \"require\", \"much\", \"obviously\", \"charge\", \"phone\", \"help\", \"nail\", \"nothing\", \"days\", \"credit\", \"away\", \"server\", \"place\", \"give\", \"good\", \"yeah\", \"tell\", \"make\", \"never\", \"try\", \"say\", \"manager\", \"experience\", \"service\", \"want\", \"name\", \"time\", \"lien\", \"verizon\", \"reseller\", \"email\", \"property\", \"fair\", \"tire\", \"amount\", \"bagels\", \"cars\", \"upgrade\", \"christmas\", \"windows\", \"discounters\", \"horseplay\", \"beside\", \"anothers\", \"patch\", \"lick\", \"witb\", \"vapor\", \"weather\", \"witness\", \"device\", \"current\", \"mask\", \"accessories\", \"demand\", \"trustworthy\", \"stock\", \"form\", \"free\", \"iphone\", \"person\", \"instead\", \"neighborhood\", \"drop\", \"reservation\", \"talk\", \"drive\", \"reserve\", \"family\", \"yelp\", \"away\", \"like\", \"turn\", \"rental\", \"kind\", \"look\", \"face\", \"take\", \"review\", \"give\", \"right\", \"want\", \"walk\", \"come\", \"say\", \"even\", \"work\", \"would\", \"need\", \"time\", \"back\", \"customer\", \"tell\", \"group\", \"herb\", \"randy\", \"security\", \"number\", \"swill\", \"bout\", \"mood\", \"thick\", \"abuse\", \"reception\", \"kurt\", \"recomend\", \"stoever\", \"assistant\", \"educate\", \"homely\", \"gretchen\", \"section\", \"everyday\", \"vaping\", \"barely\", \"brain\", \"harass\", \"produce\", \"central\", \"blow\", \"socialize\", \"orlando\", \"girls\", \"payment\", \"fail\", \"word\", \"never\", \"middle\", \"need\", \"worst\", \"every\", \"completely\", \"iphone\", \"people\", \"would\", \"back\", \"park\", \"tell\", \"come\", \"go\", \"customers\", \"even\", \"place\", \"ever\", \"still\", \"since\", \"open\", \"forehead\", \"ask\", \"staff\", \"say\", \"call\", \"leave\", \"like\", \"food\", \"return\", \"show\", \"experience\", \"take\", \"service\"], \"Freq\": [39.0, 9.0, 18.0, 32.0, 8.0, 44.0, 39.0, 33.0, 45.0, 17.0, 15.0, 25.0, 40.0, 30.0, 4.0, 30.0, 47.0, 25.0, 31.0, 31.0, 16.0, 41.0, 15.0, 4.0, 4.0, 21.0, 3.0, 21.0, 42.0, 9.0, 6.658697643637345, 2.804916053454509, 5.488755998592954, 3.985853735436745, 4.624779354194238, 3.9583585381539073, 3.9248141651061403, 3.236581532319189, 1.9065685641125432, 3.147326088254181, 1.8402513678184786, 3.7148656591243387, 2.4112003332938965, 1.8043412959840486, 1.7917447728963163, 2.3917348517751513, 1.7991219367293005, 2.9929953561427394, 2.3609675651220865, 2.9678720187789063, 2.3240178462131693, 2.3659464641831756, 1.7534431255193903, 1.7481651474912245, 1.741014713328396, 1.7443274661720758, 2.3017606676144564, 1.760373695273815, 1.747408912504432, 4.755403105250909, 4.132843566379838, 4.512924524637052, 2.3098609723519434, 18.01872371825818, 2.247667157885306, 3.399211133661856, 7.687269466627921, 3.1343704591671337, 4.567492441556474, 11.734465900106455, 5.268749708112694, 18.053330270521567, 18.79433916294312, 3.753046372275025, 15.623165619816792, 5.968180462978282, 12.987751470750663, 9.240376860876582, 5.022941651581661, 16.11936139056424, 13.902326854582256, 15.556002940133164, 13.80038863157674, 11.333611363918287, 6.4554098498134245, 9.777875454580524, 11.518766417165038, 5.922037454454551, 10.132995377303006, 9.410542407234283, 5.573655346060391, 6.633459533179614, 7.240364866998197, 6.1948418325811385, 7.642940999594846, 6.368977964684206, 6.1255005765016675, 5.582819590337024, 5.590303429775687, 5.13380462927788, 4.99091614652816, 4.957219485472209, 3.380929133759509, 3.3487380504994424, 9.856583747576241, 2.6226527482585027, 1.9170319975744086, 1.9169930256916217, 1.9169853237385017, 2.562888980907206, 2.561607221868987, 2.557057370082919, 2.5452317912625757, 2.5382505869156073, 1.8720032988540403, 1.8510944986412372, 1.8384307932823831, 2.489881243049, 2.4879289519721595, 2.4815920930232047, 11.11971638237002, 1.8384246317198871, 1.8293015142102658, 1.79296123476543, 1.8103231315274424, 1.8165061054530611, 1.8079262837165195, 1.784080882818149, 1.7767868251354488, 4.221670023237498, 4.0641429003099105, 3.376675499090433, 6.262893704284868, 9.331006779765854, 3.236720228166907, 3.465130582204099, 4.990702340309551, 14.40307748208436, 3.9239408588084226, 19.1449605249014, 5.570088849553278, 6.722683053169797, 17.680719419489964, 7.59137956784814, 10.892875994456794, 3.267782821255841, 4.173885873768943, 13.12075527705321, 3.4953810813560673, 4.261800279773589, 6.592247704380632, 10.384066486666624, 5.116173010117608, 9.76015221373345, 4.897498849058384, 9.824170848066322, 7.0334685685277805, 8.486176461259307, 8.652011835056426, 8.078958179746031, 4.984456364407411, 5.6893902549122695, 6.158041779135117, 6.234475345741069, 6.498983829817005, 5.262060633412229, 5.2448495408923055, 5.192663571176647, 3.423922440233966, 1.7783880813413016, 1.7735287956493744, 1.7752997668656672, 3.7298257337209493, 1.6377850890876766, 3.9655910481353702, 2.0379148693012206, 1.5000131956266956, 1.4621534830630718, 0.9666834779698851, 0.9666740793356818, 0.9666712022027625, 0.9666695718274415, 0.966665639745785, 0.9666631462305882, 0.9666608445242528, 0.9666580632957641, 0.9666519254122028, 0.966649431897006, 0.9666422390647076, 0.9666440612488899, 0.9665094114282641, 0.9665064383909141, 0.9664738308844948, 0.9664487998280964, 0.9664484162103738, 0.9664438127977029, 0.9664377708185722, 0.9664423742312431, 1.875074133096187, 3.4443995706475907, 1.813204074989541, 1.4063530245630944, 1.757991127031696, 1.8256601424417302, 1.7189444053299772, 4.697205286048456, 2.69293119750235, 1.8015488095332386, 1.346123987169217, 1.638107903401228, 1.3124792743324465, 1.3158568365709067, 3.9139622405595946, 4.54651103779349, 6.200524882826073, 9.392200166779404, 6.88924643955971, 1.6767602660841339, 3.6924444883618137, 7.657494635508345, 9.602124224165356, 3.449016409938847, 7.18649723531389, 8.813923303229865, 8.571713978311536, 6.541167830034503, 3.871730916333874, 3.500367094665752, 5.346619069220159, 6.805363821104811, 4.054711199356662, 4.428071751270815, 4.447220797128867, 6.263659536755206, 6.18396218765366, 5.460547394943009, 3.5896598738622045, 4.638743479598077, 5.011158797443792, 4.357201445965846, 3.6829810227634754, 4.072668344950655, 3.840143449438872, 5.955032513901463, 1.3892794258539651, 1.3520571178166083, 1.2177879584240212, 1.2108673628969253, 0.7884059849469945, 0.7827993932840172, 0.7815855453206237, 0.7812339913872064, 0.7639265751000522, 0.7622583896614358, 0.7621370904162014, 0.7594070935492763, 0.7590576783934827, 0.7557492949491552, 0.7551944960335467, 0.7547771899651811, 0.7474881747154061, 1.807477670028313, 0.6988621488197816, 1.4652925603300273, 0.6868175309695652, 0.6865619164895574, 0.6881234074787134, 0.6853490462530778, 0.6833459893465095, 0.6800812369657071, 0.6791761062753233, 0.6784027853944965, 0.6765397878683198, 1.2768600186659167, 1.2999122527584765, 1.2278741892660403, 1.2750567235894095, 1.2415505111194045, 5.010902252382896, 3.518525801031551, 2.861155021494124, 1.7724576918641288, 6.620376656420342, 5.126881685479693, 2.207859896596572, 6.280628775486252, 2.0935711977653395, 4.257571487170711, 5.428448352705788, 2.928213644030807, 1.898676370064943, 5.141196585223586, 5.084667348252569, 2.6279214438367573, 2.7184753329737834, 2.0242031842584303, 5.304110332223529, 4.134259102220954, 5.003178209764444, 5.033950208920208, 4.107548091801359, 4.30840888691346, 4.281074086722907, 2.860521943317485, 3.886098812203429, 2.8959550111027195, 3.2811456835330635, 2.1999337089387065, 2.675373219708994, 2.731896590318529, 2.6677325283099376, 2.505495368334294, 2.5226324768146635, 1.629175405649582, 1.199739918230349, 1.5975058850186128, 1.534021945329252, 1.4976711395315363, 1.078807726837792, 1.089913775755609, 1.0825799640773863, 1.06735036246845, 1.019586276112229, 4.817394294048115, 1.8920975769775585, 0.635131632811756, 0.6351308649584936, 0.6351279290489603, 0.6351273870348927, 0.6351272515313757, 0.6351271611956978, 0.6351271611956978, 0.6351234574329021, 0.6351239542791308, 0.6351221927334109, 0.635118759977649, 0.635116998431929, 0.6350888137004105, 0.6350696173688474, 0.6350777927477013, 0.6244736488565423, 0.6239057987849851, 0.6235844747785375, 2.190918966049208, 1.653100267939038, 1.2052112792363958, 5.7644262057199604, 1.053893688874847, 1.3840685140403386, 1.1857404175479789, 1.0123566214706758, 2.6289223408430593, 1.4433630463293585, 4.220961652646556, 0.9775577826200414, 3.0984729217599436, 2.0202396394981985, 1.7062183692556565, 1.7631016616289896, 1.6479164453958874, 1.1376723516354756, 1.547066417224396, 1.7008782659896626, 3.163361039227269, 2.330429412296415, 2.166170061705545, 1.9680902979918538, 1.7798650727137406, 2.6919938078269268, 2.3785235852198445, 2.555985133799549, 1.7586914738317534, 2.2400427850298454, 1.8501100958831578, 1.57099796435402, 1.694341034319552, 1.8087661661584316, 1.7396423894236581, 1.6484051614135657, 1.6140320746130823, 2.8214290574697647, 2.034329606997369, 2.9180324719849766, 1.8624969761791943, 2.326986159344509, 1.8166539221429532, 1.2117013223238564, 1.2116065225091954, 1.1976986330801775, 0.7720455959598599, 0.772038563860932, 0.7720384748470215, 0.7720337571097661, 0.7720306416228992, 0.7720105244791308, 0.7688042434236456, 0.7326353992061784, 0.728760000585616, 0.7274399688001546, 0.7208791540212801, 1.7865700688458903, 0.6904340377685346, 0.685463990583846, 0.6707512818832243, 0.6685432028198605, 0.66804690576198, 0.6649292825613328, 0.6587125510534182, 0.655426691561964, 0.6586062684443053, 1.2091782230313044, 2.0899280515387417, 1.8795796357393875, 1.1895662332048256, 4.659057861422554, 1.9356900882938406, 2.0807195624995987, 2.0094998887802915, 2.3892161402166323, 1.7479672282602612, 1.7493191715326297, 2.4192554865584555, 1.2953805401347636, 3.508685521168944, 2.7676999050484694, 2.3901892402859986, 1.3401064695944822, 3.2082945501402076, 2.553338030053398, 2.731644642580774, 1.8044413916529352, 2.6038528901672655, 2.0510832711444285, 1.8495896031039705, 2.2000758226725714, 1.960963095785108, 1.4668574713666604, 1.7537082694305715, 2.175973057901584, 1.1567723954275446, 1.1520058711936858, 1.148267182656758, 1.128117184658837, 1.1234361227012002, 2.279153749932819, 1.1097106699046657, 1.1070550902979002, 2.6456973159578214, 1.6986121161597902, 1.908548305382951, 0.6192561769236344, 0.6192557808574728, 0.6192513801223429, 0.6192504559679657, 0.6192491357474267, 0.6192434147917579, 0.6192420945712189, 0.6192418745344624, 0.6192340412259313, 0.6192346133214981, 0.619206008543154, 0.6139894651349153, 0.6137839508043506, 1.4274646057653995, 0.6136385065083085, 0.6133311151594875, 0.6127991102896382, 0.6123641416294023, 1.1769921010699227, 1.6978076617780509, 1.235264171247916, 1.7371732936911202, 1.0027492183086617, 1.0788364324540751, 1.0057364373148139, 0.9954149531412295, 1.9294963326893217, 1.0884333795958785, 0.9947876723558187, 1.6465105807514877, 1.1468765503557208, 2.1023999837358622, 2.844290522369054, 1.27482176322735, 1.01062961470571, 1.6041598421851289, 2.034017664670518, 1.5446159595546047, 2.877114373496877, 1.7065968099794164, 2.254376026887035, 1.6978632870700925, 2.3574625431864904, 1.6638434921633773, 2.3011767888167127, 2.136922518623813, 1.8754079533845882, 1.5982397972590299, 1.8328130620332241, 1.5698673777297674, 1.667136298216947, 1.618375096801617, 1.5193351444687746, 1.5643462154358392, 0.9496343787504021, 0.9271100567823998, 0.9198651192346364, 0.9148933688075707, 2.243188789213598, 0.5486100728525602, 0.5486079568539106, 0.5486055385697397, 0.5486033016568815, 0.5485981628030183, 0.5485966513754115, 0.5485890337802729, 0.5485819602990729, 0.5485823834988028, 0.5485796024720062, 0.5485777283017738, 0.5102633407537309, 0.5091940964075432, 0.5071848650041055, 0.5064296348575164, 0.5043800483369758, 0.5030075511557505, 0.5026771833094459, 0.503228007986485, 0.5006201001079753, 0.5017638880637327, 0.5016528283631816, 0.5000616276072455, 0.4990604881890224, 0.49978506658374466, 0.9170874175787735, 0.8824061392549646, 0.906557422356081, 3.116415484498244, 0.6469577603735118, 1.9942729857840982, 1.428879113928548, 1.360288110845673, 1.4152743308395908, 0.7913680783833494, 2.039361773237341, 2.9221578608148717, 2.947444407420043, 0.9932874913484532, 2.5181863919978875, 2.553094807662453, 2.0327066551988735, 0.9082879465088163, 1.620549294463207, 1.7701655132649632, 1.0218419862680441, 1.234775655861074, 0.9902755788706333, 0.9103904027670443, 0.9008925312285153, 1.3087578607604669, 1.1080089577912093, 1.498357627302163, 1.4432475911586926, 1.168362317674144, 1.3221157370355696, 1.1775170951459188, 0.9578732915495322, 0.955866176144744, 0.9627891191551446, 0.952068804968198, 0.9514427716534422], \"Total\": [39.0, 9.0, 18.0, 32.0, 8.0, 44.0, 39.0, 33.0, 45.0, 17.0, 15.0, 25.0, 40.0, 30.0, 4.0, 30.0, 47.0, 25.0, 31.0, 31.0, 16.0, 41.0, 15.0, 4.0, 4.0, 21.0, 3.0, 21.0, 42.0, 9.0, 7.793319698529325, 3.426680089610911, 6.856332333039607, 5.062386455686781, 5.99085166453734, 5.1309995460343565, 5.099540523083073, 4.212403345626767, 2.5165697342105644, 4.190996524670471, 2.5175281002632386, 5.102951424859767, 3.326318300539158, 2.5079121065348344, 2.492182965774613, 3.327760832935541, 2.508436126969035, 4.216776131454828, 3.332657611124105, 4.199839145928871, 3.295755976506644, 3.3569972869572338, 2.4941623189766196, 2.49228988441807, 2.4830863378365087, 2.4920834445499063, 3.289961556444417, 2.516808964004305, 2.5160701181953935, 6.850870818041972, 5.972796742585913, 6.654458240712619, 3.3406977206277544, 30.535250346033543, 3.2762109663056584, 5.167178020800171, 13.557001327308267, 4.806281597091541, 7.501448805268037, 23.570731302543166, 8.995281967963342, 40.12190108263701, 42.307382465914486, 6.025228261606438, 40.95902308761448, 11.518305682721904, 32.916964555592386, 21.05816242902615, 9.156822866778487, 45.70580676484264, 39.69310306240141, 47.274984601958465, 44.73110835237236, 33.13441512973565, 14.59985554741376, 31.658142739753707, 44.307375107533055, 13.038106408916791, 39.68938390598122, 41.610164930108816, 12.316897009064935, 21.74520025519847, 27.968478985229353, 18.71911541754994, 41.06461789443628, 25.602892508284388, 27.18939051356638, 17.812707474851404, 19.13223293450642, 6.052614744176017, 6.037566411868154, 6.036722728837668, 4.265992067516185, 4.251535997723916, 12.687225833701111, 3.3837944550673953, 2.5119636136979198, 2.511929671065208, 2.5119203909125294, 3.3590842512401835, 3.3701614875939727, 3.3649101516575746, 3.3700850428155795, 3.367815909733272, 2.5023515446346467, 2.4816435294657664, 2.4758271200518265, 3.355833602403824, 3.358919329916721, 3.3519489583781383, 15.031235007423025, 2.4943969249460616, 2.5077606228445974, 2.4678102937397437, 2.4917390743356176, 2.507120258537013, 2.4960646583300665, 2.486899859732113, 2.4892211484368136, 6.067156847866179, 5.842668876891007, 4.831147917033337, 9.486799198241824, 14.64087650701402, 4.765854297086415, 5.17997100561825, 7.944488231034622, 27.968478985229353, 6.072735291105701, 41.06461789443628, 9.495087253740758, 12.106914278504293, 41.610164930108816, 16.194295127400174, 31.06577567222129, 5.096009255179496, 7.463535822281177, 44.73110835237236, 5.672621543818194, 8.089196236055741, 17.679108235459786, 44.307375107533055, 11.791057557830857, 40.95902308761448, 10.960735279646386, 47.274984601958465, 25.306249313490333, 42.307382465914486, 45.70580676484264, 39.68938390598122, 12.215761129340525, 17.812707474851404, 27.18939051356638, 30.90582038491173, 39.69310306240141, 31.658142739753707, 40.12190108263701, 33.13441512973565, 4.122772602537004, 2.40998619512415, 2.4083086542414063, 2.416973127102158, 5.38533302953791, 2.4083539184561733, 6.022326484705388, 3.1131990614546576, 2.384547818200226, 2.3682273388704607, 1.5669554375415236, 1.5669472987598234, 1.566944650880089, 1.5669438083691885, 1.566940121894799, 1.5669385361051826, 1.5669358633365431, 1.566932934267348, 1.566929031989103, 1.5669274110929414, 1.566919644373017, 1.5669230062516777, 1.5669718010729403, 1.5669711501180306, 1.5669647824508497, 1.5669478860189383, 1.566948815196858, 1.5669422016642702, 1.5669474201060782, 1.5669570728265867, 3.0439024136028943, 5.847603370729353, 3.0083744305830606, 2.331108321412377, 3.0051204958714486, 3.1336632143119005, 2.987582990507943, 9.395900890386988, 5.0709366741701585, 3.2267435521788337, 2.3140097733081224, 2.9277001245416874, 2.278263479408399, 2.288356371511062, 9.34002692370736, 11.623736467318178, 17.76473073909261, 30.90582038491173, 21.74520025519847, 3.274542061755209, 10.386982374078936, 31.06577567222129, 44.307375107533055, 9.802906017233978, 33.13441512973565, 47.274984601958465, 45.70580676484264, 31.658142739753707, 12.655114216865782, 10.597003657876348, 23.570731302543166, 39.68938390598122, 14.808410825735448, 17.812707474851404, 19.13223293450642, 41.06461789443628, 42.307382465914486, 32.916964555592386, 12.350124359668278, 25.602892508284388, 40.12190108263701, 27.18939051356638, 15.941858342443052, 44.73110835237236, 40.95902308761448, 8.539461251850483, 2.1354403687295704, 2.1295033706995627, 2.1228326495629797, 2.148746162358334, 1.4084948321115593, 1.4097847903984002, 1.4100484865552936, 1.4101310139270622, 1.4155571531064053, 1.4160288033362987, 1.416061454976606, 1.4168496110212392, 1.4169417949308707, 1.4178784211020634, 1.4180413687673439, 1.4181582483139326, 1.4202466700912562, 3.4365057025618913, 1.405067830603263, 2.9848805137531915, 1.4013153860282384, 1.400856262987384, 1.4046562450661397, 1.4065123302559879, 1.4047592142066636, 1.4033807725964573, 1.4050044360243572, 1.4049111918006942, 1.4029928242175669, 2.6653587645973027, 2.789938019685929, 2.8109252590826914, 3.0113249129974773, 2.9800014672197745, 17.83108995898324, 11.988095738348076, 9.64439218700401, 5.116504805877154, 33.13441512973565, 27.18939051356638, 7.791636693581477, 44.73110835237236, 7.700920811173639, 25.602892508284388, 40.95902308761448, 14.346275598403802, 6.851813376748324, 39.68938390598122, 40.12190108263701, 12.430147058543533, 13.347903841596569, 7.874702978855738, 47.274984601958465, 30.535250346033543, 44.307375107533055, 45.70580676484264, 31.658142739753707, 41.06461789443628, 41.610164930108816, 16.708104555973694, 39.69310306240141, 20.985421634649892, 30.90582038491173, 11.665080053316983, 25.306249313490333, 32.916964555592386, 42.307382465914486, 27.968478985229353, 31.06577567222129, 2.435701931927929, 1.836887720341805, 2.4810368273645516, 2.4636589120082855, 2.533199291628215, 1.8332788187269082, 1.8639468897444043, 1.862811221153063, 1.8647726868193155, 1.909916126847319, 9.098311655193552, 3.646409649630534, 1.272249777852433, 1.2722488692590506, 1.2722468722134543, 1.2722466689058616, 1.2722464204008677, 1.2722469111073897, 1.27224703187055, 1.2722429396641004, 1.272244532445528, 1.272241422871702, 1.2722401133908083, 1.2722377822553432, 1.27223919063371, 1.272202076728556, 1.2722362401029947, 1.278606495423105, 1.2789467679526398, 1.2791263453025656, 4.954200693513133, 5.091288334153462, 3.2781171125229913, 39.69310306240141, 2.7948748461950674, 4.31247111985743, 3.422155909298465, 2.742239053563439, 15.373287417596071, 5.518564908617718, 42.307382465914486, 2.819479448440795, 25.306249313490333, 11.439935664280856, 8.501363244441382, 9.093043003183638, 8.664012914500654, 4.143154754422952, 7.766640000683794, 9.758612305064986, 41.610164930108816, 20.985421634649892, 17.83108995898324, 14.311676155097528, 11.173656622755484, 40.12190108263701, 30.90582038491173, 40.95902308761448, 11.988095738348076, 39.68938390598122, 21.74520025519847, 9.866715437964732, 17.76473073909261, 33.13441512973565, 31.658142739753707, 45.70580676484264, 47.274984601958465, 3.455900011691988, 2.7447325240407032, 4.2363211248646335, 2.829130230921521, 3.5774745684481717, 2.840745302536593, 2.1233463447373793, 2.130804333808037, 2.1428676603011825, 1.3939493518396426, 1.3939435207653164, 1.3939440042417097, 1.393940438640749, 1.3939371214411065, 1.3939200686631081, 1.3949376365571444, 1.386133531181834, 1.3853606967416379, 1.385099050296123, 1.3837972963000336, 3.5257548072413467, 1.4079946270038612, 1.4103657256113002, 1.4166452554027948, 1.4190436400165682, 1.4189364926916956, 1.4200972921608184, 1.4204491232352754, 1.4143357933853564, 1.4212485594964215, 2.6876396829983125, 5.104662040352923, 5.454210684670336, 3.0398253254666123, 18.71911541754994, 7.596472278533, 9.369836951471195, 9.111818585894154, 12.463176699753866, 7.628630456630259, 7.858157335771295, 15.373287417596071, 4.6122908890487455, 39.69310306240141, 25.602892508284388, 19.13223293450642, 5.0196656864893825, 39.68938390598122, 27.18939051356638, 32.916964555592386, 12.430147058543533, 44.307375107533055, 21.74520025519847, 17.679108235459786, 41.610164930108816, 30.90582038491173, 8.501363244441382, 40.95902308761448, 2.971376785572044, 1.8089575062272787, 1.8090510762176282, 1.8225984582454, 1.8357498147864295, 1.8381585657871853, 3.792645878237435, 1.8469227232672607, 1.8483019285210722, 4.436786214295061, 3.0686161056605017, 3.8325156312952195, 1.2581330520588971, 1.2581325716042249, 1.258129299962627, 1.2581285620281382, 1.2581267622796215, 1.2581227769785175, 1.2581210102556857, 1.2581210939424203, 1.2581137989118223, 1.2581218123854956, 1.2580909015866468, 1.2582579969636547, 1.258261353158268, 2.92640328774813, 1.25827514378946, 1.2582760720117618, 1.2582899948097974, 1.2582907565278152, 2.5161351505400917, 3.827349180210756, 2.9331163987813365, 4.639809165793617, 2.386896898710581, 2.7259793461016475, 2.6884533959546397, 2.7387338286933454, 8.664012914500654, 3.381150179254907, 3.165586254414666, 8.756480158163571, 4.376380986855497, 15.373287417596071, 31.06577567222129, 5.734695101170204, 3.5078751481916783, 9.395900890386988, 15.941858342443052, 8.841142834341177, 40.12190108263701, 11.533743225670753, 25.602892508284388, 11.935184017335464, 30.90582038491173, 13.347903841596569, 47.274984601958465, 44.307375107533055, 25.306249313490333, 17.76473073909261, 44.73110835237236, 16.85554202920746, 40.95902308761448, 45.70580676484264, 27.968478985229353, 39.68938390598122, 1.726619069798954, 1.7307318684886748, 1.733886210421057, 1.7861699939245286, 4.840983023352399, 1.1953491075235618, 1.195347375771062, 1.1953476753867087, 1.195345995283219, 1.1953416911348658, 1.195350089751136, 1.1953445973033667, 1.1953296382111591, 1.1953405778931832, 1.1953385388719262, 1.19533950124482, 1.213955797492735, 1.2124472076786406, 1.2154520496026793, 1.2157624360284516, 1.21464775602725, 1.2152374278020583, 1.2164892365962565, 1.217913703312918, 1.2162714556716119, 1.2192536669753875, 1.2195674467345936, 1.2192014445789159, 1.2170370500503997, 1.2188245244296017, 2.281041491295041, 2.6124595773309593, 3.450189515783269, 32.916964555592386, 1.9592054852878347, 16.85554202920746, 9.058102297820593, 8.460392036082528, 9.156822866778487, 2.9331163987813365, 21.05816242902615, 44.73110835237236, 45.70580676484264, 4.963866389208588, 39.68938390598122, 47.274984601958465, 31.658142739753707, 4.822888186229453, 25.306249313490333, 39.69310306240141, 8.183052074272466, 14.808410825735448, 7.505843413950608, 5.855643769097192, 6.022326484705388, 20.985421634649892, 13.038106408916791, 44.307375107533055, 41.06461789443628, 16.708104555973694, 31.06577567222129, 30.535250346033543, 10.463668501015448, 10.000830214901805, 17.679108235459786, 40.12190108263701, 41.610164930108816], \"Category\": [\"Default\", \"Default\", \"Default\", \"Default\", \"Default\", \"Default\", \"Default\", \"Default\", \"Default\", \"Default\", \"Default\", \"Default\", \"Default\", \"Default\", \"Default\", \"Default\", \"Default\", \"Default\", \"Default\", \"Default\", \"Default\", \"Default\", \"Default\", \"Default\", \"Default\", \"Default\", \"Default\", \"Default\", \"Default\", \"Default\", \"Topic1\", \"Topic1\", \"Topic1\", \"Topic1\", \"Topic1\", \"Topic1\", \"Topic1\", \"Topic1\", \"Topic1\", \"Topic1\", \"Topic1\", \"Topic1\", \"Topic1\", \"Topic1\", \"Topic1\", \"Topic1\", \"Topic1\", \"Topic1\", \"Topic1\", \"Topic1\", \"Topic1\", \"Topic1\", \"Topic1\", \"Topic1\", \"Topic1\", \"Topic1\", \"Topic1\", \"Topic1\", \"Topic1\", \"Topic1\", \"Topic1\", \"Topic1\", \"Topic1\", \"Topic1\", \"Topic1\", \"Topic1\", \"Topic1\", \"Topic1\", \"Topic1\", \"Topic1\", \"Topic1\", \"Topic1\", \"Topic1\", \"Topic1\", \"Topic1\", \"Topic1\", \"Topic1\", \"Topic1\", \"Topic1\", \"Topic1\", \"Topic1\", \"Topic1\", \"Topic1\", \"Topic1\", \"Topic1\", \"Topic1\", \"Topic1\", \"Topic1\", \"Topic1\", \"Topic1\", \"Topic1\", \"Topic1\", \"Topic1\", \"Topic1\", \"Topic1\", \"Topic1\", \"Topic1\", \"Topic1\", \"Topic1\", \"Topic2\", \"Topic2\", \"Topic2\", \"Topic2\", \"Topic2\", \"Topic2\", \"Topic2\", \"Topic2\", \"Topic2\", \"Topic2\", \"Topic2\", \"Topic2\", \"Topic2\", \"Topic2\", \"Topic2\", \"Topic2\", \"Topic2\", \"Topic2\", \"Topic2\", \"Topic2\", \"Topic2\", \"Topic2\", \"Topic2\", \"Topic2\", \"Topic2\", \"Topic2\", \"Topic2\", \"Topic2\", \"Topic2\", \"Topic2\", \"Topic2\", \"Topic2\", \"Topic2\", \"Topic2\", \"Topic2\", \"Topic2\", \"Topic2\", \"Topic2\", \"Topic2\", \"Topic2\", \"Topic2\", \"Topic2\", \"Topic2\", \"Topic2\", \"Topic2\", \"Topic2\", \"Topic2\", \"Topic2\", \"Topic2\", \"Topic2\", \"Topic2\", \"Topic2\", \"Topic2\", \"Topic2\", \"Topic2\", \"Topic2\", \"Topic2\", \"Topic2\", \"Topic2\", \"Topic2\", \"Topic2\", \"Topic2\", \"Topic2\", \"Topic2\", \"Topic2\", \"Topic2\", \"Topic2\", \"Topic2\", \"Topic2\", \"Topic3\", \"Topic3\", \"Topic3\", \"Topic3\", \"Topic3\", \"Topic3\", \"Topic3\", \"Topic3\", \"Topic3\", \"Topic3\", \"Topic3\", \"Topic3\", \"Topic3\", \"Topic3\", \"Topic3\", \"Topic3\", \"Topic3\", \"Topic3\", \"Topic3\", \"Topic3\", \"Topic3\", \"Topic3\", \"Topic3\", \"Topic3\", \"Topic3\", \"Topic3\", \"Topic3\", \"Topic3\", \"Topic3\", \"Topic3\", \"Topic3\", \"Topic3\", \"Topic3\", \"Topic3\", \"Topic3\", \"Topic3\", \"Topic3\", \"Topic3\", \"Topic3\", \"Topic3\", \"Topic3\", \"Topic3\", \"Topic3\", \"Topic3\", \"Topic3\", \"Topic3\", \"Topic3\", \"Topic3\", \"Topic3\", \"Topic3\", \"Topic3\", \"Topic3\", \"Topic3\", \"Topic3\", \"Topic3\", \"Topic3\", \"Topic3\", \"Topic3\", \"Topic3\", \"Topic3\", \"Topic3\", \"Topic3\", \"Topic3\", \"Topic3\", \"Topic3\", \"Topic3\", \"Topic3\", \"Topic3\", \"Topic3\", \"Topic3\", \"Topic3\", \"Topic3\", \"Topic3\", \"Topic3\", \"Topic3\", \"Topic4\", \"Topic4\", \"Topic4\", \"Topic4\", \"Topic4\", \"Topic4\", \"Topic4\", \"Topic4\", \"Topic4\", \"Topic4\", \"Topic4\", \"Topic4\", \"Topic4\", \"Topic4\", \"Topic4\", \"Topic4\", \"Topic4\", \"Topic4\", \"Topic4\", \"Topic4\", \"Topic4\", \"Topic4\", \"Topic4\", \"Topic4\", \"Topic4\", \"Topic4\", \"Topic4\", \"Topic4\", \"Topic4\", \"Topic4\", \"Topic4\", \"Topic4\", \"Topic4\", \"Topic4\", \"Topic4\", \"Topic4\", \"Topic4\", \"Topic4\", \"Topic4\", \"Topic4\", \"Topic4\", \"Topic4\", \"Topic4\", \"Topic4\", \"Topic4\", \"Topic4\", \"Topic4\", \"Topic4\", \"Topic4\", \"Topic4\", \"Topic4\", \"Topic4\", \"Topic4\", \"Topic4\", \"Topic4\", \"Topic4\", \"Topic4\", \"Topic4\", \"Topic4\", \"Topic4\", \"Topic4\", \"Topic4\", \"Topic4\", \"Topic4\", \"Topic4\", \"Topic4\", \"Topic4\", \"Topic4\", \"Topic4\", \"Topic4\", \"Topic5\", \"Topic5\", \"Topic5\", \"Topic5\", \"Topic5\", \"Topic5\", \"Topic5\", \"Topic5\", \"Topic5\", \"Topic5\", \"Topic5\", \"Topic5\", \"Topic5\", \"Topic5\", \"Topic5\", \"Topic5\", \"Topic5\", \"Topic5\", \"Topic5\", \"Topic5\", \"Topic5\", \"Topic5\", \"Topic5\", \"Topic5\", \"Topic5\", \"Topic5\", \"Topic5\", \"Topic5\", \"Topic5\", \"Topic5\", \"Topic5\", \"Topic5\", \"Topic5\", \"Topic5\", \"Topic5\", \"Topic5\", \"Topic5\", \"Topic5\", \"Topic5\", \"Topic5\", \"Topic5\", \"Topic5\", \"Topic5\", \"Topic5\", \"Topic5\", \"Topic5\", \"Topic5\", \"Topic5\", \"Topic5\", \"Topic5\", \"Topic5\", \"Topic5\", \"Topic5\", \"Topic5\", \"Topic5\", \"Topic5\", \"Topic5\", \"Topic5\", \"Topic5\", \"Topic5\", \"Topic5\", \"Topic5\", \"Topic5\", \"Topic5\", \"Topic5\", \"Topic5\", \"Topic5\", \"Topic6\", \"Topic6\", \"Topic6\", \"Topic6\", \"Topic6\", \"Topic6\", \"Topic6\", \"Topic6\", \"Topic6\", \"Topic6\", \"Topic6\", \"Topic6\", \"Topic6\", \"Topic6\", \"Topic6\", \"Topic6\", \"Topic6\", \"Topic6\", \"Topic6\", \"Topic6\", \"Topic6\", \"Topic6\", \"Topic6\", \"Topic6\", \"Topic6\", \"Topic6\", \"Topic6\", \"Topic6\", \"Topic6\", \"Topic6\", \"Topic6\", \"Topic6\", \"Topic6\", \"Topic6\", \"Topic6\", \"Topic6\", \"Topic6\", \"Topic6\", \"Topic6\", \"Topic6\", \"Topic6\", \"Topic6\", \"Topic6\", \"Topic6\", \"Topic6\", \"Topic6\", \"Topic6\", \"Topic6\", \"Topic6\", \"Topic6\", \"Topic6\", \"Topic6\", \"Topic6\", \"Topic6\", \"Topic6\", \"Topic6\", \"Topic6\", \"Topic6\", \"Topic7\", \"Topic7\", \"Topic7\", \"Topic7\", \"Topic7\", \"Topic7\", \"Topic7\", \"Topic7\", \"Topic7\", \"Topic7\", \"Topic7\", \"Topic7\", \"Topic7\", \"Topic7\", \"Topic7\", \"Topic7\", \"Topic7\", \"Topic7\", \"Topic7\", \"Topic7\", \"Topic7\", \"Topic7\", \"Topic7\", \"Topic7\", \"Topic7\", \"Topic7\", \"Topic7\", \"Topic7\", \"Topic7\", \"Topic7\", \"Topic7\", \"Topic7\", \"Topic7\", \"Topic7\", \"Topic7\", \"Topic7\", \"Topic7\", \"Topic7\", \"Topic7\", \"Topic7\", \"Topic7\", \"Topic7\", \"Topic7\", \"Topic7\", \"Topic7\", \"Topic7\", \"Topic7\", \"Topic7\", \"Topic7\", \"Topic7\", \"Topic7\", \"Topic7\", \"Topic7\", \"Topic7\", \"Topic7\", \"Topic7\", \"Topic7\", \"Topic7\", \"Topic7\", \"Topic7\", \"Topic7\", \"Topic7\", \"Topic7\", \"Topic7\", \"Topic7\", \"Topic7\", \"Topic8\", \"Topic8\", \"Topic8\", \"Topic8\", \"Topic8\", \"Topic8\", \"Topic8\", \"Topic8\", \"Topic8\", \"Topic8\", \"Topic8\", \"Topic8\", \"Topic8\", \"Topic8\", \"Topic8\", \"Topic8\", \"Topic8\", \"Topic8\", \"Topic8\", \"Topic8\", \"Topic8\", \"Topic8\", \"Topic8\", \"Topic8\", \"Topic8\", \"Topic8\", \"Topic8\", \"Topic8\", \"Topic8\", \"Topic8\", \"Topic8\", \"Topic8\", \"Topic8\", \"Topic8\", \"Topic8\", \"Topic8\", \"Topic8\", \"Topic8\", \"Topic8\", \"Topic8\", \"Topic8\", \"Topic8\", \"Topic8\", \"Topic8\", \"Topic8\", \"Topic8\", \"Topic8\", \"Topic8\", \"Topic8\", \"Topic8\", \"Topic8\", \"Topic8\", \"Topic8\", \"Topic8\", \"Topic8\", \"Topic8\", \"Topic8\", \"Topic8\", \"Topic8\", \"Topic8\", \"Topic8\", \"Topic8\", \"Topic8\", \"Topic8\", \"Topic8\", \"Topic8\", \"Topic8\"], \"logprob\": [30.0, 29.0, 28.0, 27.0, 26.0, 25.0, 24.0, 23.0, 22.0, 21.0, 20.0, 19.0, 18.0, 17.0, 16.0, 15.0, 14.0, 13.0, 12.0, 11.0, 10.0, 9.0, 8.0, 7.0, 6.0, 5.0, 4.0, 3.0, 2.0, 1.0, -5.4253, -6.2899, -5.6186, -5.9385, -5.7898, -5.9454, -5.9539, -6.1467, -6.676, -6.1747, -6.7114, -6.0089, -6.4411, -6.7311, -6.7381, -6.4492, -6.734, -6.225, -6.4622, -6.2334, -6.478, -6.4601, -6.7597, -6.7627, -6.7668, -6.7649, -6.4876, -6.7557, -6.7631, -5.762, -5.9023, -5.8143, -6.4841, -4.4298, -6.5114, -6.0977, -5.2817, -6.1788, -5.8023, -4.8587, -5.6595, -4.4279, -4.3877, -5.9987, -4.5725, -5.5348, -4.7573, -5.0977, -5.7072, -4.5412, -4.6892, -4.5768, -4.6966, -4.8935, -5.4563, -5.0411, -4.8773, -5.5426, -5.0055, -5.0794, -5.6032, -5.4291, -5.3416, -5.4975, -5.2875, -5.4698, -5.5088, -5.6016, -5.6002, -5.552, -5.5802, -5.587, -5.9696, -5.9792, -4.8997, -6.2236, -6.537, -6.537, -6.537, -6.2467, -6.2472, -6.2489, -6.2536, -6.2563, -6.5608, -6.572, -6.5789, -6.2756, -6.2763, -6.2789, -4.7791, -6.5789, -6.5839, -6.6039, -6.5943, -6.5909, -6.5956, -6.6089, -6.613, -5.7476, -5.7856, -5.9709, -5.3532, -4.9545, -6.0132, -5.945, -5.5802, -4.5204, -5.8207, -4.2358, -5.4704, -5.2823, -4.3153, -5.1608, -4.7997, -6.0037, -5.7589, -4.6136, -5.9364, -5.7381, -5.3019, -4.8475, -5.5554, -4.9095, -5.5991, -4.903, -5.2371, -5.0494, -5.03, -5.0985, -5.5815, -5.4492, -5.37, -5.3577, -5.3162, -5.5273, -5.5306, -5.5406, -5.4832, -6.1382, -6.141, -6.14, -5.3976, -6.2206, -5.3363, -6.002, -6.3085, -6.334, -6.7478, -6.7478, -6.7478, -6.7478, -6.7478, -6.7478, -6.7479, -6.7479, -6.7479, -6.7479, -6.7479, -6.7479, -6.748, -6.748, -6.748, -6.7481, -6.7481, -6.7481, -6.7481, -6.7481, -6.0853, -5.4772, -6.1188, -6.3729, -6.1498, -6.112, -6.1722, -5.167, -5.7233, -6.1253, -6.4167, -6.2204, -6.442, -6.4395, -5.3494, -5.1996, -4.8893, -4.4741, -4.784, -6.1971, -5.4077, -4.6783, -4.452, -5.4759, -4.7417, -4.5376, -4.5655, -4.8358, -5.3602, -5.4611, -5.0375, -4.7962, -5.3141, -5.226, -5.2217, -4.8792, -4.892, -5.0164, -5.4359, -5.1795, -5.1023, -5.2421, -5.4102, -5.3096, -5.3684, -4.479, -5.9344, -5.9616, -6.0662, -6.0719, -6.501, -6.5081, -6.5097, -6.5101, -6.5325, -6.5347, -6.5349, -6.5385, -6.5389, -6.5433, -6.544, -6.5446, -6.5543, -5.6713, -6.6215, -5.8812, -6.6389, -6.6393, -6.637, -6.6411, -6.644, -6.6488, -6.6501, -6.6512, -6.654, -6.0188, -6.0009, -6.0579, -6.0202, -6.0469, -4.6516, -5.0052, -5.212, -5.6909, -4.3731, -4.6287, -5.4712, -4.4258, -5.5244, -4.8145, -4.5716, -5.1888, -5.6221, -4.6259, -4.637, -5.297, -5.2632, -5.5581, -4.5948, -4.8439, -4.6532, -4.647, -4.8504, -4.8027, -4.809, -5.2122, -4.9058, -5.1999, -5.075, -5.4748, -5.2791, -5.2582, -5.282, -5.3447, -5.3379, -5.4729, -5.7789, -5.4925, -5.5331, -5.5571, -5.8851, -5.8749, -5.8816, -5.8958, -5.9416, -4.3887, -5.3233, -6.4149, -6.4149, -6.4149, -6.4149, -6.4149, -6.4149, -6.4149, -6.4149, -6.4149, -6.4149, -6.4149, -6.4149, -6.415, -6.415, -6.415, -6.4318, -6.4327, -6.4332, -5.1767, -5.4583, -5.7743, -4.2093, -5.9085, -5.6359, -5.7906, -5.9487, -4.9944, -5.594, -4.5209, -5.9837, -4.8301, -5.2578, -5.4267, -5.3939, -5.4615, -5.832, -5.5246, -5.4298, -4.8093, -5.1149, -5.188, -5.2839, -5.3844, -4.9707, -5.0945, -5.0225, -5.3964, -5.1545, -5.3457, -5.5093, -5.4337, -5.3683, -5.4073, -5.4612, -5.4822, -4.909, -5.2361, -4.8753, -5.3243, -5.1017, -5.3492, -5.7542, -5.7543, -5.7658, -6.2049, -6.205, -6.205, -6.205, -6.205, -6.205, -6.2092, -6.2573, -6.2626, -6.2645, -6.2735, -5.3659, -6.3167, -6.3239, -6.3456, -6.3489, -6.3496, -6.3543, -6.3637, -6.3687, -6.3639, -5.7563, -5.2091, -5.3152, -5.7726, -4.4074, -5.2858, -5.2135, -5.2484, -5.0753, -5.3878, -5.387, -5.0628, -5.6874, -4.691, -4.9282, -5.0749, -5.6535, -4.7805, -5.0088, -4.9413, -5.356, -4.9892, -5.2279, -5.3313, -5.1577, -5.2728, -5.5631, -5.3845, -5.1575, -5.7893, -5.7934, -5.7967, -5.8144, -5.8186, -5.1111, -5.8308, -5.8332, -4.962, -5.4051, -5.2886, -6.4142, -6.4142, -6.4142, -6.4142, -6.4142, -6.4142, -6.4142, -6.4142, -6.4142, -6.4142, -6.4143, -6.4227, -6.4231, -5.579, -6.4233, -6.4238, -6.4247, -6.4254, -5.772, -5.4056, -5.7237, -5.3827, -5.9322, -5.8591, -5.9292, -5.9395, -5.2777, -5.8502, -5.9402, -5.4363, -5.7979, -5.1919, -4.8896, -5.6921, -5.9244, -5.4623, -5.2249, -5.5002, -4.8782, -5.4004, -5.1221, -5.4056, -5.0774, -5.4258, -5.1015, -5.1756, -5.3061, -5.466, -5.3291, -5.484, -5.4238, -5.4535, -5.5167, -5.4875, -5.6111, -5.6351, -5.6429, -5.6483, -4.7515, -6.1597, -6.1597, -6.1598, -6.1598, -6.1598, -6.1598, -6.1598, -6.1598, -6.1598, -6.1598, -6.1598, -6.2322, -6.2343, -6.2383, -6.2397, -6.2438, -6.2465, -6.2472, -6.2461, -6.2513, -6.249, -6.2492, -6.2524, -6.2544, -6.253, -5.6459, -5.6845, -5.6575, -4.4227, -5.9949, -4.8691, -5.2025, -5.2517, -5.2121, -5.7934, -4.8467, -4.4871, -4.4784, -5.5661, -4.6358, -4.6221, -4.85, -5.6556, -5.0766, -4.9883, -5.5378, -5.3485, -5.5692, -5.6533, -5.6637, -5.2903, -5.4568, -5.155, -5.1925, -5.4038, -5.2801, -5.396, -5.6024, -5.6045, -5.5973, -5.6085, -5.6092], \"loglift\": [30.0, 29.0, 28.0, 27.0, 26.0, 25.0, 24.0, 23.0, 22.0, 21.0, 20.0, 19.0, 18.0, 17.0, 16.0, 15.0, 14.0, 13.0, 12.0, 11.0, 10.0, 9.0, 8.0, 7.0, 6.0, 5.0, 4.0, 3.0, 2.0, 1.0, 1.1505, 1.1076, 1.0854, 1.0687, 1.049, 1.0484, 1.046, 1.0443, 1.0302, 1.0214, 0.9945, 0.9904, 0.9861, 0.9786, 0.9779, 0.9776, 0.9755, 0.965, 0.9631, 0.9606, 0.9585, 0.958, 0.9555, 0.9532, 0.9528, 0.9511, 0.9506, 0.9504, 0.9433, 0.9427, 0.9396, 0.9195, 0.9388, 0.7804, 0.931, 0.8891, 0.7405, 0.8803, 0.8117, 0.6104, 0.7729, 0.5092, 0.4964, 0.8344, 0.344, 0.6503, 0.3779, 0.4841, 0.7073, 0.2656, 0.2587, 0.1963, 0.1319, 0.235, 0.4917, 0.133, -0.0393, 0.5186, -0.0575, -0.1787, 0.5149, 0.1206, -0.0436, 0.202, -0.3735, -0.0834, -0.1825, 0.1476, 0.0775, 1.2767, 1.2509, 1.2443, 1.2088, 1.2026, 1.1888, 1.1865, 1.171, 1.171, 1.171, 1.1708, 1.167, 1.1668, 1.1606, 1.1585, 1.1511, 1.1482, 1.1436, 1.1428, 1.1411, 1.1407, 1.1399, 1.1362, 1.1258, 1.1218, 1.1218, 1.1191, 1.1188, 1.1092, 1.1041, 1.0786, 1.0783, 1.0831, 1.026, 0.9908, 1.0544, 1.0392, 0.9764, 0.7777, 1.0046, 0.6782, 0.9079, 0.853, 0.5854, 0.6836, 0.3933, 0.9969, 0.8601, 0.2148, 0.9571, 0.8005, 0.4548, -0.0096, 0.6064, 0.007, 0.6357, -0.1298, 0.1609, -0.1652, -0.2231, -0.1505, 0.5449, 0.3, -0.0438, -0.1596, -0.3682, -0.3532, -0.5934, -0.412, 1.7294, 1.6112, 1.6092, 1.6066, 1.5478, 1.5296, 1.4973, 1.4914, 1.4516, 1.4329, 1.4321, 1.4321, 1.4321, 1.4321, 1.4321, 1.4321, 1.4321, 1.4321, 1.4321, 1.4321, 1.4321, 1.4321, 1.4319, 1.4319, 1.4319, 1.4319, 1.4319, 1.4319, 1.4319, 1.4319, 1.4307, 1.3859, 1.4088, 1.4098, 1.379, 1.3749, 1.3624, 1.2218, 1.2823, 1.3323, 1.3734, 1.3345, 1.3637, 1.3618, 1.0454, 0.9765, 0.8626, 0.7241, 0.7657, 1.2458, 0.8809, 0.5147, 0.386, 0.8706, 0.3868, 0.2355, 0.2414, 0.3383, 0.7308, 0.8074, 0.4316, 0.1518, 0.6198, 0.5232, 0.4561, 0.0348, -0.0079, 0.1187, 0.6795, 0.2069, -0.1651, 0.0842, 0.4499, -0.4812, -0.4519, 2.0054, 1.936, 1.9116, 1.8101, 1.7923, 1.7856, 1.7775, 1.7758, 1.7753, 1.7491, 1.7465, 1.7464, 1.7422, 1.7417, 1.7367, 1.7358, 1.7352, 1.724, 1.7233, 1.6675, 1.6544, 1.6528, 1.6527, 1.6523, 1.6469, 1.6452, 1.6414, 1.6389, 1.6379, 1.6365, 1.6299, 1.6021, 1.5376, 1.5065, 1.4903, 1.0965, 1.14, 1.1507, 1.3058, 0.7554, 0.6975, 1.1048, 0.4027, 1.0634, 0.5719, 0.3449, 0.7768, 1.0825, 0.3221, 0.3002, 0.8119, 0.7746, 1.0074, 0.1784, 0.3663, 0.1848, 0.1598, 0.3237, 0.1113, 0.0917, 0.601, 0.0421, 0.3853, 0.1231, 0.6977, 0.1189, -0.1231, -0.3979, -0.0467, -0.1449, 2.266, 2.2421, 2.2279, 2.1944, 2.1425, 2.1379, 2.1315, 2.1254, 2.1102, 2.0405, 2.0323, 2.0121, 1.9734, 1.9734, 1.9734, 1.9734, 1.9734, 1.9734, 1.9734, 1.9734, 1.9734, 1.9734, 1.9734, 1.9734, 1.9733, 1.9733, 1.9733, 1.9515, 1.9503, 1.9497, 1.8522, 1.5432, 1.6675, 0.7386, 1.6928, 1.5316, 1.6082, 1.6716, 0.9021, 1.327, 0.3632, 1.6089, 0.568, 0.9342, 1.0622, 1.0277, 1.0084, 1.3756, 1.0546, 0.9211, 0.0914, 0.4703, 0.5601, 0.6841, 0.8311, -0.0335, 0.1037, -0.106, 0.7488, -0.2065, 0.204, 0.8307, 0.3182, -0.2398, -0.2332, -0.6543, -0.7091, 2.48, 2.3833, 2.3101, 2.2648, 2.2528, 2.2358, 2.1219, 2.1183, 2.1011, 2.092, 2.092, 2.092, 2.092, 2.092, 2.092, 2.0871, 2.0452, 2.0405, 2.0389, 2.0307, 2.0031, 1.9703, 1.9613, 1.9352, 1.9302, 1.9296, 1.9241, 1.9144, 1.9137, 1.9137, 1.8841, 1.7898, 1.6175, 1.7446, 1.2921, 1.3156, 1.1781, 1.1712, 1.031, 1.2094, 1.1805, 0.8337, 1.4129, 0.2569, 0.4582, 0.6029, 1.3622, 0.1675, 0.3174, 0.1938, 0.753, -0.1513, 0.3218, 0.4254, -0.257, -0.0747, 0.9258, -0.468, 2.3826, 2.247, 2.2428, 2.2321, 2.2072, 2.2018, 2.1849, 2.1847, 2.1816, 2.1771, 2.1027, 1.997, 1.9853, 1.9853, 1.9853, 1.9853, 1.9853, 1.9853, 1.9853, 1.9853, 1.9853, 1.9853, 1.9852, 1.9766, 1.9763, 1.9763, 1.9761, 1.9756, 1.9747, 1.974, 1.9344, 1.8813, 1.8294, 1.7117, 1.8269, 1.7672, 1.7109, 1.6821, 1.1922, 1.5607, 1.5366, 1.023, 1.355, 0.7046, 0.3034, 1.1904, 1.4497, 0.9265, 0.6352, 0.9495, 0.059, 0.7834, 0.2643, 0.744, 0.1208, 0.6119, -0.3284, -0.3376, 0.0919, 0.2858, -0.5007, 0.3205, -0.5073, -0.6467, -0.2187, -0.5395, 2.4719, 2.4455, 2.4358, 2.4007, 2.3005, 2.2909, 2.2909, 2.2909, 2.2909, 2.2909, 2.2909, 2.2909, 2.2909, 2.2909, 2.2909, 2.2909, 2.203, 2.2021, 2.1957, 2.194, 2.1908, 2.1876, 2.1859, 2.1859, 2.182, 2.1818, 2.1814, 2.1785, 2.1783, 2.1783, 2.1585, 1.9843, 1.7332, 0.7124, 1.9617, 0.9353, 1.2229, 1.242, 1.2025, 1.7597, 0.7351, 0.3414, 0.3284, 1.4608, 0.3122, 0.151, 0.3241, 1.4001, 0.3214, -0.0404, 0.9893, 0.5854, 1.0443, 1.2084, 1.1699, 0.295, 0.6044, -0.3171, -0.2785, 0.4094, -0.0872, -0.1858, 0.6788, 0.7219, 0.1594, -0.6713, -0.7084]}, \"token.table\": {\"Topic\": [1, 3, 6, 8, 7, 6, 1, 2, 3, 4, 5, 6, 7, 7, 6, 7, 3, 3, 1, 2, 3, 6, 7, 3, 5, 4, 1, 2, 3, 4, 5, 6, 7, 8, 8, 1, 3, 4, 5, 7, 1, 2, 3, 4, 5, 6, 7, 8, 6, 1, 2, 3, 4, 5, 6, 7, 8, 7, 6, 8, 3, 6, 7, 3, 8, 2, 4, 3, 8, 1, 2, 8, 5, 8, 5, 1, 3, 4, 6, 7, 1, 2, 3, 4, 5, 7, 8, 1, 2, 6, 7, 3, 4, 3, 2, 7, 6, 4, 8, 1, 2, 3, 4, 6, 7, 8, 1, 2, 4, 5, 6, 7, 1, 2, 3, 6, 7, 8, 1, 2, 1, 3, 4, 5, 6, 3, 5, 4, 3, 7, 2, 5, 7, 1, 1, 3, 4, 6, 1, 2, 3, 4, 5, 6, 7, 8, 5, 1, 2, 4, 6, 7, 2, 6, 1, 2, 6, 8, 3, 6, 3, 2, 4, 7, 2, 2, 6, 5, 1, 2, 6, 7, 7, 1, 2, 4, 5, 6, 7, 8, 1, 3, 6, 7, 8, 2, 1, 2, 3, 4, 6, 7, 1, 2, 2, 7, 6, 2, 4, 1, 2, 3, 5, 3, 7, 1, 1, 2, 3, 8, 1, 1, 2, 3, 4, 5, 6, 1, 3, 7, 2, 3, 1, 2, 3, 6, 1, 5, 4, 1, 2, 8, 1, 2, 4, 5, 6, 3, 4, 7, 3, 7, 5, 8, 7, 1, 3, 3, 5, 1, 1, 2, 3, 4, 5, 7, 8, 1, 2, 3, 4, 5, 8, 1, 2, 5, 6, 7, 8, 8, 1, 1, 2, 6, 1, 1, 2, 4, 5, 6, 7, 8, 5, 2, 1, 2, 3, 5, 7, 8, 3, 8, 7, 1, 2, 3, 4, 5, 7, 2, 3, 1, 2, 3, 4, 7, 3, 4, 1, 1, 2, 3, 4, 7, 8, 3, 8, 6, 7, 2, 5, 7, 3, 1, 3, 2, 6, 1, 2, 3, 4, 5, 6, 7, 8, 1, 2, 3, 4, 5, 6, 7, 8, 1, 2, 3, 4, 5, 6, 7, 1, 2, 8, 5, 8, 2, 5, 6, 1, 2, 3, 8, 2, 1, 2, 6, 7, 8, 1, 5, 8, 3, 3, 1, 7, 4, 1, 5, 6, 1, 1, 5, 2, 7, 8, 3, 1, 2, 7, 8, 2, 1, 2, 1, 2, 3, 4, 5, 8, 4, 2, 3, 5, 7, 8, 4, 1, 2, 3, 4, 6, 8, 1, 2, 5, 6, 7, 6, 1, 2, 3, 4, 6, 3, 1, 2, 3, 4, 8, 7, 7, 1, 2, 3, 4, 5, 6, 7, 8, 3, 8, 4, 5, 6, 7, 1, 2, 3, 4, 5, 6, 7, 6, 1, 2, 1, 1, 2, 3, 4, 5, 6, 7, 8, 1, 2, 3, 4, 5, 6, 7, 1, 2, 5, 7, 1, 3, 4, 7, 3, 6, 5, 3, 5, 3, 8, 1, 2, 4, 4, 2, 1, 2, 3, 4, 5, 7, 8, 6, 3, 8, 2, 3, 6, 1, 2, 6, 7, 8, 1, 3, 4, 5, 6, 5, 5, 1, 2, 3, 4, 5, 6, 7, 8, 4, 3, 7, 1, 2, 3, 4, 5, 6, 7, 8, 3, 1, 2, 3, 4, 6, 7, 1, 7, 1, 2, 4, 8, 1, 2, 6, 1, 7, 8, 1, 2, 3, 4, 5, 7, 4, 1, 1, 2, 3, 5, 6, 2, 5, 8, 7, 2, 5, 8, 6, 1, 2, 3, 4, 5, 6, 7, 8, 2, 4, 6, 7, 2, 4, 6, 7, 8, 1, 3, 4, 7, 1, 1, 2, 3, 4, 5, 6, 7, 8, 2, 7, 6, 5, 1, 2, 3, 5, 6, 1, 8, 7, 1, 2, 4, 5, 6, 8, 1, 3, 6, 8, 2, 2, 4, 8, 8, 5, 1, 2, 3, 6, 7, 3, 1, 6, 7, 5, 2, 3, 5, 7, 2, 6, 7, 7, 1, 7, 5, 6, 7, 6, 1, 4, 5, 1, 2, 3, 5, 6, 8, 1, 2, 3, 4, 5, 6, 7, 8, 1, 6, 1, 1, 2, 3, 5, 7, 8, 4, 6, 1, 4, 1, 2, 3, 4, 5, 1, 2, 3, 4, 5, 6, 7, 4, 5, 4, 1, 1, 4, 2, 6, 2, 1, 3, 1, 6, 1, 2, 3, 4, 5, 6, 7, 8, 1, 2, 3, 7, 8, 8, 1, 2, 3, 4, 6, 8, 1, 4, 6, 1, 2, 3, 4, 5, 6, 7, 8, 1, 4, 3, 4, 1, 3, 4, 6, 8, 5, 2, 6, 1, 1, 2, 3, 1, 2, 3, 4, 8, 6, 3, 5, 5, 8, 1, 1, 2, 3, 4, 5, 8, 1, 5, 3, 6, 4, 1, 1, 2, 4, 5, 8, 3, 6, 4, 6, 2, 3, 4, 5, 6, 7, 4, 1, 2, 3, 4, 5, 8, 7, 8, 5, 1, 2, 3, 4, 6, 4, 2, 4, 4, 6, 3, 1, 3, 8, 1, 2, 3, 4, 4, 1, 2, 3, 4, 5, 7, 8, 3, 4, 5, 6, 7, 1, 3, 7, 1, 2, 3, 4, 5, 6, 7, 8, 8, 1, 2, 3, 4, 5, 6, 7, 8, 1, 2, 3, 5, 1, 2, 3, 4, 5, 6, 7, 2, 7, 2, 1, 3, 4, 5, 4, 2, 2, 6, 7, 1, 2, 4, 5, 6, 1, 3, 7, 8, 5, 5, 3, 2, 3, 4, 8, 4, 7, 1, 5, 6, 3, 5, 8, 7, 7, 1, 4, 6, 4, 1, 2, 3, 4, 5, 4, 1, 1, 2, 3, 4, 5, 6, 7, 2, 1, 2, 3, 4, 5, 6, 7, 2, 5, 1, 5, 7, 7, 1, 2, 3, 6, 1, 2, 3, 4, 5, 6, 7, 2, 7, 7, 2, 2, 7, 7, 5, 2, 3, 8, 1, 2, 3, 4, 5, 7, 8, 2, 1, 2, 3, 4, 5, 6, 8, 1, 2, 3, 4, 5, 6, 7, 8, 3, 3, 6, 7, 1, 2, 3, 6, 7, 4, 2, 5, 6, 7, 2, 3, 7, 1, 4], \"Freq\": [0.7947325968407508, 0.6381909962639293, 0.7168779261473704, 0.8365808767621858, 0.794738738133513, 0.7214312167655219, 0.4109629701824583, 0.2739753134549722, 0.06849382836374306, 0.06849382836374306, 0.06849382836374306, 0.06849382836374306, 0.06849382836374306, 0.5414411698996104, 0.4666643762123177, 0.7948324683818686, 0.63818940691777, 0.8304427288170584, 0.10201056689128225, 0.3060317006738468, 0.3060317006738468, 0.10201056689128225, 0.10201056689128225, 0.4222567587100635, 0.5362583906704836, 0.4710686922051376, 0.2382606405078988, 0.19060851240631904, 0.14295638430473928, 0.14295638430473928, 0.09530425620315952, 0.09530425620315952, 0.04765212810157976, 0.04765212810157976, 0.8365830829345864, 0.18120653042214166, 0.3624130608442833, 0.18120653042214166, 0.18120653042214166, 0.18120653042214166, 0.2601915837091324, 0.1300957918545662, 0.0650478959272831, 0.0650478959272831, 0.1951436877818493, 0.1300957918545662, 0.1300957918545662, 0.0650478959272831, 0.7041771049914483, 0.3500649289995108, 0.19691152256222483, 0.19691152256222483, 0.10939529031234713, 0.04375811612493885, 0.021879058062469425, 0.04375811612493885, 0.06563717418740828, 0.5410371458088316, 0.708161612771001, 0.8228844644858018, 0.638180241787189, 0.7226491933997687, 0.7948313313767968, 0.6381764358710893, 0.8199628504987665, 0.8281482403525051, 0.7062003242052032, 0.7427581503428806, 0.18568953758572015, 0.669703017261593, 0.16742575431539825, 0.8365768982886229, 0.5364959728745952, 0.822037688387614, 0.8211185341619127, 0.20737439552645273, 0.20737439552645273, 0.3110615932896791, 0.10368719776322637, 0.10368719776322637, 0.1948149139136126, 0.4626854205448299, 0.14611118543520946, 0.0974074569568063, 0.024351864239201576, 0.024351864239201576, 0.024351864239201576, 0.07881943721248323, 0.7881943721248323, 0.07881943721248323, 0.07881943721248323, 0.6381835565187548, 0.7041030414355742, 0.6381948197478482, 0.22538836709735066, 0.676165101292052, 0.8680806706937154, 0.7118657702236529, 0.8201738711852375, 0.18873259504005893, 0.18873259504005893, 0.37746519008011786, 0.09436629752002947, 0.09436629752002947, 0.09436629752002947, 0.09436629752002947, 0.32052796652852267, 0.2671066387737689, 0.05342132775475378, 0.05342132775475378, 0.2671066387737689, 0.05342132775475378, 0.3274458265553808, 0.409307283194226, 0.0818614566388452, 0.0818614566388452, 0.0818614566388452, 0.0818614566388452, 0.7298342258669294, 0.14596684517338587, 0.3238833782972076, 0.3238833782972076, 0.0809708445743019, 0.1619416891486038, 0.0809708445743019, 0.6381849780821174, 0.7860143381771055, 0.7138491124474531, 0.26092522410979563, 0.5218504482195913, 0.3297315055466936, 0.5495525092444894, 0.10991050184889788, 0.6079098389713324, 0.11710340623459145, 0.11710340623459145, 0.7026204374075488, 0.11710340623459145, 0.3384453772902375, 0.21152836080639842, 0.19037552472575858, 0.10576418040319921, 0.04230567216127969, 0.021152836080639843, 0.04230567216127969, 0.06345850824191952, 0.7860110970933057, 0.10531762092086434, 0.6319057255251861, 0.10531762092086434, 0.10531762092086434, 0.10531762092086434, 0.6846186364969008, 0.1711546591242252, 0.5460409219163019, 0.10920818438326038, 0.10920818438326038, 0.10920818438326038, 0.6381795757787608, 0.7219700279097067, 0.6424259934941295, 0.39089184431189594, 0.39089184431189594, 0.19544592215594797, 0.8282639810695295, 0.7962006353274534, 0.7069310483273681, 0.7860175402007448, 0.12725629651723536, 0.5090251860689414, 0.2545125930344707, 0.12725629651723536, 0.7947474485248828, 0.25028175481751525, 0.5005635096350305, 0.10726360920750652, 0.035754536402502174, 0.035754536402502174, 0.07150907280500435, 0.035754536402502174, 0.20734463694498434, 0.20734463694498434, 0.20734463694498434, 0.20734463694498434, 0.20734463694498434, 0.803464168403022, 0.2621702560335379, 0.13108512801676894, 0.13108512801676894, 0.13108512801676894, 0.2621702560335379, 0.13108512801676894, 0.6010047297286464, 0.8078108458389187, 0.8260892542039173, 0.7947381518597713, 0.7173924738916208, 0.3350217857607302, 0.3350217857607302, 0.12875580687555463, 0.25751161375110926, 0.25751161375110926, 0.25751161375110926, 0.4321502923345021, 0.7947495683819488, 0.5957705142540614, 0.487135679999934, 0.243567839999967, 0.162378559999978, 0.081189279999989, 0.7901411784765345, 0.31607774781432646, 0.07901943695358161, 0.31607774781432646, 0.07901943695358161, 0.07901943695358161, 0.07901943695358161, 0.3944044519797308, 0.5916066779695962, 0.7948287983077299, 0.8901852510800774, 0.6381829389075281, 0.4301542807735039, 0.08603085615470078, 0.4301542807735039, 0.08603085615470078, 0.8346058757550858, 0.7860108728489053, 0.7064356234614227, 0.2679695050205727, 0.5359390100411454, 0.13398475251028635, 0.5067542518517572, 0.10135085037035142, 0.20270170074070284, 0.20270170074070284, 0.10135085037035142, 0.29575734498145445, 0.29575734498145445, 0.29575734498145445, 0.37196106932882544, 0.37196106932882544, 0.7817836007149546, 0.8365824093980041, 0.5486672039450157, 0.8024748695984795, 0.8274812729911937, 0.6381871253773759, 0.806114596099919, 0.7944300601017623, 0.19757965465607677, 0.27661151651850746, 0.11854779279364606, 0.11854779279364606, 0.11854779279364606, 0.0790318618624307, 0.0790318618624307, 0.48881517112374356, 0.12220379278093589, 0.12220379278093589, 0.12220379278093589, 0.12220379278093589, 0.12220379278093589, 0.3545934972286592, 0.23639566481910612, 0.11819783240955306, 0.11819783240955306, 0.11819783240955306, 0.11819783240955306, 0.8225291145420763, 0.6068410447426121, 0.32934088250631577, 0.6586817650126315, 0.7173861795482496, 0.7114439814866272, 0.2828196950551654, 0.39594757307723155, 0.05656393901103308, 0.11312787802206616, 0.11312787802206616, 0.05656393901103308, 0.05656393901103308, 0.7860124170294406, 0.5966677968055076, 0.1131075494127019, 0.4524301976508076, 0.1131075494127019, 0.1131075494127019, 0.2262150988254038, 0.1131075494127019, 0.3827810423086654, 0.3827810423086654, 0.5440227076230245, 0.34260341436429026, 0.1142011381214301, 0.1142011381214301, 0.1142011381214301, 0.1142011381214301, 0.2284022762428602, 0.8915542658760688, 0.6381916564357591, 0.18525042160829255, 0.4940011242887801, 0.12350028107219503, 0.12350028107219503, 0.061750140536097516, 0.6381882139519467, 0.7051980443061874, 0.7121825128912548, 0.5894826404244025, 0.16374517789566734, 0.032749035579133466, 0.13099614231653386, 0.032749035579133466, 0.032749035579133466, 0.664195142883503, 0.16604878572087575, 0.39743493102321975, 0.39743493102321975, 0.26127744109956913, 0.26127744109956913, 0.5225548821991383, 0.6694374704750758, 0.6638752635296054, 0.3319376317648027, 0.7032361880941584, 0.704002687348884, 0.23434852128752898, 0.11717426064376449, 0.19529043440627414, 0.15623234752501933, 0.03905808688125483, 0.11717426064376449, 0.07811617376250966, 0.03905808688125483, 0.31587449972050374, 0.15793724986025187, 0.22111214980435262, 0.1263497998882015, 0.06317489994410075, 0.031587449972050374, 0.031587449972050374, 0.06317489994410075, 0.3136068863754293, 0.2090712575836195, 0.2090712575836195, 0.052267814395904874, 0.052267814395904874, 0.10453562879180975, 0.052267814395904874, 0.1995843986550992, 0.7318094617353638, 0.8247781789316886, 0.5443990881565268, 0.579166544312776, 0.35467539958591, 0.35467539958591, 0.7040405904091913, 0.10540963069876388, 0.6324577841925832, 0.10540963069876388, 0.8210762365837923, 0.8012612947847485, 0.4269017722204808, 0.2134508861102404, 0.2134508861102404, 0.1067254430551202, 0.5777902505910572, 0.6001216546590876, 0.7860386477056235, 0.8237532223705077, 0.6381846349444065, 0.6381833173409788, 0.8982051642666433, 0.7948308651819056, 0.7109784809479759, 0.36466550890249216, 0.36466550890249216, 0.7046999625665665, 0.8025092970565129, 0.46377122174585594, 0.23188561087292797, 0.5954296020707311, 0.41895399861644933, 0.41895399861644933, 0.6381738425271429, 0.1648218473784307, 0.6592873895137228, 0.34093430469226665, 0.34093430469226665, 0.8907850311324164, 0.7974761136120463, 0.5959771064236844, 0.3074207588350362, 0.20494717255669082, 0.10247358627834541, 0.10247358627834541, 0.20494717255669082, 0.10247358627834541, 0.709328123562323, 0.10642938997186603, 0.5321469498593301, 0.10642938997186603, 0.21285877994373206, 0.10642938997186603, 0.7117415250514297, 0.33683818186937653, 0.33683818186937653, 0.2245587879129177, 0.056139696978229424, 0.056139696978229424, 0.8365788428340634, 0.2622392370061102, 0.3496523160081469, 0.17482615800407345, 0.08741307900203672, 0.08741307900203672, 0.47095472788904935, 0.2788180090758224, 0.20911350680686677, 0.20911350680686677, 0.20911350680686677, 0.0697045022689556, 0.8304583370066327, 0.2992559678597616, 0.23940477428780926, 0.17955358071585695, 0.17955358071585695, 0.059851193571952316, 0.794836102289375, 0.6730886536205349, 0.1287590576267748, 0.35408740847363074, 0.2575181152535496, 0.0965692932200811, 0.0321897644066937, 0.0321897644066937, 0.0965692932200811, 0.0321897644066937, 0.6831300730682202, 0.3415650365341101, 0.2018489080003091, 0.4036978160006182, 0.2018489080003091, 0.2018489080003091, 0.3136397208277891, 0.12545588833111565, 0.2509117766622313, 0.12545588833111565, 0.06272794416555783, 0.06272794416555783, 0.12545588833111565, 0.703606693789242, 0.5805876994993546, 0.19352923316645157, 0.8018724301875512, 0.22067431033462293, 0.22067431033462293, 0.1471162068897486, 0.18389525861218578, 0.03677905172243715, 0.11033715516731146, 0.03677905172243715, 0.03677905172243715, 0.3219101189158541, 0.045987159845122014, 0.3219101189158541, 0.09197431969024403, 0.09197431969024403, 0.09197431969024403, 0.045987159845122014, 0.19305127362979246, 0.5791538208893774, 0.34171640121738006, 0.34171640121738006, 0.4378402964360531, 0.14594676547868435, 0.2918935309573687, 0.14594676547868435, 0.6381856324616738, 0.7058930216906489, 0.5235832013475329, 0.8387334423469563, 0.7860109714871616, 0.5104109842021426, 0.5104109842021426, 0.1962319826997208, 0.5886959480991625, 0.7057912090466809, 0.7125649855882344, 0.799248212861318, 0.2804091063138301, 0.22432728505106406, 0.056081821262766014, 0.2804091063138301, 0.11216364252553203, 0.056081821262766014, 0.056081821262766014, 0.7174012502446341, 0.6381735774155463, 0.8365766885993973, 0.36668917202285967, 0.18334458601142983, 0.36668917202285967, 0.10974757569779565, 0.4389903027911826, 0.2194951513955913, 0.10974757569779565, 0.10974757569779565, 0.117628193414021, 0.235256386828042, 0.235256386828042, 0.235256386828042, 0.117628193414021, 0.5454707651585886, 0.7860151471995119, 0.2373106716514223, 0.17798300373856674, 0.17798300373856674, 0.059327667912855576, 0.059327667912855576, 0.059327667912855576, 0.11865533582571115, 0.11865533582571115, 0.4682874851686569, 0.3668406370833565, 0.3668406370833565, 0.3949331347987669, 0.12151788763038981, 0.15189735953798728, 0.09113841572279235, 0.030379471907597454, 0.09113841572279235, 0.030379471907597454, 0.09113841572279235, 0.43699487214907595, 0.24070909626590198, 0.16047273084393465, 0.24070909626590198, 0.08023636542196733, 0.16047273084393465, 0.08023636542196733, 0.6241831526923872, 0.2080610508974624, 0.2065696151331463, 0.2065696151331463, 0.2065696151331463, 0.4131392302662926, 0.32896627040453397, 0.32896627040453397, 0.32896627040453397, 0.5123262476847242, 0.17077541589490808, 0.17077541589490808, 0.4490941980470573, 0.18909229391455046, 0.14181922043591283, 0.07090961021795641, 0.09454614695727523, 0.023636536739318807, 0.7091954706060997, 0.8054492385240951, 0.1964139397275507, 0.1964139397275507, 0.1964139397275507, 0.3928278794551014, 0.7286684522015526, 0.6043675967028402, 0.2014558655676134, 0.2014558655676134, 0.7948349861383004, 0.802652260262551, 0.43839623427115254, 0.43839623427115254, 0.7102299829992588, 0.4273877186736189, 0.1424625728912063, 0.1424625728912063, 0.04748752429706877, 0.04748752429706877, 0.04748752429706877, 0.04748752429706877, 0.09497504859413754, 0.21552610555028182, 0.21552610555028182, 0.21552610555028182, 0.43105221110056363, 0.26328010248281086, 0.13164005124140543, 0.26328010248281086, 0.13164005124140543, 0.13164005124140543, 0.3850974090398126, 0.3850974090398126, 0.1925487045199063, 0.09627435225995315, 0.875482951879713, 0.35270611063062113, 0.15115976169883763, 0.07557988084941882, 0.10077317446589176, 0.15115976169883763, 0.10077317446589176, 0.02519329361647294, 0.05038658723294588, 0.6294779095185594, 0.20982596983951982, 0.7070456709621966, 0.7821014546536377, 0.5558469448548116, 0.1111693889709623, 0.1111693889709623, 0.1111693889709623, 0.1111693889709623, 0.7795752005262829, 0.8221848793185818, 0.5447365386858773, 0.06830192164526003, 0.6147172948073403, 0.06830192164526003, 0.06830192164526003, 0.06830192164526003, 0.06830192164526003, 0.6665379088488418, 0.13330758176976837, 0.13330758176976837, 0.5767391158599502, 0.810435066695982, 0.8042141271484243, 0.5819865215148672, 0.8365749988843799, 0.8365893122975895, 0.7860097376878735, 0.12362167647049144, 0.49448670588196575, 0.12362167647049144, 0.12362167647049144, 0.12362167647049144, 0.6381934504823914, 0.28507285970981705, 0.28507285970981705, 0.28507285970981705, 0.39475772921018365, 0.24136197155862152, 0.24136197155862152, 0.24136197155862152, 0.24136197155862152, 0.3917987095305775, 0.3917987095305775, 0.19589935476528875, 0.5527759902118432, 0.36513223356104735, 0.36513223356104735, 0.3158972523984836, 0.3158972523984836, 0.3158972523984836, 0.4693063479051894, 0.5194184043804484, 0.2597092021902242, 0.1298546010951121, 0.0955687768494343, 0.3822751073977372, 0.1911375536988686, 0.1911375536988686, 0.0955687768494343, 0.0955687768494343, 0.08670212093627083, 0.34680848374508333, 0.08670212093627083, 0.17340424187254166, 0.08670212093627083, 0.08670212093627083, 0.17340424187254166, 0.08670212093627083, 0.7948904068835985, 0.7173889316622793, 0.8025413452241841, 0.41892944362966367, 0.08378588872593273, 0.16757177745186547, 0.08378588872593273, 0.16757177745186547, 0.08378588872593273, 0.3584309016702001, 0.3584309016702001, 0.794657055264914, 0.7117094123282661, 0.25024825172220316, 0.1668321678148021, 0.08341608390740105, 0.3336643356296042, 0.1668321678148021, 0.26848865159239016, 0.08949621719746338, 0.17899243439492676, 0.08949621719746338, 0.17899243439492676, 0.08949621719746338, 0.08949621719746338, 0.3751840139806041, 0.3751840139806041, 0.46959305806193213, 0.7158202070415421, 0.33207974193810874, 0.33207974193810874, 0.5288560107221123, 0.17628533690737075, 0.8931005522985592, 0.3099099707892056, 0.6198199415784112, 0.27952679491269666, 0.5590535898253933, 0.270835272251544, 0.22569606020962002, 0.22569606020962002, 0.11284803010481001, 0.045139212041924004, 0.067708818062886, 0.045139212041924004, 0.022569606020962002, 0.5901009970313541, 0.07376262462891926, 0.2212878738867578, 0.07376262462891926, 0.822739161390111, 0.5598571263661332, 0.21413214505019168, 0.10706607252509584, 0.42826429010038336, 0.10706607252509584, 0.10706607252509584, 0.10706607252509584, 0.4336239946939875, 0.21681199734699375, 0.21681199734699375, 0.216293302733046, 0.432586605466092, 0.072097767577682, 0.09613035677024266, 0.072097767577682, 0.04806517838512133, 0.024032589192560665, 0.024032589192560665, 0.7513759676797604, 0.1502751935359521, 0.4289804943058664, 0.7127620204028403, 0.39996679416072606, 0.29997509562054453, 0.09999169854018151, 0.09999169854018151, 0.09999169854018151, 0.7818933712157679, 0.7961898767537297, 0.7173891804819827, 0.7843843934358395, 0.2477922888515425, 0.5781820073202658, 0.16519485923436167, 0.26645906258618907, 0.13322953129309453, 0.13322953129309453, 0.13322953129309453, 0.13322953129309453, 0.7173907666923804, 0.6655307175694545, 0.5368230492948229, 0.7860165874238249, 0.8202090019220548, 0.6012653688842174, 0.2571778321527203, 0.1714518881018135, 0.2571778321527203, 0.1714518881018135, 0.08572594405090675, 0.08572594405090675, 0.5986773324777729, 0.786013401075758, 0.638230678672075, 0.3191153393360375, 0.7091539652156917, 0.797309518268108, 0.46018952536670404, 0.23009476268335202, 0.07669825422778401, 0.15339650845556801, 0.07669825422778401, 0.6381864795131833, 0.7047531761643673, 0.2836272102490386, 0.5672544204980772, 0.2566854793996673, 0.12834273969983365, 0.2566854793996673, 0.12834273969983365, 0.12834273969983365, 0.12834273969983365, 0.7117887634721495, 0.20258757238057698, 0.27011676317410266, 0.27011676317410266, 0.13505838158705133, 0.06752919079352566, 0.06752919079352566, 0.7947288770994755, 0.8365816558846554, 0.7860112506230621, 0.16962006929325263, 0.42405017323313154, 0.2544301039398789, 0.08481003464662631, 0.08481003464662631, 0.7099777558294905, 0.8017970115334582, 0.7061840405906116, 0.7051399243976569, 0.7090359485065947, 0.8298802723627097, 0.30538621313784053, 0.6107724262756811, 0.836575686304504, 0.2539778332427488, 0.2539778332427488, 0.1269889166213744, 0.2539778332427488, 0.7136152289273792, 0.44863277946192853, 0.12462021651720236, 0.12462021651720236, 0.12462021651720236, 0.07477212991032142, 0.07477212991032142, 0.024924043303440474, 0.23083991445265165, 0.11541995722632582, 0.23083991445265165, 0.11541995722632582, 0.23083991445265165, 0.6104612983013278, 0.5130306913455759, 0.17101023044852529, 0.25195654393851635, 0.20156523515081307, 0.17636958075696144, 0.12597827196925818, 0.050391308787703266, 0.0755869631815549, 0.050391308787703266, 0.0755869631815549, 0.8365778644392122, 0.509105969007642, 0.08485099483460701, 0.21212748708651752, 0.08485099483460701, 0.042425497417303504, 0.042425497417303504, 0.042425497417303504, 0.042425497417303504, 0.7838600972200952, 0.1959650243050238, 0.7276656486350738, 0.7860109474579738, 0.3906343167847235, 0.24414644799045218, 0.09765857919618087, 0.12207322399522609, 0.07324393439713565, 0.048829289598090436, 0.048829289598090436, 0.2636681704817462, 0.5273363409634924, 0.7977279881927425, 0.32992255716261826, 0.21994837144174553, 0.10997418572087277, 0.21994837144174553, 0.7052790881906065, 0.7975242859230178, 0.7056273313000447, 0.7218336728853327, 0.7947293581962873, 0.40224785567306565, 0.16089914226922625, 0.24134871340383937, 0.08044957113461312, 0.16089914226922625, 0.3487543739843965, 0.17437718699219826, 0.17437718699219826, 0.17437718699219826, 0.786015717297542, 0.8118006880951196, 0.6570512875387203, 0.6293671605513654, 0.12587343211027308, 0.12587343211027308, 0.12587343211027308, 0.32587979909098336, 0.6517595981819667, 0.2922134544726216, 0.2922134544726216, 0.2922134544726216, 0.6381835070970682, 0.7860091763490086, 0.8232839479905691, 0.7948406581860304, 0.5528045830582154, 0.7143130714680016, 0.3557547454414839, 0.3557547454414839, 0.4653876839982162, 0.33198111259638097, 0.15090050572562771, 0.2112607080158788, 0.2112607080158788, 0.06036020229025108, 0.7119179539567091, 0.7292528653994458, 0.224754391071577, 0.14983626071438466, 0.224754391071577, 0.224754391071577, 0.07491813035719233, 0.07491813035719233, 0.14983626071438466, 0.890165059165091, 0.16178182419131018, 0.19413818902957222, 0.2912072835443583, 0.09706909451478611, 0.06471272967652407, 0.06471272967652407, 0.06471272967652407, 0.3577977745090791, 0.3577977745090791, 0.305053164873159, 0.305053164873159, 0.305053164873159, 0.7948355955326164, 0.27370426558616656, 0.45617377597694425, 0.18246951039077772, 0.09123475519538886, 0.13974603521807896, 0.2794920704361579, 0.13974603521807896, 0.13974603521807896, 0.13974603521807896, 0.06987301760903948, 0.06987301760903948, 0.6209704301171988, 0.20699014337239957, 0.7948284947792524, 0.7962035768472109, 0.8059175204871379, 0.7948360494190764, 0.7948551243307186, 0.5484847266687786, 0.28983915098732715, 0.28983915098732715, 0.28983915098732715, 0.225165247858089, 0.16887393589356675, 0.3377478717871335, 0.05629131196452225, 0.1125826239290445, 0.1125826239290445, 0.05629131196452225, 0.8865786736860909, 0.33119519976295797, 0.11039839992098599, 0.11039839992098599, 0.11039839992098599, 0.11039839992098599, 0.11039839992098599, 0.11039839992098599, 0.3129812901060721, 0.29062548366992413, 0.08942322574459204, 0.13413483861688805, 0.02235580643614801, 0.04471161287229602, 0.04471161287229602, 0.06706741930844402, 0.43893079489632686, 0.6648108625269677, 0.37207368470032665, 0.37207368470032665, 0.520909946764161, 0.0868183244606935, 0.173636648921387, 0.0868183244606935, 0.0868183244606935, 0.7057452914279995, 0.39843290866622344, 0.19921645433311172, 0.19921645433311172, 0.19921645433311172, 0.4569986036423747, 0.22849930182118736, 0.22849930182118736, 0.33557030457872933, 0.33557030457872933], \"Term\": [\"4days\", \"50pm\", \"57pm\", \"abuse\", \"accessories\", \"action\", \"also\", \"also\", \"also\", \"also\", \"also\", \"also\", \"also\", \"amount\", \"andouille\", \"anothers\", \"anti\", \"anymore\", \"anything\", \"anything\", \"anything\", \"anything\", \"anything\", \"appointment\", \"appointments\", \"approach\", \"ask\", \"ask\", \"ask\", \"ask\", \"ask\", \"ask\", \"ask\", \"ask\", \"assistant\", \"austin\", \"austin\", \"austin\", \"austin\", \"austin\", \"away\", \"away\", \"away\", \"away\", \"away\", \"away\", \"away\", \"away\", \"awesome\", \"back\", \"back\", \"back\", \"back\", \"back\", \"back\", \"back\", \"back\", \"bagels\", \"bank\", \"barely\", \"bean\", \"behavior\", \"beside\", \"biscuits\", \"blow\", \"bob\", \"book\", \"botox\", \"botox\", \"bottle\", \"bottle\", \"bout\", \"brace\", \"brain\", \"brident\", \"bring\", \"bring\", \"bring\", \"bring\", \"bring\", \"call\", \"call\", \"call\", \"call\", \"call\", \"call\", \"call\", \"card\", \"card\", \"card\", \"card\", \"carnitas\", \"carpet\", \"carry\", \"cars\", \"cars\", \"cashier\", \"cent\", \"central\", \"change\", \"change\", \"change\", \"change\", \"change\", \"change\", \"change\", \"charge\", \"charge\", \"charge\", \"charge\", \"charge\", \"charge\", \"check\", \"check\", \"check\", \"check\", \"check\", \"check\", \"cheese\", \"cheese\", \"chicken\", \"chicken\", \"chicken\", \"chicken\", \"chicken\", \"chile\", \"chinese\", \"chipotle\", \"christmas\", \"christmas\", \"clean\", \"clean\", \"clean\", \"clearly\", \"coat\", \"coat\", \"coat\", \"coat\", \"come\", \"come\", \"come\", \"come\", \"come\", \"come\", \"come\", \"come\", \"community\", \"company\", \"company\", \"company\", \"company\", \"company\", \"complete\", \"complete\", \"completely\", \"completely\", \"completely\", \"completely\", \"complex\", \"compromise\", \"consultation\", \"continue\", \"continue\", \"continue\", \"couch\", \"crab\", \"crack\", \"crap\", \"credit\", \"credit\", \"credit\", \"credit\", \"current\", \"customer\", \"customer\", \"customer\", \"customer\", \"customer\", \"customer\", \"customer\", \"customers\", \"customers\", \"customers\", \"customers\", \"customers\", \"david\", \"days\", \"days\", \"days\", \"days\", \"days\", \"days\", \"dead\", \"delete\", \"delivery\", \"demand\", \"deposit\", \"deserve\", \"deserve\", \"desk\", \"desk\", \"desk\", \"desk\", \"detail\", \"device\", \"diagnosis\", \"different\", \"different\", \"different\", \"different\", \"din\", \"disappoint\", \"disappoint\", \"disappoint\", \"disappoint\", \"disappoint\", \"disappoint\", \"disappointment\", \"disappointment\", \"discounters\", \"discuss\", \"disneyland\", \"do\", \"do\", \"do\", \"do\", \"doctor\", \"domain\", \"doubletree\", \"dress\", \"dress\", \"dress\", \"drink\", \"drink\", \"drink\", \"drink\", \"drink\", \"drive\", \"drive\", \"drive\", \"drop\", \"drop\", \"early\", \"educate\", \"email\", \"emergency\", \"endocrinologist\", \"entirely\", \"equipment\", \"estimate\", \"even\", \"even\", \"even\", \"even\", \"even\", \"even\", \"even\", \"ever\", \"ever\", \"ever\", \"ever\", \"ever\", \"ever\", \"every\", \"every\", \"every\", \"every\", \"every\", \"every\", \"everyday\", \"excite\", \"exist\", \"exist\", \"expedia\", \"expensive\", \"experience\", \"experience\", \"experience\", \"experience\", \"experience\", \"experience\", \"experience\", \"expire\", \"exterior\", \"face\", \"face\", \"face\", \"face\", \"face\", \"face\", \"fail\", \"fail\", \"fair\", \"family\", \"family\", \"family\", \"family\", \"family\", \"family\", \"fascia\", \"felon\", \"find\", \"find\", \"find\", \"find\", \"find\", \"firearm\", \"flush\", \"fly\", \"food\", \"food\", \"food\", \"food\", \"food\", \"food\", \"forehead\", \"forehead\", \"form\", \"form\", \"free\", \"free\", \"free\", \"freeze\", \"fry\", \"fry\", \"furniture\", \"girl\", \"give\", \"give\", \"give\", \"give\", \"give\", \"give\", \"give\", \"give\", \"go\", \"go\", \"go\", \"go\", \"go\", \"go\", \"go\", \"go\", \"good\", \"good\", \"good\", \"good\", \"good\", \"good\", \"good\", \"gown\", \"gown\", \"gretchen\", \"gross\", \"group\", \"grow\", \"grow\", \"gumbo\", \"half\", \"half\", \"half\", \"harass\", \"head\", \"help\", \"help\", \"help\", \"help\", \"herb\", \"hibiscus\", \"hill\", \"homely\", \"hoodlums\", \"hopefully\", \"horrible\", \"horseplay\", \"hospitality\", \"hungry\", \"hungry\", \"hurricane\", \"include\", \"inside\", \"inside\", \"instal\", \"instead\", \"instead\", \"internet\", \"inventory\", \"inventory\", \"iphone\", \"iphone\", \"jordans\", \"july\", \"june\", \"keep\", \"keep\", \"keep\", \"keep\", \"keep\", \"keep\", \"kick\", \"kind\", \"kind\", \"kind\", \"kind\", \"kind\", \"kingsdale\", \"know\", \"know\", \"know\", \"know\", \"know\", \"kurt\", \"last\", \"last\", \"last\", \"last\", \"last\", \"late\", \"later\", \"later\", \"later\", \"later\", \"later\", \"lead\", \"leave\", \"leave\", \"leave\", \"leave\", \"leave\", \"lick\", \"lien\", \"like\", \"like\", \"like\", \"like\", \"like\", \"like\", \"like\", \"like\", \"lips\", \"lips\", \"location\", \"location\", \"location\", \"location\", \"look\", \"look\", \"look\", \"look\", \"look\", \"look\", \"look\", \"louisiana\", \"love\", \"love\", \"major\", \"make\", \"make\", \"make\", \"make\", \"make\", \"make\", \"make\", \"make\", \"manager\", \"manager\", \"manager\", \"manager\", \"manager\", \"manager\", \"manager\", \"manufacturer\", \"manufacturer\", \"mask\", \"mask\", \"maybe\", \"maybe\", \"maybe\", \"maybe\", \"meat\", \"mediocre\", \"member\", \"memories\", \"messy\", \"middle\", \"middle\", \"might\", \"might\", \"mill\", \"minimum\", \"mins\", \"minutes\", \"minutes\", \"minutes\", \"minutes\", \"minutes\", \"minutes\", \"minutes\", \"misrepresent\", \"mix\", \"mood\", \"much\", \"much\", \"much\", \"nail\", \"nail\", \"nail\", \"nail\", \"nail\", \"name\", \"name\", \"name\", \"name\", \"name\", \"nando\", \"nearby\", \"need\", \"need\", \"need\", \"need\", \"need\", \"need\", \"need\", \"need\", \"negative\", \"neighborhood\", \"neighborhood\", \"never\", \"never\", \"never\", \"never\", \"never\", \"never\", \"never\", \"never\", \"nobody\", \"nothing\", \"nothing\", \"nothing\", \"nothing\", \"nothing\", \"nothing\", \"notice\", \"notice\", \"number\", \"number\", \"number\", \"number\", \"obviously\", \"obviously\", \"obviously\", \"open\", \"open\", \"open\", \"order\", \"order\", \"order\", \"order\", \"order\", \"order\", \"overhear\", \"overwhelm\", \"owner\", \"owner\", \"owner\", \"owner\", \"oyster\", \"park\", \"park\", \"park\", \"patch\", \"pathetic\", \"payment\", \"payment\", \"peel\", \"people\", \"people\", \"people\", \"people\", \"people\", \"people\", \"people\", \"people\", \"person\", \"person\", \"person\", \"person\", \"phone\", \"phone\", \"phone\", \"phone\", \"phone\", \"pick\", \"pick\", \"pick\", \"pick\", \"pizza\", \"place\", \"place\", \"place\", \"place\", \"place\", \"place\", \"place\", \"place\", \"policy\", \"policy\", \"print\", \"privacy\", \"problem\", \"problem\", \"problem\", \"problem\", \"problem\", \"problems\", \"produce\", \"property\", \"purchase\", \"purchase\", \"purchase\", \"purchase\", \"purchase\", \"purchase\", \"quality\", \"quality\", \"quality\", \"randy\", \"real\", \"reality\", \"receipt\", \"reception\", \"recomend\", \"redirect\", \"refuse\", \"refuse\", \"refuse\", \"refuse\", \"refuse\", \"relleno\", \"rental\", \"rental\", \"rental\", \"repair\", \"request\", \"request\", \"request\", \"request\", \"require\", \"require\", \"require\", \"reseller\", \"reservation\", \"reservation\", \"reserve\", \"reserve\", \"reserve\", \"resort\", \"restaurant\", \"restaurant\", \"restaurant\", \"return\", \"return\", \"return\", \"return\", \"return\", \"return\", \"review\", \"review\", \"review\", \"review\", \"review\", \"review\", \"review\", \"review\", \"rice\", \"ride\", \"ridiculous\", \"right\", \"right\", \"right\", \"right\", \"right\", \"right\", \"ring\", \"ring\", \"roast\", \"robotic\", \"room\", \"room\", \"room\", \"room\", \"room\", \"rude\", \"rude\", \"rude\", \"rude\", \"rude\", \"rude\", \"rude\", \"rudest\", \"rudest\", \"safe\", \"salad\", \"salads\", \"salads\", \"salon\", \"salon\", \"sambar\", \"sandwich\", \"sandwich\", \"sausage\", \"sausage\", \"say\", \"say\", \"say\", \"say\", \"say\", \"say\", \"say\", \"say\", \"second\", \"second\", \"second\", \"second\", \"section\", \"security\", \"see\", \"see\", \"see\", \"see\", \"see\", \"see\", \"server\", \"server\", \"server\", \"service\", \"service\", \"service\", \"service\", \"service\", \"service\", \"service\", \"service\", \"several\", \"several\", \"shake\", \"shift\", \"show\", \"show\", \"show\", \"show\", \"show\", \"shower\", \"shrimp\", \"shuttle\", \"sick\", \"side\", \"side\", \"side\", \"since\", \"since\", \"since\", \"since\", \"since\", \"sketchy\", \"skin\", \"slaughter\", \"snap\", \"socialize\", \"sodas\", \"something\", \"something\", \"something\", \"something\", \"something\", \"something\", \"specialist\", \"spectators\", \"spicy\", \"spicy\", \"spit\", \"sponge\", \"staff\", \"staff\", \"staff\", \"staff\", \"staff\", \"stance\", \"standards\", \"statement\", \"statement\", \"stay\", \"stay\", \"stay\", \"stay\", \"stay\", \"stay\", \"steakhouse\", \"still\", \"still\", \"still\", \"still\", \"still\", \"still\", \"stock\", \"stoever\", \"storage\", \"store\", \"store\", \"store\", \"store\", \"store\", \"successful\", \"suck\", \"suit\", \"suite\", \"supply\", \"swear\", \"swell\", \"swell\", \"swill\", \"table\", \"table\", \"table\", \"table\", \"tacos\", \"take\", \"take\", \"take\", \"take\", \"take\", \"take\", \"take\", \"talk\", \"talk\", \"talk\", \"talk\", \"talk\", \"tasty\", \"tattoo\", \"tattoo\", \"tell\", \"tell\", \"tell\", \"tell\", \"tell\", \"tell\", \"tell\", \"tell\", \"thick\", \"think\", \"think\", \"think\", \"think\", \"think\", \"think\", \"think\", \"think\", \"three\", \"three\", \"thyroid\", \"tidy\", \"time\", \"time\", \"time\", \"time\", \"time\", \"time\", \"time\", \"tire\", \"tire\", \"toast\", \"today\", \"today\", \"today\", \"today\", \"toilet\", \"traditional\", \"trim\", \"truly\", \"trustworthy\", \"try\", \"try\", \"try\", \"try\", \"try\", \"turn\", \"turn\", \"turn\", \"turn\", \"uber\", \"unacceptable\", \"units\", \"update\", \"update\", \"update\", \"update\", \"upgrade\", \"upgrade\", \"usually\", \"usually\", \"usually\", \"utterly\", \"vacation\", \"vaping\", \"vapor\", \"verizon\", \"vet\", \"voice\", \"voice\", \"voicemail\", \"wait\", \"wait\", \"wait\", \"wait\", \"wait\", \"waiter\", \"waitress\", \"walk\", \"walk\", \"walk\", \"walk\", \"walk\", \"walk\", \"walk\", \"wall\", \"want\", \"want\", \"want\", \"want\", \"want\", \"want\", \"want\", \"warranty\", \"warranty\", \"wear\", \"wear\", \"wear\", \"weather\", \"weeks\", \"weeks\", \"weeks\", \"weeks\", \"well\", \"well\", \"well\", \"well\", \"well\", \"well\", \"well\", \"wife\", \"wife\", \"windows\", \"wing\", \"winter\", \"witb\", \"witness\", \"woman\", \"word\", \"word\", \"word\", \"work\", \"work\", \"work\", \"work\", \"work\", \"work\", \"work\", \"world\", \"worst\", \"worst\", \"worst\", \"worst\", \"worst\", \"worst\", \"worst\", \"would\", \"would\", \"would\", \"would\", \"would\", \"would\", \"would\", \"would\", \"wright\", \"wrinkle\", \"write\", \"write\", \"wrong\", \"wrong\", \"wrong\", \"wrong\", \"wrong\", \"wyndham\", \"yeah\", \"yeah\", \"yeah\", \"yeah\", \"yelp\", \"yelp\", \"yelp\", \"yesterday\", \"yesterday\"]}, \"R\": 30, \"lambda.step\": 0.01, \"plot.opts\": {\"xlab\": \"PC1\", \"ylab\": \"PC2\"}, \"topic.order\": [7, 8, 3, 4, 2, 1, 5, 6]};\n",
       "\n",
       "function LDAvis_load_lib(url, callback){\n",
       "  var s = document.createElement('script');\n",
       "  s.src = url;\n",
       "  s.async = true;\n",
       "  s.onreadystatechange = s.onload = callback;\n",
       "  s.onerror = function(){console.warn(\"failed to load library \" + url);};\n",
       "  document.getElementsByTagName(\"head\")[0].appendChild(s);\n",
       "}\n",
       "\n",
       "if(typeof(LDAvis) !== \"undefined\"){\n",
       "   // already loaded: just create the visualization\n",
       "   !function(LDAvis){\n",
       "       new LDAvis(\"#\" + \"ldavis_el15311402385010612003219050891\", ldavis_el15311402385010612003219050891_data);\n",
       "   }(LDAvis);\n",
       "}else if(typeof define === \"function\" && define.amd){\n",
       "   // require.js is available: use it to load d3/LDAvis\n",
       "   require.config({paths: {d3: \"https://d3js.org/d3.v5\"}});\n",
       "   require([\"d3\"], function(d3){\n",
       "      window.d3 = d3;\n",
       "      LDAvis_load_lib(\"https://cdn.jsdelivr.net/gh/bmabey/pyLDAvis@3.3.1/pyLDAvis/js/ldavis.v3.0.0.js\", function(){\n",
       "        new LDAvis(\"#\" + \"ldavis_el15311402385010612003219050891\", ldavis_el15311402385010612003219050891_data);\n",
       "      });\n",
       "    });\n",
       "}else{\n",
       "    // require.js not available: dynamically load d3 & LDAvis\n",
       "    LDAvis_load_lib(\"https://d3js.org/d3.v5.js\", function(){\n",
       "         LDAvis_load_lib(\"https://cdn.jsdelivr.net/gh/bmabey/pyLDAvis@3.3.1/pyLDAvis/js/ldavis.v3.0.0.js\", function(){\n",
       "                 new LDAvis(\"#\" + \"ldavis_el15311402385010612003219050891\", ldavis_el15311402385010612003219050891_data);\n",
       "            })\n",
       "         });\n",
       "}\n",
       "</script>"
      ],
      "text/plain": [
       "<IPython.core.display.HTML object>"
      ]
     },
     "execution_count": 43,
     "metadata": {},
     "output_type": "execute_result"
    }
   ],
   "source": [
    "vis = gensimvis.prepare(topic_model=lda_model, corpus=bow_corpus, dictionary=dictionary)\n",
    "pyLDAvis.enable_notebook()\n",
    "pyLDAvis.display(vis)"
   ]
  },
  {
   "cell_type": "code",
   "execution_count": null,
   "id": "232762d6-ae64-44f5-9969-c30c2667788a",
   "metadata": {},
   "outputs": [],
   "source": []
  }
 ],
 "metadata": {
  "kernelspec": {
   "display_name": "Python 3 (ipykernel)",
   "language": "python",
   "name": "python3"
  },
  "language_info": {
   "codemirror_mode": {
    "name": "ipython",
    "version": 3
   },
   "file_extension": ".py",
   "mimetype": "text/x-python",
   "name": "python",
   "nbconvert_exporter": "python",
   "pygments_lexer": "ipython3",
   "version": "3.9.7"
  }
 },
 "nbformat": 4,
 "nbformat_minor": 5
}
