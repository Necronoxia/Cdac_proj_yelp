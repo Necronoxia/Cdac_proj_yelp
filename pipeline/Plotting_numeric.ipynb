{
 "cells": [
  {
   "cell_type": "code",
   "execution_count": 2,
   "id": "d108df32",
   "metadata": {
    "scrolled": false
   },
   "outputs": [
    {
     "name": "stdout",
     "output_type": "stream",
     "text": [
      "Starting Spark application\n"
     ]
    },
    {
     "data": {
      "text/html": [
       "<table>\n",
       "<tr><th>ID</th><th>YARN Application ID</th><th>Kind</th><th>State</th><th>Spark UI</th><th>Driver log</th><th>User</th><th>Current session?</th></tr><tr><td>13</td><td>application_1647146866456_0014</td><td>pyspark</td><td>idle</td><td><a target=\"_blank\" href=\"http://ip-172-31-67-143.ec2.internal:20888/proxy/application_1647146866456_0014/\">Link</a></td><td><a target=\"_blank\" href=\"http://ip-172-31-75-120.ec2.internal:8042/node/containerlogs/container_1647146866456_0014_01_000001/livy\">Link</a></td><td>None</td><td>✔</td></tr></table>"
      ],
      "text/plain": [
       "<IPython.core.display.HTML object>"
      ]
     },
     "metadata": {},
     "output_type": "display_data"
    },
    {
     "data": {
      "application/vnd.jupyter.widget-view+json": {
       "model_id": "",
       "version_major": 2,
       "version_minor": 0
      },
      "text/plain": [
       "FloatProgress(value=0.0, bar_style='info', description='Progress:', layout=Layout(height='25px', width='50%'),…"
      ]
     },
     "metadata": {},
     "output_type": "display_data"
    },
    {
     "name": "stdout",
     "output_type": "stream",
     "text": [
      "SparkSession available as 'spark'.\n"
     ]
    },
    {
     "data": {
      "application/vnd.jupyter.widget-view+json": {
       "model_id": "",
       "version_major": 2,
       "version_minor": 0
      },
      "text/plain": [
       "FloatProgress(value=0.0, bar_style='info', description='Progress:', layout=Layout(height='25px', width='50%'),…"
      ]
     },
     "metadata": {},
     "output_type": "display_data"
    }
   ],
   "source": [
    "import pyspark"
   ]
  },
  {
   "cell_type": "code",
   "execution_count": 3,
   "id": "51167c01",
   "metadata": {
    "scrolled": false
   },
   "outputs": [
    {
     "name": "stdout",
     "output_type": "stream",
     "text": [
      "Starting Spark application\n"
     ]
    },
    {
     "data": {
      "text/html": [
       "<table>\n",
       "<tr><th>ID</th><th>YARN Application ID</th><th>Kind</th><th>State</th><th>Spark UI</th><th>Driver log</th><th>User</th><th>Current session?</th></tr><tr><td>14</td><td>application_1647146866456_0015</td><td>pyspark</td><td>idle</td><td></td><td></td><td>None</td><td>✔</td></tr></table>"
      ],
      "text/plain": [
       "<IPython.core.display.HTML object>"
      ]
     },
     "metadata": {},
     "output_type": "display_data"
    },
    {
     "data": {
      "application/vnd.jupyter.widget-view+json": {
       "model_id": "",
       "version_major": 2,
       "version_minor": 0
      },
      "text/plain": [
       "FloatProgress(value=0.0, bar_style='info', description='Progress:', layout=Layout(height='25px', width='50%'),…"
      ]
     },
     "metadata": {},
     "output_type": "display_data"
    },
    {
     "name": "stdout",
     "output_type": "stream",
     "text": [
      "SparkSession available as 'spark'.\n"
     ]
    },
    {
     "data": {
      "text/html": [
       "Current session configs: <tt>{'conf': {'spark.pyspark.python': 'python3', 'spark.pyspark.virtualenv.enabled': 'true', 'spark.pyspark.virtualenv.type': 'native', 'spark.pyspark.virtualenv.bin.path': '/usr/bin/virtualenv'}, 'proxyUser': 'jovyan', 'kind': 'pyspark'}</tt><br>"
      ],
      "text/plain": [
       "<IPython.core.display.HTML object>"
      ]
     },
     "metadata": {},
     "output_type": "display_data"
    },
    {
     "data": {
      "text/html": [
       "<table>\n",
       "<tr><th>ID</th><th>YARN Application ID</th><th>Kind</th><th>State</th><th>Spark UI</th><th>Driver log</th><th>User</th><th>Current session?</th></tr><tr><td>14</td><td>application_1647146866456_0015</td><td>pyspark</td><td>idle</td><td><a target=\"_blank\" href=\"http://ip-172-31-67-143.ec2.internal:20888/proxy/application_1647146866456_0015/\">Link</a></td><td><a target=\"_blank\" href=\"http://ip-172-31-75-120.ec2.internal:8042/node/containerlogs/container_1647146866456_0015_01_000001/livy\">Link</a></td><td>None</td><td>✔</td></tr></table>"
      ],
      "text/plain": [
       "<IPython.core.display.HTML object>"
      ]
     },
     "metadata": {},
     "output_type": "display_data"
    }
   ],
   "source": [
    "%%configure -f\n",
    "{ \"conf\":{\n",
    "          \"spark.pyspark.python\": \"python3\",\n",
    "          \"spark.pyspark.virtualenv.enabled\": \"true\",\n",
    "          \"spark.pyspark.virtualenv.type\":\"native\",\n",
    "          \"spark.pyspark.virtualenv.bin.path\":\"/usr/bin/virtualenv\"\n",
    "         }\n",
    "}"
   ]
  },
  {
   "cell_type": "code",
   "execution_count": 5,
   "id": "11d8eac4",
   "metadata": {
    "scrolled": true
   },
   "outputs": [
    {
     "data": {
      "application/vnd.jupyter.widget-view+json": {
       "model_id": "",
       "version_major": 2,
       "version_minor": 0
      },
      "text/plain": [
       "FloatProgress(value=0.0, bar_style='info', description='Progress:', layout=Layout(height='25px', width='50%'),…"
      ]
     },
     "metadata": {},
     "output_type": "display_data"
    },
    {
     "name": "stdout",
     "output_type": "stream",
     "text": [
      "Collecting plotly\n",
      "  Downloading https://files.pythonhosted.org/packages/9f/16/c63412aec59219142b541011524417ef1c1c226e4a5ed2eb1cd808cd1a2b/plotly-5.6.0-py2.py3-none-any.whl (27.7MB)\n",
      "Requirement already satisfied: six in /usr/local/lib/python3.7/site-packages (from plotly)\n",
      "Collecting tenacity>=6.2.0 (from plotly)\n",
      "  Downloading https://files.pythonhosted.org/packages/f2/a5/f86bc8d67c979020438c8559cc70cfe3a1643fd160d35e09c9cca6a09189/tenacity-8.0.1-py3-none-any.whl\n",
      "Installing collected packages: tenacity, plotly\n",
      "Successfully installed plotly-5.6.0 tenacity-8.0.1\n",
      "\n",
      "You are using pip version 9.0.1, however version 22.0.4 is available.\n",
      "You should consider upgrading via the 'pip install --upgrade pip' command."
     ]
    }
   ],
   "source": [
    "spark.sparkContext.install_pypi_package(\"plotly\")"
   ]
  },
  {
   "cell_type": "code",
   "execution_count": 20,
   "id": "f3fab964",
   "metadata": {},
   "outputs": [
    {
     "data": {
      "application/vnd.jupyter.widget-view+json": {
       "model_id": "",
       "version_major": 2,
       "version_minor": 0
      },
      "text/plain": [
       "FloatProgress(value=0.0, bar_style='info', description='Progress:', layout=Layout(height='25px', width='50%'),…"
      ]
     },
     "metadata": {},
     "output_type": "display_data"
    },
    {
     "name": "stdout",
     "output_type": "stream",
     "text": [
      "Collecting ipython\n",
      "  Downloading https://files.pythonhosted.org/packages/38/7a/4cb724163ceb72183dc41a267e28be3e8412fdb036e6d7ce806136a6112f/ipython-7.32.0-py3-none-any.whl (793kB)\n",
      "Collecting matplotlib-inline (from ipython)\n",
      "  Downloading https://files.pythonhosted.org/packages/a6/2d/2230afd570c70074e80fd06857ba2bdc5f10c055bd9125665fe276fadb67/matplotlib_inline-0.1.3-py3-none-any.whl\n",
      "Requirement already satisfied: setuptools>=18.5 in /mnt/tmp/1647150701437-0/lib/python3.7/site-packages (from ipython)\n",
      "Collecting pexpect>4.3; sys_platform != \"win32\" (from ipython)\n",
      "  Downloading https://files.pythonhosted.org/packages/39/7b/88dbb785881c28a102619d46423cb853b46dbccc70d3ac362d99773a78ce/pexpect-4.8.0-py2.py3-none-any.whl (59kB)\n",
      "Collecting decorator (from ipython)\n",
      "  Downloading https://files.pythonhosted.org/packages/d5/50/83c593b07763e1161326b3b8c6686f0f4b0f24d5526546bee538c89837d6/decorator-5.1.1-py3-none-any.whl\n",
      "Collecting traitlets>=4.2 (from ipython)\n",
      "  Downloading https://files.pythonhosted.org/packages/37/46/be8a3c030bd3673f4800fa7f46eda972dfa2990089a51ec5dd0a26ed33e9/traitlets-5.1.1-py3-none-any.whl (102kB)\n",
      "Collecting jedi>=0.16 (from ipython)\n",
      "  Downloading https://files.pythonhosted.org/packages/b3/0e/836f12ec50075161e365131f13f5758451645af75c2becf61c6351ecec39/jedi-0.18.1-py2.py3-none-any.whl (1.6MB)\n",
      "Collecting prompt-toolkit!=3.0.0,!=3.0.1,<3.1.0,>=2.0.0 (from ipython)\n",
      "  Downloading https://files.pythonhosted.org/packages/00/e4/beb2fad0bec554a011b321d0f6b99981f9171c0b05d03a6948e45ac8a5be/prompt_toolkit-3.0.28-py3-none-any.whl (380kB)\n",
      "Collecting pickleshare (from ipython)\n",
      "  Downloading https://files.pythonhosted.org/packages/9a/41/220f49aaea88bc6fa6cba8d05ecf24676326156c23b991e80b3f2fc24c77/pickleshare-0.7.5-py2.py3-none-any.whl\n",
      "Collecting backcall (from ipython)\n",
      "  Downloading https://files.pythonhosted.org/packages/4c/1c/ff6546b6c12603d8dd1070aa3c3d273ad4c07f5771689a7b69a550e8c951/backcall-0.2.0-py2.py3-none-any.whl\n",
      "Collecting pygments (from ipython)\n",
      "  Downloading https://files.pythonhosted.org/packages/1d/17/ed4d2df187995561b28f1073df24137cb750e12f9879d291cc8ab67c65d2/Pygments-2.11.2-py3-none-any.whl (1.1MB)\n",
      "Collecting ptyprocess>=0.5 (from pexpect>4.3; sys_platform != \"win32\"->ipython)\n",
      "  Downloading https://files.pythonhosted.org/packages/22/a6/858897256d0deac81a172289110f31629fc4cee19b6f01283303e18c8db3/ptyprocess-0.7.0-py2.py3-none-any.whl\n",
      "Collecting parso<0.9.0,>=0.8.0 (from jedi>=0.16->ipython)\n",
      "  Downloading https://files.pythonhosted.org/packages/05/63/8011bd08a4111858f79d2b09aad86638490d62fbf881c44e434a6dfca87b/parso-0.8.3-py2.py3-none-any.whl (100kB)\n",
      "Collecting wcwidth (from prompt-toolkit!=3.0.0,!=3.0.1,<3.1.0,>=2.0.0->ipython)\n",
      "  Downloading https://files.pythonhosted.org/packages/59/7c/e39aca596badaf1b78e8f547c807b04dae603a433d3e7a7e04d67f2ef3e5/wcwidth-0.2.5-py2.py3-none-any.whl\n",
      "Installing collected packages: traitlets, matplotlib-inline, ptyprocess, pexpect, decorator, parso, jedi, wcwidth, prompt-toolkit, pickleshare, backcall, pygments, ipython\n",
      "Successfully installed backcall-0.2.0 decorator-5.1.1 ipython-7.32.0 jedi-0.18.1 matplotlib-inline-0.1.3 parso-0.8.3 pexpect-4.8.0 pickleshare-0.7.5 prompt-toolkit-3.0.28 ptyprocess-0.7.0 pygments-2.11.2 traitlets-5.1.1 wcwidth-0.2.5\n",
      "\n",
      "You are using pip version 9.0.1, however version 22.0.4 is available.\n",
      "You should consider upgrading via the 'pip install --upgrade pip' command."
     ]
    }
   ],
   "source": [
    "spark.sparkContext.install_pypi_package(\"ipython\")"
   ]
  },
  {
   "cell_type": "code",
   "execution_count": 6,
   "id": "c3bf43a8",
   "metadata": {
    "scrolled": true
   },
   "outputs": [
    {
     "data": {
      "application/vnd.jupyter.widget-view+json": {
       "model_id": "",
       "version_major": 2,
       "version_minor": 0
      },
      "text/plain": [
       "FloatProgress(value=0.0, bar_style='info', description='Progress:', layout=Layout(height='25px', width='50%'),…"
      ]
     },
     "metadata": {},
     "output_type": "display_data"
    },
    {
     "name": "stdout",
     "output_type": "stream",
     "text": [
      "absl-py (0.15.0)\n",
      "astor (file-astor-VERSION)\n",
      "astunparse (1.6.3)\n",
      "aws-cfn-bootstrap (2.0)\n",
      "bcrypt (3.2.0)\n",
      "beautifulsoup4 (4.9.3)\n",
      "bleach (4.1.0)\n",
      "boto (2.49.0)\n",
      "boto3 (1.21.18)\n",
      "botocore (1.24.18)\n",
      "cachetools (4.1.1)\n",
      "certifi (2021.10.8)\n",
      "cffi (1.15.0)\n",
      "chardet (4.0.0)\n",
      "charset-normalizer (2.0.7)\n",
      "click (8.0.3)\n",
      "cryptography (3.2.1)\n",
      "docutils (0.14)\n",
      "flatbuffers (2.0)\n",
      "funcsigs (1.0.2)\n",
      "gast (0.5.2)\n",
      "google-auth (1.23.0)\n",
      "google-auth-oauthlib (0.4.2)\n",
      "google-pasta (0.2.0)\n",
      "grpcio (1.41.0)\n",
      "h5py (2.10.0)\n",
      "html5lib (1.1)\n",
      "idna (2.10)\n",
      "importlib-metadata (2.0.0)\n",
      "jmespath (0.10.0)\n",
      "joblib (1.1.0)\n",
      "Keras-Applications (1.0.8)\n",
      "Keras-Preprocessing (1.1.2)\n",
      "lockfile (0.11.0)\n",
      "lxml (4.6.3)\n",
      "Markdown (3.3.4)\n",
      "mysqlclient (1.4.2)\n",
      "nltk (3.6.5)\n",
      "nose (1.3.4)\n",
      "numpy (1.16.5)\n",
      "oauthlib (3.1.0)\n",
      "opt-einsum (2.3.2)\n",
      "packaging (21.0)\n",
      "paramiko (2.10.1)\n",
      "pip (9.0.1)\n",
      "plotly (5.6.0)\n",
      "protobuf (3.19.0)\n",
      "py-dateutil (2.2)\n",
      "pyasn1 (0.4.8)\n",
      "pyasn1-modules (0.2.8)\n",
      "pycparser (2.21)\n",
      "PyNaCl (1.5.0)\n",
      "pyparsing (3.0.7)\n",
      "pystache (0.5.4)\n",
      "python-daemon (2.2.3)\n",
      "python-dateutil (2.8.2)\n",
      "python37-sagemaker-pyspark (1.4.1)\n",
      "pytz (2021.3)\n",
      "PyYAML (5.4.1)\n",
      "regex (2021.10.21)\n",
      "requests (2.26.0)\n",
      "requests-oauthlib (1.3.0)\n",
      "rsa (4.6)\n",
      "s3transfer (0.5.2)\n",
      "setuptools (28.8.0)\n",
      "simplejson (3.2.0)\n",
      "six (1.13.0)\n",
      "tenacity (8.0.1)\n",
      "tensorboard (2.4.1)\n",
      "tensorboard-plugin-wit (1.8.0)\n",
      "tensorflow (2.4.1)\n",
      "tensorflow-estimator (2.4.0)\n",
      "termcolor (1.1.0)\n",
      "tqdm (4.62.3)\n",
      "typing-extensions (3.10.0.2)\n",
      "urllib3 (1.26.7)\n",
      "webencodings (0.5.1)\n",
      "Werkzeug (1.0.1)\n",
      "wheel (0.29.0)\n",
      "windmill (1.6)\n",
      "wrapt (1.12.1)\n",
      "zipp (3.4.0)\n",
      "\n",
      "DEPRECATION: The default format will switch to columns in the future. You can use --format=(legacy|columns) (or define a format=(legacy|columns) in your pip.conf under the [list] section) to disable this warning.\n",
      "You are using pip version 9.0.1, however version 22.0.4 is available.\n",
      "You should consider upgrading via the 'pip install --upgrade pip' command."
     ]
    }
   ],
   "source": [
    "sc.list_packages()"
   ]
  },
  {
   "cell_type": "code",
   "execution_count": 7,
   "id": "c2dea561",
   "metadata": {
    "scrolled": true
   },
   "outputs": [
    {
     "data": {
      "application/vnd.jupyter.widget-view+json": {
       "model_id": "",
       "version_major": 2,
       "version_minor": 0
      },
      "text/plain": [
       "FloatProgress(value=0.0, bar_style='info', description='Progress:', layout=Layout(height='25px', width='50%'),…"
      ]
     },
     "metadata": {},
     "output_type": "display_data"
    }
   ],
   "source": [
    "review = spark.read.parquet(\"s3://ash-proj/Parquet/yelp_academic_dataset_review/*.parquet\")"
   ]
  },
  {
   "cell_type": "code",
   "execution_count": 8,
   "id": "ad4ead2a",
   "metadata": {},
   "outputs": [
    {
     "data": {
      "application/vnd.jupyter.widget-view+json": {
       "model_id": "",
       "version_major": 2,
       "version_minor": 0
      },
      "text/plain": [
       "FloatProgress(value=0.0, bar_style='info', description='Progress:', layout=Layout(height='25px', width='50%'),…"
      ]
     },
     "metadata": {},
     "output_type": "display_data"
    }
   ],
   "source": [
    "review = review.drop(\"business_id\",\"date\",\"review_id\",\"user_id\")"
   ]
  },
  {
   "cell_type": "code",
   "execution_count": 9,
   "id": "46ff3448",
   "metadata": {},
   "outputs": [
    {
     "data": {
      "application/vnd.jupyter.widget-view+json": {
       "model_id": "",
       "version_major": 2,
       "version_minor": 0
      },
      "text/plain": [
       "FloatProgress(value=0.0, bar_style='info', description='Progress:', layout=Layout(height='25px', width='50%'),…"
      ]
     },
     "metadata": {},
     "output_type": "display_data"
    },
    {
     "name": "stdout",
     "output_type": "stream",
     "text": [
      "['cool', 'funny', 'stars', 'text', 'useful']"
     ]
    }
   ],
   "source": [
    "review.columns"
   ]
  },
  {
   "cell_type": "code",
   "execution_count": 10,
   "id": "7a1d3453",
   "metadata": {
    "scrolled": true
   },
   "outputs": [
    {
     "data": {
      "application/vnd.jupyter.widget-view+json": {
       "model_id": "",
       "version_major": 2,
       "version_minor": 0
      },
      "text/plain": [
       "FloatProgress(value=0.0, bar_style='info', description='Progress:', layout=Layout(height='25px', width='50%'),…"
      ]
     },
     "metadata": {},
     "output_type": "display_data"
    },
    {
     "name": "stdout",
     "output_type": "stream",
     "text": [
      "8635403"
     ]
    }
   ],
   "source": [
    "review.select(['cool', 'funny', 'stars', 'useful']).count()"
   ]
  },
  {
   "cell_type": "code",
   "execution_count": 11,
   "id": "04cd8a7c",
   "metadata": {},
   "outputs": [
    {
     "data": {
      "application/vnd.jupyter.widget-view+json": {
       "model_id": "",
       "version_major": 2,
       "version_minor": 0
      },
      "text/plain": [
       "FloatProgress(value=0.0, bar_style='info', description='Progress:', layout=Layout(height='25px', width='50%'),…"
      ]
     },
     "metadata": {},
     "output_type": "display_data"
    }
   ],
   "source": [
    "df = review.drop(\"text\")"
   ]
  },
  {
   "cell_type": "code",
   "execution_count": 12,
   "id": "4a565e9f",
   "metadata": {},
   "outputs": [
    {
     "data": {
      "application/vnd.jupyter.widget-view+json": {
       "model_id": "",
       "version_major": 2,
       "version_minor": 0
      },
      "text/plain": [
       "FloatProgress(value=0.0, bar_style='info', description='Progress:', layout=Layout(height='25px', width='50%'),…"
      ]
     },
     "metadata": {},
     "output_type": "display_data"
    }
   ],
   "source": [
    "import pyspark.sql.functions as F\n",
    "df_zero = df.select([F.count(F.when(df[c] != 0, c)).alias(c) for c in df.columns])"
   ]
  },
  {
   "cell_type": "code",
   "execution_count": 13,
   "id": "90045a49",
   "metadata": {},
   "outputs": [
    {
     "data": {
      "application/vnd.jupyter.widget-view+json": {
       "model_id": "",
       "version_major": 2,
       "version_minor": 0
      },
      "text/plain": [
       "FloatProgress(value=0.0, bar_style='info', description='Progress:', layout=Layout(height='25px', width='50%'),…"
      ]
     },
     "metadata": {},
     "output_type": "display_data"
    },
    {
     "name": "stdout",
     "output_type": "stream",
     "text": [
      "+-------+-------+-------+-------+\n",
      "|   cool|  funny|  stars| useful|\n",
      "+-------+-------+-------+-------+\n",
      "|1948423|1596435|8635403|3877235|\n",
      "+-------+-------+-------+-------+"
     ]
    }
   ],
   "source": [
    "df_zero.show()"
   ]
  },
  {
   "cell_type": "code",
   "execution_count": 14,
   "id": "2743af24",
   "metadata": {},
   "outputs": [
    {
     "data": {
      "application/vnd.jupyter.widget-view+json": {
       "model_id": "",
       "version_major": 2,
       "version_minor": 0
      },
      "text/plain": [
       "FloatProgress(value=0.0, bar_style='info', description='Progress:', layout=Layout(height='25px', width='50%'),…"
      ]
     },
     "metadata": {},
     "output_type": "display_data"
    },
    {
     "name": "stdout",
     "output_type": "stream",
     "text": [
      "1948423"
     ]
    }
   ],
   "source": [
    "df_cool = df_zero.collect()[0][0]\n",
    "df_cool"
   ]
  },
  {
   "cell_type": "code",
   "execution_count": 15,
   "id": "d1199469",
   "metadata": {},
   "outputs": [
    {
     "data": {
      "application/vnd.jupyter.widget-view+json": {
       "model_id": "",
       "version_major": 2,
       "version_minor": 0
      },
      "text/plain": [
       "FloatProgress(value=0.0, bar_style='info', description='Progress:', layout=Layout(height='25px', width='50%'),…"
      ]
     },
     "metadata": {},
     "output_type": "display_data"
    },
    {
     "name": "stdout",
     "output_type": "stream",
     "text": [
      "1596435"
     ]
    }
   ],
   "source": [
    "df_funny = df_zero.collect()[0][1]\n",
    "df_funny"
   ]
  },
  {
   "cell_type": "code",
   "execution_count": 16,
   "id": "7ee751d1",
   "metadata": {},
   "outputs": [
    {
     "data": {
      "application/vnd.jupyter.widget-view+json": {
       "model_id": "",
       "version_major": 2,
       "version_minor": 0
      },
      "text/plain": [
       "FloatProgress(value=0.0, bar_style='info', description='Progress:', layout=Layout(height='25px', width='50%'),…"
      ]
     },
     "metadata": {},
     "output_type": "display_data"
    },
    {
     "name": "stdout",
     "output_type": "stream",
     "text": [
      "3877235"
     ]
    }
   ],
   "source": [
    "df_useful = df_zero.collect()[0][3]\n",
    "df_useful"
   ]
  },
  {
   "cell_type": "code",
   "execution_count": 17,
   "id": "10677882",
   "metadata": {
    "scrolled": true
   },
   "outputs": [
    {
     "data": {
      "application/vnd.jupyter.widget-view+json": {
       "model_id": "",
       "version_major": 2,
       "version_minor": 0
      },
      "text/plain": [
       "FloatProgress(value=0.0, bar_style='info', description='Progress:', layout=Layout(height='25px', width='50%'),…"
      ]
     },
     "metadata": {},
     "output_type": "display_data"
    },
    {
     "name": "stdout",
     "output_type": "stream",
     "text": [
      "8635403"
     ]
    }
   ],
   "source": [
    "df_stars = df_zero.collect()[0][2]\n",
    "df_stars"
   ]
  },
  {
   "cell_type": "code",
   "execution_count": 21,
   "id": "ef63756f",
   "metadata": {},
   "outputs": [
    {
     "data": {
      "application/vnd.jupyter.widget-view+json": {
       "model_id": "",
       "version_major": 2,
       "version_minor": 0
      },
      "text/plain": [
       "FloatProgress(value=0.0, bar_style='info', description='Progress:', layout=Layout(height='25px', width='50%'),…"
      ]
     },
     "metadata": {},
     "output_type": "display_data"
    },
    {
     "name": "stderr",
     "output_type": "stream",
     "text": [
      "An error was encountered:\n",
      "invalid syntax (<stdin>, line 1)\n",
      "  File \"<stdin>\", line 1\n",
      "    ipython profile create pyspark\n",
      "                  ^\n",
      "SyntaxError: invalid syntax\n",
      "\n"
     ]
    }
   ],
   "source": [
    "ipython profile create pyspark"
   ]
  },
  {
   "cell_type": "code",
   "execution_count": 18,
   "id": "0daab5cf",
   "metadata": {},
   "outputs": [
    {
     "data": {
      "application/vnd.jupyter.widget-view+json": {
       "model_id": "",
       "version_major": 2,
       "version_minor": 0
      },
      "text/plain": [
       "FloatProgress(value=0.0, bar_style='info', description='Progress:', layout=Layout(height='25px', width='50%'),…"
      ]
     },
     "metadata": {},
     "output_type": "display_data"
    },
    {
     "name": "stderr",
     "output_type": "stream",
     "text": [
      "An error was encountered:\n",
      "Plotly express requires pandas to be installed.\n",
      "Traceback (most recent call last):\n",
      "  File \"/tmp/1647150701437-0/lib/python3.7/site-packages/plotly/express/__init__.py\", line 12, in <module>\n",
      "    Plotly express requires pandas to be installed.\"\"\"\n",
      "ImportError: Plotly express requires pandas to be installed.\n",
      "\n"
     ]
    }
   ],
   "source": [
    "import plotly.express as px\n",
    "\n",
    "v_cool = [val.cool for val in df.select('cool').collect()]\n",
    "\n",
    "hist = px.histogram(df,x=\"cool\")\n",
    "\n",
    "fig.show()"
   ]
  },
  {
   "cell_type": "code",
   "execution_count": 44,
   "id": "55134977",
   "metadata": {},
   "outputs": [
    {
     "data": {
      "application/vnd.jupyter.widget-view+json": {
       "model_id": "",
       "version_major": 2,
       "version_minor": 0
      },
      "text/plain": [
       "FloatProgress(value=0.0, bar_style='info', description='Progress:', layout=Layout(height='25px', width='50%'),…"
      ]
     },
     "metadata": {},
     "output_type": "display_data"
    },
    {
     "name": "stdout",
     "output_type": "stream",
     "text": [
      "0.7743680289153847"
     ]
    }
   ],
   "source": [
    "wg_cool = df_cool/df_stars\n",
    "wg_cool = 1-wg_cool\n",
    "wg_cool"
   ]
  },
  {
   "cell_type": "code",
   "execution_count": 45,
   "id": "ad64cb21",
   "metadata": {},
   "outputs": [
    {
     "data": {
      "application/vnd.jupyter.widget-view+json": {
       "model_id": "",
       "version_major": 2,
       "version_minor": 0
      },
      "text/plain": [
       "FloatProgress(value=0.0, bar_style='info', description='Progress:', layout=Layout(height='25px', width='50%'),…"
      ]
     },
     "metadata": {},
     "output_type": "display_data"
    },
    {
     "name": "stdout",
     "output_type": "stream",
     "text": [
      "0.8151290680932899"
     ]
    }
   ],
   "source": [
    "wg_funny = df_funny/df_stars\n",
    "wg_funny = 1-wg_funny\n",
    "wg_funny"
   ]
  },
  {
   "cell_type": "code",
   "execution_count": 46,
   "id": "545ce53d",
   "metadata": {},
   "outputs": [
    {
     "data": {
      "application/vnd.jupyter.widget-view+json": {
       "model_id": "",
       "version_major": 2,
       "version_minor": 0
      },
      "text/plain": [
       "FloatProgress(value=0.0, bar_style='info', description='Progress:', layout=Layout(height='25px', width='50%'),…"
      ]
     },
     "metadata": {},
     "output_type": "display_data"
    },
    {
     "name": "stdout",
     "output_type": "stream",
     "text": [
      "0.5510070578061035"
     ]
    }
   ],
   "source": [
    "wg_useful = df_useful/df_stars\n",
    "wg_useful = 1-wg_useful\n",
    "wg_useful"
   ]
  },
  {
   "cell_type": "code",
   "execution_count": null,
   "id": "be51ffb9",
   "metadata": {},
   "outputs": [],
   "source": [
    "# binarize rating\n",
    "def convert_rating(rating):\n",
    "    rating = int(rating)\n",
    "    if rating < 2: return 1\n",
    "    else: return 0\n",
    "    \n",
    "\n",
    "# udf\n",
    "punct_remover = udf(lambda x: remove_punct(x))\n",
    "rating_convert = udf(lambda x: convert_rating(x))\n",
    "review_df = review.select('review_id', punct_remover('text'), rating_convert('stars'))\n",
    "review_df = review_df.withColumnRenamed('<lambda>(text)', 'text')\\\n",
    "                     .withColumn('label', review_df[\"<lambda>(stars)\"].cast(IntegerType()))\\\n",
    "                     .drop('<lambda>(stars)')\\\n",
    "                     .limit(5000)"
   ]
  }
 ],
 "metadata": {
  "kernelspec": {
   "display_name": "PySpark",
   "language": "python",
   "name": "pysparkkernel"
  },
  "language_info": {
   "codemirror_mode": {
    "name": "python",
    "version": 3
   },
   "file_extension": ".py",
   "mimetype": "text/x-python",
   "name": "pyspark",
   "pygments_lexer": "python3"
  }
 },
 "nbformat": 4,
 "nbformat_minor": 5
}
