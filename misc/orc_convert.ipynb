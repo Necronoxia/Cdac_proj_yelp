{
 "cells": [
  {
   "cell_type": "code",
   "execution_count": 1,
   "id": "9e6bfe8d",
   "metadata": {
    "execution": {
     "iopub.execute_input": "2022-04-03T07:13:50.581544Z",
     "iopub.status.busy": "2022-04-03T07:13:50.581290Z",
     "iopub.status.idle": "2022-04-03T07:14:19.507038Z",
     "shell.execute_reply": "2022-04-03T07:14:19.506049Z",
     "shell.execute_reply.started": "2022-04-03T07:13:50.581515Z"
    }
   },
   "outputs": [
    {
     "data": {
      "application/vnd.jupyter.widget-view+json": {
       "model_id": "e1327571536e49e1955158a3fc66bf45",
       "version_major": 2,
       "version_minor": 0
      },
      "text/plain": [
       "VBox()"
      ]
     },
     "metadata": {},
     "output_type": "display_data"
    },
    {
     "name": "stdout",
     "output_type": "stream",
     "text": [
      "Starting Spark application\n"
     ]
    },
    {
     "data": {
      "text/html": [
       "<table>\n",
       "<tr><th>ID</th><th>YARN Application ID</th><th>Kind</th><th>State</th><th>Spark UI</th><th>Driver log</th><th>Current session?</th></tr><tr><td>2</td><td>application_1648966508985_0004</td><td>pyspark</td><td>idle</td><td><a target=\"_blank\" href=\"http://ip-172-31-71-21.ec2.internal:20888/proxy/application_1648966508985_0004/\" class=\"emr-proxy-link\" emr-resource=\"j-HW4ET24HM97P\n",
       "\" application-id=\"application_1648966508985_0004\">Link</a></td><td><a target=\"_blank\" href=\"http://ip-172-31-77-232.ec2.internal:8042/node/containerlogs/container_1648966508985_0004_01_000001/livy\" >Link</a></td><td>✔</td></tr></table>"
      ],
      "text/plain": [
       "<IPython.core.display.HTML object>"
      ]
     },
     "metadata": {},
     "output_type": "display_data"
    },
    {
     "data": {
      "application/vnd.jupyter.widget-view+json": {
       "model_id": "",
       "version_major": 2,
       "version_minor": 0
      },
      "text/plain": [
       "FloatProgress(value=0.0, bar_style='info', description='Progress:', layout=Layout(height='25px', width='50%'),…"
      ]
     },
     "metadata": {},
     "output_type": "display_data"
    },
    {
     "name": "stdout",
     "output_type": "stream",
     "text": [
      "SparkSession available as 'spark'.\n"
     ]
    },
    {
     "data": {
      "application/vnd.jupyter.widget-view+json": {
       "model_id": "",
       "version_major": 2,
       "version_minor": 0
      },
      "text/plain": [
       "FloatProgress(value=0.0, bar_style='info', description='Progress:', layout=Layout(height='25px', width='50%'),…"
      ]
     },
     "metadata": {},
     "output_type": "display_data"
    }
   ],
   "source": [
    "import pyspark\n",
    "from pyspark.sql.functions import *\n",
    "from pyspark.sql.functions import udf"
   ]
  },
  {
   "cell_type": "markdown",
   "id": "de7b3e6c",
   "metadata": {},
   "source": [
    "Read json file from S3"
   ]
  },
  {
   "cell_type": "code",
   "execution_count": 2,
   "id": "d802476e",
   "metadata": {
    "execution": {
     "iopub.execute_input": "2022-04-03T07:20:57.598304Z",
     "iopub.status.busy": "2022-04-03T07:20:57.597962Z",
     "iopub.status.idle": "2022-04-03T07:21:47.153349Z",
     "shell.execute_reply": "2022-04-03T07:21:47.152668Z",
     "shell.execute_reply.started": "2022-04-03T07:20:57.598267Z"
    }
   },
   "outputs": [
    {
     "data": {
      "application/vnd.jupyter.widget-view+json": {
       "model_id": "51402b08e440407db4f3d9923c2b5db1",
       "version_major": 2,
       "version_minor": 0
      },
      "text/plain": [
       "VBox()"
      ]
     },
     "metadata": {},
     "output_type": "display_data"
    },
    {
     "data": {
      "application/vnd.jupyter.widget-view+json": {
       "model_id": "",
       "version_major": 2,
       "version_minor": 0
      },
      "text/plain": [
       "FloatProgress(value=0.0, bar_style='info', description='Progress:', layout=Layout(height='25px', width='50%'),…"
      ]
     },
     "metadata": {},
     "output_type": "display_data"
    }
   ],
   "source": [
    "review = spark.read.load(\"s3://akshay-yelp/yelp_academic_dataset_review.json\", format=\"json\")"
   ]
  },
  {
   "cell_type": "code",
   "execution_count": 3,
   "id": "6963bb8e",
   "metadata": {
    "execution": {
     "iopub.execute_input": "2022-04-03T07:21:51.842989Z",
     "iopub.status.busy": "2022-04-03T07:21:51.842695Z",
     "iopub.status.idle": "2022-04-03T07:21:52.119810Z",
     "shell.execute_reply": "2022-04-03T07:21:52.118918Z",
     "shell.execute_reply.started": "2022-04-03T07:21:51.842964Z"
    },
    "scrolled": true
   },
   "outputs": [
    {
     "data": {
      "application/vnd.jupyter.widget-view+json": {
       "model_id": "a56b00c31334432c9c671cf5b5d0a3ba",
       "version_major": 2,
       "version_minor": 0
      },
      "text/plain": [
       "VBox()"
      ]
     },
     "metadata": {},
     "output_type": "display_data"
    },
    {
     "data": {
      "application/vnd.jupyter.widget-view+json": {
       "model_id": "",
       "version_major": 2,
       "version_minor": 0
      },
      "text/plain": [
       "FloatProgress(value=0.0, bar_style='info', description='Progress:', layout=Layout(height='25px', width='50%'),…"
      ]
     },
     "metadata": {},
     "output_type": "display_data"
    },
    {
     "name": "stdout",
     "output_type": "stream",
     "text": [
      "root\n",
      " |-- business_id: string (nullable = true)\n",
      " |-- cool: long (nullable = true)\n",
      " |-- date: string (nullable = true)\n",
      " |-- funny: long (nullable = true)\n",
      " |-- review_id: string (nullable = true)\n",
      " |-- stars: double (nullable = true)\n",
      " |-- text: string (nullable = true)\n",
      " |-- useful: long (nullable = true)\n",
      " |-- user_id: string (nullable = true)"
     ]
    }
   ],
   "source": [
    "review.printSchema()"
   ]
  },
  {
   "cell_type": "markdown",
   "id": "016b550b",
   "metadata": {},
   "source": [
    "Converting into orc"
   ]
  },
  {
   "cell_type": "code",
   "execution_count": 6,
   "id": "d9459735",
   "metadata": {
    "execution": {
     "iopub.execute_input": "2022-04-03T07:23:38.131262Z",
     "iopub.status.busy": "2022-04-03T07:23:38.131042Z",
     "iopub.status.idle": "2022-04-03T07:24:27.607370Z",
     "shell.execute_reply": "2022-04-03T07:24:27.606677Z",
     "shell.execute_reply.started": "2022-04-03T07:23:38.131239Z"
    },
    "tags": []
   },
   "outputs": [
    {
     "data": {
      "application/vnd.jupyter.widget-view+json": {
       "model_id": "f528adb89d704d429da725c6661adabf",
       "version_major": 2,
       "version_minor": 0
      },
      "text/plain": [
       "VBox()"
      ]
     },
     "metadata": {},
     "output_type": "display_data"
    },
    {
     "data": {
      "application/vnd.jupyter.widget-view+json": {
       "model_id": "",
       "version_major": 2,
       "version_minor": 0
      },
      "text/plain": [
       "FloatProgress(value=0.0, bar_style='info', description='Progress:', layout=Layout(height='25px', width='50%'),…"
      ]
     },
     "metadata": {},
     "output_type": "display_data"
    }
   ],
   "source": [
    "review.write.orc(\"s3://akshay-yelp/yelp_orc_convert/\")"
   ]
  },
  {
   "cell_type": "markdown",
   "id": "624db629",
   "metadata": {},
   "source": [
    "Convertinng into parquet"
   ]
  },
  {
   "cell_type": "code",
   "execution_count": 7,
   "id": "43b7c2ab",
   "metadata": {
    "execution": {
     "iopub.execute_input": "2022-04-03T07:24:33.443749Z",
     "iopub.status.busy": "2022-04-03T07:24:33.443518Z",
     "iopub.status.idle": "2022-04-03T07:24:33.506933Z",
     "shell.execute_reply": "2022-04-03T07:24:33.506257Z",
     "shell.execute_reply.started": "2022-04-03T07:24:33.443725Z"
    }
   },
   "outputs": [
    {
     "data": {
      "application/vnd.jupyter.widget-view+json": {
       "model_id": "4d5d1307c8f0453ab1c0dc1fcb7393dc",
       "version_major": 2,
       "version_minor": 0
      },
      "text/plain": [
       "VBox()"
      ]
     },
     "metadata": {},
     "output_type": "display_data"
    },
    {
     "data": {
      "application/vnd.jupyter.widget-view+json": {
       "model_id": "",
       "version_major": 2,
       "version_minor": 0
      },
      "text/plain": [
       "FloatProgress(value=0.0, bar_style='info', description='Progress:', layout=Layout(height='25px', width='50%'),…"
      ]
     },
     "metadata": {},
     "output_type": "display_data"
    }
   ],
   "source": [
    "#review.write.parquet(\"s3://yelp-work-repo-backup-s26-urc/yelp_academic_dataset_review_parquet\") "
   ]
  },
  {
   "cell_type": "code",
   "execution_count": 8,
   "id": "770bb2ab",
   "metadata": {
    "execution": {
     "iopub.execute_input": "2022-04-03T07:24:33.825532Z",
     "iopub.status.busy": "2022-04-03T07:24:33.825283Z",
     "iopub.status.idle": "2022-04-03T07:24:33.883613Z",
     "shell.execute_reply": "2022-04-03T07:24:33.882971Z",
     "shell.execute_reply.started": "2022-04-03T07:24:33.825506Z"
    }
   },
   "outputs": [
    {
     "data": {
      "application/vnd.jupyter.widget-view+json": {
       "model_id": "b020a62c4c5f4aa8970b48a9b1823f15",
       "version_major": 2,
       "version_minor": 0
      },
      "text/plain": [
       "VBox()"
      ]
     },
     "metadata": {},
     "output_type": "display_data"
    },
    {
     "data": {
      "application/vnd.jupyter.widget-view+json": {
       "model_id": "",
       "version_major": 2,
       "version_minor": 0
      },
      "text/plain": [
       "FloatProgress(value=0.0, bar_style='info', description='Progress:', layout=Layout(height='25px', width='50%'),…"
      ]
     },
     "metadata": {},
     "output_type": "display_data"
    }
   ],
   "source": [
    "#df = spark.read.parquet(\"s3://yelp-work-repo-backup-s26-urc/yelp_academic_dataset_review_parquet/*.parquet\")"
   ]
  },
  {
   "cell_type": "code",
   "execution_count": 9,
   "id": "7d79c6ce",
   "metadata": {
    "execution": {
     "iopub.execute_input": "2022-04-03T07:24:34.267571Z",
     "iopub.status.busy": "2022-04-03T07:24:34.267344Z",
     "iopub.status.idle": "2022-04-03T07:24:34.321691Z",
     "shell.execute_reply": "2022-04-03T07:24:34.321137Z",
     "shell.execute_reply.started": "2022-04-03T07:24:34.267548Z"
    }
   },
   "outputs": [
    {
     "data": {
      "application/vnd.jupyter.widget-view+json": {
       "model_id": "15179cefbc844f6082df85db2c87191e",
       "version_major": 2,
       "version_minor": 0
      },
      "text/plain": [
       "VBox()"
      ]
     },
     "metadata": {},
     "output_type": "display_data"
    },
    {
     "data": {
      "application/vnd.jupyter.widget-view+json": {
       "model_id": "",
       "version_major": 2,
       "version_minor": 0
      },
      "text/plain": [
       "FloatProgress(value=0.0, bar_style='info', description='Progress:', layout=Layout(height='25px', width='50%'),…"
      ]
     },
     "metadata": {},
     "output_type": "display_data"
    }
   ],
   "source": [
    "#df.show()"
   ]
  },
  {
   "cell_type": "markdown",
   "id": "750f89dc",
   "metadata": {},
   "source": [
    "Reading orc"
   ]
  },
  {
   "cell_type": "code",
   "execution_count": 10,
   "id": "965ac186",
   "metadata": {
    "execution": {
     "iopub.execute_input": "2022-04-03T07:25:26.108067Z",
     "iopub.status.busy": "2022-04-03T07:25:26.107835Z",
     "iopub.status.idle": "2022-04-03T07:25:28.419460Z",
     "shell.execute_reply": "2022-04-03T07:25:28.418556Z",
     "shell.execute_reply.started": "2022-04-03T07:25:26.108042Z"
    }
   },
   "outputs": [
    {
     "data": {
      "application/vnd.jupyter.widget-view+json": {
       "model_id": "d80cf0d9d3984e698a7275602ced3383",
       "version_major": 2,
       "version_minor": 0
      },
      "text/plain": [
       "VBox()"
      ]
     },
     "metadata": {},
     "output_type": "display_data"
    },
    {
     "data": {
      "application/vnd.jupyter.widget-view+json": {
       "model_id": "",
       "version_major": 2,
       "version_minor": 0
      },
      "text/plain": [
       "FloatProgress(value=0.0, bar_style='info', description='Progress:', layout=Layout(height='25px', width='50%'),…"
      ]
     },
     "metadata": {},
     "output_type": "display_data"
    }
   ],
   "source": [
    "df = spark.read.orc(\"s3://akshay-yelp/yelp_orc_convert/*.orc\")"
   ]
  },
  {
   "cell_type": "code",
   "execution_count": 11,
   "id": "4291b72f",
   "metadata": {
    "execution": {
     "iopub.execute_input": "2022-04-03T07:25:30.409942Z",
     "iopub.status.busy": "2022-04-03T07:25:30.409700Z",
     "iopub.status.idle": "2022-04-03T07:25:30.467108Z",
     "shell.execute_reply": "2022-04-03T07:25:30.466513Z",
     "shell.execute_reply.started": "2022-04-03T07:25:30.409918Z"
    },
    "scrolled": true
   },
   "outputs": [
    {
     "data": {
      "application/vnd.jupyter.widget-view+json": {
       "model_id": "84d62d7026d440c280a417c177b153c5",
       "version_major": 2,
       "version_minor": 0
      },
      "text/plain": [
       "VBox()"
      ]
     },
     "metadata": {},
     "output_type": "display_data"
    },
    {
     "data": {
      "application/vnd.jupyter.widget-view+json": {
       "model_id": "",
       "version_major": 2,
       "version_minor": 0
      },
      "text/plain": [
       "FloatProgress(value=0.0, bar_style='info', description='Progress:', layout=Layout(height='25px', width='50%'),…"
      ]
     },
     "metadata": {},
     "output_type": "display_data"
    },
    {
     "name": "stdout",
     "output_type": "stream",
     "text": [
      "root\n",
      " |-- business_id: string (nullable = true)\n",
      " |-- cool: long (nullable = true)\n",
      " |-- date: string (nullable = true)\n",
      " |-- funny: long (nullable = true)\n",
      " |-- review_id: string (nullable = true)\n",
      " |-- stars: double (nullable = true)\n",
      " |-- text: string (nullable = true)\n",
      " |-- useful: long (nullable = true)\n",
      " |-- user_id: string (nullable = true)"
     ]
    }
   ],
   "source": [
    "df.printSchema()"
   ]
  },
  {
   "cell_type": "markdown",
   "id": "7897be02",
   "metadata": {},
   "source": [
    "Review Dataframe"
   ]
  },
  {
   "cell_type": "code",
   "execution_count": 12,
   "id": "abbd5ecf",
   "metadata": {
    "execution": {
     "iopub.execute_input": "2022-04-03T07:25:36.330268Z",
     "iopub.status.busy": "2022-04-03T07:25:36.329996Z",
     "iopub.status.idle": "2022-04-03T07:25:38.629890Z",
     "shell.execute_reply": "2022-04-03T07:25:38.621170Z",
     "shell.execute_reply.started": "2022-04-03T07:25:36.330243Z"
    }
   },
   "outputs": [
    {
     "data": {
      "application/vnd.jupyter.widget-view+json": {
       "model_id": "efe0f429d75b4cb29b794cc382563735",
       "version_major": 2,
       "version_minor": 0
      },
      "text/plain": [
       "VBox()"
      ]
     },
     "metadata": {},
     "output_type": "display_data"
    },
    {
     "data": {
      "application/vnd.jupyter.widget-view+json": {
       "model_id": "",
       "version_major": 2,
       "version_minor": 0
      },
      "text/plain": [
       "FloatProgress(value=0.0, bar_style='info', description='Progress:', layout=Layout(height='25px', width='50%'),…"
      ]
     },
     "metadata": {},
     "output_type": "display_data"
    },
    {
     "name": "stdout",
     "output_type": "stream",
     "text": [
      "+--------------------+----+-------------------+-----+--------------------+-----+--------------------+------+--------------------+\n",
      "|         business_id|cool|               date|funny|           review_id|stars|                text|useful|             user_id|\n",
      "+--------------------+----+-------------------+-----+--------------------+-----+--------------------+------+--------------------+\n",
      "|y7Ssng5Bnl75QiZUE...|   0|2016-03-06 08:49:08|    0|lyjloY7uVRsaOZObr...|  4.0|Ever wanted too j...|     0|Vu1P84ifxzFeQ9qRF...|\n",
      "|4fzjAjzLCnjWfQP1s...|   0|2013-12-04 22:37:18|    0|GfPzojSq1cin_fOdf...|  5.0|Dry-aged bone-in ...|     0|J1n84Z7tRI8Y7nhFU...|\n",
      "|KZEYzpFSC25cuuclg...|   0|2011-03-08 22:00:44|    0|lFphcMI6ZN2uFA8wg...|  5.0|I lived in Boston...|     2|uWHsX45RpNabc9X4x...|\n",
      "|pwejc1NUK6cQz7aK_...|   1|2007-11-24 22:38:04|    0|oQDDv49nI55lHzsI3...|  3.0|Some good things ...|     0|iDA5qOj534am_AacK...|\n",
      "|sRNcBkZrs2bOrijfE...|   0|2013-11-08 17:40:00|    0|78ZDs404elxc0f1i-...|  4.0|Great place to gr...|     0|qa3pHamIloSgsqGp9...|\n",
      "|u54RTYX1a5EvVdog6...|   1|2011-12-30 15:47:05|    5|Lis1PdpSAKYO2Xphi...|  1.0|It's like the Wal...|     5|6av8o8TnKit53_HCe...|\n",
      "|NN7vECA5YJFR0Oynw...|   0|2015-03-04 01:01:13|    0|rljvWIfb2b_xj8uIU...|  5.0|The food was incr...|     0|tLiNUSqo3_sSVHmku...|\n",
      "|9rIAl_UPCS3ODRMdS...|   0|2017-07-17 18:07:51|    0|7VJ0lBAmGl7AmuQbC...|  5.0|Haven't been so h...|     0|HFTI8I3PM-7UHb6Dh...|\n",
      "|uXyjhqbFmdIIPksB1...|   0|2018-10-18 16:27:45|    0|7GIrNltYAvEVSHZO8...|  5.0|These guys helped...|     0|rxezsXa00PO7EybNg...|\n",
      "|AkAdnB4emHqTmrkwY...|   0|2014-08-24 16:33:07|    0|ofXfh-pMLy4k0Thlq...|  4.0|great service and...|     0|gQ0mtVy_E81VPHNA7...|\n",
      "|3MxwPlPKRruNetbUV...|   0|2010-03-01 15:54:00|    0|Y0VU0bLJOF33U2bG7...|  5.0|Wasn't expecting ...|     0|K4lFapFzYERNMoqhu...|\n",
      "|zE0EGIsOdAO83xE3C...|   0|2013-07-08 00:12:48|    0|dAHXLHtQmKD0gRttL...|  4.0|I was really exci...|     0|yJT7Q4NWkBFCvBy_8...|\n",
      "|lORvOUQWdp8DsCAFf...|   0|2011-01-01 14:20:58|    0|5do4h1fz4tugc-W_H...|  4.0|Delightful dinner...|     0|NW1-UVULIoEXAqaOZ...|\n",
      "|4CxF8c3MB7VAdY8zF...|   0|2017-03-26 13:22:09|    0|yd8Av1TWYd7fgubs8...|  5.0|\"Good things come...|     0|XKPkWPTzXVKgAf4nU...|\n",
      "|ghg35KWOhKzdmsTUZ...|   0|2012-08-07 16:19:25|    1|HtlSBk4RQAVPqfW7Z...|  1.0|Well this place h...|     1|iG3gum5-WWj7LTi8w...|\n",
      "|fD5uCmtXSMilFYvqm...|   2|2010-01-05 14:47:26|    2|G3dxubA1jPSmmTD2C...|  3.0|I like the idea o...|     3|YPZx80g-3Ui2kgLC-...|\n",
      "|7CVNlfrNXlWJs0sX1...|   0|2011-08-23 14:50:15|    0|5uSCoKT5zO0Kmn0Wb...|  5.0|Great service and...|     1|0qWBGhpQvy-6--iwp...|\n",
      "|fEKzWC1sbfZSElp46...|   1|2015-01-13 21:29:30|    1|mYOVrcrRoqMagefTp...|  4.0|BIGGEST TIP?\n",
      "Forg...|     6|ILZtzt-3oEmLu8c1r...|\n",
      "|Jfo67szC_PYNYRaC8...|   0|2007-09-30 18:19:16|    1|rE4fSpd05jpGMbe4S...|  1.0|I went to this pl...|     3|wahUL1G7yX2wrkjbq...|\n",
      "|ZXGfbTSdiev70Cxj5...|   0|2018-03-30 16:39:58|    0|xLRe59g6MnWxXaJny...|  1.0|Ordered a fish sa...|     0|g4ub88KkJeTSfuvVQ...|\n",
      "+--------------------+----+-------------------+-----+--------------------+-----+--------------------+------+--------------------+\n",
      "only showing top 20 rows"
     ]
    }
   ],
   "source": [
    "df.show()"
   ]
  },
  {
   "cell_type": "code",
   "execution_count": 13,
   "id": "7222673f",
   "metadata": {
    "execution": {
     "iopub.execute_input": "2022-04-03T07:25:46.500697Z",
     "iopub.status.busy": "2022-04-03T07:25:46.500450Z",
     "iopub.status.idle": "2022-04-03T07:25:46.769368Z",
     "shell.execute_reply": "2022-04-03T07:25:46.768770Z",
     "shell.execute_reply.started": "2022-04-03T07:25:46.500671Z"
    }
   },
   "outputs": [
    {
     "data": {
      "application/vnd.jupyter.widget-view+json": {
       "model_id": "6fbf08b1d7604e68908be3c686f0d6e7",
       "version_major": 2,
       "version_minor": 0
      },
      "text/plain": [
       "VBox()"
      ]
     },
     "metadata": {},
     "output_type": "display_data"
    },
    {
     "data": {
      "application/vnd.jupyter.widget-view+json": {
       "model_id": "",
       "version_major": 2,
       "version_minor": 0
      },
      "text/plain": [
       "FloatProgress(value=0.0, bar_style='info', description='Progress:', layout=Layout(height='25px', width='50%'),…"
      ]
     },
     "metadata": {},
     "output_type": "display_data"
    }
   ],
   "source": [
    "spark.sparkContext.stop()"
   ]
  },
  {
   "cell_type": "code",
   "execution_count": null,
   "id": "b447abb5",
   "metadata": {},
   "outputs": [],
   "source": []
  }
 ],
 "metadata": {
  "kernelspec": {
   "display_name": "Python 3",
   "language": "python",
   "name": "python3"
  },
  "language_info": {
   "codemirror_mode": {
    "name": "ipython",
    "version": 3
   },
   "file_extension": ".py",
   "mimetype": "text/x-python",
   "name": "python",
   "nbconvert_exporter": "python",
   "pygments_lexer": "ipython3",
   "version": "3.8.8"
  }
 },
 "nbformat": 4,
 "nbformat_minor": 5
}
