{
 "cells": [
  {
   "cell_type": "code",
   "execution_count": 1,
   "id": "d108df32",
   "metadata": {},
   "outputs": [
    {
     "name": "stdout",
     "output_type": "stream",
     "text": [
      "Starting Spark application\n"
     ]
    },
    {
     "data": {
      "text/html": [
       "<table>\n",
       "<tr><th>ID</th><th>YARN Application ID</th><th>Kind</th><th>State</th><th>Spark UI</th><th>Driver log</th><th>User</th><th>Current session?</th></tr><tr><td>0</td><td>application_1646978441780_0001</td><td>pyspark</td><td>idle</td><td><a target=\"_blank\" href=\"http://ip-172-31-74-182.ec2.internal:20888/proxy/application_1646978441780_0001/\">Link</a></td><td><a target=\"_blank\" href=\"http://ip-172-31-66-9.ec2.internal:8042/node/containerlogs/container_1646978441780_0001_01_000001/livy\">Link</a></td><td>None</td><td>✔</td></tr></table>"
      ],
      "text/plain": [
       "<IPython.core.display.HTML object>"
      ]
     },
     "metadata": {},
     "output_type": "display_data"
    },
    {
     "data": {
      "application/vnd.jupyter.widget-view+json": {
       "model_id": "",
       "version_major": 2,
       "version_minor": 0
      },
      "text/plain": [
       "FloatProgress(value=0.0, bar_style='info', description='Progress:', layout=Layout(height='25px', width='50%'),…"
      ]
     },
     "metadata": {},
     "output_type": "display_data"
    },
    {
     "name": "stdout",
     "output_type": "stream",
     "text": [
      "SparkSession available as 'spark'.\n"
     ]
    },
    {
     "data": {
      "application/vnd.jupyter.widget-view+json": {
       "model_id": "",
       "version_major": 2,
       "version_minor": 0
      },
      "text/plain": [
       "FloatProgress(value=0.0, bar_style='info', description='Progress:', layout=Layout(height='25px', width='50%'),…"
      ]
     },
     "metadata": {},
     "output_type": "display_data"
    }
   ],
   "source": [
    "import pyspark"
   ]
  },
  {
   "cell_type": "code",
   "execution_count": 11,
   "id": "6d338282",
   "metadata": {},
   "outputs": [
    {
     "name": "stdout",
     "output_type": "stream",
     "text": [
      "Starting Spark application\n"
     ]
    },
    {
     "data": {
      "text/html": [
       "<table>\n",
       "<tr><th>ID</th><th>YARN Application ID</th><th>Kind</th><th>State</th><th>Spark UI</th><th>Driver log</th><th>User</th><th>Current session?</th></tr><tr><td>1</td><td>application_1646978441780_0002</td><td>pyspark</td><td>idle</td><td><a target=\"_blank\" href=\"http://ip-172-31-74-182.ec2.internal:20888/proxy/application_1646978441780_0002/\">Link</a></td><td><a target=\"_blank\" href=\"http://ip-172-31-66-9.ec2.internal:8042/node/containerlogs/container_1646978441780_0002_01_000001/livy\">Link</a></td><td>None</td><td>✔</td></tr></table>"
      ],
      "text/plain": [
       "<IPython.core.display.HTML object>"
      ]
     },
     "metadata": {},
     "output_type": "display_data"
    },
    {
     "data": {
      "application/vnd.jupyter.widget-view+json": {
       "model_id": "",
       "version_major": 2,
       "version_minor": 0
      },
      "text/plain": [
       "FloatProgress(value=0.0, bar_style='info', description='Progress:', layout=Layout(height='25px', width='50%'),…"
      ]
     },
     "metadata": {},
     "output_type": "display_data"
    },
    {
     "name": "stdout",
     "output_type": "stream",
     "text": [
      "SparkSession available as 'spark'.\n"
     ]
    },
    {
     "data": {
      "text/html": [
       "Current session configs: <tt>{'executorMemory': '4G', 'proxyUser': 'jovyan', 'kind': 'pyspark'}</tt><br>"
      ],
      "text/plain": [
       "<IPython.core.display.HTML object>"
      ]
     },
     "metadata": {},
     "output_type": "display_data"
    },
    {
     "data": {
      "text/html": [
       "<table>\n",
       "<tr><th>ID</th><th>YARN Application ID</th><th>Kind</th><th>State</th><th>Spark UI</th><th>Driver log</th><th>User</th><th>Current session?</th></tr><tr><td>1</td><td>application_1646978441780_0002</td><td>pyspark</td><td>idle</td><td><a target=\"_blank\" href=\"http://ip-172-31-74-182.ec2.internal:20888/proxy/application_1646978441780_0002/\">Link</a></td><td><a target=\"_blank\" href=\"http://ip-172-31-66-9.ec2.internal:8042/node/containerlogs/container_1646978441780_0002_01_000001/livy\">Link</a></td><td>None</td><td>✔</td></tr></table>"
      ],
      "text/plain": [
       "<IPython.core.display.HTML object>"
      ]
     },
     "metadata": {},
     "output_type": "display_data"
    }
   ],
   "source": [
    "%%configure -f\n",
    "{\"executorMemory\": \"4G\"}"
   ]
  },
  {
   "cell_type": "code",
   "execution_count": 13,
   "id": "c2dea561",
   "metadata": {},
   "outputs": [
    {
     "data": {
      "application/vnd.jupyter.widget-view+json": {
       "model_id": "",
       "version_major": 2,
       "version_minor": 0
      },
      "text/plain": [
       "FloatProgress(value=0.0, bar_style='info', description='Progress:', layout=Layout(height='25px', width='50%'),…"
      ]
     },
     "metadata": {},
     "output_type": "display_data"
    }
   ],
   "source": [
    "review = spark.read.parquet(\"s3://ash-proj/Parquet/yelp_academic_dataset_review/*.parquet\")"
   ]
  },
  {
   "cell_type": "code",
   "execution_count": 14,
   "id": "ef883b12",
   "metadata": {},
   "outputs": [
    {
     "data": {
      "application/vnd.jupyter.widget-view+json": {
       "model_id": "",
       "version_major": 2,
       "version_minor": 0
      },
      "text/plain": [
       "FloatProgress(value=0.0, bar_style='info', description='Progress:', layout=Layout(height='25px', width='50%'),…"
      ]
     },
     "metadata": {},
     "output_type": "display_data"
    },
    {
     "name": "stdout",
     "output_type": "stream",
     "text": [
      "+--------------------+----+-------------------+-----+--------------------+-----+--------------------+------+--------------------+\n",
      "|         business_id|cool|               date|funny|           review_id|stars|                text|useful|             user_id|\n",
      "+--------------------+----+-------------------+-----+--------------------+-----+--------------------+------+--------------------+\n",
      "|y7Ssng5Bnl75QiZUE...|   0|2016-03-06 08:49:08|    0|lyjloY7uVRsaOZObr...|  4.0|Ever wanted too j...|     0|Vu1P84ifxzFeQ9qRF...|\n",
      "|4fzjAjzLCnjWfQP1s...|   0|2013-12-04 22:37:18|    0|GfPzojSq1cin_fOdf...|  5.0|Dry-aged bone-in ...|     0|J1n84Z7tRI8Y7nhFU...|\n",
      "|KZEYzpFSC25cuuclg...|   0|2011-03-08 22:00:44|    0|lFphcMI6ZN2uFA8wg...|  5.0|I lived in Boston...|     2|uWHsX45RpNabc9X4x...|\n",
      "|pwejc1NUK6cQz7aK_...|   1|2007-11-24 22:38:04|    0|oQDDv49nI55lHzsI3...|  3.0|Some good things ...|     0|iDA5qOj534am_AacK...|\n",
      "|sRNcBkZrs2bOrijfE...|   0|2013-11-08 17:40:00|    0|78ZDs404elxc0f1i-...|  4.0|Great place to gr...|     0|qa3pHamIloSgsqGp9...|\n",
      "|u54RTYX1a5EvVdog6...|   1|2011-12-30 15:47:05|    5|Lis1PdpSAKYO2Xphi...|  1.0|It's like the Wal...|     5|6av8o8TnKit53_HCe...|\n",
      "|NN7vECA5YJFR0Oynw...|   0|2015-03-04 01:01:13|    0|rljvWIfb2b_xj8uIU...|  5.0|The food was incr...|     0|tLiNUSqo3_sSVHmku...|\n",
      "|9rIAl_UPCS3ODRMdS...|   0|2017-07-17 18:07:51|    0|7VJ0lBAmGl7AmuQbC...|  5.0|Haven't been so h...|     0|HFTI8I3PM-7UHb6Dh...|\n",
      "|uXyjhqbFmdIIPksB1...|   0|2018-10-18 16:27:45|    0|7GIrNltYAvEVSHZO8...|  5.0|These guys helped...|     0|rxezsXa00PO7EybNg...|\n",
      "|AkAdnB4emHqTmrkwY...|   0|2014-08-24 16:33:07|    0|ofXfh-pMLy4k0Thlq...|  4.0|great service and...|     0|gQ0mtVy_E81VPHNA7...|\n",
      "|3MxwPlPKRruNetbUV...|   0|2010-03-01 15:54:00|    0|Y0VU0bLJOF33U2bG7...|  5.0|Wasn't expecting ...|     0|K4lFapFzYERNMoqhu...|\n",
      "|zE0EGIsOdAO83xE3C...|   0|2013-07-08 00:12:48|    0|dAHXLHtQmKD0gRttL...|  4.0|I was really exci...|     0|yJT7Q4NWkBFCvBy_8...|\n",
      "|lORvOUQWdp8DsCAFf...|   0|2011-01-01 14:20:58|    0|5do4h1fz4tugc-W_H...|  4.0|Delightful dinner...|     0|NW1-UVULIoEXAqaOZ...|\n",
      "|4CxF8c3MB7VAdY8zF...|   0|2017-03-26 13:22:09|    0|yd8Av1TWYd7fgubs8...|  5.0|\"Good things come...|     0|XKPkWPTzXVKgAf4nU...|\n",
      "|ghg35KWOhKzdmsTUZ...|   0|2012-08-07 16:19:25|    1|HtlSBk4RQAVPqfW7Z...|  1.0|Well this place h...|     1|iG3gum5-WWj7LTi8w...|\n",
      "|fD5uCmtXSMilFYvqm...|   2|2010-01-05 14:47:26|    2|G3dxubA1jPSmmTD2C...|  3.0|I like the idea o...|     3|YPZx80g-3Ui2kgLC-...|\n",
      "|7CVNlfrNXlWJs0sX1...|   0|2011-08-23 14:50:15|    0|5uSCoKT5zO0Kmn0Wb...|  5.0|Great service and...|     1|0qWBGhpQvy-6--iwp...|\n",
      "|fEKzWC1sbfZSElp46...|   1|2015-01-13 21:29:30|    1|mYOVrcrRoqMagefTp...|  4.0|BIGGEST TIP?\n",
      "Forg...|     6|ILZtzt-3oEmLu8c1r...|\n",
      "|Jfo67szC_PYNYRaC8...|   0|2007-09-30 18:19:16|    1|rE4fSpd05jpGMbe4S...|  1.0|I went to this pl...|     3|wahUL1G7yX2wrkjbq...|\n",
      "|ZXGfbTSdiev70Cxj5...|   0|2018-03-30 16:39:58|    0|xLRe59g6MnWxXaJny...|  1.0|Ordered a fish sa...|     0|g4ub88KkJeTSfuvVQ...|\n",
      "+--------------------+----+-------------------+-----+--------------------+-----+--------------------+------+--------------------+\n",
      "only showing top 20 rows"
     ]
    }
   ],
   "source": [
    "review.show()"
   ]
  },
  {
   "cell_type": "code",
   "execution_count": 5,
   "id": "ccb42437",
   "metadata": {},
   "outputs": [
    {
     "data": {
      "application/vnd.jupyter.widget-view+json": {
       "model_id": "",
       "version_major": 2,
       "version_minor": 0
      },
      "text/plain": [
       "FloatProgress(value=0.0, bar_style='info', description='Progress:', layout=Layout(height='25px', width='50%'),…"
      ]
     },
     "metadata": {},
     "output_type": "display_data"
    },
    {
     "name": "stdout",
     "output_type": "stream",
     "text": [
      "StructType(List(StructField(business_id,StringType,true),StructField(cool,LongType,true),StructField(date,StringType,true),StructField(funny,LongType,true),StructField(review_id,StringType,true),StructField(stars,DoubleType,true),StructField(text,StringType,true),StructField(useful,LongType,true),StructField(user_id,StringType,true)))"
     ]
    }
   ],
   "source": [
    "review.withColumn(\"Agg\",col(\"\")* -1)\n",
    "    .show(false)"
   ]
  },
  {
   "cell_type": "code",
   "execution_count": 15,
   "id": "ad4ead2a",
   "metadata": {},
   "outputs": [
    {
     "data": {
      "application/vnd.jupyter.widget-view+json": {
       "model_id": "",
       "version_major": 2,
       "version_minor": 0
      },
      "text/plain": [
       "FloatProgress(value=0.0, bar_style='info', description='Progress:', layout=Layout(height='25px', width='50%'),…"
      ]
     },
     "metadata": {},
     "output_type": "display_data"
    }
   ],
   "source": [
    "review = review.drop(\"business_id\",\"date\",\"review_id\",\"user_id\")"
   ]
  },
  {
   "cell_type": "code",
   "execution_count": 17,
   "id": "46ff3448",
   "metadata": {},
   "outputs": [
    {
     "data": {
      "application/vnd.jupyter.widget-view+json": {
       "model_id": "",
       "version_major": 2,
       "version_minor": 0
      },
      "text/plain": [
       "FloatProgress(value=0.0, bar_style='info', description='Progress:', layout=Layout(height='25px', width='50%'),…"
      ]
     },
     "metadata": {},
     "output_type": "display_data"
    },
    {
     "name": "stdout",
     "output_type": "stream",
     "text": [
      "['cool', 'funny', 'stars', 'text', 'useful']"
     ]
    }
   ],
   "source": [
    "review.columns"
   ]
  },
  {
   "cell_type": "code",
   "execution_count": 19,
   "id": "7a1d3453",
   "metadata": {},
   "outputs": [
    {
     "data": {
      "application/vnd.jupyter.widget-view+json": {
       "model_id": "",
       "version_major": 2,
       "version_minor": 0
      },
      "text/plain": [
       "FloatProgress(value=0.0, bar_style='info', description='Progress:', layout=Layout(height='25px', width='50%'),…"
      ]
     },
     "metadata": {},
     "output_type": "display_data"
    },
    {
     "name": "stdout",
     "output_type": "stream",
     "text": [
      "8635403"
     ]
    }
   ],
   "source": [
    "review.select(['cool', 'funny', 'stars', 'useful']).count()"
   ]
  },
  {
   "cell_type": "code",
   "execution_count": 20,
   "id": "e2a0d5ff",
   "metadata": {},
   "outputs": [
    {
     "data": {
      "application/vnd.jupyter.widget-view+json": {
       "model_id": "",
       "version_major": 2,
       "version_minor": 0
      },
      "text/plain": [
       "FloatProgress(value=0.0, bar_style='info', description='Progress:', layout=Layout(height='25px', width='50%'),…"
      ]
     },
     "metadata": {},
     "output_type": "display_data"
    }
   ],
   "source": [
    "df = review.drop(\"text\")"
   ]
  },
  {
   "cell_type": "code",
   "execution_count": 22,
   "id": "4a565e9f",
   "metadata": {},
   "outputs": [
    {
     "data": {
      "application/vnd.jupyter.widget-view+json": {
       "model_id": "",
       "version_major": 2,
       "version_minor": 0
      },
      "text/plain": [
       "FloatProgress(value=0.0, bar_style='info', description='Progress:', layout=Layout(height='25px', width='50%'),…"
      ]
     },
     "metadata": {},
     "output_type": "display_data"
    }
   ],
   "source": [
    "import pyspark.sql.functions as F\n",
    "df_zero = df.select([F.count(F.when(df[c] != 0, c)).alias(c) for c in df.columns])"
   ]
  },
  {
   "cell_type": "code",
   "execution_count": 35,
   "id": "90045a49",
   "metadata": {},
   "outputs": [
    {
     "data": {
      "application/vnd.jupyter.widget-view+json": {
       "model_id": "",
       "version_major": 2,
       "version_minor": 0
      },
      "text/plain": [
       "FloatProgress(value=0.0, bar_style='info', description='Progress:', layout=Layout(height='25px', width='50%'),…"
      ]
     },
     "metadata": {},
     "output_type": "display_data"
    },
    {
     "name": "stdout",
     "output_type": "stream",
     "text": [
      "+-------+-------+-------+-------+\n",
      "|   cool|  funny|  stars| useful|\n",
      "+-------+-------+-------+-------+\n",
      "|1948423|1596435|8635403|3877235|\n",
      "+-------+-------+-------+-------+"
     ]
    }
   ],
   "source": [
    "df_zero.show()"
   ]
  },
  {
   "cell_type": "code",
   "execution_count": 36,
   "id": "2743af24",
   "metadata": {},
   "outputs": [
    {
     "data": {
      "application/vnd.jupyter.widget-view+json": {
       "model_id": "",
       "version_major": 2,
       "version_minor": 0
      },
      "text/plain": [
       "FloatProgress(value=0.0, bar_style='info', description='Progress:', layout=Layout(height='25px', width='50%'),…"
      ]
     },
     "metadata": {},
     "output_type": "display_data"
    },
    {
     "name": "stdout",
     "output_type": "stream",
     "text": [
      "1948423"
     ]
    }
   ],
   "source": [
    "df_cool = df_zero.collect()[0][0]\n",
    "df_cool"
   ]
  },
  {
   "cell_type": "code",
   "execution_count": 37,
   "id": "d1199469",
   "metadata": {},
   "outputs": [
    {
     "data": {
      "application/vnd.jupyter.widget-view+json": {
       "model_id": "",
       "version_major": 2,
       "version_minor": 0
      },
      "text/plain": [
       "FloatProgress(value=0.0, bar_style='info', description='Progress:', layout=Layout(height='25px', width='50%'),…"
      ]
     },
     "metadata": {},
     "output_type": "display_data"
    },
    {
     "name": "stdout",
     "output_type": "stream",
     "text": [
      "1596435"
     ]
    }
   ],
   "source": [
    "df_funny = df_zero.collect()[0][1]\n",
    "df_funny"
   ]
  },
  {
   "cell_type": "code",
   "execution_count": 39,
   "id": "7ee751d1",
   "metadata": {},
   "outputs": [
    {
     "data": {
      "application/vnd.jupyter.widget-view+json": {
       "model_id": "",
       "version_major": 2,
       "version_minor": 0
      },
      "text/plain": [
       "FloatProgress(value=0.0, bar_style='info', description='Progress:', layout=Layout(height='25px', width='50%'),…"
      ]
     },
     "metadata": {},
     "output_type": "display_data"
    },
    {
     "name": "stdout",
     "output_type": "stream",
     "text": [
      "3877235"
     ]
    }
   ],
   "source": [
    "df_useful = df_zero.collect()[0][3]\n",
    "df_useful"
   ]
  },
  {
   "cell_type": "code",
   "execution_count": 40,
   "id": "10677882",
   "metadata": {},
   "outputs": [
    {
     "data": {
      "application/vnd.jupyter.widget-view+json": {
       "model_id": "",
       "version_major": 2,
       "version_minor": 0
      },
      "text/plain": [
       "FloatProgress(value=0.0, bar_style='info', description='Progress:', layout=Layout(height='25px', width='50%'),…"
      ]
     },
     "metadata": {},
     "output_type": "display_data"
    },
    {
     "name": "stdout",
     "output_type": "stream",
     "text": [
      "8635403"
     ]
    }
   ],
   "source": [
    "df_stars = df_zero.collect()[0][2]\n",
    "df_stars"
   ]
  },
  {
   "cell_type": "code",
   "execution_count": 44,
   "id": "55134977",
   "metadata": {},
   "outputs": [
    {
     "data": {
      "application/vnd.jupyter.widget-view+json": {
       "model_id": "",
       "version_major": 2,
       "version_minor": 0
      },
      "text/plain": [
       "FloatProgress(value=0.0, bar_style='info', description='Progress:', layout=Layout(height='25px', width='50%'),…"
      ]
     },
     "metadata": {},
     "output_type": "display_data"
    },
    {
     "name": "stdout",
     "output_type": "stream",
     "text": [
      "0.7743680289153847"
     ]
    }
   ],
   "source": [
    "wg_cool = df_cool/df_stars\n",
    "wg_cool = 1-wg_cool\n",
    "wg_cool"
   ]
  },
  {
   "cell_type": "code",
   "execution_count": 45,
   "id": "ad64cb21",
   "metadata": {},
   "outputs": [
    {
     "data": {
      "application/vnd.jupyter.widget-view+json": {
       "model_id": "",
       "version_major": 2,
       "version_minor": 0
      },
      "text/plain": [
       "FloatProgress(value=0.0, bar_style='info', description='Progress:', layout=Layout(height='25px', width='50%'),…"
      ]
     },
     "metadata": {},
     "output_type": "display_data"
    },
    {
     "name": "stdout",
     "output_type": "stream",
     "text": [
      "0.8151290680932899"
     ]
    }
   ],
   "source": [
    "wg_funny = df_funny/df_stars\n",
    "wg_funny = 1-wg_funny\n",
    "wg_funny"
   ]
  },
  {
   "cell_type": "code",
   "execution_count": 46,
   "id": "545ce53d",
   "metadata": {},
   "outputs": [
    {
     "data": {
      "application/vnd.jupyter.widget-view+json": {
       "model_id": "",
       "version_major": 2,
       "version_minor": 0
      },
      "text/plain": [
       "FloatProgress(value=0.0, bar_style='info', description='Progress:', layout=Layout(height='25px', width='50%'),…"
      ]
     },
     "metadata": {},
     "output_type": "display_data"
    },
    {
     "name": "stdout",
     "output_type": "stream",
     "text": [
      "0.5510070578061035"
     ]
    }
   ],
   "source": [
    "wg_useful = df_useful/df_stars\n",
    "wg_useful = 1-wg_useful\n",
    "wg_useful"
   ]
  },
  {
   "cell_type": "code",
   "execution_count": null,
   "id": "be51ffb9",
   "metadata": {},
   "outputs": [],
   "source": [
    "# binarize rating\n",
    "def convert_rating(rating):\n",
    "    rating = int(rating)\n",
    "    if rating < 2: return 1\n",
    "    else: return 0\n",
    "    \n",
    "\n",
    "# udf\n",
    "punct_remover = udf(lambda x: remove_punct(x))\n",
    "rating_convert = udf(lambda x: convert_rating(x))\n",
    "review_df = review.select('review_id', punct_remover('text'), rating_convert('stars'))\n",
    "review_df = review_df.withColumnRenamed('<lambda>(text)', 'text')\\\n",
    "                     .withColumn('label', review_df[\"<lambda>(stars)\"].cast(IntegerType()))\\\n",
    "                     .drop('<lambda>(stars)')\\\n",
    "                     .limit(5000)"
   ]
  }
 ],
 "metadata": {
  "kernelspec": {
   "display_name": "Python 3",
   "language": "python",
   "name": "python3"
  },
  "language_info": {
   "codemirror_mode": {
    "name": "ipython",
    "version": 3
   },
   "file_extension": ".py",
   "mimetype": "text/x-python",
   "name": "python",
   "nbconvert_exporter": "python",
   "pygments_lexer": "ipython3",
   "version": "3.8.8"
  }
 },
 "nbformat": 4,
 "nbformat_minor": 5
}
