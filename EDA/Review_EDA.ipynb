{
 "cells": [
  {
   "cell_type": "code",
   "execution_count": 1,
   "id": "a68f5a0c-b7df-4de6-8143-4bd26353c818",
   "metadata": {
    "execution": {
     "iopub.execute_input": "2022-03-14T09:52:45.423505Z",
     "iopub.status.busy": "2022-03-14T09:52:45.423259Z",
     "iopub.status.idle": "2022-03-14T09:53:13.223322Z",
     "shell.execute_reply": "2022-03-14T09:53:13.222747Z",
     "shell.execute_reply.started": "2022-03-14T09:52:45.423477Z"
    }
   },
   "outputs": [
    {
     "data": {
      "application/vnd.jupyter.widget-view+json": {
       "model_id": "55c6132afe8342a4a58c14a65505fdf4",
       "version_major": 2,
       "version_minor": 0
      },
      "text/plain": [
       "VBox()"
      ]
     },
     "metadata": {},
     "output_type": "display_data"
    },
    {
     "name": "stdout",
     "output_type": "stream",
     "text": [
      "Starting Spark application\n"
     ]
    },
    {
     "data": {
      "text/html": [
       "<table>\n",
       "<tr><th>ID</th><th>YARN Application ID</th><th>Kind</th><th>State</th><th>Spark UI</th><th>Driver log</th><th>Current session?</th></tr><tr><td>0</td><td>application_1647250544772_0002</td><td>pyspark</td><td>idle</td><td><a target=\"_blank\" href=\"http://ip-172-31-65-13.ec2.internal:20888/proxy/application_1647250544772_0002/\" class=\"emr-proxy-link\" emr-resource=\"j-27M1XNL5B37ER\n",
       "\" application-id=\"application_1647250544772_0002\">Link</a></td><td><a target=\"_blank\" href=\"http://ip-172-31-75-41.ec2.internal:8042/node/containerlogs/container_1647250544772_0002_01_000001/livy\" >Link</a></td><td>✔</td></tr></table>"
      ],
      "text/plain": [
       "<IPython.core.display.HTML object>"
      ]
     },
     "metadata": {},
     "output_type": "display_data"
    },
    {
     "data": {
      "application/vnd.jupyter.widget-view+json": {
       "model_id": "",
       "version_major": 2,
       "version_minor": 0
      },
      "text/plain": [
       "FloatProgress(value=0.0, bar_style='info', description='Progress:', layout=Layout(height='25px', width='50%'),…"
      ]
     },
     "metadata": {},
     "output_type": "display_data"
    },
    {
     "name": "stdout",
     "output_type": "stream",
     "text": [
      "SparkSession available as 'spark'.\n"
     ]
    },
    {
     "data": {
      "application/vnd.jupyter.widget-view+json": {
       "model_id": "",
       "version_major": 2,
       "version_minor": 0
      },
      "text/plain": [
       "FloatProgress(value=0.0, bar_style='info', description='Progress:', layout=Layout(height='25px', width='50%'),…"
      ]
     },
     "metadata": {},
     "output_type": "display_data"
    }
   ],
   "source": [
    "import pyspark"
   ]
  },
  {
   "cell_type": "code",
   "execution_count": null,
   "id": "a351876c-3655-44a8-a1ff-8fac95a9451b",
   "metadata": {},
   "outputs": [],
   "source": []
  },
  {
   "cell_type": "code",
   "execution_count": 3,
   "id": "05c7a866-6c05-464e-8867-e9edb054e39b",
   "metadata": {
    "execution": {
     "iopub.execute_input": "2022-03-14T09:54:27.663070Z",
     "iopub.status.busy": "2022-03-14T09:54:27.662837Z",
     "iopub.status.idle": "2022-03-14T09:54:37.030933Z",
     "shell.execute_reply": "2022-03-14T09:54:37.030147Z",
     "shell.execute_reply.started": "2022-03-14T09:54:27.663045Z"
    },
    "tags": []
   },
   "outputs": [
    {
     "data": {
      "application/vnd.jupyter.widget-view+json": {
       "model_id": "6c71664b64b748b48256df89fe8045f7",
       "version_major": 2,
       "version_minor": 0
      },
      "text/plain": [
       "VBox()"
      ]
     },
     "metadata": {},
     "output_type": "display_data"
    },
    {
     "data": {
      "application/vnd.jupyter.widget-view+json": {
       "model_id": "",
       "version_major": 2,
       "version_minor": 0
      },
      "text/plain": [
       "FloatProgress(value=0.0, bar_style='info', description='Progress:', layout=Layout(height='25px', width='50%'),…"
      ]
     },
     "metadata": {},
     "output_type": "display_data"
    }
   ],
   "source": [
    "df = sqlContext.read.parquet(\"hdfs:///ML-input/*.parquet\")"
   ]
  },
  {
   "cell_type": "code",
   "execution_count": 4,
   "id": "c1b2f263-2f16-4177-a04f-8027f3cf97ce",
   "metadata": {
    "execution": {
     "iopub.execute_input": "2022-03-14T09:55:41.182660Z",
     "iopub.status.busy": "2022-03-14T09:55:41.182415Z",
     "iopub.status.idle": "2022-03-14T09:55:48.516987Z",
     "shell.execute_reply": "2022-03-14T09:55:48.516233Z",
     "shell.execute_reply.started": "2022-03-14T09:55:41.182631Z"
    },
    "tags": []
   },
   "outputs": [
    {
     "data": {
      "application/vnd.jupyter.widget-view+json": {
       "model_id": "9338d27640f2454fb9a35fee0f72088e",
       "version_major": 2,
       "version_minor": 0
      },
      "text/plain": [
       "VBox()"
      ]
     },
     "metadata": {},
     "output_type": "display_data"
    },
    {
     "data": {
      "application/vnd.jupyter.widget-view+json": {
       "model_id": "",
       "version_major": 2,
       "version_minor": 0
      },
      "text/plain": [
       "FloatProgress(value=0.0, bar_style='info', description='Progress:', layout=Layout(height='25px', width='50%'),…"
      ]
     },
     "metadata": {},
     "output_type": "display_data"
    },
    {
     "name": "stdout",
     "output_type": "stream",
     "text": [
      "+-----+--------------------+\n",
      "|label|            features|\n",
      "+-----+--------------------+\n",
      "|  4.0|(65536,[7284,1359...|\n",
      "|  5.0|(65536,[1706,3747...|\n",
      "|  4.0|(65536,[1928,2004...|\n",
      "|  5.0|(65536,[2743,3747...|\n",
      "|  1.0|(65536,[5254,7855...|\n",
      "|  2.0|(65536,[248,554,4...|\n",
      "|  5.0|(65536,[2182,4078...|\n",
      "|  5.0|(65536,[1379,7284...|\n",
      "|  4.0|(65536,[1162,2182...|\n",
      "|  5.0|(65536,[4391,5233...|\n",
      "+-----+--------------------+\n",
      "only showing top 10 rows"
     ]
    }
   ],
   "source": [
    "df.show(10)"
   ]
  },
  {
   "cell_type": "code",
   "execution_count": 5,
   "id": "05238be8-e01b-497c-a444-36b26fd97310",
   "metadata": {
    "execution": {
     "iopub.execute_input": "2022-03-14T09:56:21.103920Z",
     "iopub.status.busy": "2022-03-14T09:56:21.103681Z",
     "iopub.status.idle": "2022-03-14T09:56:21.888571Z",
     "shell.execute_reply": "2022-03-14T09:56:21.887868Z",
     "shell.execute_reply.started": "2022-03-14T09:56:21.103897Z"
    }
   },
   "outputs": [
    {
     "data": {
      "application/vnd.jupyter.widget-view+json": {
       "model_id": "0a5d79b4c3564b0eb2f98c545edb0686",
       "version_major": 2,
       "version_minor": 0
      },
      "text/plain": [
       "VBox()"
      ]
     },
     "metadata": {},
     "output_type": "display_data"
    },
    {
     "data": {
      "application/vnd.jupyter.widget-view+json": {
       "model_id": "",
       "version_major": 2,
       "version_minor": 0
      },
      "text/plain": [
       "FloatProgress(value=0.0, bar_style='info', description='Progress:', layout=Layout(height='25px', width='50%'),…"
      ]
     },
     "metadata": {},
     "output_type": "display_data"
    },
    {
     "name": "stdout",
     "output_type": "stream",
     "text": [
      "[Row(label=4.0, features=SparseVector(65536, {7284: 2.3075, 13596: 2.9115, 14376: 3.6747, 22776: 3.8768, 23631: 8.4306, 26721: 3.4733, 26781: 5.1682, 26964: 8.8192, 33053: 2.9226, 41688: 3.3653, 51860: 4.5287, 55408: 1.7162, 55597: 1.0756, 55981: 1.2103, 56251: 3.443, 61437: 4.3957, 64215: 3.4175, 64908: 2.0521}))]"
     ]
    }
   ],
   "source": [
    "df.take(1)"
   ]
  },
  {
   "cell_type": "code",
   "execution_count": null,
   "id": "3d5aeb7a-b677-4d86-84f6-fe6e78ec995b",
   "metadata": {},
   "outputs": [],
   "source": []
  },
  {
   "cell_type": "code",
   "execution_count": null,
   "id": "5875a1ea-0890-4a1a-867e-b0059ed2d8b9",
   "metadata": {},
   "outputs": [],
   "source": []
  },
  {
   "cell_type": "code",
   "execution_count": null,
   "id": "209956e8-4ad9-4636-a54d-3cf235becc6e",
   "metadata": {},
   "outputs": [],
   "source": []
  },
  {
   "cell_type": "code",
   "execution_count": null,
   "id": "b024f5f7-dd88-4832-a82f-4722e1b8cf40",
   "metadata": {},
   "outputs": [],
   "source": []
  },
  {
   "cell_type": "code",
   "execution_count": null,
   "id": "83e451b0-6422-48cf-bb6e-19a081d08775",
   "metadata": {},
   "outputs": [],
   "source": []
  },
  {
   "cell_type": "code",
   "execution_count": null,
   "id": "ea7b5f8f-a2cf-4ae6-81ad-f3da7d6d2010",
   "metadata": {},
   "outputs": [],
   "source": []
  },
  {
   "cell_type": "code",
   "execution_count": null,
   "id": "42edbd75-1bde-4aac-a6e6-2afdc528497f",
   "metadata": {},
   "outputs": [],
   "source": []
  },
  {
   "cell_type": "code",
   "execution_count": null,
   "id": "b8268222-df1f-4421-9d1b-97ca59d85f79",
   "metadata": {},
   "outputs": [],
   "source": []
  },
  {
   "cell_type": "code",
   "execution_count": null,
   "id": "c59fa851-ce4f-4707-9f94-563d89848191",
   "metadata": {},
   "outputs": [],
   "source": []
  },
  {
   "cell_type": "code",
   "execution_count": null,
   "id": "be62fb79-bd96-4e0e-a59a-f48781fd8404",
   "metadata": {},
   "outputs": [],
   "source": []
  },
  {
   "cell_type": "code",
   "execution_count": null,
   "id": "7386070a-3e72-43ea-a848-bc8b9b318624",
   "metadata": {},
   "outputs": [],
   "source": []
  }
 ],
 "metadata": {
  "kernelspec": {
   "display_name": "PySpark",
   "language": "",
   "name": "pysparkkernel"
  },
  "language_info": {
   "codemirror_mode": {
    "name": "python",
    "version": 3
   },
   "mimetype": "text/x-python",
   "name": "pyspark",
   "pygments_lexer": "python3"
  }
 },
 "nbformat": 4,
 "nbformat_minor": 5
}
