{
 "cells": [
  {
   "cell_type": "code",
   "execution_count": 1,
   "id": "a68f5a0c-b7df-4de6-8143-4bd26353c818",
   "metadata": {
    "execution": {
     "iopub.execute_input": "2022-04-03T06:29:04.773748Z",
     "iopub.status.busy": "2022-04-03T06:29:04.773301Z",
     "iopub.status.idle": "2022-04-03T06:29:50.594547Z",
     "shell.execute_reply": "2022-04-03T06:29:50.593991Z",
     "shell.execute_reply.started": "2022-04-03T06:29:04.773716Z"
    },
    "tags": []
   },
   "outputs": [
    {
     "data": {
      "application/vnd.jupyter.widget-view+json": {
       "model_id": "98adb2b35ac34546bd746370816e172d",
       "version_major": 2,
       "version_minor": 0
      },
      "text/plain": [
       "VBox()"
      ]
     },
     "metadata": {},
     "output_type": "display_data"
    },
    {
     "name": "stdout",
     "output_type": "stream",
     "text": [
      "Starting Spark application\n"
     ]
    },
    {
     "data": {
      "text/html": [
       "<table>\n",
       "<tr><th>ID</th><th>YARN Application ID</th><th>Kind</th><th>State</th><th>Spark UI</th><th>Driver log</th><th>Current session?</th></tr><tr><td>0</td><td>application_1648966508985_0002</td><td>pyspark</td><td>idle</td><td><a target=\"_blank\" href=\"http://ip-172-31-71-21.ec2.internal:20888/proxy/application_1648966508985_0002/\" class=\"emr-proxy-link\" emr-resource=\"j-HW4ET24HM97P\n",
       "\" application-id=\"application_1648966508985_0002\">Link</a></td><td><a target=\"_blank\" href=\"http://ip-172-31-69-9.ec2.internal:8042/node/containerlogs/container_1648966508985_0002_01_000001/livy\" >Link</a></td><td>✔</td></tr></table>"
      ],
      "text/plain": [
       "<IPython.core.display.HTML object>"
      ]
     },
     "metadata": {},
     "output_type": "display_data"
    },
    {
     "data": {
      "application/vnd.jupyter.widget-view+json": {
       "model_id": "",
       "version_major": 2,
       "version_minor": 0
      },
      "text/plain": [
       "FloatProgress(value=0.0, bar_style='info', description='Progress:', layout=Layout(height='25px', width='50%'),…"
      ]
     },
     "metadata": {},
     "output_type": "display_data"
    },
    {
     "name": "stdout",
     "output_type": "stream",
     "text": [
      "SparkSession available as 'spark'.\n"
     ]
    },
    {
     "data": {
      "application/vnd.jupyter.widget-view+json": {
       "model_id": "",
       "version_major": 2,
       "version_minor": 0
      },
      "text/plain": [
       "FloatProgress(value=0.0, bar_style='info', description='Progress:', layout=Layout(height='25px', width='50%'),…"
      ]
     },
     "metadata": {},
     "output_type": "display_data"
    }
   ],
   "source": [
    "import pyspark"
   ]
  },
  {
   "cell_type": "code",
   "execution_count": 2,
   "id": "585f70d7-dcad-4dc3-8c21-c42663660c0b",
   "metadata": {
    "execution": {
     "iopub.execute_input": "2022-04-03T06:29:50.596104Z",
     "iopub.status.busy": "2022-04-03T06:29:50.595828Z",
     "iopub.status.idle": "2022-04-03T06:30:34.540769Z",
     "shell.execute_reply": "2022-04-03T06:30:34.540160Z",
     "shell.execute_reply.started": "2022-04-03T06:29:50.596066Z"
    },
    "tags": []
   },
   "outputs": [
    {
     "name": "stdout",
     "output_type": "stream",
     "text": [
      "Starting Spark application\n"
     ]
    },
    {
     "data": {
      "text/html": [
       "<table>\n",
       "<tr><th>ID</th><th>YARN Application ID</th><th>Kind</th><th>State</th><th>Spark UI</th><th>Driver log</th><th>Current session?</th></tr><tr><td>1</td><td>application_1648966508985_0003</td><td>pyspark</td><td>idle</td><td><a target=\"_blank\" href=\"http://ip-172-31-71-21.ec2.internal:20888/proxy/application_1648966508985_0003/\" class=\"emr-proxy-link\" emr-resource=\"j-HW4ET24HM97P\n",
       "\" application-id=\"application_1648966508985_0003\">Link</a></td><td><a target=\"_blank\" href=\"http://ip-172-31-69-9.ec2.internal:8042/node/containerlogs/container_1648966508985_0003_01_000001/livy\" >Link</a></td><td>✔</td></tr></table>"
      ],
      "text/plain": [
       "<IPython.core.display.HTML object>"
      ]
     },
     "metadata": {},
     "output_type": "display_data"
    },
    {
     "data": {
      "application/vnd.jupyter.widget-view+json": {
       "model_id": "",
       "version_major": 2,
       "version_minor": 0
      },
      "text/plain": [
       "FloatProgress(value=0.0, bar_style='info', description='Progress:', layout=Layout(height='25px', width='50%'),…"
      ]
     },
     "metadata": {},
     "output_type": "display_data"
    },
    {
     "name": "stdout",
     "output_type": "stream",
     "text": [
      "SparkSession available as 'spark'.\n"
     ]
    },
    {
     "data": {
      "text/html": [
       "Current session configs: <tt>{'conf': {'spark.pyspark.python': 'python3.7', 'spark.pyspark.virtualenv.enabled': 'true', 'spark.pyspark.virtualenv.type': 'native', 'spark.pyspark.virtualenv.bin.path': '/usr/bin/virtualenv', 'spark.driver.maxResultSize': '15g'}, 'proxyUser': 'assumed-role_voclabs_user1815166_AKSHAY_GHANWAT', 'kind': 'pyspark'}</tt><br>"
      ],
      "text/plain": [
       "<IPython.core.display.HTML object>"
      ]
     },
     "metadata": {},
     "output_type": "display_data"
    },
    {
     "data": {
      "text/html": [
       "<table>\n",
       "<tr><th>ID</th><th>YARN Application ID</th><th>Kind</th><th>State</th><th>Spark UI</th><th>Driver log</th><th>Current session?</th></tr><tr><td>1</td><td>application_1648966508985_0003</td><td>pyspark</td><td>idle</td><td><a target=\"_blank\" href=\"http://ip-172-31-71-21.ec2.internal:20888/proxy/application_1648966508985_0003/\" class=\"emr-proxy-link\" emr-resource=\"j-HW4ET24HM97P\n",
       "\" application-id=\"application_1648966508985_0003\">Link</a></td><td><a target=\"_blank\" href=\"http://ip-172-31-69-9.ec2.internal:8042/node/containerlogs/container_1648966508985_0003_01_000001/livy\" >Link</a></td><td>✔</td></tr></table>"
      ],
      "text/plain": [
       "<IPython.core.display.HTML object>"
      ]
     },
     "metadata": {},
     "output_type": "display_data"
    }
   ],
   "source": [
    "%%configure -f\n",
    "{ \"conf\":{\n",
    "          \"spark.pyspark.python\": \"python3.7\",\n",
    "          \"spark.pyspark.virtualenv.enabled\": \"true\",\n",
    "          \"spark.pyspark.virtualenv.type\":\"native\",\n",
    "          \"spark.pyspark.virtualenv.bin.path\":\"/usr/bin/virtualenv\",\n",
    "          \"spark.driver.maxResultSize\":\"15g\"\n",
    "         }\n",
    "}"
   ]
  },
  {
   "cell_type": "code",
   "execution_count": 7,
   "id": "b2c58839-0f16-4305-a890-189c02e0f41f",
   "metadata": {
    "execution": {
     "iopub.execute_input": "2022-04-03T06:33:13.751292Z",
     "iopub.status.busy": "2022-04-03T06:33:13.751066Z",
     "iopub.status.idle": "2022-04-03T06:33:13.813286Z",
     "shell.execute_reply": "2022-04-03T06:33:13.812710Z",
     "shell.execute_reply.started": "2022-04-03T06:33:13.751269Z"
    },
    "tags": []
   },
   "outputs": [
    {
     "data": {
      "application/vnd.jupyter.widget-view+json": {
       "model_id": "ca119b75ede84c0c8086c299c95abfeb",
       "version_major": 2,
       "version_minor": 0
      },
      "text/plain": [
       "VBox()"
      ]
     },
     "metadata": {},
     "output_type": "display_data"
    },
    {
     "data": {
      "application/vnd.jupyter.widget-view+json": {
       "model_id": "",
       "version_major": 2,
       "version_minor": 0
      },
      "text/plain": [
       "FloatProgress(value=0.0, bar_style='info', description='Progress:', layout=Layout(height='25px', width='50%'),…"
      ]
     },
     "metadata": {},
     "output_type": "display_data"
    },
    {
     "name": "stderr",
     "output_type": "stream",
     "text": [
      "An error was encountered:\n",
      "Package already installed for current Spark context!\n",
      "Traceback (most recent call last):\n",
      "  File \"/usr/lib/spark/python/lib/pyspark.zip/pyspark/context.py\", line 1110, in install_pypi_package\n",
      "    raise ValueError(\"Package already installed for current Spark context!\")\n",
      "ValueError: Package already installed for current Spark context!\n",
      "\n"
     ]
    }
   ],
   "source": [
    "sc.install_pypi_package(\"pandas==1.2.2\")"
   ]
  },
  {
   "cell_type": "code",
   "execution_count": 6,
   "id": "890b8fbd-2afc-4b20-b372-2906ceb57a81",
   "metadata": {
    "execution": {
     "iopub.execute_input": "2022-04-03T06:33:08.428945Z",
     "iopub.status.busy": "2022-04-03T06:33:08.428710Z",
     "iopub.status.idle": "2022-04-03T06:33:08.503851Z",
     "shell.execute_reply": "2022-04-03T06:33:08.503285Z",
     "shell.execute_reply.started": "2022-04-03T06:33:08.428921Z"
    },
    "tags": []
   },
   "outputs": [
    {
     "data": {
      "application/vnd.jupyter.widget-view+json": {
       "model_id": "1e97a4e0c7e34c9ea558e5acdb3f1c79",
       "version_major": 2,
       "version_minor": 0
      },
      "text/plain": [
       "VBox()"
      ]
     },
     "metadata": {},
     "output_type": "display_data"
    },
    {
     "data": {
      "application/vnd.jupyter.widget-view+json": {
       "model_id": "",
       "version_major": 2,
       "version_minor": 0
      },
      "text/plain": [
       "FloatProgress(value=0.0, bar_style='info', description='Progress:', layout=Layout(height='25px', width='50%'),…"
      ]
     },
     "metadata": {},
     "output_type": "display_data"
    },
    {
     "name": "stderr",
     "output_type": "stream",
     "text": [
      "An error was encountered:\n",
      "Package already installed for current Spark context!\n",
      "Traceback (most recent call last):\n",
      "  File \"/usr/lib/spark/python/lib/pyspark.zip/pyspark/context.py\", line 1110, in install_pypi_package\n",
      "    raise ValueError(\"Package already installed for current Spark context!\")\n",
      "ValueError: Package already installed for current Spark context!\n",
      "\n"
     ]
    }
   ],
   "source": [
    "sc.install_pypi_package(\"IPython\")"
   ]
  },
  {
   "cell_type": "code",
   "execution_count": 8,
   "id": "56203e0b-109a-46db-96eb-28da41d0b727",
   "metadata": {
    "execution": {
     "iopub.execute_input": "2022-04-03T06:33:28.779584Z",
     "iopub.status.busy": "2022-04-03T06:33:28.779351Z",
     "iopub.status.idle": "2022-04-03T06:33:28.847927Z",
     "shell.execute_reply": "2022-04-03T06:33:28.847335Z",
     "shell.execute_reply.started": "2022-04-03T06:33:28.779560Z"
    },
    "tags": []
   },
   "outputs": [
    {
     "data": {
      "application/vnd.jupyter.widget-view+json": {
       "model_id": "54baff9f7cc4478a917f34271dd7a44f",
       "version_major": 2,
       "version_minor": 0
      },
      "text/plain": [
       "VBox()"
      ]
     },
     "metadata": {},
     "output_type": "display_data"
    },
    {
     "data": {
      "application/vnd.jupyter.widget-view+json": {
       "model_id": "",
       "version_major": 2,
       "version_minor": 0
      },
      "text/plain": [
       "FloatProgress(value=0.0, bar_style='info', description='Progress:', layout=Layout(height='25px', width='50%'),…"
      ]
     },
     "metadata": {},
     "output_type": "display_data"
    },
    {
     "name": "stderr",
     "output_type": "stream",
     "text": [
      "An error was encountered:\n",
      "Package already installed for current Spark context!\n",
      "Traceback (most recent call last):\n",
      "  File \"/usr/lib/spark/python/lib/pyspark.zip/pyspark/context.py\", line 1110, in install_pypi_package\n",
      "    raise ValueError(\"Package already installed for current Spark context!\")\n",
      "ValueError: Package already installed for current Spark context!\n",
      "\n"
     ]
    }
   ],
   "source": [
    "sc.install_pypi_package(\"matplotlib==3.1.1\", \"https://pypi.org/simple\")"
   ]
  },
  {
   "cell_type": "code",
   "execution_count": 9,
   "id": "6e478040-4eab-40fc-882a-c89f70739457",
   "metadata": {
    "execution": {
     "iopub.execute_input": "2022-04-03T06:33:31.561727Z",
     "iopub.status.busy": "2022-04-03T06:33:31.561484Z",
     "iopub.status.idle": "2022-04-03T06:33:31.831044Z",
     "shell.execute_reply": "2022-04-03T06:33:31.830410Z",
     "shell.execute_reply.started": "2022-04-03T06:33:31.561703Z"
    },
    "tags": []
   },
   "outputs": [
    {
     "data": {
      "application/vnd.jupyter.widget-view+json": {
       "model_id": "24dfbd92bd6946ca9385933d1af79153",
       "version_major": 2,
       "version_minor": 0
      },
      "text/plain": [
       "VBox()"
      ]
     },
     "metadata": {},
     "output_type": "display_data"
    },
    {
     "data": {
      "application/vnd.jupyter.widget-view+json": {
       "model_id": "",
       "version_major": 2,
       "version_minor": 0
      },
      "text/plain": [
       "FloatProgress(value=0.0, bar_style='info', description='Progress:', layout=Layout(height='25px', width='50%'),…"
      ]
     },
     "metadata": {},
     "output_type": "display_data"
    }
   ],
   "source": [
    "import pandas\n",
    "from pyspark.sql.functions import *"
   ]
  },
  {
   "cell_type": "code",
   "execution_count": 11,
   "id": "f2145f4e-dc30-4875-a30b-165532b5689f",
   "metadata": {
    "execution": {
     "iopub.execute_input": "2022-04-03T06:35:22.234724Z",
     "iopub.status.busy": "2022-04-03T06:35:22.234490Z",
     "iopub.status.idle": "2022-04-03T06:35:29.583764Z",
     "shell.execute_reply": "2022-04-03T06:35:29.583111Z",
     "shell.execute_reply.started": "2022-04-03T06:35:22.234701Z"
    },
    "tags": []
   },
   "outputs": [
    {
     "data": {
      "application/vnd.jupyter.widget-view+json": {
       "model_id": "5d973be5dbf24180a8e7594e9e8b1ba5",
       "version_major": 2,
       "version_minor": 0
      },
      "text/plain": [
       "VBox()"
      ]
     },
     "metadata": {},
     "output_type": "display_data"
    },
    {
     "data": {
      "application/vnd.jupyter.widget-view+json": {
       "model_id": "",
       "version_major": 2,
       "version_minor": 0
      },
      "text/plain": [
       "FloatProgress(value=0.0, bar_style='info', description='Progress:', layout=Layout(height='25px', width='50%'),…"
      ]
     },
     "metadata": {},
     "output_type": "display_data"
    }
   ],
   "source": [
    "review = spark.read.orc(\"hdfs:///NLP-orc/*.orc\")"
   ]
  },
  {
   "cell_type": "code",
   "execution_count": 12,
   "id": "4db47a75-4de6-4a0a-96e3-efc0bfcbe629",
   "metadata": {
    "execution": {
     "iopub.execute_input": "2022-04-03T06:35:29.585133Z",
     "iopub.status.busy": "2022-04-03T06:35:29.584938Z",
     "iopub.status.idle": "2022-04-03T06:35:29.885019Z",
     "shell.execute_reply": "2022-04-03T06:35:29.884433Z",
     "shell.execute_reply.started": "2022-04-03T06:35:29.585110Z"
    },
    "tags": []
   },
   "outputs": [
    {
     "data": {
      "application/vnd.jupyter.widget-view+json": {
       "model_id": "b8d8ed3c1bc74fdfa1d2fae3812a2c75",
       "version_major": 2,
       "version_minor": 0
      },
      "text/plain": [
       "VBox()"
      ]
     },
     "metadata": {},
     "output_type": "display_data"
    },
    {
     "data": {
      "application/vnd.jupyter.widget-view+json": {
       "model_id": "",
       "version_major": 2,
       "version_minor": 0
      },
      "text/plain": [
       "FloatProgress(value=0.0, bar_style='info', description='Progress:', layout=Layout(height='25px', width='50%'),…"
      ]
     },
     "metadata": {},
     "output_type": "display_data"
    },
    {
     "name": "stdout",
     "output_type": "stream",
     "text": [
      "root\n",
      " |-- cool: long (nullable = true)\n",
      " |-- funny: long (nullable = true)\n",
      " |-- stars: double (nullable = true)\n",
      " |-- text: string (nullable = true)\n",
      " |-- useful: long (nullable = true)"
     ]
    }
   ],
   "source": [
    "review.printSchema()"
   ]
  },
  {
   "cell_type": "code",
   "execution_count": 13,
   "id": "3d5aeb7a-b677-4d86-84f6-fe6e78ec995b",
   "metadata": {
    "execution": {
     "iopub.execute_input": "2022-04-03T06:35:29.886324Z",
     "iopub.status.busy": "2022-04-03T06:35:29.886147Z",
     "iopub.status.idle": "2022-04-03T06:35:37.217763Z",
     "shell.execute_reply": "2022-04-03T06:35:37.217043Z",
     "shell.execute_reply.started": "2022-04-03T06:35:29.886302Z"
    },
    "tags": []
   },
   "outputs": [
    {
     "data": {
      "application/vnd.jupyter.widget-view+json": {
       "model_id": "4b034e9bfcc24923bba710198f393257",
       "version_major": 2,
       "version_minor": 0
      },
      "text/plain": [
       "VBox()"
      ]
     },
     "metadata": {},
     "output_type": "display_data"
    },
    {
     "data": {
      "application/vnd.jupyter.widget-view+json": {
       "model_id": "",
       "version_major": 2,
       "version_minor": 0
      },
      "text/plain": [
       "FloatProgress(value=0.0, bar_style='info', description='Progress:', layout=Layout(height='25px', width='50%'),…"
      ]
     },
     "metadata": {},
     "output_type": "display_data"
    }
   ],
   "source": [
    "gr_star = review.groupBy(\"stars\").count()\n",
    "gr_star_df = gr_star.sort([\"stars\"]).toPandas()"
   ]
  },
  {
   "cell_type": "code",
   "execution_count": 14,
   "id": "de32db76-abd8-4ff7-baa1-908cfd3e215d",
   "metadata": {
    "execution": {
     "iopub.execute_input": "2022-04-03T06:35:37.219520Z",
     "iopub.status.busy": "2022-04-03T06:35:37.219323Z",
     "iopub.status.idle": "2022-04-03T06:35:37.299689Z",
     "shell.execute_reply": "2022-04-03T06:35:37.299044Z",
     "shell.execute_reply.started": "2022-04-03T06:35:37.219497Z"
    },
    "tags": []
   },
   "outputs": [
    {
     "data": {
      "application/vnd.jupyter.widget-view+json": {
       "model_id": "ea387c5b5e694461bc46d66045efdae7",
       "version_major": 2,
       "version_minor": 0
      },
      "text/plain": [
       "VBox()"
      ]
     },
     "metadata": {},
     "output_type": "display_data"
    },
    {
     "data": {
      "application/vnd.jupyter.widget-view+json": {
       "model_id": "",
       "version_major": 2,
       "version_minor": 0
      },
      "text/plain": [
       "FloatProgress(value=0.0, bar_style='info', description='Progress:', layout=Layout(height='25px', width='50%'),…"
      ]
     },
     "metadata": {},
     "output_type": "display_data"
    },
    {
     "name": "stdout",
     "output_type": "stream",
     "text": [
      "   stars    count\n",
      "0    1.0  1262800\n",
      "1    2.0   711378\n",
      "2    3.0   926656\n",
      "3    4.0  1920037\n",
      "4    5.0  3814532"
     ]
    }
   ],
   "source": [
    "gr_star_df"
   ]
  },
  {
   "cell_type": "code",
   "execution_count": 15,
   "id": "e390c4f4-78a0-490f-b47c-8ef336ce98b0",
   "metadata": {
    "execution": {
     "iopub.execute_input": "2022-04-03T06:35:37.301644Z",
     "iopub.status.busy": "2022-04-03T06:35:37.301265Z",
     "iopub.status.idle": "2022-04-03T06:35:40.595701Z",
     "shell.execute_reply": "2022-04-03T06:35:40.594965Z",
     "shell.execute_reply.started": "2022-04-03T06:35:37.301605Z"
    },
    "tags": []
   },
   "outputs": [
    {
     "data": {
      "application/vnd.jupyter.widget-view+json": {
       "model_id": "5603f28108a246c9a77d995bac0d1f48",
       "version_major": 2,
       "version_minor": 0
      },
      "text/plain": [
       "VBox()"
      ]
     },
     "metadata": {},
     "output_type": "display_data"
    },
    {
     "data": {
      "application/vnd.jupyter.widget-view+json": {
       "model_id": "",
       "version_major": 2,
       "version_minor": 0
      },
      "text/plain": [
       "FloatProgress(value=0.0, bar_style='info', description='Progress:', layout=Layout(height='25px', width='50%'),…"
      ]
     },
     "metadata": {},
     "output_type": "display_data"
    },
    {
     "name": "stdout",
     "output_type": "stream",
     "text": [
      "Text(0, 0.5, 'Text rows count')"
     ]
    }
   ],
   "source": [
    "import matplotlib.pyplot as plt\n",
    "# plt = plt.bar(x=gr_star_df[\"stars\"], y=gr_star_df[\"count\"],height = 0.8, width=0.8) # bottom=None, align='center', data=gr_star_df)  \n",
    "\n",
    "#gr_star_df.plot(kind='bar')\n",
    "\n",
    "plt.clf()\n",
    "gr_star_df.plot(kind='bar', x='stars',y='count', legend=None, figsize=(8,6))\n",
    "plt.title('Number of text rows for star rating')\n",
    "plt.xlabel('Star Rating')\n",
    "plt.ylabel('Text rows count')"
   ]
  },
  {
   "cell_type": "code",
   "execution_count": 16,
   "id": "85fac411-d4a1-4a9f-bbda-8ebbf0cc0677",
   "metadata": {
    "execution": {
     "iopub.execute_input": "2022-04-03T06:35:40.596777Z",
     "iopub.status.busy": "2022-04-03T06:35:40.596602Z",
     "iopub.status.idle": "2022-04-03T06:35:40.852356Z",
     "shell.execute_reply": "2022-04-03T06:35:40.851469Z",
     "shell.execute_reply.started": "2022-04-03T06:35:40.596755Z"
    },
    "tags": []
   },
   "outputs": [
    {
     "data": {
      "application/vnd.jupyter.widget-view+json": {
       "model_id": "",
       "version_major": 2,
       "version_minor": 0
      },
      "text/plain": [
       "FloatProgress(value=0.0, bar_style='info', description='Progress:', layout=Layout(height='25px', width='50%'),…"
      ]
     },
     "metadata": {},
     "output_type": "display_data"
    },
    {
     "data": {
      "image/png": "[encoded data removed]",
      "text/plain": [
       "<IPython.core.display.Image object>"
      ]
     },
     "metadata": {},
     "output_type": "display_data"
    }
   ],
   "source": [
    "%matplot plt"
   ]
  },
  {
   "cell_type": "code",
   "execution_count": 17,
   "id": "5875a1ea-0890-4a1a-867e-b0059ed2d8b9",
   "metadata": {
    "execution": {
     "iopub.execute_input": "2022-04-03T06:35:43.334215Z",
     "iopub.status.busy": "2022-04-03T06:35:43.333940Z",
     "iopub.status.idle": "2022-04-03T06:35:56.723403Z",
     "shell.execute_reply": "2022-04-03T06:35:56.716370Z",
     "shell.execute_reply.started": "2022-04-03T06:35:43.334186Z"
    },
    "tags": []
   },
   "outputs": [
    {
     "data": {
      "application/vnd.jupyter.widget-view+json": {
       "model_id": "74209cf31ed843bcaa51073f29db1e13",
       "version_major": 2,
       "version_minor": 0
      },
      "text/plain": [
       "VBox()"
      ]
     },
     "metadata": {},
     "output_type": "display_data"
    },
    {
     "data": {
      "application/vnd.jupyter.widget-view+json": {
       "model_id": "",
       "version_major": 2,
       "version_minor": 0
      },
      "text/plain": [
       "FloatProgress(value=0.0, bar_style='info', description='Progress:', layout=Layout(height='25px', width='50%'),…"
      ]
     },
     "metadata": {},
     "output_type": "display_data"
    },
    {
     "name": "stdout",
     "output_type": "stream",
     "text": [
      "+----+-----+-----+----+------+\n",
      "|cool|funny|stars|text|useful|\n",
      "+----+-----+-----+----+------+\n",
      "|   0|    0|    0|   0|     0|\n",
      "+----+-----+-----+----+------+"
     ]
    }
   ],
   "source": [
    "review.select([count(when(isnan(c) | col(c).isNull(), c)).alias(c) for c in review.columns]).show()"
   ]
  },
  {
   "cell_type": "code",
   "execution_count": 18,
   "id": "6cc6bce3-dac3-4957-8212-b774b867e39c",
   "metadata": {
    "execution": {
     "iopub.execute_input": "2022-04-03T06:35:56.729593Z",
     "iopub.status.busy": "2022-04-03T06:35:56.729176Z",
     "iopub.status.idle": "2022-04-03T06:35:56.885906Z",
     "shell.execute_reply": "2022-04-03T06:35:56.885105Z",
     "shell.execute_reply.started": "2022-04-03T06:35:56.729555Z"
    },
    "tags": []
   },
   "outputs": [
    {
     "data": {
      "application/vnd.jupyter.widget-view+json": {
       "model_id": "3aaefd68bb064629b18714b863d751ca",
       "version_major": 2,
       "version_minor": 0
      },
      "text/plain": [
       "VBox()"
      ]
     },
     "metadata": {},
     "output_type": "display_data"
    },
    {
     "data": {
      "application/vnd.jupyter.widget-view+json": {
       "model_id": "",
       "version_major": 2,
       "version_minor": 0
      },
      "text/plain": [
       "FloatProgress(value=0.0, bar_style='info', description='Progress:', layout=Layout(height='25px', width='50%'),…"
      ]
     },
     "metadata": {},
     "output_type": "display_data"
    }
   ],
   "source": [
    "import numpy as np\n",
    "num = 710000\n",
    "\n",
    "one_per = np.round(float(num/gr_star_df['count'][0]),4)\n",
    "two_per = np.round(float(num/gr_star_df['count'][1]),4)\n",
    "three_per = np.round(float(num/gr_star_df['count'][2]),4)\n",
    "four_per = np.round(float(num/gr_star_df['count'][3]),4)\n",
    "five_per = np.round(float(num/gr_star_df['count'][4]),4)"
   ]
  },
  {
   "cell_type": "code",
   "execution_count": 19,
   "id": "41ab35c3-80c1-4f15-adbe-f4b543f71f98",
   "metadata": {
    "execution": {
     "iopub.execute_input": "2022-04-03T06:35:56.887884Z",
     "iopub.status.busy": "2022-04-03T06:35:56.887486Z",
     "iopub.status.idle": "2022-04-03T06:35:57.014658Z",
     "shell.execute_reply": "2022-04-03T06:35:57.013808Z",
     "shell.execute_reply.started": "2022-04-03T06:35:56.887845Z"
    },
    "tags": []
   },
   "outputs": [
    {
     "data": {
      "application/vnd.jupyter.widget-view+json": {
       "model_id": "1c3a81b6a69e44beab895cba49028b92",
       "version_major": 2,
       "version_minor": 0
      },
      "text/plain": [
       "VBox()"
      ]
     },
     "metadata": {},
     "output_type": "display_data"
    },
    {
     "data": {
      "application/vnd.jupyter.widget-view+json": {
       "model_id": "",
       "version_major": 2,
       "version_minor": 0
      },
      "text/plain": [
       "FloatProgress(value=0.0, bar_style='info', description='Progress:', layout=Layout(height='25px', width='50%'),…"
      ]
     },
     "metadata": {},
     "output_type": "display_data"
    },
    {
     "name": "stdout",
     "output_type": "stream",
     "text": [
      "one star percent:  0.5622 \n",
      "two star percent:  0.9981 \n",
      "three star percent:  0.7662 \n",
      "four star percent:  0.3698 \n",
      "five star percent:  0.1861"
     ]
    }
   ],
   "source": [
    "print(\"one star percent: \",one_per,\n",
    "      \"\\ntwo star percent: \",two_per,\n",
    "      \"\\nthree star percent: \",three_per,\n",
    "      \"\\nfour star percent: \",four_per,\n",
    "      \"\\nfive star percent: \",five_per)"
   ]
  },
  {
   "cell_type": "code",
   "execution_count": 20,
   "id": "8eb7c533-4aa8-453c-9715-76ced28e836a",
   "metadata": {
    "execution": {
     "iopub.execute_input": "2022-04-03T06:35:57.016034Z",
     "iopub.status.busy": "2022-04-03T06:35:57.015810Z",
     "iopub.status.idle": "2022-04-03T06:35:57.289537Z",
     "shell.execute_reply": "2022-04-03T06:35:57.288787Z",
     "shell.execute_reply.started": "2022-04-03T06:35:57.016000Z"
    },
    "tags": []
   },
   "outputs": [
    {
     "data": {
      "application/vnd.jupyter.widget-view+json": {
       "model_id": "e240cf0454944a35a31c924605e45f0d",
       "version_major": 2,
       "version_minor": 0
      },
      "text/plain": [
       "VBox()"
      ]
     },
     "metadata": {},
     "output_type": "display_data"
    },
    {
     "data": {
      "application/vnd.jupyter.widget-view+json": {
       "model_id": "",
       "version_major": 2,
       "version_minor": 0
      },
      "text/plain": [
       "FloatProgress(value=0.0, bar_style='info', description='Progress:', layout=Layout(height='25px', width='50%'),…"
      ]
     },
     "metadata": {},
     "output_type": "display_data"
    }
   ],
   "source": [
    "one_star = review.filter(col('stars')==1.0)\n",
    "two_star = review.filter(col('stars')==2.0)\n",
    "three_star = review.filter(col('stars')==3.0)\n",
    "four_star = review.filter(col('stars')==4.0)\n",
    "five_star = review.filter(col('stars')==5.0)"
   ]
  },
  {
   "cell_type": "code",
   "execution_count": 21,
   "id": "27065ae9-4813-413a-bba4-6a65f960c72d",
   "metadata": {
    "execution": {
     "iopub.execute_input": "2022-04-03T06:35:58.466976Z",
     "iopub.status.busy": "2022-04-03T06:35:58.466630Z",
     "iopub.status.idle": "2022-04-03T06:35:59.790489Z",
     "shell.execute_reply": "2022-04-03T06:35:59.789816Z",
     "shell.execute_reply.started": "2022-04-03T06:35:58.466939Z"
    },
    "tags": []
   },
   "outputs": [
    {
     "data": {
      "application/vnd.jupyter.widget-view+json": {
       "model_id": "2928b70fd6f94d59ad74d5f625660702",
       "version_major": 2,
       "version_minor": 0
      },
      "text/plain": [
       "VBox()"
      ]
     },
     "metadata": {},
     "output_type": "display_data"
    },
    {
     "data": {
      "application/vnd.jupyter.widget-view+json": {
       "model_id": "",
       "version_major": 2,
       "version_minor": 0
      },
      "text/plain": [
       "FloatProgress(value=0.0, bar_style='info', description='Progress:', layout=Layout(height='25px', width='50%'),…"
      ]
     },
     "metadata": {},
     "output_type": "display_data"
    },
    {
     "name": "stdout",
     "output_type": "stream",
     "text": [
      "711378"
     ]
    }
   ],
   "source": [
    "two_star.count()"
   ]
  },
  {
   "cell_type": "code",
   "execution_count": 22,
   "id": "b8268222-df1f-4421-9d1b-97ca59d85f79",
   "metadata": {
    "execution": {
     "iopub.execute_input": "2022-04-03T06:36:00.733349Z",
     "iopub.status.busy": "2022-04-03T06:36:00.733104Z",
     "iopub.status.idle": "2022-04-03T06:36:01.126473Z",
     "shell.execute_reply": "2022-04-03T06:36:00.876576Z",
     "shell.execute_reply.started": "2022-04-03T06:36:00.733324Z"
    },
    "tags": []
   },
   "outputs": [
    {
     "data": {
      "application/vnd.jupyter.widget-view+json": {
       "model_id": "c902cd793b994780ad026049f0cd19b5",
       "version_major": 2,
       "version_minor": 0
      },
      "text/plain": [
       "VBox()"
      ]
     },
     "metadata": {},
     "output_type": "display_data"
    },
    {
     "data": {
      "application/vnd.jupyter.widget-view+json": {
       "model_id": "",
       "version_major": 2,
       "version_minor": 0
      },
      "text/plain": [
       "FloatProgress(value=0.0, bar_style='info', description='Progress:', layout=Layout(height='25px', width='50%'),…"
      ]
     },
     "metadata": {},
     "output_type": "display_data"
    }
   ],
   "source": [
    "df_one_sample = one_star.sample(False,one_per, seed = 42)\n",
    "df_two_sample = two_star.sample(False,two_per, seed = 42)\n",
    "df_three_sample = three_star.sample(False,three_per, seed = 42)\n",
    "df_four_sample = four_star.sample(False,four_per, seed = 42)\n",
    "df_five_sample = five_star.sample(False,five_per, seed = 42)"
   ]
  },
  {
   "cell_type": "code",
   "execution_count": 23,
   "id": "7340c53a-77d1-43d3-bc15-fd303834694e",
   "metadata": {
    "execution": {
     "iopub.execute_input": "2022-04-03T06:36:01.280211Z",
     "iopub.status.busy": "2022-04-03T06:36:01.279987Z",
     "iopub.status.idle": "2022-04-03T06:36:03.577421Z",
     "shell.execute_reply": "2022-04-03T06:36:03.576601Z",
     "shell.execute_reply.started": "2022-04-03T06:36:01.280189Z"
    },
    "tags": []
   },
   "outputs": [
    {
     "data": {
      "application/vnd.jupyter.widget-view+json": {
       "model_id": "f76becf8db1040d59a85d772898483e1",
       "version_major": 2,
       "version_minor": 0
      },
      "text/plain": [
       "VBox()"
      ]
     },
     "metadata": {},
     "output_type": "display_data"
    },
    {
     "data": {
      "application/vnd.jupyter.widget-view+json": {
       "model_id": "",
       "version_major": 2,
       "version_minor": 0
      },
      "text/plain": [
       "FloatProgress(value=0.0, bar_style='info', description='Progress:', layout=Layout(height='25px', width='50%'),…"
      ]
     },
     "metadata": {},
     "output_type": "display_data"
    },
    {
     "name": "stdout",
     "output_type": "stream",
     "text": [
      "709372\n",
      "708929"
     ]
    }
   ],
   "source": [
    "print(df_four_sample.count())\n",
    "print(df_five_sample.count())"
   ]
  },
  {
   "cell_type": "code",
   "execution_count": 24,
   "id": "c59fa851-ce4f-4707-9f94-563d89848191",
   "metadata": {
    "execution": {
     "iopub.execute_input": "2022-04-03T06:36:03.578942Z",
     "iopub.status.busy": "2022-04-03T06:36:03.578756Z",
     "iopub.status.idle": "2022-04-03T06:36:04.345116Z",
     "shell.execute_reply": "2022-04-03T06:36:03.996281Z",
     "shell.execute_reply.started": "2022-04-03T06:36:03.578920Z"
    },
    "tags": []
   },
   "outputs": [
    {
     "data": {
      "application/vnd.jupyter.widget-view+json": {
       "model_id": "a13579cda80b4f3ea99f999e0c13837e",
       "version_major": 2,
       "version_minor": 0
      },
      "text/plain": [
       "VBox()"
      ]
     },
     "metadata": {},
     "output_type": "display_data"
    },
    {
     "data": {
      "application/vnd.jupyter.widget-view+json": {
       "model_id": "",
       "version_major": 2,
       "version_minor": 0
      },
      "text/plain": [
       "FloatProgress(value=0.0, bar_style='info', description='Progress:', layout=Layout(height='25px', width='50%'),…"
      ]
     },
     "metadata": {},
     "output_type": "display_data"
    }
   ],
   "source": [
    "df = df_one_sample.unionAll(df_two_sample.unionAll(df_three_sample.unionAll(df_four_sample.unionAll(df_five_sample))))"
   ]
  },
  {
   "cell_type": "code",
   "execution_count": 25,
   "id": "be62fb79-bd96-4e0e-a59a-f48781fd8404",
   "metadata": {
    "execution": {
     "iopub.execute_input": "2022-04-03T06:36:04.581447Z",
     "iopub.status.busy": "2022-04-03T06:36:04.581218Z",
     "iopub.status.idle": "2022-04-03T06:36:07.899427Z",
     "shell.execute_reply": "2022-04-03T06:36:07.898685Z",
     "shell.execute_reply.started": "2022-04-03T06:36:04.581423Z"
    },
    "tags": []
   },
   "outputs": [
    {
     "data": {
      "application/vnd.jupyter.widget-view+json": {
       "model_id": "90a9a51c56db48258472c93f30b4bb14",
       "version_major": 2,
       "version_minor": 0
      },
      "text/plain": [
       "VBox()"
      ]
     },
     "metadata": {},
     "output_type": "display_data"
    },
    {
     "data": {
      "application/vnd.jupyter.widget-view+json": {
       "model_id": "",
       "version_major": 2,
       "version_minor": 0
      },
      "text/plain": [
       "FloatProgress(value=0.0, bar_style='info', description='Progress:', layout=Layout(height='25px', width='50%'),…"
      ]
     },
     "metadata": {},
     "output_type": "display_data"
    },
    {
     "name": "stdout",
     "output_type": "stream",
     "text": [
      "3547875"
     ]
    }
   ],
   "source": [
    "df.count()"
   ]
  },
  {
   "cell_type": "code",
   "execution_count": 26,
   "id": "7386070a-3e72-43ea-a848-bc8b9b318624",
   "metadata": {
    "execution": {
     "iopub.execute_input": "2022-04-03T06:36:07.900577Z",
     "iopub.status.busy": "2022-04-03T06:36:07.900394Z",
     "iopub.status.idle": "2022-04-03T06:36:07.963116Z",
     "shell.execute_reply": "2022-04-03T06:36:07.962486Z",
     "shell.execute_reply.started": "2022-04-03T06:36:07.900555Z"
    },
    "tags": []
   },
   "outputs": [
    {
     "data": {
      "application/vnd.jupyter.widget-view+json": {
       "model_id": "04da74a2f8aa40a0b69e107c6581d50c",
       "version_major": 2,
       "version_minor": 0
      },
      "text/plain": [
       "VBox()"
      ]
     },
     "metadata": {},
     "output_type": "display_data"
    },
    {
     "data": {
      "application/vnd.jupyter.widget-view+json": {
       "model_id": "",
       "version_major": 2,
       "version_minor": 0
      },
      "text/plain": [
       "FloatProgress(value=0.0, bar_style='info', description='Progress:', layout=Layout(height='25px', width='50%'),…"
      ]
     },
     "metadata": {},
     "output_type": "display_data"
    },
    {
     "name": "stdout",
     "output_type": "stream",
     "text": [
      "root\n",
      " |-- cool: long (nullable = true)\n",
      " |-- funny: long (nullable = true)\n",
      " |-- stars: double (nullable = true)\n",
      " |-- text: string (nullable = true)\n",
      " |-- useful: long (nullable = true)"
     ]
    }
   ],
   "source": [
    "df.printSchema()"
   ]
  },
  {
   "cell_type": "code",
   "execution_count": 27,
   "id": "6b190c09-7f5b-44a1-9622-53f776fa9d66",
   "metadata": {
    "execution": {
     "iopub.execute_input": "2022-04-03T06:36:09.878294Z",
     "iopub.status.busy": "2022-04-03T06:36:09.878026Z",
     "iopub.status.idle": "2022-04-03T06:36:09.942888Z",
     "shell.execute_reply": "2022-04-03T06:36:09.942339Z",
     "shell.execute_reply.started": "2022-04-03T06:36:09.878270Z"
    },
    "tags": []
   },
   "outputs": [
    {
     "data": {
      "application/vnd.jupyter.widget-view+json": {
       "model_id": "a8953aab39a84f79971704f0814d164f",
       "version_major": 2,
       "version_minor": 0
      },
      "text/plain": [
       "VBox()"
      ]
     },
     "metadata": {},
     "output_type": "display_data"
    },
    {
     "data": {
      "application/vnd.jupyter.widget-view+json": {
       "model_id": "",
       "version_major": 2,
       "version_minor": 0
      },
      "text/plain": [
       "FloatProgress(value=0.0, bar_style='info', description='Progress:', layout=Layout(height='25px', width='50%'),…"
      ]
     },
     "metadata": {},
     "output_type": "display_data"
    }
   ],
   "source": [
    "df_new = df.orderBy(rand())"
   ]
  },
  {
   "cell_type": "code",
   "execution_count": 28,
   "id": "f8b47f86-3a2f-4997-a5ac-599623a3f349",
   "metadata": {
    "execution": {
     "iopub.execute_input": "2022-04-03T06:36:10.905526Z",
     "iopub.status.busy": "2022-04-03T06:36:10.905296Z",
     "iopub.status.idle": "2022-04-03T06:36:20.242781Z",
     "shell.execute_reply": "2022-04-03T06:36:20.242171Z",
     "shell.execute_reply.started": "2022-04-03T06:36:10.905501Z"
    },
    "tags": []
   },
   "outputs": [
    {
     "data": {
      "application/vnd.jupyter.widget-view+json": {
       "model_id": "2de64330127c434ca5195db81f78839e",
       "version_major": 2,
       "version_minor": 0
      },
      "text/plain": [
       "VBox()"
      ]
     },
     "metadata": {},
     "output_type": "display_data"
    },
    {
     "data": {
      "application/vnd.jupyter.widget-view+json": {
       "model_id": "",
       "version_major": 2,
       "version_minor": 0
      },
      "text/plain": [
       "FloatProgress(value=0.0, bar_style='info', description='Progress:', layout=Layout(height='25px', width='50%'),…"
      ]
     },
     "metadata": {},
     "output_type": "display_data"
    }
   ],
   "source": [
    "df_new_cnt = df_new.groupBy(\"stars\").count()\n",
    "df_new_cnt_pd = df_new_cnt.sort([\"stars\"]).toPandas()"
   ]
  },
  {
   "cell_type": "code",
   "execution_count": 29,
   "id": "bc740aeb-ac94-4e45-8c30-58c81a76e277",
   "metadata": {
    "execution": {
     "iopub.execute_input": "2022-04-03T06:36:20.244127Z",
     "iopub.status.busy": "2022-04-03T06:36:20.243945Z",
     "iopub.status.idle": "2022-04-03T06:36:21.200005Z",
     "shell.execute_reply": "2022-04-03T06:36:21.172679Z",
     "shell.execute_reply.started": "2022-04-03T06:36:20.244105Z"
    },
    "tags": []
   },
   "outputs": [
    {
     "data": {
      "application/vnd.jupyter.widget-view+json": {
       "model_id": "5fe53c8955664dfbb1524e25508cd4e1",
       "version_major": 2,
       "version_minor": 0
      },
      "text/plain": [
       "VBox()"
      ]
     },
     "metadata": {},
     "output_type": "display_data"
    },
    {
     "data": {
      "application/vnd.jupyter.widget-view+json": {
       "model_id": "",
       "version_major": 2,
       "version_minor": 0
      },
      "text/plain": [
       "FloatProgress(value=0.0, bar_style='info', description='Progress:', layout=Layout(height='25px', width='50%'),…"
      ]
     },
     "metadata": {},
     "output_type": "display_data"
    },
    {
     "name": "stdout",
     "output_type": "stream",
     "text": [
      "Text(0, 0.5, 'Text rows count')"
     ]
    }
   ],
   "source": [
    "plt.clf()\n",
    "df_new_cnt_pd.plot(kind='bar', x='stars',y='count', legend=None, figsize=(8,6))\n",
    "plt.title('Number of text rows for star rating')\n",
    "plt.xlabel('Star Rating')\n",
    "plt.ylabel('Text rows count')"
   ]
  },
  {
   "cell_type": "code",
   "execution_count": 30,
   "id": "a9f7859a-af45-4ea3-92b7-5bf3c6564c9a",
   "metadata": {
    "execution": {
     "iopub.execute_input": "2022-04-03T06:36:21.201638Z",
     "iopub.status.busy": "2022-04-03T06:36:21.201443Z",
     "iopub.status.idle": "2022-04-03T06:36:21.457416Z",
     "shell.execute_reply": "2022-04-03T06:36:21.456870Z",
     "shell.execute_reply.started": "2022-04-03T06:36:21.201615Z"
    },
    "tags": []
   },
   "outputs": [
    {
     "data": {
      "application/vnd.jupyter.widget-view+json": {
       "model_id": "",
       "version_major": 2,
       "version_minor": 0
      },
      "text/plain": [
       "FloatProgress(value=0.0, bar_style='info', description='Progress:', layout=Layout(height='25px', width='50%'),…"
      ]
     },
     "metadata": {},
     "output_type": "display_data"
    },
    {
     "data": {
      "image/png": "[encoded data removed]",
      "text/plain": [
       "<IPython.core.display.Image object>"
      ]
     },
     "metadata": {},
     "output_type": "display_data"
    }
   ],
   "source": [
    "%matplot plt"
   ]
  },
  {
   "cell_type": "code",
   "execution_count": 32,
   "id": "ec663944-96c1-4c05-b270-d0b267069bff",
   "metadata": {
    "execution": {
     "iopub.execute_input": "2022-04-03T06:41:04.610020Z",
     "iopub.status.busy": "2022-04-03T06:41:04.609787Z",
     "iopub.status.idle": "2022-04-03T06:42:10.128861Z",
     "shell.execute_reply": "2022-04-03T06:42:10.128221Z",
     "shell.execute_reply.started": "2022-04-03T06:41:04.609997Z"
    },
    "tags": []
   },
   "outputs": [
    {
     "data": {
      "application/vnd.jupyter.widget-view+json": {
       "model_id": "84076392752846b598bab643c20c72a2",
       "version_major": 2,
       "version_minor": 0
      },
      "text/plain": [
       "VBox()"
      ]
     },
     "metadata": {},
     "output_type": "display_data"
    },
    {
     "data": {
      "application/vnd.jupyter.widget-view+json": {
       "model_id": "",
       "version_major": 2,
       "version_minor": 0
      },
      "text/plain": [
       "FloatProgress(value=0.0, bar_style='info', description='Progress:', layout=Layout(height='25px', width='50%'),…"
      ]
     },
     "metadata": {},
     "output_type": "display_data"
    }
   ],
   "source": [
    "df_new.write.orc(\"s3://akshay-yelp/yelp_academic_dataset_review_shrunk/\")"
   ]
  },
  {
   "cell_type": "code",
   "execution_count": 35,
   "id": "52f432c3-31b0-43f0-8147-c0631e5c3747",
   "metadata": {
    "execution": {
     "iopub.execute_input": "2022-04-03T06:44:30.475631Z",
     "iopub.status.busy": "2022-04-03T06:44:30.475264Z",
     "iopub.status.idle": "2022-04-03T06:44:30.607212Z",
     "shell.execute_reply": "2022-04-03T06:44:30.606451Z",
     "shell.execute_reply.started": "2022-04-03T06:44:30.475588Z"
    },
    "tags": []
   },
   "outputs": [
    {
     "data": {
      "application/vnd.jupyter.widget-view+json": {
       "model_id": "8cc8f33b25f746789abe6e657912335a",
       "version_major": 2,
       "version_minor": 0
      },
      "text/plain": [
       "VBox()"
      ]
     },
     "metadata": {},
     "output_type": "display_data"
    },
    {
     "data": {
      "application/vnd.jupyter.widget-view+json": {
       "model_id": "",
       "version_major": 2,
       "version_minor": 0
      },
      "text/plain": [
       "FloatProgress(value=0.0, bar_style='info', description='Progress:', layout=Layout(height='25px', width='50%'),…"
      ]
     },
     "metadata": {},
     "output_type": "display_data"
    }
   ],
   "source": [
    "aa=df_new.limit(10)"
   ]
  },
  {
   "cell_type": "code",
   "execution_count": 36,
   "id": "dad70ce8-e4c1-4ddd-bd6d-24e98ee7b49a",
   "metadata": {
    "execution": {
     "iopub.execute_input": "2022-04-03T06:44:52.282678Z",
     "iopub.status.busy": "2022-04-03T06:44:52.282426Z",
     "iopub.status.idle": "2022-04-03T06:45:23.671446Z",
     "shell.execute_reply": "2022-04-03T06:45:23.670721Z",
     "shell.execute_reply.started": "2022-04-03T06:44:52.282653Z"
    }
   },
   "outputs": [
    {
     "data": {
      "application/vnd.jupyter.widget-view+json": {
       "model_id": "ffc502727b814e8382ec90f31f856cea",
       "version_major": 2,
       "version_minor": 0
      },
      "text/plain": [
       "VBox()"
      ]
     },
     "metadata": {},
     "output_type": "display_data"
    },
    {
     "data": {
      "application/vnd.jupyter.widget-view+json": {
       "model_id": "",
       "version_major": 2,
       "version_minor": 0
      },
      "text/plain": [
       "FloatProgress(value=0.0, bar_style='info', description='Progress:', layout=Layout(height='25px', width='50%'),…"
      ]
     },
     "metadata": {},
     "output_type": "display_data"
    },
    {
     "name": "stdout",
     "output_type": "stream",
     "text": [
      "+----+-----+-----+--------------------+------+\n",
      "|cool|funny|stars|                text|useful|\n",
      "+----+-----+-----+--------------------+------+\n",
      "|   0|    0|  1.0|If I could give t...|     2|\n",
      "|   0|    0|  2.0|This Wendy's is s...|     1|\n",
      "|   0|    0|  3.0|Their Indian comb...|     1|\n",
      "|   0|    0|  5.0|My kind of place,...|     0|\n",
      "|   0|    0|  3.0|Pizza's great dru...|     0|\n",
      "|   0|    0|  4.0|Good medium sized...|     0|\n",
      "|   1|    2|  1.0|The place, employ...|     2|\n",
      "|   3|    1|  1.0|I'm putting this ...|    41|\n",
      "|   0|    0|  3.0|The veggie crepes...|     0|\n",
      "|   0|    0|  2.0|Having worked at ...|     0|\n",
      "+----+-----+-----+--------------------+------+"
     ]
    }
   ],
   "source": [
    "aa.show(10)"
   ]
  },
  {
   "cell_type": "code",
   "execution_count": 46,
   "id": "1a800689-e6ed-4906-9c39-491c7525186b",
   "metadata": {
    "execution": {
     "iopub.execute_input": "2022-04-03T07:00:31.776141Z",
     "iopub.status.busy": "2022-04-03T07:00:31.775905Z",
     "iopub.status.idle": "2022-04-03T07:00:41.097323Z",
     "shell.execute_reply": "2022-04-03T07:00:41.096529Z",
     "shell.execute_reply.started": "2022-04-03T07:00:31.776118Z"
    },
    "tags": []
   },
   "outputs": [
    {
     "data": {
      "application/vnd.jupyter.widget-view+json": {
       "model_id": "df53e9093b38488da4f55c827cd73c2f",
       "version_major": 2,
       "version_minor": 0
      },
      "text/plain": [
       "VBox()"
      ]
     },
     "metadata": {},
     "output_type": "display_data"
    },
    {
     "data": {
      "application/vnd.jupyter.widget-view+json": {
       "model_id": "",
       "version_major": 2,
       "version_minor": 0
      },
      "text/plain": [
       "FloatProgress(value=0.0, bar_style='info', description='Progress:', layout=Layout(height='25px', width='50%'),…"
      ]
     },
     "metadata": {},
     "output_type": "display_data"
    },
    {
     "name": "stdout",
     "output_type": "stream",
     "text": [
      "    cool    count\n",
      "0      0  6686980\n",
      "1      1  1206387\n",
      "2      2   364606\n",
      "3      3   145669\n",
      "4      4    71554\n",
      "5      5    41205\n",
      "6      6    26768\n",
      "7      7    18320\n",
      "8      8    13275\n",
      "9      9    10066\n",
      "10    10     7672\n",
      "11    11     6318\n",
      "12    12     5073\n",
      "13    13     4118\n",
      "14    14     3471\n",
      "15    15     2829\n",
      "16    16     2381\n",
      "17    17     1961\n",
      "18    18     1675\n",
      "19    19     1474\n",
      "20    20     1251\n",
      "21    21     1064\n",
      "22    22      950\n",
      "23    23      777\n",
      "24    24      770\n",
      "25    25      644\n",
      "26    26      530\n",
      "27    27      491\n",
      "28    28      419\n",
      "29    29      372"
     ]
    }
   ],
   "source": [
    "count_cool = review.groupBy(\"cool\").count()\n",
    "count_cool = count_cool.sort([\"cool\"]).limit(30).toPandas()\n",
    "count_cool\n"
   ]
  },
  {
   "cell_type": "code",
   "execution_count": 47,
   "id": "a2f5d546-6787-4682-9f99-3ad7ecab0eb5",
   "metadata": {
    "execution": {
     "iopub.execute_input": "2022-04-03T07:00:52.046989Z",
     "iopub.status.busy": "2022-04-03T07:00:52.046759Z",
     "iopub.status.idle": "2022-04-03T07:00:52.310907Z",
     "shell.execute_reply": "2022-04-03T07:00:52.310160Z",
     "shell.execute_reply.started": "2022-04-03T07:00:52.046966Z"
    },
    "tags": []
   },
   "outputs": [
    {
     "data": {
      "application/vnd.jupyter.widget-view+json": {
       "model_id": "3c60be4809f24863b9bb104a75036f50",
       "version_major": 2,
       "version_minor": 0
      },
      "text/plain": [
       "VBox()"
      ]
     },
     "metadata": {},
     "output_type": "display_data"
    },
    {
     "data": {
      "application/vnd.jupyter.widget-view+json": {
       "model_id": "",
       "version_major": 2,
       "version_minor": 0
      },
      "text/plain": [
       "FloatProgress(value=0.0, bar_style='info', description='Progress:', layout=Layout(height='25px', width='50%'),…"
      ]
     },
     "metadata": {},
     "output_type": "display_data"
    },
    {
     "name": "stdout",
     "output_type": "stream",
     "text": [
      "Text(0, 0.5, 'count')"
     ]
    }
   ],
   "source": [
    "plt.clf()\n",
    "count_cool.plot(kind='bar', x='cool',y='count', legend=None, figsize=(20,15))\n",
    "plt.title('Number of text rows for cool')\n",
    "plt.xlabel('cool')\n",
    "plt.ylabel('count')"
   ]
  },
  {
   "cell_type": "code",
   "execution_count": 48,
   "id": "ecbd016e-dd37-4f5e-8687-2e0c42d8be68",
   "metadata": {
    "execution": {
     "iopub.execute_input": "2022-04-03T07:00:53.631935Z",
     "iopub.status.busy": "2022-04-03T07:00:53.631677Z",
     "iopub.status.idle": "2022-04-03T07:00:54.391518Z",
     "shell.execute_reply": "2022-04-03T07:00:54.390849Z",
     "shell.execute_reply.started": "2022-04-03T07:00:53.631910Z"
    },
    "tags": []
   },
   "outputs": [
    {
     "data": {
      "application/vnd.jupyter.widget-view+json": {
       "model_id": "",
       "version_major": 2,
       "version_minor": 0
      },
      "text/plain": [
       "FloatProgress(value=0.0, bar_style='info', description='Progress:', layout=Layout(height='25px', width='50%'),…"
      ]
     },
     "metadata": {},
     "output_type": "display_data"
    },
    {
     "data": {
      "image/png": "[encoded data removed]",
      "text/plain": [
       "<IPython.core.display.Image object>"
      ]
     },
     "metadata": {},
     "output_type": "display_data"
    }
   ],
   "source": [
    "%matplot plt"
   ]
  },
  {
   "cell_type": "code",
   "execution_count": null,
   "id": "d1ab432e-d4ca-4acd-b1b8-c9f5112f9504",
   "metadata": {},
   "outputs": [],
   "source": []
  }
 ],
 "metadata": {
  "kernelspec": {
   "display_name": "PySpark",
   "language": "",
   "name": "pysparkkernel"
  },
  "language_info": {
   "codemirror_mode": {
    "name": "python",
    "version": 3
   },
   "mimetype": "text/x-python",
   "name": "pyspark",
   "pygments_lexer": "python3"
  }
 },
 "nbformat": 4,
 "nbformat_minor": 5
}
