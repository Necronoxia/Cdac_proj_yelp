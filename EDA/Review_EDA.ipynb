{
 "cells": [
  {
   "cell_type": "code",
   "execution_count": 8,
   "id": "a68f5a0c-b7df-4de6-8143-4bd26353c818",
   "metadata": {
    "execution": {
     "iopub.execute_input": "2022-03-14T15:17:08.659147Z",
     "iopub.status.busy": "2022-03-14T15:17:08.658900Z",
     "iopub.status.idle": "2022-03-14T15:17:08.935111Z",
     "shell.execute_reply": "2022-03-14T15:17:08.934460Z",
     "shell.execute_reply.started": "2022-03-14T15:17:08.659122Z"
    },
    "tags": []
   },
   "outputs": [
    {
     "data": {
      "application/vnd.jupyter.widget-view+json": {
       "model_id": "9cfbdf16b59d4275aeba99fe2a4d4206",
       "version_major": 2,
       "version_minor": 0
      },
      "text/plain": [
       "VBox()"
      ]
     },
     "metadata": {},
     "output_type": "display_data"
    },
    {
     "data": {
      "application/vnd.jupyter.widget-view+json": {
       "model_id": "",
       "version_major": 2,
       "version_minor": 0
      },
      "text/plain": [
       "FloatProgress(value=0.0, bar_style='info', description='Progress:', layout=Layout(height='25px', width='50%'),…"
      ]
     },
     "metadata": {},
     "output_type": "display_data"
    }
   ],
   "source": [
    "import pyspark\n",
    "from pyspark.sql.functions import *"
   ]
  },
  {
   "cell_type": "code",
   "execution_count": 17,
   "id": "02d27f0e-8070-477e-a27a-b70728fbdee8",
   "metadata": {
    "execution": {
     "iopub.execute_input": "2022-03-14T15:29:25.564162Z",
     "iopub.status.busy": "2022-03-14T15:29:25.563894Z",
     "iopub.status.idle": "2022-03-14T15:29:26.832265Z",
     "shell.execute_reply": "2022-03-14T15:29:26.831417Z",
     "shell.execute_reply.started": "2022-03-14T15:29:25.564137Z"
    },
    "tags": []
   },
   "outputs": [
    {
     "name": "stdout",
     "output_type": "stream",
     "text": [
      "Defaulting to user installation because normal site-packages is not writeable\n",
      "Requirement already satisfied: pandas in /mnt/notebook-env/lib/python3.7/site-packages (1.3.4)\n",
      "Requirement already satisfied: python-dateutil>=2.7.3 in /mnt/notebook-env/lib/python3.7/site-packages (from pandas) (2.8.2)\n",
      "Requirement already satisfied: pytz>=2017.3 in /mnt/notebook-env/lib/python3.7/site-packages (from pandas) (2021.3)\n",
      "Requirement already satisfied: numpy>=1.17.3 in /mnt/notebook-env/lib/python3.7/site-packages (from pandas) (1.21.2)\n",
      "Requirement already satisfied: six>=1.5 in /mnt/notebook-env/lib/python3.7/site-packages (from python-dateutil>=2.7.3->pandas) (1.15.0)\n",
      "Note: you may need to restart the kernel to use updated packages.\n"
     ]
    }
   ],
   "source": [
    "%pip install pandas"
   ]
  },
  {
   "cell_type": "code",
   "execution_count": 2,
   "id": "05c7a866-6c05-464e-8867-e9edb054e39b",
   "metadata": {
    "execution": {
     "iopub.execute_input": "2022-03-14T15:15:53.770755Z",
     "iopub.status.busy": "2022-03-14T15:15:53.770574Z",
     "iopub.status.idle": "2022-03-14T15:16:19.218586Z",
     "shell.execute_reply": "2022-03-14T15:16:19.217912Z",
     "shell.execute_reply.started": "2022-03-14T15:15:53.770733Z"
    },
    "tags": []
   },
   "outputs": [
    {
     "data": {
      "application/vnd.jupyter.widget-view+json": {
       "model_id": "6e54e32d20d7477cb0a0d39f6587d5b9",
       "version_major": 2,
       "version_minor": 0
      },
      "text/plain": [
       "VBox()"
      ]
     },
     "metadata": {},
     "output_type": "display_data"
    },
    {
     "data": {
      "application/vnd.jupyter.widget-view+json": {
       "model_id": "",
       "version_major": 2,
       "version_minor": 0
      },
      "text/plain": [
       "FloatProgress(value=0.0, bar_style='info', description='Progress:', layout=Layout(height='25px', width='50%'),…"
      ]
     },
     "metadata": {},
     "output_type": "display_data"
    }
   ],
   "source": [
    "review = spark.read.load(\"hdfs:///NLP-json/yelp_academic_dataset_review.json\", format=\"json\")"
   ]
  },
  {
   "cell_type": "code",
   "execution_count": 3,
   "id": "4be86361-f3a2-4517-8624-5fe6035ee263",
   "metadata": {
    "execution": {
     "iopub.execute_input": "2022-03-14T15:16:19.220074Z",
     "iopub.status.busy": "2022-03-14T15:16:19.219889Z",
     "iopub.status.idle": "2022-03-14T15:16:20.011711Z",
     "shell.execute_reply": "2022-03-14T15:16:20.011099Z",
     "shell.execute_reply.started": "2022-03-14T15:16:19.220051Z"
    },
    "tags": []
   },
   "outputs": [
    {
     "data": {
      "application/vnd.jupyter.widget-view+json": {
       "model_id": "9577f68a0ddf4510bae918b305f2730e",
       "version_major": 2,
       "version_minor": 0
      },
      "text/plain": [
       "VBox()"
      ]
     },
     "metadata": {},
     "output_type": "display_data"
    },
    {
     "data": {
      "application/vnd.jupyter.widget-view+json": {
       "model_id": "",
       "version_major": 2,
       "version_minor": 0
      },
      "text/plain": [
       "FloatProgress(value=0.0, bar_style='info', description='Progress:', layout=Layout(height='25px', width='50%'),…"
      ]
     },
     "metadata": {},
     "output_type": "display_data"
    },
    {
     "name": "stdout",
     "output_type": "stream",
     "text": [
      "+--------------------+----+-------------------+-----+--------------------+-----+--------------------+------+--------------------+\n",
      "|         business_id|cool|               date|funny|           review_id|stars|                text|useful|             user_id|\n",
      "+--------------------+----+-------------------+-----+--------------------+-----+--------------------+------+--------------------+\n",
      "|buF9druCkbuXLX526...|   1|2014-10-11 03:34:02|    1|lWC-xP3rd6obsecCY...|  4.0|Apparently Prides...|     3|ak0TdVmGKo4pwqdJS...|\n",
      "|RA4V8pr014UyUbDvI...|   0|2015-07-03 20:38:25|    0|8bFej1QE5LXp4O05q...|  4.0|This store is pre...|     1|YoVfDbnISlW0f7abN...|\n",
      "|_sS2LBIGNT5NQb6PD...|   0|2013-05-28 20:38:06|    0|NDhkzczKjLshODbqD...|  5.0|I called WVM on t...|     0|eC5evKn1TWDyHCyQA...|\n",
      "|0AzLzHfOJgL7ROwhd...|   1|2010-01-08 02:29:15|    1|T5fAqjjFooT4V0OeZ...|  2.0|I've stayed at ma...|     1|SFQ1jcnGguO0LYWnb...|\n",
      "|8zehGz9jnxPqXtOc7...|   0|2011-07-28 18:05:01|    0|sjm_uUcQVxab_EeLC...|  4.0|The food is alway...|     0|0kA0PAJ8QFMeveQWH...|\n",
      "|xGXzsc-hzam-VArK6...|   0|2018-01-21 04:41:03|    0|J4a2TuhDasjn2k3wW...|  1.0|This place used t...|     2|RNm_RWkcd02Li2mKP...|\n",
      "|EXOsmAB1s71WePlQk...|   0|2006-04-16 02:58:44|    0|28gGfkLs3igtjVy61...|  2.0|The setting is pe...|     0|Q8c91v7luItVB0cMF...|\n",
      "|DbXHNl890xSXNiyRc...|   0|2017-12-02 18:16:13|    0|9vqwvFCBG3FBiHGmO...|  5.0|Probably one of t...|     0|XGkAG92TQ3MQUKGX9...|\n",
      "|mD-A9KOWADXvfrZfw...|   0|2012-05-28 15:00:47|    0|2l_TDrQ7p-5tANOyi...|  4.0|I am definitely a...|     1|LWUnzwK0ILquLLZcH...|\n",
      "|EEHhKSxUvJkoPSzeG...|   0|2014-05-07 18:10:21|    0|KKVFopqzcVfcubIBx...|  5.0|I work in the Pru...|     0|99RsBrARhhx60UnAC...|\n",
      "+--------------------+----+-------------------+-----+--------------------+-----+--------------------+------+--------------------+\n",
      "only showing top 10 rows"
     ]
    }
   ],
   "source": [
    "review.show(10)"
   ]
  },
  {
   "cell_type": "code",
   "execution_count": 4,
   "id": "55e0f052-1ded-428a-8572-76f52421a81e",
   "metadata": {
    "execution": {
     "iopub.execute_input": "2022-03-14T15:16:20.012957Z",
     "iopub.status.busy": "2022-03-14T15:16:20.012777Z",
     "iopub.status.idle": "2022-03-14T15:16:20.080864Z",
     "shell.execute_reply": "2022-03-14T15:16:20.080278Z",
     "shell.execute_reply.started": "2022-03-14T15:16:20.012934Z"
    },
    "tags": []
   },
   "outputs": [
    {
     "data": {
      "application/vnd.jupyter.widget-view+json": {
       "model_id": "a5aba71cf92b4874b496830f3f349657",
       "version_major": 2,
       "version_minor": 0
      },
      "text/plain": [
       "VBox()"
      ]
     },
     "metadata": {},
     "output_type": "display_data"
    },
    {
     "data": {
      "application/vnd.jupyter.widget-view+json": {
       "model_id": "",
       "version_major": 2,
       "version_minor": 0
      },
      "text/plain": [
       "FloatProgress(value=0.0, bar_style='info', description='Progress:', layout=Layout(height='25px', width='50%'),…"
      ]
     },
     "metadata": {},
     "output_type": "display_data"
    }
   ],
   "source": [
    "review = review.drop(\"business_id\",\"date\",\"review_id\",\"user_id\")"
   ]
  },
  {
   "cell_type": "code",
   "execution_count": 5,
   "id": "4db47a75-4de6-4a0a-96e3-efc0bfcbe629",
   "metadata": {
    "execution": {
     "iopub.execute_input": "2022-03-14T15:16:20.086775Z",
     "iopub.status.busy": "2022-03-14T15:16:20.086536Z",
     "iopub.status.idle": "2022-03-14T15:16:20.161356Z",
     "shell.execute_reply": "2022-03-14T15:16:20.160685Z",
     "shell.execute_reply.started": "2022-03-14T15:16:20.086742Z"
    },
    "tags": []
   },
   "outputs": [
    {
     "data": {
      "application/vnd.jupyter.widget-view+json": {
       "model_id": "70804f4b3d0f40248bd4292681030aca",
       "version_major": 2,
       "version_minor": 0
      },
      "text/plain": [
       "VBox()"
      ]
     },
     "metadata": {},
     "output_type": "display_data"
    },
    {
     "data": {
      "application/vnd.jupyter.widget-view+json": {
       "model_id": "",
       "version_major": 2,
       "version_minor": 0
      },
      "text/plain": [
       "FloatProgress(value=0.0, bar_style='info', description='Progress:', layout=Layout(height='25px', width='50%'),…"
      ]
     },
     "metadata": {},
     "output_type": "display_data"
    },
    {
     "name": "stdout",
     "output_type": "stream",
     "text": [
      "root\n",
      " |-- cool: long (nullable = true)\n",
      " |-- funny: long (nullable = true)\n",
      " |-- stars: double (nullable = true)\n",
      " |-- text: string (nullable = true)\n",
      " |-- useful: long (nullable = true)"
     ]
    }
   ],
   "source": [
    "review.printSchema()"
   ]
  },
  {
   "cell_type": "code",
   "execution_count": 6,
   "id": "ca9f2aec-15c5-41b4-9296-cfea04ac232c",
   "metadata": {
    "execution": {
     "iopub.execute_input": "2022-03-14T15:16:20.163525Z",
     "iopub.status.busy": "2022-03-14T15:16:20.163270Z",
     "iopub.status.idle": "2022-03-14T15:16:20.453054Z",
     "shell.execute_reply": "2022-03-14T15:16:20.452386Z",
     "shell.execute_reply.started": "2022-03-14T15:16:20.163490Z"
    },
    "tags": []
   },
   "outputs": [
    {
     "data": {
      "application/vnd.jupyter.widget-view+json": {
       "model_id": "702536637f6e4be8bd355f1697668e34",
       "version_major": 2,
       "version_minor": 0
      },
      "text/plain": [
       "VBox()"
      ]
     },
     "metadata": {},
     "output_type": "display_data"
    },
    {
     "data": {
      "application/vnd.jupyter.widget-view+json": {
       "model_id": "",
       "version_major": 2,
       "version_minor": 0
      },
      "text/plain": [
       "FloatProgress(value=0.0, bar_style='info', description='Progress:', layout=Layout(height='25px', width='50%'),…"
      ]
     },
     "metadata": {},
     "output_type": "display_data"
    },
    {
     "name": "stdout",
     "output_type": "stream",
     "text": [
      "[Row(cool=1, funny=1, stars=4.0, text=\"Apparently Prides Osteria had a rough summer as evidenced by the almost empty dining room at 6:30 on a Friday night. However new blood in the kitchen seems to have revitalized the food from other customers recent visits. Waitstaff was warm but unobtrusive. By 8 pm or so when we left the bar was full and the dining room was much more lively than it had been. Perhaps Beverly residents prefer a later seating. \\n\\nAfter reading the mixed reviews of late I was a little tentative over our choice but luckily there was nothing to worry about in the food department. We started with the fried dough, burrata and prosciutto which were all lovely. Then although they don't offer half portions of pasta we each ordered the entree size and split them. We chose the tagliatelle bolognese and a four cheese filled pasta in a creamy sauce with bacon, asparagus and grana frita. Both were very good. We split a secondi which was the special Berkshire pork secreto, which was described as a pork skirt steak with garlic potato purée and romanesco broccoli (incorrectly described as a romanesco sauce). Some tables received bread before the meal but for some reason we did not. \\n\\nManagement also seems capable for when the tenants in the apartment above began playing basketball she intervened and also comped the tables a dessert. We ordered the apple dumpling with gelato and it was also quite tasty. Portions are not huge which I particularly like because I prefer to order courses. If you are someone who orders just a meal you may leave hungry depending on you appetite. Dining room was mostly younger crowd while the bar was definitely the over 40 set. Would recommend that the naysayers return to see the improvement although I personally don't know the former glory to be able to compare. Easy access to downtown Salem without the crowds on this month of October.\", useful=3)]"
     ]
    }
   ],
   "source": [
    "review.take(1)"
   ]
  },
  {
   "cell_type": "code",
   "execution_count": 20,
   "id": "3d5aeb7a-b677-4d86-84f6-fe6e78ec995b",
   "metadata": {
    "execution": {
     "iopub.execute_input": "2022-03-14T15:30:32.846501Z",
     "iopub.status.busy": "2022-03-14T15:30:32.846165Z",
     "iopub.status.idle": "2022-03-14T15:30:50.201223Z",
     "shell.execute_reply": "2022-03-14T15:30:50.200502Z",
     "shell.execute_reply.started": "2022-03-14T15:30:32.846463Z"
    },
    "tags": []
   },
   "outputs": [
    {
     "data": {
      "application/vnd.jupyter.widget-view+json": {
       "model_id": "1be9dd96705442ca87425add4ef22cff",
       "version_major": 2,
       "version_minor": 0
      },
      "text/plain": [
       "VBox()"
      ]
     },
     "metadata": {},
     "output_type": "display_data"
    },
    {
     "data": {
      "application/vnd.jupyter.widget-view+json": {
       "model_id": "",
       "version_major": 2,
       "version_minor": 0
      },
      "text/plain": [
       "FloatProgress(value=0.0, bar_style='info', description='Progress:', layout=Layout(height='25px', width='50%'),…"
      ]
     },
     "metadata": {},
     "output_type": "display_data"
    },
    {
     "name": "stdout",
     "output_type": "stream",
     "text": [
      "+-----+-------+\n",
      "|stars|  count|\n",
      "+-----+-------+\n",
      "|  1.0|1262800|\n",
      "|  2.0| 711378|\n",
      "|  3.0| 926656|\n",
      "|  4.0|1920037|\n",
      "|  5.0|3814532|\n",
      "+-----+-------+"
     ]
    }
   ],
   "source": [
    "gr_star = review.groupBy(\"stars\").count()\n",
    "gr_star.sort([\"stars\"]).show()"
   ]
  },
  {
   "cell_type": "code",
   "execution_count": 15,
   "id": "5875a1ea-0890-4a1a-867e-b0059ed2d8b9",
   "metadata": {
    "execution": {
     "iopub.execute_input": "2022-03-14T15:28:56.062122Z",
     "iopub.status.busy": "2022-03-14T15:28:56.061839Z",
     "iopub.status.idle": "2022-03-14T15:29:21.448476Z",
     "shell.execute_reply": "2022-03-14T15:29:21.447707Z",
     "shell.execute_reply.started": "2022-03-14T15:28:56.062092Z"
    },
    "tags": []
   },
   "outputs": [
    {
     "data": {
      "application/vnd.jupyter.widget-view+json": {
       "model_id": "70aa27de4aa741b0b1e2109bf6116ce5",
       "version_major": 2,
       "version_minor": 0
      },
      "text/plain": [
       "VBox()"
      ]
     },
     "metadata": {},
     "output_type": "display_data"
    },
    {
     "data": {
      "application/vnd.jupyter.widget-view+json": {
       "model_id": "",
       "version_major": 2,
       "version_minor": 0
      },
      "text/plain": [
       "FloatProgress(value=0.0, bar_style='info', description='Progress:', layout=Layout(height='25px', width='50%'),…"
      ]
     },
     "metadata": {},
     "output_type": "display_data"
    },
    {
     "name": "stdout",
     "output_type": "stream",
     "text": [
      "+----+-----+-----+----+------+\n",
      "|cool|funny|stars|text|useful|\n",
      "+----+-----+-----+----+------+\n",
      "|   0|    0|    0|   0|     0|\n",
      "+----+-----+-----+----+------+"
     ]
    }
   ],
   "source": [
    "review.select([count(when(isnan(c) | col(c).isNull(), c)).alias(c) for c in review.columns]).show()"
   ]
  },
  {
   "cell_type": "code",
   "execution_count": 21,
   "id": "209956e8-4ad9-4636-a54d-3cf235becc6e",
   "metadata": {
    "execution": {
     "iopub.execute_input": "2022-03-14T15:32:34.714318Z",
     "iopub.status.busy": "2022-03-14T15:32:34.714057Z",
     "iopub.status.idle": "2022-03-14T15:33:14.216711Z",
     "shell.execute_reply": "2022-03-14T15:33:14.216062Z",
     "shell.execute_reply.started": "2022-03-14T15:32:34.714289Z"
    }
   },
   "outputs": [
    {
     "data": {
      "application/vnd.jupyter.widget-view+json": {
       "model_id": "2373810a21144857be68270f151504cf",
       "version_major": 2,
       "version_minor": 0
      },
      "text/plain": [
       "VBox()"
      ]
     },
     "metadata": {},
     "output_type": "display_data"
    },
    {
     "data": {
      "application/vnd.jupyter.widget-view+json": {
       "model_id": "",
       "version_major": 2,
       "version_minor": 0
      },
      "text/plain": [
       "FloatProgress(value=0.0, bar_style='info', description='Progress:', layout=Layout(height='25px', width='50%'),…"
      ]
     },
     "metadata": {},
     "output_type": "display_data"
    }
   ],
   "source": [
    "review.write.orc(\"s3://akshay-yelp/yelp_academic_dataset_review_orc\")"
   ]
  },
  {
   "cell_type": "code",
   "execution_count": null,
   "id": "b024f5f7-dd88-4832-a82f-4722e1b8cf40",
   "metadata": {},
   "outputs": [],
   "source": []
  },
  {
   "cell_type": "code",
   "execution_count": null,
   "id": "83e451b0-6422-48cf-bb6e-19a081d08775",
   "metadata": {},
   "outputs": [],
   "source": []
  },
  {
   "cell_type": "code",
   "execution_count": null,
   "id": "ea7b5f8f-a2cf-4ae6-81ad-f3da7d6d2010",
   "metadata": {},
   "outputs": [],
   "source": []
  },
  {
   "cell_type": "code",
   "execution_count": null,
   "id": "42edbd75-1bde-4aac-a6e6-2afdc528497f",
   "metadata": {},
   "outputs": [],
   "source": []
  },
  {
   "cell_type": "code",
   "execution_count": null,
   "id": "b8268222-df1f-4421-9d1b-97ca59d85f79",
   "metadata": {},
   "outputs": [],
   "source": []
  },
  {
   "cell_type": "code",
   "execution_count": null,
   "id": "c59fa851-ce4f-4707-9f94-563d89848191",
   "metadata": {},
   "outputs": [],
   "source": []
  },
  {
   "cell_type": "code",
   "execution_count": null,
   "id": "be62fb79-bd96-4e0e-a59a-f48781fd8404",
   "metadata": {},
   "outputs": [],
   "source": []
  },
  {
   "cell_type": "code",
   "execution_count": null,
   "id": "7386070a-3e72-43ea-a848-bc8b9b318624",
   "metadata": {},
   "outputs": [],
   "source": []
  }
 ],
 "metadata": {
  "kernelspec": {
   "display_name": "PySpark",
   "language": "",
   "name": "pysparkkernel"
  },
  "language_info": {
   "codemirror_mode": {
    "name": "python",
    "version": 3
   },
   "mimetype": "text/x-python",
   "name": "pyspark",
   "pygments_lexer": "python3"
  }
 },
 "nbformat": 4,
 "nbformat_minor": 5
}
