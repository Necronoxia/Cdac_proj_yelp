{
 "cells": [
  {
   "cell_type": "code",
   "execution_count": 1,
   "id": "a68f5a0c-b7df-4de6-8143-4bd26353c818",
   "metadata": {
    "execution": {
     "iopub.execute_input": "2022-04-02T20:33:16.616415Z",
     "iopub.status.busy": "2022-04-02T20:33:16.616188Z",
     "iopub.status.idle": "2022-04-02T20:33:41.265128Z",
     "shell.execute_reply": "2022-04-02T20:33:41.264212Z",
     "shell.execute_reply.started": "2022-04-02T20:33:16.616388Z"
    },
    "tags": []
   },
   "outputs": [
    {
     "data": {
      "application/vnd.jupyter.widget-view+json": {
       "model_id": "6e6791269a0b49e28894ae13af4d6908",
       "version_major": 2,
       "version_minor": 0
      },
      "text/plain": [
       "VBox()"
      ]
     },
     "metadata": {},
     "output_type": "display_data"
    },
    {
     "name": "stdout",
     "output_type": "stream",
     "text": [
      "Starting Spark application\n"
     ]
    },
    {
     "data": {
      "text/html": [
       "<table>\n",
       "<tr><th>ID</th><th>YARN Application ID</th><th>Kind</th><th>State</th><th>Spark UI</th><th>Driver log</th><th>User</th><th>Current session?</th></tr><tr><td>12</td><td>application_1648925198225_0016</td><td>pyspark</td><td>idle</td><td><a target=\"_blank\" href=\"http://ip-172-31-6-28.ec2.internal:20888/proxy/application_1648925198225_0016/\" class=\"emr-proxy-link\" emr-resource=\"j-240M0NVAAMTMW\n",
       "\" application-id=\"application_1648925198225_0016\">Link</a></td><td><a target=\"_blank\" href=\"http://ip-172-31-15-102.ec2.internal:8042/node/containerlogs/container_1648925198225_0016_01_000001/livy\" >Link</a></td><td>None</td><td>✔</td></tr></table>"
      ],
      "text/plain": [
       "<IPython.core.display.HTML object>"
      ]
     },
     "metadata": {},
     "output_type": "display_data"
    },
    {
     "data": {
      "application/vnd.jupyter.widget-view+json": {
       "model_id": "",
       "version_major": 2,
       "version_minor": 0
      },
      "text/plain": [
       "FloatProgress(value=0.0, bar_style='info', description='Progress:', layout=Layout(height='25px', width='50%'),…"
      ]
     },
     "metadata": {},
     "output_type": "display_data"
    },
    {
     "name": "stdout",
     "output_type": "stream",
     "text": [
      "SparkSession available as 'spark'.\n"
     ]
    },
    {
     "data": {
      "application/vnd.jupyter.widget-view+json": {
       "model_id": "",
       "version_major": 2,
       "version_minor": 0
      },
      "text/plain": [
       "FloatProgress(value=0.0, bar_style='info', description='Progress:', layout=Layout(height='25px', width='50%'),…"
      ]
     },
     "metadata": {},
     "output_type": "display_data"
    }
   ],
   "source": [
    "import pyspark"
   ]
  },
  {
   "cell_type": "code",
   "execution_count": 2,
   "id": "585f70d7-dcad-4dc3-8c21-c42663660c0b",
   "metadata": {
    "execution": {
     "iopub.execute_input": "2022-04-02T20:33:41.267038Z",
     "iopub.status.busy": "2022-04-02T20:33:41.266532Z",
     "iopub.status.idle": "2022-04-02T20:34:11.295973Z",
     "shell.execute_reply": "2022-04-02T20:34:11.295308Z",
     "shell.execute_reply.started": "2022-04-02T20:33:41.267000Z"
    },
    "tags": []
   },
   "outputs": [
    {
     "name": "stdout",
     "output_type": "stream",
     "text": [
      "Starting Spark application\n"
     ]
    },
    {
     "data": {
      "text/html": [
       "<table>\n",
       "<tr><th>ID</th><th>YARN Application ID</th><th>Kind</th><th>State</th><th>Spark UI</th><th>Driver log</th><th>User</th><th>Current session?</th></tr><tr><td>13</td><td>application_1648925198225_0017</td><td>pyspark</td><td>idle</td><td><a target=\"_blank\" href=\"http://ip-172-31-6-28.ec2.internal:20888/proxy/application_1648925198225_0017/\" class=\"emr-proxy-link\" emr-resource=\"j-240M0NVAAMTMW\n",
       "\" application-id=\"application_1648925198225_0017\">Link</a></td><td><a target=\"_blank\" href=\"http://ip-172-31-15-102.ec2.internal:8042/node/containerlogs/container_1648925198225_0017_01_000001/livy\" >Link</a></td><td>None</td><td>✔</td></tr></table>"
      ],
      "text/plain": [
       "<IPython.core.display.HTML object>"
      ]
     },
     "metadata": {},
     "output_type": "display_data"
    },
    {
     "data": {
      "application/vnd.jupyter.widget-view+json": {
       "model_id": "",
       "version_major": 2,
       "version_minor": 0
      },
      "text/plain": [
       "FloatProgress(value=0.0, bar_style='info', description='Progress:', layout=Layout(height='25px', width='50%'),…"
      ]
     },
     "metadata": {},
     "output_type": "display_data"
    },
    {
     "name": "stdout",
     "output_type": "stream",
     "text": [
      "SparkSession available as 'spark'.\n"
     ]
    },
    {
     "data": {
      "text/html": [
       "Current session configs: <tt>{'conf': {'spark.pyspark.python': 'python3.7', 'spark.pyspark.virtualenv.enabled': 'true', 'spark.pyspark.virtualenv.type': 'native', 'spark.pyspark.virtualenv.bin.path': '/usr/bin/virtualenv', 'spark.driver.maxResultSize': '15g'}, 'proxyUser': 'assumed-role_voclabs_user1815143_UTTARAN_ROYCHOWDHURY', 'kind': 'pyspark'}</tt><br>"
      ],
      "text/plain": [
       "<IPython.core.display.HTML object>"
      ]
     },
     "metadata": {},
     "output_type": "display_data"
    },
    {
     "data": {
      "text/html": [
       "<table>\n",
       "<tr><th>ID</th><th>YARN Application ID</th><th>Kind</th><th>State</th><th>Spark UI</th><th>Driver log</th><th>User</th><th>Current session?</th></tr><tr><td>13</td><td>application_1648925198225_0017</td><td>pyspark</td><td>idle</td><td><a target=\"_blank\" href=\"http://ip-172-31-6-28.ec2.internal:20888/proxy/application_1648925198225_0017/\" class=\"emr-proxy-link\" emr-resource=\"j-240M0NVAAMTMW\n",
       "\" application-id=\"application_1648925198225_0017\">Link</a></td><td><a target=\"_blank\" href=\"http://ip-172-31-15-102.ec2.internal:8042/node/containerlogs/container_1648925198225_0017_01_000001/livy\" >Link</a></td><td>None</td><td>✔</td></tr></table>"
      ],
      "text/plain": [
       "<IPython.core.display.HTML object>"
      ]
     },
     "metadata": {},
     "output_type": "display_data"
    }
   ],
   "source": [
    "%%configure -f\n",
    "{ \"conf\":{\n",
    "          \"spark.pyspark.python\": \"python3.7\",\n",
    "          \"spark.pyspark.virtualenv.enabled\": \"true\",\n",
    "          \"spark.pyspark.virtualenv.type\":\"native\",\n",
    "          \"spark.pyspark.virtualenv.bin.path\":\"/usr/bin/virtualenv\",\n",
    "          \"spark.driver.maxResultSize\":\"15g\"\n",
    "         }\n",
    "}"
   ]
  },
  {
   "cell_type": "code",
   "execution_count": 3,
   "id": "b2c58839-0f16-4305-a890-189c02e0f41f",
   "metadata": {
    "execution": {
     "iopub.execute_input": "2022-04-02T20:34:11.297301Z",
     "iopub.status.busy": "2022-04-02T20:34:11.297121Z",
     "iopub.status.idle": "2022-04-02T20:34:24.612273Z",
     "shell.execute_reply": "2022-04-02T20:34:24.611573Z",
     "shell.execute_reply.started": "2022-04-02T20:34:11.297279Z"
    },
    "tags": []
   },
   "outputs": [
    {
     "data": {
      "application/vnd.jupyter.widget-view+json": {
       "model_id": "4eebc312ba7d42978251410492a78e0a",
       "version_major": 2,
       "version_minor": 0
      },
      "text/plain": [
       "VBox()"
      ]
     },
     "metadata": {},
     "output_type": "display_data"
    },
    {
     "data": {
      "application/vnd.jupyter.widget-view+json": {
       "model_id": "",
       "version_major": 2,
       "version_minor": 0
      },
      "text/plain": [
       "FloatProgress(value=0.0, bar_style='info', description='Progress:', layout=Layout(height='25px', width='50%'),…"
      ]
     },
     "metadata": {},
     "output_type": "display_data"
    },
    {
     "name": "stdout",
     "output_type": "stream",
     "text": [
      "Collecting pandas==1.2.2\n",
      "  Using cached https://files.pythonhosted.org/packages/4c/33/87b15a5baeeb71bd677da3579f907e97476c5247c0e56a37079843af5424/pandas-1.2.2-cp37-cp37m-manylinux1_x86_64.whl\n",
      "Requirement already satisfied: numpy>=1.16.5 in /usr/local/lib64/python3.7/site-packages (from pandas==1.2.2)\n",
      "Requirement already satisfied: pytz>=2017.3 in /usr/local/lib/python3.7/site-packages (from pandas==1.2.2)\n",
      "Collecting python-dateutil>=2.7.3 (from pandas==1.2.2)\n",
      "  Using cached https://files.pythonhosted.org/packages/36/7a/87837f39d0296e723bb9b62bbb257d0355c7f6128853c78955f57342a56d/python_dateutil-2.8.2-py2.py3-none-any.whl\n",
      "Requirement already satisfied: six>=1.5 in /usr/local/lib/python3.7/site-packages (from python-dateutil>=2.7.3->pandas==1.2.2)\n",
      "Installing collected packages: python-dateutil, pandas\n",
      "Successfully installed pandas-1.2.2 python-dateutil-2.8.2\n",
      "\n",
      "You are using pip version 9.0.1, however version 22.0.4 is available.\n",
      "You should consider upgrading via the 'pip install --upgrade pip' command."
     ]
    }
   ],
   "source": [
    "sc.install_pypi_package(\"pandas==1.2.2\")"
   ]
  },
  {
   "cell_type": "code",
   "execution_count": 4,
   "id": "890b8fbd-2afc-4b20-b372-2906ceb57a81",
   "metadata": {
    "execution": {
     "iopub.execute_input": "2022-04-02T20:34:24.613919Z",
     "iopub.status.busy": "2022-04-02T20:34:24.613675Z",
     "iopub.status.idle": "2022-04-02T20:34:33.921067Z",
     "shell.execute_reply": "2022-04-02T20:34:33.920370Z",
     "shell.execute_reply.started": "2022-04-02T20:34:24.613883Z"
    },
    "tags": []
   },
   "outputs": [
    {
     "data": {
      "application/vnd.jupyter.widget-view+json": {
       "model_id": "e5a5de652499412ab508605d1d41725e",
       "version_major": 2,
       "version_minor": 0
      },
      "text/plain": [
       "VBox()"
      ]
     },
     "metadata": {},
     "output_type": "display_data"
    },
    {
     "data": {
      "application/vnd.jupyter.widget-view+json": {
       "model_id": "",
       "version_major": 2,
       "version_minor": 0
      },
      "text/plain": [
       "FloatProgress(value=0.0, bar_style='info', description='Progress:', layout=Layout(height='25px', width='50%'),…"
      ]
     },
     "metadata": {},
     "output_type": "display_data"
    },
    {
     "name": "stdout",
     "output_type": "stream",
     "text": [
      "Collecting IPython\n",
      "  Using cached https://files.pythonhosted.org/packages/38/7a/4cb724163ceb72183dc41a267e28be3e8412fdb036e6d7ce806136a6112f/ipython-7.32.0-py3-none-any.whl\n",
      "Collecting matplotlib-inline (from IPython)\n",
      "  Using cached https://files.pythonhosted.org/packages/a6/2d/2230afd570c70074e80fd06857ba2bdc5f10c055bd9125665fe276fadb67/matplotlib_inline-0.1.3-py3-none-any.whl\n",
      "Requirement already satisfied: setuptools>=18.5 in /mnt/tmp/1648931648027-0/lib/python3.7/site-packages (from IPython)\n",
      "Collecting pexpect>4.3; sys_platform != \"win32\" (from IPython)\n",
      "  Using cached https://files.pythonhosted.org/packages/39/7b/88dbb785881c28a102619d46423cb853b46dbccc70d3ac362d99773a78ce/pexpect-4.8.0-py2.py3-none-any.whl\n",
      "Collecting decorator (from IPython)\n",
      "  Using cached https://files.pythonhosted.org/packages/d5/50/83c593b07763e1161326b3b8c6686f0f4b0f24d5526546bee538c89837d6/decorator-5.1.1-py3-none-any.whl\n",
      "Collecting traitlets>=4.2 (from IPython)\n",
      "  Using cached https://files.pythonhosted.org/packages/37/46/be8a3c030bd3673f4800fa7f46eda972dfa2990089a51ec5dd0a26ed33e9/traitlets-5.1.1-py3-none-any.whl\n",
      "Collecting jedi>=0.16 (from IPython)\n",
      "  Using cached https://files.pythonhosted.org/packages/b3/0e/836f12ec50075161e365131f13f5758451645af75c2becf61c6351ecec39/jedi-0.18.1-py2.py3-none-any.whl\n",
      "Collecting prompt-toolkit!=3.0.0,!=3.0.1,<3.1.0,>=2.0.0 (from IPython)\n",
      "  Using cached https://files.pythonhosted.org/packages/00/e4/beb2fad0bec554a011b321d0f6b99981f9171c0b05d03a6948e45ac8a5be/prompt_toolkit-3.0.28-py3-none-any.whl\n",
      "Collecting pickleshare (from IPython)\n",
      "  Using cached https://files.pythonhosted.org/packages/9a/41/220f49aaea88bc6fa6cba8d05ecf24676326156c23b991e80b3f2fc24c77/pickleshare-0.7.5-py2.py3-none-any.whl\n",
      "Collecting backcall (from IPython)\n",
      "  Using cached https://files.pythonhosted.org/packages/4c/1c/ff6546b6c12603d8dd1070aa3c3d273ad4c07f5771689a7b69a550e8c951/backcall-0.2.0-py2.py3-none-any.whl\n",
      "Collecting pygments (from IPython)\n",
      "  Using cached https://files.pythonhosted.org/packages/1d/17/ed4d2df187995561b28f1073df24137cb750e12f9879d291cc8ab67c65d2/Pygments-2.11.2-py3-none-any.whl\n",
      "Collecting ptyprocess>=0.5 (from pexpect>4.3; sys_platform != \"win32\"->IPython)\n",
      "  Using cached https://files.pythonhosted.org/packages/22/a6/858897256d0deac81a172289110f31629fc4cee19b6f01283303e18c8db3/ptyprocess-0.7.0-py2.py3-none-any.whl\n",
      "Collecting parso<0.9.0,>=0.8.0 (from jedi>=0.16->IPython)\n",
      "  Using cached https://files.pythonhosted.org/packages/05/63/8011bd08a4111858f79d2b09aad86638490d62fbf881c44e434a6dfca87b/parso-0.8.3-py2.py3-none-any.whl\n",
      "Collecting wcwidth (from prompt-toolkit!=3.0.0,!=3.0.1,<3.1.0,>=2.0.0->IPython)\n",
      "  Using cached https://files.pythonhosted.org/packages/59/7c/e39aca596badaf1b78e8f547c807b04dae603a433d3e7a7e04d67f2ef3e5/wcwidth-0.2.5-py2.py3-none-any.whl\n",
      "Installing collected packages: traitlets, matplotlib-inline, ptyprocess, pexpect, decorator, parso, jedi, wcwidth, prompt-toolkit, pickleshare, backcall, pygments, IPython\n",
      "Successfully installed IPython-7.32.0 backcall-0.2.0 decorator-5.1.1 jedi-0.18.1 matplotlib-inline-0.1.3 parso-0.8.3 pexpect-4.8.0 pickleshare-0.7.5 prompt-toolkit-3.0.28 ptyprocess-0.7.0 pygments-2.11.2 traitlets-5.1.1 wcwidth-0.2.5\n",
      "\n",
      "You are using pip version 9.0.1, however version 22.0.4 is available.\n",
      "You should consider upgrading via the 'pip install --upgrade pip' command."
     ]
    }
   ],
   "source": [
    "sc.install_pypi_package(\"IPython\")"
   ]
  },
  {
   "cell_type": "code",
   "execution_count": 5,
   "id": "56203e0b-109a-46db-96eb-28da41d0b727",
   "metadata": {
    "execution": {
     "iopub.execute_input": "2022-04-02T20:34:33.922060Z",
     "iopub.status.busy": "2022-04-02T20:34:33.921888Z",
     "iopub.status.idle": "2022-04-02T20:34:41.227297Z",
     "shell.execute_reply": "2022-04-02T20:34:41.226419Z",
     "shell.execute_reply.started": "2022-04-02T20:34:33.922033Z"
    },
    "tags": []
   },
   "outputs": [
    {
     "data": {
      "application/vnd.jupyter.widget-view+json": {
       "model_id": "f29a0dcac69d4379a0727bb890feb7bd",
       "version_major": 2,
       "version_minor": 0
      },
      "text/plain": [
       "VBox()"
      ]
     },
     "metadata": {},
     "output_type": "display_data"
    },
    {
     "data": {
      "application/vnd.jupyter.widget-view+json": {
       "model_id": "",
       "version_major": 2,
       "version_minor": 0
      },
      "text/plain": [
       "FloatProgress(value=0.0, bar_style='info', description='Progress:', layout=Layout(height='25px', width='50%'),…"
      ]
     },
     "metadata": {},
     "output_type": "display_data"
    },
    {
     "name": "stdout",
     "output_type": "stream",
     "text": [
      "Collecting matplotlib==3.1.1\n",
      "  Using cached https://files.pythonhosted.org/packages/19/7a/60bd79c5d79559150f8bba866dd7d434f0a170312e4d15e8aefa5faba294/matplotlib-3.1.1-cp37-cp37m-manylinux1_x86_64.whl\n",
      "Requirement already satisfied: python-dateutil>=2.1 in /mnt/tmp/1648931648027-0/lib/python3.7/site-packages (from matplotlib==3.1.1)\n",
      "Collecting pyparsing!=2.0.4,!=2.1.2,!=2.1.6,>=2.0.1 (from matplotlib==3.1.1)\n",
      "  Using cached https://files.pythonhosted.org/packages/80/c1/23fd82ad3121656b585351aba6c19761926bb0db2ebed9e4ff09a43a3fcc/pyparsing-3.0.7-py3-none-any.whl\n",
      "Collecting cycler>=0.10 (from matplotlib==3.1.1)\n",
      "  Using cached https://files.pythonhosted.org/packages/5c/f9/695d6bedebd747e5eb0fe8fad57b72fdf25411273a39791cde838d5a8f51/cycler-0.11.0-py3-none-any.whl\n",
      "Requirement already satisfied: numpy>=1.11 in /usr/local/lib64/python3.7/site-packages (from matplotlib==3.1.1)\n",
      "Collecting kiwisolver>=1.0.1 (from matplotlib==3.1.1)\n",
      "  Using cached https://files.pythonhosted.org/packages/51/50/9a9a94afa26c50fc5d9127272737806990aa698c7a1c220b8e5075e70304/kiwisolver-1.4.2-cp37-cp37m-manylinux_2_5_x86_64.manylinux1_x86_64.whl\n",
      "Requirement already satisfied: six>=1.5 in /usr/local/lib/python3.7/site-packages (from python-dateutil>=2.1->matplotlib==3.1.1)\n",
      "Collecting typing-extensions; python_version < \"3.8\" (from kiwisolver>=1.0.1->matplotlib==3.1.1)\n",
      "  Using cached https://files.pythonhosted.org/packages/45/6b/44f7f8f1e110027cf88956b59f2fad776cca7e1704396d043f89effd3a0e/typing_extensions-4.1.1-py3-none-any.whl\n",
      "Installing collected packages: pyparsing, cycler, typing-extensions, kiwisolver, matplotlib\n",
      "Successfully installed cycler-0.11.0 kiwisolver-1.4.2 matplotlib-3.1.1 pyparsing-3.0.7 typing-extensions-4.1.1\n",
      "\n",
      "You are using pip version 9.0.1, however version 22.0.4 is available.\n",
      "You should consider upgrading via the 'pip install --upgrade pip' command."
     ]
    }
   ],
   "source": [
    "sc.install_pypi_package(\"matplotlib==3.1.1\", \"https://pypi.org/simple\")"
   ]
  },
  {
   "cell_type": "code",
   "execution_count": 6,
   "id": "6e478040-4eab-40fc-882a-c89f70739457",
   "metadata": {
    "execution": {
     "iopub.execute_input": "2022-04-02T20:34:41.228800Z",
     "iopub.status.busy": "2022-04-02T20:34:41.228573Z",
     "iopub.status.idle": "2022-04-02T20:34:41.491774Z",
     "shell.execute_reply": "2022-04-02T20:34:41.491011Z",
     "shell.execute_reply.started": "2022-04-02T20:34:41.228775Z"
    },
    "tags": []
   },
   "outputs": [
    {
     "data": {
      "application/vnd.jupyter.widget-view+json": {
       "model_id": "5d0bac900ee84100a32ed5a59629c38a",
       "version_major": 2,
       "version_minor": 0
      },
      "text/plain": [
       "VBox()"
      ]
     },
     "metadata": {},
     "output_type": "display_data"
    },
    {
     "data": {
      "application/vnd.jupyter.widget-view+json": {
       "model_id": "",
       "version_major": 2,
       "version_minor": 0
      },
      "text/plain": [
       "FloatProgress(value=0.0, bar_style='info', description='Progress:', layout=Layout(height='25px', width='50%'),…"
      ]
     },
     "metadata": {},
     "output_type": "display_data"
    }
   ],
   "source": [
    "import pandas\n",
    "from pyspark.sql.functions import *"
   ]
  },
  {
   "cell_type": "code",
   "execution_count": 7,
   "id": "f2145f4e-dc30-4875-a30b-165532b5689f",
   "metadata": {
    "execution": {
     "iopub.execute_input": "2022-04-02T20:34:41.492854Z",
     "iopub.status.busy": "2022-04-02T20:34:41.492668Z",
     "iopub.status.idle": "2022-04-02T20:34:43.785448Z",
     "shell.execute_reply": "2022-04-02T20:34:43.784710Z",
     "shell.execute_reply.started": "2022-04-02T20:34:41.492830Z"
    },
    "tags": []
   },
   "outputs": [
    {
     "data": {
      "application/vnd.jupyter.widget-view+json": {
       "model_id": "7742bbaf031f440dbcfad80b77d614b9",
       "version_major": 2,
       "version_minor": 0
      },
      "text/plain": [
       "VBox()"
      ]
     },
     "metadata": {},
     "output_type": "display_data"
    },
    {
     "data": {
      "application/vnd.jupyter.widget-view+json": {
       "model_id": "",
       "version_major": 2,
       "version_minor": 0
      },
      "text/plain": [
       "FloatProgress(value=0.0, bar_style='info', description='Progress:', layout=Layout(height='25px', width='50%'),…"
      ]
     },
     "metadata": {},
     "output_type": "display_data"
    }
   ],
   "source": [
    "review = spark.read.orc(\"hdfs:///NLP-orc/*.orc\")"
   ]
  },
  {
   "cell_type": "code",
   "execution_count": 8,
   "id": "4db47a75-4de6-4a0a-96e3-efc0bfcbe629",
   "metadata": {
    "execution": {
     "iopub.execute_input": "2022-04-02T20:34:43.788284Z",
     "iopub.status.busy": "2022-04-02T20:34:43.788038Z",
     "iopub.status.idle": "2022-04-02T20:34:44.052216Z",
     "shell.execute_reply": "2022-04-02T20:34:44.051463Z",
     "shell.execute_reply.started": "2022-04-02T20:34:43.788250Z"
    },
    "tags": []
   },
   "outputs": [
    {
     "data": {
      "application/vnd.jupyter.widget-view+json": {
       "model_id": "be5387269e39481db909feb79aff1989",
       "version_major": 2,
       "version_minor": 0
      },
      "text/plain": [
       "VBox()"
      ]
     },
     "metadata": {},
     "output_type": "display_data"
    },
    {
     "data": {
      "application/vnd.jupyter.widget-view+json": {
       "model_id": "",
       "version_major": 2,
       "version_minor": 0
      },
      "text/plain": [
       "FloatProgress(value=0.0, bar_style='info', description='Progress:', layout=Layout(height='25px', width='50%'),…"
      ]
     },
     "metadata": {},
     "output_type": "display_data"
    },
    {
     "name": "stdout",
     "output_type": "stream",
     "text": [
      "root\n",
      " |-- cool: long (nullable = true)\n",
      " |-- funny: long (nullable = true)\n",
      " |-- stars: double (nullable = true)\n",
      " |-- text: string (nullable = true)\n",
      " |-- useful: long (nullable = true)"
     ]
    }
   ],
   "source": [
    "review.printSchema()"
   ]
  },
  {
   "cell_type": "code",
   "execution_count": 9,
   "id": "3d5aeb7a-b677-4d86-84f6-fe6e78ec995b",
   "metadata": {
    "execution": {
     "iopub.execute_input": "2022-04-02T20:34:44.053831Z",
     "iopub.status.busy": "2022-04-02T20:34:44.053626Z",
     "iopub.status.idle": "2022-04-02T20:34:49.347615Z",
     "shell.execute_reply": "2022-04-02T20:34:49.347000Z",
     "shell.execute_reply.started": "2022-04-02T20:34:44.053807Z"
    },
    "tags": []
   },
   "outputs": [
    {
     "data": {
      "application/vnd.jupyter.widget-view+json": {
       "model_id": "e6f4c400a121462b863473bbabff0fb4",
       "version_major": 2,
       "version_minor": 0
      },
      "text/plain": [
       "VBox()"
      ]
     },
     "metadata": {},
     "output_type": "display_data"
    },
    {
     "data": {
      "application/vnd.jupyter.widget-view+json": {
       "model_id": "",
       "version_major": 2,
       "version_minor": 0
      },
      "text/plain": [
       "FloatProgress(value=0.0, bar_style='info', description='Progress:', layout=Layout(height='25px', width='50%'),…"
      ]
     },
     "metadata": {},
     "output_type": "display_data"
    }
   ],
   "source": [
    "gr_star = review.groupBy(\"stars\").count()\n",
    "gr_star_df = gr_star.sort([\"stars\"]).toPandas()"
   ]
  },
  {
   "cell_type": "code",
   "execution_count": 10,
   "id": "de32db76-abd8-4ff7-baa1-908cfd3e215d",
   "metadata": {
    "execution": {
     "iopub.execute_input": "2022-04-02T20:34:49.348717Z",
     "iopub.status.busy": "2022-04-02T20:34:49.348534Z",
     "iopub.status.idle": "2022-04-02T20:34:49.410113Z",
     "shell.execute_reply": "2022-04-02T20:34:49.409229Z",
     "shell.execute_reply.started": "2022-04-02T20:34:49.348696Z"
    },
    "tags": []
   },
   "outputs": [
    {
     "data": {
      "application/vnd.jupyter.widget-view+json": {
       "model_id": "27d0e34eb3e241c0bc84abe935cd56d2",
       "version_major": 2,
       "version_minor": 0
      },
      "text/plain": [
       "VBox()"
      ]
     },
     "metadata": {},
     "output_type": "display_data"
    },
    {
     "data": {
      "application/vnd.jupyter.widget-view+json": {
       "model_id": "",
       "version_major": 2,
       "version_minor": 0
      },
      "text/plain": [
       "FloatProgress(value=0.0, bar_style='info', description='Progress:', layout=Layout(height='25px', width='50%'),…"
      ]
     },
     "metadata": {},
     "output_type": "display_data"
    },
    {
     "name": "stdout",
     "output_type": "stream",
     "text": [
      "   stars    count\n",
      "0    1.0  1262800\n",
      "1    2.0   711378\n",
      "2    3.0   926656\n",
      "3    4.0  1920037\n",
      "4    5.0  3814532"
     ]
    }
   ],
   "source": [
    "gr_star_df"
   ]
  },
  {
   "cell_type": "code",
   "execution_count": 11,
   "id": "e390c4f4-78a0-490f-b47c-8ef336ce98b0",
   "metadata": {
    "execution": {
     "iopub.execute_input": "2022-04-02T20:34:49.411981Z",
     "iopub.status.busy": "2022-04-02T20:34:49.411688Z",
     "iopub.status.idle": "2022-04-02T20:34:50.188260Z",
     "shell.execute_reply": "2022-04-02T20:34:50.187532Z",
     "shell.execute_reply.started": "2022-04-02T20:34:49.411947Z"
    },
    "tags": []
   },
   "outputs": [
    {
     "data": {
      "application/vnd.jupyter.widget-view+json": {
       "model_id": "4f3912a5032a4be4a8bd7c7e885efc24",
       "version_major": 2,
       "version_minor": 0
      },
      "text/plain": [
       "VBox()"
      ]
     },
     "metadata": {},
     "output_type": "display_data"
    },
    {
     "data": {
      "application/vnd.jupyter.widget-view+json": {
       "model_id": "",
       "version_major": 2,
       "version_minor": 0
      },
      "text/plain": [
       "FloatProgress(value=0.0, bar_style='info', description='Progress:', layout=Layout(height='25px', width='50%'),…"
      ]
     },
     "metadata": {},
     "output_type": "display_data"
    },
    {
     "name": "stdout",
     "output_type": "stream",
     "text": [
      "Text(0, 0.5, 'Text rows count')"
     ]
    }
   ],
   "source": [
    "import matplotlib.pyplot as plt\n",
    "# plt = plt.bar(x=gr_star_df[\"stars\"], y=gr_star_df[\"count\"],height = 0.8, width=0.8) # bottom=None, align='center', data=gr_star_df)  \n",
    "\n",
    "#gr_star_df.plot(kind='bar')\n",
    "\n",
    "plt.clf()\n",
    "gr_star_df.plot(kind='bar', x='stars',y='count', legend=None, figsize=(8,6))\n",
    "plt.title('Number of text rows for star rating')\n",
    "plt.xlabel('Star Rating')\n",
    "plt.ylabel('Text rows count')"
   ]
  },
  {
   "cell_type": "code",
   "execution_count": 12,
   "id": "85fac411-d4a1-4a9f-bbda-8ebbf0cc0677",
   "metadata": {
    "execution": {
     "iopub.execute_input": "2022-04-02T20:34:50.189716Z",
     "iopub.status.busy": "2022-04-02T20:34:50.189460Z",
     "iopub.status.idle": "2022-04-02T20:34:50.432094Z",
     "shell.execute_reply": "2022-04-02T20:34:50.431512Z",
     "shell.execute_reply.started": "2022-04-02T20:34:50.189680Z"
    },
    "tags": []
   },
   "outputs": [
    {
     "data": {
      "application/vnd.jupyter.widget-view+json": {
       "model_id": "",
       "version_major": 2,
       "version_minor": 0
      },
      "text/plain": [
       "FloatProgress(value=0.0, bar_style='info', description='Progress:', layout=Layout(height='25px', width='50%'),…"
      ]
     },
     "metadata": {},
     "output_type": "display_data"
    },
    {
     "data": {
      "image/png": "[encoded data removed]",
      "text/plain": [
       "<IPython.core.display.Image object>"
      ]
     },
     "metadata": {},
     "output_type": "display_data"
    }
   ],
   "source": [
    "%matplot plt"
   ]
  },
  {
   "cell_type": "code",
   "execution_count": 13,
   "id": "5875a1ea-0890-4a1a-867e-b0059ed2d8b9",
   "metadata": {
    "execution": {
     "iopub.execute_input": "2022-04-02T20:34:50.433105Z",
     "iopub.status.busy": "2022-04-02T20:34:50.432935Z",
     "iopub.status.idle": "2022-04-02T20:35:05.761802Z",
     "shell.execute_reply": "2022-04-02T20:35:05.761238Z",
     "shell.execute_reply.started": "2022-04-02T20:34:50.433083Z"
    },
    "tags": []
   },
   "outputs": [
    {
     "data": {
      "application/vnd.jupyter.widget-view+json": {
       "model_id": "33fffd5ce1e645c5b7239cd2f6db652e",
       "version_major": 2,
       "version_minor": 0
      },
      "text/plain": [
       "VBox()"
      ]
     },
     "metadata": {},
     "output_type": "display_data"
    },
    {
     "data": {
      "application/vnd.jupyter.widget-view+json": {
       "model_id": "",
       "version_major": 2,
       "version_minor": 0
      },
      "text/plain": [
       "FloatProgress(value=0.0, bar_style='info', description='Progress:', layout=Layout(height='25px', width='50%'),…"
      ]
     },
     "metadata": {},
     "output_type": "display_data"
    },
    {
     "name": "stdout",
     "output_type": "stream",
     "text": [
      "+----+-----+-----+----+------+\n",
      "|cool|funny|stars|text|useful|\n",
      "+----+-----+-----+----+------+\n",
      "|   0|    0|    0|   0|     0|\n",
      "+----+-----+-----+----+------+"
     ]
    }
   ],
   "source": [
    "review.select([count(when(isnan(c) | col(c).isNull(), c)).alias(c) for c in review.columns]).show()"
   ]
  },
  {
   "cell_type": "code",
   "execution_count": 14,
   "id": "6cc6bce3-dac3-4957-8212-b774b867e39c",
   "metadata": {
    "execution": {
     "iopub.execute_input": "2022-04-02T20:35:05.762999Z",
     "iopub.status.busy": "2022-04-02T20:35:05.762653Z",
     "iopub.status.idle": "2022-04-02T20:35:05.819258Z",
     "shell.execute_reply": "2022-04-02T20:35:05.818532Z",
     "shell.execute_reply.started": "2022-04-02T20:35:05.762936Z"
    },
    "tags": []
   },
   "outputs": [
    {
     "data": {
      "application/vnd.jupyter.widget-view+json": {
       "model_id": "6f6f5f42238041f286de86b085093734",
       "version_major": 2,
       "version_minor": 0
      },
      "text/plain": [
       "VBox()"
      ]
     },
     "metadata": {},
     "output_type": "display_data"
    },
    {
     "data": {
      "application/vnd.jupyter.widget-view+json": {
       "model_id": "",
       "version_major": 2,
       "version_minor": 0
      },
      "text/plain": [
       "FloatProgress(value=0.0, bar_style='info', description='Progress:', layout=Layout(height='25px', width='50%'),…"
      ]
     },
     "metadata": {},
     "output_type": "display_data"
    }
   ],
   "source": [
    "import numpy as np\n",
    "num = 710000\n",
    "\n",
    "one_per = np.round(float(num/gr_star_df['count'][0]),4)\n",
    "two_per = np.round(float(num/gr_star_df['count'][1]),4)\n",
    "three_per = np.round(float(num/gr_star_df['count'][2]),4)\n",
    "four_per = np.round(float(num/gr_star_df['count'][3]),4)\n",
    "five_per = np.round(float(num/gr_star_df['count'][4]),4)"
   ]
  },
  {
   "cell_type": "code",
   "execution_count": 15,
   "id": "41ab35c3-80c1-4f15-adbe-f4b543f71f98",
   "metadata": {
    "execution": {
     "iopub.execute_input": "2022-04-02T20:35:05.820677Z",
     "iopub.status.busy": "2022-04-02T20:35:05.820280Z",
     "iopub.status.idle": "2022-04-02T20:35:05.871672Z",
     "shell.execute_reply": "2022-04-02T20:35:05.871119Z",
     "shell.execute_reply.started": "2022-04-02T20:35:05.820641Z"
    },
    "tags": []
   },
   "outputs": [
    {
     "data": {
      "application/vnd.jupyter.widget-view+json": {
       "model_id": "fc691b0f228b433d8804dd1ea202b307",
       "version_major": 2,
       "version_minor": 0
      },
      "text/plain": [
       "VBox()"
      ]
     },
     "metadata": {},
     "output_type": "display_data"
    },
    {
     "data": {
      "application/vnd.jupyter.widget-view+json": {
       "model_id": "",
       "version_major": 2,
       "version_minor": 0
      },
      "text/plain": [
       "FloatProgress(value=0.0, bar_style='info', description='Progress:', layout=Layout(height='25px', width='50%'),…"
      ]
     },
     "metadata": {},
     "output_type": "display_data"
    },
    {
     "name": "stdout",
     "output_type": "stream",
     "text": [
      "one star percent:  0.5622 \n",
      "two star percent:  0.9981 \n",
      "three star percent:  0.7662 \n",
      "four star percent:  0.3698 \n",
      "five star percent:  0.1861"
     ]
    }
   ],
   "source": [
    "print(\"one star percent: \",one_per,\n",
    "      \"\\ntwo star percent: \",two_per,\n",
    "      \"\\nthree star percent: \",three_per,\n",
    "      \"\\nfour star percent: \",four_per,\n",
    "      \"\\nfive star percent: \",five_per)"
   ]
  },
  {
   "cell_type": "code",
   "execution_count": 16,
   "id": "8eb7c533-4aa8-453c-9715-76ced28e836a",
   "metadata": {
    "execution": {
     "iopub.execute_input": "2022-04-02T20:35:05.872693Z",
     "iopub.status.busy": "2022-04-02T20:35:05.872528Z",
     "iopub.status.idle": "2022-04-02T20:35:06.140722Z",
     "shell.execute_reply": "2022-04-02T20:35:06.140104Z",
     "shell.execute_reply.started": "2022-04-02T20:35:05.872673Z"
    },
    "tags": []
   },
   "outputs": [
    {
     "data": {
      "application/vnd.jupyter.widget-view+json": {
       "model_id": "ab3ec58370d54061806a40767625f1cd",
       "version_major": 2,
       "version_minor": 0
      },
      "text/plain": [
       "VBox()"
      ]
     },
     "metadata": {},
     "output_type": "display_data"
    },
    {
     "data": {
      "application/vnd.jupyter.widget-view+json": {
       "model_id": "",
       "version_major": 2,
       "version_minor": 0
      },
      "text/plain": [
       "FloatProgress(value=0.0, bar_style='info', description='Progress:', layout=Layout(height='25px', width='50%'),…"
      ]
     },
     "metadata": {},
     "output_type": "display_data"
    }
   ],
   "source": [
    "one_star = review.filter(col('stars')==1.0)\n",
    "two_star = review.filter(col('stars')==2.0)\n",
    "three_star = review.filter(col('stars')==3.0)\n",
    "four_star = review.filter(col('stars')==4.0)\n",
    "five_star = review.filter(col('stars')==5.0)"
   ]
  },
  {
   "cell_type": "code",
   "execution_count": 17,
   "id": "27065ae9-4813-413a-bba4-6a65f960c72d",
   "metadata": {
    "execution": {
     "iopub.execute_input": "2022-04-02T20:35:06.141783Z",
     "iopub.status.busy": "2022-04-02T20:35:06.141587Z",
     "iopub.status.idle": "2022-04-02T20:35:07.413756Z",
     "shell.execute_reply": "2022-04-02T20:35:07.413030Z",
     "shell.execute_reply.started": "2022-04-02T20:35:06.141759Z"
    },
    "tags": []
   },
   "outputs": [
    {
     "data": {
      "application/vnd.jupyter.widget-view+json": {
       "model_id": "eb2430dfa8e445fc8168d0ee0336be45",
       "version_major": 2,
       "version_minor": 0
      },
      "text/plain": [
       "VBox()"
      ]
     },
     "metadata": {},
     "output_type": "display_data"
    },
    {
     "data": {
      "application/vnd.jupyter.widget-view+json": {
       "model_id": "",
       "version_major": 2,
       "version_minor": 0
      },
      "text/plain": [
       "FloatProgress(value=0.0, bar_style='info', description='Progress:', layout=Layout(height='25px', width='50%'),…"
      ]
     },
     "metadata": {},
     "output_type": "display_data"
    },
    {
     "name": "stdout",
     "output_type": "stream",
     "text": [
      "711378"
     ]
    }
   ],
   "source": [
    "two_star.count()"
   ]
  },
  {
   "cell_type": "code",
   "execution_count": 18,
   "id": "b8268222-df1f-4421-9d1b-97ca59d85f79",
   "metadata": {
    "execution": {
     "iopub.execute_input": "2022-04-02T20:35:07.415226Z",
     "iopub.status.busy": "2022-04-02T20:35:07.414960Z",
     "iopub.status.idle": "2022-04-02T20:35:07.473603Z",
     "shell.execute_reply": "2022-04-02T20:35:07.472766Z",
     "shell.execute_reply.started": "2022-04-02T20:35:07.415188Z"
    },
    "tags": []
   },
   "outputs": [
    {
     "data": {
      "application/vnd.jupyter.widget-view+json": {
       "model_id": "d3dfe34b94f449be9fec08f70e06a1ce",
       "version_major": 2,
       "version_minor": 0
      },
      "text/plain": [
       "VBox()"
      ]
     },
     "metadata": {},
     "output_type": "display_data"
    },
    {
     "data": {
      "application/vnd.jupyter.widget-view+json": {
       "model_id": "",
       "version_major": 2,
       "version_minor": 0
      },
      "text/plain": [
       "FloatProgress(value=0.0, bar_style='info', description='Progress:', layout=Layout(height='25px', width='50%'),…"
      ]
     },
     "metadata": {},
     "output_type": "display_data"
    }
   ],
   "source": [
    "df_one_sample = one_star.sample(False,one_per, seed = 42)\n",
    "df_two_sample = two_star.sample(False,two_per, seed = 42)\n",
    "df_three_sample = three_star.sample(False,three_per, seed = 42)\n",
    "df_four_sample = four_star.sample(False,four_per, seed = 42)\n",
    "df_five_sample = five_star.sample(False,five_per, seed = 42)"
   ]
  },
  {
   "cell_type": "code",
   "execution_count": 19,
   "id": "7340c53a-77d1-43d3-bc15-fd303834694e",
   "metadata": {
    "execution": {
     "iopub.execute_input": "2022-04-02T20:35:07.475156Z",
     "iopub.status.busy": "2022-04-02T20:35:07.474927Z",
     "iopub.status.idle": "2022-04-02T20:35:09.760967Z",
     "shell.execute_reply": "2022-04-02T20:35:09.752605Z",
     "shell.execute_reply.started": "2022-04-02T20:35:07.475131Z"
    },
    "tags": []
   },
   "outputs": [
    {
     "data": {
      "application/vnd.jupyter.widget-view+json": {
       "model_id": "dc2620fea5ec46a195c43dc9166a1dc9",
       "version_major": 2,
       "version_minor": 0
      },
      "text/plain": [
       "VBox()"
      ]
     },
     "metadata": {},
     "output_type": "display_data"
    },
    {
     "data": {
      "application/vnd.jupyter.widget-view+json": {
       "model_id": "",
       "version_major": 2,
       "version_minor": 0
      },
      "text/plain": [
       "FloatProgress(value=0.0, bar_style='info', description='Progress:', layout=Layout(height='25px', width='50%'),…"
      ]
     },
     "metadata": {},
     "output_type": "display_data"
    },
    {
     "name": "stdout",
     "output_type": "stream",
     "text": [
      "709372\n",
      "708929"
     ]
    }
   ],
   "source": [
    "print(df_four_sample.count())\n",
    "print(df_five_sample.count())"
   ]
  },
  {
   "cell_type": "code",
   "execution_count": 20,
   "id": "c59fa851-ce4f-4707-9f94-563d89848191",
   "metadata": {
    "execution": {
     "iopub.execute_input": "2022-04-02T20:35:09.762063Z",
     "iopub.status.busy": "2022-04-02T20:35:09.761862Z",
     "iopub.status.idle": "2022-04-02T20:35:10.269705Z",
     "shell.execute_reply": "2022-04-02T20:35:10.073543Z",
     "shell.execute_reply.started": "2022-04-02T20:35:09.762031Z"
    },
    "tags": []
   },
   "outputs": [
    {
     "data": {
      "application/vnd.jupyter.widget-view+json": {
       "model_id": "e9b38e950c91447f85bef6b6419f8221",
       "version_major": 2,
       "version_minor": 0
      },
      "text/plain": [
       "VBox()"
      ]
     },
     "metadata": {},
     "output_type": "display_data"
    },
    {
     "data": {
      "application/vnd.jupyter.widget-view+json": {
       "model_id": "",
       "version_major": 2,
       "version_minor": 0
      },
      "text/plain": [
       "FloatProgress(value=0.0, bar_style='info', description='Progress:', layout=Layout(height='25px', width='50%'),…"
      ]
     },
     "metadata": {},
     "output_type": "display_data"
    }
   ],
   "source": [
    "df = df_one_sample.unionAll(df_two_sample.unionAll(df_three_sample.unionAll(df_four_sample.unionAll(df_five_sample))))"
   ]
  },
  {
   "cell_type": "code",
   "execution_count": 21,
   "id": "be62fb79-bd96-4e0e-a59a-f48781fd8404",
   "metadata": {
    "execution": {
     "iopub.execute_input": "2022-04-02T20:35:10.273544Z",
     "iopub.status.busy": "2022-04-02T20:35:10.273346Z",
     "iopub.status.idle": "2022-04-02T20:35:13.967170Z",
     "shell.execute_reply": "2022-04-02T20:35:13.966549Z",
     "shell.execute_reply.started": "2022-04-02T20:35:10.273520Z"
    },
    "tags": []
   },
   "outputs": [
    {
     "data": {
      "application/vnd.jupyter.widget-view+json": {
       "model_id": "cbedbe83314c4bf1a631efd6fc08b160",
       "version_major": 2,
       "version_minor": 0
      },
      "text/plain": [
       "VBox()"
      ]
     },
     "metadata": {},
     "output_type": "display_data"
    },
    {
     "data": {
      "application/vnd.jupyter.widget-view+json": {
       "model_id": "",
       "version_major": 2,
       "version_minor": 0
      },
      "text/plain": [
       "FloatProgress(value=0.0, bar_style='info', description='Progress:', layout=Layout(height='25px', width='50%'),…"
      ]
     },
     "metadata": {},
     "output_type": "display_data"
    },
    {
     "name": "stdout",
     "output_type": "stream",
     "text": [
      "3547875"
     ]
    }
   ],
   "source": [
    "df.count()"
   ]
  },
  {
   "cell_type": "code",
   "execution_count": 22,
   "id": "7386070a-3e72-43ea-a848-bc8b9b318624",
   "metadata": {
    "execution": {
     "iopub.execute_input": "2022-04-02T20:35:13.968271Z",
     "iopub.status.busy": "2022-04-02T20:35:13.968099Z",
     "iopub.status.idle": "2022-04-02T20:35:14.019985Z",
     "shell.execute_reply": "2022-04-02T20:35:14.019100Z",
     "shell.execute_reply.started": "2022-04-02T20:35:13.968249Z"
    },
    "tags": []
   },
   "outputs": [
    {
     "data": {
      "application/vnd.jupyter.widget-view+json": {
       "model_id": "dbfd49828c4a456392e418d770ce8c5b",
       "version_major": 2,
       "version_minor": 0
      },
      "text/plain": [
       "VBox()"
      ]
     },
     "metadata": {},
     "output_type": "display_data"
    },
    {
     "data": {
      "application/vnd.jupyter.widget-view+json": {
       "model_id": "",
       "version_major": 2,
       "version_minor": 0
      },
      "text/plain": [
       "FloatProgress(value=0.0, bar_style='info', description='Progress:', layout=Layout(height='25px', width='50%'),…"
      ]
     },
     "metadata": {},
     "output_type": "display_data"
    },
    {
     "name": "stdout",
     "output_type": "stream",
     "text": [
      "root\n",
      " |-- cool: long (nullable = true)\n",
      " |-- funny: long (nullable = true)\n",
      " |-- stars: double (nullable = true)\n",
      " |-- text: string (nullable = true)\n",
      " |-- useful: long (nullable = true)"
     ]
    }
   ],
   "source": [
    "df.printSchema()"
   ]
  },
  {
   "cell_type": "code",
   "execution_count": 23,
   "id": "6b190c09-7f5b-44a1-9622-53f776fa9d66",
   "metadata": {
    "execution": {
     "iopub.execute_input": "2022-04-02T20:35:14.023096Z",
     "iopub.status.busy": "2022-04-02T20:35:14.022842Z",
     "iopub.status.idle": "2022-04-02T20:35:14.284583Z",
     "shell.execute_reply": "2022-04-02T20:35:14.283955Z",
     "shell.execute_reply.started": "2022-04-02T20:35:14.023062Z"
    },
    "tags": []
   },
   "outputs": [
    {
     "data": {
      "application/vnd.jupyter.widget-view+json": {
       "model_id": "0df78453617b4492b51db10e79e2782c",
       "version_major": 2,
       "version_minor": 0
      },
      "text/plain": [
       "VBox()"
      ]
     },
     "metadata": {},
     "output_type": "display_data"
    },
    {
     "data": {
      "application/vnd.jupyter.widget-view+json": {
       "model_id": "",
       "version_major": 2,
       "version_minor": 0
      },
      "text/plain": [
       "FloatProgress(value=0.0, bar_style='info', description='Progress:', layout=Layout(height='25px', width='50%'),…"
      ]
     },
     "metadata": {},
     "output_type": "display_data"
    }
   ],
   "source": [
    "df_new = df.orderBy(rand())"
   ]
  },
  {
   "cell_type": "code",
   "execution_count": 24,
   "id": "f8b47f86-3a2f-4997-a5ac-599623a3f349",
   "metadata": {
    "execution": {
     "iopub.execute_input": "2022-04-02T20:35:23.886682Z",
     "iopub.status.busy": "2022-04-02T20:35:23.886450Z",
     "iopub.status.idle": "2022-04-02T20:35:33.209223Z",
     "shell.execute_reply": "2022-04-02T20:35:33.206879Z",
     "shell.execute_reply.started": "2022-04-02T20:35:23.886658Z"
    },
    "tags": []
   },
   "outputs": [
    {
     "data": {
      "application/vnd.jupyter.widget-view+json": {
       "model_id": "fdf56756f4804029bf5ab1023cb809b3",
       "version_major": 2,
       "version_minor": 0
      },
      "text/plain": [
       "VBox()"
      ]
     },
     "metadata": {},
     "output_type": "display_data"
    },
    {
     "data": {
      "application/vnd.jupyter.widget-view+json": {
       "model_id": "",
       "version_major": 2,
       "version_minor": 0
      },
      "text/plain": [
       "FloatProgress(value=0.0, bar_style='info', description='Progress:', layout=Layout(height='25px', width='50%'),…"
      ]
     },
     "metadata": {},
     "output_type": "display_data"
    }
   ],
   "source": [
    "df_new_cnt = df_new.groupBy(\"stars\").count()\n",
    "df_new_cnt_pd = df_new_cnt.sort([\"stars\"]).toPandas()"
   ]
  },
  {
   "cell_type": "code",
   "execution_count": 25,
   "id": "bc740aeb-ac94-4e45-8c30-58c81a76e277",
   "metadata": {
    "execution": {
     "iopub.execute_input": "2022-04-02T20:35:33.226803Z",
     "iopub.status.busy": "2022-04-02T20:35:33.221950Z",
     "iopub.status.idle": "2022-04-02T20:35:33.646684Z",
     "shell.execute_reply": "2022-04-02T20:35:33.604756Z",
     "shell.execute_reply.started": "2022-04-02T20:35:33.226761Z"
    },
    "tags": []
   },
   "outputs": [
    {
     "data": {
      "application/vnd.jupyter.widget-view+json": {
       "model_id": "0070edff8fc6421a8c70cde4f530ced4",
       "version_major": 2,
       "version_minor": 0
      },
      "text/plain": [
       "VBox()"
      ]
     },
     "metadata": {},
     "output_type": "display_data"
    },
    {
     "data": {
      "application/vnd.jupyter.widget-view+json": {
       "model_id": "",
       "version_major": 2,
       "version_minor": 0
      },
      "text/plain": [
       "FloatProgress(value=0.0, bar_style='info', description='Progress:', layout=Layout(height='25px', width='50%'),…"
      ]
     },
     "metadata": {},
     "output_type": "display_data"
    },
    {
     "name": "stdout",
     "output_type": "stream",
     "text": [
      "Text(0, 0.5, 'Text rows count')"
     ]
    }
   ],
   "source": [
    "plt.clf()\n",
    "df_new_cnt_pd.plot(kind='bar', x='stars',y='count', legend=None, figsize=(8,6))\n",
    "plt.title('Number of text rows for star rating')\n",
    "plt.xlabel('Star Rating')\n",
    "plt.ylabel('Text rows count')"
   ]
  },
  {
   "cell_type": "code",
   "execution_count": 26,
   "id": "a9f7859a-af45-4ea3-92b7-5bf3c6564c9a",
   "metadata": {
    "execution": {
     "iopub.execute_input": "2022-04-02T20:35:33.648301Z",
     "iopub.status.busy": "2022-04-02T20:35:33.648080Z",
     "iopub.status.idle": "2022-04-02T20:35:34.109461Z",
     "shell.execute_reply": "2022-04-02T20:35:34.087208Z",
     "shell.execute_reply.started": "2022-04-02T20:35:33.648276Z"
    },
    "tags": []
   },
   "outputs": [
    {
     "data": {
      "application/vnd.jupyter.widget-view+json": {
       "model_id": "",
       "version_major": 2,
       "version_minor": 0
      },
      "text/plain": [
       "FloatProgress(value=0.0, bar_style='info', description='Progress:', layout=Layout(height='25px', width='50%'),…"
      ]
     },
     "metadata": {},
     "output_type": "display_data"
    },
    {
     "data": {
      "image/png": "[encoded data removed]",
      "text/plain": [
       "<IPython.core.display.Image object>"
      ]
     },
     "metadata": {},
     "output_type": "display_data"
    }
   ],
   "source": [
    "%matplot plt"
   ]
  },
  {
   "cell_type": "code",
   "execution_count": 27,
   "id": "ec663944-96c1-4c05-b270-d0b267069bff",
   "metadata": {
    "execution": {
     "iopub.execute_input": "2022-04-02T20:36:31.967389Z",
     "iopub.status.busy": "2022-04-02T20:36:31.967148Z",
     "iopub.status.idle": "2022-04-02T20:37:43.448880Z",
     "shell.execute_reply": "2022-04-02T20:37:43.448272Z",
     "shell.execute_reply.started": "2022-04-02T20:36:31.967361Z"
    },
    "tags": []
   },
   "outputs": [
    {
     "data": {
      "application/vnd.jupyter.widget-view+json": {
       "model_id": "2bfdc6cd76b9473dac63714801329886",
       "version_major": 2,
       "version_minor": 0
      },
      "text/plain": [
       "VBox()"
      ]
     },
     "metadata": {},
     "output_type": "display_data"
    },
    {
     "data": {
      "application/vnd.jupyter.widget-view+json": {
       "model_id": "",
       "version_major": 2,
       "version_minor": 0
      },
      "text/plain": [
       "FloatProgress(value=0.0, bar_style='info', description='Progress:', layout=Layout(height='25px', width='50%'),…"
      ]
     },
     "metadata": {},
     "output_type": "display_data"
    }
   ],
   "source": [
    "df_new.write.orc(\"s3://yelp-dataset-urc/yelp_academic_dataset_review_shrunk/\")"
   ]
  },
  {
   "cell_type": "code",
   "execution_count": null,
   "id": "52f432c3-31b0-43f0-8147-c0631e5c3747",
   "metadata": {},
   "outputs": [],
   "source": [
    "s"
   ]
  }
 ],
 "metadata": {
  "kernelspec": {
   "display_name": "PySpark",
   "language": "python",
   "name": "pysparkkernel"
  },
  "language_info": {
   "codemirror_mode": {
    "name": "python",
    "version": 3
   },
   "file_extension": ".py",
   "mimetype": "text/x-python",
   "name": "pyspark",
   "pygments_lexer": "python3"
  }
 },
 "nbformat": 4,
 "nbformat_minor": 5
}
