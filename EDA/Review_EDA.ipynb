{
 "cells": [
  {
   "cell_type": "code",
   "execution_count": 1,
   "id": "a68f5a0c-b7df-4de6-8143-4bd26353c818",
   "metadata": {
    "execution": {
     "iopub.execute_input": "2022-03-15T09:53:50.856161Z",
     "iopub.status.busy": "2022-03-15T09:53:50.855790Z",
     "iopub.status.idle": "2022-03-15T09:54:30.841547Z",
     "shell.execute_reply": "2022-03-15T09:54:30.840675Z",
     "shell.execute_reply.started": "2022-03-15T09:53:50.856119Z"
    },
    "tags": []
   },
   "outputs": [
    {
     "data": {
      "application/vnd.jupyter.widget-view+json": {
       "model_id": "38829f5cd9f8476db54f514d66ff4964",
       "version_major": 2,
       "version_minor": 0
      },
      "text/plain": [
       "VBox()"
      ]
     },
     "metadata": {},
     "output_type": "display_data"
    },
    {
     "name": "stdout",
     "output_type": "stream",
     "text": [
      "Starting Spark application\n"
     ]
    },
    {
     "data": {
      "text/html": [
       "<table>\n",
       "<tr><th>ID</th><th>YARN Application ID</th><th>Kind</th><th>State</th><th>Spark UI</th><th>Driver log</th><th>Current session?</th></tr><tr><td>0</td><td>application_1647337588683_0002</td><td>pyspark</td><td>idle</td><td><a target=\"_blank\" href=\"http://ip-172-31-75-171.ec2.internal:20888/proxy/application_1647337588683_0002/\" class=\"emr-proxy-link\" emr-resource=\"j-22UU7YQZ2YDS5\n",
       "\" application-id=\"application_1647337588683_0002\">Link</a></td><td><a target=\"_blank\" href=\"http://ip-172-31-78-92.ec2.internal:8042/node/containerlogs/container_1647337588683_0002_01_000001/livy\" >Link</a></td><td>✔</td></tr></table>"
      ],
      "text/plain": [
       "<IPython.core.display.HTML object>"
      ]
     },
     "metadata": {},
     "output_type": "display_data"
    },
    {
     "data": {
      "application/vnd.jupyter.widget-view+json": {
       "model_id": "",
       "version_major": 2,
       "version_minor": 0
      },
      "text/plain": [
       "FloatProgress(value=0.0, bar_style='info', description='Progress:', layout=Layout(height='25px', width='50%'),…"
      ]
     },
     "metadata": {},
     "output_type": "display_data"
    },
    {
     "name": "stdout",
     "output_type": "stream",
     "text": [
      "SparkSession available as 'spark'.\n"
     ]
    },
    {
     "data": {
      "application/vnd.jupyter.widget-view+json": {
       "model_id": "",
       "version_major": 2,
       "version_minor": 0
      },
      "text/plain": [
       "FloatProgress(value=0.0, bar_style='info', description='Progress:', layout=Layout(height='25px', width='50%'),…"
      ]
     },
     "metadata": {},
     "output_type": "display_data"
    }
   ],
   "source": [
    "import pyspark\n",
    "from pyspark.sql.functions import *"
   ]
  },
  {
   "cell_type": "code",
   "execution_count": 2,
   "id": "6e478040-4eab-40fc-882a-c89f70739457",
   "metadata": {
    "execution": {
     "iopub.execute_input": "2022-03-15T09:54:30.846291Z",
     "iopub.status.busy": "2022-03-15T09:54:30.846029Z",
     "iopub.status.idle": "2022-03-15T09:54:31.716469Z",
     "shell.execute_reply": "2022-03-15T09:54:31.715731Z",
     "shell.execute_reply.started": "2022-03-15T09:54:30.846257Z"
    }
   },
   "outputs": [
    {
     "data": {
      "application/vnd.jupyter.widget-view+json": {
       "model_id": "fbf664e9c9254a9cb35ef757a470e66b",
       "version_major": 2,
       "version_minor": 0
      },
      "text/plain": [
       "VBox()"
      ]
     },
     "metadata": {},
     "output_type": "display_data"
    },
    {
     "data": {
      "application/vnd.jupyter.widget-view+json": {
       "model_id": "",
       "version_major": 2,
       "version_minor": 0
      },
      "text/plain": [
       "FloatProgress(value=0.0, bar_style='info', description='Progress:', layout=Layout(height='25px', width='50%'),…"
      ]
     },
     "metadata": {},
     "output_type": "display_data"
    },
    {
     "name": "stderr",
     "output_type": "stream",
     "text": [
      "An error was encountered:\n",
      "Matplotlib requires numpy>=1.17; you have 1.16.5\n",
      "Traceback (most recent call last):\n",
      "  File \"/usr/local/lib64/python3.7/site-packages/matplotlib/__init__.py\", line 208, in <module>\n",
      "    _check_versions()\n",
      "  File \"/usr/local/lib64/python3.7/site-packages/matplotlib/__init__.py\", line 204, in _check_versions\n",
      "    raise ImportError(f\"Matplotlib requires {modname}>={minver}; \"\n",
      "ImportError: Matplotlib requires numpy>=1.17; you have 1.16.5\n",
      "\n"
     ]
    }
   ],
   "source": [
    "import matplotlib"
   ]
  },
  {
   "cell_type": "code",
   "execution_count": null,
   "id": "05c7a866-6c05-464e-8867-e9edb054e39b",
   "metadata": {
    "execution": {
     "iopub.execute_input": "2022-03-14T15:15:53.770755Z",
     "iopub.status.busy": "2022-03-14T15:15:53.770574Z",
     "iopub.status.idle": "2022-03-14T15:16:19.218586Z",
     "shell.execute_reply": "2022-03-14T15:16:19.217912Z",
     "shell.execute_reply.started": "2022-03-14T15:15:53.770733Z"
    },
    "tags": []
   },
   "outputs": [
    {
     "data": {
      "application/vnd.jupyter.widget-view+json": {
       "model_id": "6cba6dfb2ea84e24b4307214824dda16",
       "version_major": 2,
       "version_minor": 0
      },
      "text/plain": [
       "VBox()"
      ]
     },
     "metadata": {},
     "output_type": "display_data"
    },
    {
     "data": {
      "application/vnd.jupyter.widget-view+json": {
       "model_id": "",
       "version_major": 2,
       "version_minor": 0
      },
      "text/plain": [
       "FloatProgress(value=0.0, bar_style='info', description='Progress:', layout=Layout(height='25px', width='50%'),…"
      ]
     },
     "metadata": {},
     "output_type": "display_data"
    }
   ],
   "source": [
    "#review = spark.read.orc(\"hdfs:///NLP-json/yelp_academic_dataset_review.json\", format=\"json\")"
   ]
  },
  {
   "cell_type": "code",
   "execution_count": null,
   "id": "f2145f4e-dc30-4875-a30b-165532b5689f",
   "metadata": {},
   "outputs": [],
   "source": [
    "review = spark.read.orc(\"hdfs:///NLP-orc/*.orc\")"
   ]
  },
  {
   "cell_type": "code",
   "execution_count": null,
   "id": "4be86361-f3a2-4517-8624-5fe6035ee263",
   "metadata": {
    "execution": {
     "iopub.execute_input": "2022-03-14T15:16:19.220074Z",
     "iopub.status.busy": "2022-03-14T15:16:19.219889Z",
     "iopub.status.idle": "2022-03-14T15:16:20.011711Z",
     "shell.execute_reply": "2022-03-14T15:16:20.011099Z",
     "shell.execute_reply.started": "2022-03-14T15:16:19.220051Z"
    },
    "tags": []
   },
   "outputs": [
    {
     "data": {
      "application/vnd.jupyter.widget-view+json": {
       "model_id": "88ed2cf1fba2417299ac5a309a875ce0",
       "version_major": 2,
       "version_minor": 0
      },
      "text/plain": [
       "VBox()"
      ]
     },
     "metadata": {},
     "output_type": "display_data"
    },
    {
     "data": {
      "application/vnd.jupyter.widget-view+json": {
       "model_id": "",
       "version_major": 2,
       "version_minor": 0
      },
      "text/plain": [
       "FloatProgress(value=0.0, bar_style='info', description='Progress:', layout=Layout(height='25px', width='50%'),…"
      ]
     },
     "metadata": {},
     "output_type": "display_data"
    },
    {
     "name": "stdout",
     "output_type": "stream",
     "text": [
      "+----+-----+-----+--------------------+------+\n",
      "|cool|funny|stars|                text|useful|\n",
      "+----+-----+-----+--------------------+------+\n",
      "|   1|    6|  4.0|I swear sometimes...|     6|\n",
      "|   0|    0|  5.0|Made an appointme...|     0|\n",
      "|  16|   17|  4.0|A hospital is the...|    19|\n",
      "|   0|    0|  2.0|This was my third...|     1|\n",
      "|   0|    0|  1.0|Ordered 2 honey b...|     0|\n",
      "|   0|    0|  1.0|I'm not sure what...|     1|\n",
      "|   0|    0|  5.0|Blazing Noodles -...|     0|\n",
      "|   0|    0|  5.0|One of -if not TH...|     1|\n",
      "|   2|    0|  1.0|Saw reviews on Kr...|     4|\n",
      "|   0|    4|  1.0|Typically I've ha...|    28|\n",
      "+----+-----+-----+--------------------+------+\n",
      "only showing top 10 rows"
     ]
    }
   ],
   "source": [
    "review.show(10)"
   ]
  },
  {
   "cell_type": "code",
   "execution_count": 4,
   "id": "55e0f052-1ded-428a-8572-76f52421a81e",
   "metadata": {
    "execution": {
     "iopub.execute_input": "2022-03-14T15:16:20.012957Z",
     "iopub.status.busy": "2022-03-14T15:16:20.012777Z",
     "iopub.status.idle": "2022-03-14T15:16:20.080864Z",
     "shell.execute_reply": "2022-03-14T15:16:20.080278Z",
     "shell.execute_reply.started": "2022-03-14T15:16:20.012934Z"
    },
    "tags": []
   },
   "outputs": [
    {
     "data": {
      "application/vnd.jupyter.widget-view+json": {
       "model_id": "a5aba71cf92b4874b496830f3f349657",
       "version_major": 2,
       "version_minor": 0
      },
      "text/plain": [
       "VBox()"
      ]
     },
     "metadata": {},
     "output_type": "display_data"
    },
    {
     "data": {
      "application/vnd.jupyter.widget-view+json": {
       "model_id": "",
       "version_major": 2,
       "version_minor": 0
      },
      "text/plain": [
       "FloatProgress(value=0.0, bar_style='info', description='Progress:', layout=Layout(height='25px', width='50%'),…"
      ]
     },
     "metadata": {},
     "output_type": "display_data"
    }
   ],
   "source": [
    "review = review.drop(\"business_id\",\"date\",\"review_id\",\"user_id\")"
   ]
  },
  {
   "cell_type": "code",
   "execution_count": 5,
   "id": "4db47a75-4de6-4a0a-96e3-efc0bfcbe629",
   "metadata": {
    "execution": {
     "iopub.execute_input": "2022-03-15T09:55:59.738809Z",
     "iopub.status.busy": "2022-03-15T09:55:59.738580Z",
     "iopub.status.idle": "2022-03-15T09:55:59.824130Z",
     "shell.execute_reply": "2022-03-15T09:55:59.823400Z",
     "shell.execute_reply.started": "2022-03-15T09:55:59.738785Z"
    },
    "tags": []
   },
   "outputs": [
    {
     "data": {
      "application/vnd.jupyter.widget-view+json": {
       "model_id": "661fa0fcf9144c02b2a74d0c0c09f79d",
       "version_major": 2,
       "version_minor": 0
      },
      "text/plain": [
       "VBox()"
      ]
     },
     "metadata": {},
     "output_type": "display_data"
    },
    {
     "data": {
      "application/vnd.jupyter.widget-view+json": {
       "model_id": "",
       "version_major": 2,
       "version_minor": 0
      },
      "text/plain": [
       "FloatProgress(value=0.0, bar_style='info', description='Progress:', layout=Layout(height='25px', width='50%'),…"
      ]
     },
     "metadata": {},
     "output_type": "display_data"
    },
    {
     "name": "stdout",
     "output_type": "stream",
     "text": [
      "root\n",
      " |-- cool: long (nullable = true)\n",
      " |-- funny: long (nullable = true)\n",
      " |-- stars: double (nullable = true)\n",
      " |-- text: string (nullable = true)\n",
      " |-- useful: long (nullable = true)"
     ]
    }
   ],
   "source": [
    "review.printSchema()"
   ]
  },
  {
   "cell_type": "code",
   "execution_count": 6,
   "id": "ca9f2aec-15c5-41b4-9296-cfea04ac232c",
   "metadata": {
    "execution": {
     "iopub.execute_input": "2022-03-15T09:56:00.774614Z",
     "iopub.status.busy": "2022-03-15T09:56:00.774373Z",
     "iopub.status.idle": "2022-03-15T09:56:01.553498Z",
     "shell.execute_reply": "2022-03-15T09:56:01.552750Z",
     "shell.execute_reply.started": "2022-03-15T09:56:00.774589Z"
    },
    "tags": []
   },
   "outputs": [
    {
     "data": {
      "application/vnd.jupyter.widget-view+json": {
       "model_id": "b7598d5f67ef4fae88700e684d3faf0f",
       "version_major": 2,
       "version_minor": 0
      },
      "text/plain": [
       "VBox()"
      ]
     },
     "metadata": {},
     "output_type": "display_data"
    },
    {
     "data": {
      "application/vnd.jupyter.widget-view+json": {
       "model_id": "",
       "version_major": 2,
       "version_minor": 0
      },
      "text/plain": [
       "FloatProgress(value=0.0, bar_style='info', description='Progress:', layout=Layout(height='25px', width='50%'),…"
      ]
     },
     "metadata": {},
     "output_type": "display_data"
    },
    {
     "name": "stdout",
     "output_type": "stream",
     "text": [
      "[Row(cool=1, funny=6, stars=4.0, text='I swear sometimes it feels like The Butcher Shop is trying to do everything in its power to deserve a mediocre review.\\n\\nYou will absolutely feel awkward walking in, only to be ignored for anywhere between 5-10 minutes with no host or hostess to be seen anywhere. This happens to me every time.\\n\\nYou will definitely overhear obnoxiously loud first-to-third dates, which is not really a fault of the restaurant\\'s except for the insistently poppy soundtrack blaring in the background. Last time I was here someone decided to play The Weekend\\'s \"House of Balloons\" in its entirety at full volume. It\\'s 2019 and \"I get her wetter than a wet nap\" doesn\\'t exactly sound any better than it did in 2011.\\n\\nYou can try to ask for substitutions (it works out about 50% of the time). If you figure out the algorithm to getting a medium-rare steak here (in my experience, \"medium-rare\" = \"medium\" and \"rare\" = \"rare,\" so maybe you can try \"medium-rare-rare\" although you might end up back at \"medium-rare\" and therefore \"medium\").\\n\\nBut, begrudgingly, I admit that there\\'s something about The Butcher Shop that feels so much more refined and straightforward than almost any other restaurant in the entire city. When it comes to the food itself, I\\'m not even sure any other South End restaurant deserves to be mentioned in the same breath.\\n\\nTake for example the absolutely perfect venison dish, a flawless composition of autumn flavor and color that ranks as one of the best things I\\'ve eaten in this city. Oh wait, it\\'s been taken off the menu now. \\n\\nThe Butcher Shop...why are you like this???', useful=6)]"
     ]
    }
   ],
   "source": [
    "review.take(1)"
   ]
  },
  {
   "cell_type": "code",
   "execution_count": 7,
   "id": "3d5aeb7a-b677-4d86-84f6-fe6e78ec995b",
   "metadata": {
    "execution": {
     "iopub.execute_input": "2022-03-15T09:56:01.554818Z",
     "iopub.status.busy": "2022-03-15T09:56:01.554621Z",
     "iopub.status.idle": "2022-03-15T09:56:04.893713Z",
     "shell.execute_reply": "2022-03-15T09:56:04.892991Z",
     "shell.execute_reply.started": "2022-03-15T09:56:01.554794Z"
    },
    "tags": []
   },
   "outputs": [
    {
     "data": {
      "application/vnd.jupyter.widget-view+json": {
       "model_id": "29e43d2358f242e9bc7efec93634b319",
       "version_major": 2,
       "version_minor": 0
      },
      "text/plain": [
       "VBox()"
      ]
     },
     "metadata": {},
     "output_type": "display_data"
    },
    {
     "data": {
      "application/vnd.jupyter.widget-view+json": {
       "model_id": "",
       "version_major": 2,
       "version_minor": 0
      },
      "text/plain": [
       "FloatProgress(value=0.0, bar_style='info', description='Progress:', layout=Layout(height='25px', width='50%'),…"
      ]
     },
     "metadata": {},
     "output_type": "display_data"
    },
    {
     "name": "stdout",
     "output_type": "stream",
     "text": [
      "+-----+-------+\n",
      "|stars|  count|\n",
      "+-----+-------+\n",
      "|  1.0|1262800|\n",
      "|  2.0| 711378|\n",
      "|  3.0| 926656|\n",
      "|  4.0|1920037|\n",
      "|  5.0|3814532|\n",
      "+-----+-------+"
     ]
    }
   ],
   "source": [
    "gr_star = review.groupBy(\"stars\").count()\n",
    "gr_star.sort([\"stars\"]).show()"
   ]
  },
  {
   "cell_type": "code",
   "execution_count": 8,
   "id": "5875a1ea-0890-4a1a-867e-b0059ed2d8b9",
   "metadata": {
    "execution": {
     "iopub.execute_input": "2022-03-15T09:56:04.895420Z",
     "iopub.status.busy": "2022-03-15T09:56:04.895019Z",
     "iopub.status.idle": "2022-03-15T09:56:18.329259Z",
     "shell.execute_reply": "2022-03-15T09:56:18.328483Z",
     "shell.execute_reply.started": "2022-03-15T09:56:04.895381Z"
    },
    "tags": []
   },
   "outputs": [
    {
     "data": {
      "application/vnd.jupyter.widget-view+json": {
       "model_id": "b3fbce8604934167b43354eeea76bf4b",
       "version_major": 2,
       "version_minor": 0
      },
      "text/plain": [
       "VBox()"
      ]
     },
     "metadata": {},
     "output_type": "display_data"
    },
    {
     "data": {
      "application/vnd.jupyter.widget-view+json": {
       "model_id": "",
       "version_major": 2,
       "version_minor": 0
      },
      "text/plain": [
       "FloatProgress(value=0.0, bar_style='info', description='Progress:', layout=Layout(height='25px', width='50%'),…"
      ]
     },
     "metadata": {},
     "output_type": "display_data"
    },
    {
     "name": "stdout",
     "output_type": "stream",
     "text": [
      "+----+-----+-----+----+------+\n",
      "|cool|funny|stars|text|useful|\n",
      "+----+-----+-----+----+------+\n",
      "|   0|    0|    0|   0|     0|\n",
      "+----+-----+-----+----+------+"
     ]
    }
   ],
   "source": [
    "review.select([count(when(isnan(c) | col(c).isNull(), c)).alias(c) for c in review.columns]).show()"
   ]
  },
  {
   "cell_type": "code",
   "execution_count": 21,
   "id": "209956e8-4ad9-4636-a54d-3cf235becc6e",
   "metadata": {
    "execution": {
     "iopub.execute_input": "2022-03-14T15:32:34.714318Z",
     "iopub.status.busy": "2022-03-14T15:32:34.714057Z",
     "iopub.status.idle": "2022-03-14T15:33:14.216711Z",
     "shell.execute_reply": "2022-03-14T15:33:14.216062Z",
     "shell.execute_reply.started": "2022-03-14T15:32:34.714289Z"
    }
   },
   "outputs": [
    {
     "data": {
      "application/vnd.jupyter.widget-view+json": {
       "model_id": "2373810a21144857be68270f151504cf",
       "version_major": 2,
       "version_minor": 0
      },
      "text/plain": [
       "VBox()"
      ]
     },
     "metadata": {},
     "output_type": "display_data"
    },
    {
     "data": {
      "application/vnd.jupyter.widget-view+json": {
       "model_id": "",
       "version_major": 2,
       "version_minor": 0
      },
      "text/plain": [
       "FloatProgress(value=0.0, bar_style='info', description='Progress:', layout=Layout(height='25px', width='50%'),…"
      ]
     },
     "metadata": {},
     "output_type": "display_data"
    }
   ],
   "source": [
    "review.write.orc(\"s3://akshay-yelp/yelp_academic_dataset_review_orc\")"
   ]
  },
  {
   "cell_type": "code",
   "execution_count": 9,
   "id": "b024f5f7-dd88-4832-a82f-4722e1b8cf40",
   "metadata": {
    "execution": {
     "iopub.execute_input": "2022-03-15T09:57:06.882773Z",
     "iopub.status.busy": "2022-03-15T09:57:06.882541Z",
     "iopub.status.idle": "2022-03-15T09:57:07.662989Z",
     "shell.execute_reply": "2022-03-15T09:57:07.662325Z",
     "shell.execute_reply.started": "2022-03-15T09:57:06.882750Z"
    }
   },
   "outputs": [
    {
     "data": {
      "application/vnd.jupyter.widget-view+json": {
       "model_id": "c44d196157364713b71bd252bf61d15d",
       "version_major": 2,
       "version_minor": 0
      },
      "text/plain": [
       "VBox()"
      ]
     },
     "metadata": {},
     "output_type": "display_data"
    },
    {
     "data": {
      "application/vnd.jupyter.widget-view+json": {
       "model_id": "",
       "version_major": 2,
       "version_minor": 0
      },
      "text/plain": [
       "FloatProgress(value=0.0, bar_style='info', description='Progress:', layout=Layout(height='25px', width='50%'),…"
      ]
     },
     "metadata": {},
     "output_type": "display_data"
    }
   ],
   "source": [
    "import sparknlp\n",
    "from sparknlp.base import *\n",
    "from sparknlp.annotator import *"
   ]
  },
  {
   "cell_type": "code",
   "execution_count": 10,
   "id": "83e451b0-6422-48cf-bb6e-19a081d08775",
   "metadata": {
    "execution": {
     "iopub.execute_input": "2022-03-15T09:57:25.170631Z",
     "iopub.status.busy": "2022-03-15T09:57:25.170388Z",
     "iopub.status.idle": "2022-03-15T09:57:25.492850Z",
     "shell.execute_reply": "2022-03-15T09:57:25.492123Z",
     "shell.execute_reply.started": "2022-03-15T09:57:25.170606Z"
    }
   },
   "outputs": [
    {
     "data": {
      "application/vnd.jupyter.widget-view+json": {
       "model_id": "2703d73e908d419cae243afade014e36",
       "version_major": 2,
       "version_minor": 0
      },
      "text/plain": [
       "VBox()"
      ]
     },
     "metadata": {},
     "output_type": "display_data"
    },
    {
     "data": {
      "application/vnd.jupyter.widget-view+json": {
       "model_id": "",
       "version_major": 2,
       "version_minor": 0
      },
      "text/plain": [
       "FloatProgress(value=0.0, bar_style='info', description='Progress:', layout=Layout(height='25px', width='50%'),…"
      ]
     },
     "metadata": {},
     "output_type": "display_data"
    },
    {
     "name": "stderr",
     "output_type": "stream",
     "text": [
      "An error was encountered:\n",
      "An error occurred while calling None.com.johnsnowlabs.nlp.DocumentAssembler.\n",
      ": java.lang.NoSuchMethodError: org.apache.spark.ml.util.MLWritable.$init$(Lorg/apache/spark/ml/util/MLWritable;)V\n",
      "\tat com.johnsnowlabs.nlp.DocumentAssembler.<init>(DocumentAssembler.scala:83)\n",
      "\tat sun.reflect.NativeConstructorAccessorImpl.newInstance0(Native Method)\n",
      "\tat sun.reflect.NativeConstructorAccessorImpl.newInstance(NativeConstructorAccessorImpl.java:62)\n",
      "\tat sun.reflect.DelegatingConstructorAccessorImpl.newInstance(DelegatingConstructorAccessorImpl.java:45)\n",
      "\tat java.lang.reflect.Constructor.newInstance(Constructor.java:423)\n",
      "\tat py4j.reflection.MethodInvoker.invoke(MethodInvoker.java:247)\n",
      "\tat py4j.reflection.ReflectionEngine.invoke(ReflectionEngine.java:357)\n",
      "\tat py4j.Gateway.invoke(Gateway.java:238)\n",
      "\tat py4j.commands.ConstructorCommand.invokeConstructor(ConstructorCommand.java:80)\n",
      "\tat py4j.commands.ConstructorCommand.execute(ConstructorCommand.java:69)\n",
      "\tat py4j.GatewayConnection.run(GatewayConnection.java:238)\n",
      "\tat java.lang.Thread.run(Thread.java:750)\n",
      "\n",
      "Traceback (most recent call last):\n",
      "  File \"/usr/lib/spark/python/lib/pyspark.zip/pyspark/__init__.py\", line 110, in wrapper\n",
      "    return func(self, **kwargs)\n",
      "  File \"/usr/local/lib/python3.7/site-packages/sparknlp/base.py\", line 387, in __init__\n",
      "    super(DocumentAssembler, self).__init__(classname=\"com.johnsnowlabs.nlp.DocumentAssembler\")\n",
      "  File \"/usr/lib/spark/python/lib/pyspark.zip/pyspark/__init__.py\", line 110, in wrapper\n",
      "    return func(self, **kwargs)\n",
      "  File \"/usr/local/lib/python3.7/site-packages/sparknlp/internal.py\", line 107, in __init__\n",
      "    self._java_obj = self._new_java_obj(classname, self.uid)\n",
      "  File \"/usr/lib/spark/python/lib/pyspark.zip/pyspark/ml/wrapper.py\", line 67, in _new_java_obj\n",
      "    return java_obj(*java_args)\n",
      "  File \"/usr/lib/spark/python/lib/py4j-0.10.7-src.zip/py4j/java_gateway.py\", line 1525, in __call__\n",
      "    answer, self._gateway_client, None, self._fqn)\n",
      "  File \"/usr/lib/spark/python/lib/pyspark.zip/pyspark/sql/utils.py\", line 63, in deco\n",
      "    return f(*a, **kw)\n",
      "  File \"/usr/lib/spark/python/lib/py4j-0.10.7-src.zip/py4j/protocol.py\", line 328, in get_return_value\n",
      "    format(target_id, \".\", name), value)\n",
      "py4j.protocol.Py4JJavaError: An error occurred while calling None.com.johnsnowlabs.nlp.DocumentAssembler.\n",
      ": java.lang.NoSuchMethodError: org.apache.spark.ml.util.MLWritable.$init$(Lorg/apache/spark/ml/util/MLWritable;)V\n",
      "\tat com.johnsnowlabs.nlp.DocumentAssembler.<init>(DocumentAssembler.scala:83)\n",
      "\tat sun.reflect.NativeConstructorAccessorImpl.newInstance0(Native Method)\n",
      "\tat sun.reflect.NativeConstructorAccessorImpl.newInstance(NativeConstructorAccessorImpl.java:62)\n",
      "\tat sun.reflect.DelegatingConstructorAccessorImpl.newInstance(DelegatingConstructorAccessorImpl.java:45)\n",
      "\tat java.lang.reflect.Constructor.newInstance(Constructor.java:423)\n",
      "\tat py4j.reflection.MethodInvoker.invoke(MethodInvoker.java:247)\n",
      "\tat py4j.reflection.ReflectionEngine.invoke(ReflectionEngine.java:357)\n",
      "\tat py4j.Gateway.invoke(Gateway.java:238)\n",
      "\tat py4j.commands.ConstructorCommand.invokeConstructor(ConstructorCommand.java:80)\n",
      "\tat py4j.commands.ConstructorCommand.execute(ConstructorCommand.java:69)\n",
      "\tat py4j.GatewayConnection.run(GatewayConnection.java:238)\n",
      "\tat java.lang.Thread.run(Thread.java:750)\n",
      "\n",
      "\n"
     ]
    }
   ],
   "source": [
    "data = spark.createDataFrame([[\"Spark NLP is an open-source text processing library.\"]]).toDF(\"text\")\n",
    "documentAssembler = DocumentAssembler().setInputCol(\"text\").setOutputCol(\"document\")\n",
    "\n",
    "result = documentAssembler.transform(data)\n",
    "\n",
    "result.select(\"document\").show(truncate=False)"
   ]
  },
  {
   "cell_type": "code",
   "execution_count": null,
   "id": "ea7b5f8f-a2cf-4ae6-81ad-f3da7d6d2010",
   "metadata": {},
   "outputs": [],
   "source": []
  },
  {
   "cell_type": "code",
   "execution_count": null,
   "id": "42edbd75-1bde-4aac-a6e6-2afdc528497f",
   "metadata": {},
   "outputs": [],
   "source": []
  },
  {
   "cell_type": "code",
   "execution_count": null,
   "id": "b8268222-df1f-4421-9d1b-97ca59d85f79",
   "metadata": {},
   "outputs": [],
   "source": []
  },
  {
   "cell_type": "code",
   "execution_count": null,
   "id": "c59fa851-ce4f-4707-9f94-563d89848191",
   "metadata": {},
   "outputs": [],
   "source": []
  },
  {
   "cell_type": "code",
   "execution_count": null,
   "id": "be62fb79-bd96-4e0e-a59a-f48781fd8404",
   "metadata": {},
   "outputs": [],
   "source": []
  },
  {
   "cell_type": "code",
   "execution_count": null,
   "id": "7386070a-3e72-43ea-a848-bc8b9b318624",
   "metadata": {},
   "outputs": [],
   "source": []
  }
 ],
 "metadata": {
  "kernelspec": {
   "display_name": "PySpark",
   "language": "",
   "name": "pysparkkernel"
  },
  "language_info": {
   "codemirror_mode": {
    "name": "python",
    "version": 3
   },
   "mimetype": "text/x-python",
   "name": "pyspark",
   "pygments_lexer": "python3"
  }
 },
 "nbformat": 4,
 "nbformat_minor": 5
}
