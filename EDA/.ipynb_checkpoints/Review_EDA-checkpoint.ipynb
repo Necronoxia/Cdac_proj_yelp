{
 "cells": [
  {
   "cell_type": "code",
   "execution_count": 1,
   "id": "1d68991d-9d16-4d38-b69c-ff0cf27e10ee",
   "metadata": {
    "execution": {
     "iopub.execute_input": "2022-04-08T09:09:46.036113Z",
     "iopub.status.busy": "2022-04-08T09:09:46.035878Z",
     "iopub.status.idle": "2022-04-08T09:10:17.575462Z",
     "shell.execute_reply": "2022-04-08T09:10:17.574838Z",
     "shell.execute_reply.started": "2022-04-08T09:09:46.036089Z"
    },
    "tags": []
   },
   "outputs": [
    {
     "data": {
      "application/vnd.jupyter.widget-view+json": {
       "model_id": "4401ee85a1594b038356c049d26fb833",
       "version_major": 2,
       "version_minor": 0
      },
      "text/plain": [
       "VBox()"
      ]
     },
     "metadata": {},
     "output_type": "display_data"
    },
    {
     "name": "stdout",
     "output_type": "stream",
     "text": [
      "Starting Spark application\n"
     ]
    },
    {
     "data": {
      "text/html": [
       "<table>\n",
       "<tr><th>ID</th><th>YARN Application ID</th><th>Kind</th><th>State</th><th>Spark UI</th><th>Driver log</th><th>User</th><th>Current session?</th></tr><tr><td>0</td><td>application_1649408207813_0001</td><td>pyspark</td><td>idle</td><td><a target=\"_blank\" href=\"http://ip-172-31-76-235.ec2.internal:20888/proxy/application_1649408207813_0001/\" class=\"emr-proxy-link\" emr-resource=\"j-24Y2VTOWIZBZ5\n",
       "\" application-id=\"application_1649408207813_0001\">Link</a></td><td><a target=\"_blank\" href=\"http://ip-172-31-77-127.ec2.internal:8042/node/containerlogs/container_1649408207813_0001_01_000001/livy\" >Link</a></td><td>None</td><td>✔</td></tr></table>"
      ],
      "text/plain": [
       "<IPython.core.display.HTML object>"
      ]
     },
     "metadata": {},
     "output_type": "display_data"
    },
    {
     "data": {
      "application/vnd.jupyter.widget-view+json": {
       "model_id": "",
       "version_major": 2,
       "version_minor": 0
      },
      "text/plain": [
       "FloatProgress(value=0.0, bar_style='info', description='Progress:', layout=Layout(height='25px', width='50%'),…"
      ]
     },
     "metadata": {},
     "output_type": "display_data"
    },
    {
     "name": "stdout",
     "output_type": "stream",
     "text": [
      "SparkSession available as 'spark'.\n"
     ]
    },
    {
     "data": {
      "application/vnd.jupyter.widget-view+json": {
       "model_id": "",
       "version_major": 2,
       "version_minor": 0
      },
      "text/plain": [
       "FloatProgress(value=0.0, bar_style='info', description='Progress:', layout=Layout(height='25px', width='50%'),…"
      ]
     },
     "metadata": {},
     "output_type": "display_data"
    }
   ],
   "source": [
    "import pyspark"
   ]
  },
  {
   "cell_type": "code",
   "execution_count": 2,
   "id": "b2575dfa-0547-4899-9a91-df2b2a1354b7",
   "metadata": {
    "execution": {
     "iopub.execute_input": "2022-04-08T09:10:17.576577Z",
     "iopub.status.busy": "2022-04-08T09:10:17.576409Z",
     "iopub.status.idle": "2022-04-08T09:11:11.606359Z",
     "shell.execute_reply": "2022-04-08T09:11:11.605642Z",
     "shell.execute_reply.started": "2022-04-08T09:10:17.576556Z"
    },
    "tags": []
   },
   "outputs": [
    {
     "name": "stdout",
     "output_type": "stream",
     "text": [
      "Starting Spark application\n"
     ]
    },
    {
     "data": {
      "text/html": [
       "<table>\n",
       "<tr><th>ID</th><th>YARN Application ID</th><th>Kind</th><th>State</th><th>Spark UI</th><th>Driver log</th><th>User</th><th>Current session?</th></tr><tr><td>1</td><td>application_1649408207813_0002</td><td>pyspark</td><td>idle</td><td><a target=\"_blank\" href=\"http://ip-172-31-76-235.ec2.internal:20888/proxy/application_1649408207813_0002/\" class=\"emr-proxy-link\" emr-resource=\"j-24Y2VTOWIZBZ5\n",
       "\" application-id=\"application_1649408207813_0002\">Link</a></td><td><a target=\"_blank\" href=\"http://ip-172-31-77-127.ec2.internal:8042/node/containerlogs/container_1649408207813_0002_01_000001/livy\" >Link</a></td><td>None</td><td>✔</td></tr></table>"
      ],
      "text/plain": [
       "<IPython.core.display.HTML object>"
      ]
     },
     "metadata": {},
     "output_type": "display_data"
    },
    {
     "data": {
      "application/vnd.jupyter.widget-view+json": {
       "model_id": "",
       "version_major": 2,
       "version_minor": 0
      },
      "text/plain": [
       "FloatProgress(value=0.0, bar_style='info', description='Progress:', layout=Layout(height='25px', width='50%'),…"
      ]
     },
     "metadata": {},
     "output_type": "display_data"
    },
    {
     "name": "stdout",
     "output_type": "stream",
     "text": [
      "SparkSession available as 'spark'.\n"
     ]
    },
    {
     "data": {
      "text/html": [
       "Current session configs: <tt>{'conf': {'spark.pyspark.python': 'python3.7', 'spark.pyspark.virtualenv.enabled': 'true', 'spark.pyspark.virtualenv.type': 'native', 'spark.pyspark.virtualenv.bin.path': '/usr/bin/virtualenv', 'spark.driver.maxResultSize': '15g'}, 'proxyUser': 'assumed-role_voclabs_user1815166_AKSHAY_GHANWAT', 'kind': 'pyspark'}</tt><br>"
      ],
      "text/plain": [
       "<IPython.core.display.HTML object>"
      ]
     },
     "metadata": {},
     "output_type": "display_data"
    },
    {
     "data": {
      "text/html": [
       "<table>\n",
       "<tr><th>ID</th><th>YARN Application ID</th><th>Kind</th><th>State</th><th>Spark UI</th><th>Driver log</th><th>User</th><th>Current session?</th></tr><tr><td>1</td><td>application_1649408207813_0002</td><td>pyspark</td><td>idle</td><td><a target=\"_blank\" href=\"http://ip-172-31-76-235.ec2.internal:20888/proxy/application_1649408207813_0002/\" class=\"emr-proxy-link\" emr-resource=\"j-24Y2VTOWIZBZ5\n",
       "\" application-id=\"application_1649408207813_0002\">Link</a></td><td><a target=\"_blank\" href=\"http://ip-172-31-77-127.ec2.internal:8042/node/containerlogs/container_1649408207813_0002_01_000001/livy\" >Link</a></td><td>None</td><td>✔</td></tr></table>"
      ],
      "text/plain": [
       "<IPython.core.display.HTML object>"
      ]
     },
     "metadata": {},
     "output_type": "display_data"
    }
   ],
   "source": [
    "%%configure -f\n",
    "{ \"conf\":{\n",
    "          \"spark.pyspark.python\": \"python3.7\",\n",
    "          \"spark.pyspark.virtualenv.enabled\": \"true\",\n",
    "          \"spark.pyspark.virtualenv.type\":\"native\",\n",
    "          \"spark.pyspark.virtualenv.bin.path\":\"/usr/bin/virtualenv\",\n",
    "          \"spark.driver.maxResultSize\":\"15g\"\n",
    "         }\n",
    "}"
   ]
  },
  {
   "cell_type": "code",
   "execution_count": 3,
   "id": "75c18432-304a-4be2-9139-70899654a7f7",
   "metadata": {
    "execution": {
     "iopub.execute_input": "2022-04-08T09:11:11.608319Z",
     "iopub.status.busy": "2022-04-08T09:11:11.608086Z",
     "iopub.status.idle": "2022-04-08T09:11:39.070642Z",
     "shell.execute_reply": "2022-04-08T09:11:39.069924Z",
     "shell.execute_reply.started": "2022-04-08T09:11:11.608286Z"
    },
    "tags": []
   },
   "outputs": [
    {
     "data": {
      "application/vnd.jupyter.widget-view+json": {
       "model_id": "e49e0e269ef34035ae59993006619c9e",
       "version_major": 2,
       "version_minor": 0
      },
      "text/plain": [
       "VBox()"
      ]
     },
     "metadata": {},
     "output_type": "display_data"
    },
    {
     "data": {
      "application/vnd.jupyter.widget-view+json": {
       "model_id": "",
       "version_major": 2,
       "version_minor": 0
      },
      "text/plain": [
       "FloatProgress(value=0.0, bar_style='info', description='Progress:', layout=Layout(height='25px', width='50%'),…"
      ]
     },
     "metadata": {},
     "output_type": "display_data"
    },
    {
     "name": "stdout",
     "output_type": "stream",
     "text": [
      "Collecting pandas==1.2.2\n",
      "  Downloading https://files.pythonhosted.org/packages/4c/33/87b15a5baeeb71bd677da3579f907e97476c5247c0e56a37079843af5424/pandas-1.2.2-cp37-cp37m-manylinux1_x86_64.whl (9.9MB)\n",
      "Requirement already satisfied: numpy>=1.16.5 in /usr/local/lib64/python3.7/site-packages (from pandas==1.2.2)\n",
      "Requirement already satisfied: pytz>=2017.3 in /usr/local/lib/python3.7/site-packages (from pandas==1.2.2)\n",
      "Collecting python-dateutil>=2.7.3 (from pandas==1.2.2)\n",
      "  Downloading https://files.pythonhosted.org/packages/36/7a/87837f39d0296e723bb9b62bbb257d0355c7f6128853c78955f57342a56d/python_dateutil-2.8.2-py2.py3-none-any.whl (247kB)\n",
      "Requirement already satisfied: six>=1.5 in /usr/local/lib/python3.7/site-packages (from python-dateutil>=2.7.3->pandas==1.2.2)\n",
      "Installing collected packages: python-dateutil, pandas\n",
      "Successfully installed pandas-1.2.2 python-dateutil-2.8.2\n",
      "\n",
      "Collecting IPython\n",
      "  Downloading https://files.pythonhosted.org/packages/38/7a/4cb724163ceb72183dc41a267e28be3e8412fdb036e6d7ce806136a6112f/ipython-7.32.0-py3-none-any.whl (793kB)\n",
      "Collecting matplotlib-inline (from IPython)\n",
      "  Downloading https://files.pythonhosted.org/packages/a6/2d/2230afd570c70074e80fd06857ba2bdc5f10c055bd9125665fe276fadb67/matplotlib_inline-0.1.3-py3-none-any.whl\n",
      "Requirement already satisfied: setuptools>=18.5 in /mnt/tmp/1649409068247-0/lib/python3.7/site-packages (from IPython)\n",
      "Collecting pexpect>4.3; sys_platform != \"win32\" (from IPython)\n",
      "  Downloading https://files.pythonhosted.org/packages/39/7b/88dbb785881c28a102619d46423cb853b46dbccc70d3ac362d99773a78ce/pexpect-4.8.0-py2.py3-none-any.whl (59kB)\n",
      "Collecting decorator (from IPython)\n",
      "  Downloading https://files.pythonhosted.org/packages/d5/50/83c593b07763e1161326b3b8c6686f0f4b0f24d5526546bee538c89837d6/decorator-5.1.1-py3-none-any.whl\n",
      "Collecting traitlets>=4.2 (from IPython)\n",
      "  Downloading https://files.pythonhosted.org/packages/37/46/be8a3c030bd3673f4800fa7f46eda972dfa2990089a51ec5dd0a26ed33e9/traitlets-5.1.1-py3-none-any.whl (102kB)\n",
      "Collecting jedi>=0.16 (from IPython)\n",
      "  Downloading https://files.pythonhosted.org/packages/b3/0e/836f12ec50075161e365131f13f5758451645af75c2becf61c6351ecec39/jedi-0.18.1-py2.py3-none-any.whl (1.6MB)\n",
      "Collecting prompt-toolkit!=3.0.0,!=3.0.1,<3.1.0,>=2.0.0 (from IPython)\n",
      "  Downloading https://files.pythonhosted.org/packages/3f/2d/dcb44d69f388ca2ee1a4a4d3c204ab66b36975c0d5166781eaeeff76b882/prompt_toolkit-3.0.29-py3-none-any.whl (381kB)\n",
      "Collecting pickleshare (from IPython)\n",
      "  Downloading https://files.pythonhosted.org/packages/9a/41/220f49aaea88bc6fa6cba8d05ecf24676326156c23b991e80b3f2fc24c77/pickleshare-0.7.5-py2.py3-none-any.whl\n",
      "Collecting backcall (from IPython)\n",
      "  Downloading https://files.pythonhosted.org/packages/4c/1c/ff6546b6c12603d8dd1070aa3c3d273ad4c07f5771689a7b69a550e8c951/backcall-0.2.0-py2.py3-none-any.whl\n",
      "Collecting pygments (from IPython)\n",
      "  Downloading https://files.pythonhosted.org/packages/1d/17/ed4d2df187995561b28f1073df24137cb750e12f9879d291cc8ab67c65d2/Pygments-2.11.2-py3-none-any.whl (1.1MB)\n",
      "Collecting ptyprocess>=0.5 (from pexpect>4.3; sys_platform != \"win32\"->IPython)\n",
      "  Downloading https://files.pythonhosted.org/packages/22/a6/858897256d0deac81a172289110f31629fc4cee19b6f01283303e18c8db3/ptyprocess-0.7.0-py2.py3-none-any.whl\n",
      "Collecting parso<0.9.0,>=0.8.0 (from jedi>=0.16->IPython)\n",
      "  Downloading https://files.pythonhosted.org/packages/05/63/8011bd08a4111858f79d2b09aad86638490d62fbf881c44e434a6dfca87b/parso-0.8.3-py2.py3-none-any.whl (100kB)\n",
      "Collecting wcwidth (from prompt-toolkit!=3.0.0,!=3.0.1,<3.1.0,>=2.0.0->IPython)\n",
      "  Downloading https://files.pythonhosted.org/packages/59/7c/e39aca596badaf1b78e8f547c807b04dae603a433d3e7a7e04d67f2ef3e5/wcwidth-0.2.5-py2.py3-none-any.whl\n",
      "Installing collected packages: traitlets, matplotlib-inline, ptyprocess, pexpect, decorator, parso, jedi, wcwidth, prompt-toolkit, pickleshare, backcall, pygments, IPython\n",
      "Successfully installed IPython-7.32.0 backcall-0.2.0 decorator-5.1.1 jedi-0.18.1 matplotlib-inline-0.1.3 parso-0.8.3 pexpect-4.8.0 pickleshare-0.7.5 prompt-toolkit-3.0.29 ptyprocess-0.7.0 pygments-2.11.2 traitlets-5.1.1 wcwidth-0.2.5\n",
      "\n",
      "You are using pip version 9.0.1, however version 22.0.4 is available.\n",
      "You should consider upgrading via the 'pip install --upgrade pip' command.\n",
      "\n",
      "You are using pip version 9.0.1, however version 22.0.4 is available.\n",
      "You should consider upgrading via the 'pip install --upgrade pip' command."
     ]
    }
   ],
   "source": [
    "sc.install_pypi_package(\"pandas==1.2.2\")\n",
    "sc.install_pypi_package(\"IPython\")"
   ]
  },
  {
   "cell_type": "code",
   "execution_count": 4,
   "id": "17696af0-9018-4544-ace8-c346c8f40fa1",
   "metadata": {
    "execution": {
     "iopub.execute_input": "2022-04-08T09:11:39.072423Z",
     "iopub.status.busy": "2022-04-08T09:11:39.072156Z",
     "iopub.status.idle": "2022-04-08T09:11:48.402630Z",
     "shell.execute_reply": "2022-04-08T09:11:48.401906Z",
     "shell.execute_reply.started": "2022-04-08T09:11:39.072388Z"
    },
    "tags": []
   },
   "outputs": [
    {
     "data": {
      "application/vnd.jupyter.widget-view+json": {
       "model_id": "b280c381d3294aea88ea0754665f1823",
       "version_major": 2,
       "version_minor": 0
      },
      "text/plain": [
       "VBox()"
      ]
     },
     "metadata": {},
     "output_type": "display_data"
    },
    {
     "data": {
      "application/vnd.jupyter.widget-view+json": {
       "model_id": "",
       "version_major": 2,
       "version_minor": 0
      },
      "text/plain": [
       "FloatProgress(value=0.0, bar_style='info', description='Progress:', layout=Layout(height='25px', width='50%'),…"
      ]
     },
     "metadata": {},
     "output_type": "display_data"
    },
    {
     "name": "stdout",
     "output_type": "stream",
     "text": [
      "Collecting matplotlib==3.1.1\n",
      "  Downloading https://files.pythonhosted.org/packages/19/7a/60bd79c5d79559150f8bba866dd7d434f0a170312e4d15e8aefa5faba294/matplotlib-3.1.1-cp37-cp37m-manylinux1_x86_64.whl (13.1MB)\n",
      "Requirement already satisfied: python-dateutil>=2.1 in /mnt/tmp/1649409068247-0/lib/python3.7/site-packages (from matplotlib==3.1.1)\n",
      "Collecting pyparsing!=2.0.4,!=2.1.2,!=2.1.6,>=2.0.1 (from matplotlib==3.1.1)\n",
      "  Downloading https://files.pythonhosted.org/packages/80/c1/23fd82ad3121656b585351aba6c19761926bb0db2ebed9e4ff09a43a3fcc/pyparsing-3.0.7-py3-none-any.whl (98kB)\n",
      "Collecting cycler>=0.10 (from matplotlib==3.1.1)\n",
      "  Downloading https://files.pythonhosted.org/packages/5c/f9/695d6bedebd747e5eb0fe8fad57b72fdf25411273a39791cde838d5a8f51/cycler-0.11.0-py3-none-any.whl\n",
      "Requirement already satisfied: numpy>=1.11 in /usr/local/lib64/python3.7/site-packages (from matplotlib==3.1.1)\n",
      "Collecting kiwisolver>=1.0.1 (from matplotlib==3.1.1)\n",
      "  Downloading https://files.pythonhosted.org/packages/51/50/9a9a94afa26c50fc5d9127272737806990aa698c7a1c220b8e5075e70304/kiwisolver-1.4.2-cp37-cp37m-manylinux_2_5_x86_64.manylinux1_x86_64.whl (1.1MB)\n",
      "Requirement already satisfied: six>=1.5 in /usr/local/lib/python3.7/site-packages (from python-dateutil>=2.1->matplotlib==3.1.1)\n",
      "Collecting typing-extensions; python_version < \"3.8\" (from kiwisolver>=1.0.1->matplotlib==3.1.1)\n",
      "  Downloading https://files.pythonhosted.org/packages/45/6b/44f7f8f1e110027cf88956b59f2fad776cca7e1704396d043f89effd3a0e/typing_extensions-4.1.1-py3-none-any.whl\n",
      "Installing collected packages: pyparsing, cycler, typing-extensions, kiwisolver, matplotlib\n",
      "Successfully installed cycler-0.11.0 kiwisolver-1.4.2 matplotlib-3.1.1 pyparsing-3.0.7 typing-extensions-4.1.1\n",
      "\n",
      "You are using pip version 9.0.1, however version 22.0.4 is available.\n",
      "You should consider upgrading via the 'pip install --upgrade pip' command."
     ]
    }
   ],
   "source": [
    "sc.install_pypi_package(\"matplotlib==3.1.1\", \"https://pypi.org/simple\")"
   ]
  },
  {
   "cell_type": "markdown",
   "id": "797c9f38-4e8c-489e-b80f-9da07b138adc",
   "metadata": {},
   "source": [
    "### Loading the liabraries"
   ]
  },
  {
   "cell_type": "code",
   "execution_count": 5,
   "id": "97227a6c-11c0-434a-a07b-e4abccbf0312",
   "metadata": {
    "execution": {
     "iopub.execute_input": "2022-04-08T09:11:48.404084Z",
     "iopub.status.busy": "2022-04-08T09:11:48.403828Z",
     "iopub.status.idle": "2022-04-08T09:11:50.709043Z",
     "shell.execute_reply": "2022-04-08T09:11:50.708303Z",
     "shell.execute_reply.started": "2022-04-08T09:11:48.404047Z"
    },
    "tags": []
   },
   "outputs": [
    {
     "data": {
      "application/vnd.jupyter.widget-view+json": {
       "model_id": "79b5d09c0b614fd0b2a6241a03c327d7",
       "version_major": 2,
       "version_minor": 0
      },
      "text/plain": [
       "VBox()"
      ]
     },
     "metadata": {},
     "output_type": "display_data"
    },
    {
     "data": {
      "application/vnd.jupyter.widget-view+json": {
       "model_id": "",
       "version_major": 2,
       "version_minor": 0
      },
      "text/plain": [
       "FloatProgress(value=0.0, bar_style='info', description='Progress:', layout=Layout(height='25px', width='50%'),…"
      ]
     },
     "metadata": {},
     "output_type": "display_data"
    }
   ],
   "source": [
    "from pyspark.sql.functions import *\n",
    "from pyspark.sql.functions import udf\n",
    "from pyspark.sql.types import IntegerType\n",
    "\n",
    "from pyspark.mllib.classification import SVMModel, SVMWithSGD\n",
    "from pyspark.mllib.regression import LabeledPoint\n",
    "from pyspark.mllib.linalg import Vectors as MLLibVectors\n",
    "from pyspark.ml import Pipeline\n",
    "from pyspark.ml.evaluation import BinaryClassificationEvaluator, MulticlassClassificationEvaluator\n",
    "from pyspark.ml.feature import * \n",
    "from pyspark.ml.tuning import CrossValidator\n",
    "from pyspark.ml.tuning import ParamGridBuilder\n",
    "\n",
    "\n",
    "from nltk.stem.porter import *\n",
    "from nltk.tokenize import word_tokenize, sent_tokenize\n",
    "from nltk.corpus import stopwords\n",
    "\n",
    "import pandas as pd\n",
    "import string \n",
    "import re "
   ]
  },
  {
   "cell_type": "markdown",
   "id": "c930e674-38d5-4dbc-a1b2-b45c9797cfe3",
   "metadata": {},
   "source": [
    "##  data file in json format "
   ]
  },
  {
   "cell_type": "code",
   "execution_count": 6,
   "id": "72a44a4b-93d3-40dd-93ed-f7b3697a4098",
   "metadata": {
    "execution": {
     "iopub.execute_input": "2022-04-08T09:11:50.710591Z",
     "iopub.status.busy": "2022-04-08T09:11:50.710302Z",
     "iopub.status.idle": "2022-04-08T09:12:08.096493Z",
     "shell.execute_reply": "2022-04-08T09:12:08.095782Z",
     "shell.execute_reply.started": "2022-04-08T09:11:50.710553Z"
    },
    "tags": []
   },
   "outputs": [
    {
     "data": {
      "application/vnd.jupyter.widget-view+json": {
       "model_id": "dba7b6bde85e4273824b3659e48710ec",
       "version_major": 2,
       "version_minor": 0
      },
      "text/plain": [
       "VBox()"
      ]
     },
     "metadata": {},
     "output_type": "display_data"
    },
    {
     "data": {
      "application/vnd.jupyter.widget-view+json": {
       "model_id": "",
       "version_major": 2,
       "version_minor": 0
      },
      "text/plain": [
       "FloatProgress(value=0.0, bar_style='info', description='Progress:', layout=Layout(height='25px', width='50%'),…"
      ]
     },
     "metadata": {},
     "output_type": "display_data"
    },
    {
     "name": "stdout",
     "output_type": "stream",
     "text": [
      "+--------------------+----+-------------------+-----+--------------------+-----+--------------------+------+--------------------+\n",
      "|         business_id|cool|               date|funny|           review_id|stars|                text|useful|             user_id|\n",
      "+--------------------+----+-------------------+-----+--------------------+-----+--------------------+------+--------------------+\n",
      "|buF9druCkbuXLX526...|   1|2014-10-11 03:34:02|    1|lWC-xP3rd6obsecCY...|  4.0|Apparently Prides...|     3|ak0TdVmGKo4pwqdJS...|\n",
      "|RA4V8pr014UyUbDvI...|   0|2015-07-03 20:38:25|    0|8bFej1QE5LXp4O05q...|  4.0|This store is pre...|     1|YoVfDbnISlW0f7abN...|\n",
      "|_sS2LBIGNT5NQb6PD...|   0|2013-05-28 20:38:06|    0|NDhkzczKjLshODbqD...|  5.0|I called WVM on t...|     0|eC5evKn1TWDyHCyQA...|\n",
      "|0AzLzHfOJgL7ROwhd...|   1|2010-01-08 02:29:15|    1|T5fAqjjFooT4V0OeZ...|  2.0|I've stayed at ma...|     1|SFQ1jcnGguO0LYWnb...|\n",
      "|8zehGz9jnxPqXtOc7...|   0|2011-07-28 18:05:01|    0|sjm_uUcQVxab_EeLC...|  4.0|The food is alway...|     0|0kA0PAJ8QFMeveQWH...|\n",
      "|xGXzsc-hzam-VArK6...|   0|2018-01-21 04:41:03|    0|J4a2TuhDasjn2k3wW...|  1.0|This place used t...|     2|RNm_RWkcd02Li2mKP...|\n",
      "|EXOsmAB1s71WePlQk...|   0|2006-04-16 02:58:44|    0|28gGfkLs3igtjVy61...|  2.0|The setting is pe...|     0|Q8c91v7luItVB0cMF...|\n",
      "|DbXHNl890xSXNiyRc...|   0|2017-12-02 18:16:13|    0|9vqwvFCBG3FBiHGmO...|  5.0|Probably one of t...|     0|XGkAG92TQ3MQUKGX9...|\n",
      "|mD-A9KOWADXvfrZfw...|   0|2012-05-28 15:00:47|    0|2l_TDrQ7p-5tANOyi...|  4.0|I am definitely a...|     1|LWUnzwK0ILquLLZcH...|\n",
      "|EEHhKSxUvJkoPSzeG...|   0|2014-05-07 18:10:21|    0|KKVFopqzcVfcubIBx...|  5.0|I work in the Pru...|     0|99RsBrARhhx60UnAC...|\n",
      "+--------------------+----+-------------------+-----+--------------------+-----+--------------------+------+--------------------+\n",
      "only showing top 10 rows"
     ]
    }
   ],
   "source": [
    "review = spark.read.json(\"s3://akshay-yelp/yelp_academic_dataset_review.json\")\n",
    "review.show(10)"
   ]
  },
  {
   "cell_type": "markdown",
   "id": "da8b8638-6535-40b6-be8e-1ce4ac8e178e",
   "metadata": {},
   "source": [
    "## convert the data into orc format and parqute format"
   ]
  },
  {
   "cell_type": "code",
   "execution_count": 7,
   "id": "91b644f2-d162-4117-bf34-d4da788b2542",
   "metadata": {
    "execution": {
     "iopub.execute_input": "2022-04-08T09:12:08.097633Z",
     "iopub.status.busy": "2022-04-08T09:12:08.097434Z",
     "iopub.status.idle": "2022-04-08T09:12:08.160884Z",
     "shell.execute_reply": "2022-04-08T09:12:08.160300Z",
     "shell.execute_reply.started": "2022-04-08T09:12:08.097607Z"
    },
    "tags": []
   },
   "outputs": [
    {
     "data": {
      "application/vnd.jupyter.widget-view+json": {
       "model_id": "038a7dfe30a7406690ba74576fa09927",
       "version_major": 2,
       "version_minor": 0
      },
      "text/plain": [
       "VBox()"
      ]
     },
     "metadata": {},
     "output_type": "display_data"
    },
    {
     "data": {
      "application/vnd.jupyter.widget-view+json": {
       "model_id": "",
       "version_major": 2,
       "version_minor": 0
      },
      "text/plain": [
       "FloatProgress(value=0.0, bar_style='info', description='Progress:', layout=Layout(height='25px', width='50%'),…"
      ]
     },
     "metadata": {},
     "output_type": "display_data"
    }
   ],
   "source": [
    "#review.write.orc(\"s3://akshay-yelp/yelp_orc_convert/\")"
   ]
  },
  {
   "cell_type": "code",
   "execution_count": 8,
   "id": "73c611da-e59e-4ebd-8e4f-30923d9822c5",
   "metadata": {
    "execution": {
     "iopub.execute_input": "2022-04-08T09:12:08.162619Z",
     "iopub.status.busy": "2022-04-08T09:12:08.162425Z",
     "iopub.status.idle": "2022-04-08T09:12:08.221466Z",
     "shell.execute_reply": "2022-04-08T09:12:08.220870Z",
     "shell.execute_reply.started": "2022-04-08T09:12:08.162581Z"
    },
    "tags": []
   },
   "outputs": [
    {
     "data": {
      "application/vnd.jupyter.widget-view+json": {
       "model_id": "156b5e7613974cd2b6c6470734c4defa",
       "version_major": 2,
       "version_minor": 0
      },
      "text/plain": [
       "VBox()"
      ]
     },
     "metadata": {},
     "output_type": "display_data"
    },
    {
     "data": {
      "application/vnd.jupyter.widget-view+json": {
       "model_id": "",
       "version_major": 2,
       "version_minor": 0
      },
      "text/plain": [
       "FloatProgress(value=0.0, bar_style='info', description='Progress:', layout=Layout(height='25px', width='50%'),…"
      ]
     },
     "metadata": {},
     "output_type": "display_data"
    }
   ],
   "source": [
    "#review.write.parquet(\"s3://yelp-work-repo-backup-s26-urc/yelp_academic_dataset_review_parquet\")"
   ]
  },
  {
   "cell_type": "code",
   "execution_count": 9,
   "id": "3227ab7b-e6f2-468f-bbda-664851b9ae6b",
   "metadata": {
    "execution": {
     "iopub.execute_input": "2022-04-08T09:12:08.222710Z",
     "iopub.status.busy": "2022-04-08T09:12:08.222527Z",
     "iopub.status.idle": "2022-04-08T09:12:11.550617Z",
     "shell.execute_reply": "2022-04-08T09:12:11.549925Z",
     "shell.execute_reply.started": "2022-04-08T09:12:08.222672Z"
    },
    "tags": []
   },
   "outputs": [
    {
     "data": {
      "application/vnd.jupyter.widget-view+json": {
       "model_id": "325c59e86828456594ab93a47478aadb",
       "version_major": 2,
       "version_minor": 0
      },
      "text/plain": [
       "VBox()"
      ]
     },
     "metadata": {},
     "output_type": "display_data"
    },
    {
     "data": {
      "application/vnd.jupyter.widget-view+json": {
       "model_id": "",
       "version_major": 2,
       "version_minor": 0
      },
      "text/plain": [
       "FloatProgress(value=0.0, bar_style='info', description='Progress:', layout=Layout(height='25px', width='50%'),…"
      ]
     },
     "metadata": {},
     "output_type": "display_data"
    },
    {
     "name": "stdout",
     "output_type": "stream",
     "text": [
      "+--------------------+----+-------------------+-----+--------------------+-----+--------------------+------+--------------------+\n",
      "|         business_id|cool|               date|funny|           review_id|stars|                text|useful|             user_id|\n",
      "+--------------------+----+-------------------+-----+--------------------+-----+--------------------+------+--------------------+\n",
      "|y7Ssng5Bnl75QiZUE...|   0|2016-03-06 08:49:08|    0|lyjloY7uVRsaOZObr...|  4.0|Ever wanted too j...|     0|Vu1P84ifxzFeQ9qRF...|\n",
      "|4fzjAjzLCnjWfQP1s...|   0|2013-12-04 22:37:18|    0|GfPzojSq1cin_fOdf...|  5.0|Dry-aged bone-in ...|     0|J1n84Z7tRI8Y7nhFU...|\n",
      "|KZEYzpFSC25cuuclg...|   0|2011-03-08 22:00:44|    0|lFphcMI6ZN2uFA8wg...|  5.0|I lived in Boston...|     2|uWHsX45RpNabc9X4x...|\n",
      "|pwejc1NUK6cQz7aK_...|   1|2007-11-24 22:38:04|    0|oQDDv49nI55lHzsI3...|  3.0|Some good things ...|     0|iDA5qOj534am_AacK...|\n",
      "|sRNcBkZrs2bOrijfE...|   0|2013-11-08 17:40:00|    0|78ZDs404elxc0f1i-...|  4.0|Great place to gr...|     0|qa3pHamIloSgsqGp9...|\n",
      "|u54RTYX1a5EvVdog6...|   1|2011-12-30 15:47:05|    5|Lis1PdpSAKYO2Xphi...|  1.0|It's like the Wal...|     5|6av8o8TnKit53_HCe...|\n",
      "|NN7vECA5YJFR0Oynw...|   0|2015-03-04 01:01:13|    0|rljvWIfb2b_xj8uIU...|  5.0|The food was incr...|     0|tLiNUSqo3_sSVHmku...|\n",
      "|9rIAl_UPCS3ODRMdS...|   0|2017-07-17 18:07:51|    0|7VJ0lBAmGl7AmuQbC...|  5.0|Haven't been so h...|     0|HFTI8I3PM-7UHb6Dh...|\n",
      "|uXyjhqbFmdIIPksB1...|   0|2018-10-18 16:27:45|    0|7GIrNltYAvEVSHZO8...|  5.0|These guys helped...|     0|rxezsXa00PO7EybNg...|\n",
      "|AkAdnB4emHqTmrkwY...|   0|2014-08-24 16:33:07|    0|ofXfh-pMLy4k0Thlq...|  4.0|great service and...|     0|gQ0mtVy_E81VPHNA7...|\n",
      "+--------------------+----+-------------------+-----+--------------------+-----+--------------------+------+--------------------+\n",
      "only showing top 10 rows"
     ]
    }
   ],
   "source": [
    "review = spark.read.orc(\"s3://akshay-yelp/yelp_orc_convert/\")\n",
    "review.show(10)"
   ]
  },
  {
   "cell_type": "markdown",
   "id": "25cd7ad5-0872-4eb0-8562-e59076f69cd9",
   "metadata": {},
   "source": [
    "## Review printschema"
   ]
  },
  {
   "cell_type": "code",
   "execution_count": 10,
   "id": "87929cf2-13f9-4fd5-88c3-f48c4b071aa2",
   "metadata": {
    "execution": {
     "iopub.execute_input": "2022-04-08T09:12:11.551837Z",
     "iopub.status.busy": "2022-04-08T09:12:11.551659Z",
     "iopub.status.idle": "2022-04-08T09:12:11.615323Z",
     "shell.execute_reply": "2022-04-08T09:12:11.614304Z",
     "shell.execute_reply.started": "2022-04-08T09:12:11.551813Z"
    },
    "tags": []
   },
   "outputs": [
    {
     "data": {
      "application/vnd.jupyter.widget-view+json": {
       "model_id": "0d0d43428f924fa292fd524bc4c95bb0",
       "version_major": 2,
       "version_minor": 0
      },
      "text/plain": [
       "VBox()"
      ]
     },
     "metadata": {},
     "output_type": "display_data"
    },
    {
     "data": {
      "application/vnd.jupyter.widget-view+json": {
       "model_id": "",
       "version_major": 2,
       "version_minor": 0
      },
      "text/plain": [
       "FloatProgress(value=0.0, bar_style='info', description='Progress:', layout=Layout(height='25px', width='50%'),…"
      ]
     },
     "metadata": {},
     "output_type": "display_data"
    },
    {
     "name": "stdout",
     "output_type": "stream",
     "text": [
      "root\n",
      " |-- business_id: string (nullable = true)\n",
      " |-- cool: long (nullable = true)\n",
      " |-- date: string (nullable = true)\n",
      " |-- funny: long (nullable = true)\n",
      " |-- review_id: string (nullable = true)\n",
      " |-- stars: double (nullable = true)\n",
      " |-- text: string (nullable = true)\n",
      " |-- useful: long (nullable = true)\n",
      " |-- user_id: string (nullable = true)"
     ]
    }
   ],
   "source": [
    "review.printSchema()"
   ]
  },
  {
   "cell_type": "markdown",
   "id": "df0faddb-55d3-4eba-b4f1-16d5fb3f5c68",
   "metadata": {},
   "source": [
    "## Total count of reviews"
   ]
  },
  {
   "cell_type": "code",
   "execution_count": 11,
   "id": "93a7f16d-7c22-42a5-9a61-f290270894d6",
   "metadata": {
    "execution": {
     "iopub.execute_input": "2022-04-08T09:12:11.617031Z",
     "iopub.status.busy": "2022-04-08T09:12:11.616524Z",
     "iopub.status.idle": "2022-04-08T09:12:14.075980Z",
     "shell.execute_reply": "2022-04-08T09:12:13.989821Z",
     "shell.execute_reply.started": "2022-04-08T09:12:11.616991Z"
    },
    "tags": []
   },
   "outputs": [
    {
     "data": {
      "application/vnd.jupyter.widget-view+json": {
       "model_id": "edc734fb54a349e0ba56e4e2af5a80d3",
       "version_major": 2,
       "version_minor": 0
      },
      "text/plain": [
       "VBox()"
      ]
     },
     "metadata": {},
     "output_type": "display_data"
    },
    {
     "data": {
      "application/vnd.jupyter.widget-view+json": {
       "model_id": "",
       "version_major": 2,
       "version_minor": 0
      },
      "text/plain": [
       "FloatProgress(value=0.0, bar_style='info', description='Progress:', layout=Layout(height='25px', width='50%'),…"
      ]
     },
     "metadata": {},
     "output_type": "display_data"
    },
    {
     "name": "stdout",
     "output_type": "stream",
     "text": [
      "8635403"
     ]
    }
   ],
   "source": [
    "review.count()"
   ]
  },
  {
   "cell_type": "markdown",
   "id": "9f8490bb-ba56-4753-a0f3-f229e22c85d2",
   "metadata": {},
   "source": [
    "## Total count of service outlets in data set"
   ]
  },
  {
   "cell_type": "code",
   "execution_count": 12,
   "id": "0ace0d08-c0a5-46c9-a534-ec6005af6322",
   "metadata": {
    "execution": {
     "iopub.execute_input": "2022-04-08T09:12:14.100391Z",
     "iopub.status.busy": "2022-04-08T09:12:14.098704Z",
     "iopub.status.idle": "2022-04-08T09:12:19.622273Z",
     "shell.execute_reply": "2022-04-08T09:12:19.621331Z",
     "shell.execute_reply.started": "2022-04-08T09:12:14.100348Z"
    },
    "tags": []
   },
   "outputs": [
    {
     "data": {
      "application/vnd.jupyter.widget-view+json": {
       "model_id": "fba39b4769bd40c88c932750c5a0640b",
       "version_major": 2,
       "version_minor": 0
      },
      "text/plain": [
       "VBox()"
      ]
     },
     "metadata": {},
     "output_type": "display_data"
    },
    {
     "data": {
      "application/vnd.jupyter.widget-view+json": {
       "model_id": "",
       "version_major": 2,
       "version_minor": 0
      },
      "text/plain": [
       "FloatProgress(value=0.0, bar_style='info', description='Progress:', layout=Layout(height='25px', width='50%'),…"
      ]
     },
     "metadata": {},
     "output_type": "display_data"
    },
    {
     "name": "stdout",
     "output_type": "stream",
     "text": [
      "160585"
     ]
    }
   ],
   "source": [
    "# business_info = review.select(explode(\"business_id\").alias(\"business_outlets\")).groupBy(\"business_id\").count()\n",
    "# business_info.show(10)\n",
    "review.select(\"business_id\").distinct().count()"
   ]
  },
  {
   "cell_type": "markdown",
   "id": "900e567b-b450-4925-91f7-3cba5458f575",
   "metadata": {},
   "source": [
    "## Total count of unique users who give reviews"
   ]
  },
  {
   "cell_type": "code",
   "execution_count": 13,
   "id": "01c30ce2-38b1-46a2-9543-e877bdca16d2",
   "metadata": {
    "execution": {
     "iopub.execute_input": "2022-04-08T09:12:19.623757Z",
     "iopub.status.busy": "2022-04-08T09:12:19.623498Z",
     "iopub.status.idle": "2022-04-08T09:12:23.449386Z",
     "shell.execute_reply": "2022-04-08T09:12:23.400534Z",
     "shell.execute_reply.started": "2022-04-08T09:12:19.623720Z"
    },
    "tags": []
   },
   "outputs": [
    {
     "data": {
      "application/vnd.jupyter.widget-view+json": {
       "model_id": "e2d5368e514f42c6ad3f02109f5f8436",
       "version_major": 2,
       "version_minor": 0
      },
      "text/plain": [
       "VBox()"
      ]
     },
     "metadata": {},
     "output_type": "display_data"
    },
    {
     "data": {
      "application/vnd.jupyter.widget-view+json": {
       "model_id": "",
       "version_major": 2,
       "version_minor": 0
      },
      "text/plain": [
       "FloatProgress(value=0.0, bar_style='info', description='Progress:', layout=Layout(height='25px', width='50%'),…"
      ]
     },
     "metadata": {},
     "output_type": "display_data"
    },
    {
     "name": "stdout",
     "output_type": "stream",
     "text": [
      "2189457"
     ]
    }
   ],
   "source": [
    "review.select(\"user_id\").distinct().count()"
   ]
  },
  {
   "cell_type": "markdown",
   "id": "04aa4b2d-9e77-4647-8fab-452de516b4a1",
   "metadata": {},
   "source": [
    "## Count of reviews by rating label"
   ]
  },
  {
   "cell_type": "code",
   "execution_count": 14,
   "id": "cbdb36e1-cece-4a0e-bf29-03129feb358f",
   "metadata": {
    "execution": {
     "iopub.execute_input": "2022-04-08T09:12:23.460488Z",
     "iopub.status.busy": "2022-04-08T09:12:23.460299Z",
     "iopub.status.idle": "2022-04-08T09:12:25.767570Z",
     "shell.execute_reply": "2022-04-08T09:12:25.766921Z",
     "shell.execute_reply.started": "2022-04-08T09:12:23.460464Z"
    },
    "tags": []
   },
   "outputs": [
    {
     "data": {
      "application/vnd.jupyter.widget-view+json": {
       "model_id": "fc463698a9e640dc830b874247d88956",
       "version_major": 2,
       "version_minor": 0
      },
      "text/plain": [
       "VBox()"
      ]
     },
     "metadata": {},
     "output_type": "display_data"
    },
    {
     "data": {
      "application/vnd.jupyter.widget-view+json": {
       "model_id": "",
       "version_major": 2,
       "version_minor": 0
      },
      "text/plain": [
       "FloatProgress(value=0.0, bar_style='info', description='Progress:', layout=Layout(height='25px', width='50%'),…"
      ]
     },
     "metadata": {},
     "output_type": "display_data"
    }
   ],
   "source": [
    "gr_star = review.groupBy(\"stars\").count()\n",
    "gr_star_df = gr_star.sort([\"stars\"]).toPandas()"
   ]
  },
  {
   "cell_type": "code",
   "execution_count": 15,
   "id": "e132a726-a1c2-4a42-95cb-4e05e7c73240",
   "metadata": {
    "execution": {
     "iopub.execute_input": "2022-04-08T09:12:25.768780Z",
     "iopub.status.busy": "2022-04-08T09:12:25.768543Z",
     "iopub.status.idle": "2022-04-08T09:12:26.029558Z",
     "shell.execute_reply": "2022-04-08T09:12:26.028852Z",
     "shell.execute_reply.started": "2022-04-08T09:12:25.768744Z"
    },
    "tags": []
   },
   "outputs": [
    {
     "data": {
      "application/vnd.jupyter.widget-view+json": {
       "model_id": "6e48779109d34aaba2d850710a164e73",
       "version_major": 2,
       "version_minor": 0
      },
      "text/plain": [
       "VBox()"
      ]
     },
     "metadata": {},
     "output_type": "display_data"
    },
    {
     "data": {
      "application/vnd.jupyter.widget-view+json": {
       "model_id": "",
       "version_major": 2,
       "version_minor": 0
      },
      "text/plain": [
       "FloatProgress(value=0.0, bar_style='info', description='Progress:', layout=Layout(height='25px', width='50%'),…"
      ]
     },
     "metadata": {},
     "output_type": "display_data"
    },
    {
     "name": "stdout",
     "output_type": "stream",
     "text": [
      "   stars    count\n",
      "0    1.0  1262800\n",
      "1    2.0   711378\n",
      "2    3.0   926656\n",
      "3    4.0  1920037\n",
      "4    5.0  3814532"
     ]
    }
   ],
   "source": [
    "gr_star_df"
   ]
  },
  {
   "cell_type": "code",
   "execution_count": 17,
   "id": "a0b164d5-a0b1-468e-b629-b89dd0d04640",
   "metadata": {
    "execution": {
     "iopub.execute_input": "2022-04-08T09:13:22.117548Z",
     "iopub.status.busy": "2022-04-08T09:13:22.117321Z",
     "iopub.status.idle": "2022-04-08T09:13:22.396471Z",
     "shell.execute_reply": "2022-04-08T09:13:22.395893Z",
     "shell.execute_reply.started": "2022-04-08T09:13:22.117521Z"
    },
    "tags": []
   },
   "outputs": [
    {
     "data": {
      "application/vnd.jupyter.widget-view+json": {
       "model_id": "69112b5e3cf1489f93e9274445b2cf3e",
       "version_major": 2,
       "version_minor": 0
      },
      "text/plain": [
       "VBox()"
      ]
     },
     "metadata": {},
     "output_type": "display_data"
    },
    {
     "data": {
      "application/vnd.jupyter.widget-view+json": {
       "model_id": "",
       "version_major": 2,
       "version_minor": 0
      },
      "text/plain": [
       "FloatProgress(value=0.0, bar_style='info', description='Progress:', layout=Layout(height='25px', width='50%'),…"
      ]
     },
     "metadata": {},
     "output_type": "display_data"
    },
    {
     "name": "stdout",
     "output_type": "stream",
     "text": [
      "Text(0, 0.5, 'Text rows count')"
     ]
    }
   ],
   "source": [
    "import matplotlib.pyplot as plt\n",
    "# plt = plt.bar(x=gr_star_df[\"stars\"], y=gr_star_df[\"count\"],height = 0.8, width=0.8) # bottom=None, align='center', data=gr_star_df)  \n",
    "\n",
    "#gr_star_df.plot(kind='bar')\n",
    "\n",
    "plt.clf()\n",
    "gr_star_df.plot(kind='bar', x='stars',y='count', legend=None, figsize=(8,6))\n",
    "plt.title('Number of text rows for star rating')\n",
    "plt.xlabel('Star Rating')\n",
    "plt.ylabel('Text rows count')"
   ]
  },
  {
   "cell_type": "code",
   "execution_count": 18,
   "id": "388063a8-ce87-4949-9109-8a07857f84ac",
   "metadata": {
    "execution": {
     "iopub.execute_input": "2022-04-08T09:13:24.017569Z",
     "iopub.status.busy": "2022-04-08T09:13:24.017346Z",
     "iopub.status.idle": "2022-04-08T09:13:24.280441Z",
     "shell.execute_reply": "2022-04-08T09:13:24.279888Z",
     "shell.execute_reply.started": "2022-04-08T09:13:24.017544Z"
    },
    "tags": []
   },
   "outputs": [
    {
     "data": {
      "application/vnd.jupyter.widget-view+json": {
       "model_id": "",
       "version_major": 2,
       "version_minor": 0
      },
      "text/plain": [
       "FloatProgress(value=0.0, bar_style='info', description='Progress:', layout=Layout(height='25px', width='50%'),…"
      ]
     },
     "metadata": {},
     "output_type": "display_data"
    },
    {
     "data": {
      "image/png": "[encoded data removed]",
      "text/plain": [
       "<IPython.core.display.Image object>"
      ]
     },
     "metadata": {},
     "output_type": "display_data"
    }
   ],
   "source": [
    "%matplot plt"
   ]
  },
  {
   "cell_type": "markdown",
   "id": "8c386579-eee5-4cb8-80ed-70e669ef703e",
   "metadata": {},
   "source": [
    "## To check for Null values"
   ]
  },
  {
   "cell_type": "code",
   "execution_count": 19,
   "id": "1caf470d-8329-4e69-9890-78274d30ee8a",
   "metadata": {
    "execution": {
     "iopub.execute_input": "2022-04-08T09:13:34.634608Z",
     "iopub.status.busy": "2022-04-08T09:13:34.634371Z",
     "iopub.status.idle": "2022-04-08T09:14:02.099585Z",
     "shell.execute_reply": "2022-04-08T09:14:02.070831Z",
     "shell.execute_reply.started": "2022-04-08T09:13:34.634581Z"
    },
    "tags": []
   },
   "outputs": [
    {
     "data": {
      "application/vnd.jupyter.widget-view+json": {
       "model_id": "b71bf73232f24625892fae808a5e81da",
       "version_major": 2,
       "version_minor": 0
      },
      "text/plain": [
       "VBox()"
      ]
     },
     "metadata": {},
     "output_type": "display_data"
    },
    {
     "data": {
      "application/vnd.jupyter.widget-view+json": {
       "model_id": "",
       "version_major": 2,
       "version_minor": 0
      },
      "text/plain": [
       "FloatProgress(value=0.0, bar_style='info', description='Progress:', layout=Layout(height='25px', width='50%'),…"
      ]
     },
     "metadata": {},
     "output_type": "display_data"
    },
    {
     "name": "stdout",
     "output_type": "stream",
     "text": [
      "+-----------+----+----+-----+---------+-----+----+------+-------+\n",
      "|business_id|cool|date|funny|review_id|stars|text|useful|user_id|\n",
      "+-----------+----+----+-----+---------+-----+----+------+-------+\n",
      "|          0|   0|   0|    0|        0|    0|   0|     0|      0|\n",
      "+-----------+----+----+-----+---------+-----+----+------+-------+"
     ]
    }
   ],
   "source": [
    "review.select([count(when(isnan(c) | col(c).isNull(), c)).alias(c) for c in review.columns]).show()\n"
   ]
  },
  {
   "cell_type": "markdown",
   "id": "35a03b06-9c2d-40f8-848a-88c413b9a8c7",
   "metadata": {},
   "source": [
    "## performing downsampling on class imbalance data "
   ]
  },
  {
   "cell_type": "code",
   "execution_count": 21,
   "id": "991d428e-b110-4ccd-b36c-7f6574453955",
   "metadata": {
    "execution": {
     "iopub.execute_input": "2022-04-08T09:39:09.710516Z",
     "iopub.status.busy": "2022-04-08T09:39:09.710288Z",
     "iopub.status.idle": "2022-04-08T09:39:09.763666Z",
     "shell.execute_reply": "2022-04-08T09:39:09.763054Z",
     "shell.execute_reply.started": "2022-04-08T09:39:09.710490Z"
    },
    "tags": []
   },
   "outputs": [
    {
     "data": {
      "application/vnd.jupyter.widget-view+json": {
       "model_id": "97d1a3b3bd0e4f048a08c5ced71189b2",
       "version_major": 2,
       "version_minor": 0
      },
      "text/plain": [
       "VBox()"
      ]
     },
     "metadata": {},
     "output_type": "display_data"
    },
    {
     "data": {
      "application/vnd.jupyter.widget-view+json": {
       "model_id": "",
       "version_major": 2,
       "version_minor": 0
      },
      "text/plain": [
       "FloatProgress(value=0.0, bar_style='info', description='Progress:', layout=Layout(height='25px', width='50%'),…"
      ]
     },
     "metadata": {},
     "output_type": "display_data"
    }
   ],
   "source": [
    "import numpy as np\n",
    "num = 710000\n",
    "\n",
    "one_per = np.round(float(num/gr_star_df['count'][0]),4)\n",
    "two_per = np.round(float(num/gr_star_df['count'][1]),4)\n",
    "three_per = np.round(float(num/gr_star_df['count'][2]),4)\n",
    "four_per = np.round(float(num/gr_star_df['count'][3]),4)\n",
    "five_per = np.round(float(num/gr_star_df['count'][4]),4)"
   ]
  },
  {
   "cell_type": "code",
   "execution_count": 22,
   "id": "0841e304-e254-47a7-9f1a-90a008d0a3e4",
   "metadata": {
    "execution": {
     "iopub.execute_input": "2022-04-08T09:39:12.140025Z",
     "iopub.status.busy": "2022-04-08T09:39:12.139790Z",
     "iopub.status.idle": "2022-04-08T09:39:12.196373Z",
     "shell.execute_reply": "2022-04-08T09:39:12.195683Z",
     "shell.execute_reply.started": "2022-04-08T09:39:12.139992Z"
    },
    "tags": []
   },
   "outputs": [
    {
     "data": {
      "application/vnd.jupyter.widget-view+json": {
       "model_id": "dff29b0dd9324a8e80b4fe0f8544a902",
       "version_major": 2,
       "version_minor": 0
      },
      "text/plain": [
       "VBox()"
      ]
     },
     "metadata": {},
     "output_type": "display_data"
    },
    {
     "data": {
      "application/vnd.jupyter.widget-view+json": {
       "model_id": "",
       "version_major": 2,
       "version_minor": 0
      },
      "text/plain": [
       "FloatProgress(value=0.0, bar_style='info', description='Progress:', layout=Layout(height='25px', width='50%'),…"
      ]
     },
     "metadata": {},
     "output_type": "display_data"
    },
    {
     "name": "stdout",
     "output_type": "stream",
     "text": [
      "one star percent:  0.5622 \n",
      "two star percent:  0.9981 \n",
      "three star percent:  0.7662 \n",
      "four star percent:  0.3698 \n",
      "five star percent:  0.1861"
     ]
    }
   ],
   "source": [
    "print(\"one star percent: \",one_per,\n",
    "      \"\\ntwo star percent: \",two_per,\n",
    "      \"\\nthree star percent: \",three_per,\n",
    "      \"\\nfour star percent: \",four_per,\n",
    "      \"\\nfive star percent: \",five_per)"
   ]
  },
  {
   "cell_type": "markdown",
   "id": "405bb7be-adf5-493d-9811-00f348530f4f",
   "metadata": {},
   "source": [
    "## Filter data on the rating labels"
   ]
  },
  {
   "cell_type": "code",
   "execution_count": 23,
   "id": "ac97ab35-8bfd-4986-9766-ad43e7b61e9e",
   "metadata": {
    "execution": {
     "iopub.execute_input": "2022-04-08T09:39:12.540224Z",
     "iopub.status.busy": "2022-04-08T09:39:12.540003Z",
     "iopub.status.idle": "2022-04-08T09:39:12.813220Z",
     "shell.execute_reply": "2022-04-08T09:39:12.812367Z",
     "shell.execute_reply.started": "2022-04-08T09:39:12.540199Z"
    },
    "tags": []
   },
   "outputs": [
    {
     "data": {
      "application/vnd.jupyter.widget-view+json": {
       "model_id": "ddf71a417a024e178736e10e447de9bf",
       "version_major": 2,
       "version_minor": 0
      },
      "text/plain": [
       "VBox()"
      ]
     },
     "metadata": {},
     "output_type": "display_data"
    },
    {
     "data": {
      "application/vnd.jupyter.widget-view+json": {
       "model_id": "",
       "version_major": 2,
       "version_minor": 0
      },
      "text/plain": [
       "FloatProgress(value=0.0, bar_style='info', description='Progress:', layout=Layout(height='25px', width='50%'),…"
      ]
     },
     "metadata": {},
     "output_type": "display_data"
    }
   ],
   "source": [
    "one_star = review.filter(col('stars')==1.0)\n",
    "two_star = review.filter(col('stars')==2.0)\n",
    "three_star = review.filter(col('stars')==3.0)\n",
    "four_star = review.filter(col('stars')==4.0)\n",
    "five_star = review.filter(col('stars')==5.0)"
   ]
  },
  {
   "cell_type": "code",
   "execution_count": 24,
   "id": "fe034222-e8bf-4d32-904f-5766149506bc",
   "metadata": {
    "execution": {
     "iopub.execute_input": "2022-04-08T09:39:12.970242Z",
     "iopub.status.busy": "2022-04-08T09:39:12.970030Z",
     "iopub.status.idle": "2022-04-08T09:39:24.293986Z",
     "shell.execute_reply": "2022-04-08T09:39:24.293308Z",
     "shell.execute_reply.started": "2022-04-08T09:39:12.970217Z"
    },
    "tags": []
   },
   "outputs": [
    {
     "data": {
      "application/vnd.jupyter.widget-view+json": {
       "model_id": "a2f473068a614d77bbb466eebf65ee18",
       "version_major": 2,
       "version_minor": 0
      },
      "text/plain": [
       "VBox()"
      ]
     },
     "metadata": {},
     "output_type": "display_data"
    },
    {
     "data": {
      "application/vnd.jupyter.widget-view+json": {
       "model_id": "",
       "version_major": 2,
       "version_minor": 0
      },
      "text/plain": [
       "FloatProgress(value=0.0, bar_style='info', description='Progress:', layout=Layout(height='25px', width='50%'),…"
      ]
     },
     "metadata": {},
     "output_type": "display_data"
    },
    {
     "name": "stdout",
     "output_type": "stream",
     "text": [
      "711378"
     ]
    }
   ],
   "source": [
    "two_star.count()"
   ]
  },
  {
   "cell_type": "markdown",
   "id": "a34b442d-e37a-4984-b338-589c64f8b019",
   "metadata": {},
   "source": [
    "## Selecting random sampling from respective rating"
   ]
  },
  {
   "cell_type": "code",
   "execution_count": 25,
   "id": "79f35bdb-7ccf-404a-acf9-181307ea46c3",
   "metadata": {
    "execution": {
     "iopub.execute_input": "2022-04-08T09:39:24.296085Z",
     "iopub.status.busy": "2022-04-08T09:39:24.295523Z",
     "iopub.status.idle": "2022-04-08T09:39:24.412080Z",
     "shell.execute_reply": "2022-04-08T09:39:24.411353Z",
     "shell.execute_reply.started": "2022-04-08T09:39:24.296047Z"
    },
    "tags": []
   },
   "outputs": [
    {
     "data": {
      "application/vnd.jupyter.widget-view+json": {
       "model_id": "043100b52b274e67a1784b9451601959",
       "version_major": 2,
       "version_minor": 0
      },
      "text/plain": [
       "VBox()"
      ]
     },
     "metadata": {},
     "output_type": "display_data"
    },
    {
     "data": {
      "application/vnd.jupyter.widget-view+json": {
       "model_id": "",
       "version_major": 2,
       "version_minor": 0
      },
      "text/plain": [
       "FloatProgress(value=0.0, bar_style='info', description='Progress:', layout=Layout(height='25px', width='50%'),…"
      ]
     },
     "metadata": {},
     "output_type": "display_data"
    }
   ],
   "source": [
    "df_one_sample = one_star.sample(False,one_per, seed = 42)\n",
    "df_two_sample = two_star.sample(False,two_per, seed = 42)\n",
    "df_three_sample = three_star.sample(False,three_per, seed = 42)\n",
    "df_four_sample = four_star.sample(False,four_per, seed = 42)\n",
    "df_five_sample = five_star.sample(False,five_per, seed = 42)"
   ]
  },
  {
   "cell_type": "code",
   "execution_count": 26,
   "id": "edc40db6-8ef5-4640-802e-56dc6c26702b",
   "metadata": {
    "execution": {
     "iopub.execute_input": "2022-04-08T09:39:24.417547Z",
     "iopub.status.busy": "2022-04-08T09:39:24.414210Z",
     "iopub.status.idle": "2022-04-08T09:39:27.741655Z",
     "shell.execute_reply": "2022-04-08T09:39:27.740948Z",
     "shell.execute_reply.started": "2022-04-08T09:39:24.417508Z"
    },
    "tags": []
   },
   "outputs": [
    {
     "data": {
      "application/vnd.jupyter.widget-view+json": {
       "model_id": "55fae418cc3d427f9573186a932f968e",
       "version_major": 2,
       "version_minor": 0
      },
      "text/plain": [
       "VBox()"
      ]
     },
     "metadata": {},
     "output_type": "display_data"
    },
    {
     "data": {
      "application/vnd.jupyter.widget-view+json": {
       "model_id": "",
       "version_major": 2,
       "version_minor": 0
      },
      "text/plain": [
       "FloatProgress(value=0.0, bar_style='info', description='Progress:', layout=Layout(height='25px', width='50%'),…"
      ]
     },
     "metadata": {},
     "output_type": "display_data"
    },
    {
     "name": "stdout",
     "output_type": "stream",
     "text": [
      "709422\n",
      "708973"
     ]
    }
   ],
   "source": [
    "print(df_four_sample.count())\n",
    "print(df_five_sample.count())"
   ]
  },
  {
   "cell_type": "markdown",
   "id": "86439298-3b11-45ca-bc43-9ae425a48364",
   "metadata": {},
   "source": [
    "#### Union all that sample data"
   ]
  },
  {
   "cell_type": "code",
   "execution_count": 27,
   "id": "9c27f838-ac2e-4277-be6b-898429334f7e",
   "metadata": {
    "execution": {
     "iopub.execute_input": "2022-04-08T09:39:27.742943Z",
     "iopub.status.busy": "2022-04-08T09:39:27.742771Z",
     "iopub.status.idle": "2022-04-08T09:39:27.804242Z",
     "shell.execute_reply": "2022-04-08T09:39:27.803575Z",
     "shell.execute_reply.started": "2022-04-08T09:39:27.742920Z"
    },
    "tags": []
   },
   "outputs": [
    {
     "data": {
      "application/vnd.jupyter.widget-view+json": {
       "model_id": "2687f37e18314bf98dd1d9358d06ffa0",
       "version_major": 2,
       "version_minor": 0
      },
      "text/plain": [
       "VBox()"
      ]
     },
     "metadata": {},
     "output_type": "display_data"
    },
    {
     "data": {
      "application/vnd.jupyter.widget-view+json": {
       "model_id": "",
       "version_major": 2,
       "version_minor": 0
      },
      "text/plain": [
       "FloatProgress(value=0.0, bar_style='info', description='Progress:', layout=Layout(height='25px', width='50%'),…"
      ]
     },
     "metadata": {},
     "output_type": "display_data"
    }
   ],
   "source": [
    "df = df_one_sample.unionAll(df_two_sample.unionAll(df_three_sample.unionAll(df_four_sample.unionAll(df_five_sample))))"
   ]
  },
  {
   "cell_type": "code",
   "execution_count": 28,
   "id": "0c9388b6-d134-43c8-96ef-785fd0c889b8",
   "metadata": {
    "execution": {
     "iopub.execute_input": "2022-04-08T09:39:27.805373Z",
     "iopub.status.busy": "2022-04-08T09:39:27.805086Z",
     "iopub.status.idle": "2022-04-08T09:39:33.129409Z",
     "shell.execute_reply": "2022-04-08T09:39:33.128708Z",
     "shell.execute_reply.started": "2022-04-08T09:39:27.805348Z"
    },
    "tags": []
   },
   "outputs": [
    {
     "data": {
      "application/vnd.jupyter.widget-view+json": {
       "model_id": "8b0fa5205cc4486f826dfa5de1df41c7",
       "version_major": 2,
       "version_minor": 0
      },
      "text/plain": [
       "VBox()"
      ]
     },
     "metadata": {},
     "output_type": "display_data"
    },
    {
     "data": {
      "application/vnd.jupyter.widget-view+json": {
       "model_id": "",
       "version_major": 2,
       "version_minor": 0
      },
      "text/plain": [
       "FloatProgress(value=0.0, bar_style='info', description='Progress:', layout=Layout(height='25px', width='50%'),…"
      ]
     },
     "metadata": {},
     "output_type": "display_data"
    },
    {
     "name": "stdout",
     "output_type": "stream",
     "text": [
      "3548366"
     ]
    }
   ],
   "source": [
    "df.count()"
   ]
  },
  {
   "cell_type": "code",
   "execution_count": 29,
   "id": "e227ffcb-fedd-4ae0-bc4f-e64687481355",
   "metadata": {
    "execution": {
     "iopub.execute_input": "2022-04-08T09:39:33.130492Z",
     "iopub.status.busy": "2022-04-08T09:39:33.130310Z",
     "iopub.status.idle": "2022-04-08T09:39:33.205450Z",
     "shell.execute_reply": "2022-04-08T09:39:33.204671Z",
     "shell.execute_reply.started": "2022-04-08T09:39:33.130468Z"
    },
    "tags": []
   },
   "outputs": [
    {
     "data": {
      "application/vnd.jupyter.widget-view+json": {
       "model_id": "d84450487eb84b639fa1fcd59455763e",
       "version_major": 2,
       "version_minor": 0
      },
      "text/plain": [
       "VBox()"
      ]
     },
     "metadata": {},
     "output_type": "display_data"
    },
    {
     "data": {
      "application/vnd.jupyter.widget-view+json": {
       "model_id": "",
       "version_major": 2,
       "version_minor": 0
      },
      "text/plain": [
       "FloatProgress(value=0.0, bar_style='info', description='Progress:', layout=Layout(height='25px', width='50%'),…"
      ]
     },
     "metadata": {},
     "output_type": "display_data"
    },
    {
     "name": "stdout",
     "output_type": "stream",
     "text": [
      "root\n",
      " |-- business_id: string (nullable = true)\n",
      " |-- cool: long (nullable = true)\n",
      " |-- date: string (nullable = true)\n",
      " |-- funny: long (nullable = true)\n",
      " |-- review_id: string (nullable = true)\n",
      " |-- stars: double (nullable = true)\n",
      " |-- text: string (nullable = true)\n",
      " |-- useful: long (nullable = true)\n",
      " |-- user_id: string (nullable = true)"
     ]
    }
   ],
   "source": [
    "df.printSchema()"
   ]
  },
  {
   "cell_type": "markdown",
   "id": "1fd32129-7b37-483f-90c2-d518e7e6db02",
   "metadata": {},
   "source": [
    "### shuffle the shrunk data"
   ]
  },
  {
   "cell_type": "code",
   "execution_count": 30,
   "id": "3b76de20-2a55-41b1-8a14-85afe6caea03",
   "metadata": {
    "execution": {
     "iopub.execute_input": "2022-04-08T09:39:33.207437Z",
     "iopub.status.busy": "2022-04-08T09:39:33.206814Z",
     "iopub.status.idle": "2022-04-08T09:39:33.487347Z",
     "shell.execute_reply": "2022-04-08T09:39:33.486445Z",
     "shell.execute_reply.started": "2022-04-08T09:39:33.207396Z"
    },
    "tags": []
   },
   "outputs": [
    {
     "data": {
      "application/vnd.jupyter.widget-view+json": {
       "model_id": "b3d7eba1df9246cda410ae42f225db3f",
       "version_major": 2,
       "version_minor": 0
      },
      "text/plain": [
       "VBox()"
      ]
     },
     "metadata": {},
     "output_type": "display_data"
    },
    {
     "data": {
      "application/vnd.jupyter.widget-view+json": {
       "model_id": "",
       "version_major": 2,
       "version_minor": 0
      },
      "text/plain": [
       "FloatProgress(value=0.0, bar_style='info', description='Progress:', layout=Layout(height='25px', width='50%'),…"
      ]
     },
     "metadata": {},
     "output_type": "display_data"
    }
   ],
   "source": [
    "df_new = df.orderBy(rand())"
   ]
  },
  {
   "cell_type": "markdown",
   "id": "d3810d95-2056-4cdf-b8dc-612446494049",
   "metadata": {},
   "source": [
    "### Shrunk data star rating count"
   ]
  },
  {
   "cell_type": "code",
   "execution_count": 49,
   "id": "9b3358df-7fed-43be-a7eb-521984c3edb3",
   "metadata": {
    "execution": {
     "iopub.execute_input": "2022-04-08T09:59:15.145844Z",
     "iopub.status.busy": "2022-04-08T09:59:15.145583Z",
     "iopub.status.idle": "2022-04-08T09:59:26.462116Z",
     "shell.execute_reply": "2022-04-08T09:59:26.461395Z",
     "shell.execute_reply.started": "2022-04-08T09:59:15.145819Z"
    },
    "tags": []
   },
   "outputs": [
    {
     "data": {
      "application/vnd.jupyter.widget-view+json": {
       "model_id": "2370a124545e411688e1ac385a4425a8",
       "version_major": 2,
       "version_minor": 0
      },
      "text/plain": [
       "VBox()"
      ]
     },
     "metadata": {},
     "output_type": "display_data"
    },
    {
     "data": {
      "application/vnd.jupyter.widget-view+json": {
       "model_id": "",
       "version_major": 2,
       "version_minor": 0
      },
      "text/plain": [
       "FloatProgress(value=0.0, bar_style='info', description='Progress:', layout=Layout(height='25px', width='50%'),…"
      ]
     },
     "metadata": {},
     "output_type": "display_data"
    },
    {
     "name": "stdout",
     "output_type": "stream",
     "text": [
      "   stars   count\n",
      "0    1.0  709336\n",
      "1    2.0  710059\n",
      "2    3.0  710179\n",
      "3    4.0  709372\n",
      "4    5.0  708929"
     ]
    }
   ],
   "source": [
    "df_new_cnt = df_new.groupBy(\"stars\").count()\n",
    "df_new_cnt_pd = df_new_cnt.sort([\"stars\"]).toPandas()\n",
    "df_new_cnt_pd"
   ]
  },
  {
   "cell_type": "markdown",
   "id": "22e9444f-4f8d-48c1-868d-c17a75797a0b",
   "metadata": {},
   "source": [
    "### Plotting the bar plot for shrunk data "
   ]
  },
  {
   "cell_type": "code",
   "execution_count": 32,
   "id": "a9c42629-6cee-416a-b97a-007eb96cf398",
   "metadata": {
    "execution": {
     "iopub.execute_input": "2022-04-08T09:39:44.847204Z",
     "iopub.status.busy": "2022-04-08T09:39:44.846921Z",
     "iopub.status.idle": "2022-04-08T09:39:45.116126Z",
     "shell.execute_reply": "2022-04-08T09:39:45.115501Z",
     "shell.execute_reply.started": "2022-04-08T09:39:44.847167Z"
    },
    "tags": []
   },
   "outputs": [
    {
     "data": {
      "application/vnd.jupyter.widget-view+json": {
       "model_id": "e425b12874d24c41933386c9a66b641c",
       "version_major": 2,
       "version_minor": 0
      },
      "text/plain": [
       "VBox()"
      ]
     },
     "metadata": {},
     "output_type": "display_data"
    },
    {
     "data": {
      "application/vnd.jupyter.widget-view+json": {
       "model_id": "",
       "version_major": 2,
       "version_minor": 0
      },
      "text/plain": [
       "FloatProgress(value=0.0, bar_style='info', description='Progress:', layout=Layout(height='25px', width='50%'),…"
      ]
     },
     "metadata": {},
     "output_type": "display_data"
    },
    {
     "name": "stdout",
     "output_type": "stream",
     "text": [
      "Text(0, 0.5, 'Text rows count')"
     ]
    }
   ],
   "source": [
    "plt.clf()\n",
    "df_new_cnt_pd.plot(kind='bar', x='stars',y='count', legend=None, figsize=(8,6))\n",
    "plt.title('Number of text rows for star rating')\n",
    "plt.xlabel('Star Rating')\n",
    "plt.ylabel('Text rows count')"
   ]
  },
  {
   "cell_type": "code",
   "execution_count": 37,
   "id": "5489a45f-6af1-40b7-b3d7-bd4bd24e232f",
   "metadata": {
    "execution": {
     "iopub.execute_input": "2022-04-08T09:43:03.919031Z",
     "iopub.status.busy": "2022-04-08T09:43:03.918715Z",
     "iopub.status.idle": "2022-04-08T09:43:04.166280Z",
     "shell.execute_reply": "2022-04-08T09:43:04.165638Z",
     "shell.execute_reply.started": "2022-04-08T09:43:03.918994Z"
    },
    "tags": []
   },
   "outputs": [
    {
     "data": {
      "application/vnd.jupyter.widget-view+json": {
       "model_id": "",
       "version_major": 2,
       "version_minor": 0
      },
      "text/plain": [
       "FloatProgress(value=0.0, bar_style='info', description='Progress:', layout=Layout(height='25px', width='50%'),…"
      ]
     },
     "metadata": {},
     "output_type": "display_data"
    },
    {
     "data": {
      "image/png": "[encoded data removed]",
      "text/plain": [
       "<IPython.core.display.Image object>"
      ]
     },
     "metadata": {},
     "output_type": "display_data"
    }
   ],
   "source": [
    "%matplot plt"
   ]
  },
  {
   "cell_type": "markdown",
   "id": "9b210b1a-02a8-4dd5-b9fb-cfcfa9183f18",
   "metadata": {},
   "source": [
    "### Storing shrunk data in s3 storage"
   ]
  },
  {
   "cell_type": "code",
   "execution_count": 38,
   "id": "545c8d6a-9986-4d69-b620-c6eaee5fdc41",
   "metadata": {
    "execution": {
     "iopub.execute_input": "2022-04-08T09:43:05.589381Z",
     "iopub.status.busy": "2022-04-08T09:43:05.589155Z",
     "iopub.status.idle": "2022-04-08T09:43:05.650914Z",
     "shell.execute_reply": "2022-04-08T09:43:05.650058Z",
     "shell.execute_reply.started": "2022-04-08T09:43:05.589356Z"
    },
    "tags": []
   },
   "outputs": [
    {
     "data": {
      "application/vnd.jupyter.widget-view+json": {
       "model_id": "bfcc6587d3c940a8b3e7cfee34d2db41",
       "version_major": 2,
       "version_minor": 0
      },
      "text/plain": [
       "VBox()"
      ]
     },
     "metadata": {},
     "output_type": "display_data"
    },
    {
     "data": {
      "application/vnd.jupyter.widget-view+json": {
       "model_id": "",
       "version_major": 2,
       "version_minor": 0
      },
      "text/plain": [
       "FloatProgress(value=0.0, bar_style='info', description='Progress:', layout=Layout(height='25px', width='50%'),…"
      ]
     },
     "metadata": {},
     "output_type": "display_data"
    }
   ],
   "source": [
    "#df_new.write.orc(\"s3://ashprojfinal/review_shrunk/\")"
   ]
  },
  {
   "cell_type": "code",
   "execution_count": 39,
   "id": "baa077e9-6f89-4e91-8a5f-f42492183828",
   "metadata": {
    "execution": {
     "iopub.execute_input": "2022-04-08T09:43:06.929212Z",
     "iopub.status.busy": "2022-04-08T09:43:06.928972Z",
     "iopub.status.idle": "2022-04-08T09:43:07.695695Z",
     "shell.execute_reply": "2022-04-08T09:43:07.694934Z",
     "shell.execute_reply.started": "2022-04-08T09:43:06.929187Z"
    },
    "tags": []
   },
   "outputs": [
    {
     "data": {
      "application/vnd.jupyter.widget-view+json": {
       "model_id": "f0c81ed9136241b49149d2ba3aa93077",
       "version_major": 2,
       "version_minor": 0
      },
      "text/plain": [
       "VBox()"
      ]
     },
     "metadata": {},
     "output_type": "display_data"
    },
    {
     "data": {
      "application/vnd.jupyter.widget-view+json": {
       "model_id": "",
       "version_major": 2,
       "version_minor": 0
      },
      "text/plain": [
       "FloatProgress(value=0.0, bar_style='info', description='Progress:', layout=Layout(height='25px', width='50%'),…"
      ]
     },
     "metadata": {},
     "output_type": "display_data"
    }
   ],
   "source": [
    "df_new=spark.read.orc(\"s3://akshay-yelp/yelp_academic_dataset_review_shrunk/\")"
   ]
  },
  {
   "cell_type": "markdown",
   "id": "0bfab935-3d24-4121-92fb-afea49830963",
   "metadata": {},
   "source": [
    "### Checking for other features of data"
   ]
  },
  {
   "cell_type": "markdown",
   "id": "dcaa4d8c-9a2c-4393-a3a1-6223682c1b8f",
   "metadata": {},
   "source": [
    "#### Cool column"
   ]
  },
  {
   "cell_type": "code",
   "execution_count": 40,
   "id": "70da5e59-c14e-4ddf-8e2b-20453cfc905d",
   "metadata": {
    "execution": {
     "iopub.execute_input": "2022-04-08T09:43:09.485851Z",
     "iopub.status.busy": "2022-04-08T09:43:09.485629Z",
     "iopub.status.idle": "2022-04-08T09:43:20.796870Z",
     "shell.execute_reply": "2022-04-08T09:43:20.796158Z",
     "shell.execute_reply.started": "2022-04-08T09:43:09.485826Z"
    },
    "tags": []
   },
   "outputs": [
    {
     "data": {
      "application/vnd.jupyter.widget-view+json": {
       "model_id": "3cddeef8bf5d46fdb1f1de7f842d4c0d",
       "version_major": 2,
       "version_minor": 0
      },
      "text/plain": [
       "VBox()"
      ]
     },
     "metadata": {},
     "output_type": "display_data"
    },
    {
     "data": {
      "application/vnd.jupyter.widget-view+json": {
       "model_id": "",
       "version_major": 2,
       "version_minor": 0
      },
      "text/plain": [
       "FloatProgress(value=0.0, bar_style='info', description='Progress:', layout=Layout(height='25px', width='50%'),…"
      ]
     },
     "metadata": {},
     "output_type": "display_data"
    },
    {
     "name": "stdout",
     "output_type": "stream",
     "text": [
      "    cool    count\n",
      "0      0  6686980\n",
      "1      1  1206387\n",
      "2      2   364606\n",
      "3      3   145669\n",
      "4      4    71554\n",
      "5      5    41205\n",
      "6      6    26768\n",
      "7      7    18320\n",
      "8      8    13275\n",
      "9      9    10066\n",
      "10    10     7672\n",
      "11    11     6318\n",
      "12    12     5073\n",
      "13    13     4118\n",
      "14    14     3471\n",
      "15    15     2829\n",
      "16    16     2381\n",
      "17    17     1961\n",
      "18    18     1675\n",
      "19    19     1474\n",
      "20    20     1251\n",
      "21    21     1064\n",
      "22    22      950\n",
      "23    23      777\n",
      "24    24      770\n",
      "25    25      644\n",
      "26    26      530\n",
      "27    27      491\n",
      "28    28      419\n",
      "29    29      372"
     ]
    }
   ],
   "source": [
    "count_cool = review.groupBy(\"cool\").count()\n",
    "count_cool = count_cool.sort([\"cool\"]).limit(30).toPandas()\n",
    "count_cool"
   ]
  },
  {
   "cell_type": "code",
   "execution_count": 41,
   "id": "8228a98c-3049-4d68-b079-42b785ebaf31",
   "metadata": {
    "execution": {
     "iopub.execute_input": "2022-04-08T09:43:20.798517Z",
     "iopub.status.busy": "2022-04-08T09:43:20.798263Z",
     "iopub.status.idle": "2022-04-08T09:43:21.057707Z",
     "shell.execute_reply": "2022-04-08T09:43:21.056994Z",
     "shell.execute_reply.started": "2022-04-08T09:43:20.798481Z"
    },
    "tags": []
   },
   "outputs": [
    {
     "data": {
      "application/vnd.jupyter.widget-view+json": {
       "model_id": "01991712cbe34f3da02cd4919da644f5",
       "version_major": 2,
       "version_minor": 0
      },
      "text/plain": [
       "VBox()"
      ]
     },
     "metadata": {},
     "output_type": "display_data"
    },
    {
     "data": {
      "application/vnd.jupyter.widget-view+json": {
       "model_id": "",
       "version_major": 2,
       "version_minor": 0
      },
      "text/plain": [
       "FloatProgress(value=0.0, bar_style='info', description='Progress:', layout=Layout(height='25px', width='50%'),…"
      ]
     },
     "metadata": {},
     "output_type": "display_data"
    },
    {
     "name": "stdout",
     "output_type": "stream",
     "text": [
      "Text(0, 0.5, 'count')"
     ]
    }
   ],
   "source": [
    "plt.clf()\n",
    "count_cool.plot(kind='bar', x='cool',y='count', legend=None, figsize=(20,15))\n",
    "plt.title('Number of text rows for cool')\n",
    "plt.xlabel('cool')\n",
    "plt.ylabel('count')"
   ]
  },
  {
   "cell_type": "code",
   "execution_count": 42,
   "id": "2d25c8a0-56e6-46e7-a20b-29a6f7cad8ce",
   "metadata": {
    "execution": {
     "iopub.execute_input": "2022-04-08T09:43:21.059156Z",
     "iopub.status.busy": "2022-04-08T09:43:21.058945Z",
     "iopub.status.idle": "2022-04-08T09:43:21.817698Z",
     "shell.execute_reply": "2022-04-08T09:43:21.816999Z",
     "shell.execute_reply.started": "2022-04-08T09:43:21.059124Z"
    },
    "tags": []
   },
   "outputs": [
    {
     "data": {
      "application/vnd.jupyter.widget-view+json": {
       "model_id": "",
       "version_major": 2,
       "version_minor": 0
      },
      "text/plain": [
       "FloatProgress(value=0.0, bar_style='info', description='Progress:', layout=Layout(height='25px', width='50%'),…"
      ]
     },
     "metadata": {},
     "output_type": "display_data"
    },
    {
     "data": {
      "image/png": "[encoded data removed]",
      "text/plain": [
       "<IPython.core.display.Image object>"
      ]
     },
     "metadata": {},
     "output_type": "display_data"
    }
   ],
   "source": [
    "%matplot plt"
   ]
  },
  {
   "cell_type": "markdown",
   "id": "00c204ee-450c-4b73-9203-655895d4ddd7",
   "metadata": {},
   "source": [
    "#### Funny column"
   ]
  },
  {
   "cell_type": "code",
   "execution_count": 43,
   "id": "529778a4-653b-4572-864d-8ed60f2a3353",
   "metadata": {
    "execution": {
     "iopub.execute_input": "2022-04-08T09:43:21.819043Z",
     "iopub.status.busy": "2022-04-08T09:43:21.818859Z",
     "iopub.status.idle": "2022-04-08T09:43:25.126016Z",
     "shell.execute_reply": "2022-04-08T09:43:25.125141Z",
     "shell.execute_reply.started": "2022-04-08T09:43:21.819021Z"
    },
    "tags": []
   },
   "outputs": [
    {
     "data": {
      "application/vnd.jupyter.widget-view+json": {
       "model_id": "9769e5a38c334e1485d8414e3a14451f",
       "version_major": 2,
       "version_minor": 0
      },
      "text/plain": [
       "VBox()"
      ]
     },
     "metadata": {},
     "output_type": "display_data"
    },
    {
     "data": {
      "application/vnd.jupyter.widget-view+json": {
       "model_id": "",
       "version_major": 2,
       "version_minor": 0
      },
      "text/plain": [
       "FloatProgress(value=0.0, bar_style='info', description='Progress:', layout=Layout(height='25px', width='50%'),…"
      ]
     },
     "metadata": {},
     "output_type": "display_data"
    },
    {
     "name": "stdout",
     "output_type": "stream",
     "text": [
      "    funny    count\n",
      "0       0  7038968\n",
      "1       1   958665\n",
      "2       2   296906\n",
      "3       3   126998\n",
      "4       4    66832\n",
      "5       5    39812\n",
      "6       6    25371\n",
      "7       7    17433\n",
      "8       8    12777\n",
      "9       9     9403\n",
      "10     10     7086\n",
      "11     11     5459\n",
      "12     12     4285\n",
      "13     13     3492\n",
      "14     14     2871\n",
      "15     15     2396\n",
      "16     16     2057\n",
      "17     17     1656\n",
      "18     18     1476\n",
      "19     19     1163"
     ]
    }
   ],
   "source": [
    "count_funny = review.groupBy(\"funny\").count()\n",
    "count_funny = count_funny.sort([\"funny\"]).limit(20).toPandas()\n",
    "count_funny"
   ]
  },
  {
   "cell_type": "code",
   "execution_count": 44,
   "id": "8672b8ab-9069-42bc-9408-fbfe6b0621f5",
   "metadata": {
    "execution": {
     "iopub.execute_input": "2022-04-08T09:43:25.127640Z",
     "iopub.status.busy": "2022-04-08T09:43:25.127386Z",
     "iopub.status.idle": "2022-04-08T09:43:25.930354Z",
     "shell.execute_reply": "2022-04-08T09:43:25.929764Z",
     "shell.execute_reply.started": "2022-04-08T09:43:25.127604Z"
    },
    "tags": []
   },
   "outputs": [
    {
     "data": {
      "application/vnd.jupyter.widget-view+json": {
       "model_id": "3366be7d2ae54cff8c75c21268260c76",
       "version_major": 2,
       "version_minor": 0
      },
      "text/plain": [
       "VBox()"
      ]
     },
     "metadata": {},
     "output_type": "display_data"
    },
    {
     "data": {
      "application/vnd.jupyter.widget-view+json": {
       "model_id": "",
       "version_major": 2,
       "version_minor": 0
      },
      "text/plain": [
       "FloatProgress(value=0.0, bar_style='info', description='Progress:', layout=Layout(height='25px', width='50%'),…"
      ]
     },
     "metadata": {},
     "output_type": "display_data"
    },
    {
     "data": {
      "image/png": "[encoded data removed]",
      "text/plain": [
       "<IPython.core.display.Image object>"
      ]
     },
     "metadata": {},
     "output_type": "display_data"
    }
   ],
   "source": [
    "plt.clf()\n",
    "count_funny.plot(kind='bar', x='funny',y='count', legend=None, figsize=(20,15))\n",
    "plt.title('Number of text rows for funny')\n",
    "plt.xlabel('funny')\n",
    "plt.ylabel('count')\n",
    "%matplot plt"
   ]
  },
  {
   "cell_type": "markdown",
   "id": "8dd4b7cb-4f59-4e88-9e05-59531142f31d",
   "metadata": {},
   "source": [
    "#### Useful column"
   ]
  },
  {
   "cell_type": "code",
   "execution_count": 45,
   "id": "960d0826-d7d4-4436-ba06-75569b6dcfcd",
   "metadata": {
    "execution": {
     "iopub.execute_input": "2022-04-08T09:43:25.931513Z",
     "iopub.status.busy": "2022-04-08T09:43:25.931327Z",
     "iopub.status.idle": "2022-04-08T09:43:28.228284Z",
     "shell.execute_reply": "2022-04-08T09:43:28.227588Z",
     "shell.execute_reply.started": "2022-04-08T09:43:25.931489Z"
    },
    "tags": []
   },
   "outputs": [
    {
     "data": {
      "application/vnd.jupyter.widget-view+json": {
       "model_id": "14d9e9be8bac4a3b998ec829bfa12132",
       "version_major": 2,
       "version_minor": 0
      },
      "text/plain": [
       "VBox()"
      ]
     },
     "metadata": {},
     "output_type": "display_data"
    },
    {
     "data": {
      "application/vnd.jupyter.widget-view+json": {
       "model_id": "",
       "version_major": 2,
       "version_minor": 0
      },
      "text/plain": [
       "FloatProgress(value=0.0, bar_style='info', description='Progress:', layout=Layout(height='25px', width='50%'),…"
      ]
     },
     "metadata": {},
     "output_type": "display_data"
    },
    {
     "name": "stdout",
     "output_type": "stream",
     "text": [
      "    useful    count\n",
      "0        0  4758168\n",
      "1        1  1827011\n",
      "2        2   839327\n",
      "3        3   433797\n",
      "4        4   242723\n",
      "5        5   147582\n",
      "6        6    95333\n",
      "7        7    64456\n",
      "8        8    46308\n",
      "9        9    34071\n",
      "10      10    25761\n",
      "11      11    19563\n",
      "12      12    15718\n",
      "13      13    12815\n",
      "14      14    10129\n",
      "15      15     8337\n",
      "16      16     7077\n",
      "17      17     5888\n",
      "18      18     4800\n",
      "19      19     4139"
     ]
    }
   ],
   "source": [
    "count_useful = review.groupBy(\"useful\").count()\n",
    "count_useful = count_useful.sort([\"useful\"]).limit(20).toPandas()\n",
    "count_useful"
   ]
  },
  {
   "cell_type": "code",
   "execution_count": 46,
   "id": "5b9bfd90-b64b-43b9-830a-ae5da213e3fa",
   "metadata": {
    "execution": {
     "iopub.execute_input": "2022-04-08T09:43:28.229815Z",
     "iopub.status.busy": "2022-04-08T09:43:28.229554Z",
     "iopub.status.idle": "2022-04-08T09:43:29.035807Z",
     "shell.execute_reply": "2022-04-08T09:43:29.034992Z",
     "shell.execute_reply.started": "2022-04-08T09:43:28.229778Z"
    },
    "tags": []
   },
   "outputs": [
    {
     "data": {
      "application/vnd.jupyter.widget-view+json": {
       "model_id": "23ba75469757410ba09e8f103c566ace",
       "version_major": 2,
       "version_minor": 0
      },
      "text/plain": [
       "VBox()"
      ]
     },
     "metadata": {},
     "output_type": "display_data"
    },
    {
     "data": {
      "application/vnd.jupyter.widget-view+json": {
       "model_id": "",
       "version_major": 2,
       "version_minor": 0
      },
      "text/plain": [
       "FloatProgress(value=0.0, bar_style='info', description='Progress:', layout=Layout(height='25px', width='50%'),…"
      ]
     },
     "metadata": {},
     "output_type": "display_data"
    },
    {
     "data": {
      "image/png": "[encoded data removed]",
      "text/plain": [
       "<IPython.core.display.Image object>"
      ]
     },
     "metadata": {},
     "output_type": "display_data"
    }
   ],
   "source": [
    "plt.clf()\n",
    "count_useful.plot(kind='bar', x='useful',y='count', legend=None, figsize=(20,15))\n",
    "plt.title('Number of text rows for useful')\n",
    "plt.xlabel('useful')\n",
    "plt.ylabel('count')\n",
    "%matplot plt"
   ]
  },
  {
   "cell_type": "markdown",
   "id": "f90258e7-e420-4258-a750-4deb2743a954",
   "metadata": {},
   "source": [
    "### Droping business id,useful,cool and funny feature"
   ]
  },
  {
   "cell_type": "code",
   "execution_count": 47,
   "id": "8f407ec8-c047-4674-a749-2debf9753383",
   "metadata": {
    "execution": {
     "iopub.execute_input": "2022-04-08T09:43:29.038155Z",
     "iopub.status.busy": "2022-04-08T09:43:29.037895Z",
     "iopub.status.idle": "2022-04-08T09:43:29.095443Z",
     "shell.execute_reply": "2022-04-08T09:43:29.094739Z",
     "shell.execute_reply.started": "2022-04-08T09:43:29.038119Z"
    },
    "tags": []
   },
   "outputs": [
    {
     "data": {
      "application/vnd.jupyter.widget-view+json": {
       "model_id": "f98cedee40a44e1c9ca211c1e3566eb7",
       "version_major": 2,
       "version_minor": 0
      },
      "text/plain": [
       "VBox()"
      ]
     },
     "metadata": {},
     "output_type": "display_data"
    },
    {
     "data": {
      "application/vnd.jupyter.widget-view+json": {
       "model_id": "",
       "version_major": 2,
       "version_minor": 0
      },
      "text/plain": [
       "FloatProgress(value=0.0, bar_style='info', description='Progress:', layout=Layout(height='25px', width='50%'),…"
      ]
     },
     "metadata": {},
     "output_type": "display_data"
    },
    {
     "name": "stdout",
     "output_type": "stream",
     "text": [
      "root\n",
      " |-- stars: double (nullable = true)\n",
      " |-- text: string (nullable = true)"
     ]
    }
   ],
   "source": [
    "review = df_new.drop(\"cool\",\"funny\",\"useful\")\n",
    "review.printSchema()"
   ]
  },
  {
   "cell_type": "code",
   "execution_count": 48,
   "id": "02755617-af8d-4c61-813d-09c062b8fec4",
   "metadata": {
    "execution": {
     "iopub.execute_input": "2022-04-08T09:43:29.096880Z",
     "iopub.status.busy": "2022-04-08T09:43:29.096632Z",
     "iopub.status.idle": "2022-04-08T09:43:30.396056Z",
     "shell.execute_reply": "2022-04-08T09:43:30.395307Z",
     "shell.execute_reply.started": "2022-04-08T09:43:29.096845Z"
    },
    "tags": []
   },
   "outputs": [
    {
     "data": {
      "application/vnd.jupyter.widget-view+json": {
       "model_id": "ea52a89ca6df4dafb45f718f92f6c0c8",
       "version_major": 2,
       "version_minor": 0
      },
      "text/plain": [
       "VBox()"
      ]
     },
     "metadata": {},
     "output_type": "display_data"
    },
    {
     "data": {
      "application/vnd.jupyter.widget-view+json": {
       "model_id": "",
       "version_major": 2,
       "version_minor": 0
      },
      "text/plain": [
       "FloatProgress(value=0.0, bar_style='info', description='Progress:', layout=Layout(height='25px', width='50%'),…"
      ]
     },
     "metadata": {},
     "output_type": "display_data"
    },
    {
     "name": "stdout",
     "output_type": "stream",
     "text": [
      "+-----+--------------------+\n",
      "|stars|                text|\n",
      "+-----+--------------------+\n",
      "|  2.0|No serious option...|\n",
      "|  3.0|Went in browsing ...|\n",
      "|  1.0|Every once in a w...|\n",
      "|  1.0|Totally anti clim...|\n",
      "|  2.0|Where do I start ...|\n",
      "|  3.0|The food was pret...|\n",
      "|  1.0|What a joke, I se...|\n",
      "|  1.0|I have debated wr...|\n",
      "|  5.0|I cannot say enou...|\n",
      "|  3.0|I've been here a ...|\n",
      "+-----+--------------------+\n",
      "only showing top 10 rows"
     ]
    }
   ],
   "source": [
    "review.show(10)"
   ]
  },
  {
   "cell_type": "code",
   "execution_count": 50,
   "id": "add2f68a-da55-4888-9eea-89ea3ec8720a",
   "metadata": {
    "execution": {
     "iopub.execute_input": "2022-04-08T10:09:16.469572Z",
     "iopub.status.busy": "2022-04-08T10:09:16.469345Z",
     "iopub.status.idle": "2022-04-08T10:09:27.782744Z",
     "shell.execute_reply": "2022-04-08T10:09:27.782128Z",
     "shell.execute_reply.started": "2022-04-08T10:09:16.469547Z"
    }
   },
   "outputs": [
    {
     "data": {
      "application/vnd.jupyter.widget-view+json": {
       "model_id": "0c639895b9ea45b88cf7fed70f4f8440",
       "version_major": 2,
       "version_minor": 0
      },
      "text/plain": [
       "VBox()"
      ]
     },
     "metadata": {},
     "output_type": "display_data"
    },
    {
     "data": {
      "application/vnd.jupyter.widget-view+json": {
       "model_id": "",
       "version_major": 2,
       "version_minor": 0
      },
      "text/plain": [
       "FloatProgress(value=0.0, bar_style='info', description='Progress:', layout=Layout(height='25px', width='50%'),…"
      ]
     },
     "metadata": {},
     "output_type": "display_data"
    },
    {
     "name": "stdout",
     "output_type": "stream",
     "text": [
      "3547875"
     ]
    }
   ],
   "source": [
    "review.count()"
   ]
  }
 ],
 "metadata": {
  "kernelspec": {
   "display_name": "Python 3",
   "language": "python",
   "name": "python3"
  },
  "language_info": {
   "codemirror_mode": {
    "name": "ipython",
    "version": 3
   },
   "file_extension": ".py",
   "mimetype": "text/x-python",
   "name": "python",
   "nbconvert_exporter": "python",
   "pygments_lexer": "ipython3",
   "version": "3.8.8"
  }
 },
 "nbformat": 4,
 "nbformat_minor": 5
}
