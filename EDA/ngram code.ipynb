{
 "cells": [
  {
   "cell_type": "code",
   "execution_count": 23,
   "id": "ca76e93d-69fb-496c-a872-b831c0659522",
   "metadata": {
    "execution": {
     "iopub.execute_input": "2022-04-06T10:42:06.267947Z",
     "iopub.status.busy": "2022-04-06T10:42:06.267682Z",
     "iopub.status.idle": "2022-04-06T10:42:06.325329Z",
     "shell.execute_reply": "2022-04-06T10:42:06.323974Z",
     "shell.execute_reply.started": "2022-04-06T10:42:06.267897Z"
    },
    "tags": []
   },
   "outputs": [
    {
     "data": {
      "application/vnd.jupyter.widget-view+json": {
       "model_id": "f7eaee4e5a4c4c48b1bca657107aabb2",
       "version_major": 2,
       "version_minor": 0
      },
      "text/plain": [
       "VBox()"
      ]
     },
     "metadata": {},
     "output_type": "display_data"
    },
    {
     "data": {
      "application/vnd.jupyter.widget-view+json": {
       "model_id": "",
       "version_major": 2,
       "version_minor": 0
      },
      "text/plain": [
       "FloatProgress(value=0.0, bar_style='info', description='Progress:', layout=Layout(height='25px', width='50%'),…"
      ]
     },
     "metadata": {},
     "output_type": "display_data"
    }
   ],
   "source": [
    "from pyspark.sql.functions import *\n",
    "from pyspark.sql.functions import udf\n",
    "from pyspark.sql.types import IntegerType\n",
    "\n",
    "from pyspark.ml import Pipeline, PipelineModel\n",
    "from pyspark.ml.feature import * \n",
    "from nltk.corpus import stopwords\n",
    "\n",
    "#import pandas as pd\n",
    "import string \n",
    "import re "
   ]
  },
  {
   "cell_type": "code",
   "execution_count": 2,
   "id": "ab23fc47-137b-4fa4-b7af-bf02b203e156",
   "metadata": {
    "execution": {
     "iopub.execute_input": "2022-04-06T10:13:36.885546Z",
     "iopub.status.busy": "2022-04-06T10:13:36.885316Z",
     "iopub.status.idle": "2022-04-06T10:13:40.216523Z",
     "shell.execute_reply": "2022-04-06T10:13:40.215870Z",
     "shell.execute_reply.started": "2022-04-06T10:13:36.885520Z"
    },
    "tags": []
   },
   "outputs": [
    {
     "data": {
      "application/vnd.jupyter.widget-view+json": {
       "model_id": "c5be7fec745547e08336fd3ea307e5e1",
       "version_major": 2,
       "version_minor": 0
      },
      "text/plain": [
       "VBox()"
      ]
     },
     "metadata": {},
     "output_type": "display_data"
    },
    {
     "data": {
      "application/vnd.jupyter.widget-view+json": {
       "model_id": "",
       "version_major": 2,
       "version_minor": 0
      },
      "text/plain": [
       "FloatProgress(value=0.0, bar_style='info', description='Progress:', layout=Layout(height='25px', width='50%'),…"
      ]
     },
     "metadata": {},
     "output_type": "display_data"
    }
   ],
   "source": [
    "review = spark.read.orc(\"hdfs:///NLP-orc/*.orc\")"
   ]
  },
  {
   "cell_type": "code",
   "execution_count": 7,
   "id": "eff2690b-cdd0-4029-b71a-1cd6f500cf31",
   "metadata": {
    "execution": {
     "iopub.execute_input": "2022-04-06T10:15:40.259545Z",
     "iopub.status.busy": "2022-04-06T10:15:40.259309Z",
     "iopub.status.idle": "2022-04-06T10:15:40.323551Z",
     "shell.execute_reply": "2022-04-06T10:15:40.322997Z",
     "shell.execute_reply.started": "2022-04-06T10:15:40.259511Z"
    },
    "tags": []
   },
   "outputs": [
    {
     "data": {
      "application/vnd.jupyter.widget-view+json": {
       "model_id": "e6b384d882074e31bc2f9d6444bcec12",
       "version_major": 2,
       "version_minor": 0
      },
      "text/plain": [
       "VBox()"
      ]
     },
     "metadata": {},
     "output_type": "display_data"
    },
    {
     "data": {
      "application/vnd.jupyter.widget-view+json": {
       "model_id": "",
       "version_major": 2,
       "version_minor": 0
      },
      "text/plain": [
       "FloatProgress(value=0.0, bar_style='info', description='Progress:', layout=Layout(height='25px', width='50%'),…"
      ]
     },
     "metadata": {},
     "output_type": "display_data"
    }
   ],
   "source": [
    "review = review.drop(\"business_id\",\"date\",\"review_id\",\"user_id\",\"cool\",\"funny\",\"useful\")"
   ]
  },
  {
   "cell_type": "code",
   "execution_count": 8,
   "id": "abc603e7-9143-4565-a6e9-3ebafd2d9f24",
   "metadata": {
    "execution": {
     "iopub.execute_input": "2022-04-06T10:15:41.375379Z",
     "iopub.status.busy": "2022-04-06T10:15:41.375152Z",
     "iopub.status.idle": "2022-04-06T10:15:42.159732Z",
     "shell.execute_reply": "2022-04-06T10:15:42.158970Z",
     "shell.execute_reply.started": "2022-04-06T10:15:41.375354Z"
    },
    "tags": []
   },
   "outputs": [
    {
     "data": {
      "application/vnd.jupyter.widget-view+json": {
       "model_id": "6c9581726379417d8685fe47c3ce0b76",
       "version_major": 2,
       "version_minor": 0
      },
      "text/plain": [
       "VBox()"
      ]
     },
     "metadata": {},
     "output_type": "display_data"
    },
    {
     "data": {
      "application/vnd.jupyter.widget-view+json": {
       "model_id": "",
       "version_major": 2,
       "version_minor": 0
      },
      "text/plain": [
       "FloatProgress(value=0.0, bar_style='info', description='Progress:', layout=Layout(height='25px', width='50%'),…"
      ]
     },
     "metadata": {},
     "output_type": "display_data"
    },
    {
     "name": "stdout",
     "output_type": "stream",
     "text": [
      "+-----+--------------------+\n",
      "|stars|                text|\n",
      "+-----+--------------------+\n",
      "|  4.0|Ever wanted too j...|\n",
      "|  5.0|Dry-aged bone-in ...|\n",
      "|  5.0|I lived in Boston...|\n",
      "|  3.0|Some good things ...|\n",
      "|  4.0|Great place to gr...|\n",
      "|  1.0|It's like the Wal...|\n",
      "|  5.0|The food was incr...|\n",
      "|  5.0|Haven't been so h...|\n",
      "|  5.0|These guys helped...|\n",
      "|  4.0|great service and...|\n",
      "+-----+--------------------+\n",
      "only showing top 10 rows"
     ]
    }
   ],
   "source": [
    "review.show(10)"
   ]
  },
  {
   "cell_type": "code",
   "execution_count": 9,
   "id": "6747e04c-b512-49d8-a685-5608f20a45c7",
   "metadata": {
    "execution": {
     "iopub.execute_input": "2022-04-06T10:15:59.089802Z",
     "iopub.status.busy": "2022-04-06T10:15:59.089572Z",
     "iopub.status.idle": "2022-04-06T10:16:01.410723Z",
     "shell.execute_reply": "2022-04-06T10:16:01.402475Z",
     "shell.execute_reply.started": "2022-04-06T10:15:59.089778Z"
    },
    "tags": []
   },
   "outputs": [
    {
     "data": {
      "application/vnd.jupyter.widget-view+json": {
       "model_id": "efe5dc714154445f980aa491ddd13ac0",
       "version_major": 2,
       "version_minor": 0
      },
      "text/plain": [
       "VBox()"
      ]
     },
     "metadata": {},
     "output_type": "display_data"
    },
    {
     "data": {
      "application/vnd.jupyter.widget-view+json": {
       "model_id": "",
       "version_major": 2,
       "version_minor": 0
      },
      "text/plain": [
       "FloatProgress(value=0.0, bar_style='info', description='Progress:', layout=Layout(height='25px', width='50%'),…"
      ]
     },
     "metadata": {},
     "output_type": "display_data"
    },
    {
     "name": "stdout",
     "output_type": "stream",
     "text": [
      "8635403"
     ]
    }
   ],
   "source": [
    "review.count()"
   ]
  },
  {
   "cell_type": "code",
   "execution_count": 10,
   "id": "2c3ea723-33fd-4433-b10d-642d3e493eb2",
   "metadata": {
    "execution": {
     "iopub.execute_input": "2022-04-06T10:21:59.490732Z",
     "iopub.status.busy": "2022-04-06T10:21:59.490492Z",
     "iopub.status.idle": "2022-04-06T10:21:59.561746Z",
     "shell.execute_reply": "2022-04-06T10:21:59.560920Z",
     "shell.execute_reply.started": "2022-04-06T10:21:59.490706Z"
    },
    "tags": []
   },
   "outputs": [
    {
     "data": {
      "application/vnd.jupyter.widget-view+json": {
       "model_id": "b6d2faeb99db449c9ec2cc547c8af841",
       "version_major": 2,
       "version_minor": 0
      },
      "text/plain": [
       "VBox()"
      ]
     },
     "metadata": {},
     "output_type": "display_data"
    },
    {
     "data": {
      "application/vnd.jupyter.widget-view+json": {
       "model_id": "",
       "version_major": 2,
       "version_minor": 0
      },
      "text/plain": [
       "FloatProgress(value=0.0, bar_style='info', description='Progress:', layout=Layout(height='25px', width='50%'),…"
      ]
     },
     "metadata": {},
     "output_type": "display_data"
    },
    {
     "name": "stdout",
     "output_type": "stream",
     "text": [
      "root\n",
      " |-- stars: double (nullable = true)\n",
      " |-- text: string (nullable = true)"
     ]
    }
   ],
   "source": [
    "review.printSchema()"
   ]
  },
  {
   "cell_type": "markdown",
   "id": "97ae7a1d-7efd-4927-913b-7c2b070d5c40",
   "metadata": {},
   "source": [
    "### Tokenizer"
   ]
  },
  {
   "cell_type": "code",
   "execution_count": 11,
   "id": "eb87627a-66e6-4de9-9909-1ca8647059a2",
   "metadata": {
    "execution": {
     "iopub.execute_input": "2022-04-06T10:22:31.173056Z",
     "iopub.status.busy": "2022-04-06T10:22:31.172777Z",
     "iopub.status.idle": "2022-04-06T10:22:31.449959Z",
     "shell.execute_reply": "2022-04-06T10:22:31.449413Z",
     "shell.execute_reply.started": "2022-04-06T10:22:31.173025Z"
    },
    "tags": []
   },
   "outputs": [
    {
     "data": {
      "application/vnd.jupyter.widget-view+json": {
       "model_id": "b3a08054a11e4d5c8f80b417eeb78cce",
       "version_major": 2,
       "version_minor": 0
      },
      "text/plain": [
       "VBox()"
      ]
     },
     "metadata": {},
     "output_type": "display_data"
    },
    {
     "data": {
      "application/vnd.jupyter.widget-view+json": {
       "model_id": "",
       "version_major": 2,
       "version_minor": 0
      },
      "text/plain": [
       "FloatProgress(value=0.0, bar_style='info', description='Progress:', layout=Layout(height='25px', width='50%'),…"
      ]
     },
     "metadata": {},
     "output_type": "display_data"
    }
   ],
   "source": [
    "rgtoken = RegexTokenizer(inputCol=\"text\",outputCol=\"words\",pattern=\"\\\\W\")\n"
   ]
  },
  {
   "cell_type": "markdown",
   "id": "ec71e838-b695-40f9-ad87-6ba69639beee",
   "metadata": {},
   "source": [
    "### stop word remover"
   ]
  },
  {
   "cell_type": "code",
   "execution_count": 12,
   "id": "d1e9fab3-05dd-45e7-80d5-815ff67fcb17",
   "metadata": {
    "execution": {
     "iopub.execute_input": "2022-04-06T10:22:59.778992Z",
     "iopub.status.busy": "2022-04-06T10:22:59.778629Z",
     "iopub.status.idle": "2022-04-06T10:22:59.864154Z",
     "shell.execute_reply": "2022-04-06T10:22:59.863574Z",
     "shell.execute_reply.started": "2022-04-06T10:22:59.778931Z"
    },
    "tags": []
   },
   "outputs": [
    {
     "data": {
      "application/vnd.jupyter.widget-view+json": {
       "model_id": "58410e57097b4567a6f488586dfb54be",
       "version_major": 2,
       "version_minor": 0
      },
      "text/plain": [
       "VBox()"
      ]
     },
     "metadata": {},
     "output_type": "display_data"
    },
    {
     "data": {
      "application/vnd.jupyter.widget-view+json": {
       "model_id": "",
       "version_major": 2,
       "version_minor": 0
      },
      "text/plain": [
       "FloatProgress(value=0.0, bar_style='info', description='Progress:', layout=Layout(height='25px', width='50%'),…"
      ]
     },
     "metadata": {},
     "output_type": "display_data"
    }
   ],
   "source": [
    "stops = [\"0o\", \"0s\", \"3a\", \"3b\", \"3d\", \"6b\", \"6o\", \"a\", \"a1\", \"a2\", \"a3\", \"a4\", \"ab\", \"able\", \"about\", \"above\", \"abst\", \"ac\", \"accordance\", \"according\", \"accordingly\", \"across\", \"act\", \"actually\", \"ad\", \"added\", \"adj\", \"ae\", \"af\", \"affected\", \"affecting\", \"affects\", \"after\", \"afterwards\", \"ag\", \"again\", \"against\", \"ah\", \"ain\", \"ain't\", \"aj\", \"al\", \"all\", \"allow\", \"allows\", \"almost\", \"alone\", \"along\", \"already\", \"also\", \"although\", \"always\", \"am\", \"among\", \"amongst\", \"amoungst\", \"amount\", \"an\", \"and\", \"announce\", \"another\", \"any\", \"anybody\", \"anyhow\", \"anymore\", \"anyone\", \"anything\", \"anyway\", \"anyways\", \"anywhere\", \"ao\", \"ap\", \"apart\", \"apparently\", \"appear\", \"appreciate\", \"appropriate\", \"approximately\", \"ar\", \"are\", \"aren\", \"arent\", \"aren't\", \"arise\", \"around\", \"as\", \"a's\", \"aside\", \"ask\", \"asking\", \"associated\", \"at\", \"au\", \"auth\", \"av\", \"available\", \"aw\", \"away\", \"awfully\", \"ax\", \"ay\", \"az\", \"b\", \"b1\", \"b2\", \"b3\", \"ba\", \"back\", \"bc\", \"bd\", \"be\", \"became\", \"because\", \"become\", \"becomes\", \"becoming\", \"been\", \"before\", \"beforehand\", \"begin\", \"beginning\", \"beginnings\", \"begins\", \"behind\", \"being\", \"believe\", \"below\", \"beside\", \"besides\", \"best\", \"better\", \"between\", \"beyond\", \"bi\", \"bill\", \"biol\", \"bj\", \"bk\", \"bl\", \"bn\", \"both\", \"bottom\", \"bp\", \"br\", \"brief\", \"briefly\", \"bs\", \"bt\", \"bu\", \"but\", \"bx\", \"by\", \"c\", \"c1\", \"c2\", \"c3\", \"ca\", \"call\", \"came\", \"can\", \"cannot\", \"cant\", \"can't\", \"cause\", \"causes\", \"cc\", \"cd\", \"ce\", \"certain\", \"certainly\", \"cf\", \"cg\", \"ch\", \"changes\", \"ci\", \"cit\", \"cj\", \"cl\", \"clearly\", \"cm\", \"c'mon\", \"cn\", \"co\", \"com\", \"come\", \"comes\", \"con\", \"concerning\", \"consequently\", \"consider\", \"considering\", \"contain\", \"containing\", \"contains\", \"corresponding\", \"could\", \"couldn\", \"couldnt\", \"couldn't\", \"course\", \"cp\", \"cq\", \"cr\", \"cry\", \"cs\", \"c's\", \"ct\", \"cu\", \"currently\", \"cv\", \"cx\", \"cy\", \"cz\", \"d\", \"d2\", \"da\", \"date\", \"dc\", \"dd\", \"de\", \"definitely\", \"describe\", \"described\", \"despite\", \"detail\", \"df\", \"di\", \"did\", \"didn\", \"didn't\", \"different\", \"dj\", \"dk\", \"dl\", \"do\", \"does\", \"doesn\", \"doesn't\", \"doing\", \"don\", \"done\", \"don't\", \"down\", \"downwards\", \"dp\", \"dr\", \"ds\", \"dt\", \"du\", \"due\", \"during\", \"dx\", \"dy\", \"e\", \"e2\", \"e3\", \"ea\", \"each\", \"ec\", \"ed\", \"edu\", \"ee\", \"ef\", \"effect\", \"eg\", \"ei\", \"eight\", \"eighty\", \"either\", \"ej\", \"el\", \"eleven\", \"else\", \"elsewhere\", \"em\", \"empty\", \"en\", \"end\", \"ending\", \"enough\", \"entirely\", \"eo\", \"ep\", \"eq\", \"er\", \"es\", \"especially\", \"est\", \"et\", \"et-al\", \"etc\", \"eu\", \"ev\", \"even\", \"ever\", \"every\", \"everybody\", \"everyone\", \"everything\", \"everywhere\", \"ex\", \"exactly\", \"example\", \"except\", \"ey\", \"f\", \"f2\", \"fa\", \"far\", \"fc\", \"few\", \"ff\", \"fi\", \"fifteen\", \"fifth\", \"fify\", \"fill\", \"find\", \"fire\", \"first\", \"five\", \"fix\", \"fj\", \"fl\", \"fn\", \"fo\", \"followed\", \"following\", \"follows\", \"for\", \"former\", \"formerly\", \"forth\", \"forty\", \"found\", \"four\", \"fr\", \"from\", \"front\", \"fs\", \"ft\", \"fu\", \"full\", \"further\", \"furthermore\", \"fy\", \"g\", \"ga\", \"gave\", \"ge\", \"get\", \"gets\", \"getting\", \"gi\", \"give\", \"given\", \"gives\", \"giving\", \"gj\", \"gl\", \"go\", \"goes\", \"going\", \"gone\", \"got\", \"gotten\", \"gr\", \"greetings\", \"gs\", \"gy\", \"h\", \"h2\", \"h3\", \"had\", \"hadn\", \"hadn't\", \"happens\", \"hardly\", \"has\", \"hasn\", \"hasnt\", \"hasn't\", \"have\", \"haven\", \"haven't\", \"having\", \"he\", \"hed\", \"he'd\", \"he'll\", \"hello\", \"help\", \"hence\", \"her\", \"here\", \"hereafter\", \"hereby\", \"herein\", \"heres\", \"here's\", \"hereupon\", \"hers\", \"herself\", \"hes\", \"he's\", \"hh\", \"hi\", \"hid\", \"him\", \"himself\", \"his\", \"hither\", \"hj\", \"ho\", \"home\", \"hopefully\", \"how\", \"howbeit\", \"however\", \"how's\", \"hr\", \"hs\", \"http\", \"hu\", \"hundred\", \"hy\", \"i\", \"i2\", \"i3\", \"i4\", \"i6\", \"i7\", \"i8\", \"ia\", \"ib\", \"ibid\", \"ic\", \"id\", \"i'd\", \"ie\", \"if\", \"ig\", \"ignored\", \"ih\", \"ii\", \"ij\", \"il\", \"i'll\", \"im\", \"i'm\", \"immediate\", \"immediately\", \"importance\", \"important\", \"in\", \"inasmuch\", \"inc\", \"indeed\", \"index\", \"indicate\", \"indicated\", \"indicates\", \"information\", \"inner\", \"insofar\", \"instead\", \"interest\", \"into\", \"invention\", \"inward\", \"io\", \"ip\", \"iq\", \"ir\", \"is\", \"isn\", \"isn't\", \"it\", \"itd\", \"it'd\", \"it'll\", \"its\", \"it's\", \"itself\", \"iv\", \"i've\", \"ix\", \"iy\", \"iz\", \"j\", \"jj\", \"jr\", \"js\", \"jt\", \"ju\", \"just\", \"k\", \"ke\", \"keep\", \"keeps\", \"kept\", \"kg\", \"kj\", \"km\", \"know\", \"known\", \"knows\", \"ko\", \"l\", \"l2\", \"la\", \"largely\", \"last\", \"lately\", \"later\", \"latter\", \"latterly\", \"lb\", \"lc\", \"le\", \"least\", \"les\", \"less\", \"lest\", \"let\", \"lets\", \"let's\", \"lf\", \"like\", \"liked\", \"likely\", \"line\", \"little\", \"lj\", \"ll\", \"ll\", \"ln\", \"lo\", \"look\", \"looking\", \"looks\", \"los\", \"lr\", \"ls\", \"lt\", \"ltd\", \"m\", \"m2\", \"ma\", \"made\", \"mainly\", \"make\", \"makes\", \"many\", \"may\", \"maybe\", \"me\", \"mean\", \"means\", \"meantime\", \"meanwhile\", \"merely\", \"mg\", \"might\", \"mightn\", \"mightn't\", \"mill\", \"million\", \"mine\", \"miss\", \"ml\", \"mn\", \"mo\", \"more\", \"moreover\", \"most\", \"mostly\", \"move\", \"mr\", \"mrs\", \"ms\", \"mt\", \"mu\", \"much\", \"mug\", \"must\", \"mustn\", \"mustn't\", \"my\", \"myself\", \"n\", \"n2\", \"na\", \"name\", \"namely\", \"nay\", \"nc\", \"nd\", \"ne\", \"near\", \"nearly\", \"necessarily\", \"necessary\", \"need\", \"needn\", \"needn't\", \"needs\", \"neither\", \"never\", \"nevertheless\", \"new\", \"next\", \"ng\", \"ni\", \"nine\", \"ninety\", \"nj\", \"nl\", \"nn\", \"no\", \"nobody\", \"non\", \"none\", \"nonetheless\", \"noone\", \"nor\", \"normally\", \"nos\", \"not\", \"noted\", \"nothing\", \"novel\", \"now\", \"nowhere\", \"nr\", \"ns\", \"nt\", \"ny\", \"o\", \"oa\", \"ob\", \"obtain\", \"obtained\", \"obviously\", \"oc\", \"od\", \"of\", \"off\", \"often\", \"og\", \"oh\", \"oi\", \"oj\", \"ok\", \"okay\", \"ol\", \"old\", \"om\", \"omitted\", \"on\", \"once\", \"one\", \"ones\", \"only\", \"onto\", \"oo\", \"op\", \"oq\", \"or\", \"ord\", \"os\", \"ot\", \"other\", \"others\", \"otherwise\", \"ou\", \"ought\", \"our\", \"ours\", \"ourselves\", \"out\", \"outside\", \"over\", \"overall\", \"ow\", \"owing\", \"own\", \"ox\", \"oz\", \"p\", \"p1\", \"p2\", \"p3\", \"page\", \"pagecount\", \"pages\", \"par\", \"part\", \"particular\", \"particularly\", \"pas\", \"past\", \"pc\", \"pd\", \"pe\", \"per\", \"perhaps\", \"pf\", \"ph\", \"pi\", \"pj\", \"pk\", \"pl\", \"placed\", \"please\", \"plus\", \"pm\", \"pn\", \"po\", \"poorly\", \"possible\", \"possibly\", \"potentially\", \"pp\", \"pq\", \"pr\", \"predominantly\", \"present\", \"presumably\", \"previously\", \"primarily\", \"probably\", \"promptly\", \"proud\", \"provides\", \"ps\", \"pt\", \"pu\", \"put\", \"py\", \"q\", \"qj\", \"qu\", \"que\", \"quickly\", \"quite\", \"qv\", \"r\", \"r2\", \"ra\", \"ran\", \"rather\", \"rc\", \"rd\", \"re\", \"readily\", \"really\", \"reasonably\", \"recent\", \"recently\", \"ref\", \"refs\", \"regarding\", \"regardless\", \"regards\", \"related\", \"relatively\", \"research\", \"research-articl\", \"respectively\", \"resulted\", \"resulting\", \"results\", \"rf\", \"rh\", \"ri\", \"right\", \"rj\", \"rl\", \"rm\", \"rn\", \"ro\", \"rq\", \"rr\", \"rs\", \"rt\", \"ru\", \"run\", \"rv\", \"ry\", \"s\", \"s2\", \"sa\", \"said\", \"same\", \"saw\", \"say\", \"saying\", \"says\", \"sc\", \"sd\", \"se\", \"sec\", \"second\", \"secondly\", \"section\", \"see\", \"seeing\", \"seem\", \"seemed\", \"seeming\", \"seems\", \"seen\", \"self\", \"selves\", \"sensible\", \"sent\", \"serious\", \"seriously\", \"seven\", \"several\", \"sf\", \"shall\", \"shan\", \"shan't\", \"she\", \"shed\", \"she'd\", \"she'll\", \"shes\", \"she's\", \"should\", \"shouldn\", \"shouldn't\", \"should've\", \"show\", \"showed\", \"shown\", \"showns\", \"shows\", \"si\", \"side\", \"significant\", \"significantly\", \"similar\", \"similarly\", \"since\", \"sincere\", \"six\", \"sixty\", \"sj\", \"sl\", \"slightly\", \"sm\", \"sn\", \"so\", \"some\", \"somebody\", \"somehow\", \"someone\", \"somethan\", \"something\", \"sometime\", \"sometimes\", \"somewhat\", \"somewhere\", \"soon\", \"sorry\", \"sp\", \"specifically\", \"specified\", \"specify\", \"specifying\", \"sq\", \"sr\", \"ss\", \"st\", \"still\", \"stop\", \"strongly\", \"sub\", \"substantially\", \"successfully\", \"such\", \"sufficiently\", \"suggest\", \"sup\", \"sure\", \"sy\", \"system\", \"sz\", \"t\", \"t1\", \"t2\", \"t3\", \"take\", \"taken\", \"taking\", \"tb\", \"tc\", \"td\", \"te\", \"tell\", \"ten\", \"tends\", \"tf\", \"th\", \"than\", \"thank\", \"thanks\", \"thanx\", \"that\", \"that'll\", \"thats\", \"that's\", \"that've\", \"the\", \"their\", \"theirs\", \"them\", \"themselves\", \"then\", \"thence\", \"there\", \"thereafter\", \"thereby\", \"thered\", \"therefore\", \"therein\", \"there'll\", \"thereof\", \"therere\", \"theres\", \"there's\", \"thereto\", \"thereupon\", \"there've\", \"these\", \"they\", \"theyd\", \"they'd\", \"they'll\", \"theyre\", \"they're\", \"they've\", \"thickv\", \"thin\", \"think\", \"third\", \"this\", \"thorough\", \"thoroughly\", \"those\", \"thou\", \"though\", \"thoughh\", \"thousand\", \"three\", \"throug\", \"through\", \"throughout\", \"thru\", \"thus\", \"ti\", \"til\", \"tip\", \"tj\", \"tl\", \"tm\", \"tn\", \"to\", \"together\", \"too\", \"took\", \"top\", \"toward\", \"towards\", \"tp\", \"tq\", \"tr\", \"tried\", \"tries\", \"truly\", \"try\", \"trying\", \"ts\", \"t's\", \"tt\", \"tv\", \"twelve\", \"twenty\", \"twice\", \"two\", \"tx\", \"u\", \"u201d\", \"ue\", \"ui\", \"uj\", \"uk\", \"um\", \"un\", \"under\", \"unfortunately\", \"unless\", \"unlike\", \"unlikely\", \"until\", \"unto\", \"uo\", \"up\", \"upon\", \"ups\", \"ur\", \"us\", \"use\", \"used\", \"useful\", \"usefully\", \"usefulness\", \"uses\", \"using\", \"usually\", \"ut\", \"v\", \"va\", \"value\", \"various\", \"vd\", \"ve\", \"ve\", \"very\", \"via\", \"viz\", \"vj\", \"vo\", \"vol\", \"vols\", \"volumtype\", \"vq\", \"vs\", \"vt\", \"vu\", \"w\", \"wa\", \"want\", \"wants\", \"was\", \"wasn\", \"wasnt\", \"wasn't\", \"way\", \"we\", \"wed\", \"we'd\", \"welcome\", \"well\", \"we'll\", \"well-b\", \"went\", \"were\", \"we're\", \"weren\", \"werent\", \"weren't\", \"we've\", \"what\", \"whatever\", \"what'll\", \"whats\", \"what's\", \"when\", \"whence\", \"whenever\", \"when's\", \"where\", \"whereafter\", \"whereas\", \"whereby\", \"wherein\", \"wheres\", \"where's\", \"whereupon\", \"wherever\", \"whether\", \"which\", \"while\", \"whim\", \"whither\", \"who\", \"whod\", \"whoever\", \"whole\", \"who'll\", \"whom\", \"whomever\", \"whos\", \"who's\", \"whose\", \"why\", \"why's\", \"wi\", \"widely\", \"will\", \"willing\", \"wish\", \"with\", \"within\", \"without\", \"wo\", \"won\", \"wonder\", \"wont\", \"won't\", \"words\", \"world\", \"would\", \"wouldn\", \"wouldnt\", \"wouldn't\", \"www\", \"x\", \"x1\", \"x2\", \"x3\", \"xf\", \"xi\", \"xj\", \"xk\", \"xl\", \"xn\", \"xo\", \"xs\", \"xt\", \"xv\", \"xx\", \"y\", \"y2\", \"yes\", \"yet\", \"yj\", \"yl\", \"you\", \"youd\", \"you'd\", \"you'll\", \"your\", \"youre\", \"you're\", \"yours\", \"yourself\", \"yourselves\", \"you've\", \"yr\", \"ys\", \"yt\", \"z\", \"zero\", \"zi\", \"zz\"]"
   ]
  },
  {
   "cell_type": "code",
   "execution_count": 13,
   "id": "f232f404-962d-410f-ad00-0474fefa38aa",
   "metadata": {
    "execution": {
     "iopub.execute_input": "2022-04-06T10:23:02.142439Z",
     "iopub.status.busy": "2022-04-06T10:23:02.142159Z",
     "iopub.status.idle": "2022-04-06T10:23:02.410058Z",
     "shell.execute_reply": "2022-04-06T10:23:02.409296Z",
     "shell.execute_reply.started": "2022-04-06T10:23:02.142413Z"
    },
    "tags": []
   },
   "outputs": [
    {
     "data": {
      "application/vnd.jupyter.widget-view+json": {
       "model_id": "4d17f4460af443f79e16c0a4db698f81",
       "version_major": 2,
       "version_minor": 0
      },
      "text/plain": [
       "VBox()"
      ]
     },
     "metadata": {},
     "output_type": "display_data"
    },
    {
     "data": {
      "application/vnd.jupyter.widget-view+json": {
       "model_id": "",
       "version_major": 2,
       "version_minor": 0
      },
      "text/plain": [
       "FloatProgress(value=0.0, bar_style='info', description='Progress:', layout=Layout(height='25px', width='50%'),…"
      ]
     },
     "metadata": {},
     "output_type": "display_data"
    }
   ],
   "source": [
    "stopword_remover = StopWordsRemover(inputCol=\"words\", outputCol=\"filtered\")\\\n",
    "                    .setStopWords(stops)\n"
   ]
  },
  {
   "cell_type": "markdown",
   "id": "7884c0d8-26dc-4dbe-8a1f-f4be6a07fe40",
   "metadata": {},
   "source": [
    "### Ngram"
   ]
  },
  {
   "cell_type": "code",
   "execution_count": 14,
   "id": "b8e6cc46-46b2-44f3-84e8-c5456a5ff0c7",
   "metadata": {
    "execution": {
     "iopub.execute_input": "2022-04-06T10:23:11.802470Z",
     "iopub.status.busy": "2022-04-06T10:23:11.802243Z",
     "iopub.status.idle": "2022-04-06T10:23:11.864846Z",
     "shell.execute_reply": "2022-04-06T10:23:11.864251Z",
     "shell.execute_reply.started": "2022-04-06T10:23:11.802446Z"
    },
    "tags": []
   },
   "outputs": [
    {
     "data": {
      "application/vnd.jupyter.widget-view+json": {
       "model_id": "93de3e696ada4a60a24dc90c23cde1b8",
       "version_major": 2,
       "version_minor": 0
      },
      "text/plain": [
       "VBox()"
      ]
     },
     "metadata": {},
     "output_type": "display_data"
    },
    {
     "data": {
      "application/vnd.jupyter.widget-view+json": {
       "model_id": "",
       "version_major": 2,
       "version_minor": 0
      },
      "text/plain": [
       "FloatProgress(value=0.0, bar_style='info', description='Progress:', layout=Layout(height='25px', width='50%'),…"
      ]
     },
     "metadata": {},
     "output_type": "display_data"
    }
   ],
   "source": [
    "Unigram = NGram(n=1, inputCol=\"filtered\", outputCol=\"UniGrams\")"
   ]
  },
  {
   "cell_type": "code",
   "execution_count": 15,
   "id": "21f878bf-e80c-48c1-9a43-6a09d39a224d",
   "metadata": {
    "execution": {
     "iopub.execute_input": "2022-04-06T10:23:14.142875Z",
     "iopub.status.busy": "2022-04-06T10:23:14.142556Z",
     "iopub.status.idle": "2022-04-06T10:23:14.214804Z",
     "shell.execute_reply": "2022-04-06T10:23:14.214259Z",
     "shell.execute_reply.started": "2022-04-06T10:23:14.142838Z"
    }
   },
   "outputs": [
    {
     "data": {
      "application/vnd.jupyter.widget-view+json": {
       "model_id": "8b088ae6fa45418ab4183291740f3e06",
       "version_major": 2,
       "version_minor": 0
      },
      "text/plain": [
       "VBox()"
      ]
     },
     "metadata": {},
     "output_type": "display_data"
    },
    {
     "data": {
      "application/vnd.jupyter.widget-view+json": {
       "model_id": "",
       "version_major": 2,
       "version_minor": 0
      },
      "text/plain": [
       "FloatProgress(value=0.0, bar_style='info', description='Progress:', layout=Layout(height='25px', width='50%'),…"
      ]
     },
     "metadata": {},
     "output_type": "display_data"
    }
   ],
   "source": [
    "Bigram = NGram(n=2, inputCol=\"filtered\", outputCol=\"BiGrams\")"
   ]
  },
  {
   "cell_type": "code",
   "execution_count": 17,
   "id": "0d8ebab8-57c9-4ad9-aa98-b7fcb7c28dd5",
   "metadata": {
    "execution": {
     "iopub.execute_input": "2022-04-06T10:23:20.984747Z",
     "iopub.status.busy": "2022-04-06T10:23:20.984398Z",
     "iopub.status.idle": "2022-04-06T10:23:21.072182Z",
     "shell.execute_reply": "2022-04-06T10:23:21.071350Z",
     "shell.execute_reply.started": "2022-04-06T10:23:20.984704Z"
    },
    "tags": []
   },
   "outputs": [
    {
     "data": {
      "application/vnd.jupyter.widget-view+json": {
       "model_id": "3e975cf0afd746839866945dd757bafa",
       "version_major": 2,
       "version_minor": 0
      },
      "text/plain": [
       "VBox()"
      ]
     },
     "metadata": {},
     "output_type": "display_data"
    },
    {
     "data": {
      "application/vnd.jupyter.widget-view+json": {
       "model_id": "",
       "version_major": 2,
       "version_minor": 0
      },
      "text/plain": [
       "FloatProgress(value=0.0, bar_style='info', description='Progress:', layout=Layout(height='25px', width='50%'),…"
      ]
     },
     "metadata": {},
     "output_type": "display_data"
    }
   ],
   "source": [
    "Trigram = NGram(n=3, inputCol=\"filtered\", outputCol=\"TriGrams\")"
   ]
  },
  {
   "cell_type": "markdown",
   "id": "3bd0b090-ae56-4d84-b925-80ad5528b637",
   "metadata": {},
   "source": [
    "### Pipeline"
   ]
  },
  {
   "cell_type": "code",
   "execution_count": 18,
   "id": "35d195a7-3f82-449c-8050-023850fe44f7",
   "metadata": {
    "execution": {
     "iopub.execute_input": "2022-04-06T10:24:37.605480Z",
     "iopub.status.busy": "2022-04-06T10:24:37.605249Z",
     "iopub.status.idle": "2022-04-06T10:24:37.671446Z",
     "shell.execute_reply": "2022-04-06T10:24:37.670905Z",
     "shell.execute_reply.started": "2022-04-06T10:24:37.605455Z"
    },
    "tags": []
   },
   "outputs": [
    {
     "data": {
      "application/vnd.jupyter.widget-view+json": {
       "model_id": "1ab45dd08bdf400698ab4494aadce1ea",
       "version_major": 2,
       "version_minor": 0
      },
      "text/plain": [
       "VBox()"
      ]
     },
     "metadata": {},
     "output_type": "display_data"
    },
    {
     "data": {
      "application/vnd.jupyter.widget-view+json": {
       "model_id": "",
       "version_major": 2,
       "version_minor": 0
      },
      "text/plain": [
       "FloatProgress(value=0.0, bar_style='info', description='Progress:', layout=Layout(height='25px', width='50%'),…"
      ]
     },
     "metadata": {},
     "output_type": "display_data"
    }
   ],
   "source": [
    "nlp_pipeline = Pipeline(stages=[rgtoken, stopword_remover,Unigram,Bigram,Trigram])\n",
    "light_pipeline = nlp_pipeline.fit(review)"
   ]
  },
  {
   "cell_type": "code",
   "execution_count": 19,
   "id": "62be63fa-467a-4a1c-ab41-89343d6c43e6",
   "metadata": {
    "execution": {
     "iopub.execute_input": "2022-04-06T10:24:48.814669Z",
     "iopub.status.busy": "2022-04-06T10:24:48.814438Z",
     "iopub.status.idle": "2022-04-06T10:24:49.629381Z",
     "shell.execute_reply": "2022-04-06T10:24:49.628761Z",
     "shell.execute_reply.started": "2022-04-06T10:24:48.814642Z"
    },
    "tags": []
   },
   "outputs": [
    {
     "data": {
      "application/vnd.jupyter.widget-view+json": {
       "model_id": "d1f898c5d72a49538631aa079d97fc81",
       "version_major": 2,
       "version_minor": 0
      },
      "text/plain": [
       "VBox()"
      ]
     },
     "metadata": {},
     "output_type": "display_data"
    },
    {
     "data": {
      "application/vnd.jupyter.widget-view+json": {
       "model_id": "",
       "version_major": 2,
       "version_minor": 0
      },
      "text/plain": [
       "FloatProgress(value=0.0, bar_style='info', description='Progress:', layout=Layout(height='25px', width='50%'),…"
      ]
     },
     "metadata": {},
     "output_type": "display_data"
    }
   ],
   "source": [
    "result = light_pipeline.transform(review)"
   ]
  },
  {
   "cell_type": "code",
   "execution_count": 20,
   "id": "8e787918-911c-407c-bc4b-cf2db80f6004",
   "metadata": {
    "execution": {
     "iopub.execute_input": "2022-04-06T10:24:58.806671Z",
     "iopub.status.busy": "2022-04-06T10:24:58.806435Z",
     "iopub.status.idle": "2022-04-06T10:24:58.873583Z",
     "shell.execute_reply": "2022-04-06T10:24:58.873009Z",
     "shell.execute_reply.started": "2022-04-06T10:24:58.806646Z"
    },
    "tags": []
   },
   "outputs": [
    {
     "data": {
      "application/vnd.jupyter.widget-view+json": {
       "model_id": "13a5fc61a4234a02a4f93b838ed925d2",
       "version_major": 2,
       "version_minor": 0
      },
      "text/plain": [
       "VBox()"
      ]
     },
     "metadata": {},
     "output_type": "display_data"
    },
    {
     "data": {
      "application/vnd.jupyter.widget-view+json": {
       "model_id": "",
       "version_major": 2,
       "version_minor": 0
      },
      "text/plain": [
       "FloatProgress(value=0.0, bar_style='info', description='Progress:', layout=Layout(height='25px', width='50%'),…"
      ]
     },
     "metadata": {},
     "output_type": "display_data"
    },
    {
     "name": "stdout",
     "output_type": "stream",
     "text": [
      "root\n",
      " |-- stars: double (nullable = true)\n",
      " |-- text: string (nullable = true)\n",
      " |-- words: array (nullable = true)\n",
      " |    |-- element: string (containsNull = true)\n",
      " |-- filtered: array (nullable = true)\n",
      " |    |-- element: string (containsNull = true)\n",
      " |-- UniGrams: array (nullable = true)\n",
      " |    |-- element: string (containsNull = false)\n",
      " |-- BiGrams: array (nullable = true)\n",
      " |    |-- element: string (containsNull = false)\n",
      " |-- TriGrams: array (nullable = true)\n",
      " |    |-- element: string (containsNull = false)"
     ]
    }
   ],
   "source": [
    "result.printSchema()"
   ]
  },
  {
   "cell_type": "code",
   "execution_count": 21,
   "id": "5372abc0-3682-4933-b4a2-ddb7190c57b4",
   "metadata": {
    "execution": {
     "iopub.execute_input": "2022-04-06T10:25:06.129157Z",
     "iopub.status.busy": "2022-04-06T10:25:06.128921Z",
     "iopub.status.idle": "2022-04-06T10:25:13.448154Z",
     "shell.execute_reply": "2022-04-06T10:25:13.447420Z",
     "shell.execute_reply.started": "2022-04-06T10:25:06.129132Z"
    },
    "tags": []
   },
   "outputs": [
    {
     "data": {
      "application/vnd.jupyter.widget-view+json": {
       "model_id": "9712ec295210442cb5605fd6a5bb2685",
       "version_major": 2,
       "version_minor": 0
      },
      "text/plain": [
       "VBox()"
      ]
     },
     "metadata": {},
     "output_type": "display_data"
    },
    {
     "data": {
      "application/vnd.jupyter.widget-view+json": {
       "model_id": "",
       "version_major": 2,
       "version_minor": 0
      },
      "text/plain": [
       "FloatProgress(value=0.0, bar_style='info', description='Progress:', layout=Layout(height='25px', width='50%'),…"
      ]
     },
     "metadata": {},
     "output_type": "display_data"
    },
    {
     "name": "stdout",
     "output_type": "stream",
     "text": [
      "+-----+--------------------+--------------------+--------------------+--------------------+--------------------+--------------------+\n",
      "|stars|                text|               words|            filtered|            UniGrams|             BiGrams|            TriGrams|\n",
      "+-----+--------------------+--------------------+--------------------+--------------------+--------------------+--------------------+\n",
      "|  4.0|Ever wanted too j...|[ever, wanted, to...|[wanted, bite, fu...|[wanted, bite, fu...|[wanted bite, bit...|[wanted bite full...|\n",
      "|  5.0|Dry-aged bone-in ...|[dry, aged, bone,...|[dry, aged, bone,...|[dry, aged, bone,...|[dry aged, aged b...|[dry aged bone, a...|\n",
      "|  5.0|I lived in Boston...|[i, lived, in, bo...|[lived, boston, y...|[lived, boston, y...|[lived boston, bo...|[lived boston yea...|\n",
      "|  3.0|Some good things ...|[some, good, thin...|[good, things, al...|[good, things, al...|[good things, thi...|[good things alib...|\n",
      "|  4.0|Great place to gr...|[great, place, to...|[great, place, gr...|[great, place, gr...|[great place, pla...|[great place grab...|\n",
      "|  1.0|It's like the Wal...|[it, s, like, the...|[walmart, sports,...|[walmart, sports,...|[walmart sports, ...|[walmart sports m...|\n",
      "|  5.0|The food was incr...|[the, food, was, ...|[food, incredible...|[food, incredible...|[food incredible,...|[food incredible ...|\n",
      "|  5.0|Haven't been so h...|[haven, t, been, ...|[happy, restauran...|[happy, restauran...|[happy restaurant...|[happy restaurant...|\n",
      "|  5.0|These guys helped...|[these, guys, hel...|[guys, helped, ya...|[guys, helped, ya...|[guys helped, hel...|[guys helped yaki...|\n",
      "|  4.0|great service and...|[great, service, ...|[great, service, ...|[great, service, ...|[great service, s...|[great service wo...|\n",
      "+-----+--------------------+--------------------+--------------------+--------------------+--------------------+--------------------+\n",
      "only showing top 10 rows"
     ]
    }
   ],
   "source": [
    "result.show(10)"
   ]
  },
  {
   "cell_type": "code",
   "execution_count": 22,
   "id": "73c596a1-77d2-4a60-a12e-45247e47eb68",
   "metadata": {
    "execution": {
     "iopub.execute_input": "2022-04-06T10:35:17.874272Z",
     "iopub.status.busy": "2022-04-06T10:35:17.874045Z",
     "iopub.status.idle": "2022-04-06T10:35:29.209653Z",
     "shell.execute_reply": "2022-04-06T10:35:29.208927Z",
     "shell.execute_reply.started": "2022-04-06T10:35:17.874248Z"
    },
    "tags": []
   },
   "outputs": [
    {
     "data": {
      "application/vnd.jupyter.widget-view+json": {
       "model_id": "3da5a7b3116c4d16b8aca388f108ad99",
       "version_major": 2,
       "version_minor": 0
      },
      "text/plain": [
       "VBox()"
      ]
     },
     "metadata": {},
     "output_type": "display_data"
    },
    {
     "data": {
      "application/vnd.jupyter.widget-view+json": {
       "model_id": "",
       "version_major": 2,
       "version_minor": 0
      },
      "text/plain": [
       "FloatProgress(value=0.0, bar_style='info', description='Progress:', layout=Layout(height='25px', width='50%'),…"
      ]
     },
     "metadata": {},
     "output_type": "display_data"
    }
   ],
   "source": [
    "light_pipeline.save(\"s3://ashprojfinal/Ngram_pipeline/\")"
   ]
  },
  {
   "cell_type": "code",
   "execution_count": 24,
   "id": "85165690-f903-4147-8a43-228f9cfdda75",
   "metadata": {
    "execution": {
     "iopub.execute_input": "2022-04-06T10:42:26.665040Z",
     "iopub.status.busy": "2022-04-06T10:42:26.664813Z",
     "iopub.status.idle": "2022-04-06T10:42:37.986514Z",
     "shell.execute_reply": "2022-04-06T10:42:37.985854Z",
     "shell.execute_reply.started": "2022-04-06T10:42:26.665016Z"
    }
   },
   "outputs": [
    {
     "data": {
      "application/vnd.jupyter.widget-view+json": {
       "model_id": "ddaaad0eba2847f0acc1b2e3fc5074f7",
       "version_major": 2,
       "version_minor": 0
      },
      "text/plain": [
       "VBox()"
      ]
     },
     "metadata": {},
     "output_type": "display_data"
    },
    {
     "data": {
      "application/vnd.jupyter.widget-view+json": {
       "model_id": "",
       "version_major": 2,
       "version_minor": 0
      },
      "text/plain": [
       "FloatProgress(value=0.0, bar_style='info', description='Progress:', layout=Layout(height='25px', width='50%'),…"
      ]
     },
     "metadata": {},
     "output_type": "display_data"
    }
   ],
   "source": [
    "Ngram_pipe = PipelineModel.load(\"hdfs:///Ngram_pipe/\")"
   ]
  },
  {
   "cell_type": "code",
   "execution_count": 25,
   "id": "769204b3-d010-456d-b902-7dbad8341947",
   "metadata": {
    "execution": {
     "iopub.execute_input": "2022-04-06T10:43:30.356768Z",
     "iopub.status.busy": "2022-04-06T10:43:30.356531Z",
     "iopub.status.idle": "2022-04-06T10:43:30.633462Z",
     "shell.execute_reply": "2022-04-06T10:43:30.632620Z",
     "shell.execute_reply.started": "2022-04-06T10:43:30.356743Z"
    }
   },
   "outputs": [
    {
     "data": {
      "application/vnd.jupyter.widget-view+json": {
       "model_id": "c239b1f01a36468e985436347c434180",
       "version_major": 2,
       "version_minor": 0
      },
      "text/plain": [
       "VBox()"
      ]
     },
     "metadata": {},
     "output_type": "display_data"
    },
    {
     "data": {
      "application/vnd.jupyter.widget-view+json": {
       "model_id": "",
       "version_major": 2,
       "version_minor": 0
      },
      "text/plain": [
       "FloatProgress(value=0.0, bar_style='info', description='Progress:', layout=Layout(height='25px', width='50%'),…"
      ]
     },
     "metadata": {},
     "output_type": "display_data"
    }
   ],
   "source": [
    "Ngram_pipe_test = Ngram_pipe.transform(review)"
   ]
  },
  {
   "cell_type": "code",
   "execution_count": 26,
   "id": "9e639915-a19c-4f9e-b38e-a96651a62290",
   "metadata": {
    "execution": {
     "iopub.execute_input": "2022-04-06T10:44:16.355378Z",
     "iopub.status.busy": "2022-04-06T10:44:16.355150Z",
     "iopub.status.idle": "2022-04-06T10:44:23.686166Z",
     "shell.execute_reply": "2022-04-06T10:44:23.685409Z",
     "shell.execute_reply.started": "2022-04-06T10:44:16.355354Z"
    }
   },
   "outputs": [
    {
     "data": {
      "application/vnd.jupyter.widget-view+json": {
       "model_id": "f9ebb14ec2e24bd1aeec52f5d4bef5cd",
       "version_major": 2,
       "version_minor": 0
      },
      "text/plain": [
       "VBox()"
      ]
     },
     "metadata": {},
     "output_type": "display_data"
    },
    {
     "data": {
      "application/vnd.jupyter.widget-view+json": {
       "model_id": "",
       "version_major": 2,
       "version_minor": 0
      },
      "text/plain": [
       "FloatProgress(value=0.0, bar_style='info', description='Progress:', layout=Layout(height='25px', width='50%'),…"
      ]
     },
     "metadata": {},
     "output_type": "display_data"
    },
    {
     "name": "stdout",
     "output_type": "stream",
     "text": [
      "+-----+--------------------+--------------------+--------------------+--------------------+--------------------+--------------------+\n",
      "|stars|                text|               words|            filtered|            UniGrams|             BiGrams|            TriGrams|\n",
      "+-----+--------------------+--------------------+--------------------+--------------------+--------------------+--------------------+\n",
      "|  4.0|Ever wanted too j...|[ever, wanted, to...|[wanted, bite, fu...|[wanted, bite, fu...|[wanted bite, bit...|[wanted bite full...|\n",
      "|  5.0|Dry-aged bone-in ...|[dry, aged, bone,...|[dry, aged, bone,...|[dry, aged, bone,...|[dry aged, aged b...|[dry aged bone, a...|\n",
      "|  5.0|I lived in Boston...|[i, lived, in, bo...|[lived, boston, y...|[lived, boston, y...|[lived boston, bo...|[lived boston yea...|\n",
      "|  3.0|Some good things ...|[some, good, thin...|[good, things, al...|[good, things, al...|[good things, thi...|[good things alib...|\n",
      "|  4.0|Great place to gr...|[great, place, to...|[great, place, gr...|[great, place, gr...|[great place, pla...|[great place grab...|\n",
      "|  1.0|It's like the Wal...|[it, s, like, the...|[walmart, sports,...|[walmart, sports,...|[walmart sports, ...|[walmart sports m...|\n",
      "|  5.0|The food was incr...|[the, food, was, ...|[food, incredible...|[food, incredible...|[food incredible,...|[food incredible ...|\n",
      "|  5.0|Haven't been so h...|[haven, t, been, ...|[happy, restauran...|[happy, restauran...|[happy restaurant...|[happy restaurant...|\n",
      "|  5.0|These guys helped...|[these, guys, hel...|[guys, helped, ya...|[guys, helped, ya...|[guys helped, hel...|[guys helped yaki...|\n",
      "|  4.0|great service and...|[great, service, ...|[great, service, ...|[great, service, ...|[great service, s...|[great service wo...|\n",
      "+-----+--------------------+--------------------+--------------------+--------------------+--------------------+--------------------+\n",
      "only showing top 10 rows"
     ]
    }
   ],
   "source": [
    "Ngram_pipe_test.show(10)"
   ]
  },
  {
   "cell_type": "markdown",
   "id": "3de818d4-3430-44a4-ab83-76bc986b86b9",
   "metadata": {},
   "source": [
    "### Unique Ngram Count"
   ]
  },
  {
   "cell_type": "code",
   "execution_count": 28,
   "id": "c6d96db9-2298-4513-b481-6385047107f7",
   "metadata": {
    "execution": {
     "iopub.execute_input": "2022-04-06T10:49:56.757952Z",
     "iopub.status.busy": "2022-04-06T10:49:56.757724Z",
     "iopub.status.idle": "2022-04-06T10:54:00.798918Z",
     "shell.execute_reply": "2022-04-06T10:54:00.798206Z",
     "shell.execute_reply.started": "2022-04-06T10:49:56.757928Z"
    },
    "tags": []
   },
   "outputs": [
    {
     "data": {
      "application/vnd.jupyter.widget-view+json": {
       "model_id": "844bd4647cda4e9ea7169dfdcd9faeac",
       "version_major": 2,
       "version_minor": 0
      },
      "text/plain": [
       "VBox()"
      ]
     },
     "metadata": {},
     "output_type": "display_data"
    },
    {
     "data": {
      "application/vnd.jupyter.widget-view+json": {
       "model_id": "",
       "version_major": 2,
       "version_minor": 0
      },
      "text/plain": [
       "FloatProgress(value=0.0, bar_style='info', description='Progress:', layout=Layout(height='25px', width='50%'),…"
      ]
     },
     "metadata": {},
     "output_type": "display_data"
    },
    {
     "name": "stdout",
     "output_type": "stream",
     "text": [
      "+--------------------+-----+\n",
      "|              bigram|count|\n",
      "+--------------------+-----+\n",
      "|     rolled assembly|    9|\n",
      "|denied responsibi...|  134|\n",
      "|       person eating|  682|\n",
      "|       place crumbed|    1|\n",
      "|           price pam|    6|\n",
      "|scuffles overwhel...|    1|\n",
      "|      checking ended|   34|\n",
      "|       hand prepared|  114|\n",
      "|        street house| 1512|\n",
      "|          grown read|    6|\n",
      "+--------------------+-----+\n",
      "only showing top 10 rows"
     ]
    }
   ],
   "source": [
    "unique_bigram = result.select(explode(\"BiGrams\").alias(\"bigram\")).groupBy(\"bigram\").count()\n",
    "unique_bigram.show(10)"
   ]
  },
  {
   "cell_type": "code",
   "execution_count": 33,
   "id": "77cb72e6-5d64-4186-9d0a-55b6e89fac3c",
   "metadata": {
    "execution": {
     "iopub.execute_input": "2022-04-06T11:04:40.723760Z",
     "iopub.status.busy": "2022-04-06T11:04:40.723510Z",
     "iopub.status.idle": "2022-04-06T11:08:36.688600Z",
     "shell.execute_reply": "2022-04-06T11:08:36.687978Z",
     "shell.execute_reply.started": "2022-04-06T11:04:40.723735Z"
    },
    "tags": []
   },
   "outputs": [
    {
     "data": {
      "application/vnd.jupyter.widget-view+json": {
       "model_id": "c8acd0fef20c42e684694b5678160db7",
       "version_major": 2,
       "version_minor": 0
      },
      "text/plain": [
       "VBox()"
      ]
     },
     "metadata": {},
     "output_type": "display_data"
    },
    {
     "data": {
      "application/vnd.jupyter.widget-view+json": {
       "model_id": "",
       "version_major": 2,
       "version_minor": 0
      },
      "text/plain": [
       "FloatProgress(value=0.0, bar_style='info', description='Progress:', layout=Layout(height='25px', width='50%'),…"
      ]
     },
     "metadata": {},
     "output_type": "display_data"
    },
    {
     "name": "stdout",
     "output_type": "stream",
     "text": [
      "49588282"
     ]
    }
   ],
   "source": [
    "unique_bigram.count()"
   ]
  },
  {
   "cell_type": "code",
   "execution_count": 32,
   "id": "791e24e8-1e97-4d0d-8c87-12c17f09f113",
   "metadata": {
    "execution": {
     "iopub.execute_input": "2022-04-06T10:57:00.584994Z",
     "iopub.status.busy": "2022-04-06T10:57:00.584766Z",
     "iopub.status.idle": "2022-04-06T11:01:16.631402Z",
     "shell.execute_reply": "2022-04-06T11:01:16.630730Z",
     "shell.execute_reply.started": "2022-04-06T10:57:00.584970Z"
    },
    "tags": []
   },
   "outputs": [
    {
     "data": {
      "application/vnd.jupyter.widget-view+json": {
       "model_id": "a9a5da724f2643ab8c5a006cc406d4f9",
       "version_major": 2,
       "version_minor": 0
      },
      "text/plain": [
       "VBox()"
      ]
     },
     "metadata": {},
     "output_type": "display_data"
    },
    {
     "data": {
      "application/vnd.jupyter.widget-view+json": {
       "model_id": "",
       "version_major": 2,
       "version_minor": 0
      },
      "text/plain": [
       "FloatProgress(value=0.0, bar_style='info', description='Progress:', layout=Layout(height='25px', width='50%'),…"
      ]
     },
     "metadata": {},
     "output_type": "display_data"
    },
    {
     "name": "stdout",
     "output_type": "stream",
     "text": [
      "+----------------+------+\n",
      "|          bigram| count|\n",
      "+----------------+------+\n",
      "|customer service|420058|\n",
      "|highly recommend|327591|\n",
      "|       food good|271209|\n",
      "|     pretty good|226034|\n",
      "|       ice cream|225064|\n",
      "|     great place|200225|\n",
      "|  staff friendly|186075|\n",
      "|   great service|183457|\n",
      "|      love place|179069|\n",
      "|      great food|177961|\n",
      "+----------------+------+\n",
      "only showing top 10 rows"
     ]
    }
   ],
   "source": [
    "#df.sort(df.age.desc())\n",
    "unique_bigram.orderBy(desc(\"count\"), \"bigram\").show(10)"
   ]
  },
  {
   "cell_type": "code",
   "execution_count": null,
   "id": "c9e129b0-b12a-4d88-a36f-b43b02903c4d",
   "metadata": {},
   "outputs": [],
   "source": [
    "unique_bigram"
   ]
  },
  {
   "cell_type": "code",
   "execution_count": null,
   "id": "f959aea2-33aa-44f8-a4de-1db424e51a79",
   "metadata": {},
   "outputs": [],
   "source": []
  },
  {
   "cell_type": "code",
   "execution_count": null,
   "id": "4ec8057d-f064-4ade-91f5-f3da792af390",
   "metadata": {},
   "outputs": [],
   "source": []
  },
  {
   "cell_type": "code",
   "execution_count": null,
   "id": "19509e00-fd09-4eb9-9dbe-185203c2b5ac",
   "metadata": {},
   "outputs": [],
   "source": []
  },
  {
   "cell_type": "code",
   "execution_count": null,
   "id": "a5c7892c-ea4b-427e-978d-24e735412dcc",
   "metadata": {},
   "outputs": [],
   "source": []
  },
  {
   "cell_type": "code",
   "execution_count": null,
   "id": "e8bb5247-467a-4b86-87b5-d49c60be2e15",
   "metadata": {},
   "outputs": [],
   "source": []
  },
  {
   "cell_type": "code",
   "execution_count": null,
   "id": "705299d3-8dba-4a84-8134-820b0121a36c",
   "metadata": {},
   "outputs": [],
   "source": []
  },
  {
   "cell_type": "code",
   "execution_count": null,
   "id": "f86730bc-fd21-4ef2-9b1c-6a97fcf20eb7",
   "metadata": {},
   "outputs": [],
   "source": []
  }
 ],
 "metadata": {
  "kernelspec": {
   "display_name": "PySpark",
   "language": "",
   "name": "pysparkkernel"
  },
  "language_info": {
   "codemirror_mode": {
    "name": "python",
    "version": 3
   },
   "mimetype": "text/x-python",
   "name": "pyspark",
   "pygments_lexer": "python3"
  }
 },
 "nbformat": 4,
 "nbformat_minor": 5
}
