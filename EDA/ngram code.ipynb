{
 "cells": [
  {
   "cell_type": "code",
   "execution_count": 1,
   "id": "5870b0f8-cf45-40d5-8392-98c859941cf8",
   "metadata": {
    "execution": {
     "iopub.execute_input": "2022-04-07T18:33:06.334946Z",
     "iopub.status.busy": "2022-04-07T18:33:06.334717Z",
     "iopub.status.idle": "2022-04-07T18:33:46.277679Z",
     "shell.execute_reply": "2022-04-07T18:33:46.276871Z",
     "shell.execute_reply.started": "2022-04-07T18:33:06.334918Z"
    },
    "tags": []
   },
   "outputs": [
    {
     "data": {
      "application/vnd.jupyter.widget-view+json": {
       "model_id": "6bd3c86cdcf242b694151917e3b2fd71",
       "version_major": 2,
       "version_minor": 0
      },
      "text/plain": [
       "VBox()"
      ]
     },
     "metadata": {},
     "output_type": "display_data"
    },
    {
     "name": "stdout",
     "output_type": "stream",
     "text": [
      "Starting Spark application\n"
     ]
    },
    {
     "data": {
      "text/html": [
       "<table>\n",
       "<tr><th>ID</th><th>YARN Application ID</th><th>Kind</th><th>State</th><th>Spark UI</th><th>Driver log</th><th>Current session?</th></tr><tr><td>2</td><td>application_1649351177748_0007</td><td>pyspark</td><td>idle</td><td><a target=\"_blank\" href=\"http://ip-172-31-15-250.ec2.internal:20888/proxy/application_1649351177748_0007/\" class=\"emr-proxy-link\" emr-resource=\"j-22Y4E85U7HN7X\n",
       "\" application-id=\"application_1649351177748_0007\">Link</a></td><td><a target=\"_blank\" href=\"http://ip-172-31-4-77.ec2.internal:8042/node/containerlogs/container_1649351177748_0007_01_000001/livy\" >Link</a></td><td>✔</td></tr></table>"
      ],
      "text/plain": [
       "<IPython.core.display.HTML object>"
      ]
     },
     "metadata": {},
     "output_type": "display_data"
    },
    {
     "data": {
      "application/vnd.jupyter.widget-view+json": {
       "model_id": "",
       "version_major": 2,
       "version_minor": 0
      },
      "text/plain": [
       "FloatProgress(value=0.0, bar_style='info', description='Progress:', layout=Layout(height='25px', width='50%'),…"
      ]
     },
     "metadata": {},
     "output_type": "display_data"
    },
    {
     "name": "stdout",
     "output_type": "stream",
     "text": [
      "SparkSession available as 'spark'.\n"
     ]
    },
    {
     "data": {
      "application/vnd.jupyter.widget-view+json": {
       "model_id": "",
       "version_major": 2,
       "version_minor": 0
      },
      "text/plain": [
       "FloatProgress(value=0.0, bar_style='info', description='Progress:', layout=Layout(height='25px', width='50%'),…"
      ]
     },
     "metadata": {},
     "output_type": "display_data"
    },
    {
     "name": "stdout",
     "output_type": "stream",
     "text": [
      "Collecting pandas==1.2.2\n",
      "  Using cached https://files.pythonhosted.org/packages/4c/33/87b15a5baeeb71bd677da3579f907e97476c5247c0e56a37079843af5424/pandas-1.2.2-cp37-cp37m-manylinux1_x86_64.whl\n",
      "Requirement already satisfied: numpy>=1.16.5 in /usr/local/lib64/python3.7/site-packages (from pandas==1.2.2)\n",
      "Requirement already satisfied: pytz>=2017.3 in /usr/local/lib/python3.7/site-packages (from pandas==1.2.2)\n",
      "Collecting python-dateutil>=2.7.3 (from pandas==1.2.2)\n",
      "  Using cached https://files.pythonhosted.org/packages/36/7a/87837f39d0296e723bb9b62bbb257d0355c7f6128853c78955f57342a56d/python_dateutil-2.8.2-py2.py3-none-any.whl\n",
      "Requirement already satisfied: six>=1.5 in /usr/local/lib/python3.7/site-packages (from python-dateutil>=2.7.3->pandas==1.2.2)\n",
      "Installing collected packages: python-dateutil, pandas\n",
      "Successfully installed pandas-1.2.2 python-dateutil-2.8.2\n",
      "\n",
      "You are using pip version 9.0.1, however version 22.0.4 is available.\n",
      "You should consider upgrading via the 'pip install --upgrade pip' command."
     ]
    }
   ],
   "source": [
    "sc.install_pypi_package(\"pandas==1.2.2\")"
   ]
  },
  {
   "cell_type": "code",
   "execution_count": 2,
   "id": "d8c63fd6-adbe-4987-8e81-efc30077a8c1",
   "metadata": {
    "execution": {
     "iopub.execute_input": "2022-04-07T18:33:46.279244Z",
     "iopub.status.busy": "2022-04-07T18:33:46.278985Z",
     "iopub.status.idle": "2022-04-07T18:33:53.652541Z",
     "shell.execute_reply": "2022-04-07T18:33:53.651628Z",
     "shell.execute_reply.started": "2022-04-07T18:33:46.279208Z"
    },
    "tags": []
   },
   "outputs": [
    {
     "data": {
      "application/vnd.jupyter.widget-view+json": {
       "model_id": "02aa398faa614ca2ae248a8ea46d9d16",
       "version_major": 2,
       "version_minor": 0
      },
      "text/plain": [
       "VBox()"
      ]
     },
     "metadata": {},
     "output_type": "display_data"
    },
    {
     "data": {
      "application/vnd.jupyter.widget-view+json": {
       "model_id": "",
       "version_major": 2,
       "version_minor": 0
      },
      "text/plain": [
       "FloatProgress(value=0.0, bar_style='info', description='Progress:', layout=Layout(height='25px', width='50%'),…"
      ]
     },
     "metadata": {},
     "output_type": "display_data"
    },
    {
     "name": "stdout",
     "output_type": "stream",
     "text": [
      "Collecting matplotlib==3.1.1\n",
      "  Using cached https://files.pythonhosted.org/packages/19/7a/60bd79c5d79559150f8bba866dd7d434f0a170312e4d15e8aefa5faba294/matplotlib-3.1.1-cp37-cp37m-manylinux1_x86_64.whl\n",
      "Requirement already satisfied: python-dateutil>=2.1 in /mnt/tmp/1649356409712-0/lib/python3.7/site-packages (from matplotlib==3.1.1)\n",
      "Collecting pyparsing!=2.0.4,!=2.1.2,!=2.1.6,>=2.0.1 (from matplotlib==3.1.1)\n",
      "  Using cached https://files.pythonhosted.org/packages/80/c1/23fd82ad3121656b585351aba6c19761926bb0db2ebed9e4ff09a43a3fcc/pyparsing-3.0.7-py3-none-any.whl\n",
      "Collecting cycler>=0.10 (from matplotlib==3.1.1)\n",
      "  Using cached https://files.pythonhosted.org/packages/5c/f9/695d6bedebd747e5eb0fe8fad57b72fdf25411273a39791cde838d5a8f51/cycler-0.11.0-py3-none-any.whl\n",
      "Requirement already satisfied: numpy>=1.11 in /usr/local/lib64/python3.7/site-packages (from matplotlib==3.1.1)\n",
      "Collecting kiwisolver>=1.0.1 (from matplotlib==3.1.1)\n",
      "  Using cached https://files.pythonhosted.org/packages/51/50/9a9a94afa26c50fc5d9127272737806990aa698c7a1c220b8e5075e70304/kiwisolver-1.4.2-cp37-cp37m-manylinux_2_5_x86_64.manylinux1_x86_64.whl\n",
      "Requirement already satisfied: six>=1.5 in /usr/local/lib/python3.7/site-packages (from python-dateutil>=2.1->matplotlib==3.1.1)\n",
      "Collecting typing-extensions; python_version < \"3.8\" (from kiwisolver>=1.0.1->matplotlib==3.1.1)\n",
      "  Using cached https://files.pythonhosted.org/packages/45/6b/44f7f8f1e110027cf88956b59f2fad776cca7e1704396d043f89effd3a0e/typing_extensions-4.1.1-py3-none-any.whl\n",
      "Installing collected packages: pyparsing, cycler, typing-extensions, kiwisolver, matplotlib\n",
      "Successfully installed cycler-0.11.0 kiwisolver-1.4.2 matplotlib-3.1.1 pyparsing-3.0.7 typing-extensions-4.1.1\n",
      "\n",
      "You are using pip version 9.0.1, however version 22.0.4 is available.\n",
      "You should consider upgrading via the 'pip install --upgrade pip' command."
     ]
    }
   ],
   "source": [
    "sc.install_pypi_package(\"matplotlib==3.1.1\", \"https://pypi.org/simple\")"
   ]
  },
  {
   "cell_type": "code",
   "execution_count": 3,
   "id": "ca76e93d-69fb-496c-a872-b831c0659522",
   "metadata": {
    "execution": {
     "iopub.execute_input": "2022-04-07T18:33:53.654175Z",
     "iopub.status.busy": "2022-04-07T18:33:53.653995Z",
     "iopub.status.idle": "2022-04-07T18:33:54.957693Z",
     "shell.execute_reply": "2022-04-07T18:33:54.956688Z",
     "shell.execute_reply.started": "2022-04-07T18:33:53.654152Z"
    },
    "tags": []
   },
   "outputs": [
    {
     "data": {
      "application/vnd.jupyter.widget-view+json": {
       "model_id": "b93110d95c8e408cb5abeaec31393767",
       "version_major": 2,
       "version_minor": 0
      },
      "text/plain": [
       "VBox()"
      ]
     },
     "metadata": {},
     "output_type": "display_data"
    },
    {
     "data": {
      "application/vnd.jupyter.widget-view+json": {
       "model_id": "",
       "version_major": 2,
       "version_minor": 0
      },
      "text/plain": [
       "FloatProgress(value=0.0, bar_style='info', description='Progress:', layout=Layout(height='25px', width='50%'),…"
      ]
     },
     "metadata": {},
     "output_type": "display_data"
    }
   ],
   "source": [
    "from pyspark.sql.functions import *\n",
    "from pyspark.sql.functions import udf\n",
    "from pyspark.sql.types import IntegerType\n",
    "import matplotlib.pyplot as plt\n",
    "from pyspark.ml import Pipeline, PipelineModel\n",
    "from pyspark.ml.feature import * \n",
    "from nltk.corpus import stopwords\n",
    "\n",
    "import pandas as pd\n",
    "import string \n",
    "import re "
   ]
  },
  {
   "cell_type": "code",
   "execution_count": 4,
   "id": "ab23fc47-137b-4fa4-b7af-bf02b203e156",
   "metadata": {
    "execution": {
     "iopub.execute_input": "2022-04-07T18:33:54.960765Z",
     "iopub.status.busy": "2022-04-07T18:33:54.960497Z",
     "iopub.status.idle": "2022-04-07T18:33:58.594140Z",
     "shell.execute_reply": "2022-04-07T18:33:58.593180Z",
     "shell.execute_reply.started": "2022-04-07T18:33:54.960739Z"
    },
    "tags": []
   },
   "outputs": [
    {
     "data": {
      "application/vnd.jupyter.widget-view+json": {
       "model_id": "1c1d4250a5e14481b23c6d9fd9351ccc",
       "version_major": 2,
       "version_minor": 0
      },
      "text/plain": [
       "VBox()"
      ]
     },
     "metadata": {},
     "output_type": "display_data"
    },
    {
     "data": {
      "application/vnd.jupyter.widget-view+json": {
       "model_id": "",
       "version_major": 2,
       "version_minor": 0
      },
      "text/plain": [
       "FloatProgress(value=0.0, bar_style='info', description='Progress:', layout=Layout(height='25px', width='50%'),…"
      ]
     },
     "metadata": {},
     "output_type": "display_data"
    }
   ],
   "source": [
    "review = spark.read.orc(\"hdfs:///NLP-orc/*.orc\")"
   ]
  },
  {
   "cell_type": "code",
   "execution_count": 5,
   "id": "eff2690b-cdd0-4029-b71a-1cd6f500cf31",
   "metadata": {
    "execution": {
     "iopub.execute_input": "2022-04-07T18:33:58.596992Z",
     "iopub.status.busy": "2022-04-07T18:33:58.596731Z",
     "iopub.status.idle": "2022-04-07T18:33:58.870045Z",
     "shell.execute_reply": "2022-04-07T18:33:58.869325Z",
     "shell.execute_reply.started": "2022-04-07T18:33:58.596957Z"
    },
    "tags": []
   },
   "outputs": [
    {
     "data": {
      "application/vnd.jupyter.widget-view+json": {
       "model_id": "c88aed0f6a2c474989867a544ea99a3d",
       "version_major": 2,
       "version_minor": 0
      },
      "text/plain": [
       "VBox()"
      ]
     },
     "metadata": {},
     "output_type": "display_data"
    },
    {
     "data": {
      "application/vnd.jupyter.widget-view+json": {
       "model_id": "",
       "version_major": 2,
       "version_minor": 0
      },
      "text/plain": [
       "FloatProgress(value=0.0, bar_style='info', description='Progress:', layout=Layout(height='25px', width='50%'),…"
      ]
     },
     "metadata": {},
     "output_type": "display_data"
    }
   ],
   "source": [
    "review = review.drop(\"business_id\",\"date\",\"review_id\",\"user_id\",\"cool\",\"funny\",\"useful\")"
   ]
  },
  {
   "cell_type": "code",
   "execution_count": 6,
   "id": "abc603e7-9143-4565-a6e9-3ebafd2d9f24",
   "metadata": {
    "execution": {
     "iopub.execute_input": "2022-04-06T15:12:07.926222Z",
     "iopub.status.busy": "2022-04-06T15:12:07.925959Z",
     "iopub.status.idle": "2022-04-06T15:12:10.216080Z",
     "shell.execute_reply": "2022-04-06T15:12:10.215232Z",
     "shell.execute_reply.started": "2022-04-06T15:12:07.926193Z"
    },
    "tags": []
   },
   "outputs": [
    {
     "data": {
      "application/vnd.jupyter.widget-view+json": {
       "model_id": "87b1342de3d6481b8e77c4d3ff92fa04",
       "version_major": 2,
       "version_minor": 0
      },
      "text/plain": [
       "VBox()"
      ]
     },
     "metadata": {},
     "output_type": "display_data"
    },
    {
     "data": {
      "application/vnd.jupyter.widget-view+json": {
       "model_id": "",
       "version_major": 2,
       "version_minor": 0
      },
      "text/plain": [
       "FloatProgress(value=0.0, bar_style='info', description='Progress:', layout=Layout(height='25px', width='50%'),…"
      ]
     },
     "metadata": {},
     "output_type": "display_data"
    },
    {
     "name": "stdout",
     "output_type": "stream",
     "text": [
      "+-----+--------------------+\n",
      "|stars|                text|\n",
      "+-----+--------------------+\n",
      "|  4.0|Ever wanted too j...|\n",
      "|  5.0|Dry-aged bone-in ...|\n",
      "|  5.0|I lived in Boston...|\n",
      "|  3.0|Some good things ...|\n",
      "|  4.0|Great place to gr...|\n",
      "|  1.0|It's like the Wal...|\n",
      "|  5.0|The food was incr...|\n",
      "|  5.0|Haven't been so h...|\n",
      "|  5.0|These guys helped...|\n",
      "|  4.0|great service and...|\n",
      "+-----+--------------------+\n",
      "only showing top 10 rows"
     ]
    }
   ],
   "source": [
    "review.show(10)"
   ]
  },
  {
   "cell_type": "code",
   "execution_count": 7,
   "id": "6747e04c-b512-49d8-a685-5608f20a45c7",
   "metadata": {
    "execution": {
     "iopub.execute_input": "2022-04-06T15:12:10.217800Z",
     "iopub.status.busy": "2022-04-06T15:12:10.217486Z",
     "iopub.status.idle": "2022-04-06T15:12:12.628705Z",
     "shell.execute_reply": "2022-04-06T15:12:12.628024Z",
     "shell.execute_reply.started": "2022-04-06T15:12:10.217714Z"
    },
    "tags": []
   },
   "outputs": [
    {
     "data": {
      "application/vnd.jupyter.widget-view+json": {
       "model_id": "88975029785d4a8b9c515b5e05574e7f",
       "version_major": 2,
       "version_minor": 0
      },
      "text/plain": [
       "VBox()"
      ]
     },
     "metadata": {},
     "output_type": "display_data"
    },
    {
     "data": {
      "application/vnd.jupyter.widget-view+json": {
       "model_id": "",
       "version_major": 2,
       "version_minor": 0
      },
      "text/plain": [
       "FloatProgress(value=0.0, bar_style='info', description='Progress:', layout=Layout(height='25px', width='50%'),…"
      ]
     },
     "metadata": {},
     "output_type": "display_data"
    },
    {
     "name": "stdout",
     "output_type": "stream",
     "text": [
      "8635403"
     ]
    }
   ],
   "source": [
    "review.count()"
   ]
  },
  {
   "cell_type": "code",
   "execution_count": 8,
   "id": "2c3ea723-33fd-4433-b10d-642d3e493eb2",
   "metadata": {
    "execution": {
     "iopub.execute_input": "2022-04-06T15:12:15.639669Z",
     "iopub.status.busy": "2022-04-06T15:12:15.639423Z",
     "iopub.status.idle": "2022-04-06T15:12:15.698298Z",
     "shell.execute_reply": "2022-04-06T15:12:15.697695Z",
     "shell.execute_reply.started": "2022-04-06T15:12:15.639645Z"
    },
    "tags": []
   },
   "outputs": [
    {
     "data": {
      "application/vnd.jupyter.widget-view+json": {
       "model_id": "609ea778961a44b19fb2404f641beee1",
       "version_major": 2,
       "version_minor": 0
      },
      "text/plain": [
       "VBox()"
      ]
     },
     "metadata": {},
     "output_type": "display_data"
    },
    {
     "data": {
      "application/vnd.jupyter.widget-view+json": {
       "model_id": "",
       "version_major": 2,
       "version_minor": 0
      },
      "text/plain": [
       "FloatProgress(value=0.0, bar_style='info', description='Progress:', layout=Layout(height='25px', width='50%'),…"
      ]
     },
     "metadata": {},
     "output_type": "display_data"
    },
    {
     "name": "stdout",
     "output_type": "stream",
     "text": [
      "root\n",
      " |-- stars: double (nullable = true)\n",
      " |-- text: string (nullable = true)"
     ]
    }
   ],
   "source": [
    "review.printSchema()"
   ]
  },
  {
   "cell_type": "markdown",
   "id": "97ae7a1d-7efd-4927-913b-7c2b070d5c40",
   "metadata": {},
   "source": [
    "### Tokenizer"
   ]
  },
  {
   "cell_type": "code",
   "execution_count": 5,
   "id": "eb87627a-66e6-4de9-9909-1ca8647059a2",
   "metadata": {
    "execution": {
     "iopub.execute_input": "2022-04-06T14:13:33.077165Z",
     "iopub.status.busy": "2022-04-06T14:13:33.076927Z",
     "iopub.status.idle": "2022-04-06T14:13:33.365391Z",
     "shell.execute_reply": "2022-04-06T14:13:33.364777Z",
     "shell.execute_reply.started": "2022-04-06T14:13:33.077143Z"
    },
    "tags": []
   },
   "outputs": [
    {
     "data": {
      "application/vnd.jupyter.widget-view+json": {
       "model_id": "51cfa897e42c4908a7e1e8aa1ebff3c5",
       "version_major": 2,
       "version_minor": 0
      },
      "text/plain": [
       "VBox()"
      ]
     },
     "metadata": {},
     "output_type": "display_data"
    },
    {
     "data": {
      "application/vnd.jupyter.widget-view+json": {
       "model_id": "",
       "version_major": 2,
       "version_minor": 0
      },
      "text/plain": [
       "FloatProgress(value=0.0, bar_style='info', description='Progress:', layout=Layout(height='25px', width='50%'),…"
      ]
     },
     "metadata": {},
     "output_type": "display_data"
    }
   ],
   "source": [
    "rgtoken = RegexTokenizer(inputCol=\"text\",outputCol=\"words\",pattern=\"\\\\W\")\n"
   ]
  },
  {
   "cell_type": "markdown",
   "id": "ec71e838-b695-40f9-ad87-6ba69639beee",
   "metadata": {},
   "source": [
    "### stop word remover"
   ]
  },
  {
   "cell_type": "code",
   "execution_count": 6,
   "id": "d1e9fab3-05dd-45e7-80d5-815ff67fcb17",
   "metadata": {
    "execution": {
     "iopub.execute_input": "2022-04-06T14:13:50.022337Z",
     "iopub.status.busy": "2022-04-06T14:13:50.021992Z",
     "iopub.status.idle": "2022-04-06T14:13:50.127074Z",
     "shell.execute_reply": "2022-04-06T14:13:50.126371Z",
     "shell.execute_reply.started": "2022-04-06T14:13:50.022297Z"
    },
    "tags": []
   },
   "outputs": [
    {
     "data": {
      "application/vnd.jupyter.widget-view+json": {
       "model_id": "d2c2c7a3e6fb43c9afd242becb03d6d9",
       "version_major": 2,
       "version_minor": 0
      },
      "text/plain": [
       "VBox()"
      ]
     },
     "metadata": {},
     "output_type": "display_data"
    },
    {
     "data": {
      "application/vnd.jupyter.widget-view+json": {
       "model_id": "",
       "version_major": 2,
       "version_minor": 0
      },
      "text/plain": [
       "FloatProgress(value=0.0, bar_style='info', description='Progress:', layout=Layout(height='25px', width='50%'),…"
      ]
     },
     "metadata": {},
     "output_type": "display_data"
    }
   ],
   "source": [
    "stops = [\"0o\", \"0s\", \"3a\", \"3b\", \"3d\", \"6b\", \"6o\", \"a\", \"a1\", \"a2\", \"a3\", \"a4\", \"ab\", \"able\", \"about\", \"above\", \"abst\", \"ac\", \"accordance\", \"according\", \"accordingly\", \"across\", \"act\", \"actually\", \"ad\", \"added\", \"adj\", \"ae\", \"af\", \"affected\", \"affecting\", \"affects\", \"after\", \"afterwards\", \"ag\", \"again\", \"against\", \"ah\", \"ain\", \"ain't\", \"aj\", \"al\", \"all\", \"allow\", \"allows\", \"almost\", \"alone\", \"along\", \"already\", \"also\", \"although\", \"always\", \"am\", \"among\", \"amongst\", \"amoungst\", \"amount\", \"an\", \"and\", \"announce\", \"another\", \"any\", \"anybody\", \"anyhow\", \"anymore\", \"anyone\", \"anything\", \"anyway\", \"anyways\", \"anywhere\", \"ao\", \"ap\", \"apart\", \"apparently\", \"appear\", \"appreciate\", \"appropriate\", \"approximately\", \"ar\", \"are\", \"aren\", \"arent\", \"aren't\", \"arise\", \"around\", \"as\", \"a's\", \"aside\", \"ask\", \"asking\", \"associated\", \"at\", \"au\", \"auth\", \"av\", \"available\", \"aw\", \"away\", \"awfully\", \"ax\", \"ay\", \"az\", \"b\", \"b1\", \"b2\", \"b3\", \"ba\", \"back\", \"bc\", \"bd\", \"be\", \"became\", \"because\", \"become\", \"becomes\", \"becoming\", \"been\", \"before\", \"beforehand\", \"begin\", \"beginning\", \"beginnings\", \"begins\", \"behind\", \"being\", \"believe\", \"below\", \"beside\", \"besides\", \"best\", \"better\", \"between\", \"beyond\", \"bi\", \"bill\", \"biol\", \"bj\", \"bk\", \"bl\", \"bn\", \"both\", \"bottom\", \"bp\", \"br\", \"brief\", \"briefly\", \"bs\", \"bt\", \"bu\", \"but\", \"bx\", \"by\", \"c\", \"c1\", \"c2\", \"c3\", \"ca\", \"call\", \"came\", \"can\", \"cannot\", \"cant\", \"can't\", \"cause\", \"causes\", \"cc\", \"cd\", \"ce\", \"certain\", \"certainly\", \"cf\", \"cg\", \"ch\", \"changes\", \"ci\", \"cit\", \"cj\", \"cl\", \"clearly\", \"cm\", \"c'mon\", \"cn\", \"co\", \"com\", \"come\", \"comes\", \"con\", \"concerning\", \"consequently\", \"consider\", \"considering\", \"contain\", \"containing\", \"contains\", \"corresponding\", \"could\", \"couldn\", \"couldnt\", \"couldn't\", \"course\", \"cp\", \"cq\", \"cr\", \"cry\", \"cs\", \"c's\", \"ct\", \"cu\", \"currently\", \"cv\", \"cx\", \"cy\", \"cz\", \"d\", \"d2\", \"da\", \"date\", \"dc\", \"dd\", \"de\", \"definitely\", \"describe\", \"described\", \"despite\", \"detail\", \"df\", \"di\", \"did\", \"didn\", \"didn't\", \"different\", \"dj\", \"dk\", \"dl\", \"do\", \"does\", \"doesn\", \"doesn't\", \"doing\", \"don\", \"done\", \"don't\", \"down\", \"downwards\", \"dp\", \"dr\", \"ds\", \"dt\", \"du\", \"due\", \"during\", \"dx\", \"dy\", \"e\", \"e2\", \"e3\", \"ea\", \"each\", \"ec\", \"ed\", \"edu\", \"ee\", \"ef\", \"effect\", \"eg\", \"ei\", \"eight\", \"eighty\", \"either\", \"ej\", \"el\", \"eleven\", \"else\", \"elsewhere\", \"em\", \"empty\", \"en\", \"end\", \"ending\", \"enough\", \"entirely\", \"eo\", \"ep\", \"eq\", \"er\", \"es\", \"especially\", \"est\", \"et\", \"et-al\", \"etc\", \"eu\", \"ev\", \"even\", \"ever\", \"every\", \"everybody\", \"everyone\", \"everything\", \"everywhere\", \"ex\", \"exactly\", \"example\", \"except\", \"ey\", \"f\", \"f2\", \"fa\", \"far\", \"fc\", \"few\", \"ff\", \"fi\", \"fifteen\", \"fifth\", \"fify\", \"fill\", \"find\", \"fire\", \"first\", \"five\", \"fix\", \"fj\", \"fl\", \"fn\", \"fo\", \"followed\", \"following\", \"follows\", \"for\", \"former\", \"formerly\", \"forth\", \"forty\", \"found\", \"four\", \"fr\", \"from\", \"front\", \"fs\", \"ft\", \"fu\", \"full\", \"further\", \"furthermore\", \"fy\", \"g\", \"ga\", \"gave\", \"ge\", \"get\", \"gets\", \"getting\", \"gi\", \"give\", \"given\", \"gives\", \"giving\", \"gj\", \"gl\", \"go\", \"goes\", \"going\", \"gone\", \"got\", \"gotten\", \"gr\", \"greetings\", \"gs\", \"gy\", \"h\", \"h2\", \"h3\", \"had\", \"hadn\", \"hadn't\", \"happens\", \"hardly\", \"has\", \"hasn\", \"hasnt\", \"hasn't\", \"have\", \"haven\", \"haven't\", \"having\", \"he\", \"hed\", \"he'd\", \"he'll\", \"hello\", \"help\", \"hence\", \"her\", \"here\", \"hereafter\", \"hereby\", \"herein\", \"heres\", \"here's\", \"hereupon\", \"hers\", \"herself\", \"hes\", \"he's\", \"hh\", \"hi\", \"hid\", \"him\", \"himself\", \"his\", \"hither\", \"hj\", \"ho\", \"home\", \"hopefully\", \"how\", \"howbeit\", \"however\", \"how's\", \"hr\", \"hs\", \"http\", \"hu\", \"hundred\", \"hy\", \"i\", \"i2\", \"i3\", \"i4\", \"i6\", \"i7\", \"i8\", \"ia\", \"ib\", \"ibid\", \"ic\", \"id\", \"i'd\", \"ie\", \"if\", \"ig\", \"ignored\", \"ih\", \"ii\", \"ij\", \"il\", \"i'll\", \"im\", \"i'm\", \"immediate\", \"immediately\", \"importance\", \"important\", \"in\", \"inasmuch\", \"inc\", \"indeed\", \"index\", \"indicate\", \"indicated\", \"indicates\", \"information\", \"inner\", \"insofar\", \"instead\", \"interest\", \"into\", \"invention\", \"inward\", \"io\", \"ip\", \"iq\", \"ir\", \"is\", \"isn\", \"isn't\", \"it\", \"itd\", \"it'd\", \"it'll\", \"its\", \"it's\", \"itself\", \"iv\", \"i've\", \"ix\", \"iy\", \"iz\", \"j\", \"jj\", \"jr\", \"js\", \"jt\", \"ju\", \"just\", \"k\", \"ke\", \"keep\", \"keeps\", \"kept\", \"kg\", \"kj\", \"km\", \"know\", \"known\", \"knows\", \"ko\", \"l\", \"l2\", \"la\", \"largely\", \"last\", \"lately\", \"later\", \"latter\", \"latterly\", \"lb\", \"lc\", \"le\", \"least\", \"les\", \"less\", \"lest\", \"let\", \"lets\", \"let's\", \"lf\", \"like\", \"liked\", \"likely\", \"line\", \"little\", \"lj\", \"ll\", \"ll\", \"ln\", \"lo\", \"look\", \"looking\", \"looks\", \"los\", \"lr\", \"ls\", \"lt\", \"ltd\", \"m\", \"m2\", \"ma\", \"made\", \"mainly\", \"make\", \"makes\", \"many\", \"may\", \"maybe\", \"me\", \"mean\", \"means\", \"meantime\", \"meanwhile\", \"merely\", \"mg\", \"might\", \"mightn\", \"mightn't\", \"mill\", \"million\", \"mine\", \"miss\", \"ml\", \"mn\", \"mo\", \"more\", \"moreover\", \"most\", \"mostly\", \"move\", \"mr\", \"mrs\", \"ms\", \"mt\", \"mu\", \"much\", \"mug\", \"must\", \"mustn\", \"mustn't\", \"my\", \"myself\", \"n\", \"n2\", \"na\", \"name\", \"namely\", \"nay\", \"nc\", \"nd\", \"ne\", \"near\", \"nearly\", \"necessarily\", \"necessary\", \"need\", \"needn\", \"needn't\", \"needs\", \"neither\", \"never\", \"nevertheless\", \"new\", \"next\", \"ng\", \"ni\", \"nine\", \"ninety\", \"nj\", \"nl\", \"nn\", \"no\", \"nobody\", \"non\", \"none\", \"nonetheless\", \"noone\", \"nor\", \"normally\", \"nos\", \"not\", \"noted\", \"nothing\", \"novel\", \"now\", \"nowhere\", \"nr\", \"ns\", \"nt\", \"ny\", \"o\", \"oa\", \"ob\", \"obtain\", \"obtained\", \"obviously\", \"oc\", \"od\", \"of\", \"off\", \"often\", \"og\", \"oh\", \"oi\", \"oj\", \"ok\", \"okay\", \"ol\", \"old\", \"om\", \"omitted\", \"on\", \"once\", \"one\", \"ones\", \"only\", \"onto\", \"oo\", \"op\", \"oq\", \"or\", \"ord\", \"os\", \"ot\", \"other\", \"others\", \"otherwise\", \"ou\", \"ought\", \"our\", \"ours\", \"ourselves\", \"out\", \"outside\", \"over\", \"overall\", \"ow\", \"owing\", \"own\", \"ox\", \"oz\", \"p\", \"p1\", \"p2\", \"p3\", \"page\", \"pagecount\", \"pages\", \"par\", \"part\", \"particular\", \"particularly\", \"pas\", \"past\", \"pc\", \"pd\", \"pe\", \"per\", \"perhaps\", \"pf\", \"ph\", \"pi\", \"pj\", \"pk\", \"pl\", \"placed\", \"please\", \"plus\", \"pm\", \"pn\", \"po\", \"poorly\", \"possible\", \"possibly\", \"potentially\", \"pp\", \"pq\", \"pr\", \"predominantly\", \"present\", \"presumably\", \"previously\", \"primarily\", \"probably\", \"promptly\", \"proud\", \"provides\", \"ps\", \"pt\", \"pu\", \"put\", \"py\", \"q\", \"qj\", \"qu\", \"que\", \"quickly\", \"quite\", \"qv\", \"r\", \"r2\", \"ra\", \"ran\", \"rather\", \"rc\", \"rd\", \"re\", \"readily\", \"really\", \"reasonably\", \"recent\", \"recently\", \"ref\", \"refs\", \"regarding\", \"regardless\", \"regards\", \"related\", \"relatively\", \"research\", \"research-articl\", \"respectively\", \"resulted\", \"resulting\", \"results\", \"rf\", \"rh\", \"ri\", \"right\", \"rj\", \"rl\", \"rm\", \"rn\", \"ro\", \"rq\", \"rr\", \"rs\", \"rt\", \"ru\", \"run\", \"rv\", \"ry\", \"s\", \"s2\", \"sa\", \"said\", \"same\", \"saw\", \"say\", \"saying\", \"says\", \"sc\", \"sd\", \"se\", \"sec\", \"second\", \"secondly\", \"section\", \"see\", \"seeing\", \"seem\", \"seemed\", \"seeming\", \"seems\", \"seen\", \"self\", \"selves\", \"sensible\", \"sent\", \"serious\", \"seriously\", \"seven\", \"several\", \"sf\", \"shall\", \"shan\", \"shan't\", \"she\", \"shed\", \"she'd\", \"she'll\", \"shes\", \"she's\", \"should\", \"shouldn\", \"shouldn't\", \"should've\", \"show\", \"showed\", \"shown\", \"showns\", \"shows\", \"si\", \"side\", \"significant\", \"significantly\", \"similar\", \"similarly\", \"since\", \"sincere\", \"six\", \"sixty\", \"sj\", \"sl\", \"slightly\", \"sm\", \"sn\", \"so\", \"some\", \"somebody\", \"somehow\", \"someone\", \"somethan\", \"something\", \"sometime\", \"sometimes\", \"somewhat\", \"somewhere\", \"soon\", \"sorry\", \"sp\", \"specifically\", \"specified\", \"specify\", \"specifying\", \"sq\", \"sr\", \"ss\", \"st\", \"still\", \"stop\", \"strongly\", \"sub\", \"substantially\", \"successfully\", \"such\", \"sufficiently\", \"suggest\", \"sup\", \"sure\", \"sy\", \"system\", \"sz\", \"t\", \"t1\", \"t2\", \"t3\", \"take\", \"taken\", \"taking\", \"tb\", \"tc\", \"td\", \"te\", \"tell\", \"ten\", \"tends\", \"tf\", \"th\", \"than\", \"thank\", \"thanks\", \"thanx\", \"that\", \"that'll\", \"thats\", \"that's\", \"that've\", \"the\", \"their\", \"theirs\", \"them\", \"themselves\", \"then\", \"thence\", \"there\", \"thereafter\", \"thereby\", \"thered\", \"therefore\", \"therein\", \"there'll\", \"thereof\", \"therere\", \"theres\", \"there's\", \"thereto\", \"thereupon\", \"there've\", \"these\", \"they\", \"theyd\", \"they'd\", \"they'll\", \"theyre\", \"they're\", \"they've\", \"thickv\", \"thin\", \"think\", \"third\", \"this\", \"thorough\", \"thoroughly\", \"those\", \"thou\", \"though\", \"thoughh\", \"thousand\", \"three\", \"throug\", \"through\", \"throughout\", \"thru\", \"thus\", \"ti\", \"til\", \"tip\", \"tj\", \"tl\", \"tm\", \"tn\", \"to\", \"together\", \"too\", \"took\", \"top\", \"toward\", \"towards\", \"tp\", \"tq\", \"tr\", \"tried\", \"tries\", \"truly\", \"try\", \"trying\", \"ts\", \"t's\", \"tt\", \"tv\", \"twelve\", \"twenty\", \"twice\", \"two\", \"tx\", \"u\", \"u201d\", \"ue\", \"ui\", \"uj\", \"uk\", \"um\", \"un\", \"under\", \"unfortunately\", \"unless\", \"unlike\", \"unlikely\", \"until\", \"unto\", \"uo\", \"up\", \"upon\", \"ups\", \"ur\", \"us\", \"use\", \"used\", \"useful\", \"usefully\", \"usefulness\", \"uses\", \"using\", \"usually\", \"ut\", \"v\", \"va\", \"value\", \"various\", \"vd\", \"ve\", \"ve\", \"very\", \"via\", \"viz\", \"vj\", \"vo\", \"vol\", \"vols\", \"volumtype\", \"vq\", \"vs\", \"vt\", \"vu\", \"w\", \"wa\", \"want\", \"wants\", \"was\", \"wasn\", \"wasnt\", \"wasn't\", \"way\", \"we\", \"wed\", \"we'd\", \"welcome\", \"well\", \"we'll\", \"well-b\", \"went\", \"were\", \"we're\", \"weren\", \"werent\", \"weren't\", \"we've\", \"what\", \"whatever\", \"what'll\", \"whats\", \"what's\", \"when\", \"whence\", \"whenever\", \"when's\", \"where\", \"whereafter\", \"whereas\", \"whereby\", \"wherein\", \"wheres\", \"where's\", \"whereupon\", \"wherever\", \"whether\", \"which\", \"while\", \"whim\", \"whither\", \"who\", \"whod\", \"whoever\", \"whole\", \"who'll\", \"whom\", \"whomever\", \"whos\", \"who's\", \"whose\", \"why\", \"why's\", \"wi\", \"widely\", \"will\", \"willing\", \"wish\", \"with\", \"within\", \"without\", \"wo\", \"won\", \"wonder\", \"wont\", \"won't\", \"words\", \"world\", \"would\", \"wouldn\", \"wouldnt\", \"wouldn't\", \"www\", \"x\", \"x1\", \"x2\", \"x3\", \"xf\", \"xi\", \"xj\", \"xk\", \"xl\", \"xn\", \"xo\", \"xs\", \"xt\", \"xv\", \"xx\", \"y\", \"y2\", \"yes\", \"yet\", \"yj\", \"yl\", \"you\", \"youd\", \"you'd\", \"you'll\", \"your\", \"youre\", \"you're\", \"yours\", \"yourself\", \"yourselves\", \"you've\", \"yr\", \"ys\", \"yt\", \"z\", \"zero\", \"zi\", \"zz\"]"
   ]
  },
  {
   "cell_type": "code",
   "execution_count": 7,
   "id": "f232f404-962d-410f-ad00-0474fefa38aa",
   "metadata": {
    "execution": {
     "iopub.execute_input": "2022-04-06T14:13:51.039598Z",
     "iopub.status.busy": "2022-04-06T14:13:51.039280Z",
     "iopub.status.idle": "2022-04-06T14:13:51.329240Z",
     "shell.execute_reply": "2022-04-06T14:13:51.328586Z",
     "shell.execute_reply.started": "2022-04-06T14:13:51.039562Z"
    },
    "tags": []
   },
   "outputs": [
    {
     "data": {
      "application/vnd.jupyter.widget-view+json": {
       "model_id": "69f2b0a0f166418dbf4520f3a3990206",
       "version_major": 2,
       "version_minor": 0
      },
      "text/plain": [
       "VBox()"
      ]
     },
     "metadata": {},
     "output_type": "display_data"
    },
    {
     "data": {
      "application/vnd.jupyter.widget-view+json": {
       "model_id": "",
       "version_major": 2,
       "version_minor": 0
      },
      "text/plain": [
       "FloatProgress(value=0.0, bar_style='info', description='Progress:', layout=Layout(height='25px', width='50%'),…"
      ]
     },
     "metadata": {},
     "output_type": "display_data"
    }
   ],
   "source": [
    "stopword_remover = StopWordsRemover(inputCol=\"words\", outputCol=\"filtered\")\\\n",
    "                    .setStopWords(stops)\n"
   ]
  },
  {
   "cell_type": "markdown",
   "id": "7884c0d8-26dc-4dbe-8a1f-f4be6a07fe40",
   "metadata": {},
   "source": [
    "### Ngram"
   ]
  },
  {
   "cell_type": "code",
   "execution_count": 8,
   "id": "b8e6cc46-46b2-44f3-84e8-c5456a5ff0c7",
   "metadata": {
    "execution": {
     "iopub.execute_input": "2022-04-06T14:13:59.703526Z",
     "iopub.status.busy": "2022-04-06T14:13:59.703289Z",
     "iopub.status.idle": "2022-04-06T14:13:59.775156Z",
     "shell.execute_reply": "2022-04-06T14:13:59.774610Z",
     "shell.execute_reply.started": "2022-04-06T14:13:59.703500Z"
    },
    "tags": []
   },
   "outputs": [
    {
     "data": {
      "application/vnd.jupyter.widget-view+json": {
       "model_id": "bce08d45fecf4dd7b74d65b9b287a1fe",
       "version_major": 2,
       "version_minor": 0
      },
      "text/plain": [
       "VBox()"
      ]
     },
     "metadata": {},
     "output_type": "display_data"
    },
    {
     "data": {
      "application/vnd.jupyter.widget-view+json": {
       "model_id": "",
       "version_major": 2,
       "version_minor": 0
      },
      "text/plain": [
       "FloatProgress(value=0.0, bar_style='info', description='Progress:', layout=Layout(height='25px', width='50%'),…"
      ]
     },
     "metadata": {},
     "output_type": "display_data"
    }
   ],
   "source": [
    "Unigram = NGram(n=1, inputCol=\"filtered\", outputCol=\"UniGrams\")"
   ]
  },
  {
   "cell_type": "code",
   "execution_count": 9,
   "id": "21f878bf-e80c-48c1-9a43-6a09d39a224d",
   "metadata": {
    "execution": {
     "iopub.execute_input": "2022-04-06T14:14:00.379478Z",
     "iopub.status.busy": "2022-04-06T14:14:00.379241Z",
     "iopub.status.idle": "2022-04-06T14:14:00.446031Z",
     "shell.execute_reply": "2022-04-06T14:14:00.445431Z",
     "shell.execute_reply.started": "2022-04-06T14:14:00.379453Z"
    },
    "tags": []
   },
   "outputs": [
    {
     "data": {
      "application/vnd.jupyter.widget-view+json": {
       "model_id": "728de90f05cc482c8966f0a44889e101",
       "version_major": 2,
       "version_minor": 0
      },
      "text/plain": [
       "VBox()"
      ]
     },
     "metadata": {},
     "output_type": "display_data"
    },
    {
     "data": {
      "application/vnd.jupyter.widget-view+json": {
       "model_id": "",
       "version_major": 2,
       "version_minor": 0
      },
      "text/plain": [
       "FloatProgress(value=0.0, bar_style='info', description='Progress:', layout=Layout(height='25px', width='50%'),…"
      ]
     },
     "metadata": {},
     "output_type": "display_data"
    }
   ],
   "source": [
    "Bigram = NGram(n=2, inputCol=\"filtered\", outputCol=\"BiGrams\")"
   ]
  },
  {
   "cell_type": "code",
   "execution_count": 10,
   "id": "0d8ebab8-57c9-4ad9-aa98-b7fcb7c28dd5",
   "metadata": {
    "execution": {
     "iopub.execute_input": "2022-04-06T14:14:00.891672Z",
     "iopub.status.busy": "2022-04-06T14:14:00.891442Z",
     "iopub.status.idle": "2022-04-06T14:14:00.961597Z",
     "shell.execute_reply": "2022-04-06T14:14:00.960860Z",
     "shell.execute_reply.started": "2022-04-06T14:14:00.891649Z"
    },
    "tags": []
   },
   "outputs": [
    {
     "data": {
      "application/vnd.jupyter.widget-view+json": {
       "model_id": "5d6e64068c4749609340cf5d701c12f6",
       "version_major": 2,
       "version_minor": 0
      },
      "text/plain": [
       "VBox()"
      ]
     },
     "metadata": {},
     "output_type": "display_data"
    },
    {
     "data": {
      "application/vnd.jupyter.widget-view+json": {
       "model_id": "",
       "version_major": 2,
       "version_minor": 0
      },
      "text/plain": [
       "FloatProgress(value=0.0, bar_style='info', description='Progress:', layout=Layout(height='25px', width='50%'),…"
      ]
     },
     "metadata": {},
     "output_type": "display_data"
    }
   ],
   "source": [
    "Trigram = NGram(n=3, inputCol=\"filtered\", outputCol=\"TriGrams\")"
   ]
  },
  {
   "cell_type": "markdown",
   "id": "3bd0b090-ae56-4d84-b925-80ad5528b637",
   "metadata": {},
   "source": [
    "### Pipeline"
   ]
  },
  {
   "cell_type": "code",
   "execution_count": 7,
   "id": "35d195a7-3f82-449c-8050-023850fe44f7",
   "metadata": {
    "execution": {
     "iopub.execute_input": "2022-04-07T18:34:29.150282Z",
     "iopub.status.busy": "2022-04-07T18:34:29.150052Z",
     "iopub.status.idle": "2022-04-07T18:34:29.208309Z",
     "shell.execute_reply": "2022-04-07T18:34:29.207359Z",
     "shell.execute_reply.started": "2022-04-07T18:34:29.150257Z"
    },
    "tags": []
   },
   "outputs": [
    {
     "data": {
      "application/vnd.jupyter.widget-view+json": {
       "model_id": "28bf3ff2edd6453782374b996e4879ee",
       "version_major": 2,
       "version_minor": 0
      },
      "text/plain": [
       "VBox()"
      ]
     },
     "metadata": {},
     "output_type": "display_data"
    },
    {
     "data": {
      "application/vnd.jupyter.widget-view+json": {
       "model_id": "",
       "version_major": 2,
       "version_minor": 0
      },
      "text/plain": [
       "FloatProgress(value=0.0, bar_style='info', description='Progress:', layout=Layout(height='25px', width='50%'),…"
      ]
     },
     "metadata": {},
     "output_type": "display_data"
    },
    {
     "name": "stderr",
     "output_type": "stream",
     "text": [
      "An error was encountered:\n",
      "name 'rgtoken' is not defined\n",
      "Traceback (most recent call last):\n",
      "NameError: name 'rgtoken' is not defined\n",
      "\n"
     ]
    }
   ],
   "source": [
    "nlp_pipeline = Pipeline(stages=[rgtoken, stopword_remover,Unigram,Bigram,Trigram])\n",
    "light_pipeline = nlp_pipeline.fit(review)"
   ]
  },
  {
   "cell_type": "code",
   "execution_count": 6,
   "id": "62be63fa-467a-4a1c-ab41-89343d6c43e6",
   "metadata": {
    "execution": {
     "iopub.execute_input": "2022-04-07T18:34:22.023542Z",
     "iopub.status.busy": "2022-04-07T18:34:22.023294Z",
     "iopub.status.idle": "2022-04-07T18:34:22.096985Z",
     "shell.execute_reply": "2022-04-07T18:34:22.096226Z",
     "shell.execute_reply.started": "2022-04-07T18:34:22.023502Z"
    },
    "tags": []
   },
   "outputs": [
    {
     "data": {
      "application/vnd.jupyter.widget-view+json": {
       "model_id": "67eb29b7f1964dbc9f3585e3ef6de91f",
       "version_major": 2,
       "version_minor": 0
      },
      "text/plain": [
       "VBox()"
      ]
     },
     "metadata": {},
     "output_type": "display_data"
    },
    {
     "data": {
      "application/vnd.jupyter.widget-view+json": {
       "model_id": "",
       "version_major": 2,
       "version_minor": 0
      },
      "text/plain": [
       "FloatProgress(value=0.0, bar_style='info', description='Progress:', layout=Layout(height='25px', width='50%'),…"
      ]
     },
     "metadata": {},
     "output_type": "display_data"
    },
    {
     "name": "stderr",
     "output_type": "stream",
     "text": [
      "An error was encountered:\n",
      "name 'light_pipeline' is not defined\n",
      "Traceback (most recent call last):\n",
      "NameError: name 'light_pipeline' is not defined\n",
      "\n"
     ]
    }
   ],
   "source": [
    "result = light_pipeline.transform(review)"
   ]
  },
  {
   "cell_type": "code",
   "execution_count": 13,
   "id": "8e787918-911c-407c-bc4b-cf2db80f6004",
   "metadata": {
    "execution": {
     "iopub.execute_input": "2022-04-06T14:14:16.523411Z",
     "iopub.status.busy": "2022-04-06T14:14:16.523100Z",
     "iopub.status.idle": "2022-04-06T14:14:16.590929Z",
     "shell.execute_reply": "2022-04-06T14:14:16.590183Z",
     "shell.execute_reply.started": "2022-04-06T14:14:16.523372Z"
    },
    "tags": []
   },
   "outputs": [
    {
     "data": {
      "application/vnd.jupyter.widget-view+json": {
       "model_id": "b082a993b7a540ac94d5216d503cbedc",
       "version_major": 2,
       "version_minor": 0
      },
      "text/plain": [
       "VBox()"
      ]
     },
     "metadata": {},
     "output_type": "display_data"
    },
    {
     "data": {
      "application/vnd.jupyter.widget-view+json": {
       "model_id": "",
       "version_major": 2,
       "version_minor": 0
      },
      "text/plain": [
       "FloatProgress(value=0.0, bar_style='info', description='Progress:', layout=Layout(height='25px', width='50%'),…"
      ]
     },
     "metadata": {},
     "output_type": "display_data"
    },
    {
     "name": "stdout",
     "output_type": "stream",
     "text": [
      "root\n",
      " |-- stars: double (nullable = true)\n",
      " |-- text: string (nullable = true)\n",
      " |-- words: array (nullable = true)\n",
      " |    |-- element: string (containsNull = true)\n",
      " |-- filtered: array (nullable = true)\n",
      " |    |-- element: string (containsNull = true)\n",
      " |-- UniGrams: array (nullable = true)\n",
      " |    |-- element: string (containsNull = false)\n",
      " |-- BiGrams: array (nullable = true)\n",
      " |    |-- element: string (containsNull = false)\n",
      " |-- TriGrams: array (nullable = true)\n",
      " |    |-- element: string (containsNull = false)"
     ]
    }
   ],
   "source": [
    "result.printSchema()"
   ]
  },
  {
   "cell_type": "code",
   "execution_count": 14,
   "id": "5372abc0-3682-4933-b4a2-ddb7190c57b4",
   "metadata": {
    "execution": {
     "iopub.execute_input": "2022-04-06T14:14:22.140078Z",
     "iopub.status.busy": "2022-04-06T14:14:22.139746Z",
     "iopub.status.idle": "2022-04-06T14:14:29.505209Z",
     "shell.execute_reply": "2022-04-06T14:14:29.504502Z",
     "shell.execute_reply.started": "2022-04-06T14:14:22.140040Z"
    },
    "tags": []
   },
   "outputs": [
    {
     "data": {
      "application/vnd.jupyter.widget-view+json": {
       "model_id": "f901cb35a0ec4333b95df0a72a66f712",
       "version_major": 2,
       "version_minor": 0
      },
      "text/plain": [
       "VBox()"
      ]
     },
     "metadata": {},
     "output_type": "display_data"
    },
    {
     "data": {
      "application/vnd.jupyter.widget-view+json": {
       "model_id": "",
       "version_major": 2,
       "version_minor": 0
      },
      "text/plain": [
       "FloatProgress(value=0.0, bar_style='info', description='Progress:', layout=Layout(height='25px', width='50%'),…"
      ]
     },
     "metadata": {},
     "output_type": "display_data"
    },
    {
     "name": "stdout",
     "output_type": "stream",
     "text": [
      "+-----+--------------------+--------------------+--------------------+--------------------+--------------------+--------------------+\n",
      "|stars|                text|               words|            filtered|            UniGrams|             BiGrams|            TriGrams|\n",
      "+-----+--------------------+--------------------+--------------------+--------------------+--------------------+--------------------+\n",
      "|  4.0|Ever wanted too j...|[ever, wanted, to...|[wanted, bite, fu...|[wanted, bite, fu...|[wanted bite, bit...|[wanted bite full...|\n",
      "|  5.0|Dry-aged bone-in ...|[dry, aged, bone,...|[dry, aged, bone,...|[dry, aged, bone,...|[dry aged, aged b...|[dry aged bone, a...|\n",
      "|  5.0|I lived in Boston...|[i, lived, in, bo...|[lived, boston, y...|[lived, boston, y...|[lived boston, bo...|[lived boston yea...|\n",
      "|  3.0|Some good things ...|[some, good, thin...|[good, things, al...|[good, things, al...|[good things, thi...|[good things alib...|\n",
      "|  4.0|Great place to gr...|[great, place, to...|[great, place, gr...|[great, place, gr...|[great place, pla...|[great place grab...|\n",
      "|  1.0|It's like the Wal...|[it, s, like, the...|[walmart, sports,...|[walmart, sports,...|[walmart sports, ...|[walmart sports m...|\n",
      "|  5.0|The food was incr...|[the, food, was, ...|[food, incredible...|[food, incredible...|[food incredible,...|[food incredible ...|\n",
      "|  5.0|Haven't been so h...|[haven, t, been, ...|[happy, restauran...|[happy, restauran...|[happy restaurant...|[happy restaurant...|\n",
      "|  5.0|These guys helped...|[these, guys, hel...|[guys, helped, ya...|[guys, helped, ya...|[guys helped, hel...|[guys helped yaki...|\n",
      "|  4.0|great service and...|[great, service, ...|[great, service, ...|[great, service, ...|[great service, s...|[great service wo...|\n",
      "+-----+--------------------+--------------------+--------------------+--------------------+--------------------+--------------------+\n",
      "only showing top 10 rows"
     ]
    }
   ],
   "source": [
    "result.show(10)"
   ]
  },
  {
   "cell_type": "code",
   "execution_count": 22,
   "id": "73c596a1-77d2-4a60-a12e-45247e47eb68",
   "metadata": {
    "execution": {
     "iopub.execute_input": "2022-04-06T10:35:17.874272Z",
     "iopub.status.busy": "2022-04-06T10:35:17.874045Z",
     "iopub.status.idle": "2022-04-06T10:35:29.209653Z",
     "shell.execute_reply": "2022-04-06T10:35:29.208927Z",
     "shell.execute_reply.started": "2022-04-06T10:35:17.874248Z"
    },
    "tags": []
   },
   "outputs": [
    {
     "data": {
      "application/vnd.jupyter.widget-view+json": {
       "model_id": "3da5a7b3116c4d16b8aca388f108ad99",
       "version_major": 2,
       "version_minor": 0
      },
      "text/plain": [
       "VBox()"
      ]
     },
     "metadata": {},
     "output_type": "display_data"
    },
    {
     "data": {
      "application/vnd.jupyter.widget-view+json": {
       "model_id": "",
       "version_major": 2,
       "version_minor": 0
      },
      "text/plain": [
       "FloatProgress(value=0.0, bar_style='info', description='Progress:', layout=Layout(height='25px', width='50%'),…"
      ]
     },
     "metadata": {},
     "output_type": "display_data"
    }
   ],
   "source": [
    "#light_pipeline.save(\"s3://ashprojfinal/Ngram_pipeline/\")"
   ]
  },
  {
   "cell_type": "code",
   "execution_count": 9,
   "id": "85165690-f903-4147-8a43-228f9cfdda75",
   "metadata": {
    "execution": {
     "iopub.execute_input": "2022-04-07T18:35:35.621538Z",
     "iopub.status.busy": "2022-04-07T18:35:35.621305Z",
     "iopub.status.idle": "2022-04-07T18:35:50.957437Z",
     "shell.execute_reply": "2022-04-07T18:35:50.956840Z",
     "shell.execute_reply.started": "2022-04-07T18:35:35.621514Z"
    },
    "tags": []
   },
   "outputs": [
    {
     "data": {
      "application/vnd.jupyter.widget-view+json": {
       "model_id": "c256ac29b6c142518066d3174f4cb451",
       "version_major": 2,
       "version_minor": 0
      },
      "text/plain": [
       "VBox()"
      ]
     },
     "metadata": {},
     "output_type": "display_data"
    },
    {
     "data": {
      "application/vnd.jupyter.widget-view+json": {
       "model_id": "",
       "version_major": 2,
       "version_minor": 0
      },
      "text/plain": [
       "FloatProgress(value=0.0, bar_style='info', description='Progress:', layout=Layout(height='25px', width='50%'),…"
      ]
     },
     "metadata": {},
     "output_type": "display_data"
    }
   ],
   "source": [
    "Ngram_pipe = PipelineModel.load(\"hdfs:///Ngram_pipe/\")"
   ]
  },
  {
   "cell_type": "code",
   "execution_count": 10,
   "id": "769204b3-d010-456d-b902-7dbad8341947",
   "metadata": {
    "execution": {
     "iopub.execute_input": "2022-04-07T18:35:50.958582Z",
     "iopub.status.busy": "2022-04-07T18:35:50.958393Z",
     "iopub.status.idle": "2022-04-07T18:35:51.749659Z",
     "shell.execute_reply": "2022-04-07T18:35:51.749023Z",
     "shell.execute_reply.started": "2022-04-07T18:35:50.958560Z"
    },
    "tags": []
   },
   "outputs": [
    {
     "data": {
      "application/vnd.jupyter.widget-view+json": {
       "model_id": "bf596580195642d18e4f6428f0c8d525",
       "version_major": 2,
       "version_minor": 0
      },
      "text/plain": [
       "VBox()"
      ]
     },
     "metadata": {},
     "output_type": "display_data"
    },
    {
     "data": {
      "application/vnd.jupyter.widget-view+json": {
       "model_id": "",
       "version_major": 2,
       "version_minor": 0
      },
      "text/plain": [
       "FloatProgress(value=0.0, bar_style='info', description='Progress:', layout=Layout(height='25px', width='50%'),…"
      ]
     },
     "metadata": {},
     "output_type": "display_data"
    }
   ],
   "source": [
    "Ngram_pipe_test = Ngram_pipe.transform(review)"
   ]
  },
  {
   "cell_type": "code",
   "execution_count": 11,
   "id": "9e639915-a19c-4f9e-b38e-a96651a62290",
   "metadata": {
    "execution": {
     "iopub.execute_input": "2022-04-07T18:35:51.751267Z",
     "iopub.status.busy": "2022-04-07T18:35:51.751011Z",
     "iopub.status.idle": "2022-04-07T18:35:55.141660Z",
     "shell.execute_reply": "2022-04-07T18:35:55.124865Z",
     "shell.execute_reply.started": "2022-04-07T18:35:51.751233Z"
    },
    "tags": []
   },
   "outputs": [
    {
     "data": {
      "application/vnd.jupyter.widget-view+json": {
       "model_id": "72e95f3b74d1442ba6d4780fad353265",
       "version_major": 2,
       "version_minor": 0
      },
      "text/plain": [
       "VBox()"
      ]
     },
     "metadata": {},
     "output_type": "display_data"
    },
    {
     "data": {
      "application/vnd.jupyter.widget-view+json": {
       "model_id": "",
       "version_major": 2,
       "version_minor": 0
      },
      "text/plain": [
       "FloatProgress(value=0.0, bar_style='info', description='Progress:', layout=Layout(height='25px', width='50%'),…"
      ]
     },
     "metadata": {},
     "output_type": "display_data"
    },
    {
     "name": "stdout",
     "output_type": "stream",
     "text": [
      "+-----+--------------------+--------------------+--------------------+--------------------+--------------------+--------------------+\n",
      "|stars|                text|               words|            filtered|            UniGrams|             BiGrams|            TriGrams|\n",
      "+-----+--------------------+--------------------+--------------------+--------------------+--------------------+--------------------+\n",
      "|  4.0|Ever wanted too j...|[ever, wanted, to...|[wanted, bite, fu...|[wanted, bite, fu...|[wanted bite, bit...|[wanted bite full...|\n",
      "|  5.0|Dry-aged bone-in ...|[dry, aged, bone,...|[dry, aged, bone,...|[dry, aged, bone,...|[dry aged, aged b...|[dry aged bone, a...|\n",
      "|  5.0|I lived in Boston...|[i, lived, in, bo...|[lived, boston, y...|[lived, boston, y...|[lived boston, bo...|[lived boston yea...|\n",
      "|  3.0|Some good things ...|[some, good, thin...|[good, things, al...|[good, things, al...|[good things, thi...|[good things alib...|\n",
      "|  4.0|Great place to gr...|[great, place, to...|[great, place, gr...|[great, place, gr...|[great place, pla...|[great place grab...|\n",
      "|  1.0|It's like the Wal...|[it, s, like, the...|[walmart, sports,...|[walmart, sports,...|[walmart sports, ...|[walmart sports m...|\n",
      "|  5.0|The food was incr...|[the, food, was, ...|[food, incredible...|[food, incredible...|[food incredible,...|[food incredible ...|\n",
      "|  5.0|Haven't been so h...|[haven, t, been, ...|[happy, restauran...|[happy, restauran...|[happy restaurant...|[happy restaurant...|\n",
      "|  5.0|These guys helped...|[these, guys, hel...|[guys, helped, ya...|[guys, helped, ya...|[guys helped, hel...|[guys helped yaki...|\n",
      "|  4.0|great service and...|[great, service, ...|[great, service, ...|[great, service, ...|[great service, s...|[great service wo...|\n",
      "+-----+--------------------+--------------------+--------------------+--------------------+--------------------+--------------------+\n",
      "only showing top 10 rows"
     ]
    }
   ],
   "source": [
    "Ngram_pipe_test.show(10)"
   ]
  },
  {
   "cell_type": "markdown",
   "id": "3de818d4-3430-44a4-ab83-76bc986b86b9",
   "metadata": {},
   "source": [
    "### Unique Ngram Count"
   ]
  },
  {
   "cell_type": "code",
   "execution_count": 51,
   "id": "c9e129b0-b12a-4d88-a36f-b43b02903c4d",
   "metadata": {
    "execution": {
     "iopub.execute_input": "2022-04-07T19:34:38.342486Z",
     "iopub.status.busy": "2022-04-07T19:34:38.342307Z",
     "iopub.status.idle": "2022-04-07T19:38:00.141674Z",
     "shell.execute_reply": "2022-04-07T19:38:00.140948Z",
     "shell.execute_reply.started": "2022-04-07T19:34:38.342464Z"
    },
    "tags": []
   },
   "outputs": [
    {
     "data": {
      "application/vnd.jupyter.widget-view+json": {
       "model_id": "dfdcc011cf1541978200ec75b97e9941",
       "version_major": 2,
       "version_minor": 0
      },
      "text/plain": [
       "VBox()"
      ]
     },
     "metadata": {},
     "output_type": "display_data"
    },
    {
     "data": {
      "application/vnd.jupyter.widget-view+json": {
       "model_id": "",
       "version_major": 2,
       "version_minor": 0
      },
      "text/plain": [
       "FloatProgress(value=0.0, bar_style='info', description='Progress:', layout=Layout(height='25px', width='50%'),…"
      ]
     },
     "metadata": {},
     "output_type": "display_data"
    },
    {
     "name": "stdout",
     "output_type": "stream",
     "text": [
      "+-------+-------+\n",
      "|unigram|  count|\n",
      "+-------+-------+\n",
      "|   food|4411677|\n",
      "|   good|4222370|\n",
      "|  place|4066403|\n",
      "|  great|3721926|\n",
      "|   time|2944327|\n",
      "|service|2882528|\n",
      "|   nice|1548504|\n",
      "|   love|1370791|\n",
      "|  staff|1365744|\n",
      "|  order|1353377|\n",
      "+-------+-------+\n",
      "only showing top 10 rows"
     ]
    }
   ],
   "source": [
    "unique_unigram = Ngram_pipe_test.select(explode(\"UniGrams\").alias(\"unigram\")).groupBy(\"unigram\").count().orderBy(desc(\"count\"), \"unigram\")\n",
    "unique_unigram.show(10)"
   ]
  },
  {
   "cell_type": "code",
   "execution_count": 53,
   "id": "4749387f-2b8e-4d95-af4c-c7a8e5c68081",
   "metadata": {
    "execution": {
     "iopub.execute_input": "2022-04-07T19:43:22.277817Z",
     "iopub.status.busy": "2022-04-07T19:43:22.277638Z",
     "iopub.status.idle": "2022-04-07T19:46:44.072686Z",
     "shell.execute_reply": "2022-04-07T19:46:44.072066Z",
     "shell.execute_reply.started": "2022-04-07T19:43:22.277795Z"
    },
    "tags": []
   },
   "outputs": [
    {
     "data": {
      "application/vnd.jupyter.widget-view+json": {
       "model_id": "e69343f173c74a41a93bc22d4fa42398",
       "version_major": 2,
       "version_minor": 0
      },
      "text/plain": [
       "VBox()"
      ]
     },
     "metadata": {},
     "output_type": "display_data"
    },
    {
     "data": {
      "application/vnd.jupyter.widget-view+json": {
       "model_id": "",
       "version_major": 2,
       "version_minor": 0
      },
      "text/plain": [
       "FloatProgress(value=0.0, bar_style='info', description='Progress:', layout=Layout(height='25px', width='50%'),…"
      ]
     },
     "metadata": {},
     "output_type": "display_data"
    }
   ],
   "source": [
    "unigram_plot = unique_unigram.limit(30).toPandas()"
   ]
  },
  {
   "cell_type": "code",
   "execution_count": 54,
   "id": "19509e00-fd09-4eb9-9dbe-185203c2b5ac",
   "metadata": {
    "execution": {
     "iopub.execute_input": "2022-04-07T19:46:44.074078Z",
     "iopub.status.busy": "2022-04-07T19:46:44.073815Z",
     "iopub.status.idle": "2022-04-07T19:46:44.850013Z",
     "shell.execute_reply": "2022-04-07T19:46:44.849317Z",
     "shell.execute_reply.started": "2022-04-07T19:46:44.074042Z"
    },
    "tags": []
   },
   "outputs": [
    {
     "data": {
      "application/vnd.jupyter.widget-view+json": {
       "model_id": "1bfc0e7d38d84aebaf72bd6e84e6c3be",
       "version_major": 2,
       "version_minor": 0
      },
      "text/plain": [
       "VBox()"
      ]
     },
     "metadata": {},
     "output_type": "display_data"
    },
    {
     "data": {
      "application/vnd.jupyter.widget-view+json": {
       "model_id": "",
       "version_major": 2,
       "version_minor": 0
      },
      "text/plain": [
       "FloatProgress(value=0.0, bar_style='info', description='Progress:', layout=Layout(height='25px', width='50%'),…"
      ]
     },
     "metadata": {},
     "output_type": "display_data"
    },
    {
     "data": {
      "image/png": "[encoded data removed]",
      "text/plain": [
       "<IPython.core.display.Image object>"
      ]
     },
     "metadata": {},
     "output_type": "display_data"
    }
   ],
   "source": [
    "plt.clf()\n",
    "unigram_plot.plot(kind='bar', x='unigram',y='count', legend=None, figsize=(8,6))\n",
    "plt.title('Top Unigrams')\n",
    "plt.xlabel('Unigram')\n",
    "plt.ylabel('Count')\n",
    "\n",
    "%matplot plt"
   ]
  },
  {
   "cell_type": "code",
   "execution_count": 50,
   "id": "c6d96db9-2298-4513-b481-6385047107f7",
   "metadata": {
    "execution": {
     "iopub.execute_input": "2022-04-07T19:28:09.995474Z",
     "iopub.status.busy": "2022-04-07T19:28:09.995245Z",
     "iopub.status.idle": "2022-04-07T19:34:38.341240Z",
     "shell.execute_reply": "2022-04-07T19:34:38.340569Z",
     "shell.execute_reply.started": "2022-04-07T19:28:09.995449Z"
    },
    "tags": []
   },
   "outputs": [
    {
     "data": {
      "application/vnd.jupyter.widget-view+json": {
       "model_id": "636ddad4a6c64fe6a58d5f0875c1410c",
       "version_major": 2,
       "version_minor": 0
      },
      "text/plain": [
       "VBox()"
      ]
     },
     "metadata": {},
     "output_type": "display_data"
    },
    {
     "data": {
      "application/vnd.jupyter.widget-view+json": {
       "model_id": "",
       "version_major": 2,
       "version_minor": 0
      },
      "text/plain": [
       "FloatProgress(value=0.0, bar_style='info', description='Progress:', layout=Layout(height='25px', width='50%'),…"
      ]
     },
     "metadata": {},
     "output_type": "display_data"
    },
    {
     "name": "stdout",
     "output_type": "stream",
     "text": [
      "+----------------+------+\n",
      "|          bigram| count|\n",
      "+----------------+------+\n",
      "|customer service|420058|\n",
      "|highly recommend|327591|\n",
      "|       food good|271209|\n",
      "|     pretty good|226034|\n",
      "|       ice cream|225064|\n",
      "|     great place|200225|\n",
      "|  staff friendly|186075|\n",
      "|   great service|183457|\n",
      "|      love place|179069|\n",
      "|      great food|177961|\n",
      "+----------------+------+\n",
      "only showing top 10 rows"
     ]
    }
   ],
   "source": [
    "unique_bigram = Ngram_pipe_test.select(explode(\"BiGrams\").alias(\"bigram\")).groupBy(\"bigram\").count().orderBy(desc(\"count\"), \"bigram\")\n",
    "unique_bigram.show(10)"
   ]
  },
  {
   "cell_type": "code",
   "execution_count": 55,
   "id": "a5c7892c-ea4b-427e-978d-24e735412dcc",
   "metadata": {
    "execution": {
     "iopub.execute_input": "2022-04-07T19:46:44.851129Z",
     "iopub.status.busy": "2022-04-07T19:46:44.850946Z",
     "iopub.status.idle": "2022-04-07T19:51:06.794302Z",
     "shell.execute_reply": "2022-04-07T19:51:06.793693Z",
     "shell.execute_reply.started": "2022-04-07T19:46:44.851107Z"
    },
    "tags": []
   },
   "outputs": [
    {
     "data": {
      "application/vnd.jupyter.widget-view+json": {
       "model_id": "b64307a3cd274ca9b0fac1a363f5f6f3",
       "version_major": 2,
       "version_minor": 0
      },
      "text/plain": [
       "VBox()"
      ]
     },
     "metadata": {},
     "output_type": "display_data"
    },
    {
     "data": {
      "application/vnd.jupyter.widget-view+json": {
       "model_id": "",
       "version_major": 2,
       "version_minor": 0
      },
      "text/plain": [
       "FloatProgress(value=0.0, bar_style='info', description='Progress:', layout=Layout(height='25px', width='50%'),…"
      ]
     },
     "metadata": {},
     "output_type": "display_data"
    }
   ],
   "source": [
    "bigram_plot = unique_bigram.limit(30).toPandas()"
   ]
  },
  {
   "cell_type": "code",
   "execution_count": 56,
   "id": "e8bb5247-467a-4b86-87b5-d49c60be2e15",
   "metadata": {
    "execution": {
     "iopub.execute_input": "2022-04-07T19:51:06.795592Z",
     "iopub.status.busy": "2022-04-07T19:51:06.795332Z",
     "iopub.status.idle": "2022-04-07T19:51:07.068738Z",
     "shell.execute_reply": "2022-04-07T19:51:07.068122Z",
     "shell.execute_reply.started": "2022-04-07T19:51:06.795556Z"
    },
    "tags": []
   },
   "outputs": [
    {
     "data": {
      "application/vnd.jupyter.widget-view+json": {
       "model_id": "706875bfb67f48e7b5b9b4fb575bf777",
       "version_major": 2,
       "version_minor": 0
      },
      "text/plain": [
       "VBox()"
      ]
     },
     "metadata": {},
     "output_type": "display_data"
    },
    {
     "data": {
      "application/vnd.jupyter.widget-view+json": {
       "model_id": "",
       "version_major": 2,
       "version_minor": 0
      },
      "text/plain": [
       "FloatProgress(value=0.0, bar_style='info', description='Progress:', layout=Layout(height='25px', width='50%'),…"
      ]
     },
     "metadata": {},
     "output_type": "display_data"
    },
    {
     "data": {
      "image/png": "[encoded data removed]",
      "text/plain": [
       "<IPython.core.display.Image object>"
      ]
     },
     "metadata": {},
     "output_type": "display_data"
    }
   ],
   "source": [
    "plt.clf()\n",
    "bigram_plot.plot(kind='bar', x='bigram',y='count', legend=None, figsize=(8,6))\n",
    "plt.title('Top Bigrams')\n",
    "plt.xlabel('Bigram')\n",
    "plt.ylabel('Count')\n",
    "\n",
    "%matplot plt"
   ]
  },
  {
   "cell_type": "code",
   "execution_count": 52,
   "id": "4ec8057d-f064-4ade-91f5-f3da792af390",
   "metadata": {
    "execution": {
     "iopub.execute_input": "2022-04-07T19:38:00.143034Z",
     "iopub.status.busy": "2022-04-07T19:38:00.142839Z",
     "iopub.status.idle": "2022-04-07T19:43:22.276528Z",
     "shell.execute_reply": "2022-04-07T19:43:22.275754Z",
     "shell.execute_reply.started": "2022-04-07T19:38:00.142995Z"
    },
    "tags": []
   },
   "outputs": [
    {
     "data": {
      "application/vnd.jupyter.widget-view+json": {
       "model_id": "51e60b7e366c4070a28c08b7ce091ba4",
       "version_major": 2,
       "version_minor": 0
      },
      "text/plain": [
       "VBox()"
      ]
     },
     "metadata": {},
     "output_type": "display_data"
    },
    {
     "data": {
      "application/vnd.jupyter.widget-view+json": {
       "model_id": "",
       "version_major": 2,
       "version_minor": 0
      },
      "text/plain": [
       "FloatProgress(value=0.0, bar_style='info', description='Progress:', layout=Layout(height='25px', width='50%'),…"
      ]
     },
     "metadata": {},
     "output_type": "display_data"
    },
    {
     "name": "stdout",
     "output_type": "stream",
     "text": [
      "+--------------------+-----+\n",
      "|             trigram|count|\n",
      "+--------------------+-----+\n",
      "|great customer se...|38078|\n",
      "|highly recommend ...|30499|\n",
      "|  food great service|29894|\n",
      "|staff super friendly|26796|\n",
      "|    great food great|26366|\n",
      "|   food good service|25845|\n",
      "|    food pretty good|24927|\n",
      "|  service great food|22903|\n",
      "|  sweet potato fries|22067|\n",
      "|      love love love|21532|\n",
      "+--------------------+-----+\n",
      "only showing top 10 rows"
     ]
    }
   ],
   "source": [
    "unique_trigram = Ngram_pipe_test.select(explode(\"TriGrams\").alias(\"trigram\")).groupBy(\"trigram\").count().orderBy(desc(\"count\"), \"trigram\")\n",
    "unique_trigram.show(10)"
   ]
  },
  {
   "cell_type": "code",
   "execution_count": 57,
   "id": "705299d3-8dba-4a84-8134-820b0121a36c",
   "metadata": {
    "execution": {
     "iopub.execute_input": "2022-04-07T19:51:07.070229Z",
     "iopub.status.busy": "2022-04-07T19:51:07.070051Z",
     "iopub.status.idle": "2022-04-07T19:56:19.130078Z",
     "shell.execute_reply": "2022-04-07T19:56:19.129521Z",
     "shell.execute_reply.started": "2022-04-07T19:51:07.070206Z"
    },
    "tags": []
   },
   "outputs": [
    {
     "data": {
      "application/vnd.jupyter.widget-view+json": {
       "model_id": "5e28b059b82349f085a23743e2d41f69",
       "version_major": 2,
       "version_minor": 0
      },
      "text/plain": [
       "VBox()"
      ]
     },
     "metadata": {},
     "output_type": "display_data"
    },
    {
     "data": {
      "application/vnd.jupyter.widget-view+json": {
       "model_id": "",
       "version_major": 2,
       "version_minor": 0
      },
      "text/plain": [
       "FloatProgress(value=0.0, bar_style='info', description='Progress:', layout=Layout(height='25px', width='50%'),…"
      ]
     },
     "metadata": {},
     "output_type": "display_data"
    }
   ],
   "source": [
    "trigram_plot = unique_trigram.limit(15).toPandas()"
   ]
  },
  {
   "cell_type": "code",
   "execution_count": 59,
   "id": "f86730bc-fd21-4ef2-9b1c-6a97fcf20eb7",
   "metadata": {
    "execution": {
     "iopub.execute_input": "2022-04-07T19:56:52.396474Z",
     "iopub.status.busy": "2022-04-07T19:56:52.396230Z",
     "iopub.status.idle": "2022-04-07T19:56:52.680756Z",
     "shell.execute_reply": "2022-04-07T19:56:52.679947Z",
     "shell.execute_reply.started": "2022-04-07T19:56:52.396449Z"
    },
    "tags": []
   },
   "outputs": [
    {
     "data": {
      "application/vnd.jupyter.widget-view+json": {
       "model_id": "6bb4ecb4ff4746ee8bfd418b5fb319ee",
       "version_major": 2,
       "version_minor": 0
      },
      "text/plain": [
       "VBox()"
      ]
     },
     "metadata": {},
     "output_type": "display_data"
    },
    {
     "data": {
      "application/vnd.jupyter.widget-view+json": {
       "model_id": "",
       "version_major": 2,
       "version_minor": 0
      },
      "text/plain": [
       "FloatProgress(value=0.0, bar_style='info', description='Progress:', layout=Layout(height='25px', width='50%'),…"
      ]
     },
     "metadata": {},
     "output_type": "display_data"
    },
    {
     "data": {
      "image/png": "[encoded data removed]",
      "text/plain": [
       "<IPython.core.display.Image object>"
      ]
     },
     "metadata": {},
     "output_type": "display_data"
    }
   ],
   "source": [
    "plt.clf()\n",
    "trigram_plot.plot(kind='bar', x='trigram',y='count', legend=None, figsize=(8,6))\n",
    "plt.title('Top Trigrams')\n",
    "plt.xlabel('Trigram')\n",
    "plt.ylabel('Count')\n",
    "\n",
    "%matplot plt"
   ]
  },
  {
   "cell_type": "code",
   "execution_count": 14,
   "id": "27e9e143-ad78-408a-aeea-bc346779d935",
   "metadata": {
    "execution": {
     "iopub.execute_input": "2022-04-07T18:37:39.298757Z",
     "iopub.status.busy": "2022-04-07T18:37:39.298520Z",
     "iopub.status.idle": "2022-04-07T18:37:40.079282Z",
     "shell.execute_reply": "2022-04-07T18:37:40.078530Z",
     "shell.execute_reply.started": "2022-04-07T18:37:39.298733Z"
    },
    "tags": []
   },
   "outputs": [
    {
     "data": {
      "application/vnd.jupyter.widget-view+json": {
       "model_id": "d7f83ca75d2d448889ef3e034ca3e89d",
       "version_major": 2,
       "version_minor": 0
      },
      "text/plain": [
       "VBox()"
      ]
     },
     "metadata": {},
     "output_type": "display_data"
    },
    {
     "data": {
      "application/vnd.jupyter.widget-view+json": {
       "model_id": "",
       "version_major": 2,
       "version_minor": 0
      },
      "text/plain": [
       "FloatProgress(value=0.0, bar_style='info', description='Progress:', layout=Layout(height='25px', width='50%'),…"
      ]
     },
     "metadata": {},
     "output_type": "display_data"
    },
    {
     "name": "stdout",
     "output_type": "stream",
     "text": [
      "+-----+--------------------+--------------------+--------------------+--------------------+--------------------+--------------------+\n",
      "|stars|                text|               words|            filtered|            UniGrams|             BiGrams|            TriGrams|\n",
      "+-----+--------------------+--------------------+--------------------+--------------------+--------------------+--------------------+\n",
      "|  1.0|It's like the Wal...|[it, s, like, the...|[walmart, sports,...|[walmart, sports,...|[walmart sports, ...|[walmart sports m...|\n",
      "|  1.0|Well this place h...|[well, this, plac...|[place, decent, f...|[place, decent, f...|[place decent, de...|[place decent foo...|\n",
      "|  1.0|I went to this pl...|[i, went, to, thi...|[place, birthday,...|[place, birthday,...|[place birthday, ...|[place birthday i...|\n",
      "|  1.0|Ordered a fish sa...|[ordered, a, fish...|[ordered, fish, s...|[ordered, fish, s...|[ordered fish, fi...|[ordered fish san...|\n",
      "|  1.0|The fact they got...|[the, fact, they,...|[fact, 1, star, g...|[fact, 1, star, g...|[fact 1, 1 star, ...|[fact 1 star, 1 s...|\n",
      "|  1.0|The night we spen...|[the, night, we, ...|[night, spent, wo...|[night, spent, wo...|[night spent, spe...|[night spent wors...|\n",
      "|  1.0|Horrible biriyani...|[horrible, biriya...|[horrible, biriya...|[horrible, biriya...|[horrible biriyan...|[horrible biriyan...|\n",
      "|  1.0|Went there tonigh...|[went, there, ton...|[tonight, view, b...|[tonight, view, b...|[tonight view, vi...|[tonight view bru...|\n",
      "|  1.0|Yea I don't know ...|[yea, i, don, t, ...|[yea, stay, busin...|[yea, stay, busin...|[yea stay, stay b...|[yea stay busines...|\n",
      "|  1.0|Came here because...|[came, here, beca...|[good, reviews, r...|[good, reviews, r...|[good reviews, re...|[good reviews rav...|\n",
      "+-----+--------------------+--------------------+--------------------+--------------------+--------------------+--------------------+\n",
      "only showing top 10 rows"
     ]
    }
   ],
   "source": [
    "one_star = Ngram_pipe_test.filter(col('stars')==1.0)\n",
    "one_star.show(10)"
   ]
  },
  {
   "cell_type": "code",
   "execution_count": 18,
   "id": "4a215c6d-c324-4d81-8a50-05dd68bd74b3",
   "metadata": {
    "execution": {
     "iopub.execute_input": "2022-04-07T18:46:26.869731Z",
     "iopub.status.busy": "2022-04-07T18:46:26.869497Z",
     "iopub.status.idle": "2022-04-07T18:50:57.022997Z",
     "shell.execute_reply": "2022-04-07T18:50:57.022414Z",
     "shell.execute_reply.started": "2022-04-07T18:46:26.869707Z"
    },
    "tags": []
   },
   "outputs": [
    {
     "data": {
      "application/vnd.jupyter.widget-view+json": {
       "model_id": "d96325af21f848f3bba8a87ffc7b823a",
       "version_major": 2,
       "version_minor": 0
      },
      "text/plain": [
       "VBox()"
      ]
     },
     "metadata": {},
     "output_type": "display_data"
    },
    {
     "data": {
      "application/vnd.jupyter.widget-view+json": {
       "model_id": "",
       "version_major": 2,
       "version_minor": 0
      },
      "text/plain": [
       "FloatProgress(value=0.0, bar_style='info', description='Progress:', layout=Layout(height='25px', width='50%'),…"
      ]
     },
     "metadata": {},
     "output_type": "display_data"
    }
   ],
   "source": [
    "one_star_unigram = one_star.select(explode(\"UniGrams\").alias(\"unigram\")).groupBy(\"unigram\").count().orderBy(desc(\"count\"), \"unigram\").limit(20).toPandas()\n",
    "one_star_bigram = one_star.select(explode(\"BiGrams\").alias(\"bigram\")).groupBy(\"bigram\").count().orderBy(desc(\"count\"), \"bigram\").limit(20).toPandas()\n",
    "one_star_trigram = one_star.select(explode(\"TriGrams\").alias(\"trigram\")).groupBy(\"trigram\").count().orderBy(desc(\"count\"), \"trigram\").limit(20).toPandas()"
   ]
  },
  {
   "cell_type": "code",
   "execution_count": 49,
   "id": "b615eb2b-b510-4f84-8c1b-764b3dd85859",
   "metadata": {
    "execution": {
     "iopub.execute_input": "2022-04-07T19:26:41.403253Z",
     "iopub.status.busy": "2022-04-07T19:26:41.403016Z",
     "iopub.status.idle": "2022-04-07T19:26:42.216639Z",
     "shell.execute_reply": "2022-04-07T19:26:42.215950Z",
     "shell.execute_reply.started": "2022-04-07T19:26:41.403229Z"
    },
    "tags": []
   },
   "outputs": [
    {
     "data": {
      "application/vnd.jupyter.widget-view+json": {
       "model_id": "1ba747726bce4fba97556da052655256",
       "version_major": 2,
       "version_minor": 0
      },
      "text/plain": [
       "VBox()"
      ]
     },
     "metadata": {},
     "output_type": "display_data"
    },
    {
     "data": {
      "application/vnd.jupyter.widget-view+json": {
       "model_id": "",
       "version_major": 2,
       "version_minor": 0
      },
      "text/plain": [
       "FloatProgress(value=0.0, bar_style='info', description='Progress:', layout=Layout(height='25px', width='50%'),…"
      ]
     },
     "metadata": {},
     "output_type": "display_data"
    },
    {
     "data": {
      "image/png": "[encoded data removed]",
      "text/plain": [
       "<IPython.core.display.Image object>"
      ]
     },
     "metadata": {},
     "output_type": "display_data"
    }
   ],
   "source": [
    "fig = plt.figure(constrained_layout=True)\n",
    "\n",
    "ax1 = fig.add_subplot(311)\n",
    "ax2 = fig.add_subplot(312)\n",
    "ax3 = fig.add_subplot(313)\n",
    "plt.title('Top Bigrams')\n",
    "one_star_unigram.plot(kind = 'barh', x='unigram', y='count', ax=ax1, title='Unigram for one star', legend=False, figsize=(10,18))\n",
    "one_star_bigram.plot(kind = 'barh', x='bigram', y='count', ax=ax2, title='Bigram for one star', legend=False, figsize=(10,18))\n",
    "one_star_trigram.plot(kind = 'barh', x='trigram', y='count', ax=ax3, title='Trigram for one star', legend=False, figsize=(10,18))\n",
    "plt.gcf().subplots_adjust(bottom=0.15, left=0.25)\n",
    "%matplot plt"
   ]
  },
  {
   "cell_type": "code",
   "execution_count": null,
   "id": "e130b6f1-8bdd-4ba9-8cbb-3e7e88ea02a9",
   "metadata": {},
   "outputs": [],
   "source": []
  },
  {
   "cell_type": "code",
   "execution_count": null,
   "id": "4c70ebe2-bfc1-486c-9c07-52e21b957a32",
   "metadata": {},
   "outputs": [],
   "source": []
  }
 ],
 "metadata": {
  "kernelspec": {
   "display_name": "PySpark",
   "language": "",
   "name": "pysparkkernel"
  },
  "language_info": {
   "codemirror_mode": {
    "name": "python",
    "version": 3
   },
   "mimetype": "text/x-python",
   "name": "pyspark",
   "pygments_lexer": "python3"
  }
 },
 "nbformat": 4,
 "nbformat_minor": 5
}
