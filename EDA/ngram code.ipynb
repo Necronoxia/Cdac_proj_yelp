{
 "cells": [
  {
   "cell_type": "code",
   "execution_count": 2,
   "id": "ca76e93d-69fb-496c-a872-b831c0659522",
   "metadata": {
    "execution": {
     "iopub.execute_input": "2022-04-06T09:28:38.734209Z",
     "iopub.status.busy": "2022-04-06T09:28:38.733976Z",
     "iopub.status.idle": "2022-04-06T09:28:39.506937Z",
     "shell.execute_reply": "2022-04-06T09:28:39.506175Z",
     "shell.execute_reply.started": "2022-04-06T09:28:38.734182Z"
    },
    "tags": []
   },
   "outputs": [
    {
     "data": {
      "application/vnd.jupyter.widget-view+json": {
       "model_id": "6e31a4a5e71f4b2c975d4d4f16fe5440",
       "version_major": 2,
       "version_minor": 0
      },
      "text/plain": [
       "VBox()"
      ]
     },
     "metadata": {},
     "output_type": "display_data"
    },
    {
     "data": {
      "application/vnd.jupyter.widget-view+json": {
       "model_id": "",
       "version_major": 2,
       "version_minor": 0
      },
      "text/plain": [
       "FloatProgress(value=0.0, bar_style='info', description='Progress:', layout=Layout(height='25px', width='50%'),…"
      ]
     },
     "metadata": {},
     "output_type": "display_data"
    }
   ],
   "source": [
    "from pyspark.sql.functions import *\n",
    "from pyspark.sql.functions import udf\n",
    "from pyspark.sql.types import IntegerType\n",
    "\n",
    "from pyspark.mllib.classification import SVMModel, SVMWithSGD\n",
    "from pyspark.mllib.regression import LabeledPoint\n",
    "from pyspark.mllib.linalg import Vectors as MLLibVectors\n",
    "from pyspark.ml import Pipeline\n",
    "from pyspark.ml.evaluation import BinaryClassificationEvaluator, MulticlassClassificationEvaluator\n",
    "from pyspark.ml.feature import * \n",
    "from pyspark.ml.tuning import CrossValidator\n",
    "from pyspark.ml.tuning import ParamGridBuilder\n",
    "\n",
    "\n",
    "from nltk.stem.porter import *\n",
    "from nltk.tokenize import word_tokenize, sent_tokenize\n",
    "from nltk.corpus import stopwords\n",
    "\n",
    "#import pandas as pd\n",
    "import string \n",
    "import re "
   ]
  },
  {
   "cell_type": "code",
   "execution_count": 3,
   "id": "ab23fc47-137b-4fa4-b7af-bf02b203e156",
   "metadata": {
    "execution": {
     "iopub.execute_input": "2022-04-06T09:28:40.489215Z",
     "iopub.status.busy": "2022-04-06T09:28:40.488989Z",
     "iopub.status.idle": "2022-04-06T09:28:41.256858Z",
     "shell.execute_reply": "2022-04-06T09:28:41.256180Z",
     "shell.execute_reply.started": "2022-04-06T09:28:40.489189Z"
    },
    "tags": []
   },
   "outputs": [
    {
     "data": {
      "application/vnd.jupyter.widget-view+json": {
       "model_id": "9e97030e07954decbb86a7399a61da7e",
       "version_major": 2,
       "version_minor": 0
      },
      "text/plain": [
       "VBox()"
      ]
     },
     "metadata": {},
     "output_type": "display_data"
    },
    {
     "data": {
      "application/vnd.jupyter.widget-view+json": {
       "model_id": "",
       "version_major": 2,
       "version_minor": 0
      },
      "text/plain": [
       "FloatProgress(value=0.0, bar_style='info', description='Progress:', layout=Layout(height='25px', width='50%'),…"
      ]
     },
     "metadata": {},
     "output_type": "display_data"
    }
   ],
   "source": [
    "review = spark.read.orc(\"hdfs:///NLP-orc/*.orc\")"
   ]
  },
  {
   "cell_type": "code",
   "execution_count": 4,
   "id": "eff2690b-cdd0-4029-b71a-1cd6f500cf31",
   "metadata": {
    "execution": {
     "iopub.execute_input": "2022-04-06T09:28:41.511832Z",
     "iopub.status.busy": "2022-04-06T09:28:41.511600Z",
     "iopub.status.idle": "2022-04-06T09:28:41.788592Z",
     "shell.execute_reply": "2022-04-06T09:28:41.787981Z",
     "shell.execute_reply.started": "2022-04-06T09:28:41.511806Z"
    },
    "tags": []
   },
   "outputs": [
    {
     "data": {
      "application/vnd.jupyter.widget-view+json": {
       "model_id": "82fc4d488be54adab37abe03a112996c",
       "version_major": 2,
       "version_minor": 0
      },
      "text/plain": [
       "VBox()"
      ]
     },
     "metadata": {},
     "output_type": "display_data"
    },
    {
     "data": {
      "application/vnd.jupyter.widget-view+json": {
       "model_id": "",
       "version_major": 2,
       "version_minor": 0
      },
      "text/plain": [
       "FloatProgress(value=0.0, bar_style='info', description='Progress:', layout=Layout(height='25px', width='50%'),…"
      ]
     },
     "metadata": {},
     "output_type": "display_data"
    }
   ],
   "source": [
    "review = review.drop(\"cool\",\"funny\",\"useful\")"
   ]
  },
  {
   "cell_type": "code",
   "execution_count": 5,
   "id": "abc603e7-9143-4565-a6e9-3ebafd2d9f24",
   "metadata": {
    "execution": {
     "iopub.execute_input": "2022-04-06T09:28:42.222098Z",
     "iopub.status.busy": "2022-04-06T09:28:42.221869Z",
     "iopub.status.idle": "2022-04-06T09:28:44.508104Z",
     "shell.execute_reply": "2022-04-06T09:28:44.507406Z",
     "shell.execute_reply.started": "2022-04-06T09:28:42.222073Z"
    },
    "tags": []
   },
   "outputs": [
    {
     "data": {
      "application/vnd.jupyter.widget-view+json": {
       "model_id": "f217a5dd1ac44531a0a51162bb4478ff",
       "version_major": 2,
       "version_minor": 0
      },
      "text/plain": [
       "VBox()"
      ]
     },
     "metadata": {},
     "output_type": "display_data"
    },
    {
     "data": {
      "application/vnd.jupyter.widget-view+json": {
       "model_id": "",
       "version_major": 2,
       "version_minor": 0
      },
      "text/plain": [
       "FloatProgress(value=0.0, bar_style='info', description='Progress:', layout=Layout(height='25px', width='50%'),…"
      ]
     },
     "metadata": {},
     "output_type": "display_data"
    },
    {
     "name": "stdout",
     "output_type": "stream",
     "text": [
      "+-----+--------------------+\n",
      "|stars|                text|\n",
      "+-----+--------------------+\n",
      "|  4.0|I swear sometimes...|\n",
      "|  5.0|Made an appointme...|\n",
      "|  4.0|A hospital is the...|\n",
      "|  2.0|This was my third...|\n",
      "|  1.0|Ordered 2 honey b...|\n",
      "|  1.0|I'm not sure what...|\n",
      "|  5.0|Blazing Noodles -...|\n",
      "|  5.0|One of -if not TH...|\n",
      "|  1.0|Saw reviews on Kr...|\n",
      "|  1.0|Typically I've ha...|\n",
      "|  5.0|I got a coney dog...|\n",
      "|  5.0|Nicest owner.  Th...|\n",
      "|  1.0|This was a long t...|\n",
      "|  4.0|I have to agree w...|\n",
      "|  5.0|Well, if you're v...|\n",
      "|  4.0|I wanted to post ...|\n",
      "|  5.0|Second time being...|\n",
      "|  5.0|I trust the docto...|\n",
      "|  1.0|Last week called ...|\n",
      "|  1.0|Twice I have had ...|\n",
      "+-----+--------------------+\n",
      "only showing top 20 rows"
     ]
    }
   ],
   "source": [
    "review.show()"
   ]
  },
  {
   "cell_type": "code",
   "execution_count": 6,
   "id": "815be032-4c10-413f-a6d9-bd4d25849309",
   "metadata": {
    "execution": {
     "iopub.execute_input": "2022-04-06T09:28:44.509748Z",
     "iopub.status.busy": "2022-04-06T09:28:44.509475Z",
     "iopub.status.idle": "2022-04-06T09:28:44.734720Z",
     "shell.execute_reply": "2022-04-06T09:28:44.734158Z",
     "shell.execute_reply.started": "2022-04-06T09:28:44.509710Z"
    },
    "tags": []
   },
   "outputs": [
    {
     "data": {
      "application/vnd.jupyter.widget-view+json": {
       "model_id": "1675e165a48641a899f6dabd506a7246",
       "version_major": 2,
       "version_minor": 0
      },
      "text/plain": [
       "VBox()"
      ]
     },
     "metadata": {},
     "output_type": "display_data"
    },
    {
     "data": {
      "application/vnd.jupyter.widget-view+json": {
       "model_id": "",
       "version_major": 2,
       "version_minor": 0
      },
      "text/plain": [
       "FloatProgress(value=0.0, bar_style='info', description='Progress:', layout=Layout(height='25px', width='50%'),…"
      ]
     },
     "metadata": {},
     "output_type": "display_data"
    }
   ],
   "source": [
    "(train,test) = review.randomSplit([0.75,0.25], seed = 42)"
   ]
  },
  {
   "cell_type": "code",
   "execution_count": 7,
   "id": "6747e04c-b512-49d8-a685-5608f20a45c7",
   "metadata": {
    "execution": {
     "iopub.execute_input": "2022-04-06T09:28:46.435263Z",
     "iopub.status.busy": "2022-04-06T09:28:46.435034Z",
     "iopub.status.idle": "2022-04-06T09:28:57.762229Z",
     "shell.execute_reply": "2022-04-06T09:28:57.761612Z",
     "shell.execute_reply.started": "2022-04-06T09:28:46.435237Z"
    },
    "tags": []
   },
   "outputs": [
    {
     "data": {
      "application/vnd.jupyter.widget-view+json": {
       "model_id": "4bb8a5745caf4004a00cce0c1f7d6046",
       "version_major": 2,
       "version_minor": 0
      },
      "text/plain": [
       "VBox()"
      ]
     },
     "metadata": {},
     "output_type": "display_data"
    },
    {
     "data": {
      "application/vnd.jupyter.widget-view+json": {
       "model_id": "",
       "version_major": 2,
       "version_minor": 0
      },
      "text/plain": [
       "FloatProgress(value=0.0, bar_style='info', description='Progress:', layout=Layout(height='25px', width='50%'),…"
      ]
     },
     "metadata": {},
     "output_type": "display_data"
    },
    {
     "name": "stdout",
     "output_type": "stream",
     "text": [
      "6478499"
     ]
    }
   ],
   "source": [
    "train.count()"
   ]
  },
  {
   "cell_type": "code",
   "execution_count": 8,
   "id": "2c3ea723-33fd-4433-b10d-642d3e493eb2",
   "metadata": {
    "execution": {
     "iopub.execute_input": "2022-04-06T09:28:57.763336Z",
     "iopub.status.busy": "2022-04-06T09:28:57.763158Z",
     "iopub.status.idle": "2022-04-06T09:28:57.836123Z",
     "shell.execute_reply": "2022-04-06T09:28:57.835546Z",
     "shell.execute_reply.started": "2022-04-06T09:28:57.763312Z"
    },
    "tags": []
   },
   "outputs": [
    {
     "data": {
      "application/vnd.jupyter.widget-view+json": {
       "model_id": "59cb6ca8e941485a84e21ab86998d984",
       "version_major": 2,
       "version_minor": 0
      },
      "text/plain": [
       "VBox()"
      ]
     },
     "metadata": {},
     "output_type": "display_data"
    },
    {
     "data": {
      "application/vnd.jupyter.widget-view+json": {
       "model_id": "",
       "version_major": 2,
       "version_minor": 0
      },
      "text/plain": [
       "FloatProgress(value=0.0, bar_style='info', description='Progress:', layout=Layout(height='25px', width='50%'),…"
      ]
     },
     "metadata": {},
     "output_type": "display_data"
    },
    {
     "name": "stdout",
     "output_type": "stream",
     "text": [
      "root\n",
      " |-- stars: double (nullable = true)\n",
      " |-- text: string (nullable = true)"
     ]
    }
   ],
   "source": [
    "train.printSchema()"
   ]
  },
  {
   "cell_type": "code",
   "execution_count": 9,
   "id": "faffaa36-b828-40ec-8d43-3749177447ed",
   "metadata": {
    "execution": {
     "iopub.execute_input": "2022-04-06T09:28:57.837453Z",
     "iopub.status.busy": "2022-04-06T09:28:57.837266Z",
     "iopub.status.idle": "2022-04-06T09:29:07.147128Z",
     "shell.execute_reply": "2022-04-06T09:29:07.146405Z",
     "shell.execute_reply.started": "2022-04-06T09:28:57.837429Z"
    },
    "tags": []
   },
   "outputs": [
    {
     "data": {
      "application/vnd.jupyter.widget-view+json": {
       "model_id": "43a62f6e4ea742f282d20b7cd469f202",
       "version_major": 2,
       "version_minor": 0
      },
      "text/plain": [
       "VBox()"
      ]
     },
     "metadata": {},
     "output_type": "display_data"
    },
    {
     "data": {
      "application/vnd.jupyter.widget-view+json": {
       "model_id": "",
       "version_major": 2,
       "version_minor": 0
      },
      "text/plain": [
       "FloatProgress(value=0.0, bar_style='info', description='Progress:', layout=Layout(height='25px', width='50%'),…"
      ]
     },
     "metadata": {},
     "output_type": "display_data"
    },
    {
     "name": "stdout",
     "output_type": "stream",
     "text": [
      "2156904"
     ]
    }
   ],
   "source": [
    "test.count()"
   ]
  },
  {
   "cell_type": "markdown",
   "id": "97ae7a1d-7efd-4927-913b-7c2b070d5c40",
   "metadata": {},
   "source": [
    "### tokenizer"
   ]
  },
  {
   "cell_type": "code",
   "execution_count": 10,
   "id": "eb87627a-66e6-4de9-9909-1ca8647059a2",
   "metadata": {
    "execution": {
     "iopub.execute_input": "2022-04-06T09:29:07.148250Z",
     "iopub.status.busy": "2022-04-06T09:29:07.148073Z",
     "iopub.status.idle": "2022-04-06T09:29:07.609558Z",
     "shell.execute_reply": "2022-04-06T09:29:07.515805Z",
     "shell.execute_reply.started": "2022-04-06T09:29:07.148226Z"
    },
    "tags": []
   },
   "outputs": [
    {
     "data": {
      "application/vnd.jupyter.widget-view+json": {
       "model_id": "0843290d978949ce992b0c2e967493d9",
       "version_major": 2,
       "version_minor": 0
      },
      "text/plain": [
       "VBox()"
      ]
     },
     "metadata": {},
     "output_type": "display_data"
    },
    {
     "data": {
      "application/vnd.jupyter.widget-view+json": {
       "model_id": "",
       "version_major": 2,
       "version_minor": 0
      },
      "text/plain": [
       "FloatProgress(value=0.0, bar_style='info', description='Progress:', layout=Layout(height='25px', width='50%'),…"
      ]
     },
     "metadata": {},
     "output_type": "display_data"
    }
   ],
   "source": [
    "rgtoken = RegexTokenizer(inputCol=\"text\",outputCol=\"words\",pattern=\"\\\\W\")\n",
    "\n"
   ]
  },
  {
   "cell_type": "markdown",
   "id": "ec71e838-b695-40f9-ad87-6ba69639beee",
   "metadata": {},
   "source": [
    "### stop word remover"
   ]
  },
  {
   "cell_type": "code",
   "execution_count": 11,
   "id": "d1e9fab3-05dd-45e7-80d5-815ff67fcb17",
   "metadata": {
    "execution": {
     "iopub.execute_input": "2022-04-06T09:29:09.866271Z",
     "iopub.status.busy": "2022-04-06T09:29:09.866024Z",
     "iopub.status.idle": "2022-04-06T09:29:09.932703Z",
     "shell.execute_reply": "2022-04-06T09:29:09.932164Z",
     "shell.execute_reply.started": "2022-04-06T09:29:09.866243Z"
    },
    "tags": []
   },
   "outputs": [
    {
     "data": {
      "application/vnd.jupyter.widget-view+json": {
       "model_id": "c7b235d5993140e793f7ab6ff2c9082b",
       "version_major": 2,
       "version_minor": 0
      },
      "text/plain": [
       "VBox()"
      ]
     },
     "metadata": {},
     "output_type": "display_data"
    },
    {
     "data": {
      "application/vnd.jupyter.widget-view+json": {
       "model_id": "",
       "version_major": 2,
       "version_minor": 0
      },
      "text/plain": [
       "FloatProgress(value=0.0, bar_style='info', description='Progress:', layout=Layout(height='25px', width='50%'),…"
      ]
     },
     "metadata": {},
     "output_type": "display_data"
    }
   ],
   "source": [
    "stops = [\"0o\", \"0s\", \"3a\", \"3b\", \"3d\", \"6b\", \"6o\", \"a\", \"a1\", \"a2\", \"a3\", \"a4\", \"ab\", \"able\", \"about\", \"above\", \"abst\", \"ac\", \"accordance\", \"according\", \"accordingly\", \"across\", \"act\", \"actually\", \"ad\", \"added\", \"adj\", \"ae\", \"af\", \"affected\", \"affecting\", \"affects\", \"after\", \"afterwards\", \"ag\", \"again\", \"against\", \"ah\", \"ain\", \"ain't\", \"aj\", \"al\", \"all\", \"allow\", \"allows\", \"almost\", \"alone\", \"along\", \"already\", \"also\", \"although\", \"always\", \"am\", \"among\", \"amongst\", \"amoungst\", \"amount\", \"an\", \"and\", \"announce\", \"another\", \"any\", \"anybody\", \"anyhow\", \"anymore\", \"anyone\", \"anything\", \"anyway\", \"anyways\", \"anywhere\", \"ao\", \"ap\", \"apart\", \"apparently\", \"appear\", \"appreciate\", \"appropriate\", \"approximately\", \"ar\", \"are\", \"aren\", \"arent\", \"aren't\", \"arise\", \"around\", \"as\", \"a's\", \"aside\", \"ask\", \"asking\", \"associated\", \"at\", \"au\", \"auth\", \"av\", \"available\", \"aw\", \"away\", \"awfully\", \"ax\", \"ay\", \"az\", \"b\", \"b1\", \"b2\", \"b3\", \"ba\", \"back\", \"bc\", \"bd\", \"be\", \"became\", \"because\", \"become\", \"becomes\", \"becoming\", \"been\", \"before\", \"beforehand\", \"begin\", \"beginning\", \"beginnings\", \"begins\", \"behind\", \"being\", \"believe\", \"below\", \"beside\", \"besides\", \"best\", \"better\", \"between\", \"beyond\", \"bi\", \"bill\", \"biol\", \"bj\", \"bk\", \"bl\", \"bn\", \"both\", \"bottom\", \"bp\", \"br\", \"brief\", \"briefly\", \"bs\", \"bt\", \"bu\", \"but\", \"bx\", \"by\", \"c\", \"c1\", \"c2\", \"c3\", \"ca\", \"call\", \"came\", \"can\", \"cannot\", \"cant\", \"can't\", \"cause\", \"causes\", \"cc\", \"cd\", \"ce\", \"certain\", \"certainly\", \"cf\", \"cg\", \"ch\", \"changes\", \"ci\", \"cit\", \"cj\", \"cl\", \"clearly\", \"cm\", \"c'mon\", \"cn\", \"co\", \"com\", \"come\", \"comes\", \"con\", \"concerning\", \"consequently\", \"consider\", \"considering\", \"contain\", \"containing\", \"contains\", \"corresponding\", \"could\", \"couldn\", \"couldnt\", \"couldn't\", \"course\", \"cp\", \"cq\", \"cr\", \"cry\", \"cs\", \"c's\", \"ct\", \"cu\", \"currently\", \"cv\", \"cx\", \"cy\", \"cz\", \"d\", \"d2\", \"da\", \"date\", \"dc\", \"dd\", \"de\", \"definitely\", \"describe\", \"described\", \"despite\", \"detail\", \"df\", \"di\", \"did\", \"didn\", \"didn't\", \"different\", \"dj\", \"dk\", \"dl\", \"do\", \"does\", \"doesn\", \"doesn't\", \"doing\", \"don\", \"done\", \"don't\", \"down\", \"downwards\", \"dp\", \"dr\", \"ds\", \"dt\", \"du\", \"due\", \"during\", \"dx\", \"dy\", \"e\", \"e2\", \"e3\", \"ea\", \"each\", \"ec\", \"ed\", \"edu\", \"ee\", \"ef\", \"effect\", \"eg\", \"ei\", \"eight\", \"eighty\", \"either\", \"ej\", \"el\", \"eleven\", \"else\", \"elsewhere\", \"em\", \"empty\", \"en\", \"end\", \"ending\", \"enough\", \"entirely\", \"eo\", \"ep\", \"eq\", \"er\", \"es\", \"especially\", \"est\", \"et\", \"et-al\", \"etc\", \"eu\", \"ev\", \"even\", \"ever\", \"every\", \"everybody\", \"everyone\", \"everything\", \"everywhere\", \"ex\", \"exactly\", \"example\", \"except\", \"ey\", \"f\", \"f2\", \"fa\", \"far\", \"fc\", \"few\", \"ff\", \"fi\", \"fifteen\", \"fifth\", \"fify\", \"fill\", \"find\", \"fire\", \"first\", \"five\", \"fix\", \"fj\", \"fl\", \"fn\", \"fo\", \"followed\", \"following\", \"follows\", \"for\", \"former\", \"formerly\", \"forth\", \"forty\", \"found\", \"four\", \"fr\", \"from\", \"front\", \"fs\", \"ft\", \"fu\", \"full\", \"further\", \"furthermore\", \"fy\", \"g\", \"ga\", \"gave\", \"ge\", \"get\", \"gets\", \"getting\", \"gi\", \"give\", \"given\", \"gives\", \"giving\", \"gj\", \"gl\", \"go\", \"goes\", \"going\", \"gone\", \"got\", \"gotten\", \"gr\", \"greetings\", \"gs\", \"gy\", \"h\", \"h2\", \"h3\", \"had\", \"hadn\", \"hadn't\", \"happens\", \"hardly\", \"has\", \"hasn\", \"hasnt\", \"hasn't\", \"have\", \"haven\", \"haven't\", \"having\", \"he\", \"hed\", \"he'd\", \"he'll\", \"hello\", \"help\", \"hence\", \"her\", \"here\", \"hereafter\", \"hereby\", \"herein\", \"heres\", \"here's\", \"hereupon\", \"hers\", \"herself\", \"hes\", \"he's\", \"hh\", \"hi\", \"hid\", \"him\", \"himself\", \"his\", \"hither\", \"hj\", \"ho\", \"home\", \"hopefully\", \"how\", \"howbeit\", \"however\", \"how's\", \"hr\", \"hs\", \"http\", \"hu\", \"hundred\", \"hy\", \"i\", \"i2\", \"i3\", \"i4\", \"i6\", \"i7\", \"i8\", \"ia\", \"ib\", \"ibid\", \"ic\", \"id\", \"i'd\", \"ie\", \"if\", \"ig\", \"ignored\", \"ih\", \"ii\", \"ij\", \"il\", \"i'll\", \"im\", \"i'm\", \"immediate\", \"immediately\", \"importance\", \"important\", \"in\", \"inasmuch\", \"inc\", \"indeed\", \"index\", \"indicate\", \"indicated\", \"indicates\", \"information\", \"inner\", \"insofar\", \"instead\", \"interest\", \"into\", \"invention\", \"inward\", \"io\", \"ip\", \"iq\", \"ir\", \"is\", \"isn\", \"isn't\", \"it\", \"itd\", \"it'd\", \"it'll\", \"its\", \"it's\", \"itself\", \"iv\", \"i've\", \"ix\", \"iy\", \"iz\", \"j\", \"jj\", \"jr\", \"js\", \"jt\", \"ju\", \"just\", \"k\", \"ke\", \"keep\", \"keeps\", \"kept\", \"kg\", \"kj\", \"km\", \"know\", \"known\", \"knows\", \"ko\", \"l\", \"l2\", \"la\", \"largely\", \"last\", \"lately\", \"later\", \"latter\", \"latterly\", \"lb\", \"lc\", \"le\", \"least\", \"les\", \"less\", \"lest\", \"let\", \"lets\", \"let's\", \"lf\", \"like\", \"liked\", \"likely\", \"line\", \"little\", \"lj\", \"ll\", \"ll\", \"ln\", \"lo\", \"look\", \"looking\", \"looks\", \"los\", \"lr\", \"ls\", \"lt\", \"ltd\", \"m\", \"m2\", \"ma\", \"made\", \"mainly\", \"make\", \"makes\", \"many\", \"may\", \"maybe\", \"me\", \"mean\", \"means\", \"meantime\", \"meanwhile\", \"merely\", \"mg\", \"might\", \"mightn\", \"mightn't\", \"mill\", \"million\", \"mine\", \"miss\", \"ml\", \"mn\", \"mo\", \"more\", \"moreover\", \"most\", \"mostly\", \"move\", \"mr\", \"mrs\", \"ms\", \"mt\", \"mu\", \"much\", \"mug\", \"must\", \"mustn\", \"mustn't\", \"my\", \"myself\", \"n\", \"n2\", \"na\", \"name\", \"namely\", \"nay\", \"nc\", \"nd\", \"ne\", \"near\", \"nearly\", \"necessarily\", \"necessary\", \"need\", \"needn\", \"needn't\", \"needs\", \"neither\", \"never\", \"nevertheless\", \"new\", \"next\", \"ng\", \"ni\", \"nine\", \"ninety\", \"nj\", \"nl\", \"nn\", \"no\", \"nobody\", \"non\", \"none\", \"nonetheless\", \"noone\", \"nor\", \"normally\", \"nos\", \"not\", \"noted\", \"nothing\", \"novel\", \"now\", \"nowhere\", \"nr\", \"ns\", \"nt\", \"ny\", \"o\", \"oa\", \"ob\", \"obtain\", \"obtained\", \"obviously\", \"oc\", \"od\", \"of\", \"off\", \"often\", \"og\", \"oh\", \"oi\", \"oj\", \"ok\", \"okay\", \"ol\", \"old\", \"om\", \"omitted\", \"on\", \"once\", \"one\", \"ones\", \"only\", \"onto\", \"oo\", \"op\", \"oq\", \"or\", \"ord\", \"os\", \"ot\", \"other\", \"others\", \"otherwise\", \"ou\", \"ought\", \"our\", \"ours\", \"ourselves\", \"out\", \"outside\", \"over\", \"overall\", \"ow\", \"owing\", \"own\", \"ox\", \"oz\", \"p\", \"p1\", \"p2\", \"p3\", \"page\", \"pagecount\", \"pages\", \"par\", \"part\", \"particular\", \"particularly\", \"pas\", \"past\", \"pc\", \"pd\", \"pe\", \"per\", \"perhaps\", \"pf\", \"ph\", \"pi\", \"pj\", \"pk\", \"pl\", \"placed\", \"please\", \"plus\", \"pm\", \"pn\", \"po\", \"poorly\", \"possible\", \"possibly\", \"potentially\", \"pp\", \"pq\", \"pr\", \"predominantly\", \"present\", \"presumably\", \"previously\", \"primarily\", \"probably\", \"promptly\", \"proud\", \"provides\", \"ps\", \"pt\", \"pu\", \"put\", \"py\", \"q\", \"qj\", \"qu\", \"que\", \"quickly\", \"quite\", \"qv\", \"r\", \"r2\", \"ra\", \"ran\", \"rather\", \"rc\", \"rd\", \"re\", \"readily\", \"really\", \"reasonably\", \"recent\", \"recently\", \"ref\", \"refs\", \"regarding\", \"regardless\", \"regards\", \"related\", \"relatively\", \"research\", \"research-articl\", \"respectively\", \"resulted\", \"resulting\", \"results\", \"rf\", \"rh\", \"ri\", \"right\", \"rj\", \"rl\", \"rm\", \"rn\", \"ro\", \"rq\", \"rr\", \"rs\", \"rt\", \"ru\", \"run\", \"rv\", \"ry\", \"s\", \"s2\", \"sa\", \"said\", \"same\", \"saw\", \"say\", \"saying\", \"says\", \"sc\", \"sd\", \"se\", \"sec\", \"second\", \"secondly\", \"section\", \"see\", \"seeing\", \"seem\", \"seemed\", \"seeming\", \"seems\", \"seen\", \"self\", \"selves\", \"sensible\", \"sent\", \"serious\", \"seriously\", \"seven\", \"several\", \"sf\", \"shall\", \"shan\", \"shan't\", \"she\", \"shed\", \"she'd\", \"she'll\", \"shes\", \"she's\", \"should\", \"shouldn\", \"shouldn't\", \"should've\", \"show\", \"showed\", \"shown\", \"showns\", \"shows\", \"si\", \"side\", \"significant\", \"significantly\", \"similar\", \"similarly\", \"since\", \"sincere\", \"six\", \"sixty\", \"sj\", \"sl\", \"slightly\", \"sm\", \"sn\", \"so\", \"some\", \"somebody\", \"somehow\", \"someone\", \"somethan\", \"something\", \"sometime\", \"sometimes\", \"somewhat\", \"somewhere\", \"soon\", \"sorry\", \"sp\", \"specifically\", \"specified\", \"specify\", \"specifying\", \"sq\", \"sr\", \"ss\", \"st\", \"still\", \"stop\", \"strongly\", \"sub\", \"substantially\", \"successfully\", \"such\", \"sufficiently\", \"suggest\", \"sup\", \"sure\", \"sy\", \"system\", \"sz\", \"t\", \"t1\", \"t2\", \"t3\", \"take\", \"taken\", \"taking\", \"tb\", \"tc\", \"td\", \"te\", \"tell\", \"ten\", \"tends\", \"tf\", \"th\", \"than\", \"thank\", \"thanks\", \"thanx\", \"that\", \"that'll\", \"thats\", \"that's\", \"that've\", \"the\", \"their\", \"theirs\", \"them\", \"themselves\", \"then\", \"thence\", \"there\", \"thereafter\", \"thereby\", \"thered\", \"therefore\", \"therein\", \"there'll\", \"thereof\", \"therere\", \"theres\", \"there's\", \"thereto\", \"thereupon\", \"there've\", \"these\", \"they\", \"theyd\", \"they'd\", \"they'll\", \"theyre\", \"they're\", \"they've\", \"thickv\", \"thin\", \"think\", \"third\", \"this\", \"thorough\", \"thoroughly\", \"those\", \"thou\", \"though\", \"thoughh\", \"thousand\", \"three\", \"throug\", \"through\", \"throughout\", \"thru\", \"thus\", \"ti\", \"til\", \"tip\", \"tj\", \"tl\", \"tm\", \"tn\", \"to\", \"together\", \"too\", \"took\", \"top\", \"toward\", \"towards\", \"tp\", \"tq\", \"tr\", \"tried\", \"tries\", \"truly\", \"try\", \"trying\", \"ts\", \"t's\", \"tt\", \"tv\", \"twelve\", \"twenty\", \"twice\", \"two\", \"tx\", \"u\", \"u201d\", \"ue\", \"ui\", \"uj\", \"uk\", \"um\", \"un\", \"under\", \"unfortunately\", \"unless\", \"unlike\", \"unlikely\", \"until\", \"unto\", \"uo\", \"up\", \"upon\", \"ups\", \"ur\", \"us\", \"use\", \"used\", \"useful\", \"usefully\", \"usefulness\", \"uses\", \"using\", \"usually\", \"ut\", \"v\", \"va\", \"value\", \"various\", \"vd\", \"ve\", \"ve\", \"very\", \"via\", \"viz\", \"vj\", \"vo\", \"vol\", \"vols\", \"volumtype\", \"vq\", \"vs\", \"vt\", \"vu\", \"w\", \"wa\", \"want\", \"wants\", \"was\", \"wasn\", \"wasnt\", \"wasn't\", \"way\", \"we\", \"wed\", \"we'd\", \"welcome\", \"well\", \"we'll\", \"well-b\", \"went\", \"were\", \"we're\", \"weren\", \"werent\", \"weren't\", \"we've\", \"what\", \"whatever\", \"what'll\", \"whats\", \"what's\", \"when\", \"whence\", \"whenever\", \"when's\", \"where\", \"whereafter\", \"whereas\", \"whereby\", \"wherein\", \"wheres\", \"where's\", \"whereupon\", \"wherever\", \"whether\", \"which\", \"while\", \"whim\", \"whither\", \"who\", \"whod\", \"whoever\", \"whole\", \"who'll\", \"whom\", \"whomever\", \"whos\", \"who's\", \"whose\", \"why\", \"why's\", \"wi\", \"widely\", \"will\", \"willing\", \"wish\", \"with\", \"within\", \"without\", \"wo\", \"won\", \"wonder\", \"wont\", \"won't\", \"words\", \"world\", \"would\", \"wouldn\", \"wouldnt\", \"wouldn't\", \"www\", \"x\", \"x1\", \"x2\", \"x3\", \"xf\", \"xi\", \"xj\", \"xk\", \"xl\", \"xn\", \"xo\", \"xs\", \"xt\", \"xv\", \"xx\", \"y\", \"y2\", \"yes\", \"yet\", \"yj\", \"yl\", \"you\", \"youd\", \"you'd\", \"you'll\", \"your\", \"youre\", \"you're\", \"yours\", \"yourself\", \"yourselves\", \"you've\", \"yr\", \"ys\", \"yt\", \"z\", \"zero\", \"zi\", \"zz\"]"
   ]
  },
  {
   "cell_type": "code",
   "execution_count": 12,
   "id": "f232f404-962d-410f-ad00-0474fefa38aa",
   "metadata": {
    "execution": {
     "iopub.execute_input": "2022-04-06T09:29:11.285802Z",
     "iopub.status.busy": "2022-04-06T09:29:11.285572Z",
     "iopub.status.idle": "2022-04-06T09:29:11.547088Z",
     "shell.execute_reply": "2022-04-06T09:29:11.546491Z",
     "shell.execute_reply.started": "2022-04-06T09:29:11.285777Z"
    },
    "tags": []
   },
   "outputs": [
    {
     "data": {
      "application/vnd.jupyter.widget-view+json": {
       "model_id": "c8bb6438482a426381b37accfcef19ae",
       "version_major": 2,
       "version_minor": 0
      },
      "text/plain": [
       "VBox()"
      ]
     },
     "metadata": {},
     "output_type": "display_data"
    },
    {
     "data": {
      "application/vnd.jupyter.widget-view+json": {
       "model_id": "",
       "version_major": 2,
       "version_minor": 0
      },
      "text/plain": [
       "FloatProgress(value=0.0, bar_style='info', description='Progress:', layout=Layout(height='25px', width='50%'),…"
      ]
     },
     "metadata": {},
     "output_type": "display_data"
    }
   ],
   "source": [
    "stopword_remover = StopWordsRemover(inputCol=\"words\", outputCol=\"filtered\")\\\n",
    "                    .setStopWords(stops)\n"
   ]
  },
  {
   "cell_type": "markdown",
   "id": "7884c0d8-26dc-4dbe-8a1f-f4be6a07fe40",
   "metadata": {},
   "source": [
    "### Ngram"
   ]
  },
  {
   "cell_type": "code",
   "execution_count": 13,
   "id": "b8e6cc46-46b2-44f3-84e8-c5456a5ff0c7",
   "metadata": {
    "execution": {
     "iopub.execute_input": "2022-04-06T09:29:14.178904Z",
     "iopub.status.busy": "2022-04-06T09:29:14.178667Z",
     "iopub.status.idle": "2022-04-06T09:29:14.232263Z",
     "shell.execute_reply": "2022-04-06T09:29:14.231642Z",
     "shell.execute_reply.started": "2022-04-06T09:29:14.178878Z"
    },
    "tags": []
   },
   "outputs": [
    {
     "data": {
      "application/vnd.jupyter.widget-view+json": {
       "model_id": "cf713ee5cddc451cacdf830eff639f2b",
       "version_major": 2,
       "version_minor": 0
      },
      "text/plain": [
       "VBox()"
      ]
     },
     "metadata": {},
     "output_type": "display_data"
    },
    {
     "data": {
      "application/vnd.jupyter.widget-view+json": {
       "model_id": "",
       "version_major": 2,
       "version_minor": 0
      },
      "text/plain": [
       "FloatProgress(value=0.0, bar_style='info', description='Progress:', layout=Layout(height='25px', width='50%'),…"
      ]
     },
     "metadata": {},
     "output_type": "display_data"
    }
   ],
   "source": [
    "Bigram = NGram(n=2, inputCol=\"filtered\", outputCol=\"BiGrams\")"
   ]
  },
  {
   "cell_type": "code",
   "execution_count": null,
   "id": "21f878bf-e80c-48c1-9a43-6a09d39a224d",
   "metadata": {},
   "outputs": [],
   "source": []
  },
  {
   "cell_type": "code",
   "execution_count": null,
   "id": "0d8ebab8-57c9-4ad9-aa98-b7fcb7c28dd5",
   "metadata": {
    "tags": []
   },
   "outputs": [],
   "source": []
  },
  {
   "cell_type": "markdown",
   "id": "3bd0b090-ae56-4d84-b925-80ad5528b637",
   "metadata": {},
   "source": [
    "### pipeline"
   ]
  },
  {
   "cell_type": "code",
   "execution_count": 14,
   "id": "35d195a7-3f82-449c-8050-023850fe44f7",
   "metadata": {
    "execution": {
     "iopub.execute_input": "2022-04-06T09:29:16.888228Z",
     "iopub.status.busy": "2022-04-06T09:29:16.887998Z",
     "iopub.status.idle": "2022-04-06T09:29:16.945020Z",
     "shell.execute_reply": "2022-04-06T09:29:16.943997Z",
     "shell.execute_reply.started": "2022-04-06T09:29:16.888200Z"
    },
    "tags": []
   },
   "outputs": [
    {
     "data": {
      "application/vnd.jupyter.widget-view+json": {
       "model_id": "7c97c1d0e6ed498a92265ab5aaa85b26",
       "version_major": 2,
       "version_minor": 0
      },
      "text/plain": [
       "VBox()"
      ]
     },
     "metadata": {},
     "output_type": "display_data"
    },
    {
     "data": {
      "application/vnd.jupyter.widget-view+json": {
       "model_id": "",
       "version_major": 2,
       "version_minor": 0
      },
      "text/plain": [
       "FloatProgress(value=0.0, bar_style='info', description='Progress:', layout=Layout(height='25px', width='50%'),…"
      ]
     },
     "metadata": {},
     "output_type": "display_data"
    }
   ],
   "source": [
    "nlp_pipeline = Pipeline(stages=[ rgtoken, stopword_remover,Bigram])\n",
    "light_pipeline = nlp_pipeline.fit(train)"
   ]
  },
  {
   "cell_type": "code",
   "execution_count": 15,
   "id": "62be63fa-467a-4a1c-ab41-89343d6c43e6",
   "metadata": {
    "execution": {
     "iopub.execute_input": "2022-04-06T09:29:18.837133Z",
     "iopub.status.busy": "2022-04-06T09:29:18.836879Z",
     "iopub.status.idle": "2022-04-06T09:29:19.615639Z",
     "shell.execute_reply": "2022-04-06T09:29:19.614867Z",
     "shell.execute_reply.started": "2022-04-06T09:29:18.837094Z"
    },
    "tags": []
   },
   "outputs": [
    {
     "data": {
      "application/vnd.jupyter.widget-view+json": {
       "model_id": "6a80c52b158640c19aa0d2db369e3efd",
       "version_major": 2,
       "version_minor": 0
      },
      "text/plain": [
       "VBox()"
      ]
     },
     "metadata": {},
     "output_type": "display_data"
    },
    {
     "data": {
      "application/vnd.jupyter.widget-view+json": {
       "model_id": "",
       "version_major": 2,
       "version_minor": 0
      },
      "text/plain": [
       "FloatProgress(value=0.0, bar_style='info', description='Progress:', layout=Layout(height='25px', width='50%'),…"
      ]
     },
     "metadata": {},
     "output_type": "display_data"
    }
   ],
   "source": [
    "result=light_pipeline.transform(train)"
   ]
  },
  {
   "cell_type": "code",
   "execution_count": 16,
   "id": "8e787918-911c-407c-bc4b-cf2db80f6004",
   "metadata": {
    "execution": {
     "iopub.execute_input": "2022-04-06T09:31:22.813404Z",
     "iopub.status.busy": "2022-04-06T09:31:22.813174Z",
     "iopub.status.idle": "2022-04-06T09:31:22.870366Z",
     "shell.execute_reply": "2022-04-06T09:31:22.869704Z",
     "shell.execute_reply.started": "2022-04-06T09:31:22.813378Z"
    }
   },
   "outputs": [
    {
     "data": {
      "application/vnd.jupyter.widget-view+json": {
       "model_id": "4f609651f92940939fea1ba7fefce6d5",
       "version_major": 2,
       "version_minor": 0
      },
      "text/plain": [
       "VBox()"
      ]
     },
     "metadata": {},
     "output_type": "display_data"
    },
    {
     "data": {
      "application/vnd.jupyter.widget-view+json": {
       "model_id": "",
       "version_major": 2,
       "version_minor": 0
      },
      "text/plain": [
       "FloatProgress(value=0.0, bar_style='info', description='Progress:', layout=Layout(height='25px', width='50%'),…"
      ]
     },
     "metadata": {},
     "output_type": "display_data"
    },
    {
     "name": "stdout",
     "output_type": "stream",
     "text": [
      "root\n",
      " |-- stars: double (nullable = true)\n",
      " |-- text: string (nullable = true)\n",
      " |-- words: array (nullable = true)\n",
      " |    |-- element: string (containsNull = true)\n",
      " |-- filtered: array (nullable = true)\n",
      " |    |-- element: string (containsNull = true)\n",
      " |-- BiGrams: array (nullable = true)\n",
      " |    |-- element: string (containsNull = false)"
     ]
    }
   ],
   "source": [
    "result.printSchema()"
   ]
  },
  {
   "cell_type": "code",
   "execution_count": 17,
   "id": "5372abc0-3682-4933-b4a2-ddb7190c57b4",
   "metadata": {
    "execution": {
     "iopub.execute_input": "2022-04-06T09:31:46.472760Z",
     "iopub.status.busy": "2022-04-06T09:31:46.472488Z",
     "iopub.status.idle": "2022-04-06T09:31:55.778948Z",
     "shell.execute_reply": "2022-04-06T09:31:55.778352Z",
     "shell.execute_reply.started": "2022-04-06T09:31:46.472706Z"
    }
   },
   "outputs": [
    {
     "data": {
      "application/vnd.jupyter.widget-view+json": {
       "model_id": "df4c4a64a82e4534b6fe04eca13f598d",
       "version_major": 2,
       "version_minor": 0
      },
      "text/plain": [
       "VBox()"
      ]
     },
     "metadata": {},
     "output_type": "display_data"
    },
    {
     "data": {
      "application/vnd.jupyter.widget-view+json": {
       "model_id": "",
       "version_major": 2,
       "version_minor": 0
      },
      "text/plain": [
       "FloatProgress(value=0.0, bar_style='info', description='Progress:', layout=Layout(height='25px', width='50%'),…"
      ]
     },
     "metadata": {},
     "output_type": "display_data"
    },
    {
     "name": "stdout",
     "output_type": "stream",
     "text": [
      "+-----+--------------------+--------------------+--------------------+--------------------+\n",
      "|stars|                text|               words|            filtered|             BiGrams|\n",
      "+-----+--------------------+--------------------+--------------------+--------------------+\n",
      "|  1.0|! NASTY! Nasty st...|[nasty, nasty, st...|[nasty, nasty, st...|[nasty nasty, nas...|\n",
      "|  1.0|!!!!!     STAY AW...|[stay, away, from...|[stay, crooks, wa...|[stay crooks, cro...|\n",
      "|  1.0|!!!!ATTENTION TOU...|[attention, touri...|[attention, touri...|[attention touris...|\n",
      "|  1.0|!!!!UPDATE!!!! Th...|[update, they, ha...|[update, moved, h...|[update moved, mo...|\n",
      "|  1.0|!A WARNING! We we...|[a, warning, we, ...|[warning, staying...|[warning staying,...|\n",
      "|  1.0|\"AC PUMP WRONG DI...|[ac, pump, wrong,...|[pump, wrong, dir...|[pump wrong, wron...|\n",
      "|  1.0|\"Absolutely not.\"...|[absolutely, not,...|[absolutely, titl...|[absolutely title...|\n",
      "|  1.0|\"Additional Servi...|[additional, serv...|[additional, serv...|[additional servi...|\n",
      "|  1.0|\"Alan\"...embarras...|[alan, embarrasse...|[alan, embarrasse...|[alan embarrassed...|\n",
      "|  1.0|\"Authentic.\"  Str...|[authentic, stret...|[authentic, stret...|[authentic stretc...|\n",
      "+-----+--------------------+--------------------+--------------------+--------------------+\n",
      "only showing top 10 rows"
     ]
    }
   ],
   "source": [
    "result.show(10)"
   ]
  },
  {
   "cell_type": "code",
   "execution_count": 11,
   "id": "d5f775fc-c3c9-46b9-a131-446e167b9099",
   "metadata": {
    "execution": {
     "iopub.execute_input": "2022-04-06T07:56:36.133627Z",
     "iopub.status.busy": "2022-04-06T07:56:36.133367Z",
     "iopub.status.idle": "2022-04-06T07:56:36.399364Z",
     "shell.execute_reply": "2022-04-06T07:56:36.398743Z",
     "shell.execute_reply.started": "2022-04-06T07:56:36.133590Z"
    }
   },
   "outputs": [
    {
     "data": {
      "application/vnd.jupyter.widget-view+json": {
       "model_id": "2952703ebb914422ba689768165c2c02",
       "version_major": 2,
       "version_minor": 0
      },
      "text/plain": [
       "VBox()"
      ]
     },
     "metadata": {},
     "output_type": "display_data"
    },
    {
     "data": {
      "application/vnd.jupyter.widget-view+json": {
       "model_id": "",
       "version_major": 2,
       "version_minor": 0
      },
      "text/plain": [
       "FloatProgress(value=0.0, bar_style='info', description='Progress:', layout=Layout(height='25px', width='50%'),…"
      ]
     },
     "metadata": {},
     "output_type": "display_data"
    }
   ],
   "source": [
    "def remove_punct(text):\n",
    "    regex = re.compile('[' + re.escape(string.punctuation) + '0-9\\\\r\\\\t\\\\n]')\n",
    "    nopunct = regex.sub(\" \", text) \n",
    "    return nopunct\n",
    "    \n",
    "\n",
    "# udf\n",
    "punct_remover = udf(lambda x: remove_punct(x))\n",
    "rating_convert = udf(lambda x: convert_rating(x))\n",
    "review_df = review.select( punct_remover('text'), rating_convert('stars'))\n",
    "review_df = review_df.withColumnRenamed('<lambda>(text)', 'text')\\\n",
    "                     .withColumn('label', review_df[\"<lambda>(stars)\"].cast(IntegerType()))\\\n",
    "                     .drop('<lambda>(stars)')\\\n",
    "                     .limit(500)"
   ]
  },
  {
   "cell_type": "markdown",
   "id": "82e49c1f-6a98-485b-84bf-580cf7b795a5",
   "metadata": {},
   "source": [
    "### one start rating DF"
   ]
  },
  {
   "cell_type": "code",
   "execution_count": 60,
   "id": "cb17619a-b8fa-4244-b68f-c8728c184c74",
   "metadata": {
    "execution": {
     "iopub.execute_input": "2022-04-06T08:44:23.209265Z",
     "iopub.status.busy": "2022-04-06T08:44:23.209039Z",
     "iopub.status.idle": "2022-04-06T08:44:23.471047Z",
     "shell.execute_reply": "2022-04-06T08:44:23.470416Z",
     "shell.execute_reply.started": "2022-04-06T08:44:23.209240Z"
    },
    "tags": []
   },
   "outputs": [
    {
     "data": {
      "application/vnd.jupyter.widget-view+json": {
       "model_id": "76a5197ea3bd47a39319ea1fb057291c",
       "version_major": 2,
       "version_minor": 0
      },
      "text/plain": [
       "VBox()"
      ]
     },
     "metadata": {},
     "output_type": "display_data"
    },
    {
     "data": {
      "application/vnd.jupyter.widget-view+json": {
       "model_id": "",
       "version_major": 2,
       "version_minor": 0
      },
      "text/plain": [
       "FloatProgress(value=0.0, bar_style='info', description='Progress:', layout=Layout(height='25px', width='50%'),…"
      ]
     },
     "metadata": {},
     "output_type": "display_data"
    }
   ],
   "source": [
    "df=review_df.filter(review_df.label=='1.0')"
   ]
  },
  {
   "cell_type": "code",
   "execution_count": 61,
   "id": "f2d375c7-9acc-4786-b1a2-9ae3631e42ce",
   "metadata": {
    "execution": {
     "iopub.execute_input": "2022-04-06T08:44:24.800436Z",
     "iopub.status.busy": "2022-04-06T08:44:24.800159Z",
     "iopub.status.idle": "2022-04-06T08:44:44.144265Z",
     "shell.execute_reply": "2022-04-06T08:44:44.143534Z",
     "shell.execute_reply.started": "2022-04-06T08:44:24.800409Z"
    },
    "tags": []
   },
   "outputs": [
    {
     "data": {
      "application/vnd.jupyter.widget-view+json": {
       "model_id": "86790212232e42a8afbb785414c5eeac",
       "version_major": 2,
       "version_minor": 0
      },
      "text/plain": [
       "VBox()"
      ]
     },
     "metadata": {},
     "output_type": "display_data"
    },
    {
     "data": {
      "application/vnd.jupyter.widget-view+json": {
       "model_id": "",
       "version_major": 2,
       "version_minor": 0
      },
      "text/plain": [
       "FloatProgress(value=0.0, bar_style='info', description='Progress:', layout=Layout(height='25px', width='50%'),…"
      ]
     },
     "metadata": {},
     "output_type": "display_data"
    },
    {
     "name": "stdout",
     "output_type": "stream",
     "text": [
      "+--------------------+-----+\n",
      "|                text|label|\n",
      "+--------------------+-----+\n",
      "|Ordered   honey b...|    1|\n",
      "|I m not sure what...|    1|\n",
      "|Saw reviews on Kr...|    1|\n",
      "|Typically I ve ha...|    1|\n",
      "|This was a long t...|    1|\n",
      "+--------------------+-----+\n",
      "only showing top 5 rows"
     ]
    }
   ],
   "source": [
    "df.show(5)"
   ]
  },
  {
   "cell_type": "code",
   "execution_count": 29,
   "id": "b9ddceb8-4582-4b4f-a5b0-fe40c3dd59c8",
   "metadata": {
    "execution": {
     "iopub.execute_input": "2022-04-06T08:06:27.133056Z",
     "iopub.status.busy": "2022-04-06T08:06:27.132819Z",
     "iopub.status.idle": "2022-04-06T08:06:27.919637Z",
     "shell.execute_reply": "2022-04-06T08:06:27.919046Z",
     "shell.execute_reply.started": "2022-04-06T08:06:27.133032Z"
    }
   },
   "outputs": [
    {
     "data": {
      "application/vnd.jupyter.widget-view+json": {
       "model_id": "fac45b9e09024579a8b2d2cb284cd24b",
       "version_major": 2,
       "version_minor": 0
      },
      "text/plain": [
       "VBox()"
      ]
     },
     "metadata": {},
     "output_type": "display_data"
    },
    {
     "data": {
      "application/vnd.jupyter.widget-view+json": {
       "model_id": "",
       "version_major": 2,
       "version_minor": 0
      },
      "text/plain": [
       "FloatProgress(value=0.0, bar_style='info', description='Progress:', layout=Layout(height='25px', width='50%'),…"
      ]
     },
     "metadata": {},
     "output_type": "display_data"
    },
    {
     "name": "stdout",
     "output_type": "stream",
     "text": [
      "Requirement already satisfied: nltk in /usr/local/lib/python3.7/site-packages\n",
      "Requirement already satisfied: click in /usr/local/lib64/python3.7/site-packages (from nltk)\n",
      "Requirement already satisfied: joblib in /usr/local/lib64/python3.7/site-packages (from nltk)\n",
      "Requirement already satisfied: regex in /usr/local/lib64/python3.7/site-packages (from nltk)\n",
      "Requirement already satisfied: tqdm in /usr/local/lib64/python3.7/site-packages (from nltk)\n",
      "\n",
      "You are using pip version 9.0.1, however version 22.0.4 is available.\n",
      "You should consider upgrading via the 'pip install --upgrade pip' command."
     ]
    }
   ],
   "source": [
    "sc.install_pypi_package(\"nltk\")"
   ]
  },
  {
   "cell_type": "code",
   "execution_count": 22,
   "id": "45475b69-d722-4edb-9069-a46c218bb71b",
   "metadata": {
    "execution": {
     "iopub.execute_input": "2022-04-06T08:04:22.822749Z",
     "iopub.status.busy": "2022-04-06T08:04:22.822520Z",
     "iopub.status.idle": "2022-04-06T08:04:22.884491Z",
     "shell.execute_reply": "2022-04-06T08:04:22.883587Z",
     "shell.execute_reply.started": "2022-04-06T08:04:22.822724Z"
    }
   },
   "outputs": [
    {
     "data": {
      "application/vnd.jupyter.widget-view+json": {
       "model_id": "e5127727100645c9a949afb9732139b0",
       "version_major": 2,
       "version_minor": 0
      },
      "text/plain": [
       "VBox()"
      ]
     },
     "metadata": {},
     "output_type": "display_data"
    },
    {
     "data": {
      "application/vnd.jupyter.widget-view+json": {
       "model_id": "",
       "version_major": 2,
       "version_minor": 0
      },
      "text/plain": [
       "FloatProgress(value=0.0, bar_style='info', description='Progress:', layout=Layout(height='25px', width='50%'),…"
      ]
     },
     "metadata": {},
     "output_type": "display_data"
    }
   ],
   "source": [
    "texts = []\n",
    "for review in df.text:\n",
    "    texts.append(review)"
   ]
  },
  {
   "cell_type": "code",
   "execution_count": 26,
   "id": "1d415a15-a555-4617-90f0-d238d033603c",
   "metadata": {
    "execution": {
     "iopub.execute_input": "2022-04-06T08:05:09.603482Z",
     "iopub.status.busy": "2022-04-06T08:05:09.603255Z",
     "iopub.status.idle": "2022-04-06T08:05:09.654696Z",
     "shell.execute_reply": "2022-04-06T08:05:09.654109Z",
     "shell.execute_reply.started": "2022-04-06T08:05:09.603457Z"
    },
    "tags": []
   },
   "outputs": [
    {
     "data": {
      "application/vnd.jupyter.widget-view+json": {
       "model_id": "ee589e4a8a744e689d6570d7aca74733",
       "version_major": 2,
       "version_minor": 0
      },
      "text/plain": [
       "VBox()"
      ]
     },
     "metadata": {},
     "output_type": "display_data"
    },
    {
     "data": {
      "application/vnd.jupyter.widget-view+json": {
       "model_id": "",
       "version_major": 2,
       "version_minor": 0
      },
      "text/plain": [
       "FloatProgress(value=0.0, bar_style='info', description='Progress:', layout=Layout(height='25px', width='50%'),…"
      ]
     },
     "metadata": {},
     "output_type": "display_data"
    },
    {
     "name": "stdout",
     "output_type": "stream",
     "text": [
      "['It s the new hip dive joint  They should rename it SuckBurger  Understaffed and slow  Place is a mess with barely a clean table in the place  Floor is a mess  Food sent out wrong at nearby tables  Most of our food took    minutes and the last burger took an hour  Food was tasty and hot  but not worth the hassle  I won t be back ', 'It s hard to find truly great Chinese food or really lousy food  Most restaurants are good to very good  Well  I found truly lousy Chinese food here    Everything tasted off  and that includes the   separate items we tried  The phrase that summed it up was when someone described it like this  this tastes like ass  ', 'ZERO stars for this hoax of a company   As with the previous comment they have sent me TWO rejection letters for my request after I waited      months for a response   They NEVER answer their phones  They are a completely HOAX     Someone is running a complete scam out of their basement  ', 'We ordered the spaghetti and had them take it back twice because the noodles tasted chewy  almost like they had been sitting in a big pot all day and scooped out  After the noodles failing twice  the waiter offered us chicken Alfredo instead  The chicken Alfredo was amazing  The noodles in that dish tastes like they make it fresh  but NEVER THE SPAGHETTI  I think Tony s over charges for mediocre food  I am giving one star because I got food poisoning from the food here and we were very disappointed to taste the  counter spaghetti   The manager just said it s  house made  which may be true  but it s defiantly house made then made to sit in the counter all day and heated up when people order   Disappointed in what we received here ', 'I thought Manos de Cristo was a charity type clinic  I have herd it is either free or VERY low charge for dental care for the poor  I work in the dental field and we would send our pts that were in a financial crisis there  only to have them come back with a list of fees that were more expensive then ours  I sent my friend there who had a dental emergency that the cost for the exam and extraction was actually more expensive then a few dental practices I worked at    That is that they were boutique spa dental practices  This place is not a charity  community service  non profit organization they claim to be  It s sad really  Austin needs a charity type clinic  I hope they open a REAL one soon ']"
     ]
    }
   ],
   "source": [
    "texts[:5]"
   ]
  },
  {
   "cell_type": "code",
   "execution_count": 36,
   "id": "dd5cc76b-e86c-4c19-9283-ff6595e385f3",
   "metadata": {
    "execution": {
     "iopub.execute_input": "2022-04-06T08:08:32.243533Z",
     "iopub.status.busy": "2022-04-06T08:08:32.243297Z",
     "iopub.status.idle": "2022-04-06T08:08:32.306558Z",
     "shell.execute_reply": "2022-04-06T08:08:32.305708Z",
     "shell.execute_reply.started": "2022-04-06T08:08:32.243507Z"
    }
   },
   "outputs": [
    {
     "data": {
      "application/vnd.jupyter.widget-view+json": {
       "model_id": "3fc574914088431b9ecdfd07809e4d24",
       "version_major": 2,
       "version_minor": 0
      },
      "text/plain": [
       "VBox()"
      ]
     },
     "metadata": {},
     "output_type": "display_data"
    },
    {
     "data": {
      "application/vnd.jupyter.widget-view+json": {
       "model_id": "",
       "version_major": 2,
       "version_minor": 0
      },
      "text/plain": [
       "FloatProgress(value=0.0, bar_style='info', description='Progress:', layout=Layout(height='25px', width='50%'),…"
      ]
     },
     "metadata": {},
     "output_type": "display_data"
    }
   ],
   "source": [
    "import nltk"
   ]
  },
  {
   "cell_type": "code",
   "execution_count": 37,
   "id": "77c5d547-67db-4bca-9965-2803c97e3e70",
   "metadata": {
    "execution": {
     "iopub.execute_input": "2022-04-06T08:08:33.982702Z",
     "iopub.status.busy": "2022-04-06T08:08:33.982468Z",
     "iopub.status.idle": "2022-04-06T08:08:34.043401Z",
     "shell.execute_reply": "2022-04-06T08:08:34.042751Z",
     "shell.execute_reply.started": "2022-04-06T08:08:33.982675Z"
    },
    "tags": []
   },
   "outputs": [
    {
     "data": {
      "application/vnd.jupyter.widget-view+json": {
       "model_id": "bb340031edde478d972c4e95146fc8e9",
       "version_major": 2,
       "version_minor": 0
      },
      "text/plain": [
       "VBox()"
      ]
     },
     "metadata": {},
     "output_type": "display_data"
    },
    {
     "data": {
      "application/vnd.jupyter.widget-view+json": {
       "model_id": "",
       "version_major": 2,
       "version_minor": 0
      },
      "text/plain": [
       "FloatProgress(value=0.0, bar_style='info', description='Progress:', layout=Layout(height='25px', width='50%'),…"
      ]
     },
     "metadata": {},
     "output_type": "display_data"
    }
   ],
   "source": [
    "def tokenize(texts):\n",
    "    tokenizer = nltk.RegexpTokenizer(r'\\w+')\n",
    "\n",
    "    texts_tokens = []\n",
    "    for i, val in enumerate(texts):\n",
    "        text_tokens = tokenizer.tokenize(val.lower())\n",
    "\n",
    "        for i in range(len(text_tokens) - 1, -1, -1):\n",
    "            if len(text_tokens[i]) < 4:\n",
    "                del(text_tokens[i])\n",
    "\n",
    "        texts_tokens.append(text_tokens)\n",
    "        \n",
    "    return texts_tokens"
   ]
  },
  {
   "cell_type": "code",
   "execution_count": 38,
   "id": "529dc6ef-6842-4db2-bf91-aba31a80bfd4",
   "metadata": {
    "execution": {
     "iopub.execute_input": "2022-04-06T08:08:35.302852Z",
     "iopub.status.busy": "2022-04-06T08:08:35.302608Z",
     "iopub.status.idle": "2022-04-06T08:08:35.364882Z",
     "shell.execute_reply": "2022-04-06T08:08:35.364279Z",
     "shell.execute_reply.started": "2022-04-06T08:08:35.302824Z"
    },
    "tags": []
   },
   "outputs": [
    {
     "data": {
      "application/vnd.jupyter.widget-view+json": {
       "model_id": "6dd4b649e9c2468b805b6af6e01e30cb",
       "version_major": 2,
       "version_minor": 0
      },
      "text/plain": [
       "VBox()"
      ]
     },
     "metadata": {},
     "output_type": "display_data"
    },
    {
     "data": {
      "application/vnd.jupyter.widget-view+json": {
       "model_id": "",
       "version_major": 2,
       "version_minor": 0
      },
      "text/plain": [
       "FloatProgress(value=0.0, bar_style='info', description='Progress:', layout=Layout(height='25px', width='50%'),…"
      ]
     },
     "metadata": {},
     "output_type": "display_data"
    },
    {
     "name": "stdout",
     "output_type": "stream",
     "text": [
      "[['dive', 'joint', 'they', 'should', 'rename', 'suckburger', 'understaffed', 'slow', 'place', 'mess', 'with', 'barely', 'clean', 'table', 'place', 'floor', 'mess', 'food', 'sent', 'wrong', 'nearby', 'tables', 'most', 'food', 'took', 'minutes', 'last', 'burger', 'took', 'hour', 'food', 'tasty', 'worth', 'hassle', 'back']]"
     ]
    }
   ],
   "source": [
    "texts_tokens = tokenize(texts)\n",
    "\n",
    "texts_tokens[:1]"
   ]
  },
  {
   "cell_type": "code",
   "execution_count": 52,
   "id": "4703f5ff-4721-4106-a6b0-113048b6dfb6",
   "metadata": {
    "execution": {
     "iopub.execute_input": "2022-04-06T08:23:43.732100Z",
     "iopub.status.busy": "2022-04-06T08:23:43.731871Z",
     "iopub.status.idle": "2022-04-06T08:23:57.045267Z",
     "shell.execute_reply": "2022-04-06T08:23:57.044667Z",
     "shell.execute_reply.started": "2022-04-06T08:23:43.732075Z"
    },
    "tags": []
   },
   "outputs": [
    {
     "data": {
      "application/vnd.jupyter.widget-view+json": {
       "model_id": "027e1bd2a5c84a318aab5727c4f96124",
       "version_major": 2,
       "version_minor": 0
      },
      "text/plain": [
       "VBox()"
      ]
     },
     "metadata": {},
     "output_type": "display_data"
    },
    {
     "data": {
      "application/vnd.jupyter.widget-view+json": {
       "model_id": "",
       "version_major": 2,
       "version_minor": 0
      },
      "text/plain": [
       "FloatProgress(value=0.0, bar_style='info', description='Progress:', layout=Layout(height='25px', width='50%'),…"
      ]
     },
     "metadata": {},
     "output_type": "display_data"
    },
    {
     "name": "stdout",
     "output_type": "stream",
     "text": [
      "+--------------------+\n",
      "|                 new|\n",
      "+--------------------+\n",
      "|[dive, joint, the...|\n",
      "|[hard, find, trul...|\n",
      "|[zero, stars, thi...|\n",
      "|[ordered, spaghet...|\n",
      "|[thought, manos, ...|\n",
      "|[could, give, zer...|\n",
      "|[good, beers, cig...|\n",
      "|[worst, place, ha...|\n",
      "|[public, storage,...|\n",
      "|[stay, away, cost...|\n",
      "|[what, awful, pla...|\n",
      "|[traveled, with, ...|\n",
      "|[your, money, bet...|\n",
      "|[sick, stomach, w...|\n",
      "|[ordered, veggie,...|\n",
      "|[terrible, experi...|\n",
      "|[star, food, serv...|\n",
      "|[care, about, ani...|\n",
      "|[went, there, las...|\n",
      "|[from, some, revi...|\n",
      "+--------------------+\n",
      "only showing top 20 rows"
     ]
    }
   ],
   "source": [
    "from pyspark.sql import Row\n",
    "rdd1 = sc.parallelize(texts_tokens)\n",
    "row_rdd = rdd1.map(lambda x: Row(x))\n",
    "df=sqlContext.createDataFrame(row_rdd,['new']).show()"
   ]
  },
  {
   "cell_type": "code",
   "execution_count": null,
   "id": "e8bb5247-467a-4b86-87b5-d49c60be2e15",
   "metadata": {},
   "outputs": [],
   "source": []
  }
 ],
 "metadata": {
  "kernelspec": {
   "display_name": "PySpark",
   "language": "",
   "name": "pysparkkernel"
  },
  "language_info": {
   "codemirror_mode": {
    "name": "python",
    "version": 3
   },
   "mimetype": "text/x-python",
   "name": "pyspark",
   "pygments_lexer": "python3"
  }
 },
 "nbformat": 4,
 "nbformat_minor": 5
}
