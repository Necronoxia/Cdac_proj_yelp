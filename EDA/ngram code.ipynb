{
 "cells": [
  {
   "cell_type": "code",
   "execution_count": 1,
   "id": "5870b0f8-cf45-40d5-8392-98c859941cf8",
   "metadata": {
    "execution": {
     "iopub.execute_input": "2022-04-07T06:21:42.068644Z",
     "iopub.status.busy": "2022-04-07T06:21:42.068395Z",
     "iopub.status.idle": "2022-04-07T06:22:27.423401Z",
     "shell.execute_reply": "2022-04-07T06:22:27.422533Z",
     "shell.execute_reply.started": "2022-04-07T06:21:42.068612Z"
    },
    "tags": []
   },
   "outputs": [
    {
     "data": {
      "application/vnd.jupyter.widget-view+json": {
       "model_id": "8897f2083eba49199701c512076870f9",
       "version_major": 2,
       "version_minor": 0
      },
      "text/plain": [
       "VBox()"
      ]
     },
     "metadata": {},
     "output_type": "display_data"
    },
    {
     "name": "stdout",
     "output_type": "stream",
     "text": [
      "Starting Spark application\n"
     ]
    },
    {
     "data": {
      "text/html": [
       "<table>\n",
       "<tr><th>ID</th><th>YARN Application ID</th><th>Kind</th><th>State</th><th>Spark UI</th><th>Driver log</th><th>Current session?</th></tr><tr><td>0</td><td>application_1649311987703_0002</td><td>pyspark</td><td>idle</td><td><a target=\"_blank\" href=\"http://ip-172-31-72-101.ec2.internal:20888/proxy/application_1649311987703_0002/\" class=\"emr-proxy-link\" emr-resource=\"j-SMN2B3MHKSIS\n",
       "\" application-id=\"application_1649311987703_0002\">Link</a></td><td><a target=\"_blank\" href=\"http://ip-172-31-77-58.ec2.internal:8042/node/containerlogs/container_1649311987703_0002_01_000001/livy\" >Link</a></td><td>✔</td></tr></table>"
      ],
      "text/plain": [
       "<IPython.core.display.HTML object>"
      ]
     },
     "metadata": {},
     "output_type": "display_data"
    },
    {
     "data": {
      "application/vnd.jupyter.widget-view+json": {
       "model_id": "",
       "version_major": 2,
       "version_minor": 0
      },
      "text/plain": [
       "FloatProgress(value=0.0, bar_style='info', description='Progress:', layout=Layout(height='25px', width='50%'),…"
      ]
     },
     "metadata": {},
     "output_type": "display_data"
    },
    {
     "name": "stdout",
     "output_type": "stream",
     "text": [
      "SparkSession available as 'spark'.\n"
     ]
    },
    {
     "data": {
      "application/vnd.jupyter.widget-view+json": {
       "model_id": "",
       "version_major": 2,
       "version_minor": 0
      },
      "text/plain": [
       "FloatProgress(value=0.0, bar_style='info', description='Progress:', layout=Layout(height='25px', width='50%'),…"
      ]
     },
     "metadata": {},
     "output_type": "display_data"
    },
    {
     "name": "stdout",
     "output_type": "stream",
     "text": [
      "Collecting pandas==1.2.2\n",
      "  Downloading https://files.pythonhosted.org/packages/4c/33/87b15a5baeeb71bd677da3579f907e97476c5247c0e56a37079843af5424/pandas-1.2.2-cp37-cp37m-manylinux1_x86_64.whl (9.9MB)\n",
      "Requirement already satisfied: numpy>=1.16.5 in /usr/local/lib64/python3.7/site-packages (from pandas==1.2.2)\n",
      "Requirement already satisfied: pytz>=2017.3 in /usr/local/lib/python3.7/site-packages (from pandas==1.2.2)\n",
      "Collecting python-dateutil>=2.7.3 (from pandas==1.2.2)\n",
      "  Downloading https://files.pythonhosted.org/packages/36/7a/87837f39d0296e723bb9b62bbb257d0355c7f6128853c78955f57342a56d/python_dateutil-2.8.2-py2.py3-none-any.whl (247kB)\n",
      "Requirement already satisfied: six>=1.5 in /usr/local/lib/python3.7/site-packages (from python-dateutil>=2.7.3->pandas==1.2.2)\n",
      "Installing collected packages: python-dateutil, pandas\n",
      "Successfully installed pandas-1.2.2 python-dateutil-2.8.2\n",
      "\n",
      "You are using pip version 9.0.1, however version 22.0.4 is available.\n",
      "You should consider upgrading via the 'pip install --upgrade pip' command."
     ]
    }
   ],
   "source": [
    "sc.install_pypi_package(\"pandas==1.2.2\")"
   ]
  },
  {
   "cell_type": "code",
   "execution_count": 2,
   "id": "d8c63fd6-adbe-4987-8e81-efc30077a8c1",
   "metadata": {
    "execution": {
     "iopub.execute_input": "2022-04-07T06:22:27.425163Z",
     "iopub.status.busy": "2022-04-07T06:22:27.424904Z",
     "iopub.status.idle": "2022-04-07T06:22:36.777090Z",
     "shell.execute_reply": "2022-04-07T06:22:36.776151Z",
     "shell.execute_reply.started": "2022-04-07T06:22:27.425128Z"
    },
    "tags": []
   },
   "outputs": [
    {
     "data": {
      "application/vnd.jupyter.widget-view+json": {
       "model_id": "a7df4a3046144b6cbde81462cc785508",
       "version_major": 2,
       "version_minor": 0
      },
      "text/plain": [
       "VBox()"
      ]
     },
     "metadata": {},
     "output_type": "display_data"
    },
    {
     "data": {
      "application/vnd.jupyter.widget-view+json": {
       "model_id": "",
       "version_major": 2,
       "version_minor": 0
      },
      "text/plain": [
       "FloatProgress(value=0.0, bar_style='info', description='Progress:', layout=Layout(height='25px', width='50%'),…"
      ]
     },
     "metadata": {},
     "output_type": "display_data"
    },
    {
     "name": "stdout",
     "output_type": "stream",
     "text": [
      "Collecting matplotlib==3.1.1\n",
      "  Downloading https://files.pythonhosted.org/packages/19/7a/60bd79c5d79559150f8bba866dd7d434f0a170312e4d15e8aefa5faba294/matplotlib-3.1.1-cp37-cp37m-manylinux1_x86_64.whl (13.1MB)\n",
      "Requirement already satisfied: python-dateutil>=2.1 in /mnt/tmp/1649312526408-0/lib/python3.7/site-packages (from matplotlib==3.1.1)\n",
      "Collecting pyparsing!=2.0.4,!=2.1.2,!=2.1.6,>=2.0.1 (from matplotlib==3.1.1)\n",
      "  Downloading https://files.pythonhosted.org/packages/80/c1/23fd82ad3121656b585351aba6c19761926bb0db2ebed9e4ff09a43a3fcc/pyparsing-3.0.7-py3-none-any.whl (98kB)\n",
      "Collecting cycler>=0.10 (from matplotlib==3.1.1)\n",
      "  Downloading https://files.pythonhosted.org/packages/5c/f9/695d6bedebd747e5eb0fe8fad57b72fdf25411273a39791cde838d5a8f51/cycler-0.11.0-py3-none-any.whl\n",
      "Requirement already satisfied: numpy>=1.11 in /usr/local/lib64/python3.7/site-packages (from matplotlib==3.1.1)\n",
      "Collecting kiwisolver>=1.0.1 (from matplotlib==3.1.1)\n",
      "  Downloading https://files.pythonhosted.org/packages/51/50/9a9a94afa26c50fc5d9127272737806990aa698c7a1c220b8e5075e70304/kiwisolver-1.4.2-cp37-cp37m-manylinux_2_5_x86_64.manylinux1_x86_64.whl (1.1MB)\n",
      "Requirement already satisfied: six>=1.5 in /usr/local/lib/python3.7/site-packages (from python-dateutil>=2.1->matplotlib==3.1.1)\n",
      "Collecting typing-extensions; python_version < \"3.8\" (from kiwisolver>=1.0.1->matplotlib==3.1.1)\n",
      "  Downloading https://files.pythonhosted.org/packages/45/6b/44f7f8f1e110027cf88956b59f2fad776cca7e1704396d043f89effd3a0e/typing_extensions-4.1.1-py3-none-any.whl\n",
      "Installing collected packages: pyparsing, cycler, typing-extensions, kiwisolver, matplotlib\n",
      "Successfully installed cycler-0.11.0 kiwisolver-1.4.2 matplotlib-3.1.1 pyparsing-3.0.7 typing-extensions-4.1.1\n",
      "\n",
      "You are using pip version 9.0.1, however version 22.0.4 is available.\n",
      "You should consider upgrading via the 'pip install --upgrade pip' command."
     ]
    }
   ],
   "source": [
    "sc.install_pypi_package(\"matplotlib==3.1.1\", \"https://pypi.org/simple\")"
   ]
  },
  {
   "cell_type": "code",
   "execution_count": 3,
   "id": "ca76e93d-69fb-496c-a872-b831c0659522",
   "metadata": {
    "execution": {
     "iopub.execute_input": "2022-04-07T06:22:43.577854Z",
     "iopub.status.busy": "2022-04-07T06:22:43.577597Z",
     "iopub.status.idle": "2022-04-07T06:22:46.885132Z",
     "shell.execute_reply": "2022-04-07T06:22:46.884575Z",
     "shell.execute_reply.started": "2022-04-07T06:22:43.577818Z"
    },
    "tags": []
   },
   "outputs": [
    {
     "data": {
      "application/vnd.jupyter.widget-view+json": {
       "model_id": "f8565d12502643438d17cf1173853879",
       "version_major": 2,
       "version_minor": 0
      },
      "text/plain": [
       "VBox()"
      ]
     },
     "metadata": {},
     "output_type": "display_data"
    },
    {
     "data": {
      "application/vnd.jupyter.widget-view+json": {
       "model_id": "",
       "version_major": 2,
       "version_minor": 0
      },
      "text/plain": [
       "FloatProgress(value=0.0, bar_style='info', description='Progress:', layout=Layout(height='25px', width='50%'),…"
      ]
     },
     "metadata": {},
     "output_type": "display_data"
    }
   ],
   "source": [
    "from pyspark.sql.functions import *\n",
    "from pyspark.sql.functions import udf\n",
    "from pyspark.sql.types import IntegerType\n",
    "import matplotlib.pyplot as plt\n",
    "from pyspark.ml import Pipeline, PipelineModel\n",
    "from pyspark.ml.feature import * \n",
    "from nltk.corpus import stopwords\n",
    "\n",
    "import pandas as pd\n",
    "import string \n",
    "import re "
   ]
  },
  {
   "cell_type": "code",
   "execution_count": 4,
   "id": "ab23fc47-137b-4fa4-b7af-bf02b203e156",
   "metadata": {
    "execution": {
     "iopub.execute_input": "2022-04-07T06:22:47.953957Z",
     "iopub.status.busy": "2022-04-07T06:22:47.953724Z",
     "iopub.status.idle": "2022-04-07T06:22:50.279712Z",
     "shell.execute_reply": "2022-04-07T06:22:50.278854Z",
     "shell.execute_reply.started": "2022-04-07T06:22:47.953932Z"
    },
    "tags": []
   },
   "outputs": [
    {
     "data": {
      "application/vnd.jupyter.widget-view+json": {
       "model_id": "f3999abf9c5c41e4bf1641826da91042",
       "version_major": 2,
       "version_minor": 0
      },
      "text/plain": [
       "VBox()"
      ]
     },
     "metadata": {},
     "output_type": "display_data"
    },
    {
     "data": {
      "application/vnd.jupyter.widget-view+json": {
       "model_id": "",
       "version_major": 2,
       "version_minor": 0
      },
      "text/plain": [
       "FloatProgress(value=0.0, bar_style='info', description='Progress:', layout=Layout(height='25px', width='50%'),…"
      ]
     },
     "metadata": {},
     "output_type": "display_data"
    }
   ],
   "source": [
    "review = spark.read.orc(\"hdfs:///NLP-orc/*.orc\")"
   ]
  },
  {
   "cell_type": "code",
   "execution_count": 5,
   "id": "eff2690b-cdd0-4029-b71a-1cd6f500cf31",
   "metadata": {
    "execution": {
     "iopub.execute_input": "2022-04-07T06:22:50.280803Z",
     "iopub.status.busy": "2022-04-07T06:22:50.280615Z",
     "iopub.status.idle": "2022-04-07T06:22:50.667585Z",
     "shell.execute_reply": "2022-04-07T06:22:50.666855Z",
     "shell.execute_reply.started": "2022-04-07T06:22:50.280778Z"
    },
    "tags": []
   },
   "outputs": [
    {
     "data": {
      "application/vnd.jupyter.widget-view+json": {
       "model_id": "8b19994e5f1b4c5e9534dc5bc8b9a25f",
       "version_major": 2,
       "version_minor": 0
      },
      "text/plain": [
       "VBox()"
      ]
     },
     "metadata": {},
     "output_type": "display_data"
    },
    {
     "data": {
      "application/vnd.jupyter.widget-view+json": {
       "model_id": "",
       "version_major": 2,
       "version_minor": 0
      },
      "text/plain": [
       "FloatProgress(value=0.0, bar_style='info', description='Progress:', layout=Layout(height='25px', width='50%'),…"
      ]
     },
     "metadata": {},
     "output_type": "display_data"
    }
   ],
   "source": [
    "review = review.drop(\"business_id\",\"date\",\"review_id\",\"user_id\",\"cool\",\"funny\",\"useful\")"
   ]
  },
  {
   "cell_type": "code",
   "execution_count": 6,
   "id": "abc603e7-9143-4565-a6e9-3ebafd2d9f24",
   "metadata": {
    "execution": {
     "iopub.execute_input": "2022-04-07T06:22:50.669057Z",
     "iopub.status.busy": "2022-04-07T06:22:50.668868Z",
     "iopub.status.idle": "2022-04-07T06:22:53.000593Z",
     "shell.execute_reply": "2022-04-07T06:22:52.998945Z",
     "shell.execute_reply.started": "2022-04-07T06:22:50.669028Z"
    },
    "tags": []
   },
   "outputs": [
    {
     "data": {
      "application/vnd.jupyter.widget-view+json": {
       "model_id": "703e30944f5a455c943c2411b9652320",
       "version_major": 2,
       "version_minor": 0
      },
      "text/plain": [
       "VBox()"
      ]
     },
     "metadata": {},
     "output_type": "display_data"
    },
    {
     "data": {
      "application/vnd.jupyter.widget-view+json": {
       "model_id": "",
       "version_major": 2,
       "version_minor": 0
      },
      "text/plain": [
       "FloatProgress(value=0.0, bar_style='info', description='Progress:', layout=Layout(height='25px', width='50%'),…"
      ]
     },
     "metadata": {},
     "output_type": "display_data"
    },
    {
     "name": "stdout",
     "output_type": "stream",
     "text": [
      "+-----+--------------------+\n",
      "|stars|                text|\n",
      "+-----+--------------------+\n",
      "|  4.0|I swear sometimes...|\n",
      "|  5.0|Made an appointme...|\n",
      "|  4.0|A hospital is the...|\n",
      "|  2.0|This was my third...|\n",
      "|  1.0|Ordered 2 honey b...|\n",
      "|  1.0|I'm not sure what...|\n",
      "|  5.0|Blazing Noodles -...|\n",
      "|  5.0|One of -if not TH...|\n",
      "|  1.0|Saw reviews on Kr...|\n",
      "|  1.0|Typically I've ha...|\n",
      "+-----+--------------------+\n",
      "only showing top 10 rows"
     ]
    }
   ],
   "source": [
    "review.show(10)"
   ]
  },
  {
   "cell_type": "code",
   "execution_count": 7,
   "id": "6747e04c-b512-49d8-a685-5608f20a45c7",
   "metadata": {
    "execution": {
     "iopub.execute_input": "2022-04-06T15:12:10.217800Z",
     "iopub.status.busy": "2022-04-06T15:12:10.217486Z",
     "iopub.status.idle": "2022-04-06T15:12:12.628705Z",
     "shell.execute_reply": "2022-04-06T15:12:12.628024Z",
     "shell.execute_reply.started": "2022-04-06T15:12:10.217714Z"
    },
    "tags": []
   },
   "outputs": [
    {
     "data": {
      "application/vnd.jupyter.widget-view+json": {
       "model_id": "88975029785d4a8b9c515b5e05574e7f",
       "version_major": 2,
       "version_minor": 0
      },
      "text/plain": [
       "VBox()"
      ]
     },
     "metadata": {},
     "output_type": "display_data"
    },
    {
     "data": {
      "application/vnd.jupyter.widget-view+json": {
       "model_id": "",
       "version_major": 2,
       "version_minor": 0
      },
      "text/plain": [
       "FloatProgress(value=0.0, bar_style='info', description='Progress:', layout=Layout(height='25px', width='50%'),…"
      ]
     },
     "metadata": {},
     "output_type": "display_data"
    },
    {
     "name": "stdout",
     "output_type": "stream",
     "text": [
      "8635403"
     ]
    }
   ],
   "source": [
    "review.count()"
   ]
  },
  {
   "cell_type": "code",
   "execution_count": 7,
   "id": "2c3ea723-33fd-4433-b10d-642d3e493eb2",
   "metadata": {
    "execution": {
     "iopub.execute_input": "2022-04-07T06:23:07.892282Z",
     "iopub.status.busy": "2022-04-07T06:23:07.892052Z",
     "iopub.status.idle": "2022-04-07T06:23:07.966098Z",
     "shell.execute_reply": "2022-04-07T06:23:07.965467Z",
     "shell.execute_reply.started": "2022-04-07T06:23:07.892258Z"
    },
    "tags": []
   },
   "outputs": [
    {
     "data": {
      "application/vnd.jupyter.widget-view+json": {
       "model_id": "a8a49ff304124a0fbb7df2155c623673",
       "version_major": 2,
       "version_minor": 0
      },
      "text/plain": [
       "VBox()"
      ]
     },
     "metadata": {},
     "output_type": "display_data"
    },
    {
     "data": {
      "application/vnd.jupyter.widget-view+json": {
       "model_id": "",
       "version_major": 2,
       "version_minor": 0
      },
      "text/plain": [
       "FloatProgress(value=0.0, bar_style='info', description='Progress:', layout=Layout(height='25px', width='50%'),…"
      ]
     },
     "metadata": {},
     "output_type": "display_data"
    },
    {
     "name": "stdout",
     "output_type": "stream",
     "text": [
      "root\n",
      " |-- stars: double (nullable = true)\n",
      " |-- text: string (nullable = true)"
     ]
    }
   ],
   "source": [
    "review.printSchema()"
   ]
  },
  {
   "cell_type": "markdown",
   "id": "97ae7a1d-7efd-4927-913b-7c2b070d5c40",
   "metadata": {},
   "source": [
    "### Tokenizer"
   ]
  },
  {
   "cell_type": "code",
   "execution_count": 8,
   "id": "eb87627a-66e6-4de9-9909-1ca8647059a2",
   "metadata": {
    "execution": {
     "iopub.execute_input": "2022-04-07T06:23:11.013766Z",
     "iopub.status.busy": "2022-04-07T06:23:11.013541Z",
     "iopub.status.idle": "2022-04-07T06:23:11.285751Z",
     "shell.execute_reply": "2022-04-07T06:23:11.285097Z",
     "shell.execute_reply.started": "2022-04-07T06:23:11.013742Z"
    },
    "tags": []
   },
   "outputs": [
    {
     "data": {
      "application/vnd.jupyter.widget-view+json": {
       "model_id": "da4d57cf3c1e45feafcd4374c497931e",
       "version_major": 2,
       "version_minor": 0
      },
      "text/plain": [
       "VBox()"
      ]
     },
     "metadata": {},
     "output_type": "display_data"
    },
    {
     "data": {
      "application/vnd.jupyter.widget-view+json": {
       "model_id": "",
       "version_major": 2,
       "version_minor": 0
      },
      "text/plain": [
       "FloatProgress(value=0.0, bar_style='info', description='Progress:', layout=Layout(height='25px', width='50%'),…"
      ]
     },
     "metadata": {},
     "output_type": "display_data"
    }
   ],
   "source": [
    "rgtoken = RegexTokenizer(inputCol=\"text\",outputCol=\"words\",pattern=\"\\\\W\")\n"
   ]
  },
  {
   "cell_type": "markdown",
   "id": "ec71e838-b695-40f9-ad87-6ba69639beee",
   "metadata": {},
   "source": [
    "### stop word remover"
   ]
  },
  {
   "cell_type": "code",
   "execution_count": 9,
   "id": "d1e9fab3-05dd-45e7-80d5-815ff67fcb17",
   "metadata": {
    "execution": {
     "iopub.execute_input": "2022-04-07T06:23:12.141347Z",
     "iopub.status.busy": "2022-04-07T06:23:12.141101Z",
     "iopub.status.idle": "2022-04-07T06:23:12.238747Z",
     "shell.execute_reply": "2022-04-07T06:23:12.238159Z",
     "shell.execute_reply.started": "2022-04-07T06:23:12.141309Z"
    },
    "tags": []
   },
   "outputs": [
    {
     "data": {
      "application/vnd.jupyter.widget-view+json": {
       "model_id": "5c787daf527c499f8275442edd88b9d4",
       "version_major": 2,
       "version_minor": 0
      },
      "text/plain": [
       "VBox()"
      ]
     },
     "metadata": {},
     "output_type": "display_data"
    },
    {
     "data": {
      "application/vnd.jupyter.widget-view+json": {
       "model_id": "",
       "version_major": 2,
       "version_minor": 0
      },
      "text/plain": [
       "FloatProgress(value=0.0, bar_style='info', description='Progress:', layout=Layout(height='25px', width='50%'),…"
      ]
     },
     "metadata": {},
     "output_type": "display_data"
    }
   ],
   "source": [
    "stops = [\"0o\", \"0s\", \"3a\", \"3b\", \"3d\", \"6b\", \"6o\", \"a\", \"a1\", \"a2\", \"a3\", \"a4\", \"ab\", \"able\", \"about\", \"above\", \"abst\", \"ac\", \"accordance\", \"according\", \"accordingly\", \"across\", \"act\", \"actually\", \"ad\", \"added\", \"adj\", \"ae\", \"af\", \"affected\", \"affecting\", \"affects\", \"after\", \"afterwards\", \"ag\", \"again\", \"against\", \"ah\", \"ain\", \"ain't\", \"aj\", \"al\", \"all\", \"allow\", \"allows\", \"almost\", \"alone\", \"along\", \"already\", \"also\", \"although\", \"always\", \"am\", \"among\", \"amongst\", \"amoungst\", \"amount\", \"an\", \"and\", \"announce\", \"another\", \"any\", \"anybody\", \"anyhow\", \"anymore\", \"anyone\", \"anything\", \"anyway\", \"anyways\", \"anywhere\", \"ao\", \"ap\", \"apart\", \"apparently\", \"appear\", \"appreciate\", \"appropriate\", \"approximately\", \"ar\", \"are\", \"aren\", \"arent\", \"aren't\", \"arise\", \"around\", \"as\", \"a's\", \"aside\", \"ask\", \"asking\", \"associated\", \"at\", \"au\", \"auth\", \"av\", \"available\", \"aw\", \"away\", \"awfully\", \"ax\", \"ay\", \"az\", \"b\", \"b1\", \"b2\", \"b3\", \"ba\", \"back\", \"bc\", \"bd\", \"be\", \"became\", \"because\", \"become\", \"becomes\", \"becoming\", \"been\", \"before\", \"beforehand\", \"begin\", \"beginning\", \"beginnings\", \"begins\", \"behind\", \"being\", \"believe\", \"below\", \"beside\", \"besides\", \"best\", \"better\", \"between\", \"beyond\", \"bi\", \"bill\", \"biol\", \"bj\", \"bk\", \"bl\", \"bn\", \"both\", \"bottom\", \"bp\", \"br\", \"brief\", \"briefly\", \"bs\", \"bt\", \"bu\", \"but\", \"bx\", \"by\", \"c\", \"c1\", \"c2\", \"c3\", \"ca\", \"call\", \"came\", \"can\", \"cannot\", \"cant\", \"can't\", \"cause\", \"causes\", \"cc\", \"cd\", \"ce\", \"certain\", \"certainly\", \"cf\", \"cg\", \"ch\", \"changes\", \"ci\", \"cit\", \"cj\", \"cl\", \"clearly\", \"cm\", \"c'mon\", \"cn\", \"co\", \"com\", \"come\", \"comes\", \"con\", \"concerning\", \"consequently\", \"consider\", \"considering\", \"contain\", \"containing\", \"contains\", \"corresponding\", \"could\", \"couldn\", \"couldnt\", \"couldn't\", \"course\", \"cp\", \"cq\", \"cr\", \"cry\", \"cs\", \"c's\", \"ct\", \"cu\", \"currently\", \"cv\", \"cx\", \"cy\", \"cz\", \"d\", \"d2\", \"da\", \"date\", \"dc\", \"dd\", \"de\", \"definitely\", \"describe\", \"described\", \"despite\", \"detail\", \"df\", \"di\", \"did\", \"didn\", \"didn't\", \"different\", \"dj\", \"dk\", \"dl\", \"do\", \"does\", \"doesn\", \"doesn't\", \"doing\", \"don\", \"done\", \"don't\", \"down\", \"downwards\", \"dp\", \"dr\", \"ds\", \"dt\", \"du\", \"due\", \"during\", \"dx\", \"dy\", \"e\", \"e2\", \"e3\", \"ea\", \"each\", \"ec\", \"ed\", \"edu\", \"ee\", \"ef\", \"effect\", \"eg\", \"ei\", \"eight\", \"eighty\", \"either\", \"ej\", \"el\", \"eleven\", \"else\", \"elsewhere\", \"em\", \"empty\", \"en\", \"end\", \"ending\", \"enough\", \"entirely\", \"eo\", \"ep\", \"eq\", \"er\", \"es\", \"especially\", \"est\", \"et\", \"et-al\", \"etc\", \"eu\", \"ev\", \"even\", \"ever\", \"every\", \"everybody\", \"everyone\", \"everything\", \"everywhere\", \"ex\", \"exactly\", \"example\", \"except\", \"ey\", \"f\", \"f2\", \"fa\", \"far\", \"fc\", \"few\", \"ff\", \"fi\", \"fifteen\", \"fifth\", \"fify\", \"fill\", \"find\", \"fire\", \"first\", \"five\", \"fix\", \"fj\", \"fl\", \"fn\", \"fo\", \"followed\", \"following\", \"follows\", \"for\", \"former\", \"formerly\", \"forth\", \"forty\", \"found\", \"four\", \"fr\", \"from\", \"front\", \"fs\", \"ft\", \"fu\", \"full\", \"further\", \"furthermore\", \"fy\", \"g\", \"ga\", \"gave\", \"ge\", \"get\", \"gets\", \"getting\", \"gi\", \"give\", \"given\", \"gives\", \"giving\", \"gj\", \"gl\", \"go\", \"goes\", \"going\", \"gone\", \"got\", \"gotten\", \"gr\", \"greetings\", \"gs\", \"gy\", \"h\", \"h2\", \"h3\", \"had\", \"hadn\", \"hadn't\", \"happens\", \"hardly\", \"has\", \"hasn\", \"hasnt\", \"hasn't\", \"have\", \"haven\", \"haven't\", \"having\", \"he\", \"hed\", \"he'd\", \"he'll\", \"hello\", \"help\", \"hence\", \"her\", \"here\", \"hereafter\", \"hereby\", \"herein\", \"heres\", \"here's\", \"hereupon\", \"hers\", \"herself\", \"hes\", \"he's\", \"hh\", \"hi\", \"hid\", \"him\", \"himself\", \"his\", \"hither\", \"hj\", \"ho\", \"home\", \"hopefully\", \"how\", \"howbeit\", \"however\", \"how's\", \"hr\", \"hs\", \"http\", \"hu\", \"hundred\", \"hy\", \"i\", \"i2\", \"i3\", \"i4\", \"i6\", \"i7\", \"i8\", \"ia\", \"ib\", \"ibid\", \"ic\", \"id\", \"i'd\", \"ie\", \"if\", \"ig\", \"ignored\", \"ih\", \"ii\", \"ij\", \"il\", \"i'll\", \"im\", \"i'm\", \"immediate\", \"immediately\", \"importance\", \"important\", \"in\", \"inasmuch\", \"inc\", \"indeed\", \"index\", \"indicate\", \"indicated\", \"indicates\", \"information\", \"inner\", \"insofar\", \"instead\", \"interest\", \"into\", \"invention\", \"inward\", \"io\", \"ip\", \"iq\", \"ir\", \"is\", \"isn\", \"isn't\", \"it\", \"itd\", \"it'd\", \"it'll\", \"its\", \"it's\", \"itself\", \"iv\", \"i've\", \"ix\", \"iy\", \"iz\", \"j\", \"jj\", \"jr\", \"js\", \"jt\", \"ju\", \"just\", \"k\", \"ke\", \"keep\", \"keeps\", \"kept\", \"kg\", \"kj\", \"km\", \"know\", \"known\", \"knows\", \"ko\", \"l\", \"l2\", \"la\", \"largely\", \"last\", \"lately\", \"later\", \"latter\", \"latterly\", \"lb\", \"lc\", \"le\", \"least\", \"les\", \"less\", \"lest\", \"let\", \"lets\", \"let's\", \"lf\", \"like\", \"liked\", \"likely\", \"line\", \"little\", \"lj\", \"ll\", \"ll\", \"ln\", \"lo\", \"look\", \"looking\", \"looks\", \"los\", \"lr\", \"ls\", \"lt\", \"ltd\", \"m\", \"m2\", \"ma\", \"made\", \"mainly\", \"make\", \"makes\", \"many\", \"may\", \"maybe\", \"me\", \"mean\", \"means\", \"meantime\", \"meanwhile\", \"merely\", \"mg\", \"might\", \"mightn\", \"mightn't\", \"mill\", \"million\", \"mine\", \"miss\", \"ml\", \"mn\", \"mo\", \"more\", \"moreover\", \"most\", \"mostly\", \"move\", \"mr\", \"mrs\", \"ms\", \"mt\", \"mu\", \"much\", \"mug\", \"must\", \"mustn\", \"mustn't\", \"my\", \"myself\", \"n\", \"n2\", \"na\", \"name\", \"namely\", \"nay\", \"nc\", \"nd\", \"ne\", \"near\", \"nearly\", \"necessarily\", \"necessary\", \"need\", \"needn\", \"needn't\", \"needs\", \"neither\", \"never\", \"nevertheless\", \"new\", \"next\", \"ng\", \"ni\", \"nine\", \"ninety\", \"nj\", \"nl\", \"nn\", \"no\", \"nobody\", \"non\", \"none\", \"nonetheless\", \"noone\", \"nor\", \"normally\", \"nos\", \"not\", \"noted\", \"nothing\", \"novel\", \"now\", \"nowhere\", \"nr\", \"ns\", \"nt\", \"ny\", \"o\", \"oa\", \"ob\", \"obtain\", \"obtained\", \"obviously\", \"oc\", \"od\", \"of\", \"off\", \"often\", \"og\", \"oh\", \"oi\", \"oj\", \"ok\", \"okay\", \"ol\", \"old\", \"om\", \"omitted\", \"on\", \"once\", \"one\", \"ones\", \"only\", \"onto\", \"oo\", \"op\", \"oq\", \"or\", \"ord\", \"os\", \"ot\", \"other\", \"others\", \"otherwise\", \"ou\", \"ought\", \"our\", \"ours\", \"ourselves\", \"out\", \"outside\", \"over\", \"overall\", \"ow\", \"owing\", \"own\", \"ox\", \"oz\", \"p\", \"p1\", \"p2\", \"p3\", \"page\", \"pagecount\", \"pages\", \"par\", \"part\", \"particular\", \"particularly\", \"pas\", \"past\", \"pc\", \"pd\", \"pe\", \"per\", \"perhaps\", \"pf\", \"ph\", \"pi\", \"pj\", \"pk\", \"pl\", \"placed\", \"please\", \"plus\", \"pm\", \"pn\", \"po\", \"poorly\", \"possible\", \"possibly\", \"potentially\", \"pp\", \"pq\", \"pr\", \"predominantly\", \"present\", \"presumably\", \"previously\", \"primarily\", \"probably\", \"promptly\", \"proud\", \"provides\", \"ps\", \"pt\", \"pu\", \"put\", \"py\", \"q\", \"qj\", \"qu\", \"que\", \"quickly\", \"quite\", \"qv\", \"r\", \"r2\", \"ra\", \"ran\", \"rather\", \"rc\", \"rd\", \"re\", \"readily\", \"really\", \"reasonably\", \"recent\", \"recently\", \"ref\", \"refs\", \"regarding\", \"regardless\", \"regards\", \"related\", \"relatively\", \"research\", \"research-articl\", \"respectively\", \"resulted\", \"resulting\", \"results\", \"rf\", \"rh\", \"ri\", \"right\", \"rj\", \"rl\", \"rm\", \"rn\", \"ro\", \"rq\", \"rr\", \"rs\", \"rt\", \"ru\", \"run\", \"rv\", \"ry\", \"s\", \"s2\", \"sa\", \"said\", \"same\", \"saw\", \"say\", \"saying\", \"says\", \"sc\", \"sd\", \"se\", \"sec\", \"second\", \"secondly\", \"section\", \"see\", \"seeing\", \"seem\", \"seemed\", \"seeming\", \"seems\", \"seen\", \"self\", \"selves\", \"sensible\", \"sent\", \"serious\", \"seriously\", \"seven\", \"several\", \"sf\", \"shall\", \"shan\", \"shan't\", \"she\", \"shed\", \"she'd\", \"she'll\", \"shes\", \"she's\", \"should\", \"shouldn\", \"shouldn't\", \"should've\", \"show\", \"showed\", \"shown\", \"showns\", \"shows\", \"si\", \"side\", \"significant\", \"significantly\", \"similar\", \"similarly\", \"since\", \"sincere\", \"six\", \"sixty\", \"sj\", \"sl\", \"slightly\", \"sm\", \"sn\", \"so\", \"some\", \"somebody\", \"somehow\", \"someone\", \"somethan\", \"something\", \"sometime\", \"sometimes\", \"somewhat\", \"somewhere\", \"soon\", \"sorry\", \"sp\", \"specifically\", \"specified\", \"specify\", \"specifying\", \"sq\", \"sr\", \"ss\", \"st\", \"still\", \"stop\", \"strongly\", \"sub\", \"substantially\", \"successfully\", \"such\", \"sufficiently\", \"suggest\", \"sup\", \"sure\", \"sy\", \"system\", \"sz\", \"t\", \"t1\", \"t2\", \"t3\", \"take\", \"taken\", \"taking\", \"tb\", \"tc\", \"td\", \"te\", \"tell\", \"ten\", \"tends\", \"tf\", \"th\", \"than\", \"thank\", \"thanks\", \"thanx\", \"that\", \"that'll\", \"thats\", \"that's\", \"that've\", \"the\", \"their\", \"theirs\", \"them\", \"themselves\", \"then\", \"thence\", \"there\", \"thereafter\", \"thereby\", \"thered\", \"therefore\", \"therein\", \"there'll\", \"thereof\", \"therere\", \"theres\", \"there's\", \"thereto\", \"thereupon\", \"there've\", \"these\", \"they\", \"theyd\", \"they'd\", \"they'll\", \"theyre\", \"they're\", \"they've\", \"thickv\", \"thin\", \"think\", \"third\", \"this\", \"thorough\", \"thoroughly\", \"those\", \"thou\", \"though\", \"thoughh\", \"thousand\", \"three\", \"throug\", \"through\", \"throughout\", \"thru\", \"thus\", \"ti\", \"til\", \"tip\", \"tj\", \"tl\", \"tm\", \"tn\", \"to\", \"together\", \"too\", \"took\", \"top\", \"toward\", \"towards\", \"tp\", \"tq\", \"tr\", \"tried\", \"tries\", \"truly\", \"try\", \"trying\", \"ts\", \"t's\", \"tt\", \"tv\", \"twelve\", \"twenty\", \"twice\", \"two\", \"tx\", \"u\", \"u201d\", \"ue\", \"ui\", \"uj\", \"uk\", \"um\", \"un\", \"under\", \"unfortunately\", \"unless\", \"unlike\", \"unlikely\", \"until\", \"unto\", \"uo\", \"up\", \"upon\", \"ups\", \"ur\", \"us\", \"use\", \"used\", \"useful\", \"usefully\", \"usefulness\", \"uses\", \"using\", \"usually\", \"ut\", \"v\", \"va\", \"value\", \"various\", \"vd\", \"ve\", \"ve\", \"very\", \"via\", \"viz\", \"vj\", \"vo\", \"vol\", \"vols\", \"volumtype\", \"vq\", \"vs\", \"vt\", \"vu\", \"w\", \"wa\", \"want\", \"wants\", \"was\", \"wasn\", \"wasnt\", \"wasn't\", \"way\", \"we\", \"wed\", \"we'd\", \"welcome\", \"well\", \"we'll\", \"well-b\", \"went\", \"were\", \"we're\", \"weren\", \"werent\", \"weren't\", \"we've\", \"what\", \"whatever\", \"what'll\", \"whats\", \"what's\", \"when\", \"whence\", \"whenever\", \"when's\", \"where\", \"whereafter\", \"whereas\", \"whereby\", \"wherein\", \"wheres\", \"where's\", \"whereupon\", \"wherever\", \"whether\", \"which\", \"while\", \"whim\", \"whither\", \"who\", \"whod\", \"whoever\", \"whole\", \"who'll\", \"whom\", \"whomever\", \"whos\", \"who's\", \"whose\", \"why\", \"why's\", \"wi\", \"widely\", \"will\", \"willing\", \"wish\", \"with\", \"within\", \"without\", \"wo\", \"won\", \"wonder\", \"wont\", \"won't\", \"words\", \"world\", \"would\", \"wouldn\", \"wouldnt\", \"wouldn't\", \"www\", \"x\", \"x1\", \"x2\", \"x3\", \"xf\", \"xi\", \"xj\", \"xk\", \"xl\", \"xn\", \"xo\", \"xs\", \"xt\", \"xv\", \"xx\", \"y\", \"y2\", \"yes\", \"yet\", \"yj\", \"yl\", \"you\", \"youd\", \"you'd\", \"you'll\", \"your\", \"youre\", \"you're\", \"yours\", \"yourself\", \"yourselves\", \"you've\", \"yr\", \"ys\", \"yt\", \"z\", \"zero\", \"zi\", \"zz\"]"
   ]
  },
  {
   "cell_type": "code",
   "execution_count": 10,
   "id": "f232f404-962d-410f-ad00-0474fefa38aa",
   "metadata": {
    "execution": {
     "iopub.execute_input": "2022-04-07T06:23:12.891444Z",
     "iopub.status.busy": "2022-04-07T06:23:12.891212Z",
     "iopub.status.idle": "2022-04-07T06:23:13.171590Z",
     "shell.execute_reply": "2022-04-07T06:23:13.171018Z",
     "shell.execute_reply.started": "2022-04-07T06:23:12.891420Z"
    },
    "tags": []
   },
   "outputs": [
    {
     "data": {
      "application/vnd.jupyter.widget-view+json": {
       "model_id": "a28334b7bf6f434db633867082cd7345",
       "version_major": 2,
       "version_minor": 0
      },
      "text/plain": [
       "VBox()"
      ]
     },
     "metadata": {},
     "output_type": "display_data"
    },
    {
     "data": {
      "application/vnd.jupyter.widget-view+json": {
       "model_id": "",
       "version_major": 2,
       "version_minor": 0
      },
      "text/plain": [
       "FloatProgress(value=0.0, bar_style='info', description='Progress:', layout=Layout(height='25px', width='50%'),…"
      ]
     },
     "metadata": {},
     "output_type": "display_data"
    }
   ],
   "source": [
    "stopword_remover = StopWordsRemover(inputCol=\"words\", outputCol=\"filtered\")\\\n",
    "                    .setStopWords(stops)\n"
   ]
  },
  {
   "cell_type": "markdown",
   "id": "7884c0d8-26dc-4dbe-8a1f-f4be6a07fe40",
   "metadata": {},
   "source": [
    "### Ngram"
   ]
  },
  {
   "cell_type": "code",
   "execution_count": 11,
   "id": "b8e6cc46-46b2-44f3-84e8-c5456a5ff0c7",
   "metadata": {
    "execution": {
     "iopub.execute_input": "2022-04-07T06:23:16.643589Z",
     "iopub.status.busy": "2022-04-07T06:23:16.643353Z",
     "iopub.status.idle": "2022-04-07T06:23:16.727631Z",
     "shell.execute_reply": "2022-04-07T06:23:16.727059Z",
     "shell.execute_reply.started": "2022-04-07T06:23:16.643564Z"
    },
    "tags": []
   },
   "outputs": [
    {
     "data": {
      "application/vnd.jupyter.widget-view+json": {
       "model_id": "a3f54daf04a947a3b5507715348dbb5b",
       "version_major": 2,
       "version_minor": 0
      },
      "text/plain": [
       "VBox()"
      ]
     },
     "metadata": {},
     "output_type": "display_data"
    },
    {
     "data": {
      "application/vnd.jupyter.widget-view+json": {
       "model_id": "",
       "version_major": 2,
       "version_minor": 0
      },
      "text/plain": [
       "FloatProgress(value=0.0, bar_style='info', description='Progress:', layout=Layout(height='25px', width='50%'),…"
      ]
     },
     "metadata": {},
     "output_type": "display_data"
    }
   ],
   "source": [
    "Unigram = NGram(n=1, inputCol=\"filtered\", outputCol=\"UniGrams\")"
   ]
  },
  {
   "cell_type": "code",
   "execution_count": 12,
   "id": "21f878bf-e80c-48c1-9a43-6a09d39a224d",
   "metadata": {
    "execution": {
     "iopub.execute_input": "2022-04-07T06:23:17.343819Z",
     "iopub.status.busy": "2022-04-07T06:23:17.343580Z",
     "iopub.status.idle": "2022-04-07T06:23:17.409058Z",
     "shell.execute_reply": "2022-04-07T06:23:17.408508Z",
     "shell.execute_reply.started": "2022-04-07T06:23:17.343793Z"
    },
    "tags": []
   },
   "outputs": [
    {
     "data": {
      "application/vnd.jupyter.widget-view+json": {
       "model_id": "f56f31a8f972426eabc72bfbad8d903b",
       "version_major": 2,
       "version_minor": 0
      },
      "text/plain": [
       "VBox()"
      ]
     },
     "metadata": {},
     "output_type": "display_data"
    },
    {
     "data": {
      "application/vnd.jupyter.widget-view+json": {
       "model_id": "",
       "version_major": 2,
       "version_minor": 0
      },
      "text/plain": [
       "FloatProgress(value=0.0, bar_style='info', description='Progress:', layout=Layout(height='25px', width='50%'),…"
      ]
     },
     "metadata": {},
     "output_type": "display_data"
    }
   ],
   "source": [
    "Bigram = NGram(n=2, inputCol=\"filtered\", outputCol=\"BiGrams\")"
   ]
  },
  {
   "cell_type": "code",
   "execution_count": 13,
   "id": "0d8ebab8-57c9-4ad9-aa98-b7fcb7c28dd5",
   "metadata": {
    "execution": {
     "iopub.execute_input": "2022-04-07T06:23:18.150644Z",
     "iopub.status.busy": "2022-04-07T06:23:18.150388Z",
     "iopub.status.idle": "2022-04-07T06:23:18.210693Z",
     "shell.execute_reply": "2022-04-07T06:23:18.209921Z",
     "shell.execute_reply.started": "2022-04-07T06:23:18.150617Z"
    },
    "tags": []
   },
   "outputs": [
    {
     "data": {
      "application/vnd.jupyter.widget-view+json": {
       "model_id": "1cbfbad0281d4daba27d39e2f1f14105",
       "version_major": 2,
       "version_minor": 0
      },
      "text/plain": [
       "VBox()"
      ]
     },
     "metadata": {},
     "output_type": "display_data"
    },
    {
     "data": {
      "application/vnd.jupyter.widget-view+json": {
       "model_id": "",
       "version_major": 2,
       "version_minor": 0
      },
      "text/plain": [
       "FloatProgress(value=0.0, bar_style='info', description='Progress:', layout=Layout(height='25px', width='50%'),…"
      ]
     },
     "metadata": {},
     "output_type": "display_data"
    }
   ],
   "source": [
    "Trigram = NGram(n=3, inputCol=\"filtered\", outputCol=\"TriGrams\")"
   ]
  },
  {
   "cell_type": "markdown",
   "id": "3bd0b090-ae56-4d84-b925-80ad5528b637",
   "metadata": {},
   "source": [
    "### Pipeline"
   ]
  },
  {
   "cell_type": "code",
   "execution_count": 14,
   "id": "35d195a7-3f82-449c-8050-023850fe44f7",
   "metadata": {
    "execution": {
     "iopub.execute_input": "2022-04-07T06:23:26.770214Z",
     "iopub.status.busy": "2022-04-07T06:23:26.769964Z",
     "iopub.status.idle": "2022-04-07T06:23:26.883624Z",
     "shell.execute_reply": "2022-04-07T06:23:26.882484Z",
     "shell.execute_reply.started": "2022-04-07T06:23:26.770189Z"
    },
    "tags": []
   },
   "outputs": [
    {
     "data": {
      "application/vnd.jupyter.widget-view+json": {
       "model_id": "0f383cdfb8584c46a40d0b0f1cc81c04",
       "version_major": 2,
       "version_minor": 0
      },
      "text/plain": [
       "VBox()"
      ]
     },
     "metadata": {},
     "output_type": "display_data"
    },
    {
     "data": {
      "application/vnd.jupyter.widget-view+json": {
       "model_id": "",
       "version_major": 2,
       "version_minor": 0
      },
      "text/plain": [
       "FloatProgress(value=0.0, bar_style='info', description='Progress:', layout=Layout(height='25px', width='50%'),…"
      ]
     },
     "metadata": {},
     "output_type": "display_data"
    }
   ],
   "source": [
    "nlp_pipeline = Pipeline(stages=[rgtoken, stopword_remover,Unigram,Bigram,Trigram])\n",
    "light_pipeline = nlp_pipeline.fit(review)"
   ]
  },
  {
   "cell_type": "code",
   "execution_count": 15,
   "id": "62be63fa-467a-4a1c-ab41-89343d6c43e6",
   "metadata": {
    "execution": {
     "iopub.execute_input": "2022-04-07T06:23:32.103964Z",
     "iopub.status.busy": "2022-04-07T06:23:32.103727Z",
     "iopub.status.idle": "2022-04-07T06:23:32.885465Z",
     "shell.execute_reply": "2022-04-07T06:23:32.884720Z",
     "shell.execute_reply.started": "2022-04-07T06:23:32.103940Z"
    },
    "tags": []
   },
   "outputs": [
    {
     "data": {
      "application/vnd.jupyter.widget-view+json": {
       "model_id": "ab5881d69f7649e8a74cfede59a676b0",
       "version_major": 2,
       "version_minor": 0
      },
      "text/plain": [
       "VBox()"
      ]
     },
     "metadata": {},
     "output_type": "display_data"
    },
    {
     "data": {
      "application/vnd.jupyter.widget-view+json": {
       "model_id": "",
       "version_major": 2,
       "version_minor": 0
      },
      "text/plain": [
       "FloatProgress(value=0.0, bar_style='info', description='Progress:', layout=Layout(height='25px', width='50%'),…"
      ]
     },
     "metadata": {},
     "output_type": "display_data"
    }
   ],
   "source": [
    "result = light_pipeline.transform(review)"
   ]
  },
  {
   "cell_type": "code",
   "execution_count": 16,
   "id": "8e787918-911c-407c-bc4b-cf2db80f6004",
   "metadata": {
    "execution": {
     "iopub.execute_input": "2022-04-07T06:23:36.758194Z",
     "iopub.status.busy": "2022-04-07T06:23:36.757959Z",
     "iopub.status.idle": "2022-04-07T06:23:36.831420Z",
     "shell.execute_reply": "2022-04-07T06:23:36.830608Z",
     "shell.execute_reply.started": "2022-04-07T06:23:36.758168Z"
    },
    "tags": []
   },
   "outputs": [
    {
     "data": {
      "application/vnd.jupyter.widget-view+json": {
       "model_id": "a89074f8b4f34a9fbb6ace3fd9d98d20",
       "version_major": 2,
       "version_minor": 0
      },
      "text/plain": [
       "VBox()"
      ]
     },
     "metadata": {},
     "output_type": "display_data"
    },
    {
     "data": {
      "application/vnd.jupyter.widget-view+json": {
       "model_id": "",
       "version_major": 2,
       "version_minor": 0
      },
      "text/plain": [
       "FloatProgress(value=0.0, bar_style='info', description='Progress:', layout=Layout(height='25px', width='50%'),…"
      ]
     },
     "metadata": {},
     "output_type": "display_data"
    },
    {
     "name": "stdout",
     "output_type": "stream",
     "text": [
      "root\n",
      " |-- stars: double (nullable = true)\n",
      " |-- text: string (nullable = true)\n",
      " |-- words: array (nullable = true)\n",
      " |    |-- element: string (containsNull = true)\n",
      " |-- filtered: array (nullable = true)\n",
      " |    |-- element: string (containsNull = true)\n",
      " |-- UniGrams: array (nullable = true)\n",
      " |    |-- element: string (containsNull = false)\n",
      " |-- BiGrams: array (nullable = true)\n",
      " |    |-- element: string (containsNull = false)\n",
      " |-- TriGrams: array (nullable = true)\n",
      " |    |-- element: string (containsNull = false)"
     ]
    }
   ],
   "source": [
    "result.printSchema()"
   ]
  },
  {
   "cell_type": "markdown",
   "id": "bcdb82e2-18fd-4472-8519-ed8c8439a0aa",
   "metadata": {},
   "source": [
    "#### save the Ngram pipe line in s3"
   ]
  },
  {
   "cell_type": "code",
   "execution_count": 17,
   "id": "73c596a1-77d2-4a60-a12e-45247e47eb68",
   "metadata": {
    "execution": {
     "iopub.execute_input": "2022-04-07T06:24:53.829737Z",
     "iopub.status.busy": "2022-04-07T06:24:53.829505Z",
     "iopub.status.idle": "2022-04-07T06:25:05.189412Z",
     "shell.execute_reply": "2022-04-07T06:25:05.188710Z",
     "shell.execute_reply.started": "2022-04-07T06:24:53.829713Z"
    },
    "tags": []
   },
   "outputs": [
    {
     "data": {
      "application/vnd.jupyter.widget-view+json": {
       "model_id": "0fef3e69d09f42d9acc781f391a411ae",
       "version_major": 2,
       "version_minor": 0
      },
      "text/plain": [
       "VBox()"
      ]
     },
     "metadata": {},
     "output_type": "display_data"
    },
    {
     "data": {
      "application/vnd.jupyter.widget-view+json": {
       "model_id": "",
       "version_major": 2,
       "version_minor": 0
      },
      "text/plain": [
       "FloatProgress(value=0.0, bar_style='info', description='Progress:', layout=Layout(height='25px', width='50%'),…"
      ]
     },
     "metadata": {},
     "output_type": "display_data"
    }
   ],
   "source": [
    "light_pipeline.save(\"s3://akshay-yelp/Ngram_pipeline/\")"
   ]
  },
  {
   "cell_type": "markdown",
   "id": "209e776f-91ef-47d4-9553-fb41ed9c091b",
   "metadata": {},
   "source": [
    "#### load the file from hdfs using step "
   ]
  },
  {
   "cell_type": "code",
   "execution_count": 18,
   "id": "85165690-f903-4147-8a43-228f9cfdda75",
   "metadata": {
    "execution": {
     "iopub.execute_input": "2022-04-07T06:32:44.437465Z",
     "iopub.status.busy": "2022-04-07T06:32:44.437230Z",
     "iopub.status.idle": "2022-04-07T06:33:03.849023Z",
     "shell.execute_reply": "2022-04-07T06:33:03.843281Z",
     "shell.execute_reply.started": "2022-04-07T06:32:44.437441Z"
    },
    "tags": []
   },
   "outputs": [
    {
     "data": {
      "application/vnd.jupyter.widget-view+json": {
       "model_id": "3964e24cde8f49c1a8efc085c4d17456",
       "version_major": 2,
       "version_minor": 0
      },
      "text/plain": [
       "VBox()"
      ]
     },
     "metadata": {},
     "output_type": "display_data"
    },
    {
     "data": {
      "application/vnd.jupyter.widget-view+json": {
       "model_id": "",
       "version_major": 2,
       "version_minor": 0
      },
      "text/plain": [
       "FloatProgress(value=0.0, bar_style='info', description='Progress:', layout=Layout(height='25px', width='50%'),…"
      ]
     },
     "metadata": {},
     "output_type": "display_data"
    }
   ],
   "source": [
    "Ngram_pipe = PipelineModel.load(\"hdfs:///Ngram_pipeline/\")"
   ]
  },
  {
   "cell_type": "code",
   "execution_count": 19,
   "id": "769204b3-d010-456d-b902-7dbad8341947",
   "metadata": {
    "execution": {
     "iopub.execute_input": "2022-04-07T06:36:56.326086Z",
     "iopub.status.busy": "2022-04-07T06:36:56.325842Z",
     "iopub.status.idle": "2022-04-07T06:36:57.166785Z",
     "shell.execute_reply": "2022-04-07T06:36:57.165823Z",
     "shell.execute_reply.started": "2022-04-07T06:36:56.326061Z"
    },
    "tags": []
   },
   "outputs": [
    {
     "data": {
      "application/vnd.jupyter.widget-view+json": {
       "model_id": "5d45c28f5f3548d8b55f166a36353ff7",
       "version_major": 2,
       "version_minor": 0
      },
      "text/plain": [
       "VBox()"
      ]
     },
     "metadata": {},
     "output_type": "display_data"
    },
    {
     "data": {
      "application/vnd.jupyter.widget-view+json": {
       "model_id": "",
       "version_major": 2,
       "version_minor": 0
      },
      "text/plain": [
       "FloatProgress(value=0.0, bar_style='info', description='Progress:', layout=Layout(height='25px', width='50%'),…"
      ]
     },
     "metadata": {},
     "output_type": "display_data"
    }
   ],
   "source": [
    "Ngram_pipe_test = Ngram_pipe.transform(review)"
   ]
  },
  {
   "cell_type": "code",
   "execution_count": 20,
   "id": "9e639915-a19c-4f9e-b38e-a96651a62290",
   "metadata": {
    "execution": {
     "iopub.execute_input": "2022-04-07T06:37:55.973406Z",
     "iopub.status.busy": "2022-04-07T06:37:55.973182Z",
     "iopub.status.idle": "2022-04-07T06:37:56.036468Z",
     "shell.execute_reply": "2022-04-07T06:37:56.035808Z",
     "shell.execute_reply.started": "2022-04-07T06:37:55.973382Z"
    },
    "tags": []
   },
   "outputs": [
    {
     "data": {
      "application/vnd.jupyter.widget-view+json": {
       "model_id": "2da597f330c2478daea591d6f8c593df",
       "version_major": 2,
       "version_minor": 0
      },
      "text/plain": [
       "VBox()"
      ]
     },
     "metadata": {},
     "output_type": "display_data"
    },
    {
     "data": {
      "application/vnd.jupyter.widget-view+json": {
       "model_id": "",
       "version_major": 2,
       "version_minor": 0
      },
      "text/plain": [
       "FloatProgress(value=0.0, bar_style='info', description='Progress:', layout=Layout(height='25px', width='50%'),…"
      ]
     },
     "metadata": {},
     "output_type": "display_data"
    },
    {
     "name": "stdout",
     "output_type": "stream",
     "text": [
      "root\n",
      " |-- stars: double (nullable = true)\n",
      " |-- text: string (nullable = true)\n",
      " |-- words: array (nullable = true)\n",
      " |    |-- element: string (containsNull = true)\n",
      " |-- filtered: array (nullable = true)\n",
      " |    |-- element: string (containsNull = true)\n",
      " |-- UniGrams: array (nullable = true)\n",
      " |    |-- element: string (containsNull = false)\n",
      " |-- BiGrams: array (nullable = true)\n",
      " |    |-- element: string (containsNull = false)\n",
      " |-- TriGrams: array (nullable = true)\n",
      " |    |-- element: string (containsNull = false)"
     ]
    }
   ],
   "source": [
    "Ngram_pipe_test.printSchema()"
   ]
  },
  {
   "cell_type": "markdown",
   "id": "3de818d4-3430-44a4-ab83-76bc986b86b9",
   "metadata": {},
   "source": [
    "## Unigram Count"
   ]
  },
  {
   "cell_type": "code",
   "execution_count": 22,
   "id": "c9e129b0-b12a-4d88-a36f-b43b02903c4d",
   "metadata": {
    "execution": {
     "iopub.execute_input": "2022-04-07T06:44:32.229359Z",
     "iopub.status.busy": "2022-04-07T06:44:32.229125Z",
     "iopub.status.idle": "2022-04-07T06:47:44.093487Z",
     "shell.execute_reply": "2022-04-07T06:47:44.092793Z",
     "shell.execute_reply.started": "2022-04-07T06:44:32.229333Z"
    },
    "tags": []
   },
   "outputs": [
    {
     "data": {
      "application/vnd.jupyter.widget-view+json": {
       "model_id": "879416d1f17b4b5c9d07ae3c06831859",
       "version_major": 2,
       "version_minor": 0
      },
      "text/plain": [
       "VBox()"
      ]
     },
     "metadata": {},
     "output_type": "display_data"
    },
    {
     "data": {
      "application/vnd.jupyter.widget-view+json": {
       "model_id": "",
       "version_major": 2,
       "version_minor": 0
      },
      "text/plain": [
       "FloatProgress(value=0.0, bar_style='info', description='Progress:', layout=Layout(height='25px', width='50%'),…"
      ]
     },
     "metadata": {},
     "output_type": "display_data"
    },
    {
     "name": "stdout",
     "output_type": "stream",
     "text": [
      "+-------+-------+\n",
      "|unigram|  count|\n",
      "+-------+-------+\n",
      "|   food|4411677|\n",
      "|   good|4222370|\n",
      "|  place|4066403|\n",
      "|  great|3721926|\n",
      "|   time|2944327|\n",
      "|service|2882528|\n",
      "|   nice|1548504|\n",
      "|   love|1370791|\n",
      "|  staff|1365744|\n",
      "|  order|1353377|\n",
      "+-------+-------+\n",
      "only showing top 10 rows"
     ]
    }
   ],
   "source": [
    "unique_unigram = Ngram_pipe_test.select(explode(\"UniGrams\").alias(\"unigram\")).groupBy(\"unigram\").count().orderBy(desc(\"count\"), \"unigram\")\n",
    "unique_unigram.show(10)"
   ]
  },
  {
   "cell_type": "code",
   "execution_count": 23,
   "id": "4749387f-2b8e-4d95-af4c-c7a8e5c68081",
   "metadata": {
    "execution": {
     "iopub.execute_input": "2022-04-07T06:47:44.095162Z",
     "iopub.status.busy": "2022-04-07T06:47:44.094899Z",
     "iopub.status.idle": "2022-04-07T06:50:45.935059Z",
     "shell.execute_reply": "2022-04-07T06:50:45.934367Z",
     "shell.execute_reply.started": "2022-04-07T06:47:44.095126Z"
    },
    "tags": []
   },
   "outputs": [
    {
     "data": {
      "application/vnd.jupyter.widget-view+json": {
       "model_id": "1cd01ade490340eca8388a52cd28507a",
       "version_major": 2,
       "version_minor": 0
      },
      "text/plain": [
       "VBox()"
      ]
     },
     "metadata": {},
     "output_type": "display_data"
    },
    {
     "data": {
      "application/vnd.jupyter.widget-view+json": {
       "model_id": "",
       "version_major": 2,
       "version_minor": 0
      },
      "text/plain": [
       "FloatProgress(value=0.0, bar_style='info', description='Progress:', layout=Layout(height='25px', width='50%'),…"
      ]
     },
     "metadata": {},
     "output_type": "display_data"
    }
   ],
   "source": [
    "unigram_plot = unique_unigram.limit(30).toPandas()"
   ]
  },
  {
   "cell_type": "code",
   "execution_count": 25,
   "id": "19509e00-fd09-4eb9-9dbe-185203c2b5ac",
   "metadata": {
    "execution": {
     "iopub.execute_input": "2022-04-07T06:51:27.066202Z",
     "iopub.status.busy": "2022-04-07T06:51:27.065868Z",
     "iopub.status.idle": "2022-04-07T06:51:27.883403Z",
     "shell.execute_reply": "2022-04-07T06:51:27.882822Z",
     "shell.execute_reply.started": "2022-04-07T06:51:27.066161Z"
    },
    "tags": []
   },
   "outputs": [
    {
     "data": {
      "application/vnd.jupyter.widget-view+json": {
       "model_id": "ff973861f785477cbe4f20376cda3e9d",
       "version_major": 2,
       "version_minor": 0
      },
      "text/plain": [
       "VBox()"
      ]
     },
     "metadata": {},
     "output_type": "display_data"
    },
    {
     "data": {
      "application/vnd.jupyter.widget-view+json": {
       "model_id": "",
       "version_major": 2,
       "version_minor": 0
      },
      "text/plain": [
       "FloatProgress(value=0.0, bar_style='info', description='Progress:', layout=Layout(height='25px', width='50%'),…"
      ]
     },
     "metadata": {},
     "output_type": "display_data"
    },
    {
     "data": {
      "image/png": "[encoded data removed]",
      "text/plain": [
       "<IPython.core.display.Image object>"
      ]
     },
     "metadata": {},
     "output_type": "display_data"
    }
   ],
   "source": [
    "plt.clf()\n",
    "unigram_plot.plot(kind='bar', x='unigram',y='count', legend=None, figsize=(8,6))\n",
    "plt.title('Top Unigrams')\n",
    "plt.xlabel('Unigram')\n",
    "plt.ylabel('Count')\n",
    "\n",
    "%matplot plt"
   ]
  },
  {
   "cell_type": "markdown",
   "id": "4f92aea5-75ef-497a-b76a-11528fe3fd35",
   "metadata": {},
   "source": [
    "## Bigram count"
   ]
  },
  {
   "cell_type": "code",
   "execution_count": 21,
   "id": "c6d96db9-2298-4513-b481-6385047107f7",
   "metadata": {
    "execution": {
     "iopub.execute_input": "2022-04-07T06:38:04.260635Z",
     "iopub.status.busy": "2022-04-07T06:38:04.260409Z",
     "iopub.status.idle": "2022-04-07T06:42:22.420881Z",
     "shell.execute_reply": "2022-04-07T06:42:22.420139Z",
     "shell.execute_reply.started": "2022-04-07T06:38:04.260610Z"
    },
    "tags": []
   },
   "outputs": [
    {
     "data": {
      "application/vnd.jupyter.widget-view+json": {
       "model_id": "6b04e8da2c6341cfa86e77e41c00e272",
       "version_major": 2,
       "version_minor": 0
      },
      "text/plain": [
       "VBox()"
      ]
     },
     "metadata": {},
     "output_type": "display_data"
    },
    {
     "data": {
      "application/vnd.jupyter.widget-view+json": {
       "model_id": "",
       "version_major": 2,
       "version_minor": 0
      },
      "text/plain": [
       "FloatProgress(value=0.0, bar_style='info', description='Progress:', layout=Layout(height='25px', width='50%'),…"
      ]
     },
     "metadata": {},
     "output_type": "display_data"
    },
    {
     "name": "stdout",
     "output_type": "stream",
     "text": [
      "+----------------+------+\n",
      "|          bigram| count|\n",
      "+----------------+------+\n",
      "|customer service|420058|\n",
      "|highly recommend|327591|\n",
      "|       food good|271209|\n",
      "|     pretty good|226034|\n",
      "|       ice cream|225064|\n",
      "|     great place|200225|\n",
      "|  staff friendly|186075|\n",
      "|   great service|183457|\n",
      "|      love place|179069|\n",
      "|      great food|177961|\n",
      "+----------------+------+\n",
      "only showing top 10 rows"
     ]
    }
   ],
   "source": [
    "unique_bigram = Ngram_pipe_test.select(explode(\"BiGrams\").alias(\"bigram\")).groupBy(\"bigram\").count().orderBy(desc(\"count\"), \"bigram\")\n",
    "unique_bigram.show(10)"
   ]
  },
  {
   "cell_type": "code",
   "execution_count": 32,
   "id": "791e24e8-1e97-4d0d-8c87-12c17f09f113",
   "metadata": {
    "execution": {
     "iopub.execute_input": "2022-04-06T10:57:00.584994Z",
     "iopub.status.busy": "2022-04-06T10:57:00.584766Z",
     "iopub.status.idle": "2022-04-06T11:01:16.631402Z",
     "shell.execute_reply": "2022-04-06T11:01:16.630730Z",
     "shell.execute_reply.started": "2022-04-06T10:57:00.584970Z"
    },
    "tags": []
   },
   "outputs": [
    {
     "data": {
      "application/vnd.jupyter.widget-view+json": {
       "model_id": "a9a5da724f2643ab8c5a006cc406d4f9",
       "version_major": 2,
       "version_minor": 0
      },
      "text/plain": [
       "VBox()"
      ]
     },
     "metadata": {},
     "output_type": "display_data"
    },
    {
     "data": {
      "application/vnd.jupyter.widget-view+json": {
       "model_id": "",
       "version_major": 2,
       "version_minor": 0
      },
      "text/plain": [
       "FloatProgress(value=0.0, bar_style='info', description='Progress:', layout=Layout(height='25px', width='50%'),…"
      ]
     },
     "metadata": {},
     "output_type": "display_data"
    },
    {
     "name": "stdout",
     "output_type": "stream",
     "text": [
      "+----------------+------+\n",
      "|          bigram| count|\n",
      "+----------------+------+\n",
      "|customer service|420058|\n",
      "|highly recommend|327591|\n",
      "|       food good|271209|\n",
      "|     pretty good|226034|\n",
      "|       ice cream|225064|\n",
      "|     great place|200225|\n",
      "|  staff friendly|186075|\n",
      "|   great service|183457|\n",
      "|      love place|179069|\n",
      "|      great food|177961|\n",
      "+----------------+------+\n",
      "only showing top 10 rows"
     ]
    }
   ],
   "source": [
    "unique_bigram.orderBy(desc(\"count\"), \"bigram\").show(10)"
   ]
  },
  {
   "cell_type": "code",
   "execution_count": 20,
   "id": "e8bb5247-467a-4b86-87b5-d49c60be2e15",
   "metadata": {
    "execution": {
     "iopub.execute_input": "2022-04-06T15:33:50.400970Z",
     "iopub.status.busy": "2022-04-06T15:33:50.400716Z",
     "iopub.status.idle": "2022-04-06T15:33:51.212989Z",
     "shell.execute_reply": "2022-04-06T15:33:51.212285Z",
     "shell.execute_reply.started": "2022-04-06T15:33:50.400935Z"
    },
    "tags": []
   },
   "outputs": [
    {
     "data": {
      "application/vnd.jupyter.widget-view+json": {
       "model_id": "211fc4d5559a4284a89c68f52ac9f505",
       "version_major": 2,
       "version_minor": 0
      },
      "text/plain": [
       "VBox()"
      ]
     },
     "metadata": {},
     "output_type": "display_data"
    },
    {
     "data": {
      "application/vnd.jupyter.widget-view+json": {
       "model_id": "",
       "version_major": 2,
       "version_minor": 0
      },
      "text/plain": [
       "FloatProgress(value=0.0, bar_style='info', description='Progress:', layout=Layout(height='25px', width='50%'),…"
      ]
     },
     "metadata": {},
     "output_type": "display_data"
    },
    {
     "data": {
      "image/png": "[encoded data removed]",
      "text/plain": [
       "<IPython.core.display.Image object>"
      ]
     },
     "metadata": {},
     "output_type": "display_data"
    }
   ],
   "source": [
    "plt.clf()\n",
    "bigram_plot.plot(kind='bar', x='bigram',y='count', legend=None, figsize=(8,6))\n",
    "plt.title('Top Bigrams')\n",
    "plt.xlabel('Bigram')\n",
    "plt.ylabel('Count')\n",
    "\n",
    "%matplot plt"
   ]
  },
  {
   "cell_type": "markdown",
   "id": "49bd4032-a79f-4ddc-b41d-db67a612cde3",
   "metadata": {},
   "source": [
    "## Trigram count"
   ]
  },
  {
   "cell_type": "code",
   "execution_count": 26,
   "id": "4ec8057d-f064-4ade-91f5-f3da792af390",
   "metadata": {
    "execution": {
     "iopub.execute_input": "2022-04-07T06:53:00.166767Z",
     "iopub.status.busy": "2022-04-07T06:53:00.166498Z",
     "iopub.status.idle": "2022-04-07T06:58:20.359909Z",
     "shell.execute_reply": "2022-04-07T06:58:20.359220Z",
     "shell.execute_reply.started": "2022-04-07T06:53:00.166741Z"
    },
    "tags": []
   },
   "outputs": [
    {
     "data": {
      "application/vnd.jupyter.widget-view+json": {
       "model_id": "338d40d4ae684b80b7d8045ccfbce495",
       "version_major": 2,
       "version_minor": 0
      },
      "text/plain": [
       "VBox()"
      ]
     },
     "metadata": {},
     "output_type": "display_data"
    },
    {
     "data": {
      "application/vnd.jupyter.widget-view+json": {
       "model_id": "",
       "version_major": 2,
       "version_minor": 0
      },
      "text/plain": [
       "FloatProgress(value=0.0, bar_style='info', description='Progress:', layout=Layout(height='25px', width='50%'),…"
      ]
     },
     "metadata": {},
     "output_type": "display_data"
    },
    {
     "name": "stdout",
     "output_type": "stream",
     "text": [
      "+--------------------+-----+\n",
      "|             trigram|count|\n",
      "+--------------------+-----+\n",
      "|great customer se...|38078|\n",
      "|highly recommend ...|30499|\n",
      "|  food great service|29894|\n",
      "|staff super friendly|26796|\n",
      "|    great food great|26366|\n",
      "|   food good service|25845|\n",
      "|    food pretty good|24927|\n",
      "|  service great food|22903|\n",
      "|  sweet potato fries|22067|\n",
      "|      love love love|21532|\n",
      "+--------------------+-----+\n",
      "only showing top 10 rows"
     ]
    }
   ],
   "source": [
    "unique_trigram = Ngram_pipe_test.select(explode(\"TriGrams\").alias(\"trigram\")).groupBy(\"trigram\").count().orderBy(desc(\"count\"), \"trigram\")\n",
    "unique_trigram.show(10)"
   ]
  },
  {
   "cell_type": "code",
   "execution_count": 27,
   "id": "a5c7892c-ea4b-427e-978d-24e735412dcc",
   "metadata": {
    "execution": {
     "iopub.execute_input": "2022-04-07T06:59:04.463612Z",
     "iopub.status.busy": "2022-04-07T06:59:04.463364Z",
     "iopub.status.idle": "2022-04-07T07:03:02.403883Z",
     "shell.execute_reply": "2022-04-07T07:03:02.401969Z",
     "shell.execute_reply.started": "2022-04-07T06:59:04.463586Z"
    },
    "tags": []
   },
   "outputs": [
    {
     "data": {
      "application/vnd.jupyter.widget-view+json": {
       "model_id": "6d98a3a8f2fe4d80b1503a20a79cfd78",
       "version_major": 2,
       "version_minor": 0
      },
      "text/plain": [
       "VBox()"
      ]
     },
     "metadata": {},
     "output_type": "display_data"
    },
    {
     "data": {
      "application/vnd.jupyter.widget-view+json": {
       "model_id": "",
       "version_major": 2,
       "version_minor": 0
      },
      "text/plain": [
       "FloatProgress(value=0.0, bar_style='info', description='Progress:', layout=Layout(height='25px', width='50%'),…"
      ]
     },
     "metadata": {},
     "output_type": "display_data"
    }
   ],
   "source": [
    "bigram_plot = unique_bigram.limit(30).toPandas()"
   ]
  },
  {
   "cell_type": "code",
   "execution_count": 28,
   "id": "705299d3-8dba-4a84-8134-820b0121a36c",
   "metadata": {
    "execution": {
     "iopub.execute_input": "2022-04-07T07:03:02.405581Z",
     "iopub.status.busy": "2022-04-07T07:03:02.405312Z",
     "iopub.status.idle": "2022-04-07T07:08:38.615785Z",
     "shell.execute_reply": "2022-04-07T07:08:38.615077Z",
     "shell.execute_reply.started": "2022-04-07T07:03:02.405546Z"
    },
    "tags": []
   },
   "outputs": [
    {
     "data": {
      "application/vnd.jupyter.widget-view+json": {
       "model_id": "9a5dba1ed25045e884e40bb97b8fa5b2",
       "version_major": 2,
       "version_minor": 0
      },
      "text/plain": [
       "VBox()"
      ]
     },
     "metadata": {},
     "output_type": "display_data"
    },
    {
     "data": {
      "application/vnd.jupyter.widget-view+json": {
       "model_id": "",
       "version_major": 2,
       "version_minor": 0
      },
      "text/plain": [
       "FloatProgress(value=0.0, bar_style='info', description='Progress:', layout=Layout(height='25px', width='50%'),…"
      ]
     },
     "metadata": {},
     "output_type": "display_data"
    }
   ],
   "source": [
    "trigram_plot = unique_trigram.limit(15).toPandas()"
   ]
  },
  {
   "cell_type": "code",
   "execution_count": 30,
   "id": "f86730bc-fd21-4ef2-9b1c-6a97fcf20eb7",
   "metadata": {
    "execution": {
     "iopub.execute_input": "2022-04-07T07:11:29.336746Z",
     "iopub.status.busy": "2022-04-07T07:11:29.336517Z",
     "iopub.status.idle": "2022-04-07T07:11:29.608857Z",
     "shell.execute_reply": "2022-04-07T07:11:29.608159Z",
     "shell.execute_reply.started": "2022-04-07T07:11:29.336721Z"
    },
    "tags": []
   },
   "outputs": [
    {
     "data": {
      "application/vnd.jupyter.widget-view+json": {
       "model_id": "5362b2ff478d4eaa930a17b2ec569ce1",
       "version_major": 2,
       "version_minor": 0
      },
      "text/plain": [
       "VBox()"
      ]
     },
     "metadata": {},
     "output_type": "display_data"
    },
    {
     "data": {
      "application/vnd.jupyter.widget-view+json": {
       "model_id": "",
       "version_major": 2,
       "version_minor": 0
      },
      "text/plain": [
       "FloatProgress(value=0.0, bar_style='info', description='Progress:', layout=Layout(height='25px', width='50%'),…"
      ]
     },
     "metadata": {},
     "output_type": "display_data"
    },
    {
     "data": {
      "image/png": "[encoded data removed]",
      "text/plain": [
       "<IPython.core.display.Image object>"
      ]
     },
     "metadata": {},
     "output_type": "display_data"
    }
   ],
   "source": [
    "plt.clf()\n",
    "trigram_plot.plot(kind='bar', x='trigram',y='count', legend=None, figsize=(8,6))\n",
    "plt.title('Top Trigrams')\n",
    "plt.xlabel('Trigram')\n",
    "plt.ylabel('Count')\n",
    "\n",
    "%matplot plt"
   ]
  },
  {
   "cell_type": "markdown",
   "id": "e8778725-0e8b-40c3-8e3b-e394a48c1505",
   "metadata": {},
   "source": [
    "### rating wise ngram "
   ]
  },
  {
   "cell_type": "code",
   "execution_count": 31,
   "id": "669e3514-8476-420c-9ec6-19b6ea750ad7",
   "metadata": {
    "execution": {
     "iopub.execute_input": "2022-04-07T07:19:47.857484Z",
     "iopub.status.busy": "2022-04-07T07:19:47.857255Z",
     "iopub.status.idle": "2022-04-07T07:19:48.117844Z",
     "shell.execute_reply": "2022-04-07T07:19:48.117011Z",
     "shell.execute_reply.started": "2022-04-07T07:19:47.857460Z"
    }
   },
   "outputs": [
    {
     "data": {
      "application/vnd.jupyter.widget-view+json": {
       "model_id": "d63acde0bc7f4755920b82cc20d6a51d",
       "version_major": 2,
       "version_minor": 0
      },
      "text/plain": [
       "VBox()"
      ]
     },
     "metadata": {},
     "output_type": "display_data"
    },
    {
     "data": {
      "application/vnd.jupyter.widget-view+json": {
       "model_id": "",
       "version_major": 2,
       "version_minor": 0
      },
      "text/plain": [
       "FloatProgress(value=0.0, bar_style='info', description='Progress:', layout=Layout(height='25px', width='50%'),…"
      ]
     },
     "metadata": {},
     "output_type": "display_data"
    }
   ],
   "source": [
    "one_star = Ngram_pipe_test.filter(col('stars')==1.0)\n",
    "two_star = Ngram_pipe_test.filter(col('stars')==2.0)\n",
    "three_star = Ngram_pipe_test.filter(col('stars')==3.0)\n",
    "four_star = Ngram_pipe_test.filter(col('stars')==4.0)\n",
    "five_star = Ngram_pipe_test.filter(col('stars')==5.0)"
   ]
  },
  {
   "cell_type": "code",
   "execution_count": 33,
   "id": "d1b8cc36-fdef-4541-84b0-7429484f6d0e",
   "metadata": {
    "execution": {
     "iopub.execute_input": "2022-04-07T07:34:37.330609Z",
     "iopub.status.busy": "2022-04-07T07:34:37.330324Z",
     "iopub.status.idle": "2022-04-07T07:35:46.788488Z",
     "shell.execute_reply": "2022-04-07T07:35:46.787768Z",
     "shell.execute_reply.started": "2022-04-07T07:34:37.330538Z"
    },
    "tags": []
   },
   "outputs": [
    {
     "data": {
      "application/vnd.jupyter.widget-view+json": {
       "model_id": "4a1038b8a1d84c1087ca6cc5558ac73d",
       "version_major": 2,
       "version_minor": 0
      },
      "text/plain": [
       "VBox()"
      ]
     },
     "metadata": {},
     "output_type": "display_data"
    },
    {
     "data": {
      "application/vnd.jupyter.widget-view+json": {
       "model_id": "",
       "version_major": 2,
       "version_minor": 0
      },
      "text/plain": [
       "FloatProgress(value=0.0, bar_style='info', description='Progress:', layout=Layout(height='25px', width='50%'),…"
      ]
     },
     "metadata": {},
     "output_type": "display_data"
    },
    {
     "name": "stdout",
     "output_type": "stream",
     "text": [
      "+--------------------+-----+\n",
      "|             trigram|count|\n",
      "+--------------------+-----+\n",
      "|worst customer se...|12896|\n",
      "|poor customer ser...|10748|\n",
      "|horrible customer...|10465|\n",
      "|terrible customer...| 9262|\n",
      "|    waste time money| 8330|\n",
      "|    long story short| 6836|\n",
      "| asked speak manager| 5423|\n",
      "|bad customer service| 5235|\n",
      "|   waited 20 minutes| 4340|\n",
      "|good customer ser...| 4217|\n",
      "+--------------------+-----+\n",
      "only showing top 10 rows"
     ]
    }
   ],
   "source": [
    "one_star_ngram = one_star.select(explode(\"TriGrams\").alias(\"trigram\")).groupBy(\"trigram\").count().orderBy(desc(\"count\"), \"trigram\")\n",
    "one_star_ngram.show(10)"
   ]
  },
  {
   "cell_type": "code",
   "execution_count": 34,
   "id": "9ab80e7c-0d6c-4a80-92bd-77332ad9b9ee",
   "metadata": {
    "execution": {
     "iopub.execute_input": "2022-04-07T07:36:17.519953Z",
     "iopub.status.busy": "2022-04-07T07:36:17.519622Z",
     "iopub.status.idle": "2022-04-07T07:38:15.154146Z",
     "shell.execute_reply": "2022-04-07T07:38:15.153430Z",
     "shell.execute_reply.started": "2022-04-07T07:36:17.519912Z"
    }
   },
   "outputs": [
    {
     "data": {
      "application/vnd.jupyter.widget-view+json": {
       "model_id": "91d43263f91541478d856c10fcef18c0",
       "version_major": 2,
       "version_minor": 0
      },
      "text/plain": [
       "VBox()"
      ]
     },
     "metadata": {},
     "output_type": "display_data"
    },
    {
     "data": {
      "application/vnd.jupyter.widget-view+json": {
       "model_id": "",
       "version_major": 2,
       "version_minor": 0
      },
      "text/plain": [
       "FloatProgress(value=0.0, bar_style='info', description='Progress:', layout=Layout(height='25px', width='50%'),…"
      ]
     },
     "metadata": {},
     "output_type": "display_data"
    },
    {
     "name": "stdout",
     "output_type": "stream",
     "text": [
      "+--------------------+-----+\n",
      "|             trigram|count|\n",
      "+--------------------+-----+\n",
      "|great customer se...|26989|\n",
      "|highly recommend ...|25332|\n",
      "|    great food great|19603|\n",
      "|  food great service|18885|\n",
      "|staff super friendly|18460|\n",
      "|      love love love|17410|\n",
      "|  service great food|13653|\n",
      "| great service great|12900|\n",
      "|staff friendly he...|12531|\n",
      "|excellent custome...|11217|\n",
      "+--------------------+-----+\n",
      "only showing top 10 rows"
     ]
    }
   ],
   "source": [
    "five_star_ngram = five_star.select(explode(\"TriGrams\").alias(\"trigram\")).groupBy(\"trigram\").count().orderBy(desc(\"count\"), \"trigram\")\n",
    "five_star_ngram.show(10)"
   ]
  },
  {
   "cell_type": "code",
   "execution_count": 37,
   "id": "dd6deb91-316b-402e-ae89-42874594c6d9",
   "metadata": {
    "execution": {
     "iopub.execute_input": "2022-04-07T07:44:57.793410Z",
     "iopub.status.busy": "2022-04-07T07:44:57.793090Z",
     "iopub.status.idle": "2022-04-07T07:45:51.217975Z",
     "shell.execute_reply": "2022-04-07T07:45:51.217264Z",
     "shell.execute_reply.started": "2022-04-07T07:44:57.793372Z"
    },
    "tags": []
   },
   "outputs": [
    {
     "data": {
      "application/vnd.jupyter.widget-view+json": {
       "model_id": "32e96a118ca44815863fa2c4ec718e08",
       "version_major": 2,
       "version_minor": 0
      },
      "text/plain": [
       "VBox()"
      ]
     },
     "metadata": {},
     "output_type": "display_data"
    },
    {
     "data": {
      "application/vnd.jupyter.widget-view+json": {
       "model_id": "",
       "version_major": 2,
       "version_minor": 0
      },
      "text/plain": [
       "FloatProgress(value=0.0, bar_style='info', description='Progress:', layout=Layout(height='25px', width='50%'),…"
      ]
     },
     "metadata": {},
     "output_type": "display_data"
    },
    {
     "name": "stdout",
     "output_type": "stream",
     "text": [
      "+-------------------+-----+\n",
      "|            trigram|count|\n",
      "+-------------------+-----+\n",
      "|          3 5 stars| 8868|\n",
      "|   food pretty good| 8501|\n",
      "|  food good service| 5303|\n",
      "| sweet potato fries| 3989|\n",
      "|     reason 3 stars| 3035|\n",
      "|  service good food| 3028|\n",
      "|      place 3 stars| 2793|\n",
      "|service pretty good| 2412|\n",
      "|    food good great| 2327|\n",
      "|          4 5 stars| 2273|\n",
      "+-------------------+-----+\n",
      "only showing top 10 rows"
     ]
    }
   ],
   "source": [
    "three_star_ngram = three_star.select(explode(\"TriGrams\").alias(\"trigram\")).groupBy(\"trigram\").count().orderBy(desc(\"count\"), \"trigram\")\n",
    "three_star_ngram.show(10)"
   ]
  },
  {
   "cell_type": "code",
   "execution_count": null,
   "id": "0b0668c8-4e3e-4669-af51-203266f4f444",
   "metadata": {},
   "outputs": [],
   "source": []
  }
 ],
 "metadata": {
  "kernelspec": {
   "display_name": "PySpark",
   "language": "",
   "name": "pysparkkernel"
  },
  "language_info": {
   "codemirror_mode": {
    "name": "python",
    "version": 3
   },
   "mimetype": "text/x-python",
   "name": "pyspark",
   "pygments_lexer": "python3"
  }
 },
 "nbformat": 4,
 "nbformat_minor": 5
}
