{
 "cells": [
  {
   "cell_type": "markdown",
   "id": "c0fc2a6d-357c-4143-8541-c95590afd5d2",
   "metadata": {},
   "source": [
    "# Positive Negative Review Predictions"
   ]
  },
  {
   "cell_type": "markdown",
   "id": "7084e0b8-9fa5-4e60-aaab-ed7022fda9a6",
   "metadata": {},
   "source": [
    "# Installing Libraries"
   ]
  },
  {
   "cell_type": "code",
   "execution_count": 1,
   "id": "378aece7-588b-438d-9219-99555f808bf7",
   "metadata": {
    "collapsed": true,
    "execution": {
     "iopub.execute_input": "2022-04-12T09:26:20.348824Z",
     "iopub.status.busy": "2022-04-12T09:26:20.348634Z",
     "iopub.status.idle": "2022-04-12T09:27:15.562865Z",
     "shell.execute_reply": "2022-04-12T09:27:15.562061Z",
     "shell.execute_reply.started": "2022-04-12T09:26:20.348800Z"
    },
    "jupyter": {
     "outputs_hidden": true
    },
    "tags": []
   },
   "outputs": [
    {
     "data": {
      "application/vnd.jupyter.widget-view+json": {
       "model_id": "845d742614b9406f890c81e8010a621a",
       "version_major": 2,
       "version_minor": 0
      },
      "text/plain": [
       "VBox()"
      ]
     },
     "metadata": {},
     "output_type": "display_data"
    },
    {
     "name": "stdout",
     "output_type": "stream",
     "text": [
      "Starting Spark application\n"
     ]
    },
    {
     "data": {
      "text/html": [
       "<table>\n",
       "<tr><th>ID</th><th>YARN Application ID</th><th>Kind</th><th>State</th><th>Spark UI</th><th>Driver log</th><th>User</th><th>Current session?</th></tr><tr><td>0</td><td>application_1649754617506_0008</td><td>pyspark</td><td>idle</td><td><a target=\"_blank\" href=\"http://ip-172-31-25-237.ec2.internal:20888/proxy/application_1649754617506_0008/\" class=\"emr-proxy-link\" emr-resource=\"j-XEBLM7I36R8T\n",
       "\" application-id=\"application_1649754617506_0008\">Link</a></td><td><a target=\"_blank\" href=\"http://ip-172-31-19-98.ec2.internal:8042/node/containerlogs/container_1649754617506_0008_01_000001/livy\" >Link</a></td><td>None</td><td>✔</td></tr></table>"
      ],
      "text/plain": [
       "<IPython.core.display.HTML object>"
      ]
     },
     "metadata": {},
     "output_type": "display_data"
    },
    {
     "data": {
      "application/vnd.jupyter.widget-view+json": {
       "model_id": "",
       "version_major": 2,
       "version_minor": 0
      },
      "text/plain": [
       "FloatProgress(value=0.0, bar_style='info', description='Progress:', layout=Layout(height='25px', width='50%'),…"
      ]
     },
     "metadata": {},
     "output_type": "display_data"
    },
    {
     "name": "stdout",
     "output_type": "stream",
     "text": [
      "SparkSession available as 'spark'.\n"
     ]
    },
    {
     "data": {
      "application/vnd.jupyter.widget-view+json": {
       "model_id": "",
       "version_major": 2,
       "version_minor": 0
      },
      "text/plain": [
       "FloatProgress(value=0.0, bar_style='info', description='Progress:', layout=Layout(height='25px', width='50%'),…"
      ]
     },
     "metadata": {},
     "output_type": "display_data"
    },
    {
     "name": "stdout",
     "output_type": "stream",
     "text": [
      "Collecting pandas==0.25.1\n",
      "  Downloading https://files.pythonhosted.org/packages/7e/ab/ea76361f9d3e732e114adcd801d2820d5319c23d0ac5482fa3b412db217e/pandas-0.25.1-cp37-cp37m-manylinux1_x86_64.whl (10.4MB)\n",
      "Requirement already satisfied: pytz>=2017.2 in /usr/local/lib/python3.7/site-packages (from pandas==0.25.1)\n",
      "Requirement already satisfied: numpy>=1.13.3 in /usr/local/lib64/python3.7/site-packages (from pandas==0.25.1)\n",
      "Collecting python-dateutil>=2.6.1 (from pandas==0.25.1)\n",
      "  Downloading https://files.pythonhosted.org/packages/36/7a/87837f39d0296e723bb9b62bbb257d0355c7f6128853c78955f57342a56d/python_dateutil-2.8.2-py2.py3-none-any.whl (247kB)\n",
      "Requirement already satisfied: six>=1.5 in /usr/local/lib/python3.7/site-packages (from python-dateutil>=2.6.1->pandas==0.25.1)\n",
      "Installing collected packages: python-dateutil, pandas\n",
      "Successfully installed pandas-0.25.1 python-dateutil-2.8.2\n",
      "\n",
      "Collecting textblob\n",
      "  Downloading https://files.pythonhosted.org/packages/44/a4/595b66c1342a830f4ff476307c4367541cce3e361b9ee96d22a5eeeddd1d/textblob-0.17.1-py2.py3-none-any.whl (636kB)\n",
      "Requirement already satisfied: nltk>=3.1; python_version >= \"3\" in /usr/local/lib/python3.7/site-packages (from textblob)\n",
      "Requirement already satisfied: click in /usr/local/lib64/python3.7/site-packages (from nltk>=3.1; python_version >= \"3\"->textblob)\n",
      "Requirement already satisfied: joblib in /usr/local/lib64/python3.7/site-packages (from nltk>=3.1; python_version >= \"3\"->textblob)\n",
      "Requirement already satisfied: regex>=2021.8.3 in /usr/local/lib64/python3.7/site-packages (from nltk>=3.1; python_version >= \"3\"->textblob)\n",
      "Requirement already satisfied: tqdm in /usr/local/lib64/python3.7/site-packages (from nltk>=3.1; python_version >= \"3\"->textblob)\n",
      "Collecting importlib-metadata; python_version < \"3.8\" (from click->nltk>=3.1; python_version >= \"3\"->textblob)\n",
      "  Downloading https://files.pythonhosted.org/packages/92/f2/c48787ca7d1e20daa185e1b6b2d4e16acd2fb5e0320bc50ffc89b91fa4d7/importlib_metadata-4.11.3-py3-none-any.whl\n",
      "Collecting typing-extensions>=3.6.4; python_version < \"3.8\" (from importlib-metadata; python_version < \"3.8\"->click->nltk>=3.1; python_version >= \"3\"->textblob)\n",
      "  Downloading https://files.pythonhosted.org/packages/45/6b/44f7f8f1e110027cf88956b59f2fad776cca7e1704396d043f89effd3a0e/typing_extensions-4.1.1-py3-none-any.whl\n",
      "Collecting zipp>=0.5 (from importlib-metadata; python_version < \"3.8\"->click->nltk>=3.1; python_version >= \"3\"->textblob)\n",
      "  Downloading https://files.pythonhosted.org/packages/80/0e/16a7ee38617aab6a624e95948d314097cc2669edae9b02ded53309941cfc/zipp-3.8.0-py3-none-any.whl\n",
      "Installing collected packages: textblob, typing-extensions, zipp, importlib-metadata\n",
      "Successfully installed importlib-metadata-4.11.3 textblob-0.17.1 typing-extensions-4.1.1 zipp-3.8.0\n",
      "\n",
      "Collecting matplotlib==3.1.1\n",
      "  Downloading https://files.pythonhosted.org/packages/19/7a/60bd79c5d79559150f8bba866dd7d434f0a170312e4d15e8aefa5faba294/matplotlib-3.1.1-cp37-cp37m-manylinux1_x86_64.whl (13.1MB)\n",
      "Requirement already satisfied: python-dateutil>=2.1 in /mnt/tmp/1649755602789-0/lib/python3.7/site-packages (from matplotlib==3.1.1)\n",
      "Collecting pyparsing!=2.0.4,!=2.1.2,!=2.1.6,>=2.0.1 (from matplotlib==3.1.1)\n",
      "  Downloading https://files.pythonhosted.org/packages/d9/41/d9cfb4410589805cd787f8a82cddd13142d9bf7449d12adf2d05a4a7d633/pyparsing-3.0.8-py3-none-any.whl (98kB)\n",
      "Collecting cycler>=0.10 (from matplotlib==3.1.1)\n",
      "  Downloading https://files.pythonhosted.org/packages/5c/f9/695d6bedebd747e5eb0fe8fad57b72fdf25411273a39791cde838d5a8f51/cycler-0.11.0-py3-none-any.whl\n",
      "Requirement already satisfied: numpy>=1.11 in /usr/local/lib64/python3.7/site-packages (from matplotlib==3.1.1)\n",
      "Collecting kiwisolver>=1.0.1 (from matplotlib==3.1.1)\n",
      "  Downloading https://files.pythonhosted.org/packages/51/50/9a9a94afa26c50fc5d9127272737806990aa698c7a1c220b8e5075e70304/kiwisolver-1.4.2-cp37-cp37m-manylinux_2_5_x86_64.manylinux1_x86_64.whl (1.1MB)\n",
      "Requirement already satisfied: six>=1.5 in /usr/local/lib/python3.7/site-packages (from python-dateutil>=2.1->matplotlib==3.1.1)\n",
      "Requirement already satisfied: typing-extensions; python_version < \"3.8\" in /mnt/tmp/1649755602789-0/lib/python3.7/site-packages (from kiwisolver>=1.0.1->matplotlib==3.1.1)\n",
      "Installing collected packages: pyparsing, cycler, kiwisolver, matplotlib\n",
      "Successfully installed cycler-0.11.0 kiwisolver-1.4.2 matplotlib-3.1.1 pyparsing-3.0.8\n",
      "\n",
      "You are using pip version 9.0.1, however version 22.0.4 is available.\n",
      "You should consider upgrading via the 'pip install --upgrade pip' command.\n",
      "\n",
      "You are using pip version 9.0.1, however version 22.0.4 is available.\n",
      "You should consider upgrading via the 'pip install --upgrade pip' command.\n",
      "\n",
      "You are using pip version 9.0.1, however version 22.0.4 is available.\n",
      "You should consider upgrading via the 'pip install --upgrade pip' command."
     ]
    }
   ],
   "source": [
    "sc.install_pypi_package(\"pandas==0.25.1\")\n",
    "sc.install_pypi_package(\"textblob\")\n",
    "sc.install_pypi_package(\"matplotlib==3.1.1\", \"https://pypi.org/simple\")"
   ]
  },
  {
   "cell_type": "markdown",
   "id": "cced5512-cea7-41cf-ad18-c2e4d3a01b49",
   "metadata": {},
   "source": [
    "# Importing Libraries"
   ]
  },
  {
   "cell_type": "code",
   "execution_count": 2,
   "id": "b2a6dcd2-7ba6-4628-836b-6937e85bcbe4",
   "metadata": {
    "execution": {
     "iopub.execute_input": "2022-04-12T09:27:15.565358Z",
     "iopub.status.busy": "2022-04-12T09:27:15.564435Z",
     "iopub.status.idle": "2022-04-12T09:27:17.934291Z",
     "shell.execute_reply": "2022-04-12T09:27:17.933521Z",
     "shell.execute_reply.started": "2022-04-12T09:27:15.565318Z"
    },
    "tags": []
   },
   "outputs": [
    {
     "data": {
      "application/vnd.jupyter.widget-view+json": {
       "model_id": "b7806c12e96e44929ee59529f6e01bcc",
       "version_major": 2,
       "version_minor": 0
      },
      "text/plain": [
       "VBox()"
      ]
     },
     "metadata": {},
     "output_type": "display_data"
    },
    {
     "data": {
      "application/vnd.jupyter.widget-view+json": {
       "model_id": "",
       "version_major": 2,
       "version_minor": 0
      },
      "text/plain": [
       "FloatProgress(value=0.0, bar_style='info', description='Progress:', layout=Layout(height='25px', width='50%'),…"
      ]
     },
     "metadata": {},
     "output_type": "display_data"
    }
   ],
   "source": [
    "from pyspark.sql.functions import *\n",
    "from pyspark.sql.types import IntegerType\n",
    "from pyspark.ml.evaluation import BinaryClassificationEvaluator, MulticlassClassificationEvaluator\n",
    "from pyspark.ml.feature import * \n",
    "from pyspark.ml.tuning import CrossValidator\n",
    "from textblob import TextBlob\n",
    "from pyspark.sql.functions import udf\n",
    "from pyspark.sql.types import DoubleType\n",
    "import string \n",
    "import re "
   ]
  },
  {
   "cell_type": "markdown",
   "id": "f54ee99e-25ec-406b-845c-d7bea006d444",
   "metadata": {},
   "source": [
    "# Data Loading through pipeline"
   ]
  },
  {
   "cell_type": "code",
   "execution_count": 3,
   "id": "cf31241c-a179-426f-bb5c-2bba7cc1aa32",
   "metadata": {
    "execution": {
     "iopub.execute_input": "2022-04-12T09:27:17.938209Z",
     "iopub.status.busy": "2022-04-12T09:27:17.938037Z",
     "iopub.status.idle": "2022-04-12T09:27:23.297450Z",
     "shell.execute_reply": "2022-04-12T09:27:23.296767Z",
     "shell.execute_reply.started": "2022-04-12T09:27:17.938187Z"
    },
    "tags": []
   },
   "outputs": [
    {
     "data": {
      "application/vnd.jupyter.widget-view+json": {
       "model_id": "7fadd1f91440432d8a6cd8163fdfd7ab",
       "version_major": 2,
       "version_minor": 0
      },
      "text/plain": [
       "VBox()"
      ]
     },
     "metadata": {},
     "output_type": "display_data"
    },
    {
     "data": {
      "application/vnd.jupyter.widget-view+json": {
       "model_id": "",
       "version_major": 2,
       "version_minor": 0
      },
      "text/plain": [
       "FloatProgress(value=0.0, bar_style='info', description='Progress:', layout=Layout(height='25px', width='50%'),…"
      ]
     },
     "metadata": {},
     "output_type": "display_data"
    }
   ],
   "source": [
    "train = spark.read.parquet(\"hdfs:///pipeline_train_o/p/\").select(\"text\",\"featuresUni\")"
   ]
  },
  {
   "cell_type": "code",
   "execution_count": 4,
   "id": "dc50ad11-2762-4c51-b126-5c97ae03fdaa",
   "metadata": {
    "execution": {
     "iopub.execute_input": "2022-04-12T09:27:23.299027Z",
     "iopub.status.busy": "2022-04-12T09:27:23.298774Z",
     "iopub.status.idle": "2022-04-12T09:27:24.618691Z",
     "shell.execute_reply": "2022-04-12T09:27:24.617953Z",
     "shell.execute_reply.started": "2022-04-12T09:27:23.298988Z"
    },
    "tags": []
   },
   "outputs": [
    {
     "data": {
      "application/vnd.jupyter.widget-view+json": {
       "model_id": "2ea68ca0e33b42e99d57b6d18aabaae1",
       "version_major": 2,
       "version_minor": 0
      },
      "text/plain": [
       "VBox()"
      ]
     },
     "metadata": {},
     "output_type": "display_data"
    },
    {
     "data": {
      "application/vnd.jupyter.widget-view+json": {
       "model_id": "",
       "version_major": 2,
       "version_minor": 0
      },
      "text/plain": [
       "FloatProgress(value=0.0, bar_style='info', description='Progress:', layout=Layout(height='25px', width='50%'),…"
      ]
     },
     "metadata": {},
     "output_type": "display_data"
    }
   ],
   "source": [
    "test= spark.read.parquet(\"hdfs:///pipeline_test_o/p/\").select(\"text\",\"featuresUni\")"
   ]
  },
  {
   "cell_type": "code",
   "execution_count": 5,
   "id": "8eecff8b-4cf5-4cec-808f-a12b87974dc9",
   "metadata": {
    "execution": {
     "iopub.execute_input": "2022-04-12T09:27:24.620189Z",
     "iopub.status.busy": "2022-04-12T09:27:24.619758Z",
     "iopub.status.idle": "2022-04-12T09:27:28.003104Z",
     "shell.execute_reply": "2022-04-12T09:27:28.002503Z",
     "shell.execute_reply.started": "2022-04-12T09:27:24.620148Z"
    },
    "tags": []
   },
   "outputs": [
    {
     "data": {
      "application/vnd.jupyter.widget-view+json": {
       "model_id": "ffe5372310b8406ba4f3b8e0c5edbaf1",
       "version_major": 2,
       "version_minor": 0
      },
      "text/plain": [
       "VBox()"
      ]
     },
     "metadata": {},
     "output_type": "display_data"
    },
    {
     "data": {
      "application/vnd.jupyter.widget-view+json": {
       "model_id": "",
       "version_major": 2,
       "version_minor": 0
      },
      "text/plain": [
       "FloatProgress(value=0.0, bar_style='info', description='Progress:', layout=Layout(height='25px', width='50%'),…"
      ]
     },
     "metadata": {},
     "output_type": "display_data"
    },
    {
     "name": "stdout",
     "output_type": "stream",
     "text": [
      "+--------------------+--------------------+\n",
      "|                text|         featuresUni|\n",
      "+--------------------+--------------------+\n",
      "|Ordered a cheese ...|(262144,[2437,719...|\n",
      "|Got a pedicure th...|(262144,[5325,967...|\n",
      "+--------------------+--------------------+\n",
      "only showing top 2 rows"
     ]
    }
   ],
   "source": [
    "train.show(2)"
   ]
  },
  {
   "cell_type": "markdown",
   "id": "dd8677b9-28b3-4b51-9c47-e27a5b08697b",
   "metadata": {},
   "source": [
    "# Function to get sentiment"
   ]
  },
  {
   "cell_type": "code",
   "execution_count": 6,
   "id": "bf43c5b0-b84c-4a6d-a641-7ea93b661d5d",
   "metadata": {
    "execution": {
     "iopub.execute_input": "2022-04-12T09:27:28.004166Z",
     "iopub.status.busy": "2022-04-12T09:27:28.003981Z",
     "iopub.status.idle": "2022-04-12T09:27:28.101326Z",
     "shell.execute_reply": "2022-04-12T09:27:28.099964Z",
     "shell.execute_reply.started": "2022-04-12T09:27:28.004142Z"
    },
    "tags": []
   },
   "outputs": [
    {
     "data": {
      "application/vnd.jupyter.widget-view+json": {
       "model_id": "b2380199a33143708f40df6fffa68371",
       "version_major": 2,
       "version_minor": 0
      },
      "text/plain": [
       "VBox()"
      ]
     },
     "metadata": {},
     "output_type": "display_data"
    },
    {
     "data": {
      "application/vnd.jupyter.widget-view+json": {
       "model_id": "",
       "version_major": 2,
       "version_minor": 0
      },
      "text/plain": [
       "FloatProgress(value=0.0, bar_style='info', description='Progress:', layout=Layout(height='25px', width='50%'),…"
      ]
     },
     "metadata": {},
     "output_type": "display_data"
    }
   ],
   "source": [
    "def apply_blob(sentence):\n",
    "    temp = TextBlob(sentence).sentiment[0]   \n",
    "    if temp > 0.0:\n",
    "        return 2.0 # Positive\n",
    "    elif temp == 0.0:\n",
    "        return 1.0 # Neutral\n",
    "    else:\n",
    "        return 0.0 # Negative\n",
    "# UDF to write sentiment on DF\n",
    "sentiment = udf(apply_blob, DoubleType())"
   ]
  },
  {
   "cell_type": "code",
   "execution_count": 7,
   "id": "cf1934c2-52b1-4255-8bee-5b61baeba0a6",
   "metadata": {
    "execution": {
     "iopub.execute_input": "2022-04-12T09:27:28.103843Z",
     "iopub.status.busy": "2022-04-12T09:27:28.103593Z",
     "iopub.status.idle": "2022-04-12T09:27:28.393985Z",
     "shell.execute_reply": "2022-04-12T09:27:28.393239Z",
     "shell.execute_reply.started": "2022-04-12T09:27:28.103808Z"
    },
    "tags": []
   },
   "outputs": [
    {
     "data": {
      "application/vnd.jupyter.widget-view+json": {
       "model_id": "6bf24e10ac61477f96c6a322bfbfcb7f",
       "version_major": 2,
       "version_minor": 0
      },
      "text/plain": [
       "VBox()"
      ]
     },
     "metadata": {},
     "output_type": "display_data"
    },
    {
     "data": {
      "application/vnd.jupyter.widget-view+json": {
       "model_id": "",
       "version_major": 2,
       "version_minor": 0
      },
      "text/plain": [
       "FloatProgress(value=0.0, bar_style='info', description='Progress:', layout=Layout(height='25px', width='50%'),…"
      ]
     },
     "metadata": {},
     "output_type": "display_data"
    }
   ],
   "source": [
    "train=train.withColumn(\"label\", sentiment(train['text']))"
   ]
  },
  {
   "cell_type": "code",
   "execution_count": 8,
   "id": "fbbd8cba-9efc-4c8c-b5a6-02755311300d",
   "metadata": {
    "execution": {
     "iopub.execute_input": "2022-04-12T09:27:28.395375Z",
     "iopub.status.busy": "2022-04-12T09:27:28.395189Z",
     "iopub.status.idle": "2022-04-12T09:27:28.459646Z",
     "shell.execute_reply": "2022-04-12T09:27:28.459091Z",
     "shell.execute_reply.started": "2022-04-12T09:27:28.395353Z"
    },
    "tags": []
   },
   "outputs": [
    {
     "data": {
      "application/vnd.jupyter.widget-view+json": {
       "model_id": "340b4baa3937475c831c135a640d76a1",
       "version_major": 2,
       "version_minor": 0
      },
      "text/plain": [
       "VBox()"
      ]
     },
     "metadata": {},
     "output_type": "display_data"
    },
    {
     "data": {
      "application/vnd.jupyter.widget-view+json": {
       "model_id": "",
       "version_major": 2,
       "version_minor": 0
      },
      "text/plain": [
       "FloatProgress(value=0.0, bar_style='info', description='Progress:', layout=Layout(height='25px', width='50%'),…"
      ]
     },
     "metadata": {},
     "output_type": "display_data"
    }
   ],
   "source": [
    "test=test.withColumn(\"label\", sentiment(test['text']))"
   ]
  },
  {
   "cell_type": "markdown",
   "id": "2deceb5b-a5f4-4437-9117-41f7cadbe1a2",
   "metadata": {},
   "source": [
    "# Display data with labeled"
   ]
  },
  {
   "cell_type": "code",
   "execution_count": 9,
   "id": "7de2088c-42e4-4c82-9784-642eea37cd20",
   "metadata": {
    "execution": {
     "iopub.execute_input": "2022-04-12T09:27:28.460987Z",
     "iopub.status.busy": "2022-04-12T09:27:28.460700Z",
     "iopub.status.idle": "2022-04-12T09:27:37.804304Z",
     "shell.execute_reply": "2022-04-12T09:27:37.803433Z",
     "shell.execute_reply.started": "2022-04-12T09:27:28.460913Z"
    },
    "tags": []
   },
   "outputs": [
    {
     "data": {
      "application/vnd.jupyter.widget-view+json": {
       "model_id": "dcff85bceeba450187ca9548c3c2050f",
       "version_major": 2,
       "version_minor": 0
      },
      "text/plain": [
       "VBox()"
      ]
     },
     "metadata": {},
     "output_type": "display_data"
    },
    {
     "data": {
      "application/vnd.jupyter.widget-view+json": {
       "model_id": "",
       "version_major": 2,
       "version_minor": 0
      },
      "text/plain": [
       "FloatProgress(value=0.0, bar_style='info', description='Progress:', layout=Layout(height='25px', width='50%'),…"
      ]
     },
     "metadata": {},
     "output_type": "display_data"
    },
    {
     "name": "stdout",
     "output_type": "stream",
     "text": [
      "+--------------------+--------------------+-----+\n",
      "|                text|         featuresUni|label|\n",
      "+--------------------+--------------------+-----+\n",
      "|Ordered a cheese ...|(262144,[2437,719...|  0.0|\n",
      "|Got a pedicure th...|(262144,[5325,967...|  2.0|\n",
      "|I know, it's tour...|(262144,[5325,690...|  2.0|\n",
      "|I go to this Chip...|(262144,[10879,13...|  2.0|\n",
      "|Seating Process:\n",
      "...|(262144,[991,3067...|  2.0|\n",
      "|Excellent wings. ...|(262144,[3067,826...|  2.0|\n",
      "|Came here once ma...|(262144,[2437,517...|  2.0|\n",
      "|I used to love co...|(262144,[22567,61...|  0.0|\n",
      "|I'm not quite sur...|(262144,[4399,106...|  2.0|\n",
      "|Hot pot restauran...|(262144,[26623,42...|  2.0|\n",
      "|Just got my septu...|(262144,[22567,97...|  2.0|\n",
      "|I'm sorry, but th...|(262144,[2437,566...|  0.0|\n",
      "|Have not been her...|(262144,[25615,70...|  2.0|\n",
      "|This Starbucks de...|(262144,[7367,978...|  0.0|\n",
      "|If I could go bac...|(262144,[2276,372...|  0.0|\n",
      "|I really love IHO...|(262144,[22567,34...|  2.0|\n",
      "|Walked away with ...|(262144,[27505,40...|  1.0|\n",
      "|Meh. That's about...|(262144,[2579,306...|  2.0|\n",
      "|I booked Backbeat...|(262144,[4977,991...|  2.0|\n",
      "|I purchase Dunkin...|(262144,[19505,21...|  0.0|\n",
      "+--------------------+--------------------+-----+\n",
      "only showing top 20 rows"
     ]
    }
   ],
   "source": [
    "train.show()"
   ]
  },
  {
   "cell_type": "code",
   "execution_count": 10,
   "id": "ca5d1bba-f52f-4b10-a35a-16f75c95d0ac",
   "metadata": {
    "execution": {
     "iopub.execute_input": "2022-04-12T09:27:37.805989Z",
     "iopub.status.busy": "2022-04-12T09:27:37.805519Z",
     "iopub.status.idle": "2022-04-12T09:27:37.884300Z",
     "shell.execute_reply": "2022-04-12T09:27:37.883691Z",
     "shell.execute_reply.started": "2022-04-12T09:27:37.805949Z"
    },
    "tags": []
   },
   "outputs": [
    {
     "data": {
      "application/vnd.jupyter.widget-view+json": {
       "model_id": "42c0c9973a1041399891dacbd3eef187",
       "version_major": 2,
       "version_minor": 0
      },
      "text/plain": [
       "VBox()"
      ]
     },
     "metadata": {},
     "output_type": "display_data"
    },
    {
     "data": {
      "application/vnd.jupyter.widget-view+json": {
       "model_id": "",
       "version_major": 2,
       "version_minor": 0
      },
      "text/plain": [
       "FloatProgress(value=0.0, bar_style='info', description='Progress:', layout=Layout(height='25px', width='50%'),…"
      ]
     },
     "metadata": {},
     "output_type": "display_data"
    }
   ],
   "source": [
    "train=train.withColumnRenamed(\"featuresUni\",\"features\")"
   ]
  },
  {
   "cell_type": "code",
   "execution_count": 11,
   "id": "30a2a866-8787-4bf3-9dbe-78d3624d9b2c",
   "metadata": {
    "execution": {
     "iopub.execute_input": "2022-04-12T09:27:37.885897Z",
     "iopub.status.busy": "2022-04-12T09:27:37.885450Z",
     "iopub.status.idle": "2022-04-12T09:27:37.957525Z",
     "shell.execute_reply": "2022-04-12T09:27:37.956934Z",
     "shell.execute_reply.started": "2022-04-12T09:27:37.885858Z"
    },
    "tags": []
   },
   "outputs": [
    {
     "data": {
      "application/vnd.jupyter.widget-view+json": {
       "model_id": "1f608771f4ef4bed8389698a829bb13f",
       "version_major": 2,
       "version_minor": 0
      },
      "text/plain": [
       "VBox()"
      ]
     },
     "metadata": {},
     "output_type": "display_data"
    },
    {
     "data": {
      "application/vnd.jupyter.widget-view+json": {
       "model_id": "",
       "version_major": 2,
       "version_minor": 0
      },
      "text/plain": [
       "FloatProgress(value=0.0, bar_style='info', description='Progress:', layout=Layout(height='25px', width='50%'),…"
      ]
     },
     "metadata": {},
     "output_type": "display_data"
    }
   ],
   "source": [
    "test=train.withColumnRenamed(\"featuresUni\",\"features\")"
   ]
  },
  {
   "cell_type": "code",
   "execution_count": 12,
   "id": "55db6569-912e-4389-a7a6-507674d1de96",
   "metadata": {
    "execution": {
     "iopub.execute_input": "2022-04-12T09:27:37.958819Z",
     "iopub.status.busy": "2022-04-12T09:27:37.958561Z",
     "iopub.status.idle": "2022-04-12T09:27:45.299858Z",
     "shell.execute_reply": "2022-04-12T09:27:45.298959Z",
     "shell.execute_reply.started": "2022-04-12T09:27:37.958783Z"
    },
    "tags": []
   },
   "outputs": [
    {
     "data": {
      "application/vnd.jupyter.widget-view+json": {
       "model_id": "727c23254aca4d678301953db5803907",
       "version_major": 2,
       "version_minor": 0
      },
      "text/plain": [
       "VBox()"
      ]
     },
     "metadata": {},
     "output_type": "display_data"
    },
    {
     "data": {
      "application/vnd.jupyter.widget-view+json": {
       "model_id": "",
       "version_major": 2,
       "version_minor": 0
      },
      "text/plain": [
       "FloatProgress(value=0.0, bar_style='info', description='Progress:', layout=Layout(height='25px', width='50%'),…"
      ]
     },
     "metadata": {},
     "output_type": "display_data"
    },
    {
     "name": "stdout",
     "output_type": "stream",
     "text": [
      "+--------------------+--------------------+-----+\n",
      "|                text|            features|label|\n",
      "+--------------------+--------------------+-----+\n",
      "|Ordered a cheese ...|(262144,[2437,719...|  0.0|\n",
      "|Got a pedicure th...|(262144,[5325,967...|  2.0|\n",
      "|I know, it's tour...|(262144,[5325,690...|  2.0|\n",
      "|I go to this Chip...|(262144,[10879,13...|  2.0|\n",
      "|Seating Process:\n",
      "...|(262144,[991,3067...|  2.0|\n",
      "|Excellent wings. ...|(262144,[3067,826...|  2.0|\n",
      "|Came here once ma...|(262144,[2437,517...|  2.0|\n",
      "|I used to love co...|(262144,[22567,61...|  0.0|\n",
      "|I'm not quite sur...|(262144,[4399,106...|  2.0|\n",
      "|Hot pot restauran...|(262144,[26623,42...|  2.0|\n",
      "|Just got my septu...|(262144,[22567,97...|  2.0|\n",
      "|I'm sorry, but th...|(262144,[2437,566...|  0.0|\n",
      "|Have not been her...|(262144,[25615,70...|  2.0|\n",
      "|This Starbucks de...|(262144,[7367,978...|  0.0|\n",
      "|If I could go bac...|(262144,[2276,372...|  0.0|\n",
      "|I really love IHO...|(262144,[22567,34...|  2.0|\n",
      "|Walked away with ...|(262144,[27505,40...|  1.0|\n",
      "|Meh. That's about...|(262144,[2579,306...|  2.0|\n",
      "|I booked Backbeat...|(262144,[4977,991...|  2.0|\n",
      "|I purchase Dunkin...|(262144,[19505,21...|  0.0|\n",
      "+--------------------+--------------------+-----+\n",
      "only showing top 20 rows"
     ]
    }
   ],
   "source": [
    "test.show()"
   ]
  },
  {
   "cell_type": "code",
   "execution_count": 13,
   "id": "94979318-c92d-4942-8d24-957b902da4a1",
   "metadata": {
    "execution": {
     "iopub.execute_input": "2022-04-12T09:27:45.301442Z",
     "iopub.status.busy": "2022-04-12T09:27:45.301191Z",
     "iopub.status.idle": "2022-04-12T09:27:45.587545Z",
     "shell.execute_reply": "2022-04-12T09:27:45.586694Z",
     "shell.execute_reply.started": "2022-04-12T09:27:45.301404Z"
    },
    "tags": []
   },
   "outputs": [
    {
     "data": {
      "application/vnd.jupyter.widget-view+json": {
       "model_id": "007d63f67af643eba79f88e974e131f2",
       "version_major": 2,
       "version_minor": 0
      },
      "text/plain": [
       "VBox()"
      ]
     },
     "metadata": {},
     "output_type": "display_data"
    },
    {
     "data": {
      "application/vnd.jupyter.widget-view+json": {
       "model_id": "",
       "version_major": 2,
       "version_minor": 0
      },
      "text/plain": [
       "FloatProgress(value=0.0, bar_style='info', description='Progress:', layout=Layout(height='25px', width='50%'),…"
      ]
     },
     "metadata": {},
     "output_type": "display_data"
    },
    {
     "name": "stdout",
     "output_type": "stream",
     "text": [
      "root\n",
      " |-- text: string (nullable = true)\n",
      " |-- features: vector (nullable = true)\n",
      " |-- label: double (nullable = true)"
     ]
    }
   ],
   "source": [
    "train.printSchema()"
   ]
  },
  {
   "cell_type": "markdown",
   "id": "8a98f6ca-3685-4783-aa51-5230a8bf59cc",
   "metadata": {},
   "source": [
    "# LogisticRegression"
   ]
  },
  {
   "cell_type": "code",
   "execution_count": 14,
   "id": "cfc2b60a-87b1-45c8-abaf-7bee8a1d6bba",
   "metadata": {
    "execution": {
     "iopub.execute_input": "2022-04-12T09:27:45.589266Z",
     "iopub.status.busy": "2022-04-12T09:27:45.588798Z",
     "iopub.status.idle": "2022-04-12T09:27:45.693025Z",
     "shell.execute_reply": "2022-04-12T09:27:45.692217Z",
     "shell.execute_reply.started": "2022-04-12T09:27:45.589226Z"
    },
    "tags": []
   },
   "outputs": [
    {
     "data": {
      "application/vnd.jupyter.widget-view+json": {
       "model_id": "a3a08915b8c8480aa6eb64440b331136",
       "version_major": 2,
       "version_minor": 0
      },
      "text/plain": [
       "VBox()"
      ]
     },
     "metadata": {},
     "output_type": "display_data"
    },
    {
     "data": {
      "application/vnd.jupyter.widget-view+json": {
       "model_id": "",
       "version_major": 2,
       "version_minor": 0
      },
      "text/plain": [
       "FloatProgress(value=0.0, bar_style='info', description='Progress:', layout=Layout(height='25px', width='50%'),…"
      ]
     },
     "metadata": {},
     "output_type": "display_data"
    }
   ],
   "source": [
    "from pyspark.ml.classification import LogisticRegression"
   ]
  },
  {
   "cell_type": "code",
   "execution_count": 15,
   "id": "03418f4e-31da-4e0b-ad34-54420917177e",
   "metadata": {
    "execution": {
     "iopub.execute_input": "2022-04-12T09:27:45.695430Z",
     "iopub.status.busy": "2022-04-12T09:27:45.694760Z",
     "iopub.status.idle": "2022-04-12T09:31:14.456051Z",
     "shell.execute_reply": "2022-04-12T09:31:14.455450Z",
     "shell.execute_reply.started": "2022-04-12T09:27:45.695385Z"
    },
    "tags": []
   },
   "outputs": [
    {
     "data": {
      "application/vnd.jupyter.widget-view+json": {
       "model_id": "ec64410ebdda44b88cee4adca9d22ab9",
       "version_major": 2,
       "version_minor": 0
      },
      "text/plain": [
       "VBox()"
      ]
     },
     "metadata": {},
     "output_type": "display_data"
    },
    {
     "data": {
      "application/vnd.jupyter.widget-view+json": {
       "model_id": "",
       "version_major": 2,
       "version_minor": 0
      },
      "text/plain": [
       "FloatProgress(value=0.0, bar_style='info', description='Progress:', layout=Layout(height='25px', width='50%'),…"
      ]
     },
     "metadata": {},
     "output_type": "display_data"
    }
   ],
   "source": [
    "lr = LogisticRegression(maxIter=50, regParam=0.3, elasticNetParam=0,standardization=True, family=\"multinomial\")\n",
    "lrModel = lr.fit(train)"
   ]
  },
  {
   "cell_type": "code",
   "execution_count": 16,
   "id": "424984ce-a9ce-44fe-bfec-0d830f92bc0d",
   "metadata": {
    "execution": {
     "iopub.execute_input": "2022-04-12T09:31:14.457030Z",
     "iopub.status.busy": "2022-04-12T09:31:14.456864Z",
     "iopub.status.idle": "2022-04-12T09:31:14.720457Z",
     "shell.execute_reply": "2022-04-12T09:31:14.719821Z",
     "shell.execute_reply.started": "2022-04-12T09:31:14.457008Z"
    },
    "tags": []
   },
   "outputs": [
    {
     "data": {
      "application/vnd.jupyter.widget-view+json": {
       "model_id": "695b2598b9184fd2b5fac0849b475fa0",
       "version_major": 2,
       "version_minor": 0
      },
      "text/plain": [
       "VBox()"
      ]
     },
     "metadata": {},
     "output_type": "display_data"
    },
    {
     "data": {
      "application/vnd.jupyter.widget-view+json": {
       "model_id": "",
       "version_major": 2,
       "version_minor": 0
      },
      "text/plain": [
       "FloatProgress(value=0.0, bar_style='info', description='Progress:', layout=Layout(height='25px', width='50%'),…"
      ]
     },
     "metadata": {},
     "output_type": "display_data"
    }
   ],
   "source": [
    "trainpredictions = lrModel.transform(train)\n",
    "predictions = lrModel.transform(test)"
   ]
  },
  {
   "cell_type": "markdown",
   "id": "dde0f841-47b8-4481-83a7-801165b3af00",
   "metadata": {},
   "source": [
    "# Model Evaluation"
   ]
  },
  {
   "cell_type": "code",
   "execution_count": 17,
   "id": "1f321fda-ffb1-41ce-8c7e-4a1ba1315364",
   "metadata": {
    "execution": {
     "iopub.execute_input": "2022-04-12T09:31:14.721771Z",
     "iopub.status.busy": "2022-04-12T09:31:14.721517Z",
     "iopub.status.idle": "2022-04-12T09:38:37.434203Z",
     "shell.execute_reply": "2022-04-12T09:38:37.433559Z",
     "shell.execute_reply.started": "2022-04-12T09:31:14.721736Z"
    },
    "tags": []
   },
   "outputs": [
    {
     "data": {
      "application/vnd.jupyter.widget-view+json": {
       "model_id": "c027493206be4e45bcda4e32b3817349",
       "version_major": 2,
       "version_minor": 0
      },
      "text/plain": [
       "VBox()"
      ]
     },
     "metadata": {},
     "output_type": "display_data"
    },
    {
     "data": {
      "application/vnd.jupyter.widget-view+json": {
       "model_id": "",
       "version_major": 2,
       "version_minor": 0
      },
      "text/plain": [
       "FloatProgress(value=0.0, bar_style='info', description='Progress:', layout=Layout(height='25px', width='50%'),…"
      ]
     },
     "metadata": {},
     "output_type": "display_data"
    },
    {
     "name": "stdout",
     "output_type": "stream",
     "text": [
      "0.829918305977356"
     ]
    }
   ],
   "source": [
    "from pyspark.ml.evaluation import MulticlassClassificationEvaluator\n",
    "evaluator = MulticlassClassificationEvaluator(predictionCol=\"prediction\")\n",
    "evaluator.evaluate(predictions)"
   ]
  },
  {
   "cell_type": "code",
   "execution_count": 18,
   "id": "75c05336-e86a-4877-b8e6-1d7837aff164",
   "metadata": {
    "execution": {
     "iopub.execute_input": "2022-04-12T09:38:37.435467Z",
     "iopub.status.busy": "2022-04-12T09:38:37.435255Z",
     "iopub.status.idle": "2022-04-12T10:07:22.147088Z",
     "shell.execute_reply": "2022-04-12T10:07:22.146197Z",
     "shell.execute_reply.started": "2022-04-12T09:38:37.435442Z"
    },
    "tags": []
   },
   "outputs": [
    {
     "data": {
      "application/vnd.jupyter.widget-view+json": {
       "model_id": "79fe76673e4c4a7a921a0c4014401bd0",
       "version_major": 2,
       "version_minor": 0
      },
      "text/plain": [
       "VBox()"
      ]
     },
     "metadata": {},
     "output_type": "display_data"
    },
    {
     "data": {
      "application/vnd.jupyter.widget-view+json": {
       "model_id": "",
       "version_major": 2,
       "version_minor": 0
      },
      "text/plain": [
       "FloatProgress(value=0.0, bar_style='info', description='Progress:', layout=Layout(height='25px', width='50%'),…"
      ]
     },
     "metadata": {},
     "output_type": "display_data"
    },
    {
     "name": "stdout",
     "output_type": "stream",
     "text": [
      "Training F1 with logistic regression 0.829918305977356\n",
      "Training weightedRecall with logistic regression 0.8582662018277203\n",
      "Training weightedPrecision with logistic regression 0.8617007491358581\n",
      "Training accuracy with logistic regression 0.8582662018277203\n",
      "Test accuracy with logistic regression 0.8582662018277203"
     ]
    }
   ],
   "source": [
    "print(\"Training F1 with logistic regression\",evaluator.evaluate(trainpredictions,{evaluator.metricName: \"f1\"}))\n",
    "print(\"Training weightedRecall with logistic regression\",evaluator.evaluate(trainpredictions,{evaluator.metricName: \"weightedRecall\"}))\n",
    "print(\"Training weightedPrecision with logistic regression\",evaluator.evaluate(trainpredictions,{evaluator.metricName: \"weightedPrecision\"}))\n",
    "print(\"Training accuracy with logistic regression\",evaluator.evaluate(trainpredictions,{evaluator.metricName: \"accuracy\"}))\n",
    "print(\"Test accuracy with logistic regression\",evaluator.evaluate(predictions,{evaluator.metricName: \"accuracy\"}))"
   ]
  },
  {
   "cell_type": "code",
   "execution_count": null,
   "id": "bd5fbe60-dcc6-4344-b67c-fefeed4e8edb",
   "metadata": {},
   "outputs": [],
   "source": []
  },
  {
   "cell_type": "code",
   "execution_count": null,
   "id": "eb1414ca-1628-40ad-9a7a-7beb01ee1041",
   "metadata": {},
   "outputs": [],
   "source": []
  }
 ],
 "metadata": {
  "kernelspec": {
   "display_name": "PySpark",
   "language": "python",
   "name": "pysparkkernel"
  },
  "language_info": {
   "codemirror_mode": {
    "name": "python",
    "version": 3
   },
   "file_extension": ".py",
   "mimetype": "text/x-python",
   "name": "pyspark",
   "pygments_lexer": "python3"
  }
 },
 "nbformat": 4,
 "nbformat_minor": 5
}
