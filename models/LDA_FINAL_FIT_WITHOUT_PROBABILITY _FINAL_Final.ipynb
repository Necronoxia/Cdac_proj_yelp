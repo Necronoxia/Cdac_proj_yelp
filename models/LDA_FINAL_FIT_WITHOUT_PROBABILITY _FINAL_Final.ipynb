{
 "cells": [
  {
   "cell_type": "code",
   "execution_count": 1,
   "id": "0b506afa-ee1b-4cfa-bed6-cd4ec54a91b9",
   "metadata": {
    "execution": {
     "iopub.execute_input": "2022-04-09T11:51:00.932352Z",
     "iopub.status.busy": "2022-04-09T11:51:00.932129Z",
     "iopub.status.idle": "2022-04-09T11:51:04.407379Z",
     "shell.execute_reply": "2022-04-09T11:51:04.406491Z",
     "shell.execute_reply.started": "2022-04-09T11:51:00.932329Z"
    },
    "tags": []
   },
   "outputs": [
    {
     "name": "stdout",
     "output_type": "stream",
     "text": [
      "Defaulting to user installation because normal site-packages is not writeable\n",
      "Collecting nltk\n",
      "  Downloading nltk-3.7-py3-none-any.whl (1.5 MB)\n",
      "\u001b[K     |████████████████████████████████| 1.5 MB 30.2 MB/s eta 0:00:01\n",
      "\u001b[?25hRequirement already satisfied: tqdm in /mnt/notebook-env/lib/python3.7/site-packages (from nltk) (4.59.0)\n",
      "Collecting joblib\n",
      "  Downloading joblib-1.1.0-py2.py3-none-any.whl (306 kB)\n",
      "\u001b[K     |████████████████████████████████| 306 kB 87.2 MB/s eta 0:00:01\n",
      "\u001b[?25hCollecting click\n",
      "  Downloading click-8.1.2-py3-none-any.whl (96 kB)\n",
      "\u001b[K     |████████████████████████████████| 96 kB 14.2 MB/s eta 0:00:01\n",
      "\u001b[?25hCollecting regex>=2021.8.3\n",
      "  Downloading regex-2022.3.15-cp37-cp37m-manylinux_2_17_x86_64.manylinux2014_x86_64.whl (749 kB)\n",
      "\u001b[K     |████████████████████████████████| 749 kB 85.1 MB/s eta 0:00:01\n",
      "\u001b[?25hRequirement already satisfied: importlib-metadata in /mnt/notebook-env/lib/python3.7/site-packages (from click->nltk) (3.7.3)\n",
      "Requirement already satisfied: zipp>=0.5 in /mnt/notebook-env/lib/python3.7/site-packages (from importlib-metadata->click->nltk) (3.4.1)\n",
      "Requirement already satisfied: typing-extensions>=3.6.4 in /mnt/notebook-env/lib/python3.7/site-packages (from importlib-metadata->click->nltk) (3.7.4.3)\n",
      "Installing collected packages: regex, joblib, click, nltk\n",
      "\u001b[33m  WARNING: The script nltk is installed in '/home/emr-notebook/.local/bin' which is not on PATH.\n",
      "  Consider adding this directory to PATH or, if you prefer to suppress this warning, use --no-warn-script-location.\u001b[0m\n",
      "Successfully installed click-8.1.2 joblib-1.1.0 nltk-3.7 regex-2022.3.15\n",
      "Note: you may need to restart the kernel to use updated packages.\n"
     ]
    }
   ],
   "source": [
    "%pip install nltk"
   ]
  },
  {
   "cell_type": "code",
   "execution_count": 2,
   "id": "b23e8a9e-2c51-4aed-a9b5-56767ea9a21e",
   "metadata": {
    "execution": {
     "iopub.execute_input": "2022-04-09T11:51:04.409305Z",
     "iopub.status.busy": "2022-04-09T11:51:04.408998Z",
     "iopub.status.idle": "2022-04-09T11:51:45.809242Z",
     "shell.execute_reply": "2022-04-09T11:51:45.808525Z",
     "shell.execute_reply.started": "2022-04-09T11:51:04.409266Z"
    },
    "tags": []
   },
   "outputs": [
    {
     "data": {
      "application/vnd.jupyter.widget-view+json": {
       "model_id": "0652b4dc2adf473b90825e4d015ae224",
       "version_major": 2,
       "version_minor": 0
      },
      "text/plain": [
       "VBox()"
      ]
     },
     "metadata": {},
     "output_type": "display_data"
    },
    {
     "name": "stdout",
     "output_type": "stream",
     "text": [
      "Starting Spark application\n"
     ]
    },
    {
     "data": {
      "text/html": [
       "<table>\n",
       "<tr><th>ID</th><th>YARN Application ID</th><th>Kind</th><th>State</th><th>Spark UI</th><th>Driver log</th><th>Current session?</th></tr><tr><td>0</td><td>application_1649503010793_0006</td><td>pyspark</td><td>idle</td><td><a target=\"_blank\" href=\"http://ip-172-31-76-206.ec2.internal:20888/proxy/application_1649503010793_0006/\" class=\"emr-proxy-link\" emr-resource=\"j-MP3B6LIZ1LLL\n",
       "\" application-id=\"application_1649503010793_0006\">Link</a></td><td><a target=\"_blank\" href=\"http://ip-172-31-66-9.ec2.internal:8042/node/containerlogs/container_1649503010793_0006_01_000001/livy\" >Link</a></td><td>✔</td></tr></table>"
      ],
      "text/plain": [
       "<IPython.core.display.HTML object>"
      ]
     },
     "metadata": {},
     "output_type": "display_data"
    },
    {
     "data": {
      "application/vnd.jupyter.widget-view+json": {
       "model_id": "",
       "version_major": 2,
       "version_minor": 0
      },
      "text/plain": [
       "FloatProgress(value=0.0, bar_style='info', description='Progress:', layout=Layout(height='25px', width='50%'),…"
      ]
     },
     "metadata": {},
     "output_type": "display_data"
    },
    {
     "name": "stdout",
     "output_type": "stream",
     "text": [
      "SparkSession available as 'spark'.\n"
     ]
    },
    {
     "data": {
      "application/vnd.jupyter.widget-view+json": {
       "model_id": "",
       "version_major": 2,
       "version_minor": 0
      },
      "text/plain": [
       "FloatProgress(value=0.0, bar_style='info', description='Progress:', layout=Layout(height='25px', width='50%'),…"
      ]
     },
     "metadata": {},
     "output_type": "display_data"
    },
    {
     "name": "stdout",
     "output_type": "stream",
     "text": [
      "Collecting matplotlib==3.1.1\n",
      "  Downloading https://files.pythonhosted.org/packages/19/7a/60bd79c5d79559150f8bba866dd7d434f0a170312e4d15e8aefa5faba294/matplotlib-3.1.1-cp37-cp37m-manylinux1_x86_64.whl (13.1MB)\n",
      "Collecting python-dateutil>=2.1 (from matplotlib==3.1.1)\n",
      "  Downloading https://files.pythonhosted.org/packages/36/7a/87837f39d0296e723bb9b62bbb257d0355c7f6128853c78955f57342a56d/python_dateutil-2.8.2-py2.py3-none-any.whl (247kB)\n",
      "Collecting pyparsing!=2.0.4,!=2.1.2,!=2.1.6,>=2.0.1 (from matplotlib==3.1.1)\n",
      "  Downloading https://files.pythonhosted.org/packages/80/c1/23fd82ad3121656b585351aba6c19761926bb0db2ebed9e4ff09a43a3fcc/pyparsing-3.0.7-py3-none-any.whl (98kB)\n",
      "Collecting cycler>=0.10 (from matplotlib==3.1.1)\n",
      "  Downloading https://files.pythonhosted.org/packages/5c/f9/695d6bedebd747e5eb0fe8fad57b72fdf25411273a39791cde838d5a8f51/cycler-0.11.0-py3-none-any.whl\n",
      "Requirement already satisfied: numpy>=1.11 in /usr/local/lib64/python3.7/site-packages (from matplotlib==3.1.1)\n",
      "Collecting kiwisolver>=1.0.1 (from matplotlib==3.1.1)\n",
      "  Downloading https://files.pythonhosted.org/packages/51/50/9a9a94afa26c50fc5d9127272737806990aa698c7a1c220b8e5075e70304/kiwisolver-1.4.2-cp37-cp37m-manylinux_2_5_x86_64.manylinux1_x86_64.whl (1.1MB)\n",
      "Requirement already satisfied: six>=1.5 in /usr/local/lib/python3.7/site-packages (from python-dateutil>=2.1->matplotlib==3.1.1)\n",
      "Collecting typing-extensions; python_version < \"3.8\" (from kiwisolver>=1.0.1->matplotlib==3.1.1)\n",
      "  Downloading https://files.pythonhosted.org/packages/45/6b/44f7f8f1e110027cf88956b59f2fad776cca7e1704396d043f89effd3a0e/typing_extensions-4.1.1-py3-none-any.whl\n",
      "Installing collected packages: python-dateutil, pyparsing, cycler, typing-extensions, kiwisolver, matplotlib\n",
      "Successfully installed cycler-0.11.0 kiwisolver-1.4.2 matplotlib-3.1.1 pyparsing-3.0.7 python-dateutil-2.8.2 typing-extensions-4.1.1"
     ]
    }
   ],
   "source": [
    "sc.install_pypi_package(\"matplotlib==3.1.1\", \"https://pypi.org/simple\")"
   ]
  },
  {
   "cell_type": "code",
   "execution_count": 39,
   "id": "dd70d7b6-1839-40f8-bdab-81dfd42725e2",
   "metadata": {
    "execution": {
     "iopub.execute_input": "2022-04-09T14:01:43.487056Z",
     "iopub.status.busy": "2022-04-09T14:01:43.486824Z",
     "iopub.status.idle": "2022-04-09T14:01:52.779894Z",
     "shell.execute_reply": "2022-04-09T14:01:52.779214Z",
     "shell.execute_reply.started": "2022-04-09T14:01:43.487033Z"
    },
    "tags": []
   },
   "outputs": [
    {
     "data": {
      "application/vnd.jupyter.widget-view+json": {
       "model_id": "fee88d32c00e4081b4fc58e3db3b128f",
       "version_major": 2,
       "version_minor": 0
      },
      "text/plain": [
       "VBox()"
      ]
     },
     "metadata": {},
     "output_type": "display_data"
    },
    {
     "data": {
      "application/vnd.jupyter.widget-view+json": {
       "model_id": "",
       "version_major": 2,
       "version_minor": 0
      },
      "text/plain": [
       "FloatProgress(value=0.0, bar_style='info', description='Progress:', layout=Layout(height='25px', width='50%'),…"
      ]
     },
     "metadata": {},
     "output_type": "display_data"
    },
    {
     "name": "stdout",
     "output_type": "stream",
     "text": [
      "Collecting pandas==0.25.1\n",
      "  Using cached https://files.pythonhosted.org/packages/7e/ab/ea76361f9d3e732e114adcd801d2820d5319c23d0ac5482fa3b412db217e/pandas-0.25.1-cp37-cp37m-manylinux1_x86_64.whl\n",
      "Requirement already satisfied: pytz>=2017.2 in /usr/local/lib/python3.7/site-packages (from pandas==0.25.1)\n",
      "Requirement already satisfied: numpy>=1.13.3 in /usr/local/lib64/python3.7/site-packages (from pandas==0.25.1)\n",
      "Collecting python-dateutil>=2.6.1 (from pandas==0.25.1)\n",
      "  Using cached https://files.pythonhosted.org/packages/36/7a/87837f39d0296e723bb9b62bbb257d0355c7f6128853c78955f57342a56d/python_dateutil-2.8.2-py2.py3-none-any.whl\n",
      "Requirement already satisfied: six>=1.5 in /usr/local/lib/python3.7/site-packages (from python-dateutil>=2.6.1->pandas==0.25.1)\n",
      "Installing collected packages: python-dateutil, pandas\n",
      "Successfully installed pandas-0.25.1 python-dateutil-2.8.2"
     ]
    }
   ],
   "source": [
    "sc.install_pypi_package(\"pandas==0.25.1\")"
   ]
  },
  {
   "cell_type": "code",
   "execution_count": 1,
   "id": "669c9652-e0fd-4fe0-a70b-ac843297d296",
   "metadata": {
    "execution": {
     "iopub.execute_input": "2022-04-09T13:25:15.206882Z",
     "iopub.status.busy": "2022-04-09T13:25:15.206654Z",
     "iopub.status.idle": "2022-04-09T13:25:40.133611Z",
     "shell.execute_reply": "2022-04-09T13:25:40.133014Z",
     "shell.execute_reply.started": "2022-04-09T13:25:15.206859Z"
    },
    "tags": []
   },
   "outputs": [
    {
     "data": {
      "application/vnd.jupyter.widget-view+json": {
       "model_id": "0de38300f6cd433fac063fa283ec7fd4",
       "version_major": 2,
       "version_minor": 0
      },
      "text/plain": [
       "VBox()"
      ]
     },
     "metadata": {},
     "output_type": "display_data"
    },
    {
     "name": "stdout",
     "output_type": "stream",
     "text": [
      "Starting Spark application\n"
     ]
    },
    {
     "data": {
      "text/html": [
       "<table>\n",
       "<tr><th>ID</th><th>YARN Application ID</th><th>Kind</th><th>State</th><th>Spark UI</th><th>Driver log</th><th>Current session?</th></tr><tr><td>1</td><td>application_1649503010793_0007</td><td>pyspark</td><td>idle</td><td><a target=\"_blank\" href=\"http://ip-172-31-76-206.ec2.internal:20888/proxy/application_1649503010793_0007/\" class=\"emr-proxy-link\" emr-resource=\"j-MP3B6LIZ1LLL\n",
       "\" application-id=\"application_1649503010793_0007\">Link</a></td><td><a target=\"_blank\" href=\"http://ip-172-31-72-241.ec2.internal:8042/node/containerlogs/container_1649503010793_0007_01_000001/livy\" >Link</a></td><td>✔</td></tr></table>"
      ],
      "text/plain": [
       "<IPython.core.display.HTML object>"
      ]
     },
     "metadata": {},
     "output_type": "display_data"
    },
    {
     "data": {
      "application/vnd.jupyter.widget-view+json": {
       "model_id": "",
       "version_major": 2,
       "version_minor": 0
      },
      "text/plain": [
       "FloatProgress(value=0.0, bar_style='info', description='Progress:', layout=Layout(height='25px', width='50%'),…"
      ]
     },
     "metadata": {},
     "output_type": "display_data"
    },
    {
     "name": "stdout",
     "output_type": "stream",
     "text": [
      "SparkSession available as 'spark'.\n"
     ]
    },
    {
     "data": {
      "application/vnd.jupyter.widget-view+json": {
       "model_id": "",
       "version_major": 2,
       "version_minor": 0
      },
      "text/plain": [
       "FloatProgress(value=0.0, bar_style='info', description='Progress:', layout=Layout(height='25px', width='50%'),…"
      ]
     },
     "metadata": {},
     "output_type": "display_data"
    }
   ],
   "source": [
    "from pyspark.sql.functions import *\n",
    "from pyspark.sql.functions import udf\n",
    "from pyspark.sql.types import IntegerType\n",
    "\n",
    "from pyspark.mllib.classification import SVMModel, SVMWithSGD\n",
    "from pyspark.mllib.regression import LabeledPoint\n",
    "from pyspark.mllib.linalg import Vectors as MLLibVectors\n",
    "from pyspark.ml import Pipeline\n",
    "from pyspark.ml.evaluation import BinaryClassificationEvaluator, MulticlassClassificationEvaluator\n",
    "from pyspark.ml.feature import * \n",
    "from pyspark.ml.tuning import CrossValidator"
   ]
  },
  {
   "cell_type": "code",
   "execution_count": 2,
   "id": "ef573ec1-9f99-443a-8f61-387eaaeaf63a",
   "metadata": {
    "execution": {
     "iopub.execute_input": "2022-04-09T13:25:40.135000Z",
     "iopub.status.busy": "2022-04-09T13:25:40.134771Z",
     "iopub.status.idle": "2022-04-09T13:25:40.429321Z",
     "shell.execute_reply": "2022-04-09T13:25:40.428434Z",
     "shell.execute_reply.started": "2022-04-09T13:25:40.134974Z"
    },
    "tags": []
   },
   "outputs": [
    {
     "data": {
      "application/vnd.jupyter.widget-view+json": {
       "model_id": "0aad3b3989994d2aa47f8bcb571a8273",
       "version_major": 2,
       "version_minor": 0
      },
      "text/plain": [
       "VBox()"
      ]
     },
     "metadata": {},
     "output_type": "display_data"
    },
    {
     "data": {
      "application/vnd.jupyter.widget-view+json": {
       "model_id": "",
       "version_major": 2,
       "version_minor": 0
      },
      "text/plain": [
       "FloatProgress(value=0.0, bar_style='info', description='Progress:', layout=Layout(height='25px', width='50%'),…"
      ]
     },
     "metadata": {},
     "output_type": "display_data"
    }
   ],
   "source": [
    "from pyspark.ml import Pipeline, PipelineModel\n",
    "from pyspark.ml.feature import OneHotEncoder, StringIndexer, VectorAssembler, RegexTokenizer\n",
    "from pyspark.ml.feature import StopWordsRemover, CountVectorizer, Tokenizer, HashingTF, IDF\n",
    "from pyspark.ml.classification import LogisticRegression\n",
    "from pyspark.sql.functions import array\n",
    "\n",
    "import nltk"
   ]
  },
  {
   "cell_type": "code",
   "execution_count": 3,
   "id": "90000eec-fa1f-4c2a-a3dd-699e7384a750",
   "metadata": {
    "execution": {
     "iopub.execute_input": "2022-04-09T13:25:40.431422Z",
     "iopub.status.busy": "2022-04-09T13:25:40.430914Z",
     "iopub.status.idle": "2022-04-09T13:25:40.504818Z",
     "shell.execute_reply": "2022-04-09T13:25:40.503825Z",
     "shell.execute_reply.started": "2022-04-09T13:25:40.431322Z"
    },
    "tags": []
   },
   "outputs": [
    {
     "data": {
      "application/vnd.jupyter.widget-view+json": {
       "model_id": "503111e8ac7c43be8daa249fa1d3e54c",
       "version_major": 2,
       "version_minor": 0
      },
      "text/plain": [
       "VBox()"
      ]
     },
     "metadata": {},
     "output_type": "display_data"
    },
    {
     "data": {
      "application/vnd.jupyter.widget-view+json": {
       "model_id": "",
       "version_major": 2,
       "version_minor": 0
      },
      "text/plain": [
       "FloatProgress(value=0.0, bar_style='info', description='Progress:', layout=Layout(height='25px', width='50%'),…"
      ]
     },
     "metadata": {},
     "output_type": "display_data"
    }
   ],
   "source": [
    "from pyspark import keyword_only\n",
    "import pyspark.sql.functions as F\n",
    "from pyspark.sql import DataFrame\n",
    "from pyspark.sql.types import ArrayType, StringType\n",
    "from pyspark.ml import Transformer, classification\n",
    "from pyspark.ml.param.shared import HasInputCol, HasOutputCol, Param\n",
    "from nltk.stem import PorterStemmer"
   ]
  },
  {
   "cell_type": "code",
   "execution_count": 4,
   "id": "769a79cf-9485-41a7-82e7-e4804f896e43",
   "metadata": {
    "execution": {
     "iopub.execute_input": "2022-04-09T13:25:40.506266Z",
     "iopub.status.busy": "2022-04-09T13:25:40.506044Z",
     "iopub.status.idle": "2022-04-09T13:25:40.584031Z",
     "shell.execute_reply": "2022-04-09T13:25:40.582597Z",
     "shell.execute_reply.started": "2022-04-09T13:25:40.506238Z"
    },
    "tags": []
   },
   "outputs": [
    {
     "data": {
      "application/vnd.jupyter.widget-view+json": {
       "model_id": "0181eda15fdf41019c89c193dda5ddd2",
       "version_major": 2,
       "version_minor": 0
      },
      "text/plain": [
       "VBox()"
      ]
     },
     "metadata": {},
     "output_type": "display_data"
    },
    {
     "data": {
      "application/vnd.jupyter.widget-view+json": {
       "model_id": "",
       "version_major": 2,
       "version_minor": 0
      },
      "text/plain": [
       "FloatProgress(value=0.0, bar_style='info', description='Progress:', layout=Layout(height='25px', width='50%'),…"
      ]
     },
     "metadata": {},
     "output_type": "display_data"
    }
   ],
   "source": [
    "import string \n",
    "import re "
   ]
  },
  {
   "cell_type": "code",
   "execution_count": 5,
   "id": "6af6b4b7-8328-4224-87fd-8ca0e45af909",
   "metadata": {
    "execution": {
     "iopub.execute_input": "2022-04-09T13:25:40.585596Z",
     "iopub.status.busy": "2022-04-09T13:25:40.585228Z",
     "iopub.status.idle": "2022-04-09T13:25:40.865311Z",
     "shell.execute_reply": "2022-04-09T13:25:40.864154Z",
     "shell.execute_reply.started": "2022-04-09T13:25:40.585551Z"
    },
    "tags": []
   },
   "outputs": [
    {
     "data": {
      "application/vnd.jupyter.widget-view+json": {
       "model_id": "962b54f66aed48b08b85d7dc9d21dc44",
       "version_major": 2,
       "version_minor": 0
      },
      "text/plain": [
       "VBox()"
      ]
     },
     "metadata": {},
     "output_type": "display_data"
    },
    {
     "data": {
      "application/vnd.jupyter.widget-view+json": {
       "model_id": "",
       "version_major": 2,
       "version_minor": 0
      },
      "text/plain": [
       "FloatProgress(value=0.0, bar_style='info', description='Progress:', layout=Layout(height='25px', width='50%'),…"
      ]
     },
     "metadata": {},
     "output_type": "display_data"
    },
    {
     "name": "stderr",
     "output_type": "stream",
     "text": [
      "An error was encountered:\n",
      "No module named 'matplotlib'\n",
      "Traceback (most recent call last):\n",
      "ModuleNotFoundError: No module named 'matplotlib'\n",
      "\n"
     ]
    }
   ],
   "source": [
    "import matplotlib.pyplot as plt"
   ]
  },
  {
   "cell_type": "code",
   "execution_count": 6,
   "id": "5e154241-aa9d-4db6-9078-4f63068daa97",
   "metadata": {
    "execution": {
     "iopub.execute_input": "2022-04-09T13:25:40.867516Z",
     "iopub.status.busy": "2022-04-09T13:25:40.867033Z",
     "iopub.status.idle": "2022-04-09T13:25:43.467705Z",
     "shell.execute_reply": "2022-04-09T13:25:43.467074Z",
     "shell.execute_reply.started": "2022-04-09T13:25:40.867463Z"
    },
    "tags": []
   },
   "outputs": [
    {
     "data": {
      "application/vnd.jupyter.widget-view+json": {
       "model_id": "892fee55bad3471f974525b71fb542c0",
       "version_major": 2,
       "version_minor": 0
      },
      "text/plain": [
       "VBox()"
      ]
     },
     "metadata": {},
     "output_type": "display_data"
    },
    {
     "data": {
      "application/vnd.jupyter.widget-view+json": {
       "model_id": "",
       "version_major": 2,
       "version_minor": 0
      },
      "text/plain": [
       "FloatProgress(value=0.0, bar_style='info', description='Progress:', layout=Layout(height='25px', width='50%'),…"
      ]
     },
     "metadata": {},
     "output_type": "display_data"
    }
   ],
   "source": [
    "review=spark.read.orc(\"hdfs:///NLP-shrunk/\")"
   ]
  },
  {
   "cell_type": "code",
   "execution_count": 7,
   "id": "41cd071d-a1dd-437b-842f-064a142a73c8",
   "metadata": {
    "execution": {
     "iopub.execute_input": "2022-04-09T13:25:43.468813Z",
     "iopub.status.busy": "2022-04-09T13:25:43.468620Z",
     "iopub.status.idle": "2022-04-09T13:25:46.779511Z",
     "shell.execute_reply": "2022-04-09T13:25:46.778916Z",
     "shell.execute_reply.started": "2022-04-09T13:25:43.468791Z"
    },
    "tags": []
   },
   "outputs": [
    {
     "data": {
      "application/vnd.jupyter.widget-view+json": {
       "model_id": "5e16bad4fed5420183f89c771a824b3c",
       "version_major": 2,
       "version_minor": 0
      },
      "text/plain": [
       "VBox()"
      ]
     },
     "metadata": {},
     "output_type": "display_data"
    },
    {
     "data": {
      "application/vnd.jupyter.widget-view+json": {
       "model_id": "",
       "version_major": 2,
       "version_minor": 0
      },
      "text/plain": [
       "FloatProgress(value=0.0, bar_style='info', description='Progress:', layout=Layout(height='25px', width='50%'),…"
      ]
     },
     "metadata": {},
     "output_type": "display_data"
    },
    {
     "name": "stdout",
     "output_type": "stream",
     "text": [
      "+-----+--------------------+\n",
      "|stars|                text|\n",
      "+-----+--------------------+\n",
      "|  5.0|What a great find...|\n",
      "|  2.0|The only reason I...|\n",
      "|  2.0|It's fun that it'...|\n",
      "|  3.0|I've been to Smit...|\n",
      "|  4.0|We do love the fo...|\n",
      "+-----+--------------------+\n",
      "only showing top 5 rows"
     ]
    }
   ],
   "source": [
    "review.show(5)"
   ]
  },
  {
   "cell_type": "code",
   "execution_count": 8,
   "id": "d434e622-c897-4fe1-97e4-25588aa976eb",
   "metadata": {
    "execution": {
     "iopub.execute_input": "2022-04-09T13:25:46.781383Z",
     "iopub.status.busy": "2022-04-09T13:25:46.781182Z",
     "iopub.status.idle": "2022-04-09T13:25:47.061231Z",
     "shell.execute_reply": "2022-04-09T13:25:47.060494Z",
     "shell.execute_reply.started": "2022-04-09T13:25:46.781359Z"
    },
    "tags": []
   },
   "outputs": [
    {
     "data": {
      "application/vnd.jupyter.widget-view+json": {
       "model_id": "753e0332717147048df130757bca3a22",
       "version_major": 2,
       "version_minor": 0
      },
      "text/plain": [
       "VBox()"
      ]
     },
     "metadata": {},
     "output_type": "display_data"
    },
    {
     "data": {
      "application/vnd.jupyter.widget-view+json": {
       "model_id": "",
       "version_major": 2,
       "version_minor": 0
      },
      "text/plain": [
       "FloatProgress(value=0.0, bar_style='info', description='Progress:', layout=Layout(height='25px', width='50%'),…"
      ]
     },
     "metadata": {},
     "output_type": "display_data"
    }
   ],
   "source": [
    "def remove_punct(text):\n",
    "    regex = re.compile('[' + re.escape(string.punctuation) + '0-9\\\\r\\\\t\\\\n]')\n",
    "    nopunct = regex.sub(\" \", text) \n",
    "    return nopunct\n",
    "\n",
    "    \n",
    "# binarize rating\n",
    "def convert_rating(rating):\n",
    "    rating = int(rating)\n",
    "    if rating < 2: return 1\n",
    "    else: return 0\n",
    "\n",
    "# udf\n",
    "punct_remover = udf(lambda x: remove_punct(x))\n",
    "rating_convert = udf(lambda x: convert_rating(x))\n",
    "review_df = review.select( punct_remover('text'), rating_convert('stars'))\n",
    "review_df = review_df.withColumnRenamed('<lambda>(text)', 'text')\\\n",
    "                     .withColumn('label', review_df[\"<lambda>(stars)\"].cast(IntegerType()))\\\n",
    "                     .drop('<lambda>(stars)')"
   ]
  },
  {
   "cell_type": "code",
   "execution_count": 9,
   "id": "2b8c3f0c-8096-4cd2-a22d-44b35e959bde",
   "metadata": {
    "execution": {
     "iopub.execute_input": "2022-04-09T13:25:47.062690Z",
     "iopub.status.busy": "2022-04-09T13:25:47.062446Z",
     "iopub.status.idle": "2022-04-09T13:25:52.367302Z",
     "shell.execute_reply": "2022-04-09T13:25:52.366547Z",
     "shell.execute_reply.started": "2022-04-09T13:25:47.062656Z"
    },
    "tags": []
   },
   "outputs": [
    {
     "data": {
      "application/vnd.jupyter.widget-view+json": {
       "model_id": "9a07e3b7ff37461eb219720e98fc1f14",
       "version_major": 2,
       "version_minor": 0
      },
      "text/plain": [
       "VBox()"
      ]
     },
     "metadata": {},
     "output_type": "display_data"
    },
    {
     "data": {
      "application/vnd.jupyter.widget-view+json": {
       "model_id": "",
       "version_major": 2,
       "version_minor": 0
      },
      "text/plain": [
       "FloatProgress(value=0.0, bar_style='info', description='Progress:', layout=Layout(height='25px', width='50%'),…"
      ]
     },
     "metadata": {},
     "output_type": "display_data"
    },
    {
     "name": "stdout",
     "output_type": "stream",
     "text": [
      "+--------------------+-----+\n",
      "|                text|label|\n",
      "+--------------------+-----+\n",
      "|What a great find...|    0|\n",
      "|The only reason I...|    0|\n",
      "+--------------------+-----+\n",
      "only showing top 2 rows"
     ]
    }
   ],
   "source": [
    "review_df.show(2)"
   ]
  },
  {
   "cell_type": "code",
   "execution_count": 10,
   "id": "8a2345a2-1646-4f3a-ad07-38b5ecdb46ef",
   "metadata": {
    "execution": {
     "iopub.execute_input": "2022-04-09T13:25:52.368867Z",
     "iopub.status.busy": "2022-04-09T13:25:52.368584Z",
     "iopub.status.idle": "2022-04-09T13:25:55.670774Z",
     "shell.execute_reply": "2022-04-09T13:25:55.670134Z",
     "shell.execute_reply.started": "2022-04-09T13:25:52.368829Z"
    },
    "tags": []
   },
   "outputs": [
    {
     "data": {
      "application/vnd.jupyter.widget-view+json": {
       "model_id": "8f14d16272cc4b048d3301d9eeac8d4c",
       "version_major": 2,
       "version_minor": 0
      },
      "text/plain": [
       "VBox()"
      ]
     },
     "metadata": {},
     "output_type": "display_data"
    },
    {
     "data": {
      "application/vnd.jupyter.widget-view+json": {
       "model_id": "",
       "version_major": 2,
       "version_minor": 0
      },
      "text/plain": [
       "FloatProgress(value=0.0, bar_style='info', description='Progress:', layout=Layout(height='25px', width='50%'),…"
      ]
     },
     "metadata": {},
     "output_type": "display_data"
    },
    {
     "name": "stdout",
     "output_type": "stream",
     "text": [
      "3548711"
     ]
    }
   ],
   "source": [
    "review_df.count()"
   ]
  },
  {
   "cell_type": "code",
   "execution_count": 11,
   "id": "454f6174-56ba-4a9f-9dbc-6cbd0288e4ac",
   "metadata": {
    "execution": {
     "iopub.execute_input": "2022-04-09T13:25:55.671918Z",
     "iopub.status.busy": "2022-04-09T13:25:55.671745Z",
     "iopub.status.idle": "2022-04-09T13:25:55.939703Z",
     "shell.execute_reply": "2022-04-09T13:25:55.939103Z",
     "shell.execute_reply.started": "2022-04-09T13:25:55.671896Z"
    },
    "tags": []
   },
   "outputs": [
    {
     "data": {
      "application/vnd.jupyter.widget-view+json": {
       "model_id": "87b0b5a643fa4867a6115ea5ad21b92f",
       "version_major": 2,
       "version_minor": 0
      },
      "text/plain": [
       "VBox()"
      ]
     },
     "metadata": {},
     "output_type": "display_data"
    },
    {
     "data": {
      "application/vnd.jupyter.widget-view+json": {
       "model_id": "",
       "version_major": 2,
       "version_minor": 0
      },
      "text/plain": [
       "FloatProgress(value=0.0, bar_style='info', description='Progress:', layout=Layout(height='25px', width='50%'),…"
      ]
     },
     "metadata": {},
     "output_type": "display_data"
    }
   ],
   "source": [
    "rgtoken = RegexTokenizer(inputCol=\"text\",outputCol=\"words\",pattern=\"\\\\W\")\n",
    "token = Tokenizer(inputCol= \"words\", outputCol = \"tokens\")\n"
   ]
  },
  {
   "cell_type": "code",
   "execution_count": 12,
   "id": "c6fa9416-5710-48e3-8039-08f44edcb36f",
   "metadata": {
    "execution": {
     "iopub.execute_input": "2022-04-09T13:25:55.941229Z",
     "iopub.status.busy": "2022-04-09T13:25:55.941043Z",
     "iopub.status.idle": "2022-04-09T13:25:56.233040Z",
     "shell.execute_reply": "2022-04-09T13:25:56.232400Z",
     "shell.execute_reply.started": "2022-04-09T13:25:55.941207Z"
    },
    "tags": []
   },
   "outputs": [
    {
     "data": {
      "application/vnd.jupyter.widget-view+json": {
       "model_id": "e3d182d2a8a945f6b77633ce73598ae5",
       "version_major": 2,
       "version_minor": 0
      },
      "text/plain": [
       "VBox()"
      ]
     },
     "metadata": {},
     "output_type": "display_data"
    },
    {
     "data": {
      "application/vnd.jupyter.widget-view+json": {
       "model_id": "",
       "version_major": 2,
       "version_minor": 0
      },
      "text/plain": [
       "FloatProgress(value=0.0, bar_style='info', description='Progress:', layout=Layout(height='25px', width='50%'),…"
      ]
     },
     "metadata": {},
     "output_type": "display_data"
    }
   ],
   "source": [
    "stops = [\"0o\", \"0s\", \"3a\", \"3b\", \"3d\", \"6b\", \"6o\", \"a\", \"a1\", \"a2\", \"a3\", \"a4\", \"ab\", \"able\", \"about\", \"above\", \"abst\", \"ac\", \"accordance\", \"according\", \"accordingly\", \"across\", \"act\", \"actually\", \"ad\", \"added\", \"adj\", \"ae\", \"af\", \"affected\", \"affecting\", \"affects\", \"after\", \"afterwards\", \"ag\", \"again\", \"against\", \"ah\", \"ain\", \"ain't\", \"aj\", \"al\", \"all\", \"allow\", \"allows\", \"almost\", \"alone\", \"along\", \"already\", \"also\", \"although\", \"always\", \"am\", \"among\", \"amongst\", \"amoungst\", \"amount\", \"an\", \"and\", \"announce\", \"another\", \"any\", \"anybody\", \"anyhow\", \"anymore\", \"anyone\", \"anything\", \"anyway\", \"anyways\", \"anywhere\", \"ao\", \"ap\", \"apart\", \"apparently\", \"appear\", \"appreciate\", \"appropriate\", \"approximately\", \"ar\", \"are\", \"aren\", \"arent\", \"aren't\", \"arise\", \"around\", \"as\", \"a's\", \"aside\", \"ask\", \"asking\", \"associated\", \"at\", \"au\", \"auth\", \"av\", \"available\", \"aw\", \"away\", \"awfully\", \"ax\", \"ay\", \"az\", \"b\", \"b1\", \"b2\", \"b3\", \"ba\", \"back\", \"bc\", \"bd\", \"be\", \"became\", \"because\", \"become\", \"becomes\", \"becoming\", \"been\", \"before\", \"beforehand\", \"begin\", \"beginning\", \"beginnings\", \"begins\", \"behind\", \"being\", \"believe\", \"below\", \"beside\", \"besides\", \"best\", \"better\", \"between\", \"beyond\", \"bi\", \"bill\", \"biol\", \"bj\", \"bk\", \"bl\", \"bn\", \"both\", \"bottom\", \"bp\", \"br\", \"brief\", \"briefly\", \"bs\", \"bt\", \"bu\", \"but\", \"bx\", \"by\", \"c\", \"c1\", \"c2\", \"c3\", \"ca\", \"call\", \"came\", \"can\", \"cannot\", \"cant\", \"can't\", \"cause\", \"causes\", \"cc\", \"cd\", \"ce\", \"certain\", \"certainly\", \"cf\", \"cg\", \"ch\", \"changes\", \"ci\", \"cit\", \"cj\", \"cl\", \"clearly\", \"cm\", \"c'mon\", \"cn\", \"co\", \"com\", \"come\", \"comes\", \"con\", \"concerning\", \"consequently\", \"consider\", \"considering\", \"contain\", \"containing\", \"contains\", \"corresponding\", \"could\", \"couldn\", \"couldnt\", \"couldn't\", \"course\", \"cp\", \"cq\", \"cr\", \"cry\", \"cs\", \"c's\", \"ct\", \"cu\", \"currently\", \"cv\", \"cx\", \"cy\", \"cz\", \"d\", \"d2\", \"da\", \"date\", \"dc\", \"dd\", \"de\", \"definitely\", \"describe\", \"described\", \"despite\", \"detail\", \"df\", \"di\", \"did\", \"didn\", \"didn't\", \"different\", \"dj\", \"dk\", \"dl\", \"do\", \"does\", \"doesn\", \"doesn't\", \"doing\", \"don\", \"done\", \"don't\", \"down\", \"downwards\", \"dp\", \"dr\", \"ds\", \"dt\", \"du\", \"due\", \"during\", \"dx\", \"dy\", \"e\", \"e2\", \"e3\", \"ea\", \"each\", \"ec\", \"ed\", \"edu\", \"ee\", \"ef\", \"effect\", \"eg\", \"ei\", \"eight\", \"eighty\", \"either\", \"ej\", \"el\", \"eleven\", \"else\", \"elsewhere\", \"em\", \"empty\", \"en\", \"end\", \"ending\", \"enough\", \"entirely\", \"eo\", \"ep\", \"eq\", \"er\", \"es\", \"especially\", \"est\", \"et\", \"et-al\", \"etc\", \"eu\", \"ev\", \"even\", \"ever\", \"every\", \"everybody\", \"everyone\", \"everything\", \"everywhere\", \"ex\", \"exactly\", \"example\", \"except\", \"ey\", \"f\", \"f2\", \"fa\", \"far\", \"fc\", \"few\", \"ff\", \"fi\", \"fifteen\", \"fifth\", \"fify\", \"fill\", \"find\", \"fire\", \"first\", \"five\", \"fix\", \"fj\", \"fl\", \"fn\", \"fo\", \"followed\", \"following\", \"follows\", \"for\", \"former\", \"formerly\", \"forth\", \"forty\", \"found\", \"four\", \"fr\", \"from\", \"front\", \"fs\", \"ft\", \"fu\", \"full\", \"further\", \"furthermore\", \"fy\", \"g\", \"ga\", \"gave\", \"ge\", \"get\", \"gets\", \"getting\", \"gi\", \"give\", \"given\", \"gives\", \"giving\", \"gj\", \"gl\", \"go\", \"goes\", \"going\", \"gone\", \"got\", \"gotten\", \"gr\", \"greetings\", \"gs\", \"gy\", \"h\", \"h2\", \"h3\", \"had\", \"hadn\", \"hadn't\", \"happens\", \"hardly\", \"has\", \"hasn\", \"hasnt\", \"hasn't\", \"have\", \"haven\", \"haven't\", \"having\", \"he\", \"hed\", \"he'd\", \"he'll\", \"hello\", \"help\", \"hence\", \"her\", \"here\", \"hereafter\", \"hereby\", \"herein\", \"heres\", \"here's\", \"hereupon\", \"hers\", \"herself\", \"hes\", \"he's\", \"hh\", \"hi\", \"hid\", \"him\", \"himself\", \"his\", \"hither\", \"hj\", \"ho\", \"home\", \"hopefully\", \"how\", \"howbeit\", \"however\", \"how's\", \"hr\", \"hs\", \"http\", \"hu\", \"hundred\", \"hy\", \"i\", \"i2\", \"i3\", \"i4\", \"i6\", \"i7\", \"i8\", \"ia\", \"ib\", \"ibid\", \"ic\", \"id\", \"i'd\", \"ie\", \"if\", \"ig\", \"ignored\", \"ih\", \"ii\", \"ij\", \"il\", \"i'll\", \"im\", \"i'm\", \"immediate\", \"immediately\", \"importance\", \"important\", \"in\", \"inasmuch\", \"inc\", \"indeed\", \"index\", \"indicate\", \"indicated\", \"indicates\", \"information\", \"inner\", \"insofar\", \"instead\", \"interest\", \"into\", \"invention\", \"inward\", \"io\", \"ip\", \"iq\", \"ir\", \"is\", \"isn\", \"isn't\", \"it\", \"itd\", \"it'd\", \"it'll\", \"its\", \"it's\", \"itself\", \"iv\", \"i've\", \"ix\", \"iy\", \"iz\", \"j\", \"jj\", \"jr\", \"js\", \"jt\", \"ju\", \"just\", \"k\", \"ke\", \"keep\", \"keeps\", \"kept\", \"kg\", \"kj\", \"km\", \"know\", \"known\", \"knows\", \"ko\", \"l\", \"l2\", \"la\", \"largely\", \"last\", \"lately\", \"later\", \"latter\", \"latterly\", \"lb\", \"lc\", \"le\", \"least\", \"les\", \"less\", \"lest\", \"let\", \"lets\", \"let's\", \"lf\", \"like\", \"liked\", \"likely\", \"line\", \"little\", \"lj\", \"ll\", \"ll\", \"ln\", \"lo\", \"look\", \"looking\", \"looks\", \"los\", \"lr\", \"ls\", \"lt\", \"ltd\", \"m\", \"m2\", \"ma\", \"made\", \"mainly\", \"make\", \"makes\", \"many\", \"may\", \"maybe\", \"me\", \"mean\", \"means\", \"meantime\", \"meanwhile\", \"merely\", \"mg\", \"might\", \"mightn\", \"mightn't\", \"mill\", \"million\", \"mine\", \"miss\", \"ml\", \"mn\", \"mo\", \"more\", \"moreover\", \"most\", \"mostly\", \"move\", \"mr\", \"mrs\", \"ms\", \"mt\", \"mu\", \"much\", \"mug\", \"must\", \"mustn\", \"mustn't\", \"my\", \"myself\", \"n\", \"n2\", \"na\", \"name\", \"namely\", \"nay\", \"nc\", \"nd\", \"ne\", \"near\", \"nearly\", \"necessarily\", \"necessary\", \"need\", \"needn\", \"needn't\", \"needs\", \"neither\", \"never\", \"nevertheless\", \"new\", \"next\", \"ng\", \"ni\", \"nine\", \"ninety\", \"nj\", \"nl\", \"nn\", \"no\", \"nobody\", \"non\", \"none\", \"nonetheless\", \"noone\", \"nor\", \"normally\", \"nos\", \"not\", \"noted\", \"nothing\", \"novel\", \"now\", \"nowhere\", \"nr\", \"ns\", \"nt\", \"ny\", \"o\", \"oa\", \"ob\", \"obtain\", \"obtained\", \"obviously\", \"oc\", \"od\", \"of\", \"off\", \"often\", \"og\", \"oh\", \"oi\", \"oj\", \"ok\", \"okay\", \"ol\", \"old\", \"om\", \"omitted\", \"on\", \"once\", \"one\", \"ones\", \"only\", \"onto\", \"oo\", \"op\", \"oq\", \"or\", \"ord\", \"os\", \"ot\", \"other\", \"others\", \"otherwise\", \"ou\", \"ought\", \"our\", \"ours\", \"ourselves\", \"out\", \"outside\", \"over\", \"overall\", \"ow\", \"owing\", \"own\", \"ox\", \"oz\", \"p\", \"p1\", \"p2\", \"p3\", \"page\", \"pagecount\", \"pages\", \"par\", \"part\", \"particular\", \"particularly\", \"pas\", \"past\", \"pc\", \"pd\", \"pe\", \"per\", \"perhaps\", \"pf\", \"ph\", \"pi\", \"pj\", \"pk\", \"pl\", \"placed\", \"please\", \"plus\", \"pm\", \"pn\", \"po\", \"poorly\", \"possible\", \"possibly\", \"potentially\", \"pp\", \"pq\", \"pr\", \"predominantly\", \"present\", \"presumably\", \"previously\", \"primarily\", \"probably\", \"promptly\", \"proud\", \"provides\", \"ps\", \"pt\", \"pu\", \"put\", \"py\", \"q\", \"qj\", \"qu\", \"que\", \"quickly\", \"quite\", \"qv\", \"r\", \"r2\", \"ra\", \"ran\", \"rather\", \"rc\", \"rd\", \"re\", \"readily\", \"really\", \"reasonably\", \"recent\", \"recently\", \"ref\", \"refs\", \"regarding\", \"regardless\", \"regards\", \"related\", \"relatively\", \"research\", \"research-articl\", \"respectively\", \"resulted\", \"resulting\", \"results\", \"rf\", \"rh\", \"ri\", \"right\", \"rj\", \"rl\", \"rm\", \"rn\", \"ro\", \"rq\", \"rr\", \"rs\", \"rt\", \"ru\", \"run\", \"rv\", \"ry\", \"s\", \"s2\", \"sa\", \"said\", \"same\", \"saw\", \"say\", \"saying\", \"says\", \"sc\", \"sd\", \"se\", \"sec\", \"second\", \"secondly\", \"section\", \"see\", \"seeing\", \"seem\", \"seemed\", \"seeming\", \"seems\", \"seen\", \"self\", \"selves\", \"sensible\", \"sent\", \"serious\", \"seriously\", \"seven\", \"several\", \"sf\", \"shall\", \"shan\", \"shan't\", \"she\", \"shed\", \"she'd\", \"she'll\", \"shes\", \"she's\", \"should\", \"shouldn\", \"shouldn't\", \"should've\", \"show\", \"showed\", \"shown\", \"showns\", \"shows\", \"si\", \"side\", \"significant\", \"significantly\", \"similar\", \"similarly\", \"since\", \"sincere\", \"six\", \"sixty\", \"sj\", \"sl\", \"slightly\", \"sm\", \"sn\", \"so\", \"some\", \"somebody\", \"somehow\", \"someone\", \"somethan\", \"something\", \"sometime\", \"sometimes\", \"somewhat\", \"somewhere\", \"soon\", \"sorry\", \"sp\", \"specifically\", \"specified\", \"specify\", \"specifying\", \"sq\", \"sr\", \"ss\", \"st\", \"still\", \"stop\", \"strongly\", \"sub\", \"substantially\", \"successfully\", \"such\", \"sufficiently\", \"suggest\", \"sup\", \"sure\", \"sy\", \"system\", \"sz\", \"t\", \"t1\", \"t2\", \"t3\", \"take\", \"taken\", \"taking\", \"tb\", \"tc\", \"td\", \"te\", \"tell\", \"ten\", \"tends\", \"tf\", \"th\", \"than\", \"thank\", \"thanks\", \"thanx\", \"that\", \"that'll\", \"thats\", \"that's\", \"that've\", \"the\", \"their\", \"theirs\", \"them\", \"themselves\", \"then\", \"thence\", \"there\", \"thereafter\", \"thereby\", \"thered\", \"therefore\", \"therein\", \"there'll\", \"thereof\", \"therere\", \"theres\", \"there's\", \"thereto\", \"thereupon\", \"there've\", \"these\", \"they\", \"theyd\", \"they'd\", \"they'll\", \"theyre\", \"they're\", \"they've\", \"thickv\", \"thin\", \"think\", \"third\", \"this\", \"thorough\", \"thoroughly\", \"those\", \"thou\", \"though\", \"thoughh\", \"thousand\", \"three\", \"throug\", \"through\", \"throughout\", \"thru\", \"thus\", \"ti\", \"til\", \"tip\", \"tj\", \"tl\", \"tm\", \"tn\", \"to\", \"together\", \"too\", \"took\", \"top\", \"toward\", \"towards\", \"tp\", \"tq\", \"tr\", \"tried\", \"tries\", \"truly\", \"try\", \"trying\", \"ts\", \"t's\", \"tt\", \"tv\", \"twelve\", \"twenty\", \"twice\", \"two\", \"tx\", \"u\", \"u201d\", \"ue\", \"ui\", \"uj\", \"uk\", \"um\", \"un\", \"under\", \"unfortunately\", \"unless\", \"unlike\", \"unlikely\", \"until\", \"unto\", \"uo\", \"up\", \"upon\", \"ups\", \"ur\", \"us\", \"use\", \"used\", \"useful\", \"usefully\", \"usefulness\", \"uses\", \"using\", \"usually\", \"ut\", \"v\", \"va\", \"value\", \"various\", \"vd\", \"ve\", \"ve\", \"very\", \"via\", \"viz\", \"vj\", \"vo\", \"vol\", \"vols\", \"volumtype\", \"vq\", \"vs\", \"vt\", \"vu\", \"w\", \"wa\", \"want\", \"wants\", \"was\", \"wasn\", \"wasnt\", \"wasn't\", \"way\", \"we\", \"wed\", \"we'd\", \"welcome\", \"well\", \"we'll\", \"well-b\", \"went\", \"were\", \"we're\", \"weren\", \"werent\", \"weren't\", \"we've\", \"what\", \"whatever\", \"what'll\", \"whats\", \"what's\", \"when\", \"whence\", \"whenever\", \"when's\", \"where\", \"whereafter\", \"whereas\", \"whereby\", \"wherein\", \"wheres\", \"where's\", \"whereupon\", \"wherever\", \"whether\", \"which\", \"while\", \"whim\", \"whither\", \"who\", \"whod\", \"whoever\", \"whole\", \"who'll\", \"whom\", \"whomever\", \"whos\", \"who's\", \"whose\", \"why\", \"why's\", \"wi\", \"widely\", \"will\", \"willing\", \"wish\", \"with\", \"within\", \"without\", \"wo\", \"won\", \"wonder\", \"wont\", \"won't\", \"words\", \"world\", \"would\", \"wouldn\", \"wouldnt\", \"wouldn't\", \"www\", \"x\", \"x1\", \"x2\", \"x3\", \"xf\", \"xi\", \"xj\", \"xk\", \"xl\", \"xn\", \"xo\", \"xs\", \"xt\", \"xv\", \"xx\", \"y\", \"y2\", \"yes\", \"yet\", \"yj\", \"yl\", \"you\", \"youd\", \"you'd\", \"you'll\", \"your\", \"youre\", \"you're\", \"yours\", \"yourself\", \"yourselves\", \"you've\", \"yr\", \"ys\", \"yt\", \"z\", \"zero\", \"zi\", \"zz\"]"
   ]
  },
  {
   "cell_type": "code",
   "execution_count": 13,
   "id": "31b58487-df1c-42cb-9e4b-06369189eaaf",
   "metadata": {
    "execution": {
     "iopub.execute_input": "2022-04-09T13:25:56.234213Z",
     "iopub.status.busy": "2022-04-09T13:25:56.233997Z",
     "iopub.status.idle": "2022-04-09T13:25:56.504996Z",
     "shell.execute_reply": "2022-04-09T13:25:56.504274Z",
     "shell.execute_reply.started": "2022-04-09T13:25:56.234177Z"
    },
    "tags": []
   },
   "outputs": [
    {
     "data": {
      "application/vnd.jupyter.widget-view+json": {
       "model_id": "bc4af758502e4d49b6a97a492dc239a1",
       "version_major": 2,
       "version_minor": 0
      },
      "text/plain": [
       "VBox()"
      ]
     },
     "metadata": {},
     "output_type": "display_data"
    },
    {
     "data": {
      "application/vnd.jupyter.widget-view+json": {
       "model_id": "",
       "version_major": 2,
       "version_minor": 0
      },
      "text/plain": [
       "FloatProgress(value=0.0, bar_style='info', description='Progress:', layout=Layout(height='25px', width='50%'),…"
      ]
     },
     "metadata": {},
     "output_type": "display_data"
    }
   ],
   "source": [
    "stopword_remover = StopWordsRemover(inputCol=\"words\", outputCol=\"filtered\")\\\n",
    "                    .setStopWords(stops)"
   ]
  },
  {
   "cell_type": "code",
   "execution_count": 14,
   "id": "403eb215-a5d7-4b69-897e-faa290aa8fb0",
   "metadata": {
    "execution": {
     "iopub.execute_input": "2022-04-09T13:25:56.506573Z",
     "iopub.status.busy": "2022-04-09T13:25:56.506163Z",
     "iopub.status.idle": "2022-04-09T13:25:56.582267Z",
     "shell.execute_reply": "2022-04-09T13:25:56.581577Z",
     "shell.execute_reply.started": "2022-04-09T13:25:56.506536Z"
    },
    "tags": []
   },
   "outputs": [
    {
     "data": {
      "application/vnd.jupyter.widget-view+json": {
       "model_id": "2d3ede7211d84164a130350716cbe48e",
       "version_major": 2,
       "version_minor": 0
      },
      "text/plain": [
       "VBox()"
      ]
     },
     "metadata": {},
     "output_type": "display_data"
    },
    {
     "data": {
      "application/vnd.jupyter.widget-view+json": {
       "model_id": "",
       "version_major": 2,
       "version_minor": 0
      },
      "text/plain": [
       "FloatProgress(value=0.0, bar_style='info', description='Progress:', layout=Layout(height='25px', width='50%'),…"
      ]
     },
     "metadata": {},
     "output_type": "display_data"
    }
   ],
   "source": [
    "class PorterStemming(Transformer, HasInputCol, HasOutputCol):\n",
    "    \"\"\"\n",
    "    PosterStemming class using the NLTK Porter Stemmer\n",
    "    \n",
    "    This comes from https://stackoverflow.com/questions/32331848/create-a-custom-transformer-in-pyspark-ml\n",
    "    Adapted to work with the Porter Stemmer from NLTK.\n",
    "    \"\"\"\n",
    "    \n",
    "    @keyword_only\n",
    "    def __init__(self, \n",
    "                 inputCol  : str = None, \n",
    "                 outputCol : str = None, \n",
    "                 min_size  : int = None):\n",
    "        \"\"\"\n",
    "        Constructor takes in the input column name, output column name,\n",
    "        plus the minimum legnth of a token (min_size)\n",
    "        \"\"\"\n",
    "        # call Transformer classes constructor since were extending it.\n",
    "        super(Transformer, self).__init__()\n",
    "\n",
    "        # set Parameter objects minimum token size\n",
    "        self.min_size = Param(self, \"min_size\", \"\")\n",
    "        self._setDefault(min_size=0)\n",
    "\n",
    "        # set the input keywork arguments\n",
    "        kwargs = self._input_kwargs\n",
    "        self.setParams(**kwargs)\n",
    "\n",
    "        # initialize Stemmer object\n",
    "        self.stemmer  = PorterStemmer()\n",
    "\n",
    "        \n",
    "    @keyword_only\n",
    "    def setParams(self, \n",
    "                  inputCol  : str = None, \n",
    "                  outputCol : str = None, \n",
    "                  min_size  : int = None\n",
    "      ) -> None:\n",
    "        \"\"\"\n",
    "        Function to set the keyword arguemnts\n",
    "        \"\"\"\n",
    "        kwargs = self._input_kwargs\n",
    "        return self._set(**kwargs)\n",
    "    \n",
    "\n",
    "    def _stem_func(self, words  : list) -> list:\n",
    "        \"\"\"\n",
    "        Stemmer function call that performs stemming on a\n",
    "        list of tokens in words and returns a list of tokens\n",
    "        that have meet the minimum length requiremnt.\n",
    "        \"\"\"\n",
    "        # We need a way to get min_size and cannot access it \n",
    "        # with self.min_size\n",
    "        min_size       = self.getMinSize()\n",
    "\n",
    "        # stem that actual tokens by applying \n",
    "        # self.stemmer.stem function to each token in \n",
    "        # the words list\n",
    "        stemmed_words  = map(self.stemmer.stem, words)\n",
    "\n",
    "        # now create the new list of tokens from\n",
    "        # stemmed_words by filtering out those\n",
    "        # that are not of legnth > min_size\n",
    "        filtered_words = filter(lambda x: len(x) > min_size, stemmed_words)\n",
    "\n",
    "        return list(filtered_words)\n",
    "    \n",
    "    def _transform(self, df: DataFrame) -> DataFrame:\n",
    "        \"\"\"\n",
    "        Transform function is the method that is called in the \n",
    "        MLPipleline.  We have to override this function for our own use\n",
    "        and have it call the _stem_func.\n",
    "\n",
    "        Notice how it takes in a type DataFrame and returns type Dataframe\n",
    "        \"\"\"\n",
    "        # Get the names of the input and output columns to use\n",
    "        out_col       = self.getOutputCol()\n",
    "        in_col        = self.getInputCol()\n",
    "\n",
    "        # create the stemming function UDF by wrapping the stemmer \n",
    "        # method function\n",
    "        stem_func_udf = F.udf(self._stem_func, ArrayType(StringType()))\n",
    "        \n",
    "        # now apply that UDF to the column in the dataframe to return\n",
    "        # a new column that has the same list of words after being stemmed\n",
    "        df2           = df.withColumn(out_col, stem_func_udf(df[in_col]))\n",
    "\n",
    "        return df2\n",
    "  \n",
    "  \n",
    "    def setMinSize(self,value):\n",
    "        \"\"\"\n",
    "        This method sets the minimum size value\n",
    "        for the _paramMap dictionary.\n",
    "        \"\"\"\n",
    "        self._paramMap[self.min_size] = value\n",
    "        return self\n",
    "\n",
    "    def getMinSize(self) -> int:\n",
    "        \"\"\"\n",
    "        This method uses the parent classes (Transformer)\n",
    "        .getOrDefault method to get the minimum\n",
    "        size of a token.\n",
    "        \"\"\"\n",
    "        return self.getOrDefault(self.min_size)"
   ]
  },
  {
   "cell_type": "code",
   "execution_count": 15,
   "id": "2ee59edd-fc27-4fd3-adc1-7eed00721f1c",
   "metadata": {
    "execution": {
     "iopub.execute_input": "2022-04-09T13:25:56.588756Z",
     "iopub.status.busy": "2022-04-09T13:25:56.588461Z",
     "iopub.status.idle": "2022-04-09T13:25:56.699210Z",
     "shell.execute_reply": "2022-04-09T13:25:56.698530Z",
     "shell.execute_reply.started": "2022-04-09T13:25:56.588717Z"
    },
    "tags": []
   },
   "outputs": [
    {
     "data": {
      "application/vnd.jupyter.widget-view+json": {
       "model_id": "563a012e6d84482a80929dabd392a0ed",
       "version_major": 2,
       "version_minor": 0
      },
      "text/plain": [
       "VBox()"
      ]
     },
     "metadata": {},
     "output_type": "display_data"
    },
    {
     "data": {
      "application/vnd.jupyter.widget-view+json": {
       "model_id": "",
       "version_major": 2,
       "version_minor": 0
      },
      "text/plain": [
       "FloatProgress(value=0.0, bar_style='info', description='Progress:', layout=Layout(height='25px', width='50%'),…"
      ]
     },
     "metadata": {},
     "output_type": "display_data"
    }
   ],
   "source": [
    "stem2 = PorterStemming(inputCol=\"filtered\", outputCol=\"stemmed\")"
   ]
  },
  {
   "cell_type": "code",
   "execution_count": 21,
   "id": "8ce5ee07-7f38-48fb-a539-f22e8c1c09a6",
   "metadata": {
    "execution": {
     "iopub.execute_input": "2022-04-09T11:55:36.167288Z",
     "iopub.status.busy": "2022-04-09T11:55:36.167060Z",
     "iopub.status.idle": "2022-04-09T11:55:36.243035Z",
     "shell.execute_reply": "2022-04-09T11:55:36.242143Z",
     "shell.execute_reply.started": "2022-04-09T11:55:36.167265Z"
    },
    "tags": []
   },
   "outputs": [
    {
     "data": {
      "application/vnd.jupyter.widget-view+json": {
       "model_id": "d1856fac2da245999c9b6ce1d36da374",
       "version_major": 2,
       "version_minor": 0
      },
      "text/plain": [
       "VBox()"
      ]
     },
     "metadata": {},
     "output_type": "display_data"
    },
    {
     "data": {
      "application/vnd.jupyter.widget-view+json": {
       "model_id": "",
       "version_major": 2,
       "version_minor": 0
      },
      "text/plain": [
       "FloatProgress(value=0.0, bar_style='info', description='Progress:', layout=Layout(height='25px', width='50%'),…"
      ]
     },
     "metadata": {},
     "output_type": "display_data"
    }
   ],
   "source": [
    "#countVectors = CountVectorizer(inputCol=\"stemmed\", outputCol=\"features\", vocabSize=10000, minDF=5)"
   ]
  },
  {
   "cell_type": "code",
   "execution_count": null,
   "id": "79fbe939-a275-49d6-bf8e-7e8769387be8",
   "metadata": {},
   "outputs": [],
   "source": []
  },
  {
   "cell_type": "code",
   "execution_count": 16,
   "id": "60bffebe-b73b-48a0-afca-a3c720cd83bb",
   "metadata": {
    "execution": {
     "iopub.execute_input": "2022-04-09T13:25:56.700833Z",
     "iopub.status.busy": "2022-04-09T13:25:56.700377Z",
     "iopub.status.idle": "2022-04-09T13:25:56.782654Z",
     "shell.execute_reply": "2022-04-09T13:25:56.775243Z",
     "shell.execute_reply.started": "2022-04-09T13:25:56.700796Z"
    },
    "tags": []
   },
   "outputs": [
    {
     "data": {
      "application/vnd.jupyter.widget-view+json": {
       "model_id": "d759318e106c4aaebe46c245e6ef2051",
       "version_major": 2,
       "version_minor": 0
      },
      "text/plain": [
       "VBox()"
      ]
     },
     "metadata": {},
     "output_type": "display_data"
    },
    {
     "data": {
      "application/vnd.jupyter.widget-view+json": {
       "model_id": "",
       "version_major": 2,
       "version_minor": 0
      },
      "text/plain": [
       "FloatProgress(value=0.0, bar_style='info', description='Progress:', layout=Layout(height='25px', width='50%'),…"
      ]
     },
     "metadata": {},
     "output_type": "display_data"
    }
   ],
   "source": [
    "pipeline  = Pipeline(stages=[rgtoken,stopword_remover,stem2])"
   ]
  },
  {
   "cell_type": "code",
   "execution_count": 17,
   "id": "37180637-6c2b-47af-89ea-5b97638e3702",
   "metadata": {
    "execution": {
     "iopub.execute_input": "2022-04-09T13:25:56.784060Z",
     "iopub.status.busy": "2022-04-09T13:25:56.783816Z",
     "iopub.status.idle": "2022-04-09T13:25:56.883066Z",
     "shell.execute_reply": "2022-04-09T13:25:56.881603Z",
     "shell.execute_reply.started": "2022-04-09T13:25:56.784027Z"
    },
    "tags": []
   },
   "outputs": [
    {
     "data": {
      "application/vnd.jupyter.widget-view+json": {
       "model_id": "5823ae03cb6b4b409619bdbdec98f0e3",
       "version_major": 2,
       "version_minor": 0
      },
      "text/plain": [
       "VBox()"
      ]
     },
     "metadata": {},
     "output_type": "display_data"
    },
    {
     "data": {
      "application/vnd.jupyter.widget-view+json": {
       "model_id": "",
       "version_major": 2,
       "version_minor": 0
      },
      "text/plain": [
       "FloatProgress(value=0.0, bar_style='info', description='Progress:', layout=Layout(height='25px', width='50%'),…"
      ]
     },
     "metadata": {},
     "output_type": "display_data"
    }
   ],
   "source": [
    "processed = pipeline.fit(review_df)"
   ]
  },
  {
   "cell_type": "code",
   "execution_count": null,
   "id": "64c4496a-c44c-4d2f-b436-fe2565a9323d",
   "metadata": {},
   "outputs": [],
   "source": []
  },
  {
   "cell_type": "code",
   "execution_count": 18,
   "id": "f974daef-5a33-4963-b762-9755b1a31eda",
   "metadata": {
    "execution": {
     "iopub.execute_input": "2022-04-09T13:25:56.884318Z",
     "iopub.status.busy": "2022-04-09T13:25:56.884064Z",
     "iopub.status.idle": "2022-04-09T13:25:57.694895Z",
     "shell.execute_reply": "2022-04-09T13:25:57.693799Z",
     "shell.execute_reply.started": "2022-04-09T13:25:56.884282Z"
    },
    "tags": []
   },
   "outputs": [
    {
     "data": {
      "application/vnd.jupyter.widget-view+json": {
       "model_id": "e9fefd1180744c759f267033dfa19538",
       "version_major": 2,
       "version_minor": 0
      },
      "text/plain": [
       "VBox()"
      ]
     },
     "metadata": {},
     "output_type": "display_data"
    },
    {
     "data": {
      "application/vnd.jupyter.widget-view+json": {
       "model_id": "",
       "version_major": 2,
       "version_minor": 0
      },
      "text/plain": [
       "FloatProgress(value=0.0, bar_style='info', description='Progress:', layout=Layout(height='25px', width='50%'),…"
      ]
     },
     "metadata": {},
     "output_type": "display_data"
    }
   ],
   "source": [
    "df_train = processed.transform(review_df)"
   ]
  },
  {
   "cell_type": "code",
   "execution_count": 19,
   "id": "efbf64af-ccdd-4bda-8696-bd486215f8e4",
   "metadata": {
    "execution": {
     "iopub.execute_input": "2022-04-09T13:25:57.697204Z",
     "iopub.status.busy": "2022-04-09T13:25:57.696784Z",
     "iopub.status.idle": "2022-04-09T13:35:32.629839Z",
     "shell.execute_reply": "2022-04-09T13:35:32.628952Z",
     "shell.execute_reply.started": "2022-04-09T13:25:57.697166Z"
    },
    "tags": []
   },
   "outputs": [
    {
     "data": {
      "application/vnd.jupyter.widget-view+json": {
       "model_id": "7c375b8f22df41d5a09f1263cf7297e7",
       "version_major": 2,
       "version_minor": 0
      },
      "text/plain": [
       "VBox()"
      ]
     },
     "metadata": {},
     "output_type": "display_data"
    },
    {
     "data": {
      "application/vnd.jupyter.widget-view+json": {
       "model_id": "",
       "version_major": 2,
       "version_minor": 0
      },
      "text/plain": [
       "FloatProgress(value=0.0, bar_style='info', description='Progress:', layout=Layout(height='25px', width='50%'),…"
      ]
     },
     "metadata": {},
     "output_type": "display_data"
    }
   ],
   "source": [
    "cv = CountVectorizer(inputCol=\"stemmed\", outputCol=\"features\", vocabSize=10000, minDF=3.0)\n",
    "cv_model = cv.fit(df_train)\n"
   ]
  },
  {
   "cell_type": "code",
   "execution_count": 20,
   "id": "6115d073-6346-4457-8627-09ba48bdb3eb",
   "metadata": {
    "execution": {
     "iopub.execute_input": "2022-04-09T13:35:32.631726Z",
     "iopub.status.busy": "2022-04-09T13:35:32.631468Z",
     "iopub.status.idle": "2022-04-09T13:35:33.413543Z",
     "shell.execute_reply": "2022-04-09T13:35:33.412785Z",
     "shell.execute_reply.started": "2022-04-09T13:35:32.631691Z"
    },
    "tags": []
   },
   "outputs": [
    {
     "data": {
      "application/vnd.jupyter.widget-view+json": {
       "model_id": "2073d0ab3a734d9488de87a41e6d202c",
       "version_major": 2,
       "version_minor": 0
      },
      "text/plain": [
       "VBox()"
      ]
     },
     "metadata": {},
     "output_type": "display_data"
    },
    {
     "data": {
      "application/vnd.jupyter.widget-view+json": {
       "model_id": "",
       "version_major": 2,
       "version_minor": 0
      },
      "text/plain": [
       "FloatProgress(value=0.0, bar_style='info', description='Progress:', layout=Layout(height='25px', width='50%'),…"
      ]
     },
     "metadata": {},
     "output_type": "display_data"
    }
   ],
   "source": [
    "vectorized_tokens = cv_model.transform(df_train)"
   ]
  },
  {
   "cell_type": "code",
   "execution_count": null,
   "id": "03c0a08d-c3d1-4c31-b16a-cbabb4efd2c5",
   "metadata": {
    "execution": {
     "iopub.status.busy": "2022-04-07T15:09:38.275843Z",
     "iopub.status.idle": "2022-04-07T15:09:38.276303Z",
     "shell.execute_reply": "2022-04-07T15:09:38.276068Z"
    },
    "tags": []
   },
   "outputs": [],
   "source": [
    "#df_train.write.parquet(\"s3://mukeshproj/Topic_modelling_pipeline_backup/topic_modelling_parquet_pipeline/shrink_data_piprline_backup\")"
   ]
  },
  {
   "cell_type": "code",
   "execution_count": 1,
   "id": "7d99bff0-ab19-4947-9641-bb89b4414a9f",
   "metadata": {
    "execution": {
     "iopub.execute_input": "2022-04-07T16:06:43.399419Z",
     "iopub.status.busy": "2022-04-07T16:06:43.399110Z",
     "iopub.status.idle": "2022-04-07T16:07:31.745957Z",
     "shell.execute_reply": "2022-04-07T16:07:31.744912Z",
     "shell.execute_reply.started": "2022-04-07T16:06:43.399380Z"
    },
    "tags": []
   },
   "outputs": [
    {
     "data": {
      "application/vnd.jupyter.widget-view+json": {
       "model_id": "f2b71e26f5ab44bc938650034208f609",
       "version_major": 2,
       "version_minor": 0
      },
      "text/plain": [
       "VBox()"
      ]
     },
     "metadata": {},
     "output_type": "display_data"
    },
    {
     "name": "stdout",
     "output_type": "stream",
     "text": [
      "Starting Spark application\n"
     ]
    },
    {
     "data": {
      "text/html": [
       "<table>\n",
       "<tr><th>ID</th><th>YARN Application ID</th><th>Kind</th><th>State</th><th>Spark UI</th><th>Driver log</th><th>User</th><th>Current session?</th></tr><tr><td>0</td><td>application_1649346763510_0002</td><td>pyspark</td><td>idle</td><td><a target=\"_blank\" href=\"http://ip-172-31-48-94.ec2.internal:20888/proxy/application_1649346763510_0002/\" class=\"emr-proxy-link\" emr-resource=\"j-E90MUGY1TRTD\n",
       "\" application-id=\"application_1649346763510_0002\">Link</a></td><td><a target=\"_blank\" href=\"http://ip-172-31-48-141.ec2.internal:8042/node/containerlogs/container_1649346763510_0002_01_000001/livy\" >Link</a></td><td>None</td><td>✔</td></tr></table>"
      ],
      "text/plain": [
       "<IPython.core.display.HTML object>"
      ]
     },
     "metadata": {},
     "output_type": "display_data"
    },
    {
     "data": {
      "application/vnd.jupyter.widget-view+json": {
       "model_id": "",
       "version_major": 2,
       "version_minor": 0
      },
      "text/plain": [
       "FloatProgress(value=0.0, bar_style='info', description='Progress:', layout=Layout(height='25px', width='50%'),…"
      ]
     },
     "metadata": {},
     "output_type": "display_data"
    },
    {
     "name": "stdout",
     "output_type": "stream",
     "text": [
      "SparkSession available as 'spark'.\n"
     ]
    },
    {
     "data": {
      "application/vnd.jupyter.widget-view+json": {
       "model_id": "",
       "version_major": 2,
       "version_minor": 0
      },
      "text/plain": [
       "FloatProgress(value=0.0, bar_style='info', description='Progress:', layout=Layout(height='25px', width='50%'),…"
      ]
     },
     "metadata": {},
     "output_type": "display_data"
    }
   ],
   "source": [
    "#df_train= spark.read.parquet(\"s3://mukeshproj/Topic_modelling_pipeline_backup/topic_modelling_parquet_pipeline/shrink_data_piprline_backup\")"
   ]
  },
  {
   "cell_type": "code",
   "execution_count": 21,
   "id": "c68a3c1e-8ecd-4f4e-87d5-59b4d48955a2",
   "metadata": {
    "execution": {
     "iopub.execute_input": "2022-04-09T13:35:33.414684Z",
     "iopub.status.busy": "2022-04-09T13:35:33.414506Z",
     "iopub.status.idle": "2022-04-09T13:35:33.486468Z",
     "shell.execute_reply": "2022-04-09T13:35:33.485794Z",
     "shell.execute_reply.started": "2022-04-09T13:35:33.414662Z"
    },
    "tags": []
   },
   "outputs": [
    {
     "data": {
      "application/vnd.jupyter.widget-view+json": {
       "model_id": "9448b851b55d4c709d0f15ff86e19b7e",
       "version_major": 2,
       "version_minor": 0
      },
      "text/plain": [
       "VBox()"
      ]
     },
     "metadata": {},
     "output_type": "display_data"
    },
    {
     "data": {
      "application/vnd.jupyter.widget-view+json": {
       "model_id": "",
       "version_major": 2,
       "version_minor": 0
      },
      "text/plain": [
       "FloatProgress(value=0.0, bar_style='info', description='Progress:', layout=Layout(height='25px', width='50%'),…"
      ]
     },
     "metadata": {},
     "output_type": "display_data"
    }
   ],
   "source": [
    "vectorized_tokens= vectorized_tokens.select(\"stemmed\",\"features\")"
   ]
  },
  {
   "cell_type": "code",
   "execution_count": 22,
   "id": "5039ca7a-2307-4505-b5b3-cc91b8ae074d",
   "metadata": {
    "execution": {
     "iopub.execute_input": "2022-04-09T13:35:33.488197Z",
     "iopub.status.busy": "2022-04-09T13:35:33.487961Z",
     "iopub.status.idle": "2022-04-09T13:35:33.559573Z",
     "shell.execute_reply": "2022-04-09T13:35:33.558763Z",
     "shell.execute_reply.started": "2022-04-09T13:35:33.488165Z"
    },
    "tags": []
   },
   "outputs": [
    {
     "data": {
      "application/vnd.jupyter.widget-view+json": {
       "model_id": "62b32b145ad2421f932b470dfcd8181e",
       "version_major": 2,
       "version_minor": 0
      },
      "text/plain": [
       "VBox()"
      ]
     },
     "metadata": {},
     "output_type": "display_data"
    },
    {
     "data": {
      "application/vnd.jupyter.widget-view+json": {
       "model_id": "",
       "version_major": 2,
       "version_minor": 0
      },
      "text/plain": [
       "FloatProgress(value=0.0, bar_style='info', description='Progress:', layout=Layout(height='25px', width='50%'),…"
      ]
     },
     "metadata": {},
     "output_type": "display_data"
    },
    {
     "name": "stdout",
     "output_type": "stream",
     "text": [
      "<class 'pyspark.sql.dataframe.DataFrame'>"
     ]
    }
   ],
   "source": [
    "type(vectorized_tokens)"
   ]
  },
  {
   "cell_type": "code",
   "execution_count": 23,
   "id": "bd1330ef-4cdd-4bf9-8a41-1af6b5605877",
   "metadata": {
    "execution": {
     "iopub.execute_input": "2022-04-09T13:35:33.560884Z",
     "iopub.status.busy": "2022-04-09T13:35:33.560705Z",
     "iopub.status.idle": "2022-04-09T13:35:40.870297Z",
     "shell.execute_reply": "2022-04-09T13:35:40.869548Z",
     "shell.execute_reply.started": "2022-04-09T13:35:33.560862Z"
    },
    "tags": []
   },
   "outputs": [
    {
     "data": {
      "application/vnd.jupyter.widget-view+json": {
       "model_id": "7752d13066cf49d681c43e4bd27f660f",
       "version_major": 2,
       "version_minor": 0
      },
      "text/plain": [
       "VBox()"
      ]
     },
     "metadata": {},
     "output_type": "display_data"
    },
    {
     "data": {
      "application/vnd.jupyter.widget-view+json": {
       "model_id": "",
       "version_major": 2,
       "version_minor": 0
      },
      "text/plain": [
       "FloatProgress(value=0.0, bar_style='info', description='Progress:', layout=Layout(height='25px', width='50%'),…"
      ]
     },
     "metadata": {},
     "output_type": "display_data"
    },
    {
     "name": "stdout",
     "output_type": "stream",
     "text": [
      "+--------------------+--------------------+\n",
      "|             stemmed|            features|\n",
      "+--------------------+--------------------+\n",
      "|[great, piec, por...|(10000,[0,1,5,6,1...|\n",
      "|[reason, star, st...|(10000,[1,7,11,13...|\n",
      "|[fun, water, grea...|(10000,[0,2,6,7,1...|\n",
      "|[smith, coupl, ti...|(10000,[0,1,3,4,5...|\n",
      "|[love, food, remi...|(10000,[0,11,16,4...|\n",
      "+--------------------+--------------------+\n",
      "only showing top 5 rows"
     ]
    }
   ],
   "source": [
    "vectorized_tokens.show(5)"
   ]
  },
  {
   "cell_type": "code",
   "execution_count": 24,
   "id": "0e583d75-fd5a-4142-8e7b-e266c000d618",
   "metadata": {
    "execution": {
     "iopub.execute_input": "2022-04-09T13:35:57.187515Z",
     "iopub.status.busy": "2022-04-09T13:35:57.187275Z",
     "iopub.status.idle": "2022-04-09T13:35:57.491887Z",
     "shell.execute_reply": "2022-04-09T13:35:57.491140Z",
     "shell.execute_reply.started": "2022-04-09T13:35:57.187490Z"
    },
    "tags": []
   },
   "outputs": [
    {
     "data": {
      "application/vnd.jupyter.widget-view+json": {
       "model_id": "cd6a88fbbefb4a1f8c37bf4ec6cb7eee",
       "version_major": 2,
       "version_minor": 0
      },
      "text/plain": [
       "VBox()"
      ]
     },
     "metadata": {},
     "output_type": "display_data"
    },
    {
     "data": {
      "application/vnd.jupyter.widget-view+json": {
       "model_id": "",
       "version_major": 2,
       "version_minor": 0
      },
      "text/plain": [
       "FloatProgress(value=0.0, bar_style='info', description='Progress:', layout=Layout(height='25px', width='50%'),…"
      ]
     },
     "metadata": {},
     "output_type": "display_data"
    },
    {
     "name": "stdout",
     "output_type": "stream",
     "text": [
      "14"
     ]
    }
   ],
   "source": [
    "vectorized_tokens.rdd.getNumPartitions()"
   ]
  },
  {
   "cell_type": "code",
   "execution_count": 25,
   "id": "2851b831-cffd-4332-b07e-a03c5bea6fe4",
   "metadata": {
    "execution": {
     "iopub.execute_input": "2022-04-09T13:35:58.263544Z",
     "iopub.status.busy": "2022-04-09T13:35:58.263319Z",
     "iopub.status.idle": "2022-04-09T13:35:58.524130Z",
     "shell.execute_reply": "2022-04-09T13:35:58.523494Z",
     "shell.execute_reply.started": "2022-04-09T13:35:58.263521Z"
    },
    "tags": []
   },
   "outputs": [
    {
     "data": {
      "application/vnd.jupyter.widget-view+json": {
       "model_id": "f020b714b2ef4cdfb2cd56569b339816",
       "version_major": 2,
       "version_minor": 0
      },
      "text/plain": [
       "VBox()"
      ]
     },
     "metadata": {},
     "output_type": "display_data"
    },
    {
     "data": {
      "application/vnd.jupyter.widget-view+json": {
       "model_id": "",
       "version_major": 2,
       "version_minor": 0
      },
      "text/plain": [
       "FloatProgress(value=0.0, bar_style='info', description='Progress:', layout=Layout(height='25px', width='50%'),…"
      ]
     },
     "metadata": {},
     "output_type": "display_data"
    }
   ],
   "source": [
    "vectorized_tokens=vectorized_tokens.cache()"
   ]
  },
  {
   "cell_type": "code",
   "execution_count": 26,
   "id": "18206584-de20-4efd-a856-f1c05ae23c36",
   "metadata": {
    "execution": {
     "iopub.execute_input": "2022-04-09T13:36:02.569647Z",
     "iopub.status.busy": "2022-04-09T13:36:02.569417Z",
     "iopub.status.idle": "2022-04-09T13:36:02.631832Z",
     "shell.execute_reply": "2022-04-09T13:36:02.631018Z",
     "shell.execute_reply.started": "2022-04-09T13:36:02.569623Z"
    },
    "tags": []
   },
   "outputs": [
    {
     "data": {
      "application/vnd.jupyter.widget-view+json": {
       "model_id": "c8700bdc718c47e78ad3f4fe5e9fd957",
       "version_major": 2,
       "version_minor": 0
      },
      "text/plain": [
       "VBox()"
      ]
     },
     "metadata": {},
     "output_type": "display_data"
    },
    {
     "data": {
      "application/vnd.jupyter.widget-view+json": {
       "model_id": "",
       "version_major": 2,
       "version_minor": 0
      },
      "text/plain": [
       "FloatProgress(value=0.0, bar_style='info', description='Progress:', layout=Layout(height='25px', width='50%'),…"
      ]
     },
     "metadata": {},
     "output_type": "display_data"
    }
   ],
   "source": [
    "vectorized_tokens=vectorized_tokens.repartition(20000)"
   ]
  },
  {
   "cell_type": "code",
   "execution_count": 27,
   "id": "c1ab1480-5187-44a4-8e2a-1841dbea4e5d",
   "metadata": {
    "execution": {
     "iopub.execute_input": "2022-04-09T13:36:04.257637Z",
     "iopub.status.busy": "2022-04-09T13:36:04.257295Z",
     "iopub.status.idle": "2022-04-09T13:36:04.331594Z",
     "shell.execute_reply": "2022-04-09T13:36:04.327413Z",
     "shell.execute_reply.started": "2022-04-09T13:36:04.257598Z"
    },
    "tags": []
   },
   "outputs": [
    {
     "data": {
      "application/vnd.jupyter.widget-view+json": {
       "model_id": "fe2d53dc8a89441388e452be4c12c33a",
       "version_major": 2,
       "version_minor": 0
      },
      "text/plain": [
       "VBox()"
      ]
     },
     "metadata": {},
     "output_type": "display_data"
    },
    {
     "data": {
      "application/vnd.jupyter.widget-view+json": {
       "model_id": "",
       "version_major": 2,
       "version_minor": 0
      },
      "text/plain": [
       "FloatProgress(value=0.0, bar_style='info', description='Progress:', layout=Layout(height='25px', width='50%'),…"
      ]
     },
     "metadata": {},
     "output_type": "display_data"
    }
   ],
   "source": [
    "from pyspark.ml.clustering import LDA\n",
    "num_topics = 10\n",
    "lda = LDA(k=num_topics, maxIter=10,checkpointInterval = 2,learningDecay=0.1,optimizer='online')"
   ]
  },
  {
   "cell_type": "code",
   "execution_count": 28,
   "id": "4264a621-e576-411a-a97c-9db2eaad3e0f",
   "metadata": {
    "execution": {
     "iopub.execute_input": "2022-04-09T13:36:09.534655Z",
     "iopub.status.busy": "2022-04-09T13:36:09.534424Z",
     "iopub.status.idle": "2022-04-09T14:00:23.498285Z",
     "shell.execute_reply": "2022-04-09T14:00:23.497653Z",
     "shell.execute_reply.started": "2022-04-09T13:36:09.534630Z"
    },
    "tags": []
   },
   "outputs": [
    {
     "data": {
      "application/vnd.jupyter.widget-view+json": {
       "model_id": "3ad798840b664972ad150b0aba525d89",
       "version_major": 2,
       "version_minor": 0
      },
      "text/plain": [
       "VBox()"
      ]
     },
     "metadata": {},
     "output_type": "display_data"
    },
    {
     "data": {
      "application/vnd.jupyter.widget-view+json": {
       "model_id": "",
       "version_major": 2,
       "version_minor": 0
      },
      "text/plain": [
       "FloatProgress(value=0.0, bar_style='info', description='Progress:', layout=Layout(height='25px', width='50%'),…"
      ]
     },
     "metadata": {},
     "output_type": "display_data"
    }
   ],
   "source": [
    "model = lda.fit(vectorized_tokens)"
   ]
  },
  {
   "cell_type": "code",
   "execution_count": 24,
   "id": "ca1582d5-6c28-43c4-aa08-4e1e8199bfc5",
   "metadata": {
    "execution": {
     "iopub.execute_input": "2022-04-07T16:14:59.601681Z",
     "iopub.status.busy": "2022-04-07T16:14:59.601320Z",
     "iopub.status.idle": "2022-04-07T16:14:59.736966Z",
     "shell.execute_reply": "2022-04-07T16:14:59.736026Z",
     "shell.execute_reply.started": "2022-04-07T16:14:59.601631Z"
    },
    "tags": []
   },
   "outputs": [
    {
     "data": {
      "application/vnd.jupyter.widget-view+json": {
       "model_id": "350b2bd78bb1421a9c6e407cc62496f4",
       "version_major": 2,
       "version_minor": 0
      },
      "text/plain": [
       "VBox()"
      ]
     },
     "metadata": {},
     "output_type": "display_data"
    },
    {
     "data": {
      "application/vnd.jupyter.widget-view+json": {
       "model_id": "",
       "version_major": 2,
       "version_minor": 0
      },
      "text/plain": [
       "FloatProgress(value=0.0, bar_style='info', description='Progress:', layout=Layout(height='25px', width='50%'),…"
      ]
     },
     "metadata": {},
     "output_type": "display_data"
    }
   ],
   "source": [
    "# ll = model.logLikelihood(vectorized_tokens)\n",
    "# lp = model.logPerplexity(vectorized_tokens)\n",
    "# print(\"The lower bound on the log likelihood of the entire corpus: \" + str(ll))\n",
    "# print(\"The upper bound on perplexity: \" + str(lp))"
   ]
  },
  {
   "cell_type": "code",
   "execution_count": 25,
   "id": "3ad5603c-5806-49ef-93ea-e5e6f149ab5c",
   "metadata": {
    "execution": {
     "iopub.execute_input": "2022-04-07T16:14:59.748389Z",
     "iopub.status.busy": "2022-04-07T16:14:59.747695Z",
     "iopub.status.idle": "2022-04-07T16:14:59.892984Z",
     "shell.execute_reply": "2022-04-07T16:14:59.891813Z",
     "shell.execute_reply.started": "2022-04-07T16:14:59.748333Z"
    },
    "tags": []
   },
   "outputs": [
    {
     "data": {
      "application/vnd.jupyter.widget-view+json": {
       "model_id": "eed0881836434eb285b9b023e1fb503a",
       "version_major": 2,
       "version_minor": 0
      },
      "text/plain": [
       "VBox()"
      ]
     },
     "metadata": {},
     "output_type": "display_data"
    },
    {
     "data": {
      "application/vnd.jupyter.widget-view+json": {
       "model_id": "",
       "version_major": 2,
       "version_minor": 0
      },
      "text/plain": [
       "FloatProgress(value=0.0, bar_style='info', description='Progress:', layout=Layout(height='25px', width='50%'),…"
      ]
     },
     "metadata": {},
     "output_type": "display_data"
    }
   ],
   "source": [
    "#model.save(\"s3://ttbuckets/lda_model1/\")"
   ]
  },
  {
   "cell_type": "code",
   "execution_count": 26,
   "id": "7d24ca1a-0dc8-4aba-b016-4139499928e7",
   "metadata": {
    "execution": {
     "iopub.execute_input": "2022-04-07T16:14:59.895973Z",
     "iopub.status.busy": "2022-04-07T16:14:59.895433Z",
     "iopub.status.idle": "2022-04-07T16:15:00.009216Z",
     "shell.execute_reply": "2022-04-07T16:15:00.008227Z",
     "shell.execute_reply.started": "2022-04-07T16:14:59.895916Z"
    },
    "tags": []
   },
   "outputs": [
    {
     "data": {
      "application/vnd.jupyter.widget-view+json": {
       "model_id": "1911d81fc9e844a0bbf742a973c2e98b",
       "version_major": 2,
       "version_minor": 0
      },
      "text/plain": [
       "VBox()"
      ]
     },
     "metadata": {},
     "output_type": "display_data"
    },
    {
     "data": {
      "application/vnd.jupyter.widget-view+json": {
       "model_id": "",
       "version_major": 2,
       "version_minor": 0
      },
      "text/plain": [
       "FloatProgress(value=0.0, bar_style='info', description='Progress:', layout=Layout(height='25px', width='50%'),…"
      ]
     },
     "metadata": {},
     "output_type": "display_data"
    }
   ],
   "source": [
    "#lda=PipelineModel.load(\"hdfs:///lda_model/\")"
   ]
  },
  {
   "cell_type": "code",
   "execution_count": 29,
   "id": "d5f86246-7a2f-41c2-9bfe-45c3f0098a03",
   "metadata": {
    "execution": {
     "iopub.execute_input": "2022-04-09T14:00:36.362119Z",
     "iopub.status.busy": "2022-04-09T14:00:36.361894Z",
     "iopub.status.idle": "2022-04-09T14:00:37.652661Z",
     "shell.execute_reply": "2022-04-09T14:00:37.651673Z",
     "shell.execute_reply.started": "2022-04-09T14:00:36.362096Z"
    },
    "tags": []
   },
   "outputs": [
    {
     "data": {
      "application/vnd.jupyter.widget-view+json": {
       "model_id": "86ec22c5085c4495b63a4c5e3cba9e9e",
       "version_major": 2,
       "version_minor": 0
      },
      "text/plain": [
       "VBox()"
      ]
     },
     "metadata": {},
     "output_type": "display_data"
    },
    {
     "data": {
      "application/vnd.jupyter.widget-view+json": {
       "model_id": "",
       "version_major": 2,
       "version_minor": 0
      },
      "text/plain": [
       "FloatProgress(value=0.0, bar_style='info', description='Progress:', layout=Layout(height='25px', width='50%'),…"
      ]
     },
     "metadata": {},
     "output_type": "display_data"
    },
    {
     "name": "stdout",
     "output_type": "stream",
     "text": [
      "topic: 0\n",
      "*************************\n",
      "pizza order burger good sandwich place chees time fri dog \n",
      "\n",
      "*************************\n",
      "topic: 1\n",
      "*************************\n",
      "food place good bar great drink servic time beer night \n",
      "\n",
      "*************************\n",
      "topic: 2\n",
      "*************************\n",
      "food place good great restaur roll sushi order servic dish \n",
      "\n",
      "*************************\n",
      "topic: 3\n",
      "*************************\n",
      "chicken good order food fri salad sauc tast place dish \n",
      "\n",
      "*************************\n",
      "topic: 4\n",
      "*************************\n",
      "good place great coffe food love taco flavor ice delici \n",
      "\n",
      "*************************\n",
      "topic: 5\n",
      "*************************\n",
      "time custom servic place nail work told ask store rude \n",
      "\n",
      "*************************\n",
      "topic: 6\n",
      "*************************\n",
      "room hotel clean stay place locat time nice staff park \n",
      "\n",
      "*************************\n",
      "topic: 7\n",
      "*************************\n",
      "place park great time store love peopl lot good price \n",
      "\n",
      "*************************\n",
      "topic: 8\n",
      "*************************\n",
      "time car servic call day work told custom compani phone \n",
      "\n",
      "*************************\n",
      "topic: 9\n",
      "*************************\n",
      "order food wait tabl time minut servic server restaur drink \n",
      "\n",
      "*************************"
     ]
    }
   ],
   "source": [
    "# extract vocabulary from CountVectorizer\n",
    "vocab = cv_model.vocabulary\n",
    "topics = model.describeTopics()   \n",
    "topics_rdd = topics.rdd\n",
    "topics_words = topics_rdd\\\n",
    "       .map(lambda row: row['termIndices'])\\\n",
    "       .map(lambda idx_list: [vocab[idx] for idx in idx_list])\\\n",
    "       .collect()\n",
    "for idx, topic in enumerate(topics_words):\n",
    "    print(\"topic: {}\".format(idx))\n",
    "    print(\"*\"*25)\n",
    "    for word in topic:\n",
    "        print(word,end=\" \")\n",
    "    print(\"\\n\")\n",
    "    print(\"*\"*25)"
   ]
  },
  {
   "cell_type": "code",
   "execution_count": 30,
   "id": "c43404df-98db-4fb9-b725-c54f60a5d344",
   "metadata": {
    "execution": {
     "iopub.execute_input": "2022-04-09T14:00:45.760002Z",
     "iopub.status.busy": "2022-04-09T14:00:45.759767Z",
     "iopub.status.idle": "2022-04-09T14:00:46.022729Z",
     "shell.execute_reply": "2022-04-09T14:00:46.022034Z",
     "shell.execute_reply.started": "2022-04-09T14:00:45.759978Z"
    },
    "tags": []
   },
   "outputs": [
    {
     "data": {
      "application/vnd.jupyter.widget-view+json": {
       "model_id": "f2c3bff1becb40b5b59f2f65e6c44f0a",
       "version_major": 2,
       "version_minor": 0
      },
      "text/plain": [
       "VBox()"
      ]
     },
     "metadata": {},
     "output_type": "display_data"
    },
    {
     "data": {
      "application/vnd.jupyter.widget-view+json": {
       "model_id": "",
       "version_major": 2,
       "version_minor": 0
      },
      "text/plain": [
       "FloatProgress(value=0.0, bar_style='info', description='Progress:', layout=Layout(height='25px', width='50%'),…"
      ]
     },
     "metadata": {},
     "output_type": "display_data"
    }
   ],
   "source": [
    "topics_words = topics_rdd\\\n",
    "       .map(lambda row: row['termIndices'])\\\n",
    "       .map(lambda idx_list: [vocab[idx] for idx in idx_list])\\\n",
    "       .collect()"
   ]
  },
  {
   "cell_type": "code",
   "execution_count": 31,
   "id": "679227b7-d30d-4e26-8acf-23891febf3c4",
   "metadata": {
    "execution": {
     "iopub.execute_input": "2022-04-09T14:00:48.559406Z",
     "iopub.status.busy": "2022-04-09T14:00:48.559148Z",
     "iopub.status.idle": "2022-04-09T14:00:48.823907Z",
     "shell.execute_reply": "2022-04-09T14:00:48.823172Z",
     "shell.execute_reply.started": "2022-04-09T14:00:48.559382Z"
    },
    "tags": []
   },
   "outputs": [
    {
     "data": {
      "application/vnd.jupyter.widget-view+json": {
       "model_id": "32439bc944ea41b79907e48233c76d97",
       "version_major": 2,
       "version_minor": 0
      },
      "text/plain": [
       "VBox()"
      ]
     },
     "metadata": {},
     "output_type": "display_data"
    },
    {
     "data": {
      "application/vnd.jupyter.widget-view+json": {
       "model_id": "",
       "version_major": 2,
       "version_minor": 0
      },
      "text/plain": [
       "FloatProgress(value=0.0, bar_style='info', description='Progress:', layout=Layout(height='25px', width='50%'),…"
      ]
     },
     "metadata": {},
     "output_type": "display_data"
    },
    {
     "name": "stdout",
     "output_type": "stream",
     "text": [
      "The topics describe by their top-weighted terms:\n",
      "+-----+-----------------------------------------------------------------------------------+-----------------------------------------------------------------------------------------------------------------------------------------------------------------------------------------------------------------------------------------------------------------------------------------------------------------------------------------------------------------------------------------------------------------------------------------------------------+\n",
      "|topic|termIndices                                                                        |termWeights                                                                                                                                                                                                                                                                                                                                                                                                                                                |\n",
      "+-----+-----------------------------------------------------------------------------------+-----------------------------------------------------------------------------------------------------------------------------------------------------------------------------------------------------------------------------------------------------------------------------------------------------------------------------------------------------------------------------------------------------------------------------------------------------------+\n",
      "|0    |[47, 4, 70, 1, 84, 2, 59, 3, 27, 202, 0, 6, 318, 26, 11, 21, 509, 501, 306, 239]   |[0.03711147201372224, 0.024685786087549733, 0.02102630668131083, 0.015722157142620596, 0.014932979430745567, 0.014682474082924737, 0.013336100052117009, 0.012010259859142688, 0.008264339939017653, 0.008034153733492243, 0.006819200992167241, 0.006451965261223031, 0.006363425099140406, 0.0063242598464336545, 0.005500623026503623, 0.005399624257656812, 0.00538545785403878, 0.0047621768130698796, 0.004587003189831857, 0.00428015345265387]     |\n",
      "|1    |[0, 2, 1, 32, 6, 14, 5, 3, 80, 39, 9, 13, 23, 36, 19, 8, 41, 28, 252, 136]         |[0.03525219795714687, 0.032732648529098164, 0.024721581393350036, 0.019185433550314174, 0.01697316312328224, 0.016908609487774978, 0.01636028240080454, 0.014652678174548342, 0.01198223816787015, 0.01005776889686778, 0.008385183812548502, 0.007933778228789046, 0.007590036060643412, 0.006530121009756924, 0.006197488927237697, 0.006115225792933369, 0.006052551590047992, 0.0058064732275023515, 0.005709754383609216, 0.005606574708089909]       |\n",
      "|2    |[0, 2, 1, 6, 8, 107, 152, 4, 5, 48, 10, 235, 111, 140, 3, 21, 309, 24, 74, 184]    |[0.02959160934536059, 0.02014411072638721, 0.020091733259382186, 0.012874000880556917, 0.012798953334302771, 0.01271505541095464, 0.012593681501316196, 0.012064184987283056, 0.011431747242955521, 0.010238286544203792, 0.009995444269435334, 0.008777763395733187, 0.00861759913112553, 0.008247404027458128, 0.007783487829740304, 0.0072042201749994116, 0.007078049454657254, 0.006865851346634933, 0.006077045888424705, 0.005943026304605205]      |\n",
      "|3    |[16, 1, 4, 0, 27, 67, 43, 21, 2, 48, 6, 42, 8, 59, 24, 54, 93, 5, 9, 178]          |[0.019671914197294336, 0.019314155752510862, 0.01584519062463012, 0.015222067232265293, 0.013442260220979942, 0.010616770326228634, 0.010528657983620715, 0.008704463916574309, 0.008212004867862529, 0.007418266039908743, 0.007322249550860524, 0.00708932584449663, 0.006676689427408767, 0.006575848991801798, 0.006265255474951701, 0.006162297310673842, 0.005741290355287461, 0.005551811656019649, 0.005475428995926533, 0.0054419552376008306]    |\n",
      "|4    |[1, 2, 6, 91, 0, 11, 135, 42, 151, 45, 165, 21, 154, 189, 102, 3, 4, 9, 35, 5]     |[0.019215155596456084, 0.017610463740813005, 0.012542986659332313, 0.01219201677392279, 0.011818566273035552, 0.010110646781067816, 0.009717382487167442, 0.008696250831548777, 0.007964439312766532, 0.007939631686940287, 0.007612969331560055, 0.007465439998593541, 0.007016148451185534, 0.006968569082625526, 0.006543883895355206, 0.006423669222117096, 0.006062182006622298, 0.005580624105822607, 0.005409347646235976, 0.005213549697712727]    |\n",
      "|5    |[3, 25, 5, 2, 231, 15, 29, 33, 72, 153, 13, 7, 18, 19, 12, 193, 22, 99, 44, 53]    |[0.015842346967850515, 0.012085577472312398, 0.009580238234917104, 0.008011034785078646, 0.007971258993695095, 0.007927311256852044, 0.007925313167617609, 0.00778085993022388, 0.006729385582617672, 0.006598150124954685, 0.0062536047452980996, 0.0060978553762997875, 0.005836887205873305, 0.005803561716996067, 0.0054751766091594685, 0.005448030114969358, 0.005107222607445482, 0.0050340705730802056, 0.004968982392148753, 0.004844871135180329]|\n",
      "|6    |[56, 190, 75, 131, 2, 30, 3, 9, 19, 60, 464, 144, 39, 401, 49, 534, 301, 12, 44, 1]|[0.028150735020107932, 0.017569073808507727, 0.015501289664236766, 0.014357638069388034, 0.008775633219365139, 0.007746789940712734, 0.007672297801615672, 0.007632414031167056, 0.006945110074536308, 0.00663336760777933, 0.006430195344403765, 0.006408057173395742, 0.006345122129186974, 0.006251561947958416, 0.006184029861736986, 0.005934339893685188, 0.005879698890482899, 0.005831751082985592, 0.005704510126995955, 0.005622098453503523]    |\n",
      "|7    |[2, 60, 6, 3, 72, 11, 13, 34, 1, 10, 46, 20, 52, 103, 12, 15, 163, 9, 19, 419]     |[0.009888750829510476, 0.009735878546045759, 0.009280722534386497, 0.008624638508337806, 0.007349549106013829, 0.006221342932015626, 0.00620052311678722, 0.006098020073602175, 0.0057368245217753865, 0.0056944263823654785, 0.005450588359474277, 0.004919394530824117, 0.004844059646517329, 0.004676245718806318, 0.0045412686647628596, 0.004508143130949302, 0.00441672028784721, 0.004349367267786322, 0.0042861104577739005, 0.004242762286213249] |\n",
      "|8    |[3, 71, 5, 63, 12, 15, 29, 25, 210, 157, 31, 53, 18, 38, 172, 112, 88, 37, 10, 221]|[0.015884363316785687, 0.015856978704645353, 0.014699057222654731, 0.012654712459943075, 0.010373018998467279, 0.010229013412526168, 0.010095592979512359, 0.008598689844178114, 0.006269477064456479, 0.006155686998590815, 0.005872627081220699, 0.005639797004074897, 0.0055626017380613554, 0.005537936177779265, 0.005450572995329351, 0.005447699674430363, 0.005391197916148783, 0.005145751669262403, 0.0050796186659272675, 0.004905856123436641] |\n",
      "|9    |[4, 0, 7, 17, 3, 22, 5, 64, 8, 14, 55, 33, 122, 1, 2, 24, 18, 54, 186, 114]        |[0.03050376545130053, 0.02907263729849216, 0.02377402709156797, 0.021424124031653467, 0.017172073938292846, 0.01577226284763866, 0.015546918356433634, 0.012392504054204187, 0.012110710289674254, 0.011343045995130353, 0.010420564969747586, 0.009403252577540051, 0.008374344651027755, 0.008348047919505766, 0.007783232253783789, 0.006695147979379294, 0.006652998819159114, 0.006526687404399399, 0.006483359994527362, 0.00614440426530604]        |\n",
      "+-----+-----------------------------------------------------------------------------------+-----------------------------------------------------------------------------------------------------------------------------------------------------------------------------------------------------------------------------------------------------------------------------------------------------------------------------------------------------------------------------------------------------------------------------------------------------------+"
     ]
    }
   ],
   "source": [
    "topicswords=20\n",
    "topics=model.describeTopics(topicswords)\n",
    "print(\"The topics describe by their top-weighted terms:\")\n",
    "topics.show(truncate=False)"
   ]
  },
  {
   "cell_type": "code",
   "execution_count": 32,
   "id": "f421fd8c-c63d-4c31-b3ae-59dbfa818201",
   "metadata": {
    "execution": {
     "iopub.execute_input": "2022-04-09T14:00:53.177553Z",
     "iopub.status.busy": "2022-04-09T14:00:53.177327Z",
     "iopub.status.idle": "2022-04-09T14:00:53.243911Z",
     "shell.execute_reply": "2022-04-09T14:00:53.243060Z",
     "shell.execute_reply.started": "2022-04-09T14:00:53.177529Z"
    },
    "tags": []
   },
   "outputs": [
    {
     "data": {
      "application/vnd.jupyter.widget-view+json": {
       "model_id": "930e00c511a841899c1411e0d3d3a3a0",
       "version_major": 2,
       "version_minor": 0
      },
      "text/plain": [
       "VBox()"
      ]
     },
     "metadata": {},
     "output_type": "display_data"
    },
    {
     "data": {
      "application/vnd.jupyter.widget-view+json": {
       "model_id": "",
       "version_major": 2,
       "version_minor": 0
      },
      "text/plain": [
       "FloatProgress(value=0.0, bar_style='info', description='Progress:', layout=Layout(height='25px', width='50%'),…"
      ]
     },
     "metadata": {},
     "output_type": "display_data"
    },
    {
     "name": "stdout",
     "output_type": "stream",
     "text": [
      "[['pizza', 'order', 'burger', 'good', 'sandwich', 'place', 'chees', 'time', 'fri', 'dog'], ['food', 'place', 'good', 'bar', 'great', 'drink', 'servic', 'time', 'beer', 'night'], ['food', 'place', 'good', 'great', 'restaur', 'roll', 'sushi', 'order', 'servic', 'dish'], ['chicken', 'good', 'order', 'food', 'fri', 'salad', 'sauc', 'tast', 'place', 'dish'], ['good', 'place', 'great', 'coffe', 'food', 'love', 'taco', 'flavor', 'ice', 'delici'], ['time', 'custom', 'servic', 'place', 'nail', 'work', 'told', 'ask', 'store', 'rude'], ['room', 'hotel', 'clean', 'stay', 'place', 'locat', 'time', 'nice', 'staff', 'park'], ['place', 'park', 'great', 'time', 'store', 'love', 'peopl', 'lot', 'good', 'price'], ['time', 'car', 'servic', 'call', 'day', 'work', 'told', 'custom', 'compani', 'phone'], ['order', 'food', 'wait', 'tabl', 'time', 'minut', 'servic', 'server', 'restaur', 'drink']]"
     ]
    }
   ],
   "source": [
    "topics_words"
   ]
  },
  {
   "cell_type": "code",
   "execution_count": 56,
   "id": "1742d21c-9299-407f-8cf3-e0deee2c2f71",
   "metadata": {
    "execution": {
     "iopub.execute_input": "2022-04-09T14:09:23.001174Z",
     "iopub.status.busy": "2022-04-09T14:09:23.000945Z",
     "iopub.status.idle": "2022-04-09T14:09:23.057737Z",
     "shell.execute_reply": "2022-04-09T14:09:23.057091Z",
     "shell.execute_reply.started": "2022-04-09T14:09:23.001149Z"
    },
    "tags": []
   },
   "outputs": [
    {
     "data": {
      "application/vnd.jupyter.widget-view+json": {
       "model_id": "f5fa38cc421b4565ba2946b3f37b254f",
       "version_major": 2,
       "version_minor": 0
      },
      "text/plain": [
       "VBox()"
      ]
     },
     "metadata": {},
     "output_type": "display_data"
    },
    {
     "data": {
      "application/vnd.jupyter.widget-view+json": {
       "model_id": "",
       "version_major": 2,
       "version_minor": 0
      },
      "text/plain": [
       "FloatProgress(value=0.0, bar_style='info', description='Progress:', layout=Layout(height='25px', width='50%'),…"
      ]
     },
     "metadata": {},
     "output_type": "display_data"
    }
   ],
   "source": [
    "tRDD=topics.rdd.map(list)"
   ]
  },
  {
   "cell_type": "code",
   "execution_count": 57,
   "id": "8f7b510f-095d-4694-8088-831d28b15dde",
   "metadata": {
    "execution": {
     "iopub.execute_input": "2022-04-09T14:09:30.803362Z",
     "iopub.status.busy": "2022-04-09T14:09:30.803123Z",
     "iopub.status.idle": "2022-04-09T14:09:30.873304Z",
     "shell.execute_reply": "2022-04-09T14:09:30.872696Z",
     "shell.execute_reply.started": "2022-04-09T14:09:30.803338Z"
    },
    "tags": []
   },
   "outputs": [
    {
     "data": {
      "application/vnd.jupyter.widget-view+json": {
       "model_id": "29dd6c72549a4f22a77649f4ee0b9ae2",
       "version_major": 2,
       "version_minor": 0
      },
      "text/plain": [
       "VBox()"
      ]
     },
     "metadata": {},
     "output_type": "display_data"
    },
    {
     "data": {
      "application/vnd.jupyter.widget-view+json": {
       "model_id": "",
       "version_major": 2,
       "version_minor": 0
      },
      "text/plain": [
       "FloatProgress(value=0.0, bar_style='info', description='Progress:', layout=Layout(height='25px', width='50%'),…"
      ]
     },
     "metadata": {},
     "output_type": "display_data"
    },
    {
     "name": "stderr",
     "output_type": "stream",
     "text": [
      "An error was encountered:\n",
      "'PipelinedRDD' object is not subscriptable\n",
      "Traceback (most recent call last):\n",
      "TypeError: 'PipelinedRDD' object is not subscriptable\n",
      "\n"
     ]
    }
   ],
   "source": [
    "tRDD[0]"
   ]
  },
  {
   "cell_type": "code",
   "execution_count": 58,
   "id": "864daceb-809c-4186-91ec-a5a376b66c36",
   "metadata": {
    "execution": {
     "iopub.execute_input": "2022-04-09T14:09:37.380948Z",
     "iopub.status.busy": "2022-04-09T14:09:37.380670Z",
     "iopub.status.idle": "2022-04-09T14:09:37.459984Z",
     "shell.execute_reply": "2022-04-09T14:09:37.459141Z",
     "shell.execute_reply.started": "2022-04-09T14:09:37.380923Z"
    },
    "tags": []
   },
   "outputs": [
    {
     "data": {
      "application/vnd.jupyter.widget-view+json": {
       "model_id": "c5a18451d17b4e1eae1640b4c51fab0b",
       "version_major": 2,
       "version_minor": 0
      },
      "text/plain": [
       "VBox()"
      ]
     },
     "metadata": {},
     "output_type": "display_data"
    },
    {
     "data": {
      "application/vnd.jupyter.widget-view+json": {
       "model_id": "",
       "version_major": 2,
       "version_minor": 0
      },
      "text/plain": [
       "FloatProgress(value=0.0, bar_style='info', description='Progress:', layout=Layout(height='25px', width='50%'),…"
      ]
     },
     "metadata": {},
     "output_type": "display_data"
    },
    {
     "name": "stdout",
     "output_type": "stream",
     "text": [
      "root\n",
      " |-- topic: integer (nullable = false)\n",
      " |-- termIndices: array (nullable = true)\n",
      " |    |-- element: integer (containsNull = false)\n",
      " |-- termWeights: array (nullable = true)\n",
      " |    |-- element: double (containsNull = false)"
     ]
    }
   ],
   "source": [
    "topics.printSchema()"
   ]
  },
  {
   "cell_type": "code",
   "execution_count": 59,
   "id": "0b4c0185-c660-4033-8373-4e1541206c0b",
   "metadata": {
    "execution": {
     "iopub.execute_input": "2022-04-09T14:09:40.801514Z",
     "iopub.status.busy": "2022-04-09T14:09:40.801284Z",
     "iopub.status.idle": "2022-04-09T14:09:41.061148Z",
     "shell.execute_reply": "2022-04-09T14:09:41.060520Z",
     "shell.execute_reply.started": "2022-04-09T14:09:40.801491Z"
    },
    "tags": []
   },
   "outputs": [
    {
     "data": {
      "application/vnd.jupyter.widget-view+json": {
       "model_id": "940ae195796b4c5a8b6563b8ef95c4f1",
       "version_major": 2,
       "version_minor": 0
      },
      "text/plain": [
       "VBox()"
      ]
     },
     "metadata": {},
     "output_type": "display_data"
    },
    {
     "data": {
      "application/vnd.jupyter.widget-view+json": {
       "model_id": "",
       "version_major": 2,
       "version_minor": 0
      },
      "text/plain": [
       "FloatProgress(value=0.0, bar_style='info', description='Progress:', layout=Layout(height='25px', width='50%'),…"
      ]
     },
     "metadata": {},
     "output_type": "display_data"
    },
    {
     "name": "stdout",
     "output_type": "stream",
     "text": [
      "[[0, [47, 4, 70, 1, 84, 2, 59, 3, 27, 202, 0, 6, 318, 26, 11, 21, 509, 501, 306, 239], [0.03711147201372224, 0.024685786087549733, 0.02102630668131083, 0.015722157142620596, 0.014932979430745567, 0.014682474082924737, 0.013336100052117009, 0.012010259859142688, 0.008264339939017653, 0.008034153733492243, 0.006819200992167241, 0.006451965261223031, 0.006363425099140406, 0.0063242598464336545, 0.005500623026503623, 0.005399624257656812, 0.00538545785403878, 0.0047621768130698796, 0.004587003189831857, 0.00428015345265387]], [1, [0, 2, 1, 32, 6, 14, 5, 3, 80, 39, 9, 13, 23, 36, 19, 8, 41, 28, 252, 136], [0.03525219795714687, 0.032732648529098164, 0.024721581393350036, 0.019185433550314174, 0.01697316312328224, 0.016908609487774978, 0.01636028240080454, 0.014652678174548342, 0.01198223816787015, 0.01005776889686778, 0.008385183812548502, 0.007933778228789046, 0.007590036060643412, 0.006530121009756924, 0.006197488927237697, 0.006115225792933369, 0.006052551590047992, 0.0058064732275023515, 0.005709754383609216, 0.005606574708089909]], [2, [0, 2, 1, 6, 8, 107, 152, 4, 5, 48, 10, 235, 111, 140, 3, 21, 309, 24, 74, 184], [0.02959160934536059, 0.02014411072638721, 0.020091733259382186, 0.012874000880556917, 0.012798953334302771, 0.01271505541095464, 0.012593681501316196, 0.012064184987283056, 0.011431747242955521, 0.010238286544203792, 0.009995444269435334, 0.008777763395733187, 0.00861759913112553, 0.008247404027458128, 0.007783487829740304, 0.0072042201749994116, 0.007078049454657254, 0.006865851346634933, 0.006077045888424705, 0.005943026304605205]], [3, [16, 1, 4, 0, 27, 67, 43, 21, 2, 48, 6, 42, 8, 59, 24, 54, 93, 5, 9, 178], [0.019671914197294336, 0.019314155752510862, 0.01584519062463012, 0.015222067232265293, 0.013442260220979942, 0.010616770326228634, 0.010528657983620715, 0.008704463916574309, 0.008212004867862529, 0.007418266039908743, 0.007322249550860524, 0.00708932584449663, 0.006676689427408767, 0.006575848991801798, 0.006265255474951701, 0.006162297310673842, 0.005741290355287461, 0.005551811656019649, 0.005475428995926533, 0.0054419552376008306]], [4, [1, 2, 6, 91, 0, 11, 135, 42, 151, 45, 165, 21, 154, 189, 102, 3, 4, 9, 35, 5], [0.019215155596456084, 0.017610463740813005, 0.012542986659332313, 0.01219201677392279, 0.011818566273035552, 0.010110646781067816, 0.009717382487167442, 0.008696250831548777, 0.007964439312766532, 0.007939631686940287, 0.007612969331560055, 0.007465439998593541, 0.007016148451185534, 0.006968569082625526, 0.006543883895355206, 0.006423669222117096, 0.006062182006622298, 0.005580624105822607, 0.005409347646235976, 0.005213549697712727]], [5, [3, 25, 5, 2, 231, 15, 29, 33, 72, 153, 13, 7, 18, 19, 12, 193, 22, 99, 44, 53], [0.015842346967850515, 0.012085577472312398, 0.009580238234917104, 0.008011034785078646, 0.007971258993695095, 0.007927311256852044, 0.007925313167617609, 0.00778085993022388, 0.006729385582617672, 0.006598150124954685, 0.0062536047452980996, 0.0060978553762997875, 0.005836887205873305, 0.005803561716996067, 0.0054751766091594685, 0.005448030114969358, 0.005107222607445482, 0.0050340705730802056, 0.004968982392148753, 0.004844871135180329]], [6, [56, 190, 75, 131, 2, 30, 3, 9, 19, 60, 464, 144, 39, 401, 49, 534, 301, 12, 44, 1], [0.028150735020107932, 0.017569073808507727, 0.015501289664236766, 0.014357638069388034, 0.008775633219365139, 0.007746789940712734, 0.007672297801615672, 0.007632414031167056, 0.006945110074536308, 0.00663336760777933, 0.006430195344403765, 0.006408057173395742, 0.006345122129186974, 0.006251561947958416, 0.006184029861736986, 0.005934339893685188, 0.005879698890482899, 0.005831751082985592, 0.005704510126995955, 0.005622098453503523]], [7, [2, 60, 6, 3, 72, 11, 13, 34, 1, 10, 46, 20, 52, 103, 12, 15, 163, 9, 19, 419], [0.009888750829510476, 0.009735878546045759, 0.009280722534386497, 0.008624638508337806, 0.007349549106013829, 0.006221342932015626, 0.00620052311678722, 0.006098020073602175, 0.0057368245217753865, 0.0056944263823654785, 0.005450588359474277, 0.004919394530824117, 0.004844059646517329, 0.004676245718806318, 0.0045412686647628596, 0.004508143130949302, 0.00441672028784721, 0.004349367267786322, 0.0042861104577739005, 0.004242762286213249]], [8, [3, 71, 5, 63, 12, 15, 29, 25, 210, 157, 31, 53, 18, 38, 172, 112, 88, 37, 10, 221], [0.015884363316785687, 0.015856978704645353, 0.014699057222654731, 0.012654712459943075, 0.010373018998467279, 0.010229013412526168, 0.010095592979512359, 0.008598689844178114, 0.006269477064456479, 0.006155686998590815, 0.005872627081220699, 0.005639797004074897, 0.0055626017380613554, 0.005537936177779265, 0.005450572995329351, 0.005447699674430363, 0.005391197916148783, 0.005145751669262403, 0.0050796186659272675, 0.004905856123436641]], [9, [4, 0, 7, 17, 3, 22, 5, 64, 8, 14, 55, 33, 122, 1, 2, 24, 18, 54, 186, 114], [0.03050376545130053, 0.02907263729849216, 0.02377402709156797, 0.021424124031653467, 0.017172073938292846, 0.01577226284763866, 0.015546918356433634, 0.012392504054204187, 0.012110710289674254, 0.011343045995130353, 0.010420564969747586, 0.009403252577540051, 0.008374344651027755, 0.008348047919505766, 0.007783232253783789, 0.006695147979379294, 0.006652998819159114, 0.006526687404399399, 0.006483359994527362, 0.00614440426530604]]]"
     ]
    }
   ],
   "source": [
    "tRDD.collect()"
   ]
  },
  {
   "cell_type": "code",
   "execution_count": 60,
   "id": "0071a616-c382-47ad-b030-467fbaccc13a",
   "metadata": {
    "execution": {
     "iopub.execute_input": "2022-04-09T14:09:44.015840Z",
     "iopub.status.busy": "2022-04-09T14:09:44.015599Z",
     "iopub.status.idle": "2022-04-09T14:09:44.089640Z",
     "shell.execute_reply": "2022-04-09T14:09:44.088973Z",
     "shell.execute_reply.started": "2022-04-09T14:09:44.015817Z"
    },
    "tags": []
   },
   "outputs": [
    {
     "data": {
      "application/vnd.jupyter.widget-view+json": {
       "model_id": "dcc4e4bd0a7146d28d7e2d95cc557125",
       "version_major": 2,
       "version_minor": 0
      },
      "text/plain": [
       "VBox()"
      ]
     },
     "metadata": {},
     "output_type": "display_data"
    },
    {
     "data": {
      "application/vnd.jupyter.widget-view+json": {
       "model_id": "",
       "version_major": 2,
       "version_minor": 0
      },
      "text/plain": [
       "FloatProgress(value=0.0, bar_style='info', description='Progress:', layout=Layout(height='25px', width='50%'),…"
      ]
     },
     "metadata": {},
     "output_type": "display_data"
    }
   ],
   "source": [
    "def topic_vocab(topic):\n",
    "    print(topic)\n",
    "    topicNum=topic[0]\n",
    "    terms=topic[1]\n",
    "    weight=topic[2]\n",
    "    result=[]\n",
    "    for i in range(topicswords):\n",
    "        term=vocab[terms[i]]\n",
    "        out=str(topicNum)+\",\"+term+\",\"+str(weight[i])\n",
    "        print(\"\\n\")\n",
    "        result.append(out)\n",
    "    return result"
   ]
  },
  {
   "cell_type": "code",
   "execution_count": 61,
   "id": "dd8aeaca-44a5-4e70-91ee-abca9fa8ad7f",
   "metadata": {
    "execution": {
     "iopub.execute_input": "2022-04-09T14:09:48.939340Z",
     "iopub.status.busy": "2022-04-09T14:09:48.939113Z",
     "iopub.status.idle": "2022-04-09T14:09:49.012890Z",
     "shell.execute_reply": "2022-04-09T14:09:49.012182Z",
     "shell.execute_reply.started": "2022-04-09T14:09:48.939316Z"
    },
    "tags": []
   },
   "outputs": [
    {
     "data": {
      "application/vnd.jupyter.widget-view+json": {
       "model_id": "7834ec35baff4d76b4e3ec67eab5e6e4",
       "version_major": 2,
       "version_minor": 0
      },
      "text/plain": [
       "VBox()"
      ]
     },
     "metadata": {},
     "output_type": "display_data"
    },
    {
     "data": {
      "application/vnd.jupyter.widget-view+json": {
       "model_id": "",
       "version_major": 2,
       "version_minor": 0
      },
      "text/plain": [
       "FloatProgress(value=0.0, bar_style='info', description='Progress:', layout=Layout(height='25px', width='50%'),…"
      ]
     },
     "metadata": {},
     "output_type": "display_data"
    }
   ],
   "source": [
    "topic=tRDD.map(lambda topic:topic_vocab(topic))"
   ]
  },
  {
   "cell_type": "code",
   "execution_count": 62,
   "id": "09773674-61f0-4bfe-a2c1-0c278c67a656",
   "metadata": {
    "execution": {
     "iopub.execute_input": "2022-04-09T14:09:52.783133Z",
     "iopub.status.busy": "2022-04-09T14:09:52.782796Z",
     "iopub.status.idle": "2022-04-09T14:09:52.852942Z",
     "shell.execute_reply": "2022-04-09T14:09:52.852361Z",
     "shell.execute_reply.started": "2022-04-09T14:09:52.783096Z"
    },
    "tags": []
   },
   "outputs": [
    {
     "data": {
      "application/vnd.jupyter.widget-view+json": {
       "model_id": "deef424fb264423e92db62765ddd7830",
       "version_major": 2,
       "version_minor": 0
      },
      "text/plain": [
       "VBox()"
      ]
     },
     "metadata": {},
     "output_type": "display_data"
    },
    {
     "data": {
      "application/vnd.jupyter.widget-view+json": {
       "model_id": "",
       "version_major": 2,
       "version_minor": 0
      },
      "text/plain": [
       "FloatProgress(value=0.0, bar_style='info', description='Progress:', layout=Layout(height='25px', width='50%'),…"
      ]
     },
     "metadata": {},
     "output_type": "display_data"
    }
   ],
   "source": [
    "import pandas as pd"
   ]
  },
  {
   "cell_type": "code",
   "execution_count": 66,
   "id": "36719bbf-e5e4-4004-972c-0bf7110aed89",
   "metadata": {
    "execution": {
     "iopub.execute_input": "2022-04-09T14:12:22.074083Z",
     "iopub.status.busy": "2022-04-09T14:12:22.073849Z",
     "iopub.status.idle": "2022-04-09T14:12:22.843503Z",
     "shell.execute_reply": "2022-04-09T14:12:22.842841Z",
     "shell.execute_reply.started": "2022-04-09T14:12:22.074059Z"
    },
    "tags": []
   },
   "outputs": [
    {
     "data": {
      "application/vnd.jupyter.widget-view+json": {
       "model_id": "ce6800dc56dd4c69bbed90f8a7906fe7",
       "version_major": 2,
       "version_minor": 0
      },
      "text/plain": [
       "VBox()"
      ]
     },
     "metadata": {},
     "output_type": "display_data"
    },
    {
     "data": {
      "application/vnd.jupyter.widget-view+json": {
       "model_id": "",
       "version_major": 2,
       "version_minor": 0
      },
      "text/plain": [
       "FloatProgress(value=0.0, bar_style='info', description='Progress:', layout=Layout(height='25px', width='50%'),…"
      ]
     },
     "metadata": {},
     "output_type": "display_data"
    }
   ],
   "source": [
    "ng_pd=spark.createDataFrame(topic).toPandas()"
   ]
  },
  {
   "cell_type": "code",
   "execution_count": 67,
   "id": "8a27076d-2d6b-4bef-8e54-65c3757564a3",
   "metadata": {
    "execution": {
     "iopub.execute_input": "2022-04-09T14:13:12.658982Z",
     "iopub.status.busy": "2022-04-09T14:13:12.658716Z",
     "iopub.status.idle": "2022-04-09T14:13:12.715091Z",
     "shell.execute_reply": "2022-04-09T14:13:12.714490Z",
     "shell.execute_reply.started": "2022-04-09T14:13:12.658956Z"
    },
    "tags": []
   },
   "outputs": [
    {
     "data": {
      "application/vnd.jupyter.widget-view+json": {
       "model_id": "bb9a9d62f21c478aa45c51568f9cc91a",
       "version_major": 2,
       "version_minor": 0
      },
      "text/plain": [
       "VBox()"
      ]
     },
     "metadata": {},
     "output_type": "display_data"
    },
    {
     "data": {
      "application/vnd.jupyter.widget-view+json": {
       "model_id": "",
       "version_major": 2,
       "version_minor": 0
      },
      "text/plain": [
       "FloatProgress(value=0.0, bar_style='info', description='Progress:', layout=Layout(height='25px', width='50%'),…"
      ]
     },
     "metadata": {},
     "output_type": "display_data"
    },
    {
     "name": "stdout",
     "output_type": "stream",
     "text": [
      "                                   0                                 1  \\\n",
      "_1       0,pizza,0.03711147201372224        1,food,0.03525219795714687   \n",
      "_2      0,order,0.024685786087549733      1,place,0.032732648529098164   \n",
      "_3      0,burger,0.02102630668131083       1,good,0.024721581393350036   \n",
      "_4       0,good,0.015722157142620596        1,bar,0.019185433550314174   \n",
      "_5   0,sandwich,0.014932979430745567       1,great,0.01697316312328224   \n",
      "_6      0,place,0.014682474082924737      1,drink,0.016908609487774978   \n",
      "_7      0,chees,0.013336100052117009      1,servic,0.01636028240080454   \n",
      "_8       0,time,0.012010259859142688       1,time,0.014652678174548342   \n",
      "_9        0,fri,0.008264339939017653        1,beer,0.01198223816787015   \n",
      "_10       0,dog,0.008034153733492243       1,night,0.01005776889686778   \n",
      "_11      0,food,0.006819200992167241       1,nice,0.008385183812548502   \n",
      "_12     0,great,0.006451965261223031      1,peopl,0.007933778228789046   \n",
      "_13     0,slice,0.006363425099140406     1,pretti,0.007590036060643412   \n",
      "_14      0,eat,0.0063242598464336545     1,friend,0.006530121009756924   \n",
      "_15      0,love,0.005500623026503623      1,staff,0.006197488927237697   \n",
      "_16      0,tast,0.005399624257656812    1,restaur,0.006115225792933369   \n",
      "_17      0,crust,0.00538545785403878        1,bad,0.006052551590047992   \n",
      "_18      0,pie,0.0047621768130698796      1,star,0.0058064732275023515   \n",
      "_19       0,top,0.004587003189831857      1,music,0.005709754383609216   \n",
      "_20       0,cake,0.00428015345265387  1,atmospher,0.005606574708089909   \n",
      "\n",
      "                                  2                               3  \\\n",
      "_1       2,food,0.02959160934536059  3,chicken,0.019671914197294336   \n",
      "_2      2,place,0.02014411072638721     3,good,0.019314155752510862   \n",
      "_3      2,good,0.020091733259382186     3,order,0.01584519062463012   \n",
      "_4     2,great,0.012874000880556917     3,food,0.015222067232265293   \n",
      "_5   2,restaur,0.012798953334302771      3,fri,0.013442260220979942   \n",
      "_6       2,roll,0.01271505541095464    3,salad,0.010616770326228634   \n",
      "_7     2,sushi,0.012593681501316196     3,sauc,0.010528657983620715   \n",
      "_8     2,order,0.012064184987283056     3,tast,0.008704463916574309   \n",
      "_9    2,servic,0.011431747242955521    3,place,0.008212004867862529   \n",
      "_10     2,dish,0.010238286544203792     3,dish,0.007418266039908743   \n",
      "_11    2,price,0.009995444269435334    3,great,0.007322249550860524   \n",
      "_12    2,noodl,0.008777763395733187    3,flavor,0.00708932584449663   \n",
      "_13      2,rice,0.00861759913112553  3,restaur,0.006676689427408767   \n",
      "_14     2,soup,0.008247404027458128    3,chees,0.006575848991801798   \n",
      "_15     2,time,0.007783487829740304     3,menu,0.006265255474951701   \n",
      "_16    2,tast,0.0072042201749994116     3,meal,0.006162297310673842   \n",
      "_17     2,thai,0.007078049454657254     3,cook,0.005741290355287461   \n",
      "_18     2,menu,0.006865851346634933   3,servic,0.005551811656019649   \n",
      "_19    2,fresh,0.006077045888424705     3,nice,0.005475428995926533   \n",
      "_20    2,spici,0.005943026304605205   3,steak,0.0054419552376008306   \n",
      "\n",
      "                                    4                               5  \\\n",
      "_1        4,good,0.019215155596456084     5,time,0.015842346967850515   \n",
      "_2       4,place,0.017610463740813005   5,custom,0.012085577472312398   \n",
      "_3       4,great,0.012542986659332313   5,servic,0.009580238234917104   \n",
      "_4        4,coffe,0.01219201677392279    5,place,0.008011034785078646   \n",
      "_5        4,food,0.011818566273035552     5,nail,0.007971258993695095   \n",
      "_6        4,love,0.010110646781067816     5,work,0.007927311256852044   \n",
      "_7        4,taco,0.009717382487167442     5,told,0.007925313167617609   \n",
      "_8      4,flavor,0.008696250831548777       5,ask,0.00778085993022388   \n",
      "_9         4,ice,0.007964439312766532    5,store,0.006729385582617672   \n",
      "_10     4,delici,0.007939631686940287     5,rude,0.006598150124954685   \n",
      "_11      4,cream,0.007612969331560055   5,peopl,0.0062536047452980996   \n",
      "_12       4,tast,0.007465439998593541    5,wait,0.0060978553762997875   \n",
      "_13  4,breakfast,0.007016148451185534   5,experi,0.005836887205873305   \n",
      "_14        4,tea,0.006968569082625526    5,staff,0.005803561716996067   \n",
      "_15      4,sweet,0.006543883895355206     5,day,0.0054751766091594685   \n",
      "_16       4,time,0.006423669222117096  5,employe,0.005448030114969358   \n",
      "_17      4,order,0.006062182006622298    5,minut,0.005107222607445482   \n",
      "_18       4,nice,0.005580624105822607    5,care,0.0050340705730802056   \n",
      "_19   4,friendli,0.005409347646235976     5,walk,0.004968982392148753   \n",
      "_20     4,servic,0.005213549697712727    5,manag,0.004844871135180329   \n",
      "\n",
      "                                   6                              7  \\\n",
      "_1       6,room,0.028150735020107932   7,place,0.009888750829510476   \n",
      "_2      6,hotel,0.017569073808507727    7,park,0.009735878546045759   \n",
      "_3      6,clean,0.015501289664236766   7,great,0.009280722534386497   \n",
      "_4       6,stay,0.014357638069388034    7,time,0.008624638508337806   \n",
      "_5      6,place,0.008775633219365139   7,store,0.007349549106013829   \n",
      "_6      6,locat,0.007746789940712734    7,love,0.006221342932015626   \n",
      "_7       6,time,0.007672297801615672    7,peopl,0.00620052311678722   \n",
      "_8       6,nice,0.007632414031167056     7,lot,0.006098020073602175   \n",
      "_9      6,staff,0.006945110074536308   7,good,0.0057368245217753865   \n",
      "_10       6,park,0.00663336760777933  7,price,0.0056944263823654785   \n",
      "_11    6,massag,0.006430195344403765    7,year,0.005450588359474277   \n",
      "_12      6,door,0.006408057173395742   7,thing,0.004919394530824117   \n",
      "_13     6,night,0.006345122129186974    7,area,0.004844059646517329   \n",
      "_14  6,bathroom,0.006251561947958416    7,shop,0.004676245718806318   \n",
      "_15     6,check,0.006184029861736986    7,day,0.0045412686647628596   \n",
      "_16       6,bed,0.005934339893685188    7,work,0.004508143130949302   \n",
      "_17     6,floor,0.005879698890482899      7,kid,0.00441672028784721   \n",
      "_18       6,day,0.005831751082985592    7,nice,0.004349367267786322   \n",
      "_19      6,walk,0.005704510126995955  7,staff,0.0042861104577739005   \n",
      "_20      6,good,0.005622098453503523   7,class,0.004242762286213249   \n",
      "\n",
      "                                  8                                9  \n",
      "_1      8,time,0.015884363316785687      9,order,0.03050376545130053  \n",
      "_2       8,car,0.015856978704645353       9,food,0.02907263729849216  \n",
      "_3    8,servic,0.014699057222654731       9,wait,0.02377402709156797  \n",
      "_4      8,call,0.012654712459943075      9,tabl,0.021424124031653467  \n",
      "_5       8,day,0.010373018998467279      9,time,0.017172073938292846  \n",
      "_6      8,work,0.010229013412526168      9,minut,0.01577226284763866  \n",
      "_7      8,told,0.010095592979512359    9,servic,0.015546918356433634  \n",
      "_8    8,custom,0.008598689844178114    9,server,0.012392504054204187  \n",
      "_9   8,compani,0.006269477064456479   9,restaur,0.012110710289674254  \n",
      "_10    8,phone,0.006155686998590815     9,drink,0.011343045995130353  \n",
      "_11     8,hour,0.005872627081220699      9,seat,0.010420564969747586  \n",
      "_12    8,manag,0.005639797004074897       9,ask,0.009403252577540051  \n",
      "_13  8,experi,0.0055626017380613554  9,waitress,0.008374344651027755  \n",
      "_14     8,busi,0.005537936177779265      9,good,0.008348047919505766  \n",
      "_15     8,hair,0.005450572995329351     9,place,0.007783232253783789  \n",
      "_16    8,charg,0.005447699674430363      9,menu,0.006695147979379294  \n",
      "_17     8,week,0.005391197916148783    9,experi,0.006652998819159114  \n",
      "_18   8,review,0.005145751669262403      9,meal,0.006526687404399399  \n",
      "_19   8,price,0.0050796186659272675    9,waiter,0.006483359994527362  \n",
      "_20  8,appoint,0.004905856123436641      9,arriv,0.00614440426530604"
     ]
    }
   ],
   "source": [
    "ng_pd.T"
   ]
  },
  {
   "cell_type": "code",
   "execution_count": 63,
   "id": "dadf1de9-9060-483b-ac25-39314f13a67e",
   "metadata": {
    "execution": {
     "iopub.execute_input": "2022-04-09T14:09:56.527001Z",
     "iopub.status.busy": "2022-04-09T14:09:56.526750Z",
     "iopub.status.idle": "2022-04-09T14:09:56.609766Z",
     "shell.execute_reply": "2022-04-09T14:09:56.608960Z",
     "shell.execute_reply.started": "2022-04-09T14:09:56.526976Z"
    },
    "tags": []
   },
   "outputs": [
    {
     "data": {
      "application/vnd.jupyter.widget-view+json": {
       "model_id": "419ce12600304c60a16c734539f30a36",
       "version_major": 2,
       "version_minor": 0
      },
      "text/plain": [
       "VBox()"
      ]
     },
     "metadata": {},
     "output_type": "display_data"
    },
    {
     "data": {
      "application/vnd.jupyter.widget-view+json": {
       "model_id": "",
       "version_major": 2,
       "version_minor": 0
      },
      "text/plain": [
       "FloatProgress(value=0.0, bar_style='info', description='Progress:', layout=Layout(height='25px', width='50%'),…"
      ]
     },
     "metadata": {},
     "output_type": "display_data"
    },
    {
     "name": "stderr",
     "output_type": "stream",
     "text": [
      "An error was encountered:\n",
      "DataFrame constructor not properly called!\n",
      "Traceback (most recent call last):\n",
      "  File \"/tmp/1649510736618-0/lib/python3.7/site-packages/pandas/core/frame.py\", line 485, in __init__\n",
      "    raise ValueError(\"DataFrame constructor not properly called!\")\n",
      "ValueError: DataFrame constructor not properly called!\n",
      "\n"
     ]
    }
   ],
   "source": [
    "df1=pd.DataFrame(tRDD)"
   ]
  },
  {
   "cell_type": "code",
   "execution_count": 65,
   "id": "24adcd7e-fded-4a33-86c1-8c2cbf2989ac",
   "metadata": {
    "execution": {
     "iopub.execute_input": "2022-04-09T14:10:45.702138Z",
     "iopub.status.busy": "2022-04-09T14:10:45.701874Z",
     "iopub.status.idle": "2022-04-09T14:10:45.779764Z",
     "shell.execute_reply": "2022-04-09T14:10:45.778506Z",
     "shell.execute_reply.started": "2022-04-09T14:10:45.702111Z"
    },
    "tags": []
   },
   "outputs": [
    {
     "data": {
      "application/vnd.jupyter.widget-view+json": {
       "model_id": "f4303b3f05fc4b908e9d52a0cc1e834f",
       "version_major": 2,
       "version_minor": 0
      },
      "text/plain": [
       "VBox()"
      ]
     },
     "metadata": {},
     "output_type": "display_data"
    },
    {
     "data": {
      "application/vnd.jupyter.widget-view+json": {
       "model_id": "",
       "version_major": 2,
       "version_minor": 0
      },
      "text/plain": [
       "FloatProgress(value=0.0, bar_style='info', description='Progress:', layout=Layout(height='25px', width='50%'),…"
      ]
     },
     "metadata": {},
     "output_type": "display_data"
    },
    {
     "name": "stderr",
     "output_type": "stream",
     "text": [
      "An error was encountered:\n",
      "'PipelinedRDD' object has no attribute 'show'\n",
      "Traceback (most recent call last):\n",
      "AttributeError: 'PipelinedRDD' object has no attribute 'show'\n",
      "\n"
     ]
    }
   ],
   "source": [
    "tRDD.show()"
   ]
  },
  {
   "cell_type": "code",
   "execution_count": 51,
   "id": "a6b1fbd8-0446-413d-923c-59eecab9a469",
   "metadata": {
    "execution": {
     "iopub.execute_input": "2022-04-09T14:04:23.855376Z",
     "iopub.status.busy": "2022-04-09T14:04:23.855140Z",
     "iopub.status.idle": "2022-04-09T14:04:23.910110Z",
     "shell.execute_reply": "2022-04-09T14:04:23.909563Z",
     "shell.execute_reply.started": "2022-04-09T14:04:23.855353Z"
    },
    "tags": []
   },
   "outputs": [
    {
     "data": {
      "application/vnd.jupyter.widget-view+json": {
       "model_id": "b5ace734ed734cf9b95daae9ccc9dcb8",
       "version_major": 2,
       "version_minor": 0
      },
      "text/plain": [
       "VBox()"
      ]
     },
     "metadata": {},
     "output_type": "display_data"
    },
    {
     "data": {
      "application/vnd.jupyter.widget-view+json": {
       "model_id": "",
       "version_major": 2,
       "version_minor": 0
      },
      "text/plain": [
       "FloatProgress(value=0.0, bar_style='info', description='Progress:', layout=Layout(height='25px', width='50%'),…"
      ]
     },
     "metadata": {},
     "output_type": "display_data"
    }
   ],
   "source": [
    "pd.set_option('display.max_rows', 1000)\n",
    "pd.set_option('display.max_columns', 1000)"
   ]
  },
  {
   "cell_type": "code",
   "execution_count": 52,
   "id": "0555e673-cad1-47d1-87e4-c0a22e855944",
   "metadata": {
    "execution": {
     "iopub.execute_input": "2022-04-09T14:04:26.599391Z",
     "iopub.status.busy": "2022-04-09T14:04:26.598899Z",
     "iopub.status.idle": "2022-04-09T14:04:26.691633Z",
     "shell.execute_reply": "2022-04-09T14:04:26.690950Z",
     "shell.execute_reply.started": "2022-04-09T14:04:26.599350Z"
    },
    "tags": []
   },
   "outputs": [
    {
     "data": {
      "application/vnd.jupyter.widget-view+json": {
       "model_id": "42fdc6a8e2e14e3d83aeec1a665c31e6",
       "version_major": 2,
       "version_minor": 0
      },
      "text/plain": [
       "VBox()"
      ]
     },
     "metadata": {},
     "output_type": "display_data"
    },
    {
     "data": {
      "application/vnd.jupyter.widget-view+json": {
       "model_id": "",
       "version_major": 2,
       "version_minor": 0
      },
      "text/plain": [
       "FloatProgress(value=0.0, bar_style='info', description='Progress:', layout=Layout(height='25px', width='50%'),…"
      ]
     },
     "metadata": {},
     "output_type": "display_data"
    },
    {
     "name": "stdout",
     "output_type": "stream",
     "text": [
      "   0                                                  1  \\\n",
      "0  0  [47, 4, 70, 1, 84, 2, 59, 3, 27, 202, 0, 6, 31...   \n",
      "1  1  [0, 2, 1, 32, 6, 14, 5, 3, 80, 39, 9, 13, 23, ...   \n",
      "2  2  [0, 2, 1, 6, 8, 107, 152, 4, 5, 48, 10, 235, 1...   \n",
      "3  3  [16, 1, 4, 0, 27, 67, 43, 21, 2, 48, 6, 42, 8,...   \n",
      "4  4  [1, 2, 6, 91, 0, 11, 135, 42, 151, 45, 165, 21...   \n",
      "5  5  [3, 25, 5, 2, 231, 15, 29, 33, 72, 153, 13, 7,...   \n",
      "6  6  [56, 190, 75, 131, 2, 30, 3, 9, 19, 60, 464, 1...   \n",
      "7  7  [2, 60, 6, 3, 72, 11, 13, 34, 1, 10, 46, 20, 5...   \n",
      "8  8  [3, 71, 5, 63, 12, 15, 29, 25, 210, 157, 31, 5...   \n",
      "9  9  [4, 0, 7, 17, 3, 22, 5, 64, 8, 14, 55, 33, 122...   \n",
      "\n",
      "                                                   2  \n",
      "0  [0.03711147201372224, 0.024685786087549733, 0....  \n",
      "1  [0.03525219795714687, 0.032732648529098164, 0....  \n",
      "2  [0.02959160934536059, 0.02014411072638721, 0.0...  \n",
      "3  [0.019671914197294336, 0.019314155752510862, 0...  \n",
      "4  [0.019215155596456084, 0.017610463740813005, 0...  \n",
      "5  [0.015842346967850515, 0.012085577472312398, 0...  \n",
      "6  [0.028150735020107932, 0.017569073808507727, 0...  \n",
      "7  [0.009888750829510476, 0.009735878546045759, 0...  \n",
      "8  [0.015884363316785687, 0.015856978704645353, 0...  \n",
      "9  [0.03050376545130053, 0.02907263729849216, 0.0..."
     ]
    }
   ],
   "source": [
    "print(df1)"
   ]
  },
  {
   "cell_type": "code",
   "execution_count": null,
   "id": "9bc55e3e-ff20-4378-a8b1-a0442f107449",
   "metadata": {},
   "outputs": [],
   "source": []
  }
 ],
 "metadata": {
  "kernelspec": {
   "display_name": "PySpark",
   "language": "",
   "name": "pysparkkernel"
  },
  "language_info": {
   "codemirror_mode": {
    "name": "python",
    "version": 3
   },
   "mimetype": "text/x-python",
   "name": "pyspark",
   "pygments_lexer": "python3"
  }
 },
 "nbformat": 4,
 "nbformat_minor": 5
}
