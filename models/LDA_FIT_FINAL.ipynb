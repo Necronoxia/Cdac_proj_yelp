{
 "cells": [
  {
   "cell_type": "code",
   "execution_count": 1,
   "id": "0b506afa-ee1b-4cfa-bed6-cd4ec54a91b9",
   "metadata": {
    "execution": {
     "iopub.execute_input": "2022-04-07T07:19:25.966797Z",
     "iopub.status.busy": "2022-04-07T07:19:25.966575Z",
     "iopub.status.idle": "2022-04-07T07:19:27.111273Z",
     "shell.execute_reply": "2022-04-07T07:19:27.110313Z",
     "shell.execute_reply.started": "2022-04-07T07:19:25.966772Z"
    },
    "tags": []
   },
   "outputs": [
    {
     "name": "stdout",
     "output_type": "stream",
     "text": [
      "Defaulting to user installation because normal site-packages is not writeable\n",
      "Requirement already satisfied: nltk in /home/emr-notebook/.local/lib/python3.7/site-packages (3.7)\n",
      "Requirement already satisfied: joblib in /home/emr-notebook/.local/lib/python3.7/site-packages (from nltk) (1.1.0)\n",
      "Requirement already satisfied: tqdm in /mnt/notebook-env/lib/python3.7/site-packages (from nltk) (4.62.3)\n",
      "Requirement already satisfied: regex>=2021.8.3 in /home/emr-notebook/.local/lib/python3.7/site-packages (from nltk) (2022.3.15)\n",
      "Requirement already satisfied: click in /home/emr-notebook/.local/lib/python3.7/site-packages (from nltk) (8.1.2)\n",
      "Requirement already satisfied: importlib-metadata in /mnt/notebook-env/lib/python3.7/site-packages (from click->nltk) (4.8.2)\n",
      "Requirement already satisfied: zipp>=0.5 in /mnt/notebook-env/lib/python3.7/site-packages (from importlib-metadata->click->nltk) (3.7.0)\n",
      "Requirement already satisfied: typing-extensions>=3.6.4 in /mnt/notebook-env/lib/python3.7/site-packages (from importlib-metadata->click->nltk) (3.10.0.2)\n",
      "Note: you may need to restart the kernel to use updated packages.\n"
     ]
    }
   ],
   "source": [
    "%pip install nltk"
   ]
  },
  {
   "cell_type": "code",
   "execution_count": 2,
   "id": "b23e8a9e-2c51-4aed-a9b5-56767ea9a21e",
   "metadata": {
    "execution": {
     "iopub.execute_input": "2022-04-07T07:19:27.113319Z",
     "iopub.status.busy": "2022-04-07T07:19:27.112924Z",
     "iopub.status.idle": "2022-04-07T07:20:03.075241Z",
     "shell.execute_reply": "2022-04-07T07:20:03.074674Z",
     "shell.execute_reply.started": "2022-04-07T07:19:27.113260Z"
    },
    "tags": []
   },
   "outputs": [
    {
     "data": {
      "application/vnd.jupyter.widget-view+json": {
       "model_id": "ba9eae645cde4996b5fcf5d511424e91",
       "version_major": 2,
       "version_minor": 0
      },
      "text/plain": [
       "VBox()"
      ]
     },
     "metadata": {},
     "output_type": "display_data"
    },
    {
     "name": "stdout",
     "output_type": "stream",
     "text": [
      "Starting Spark application\n"
     ]
    },
    {
     "data": {
      "text/html": [
       "<table>\n",
       "<tr><th>ID</th><th>YARN Application ID</th><th>Kind</th><th>State</th><th>Spark UI</th><th>Driver log</th><th>User</th><th>Current session?</th></tr><tr><td>5</td><td>application_1649304849111_0010</td><td>pyspark</td><td>idle</td><td><a target=\"_blank\" href=\"http://ip-172-31-86-42.ec2.internal:20888/proxy/application_1649304849111_0010/\" class=\"emr-proxy-link\" emr-resource=\"j-1C50NWHCIKQ3Z\n",
       "\" application-id=\"application_1649304849111_0010\">Link</a></td><td><a target=\"_blank\" href=\"http://ip-172-31-90-127.ec2.internal:8042/node/containerlogs/container_1649304849111_0010_01_000001/livy\" >Link</a></td><td>None</td><td>✔</td></tr></table>"
      ],
      "text/plain": [
       "<IPython.core.display.HTML object>"
      ]
     },
     "metadata": {},
     "output_type": "display_data"
    },
    {
     "data": {
      "application/vnd.jupyter.widget-view+json": {
       "model_id": "",
       "version_major": 2,
       "version_minor": 0
      },
      "text/plain": [
       "FloatProgress(value=0.0, bar_style='info', description='Progress:', layout=Layout(height='25px', width='50%'),…"
      ]
     },
     "metadata": {},
     "output_type": "display_data"
    },
    {
     "name": "stdout",
     "output_type": "stream",
     "text": [
      "SparkSession available as 'spark'.\n"
     ]
    },
    {
     "data": {
      "application/vnd.jupyter.widget-view+json": {
       "model_id": "",
       "version_major": 2,
       "version_minor": 0
      },
      "text/plain": [
       "FloatProgress(value=0.0, bar_style='info', description='Progress:', layout=Layout(height='25px', width='50%'),…"
      ]
     },
     "metadata": {},
     "output_type": "display_data"
    },
    {
     "name": "stdout",
     "output_type": "stream",
     "text": [
      "Collecting matplotlib==3.1.1\n",
      "  Using cached https://files.pythonhosted.org/packages/19/7a/60bd79c5d79559150f8bba866dd7d434f0a170312e4d15e8aefa5faba294/matplotlib-3.1.1-cp37-cp37m-manylinux1_x86_64.whl\n",
      "Collecting python-dateutil>=2.1 (from matplotlib==3.1.1)\n",
      "  Using cached https://files.pythonhosted.org/packages/36/7a/87837f39d0296e723bb9b62bbb257d0355c7f6128853c78955f57342a56d/python_dateutil-2.8.2-py2.py3-none-any.whl\n",
      "Collecting pyparsing!=2.0.4,!=2.1.2,!=2.1.6,>=2.0.1 (from matplotlib==3.1.1)\n",
      "  Using cached https://files.pythonhosted.org/packages/80/c1/23fd82ad3121656b585351aba6c19761926bb0db2ebed9e4ff09a43a3fcc/pyparsing-3.0.7-py3-none-any.whl\n",
      "Collecting cycler>=0.10 (from matplotlib==3.1.1)\n",
      "  Using cached https://files.pythonhosted.org/packages/5c/f9/695d6bedebd747e5eb0fe8fad57b72fdf25411273a39791cde838d5a8f51/cycler-0.11.0-py3-none-any.whl\n",
      "Requirement already satisfied: numpy>=1.11 in /usr/local/lib64/python3.7/site-packages (from matplotlib==3.1.1)\n",
      "Collecting kiwisolver>=1.0.1 (from matplotlib==3.1.1)\n",
      "  Using cached https://files.pythonhosted.org/packages/51/50/9a9a94afa26c50fc5d9127272737806990aa698c7a1c220b8e5075e70304/kiwisolver-1.4.2-cp37-cp37m-manylinux_2_5_x86_64.manylinux1_x86_64.whl\n",
      "Requirement already satisfied: six>=1.5 in /usr/local/lib/python3.7/site-packages (from python-dateutil>=2.1->matplotlib==3.1.1)\n",
      "Collecting typing-extensions; python_version < \"3.8\" (from kiwisolver>=1.0.1->matplotlib==3.1.1)\n",
      "  Using cached https://files.pythonhosted.org/packages/45/6b/44f7f8f1e110027cf88956b59f2fad776cca7e1704396d043f89effd3a0e/typing_extensions-4.1.1-py3-none-any.whl\n",
      "Installing collected packages: python-dateutil, pyparsing, cycler, typing-extensions, kiwisolver, matplotlib\n",
      "Successfully installed cycler-0.11.0 kiwisolver-1.4.2 matplotlib-3.1.1 pyparsing-3.0.7 python-dateutil-2.8.2 typing-extensions-4.1.1\n",
      "\n",
      "You are using pip version 9.0.1, however version 22.0.4 is available.\n",
      "You should consider upgrading via the 'pip install --upgrade pip' command."
     ]
    }
   ],
   "source": [
    "sc.install_pypi_package(\"matplotlib==3.1.1\", \"https://pypi.org/simple\")"
   ]
  },
  {
   "cell_type": "code",
   "execution_count": 3,
   "id": "669c9652-e0fd-4fe0-a70b-ac843297d296",
   "metadata": {
    "execution": {
     "iopub.execute_input": "2022-04-07T07:20:03.081866Z",
     "iopub.status.busy": "2022-04-07T07:20:03.081630Z",
     "iopub.status.idle": "2022-04-07T07:20:03.345406Z",
     "shell.execute_reply": "2022-04-07T07:20:03.344832Z",
     "shell.execute_reply.started": "2022-04-07T07:20:03.081833Z"
    },
    "tags": []
   },
   "outputs": [
    {
     "data": {
      "application/vnd.jupyter.widget-view+json": {
       "model_id": "e2b311290fdb44979fd54b89adcf05cf",
       "version_major": 2,
       "version_minor": 0
      },
      "text/plain": [
       "VBox()"
      ]
     },
     "metadata": {},
     "output_type": "display_data"
    },
    {
     "data": {
      "application/vnd.jupyter.widget-view+json": {
       "model_id": "",
       "version_major": 2,
       "version_minor": 0
      },
      "text/plain": [
       "FloatProgress(value=0.0, bar_style='info', description='Progress:', layout=Layout(height='25px', width='50%'),…"
      ]
     },
     "metadata": {},
     "output_type": "display_data"
    }
   ],
   "source": [
    "from pyspark.sql.functions import *\n",
    "from pyspark.sql.functions import udf\n",
    "from pyspark.sql.types import IntegerType\n",
    "\n",
    "from pyspark.mllib.classification import SVMModel, SVMWithSGD\n",
    "from pyspark.mllib.regression import LabeledPoint\n",
    "from pyspark.mllib.linalg import Vectors as MLLibVectors\n",
    "from pyspark.ml import Pipeline\n",
    "from pyspark.ml.evaluation import BinaryClassificationEvaluator, MulticlassClassificationEvaluator\n",
    "from pyspark.ml.feature import * \n",
    "from pyspark.ml.tuning import CrossValidator"
   ]
  },
  {
   "cell_type": "code",
   "execution_count": 4,
   "id": "ef573ec1-9f99-443a-8f61-387eaaeaf63a",
   "metadata": {
    "execution": {
     "iopub.execute_input": "2022-04-07T07:20:03.346659Z",
     "iopub.status.busy": "2022-04-07T07:20:03.346410Z",
     "iopub.status.idle": "2022-04-07T07:20:03.608287Z",
     "shell.execute_reply": "2022-04-07T07:20:03.607653Z",
     "shell.execute_reply.started": "2022-04-07T07:20:03.346623Z"
    },
    "tags": []
   },
   "outputs": [
    {
     "data": {
      "application/vnd.jupyter.widget-view+json": {
       "model_id": "33e97f9e7929421f8ab1f49cab2a0e1b",
       "version_major": 2,
       "version_minor": 0
      },
      "text/plain": [
       "VBox()"
      ]
     },
     "metadata": {},
     "output_type": "display_data"
    },
    {
     "data": {
      "application/vnd.jupyter.widget-view+json": {
       "model_id": "",
       "version_major": 2,
       "version_minor": 0
      },
      "text/plain": [
       "FloatProgress(value=0.0, bar_style='info', description='Progress:', layout=Layout(height='25px', width='50%'),…"
      ]
     },
     "metadata": {},
     "output_type": "display_data"
    }
   ],
   "source": [
    "from pyspark.ml import Pipeline\n",
    "from pyspark.ml.feature import OneHotEncoder, StringIndexer, VectorAssembler, RegexTokenizer\n",
    "from pyspark.ml.feature import StopWordsRemover, CountVectorizer, Tokenizer, HashingTF, IDF\n",
    "from pyspark.ml.classification import LogisticRegression\n",
    "from pyspark.sql.functions import array\n",
    "\n",
    "import nltk"
   ]
  },
  {
   "cell_type": "code",
   "execution_count": 5,
   "id": "90000eec-fa1f-4c2a-a3dd-699e7384a750",
   "metadata": {
    "execution": {
     "iopub.execute_input": "2022-04-07T07:20:03.609650Z",
     "iopub.status.busy": "2022-04-07T07:20:03.609298Z",
     "iopub.status.idle": "2022-04-07T07:20:03.667560Z",
     "shell.execute_reply": "2022-04-07T07:20:03.667047Z",
     "shell.execute_reply.started": "2022-04-07T07:20:03.609611Z"
    },
    "tags": []
   },
   "outputs": [
    {
     "data": {
      "application/vnd.jupyter.widget-view+json": {
       "model_id": "390dc849adc04ff182cc1c473bac7fa9",
       "version_major": 2,
       "version_minor": 0
      },
      "text/plain": [
       "VBox()"
      ]
     },
     "metadata": {},
     "output_type": "display_data"
    },
    {
     "data": {
      "application/vnd.jupyter.widget-view+json": {
       "model_id": "",
       "version_major": 2,
       "version_minor": 0
      },
      "text/plain": [
       "FloatProgress(value=0.0, bar_style='info', description='Progress:', layout=Layout(height='25px', width='50%'),…"
      ]
     },
     "metadata": {},
     "output_type": "display_data"
    }
   ],
   "source": [
    "from pyspark import keyword_only\n",
    "import pyspark.sql.functions as F\n",
    "from pyspark.sql import DataFrame\n",
    "from pyspark.sql.types import ArrayType, StringType\n",
    "from pyspark.ml import Transformer, classification\n",
    "from pyspark.ml.param.shared import HasInputCol, HasOutputCol, Param\n",
    "from nltk.stem import PorterStemmer"
   ]
  },
  {
   "cell_type": "code",
   "execution_count": 6,
   "id": "769a79cf-9485-41a7-82e7-e4804f896e43",
   "metadata": {
    "execution": {
     "iopub.execute_input": "2022-04-07T07:20:03.668986Z",
     "iopub.status.busy": "2022-04-07T07:20:03.668800Z",
     "iopub.status.idle": "2022-04-07T07:20:03.719633Z",
     "shell.execute_reply": "2022-04-07T07:20:03.719054Z",
     "shell.execute_reply.started": "2022-04-07T07:20:03.668958Z"
    },
    "tags": []
   },
   "outputs": [
    {
     "data": {
      "application/vnd.jupyter.widget-view+json": {
       "model_id": "aadaed3faa704116a16c7eca4d9aef32",
       "version_major": 2,
       "version_minor": 0
      },
      "text/plain": [
       "VBox()"
      ]
     },
     "metadata": {},
     "output_type": "display_data"
    },
    {
     "data": {
      "application/vnd.jupyter.widget-view+json": {
       "model_id": "",
       "version_major": 2,
       "version_minor": 0
      },
      "text/plain": [
       "FloatProgress(value=0.0, bar_style='info', description='Progress:', layout=Layout(height='25px', width='50%'),…"
      ]
     },
     "metadata": {},
     "output_type": "display_data"
    }
   ],
   "source": [
    "import string \n",
    "import re "
   ]
  },
  {
   "cell_type": "code",
   "execution_count": 7,
   "id": "6af6b4b7-8328-4224-87fd-8ca0e45af909",
   "metadata": {
    "execution": {
     "iopub.execute_input": "2022-04-07T07:20:03.720753Z",
     "iopub.status.busy": "2022-04-07T07:20:03.720593Z",
     "iopub.status.idle": "2022-04-07T07:20:04.494165Z",
     "shell.execute_reply": "2022-04-07T07:20:04.493602Z",
     "shell.execute_reply.started": "2022-04-07T07:20:03.720733Z"
    },
    "tags": []
   },
   "outputs": [
    {
     "data": {
      "application/vnd.jupyter.widget-view+json": {
       "model_id": "6ac154daaa884a83a34e684bcb3d7044",
       "version_major": 2,
       "version_minor": 0
      },
      "text/plain": [
       "VBox()"
      ]
     },
     "metadata": {},
     "output_type": "display_data"
    },
    {
     "data": {
      "application/vnd.jupyter.widget-view+json": {
       "model_id": "",
       "version_major": 2,
       "version_minor": 0
      },
      "text/plain": [
       "FloatProgress(value=0.0, bar_style='info', description='Progress:', layout=Layout(height='25px', width='50%'),…"
      ]
     },
     "metadata": {},
     "output_type": "display_data"
    }
   ],
   "source": [
    "import matplotlib.pyplot as plt"
   ]
  },
  {
   "cell_type": "code",
   "execution_count": 8,
   "id": "151a4c6c-e51e-43f8-8f41-3b48bc9139e3",
   "metadata": {
    "execution": {
     "iopub.execute_input": "2022-04-07T07:20:04.495182Z",
     "iopub.status.busy": "2022-04-07T07:20:04.495009Z",
     "iopub.status.idle": "2022-04-07T07:20:05.774615Z",
     "shell.execute_reply": "2022-04-07T07:20:05.773907Z",
     "shell.execute_reply.started": "2022-04-07T07:20:04.495160Z"
    },
    "tags": []
   },
   "outputs": [
    {
     "data": {
      "application/vnd.jupyter.widget-view+json": {
       "model_id": "854414d676cd40138228f49c0766fc96",
       "version_major": 2,
       "version_minor": 0
      },
      "text/plain": [
       "VBox()"
      ]
     },
     "metadata": {},
     "output_type": "display_data"
    },
    {
     "data": {
      "application/vnd.jupyter.widget-view+json": {
       "model_id": "",
       "version_major": 2,
       "version_minor": 0
      },
      "text/plain": [
       "FloatProgress(value=0.0, bar_style='info', description='Progress:', layout=Layout(height='25px', width='50%'),…"
      ]
     },
     "metadata": {},
     "output_type": "display_data"
    }
   ],
   "source": [
    "review = spark.read.orc(\"hdfs:///NLP-orc111/\")"
   ]
  },
  {
   "cell_type": "code",
   "execution_count": 9,
   "id": "41cd071d-a1dd-437b-842f-064a142a73c8",
   "metadata": {
    "execution": {
     "iopub.execute_input": "2022-04-07T07:20:05.776015Z",
     "iopub.status.busy": "2022-04-07T07:20:05.775649Z",
     "iopub.status.idle": "2022-04-07T07:20:08.077016Z",
     "shell.execute_reply": "2022-04-07T07:20:08.076160Z",
     "shell.execute_reply.started": "2022-04-07T07:20:05.775980Z"
    },
    "tags": []
   },
   "outputs": [
    {
     "data": {
      "application/vnd.jupyter.widget-view+json": {
       "model_id": "0bf853b75bbe4dc6ab39d4266dd1ba70",
       "version_major": 2,
       "version_minor": 0
      },
      "text/plain": [
       "VBox()"
      ]
     },
     "metadata": {},
     "output_type": "display_data"
    },
    {
     "data": {
      "application/vnd.jupyter.widget-view+json": {
       "model_id": "",
       "version_major": 2,
       "version_minor": 0
      },
      "text/plain": [
       "FloatProgress(value=0.0, bar_style='info', description='Progress:', layout=Layout(height='25px', width='50%'),…"
      ]
     },
     "metadata": {},
     "output_type": "display_data"
    },
    {
     "name": "stdout",
     "output_type": "stream",
     "text": [
      "+-----+--------------------+\n",
      "|stars|                text|\n",
      "+-----+--------------------+\n",
      "|  5.0|What a great find...|\n",
      "|  2.0|The only reason I...|\n",
      "|  2.0|It's fun that it'...|\n",
      "|  3.0|I've been to Smit...|\n",
      "|  4.0|We do love the fo...|\n",
      "+-----+--------------------+\n",
      "only showing top 5 rows"
     ]
    }
   ],
   "source": [
    "review.show(5)"
   ]
  },
  {
   "cell_type": "code",
   "execution_count": 10,
   "id": "d434e622-c897-4fe1-97e4-25588aa976eb",
   "metadata": {
    "execution": {
     "iopub.execute_input": "2022-04-07T07:20:29.880420Z",
     "iopub.status.busy": "2022-04-07T07:20:29.880166Z",
     "iopub.status.idle": "2022-04-07T07:20:30.143835Z",
     "shell.execute_reply": "2022-04-07T07:20:30.143281Z",
     "shell.execute_reply.started": "2022-04-07T07:20:29.880394Z"
    },
    "tags": []
   },
   "outputs": [
    {
     "data": {
      "application/vnd.jupyter.widget-view+json": {
       "model_id": "d9d01dd357be425ebfac999c63fd722a",
       "version_major": 2,
       "version_minor": 0
      },
      "text/plain": [
       "VBox()"
      ]
     },
     "metadata": {},
     "output_type": "display_data"
    },
    {
     "data": {
      "application/vnd.jupyter.widget-view+json": {
       "model_id": "",
       "version_major": 2,
       "version_minor": 0
      },
      "text/plain": [
       "FloatProgress(value=0.0, bar_style='info', description='Progress:', layout=Layout(height='25px', width='50%'),…"
      ]
     },
     "metadata": {},
     "output_type": "display_data"
    }
   ],
   "source": [
    "def remove_punct(text):\n",
    "    regex = re.compile('[' + re.escape(string.punctuation) + '0-9\\\\r\\\\t\\\\n]')\n",
    "    nopunct = regex.sub(\" \", text) \n",
    "    return nopunct\n",
    "\n",
    "    \n",
    "# binarize rating\n",
    "def convert_rating(rating):\n",
    "    rating = int(rating)\n",
    "    if rating < 2: return 1\n",
    "    else: return 0\n",
    "\n",
    "# udf\n",
    "punct_remover = udf(lambda x: remove_punct(x))\n",
    "rating_convert = udf(lambda x: convert_rating(x))\n",
    "review_df = review.select( punct_remover('text'), rating_convert('stars'))\n",
    "review_df = review_df.withColumnRenamed('<lambda>(text)', 'text')\\\n",
    "                     .withColumn('label', review_df[\"<lambda>(stars)\"].cast(IntegerType()))\\\n",
    "                     .drop('<lambda>(stars)')"
   ]
  },
  {
   "cell_type": "code",
   "execution_count": 11,
   "id": "2b8c3f0c-8096-4cd2-a22d-44b35e959bde",
   "metadata": {
    "execution": {
     "iopub.execute_input": "2022-04-07T07:20:30.144949Z",
     "iopub.status.busy": "2022-04-07T07:20:30.144757Z",
     "iopub.status.idle": "2022-04-07T07:20:32.422551Z",
     "shell.execute_reply": "2022-04-07T07:20:32.421982Z",
     "shell.execute_reply.started": "2022-04-07T07:20:30.144920Z"
    },
    "tags": []
   },
   "outputs": [
    {
     "data": {
      "application/vnd.jupyter.widget-view+json": {
       "model_id": "9f711abe88a74bb7897df9fcfaf9434a",
       "version_major": 2,
       "version_minor": 0
      },
      "text/plain": [
       "VBox()"
      ]
     },
     "metadata": {},
     "output_type": "display_data"
    },
    {
     "data": {
      "application/vnd.jupyter.widget-view+json": {
       "model_id": "",
       "version_major": 2,
       "version_minor": 0
      },
      "text/plain": [
       "FloatProgress(value=0.0, bar_style='info', description='Progress:', layout=Layout(height='25px', width='50%'),…"
      ]
     },
     "metadata": {},
     "output_type": "display_data"
    },
    {
     "name": "stdout",
     "output_type": "stream",
     "text": [
      "+--------------------+-----+\n",
      "|                text|label|\n",
      "+--------------------+-----+\n",
      "|What a great find...|    0|\n",
      "|The only reason I...|    0|\n",
      "+--------------------+-----+\n",
      "only showing top 2 rows"
     ]
    }
   ],
   "source": [
    "review_df.show(2)"
   ]
  },
  {
   "cell_type": "code",
   "execution_count": 12,
   "id": "8a2345a2-1646-4f3a-ad07-38b5ecdb46ef",
   "metadata": {
    "execution": {
     "iopub.execute_input": "2022-04-07T07:20:32.431232Z",
     "iopub.status.busy": "2022-04-07T07:20:32.431009Z",
     "iopub.status.idle": "2022-04-07T07:20:34.882517Z",
     "shell.execute_reply": "2022-04-07T07:20:34.826279Z",
     "shell.execute_reply.started": "2022-04-07T07:20:32.431201Z"
    },
    "tags": []
   },
   "outputs": [
    {
     "data": {
      "application/vnd.jupyter.widget-view+json": {
       "model_id": "ca6a3c2a0fda40c7b5e30324e56fbda6",
       "version_major": 2,
       "version_minor": 0
      },
      "text/plain": [
       "VBox()"
      ]
     },
     "metadata": {},
     "output_type": "display_data"
    },
    {
     "data": {
      "application/vnd.jupyter.widget-view+json": {
       "model_id": "",
       "version_major": 2,
       "version_minor": 0
      },
      "text/plain": [
       "FloatProgress(value=0.0, bar_style='info', description='Progress:', layout=Layout(height='25px', width='50%'),…"
      ]
     },
     "metadata": {},
     "output_type": "display_data"
    },
    {
     "name": "stdout",
     "output_type": "stream",
     "text": [
      "3548711"
     ]
    }
   ],
   "source": [
    "review_df.count()"
   ]
  },
  {
   "cell_type": "code",
   "execution_count": 13,
   "id": "454f6174-56ba-4a9f-9dbc-6cbd0288e4ac",
   "metadata": {
    "execution": {
     "iopub.execute_input": "2022-04-07T07:20:34.885891Z",
     "iopub.status.busy": "2022-04-07T07:20:34.885716Z",
     "iopub.status.idle": "2022-04-07T07:20:35.370731Z",
     "shell.execute_reply": "2022-04-07T07:20:35.370111Z",
     "shell.execute_reply.started": "2022-04-07T07:20:34.885869Z"
    },
    "tags": []
   },
   "outputs": [
    {
     "data": {
      "application/vnd.jupyter.widget-view+json": {
       "model_id": "f1cea58ae6d74e66b6dbad7751e1e8f3",
       "version_major": 2,
       "version_minor": 0
      },
      "text/plain": [
       "VBox()"
      ]
     },
     "metadata": {},
     "output_type": "display_data"
    },
    {
     "data": {
      "application/vnd.jupyter.widget-view+json": {
       "model_id": "",
       "version_major": 2,
       "version_minor": 0
      },
      "text/plain": [
       "FloatProgress(value=0.0, bar_style='info', description='Progress:', layout=Layout(height='25px', width='50%'),…"
      ]
     },
     "metadata": {},
     "output_type": "display_data"
    }
   ],
   "source": [
    "rgtoken = RegexTokenizer(inputCol=\"text\",outputCol=\"words\",pattern=\"\\\\W\")\n",
    "token = Tokenizer(inputCol= \"words\", outputCol = \"tokens\")\n"
   ]
  },
  {
   "cell_type": "code",
   "execution_count": null,
   "id": "e68b06f7-f5dc-4dde-836e-5a3a2cb5ff37",
   "metadata": {},
   "outputs": [],
   "source": []
  },
  {
   "cell_type": "code",
   "execution_count": 14,
   "id": "48e523b4-bf85-42bf-91a1-0a2a307db9a2",
   "metadata": {
    "execution": {
     "iopub.execute_input": "2022-04-07T07:20:35.371834Z",
     "iopub.status.busy": "2022-04-07T07:20:35.371644Z",
     "iopub.status.idle": "2022-04-07T07:20:35.423043Z",
     "shell.execute_reply": "2022-04-07T07:20:35.422520Z",
     "shell.execute_reply.started": "2022-04-07T07:20:35.371812Z"
    },
    "tags": []
   },
   "outputs": [
    {
     "data": {
      "application/vnd.jupyter.widget-view+json": {
       "model_id": "8c4ba041f63943868ebfa0571c9a5146",
       "version_major": 2,
       "version_minor": 0
      },
      "text/plain": [
       "VBox()"
      ]
     },
     "metadata": {},
     "output_type": "display_data"
    },
    {
     "data": {
      "application/vnd.jupyter.widget-view+json": {
       "model_id": "",
       "version_major": 2,
       "version_minor": 0
      },
      "text/plain": [
       "FloatProgress(value=0.0, bar_style='info', description='Progress:', layout=Layout(height='25px', width='50%'),…"
      ]
     },
     "metadata": {},
     "output_type": "display_data"
    }
   ],
   "source": [
    "# from nltk.corpus import stopwords\n",
    "# eng_stopwords = stopwords.words('english')"
   ]
  },
  {
   "cell_type": "code",
   "execution_count": 15,
   "id": "712b982c-3ef5-4a6b-b640-0ac8d86085a0",
   "metadata": {
    "execution": {
     "iopub.execute_input": "2022-04-07T07:20:35.423977Z",
     "iopub.status.busy": "2022-04-07T07:20:35.423800Z",
     "iopub.status.idle": "2022-04-07T07:20:35.480812Z",
     "shell.execute_reply": "2022-04-07T07:20:35.480308Z",
     "shell.execute_reply.started": "2022-04-07T07:20:35.423955Z"
    },
    "tags": []
   },
   "outputs": [
    {
     "data": {
      "application/vnd.jupyter.widget-view+json": {
       "model_id": "b6ee1cab4ca24b2a9306a10cd51705e9",
       "version_major": 2,
       "version_minor": 0
      },
      "text/plain": [
       "VBox()"
      ]
     },
     "metadata": {},
     "output_type": "display_data"
    },
    {
     "data": {
      "application/vnd.jupyter.widget-view+json": {
       "model_id": "",
       "version_major": 2,
       "version_minor": 0
      },
      "text/plain": [
       "FloatProgress(value=0.0, bar_style='info', description='Progress:', layout=Layout(height='25px', width='50%'),…"
      ]
     },
     "metadata": {},
     "output_type": "display_data"
    }
   ],
   "source": [
    "# len(eng_stopwords)"
   ]
  },
  {
   "cell_type": "code",
   "execution_count": 16,
   "id": "c6fa9416-5710-48e3-8039-08f44edcb36f",
   "metadata": {
    "execution": {
     "iopub.execute_input": "2022-04-07T07:20:35.482630Z",
     "iopub.status.busy": "2022-04-07T07:20:35.482462Z",
     "iopub.status.idle": "2022-04-07T07:20:35.550851Z",
     "shell.execute_reply": "2022-04-07T07:20:35.550281Z",
     "shell.execute_reply.started": "2022-04-07T07:20:35.482609Z"
    },
    "tags": []
   },
   "outputs": [
    {
     "data": {
      "application/vnd.jupyter.widget-view+json": {
       "model_id": "13c75f9af42a43ddbc9e5ac14dac9eb2",
       "version_major": 2,
       "version_minor": 0
      },
      "text/plain": [
       "VBox()"
      ]
     },
     "metadata": {},
     "output_type": "display_data"
    },
    {
     "data": {
      "application/vnd.jupyter.widget-view+json": {
       "model_id": "",
       "version_major": 2,
       "version_minor": 0
      },
      "text/plain": [
       "FloatProgress(value=0.0, bar_style='info', description='Progress:', layout=Layout(height='25px', width='50%'),…"
      ]
     },
     "metadata": {},
     "output_type": "display_data"
    }
   ],
   "source": [
    "stops = [\"0o\", \"0s\", \"3a\", \"3b\", \"3d\", \"6b\", \"6o\", \"a\", \"a1\", \"a2\", \"a3\", \"a4\", \"ab\", \"able\", \"about\", \"above\", \"abst\", \"ac\", \"accordance\", \"according\", \"accordingly\", \"across\", \"act\", \"actually\", \"ad\", \"added\", \"adj\", \"ae\", \"af\", \"affected\", \"affecting\", \"affects\", \"after\", \"afterwards\", \"ag\", \"again\", \"against\", \"ah\", \"ain\", \"ain't\", \"aj\", \"al\", \"all\", \"allow\", \"allows\", \"almost\", \"alone\", \"along\", \"already\", \"also\", \"although\", \"always\", \"am\", \"among\", \"amongst\", \"amoungst\", \"amount\", \"an\", \"and\", \"announce\", \"another\", \"any\", \"anybody\", \"anyhow\", \"anymore\", \"anyone\", \"anything\", \"anyway\", \"anyways\", \"anywhere\", \"ao\", \"ap\", \"apart\", \"apparently\", \"appear\", \"appreciate\", \"appropriate\", \"approximately\", \"ar\", \"are\", \"aren\", \"arent\", \"aren't\", \"arise\", \"around\", \"as\", \"a's\", \"aside\", \"ask\", \"asking\", \"associated\", \"at\", \"au\", \"auth\", \"av\", \"available\", \"aw\", \"away\", \"awfully\", \"ax\", \"ay\", \"az\", \"b\", \"b1\", \"b2\", \"b3\", \"ba\", \"back\", \"bc\", \"bd\", \"be\", \"became\", \"because\", \"become\", \"becomes\", \"becoming\", \"been\", \"before\", \"beforehand\", \"begin\", \"beginning\", \"beginnings\", \"begins\", \"behind\", \"being\", \"believe\", \"below\", \"beside\", \"besides\", \"best\", \"better\", \"between\", \"beyond\", \"bi\", \"bill\", \"biol\", \"bj\", \"bk\", \"bl\", \"bn\", \"both\", \"bottom\", \"bp\", \"br\", \"brief\", \"briefly\", \"bs\", \"bt\", \"bu\", \"but\", \"bx\", \"by\", \"c\", \"c1\", \"c2\", \"c3\", \"ca\", \"call\", \"came\", \"can\", \"cannot\", \"cant\", \"can't\", \"cause\", \"causes\", \"cc\", \"cd\", \"ce\", \"certain\", \"certainly\", \"cf\", \"cg\", \"ch\", \"changes\", \"ci\", \"cit\", \"cj\", \"cl\", \"clearly\", \"cm\", \"c'mon\", \"cn\", \"co\", \"com\", \"come\", \"comes\", \"con\", \"concerning\", \"consequently\", \"consider\", \"considering\", \"contain\", \"containing\", \"contains\", \"corresponding\", \"could\", \"couldn\", \"couldnt\", \"couldn't\", \"course\", \"cp\", \"cq\", \"cr\", \"cry\", \"cs\", \"c's\", \"ct\", \"cu\", \"currently\", \"cv\", \"cx\", \"cy\", \"cz\", \"d\", \"d2\", \"da\", \"date\", \"dc\", \"dd\", \"de\", \"definitely\", \"describe\", \"described\", \"despite\", \"detail\", \"df\", \"di\", \"did\", \"didn\", \"didn't\", \"different\", \"dj\", \"dk\", \"dl\", \"do\", \"does\", \"doesn\", \"doesn't\", \"doing\", \"don\", \"done\", \"don't\", \"down\", \"downwards\", \"dp\", \"dr\", \"ds\", \"dt\", \"du\", \"due\", \"during\", \"dx\", \"dy\", \"e\", \"e2\", \"e3\", \"ea\", \"each\", \"ec\", \"ed\", \"edu\", \"ee\", \"ef\", \"effect\", \"eg\", \"ei\", \"eight\", \"eighty\", \"either\", \"ej\", \"el\", \"eleven\", \"else\", \"elsewhere\", \"em\", \"empty\", \"en\", \"end\", \"ending\", \"enough\", \"entirely\", \"eo\", \"ep\", \"eq\", \"er\", \"es\", \"especially\", \"est\", \"et\", \"et-al\", \"etc\", \"eu\", \"ev\", \"even\", \"ever\", \"every\", \"everybody\", \"everyone\", \"everything\", \"everywhere\", \"ex\", \"exactly\", \"example\", \"except\", \"ey\", \"f\", \"f2\", \"fa\", \"far\", \"fc\", \"few\", \"ff\", \"fi\", \"fifteen\", \"fifth\", \"fify\", \"fill\", \"find\", \"fire\", \"first\", \"five\", \"fix\", \"fj\", \"fl\", \"fn\", \"fo\", \"followed\", \"following\", \"follows\", \"for\", \"former\", \"formerly\", \"forth\", \"forty\", \"found\", \"four\", \"fr\", \"from\", \"front\", \"fs\", \"ft\", \"fu\", \"full\", \"further\", \"furthermore\", \"fy\", \"g\", \"ga\", \"gave\", \"ge\", \"get\", \"gets\", \"getting\", \"gi\", \"give\", \"given\", \"gives\", \"giving\", \"gj\", \"gl\", \"go\", \"goes\", \"going\", \"gone\", \"got\", \"gotten\", \"gr\", \"greetings\", \"gs\", \"gy\", \"h\", \"h2\", \"h3\", \"had\", \"hadn\", \"hadn't\", \"happens\", \"hardly\", \"has\", \"hasn\", \"hasnt\", \"hasn't\", \"have\", \"haven\", \"haven't\", \"having\", \"he\", \"hed\", \"he'd\", \"he'll\", \"hello\", \"help\", \"hence\", \"her\", \"here\", \"hereafter\", \"hereby\", \"herein\", \"heres\", \"here's\", \"hereupon\", \"hers\", \"herself\", \"hes\", \"he's\", \"hh\", \"hi\", \"hid\", \"him\", \"himself\", \"his\", \"hither\", \"hj\", \"ho\", \"home\", \"hopefully\", \"how\", \"howbeit\", \"however\", \"how's\", \"hr\", \"hs\", \"http\", \"hu\", \"hundred\", \"hy\", \"i\", \"i2\", \"i3\", \"i4\", \"i6\", \"i7\", \"i8\", \"ia\", \"ib\", \"ibid\", \"ic\", \"id\", \"i'd\", \"ie\", \"if\", \"ig\", \"ignored\", \"ih\", \"ii\", \"ij\", \"il\", \"i'll\", \"im\", \"i'm\", \"immediate\", \"immediately\", \"importance\", \"important\", \"in\", \"inasmuch\", \"inc\", \"indeed\", \"index\", \"indicate\", \"indicated\", \"indicates\", \"information\", \"inner\", \"insofar\", \"instead\", \"interest\", \"into\", \"invention\", \"inward\", \"io\", \"ip\", \"iq\", \"ir\", \"is\", \"isn\", \"isn't\", \"it\", \"itd\", \"it'd\", \"it'll\", \"its\", \"it's\", \"itself\", \"iv\", \"i've\", \"ix\", \"iy\", \"iz\", \"j\", \"jj\", \"jr\", \"js\", \"jt\", \"ju\", \"just\", \"k\", \"ke\", \"keep\", \"keeps\", \"kept\", \"kg\", \"kj\", \"km\", \"know\", \"known\", \"knows\", \"ko\", \"l\", \"l2\", \"la\", \"largely\", \"last\", \"lately\", \"later\", \"latter\", \"latterly\", \"lb\", \"lc\", \"le\", \"least\", \"les\", \"less\", \"lest\", \"let\", \"lets\", \"let's\", \"lf\", \"like\", \"liked\", \"likely\", \"line\", \"little\", \"lj\", \"ll\", \"ll\", \"ln\", \"lo\", \"look\", \"looking\", \"looks\", \"los\", \"lr\", \"ls\", \"lt\", \"ltd\", \"m\", \"m2\", \"ma\", \"made\", \"mainly\", \"make\", \"makes\", \"many\", \"may\", \"maybe\", \"me\", \"mean\", \"means\", \"meantime\", \"meanwhile\", \"merely\", \"mg\", \"might\", \"mightn\", \"mightn't\", \"mill\", \"million\", \"mine\", \"miss\", \"ml\", \"mn\", \"mo\", \"more\", \"moreover\", \"most\", \"mostly\", \"move\", \"mr\", \"mrs\", \"ms\", \"mt\", \"mu\", \"much\", \"mug\", \"must\", \"mustn\", \"mustn't\", \"my\", \"myself\", \"n\", \"n2\", \"na\", \"name\", \"namely\", \"nay\", \"nc\", \"nd\", \"ne\", \"near\", \"nearly\", \"necessarily\", \"necessary\", \"need\", \"needn\", \"needn't\", \"needs\", \"neither\", \"never\", \"nevertheless\", \"new\", \"next\", \"ng\", \"ni\", \"nine\", \"ninety\", \"nj\", \"nl\", \"nn\", \"no\", \"nobody\", \"non\", \"none\", \"nonetheless\", \"noone\", \"nor\", \"normally\", \"nos\", \"not\", \"noted\", \"nothing\", \"novel\", \"now\", \"nowhere\", \"nr\", \"ns\", \"nt\", \"ny\", \"o\", \"oa\", \"ob\", \"obtain\", \"obtained\", \"obviously\", \"oc\", \"od\", \"of\", \"off\", \"often\", \"og\", \"oh\", \"oi\", \"oj\", \"ok\", \"okay\", \"ol\", \"old\", \"om\", \"omitted\", \"on\", \"once\", \"one\", \"ones\", \"only\", \"onto\", \"oo\", \"op\", \"oq\", \"or\", \"ord\", \"os\", \"ot\", \"other\", \"others\", \"otherwise\", \"ou\", \"ought\", \"our\", \"ours\", \"ourselves\", \"out\", \"outside\", \"over\", \"overall\", \"ow\", \"owing\", \"own\", \"ox\", \"oz\", \"p\", \"p1\", \"p2\", \"p3\", \"page\", \"pagecount\", \"pages\", \"par\", \"part\", \"particular\", \"particularly\", \"pas\", \"past\", \"pc\", \"pd\", \"pe\", \"per\", \"perhaps\", \"pf\", \"ph\", \"pi\", \"pj\", \"pk\", \"pl\", \"placed\", \"please\", \"plus\", \"pm\", \"pn\", \"po\", \"poorly\", \"possible\", \"possibly\", \"potentially\", \"pp\", \"pq\", \"pr\", \"predominantly\", \"present\", \"presumably\", \"previously\", \"primarily\", \"probably\", \"promptly\", \"proud\", \"provides\", \"ps\", \"pt\", \"pu\", \"put\", \"py\", \"q\", \"qj\", \"qu\", \"que\", \"quickly\", \"quite\", \"qv\", \"r\", \"r2\", \"ra\", \"ran\", \"rather\", \"rc\", \"rd\", \"re\", \"readily\", \"really\", \"reasonably\", \"recent\", \"recently\", \"ref\", \"refs\", \"regarding\", \"regardless\", \"regards\", \"related\", \"relatively\", \"research\", \"research-articl\", \"respectively\", \"resulted\", \"resulting\", \"results\", \"rf\", \"rh\", \"ri\", \"right\", \"rj\", \"rl\", \"rm\", \"rn\", \"ro\", \"rq\", \"rr\", \"rs\", \"rt\", \"ru\", \"run\", \"rv\", \"ry\", \"s\", \"s2\", \"sa\", \"said\", \"same\", \"saw\", \"say\", \"saying\", \"says\", \"sc\", \"sd\", \"se\", \"sec\", \"second\", \"secondly\", \"section\", \"see\", \"seeing\", \"seem\", \"seemed\", \"seeming\", \"seems\", \"seen\", \"self\", \"selves\", \"sensible\", \"sent\", \"serious\", \"seriously\", \"seven\", \"several\", \"sf\", \"shall\", \"shan\", \"shan't\", \"she\", \"shed\", \"she'd\", \"she'll\", \"shes\", \"she's\", \"should\", \"shouldn\", \"shouldn't\", \"should've\", \"show\", \"showed\", \"shown\", \"showns\", \"shows\", \"si\", \"side\", \"significant\", \"significantly\", \"similar\", \"similarly\", \"since\", \"sincere\", \"six\", \"sixty\", \"sj\", \"sl\", \"slightly\", \"sm\", \"sn\", \"so\", \"some\", \"somebody\", \"somehow\", \"someone\", \"somethan\", \"something\", \"sometime\", \"sometimes\", \"somewhat\", \"somewhere\", \"soon\", \"sorry\", \"sp\", \"specifically\", \"specified\", \"specify\", \"specifying\", \"sq\", \"sr\", \"ss\", \"st\", \"still\", \"stop\", \"strongly\", \"sub\", \"substantially\", \"successfully\", \"such\", \"sufficiently\", \"suggest\", \"sup\", \"sure\", \"sy\", \"system\", \"sz\", \"t\", \"t1\", \"t2\", \"t3\", \"take\", \"taken\", \"taking\", \"tb\", \"tc\", \"td\", \"te\", \"tell\", \"ten\", \"tends\", \"tf\", \"th\", \"than\", \"thank\", \"thanks\", \"thanx\", \"that\", \"that'll\", \"thats\", \"that's\", \"that've\", \"the\", \"their\", \"theirs\", \"them\", \"themselves\", \"then\", \"thence\", \"there\", \"thereafter\", \"thereby\", \"thered\", \"therefore\", \"therein\", \"there'll\", \"thereof\", \"therere\", \"theres\", \"there's\", \"thereto\", \"thereupon\", \"there've\", \"these\", \"they\", \"theyd\", \"they'd\", \"they'll\", \"theyre\", \"they're\", \"they've\", \"thickv\", \"thin\", \"think\", \"third\", \"this\", \"thorough\", \"thoroughly\", \"those\", \"thou\", \"though\", \"thoughh\", \"thousand\", \"three\", \"throug\", \"through\", \"throughout\", \"thru\", \"thus\", \"ti\", \"til\", \"tip\", \"tj\", \"tl\", \"tm\", \"tn\", \"to\", \"together\", \"too\", \"took\", \"top\", \"toward\", \"towards\", \"tp\", \"tq\", \"tr\", \"tried\", \"tries\", \"truly\", \"try\", \"trying\", \"ts\", \"t's\", \"tt\", \"tv\", \"twelve\", \"twenty\", \"twice\", \"two\", \"tx\", \"u\", \"u201d\", \"ue\", \"ui\", \"uj\", \"uk\", \"um\", \"un\", \"under\", \"unfortunately\", \"unless\", \"unlike\", \"unlikely\", \"until\", \"unto\", \"uo\", \"up\", \"upon\", \"ups\", \"ur\", \"us\", \"use\", \"used\", \"useful\", \"usefully\", \"usefulness\", \"uses\", \"using\", \"usually\", \"ut\", \"v\", \"va\", \"value\", \"various\", \"vd\", \"ve\", \"ve\", \"very\", \"via\", \"viz\", \"vj\", \"vo\", \"vol\", \"vols\", \"volumtype\", \"vq\", \"vs\", \"vt\", \"vu\", \"w\", \"wa\", \"want\", \"wants\", \"was\", \"wasn\", \"wasnt\", \"wasn't\", \"way\", \"we\", \"wed\", \"we'd\", \"welcome\", \"well\", \"we'll\", \"well-b\", \"went\", \"were\", \"we're\", \"weren\", \"werent\", \"weren't\", \"we've\", \"what\", \"whatever\", \"what'll\", \"whats\", \"what's\", \"when\", \"whence\", \"whenever\", \"when's\", \"where\", \"whereafter\", \"whereas\", \"whereby\", \"wherein\", \"wheres\", \"where's\", \"whereupon\", \"wherever\", \"whether\", \"which\", \"while\", \"whim\", \"whither\", \"who\", \"whod\", \"whoever\", \"whole\", \"who'll\", \"whom\", \"whomever\", \"whos\", \"who's\", \"whose\", \"why\", \"why's\", \"wi\", \"widely\", \"will\", \"willing\", \"wish\", \"with\", \"within\", \"without\", \"wo\", \"won\", \"wonder\", \"wont\", \"won't\", \"words\", \"world\", \"would\", \"wouldn\", \"wouldnt\", \"wouldn't\", \"www\", \"x\", \"x1\", \"x2\", \"x3\", \"xf\", \"xi\", \"xj\", \"xk\", \"xl\", \"xn\", \"xo\", \"xs\", \"xt\", \"xv\", \"xx\", \"y\", \"y2\", \"yes\", \"yet\", \"yj\", \"yl\", \"you\", \"youd\", \"you'd\", \"you'll\", \"your\", \"youre\", \"you're\", \"yours\", \"yourself\", \"yourselves\", \"you've\", \"yr\", \"ys\", \"yt\", \"z\", \"zero\", \"zi\", \"zz\"]"
   ]
  },
  {
   "cell_type": "code",
   "execution_count": 20,
   "id": "31b58487-df1c-42cb-9e4b-06369189eaaf",
   "metadata": {
    "execution": {
     "iopub.execute_input": "2022-04-07T07:21:05.960692Z",
     "iopub.status.busy": "2022-04-07T07:21:05.960468Z",
     "iopub.status.idle": "2022-04-07T07:21:06.228819Z",
     "shell.execute_reply": "2022-04-07T07:21:06.228207Z",
     "shell.execute_reply.started": "2022-04-07T07:21:05.960669Z"
    },
    "tags": []
   },
   "outputs": [
    {
     "data": {
      "application/vnd.jupyter.widget-view+json": {
       "model_id": "239ccf03c86c49229c31b0ed0db32edc",
       "version_major": 2,
       "version_minor": 0
      },
      "text/plain": [
       "VBox()"
      ]
     },
     "metadata": {},
     "output_type": "display_data"
    },
    {
     "data": {
      "application/vnd.jupyter.widget-view+json": {
       "model_id": "",
       "version_major": 2,
       "version_minor": 0
      },
      "text/plain": [
       "FloatProgress(value=0.0, bar_style='info', description='Progress:', layout=Layout(height='25px', width='50%'),…"
      ]
     },
     "metadata": {},
     "output_type": "display_data"
    }
   ],
   "source": [
    "stopword_remover = StopWordsRemover(inputCol=\"words\", outputCol=\"filtered\")\\\n",
    "                    .setStopWords(stops)"
   ]
  },
  {
   "cell_type": "code",
   "execution_count": 21,
   "id": "403eb215-a5d7-4b69-897e-faa290aa8fb0",
   "metadata": {
    "execution": {
     "iopub.execute_input": "2022-04-07T07:21:06.881331Z",
     "iopub.status.busy": "2022-04-07T07:21:06.881106Z",
     "iopub.status.idle": "2022-04-07T07:21:06.939324Z",
     "shell.execute_reply": "2022-04-07T07:21:06.938683Z",
     "shell.execute_reply.started": "2022-04-07T07:21:06.881307Z"
    },
    "tags": []
   },
   "outputs": [
    {
     "data": {
      "application/vnd.jupyter.widget-view+json": {
       "model_id": "7e2134c5d3c2403db2b41bd15af614f2",
       "version_major": 2,
       "version_minor": 0
      },
      "text/plain": [
       "VBox()"
      ]
     },
     "metadata": {},
     "output_type": "display_data"
    },
    {
     "data": {
      "application/vnd.jupyter.widget-view+json": {
       "model_id": "",
       "version_major": 2,
       "version_minor": 0
      },
      "text/plain": [
       "FloatProgress(value=0.0, bar_style='info', description='Progress:', layout=Layout(height='25px', width='50%'),…"
      ]
     },
     "metadata": {},
     "output_type": "display_data"
    }
   ],
   "source": [
    "class PorterStemming(Transformer, HasInputCol, HasOutputCol):\n",
    "    \"\"\"\n",
    "    PosterStemming class using the NLTK Porter Stemmer\n",
    "    \n",
    "    This comes from https://stackoverflow.com/questions/32331848/create-a-custom-transformer-in-pyspark-ml\n",
    "    Adapted to work with the Porter Stemmer from NLTK.\n",
    "    \"\"\"\n",
    "    \n",
    "    @keyword_only\n",
    "    def __init__(self, \n",
    "                 inputCol  : str = None, \n",
    "                 outputCol : str = None, \n",
    "                 min_size  : int = None):\n",
    "        \"\"\"\n",
    "        Constructor takes in the input column name, output column name,\n",
    "        plus the minimum legnth of a token (min_size)\n",
    "        \"\"\"\n",
    "        # call Transformer classes constructor since were extending it.\n",
    "        super(Transformer, self).__init__()\n",
    "\n",
    "        # set Parameter objects minimum token size\n",
    "        self.min_size = Param(self, \"min_size\", \"\")\n",
    "        self._setDefault(min_size=0)\n",
    "\n",
    "        # set the input keywork arguments\n",
    "        kwargs = self._input_kwargs\n",
    "        self.setParams(**kwargs)\n",
    "\n",
    "        # initialize Stemmer object\n",
    "        self.stemmer  = PorterStemmer()\n",
    "\n",
    "        \n",
    "    @keyword_only\n",
    "    def setParams(self, \n",
    "                  inputCol  : str = None, \n",
    "                  outputCol : str = None, \n",
    "                  min_size  : int = None\n",
    "      ) -> None:\n",
    "        \"\"\"\n",
    "        Function to set the keyword arguemnts\n",
    "        \"\"\"\n",
    "        kwargs = self._input_kwargs\n",
    "        return self._set(**kwargs)\n",
    "    \n",
    "\n",
    "    def _stem_func(self, words  : list) -> list:\n",
    "        \"\"\"\n",
    "        Stemmer function call that performs stemming on a\n",
    "        list of tokens in words and returns a list of tokens\n",
    "        that have meet the minimum length requiremnt.\n",
    "        \"\"\"\n",
    "        # We need a way to get min_size and cannot access it \n",
    "        # with self.min_size\n",
    "        min_size       = self.getMinSize()\n",
    "\n",
    "        # stem that actual tokens by applying \n",
    "        # self.stemmer.stem function to each token in \n",
    "        # the words list\n",
    "        stemmed_words  = map(self.stemmer.stem, words)\n",
    "\n",
    "        # now create the new list of tokens from\n",
    "        # stemmed_words by filtering out those\n",
    "        # that are not of legnth > min_size\n",
    "        filtered_words = filter(lambda x: len(x) > min_size, stemmed_words)\n",
    "\n",
    "        return list(filtered_words)\n",
    "    \n",
    "    def _transform(self, df: DataFrame) -> DataFrame:\n",
    "        \"\"\"\n",
    "        Transform function is the method that is called in the \n",
    "        MLPipleline.  We have to override this function for our own use\n",
    "        and have it call the _stem_func.\n",
    "\n",
    "        Notice how it takes in a type DataFrame and returns type Dataframe\n",
    "        \"\"\"\n",
    "        # Get the names of the input and output columns to use\n",
    "        out_col       = self.getOutputCol()\n",
    "        in_col        = self.getInputCol()\n",
    "\n",
    "        # create the stemming function UDF by wrapping the stemmer \n",
    "        # method function\n",
    "        stem_func_udf = F.udf(self._stem_func, ArrayType(StringType()))\n",
    "        \n",
    "        # now apply that UDF to the column in the dataframe to return\n",
    "        # a new column that has the same list of words after being stemmed\n",
    "        df2           = df.withColumn(out_col, stem_func_udf(df[in_col]))\n",
    "\n",
    "        return df2\n",
    "  \n",
    "  \n",
    "    def setMinSize(self,value):\n",
    "        \"\"\"\n",
    "        This method sets the minimum size value\n",
    "        for the _paramMap dictionary.\n",
    "        \"\"\"\n",
    "        self._paramMap[self.min_size] = value\n",
    "        return self\n",
    "\n",
    "    def getMinSize(self) -> int:\n",
    "        \"\"\"\n",
    "        This method uses the parent classes (Transformer)\n",
    "        .getOrDefault method to get the minimum\n",
    "        size of a token.\n",
    "        \"\"\"\n",
    "        return self.getOrDefault(self.min_size)"
   ]
  },
  {
   "cell_type": "code",
   "execution_count": 22,
   "id": "2ee59edd-fc27-4fd3-adc1-7eed00721f1c",
   "metadata": {
    "execution": {
     "iopub.execute_input": "2022-04-07T07:21:07.326869Z",
     "iopub.status.busy": "2022-04-07T07:21:07.326655Z",
     "iopub.status.idle": "2022-04-07T07:21:07.380177Z",
     "shell.execute_reply": "2022-04-07T07:21:07.379586Z",
     "shell.execute_reply.started": "2022-04-07T07:21:07.326846Z"
    },
    "tags": []
   },
   "outputs": [
    {
     "data": {
      "application/vnd.jupyter.widget-view+json": {
       "model_id": "1cd8b462fe534b2e896967800601782f",
       "version_major": 2,
       "version_minor": 0
      },
      "text/plain": [
       "VBox()"
      ]
     },
     "metadata": {},
     "output_type": "display_data"
    },
    {
     "data": {
      "application/vnd.jupyter.widget-view+json": {
       "model_id": "",
       "version_major": 2,
       "version_minor": 0
      },
      "text/plain": [
       "FloatProgress(value=0.0, bar_style='info', description='Progress:', layout=Layout(height='25px', width='50%'),…"
      ]
     },
     "metadata": {},
     "output_type": "display_data"
    }
   ],
   "source": [
    "stem2 = PorterStemming(inputCol=\"filtered\", outputCol=\"stemmed\")"
   ]
  },
  {
   "cell_type": "code",
   "execution_count": 23,
   "id": "8ce5ee07-7f38-48fb-a539-f22e8c1c09a6",
   "metadata": {
    "execution": {
     "iopub.execute_input": "2022-04-07T07:21:07.688303Z",
     "iopub.status.busy": "2022-04-07T07:21:07.688044Z",
     "iopub.status.idle": "2022-04-07T07:21:07.740470Z",
     "shell.execute_reply": "2022-04-07T07:21:07.739883Z",
     "shell.execute_reply.started": "2022-04-07T07:21:07.688277Z"
    },
    "tags": []
   },
   "outputs": [
    {
     "data": {
      "application/vnd.jupyter.widget-view+json": {
       "model_id": "703f402d25804a53b88c5e6b4e2ed055",
       "version_major": 2,
       "version_minor": 0
      },
      "text/plain": [
       "VBox()"
      ]
     },
     "metadata": {},
     "output_type": "display_data"
    },
    {
     "data": {
      "application/vnd.jupyter.widget-view+json": {
       "model_id": "",
       "version_major": 2,
       "version_minor": 0
      },
      "text/plain": [
       "FloatProgress(value=0.0, bar_style='info', description='Progress:', layout=Layout(height='25px', width='50%'),…"
      ]
     },
     "metadata": {},
     "output_type": "display_data"
    }
   ],
   "source": [
    "# countVectors = CountVectorizer(inputCol=\"stemmed\", outputCol=\"features\", vocabSize=10000, minDF=5)"
   ]
  },
  {
   "cell_type": "code",
   "execution_count": 24,
   "id": "60bffebe-b73b-48a0-afca-a3c720cd83bb",
   "metadata": {
    "execution": {
     "iopub.execute_input": "2022-04-07T07:21:08.093203Z",
     "iopub.status.busy": "2022-04-07T07:21:08.092969Z",
     "iopub.status.idle": "2022-04-07T07:21:08.147696Z",
     "shell.execute_reply": "2022-04-07T07:21:08.147135Z",
     "shell.execute_reply.started": "2022-04-07T07:21:08.093179Z"
    },
    "tags": []
   },
   "outputs": [
    {
     "data": {
      "application/vnd.jupyter.widget-view+json": {
       "model_id": "a80ffb6709064a17a529f76501262ea5",
       "version_major": 2,
       "version_minor": 0
      },
      "text/plain": [
       "VBox()"
      ]
     },
     "metadata": {},
     "output_type": "display_data"
    },
    {
     "data": {
      "application/vnd.jupyter.widget-view+json": {
       "model_id": "",
       "version_major": 2,
       "version_minor": 0
      },
      "text/plain": [
       "FloatProgress(value=0.0, bar_style='info', description='Progress:', layout=Layout(height='25px', width='50%'),…"
      ]
     },
     "metadata": {},
     "output_type": "display_data"
    }
   ],
   "source": [
    "# pipeline  = Pipeline(stages=[rgtoken,stopword_remover,stem2,countVectors])"
   ]
  },
  {
   "cell_type": "code",
   "execution_count": 25,
   "id": "3b98d81a-bde0-4839-90b3-25ac00313d68",
   "metadata": {
    "execution": {
     "iopub.execute_input": "2022-04-07T07:21:08.458296Z",
     "iopub.status.busy": "2022-04-07T07:21:08.458074Z",
     "iopub.status.idle": "2022-04-07T07:21:08.514526Z",
     "shell.execute_reply": "2022-04-07T07:21:08.513984Z",
     "shell.execute_reply.started": "2022-04-07T07:21:08.458273Z"
    },
    "tags": []
   },
   "outputs": [
    {
     "data": {
      "application/vnd.jupyter.widget-view+json": {
       "model_id": "5cadaf2d832846a886735b375ecfcbcc",
       "version_major": 2,
       "version_minor": 0
      },
      "text/plain": [
       "VBox()"
      ]
     },
     "metadata": {},
     "output_type": "display_data"
    },
    {
     "data": {
      "application/vnd.jupyter.widget-view+json": {
       "model_id": "",
       "version_major": 2,
       "version_minor": 0
      },
      "text/plain": [
       "FloatProgress(value=0.0, bar_style='info', description='Progress:', layout=Layout(height='25px', width='50%'),…"
      ]
     },
     "metadata": {},
     "output_type": "display_data"
    }
   ],
   "source": [
    "pipeline  = Pipeline(stages=[rgtoken,stopword_remover,stem2])"
   ]
  },
  {
   "cell_type": "code",
   "execution_count": 26,
   "id": "37180637-6c2b-47af-89ea-5b97638e3702",
   "metadata": {
    "execution": {
     "iopub.execute_input": "2022-04-07T07:21:08.739480Z",
     "iopub.status.busy": "2022-04-07T07:21:08.739265Z",
     "iopub.status.idle": "2022-04-07T07:21:08.793196Z",
     "shell.execute_reply": "2022-04-07T07:21:08.792643Z",
     "shell.execute_reply.started": "2022-04-07T07:21:08.739458Z"
    },
    "tags": []
   },
   "outputs": [
    {
     "data": {
      "application/vnd.jupyter.widget-view+json": {
       "model_id": "5345829dd83e433185c36f7f8b31070f",
       "version_major": 2,
       "version_minor": 0
      },
      "text/plain": [
       "VBox()"
      ]
     },
     "metadata": {},
     "output_type": "display_data"
    },
    {
     "data": {
      "application/vnd.jupyter.widget-view+json": {
       "model_id": "",
       "version_major": 2,
       "version_minor": 0
      },
      "text/plain": [
       "FloatProgress(value=0.0, bar_style='info', description='Progress:', layout=Layout(height='25px', width='50%'),…"
      ]
     },
     "metadata": {},
     "output_type": "display_data"
    }
   ],
   "source": [
    "processed = pipeline.fit(review_df)"
   ]
  },
  {
   "cell_type": "code",
   "execution_count": 27,
   "id": "f974daef-5a33-4963-b762-9755b1a31eda",
   "metadata": {
    "execution": {
     "iopub.execute_input": "2022-04-07T07:21:08.986925Z",
     "iopub.status.busy": "2022-04-07T07:21:08.986703Z",
     "iopub.status.idle": "2022-04-07T07:21:09.757999Z",
     "shell.execute_reply": "2022-04-07T07:21:09.757434Z",
     "shell.execute_reply.started": "2022-04-07T07:21:08.986902Z"
    },
    "tags": []
   },
   "outputs": [
    {
     "data": {
      "application/vnd.jupyter.widget-view+json": {
       "model_id": "6adc29246d9b4b29ae8c9e7ecedaa5ea",
       "version_major": 2,
       "version_minor": 0
      },
      "text/plain": [
       "VBox()"
      ]
     },
     "metadata": {},
     "output_type": "display_data"
    },
    {
     "data": {
      "application/vnd.jupyter.widget-view+json": {
       "model_id": "",
       "version_major": 2,
       "version_minor": 0
      },
      "text/plain": [
       "FloatProgress(value=0.0, bar_style='info', description='Progress:', layout=Layout(height='25px', width='50%'),…"
      ]
     },
     "metadata": {},
     "output_type": "display_data"
    }
   ],
   "source": [
    "df_train = processed.transform(review_df)"
   ]
  },
  {
   "cell_type": "code",
   "execution_count": 28,
   "id": "72402304-9b14-4411-8633-7054b3145dc2",
   "metadata": {
    "execution": {
     "iopub.execute_input": "2022-04-07T07:21:09.759082Z",
     "iopub.status.busy": "2022-04-07T07:21:09.758897Z",
     "iopub.status.idle": "2022-04-07T07:21:13.043236Z",
     "shell.execute_reply": "2022-04-07T07:21:13.042587Z",
     "shell.execute_reply.started": "2022-04-07T07:21:09.759060Z"
    },
    "tags": []
   },
   "outputs": [
    {
     "data": {
      "application/vnd.jupyter.widget-view+json": {
       "model_id": "0f20c5cb19134f518961f371821fe8b2",
       "version_major": 2,
       "version_minor": 0
      },
      "text/plain": [
       "VBox()"
      ]
     },
     "metadata": {},
     "output_type": "display_data"
    },
    {
     "data": {
      "application/vnd.jupyter.widget-view+json": {
       "model_id": "",
       "version_major": 2,
       "version_minor": 0
      },
      "text/plain": [
       "FloatProgress(value=0.0, bar_style='info', description='Progress:', layout=Layout(height='25px', width='50%'),…"
      ]
     },
     "metadata": {},
     "output_type": "display_data"
    },
    {
     "name": "stdout",
     "output_type": "stream",
     "text": [
      "+--------------------+-----+--------------------+--------------------+--------------------+\n",
      "|                text|label|               words|            filtered|             stemmed|\n",
      "+--------------------+-----+--------------------+--------------------+--------------------+\n",
      "|What a great find...|    0|[what, a, great, ...|[great, piece, po...|[great, piec, por...|\n",
      "|The only reason I...|    0|[the, only, reaso...|[reason, stars, s...|[reason, star, st...|\n",
      "|It s fun that it ...|    0|[it, s, fun, that...|[fun, water, grea...|[fun, water, grea...|\n",
      "|I ve been to Smit...|    0|[i, ve, been, to,...|[smith, couple, t...|[smith, coupl, ti...|\n",
      "|We do love the fo...|    0|[we, do, love, th...|[love, food, remi...|[love, food, remi...|\n",
      "|This place was al...|    0|[this, place, was...|[place, alright, ...|[place, alright, ...|\n",
      "|Nice shopping exp...|    0|[nice, shopping, ...|[nice, shopping, ...|[nice, shop, expe...|\n",
      "|How do you downgr...|    0|[how, do, you, do...|[downgrade, laund...|[downgrad, laundr...|\n",
      "|Really fun place ...|    0|[really, fun, pla...|[fun, place, uniq...|[fun, place, uniq...|\n",
      "|Fresh OJ     The ...|    0|[fresh, oj, the, ...|[fresh, chorizo, ...|[fresh, chorizo, ...|\n",
      "+--------------------+-----+--------------------+--------------------+--------------------+\n",
      "only showing top 10 rows"
     ]
    }
   ],
   "source": [
    "df_train.show(10)"
   ]
  },
  {
   "cell_type": "code",
   "execution_count": 29,
   "id": "35ceecc9-411f-4147-b84b-28f50e75557c",
   "metadata": {
    "execution": {
     "iopub.execute_input": "2022-04-07T07:21:13.044621Z",
     "iopub.status.busy": "2022-04-07T07:21:13.044453Z",
     "iopub.status.idle": "2022-04-07T07:21:13.096013Z",
     "shell.execute_reply": "2022-04-07T07:21:13.095469Z",
     "shell.execute_reply.started": "2022-04-07T07:21:13.044599Z"
    },
    "tags": []
   },
   "outputs": [
    {
     "data": {
      "application/vnd.jupyter.widget-view+json": {
       "model_id": "f43d1d72ddcf40c68737f26aff1b3760",
       "version_major": 2,
       "version_minor": 0
      },
      "text/plain": [
       "VBox()"
      ]
     },
     "metadata": {},
     "output_type": "display_data"
    },
    {
     "data": {
      "application/vnd.jupyter.widget-view+json": {
       "model_id": "",
       "version_major": 2,
       "version_minor": 0
      },
      "text/plain": [
       "FloatProgress(value=0.0, bar_style='info', description='Progress:', layout=Layout(height='25px', width='50%'),…"
      ]
     },
     "metadata": {},
     "output_type": "display_data"
    }
   ],
   "source": [
    "df_train1 = df_train.select(\"stemmed\")"
   ]
  },
  {
   "cell_type": "code",
   "execution_count": 30,
   "id": "03c0a08d-c3d1-4c31-b16a-cbabb4efd2c5",
   "metadata": {
    "execution": {
     "iopub.execute_input": "2022-04-07T07:21:13.097176Z",
     "iopub.status.busy": "2022-04-07T07:21:13.097014Z",
     "iopub.status.idle": "2022-04-07T07:21:13.146832Z",
     "shell.execute_reply": "2022-04-07T07:21:13.146330Z",
     "shell.execute_reply.started": "2022-04-07T07:21:13.097154Z"
    },
    "tags": []
   },
   "outputs": [
    {
     "data": {
      "application/vnd.jupyter.widget-view+json": {
       "model_id": "d686fde1bad544baa7ffb26968d180b1",
       "version_major": 2,
       "version_minor": 0
      },
      "text/plain": [
       "VBox()"
      ]
     },
     "metadata": {},
     "output_type": "display_data"
    },
    {
     "data": {
      "application/vnd.jupyter.widget-view+json": {
       "model_id": "",
       "version_major": 2,
       "version_minor": 0
      },
      "text/plain": [
       "FloatProgress(value=0.0, bar_style='info', description='Progress:', layout=Layout(height='25px', width='50%'),…"
      ]
     },
     "metadata": {},
     "output_type": "display_data"
    }
   ],
   "source": [
    "# df_train.write.parquet(\"s3://mukeshproj/Topic_modelling_pipeline_backup/topic_modelling_parquet_pipeline/shrink_data_piprline_backup\")"
   ]
  },
  {
   "cell_type": "code",
   "execution_count": 31,
   "id": "7d99bff0-ab19-4947-9641-bb89b4414a9f",
   "metadata": {
    "execution": {
     "iopub.execute_input": "2022-04-07T07:21:13.147747Z",
     "iopub.status.busy": "2022-04-07T07:21:13.147586Z",
     "iopub.status.idle": "2022-04-07T07:21:13.205744Z",
     "shell.execute_reply": "2022-04-07T07:21:13.205209Z",
     "shell.execute_reply.started": "2022-04-07T07:21:13.147727Z"
    },
    "tags": []
   },
   "outputs": [
    {
     "data": {
      "application/vnd.jupyter.widget-view+json": {
       "model_id": "53d575d0f7214ad18d400bf27b514a26",
       "version_major": 2,
       "version_minor": 0
      },
      "text/plain": [
       "VBox()"
      ]
     },
     "metadata": {},
     "output_type": "display_data"
    },
    {
     "data": {
      "application/vnd.jupyter.widget-view+json": {
       "model_id": "",
       "version_major": 2,
       "version_minor": 0
      },
      "text/plain": [
       "FloatProgress(value=0.0, bar_style='info', description='Progress:', layout=Layout(height='25px', width='50%'),…"
      ]
     },
     "metadata": {},
     "output_type": "display_data"
    }
   ],
   "source": [
    "# df_train= spark.read.parquet(\"hdfs:///review_shrunk_pipeline/\")"
   ]
  },
  {
   "cell_type": "code",
   "execution_count": 32,
   "id": "eaee4130-cfdb-47f7-b270-ee3adf72e2b5",
   "metadata": {
    "execution": {
     "iopub.execute_input": "2022-04-07T07:21:13.206762Z",
     "iopub.status.busy": "2022-04-07T07:21:13.206592Z",
     "iopub.status.idle": "2022-04-07T07:21:15.489156Z",
     "shell.execute_reply": "2022-04-07T07:21:15.488524Z",
     "shell.execute_reply.started": "2022-04-07T07:21:13.206741Z"
    },
    "tags": []
   },
   "outputs": [
    {
     "data": {
      "application/vnd.jupyter.widget-view+json": {
       "model_id": "1824fe2edcf5441491d811e77d086c42",
       "version_major": 2,
       "version_minor": 0
      },
      "text/plain": [
       "VBox()"
      ]
     },
     "metadata": {},
     "output_type": "display_data"
    },
    {
     "data": {
      "application/vnd.jupyter.widget-view+json": {
       "model_id": "",
       "version_major": 2,
       "version_minor": 0
      },
      "text/plain": [
       "FloatProgress(value=0.0, bar_style='info', description='Progress:', layout=Layout(height='25px', width='50%'),…"
      ]
     },
     "metadata": {},
     "output_type": "display_data"
    },
    {
     "name": "stdout",
     "output_type": "stream",
     "text": [
      "+--------------------+\n",
      "|             stemmed|\n",
      "+--------------------+\n",
      "|[great, piec, por...|\n",
      "|[reason, star, st...|\n",
      "|[fun, water, grea...|\n",
      "|[smith, coupl, ti...|\n",
      "|[love, food, remi...|\n",
      "+--------------------+\n",
      "only showing top 5 rows"
     ]
    }
   ],
   "source": [
    "df_train1.show(5)"
   ]
  },
  {
   "cell_type": "code",
   "execution_count": 33,
   "id": "1b8b0077-0a45-4850-8484-fc130955c589",
   "metadata": {
    "execution": {
     "iopub.execute_input": "2022-04-07T07:21:15.490580Z",
     "iopub.status.busy": "2022-04-07T07:21:15.490353Z",
     "iopub.status.idle": "2022-04-07T07:21:15.698114Z",
     "shell.execute_reply": "2022-04-07T07:21:15.697508Z",
     "shell.execute_reply.started": "2022-04-07T07:21:15.490545Z"
    },
    "tags": []
   },
   "outputs": [
    {
     "data": {
      "application/vnd.jupyter.widget-view+json": {
       "model_id": "9a6d384a77fc4b579e10846ad7b8acba",
       "version_major": 2,
       "version_minor": 0
      },
      "text/plain": [
       "VBox()"
      ]
     },
     "metadata": {},
     "output_type": "display_data"
    },
    {
     "data": {
      "application/vnd.jupyter.widget-view+json": {
       "model_id": "",
       "version_major": 2,
       "version_minor": 0
      },
      "text/plain": [
       "FloatProgress(value=0.0, bar_style='info', description='Progress:', layout=Layout(height='25px', width='50%'),…"
      ]
     },
     "metadata": {},
     "output_type": "display_data"
    }
   ],
   "source": [
    "cv = CountVectorizer(inputCol=\"stemmed\", outputCol=\"features\", vocabSize=10000, minDF=3.0)"
   ]
  },
  {
   "cell_type": "code",
   "execution_count": 34,
   "id": "e2d03493-d485-4897-bd99-07a66e3eed43",
   "metadata": {
    "execution": {
     "iopub.execute_input": "2022-04-07T07:21:15.699724Z",
     "iopub.status.busy": "2022-04-07T07:21:15.699564Z",
     "iopub.status.idle": "2022-04-07T07:34:48.976171Z",
     "shell.execute_reply": "2022-04-07T07:34:48.975413Z",
     "shell.execute_reply.started": "2022-04-07T07:21:15.699704Z"
    },
    "tags": []
   },
   "outputs": [
    {
     "data": {
      "application/vnd.jupyter.widget-view+json": {
       "model_id": "e4615d05bfb24e119b17f8fbc540b35f",
       "version_major": 2,
       "version_minor": 0
      },
      "text/plain": [
       "VBox()"
      ]
     },
     "metadata": {},
     "output_type": "display_data"
    },
    {
     "data": {
      "application/vnd.jupyter.widget-view+json": {
       "model_id": "",
       "version_major": 2,
       "version_minor": 0
      },
      "text/plain": [
       "FloatProgress(value=0.0, bar_style='info', description='Progress:', layout=Layout(height='25px', width='50%'),…"
      ]
     },
     "metadata": {},
     "output_type": "display_data"
    }
   ],
   "source": [
    "cv_model = cv.fit(df_train1)"
   ]
  },
  {
   "cell_type": "code",
   "execution_count": 35,
   "id": "4678ee40-3790-4ed4-bf17-41fe8ab01722",
   "metadata": {
    "execution": {
     "iopub.execute_input": "2022-04-07T07:34:48.980314Z",
     "iopub.status.busy": "2022-04-07T07:34:48.977686Z",
     "iopub.status.idle": "2022-04-07T07:34:49.240329Z",
     "shell.execute_reply": "2022-04-07T07:34:49.239399Z",
     "shell.execute_reply.started": "2022-04-07T07:34:48.980275Z"
    },
    "tags": []
   },
   "outputs": [
    {
     "data": {
      "application/vnd.jupyter.widget-view+json": {
       "model_id": "10784c39e9d04709a4facb80e0cdbb8f",
       "version_major": 2,
       "version_minor": 0
      },
      "text/plain": [
       "VBox()"
      ]
     },
     "metadata": {},
     "output_type": "display_data"
    },
    {
     "data": {
      "application/vnd.jupyter.widget-view+json": {
       "model_id": "",
       "version_major": 2,
       "version_minor": 0
      },
      "text/plain": [
       "FloatProgress(value=0.0, bar_style='info', description='Progress:', layout=Layout(height='25px', width='50%'),…"
      ]
     },
     "metadata": {},
     "output_type": "display_data"
    }
   ],
   "source": [
    "vectorized_tokens = cv_model.transform(df_train1)"
   ]
  },
  {
   "cell_type": "code",
   "execution_count": 36,
   "id": "5039ca7a-2307-4505-b5b3-cc91b8ae074d",
   "metadata": {
    "execution": {
     "iopub.execute_input": "2022-04-07T07:34:49.241850Z",
     "iopub.status.busy": "2022-04-07T07:34:49.241568Z",
     "iopub.status.idle": "2022-04-07T07:34:49.313247Z",
     "shell.execute_reply": "2022-04-07T07:34:49.312494Z",
     "shell.execute_reply.started": "2022-04-07T07:34:49.241816Z"
    },
    "tags": []
   },
   "outputs": [
    {
     "data": {
      "application/vnd.jupyter.widget-view+json": {
       "model_id": "b95a287cb9a0449086801558ce727216",
       "version_major": 2,
       "version_minor": 0
      },
      "text/plain": [
       "VBox()"
      ]
     },
     "metadata": {},
     "output_type": "display_data"
    },
    {
     "data": {
      "application/vnd.jupyter.widget-view+json": {
       "model_id": "",
       "version_major": 2,
       "version_minor": 0
      },
      "text/plain": [
       "FloatProgress(value=0.0, bar_style='info', description='Progress:', layout=Layout(height='25px', width='50%'),…"
      ]
     },
     "metadata": {},
     "output_type": "display_data"
    },
    {
     "name": "stdout",
     "output_type": "stream",
     "text": [
      "<class 'pyspark.sql.dataframe.DataFrame'>"
     ]
    }
   ],
   "source": [
    "type(vectorized_tokens)"
   ]
  },
  {
   "cell_type": "code",
   "execution_count": 37,
   "id": "bd1330ef-4cdd-4bf9-8a41-1af6b5605877",
   "metadata": {
    "execution": {
     "iopub.execute_input": "2022-04-07T07:34:49.314400Z",
     "iopub.status.busy": "2022-04-07T07:34:49.314168Z",
     "iopub.status.idle": "2022-04-07T07:35:00.639434Z",
     "shell.execute_reply": "2022-04-07T07:35:00.638884Z",
     "shell.execute_reply.started": "2022-04-07T07:34:49.314368Z"
    },
    "tags": []
   },
   "outputs": [
    {
     "data": {
      "application/vnd.jupyter.widget-view+json": {
       "model_id": "eb9670f871bb47008cd773ded4052cf7",
       "version_major": 2,
       "version_minor": 0
      },
      "text/plain": [
       "VBox()"
      ]
     },
     "metadata": {},
     "output_type": "display_data"
    },
    {
     "data": {
      "application/vnd.jupyter.widget-view+json": {
       "model_id": "",
       "version_major": 2,
       "version_minor": 0
      },
      "text/plain": [
       "FloatProgress(value=0.0, bar_style='info', description='Progress:', layout=Layout(height='25px', width='50%'),…"
      ]
     },
     "metadata": {},
     "output_type": "display_data"
    },
    {
     "name": "stdout",
     "output_type": "stream",
     "text": [
      "+--------------------+--------------------+\n",
      "|             stemmed|            features|\n",
      "+--------------------+--------------------+\n",
      "|[great, piec, por...|(10000,[0,1,5,6,1...|\n",
      "|[reason, star, st...|(10000,[1,7,11,13...|\n",
      "|[fun, water, grea...|(10000,[0,2,6,7,1...|\n",
      "|[smith, coupl, ti...|(10000,[0,1,3,4,5...|\n",
      "|[love, food, remi...|(10000,[0,11,16,4...|\n",
      "+--------------------+--------------------+\n",
      "only showing top 5 rows"
     ]
    }
   ],
   "source": [
    "vectorized_tokens.show(5)"
   ]
  },
  {
   "cell_type": "code",
   "execution_count": 38,
   "id": "0e583d75-fd5a-4142-8e7b-e266c000d618",
   "metadata": {
    "execution": {
     "iopub.execute_input": "2022-04-07T07:35:00.640598Z",
     "iopub.status.busy": "2022-04-07T07:35:00.640312Z",
     "iopub.status.idle": "2022-04-07T07:35:00.894136Z",
     "shell.execute_reply": "2022-04-07T07:35:00.893448Z",
     "shell.execute_reply.started": "2022-04-07T07:35:00.640572Z"
    },
    "tags": []
   },
   "outputs": [
    {
     "data": {
      "application/vnd.jupyter.widget-view+json": {
       "model_id": "a7441f16d5a9432c85dad851c6bad146",
       "version_major": 2,
       "version_minor": 0
      },
      "text/plain": [
       "VBox()"
      ]
     },
     "metadata": {},
     "output_type": "display_data"
    },
    {
     "data": {
      "application/vnd.jupyter.widget-view+json": {
       "model_id": "",
       "version_major": 2,
       "version_minor": 0
      },
      "text/plain": [
       "FloatProgress(value=0.0, bar_style='info', description='Progress:', layout=Layout(height='25px', width='50%'),…"
      ]
     },
     "metadata": {},
     "output_type": "display_data"
    },
    {
     "name": "stdout",
     "output_type": "stream",
     "text": [
      "14"
     ]
    }
   ],
   "source": [
    "vectorized_tokens.rdd.getNumPartitions()"
   ]
  },
  {
   "cell_type": "code",
   "execution_count": 39,
   "id": "2851b831-cffd-4332-b07e-a03c5bea6fe4",
   "metadata": {
    "execution": {
     "iopub.execute_input": "2022-04-07T07:35:00.895488Z",
     "iopub.status.busy": "2022-04-07T07:35:00.895209Z",
     "iopub.status.idle": "2022-04-07T07:35:01.154319Z",
     "shell.execute_reply": "2022-04-07T07:35:01.153677Z",
     "shell.execute_reply.started": "2022-04-07T07:35:00.895453Z"
    },
    "tags": []
   },
   "outputs": [
    {
     "data": {
      "application/vnd.jupyter.widget-view+json": {
       "model_id": "3457eeba3b4a4ba38f66a65a61bd63dc",
       "version_major": 2,
       "version_minor": 0
      },
      "text/plain": [
       "VBox()"
      ]
     },
     "metadata": {},
     "output_type": "display_data"
    },
    {
     "data": {
      "application/vnd.jupyter.widget-view+json": {
       "model_id": "",
       "version_major": 2,
       "version_minor": 0
      },
      "text/plain": [
       "FloatProgress(value=0.0, bar_style='info', description='Progress:', layout=Layout(height='25px', width='50%'),…"
      ]
     },
     "metadata": {},
     "output_type": "display_data"
    }
   ],
   "source": [
    "vectorized_tokens=vectorized_tokens.cache()"
   ]
  },
  {
   "cell_type": "code",
   "execution_count": 41,
   "id": "18206584-de20-4efd-a856-f1c05ae23c36",
   "metadata": {
    "execution": {
     "iopub.execute_input": "2022-04-07T07:35:09.929512Z",
     "iopub.status.busy": "2022-04-07T07:35:09.929293Z",
     "iopub.status.idle": "2022-04-07T07:35:09.991414Z",
     "shell.execute_reply": "2022-04-07T07:35:09.990870Z",
     "shell.execute_reply.started": "2022-04-07T07:35:09.929488Z"
    },
    "tags": []
   },
   "outputs": [
    {
     "data": {
      "application/vnd.jupyter.widget-view+json": {
       "model_id": "a4e359b363a74d8cb943bb5db392bf22",
       "version_major": 2,
       "version_minor": 0
      },
      "text/plain": [
       "VBox()"
      ]
     },
     "metadata": {},
     "output_type": "display_data"
    },
    {
     "data": {
      "application/vnd.jupyter.widget-view+json": {
       "model_id": "",
       "version_major": 2,
       "version_minor": 0
      },
      "text/plain": [
       "FloatProgress(value=0.0, bar_style='info', description='Progress:', layout=Layout(height='25px', width='50%'),…"
      ]
     },
     "metadata": {},
     "output_type": "display_data"
    }
   ],
   "source": [
    "vectorized_tokens=vectorized_tokens.repartition(15000)"
   ]
  },
  {
   "cell_type": "code",
   "execution_count": 43,
   "id": "4264a621-e576-411a-a97c-9db2eaad3e0f",
   "metadata": {
    "execution": {
     "iopub.execute_input": "2022-04-07T07:37:11.780002Z",
     "iopub.status.busy": "2022-04-07T07:37:11.779765Z",
     "iopub.status.idle": "2022-04-07T07:37:11.835713Z",
     "shell.execute_reply": "2022-04-07T07:37:11.835199Z",
     "shell.execute_reply.started": "2022-04-07T07:37:11.779974Z"
    },
    "tags": []
   },
   "outputs": [
    {
     "data": {
      "application/vnd.jupyter.widget-view+json": {
       "model_id": "bb3415ea7f3f401cab53d6eeb18cc1d7",
       "version_major": 2,
       "version_minor": 0
      },
      "text/plain": [
       "VBox()"
      ]
     },
     "metadata": {},
     "output_type": "display_data"
    },
    {
     "data": {
      "application/vnd.jupyter.widget-view+json": {
       "model_id": "",
       "version_major": 2,
       "version_minor": 0
      },
      "text/plain": [
       "FloatProgress(value=0.0, bar_style='info', description='Progress:', layout=Layout(height='25px', width='50%'),…"
      ]
     },
     "metadata": {},
     "output_type": "display_data"
    }
   ],
   "source": [
    "from pyspark.ml.clustering import LDA\n",
    "num_topics = 10\n",
    "lda = LDA(k=num_topics, maxIter=5,checkpointInterval = 1,learningDecay=0.1,optimizer='online')\n"
   ]
  },
  {
   "cell_type": "code",
   "execution_count": null,
   "id": "c634e0c7-b691-4624-8c59-1dfce69f2229",
   "metadata": {
    "execution": {
     "iopub.execute_input": "2022-04-07T07:37:13.051910Z",
     "iopub.status.busy": "2022-04-07T07:37:13.051688Z"
    }
   },
   "outputs": [
    {
     "data": {
      "application/vnd.jupyter.widget-view+json": {
       "model_id": "09ece4accb684e57b7e3863f6cbe1097",
       "version_major": 2,
       "version_minor": 0
      },
      "text/plain": [
       "VBox()"
      ]
     },
     "metadata": {},
     "output_type": "display_data"
    },
    {
     "data": {
      "application/vnd.jupyter.widget-view+json": {
       "model_id": "5ce3a760c44344d0a167d1add9170572",
       "version_major": 2,
       "version_minor": 0
      },
      "text/plain": [
       "FloatProgress(value=0.0, bar_style='info', description='Progress:', layout=Layout(height='25px', width='50%'),…"
      ]
     },
     "metadata": {},
     "output_type": "display_data"
    }
   ],
   "source": [
    "model = lda.fit(vectorized_tokens)\n",
    "ll = model.logLikelihood(vectorized_tokens)\n",
    "lp = model.logPerplexity(vectorized_tokens)\n",
    "print(\"The lower bound on the log likelihood of the entire corpus: \" + str(ll))\n",
    "print(\"The upper bound on perplexity: \" + str(lp))"
   ]
  },
  {
   "cell_type": "code",
   "execution_count": null,
   "id": "0e0834c7-f27c-4c3f-9909-b8184a46f80f",
   "metadata": {},
   "outputs": [],
   "source": [
    "model.save(\"s3://mukeshproj/lda_model/\")"
   ]
  },
  {
   "cell_type": "code",
   "execution_count": 65,
   "id": "d5f86246-7a2f-41c2-9bfe-45c3f0098a03",
   "metadata": {
    "execution": {
     "iopub.execute_input": "2022-04-07T06:58:40.743202Z",
     "iopub.status.busy": "2022-04-07T06:58:40.742957Z",
     "iopub.status.idle": "2022-04-07T06:58:52.014281Z",
     "shell.execute_reply": "2022-04-07T06:58:52.013708Z",
     "shell.execute_reply.started": "2022-04-07T06:58:40.743166Z"
    },
    "tags": []
   },
   "outputs": [
    {
     "data": {
      "application/vnd.jupyter.widget-view+json": {
       "model_id": "0f21aaae234d43d4b78252e02aa4e978",
       "version_major": 2,
       "version_minor": 0
      },
      "text/plain": [
       "VBox()"
      ]
     },
     "metadata": {},
     "output_type": "display_data"
    },
    {
     "name": "stderr",
     "output_type": "stream",
     "text": [
      "An error was encountered:\n",
      "Invalid status code '404' from http://localhost:8998/sessions/3 with error payload: {\"msg\":\"Session '3' not found.\"}\n"
     ]
    }
   ],
   "source": [
    "# extract vocabulary from CountVectorizer\n",
    "vocab = cv_model.vocabulary\n",
    "topics = model.describeTopics()   \n",
    "topics_rdd = topics.rdd\n",
    "topics_words = topics_rdd\\\n",
    "       .map(lambda row: row['termIndices'])\\\n",
    "       .map(lambda idx_list: [vocab[idx] for idx in idx_list])\\\n",
    "       .collect()\n",
    "for idx, topic in enumerate(topics_words):\n",
    "    print(\"topic: {}\".format(idx))\n",
    "    print(\"*\"*25)\n",
    "    for word in topic:\n",
    "       print(word,end=\" \")\n",
    "    print(\"\\n\")\n",
    "    print(\"*\"*25)"
   ]
  },
  {
   "cell_type": "code",
   "execution_count": 66,
   "id": "c43404df-98db-4fb9-b725-c54f60a5d344",
   "metadata": {
    "execution": {
     "iopub.execute_input": "2022-04-07T06:58:52.015294Z",
     "iopub.status.busy": "2022-04-07T06:58:52.015123Z",
     "iopub.status.idle": "2022-04-07T06:58:52.047367Z",
     "shell.execute_reply": "2022-04-07T06:58:52.046624Z",
     "shell.execute_reply.started": "2022-04-07T06:58:52.015273Z"
    },
    "tags": []
   },
   "outputs": [
    {
     "data": {
      "application/vnd.jupyter.widget-view+json": {
       "model_id": "1d3ba5203d344366bb40ddfcb5f4c4d0",
       "version_major": 2,
       "version_minor": 0
      },
      "text/plain": [
       "VBox()"
      ]
     },
     "metadata": {},
     "output_type": "display_data"
    },
    {
     "name": "stderr",
     "output_type": "stream",
     "text": [
      "An error was encountered:\n",
      "Invalid status code '404' from http://localhost:8998/sessions/3 with error payload: {\"msg\":\"Session '3' not found.\"}\n"
     ]
    }
   ],
   "source": [
    "topics_words = topics_rdd\\\n",
    "       .map(lambda row: row['termIndices'])\\\n",
    "       .map(lambda idx_list: [vocab[idx] for idx in idx_list])\\\n",
    "       .collect()"
   ]
  },
  {
   "cell_type": "code",
   "execution_count": 67,
   "id": "f421fd8c-c63d-4c31-b3ae-59dbfa818201",
   "metadata": {
    "execution": {
     "iopub.execute_input": "2022-04-07T06:58:52.050298Z",
     "iopub.status.busy": "2022-04-07T06:58:52.048411Z",
     "iopub.status.idle": "2022-04-07T06:58:52.117207Z",
     "shell.execute_reply": "2022-04-07T06:58:52.107176Z",
     "shell.execute_reply.started": "2022-04-07T06:58:52.050268Z"
    },
    "tags": []
   },
   "outputs": [
    {
     "data": {
      "application/vnd.jupyter.widget-view+json": {
       "model_id": "587b65bbbc354f4eaa601339af984415",
       "version_major": 2,
       "version_minor": 0
      },
      "text/plain": [
       "VBox()"
      ]
     },
     "metadata": {},
     "output_type": "display_data"
    },
    {
     "name": "stderr",
     "output_type": "stream",
     "text": [
      "An error was encountered:\n",
      "Invalid status code '404' from http://localhost:8998/sessions/3 with error payload: {\"msg\":\"Session '3' not found.\"}\n"
     ]
    }
   ],
   "source": [
    "topics_words"
   ]
  },
  {
   "cell_type": "code",
   "execution_count": 68,
   "id": "872d293e-4627-41e1-8b6e-9e697c744a91",
   "metadata": {
    "execution": {
     "iopub.execute_input": "2022-04-07T06:58:52.118897Z",
     "iopub.status.busy": "2022-04-07T06:58:52.118725Z",
     "iopub.status.idle": "2022-04-07T06:58:52.160903Z",
     "shell.execute_reply": "2022-04-07T06:58:52.160170Z",
     "shell.execute_reply.started": "2022-04-07T06:58:52.118874Z"
    },
    "tags": []
   },
   "outputs": [
    {
     "data": {
      "application/vnd.jupyter.widget-view+json": {
       "model_id": "526e4ad4adbe42189d767d21405420b3",
       "version_major": 2,
       "version_minor": 0
      },
      "text/plain": [
       "VBox()"
      ]
     },
     "metadata": {},
     "output_type": "display_data"
    },
    {
     "name": "stderr",
     "output_type": "stream",
     "text": [
      "An error was encountered:\n",
      "Invalid status code '404' from http://localhost:8998/sessions/3 with error payload: {\"msg\":\"Session '3' not found.\"}\n"
     ]
    }
   ],
   "source": [
    "def plot_top_words(model, feature_names, n_top_words, title):\n",
    "    #Modified from SKlearn\n",
    "    fig, axes = plt.subplots(2, 5, figsize=(15, 7))\n",
    "    axes = axes.flatten()\n",
    "    for topic_idx, topic in enumerate(model.components_):\n",
    "        top_features_ind = topic.argsort()[:-n_top_words - 1:-1]\n",
    "        top_features = [feature_names[i] for i in top_features_ind]\n",
    "        weights = topic[top_features_ind]\n",
    "\n",
    "        ax = axes[topic_idx]\n",
    "        ax.barh(top_features, weights, height=0.7)\n",
    "        ax.set_title(f'Topic {topic_idx +1}',\n",
    "                     fontdict={'fontsize': 15})\n",
    "        ax.invert_yaxis()\n",
    "        ax.tick_params(axis='both', which='major', labelsize=20)\n",
    "        for i in 'top right left'.split():\n",
    "            ax.spines[i].set_visible(False)\n",
    "        fig.suptitle(title, fontsize=15)\n",
    "        ax.tick_params(bottom=False)\n",
    "        ax.set(xticklabels=[])\n",
    "\n",
    "    plt.subplots_adjust(top=0.90, bottom=0.05, wspace=0.90, hspace=0.3)\n",
    "    plt.show()"
   ]
  },
  {
   "cell_type": "code",
   "execution_count": 69,
   "id": "f59c04c1-17d7-4707-a179-4bee8b1bd609",
   "metadata": {
    "execution": {
     "iopub.execute_input": "2022-04-07T06:58:52.162314Z",
     "iopub.status.busy": "2022-04-07T06:58:52.161947Z",
     "iopub.status.idle": "2022-04-07T06:58:52.210178Z",
     "shell.execute_reply": "2022-04-07T06:58:52.207906Z",
     "shell.execute_reply.started": "2022-04-07T06:58:52.162276Z"
    },
    "tags": []
   },
   "outputs": [
    {
     "data": {
      "application/vnd.jupyter.widget-view+json": {
       "model_id": "969ebb990264404e82a186c6f8ab21d7",
       "version_major": 2,
       "version_minor": 0
      },
      "text/plain": [
       "VBox()"
      ]
     },
     "metadata": {},
     "output_type": "display_data"
    },
    {
     "name": "stderr",
     "output_type": "stream",
     "text": [
      "An error was encountered:\n",
      "Invalid status code '404' from http://localhost:8998/sessions/3 with error payload: {\"msg\":\"Session '3' not found.\"}\n"
     ]
    }
   ],
   "source": [
    "no_top_words = 10"
   ]
  },
  {
   "cell_type": "code",
   "execution_count": 70,
   "id": "e34b33ee-d9cc-41e7-a508-e24999c4a491",
   "metadata": {
    "execution": {
     "iopub.execute_input": "2022-04-07T06:58:52.211708Z",
     "iopub.status.busy": "2022-04-07T06:58:52.211384Z",
     "iopub.status.idle": "2022-04-07T06:58:52.259262Z",
     "shell.execute_reply": "2022-04-07T06:58:52.258503Z",
     "shell.execute_reply.started": "2022-04-07T06:58:52.211635Z"
    },
    "tags": []
   },
   "outputs": [
    {
     "data": {
      "application/vnd.jupyter.widget-view+json": {
       "model_id": "43b9405023bf41d580eb6fe1defa0789",
       "version_major": 2,
       "version_minor": 0
      },
      "text/plain": [
       "VBox()"
      ]
     },
     "metadata": {},
     "output_type": "display_data"
    },
    {
     "name": "stderr",
     "output_type": "stream",
     "text": [
      "An error was encountered:\n",
      "Invalid status code '404' from http://localhost:8998/sessions/3 with error payload: {\"msg\":\"Session '3' not found.\"}\n"
     ]
    }
   ],
   "source": [
    "plot_top_words(lda,vectorized_tokens, no_top_words,'Topics in LDa')"
   ]
  },
  {
   "cell_type": "code",
   "execution_count": 71,
   "id": "6bb4c76d-d668-4c9a-af8b-4a00b6b9c790",
   "metadata": {
    "execution": {
     "iopub.execute_input": "2022-04-07T06:58:52.260805Z",
     "iopub.status.busy": "2022-04-07T06:58:52.260401Z",
     "iopub.status.idle": "2022-04-07T06:58:52.310720Z",
     "shell.execute_reply": "2022-04-07T06:58:52.307451Z",
     "shell.execute_reply.started": "2022-04-07T06:58:52.260772Z"
    },
    "tags": []
   },
   "outputs": [
    {
     "data": {
      "application/vnd.jupyter.widget-view+json": {
       "model_id": "b0a4d7d58e4b453dad59c87f01098baf",
       "version_major": 2,
       "version_minor": 0
      },
      "text/plain": [
       "VBox()"
      ]
     },
     "metadata": {},
     "output_type": "display_data"
    },
    {
     "name": "stderr",
     "output_type": "stream",
     "text": [
      "An error was encountered:\n",
      "Invalid status code '404' from http://localhost:8998/sessions/3 with error payload: {\"msg\":\"Session '3' not found.\"}\n"
     ]
    }
   ],
   "source": [
    "for topic_idx,topic in enumerate(model.vo):\n",
    "    print(topic_idx,topic)"
   ]
  },
  {
   "cell_type": "code",
   "execution_count": null,
   "id": "6216cece-6402-4ede-9486-e8d9708dd048",
   "metadata": {},
   "outputs": [],
   "source": []
  },
  {
   "cell_type": "code",
   "execution_count": null,
   "id": "f5c8149c-2d7a-44ec-b79e-ae2c56ecfb09",
   "metadata": {},
   "outputs": [],
   "source": []
  }
 ],
 "metadata": {
  "kernelspec": {
   "display_name": "PySpark",
   "language": "python",
   "name": "pysparkkernel"
  },
  "language_info": {
   "codemirror_mode": {
    "name": "python",
    "version": 3
   },
   "file_extension": ".py",
   "mimetype": "text/x-python",
   "name": "pyspark",
   "pygments_lexer": "python3"
  }
 },
 "nbformat": 4,
 "nbformat_minor": 5
}
