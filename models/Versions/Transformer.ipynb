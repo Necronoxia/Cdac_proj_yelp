{
 "cells": [
  {
   "cell_type": "code",
   "execution_count": 13,
   "id": "fbddfc74-3a89-4e30-8d3f-033db38caa21",
   "metadata": {
    "execution": {
     "iopub.execute_input": "2022-03-28T07:05:09.233374Z",
     "iopub.status.busy": "2022-03-28T07:05:09.233029Z",
     "iopub.status.idle": "2022-03-28T07:05:09.300028Z",
     "shell.execute_reply": "2022-03-28T07:05:09.299291Z",
     "shell.execute_reply.started": "2022-03-28T07:05:09.233332Z"
    },
    "tags": []
   },
   "outputs": [
    {
     "data": {
      "application/vnd.jupyter.widget-view+json": {
       "model_id": "b83f1c591ff14fa28bc58024c90d11f6",
       "version_major": 2,
       "version_minor": 0
      },
      "text/plain": [
       "VBox()"
      ]
     },
     "metadata": {},
     "output_type": "display_data"
    },
    {
     "data": {
      "application/vnd.jupyter.widget-view+json": {
       "model_id": "",
       "version_major": 2,
       "version_minor": 0
      },
      "text/plain": [
       "FloatProgress(value=0.0, bar_style='info', description='Progress:', layout=Layout(height='25px', width='50%'),…"
      ]
     },
     "metadata": {},
     "output_type": "display_data"
    },
    {
     "name": "stderr",
     "output_type": "stream",
     "text": [
      "An error was encountered:\n",
      "No module named 'pandas'\n",
      "Traceback (most recent call last):\n",
      "ModuleNotFoundError: No module named 'pandas'\n",
      "\n"
     ]
    }
   ],
   "source": [
    "import tensorflow as tf\n",
    "from tensorflow import keras\n",
    "from tensorflow.keras import layers"
   ]
  },
  {
   "cell_type": "code",
   "execution_count": 2,
   "id": "0831dea6-13d9-46ff-8eb8-716c960629de",
   "metadata": {
    "execution": {
     "iopub.execute_input": "2022-03-28T07:03:03.483604Z",
     "iopub.status.busy": "2022-03-28T07:03:03.483329Z",
     "iopub.status.idle": "2022-03-28T07:03:09.130043Z",
     "shell.execute_reply": "2022-03-28T07:03:09.129192Z",
     "shell.execute_reply.started": "2022-03-28T07:03:03.483570Z"
    },
    "tags": []
   },
   "outputs": [
    {
     "data": {
      "application/vnd.jupyter.widget-view+json": {
       "model_id": "b15bc083aeb04ee89b71e50e07ce4931",
       "version_major": 2,
       "version_minor": 0
      },
      "text/plain": [
       "VBox()"
      ]
     },
     "metadata": {},
     "output_type": "display_data"
    },
    {
     "data": {
      "application/vnd.jupyter.widget-view+json": {
       "model_id": "",
       "version_major": 2,
       "version_minor": 0
      },
      "text/plain": [
       "FloatProgress(value=0.0, bar_style='info', description='Progress:', layout=Layout(height='25px', width='50%'),…"
      ]
     },
     "metadata": {},
     "output_type": "display_data"
    }
   ],
   "source": [
    "df = sqlContext.read.parquet(\"hdfs:///NLP-parquet/*.parquet\")"
   ]
  },
  {
   "cell_type": "code",
   "execution_count": 3,
   "id": "82605d70-2de5-4acc-9641-69227e4bd0d5",
   "metadata": {
    "execution": {
     "iopub.execute_input": "2022-03-28T07:03:09.131922Z",
     "iopub.status.busy": "2022-03-28T07:03:09.131678Z",
     "iopub.status.idle": "2022-03-28T07:03:09.420500Z",
     "shell.execute_reply": "2022-03-28T07:03:09.419750Z",
     "shell.execute_reply.started": "2022-03-28T07:03:09.131888Z"
    },
    "tags": []
   },
   "outputs": [
    {
     "data": {
      "application/vnd.jupyter.widget-view+json": {
       "model_id": "828ad6525f3242539d48a5d4156dd1c9",
       "version_major": 2,
       "version_minor": 0
      },
      "text/plain": [
       "VBox()"
      ]
     },
     "metadata": {},
     "output_type": "display_data"
    },
    {
     "data": {
      "application/vnd.jupyter.widget-view+json": {
       "model_id": "",
       "version_major": 2,
       "version_minor": 0
      },
      "text/plain": [
       "FloatProgress(value=0.0, bar_style='info', description='Progress:', layout=Layout(height='25px', width='50%'),…"
      ]
     },
     "metadata": {},
     "output_type": "display_data"
    },
    {
     "name": "stdout",
     "output_type": "stream",
     "text": [
      "root\n",
      " |-- stemmed: array (nullable = true)\n",
      " |    |-- element: string (containsNull = true)\n",
      " |-- stars: double (nullable = true)\n",
      " |-- features: vector (nullable = true)"
     ]
    }
   ],
   "source": [
    "df.printSchema()"
   ]
  },
  {
   "cell_type": "code",
   "execution_count": 4,
   "id": "aca602eb-fe0b-4094-8ab4-ea4a4bf7630a",
   "metadata": {
    "execution": {
     "iopub.execute_input": "2022-03-28T07:03:09.422192Z",
     "iopub.status.busy": "2022-03-28T07:03:09.421733Z",
     "iopub.status.idle": "2022-03-28T07:03:09.703800Z",
     "shell.execute_reply": "2022-03-28T07:03:09.703052Z",
     "shell.execute_reply.started": "2022-03-28T07:03:09.422154Z"
    },
    "tags": []
   },
   "outputs": [
    {
     "data": {
      "application/vnd.jupyter.widget-view+json": {
       "model_id": "7dce0f14f7ac464fbc239c5d13170b5e",
       "version_major": 2,
       "version_minor": 0
      },
      "text/plain": [
       "VBox()"
      ]
     },
     "metadata": {},
     "output_type": "display_data"
    },
    {
     "data": {
      "application/vnd.jupyter.widget-view+json": {
       "model_id": "",
       "version_major": 2,
       "version_minor": 0
      },
      "text/plain": [
       "FloatProgress(value=0.0, bar_style='info', description='Progress:', layout=Layout(height='25px', width='50%'),…"
      ]
     },
     "metadata": {},
     "output_type": "display_data"
    }
   ],
   "source": [
    "(train,test) = df.randomSplit([0.75,0.25], seed = 42)\n",
    "(training,val) = train.randomSplit([0.75,0.25], seed = 42)"
   ]
  },
  {
   "cell_type": "code",
   "execution_count": 6,
   "id": "0d864702-f0bc-4e98-a56e-941e5570dd55",
   "metadata": {
    "execution": {
     "iopub.execute_input": "2022-03-28T07:03:12.249334Z",
     "iopub.status.busy": "2022-03-28T07:03:12.249107Z",
     "iopub.status.idle": "2022-03-28T07:03:12.327823Z",
     "shell.execute_reply": "2022-03-28T07:03:12.327173Z",
     "shell.execute_reply.started": "2022-03-28T07:03:12.249311Z"
    },
    "tags": []
   },
   "outputs": [
    {
     "data": {
      "application/vnd.jupyter.widget-view+json": {
       "model_id": "bd0ef202c30443abb3ca8b38f61c83dc",
       "version_major": 2,
       "version_minor": 0
      },
      "text/plain": [
       "VBox()"
      ]
     },
     "metadata": {},
     "output_type": "display_data"
    },
    {
     "data": {
      "application/vnd.jupyter.widget-view+json": {
       "model_id": "",
       "version_major": 2,
       "version_minor": 0
      },
      "text/plain": [
       "FloatProgress(value=0.0, bar_style='info', description='Progress:', layout=Layout(height='25px', width='50%'),…"
      ]
     },
     "metadata": {},
     "output_type": "display_data"
    },
    {
     "name": "stdout",
     "output_type": "stream",
     "text": [
      "root\n",
      " |-- stemmed: array (nullable = true)\n",
      " |    |-- element: string (containsNull = true)\n",
      " |-- stars: double (nullable = true)\n",
      " |-- features: vector (nullable = true)"
     ]
    }
   ],
   "source": [
    "training.printSchema()"
   ]
  },
  {
   "cell_type": "code",
   "execution_count": 12,
   "id": "9ffc0bd9-ddf7-4cae-87b7-f1e3f7d370d4",
   "metadata": {
    "execution": {
     "iopub.execute_input": "2022-03-28T07:04:51.000113Z",
     "iopub.status.busy": "2022-03-28T07:04:50.999882Z",
     "iopub.status.idle": "2022-03-28T07:04:51.063398Z",
     "shell.execute_reply": "2022-03-28T07:04:51.062805Z",
     "shell.execute_reply.started": "2022-03-28T07:04:51.000089Z"
    },
    "tags": []
   },
   "outputs": [
    {
     "data": {
      "application/vnd.jupyter.widget-view+json": {
       "model_id": "75c887fed5154b908e06fb3985c325b6",
       "version_major": 2,
       "version_minor": 0
      },
      "text/plain": [
       "VBox()"
      ]
     },
     "metadata": {},
     "output_type": "display_data"
    },
    {
     "data": {
      "application/vnd.jupyter.widget-view+json": {
       "model_id": "",
       "version_major": 2,
       "version_minor": 0
      },
      "text/plain": [
       "FloatProgress(value=0.0, bar_style='info', description='Progress:', layout=Layout(height='25px', width='50%'),…"
      ]
     },
     "metadata": {},
     "output_type": "display_data"
    },
    {
     "name": "stderr",
     "output_type": "stream",
     "text": [
      "An error was encountered:\n",
      "Pandas >= 0.19.2 must be installed; however, it was not found.\n",
      "Traceback (most recent call last):\n",
      "  File \"/usr/lib/spark/python/lib/pyspark.zip/pyspark/sql/dataframe.py\", line 2086, in toPandas\n",
      "    require_minimum_pandas_version()\n",
      "  File \"/usr/lib/spark/python/lib/pyspark.zip/pyspark/sql/utils.py\", line 129, in require_minimum_pandas_version\n",
      "    \"it was not found.\" % minimum_pandas_version)\n",
      "ImportError: Pandas >= 0.19.2 must be installed; however, it was not found.\n",
      "\n"
     ]
    }
   ],
   "source": [
    "x_train = training.drop(\"stars\",\"stemmed\").toPandas()\n",
    "x_val = val.drop(\"stars\",\"stemmed\").toPandas()"
   ]
  },
  {
   "cell_type": "code",
   "execution_count": 8,
   "id": "0d1626f3-343e-4cac-aa69-b83f6984dc4b",
   "metadata": {
    "execution": {
     "iopub.execute_input": "2022-03-28T07:03:29.982900Z",
     "iopub.status.busy": "2022-03-28T07:03:29.982658Z",
     "iopub.status.idle": "2022-03-28T07:03:30.048067Z",
     "shell.execute_reply": "2022-03-28T07:03:30.047434Z",
     "shell.execute_reply.started": "2022-03-28T07:03:29.982877Z"
    },
    "tags": []
   },
   "outputs": [
    {
     "data": {
      "application/vnd.jupyter.widget-view+json": {
       "model_id": "ddca1a5109174b119949c1d1c7f17837",
       "version_major": 2,
       "version_minor": 0
      },
      "text/plain": [
       "VBox()"
      ]
     },
     "metadata": {},
     "output_type": "display_data"
    },
    {
     "data": {
      "application/vnd.jupyter.widget-view+json": {
       "model_id": "",
       "version_major": 2,
       "version_minor": 0
      },
      "text/plain": [
       "FloatProgress(value=0.0, bar_style='info', description='Progress:', layout=Layout(height='25px', width='50%'),…"
      ]
     },
     "metadata": {},
     "output_type": "display_data"
    },
    {
     "name": "stdout",
     "output_type": "stream",
     "text": [
      "root\n",
      " |-- features: vector (nullable = true)"
     ]
    }
   ],
   "source": [
    "x_train.printSchema()"
   ]
  },
  {
   "cell_type": "code",
   "execution_count": 9,
   "id": "040d9e91-fd1d-4e82-a3ac-f9252037c28e",
   "metadata": {
    "execution": {
     "iopub.execute_input": "2022-03-28T07:03:33.749224Z",
     "iopub.status.busy": "2022-03-28T07:03:33.748899Z",
     "iopub.status.idle": "2022-03-28T07:03:33.826069Z",
     "shell.execute_reply": "2022-03-28T07:03:33.825182Z",
     "shell.execute_reply.started": "2022-03-28T07:03:33.749187Z"
    },
    "tags": []
   },
   "outputs": [
    {
     "data": {
      "application/vnd.jupyter.widget-view+json": {
       "model_id": "59331a282e104948801b2c43708ec3ce",
       "version_major": 2,
       "version_minor": 0
      },
      "text/plain": [
       "VBox()"
      ]
     },
     "metadata": {},
     "output_type": "display_data"
    },
    {
     "data": {
      "application/vnd.jupyter.widget-view+json": {
       "model_id": "",
       "version_major": 2,
       "version_minor": 0
      },
      "text/plain": [
       "FloatProgress(value=0.0, bar_style='info', description='Progress:', layout=Layout(height='25px', width='50%'),…"
      ]
     },
     "metadata": {},
     "output_type": "display_data"
    }
   ],
   "source": [
    "class TransformerBlock(layers.Layer):\n",
    "    def __init__(self, embed_dim, ffnn_dim, n_heads):\n",
    "        super(TransformerBlock, self).__init__()\n",
    "        self.attention = layers.MultiHeadAttention(n_heads,key_dim=embed_dim)\n",
    "        self.ffnn = keras.Sequential(\n",
    "            [layers.Dense(ffnn_dim, activation = \"relu\"),\n",
    "             layers.Dense(128, activation = \"relu\"),\n",
    "             layers.Dense(embed_dim)]\n",
    "        )\n",
    "        \n",
    "        self.norm1 = layers.LayerNormalization(epsilon = 1e-6)\n",
    "        self.norm2 = layers.LayerNormalization(epsilon = 1e-6)\n",
    "        self.drop1 = layers.Dropout(0.1)\n",
    "        self.drop2 = layers.Dropout(0.1)\n",
    "        \n",
    "    def call(self, inputs, training):\n",
    "        attention_out = self.attention(inputs, inputs)\n",
    "        attention_out = self.drop1(attention_out, training=training)\n",
    "        out1 = self.norm1(inputs + attention_out)\n",
    "        ffnn_out = self.ffnn(out1)\n",
    "        ffnn_out = self.drop2(ffnn_out, training=training)\n",
    "        return self.norm2(out1)"
   ]
  },
  {
   "cell_type": "code",
   "execution_count": 10,
   "id": "8f756940-25a4-4cca-8dd5-d137a1cf2327",
   "metadata": {
    "execution": {
     "iopub.execute_input": "2022-03-28T07:03:35.861433Z",
     "iopub.status.busy": "2022-03-28T07:03:35.861208Z",
     "iopub.status.idle": "2022-03-28T07:03:35.921255Z",
     "shell.execute_reply": "2022-03-28T07:03:35.920741Z",
     "shell.execute_reply.started": "2022-03-28T07:03:35.861410Z"
    },
    "tags": []
   },
   "outputs": [
    {
     "data": {
      "application/vnd.jupyter.widget-view+json": {
       "model_id": "eb58b3ec672f4393b3c93d0ab819acf0",
       "version_major": 2,
       "version_minor": 0
      },
      "text/plain": [
       "VBox()"
      ]
     },
     "metadata": {},
     "output_type": "display_data"
    },
    {
     "data": {
      "application/vnd.jupyter.widget-view+json": {
       "model_id": "",
       "version_major": 2,
       "version_minor": 0
      },
      "text/plain": [
       "FloatProgress(value=0.0, bar_style='info', description='Progress:', layout=Layout(height='25px', width='50%'),…"
      ]
     },
     "metadata": {},
     "output_type": "display_data"
    }
   ],
   "source": [
    "class TokenAndPosEmbed(layers.Layer):\n",
    "    def __init__(self, maxlen, vocab_size, embed_dim):\n",
    "        super(TokenAndPosEmbed, self).__init__()\n",
    "        self.token_emb = layers.Embedding(input_dim=vocab_size, output_dim = embed_dim)\n",
    "        self.pos_emb = layers.Embedding(input_dim=maxlen, output_dim=embed_dim)\n",
    "        \n",
    "    def call(self, x):\n",
    "        maxlen = tf.shape(x)[-1]\n",
    "        positions = tf.range(start=0, limit=maxlen, delta=1)\n",
    "        positions = self.pos_emb(positions)\n",
    "        x = self.token_emb(x)\n",
    "        return x + positions"
   ]
  },
  {
   "cell_type": "code",
   "execution_count": 11,
   "id": "9057c7b9-7ae2-465f-91b1-ac18a21bd64a",
   "metadata": {
    "execution": {
     "iopub.execute_input": "2022-03-28T07:03:39.937783Z",
     "iopub.status.busy": "2022-03-28T07:03:39.937559Z",
     "iopub.status.idle": "2022-03-28T07:03:40.217977Z",
     "shell.execute_reply": "2022-03-28T07:03:40.217284Z",
     "shell.execute_reply.started": "2022-03-28T07:03:39.937762Z"
    }
   },
   "outputs": [
    {
     "data": {
      "application/vnd.jupyter.widget-view+json": {
       "model_id": "10c0da3b7e2e44129820ce895aaef712",
       "version_major": 2,
       "version_minor": 0
      },
      "text/plain": [
       "VBox()"
      ]
     },
     "metadata": {},
     "output_type": "display_data"
    },
    {
     "data": {
      "application/vnd.jupyter.widget-view+json": {
       "model_id": "",
       "version_major": 2,
       "version_minor": 0
      },
      "text/plain": [
       "FloatProgress(value=0.0, bar_style='info', description='Progress:', layout=Layout(height='25px', width='50%'),…"
      ]
     },
     "metadata": {},
     "output_type": "display_data"
    },
    {
     "name": "stderr",
     "output_type": "stream",
     "text": [
      "An error was encountered:\n",
      "`sequences` must be iterable.\n",
      "Traceback (most recent call last):\n",
      "  File \"/usr/local/lib64/python3.7/site-packages/tensorflow/python/keras/preprocessing/sequence.py\", line 158, in pad_sequences\n",
      "    padding=padding, truncating=truncating, value=value)\n",
      "  File \"/usr/local/lib64/python3.7/site-packages/keras_preprocessing/sequence.py\", line 56, in pad_sequences\n",
      "    raise ValueError('`sequences` must be iterable.')\n",
      "ValueError: `sequences` must be iterable.\n",
      "\n"
     ]
    }
   ],
   "source": [
    "vocab_size = 65536\n",
    "maxlen = 200\n",
    "\n",
    "# test train split\n",
    "\n",
    "# pad_sequence adds padding to each array suppose [1],[1,2],[1,2,3] are three\n",
    "# arrays then pad_sequence will make it such that the output is [0,0,1],\n",
    "# [0,1,2],[1,2,3]. Assuming array 3 is maxlen, i.e maxlen = 2.\n",
    "\n",
    "x_train = keras.preprocessing.sequence.pad_sequences(x_train, maxlen=maxlen)\n",
    "x_train = keras.preprocessing.sequence.pad_sequences(x_val, maxlen=maxlen)"
   ]
  },
  {
   "cell_type": "markdown",
   "id": "be1bfcd0-0825-4331-8841-d5d0d3b6a108",
   "metadata": {},
   "source": [
    "## Classifier call"
   ]
  },
  {
   "cell_type": "code",
   "execution_count": 5,
   "id": "82d2173e-025b-4c36-a5c1-e1a778d23025",
   "metadata": {},
   "outputs": [],
   "source": [
    "embed_dim = 64 #embed size \n",
    "ffnn_dim = 64 #Neural network input dimension. Same as embed_dim\n",
    "num_heads = 4\n",
    "\n",
    "input_strm = layers.Input(shape=(maxlen,))\n",
    "embedding_layer = TokenAndPosEmbed(maxlen, vocab_size, embed_dim)\n",
    "nn = embedding_layer(input_strm)\n",
    "transformer = TransformerBlock(embed_dim = embed_dim,ffnn_dim = ffnn_dim,n_heads = num_heads)(nn)\n",
    "nn = layers.GlobalAveragePooling1D()(nn)\n",
    "nn = layers.Dropout(0.1)(nn)\n",
    "nn = layers.Dense(128, activation='relu')(nn)\n",
    "nn = layers.Dropout(0.1)(nn)\n",
    "outputs = layers.Dense(2, activation = \"softmax\")(nn)\n",
    "\n",
    "cybertron = keras.Model(inputs = input_strm, outputs = outputs)"
   ]
  },
  {
   "cell_type": "markdown",
   "id": "5390e774-330b-4b45-9086-f7944082068f",
   "metadata": {},
   "source": [
    "## Train and evaluate"
   ]
  },
  {
   "cell_type": "code",
   "execution_count": 7,
   "id": "d9d0e2e4-df48-4176-b59e-2262d856c3d0",
   "metadata": {},
   "outputs": [
    {
     "ename": "NameError",
     "evalue": "name 'x_train' is not defined",
     "output_type": "error",
     "traceback": [
      "\u001b[1;31m---------------------------------------------------------------------------\u001b[0m",
      "\u001b[1;31mNameError\u001b[0m                                 Traceback (most recent call last)",
      "\u001b[1;32m<ipython-input-7-b07018e9c9f6>\u001b[0m in \u001b[0;36m<module>\u001b[1;34m\u001b[0m\n\u001b[0;32m      2\u001b[0m \u001b[1;33m\u001b[0m\u001b[0m\n\u001b[0;32m      3\u001b[0m history = cybertron.fit(\n\u001b[1;32m----> 4\u001b[1;33m     \u001b[0mx_train\u001b[0m\u001b[1;33m,\u001b[0m \u001b[0my_train\u001b[0m\u001b[1;33m,\u001b[0m \u001b[0mbatch_size\u001b[0m \u001b[1;33m=\u001b[0m \u001b[1;36m32\u001b[0m\u001b[1;33m,\u001b[0m \u001b[0mepochs\u001b[0m \u001b[1;33m=\u001b[0m \u001b[1;36m5\u001b[0m\u001b[1;33m,\u001b[0m \u001b[0mvalidation_data\u001b[0m\u001b[1;33m=\u001b[0m\u001b[1;33m(\u001b[0m\u001b[0mx_val\u001b[0m\u001b[1;33m,\u001b[0m \u001b[0my_val\u001b[0m\u001b[1;33m)\u001b[0m\u001b[1;33m\u001b[0m\u001b[1;33m\u001b[0m\u001b[0m\n\u001b[0m\u001b[0;32m      5\u001b[0m )\n",
      "\u001b[1;31mNameError\u001b[0m: name 'x_train' is not defined"
     ]
    }
   ],
   "source": [
    "cybertron.compile(optimizer = \"adam\", loss=\"categorical_crossentropy\",metrics=\"accuracy\")\n",
    "\n",
    "history = cybertron.fit(\n",
    "    x_train, y_train, batch_size = 32, epochs = 5, validation_data=(x_val, y_val)\n",
    ")"
   ]
  },
  {
   "cell_type": "code",
   "execution_count": null,
   "id": "e4430fca-4018-48b2-be80-5c549b51360a",
   "metadata": {},
   "outputs": [],
   "source": []
  },
  {
   "cell_type": "code",
   "execution_count": null,
   "id": "9400eac0-f537-465c-a595-4239603525cd",
   "metadata": {},
   "outputs": [],
   "source": []
  },
  {
   "cell_type": "code",
   "execution_count": null,
   "id": "d662c834-18bc-4c79-ad80-b86e807b54e4",
   "metadata": {},
   "outputs": [],
   "source": []
  }
 ],
 "metadata": {
  "kernelspec": {
   "display_name": "PySpark",
   "language": "python",
   "name": "pysparkkernel"
  },
  "language_info": {
   "codemirror_mode": {
    "name": "python",
    "version": 3
   },
   "file_extension": ".py",
   "mimetype": "text/x-python",
   "name": "pyspark",
   "pygments_lexer": "python3"
  }
 },
 "nbformat": 4,
 "nbformat_minor": 5
}
