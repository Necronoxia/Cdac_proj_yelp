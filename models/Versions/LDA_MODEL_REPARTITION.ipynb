{
 "cells": [
  {
   "cell_type": "code",
   "execution_count": null,
   "id": "5b63aead-dd33-4a71-b399-c0e8dfbe8cfd",
   "metadata": {
    "execution": {
     "iopub.execute_input": "2022-04-06T16:33:08.132244Z",
     "iopub.status.busy": "2022-04-06T16:33:08.131828Z"
    },
    "tags": []
   },
   "outputs": [
    {
     "data": {
      "application/vnd.jupyter.widget-view+json": {
       "model_id": "f4647c85e34343e7a938e4865c2db5b3",
       "version_major": 2,
       "version_minor": 0
      },
      "text/plain": [
       "VBox()"
      ]
     },
     "metadata": {},
     "output_type": "display_data"
    },
    {
     "name": "stdout",
     "output_type": "stream",
     "text": [
      "Starting Spark application\n"
     ]
    }
   ],
   "source": [
    "df_train= spark.read.parquet(\"s3://mukeshproj/Topic_modelling_pipeline_backup/topic_modelling_parquet_pipeline/shrink_data_piprline_backup/\")"
   ]
  },
  {
   "cell_type": "code",
   "execution_count": null,
   "id": "596417b4-122f-410c-b458-1e2d8a9c1769",
   "metadata": {
    "tags": []
   },
   "outputs": [],
   "source": [
    "df_train.show(5)"
   ]
  },
  {
   "cell_type": "code",
   "execution_count": null,
   "id": "07bceec8-89d6-43b2-a49f-15be9e5d7c35",
   "metadata": {
    "tags": []
   },
   "outputs": [],
   "source": [
    "conf = spark.sparkContext._conf.setAll([('spark.executor.memory', '8g'),\n",
    "                                        ('spark.driver.memory','15g'),\n",
    "                                        (\"spark.executor.cores\", '2'),\n",
    "                                        (\"spark.dynamicAllocation.enabled\",\"False\")])"
   ]
  },
  {
   "cell_type": "code",
   "execution_count": 1,
   "id": "d2026fb6-0217-4f89-be13-9c08868dc815",
   "metadata": {
    "execution": {
     "iopub.execute_input": "2022-04-06T16:33:39.822360Z",
     "iopub.status.busy": "2022-04-06T16:33:39.822007Z",
     "iopub.status.idle": "2022-04-06T16:34:46.131472Z",
     "shell.execute_reply": "2022-04-06T16:34:46.130486Z",
     "shell.execute_reply.started": "2022-04-06T16:33:39.822325Z"
    }
   },
   "outputs": [
    {
     "data": {
      "application/vnd.jupyter.widget-view+json": {
       "model_id": "dc8a30a99a1d430480d708137c76198d",
       "version_major": 2,
       "version_minor": 0
      },
      "text/plain": [
       "VBox()"
      ]
     },
     "metadata": {},
     "output_type": "display_data"
    },
    {
     "name": "stdout",
     "output_type": "stream",
     "text": [
      "Starting Spark application\n"
     ]
    },
    {
     "data": {
      "text/html": [
       "<table>\n",
       "<tr><th>ID</th><th>YARN Application ID</th><th>Kind</th><th>State</th><th>Spark UI</th><th>Driver log</th><th>Current session?</th></tr><tr><td>3</td><td>application_1649258015822_0009</td><td>pyspark</td><td>idle</td><td><a target=\"_blank\" href=\"http://ip-172-31-55-159.ec2.internal:20888/proxy/application_1649258015822_0009/\" class=\"emr-proxy-link\" emr-resource=\"j-33M3WTW57VZ4C\n",
       "\" application-id=\"application_1649258015822_0009\">Link</a></td><td><a target=\"_blank\" href=\"http://ip-172-31-59-234.ec2.internal:8042/node/containerlogs/container_1649258015822_0009_01_000002/livy\" >Link</a></td><td>✔</td></tr></table>"
      ],
      "text/plain": [
       "<IPython.core.display.HTML object>"
      ]
     },
     "metadata": {},
     "output_type": "display_data"
    },
    {
     "data": {
      "application/vnd.jupyter.widget-view+json": {
       "model_id": "",
       "version_major": 2,
       "version_minor": 0
      },
      "text/plain": [
       "FloatProgress(value=0.0, bar_style='info', description='Progress:', layout=Layout(height='25px', width='50%'),…"
      ]
     },
     "metadata": {},
     "output_type": "display_data"
    },
    {
     "name": "stdout",
     "output_type": "stream",
     "text": [
      "SparkSession available as 'spark'.\n"
     ]
    },
    {
     "data": {
      "application/vnd.jupyter.widget-view+json": {
       "model_id": "",
       "version_major": 2,
       "version_minor": 0
      },
      "text/plain": [
       "FloatProgress(value=0.0, bar_style='info', description='Progress:', layout=Layout(height='25px', width='50%'),…"
      ]
     },
     "metadata": {},
     "output_type": "display_data"
    }
   ],
   "source": [
    "df_train= spark.read.parquet(\"hdfs:///review_shrunk_pipeline_output/\")"
   ]
  },
  {
   "cell_type": "code",
   "execution_count": 2,
   "id": "a81cada1-7ad6-4401-874d-d8ac6f3a8433",
   "metadata": {
    "execution": {
     "iopub.execute_input": "2022-04-06T16:34:48.708784Z",
     "iopub.status.busy": "2022-04-06T16:34:48.708500Z",
     "iopub.status.idle": "2022-04-06T16:34:49.002046Z",
     "shell.execute_reply": "2022-04-06T16:34:49.001054Z",
     "shell.execute_reply.started": "2022-04-06T16:34:48.708751Z"
    },
    "tags": []
   },
   "outputs": [
    {
     "data": {
      "application/vnd.jupyter.widget-view+json": {
       "model_id": "0e8d33e219494cc9ae6f8f525b36451c",
       "version_major": 2,
       "version_minor": 0
      },
      "text/plain": [
       "VBox()"
      ]
     },
     "metadata": {},
     "output_type": "display_data"
    },
    {
     "data": {
      "application/vnd.jupyter.widget-view+json": {
       "model_id": "",
       "version_major": 2,
       "version_minor": 0
      },
      "text/plain": [
       "FloatProgress(value=0.0, bar_style='info', description='Progress:', layout=Layout(height='25px', width='50%'),…"
      ]
     },
     "metadata": {},
     "output_type": "display_data"
    }
   ],
   "source": [
    "vectorized_tokens=df_train.select(\"features\")"
   ]
  },
  {
   "cell_type": "code",
   "execution_count": null,
   "id": "1706df60-f357-4603-b1c8-7f86501f8813",
   "metadata": {},
   "outputs": [],
   "source": [
    "# cache and checkpoint \n",
    "# localcheckpoint "
   ]
  },
  {
   "cell_type": "code",
   "execution_count": 3,
   "id": "a045dae5-f8c3-41c3-ac70-d6995e905ee1",
   "metadata": {
    "execution": {
     "iopub.execute_input": "2022-04-06T16:34:50.787609Z",
     "iopub.status.busy": "2022-04-06T16:34:50.787335Z",
     "iopub.status.idle": "2022-04-06T16:34:54.124370Z",
     "shell.execute_reply": "2022-04-06T16:34:54.123420Z",
     "shell.execute_reply.started": "2022-04-06T16:34:50.787577Z"
    },
    "tags": []
   },
   "outputs": [
    {
     "data": {
      "application/vnd.jupyter.widget-view+json": {
       "model_id": "6b45fe9780494f8f86fc083946037012",
       "version_major": 2,
       "version_minor": 0
      },
      "text/plain": [
       "VBox()"
      ]
     },
     "metadata": {},
     "output_type": "display_data"
    },
    {
     "data": {
      "application/vnd.jupyter.widget-view+json": {
       "model_id": "",
       "version_major": 2,
       "version_minor": 0
      },
      "text/plain": [
       "FloatProgress(value=0.0, bar_style='info', description='Progress:', layout=Layout(height='25px', width='50%'),…"
      ]
     },
     "metadata": {},
     "output_type": "display_data"
    },
    {
     "name": "stdout",
     "output_type": "stream",
     "text": [
      "+--------------------+\n",
      "|            features|\n",
      "+--------------------+\n",
      "|(10000,[0,1,5,6,1...|\n",
      "|(10000,[1,7,11,13...|\n",
      "|(10000,[0,2,6,7,1...|\n",
      "|(10000,[0,1,3,4,5...|\n",
      "|(10000,[0,11,16,4...|\n",
      "+--------------------+\n",
      "only showing top 5 rows"
     ]
    }
   ],
   "source": [
    "vectorized_tokens.show(5)"
   ]
  },
  {
   "cell_type": "code",
   "execution_count": 5,
   "id": "401c8ebd-34c3-45d8-b678-fa9ad5d25b9d",
   "metadata": {
    "execution": {
     "iopub.execute_input": "2022-04-06T16:36:06.029102Z",
     "iopub.status.busy": "2022-04-06T16:36:06.028800Z",
     "iopub.status.idle": "2022-04-06T16:36:06.122061Z",
     "shell.execute_reply": "2022-04-06T16:36:06.120856Z",
     "shell.execute_reply.started": "2022-04-06T16:36:06.029067Z"
    },
    "tags": []
   },
   "outputs": [
    {
     "data": {
      "application/vnd.jupyter.widget-view+json": {
       "model_id": "f9ab90b066b84239a4c2f1eaf718ff06",
       "version_major": 2,
       "version_minor": 0
      },
      "text/plain": [
       "VBox()"
      ]
     },
     "metadata": {},
     "output_type": "display_data"
    },
    {
     "data": {
      "application/vnd.jupyter.widget-view+json": {
       "model_id": "",
       "version_major": 2,
       "version_minor": 0
      },
      "text/plain": [
       "FloatProgress(value=0.0, bar_style='info', description='Progress:', layout=Layout(height='25px', width='50%'),…"
      ]
     },
     "metadata": {},
     "output_type": "display_data"
    },
    {
     "name": "stdout",
     "output_type": "stream",
     "text": [
      "27"
     ]
    }
   ],
   "source": [
    "vectorized_tokens.rdd.getNumPartitions()"
   ]
  },
  {
   "cell_type": "code",
   "execution_count": 6,
   "id": "b57526ce-ecad-410a-a175-6ce866ac17a1",
   "metadata": {
    "execution": {
     "iopub.execute_input": "2022-04-06T16:39:14.803714Z",
     "iopub.status.busy": "2022-04-06T16:39:14.803426Z",
     "iopub.status.idle": "2022-04-06T16:39:26.149890Z",
     "shell.execute_reply": "2022-04-06T16:39:26.148933Z",
     "shell.execute_reply.started": "2022-04-06T16:39:14.803680Z"
    }
   },
   "outputs": [
    {
     "data": {
      "application/vnd.jupyter.widget-view+json": {
       "model_id": "89e471e88ff84e1cbe11f57adffcfd37",
       "version_major": 2,
       "version_minor": 0
      },
      "text/plain": [
       "VBox()"
      ]
     },
     "metadata": {},
     "output_type": "display_data"
    },
    {
     "data": {
      "application/vnd.jupyter.widget-view+json": {
       "model_id": "",
       "version_major": 2,
       "version_minor": 0
      },
      "text/plain": [
       "FloatProgress(value=0.0, bar_style='info', description='Progress:', layout=Layout(height='25px', width='50%'),…"
      ]
     },
     "metadata": {},
     "output_type": "display_data"
    },
    {
     "name": "stdout",
     "output_type": "stream",
     "text": [
      "3548711"
     ]
    }
   ],
   "source": [
    "vectorized_tokens.count()"
   ]
  },
  {
   "cell_type": "code",
   "execution_count": null,
   "id": "c3376b13-e53b-46ff-a5de-fc5069f3b079",
   "metadata": {
    "tags": []
   },
   "outputs": [],
   "source": [
    "from pyspark.ml.clustering import LDA\n",
    "num_topics = 10\n",
    "lda = LDA(k=num_topics, maxIter=1)\n",
    "model = lda.fit(vectorized_tokens)\n",
    "ll = model.logLikelihood(vectorized_tokens)\n",
    "lp = model.logPerplexity(vectorized_tokens)\n",
    "print(\"The lower bound on the log likelihood of the entire corpus: \" + str(ll))\n",
    "print(\"The upper bound on perplexity: \" + str(lp))"
   ]
  },
  {
   "cell_type": "code",
   "execution_count": null,
   "id": "7be2e66c-f4ea-49e0-b611-b72cc844d5e1",
   "metadata": {},
   "outputs": [],
   "source": [
    "# extract vocabulary from CountVectorizer\n",
    "vocab = countVectors.vocabulary\n",
    "topics = model.describeTopics()   \n",
    "topics_rdd = topics.rdd\n",
    "topics_words = topics_rdd\\\n",
    "       .map(lambda row: row['termIndices'])\\\n",
    "       .map(lambda idx_list: [vocab[idx] for idx in idx_list])\\\n",
    "       .collect()\n",
    "for idx, topic in enumerate(topics_words):\n",
    "    print(\"topic: {}\".format(idx))\n",
    "    print(\"*\"*25)\n",
    "    for word in topic:\n",
    "       print(word)\n",
    "    print(\"*\"*25)"
   ]
  },
  {
   "cell_type": "code",
   "execution_count": null,
   "id": "1de77a64-21c9-48bf-b53b-e0b9b97220f2",
   "metadata": {},
   "outputs": [],
   "source": [
    "def plot_top_words(model, feature_names, n_top_words, title):\n",
    "    #Modified from SKlearn\n",
    "    fig, axes = plt.subplots(2, 5, figsize=(15, 7))\n",
    "    axes = axes.flatten()\n",
    "    for topic_idx, topic in enumerate(model.components_):\n",
    "        top_features_ind = topic.argsort()[:-n_top_words - 1:-1]\n",
    "        top_features = [feature_names[i] for i in top_features_ind]\n",
    "        weights = topic[top_features_ind]\n",
    "\n",
    "        ax = axes[topic_idx]\n",
    "        ax.barh(top_features, weights, height=0.7)\n",
    "        ax.set_title(f'Topic {topic_idx +1}',\n",
    "                     fontdict={'fontsize': 15})\n",
    "        ax.invert_yaxis()\n",
    "        ax.tick_params(axis='both', which='major', labelsize=20)\n",
    "        for i in 'top right left'.split():\n",
    "            ax.spines[i].set_visible(False)\n",
    "        fig.suptitle(title, fontsize=15)\n",
    "        ax.tick_params(bottom=False)\n",
    "        ax.set(xticklabels=[])\n",
    "\n",
    "    plt.subplots_adjust(top=0.90, bottom=0.05, wspace=0.90, hspace=0.3)\n",
    "    plt.show()"
   ]
  },
  {
   "cell_type": "code",
   "execution_count": null,
   "id": "bb14456f-6297-404c-9726-b13e69556129",
   "metadata": {},
   "outputs": [],
   "source": [
    "plot_top_words(model,features, 20,'Topics in LDa')"
   ]
  },
  {
   "cell_type": "code",
   "execution_count": null,
   "id": "4911f89f-fc8b-4dfb-9435-4a1f34d0462f",
   "metadata": {},
   "outputs": [],
   "source": []
  },
  {
   "cell_type": "code",
   "execution_count": null,
   "id": "1a545141-04cc-4132-86ec-442251a653ac",
   "metadata": {},
   "outputs": [],
   "source": []
  },
  {
   "cell_type": "code",
   "execution_count": null,
   "id": "015a7a26-3278-4df2-9929-348c3e1c90ae",
   "metadata": {},
   "outputs": [],
   "source": []
  }
 ],
 "metadata": {
  "kernelspec": {
   "display_name": "PySpark",
   "language": "",
   "name": "pysparkkernel"
  },
  "language_info": {
   "codemirror_mode": {
    "name": "python",
    "version": 3
   },
   "mimetype": "text/x-python",
   "name": "pyspark",
   "pygments_lexer": "python3"
  }
 },
 "nbformat": 4,
 "nbformat_minor": 5
}
