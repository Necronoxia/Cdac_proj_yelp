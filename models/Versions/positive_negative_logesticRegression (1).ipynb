{
 "cells": [
  {
   "cell_type": "code",
   "execution_count": 1,
   "id": "17a5645a-5cfd-4240-9569-89e25e9d5153",
   "metadata": {
    "execution": {
     "iopub.execute_input": "2022-04-08T12:50:47.470991Z",
     "iopub.status.busy": "2022-04-08T12:50:47.470699Z",
     "iopub.status.idle": "2022-04-08T12:51:37.910795Z",
     "shell.execute_reply": "2022-04-08T12:51:37.909309Z",
     "shell.execute_reply.started": "2022-04-08T12:50:47.470939Z"
    },
    "tags": []
   },
   "outputs": [
    {
     "data": {
      "application/vnd.jupyter.widget-view+json": {
       "model_id": "19d724d451d0419aae2d34783403649e",
       "version_major": 2,
       "version_minor": 0
      },
      "text/plain": [
       "VBox()"
      ]
     },
     "metadata": {},
     "output_type": "display_data"
    },
    {
     "name": "stdout",
     "output_type": "stream",
     "text": [
      "Starting Spark application\n"
     ]
    },
    {
     "data": {
      "text/html": [
       "<table>\n",
       "<tr><th>ID</th><th>YARN Application ID</th><th>Kind</th><th>State</th><th>Spark UI</th><th>Driver log</th><th>Current session?</th></tr><tr><td>5</td><td>application_1649417904657_0009</td><td>pyspark</td><td>idle</td><td><a target=\"_blank\" href=\"http://ip-172-31-62-13.ec2.internal:20888/proxy/application_1649417904657_0009/\" class=\"emr-proxy-link\" emr-resource=\"j-2XHBFWEJCXWRW\n",
       "\" application-id=\"application_1649417904657_0009\">Link</a></td><td><a target=\"_blank\" href=\"http://ip-172-31-58-161.ec2.internal:8042/node/containerlogs/container_1649417904657_0009_01_000002/livy\" >Link</a></td><td>✔</td></tr></table>"
      ],
      "text/plain": [
       "<IPython.core.display.HTML object>"
      ]
     },
     "metadata": {},
     "output_type": "display_data"
    },
    {
     "data": {
      "application/vnd.jupyter.widget-view+json": {
       "model_id": "",
       "version_major": 2,
       "version_minor": 0
      },
      "text/plain": [
       "FloatProgress(value=0.0, bar_style='info', description='Progress:', layout=Layout(height='25px', width='50%'),…"
      ]
     },
     "metadata": {},
     "output_type": "display_data"
    },
    {
     "name": "stdout",
     "output_type": "stream",
     "text": [
      "SparkSession available as 'spark'.\n"
     ]
    },
    {
     "data": {
      "application/vnd.jupyter.widget-view+json": {
       "model_id": "",
       "version_major": 2,
       "version_minor": 0
      },
      "text/plain": [
       "FloatProgress(value=0.0, bar_style='info', description='Progress:', layout=Layout(height='25px', width='50%'),…"
      ]
     },
     "metadata": {},
     "output_type": "display_data"
    },
    {
     "name": "stdout",
     "output_type": "stream",
     "text": [
      "Collecting pandas==0.25.1\n",
      "  Using cached https://files.pythonhosted.org/packages/7e/ab/ea76361f9d3e732e114adcd801d2820d5319c23d0ac5482fa3b412db217e/pandas-0.25.1-cp37-cp37m-manylinux1_x86_64.whl\n",
      "Requirement already satisfied: pytz>=2017.2 in /usr/local/lib/python3.7/site-packages (from pandas==0.25.1)\n",
      "Requirement already satisfied: numpy>=1.13.3 in /usr/local/lib64/python3.7/site-packages (from pandas==0.25.1)\n",
      "Collecting python-dateutil>=2.6.1 (from pandas==0.25.1)\n",
      "  Using cached https://files.pythonhosted.org/packages/36/7a/87837f39d0296e723bb9b62bbb257d0355c7f6128853c78955f57342a56d/python_dateutil-2.8.2-py2.py3-none-any.whl\n",
      "Requirement already satisfied: six>=1.5 in /usr/local/lib/python3.7/site-packages (from python-dateutil>=2.6.1->pandas==0.25.1)\n",
      "Installing collected packages: python-dateutil, pandas\n",
      "Successfully installed pandas-0.25.1 python-dateutil-2.8.2\n",
      "\n",
      "Collecting textblob\n",
      "  Using cached https://files.pythonhosted.org/packages/44/a4/595b66c1342a830f4ff476307c4367541cce3e361b9ee96d22a5eeeddd1d/textblob-0.17.1-py2.py3-none-any.whl\n",
      "Requirement already satisfied: nltk>=3.1; python_version >= \"3\" in /usr/local/lib/python3.7/site-packages (from textblob)\n",
      "Requirement already satisfied: click in /usr/local/lib64/python3.7/site-packages (from nltk>=3.1; python_version >= \"3\"->textblob)\n",
      "Requirement already satisfied: joblib in /usr/local/lib64/python3.7/site-packages (from nltk>=3.1; python_version >= \"3\"->textblob)\n",
      "Requirement already satisfied: regex in /usr/local/lib64/python3.7/site-packages (from nltk>=3.1; python_version >= \"3\"->textblob)\n",
      "Requirement already satisfied: tqdm in /usr/local/lib64/python3.7/site-packages (from nltk>=3.1; python_version >= \"3\"->textblob)\n",
      "Installing collected packages: textblob\n",
      "Successfully installed textblob-0.17.1\n",
      "\n",
      "You are using pip version 9.0.1, however version 22.0.4 is available.\n",
      "You should consider upgrading via the 'pip install --upgrade pip' command.\n",
      "\n",
      "You are using pip version 9.0.1, however version 22.0.4 is available.\n",
      "You should consider upgrading via the 'pip install --upgrade pip' command."
     ]
    }
   ],
   "source": [
    "sc.install_pypi_package(\"pandas==0.25.1\")\n",
    "sc.install_pypi_package(\"textblob\")"
   ]
  },
  {
   "cell_type": "code",
   "execution_count": 2,
   "id": "fe806516-fb0d-4fda-a241-8cd0d25ad5a4",
   "metadata": {
    "execution": {
     "iopub.execute_input": "2022-04-08T12:51:37.913209Z",
     "iopub.status.busy": "2022-04-08T12:51:37.912906Z",
     "iopub.status.idle": "2022-04-08T12:51:38.771884Z",
     "shell.execute_reply": "2022-04-08T12:51:38.770860Z",
     "shell.execute_reply.started": "2022-04-08T12:51:37.913165Z"
    },
    "tags": []
   },
   "outputs": [
    {
     "data": {
      "application/vnd.jupyter.widget-view+json": {
       "model_id": "7ae44cbb0ac242ec8c0c4ef324aa9e5e",
       "version_major": 2,
       "version_minor": 0
      },
      "text/plain": [
       "VBox()"
      ]
     },
     "metadata": {},
     "output_type": "display_data"
    },
    {
     "data": {
      "application/vnd.jupyter.widget-view+json": {
       "model_id": "",
       "version_major": 2,
       "version_minor": 0
      },
      "text/plain": [
       "FloatProgress(value=0.0, bar_style='info', description='Progress:', layout=Layout(height='25px', width='50%'),…"
      ]
     },
     "metadata": {},
     "output_type": "display_data"
    }
   ],
   "source": [
    "from pyspark.sql.functions import *\n",
    "from pyspark.sql.functions import udf\n",
    "from pyspark.sql.types import IntegerType\n",
    "\n",
    "from pyspark.mllib.classification import SVMModel, SVMWithSGD\n",
    "from pyspark.mllib.regression import LabeledPoint\n",
    "from pyspark.mllib.linalg import Vectors as MLLibVectors\n",
    "from pyspark.ml import Pipeline\n",
    "from pyspark.ml.evaluation import BinaryClassificationEvaluator, MulticlassClassificationEvaluator\n",
    "from pyspark.ml.feature import * \n",
    "from pyspark.ml.tuning import CrossValidator\n",
    "from pyspark.ml.tuning import ParamGridBuilder\n",
    "\n",
    "\n",
    "from nltk.stem.porter import *\n",
    "from nltk.tokenize import word_tokenize, sent_tokenize\n",
    "from nltk.corpus import stopwords\n",
    "\n",
    "\n",
    "from pyspark.ml.feature import IDF\n",
    "\n",
    "#import pandas as pd\n",
    "import string \n",
    "import re \n",
    "\n",
    "from textblob import TextBlob\n",
    "from pyspark.sql.functions import udf\n",
    "from pyspark.sql.types import DoubleType\n",
    "\n",
    "from pyspark.ml import Pipeline\n",
    "from pyspark.ml.feature import OneHotEncoder, StringIndexer, VectorAssembler\n"
   ]
  },
  {
   "cell_type": "code",
   "execution_count": 3,
   "id": "ec8b70ef-27ae-459c-b66a-e74310911f93",
   "metadata": {
    "execution": {
     "iopub.execute_input": "2022-04-08T12:51:38.773488Z",
     "iopub.status.busy": "2022-04-08T12:51:38.773251Z",
     "iopub.status.idle": "2022-04-08T12:51:41.130113Z",
     "shell.execute_reply": "2022-04-08T12:51:41.128883Z",
     "shell.execute_reply.started": "2022-04-08T12:51:38.773458Z"
    },
    "tags": []
   },
   "outputs": [
    {
     "data": {
      "application/vnd.jupyter.widget-view+json": {
       "model_id": "7566f639907e46c19dd7d56f3313b126",
       "version_major": 2,
       "version_minor": 0
      },
      "text/plain": [
       "VBox()"
      ]
     },
     "metadata": {},
     "output_type": "display_data"
    },
    {
     "data": {
      "application/vnd.jupyter.widget-view+json": {
       "model_id": "",
       "version_major": 2,
       "version_minor": 0
      },
      "text/plain": [
       "FloatProgress(value=0.0, bar_style='info', description='Progress:', layout=Layout(height='25px', width='50%'),…"
      ]
     },
     "metadata": {},
     "output_type": "display_data"
    }
   ],
   "source": [
    "review = spark.read.orc(\"hdfs:///NLP_orc_shrunk/\")"
   ]
  },
  {
   "cell_type": "code",
   "execution_count": 4,
   "id": "cd21aa9a-c0de-4b21-9551-4ee3e9934c98",
   "metadata": {
    "execution": {
     "iopub.execute_input": "2022-04-08T12:51:41.148231Z",
     "iopub.status.busy": "2022-04-08T12:51:41.146160Z",
     "iopub.status.idle": "2022-04-08T12:51:44.499393Z",
     "shell.execute_reply": "2022-04-08T12:51:44.498339Z",
     "shell.execute_reply.started": "2022-04-08T12:51:41.148193Z"
    },
    "tags": []
   },
   "outputs": [
    {
     "data": {
      "application/vnd.jupyter.widget-view+json": {
       "model_id": "d657af6036754591a37dd8ca243ea713",
       "version_major": 2,
       "version_minor": 0
      },
      "text/plain": [
       "VBox()"
      ]
     },
     "metadata": {},
     "output_type": "display_data"
    },
    {
     "data": {
      "application/vnd.jupyter.widget-view+json": {
       "model_id": "",
       "version_major": 2,
       "version_minor": 0
      },
      "text/plain": [
       "FloatProgress(value=0.0, bar_style='info', description='Progress:', layout=Layout(height='25px', width='50%'),…"
      ]
     },
     "metadata": {},
     "output_type": "display_data"
    },
    {
     "name": "stdout",
     "output_type": "stream",
     "text": [
      "+-----+--------------------+\n",
      "|stars|                text|\n",
      "+-----+--------------------+\n",
      "|  5.0|What a great find...|\n",
      "|  2.0|The only reason I...|\n",
      "+-----+--------------------+\n",
      "only showing top 2 rows"
     ]
    }
   ],
   "source": [
    "review.show(2)"
   ]
  },
  {
   "cell_type": "code",
   "execution_count": 5,
   "id": "0efecde3-1a4b-4ef6-92da-b79840d9e308",
   "metadata": {
    "execution": {
     "iopub.execute_input": "2022-04-08T12:51:44.500872Z",
     "iopub.status.busy": "2022-04-08T12:51:44.500639Z",
     "iopub.status.idle": "2022-04-08T12:51:44.801262Z",
     "shell.execute_reply": "2022-04-08T12:51:44.799968Z",
     "shell.execute_reply.started": "2022-04-08T12:51:44.500841Z"
    },
    "tags": []
   },
   "outputs": [
    {
     "data": {
      "application/vnd.jupyter.widget-view+json": {
       "model_id": "b9d469f91b1f4a208a771bfa3fe158ed",
       "version_major": 2,
       "version_minor": 0
      },
      "text/plain": [
       "VBox()"
      ]
     },
     "metadata": {},
     "output_type": "display_data"
    },
    {
     "data": {
      "application/vnd.jupyter.widget-view+json": {
       "model_id": "",
       "version_major": 2,
       "version_minor": 0
      },
      "text/plain": [
       "FloatProgress(value=0.0, bar_style='info', description='Progress:', layout=Layout(height='25px', width='50%'),…"
      ]
     },
     "metadata": {},
     "output_type": "display_data"
    }
   ],
   "source": [
    "# remove punctuation\n",
    "def remove_punct(text):\n",
    "    regex = re.compile('[' + re.escape(string.punctuation) + '0-9\\\\r\\\\t\\\\n]')\n",
    "    nopunct = regex.sub(\" \", text) \n",
    "    \n",
    "    return nopunct\n",
    "    \n",
    "# binarize rating\n",
    "def convert_rating(rating):\n",
    "    rating = int(rating)\n",
    "    if rating >=4: return 1\n",
    "    else: return 0\n",
    "\n",
    "# udf\n",
    "punct_remover = udf(lambda x: remove_punct(x))\n",
    "rating_convert = udf(lambda x: convert_rating(x))\n",
    "\n",
    "# apply to review raw data\n",
    "review_df = review.select(punct_remover('text'), rating_convert('stars'))\n",
    "\n",
    "review_df = review_df.withColumnRenamed('<lambda>(text)', 'text')\\\n",
    "                     .withColumn('label', review_df[\"<lambda>(stars)\"].cast(IntegerType()))\\\n",
    "                     .drop('<lambda>(stars)')"
   ]
  },
  {
   "cell_type": "code",
   "execution_count": 6,
   "id": "470add4c-5db6-445e-b81a-ec91f784d4ec",
   "metadata": {
    "execution": {
     "iopub.execute_input": "2022-04-08T12:51:44.802994Z",
     "iopub.status.busy": "2022-04-08T12:51:44.802645Z",
     "iopub.status.idle": "2022-04-08T12:51:46.125001Z",
     "shell.execute_reply": "2022-04-08T12:51:46.123789Z",
     "shell.execute_reply.started": "2022-04-08T12:51:44.802959Z"
    },
    "tags": []
   },
   "outputs": [
    {
     "data": {
      "application/vnd.jupyter.widget-view+json": {
       "model_id": "e8db15dd72a746c9a2607bcd76ff5fdb",
       "version_major": 2,
       "version_minor": 0
      },
      "text/plain": [
       "VBox()"
      ]
     },
     "metadata": {},
     "output_type": "display_data"
    },
    {
     "data": {
      "application/vnd.jupyter.widget-view+json": {
       "model_id": "",
       "version_major": 2,
       "version_minor": 0
      },
      "text/plain": [
       "FloatProgress(value=0.0, bar_style='info', description='Progress:', layout=Layout(height='25px', width='50%'),…"
      ]
     },
     "metadata": {},
     "output_type": "display_data"
    },
    {
     "name": "stdout",
     "output_type": "stream",
     "text": [
      "+--------------------+-----+\n",
      "|                text|label|\n",
      "+--------------------+-----+\n",
      "|What a great find...|    1|\n",
      "|The only reason I...|    0|\n",
      "|It s fun that it ...|    0|\n",
      "|I ve been to Smit...|    0|\n",
      "|We do love the fo...|    1|\n",
      "+--------------------+-----+\n",
      "only showing top 5 rows"
     ]
    }
   ],
   "source": [
    "review_df.show(5)"
   ]
  },
  {
   "cell_type": "code",
   "execution_count": 7,
   "id": "dba426fa-d8ad-43f5-8ca5-b75e1556e727",
   "metadata": {
    "execution": {
     "iopub.execute_input": "2022-04-08T12:51:46.127394Z",
     "iopub.status.busy": "2022-04-08T12:51:46.127113Z",
     "iopub.status.idle": "2022-04-08T12:51:46.238592Z",
     "shell.execute_reply": "2022-04-08T12:51:46.237489Z",
     "shell.execute_reply.started": "2022-04-08T12:51:46.127337Z"
    },
    "tags": []
   },
   "outputs": [
    {
     "data": {
      "application/vnd.jupyter.widget-view+json": {
       "model_id": "711d393072ef42f9966625e321450b43",
       "version_major": 2,
       "version_minor": 0
      },
      "text/plain": [
       "VBox()"
      ]
     },
     "metadata": {},
     "output_type": "display_data"
    },
    {
     "data": {
      "application/vnd.jupyter.widget-view+json": {
       "model_id": "",
       "version_major": 2,
       "version_minor": 0
      },
      "text/plain": [
       "FloatProgress(value=0.0, bar_style='info', description='Progress:', layout=Layout(height='25px', width='50%'),…"
      ]
     },
     "metadata": {},
     "output_type": "display_data"
    }
   ],
   "source": [
    "stops = [\"0o\", \"0s\", \"3a\", \"3b\", \"3d\", \"6b\", \"6o\", \"a\", \"a1\", \"a2\", \"a3\", \"a4\", \"ab\", \"able\", \"about\", \"above\", \"abst\", \"ac\", \"accordance\", \"according\", \"accordingly\", \"across\", \"act\", \"actually\", \"ad\", \"added\", \"adj\", \"ae\", \"af\", \"affected\", \"affecting\", \"affects\", \"after\", \"afterwards\", \"ag\", \"again\", \"against\", \"ah\", \"ain\", \"ain't\", \"aj\", \"al\", \"all\", \"allow\", \"allows\", \"almost\", \"alone\", \"along\", \"already\", \"also\", \"although\", \"always\", \"am\", \"among\", \"amongst\", \"amoungst\", \"amount\", \"an\", \"and\", \"announce\", \"another\", \"any\", \"anybody\", \"anyhow\", \"anymore\", \"anyone\", \"anything\", \"anyway\", \"anyways\", \"anywhere\", \"ao\", \"ap\", \"apart\", \"apparently\", \"appear\", \"appreciate\", \"appropriate\", \"approximately\", \"ar\", \"are\", \"aren\", \"arent\", \"aren't\", \"arise\", \"around\", \"as\", \"a's\", \"aside\", \"ask\", \"asking\", \"associated\", \"at\", \"au\", \"auth\", \"av\", \"available\", \"aw\", \"away\", \"awfully\", \"ax\", \"ay\", \"az\", \"b\", \"b1\", \"b2\", \"b3\", \"ba\", \"back\", \"bc\", \"bd\", \"be\", \"became\", \"because\", \"become\", \"becomes\", \"becoming\", \"been\", \"before\", \"beforehand\", \"begin\", \"beginning\", \"beginnings\", \"begins\", \"behind\", \"being\", \"believe\", \"below\", \"beside\", \"besides\", \"best\", \"better\", \"between\", \"beyond\", \"bi\", \"bill\", \"biol\", \"bj\", \"bk\", \"bl\", \"bn\", \"both\", \"bottom\", \"bp\", \"br\", \"brief\", \"briefly\", \"bs\", \"bt\", \"bu\", \"but\", \"bx\", \"by\", \"c\", \"c1\", \"c2\", \"c3\", \"ca\", \"call\", \"came\", \"can\", \"cannot\", \"cant\", \"can't\", \"cause\", \"causes\", \"cc\", \"cd\", \"ce\", \"certain\", \"certainly\", \"cf\", \"cg\", \"ch\", \"changes\", \"ci\", \"cit\", \"cj\", \"cl\", \"clearly\", \"cm\", \"c'mon\", \"cn\", \"co\", \"com\", \"come\", \"comes\", \"con\", \"concerning\", \"consequently\", \"consider\", \"considering\", \"contain\", \"containing\", \"contains\", \"corresponding\", \"could\", \"couldn\", \"couldnt\", \"couldn't\", \"course\", \"cp\", \"cq\", \"cr\", \"cry\", \"cs\", \"c's\", \"ct\", \"cu\", \"currently\", \"cv\", \"cx\", \"cy\", \"cz\", \"d\", \"d2\", \"da\", \"date\", \"dc\", \"dd\", \"de\", \"definitely\", \"describe\", \"described\", \"despite\", \"detail\", \"df\", \"di\", \"did\", \"didn\", \"didn't\", \"different\", \"dj\", \"dk\", \"dl\", \"do\", \"does\", \"doesn\", \"doesn't\", \"doing\", \"don\", \"done\", \"don't\", \"down\", \"downwards\", \"dp\", \"dr\", \"ds\", \"dt\", \"du\", \"due\", \"during\", \"dx\", \"dy\", \"e\", \"e2\", \"e3\", \"ea\", \"each\", \"ec\", \"ed\", \"edu\", \"ee\", \"ef\", \"effect\", \"eg\", \"ei\", \"eight\", \"eighty\", \"either\", \"ej\", \"el\", \"eleven\", \"else\", \"elsewhere\", \"em\", \"empty\", \"en\", \"end\", \"ending\", \"enough\", \"entirely\", \"eo\", \"ep\", \"eq\", \"er\", \"es\", \"especially\", \"est\", \"et\", \"et-al\", \"etc\", \"eu\", \"ev\", \"even\", \"ever\", \"every\", \"everybody\", \"everyone\", \"everything\", \"everywhere\", \"ex\", \"exactly\", \"example\", \"except\", \"ey\", \"f\", \"f2\", \"fa\", \"far\", \"fc\", \"few\", \"ff\", \"fi\", \"fifteen\", \"fifth\", \"fify\", \"fill\", \"find\", \"fire\", \"first\", \"five\", \"fix\", \"fj\", \"fl\", \"fn\", \"fo\", \"followed\", \"following\", \"follows\", \"for\", \"former\", \"formerly\", \"forth\", \"forty\", \"found\", \"four\", \"fr\", \"from\", \"front\", \"fs\", \"ft\", \"fu\", \"full\", \"further\", \"furthermore\", \"fy\", \"g\", \"ga\", \"gave\", \"ge\", \"get\", \"gets\", \"getting\", \"gi\", \"give\", \"given\", \"gives\", \"giving\", \"gj\", \"gl\", \"go\", \"goes\", \"going\", \"gone\", \"got\", \"gotten\", \"gr\", \"greetings\", \"gs\", \"gy\", \"h\", \"h2\", \"h3\", \"had\", \"hadn\", \"hadn't\", \"happens\", \"hardly\", \"has\", \"hasn\", \"hasnt\", \"hasn't\", \"have\", \"haven\", \"haven't\", \"having\", \"he\", \"hed\", \"he'd\", \"he'll\", \"hello\", \"help\", \"hence\", \"her\", \"here\", \"hereafter\", \"hereby\", \"herein\", \"heres\", \"here's\", \"hereupon\", \"hers\", \"herself\", \"hes\", \"he's\", \"hh\", \"hi\", \"hid\", \"him\", \"himself\", \"his\", \"hither\", \"hj\", \"ho\", \"home\", \"hopefully\", \"how\", \"howbeit\", \"however\", \"how's\", \"hr\", \"hs\", \"http\", \"hu\", \"hundred\", \"hy\", \"i\", \"i2\", \"i3\", \"i4\", \"i6\", \"i7\", \"i8\", \"ia\", \"ib\", \"ibid\", \"ic\", \"id\", \"i'd\", \"ie\", \"if\", \"ig\", \"ignored\", \"ih\", \"ii\", \"ij\", \"il\", \"i'll\", \"im\", \"i'm\", \"immediate\", \"immediately\", \"importance\", \"important\", \"in\", \"inasmuch\", \"inc\", \"indeed\", \"index\", \"indicate\", \"indicated\", \"indicates\", \"information\", \"inner\", \"insofar\", \"instead\", \"interest\", \"into\", \"invention\", \"inward\", \"io\", \"ip\", \"iq\", \"ir\", \"is\", \"isn\", \"isn't\", \"it\", \"itd\", \"it'd\", \"it'll\", \"its\", \"it's\", \"itself\", \"iv\", \"i've\", \"ix\", \"iy\", \"iz\", \"j\", \"jj\", \"jr\", \"js\", \"jt\", \"ju\", \"just\", \"k\", \"ke\", \"keep\", \"keeps\", \"kept\", \"kg\", \"kj\", \"km\", \"know\", \"known\", \"knows\", \"ko\", \"l\", \"l2\", \"la\", \"largely\", \"last\", \"lately\", \"later\", \"latter\", \"latterly\", \"lb\", \"lc\", \"le\", \"least\", \"les\", \"less\", \"lest\", \"let\", \"lets\", \"let's\", \"lf\", \"like\", \"liked\", \"likely\", \"line\", \"little\", \"lj\", \"ll\", \"ll\", \"ln\", \"lo\", \"look\", \"looking\", \"looks\", \"los\", \"lr\", \"ls\", \"lt\", \"ltd\", \"m\", \"m2\", \"ma\", \"made\", \"mainly\", \"make\", \"makes\", \"many\", \"may\", \"maybe\", \"me\", \"mean\", \"means\", \"meantime\", \"meanwhile\", \"merely\", \"mg\", \"might\", \"mightn\", \"mightn't\", \"mill\", \"million\", \"mine\", \"miss\", \"ml\", \"mn\", \"mo\", \"more\", \"moreover\", \"most\", \"mostly\", \"move\", \"mr\", \"mrs\", \"ms\", \"mt\", \"mu\", \"much\", \"mug\", \"must\", \"mustn\", \"mustn't\", \"my\", \"myself\", \"n\", \"n2\", \"na\", \"name\", \"namely\", \"nay\", \"nc\", \"nd\", \"ne\", \"near\", \"nearly\", \"necessarily\", \"necessary\", \"need\", \"needn\", \"needn't\", \"needs\", \"neither\", \"never\", \"nevertheless\", \"new\", \"next\", \"ng\", \"ni\", \"nine\", \"ninety\", \"nj\", \"nl\", \"nn\", \"no\", \"nobody\", \"non\", \"none\", \"nonetheless\", \"noone\", \"nor\", \"normally\", \"nos\", \"not\", \"noted\", \"nothing\", \"novel\", \"now\", \"nowhere\", \"nr\", \"ns\", \"nt\", \"ny\", \"o\", \"oa\", \"ob\", \"obtain\", \"obtained\", \"obviously\", \"oc\", \"od\", \"of\", \"off\", \"often\", \"og\", \"oh\", \"oi\", \"oj\", \"ok\", \"okay\", \"ol\", \"old\", \"om\", \"omitted\", \"on\", \"once\", \"one\", \"ones\", \"only\", \"onto\", \"oo\", \"op\", \"oq\", \"or\", \"ord\", \"os\", \"ot\", \"other\", \"others\", \"otherwise\", \"ou\", \"ought\", \"our\", \"ours\", \"ourselves\", \"out\", \"outside\", \"over\", \"overall\", \"ow\", \"owing\", \"own\", \"ox\", \"oz\", \"p\", \"p1\", \"p2\", \"p3\", \"page\", \"pagecount\", \"pages\", \"par\", \"part\", \"particular\", \"particularly\", \"pas\", \"past\", \"pc\", \"pd\", \"pe\", \"per\", \"perhaps\", \"pf\", \"ph\", \"pi\", \"pj\", \"pk\", \"pl\", \"placed\", \"please\", \"plus\", \"pm\", \"pn\", \"po\", \"poorly\", \"possible\", \"possibly\", \"potentially\", \"pp\", \"pq\", \"pr\", \"predominantly\", \"present\", \"presumably\", \"previously\", \"primarily\", \"probably\", \"promptly\", \"proud\", \"provides\", \"ps\", \"pt\", \"pu\", \"put\", \"py\", \"q\", \"qj\", \"qu\", \"que\", \"quickly\", \"quite\", \"qv\", \"r\", \"r2\", \"ra\", \"ran\", \"rather\", \"rc\", \"rd\", \"re\", \"readily\", \"really\", \"reasonably\", \"recent\", \"recently\", \"ref\", \"refs\", \"regarding\", \"regardless\", \"regards\", \"related\", \"relatively\", \"research\", \"research-articl\", \"respectively\", \"resulted\", \"resulting\", \"results\", \"rf\", \"rh\", \"ri\", \"right\", \"rj\", \"rl\", \"rm\", \"rn\", \"ro\", \"rq\", \"rr\", \"rs\", \"rt\", \"ru\", \"run\", \"rv\", \"ry\", \"s\", \"s2\", \"sa\", \"said\", \"same\", \"saw\", \"say\", \"saying\", \"says\", \"sc\", \"sd\", \"se\", \"sec\", \"second\", \"secondly\", \"section\", \"see\", \"seeing\", \"seem\", \"seemed\", \"seeming\", \"seems\", \"seen\", \"self\", \"selves\", \"sensible\", \"sent\", \"serious\", \"seriously\", \"seven\", \"several\", \"sf\", \"shall\", \"shan\", \"shan't\", \"she\", \"shed\", \"she'd\", \"she'll\", \"shes\", \"she's\", \"should\", \"shouldn\", \"shouldn't\", \"should've\", \"show\", \"showed\", \"shown\", \"showns\", \"shows\", \"si\", \"side\", \"significant\", \"significantly\", \"similar\", \"similarly\", \"since\", \"sincere\", \"six\", \"sixty\", \"sj\", \"sl\", \"slightly\", \"sm\", \"sn\", \"so\", \"some\", \"somebody\", \"somehow\", \"someone\", \"somethan\", \"something\", \"sometime\", \"sometimes\", \"somewhat\", \"somewhere\", \"soon\", \"sorry\", \"sp\", \"specifically\", \"specified\", \"specify\", \"specifying\", \"sq\", \"sr\", \"ss\", \"st\", \"still\", \"stop\", \"strongly\", \"sub\", \"substantially\", \"successfully\", \"such\", \"sufficiently\", \"suggest\", \"sup\", \"sure\", \"sy\", \"system\", \"sz\", \"t\", \"t1\", \"t2\", \"t3\", \"take\", \"taken\", \"taking\", \"tb\", \"tc\", \"td\", \"te\", \"tell\", \"ten\", \"tends\", \"tf\", \"th\", \"than\", \"thank\", \"thanks\", \"thanx\", \"that\", \"that'll\", \"thats\", \"that's\", \"that've\", \"the\", \"their\", \"theirs\", \"them\", \"themselves\", \"then\", \"thence\", \"there\", \"thereafter\", \"thereby\", \"thered\", \"therefore\", \"therein\", \"there'll\", \"thereof\", \"therere\", \"theres\", \"there's\", \"thereto\", \"thereupon\", \"there've\", \"these\", \"they\", \"theyd\", \"they'd\", \"they'll\", \"theyre\", \"they're\", \"they've\", \"thickv\", \"thin\", \"think\", \"third\", \"this\", \"thorough\", \"thoroughly\", \"those\", \"thou\", \"though\", \"thoughh\", \"thousand\", \"three\", \"throug\", \"through\", \"throughout\", \"thru\", \"thus\", \"ti\", \"til\", \"tip\", \"tj\", \"tl\", \"tm\", \"tn\", \"to\", \"together\", \"too\", \"took\", \"top\", \"toward\", \"towards\", \"tp\", \"tq\", \"tr\", \"tried\", \"tries\", \"truly\", \"try\", \"trying\", \"ts\", \"t's\", \"tt\", \"tv\", \"twelve\", \"twenty\", \"twice\", \"two\", \"tx\", \"u\", \"u201d\", \"ue\", \"ui\", \"uj\", \"uk\", \"um\", \"un\", \"under\", \"unfortunately\", \"unless\", \"unlike\", \"unlikely\", \"until\", \"unto\", \"uo\", \"up\", \"upon\", \"ups\", \"ur\", \"us\", \"use\", \"used\", \"useful\", \"usefully\", \"usefulness\", \"uses\", \"using\", \"usually\", \"ut\", \"v\", \"va\", \"value\", \"various\", \"vd\", \"ve\", \"ve\", \"very\", \"via\", \"viz\", \"vj\", \"vo\", \"vol\", \"vols\", \"volumtype\", \"vq\", \"vs\", \"vt\", \"vu\", \"w\", \"wa\", \"want\", \"wants\", \"was\", \"wasn\", \"wasnt\", \"wasn't\", \"way\", \"we\", \"wed\", \"we'd\", \"welcome\", \"well\", \"we'll\", \"well-b\", \"went\", \"were\", \"we're\", \"weren\", \"werent\", \"weren't\", \"we've\", \"what\", \"whatever\", \"what'll\", \"whats\", \"what's\", \"when\", \"whence\", \"whenever\", \"when's\", \"where\", \"whereafter\", \"whereas\", \"whereby\", \"wherein\", \"wheres\", \"where's\", \"whereupon\", \"wherever\", \"whether\", \"which\", \"while\", \"whim\", \"whither\", \"who\", \"whod\", \"whoever\", \"whole\", \"who'll\", \"whom\", \"whomever\", \"whos\", \"who's\", \"whose\", \"why\", \"why's\", \"wi\", \"widely\", \"will\", \"willing\", \"wish\", \"with\", \"within\", \"without\", \"wo\", \"won\", \"wonder\", \"wont\", \"won't\", \"words\", \"world\", \"would\", \"wouldn\", \"wouldnt\", \"wouldn't\", \"www\", \"x\", \"x1\", \"x2\", \"x3\", \"xf\", \"xi\", \"xj\", \"xk\", \"xl\", \"xn\", \"xo\", \"xs\", \"xt\", \"xv\", \"xx\", \"y\", \"y2\", \"yes\", \"yet\", \"yj\", \"yl\", \"you\", \"youd\", \"you'd\", \"you'll\", \"your\", \"youre\", \"you're\", \"yours\", \"yourself\", \"yourselves\", \"you've\", \"yr\", \"ys\", \"yt\", \"z\", \"zero\", \"zi\", \"zz\"]"
   ]
  },
  {
   "cell_type": "code",
   "execution_count": 8,
   "id": "511d1dba-d535-462f-9abf-a2e9e752df3d",
   "metadata": {
    "execution": {
     "iopub.execute_input": "2022-04-08T12:51:46.242869Z",
     "iopub.status.busy": "2022-04-08T12:51:46.242488Z",
     "iopub.status.idle": "2022-04-08T12:51:46.538714Z",
     "shell.execute_reply": "2022-04-08T12:51:46.537673Z",
     "shell.execute_reply.started": "2022-04-08T12:51:46.242816Z"
    },
    "tags": []
   },
   "outputs": [
    {
     "data": {
      "application/vnd.jupyter.widget-view+json": {
       "model_id": "77fbed24dbb74c658a423c6b85b7dcf5",
       "version_major": 2,
       "version_minor": 0
      },
      "text/plain": [
       "VBox()"
      ]
     },
     "metadata": {},
     "output_type": "display_data"
    },
    {
     "data": {
      "application/vnd.jupyter.widget-view+json": {
       "model_id": "",
       "version_major": 2,
       "version_minor": 0
      },
      "text/plain": [
       "FloatProgress(value=0.0, bar_style='info', description='Progress:', layout=Layout(height='25px', width='50%'),…"
      ]
     },
     "metadata": {},
     "output_type": "display_data"
    }
   ],
   "source": [
    "rgtoken = RegexTokenizer(inputCol=\"text\",outputCol=\"words\",pattern=\"\\\\W\")\n",
    "\n",
    "token = Tokenizer(inputCol= \"words\", outputCol = \"tokens\")"
   ]
  },
  {
   "cell_type": "code",
   "execution_count": 9,
   "id": "4a036ff4-a5f2-4341-8b14-f52fa5535fe6",
   "metadata": {
    "execution": {
     "iopub.execute_input": "2022-04-08T12:51:46.549504Z",
     "iopub.status.busy": "2022-04-08T12:51:46.549171Z",
     "iopub.status.idle": "2022-04-08T12:51:46.852152Z",
     "shell.execute_reply": "2022-04-08T12:51:46.851084Z",
     "shell.execute_reply.started": "2022-04-08T12:51:46.549455Z"
    },
    "tags": []
   },
   "outputs": [
    {
     "data": {
      "application/vnd.jupyter.widget-view+json": {
       "model_id": "20a40e5124c244a2acc4de65d94e35b0",
       "version_major": 2,
       "version_minor": 0
      },
      "text/plain": [
       "VBox()"
      ]
     },
     "metadata": {},
     "output_type": "display_data"
    },
    {
     "data": {
      "application/vnd.jupyter.widget-view+json": {
       "model_id": "",
       "version_major": 2,
       "version_minor": 0
      },
      "text/plain": [
       "FloatProgress(value=0.0, bar_style='info', description='Progress:', layout=Layout(height='25px', width='50%'),…"
      ]
     },
     "metadata": {},
     "output_type": "display_data"
    }
   ],
   "source": [
    "stopword_remover = StopWordsRemover(inputCol=\"words\", outputCol=\"cleaned_tokens\")\\\n",
    "                    .setStopWords(stops)"
   ]
  },
  {
   "cell_type": "code",
   "execution_count": 10,
   "id": "504225b7-64cf-427e-a5ce-a877f37e03de",
   "metadata": {
    "execution": {
     "iopub.execute_input": "2022-04-08T12:51:46.854379Z",
     "iopub.status.busy": "2022-04-08T12:51:46.853783Z",
     "iopub.status.idle": "2022-04-08T12:51:46.952623Z",
     "shell.execute_reply": "2022-04-08T12:51:46.951020Z",
     "shell.execute_reply.started": "2022-04-08T12:51:46.854327Z"
    },
    "tags": []
   },
   "outputs": [
    {
     "data": {
      "application/vnd.jupyter.widget-view+json": {
       "model_id": "e44149efdbcf452cb36bce173f4e65d6",
       "version_major": 2,
       "version_minor": 0
      },
      "text/plain": [
       "VBox()"
      ]
     },
     "metadata": {},
     "output_type": "display_data"
    },
    {
     "data": {
      "application/vnd.jupyter.widget-view+json": {
       "model_id": "",
       "version_major": 2,
       "version_minor": 0
      },
      "text/plain": [
       "FloatProgress(value=0.0, bar_style='info', description='Progress:', layout=Layout(height='25px', width='50%'),…"
      ]
     },
     "metadata": {},
     "output_type": "display_data"
    }
   ],
   "source": [
    "countVectors = CountVectorizer(inputCol=\"cleaned_tokens\", outputCol=\"vectors\", vocabSize=10000, minDF=5)"
   ]
  },
  {
   "cell_type": "code",
   "execution_count": 11,
   "id": "25a35b7c-e733-4e03-b5a7-df2b7e3dd7fb",
   "metadata": {
    "execution": {
     "iopub.execute_input": "2022-04-08T12:51:46.955249Z",
     "iopub.status.busy": "2022-04-08T12:51:46.954596Z",
     "iopub.status.idle": "2022-04-08T12:51:47.088398Z",
     "shell.execute_reply": "2022-04-08T12:51:47.087356Z",
     "shell.execute_reply.started": "2022-04-08T12:51:46.955201Z"
    },
    "tags": []
   },
   "outputs": [
    {
     "data": {
      "application/vnd.jupyter.widget-view+json": {
       "model_id": "83c45b94de1d4320b15d3b5abbc5ff32",
       "version_major": 2,
       "version_minor": 0
      },
      "text/plain": [
       "VBox()"
      ]
     },
     "metadata": {},
     "output_type": "display_data"
    },
    {
     "data": {
      "application/vnd.jupyter.widget-view+json": {
       "model_id": "",
       "version_major": 2,
       "version_minor": 0
      },
      "text/plain": [
       "FloatProgress(value=0.0, bar_style='info', description='Progress:', layout=Layout(height='25px', width='50%'),…"
      ]
     },
     "metadata": {},
     "output_type": "display_data"
    }
   ],
   "source": [
    "Hashtf = HashingTF(inputCol=\"cleaned_tokens\", outputCol=\"rawFeatures\", numFeatures=2**14)"
   ]
  },
  {
   "cell_type": "code",
   "execution_count": 12,
   "id": "7059b1ee-36b2-49a0-87ba-286c8cc55330",
   "metadata": {
    "execution": {
     "iopub.execute_input": "2022-04-08T12:51:47.090557Z",
     "iopub.status.busy": "2022-04-08T12:51:47.089908Z",
     "iopub.status.idle": "2022-04-08T12:51:47.221142Z",
     "shell.execute_reply": "2022-04-08T12:51:47.215075Z",
     "shell.execute_reply.started": "2022-04-08T12:51:47.090503Z"
    },
    "tags": []
   },
   "outputs": [
    {
     "data": {
      "application/vnd.jupyter.widget-view+json": {
       "model_id": "3a44877ebb2c42ecbca6f47a6d1614cd",
       "version_major": 2,
       "version_minor": 0
      },
      "text/plain": [
       "VBox()"
      ]
     },
     "metadata": {},
     "output_type": "display_data"
    },
    {
     "data": {
      "application/vnd.jupyter.widget-view+json": {
       "model_id": "",
       "version_major": 2,
       "version_minor": 0
      },
      "text/plain": [
       "FloatProgress(value=0.0, bar_style='info', description='Progress:', layout=Layout(height='25px', width='50%'),…"
      ]
     },
     "metadata": {},
     "output_type": "display_data"
    }
   ],
   "source": [
    "idf = IDF(inputCol=\"rawFeatures\", outputCol=\"features\", minDocFreq=5.0)"
   ]
  },
  {
   "cell_type": "code",
   "execution_count": 13,
   "id": "0b905056-b153-467e-ae10-ba539f2c8924",
   "metadata": {
    "execution": {
     "iopub.execute_input": "2022-04-08T12:51:47.231173Z",
     "iopub.status.busy": "2022-04-08T12:51:47.222792Z",
     "iopub.status.idle": "2022-04-08T12:51:47.589543Z",
     "shell.execute_reply": "2022-04-08T12:51:47.588473Z",
     "shell.execute_reply.started": "2022-04-08T12:51:47.231115Z"
    },
    "tags": []
   },
   "outputs": [
    {
     "data": {
      "application/vnd.jupyter.widget-view+json": {
       "model_id": "39d42b0ee1f74696a02706f99097bdad",
       "version_major": 2,
       "version_minor": 0
      },
      "text/plain": [
       "VBox()"
      ]
     },
     "metadata": {},
     "output_type": "display_data"
    },
    {
     "data": {
      "application/vnd.jupyter.widget-view+json": {
       "model_id": "",
       "version_major": 2,
       "version_minor": 0
      },
      "text/plain": [
       "FloatProgress(value=0.0, bar_style='info', description='Progress:', layout=Layout(height='25px', width='50%'),…"
      ]
     },
     "metadata": {},
     "output_type": "display_data"
    }
   ],
   "source": [
    "pipeline  = Pipeline(stages=[rgtoken,stopword_remover,Hashtf,idf,countVectors])"
   ]
  },
  {
   "cell_type": "code",
   "execution_count": 14,
   "id": "8213448d-489d-472d-ba19-8a6c8b32231a",
   "metadata": {
    "execution": {
     "iopub.execute_input": "2022-04-08T12:51:47.591494Z",
     "iopub.status.busy": "2022-04-08T12:51:47.590960Z",
     "iopub.status.idle": "2022-04-08T12:54:37.545355Z",
     "shell.execute_reply": "2022-04-08T12:54:37.544332Z",
     "shell.execute_reply.started": "2022-04-08T12:51:47.591437Z"
    },
    "tags": []
   },
   "outputs": [
    {
     "data": {
      "application/vnd.jupyter.widget-view+json": {
       "model_id": "de5c0075adbd4f29aa2127bc39595e1e",
       "version_major": 2,
       "version_minor": 0
      },
      "text/plain": [
       "VBox()"
      ]
     },
     "metadata": {},
     "output_type": "display_data"
    },
    {
     "data": {
      "application/vnd.jupyter.widget-view+json": {
       "model_id": "",
       "version_major": 2,
       "version_minor": 0
      },
      "text/plain": [
       "FloatProgress(value=0.0, bar_style='info', description='Progress:', layout=Layout(height='25px', width='50%'),…"
      ]
     },
     "metadata": {},
     "output_type": "display_data"
    }
   ],
   "source": [
    "processed = pipeline.fit(review_df)"
   ]
  },
  {
   "cell_type": "code",
   "execution_count": 15,
   "id": "c9ea45db-8817-4cfe-a855-8c2898cdf78e",
   "metadata": {
    "execution": {
     "iopub.execute_input": "2022-04-08T12:54:37.547155Z",
     "iopub.status.busy": "2022-04-08T12:54:37.546807Z",
     "iopub.status.idle": "2022-04-08T12:54:38.357372Z",
     "shell.execute_reply": "2022-04-08T12:54:38.356202Z",
     "shell.execute_reply.started": "2022-04-08T12:54:37.547105Z"
    },
    "tags": []
   },
   "outputs": [
    {
     "data": {
      "application/vnd.jupyter.widget-view+json": {
       "model_id": "49984e9f60be4204a70f45e3dc8df6b4",
       "version_major": 2,
       "version_minor": 0
      },
      "text/plain": [
       "VBox()"
      ]
     },
     "metadata": {},
     "output_type": "display_data"
    },
    {
     "data": {
      "application/vnd.jupyter.widget-view+json": {
       "model_id": "",
       "version_major": 2,
       "version_minor": 0
      },
      "text/plain": [
       "FloatProgress(value=0.0, bar_style='info', description='Progress:', layout=Layout(height='25px', width='50%'),…"
      ]
     },
     "metadata": {},
     "output_type": "display_data"
    }
   ],
   "source": [
    "df_train = processed.transform(review_df)"
   ]
  },
  {
   "cell_type": "code",
   "execution_count": 16,
   "id": "7e88d698-80c1-457b-9b37-743002158c2f",
   "metadata": {
    "execution": {
     "iopub.execute_input": "2022-04-08T12:54:38.359345Z",
     "iopub.status.busy": "2022-04-08T12:54:38.358986Z",
     "iopub.status.idle": "2022-04-08T12:54:39.704846Z",
     "shell.execute_reply": "2022-04-08T12:54:39.703671Z",
     "shell.execute_reply.started": "2022-04-08T12:54:38.359293Z"
    },
    "tags": []
   },
   "outputs": [
    {
     "data": {
      "application/vnd.jupyter.widget-view+json": {
       "model_id": "b5418c4136a84c20aeba99cbe0ee16b4",
       "version_major": 2,
       "version_minor": 0
      },
      "text/plain": [
       "VBox()"
      ]
     },
     "metadata": {},
     "output_type": "display_data"
    },
    {
     "data": {
      "application/vnd.jupyter.widget-view+json": {
       "model_id": "",
       "version_major": 2,
       "version_minor": 0
      },
      "text/plain": [
       "FloatProgress(value=0.0, bar_style='info', description='Progress:', layout=Layout(height='25px', width='50%'),…"
      ]
     },
     "metadata": {},
     "output_type": "display_data"
    },
    {
     "name": "stdout",
     "output_type": "stream",
     "text": [
      "+--------------------+-----+--------------------+--------------------+--------------------+--------------------+--------------------+\n",
      "|                text|label|               words|      cleaned_tokens|         rawFeatures|            features|             vectors|\n",
      "+--------------------+-----+--------------------+--------------------+--------------------+--------------------+--------------------+\n",
      "|What a great find...|    1|[what, a, great, ...|[great, piece, po...|(16384,[42,1466,1...|(16384,[42,1466,1...|(10000,[0,1,4,5,1...|\n",
      "|The only reason I...|    0|[the, only, reaso...|[reason, stars, s...|(16384,[389,666,8...|(16384,[389,666,8...|(10000,[1,9,12,17...|\n",
      "+--------------------+-----+--------------------+--------------------+--------------------+--------------------+--------------------+\n",
      "only showing top 2 rows"
     ]
    }
   ],
   "source": [
    "df_train.show(2)"
   ]
  },
  {
   "cell_type": "code",
   "execution_count": 34,
   "id": "89500771-1706-4dbe-9680-9119be2dfdab",
   "metadata": {
    "execution": {
     "iopub.execute_input": "2022-04-08T13:08:57.147118Z",
     "iopub.status.busy": "2022-04-08T13:08:57.146825Z",
     "iopub.status.idle": "2022-04-08T13:12:19.079685Z",
     "shell.execute_reply": "2022-04-08T13:12:19.078795Z",
     "shell.execute_reply.started": "2022-04-08T13:08:57.147085Z"
    },
    "tags": []
   },
   "outputs": [
    {
     "data": {
      "application/vnd.jupyter.widget-view+json": {
       "model_id": "3187b1b8e40c4c05b8a4d0ae66b6deb7",
       "version_major": 2,
       "version_minor": 0
      },
      "text/plain": [
       "VBox()"
      ]
     },
     "metadata": {},
     "output_type": "display_data"
    },
    {
     "data": {
      "application/vnd.jupyter.widget-view+json": {
       "model_id": "",
       "version_major": 2,
       "version_minor": 0
      },
      "text/plain": [
       "FloatProgress(value=0.0, bar_style='info', description='Progress:', layout=Layout(height='25px', width='50%'),…"
      ]
     },
     "metadata": {},
     "output_type": "display_data"
    }
   ],
   "source": [
    "df_train.write.parquet(\"s3://shivamsp/pipeline_backup/pipeline_output\")"
   ]
  },
  {
   "cell_type": "code",
   "execution_count": 17,
   "id": "90e75d0c-5aa7-49e1-8400-8a0ae116ac96",
   "metadata": {
    "execution": {
     "iopub.execute_input": "2022-04-08T12:54:39.708090Z",
     "iopub.status.busy": "2022-04-08T12:54:39.707392Z",
     "iopub.status.idle": "2022-04-08T12:54:41.037295Z",
     "shell.execute_reply": "2022-04-08T12:54:41.036283Z",
     "shell.execute_reply.started": "2022-04-08T12:54:39.708030Z"
    },
    "tags": []
   },
   "outputs": [
    {
     "data": {
      "application/vnd.jupyter.widget-view+json": {
       "model_id": "458f0b0229a944b8bfc227a7b3f3e74c",
       "version_major": 2,
       "version_minor": 0
      },
      "text/plain": [
       "VBox()"
      ]
     },
     "metadata": {},
     "output_type": "display_data"
    },
    {
     "data": {
      "application/vnd.jupyter.widget-view+json": {
       "model_id": "",
       "version_major": 2,
       "version_minor": 0
      },
      "text/plain": [
       "FloatProgress(value=0.0, bar_style='info', description='Progress:', layout=Layout(height='25px', width='50%'),…"
      ]
     },
     "metadata": {},
     "output_type": "display_data"
    },
    {
     "name": "stdout",
     "output_type": "stream",
     "text": [
      "+--------------------+-----+--------------------+--------------------+--------------------+--------------------+--------------------+\n",
      "|                text|label|               words|      cleaned_tokens|         rawFeatures|            features|             vectors|\n",
      "+--------------------+-----+--------------------+--------------------+--------------------+--------------------+--------------------+\n",
      "|What a great find...|    1|[what, a, great, ...|[great, piece, po...|(16384,[42,1466,1...|(16384,[42,1466,1...|(10000,[0,1,4,5,1...|\n",
      "|The only reason I...|    0|[the, only, reaso...|[reason, stars, s...|(16384,[389,666,8...|(16384,[389,666,8...|(10000,[1,9,12,17...|\n",
      "+--------------------+-----+--------------------+--------------------+--------------------+--------------------+--------------------+\n",
      "only showing top 2 rows"
     ]
    }
   ],
   "source": [
    "df_train.show(2)"
   ]
  },
  {
   "cell_type": "code",
   "execution_count": 18,
   "id": "2b458555-aa38-4bd1-822c-909784e63f9c",
   "metadata": {
    "execution": {
     "iopub.execute_input": "2022-04-08T12:54:41.038708Z",
     "iopub.status.busy": "2022-04-08T12:54:41.038456Z",
     "iopub.status.idle": "2022-04-08T12:54:41.139658Z",
     "shell.execute_reply": "2022-04-08T12:54:41.138730Z",
     "shell.execute_reply.started": "2022-04-08T12:54:41.038667Z"
    },
    "tags": []
   },
   "outputs": [
    {
     "data": {
      "application/vnd.jupyter.widget-view+json": {
       "model_id": "adb8841801a844e8b778642ae6a6bd2d",
       "version_major": 2,
       "version_minor": 0
      },
      "text/plain": [
       "VBox()"
      ]
     },
     "metadata": {},
     "output_type": "display_data"
    },
    {
     "data": {
      "application/vnd.jupyter.widget-view+json": {
       "model_id": "",
       "version_major": 2,
       "version_minor": 0
      },
      "text/plain": [
       "FloatProgress(value=0.0, bar_style='info', description='Progress:', layout=Layout(height='25px', width='50%'),…"
      ]
     },
     "metadata": {},
     "output_type": "display_data"
    }
   ],
   "source": [
    "df_train=df_train.drop(\"label\")"
   ]
  },
  {
   "cell_type": "code",
   "execution_count": 19,
   "id": "c9c04a8e-2347-43eb-9f33-23ec230e7d5f",
   "metadata": {
    "execution": {
     "iopub.execute_input": "2022-04-08T12:54:41.141218Z",
     "iopub.status.busy": "2022-04-08T12:54:41.140910Z",
     "iopub.status.idle": "2022-04-08T12:54:41.230801Z",
     "shell.execute_reply": "2022-04-08T12:54:41.228225Z",
     "shell.execute_reply.started": "2022-04-08T12:54:41.141186Z"
    },
    "tags": []
   },
   "outputs": [
    {
     "data": {
      "application/vnd.jupyter.widget-view+json": {
       "model_id": "5a4115656a7c433caa5ef9b4913ba51b",
       "version_major": 2,
       "version_minor": 0
      },
      "text/plain": [
       "VBox()"
      ]
     },
     "metadata": {},
     "output_type": "display_data"
    },
    {
     "data": {
      "application/vnd.jupyter.widget-view+json": {
       "model_id": "",
       "version_major": 2,
       "version_minor": 0
      },
      "text/plain": [
       "FloatProgress(value=0.0, bar_style='info', description='Progress:', layout=Layout(height='25px', width='50%'),…"
      ]
     },
     "metadata": {},
     "output_type": "display_data"
    }
   ],
   "source": [
    "# Function to get sentiment \n",
    "def apply_blob(sentence):\n",
    "    temp = TextBlob(sentence).sentiment[0]   \n",
    "    if temp >= 0.0:\n",
    "        return 1.0 # Positive\n",
    "    elif temp == 0.0:\n",
    "        return 0.0 # Neutral\n",
    "    else:\n",
    "        return 2.0 # Negative\n",
    "# UDF to write sentiment on DF\n",
    "sentiment = udf(apply_blob, DoubleType())"
   ]
  },
  {
   "cell_type": "code",
   "execution_count": 20,
   "id": "191c430b-7b3f-4d9f-806c-68c44e7d3477",
   "metadata": {
    "execution": {
     "iopub.execute_input": "2022-04-08T12:54:41.232896Z",
     "iopub.status.busy": "2022-04-08T12:54:41.232555Z",
     "iopub.status.idle": "2022-04-08T12:54:41.548682Z",
     "shell.execute_reply": "2022-04-08T12:54:41.547408Z",
     "shell.execute_reply.started": "2022-04-08T12:54:41.232847Z"
    },
    "tags": []
   },
   "outputs": [
    {
     "data": {
      "application/vnd.jupyter.widget-view+json": {
       "model_id": "2fb2972272724bdd8f97814c17a21f5d",
       "version_major": 2,
       "version_minor": 0
      },
      "text/plain": [
       "VBox()"
      ]
     },
     "metadata": {},
     "output_type": "display_data"
    },
    {
     "data": {
      "application/vnd.jupyter.widget-view+json": {
       "model_id": "",
       "version_major": 2,
       "version_minor": 0
      },
      "text/plain": [
       "FloatProgress(value=0.0, bar_style='info', description='Progress:', layout=Layout(height='25px', width='50%'),…"
      ]
     },
     "metadata": {},
     "output_type": "display_data"
    }
   ],
   "source": [
    "df=df_train.withColumn(\"label\", sentiment(df_train['text']))"
   ]
  },
  {
   "cell_type": "code",
   "execution_count": 21,
   "id": "06e1cbbf-730f-46be-ba14-14bd83ca093c",
   "metadata": {
    "execution": {
     "iopub.execute_input": "2022-04-08T12:54:41.553014Z",
     "iopub.status.busy": "2022-04-08T12:54:41.552717Z",
     "iopub.status.idle": "2022-04-08T12:54:42.874368Z",
     "shell.execute_reply": "2022-04-08T12:54:42.873260Z",
     "shell.execute_reply.started": "2022-04-08T12:54:41.552982Z"
    },
    "tags": []
   },
   "outputs": [
    {
     "data": {
      "application/vnd.jupyter.widget-view+json": {
       "model_id": "987505652aa742d488008733c17aae5a",
       "version_major": 2,
       "version_minor": 0
      },
      "text/plain": [
       "VBox()"
      ]
     },
     "metadata": {},
     "output_type": "display_data"
    },
    {
     "data": {
      "application/vnd.jupyter.widget-view+json": {
       "model_id": "",
       "version_major": 2,
       "version_minor": 0
      },
      "text/plain": [
       "FloatProgress(value=0.0, bar_style='info', description='Progress:', layout=Layout(height='25px', width='50%'),…"
      ]
     },
     "metadata": {},
     "output_type": "display_data"
    },
    {
     "name": "stdout",
     "output_type": "stream",
     "text": [
      "+--------------------+--------------------+--------------------+--------------------+--------------------+--------------------+-----+\n",
      "|                text|               words|      cleaned_tokens|         rawFeatures|            features|             vectors|label|\n",
      "+--------------------+--------------------+--------------------+--------------------+--------------------+--------------------+-----+\n",
      "|What a great find...|[what, a, great, ...|[great, piece, po...|(16384,[42,1466,1...|(16384,[42,1466,1...|(10000,[0,1,4,5,1...|  1.0|\n",
      "|The only reason I...|[the, only, reaso...|[reason, stars, s...|(16384,[389,666,8...|(16384,[389,666,8...|(10000,[1,9,12,17...|  1.0|\n",
      "|It s fun that it ...|[it, s, fun, that...|[fun, water, grea...|(16384,[158,931,1...|(16384,[158,931,1...|(10000,[0,2,5,14,...|  1.0|\n",
      "|I ve been to Smit...|[i, ve, been, to,...|[smith, couple, t...|(16384,[191,215,2...|(16384,[191,215,2...|(10000,[0,1,3,4,6...|  1.0|\n",
      "|We do love the fo...|[we, do, love, th...|[love, food, remi...|(16384,[37,620,16...|(16384,[37,620,16...|(10000,[0,11,19,3...|  1.0|\n",
      "|This place was al...|[this, place, was...|[place, alright, ...|(16384,[110,622,1...|(16384,[110,622,1...|(10000,[0,1,2,5,9...|  1.0|\n",
      "|Nice shopping exp...|[nice, shopping, ...|[nice, shopping, ...|(16384,[166,328,5...|(16384,[166,328,5...|(10000,[0,8,14,26...|  1.0|\n",
      "|How do you downgr...|[how, do, you, do...|[downgrade, laund...|(16384,[127,441,8...|(16384,[127,441,8...|(10000,[3,16,28,4...|  1.0|\n",
      "|Really fun place ...|[really, fun, pla...|[fun, place, uniq...|(16384,[42,747,22...|(16384,[42,747,22...|(10000,[2,4,42,47...|  1.0|\n",
      "|Fresh OJ     The ...|[fresh, oj, the, ...|[fresh, chorizo, ...|(16384,[4,577,240...|(16384,[4,577,240...|(10000,[1,48,51,2...|  1.0|\n",
      "|This cafe is so c...|[this, cafe, is, ...|[cafe, cute, serv...|(16384,[42,6923,7...|(16384,[42,6923,7...|(10000,[4,27,47,4...|  1.0|\n",
      "|Eb   Bean serves ...|[eb, bean, serves...|[eb, bean, serves...|(16384,[809,1071,...|(16384,[809,1071,...|(10000,[1,27,94,2...|  1.0|\n",
      "|I get it   capita...|[i, get, it, capi...|[capitalism, comp...|(16384,[263,475,5...|(16384,[263,475,5...|(10000,[0,4,6,10,...|  1.0|\n",
      "|Food was good but...|[food, was, good,...|[food, good, abso...|(16384,[2495,2613...|(16384,[2495,2613...|(10000,[0,1,4,20,...|  2.0|\n",
      "|Theres not a lot ...|[theres, not, a, ...|[lot, record, sto...|(16384,[167,777,1...|(16384,[167,777,1...|(10000,[2,40,71,8...|  1.0|\n",
      "|Best place we ate...|[best, place, we,...|[place, ate, visi...|(16384,[1081,1886...|(16384,[1081,1886...|(10000,[0,2,3,40,...|  1.0|\n",
      "|I m a froyo lover...|[i, m, a, froyo, ...|[froyo, lover, ha...|(16384,[809,2254,...|(16384,[809,2254,...|(10000,[1,104,173...|  1.0|\n",
      "|Great staff  Non ...|[great, staff, no...|[great, staff, gr...|(16384,[1944,4417...|(16384,[1944,4417...|(10000,[0,5,12,99...|  1.0|\n",
      "|If you want to be...|[if, you, want, t...|[scalped, barber,...|(16384,[2271,6100...|(16384,[2271,6100...|(10000,[2,810,129...|  1.0|\n",
      "|My husband and I ...|[my, husband, and...|[husband, ordered...|(16384,[37,1165,1...|(16384,[37,1165,1...|(10000,[1,3,7,11,...|  1.0|\n",
      "+--------------------+--------------------+--------------------+--------------------+--------------------+--------------------+-----+\n",
      "only showing top 20 rows"
     ]
    }
   ],
   "source": [
    "df.show()"
   ]
  },
  {
   "cell_type": "code",
   "execution_count": 27,
   "id": "9240e036-09f4-4c80-a8f0-cd2ab1ef406b",
   "metadata": {
    "execution": {
     "iopub.execute_input": "2022-04-08T12:55:21.942519Z",
     "iopub.status.busy": "2022-04-08T12:55:21.942241Z",
     "iopub.status.idle": "2022-04-08T12:55:22.016712Z",
     "shell.execute_reply": "2022-04-08T12:55:22.015587Z",
     "shell.execute_reply.started": "2022-04-08T12:55:21.942486Z"
    },
    "tags": []
   },
   "outputs": [
    {
     "data": {
      "application/vnd.jupyter.widget-view+json": {
       "model_id": "c2cb909cb5344255aae349dfb0100726",
       "version_major": 2,
       "version_minor": 0
      },
      "text/plain": [
       "VBox()"
      ]
     },
     "metadata": {},
     "output_type": "display_data"
    },
    {
     "data": {
      "application/vnd.jupyter.widget-view+json": {
       "model_id": "",
       "version_major": 2,
       "version_minor": 0
      },
      "text/plain": [
       "FloatProgress(value=0.0, bar_style='info', description='Progress:', layout=Layout(height='25px', width='50%'),…"
      ]
     },
     "metadata": {},
     "output_type": "display_data"
    },
    {
     "name": "stdout",
     "output_type": "stream",
     "text": [
      "root\n",
      " |-- text: string (nullable = true)\n",
      " |-- words: array (nullable = true)\n",
      " |    |-- element: string (containsNull = true)\n",
      " |-- cleaned_tokens: array (nullable = true)\n",
      " |    |-- element: string (containsNull = true)\n",
      " |-- rawFeatures: vector (nullable = true)\n",
      " |-- features: vector (nullable = true)\n",
      " |-- vectors: vector (nullable = true)\n",
      " |-- label: double (nullable = true)"
     ]
    }
   ],
   "source": [
    "df.printSchema()"
   ]
  },
  {
   "cell_type": "code",
   "execution_count": 28,
   "id": "d94c4bb5-d8db-44f7-857b-4b37bdb5df8e",
   "metadata": {
    "execution": {
     "iopub.execute_input": "2022-04-08T12:55:25.659939Z",
     "iopub.status.busy": "2022-04-08T12:55:25.659662Z",
     "iopub.status.idle": "2022-04-08T12:55:25.939902Z",
     "shell.execute_reply": "2022-04-08T12:55:25.938880Z",
     "shell.execute_reply.started": "2022-04-08T12:55:25.659906Z"
    },
    "tags": []
   },
   "outputs": [
    {
     "data": {
      "application/vnd.jupyter.widget-view+json": {
       "model_id": "825cafafdfc44bd185b892f1bd494e33",
       "version_major": 2,
       "version_minor": 0
      },
      "text/plain": [
       "VBox()"
      ]
     },
     "metadata": {},
     "output_type": "display_data"
    },
    {
     "data": {
      "application/vnd.jupyter.widget-view+json": {
       "model_id": "",
       "version_major": 2,
       "version_minor": 0
      },
      "text/plain": [
       "FloatProgress(value=0.0, bar_style='info', description='Progress:', layout=Layout(height='25px', width='50%'),…"
      ]
     },
     "metadata": {},
     "output_type": "display_data"
    }
   ],
   "source": [
    "splits =df.select(['features', 'label']).randomSplit([0.8,0.2],seed=100)\n",
    "train = splits[0].cache()\n",
    "test = splits[1].cache()"
   ]
  },
  {
   "cell_type": "code",
   "execution_count": 29,
   "id": "2649465b-92ad-47b4-9fd7-3316b49b55da",
   "metadata": {
    "execution": {
     "iopub.execute_input": "2022-04-08T12:55:27.185965Z",
     "iopub.status.busy": "2022-04-08T12:55:27.185675Z",
     "iopub.status.idle": "2022-04-08T12:55:27.260943Z",
     "shell.execute_reply": "2022-04-08T12:55:27.259903Z",
     "shell.execute_reply.started": "2022-04-08T12:55:27.185931Z"
    },
    "tags": []
   },
   "outputs": [
    {
     "data": {
      "application/vnd.jupyter.widget-view+json": {
       "model_id": "98dc906e39274e198f75baca2829b5b9",
       "version_major": 2,
       "version_minor": 0
      },
      "text/plain": [
       "VBox()"
      ]
     },
     "metadata": {},
     "output_type": "display_data"
    },
    {
     "data": {
      "application/vnd.jupyter.widget-view+json": {
       "model_id": "",
       "version_major": 2,
       "version_minor": 0
      },
      "text/plain": [
       "FloatProgress(value=0.0, bar_style='info', description='Progress:', layout=Layout(height='25px', width='50%'),…"
      ]
     },
     "metadata": {},
     "output_type": "display_data"
    }
   ],
   "source": [
    "# convert to LabeledPoint vectors\n",
    "# train_lb = train.rdd.map(lambda row: LabeledPoint(row[1], MLLibVectors.fromML(row[0])))\n",
    "# test_lb = test.rdd.map(lambda row: LabeledPoint(row[1], MLLibVectors.fromML(row[0])))"
   ]
  },
  {
   "cell_type": "code",
   "execution_count": 30,
   "id": "47b72aa7-b9f7-4339-9ca0-94ce73aca76d",
   "metadata": {
    "execution": {
     "iopub.execute_input": "2022-04-08T12:55:27.456381Z",
     "iopub.status.busy": "2022-04-08T12:55:27.456063Z",
     "iopub.status.idle": "2022-04-08T12:55:27.534201Z",
     "shell.execute_reply": "2022-04-08T12:55:27.533299Z",
     "shell.execute_reply.started": "2022-04-08T12:55:27.456348Z"
    },
    "tags": []
   },
   "outputs": [
    {
     "data": {
      "application/vnd.jupyter.widget-view+json": {
       "model_id": "2bca6ec96e6a4c96ac81114d2651122d",
       "version_major": 2,
       "version_minor": 0
      },
      "text/plain": [
       "VBox()"
      ]
     },
     "metadata": {},
     "output_type": "display_data"
    },
    {
     "data": {
      "application/vnd.jupyter.widget-view+json": {
       "model_id": "",
       "version_major": 2,
       "version_minor": 0
      },
      "text/plain": [
       "FloatProgress(value=0.0, bar_style='info', description='Progress:', layout=Layout(height='25px', width='50%'),…"
      ]
     },
     "metadata": {},
     "output_type": "display_data"
    }
   ],
   "source": [
    "from pyspark.ml.classification import LogisticRegression"
   ]
  },
  {
   "cell_type": "code",
   "execution_count": 31,
   "id": "81edd962-7f7f-4c8c-82fc-7ff1692b926c",
   "metadata": {
    "collapsed": true,
    "execution": {
     "iopub.execute_input": "2022-04-08T12:55:31.609099Z",
     "iopub.status.busy": "2022-04-08T12:55:31.608797Z",
     "iopub.status.idle": "2022-04-08T13:01:13.245437Z",
     "shell.execute_reply": "2022-04-08T13:01:13.195980Z",
     "shell.execute_reply.started": "2022-04-08T12:55:31.609066Z"
    },
    "jupyter": {
     "outputs_hidden": true
    },
    "tags": []
   },
   "outputs": [
    {
     "data": {
      "application/vnd.jupyter.widget-view+json": {
       "model_id": "828e6198b1924dc0ac4861d5572917d6",
       "version_major": 2,
       "version_minor": 0
      },
      "text/plain": [
       "VBox()"
      ]
     },
     "metadata": {},
     "output_type": "display_data"
    },
    {
     "data": {
      "application/vnd.jupyter.widget-view+json": {
       "model_id": "",
       "version_major": 2,
       "version_minor": 0
      },
      "text/plain": [
       "FloatProgress(value=0.0, bar_style='info', description='Progress:', layout=Layout(height='25px', width='50%'),…"
      ]
     },
     "metadata": {},
     "output_type": "display_data"
    }
   ],
   "source": [
    "lr = LogisticRegression(maxIter=20, regParam=0.3, elasticNetParam=0)\n",
    "lrModel = lr.fit(train)\n",
    "predictions = lrModel.transform(test)\n"
   ]
  },
  {
   "cell_type": "code",
   "execution_count": 32,
   "id": "f030cc74-8859-406b-a295-25ea18ab9869",
   "metadata": {
    "execution": {
     "iopub.execute_input": "2022-04-08T13:02:07.739770Z",
     "iopub.status.busy": "2022-04-08T13:02:07.739491Z",
     "iopub.status.idle": "2022-04-08T13:07:34.017204Z",
     "shell.execute_reply": "2022-04-08T13:07:34.016348Z",
     "shell.execute_reply.started": "2022-04-08T13:02:07.739737Z"
    },
    "tags": []
   },
   "outputs": [
    {
     "data": {
      "application/vnd.jupyter.widget-view+json": {
       "model_id": "2c4d25c874c44dfba1ca2b4908a13e8e",
       "version_major": 2,
       "version_minor": 0
      },
      "text/plain": [
       "VBox()"
      ]
     },
     "metadata": {},
     "output_type": "display_data"
    },
    {
     "data": {
      "application/vnd.jupyter.widget-view+json": {
       "model_id": "",
       "version_major": 2,
       "version_minor": 0
      },
      "text/plain": [
       "FloatProgress(value=0.0, bar_style='info', description='Progress:', layout=Layout(height='25px', width='50%'),…"
      ]
     },
     "metadata": {},
     "output_type": "display_data"
    },
    {
     "name": "stdout",
     "output_type": "stream",
     "text": [
      "0.8369724953837403"
     ]
    }
   ],
   "source": [
    "from pyspark.ml.evaluation import MulticlassClassificationEvaluator\n",
    "evaluator = MulticlassClassificationEvaluator(predictionCol=\"prediction\")\n",
    "evaluator.evaluate(predictions)"
   ]
  },
  {
   "cell_type": "code",
   "execution_count": null,
   "id": "08bae245-8c5d-4f91-90ff-0d34f3b28258",
   "metadata": {},
   "outputs": [],
   "source": []
  }
 ],
 "metadata": {
  "kernelspec": {
   "display_name": "PySpark",
   "language": "",
   "name": "pysparkkernel"
  },
  "language_info": {
   "codemirror_mode": {
    "name": "python",
    "version": 3
   },
   "mimetype": "text/x-python",
   "name": "pyspark",
   "pygments_lexer": "python3"
  }
 },
 "nbformat": 4,
 "nbformat_minor": 5
}
