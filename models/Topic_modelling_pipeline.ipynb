{
 "cells": [
  {
   "cell_type": "code",
   "execution_count": null,
   "id": "0b506afa-ee1b-4cfa-bed6-cd4ec54a91b9",
   "metadata": {
    "execution": {
     "iopub.execute_input": "2022-04-07T03:32:01.131751Z",
     "iopub.status.busy": "2022-04-07T03:32:01.131583Z"
    },
    "tags": []
   },
   "outputs": [],
   "source": [
    "%pip install nltk"
   ]
  },
  {
   "cell_type": "code",
   "execution_count": 53,
   "id": "b23e8a9e-2c51-4aed-a9b5-56767ea9a21e",
   "metadata": {
    "execution": {
     "iopub.execute_input": "2022-04-07T04:42:21.862790Z",
     "iopub.status.busy": "2022-04-07T04:42:21.862571Z",
     "iopub.status.idle": "2022-04-07T04:42:31.153960Z",
     "shell.execute_reply": "2022-04-07T04:42:31.153273Z",
     "shell.execute_reply.started": "2022-04-07T04:42:21.862766Z"
    }
   },
   "outputs": [
    {
     "data": {
      "application/vnd.jupyter.widget-view+json": {
       "model_id": "cfdc5bd7661e4d1c9768ace657083c68",
       "version_major": 2,
       "version_minor": 0
      },
      "text/plain": [
       "VBox()"
      ]
     },
     "metadata": {},
     "output_type": "display_data"
    },
    {
     "data": {
      "application/vnd.jupyter.widget-view+json": {
       "model_id": "",
       "version_major": 2,
       "version_minor": 0
      },
      "text/plain": [
       "FloatProgress(value=0.0, bar_style='info', description='Progress:', layout=Layout(height='25px', width='50%'),…"
      ]
     },
     "metadata": {},
     "output_type": "display_data"
    },
    {
     "name": "stdout",
     "output_type": "stream",
     "text": [
      "Collecting matplotlib==3.1.1\n",
      "  Downloading https://files.pythonhosted.org/packages/19/7a/60bd79c5d79559150f8bba866dd7d434f0a170312e4d15e8aefa5faba294/matplotlib-3.1.1-cp37-cp37m-manylinux1_x86_64.whl (13.1MB)\n",
      "Collecting python-dateutil>=2.1 (from matplotlib==3.1.1)\n",
      "  Downloading https://files.pythonhosted.org/packages/36/7a/87837f39d0296e723bb9b62bbb257d0355c7f6128853c78955f57342a56d/python_dateutil-2.8.2-py2.py3-none-any.whl (247kB)\n",
      "Collecting pyparsing!=2.0.4,!=2.1.2,!=2.1.6,>=2.0.1 (from matplotlib==3.1.1)\n",
      "  Downloading https://files.pythonhosted.org/packages/80/c1/23fd82ad3121656b585351aba6c19761926bb0db2ebed9e4ff09a43a3fcc/pyparsing-3.0.7-py3-none-any.whl (98kB)\n",
      "Collecting cycler>=0.10 (from matplotlib==3.1.1)\n",
      "  Downloading https://files.pythonhosted.org/packages/5c/f9/695d6bedebd747e5eb0fe8fad57b72fdf25411273a39791cde838d5a8f51/cycler-0.11.0-py3-none-any.whl\n",
      "Requirement already satisfied: numpy>=1.11 in /usr/local/lib64/python3.7/site-packages (from matplotlib==3.1.1)\n",
      "Collecting kiwisolver>=1.0.1 (from matplotlib==3.1.1)\n",
      "  Downloading https://files.pythonhosted.org/packages/51/50/9a9a94afa26c50fc5d9127272737806990aa698c7a1c220b8e5075e70304/kiwisolver-1.4.2-cp37-cp37m-manylinux_2_5_x86_64.manylinux1_x86_64.whl (1.1MB)\n",
      "Requirement already satisfied: six>=1.5 in /usr/local/lib/python3.7/site-packages (from python-dateutil>=2.1->matplotlib==3.1.1)\n",
      "Collecting typing-extensions; python_version < \"3.8\" (from kiwisolver>=1.0.1->matplotlib==3.1.1)\n",
      "  Downloading https://files.pythonhosted.org/packages/45/6b/44f7f8f1e110027cf88956b59f2fad776cca7e1704396d043f89effd3a0e/typing_extensions-4.1.1-py3-none-any.whl\n",
      "Installing collected packages: python-dateutil, pyparsing, cycler, typing-extensions, kiwisolver, matplotlib\n",
      "Successfully installed cycler-0.11.0 kiwisolver-1.4.2 matplotlib-3.1.1 pyparsing-3.0.7 python-dateutil-2.8.2 typing-extensions-4.1.1\n",
      "\n",
      "You are using pip version 9.0.1, however version 22.0.4 is available.\n",
      "You should consider upgrading via the 'pip install --upgrade pip' command."
     ]
    }
   ],
   "source": [
    "sc.install_pypi_package(\"matplotlib==3.1.1\", \"https://pypi.org/simple\")"
   ]
  },
  {
   "cell_type": "code",
   "execution_count": 2,
   "id": "669c9652-e0fd-4fe0-a70b-ac843297d296",
   "metadata": {
    "execution": {
     "iopub.execute_input": "2022-04-07T03:32:05.458665Z",
     "iopub.status.busy": "2022-04-07T03:32:05.458423Z",
     "iopub.status.idle": "2022-04-07T03:32:32.392305Z",
     "shell.execute_reply": "2022-04-07T03:32:32.391717Z",
     "shell.execute_reply.started": "2022-04-07T03:32:05.458637Z"
    },
    "tags": []
   },
   "outputs": [
    {
     "data": {
      "application/vnd.jupyter.widget-view+json": {
       "model_id": "d72088b4ca164eba97794b735af61957",
       "version_major": 2,
       "version_minor": 0
      },
      "text/plain": [
       "VBox()"
      ]
     },
     "metadata": {},
     "output_type": "display_data"
    },
    {
     "name": "stdout",
     "output_type": "stream",
     "text": [
      "Starting Spark application\n"
     ]
    },
    {
     "data": {
      "text/html": [
       "<table>\n",
       "<tr><th>ID</th><th>YARN Application ID</th><th>Kind</th><th>State</th><th>Spark UI</th><th>Driver log</th><th>User</th><th>Current session?</th></tr><tr><td>2</td><td>application_1649299289911_0004</td><td>pyspark</td><td>idle</td><td><a target=\"_blank\" href=\"http://ip-172-31-25-10.ec2.internal:20888/proxy/application_1649299289911_0004/\" class=\"emr-proxy-link\" emr-resource=\"j-3VE1REQ235H2H\n",
       "\" application-id=\"application_1649299289911_0004\">Link</a></td><td><a target=\"_blank\" href=\"http://ip-172-31-21-80.ec2.internal:8042/node/containerlogs/container_1649299289911_0004_01_000001/livy\" >Link</a></td><td>None</td><td>✔</td></tr></table>"
      ],
      "text/plain": [
       "<IPython.core.display.HTML object>"
      ]
     },
     "metadata": {},
     "output_type": "display_data"
    },
    {
     "data": {
      "application/vnd.jupyter.widget-view+json": {
       "model_id": "",
       "version_major": 2,
       "version_minor": 0
      },
      "text/plain": [
       "FloatProgress(value=0.0, bar_style='info', description='Progress:', layout=Layout(height='25px', width='50%'),…"
      ]
     },
     "metadata": {},
     "output_type": "display_data"
    },
    {
     "name": "stdout",
     "output_type": "stream",
     "text": [
      "SparkSession available as 'spark'.\n"
     ]
    },
    {
     "data": {
      "application/vnd.jupyter.widget-view+json": {
       "model_id": "",
       "version_major": 2,
       "version_minor": 0
      },
      "text/plain": [
       "FloatProgress(value=0.0, bar_style='info', description='Progress:', layout=Layout(height='25px', width='50%'),…"
      ]
     },
     "metadata": {},
     "output_type": "display_data"
    }
   ],
   "source": [
    "from pyspark.sql.functions import *\n",
    "from pyspark.sql.functions import udf\n",
    "from pyspark.sql.types import IntegerType\n",
    "\n",
    "from pyspark.mllib.classification import SVMModel, SVMWithSGD\n",
    "from pyspark.mllib.regression import LabeledPoint\n",
    "from pyspark.mllib.linalg import Vectors as MLLibVectors\n",
    "from pyspark.ml import Pipeline\n",
    "from pyspark.ml.evaluation import BinaryClassificationEvaluator, MulticlassClassificationEvaluator\n",
    "from pyspark.ml.feature import * \n",
    "from pyspark.ml.tuning import CrossValidator"
   ]
  },
  {
   "cell_type": "code",
   "execution_count": 3,
   "id": "ef573ec1-9f99-443a-8f61-387eaaeaf63a",
   "metadata": {
    "execution": {
     "iopub.execute_input": "2022-04-07T03:32:32.398334Z",
     "iopub.status.busy": "2022-04-07T03:32:32.398043Z",
     "iopub.status.idle": "2022-04-07T03:32:32.684561Z",
     "shell.execute_reply": "2022-04-07T03:32:32.683937Z",
     "shell.execute_reply.started": "2022-04-07T03:32:32.398297Z"
    },
    "tags": []
   },
   "outputs": [
    {
     "data": {
      "application/vnd.jupyter.widget-view+json": {
       "model_id": "8f4b08aba2f249eca9741184713dbe07",
       "version_major": 2,
       "version_minor": 0
      },
      "text/plain": [
       "VBox()"
      ]
     },
     "metadata": {},
     "output_type": "display_data"
    },
    {
     "data": {
      "application/vnd.jupyter.widget-view+json": {
       "model_id": "",
       "version_major": 2,
       "version_minor": 0
      },
      "text/plain": [
       "FloatProgress(value=0.0, bar_style='info', description='Progress:', layout=Layout(height='25px', width='50%'),…"
      ]
     },
     "metadata": {},
     "output_type": "display_data"
    }
   ],
   "source": [
    "from pyspark.ml import Pipeline\n",
    "from pyspark.ml.feature import OneHotEncoder, StringIndexer, VectorAssembler, RegexTokenizer\n",
    "from pyspark.ml.feature import StopWordsRemover, CountVectorizer, Tokenizer, HashingTF, IDF\n",
    "from pyspark.ml.classification import LogisticRegression\n",
    "from pyspark.sql.functions import array\n",
    "\n",
    "import nltk"
   ]
  },
  {
   "cell_type": "code",
   "execution_count": 4,
   "id": "90000eec-fa1f-4c2a-a3dd-699e7384a750",
   "metadata": {
    "execution": {
     "iopub.execute_input": "2022-04-07T03:32:32.685584Z",
     "iopub.status.busy": "2022-04-07T03:32:32.685415Z",
     "iopub.status.idle": "2022-04-07T03:32:32.797954Z",
     "shell.execute_reply": "2022-04-07T03:32:32.797201Z",
     "shell.execute_reply.started": "2022-04-07T03:32:32.685563Z"
    },
    "tags": []
   },
   "outputs": [
    {
     "data": {
      "application/vnd.jupyter.widget-view+json": {
       "model_id": "4911e8dba00f4691b1f67f69a3185e47",
       "version_major": 2,
       "version_minor": 0
      },
      "text/plain": [
       "VBox()"
      ]
     },
     "metadata": {},
     "output_type": "display_data"
    },
    {
     "data": {
      "application/vnd.jupyter.widget-view+json": {
       "model_id": "",
       "version_major": 2,
       "version_minor": 0
      },
      "text/plain": [
       "FloatProgress(value=0.0, bar_style='info', description='Progress:', layout=Layout(height='25px', width='50%'),…"
      ]
     },
     "metadata": {},
     "output_type": "display_data"
    }
   ],
   "source": [
    "from pyspark import keyword_only\n",
    "import pyspark.sql.functions as F\n",
    "from pyspark.sql import DataFrame\n",
    "from pyspark.sql.types import ArrayType, StringType\n",
    "from pyspark.ml import Transformer, classification\n",
    "from pyspark.ml.param.shared import HasInputCol, HasOutputCol, Param\n",
    "from nltk.stem import PorterStemmer"
   ]
  },
  {
   "cell_type": "code",
   "execution_count": 5,
   "id": "769a79cf-9485-41a7-82e7-e4804f896e43",
   "metadata": {
    "execution": {
     "iopub.execute_input": "2022-04-07T03:32:32.799091Z",
     "iopub.status.busy": "2022-04-07T03:32:32.798915Z",
     "iopub.status.idle": "2022-04-07T03:32:32.877018Z",
     "shell.execute_reply": "2022-04-07T03:32:32.876316Z",
     "shell.execute_reply.started": "2022-04-07T03:32:32.799069Z"
    },
    "tags": []
   },
   "outputs": [
    {
     "data": {
      "application/vnd.jupyter.widget-view+json": {
       "model_id": "f2d697bed61742e8a438e169e0d81790",
       "version_major": 2,
       "version_minor": 0
      },
      "text/plain": [
       "VBox()"
      ]
     },
     "metadata": {},
     "output_type": "display_data"
    },
    {
     "data": {
      "application/vnd.jupyter.widget-view+json": {
       "model_id": "",
       "version_major": 2,
       "version_minor": 0
      },
      "text/plain": [
       "FloatProgress(value=0.0, bar_style='info', description='Progress:', layout=Layout(height='25px', width='50%'),…"
      ]
     },
     "metadata": {},
     "output_type": "display_data"
    }
   ],
   "source": [
    "import string \n",
    "import re "
   ]
  },
  {
   "cell_type": "code",
   "execution_count": 54,
   "id": "6af6b4b7-8328-4224-87fd-8ca0e45af909",
   "metadata": {
    "execution": {
     "iopub.execute_input": "2022-04-07T04:42:46.116359Z",
     "iopub.status.busy": "2022-04-07T04:42:46.116133Z",
     "iopub.status.idle": "2022-04-07T04:42:51.392094Z",
     "shell.execute_reply": "2022-04-07T04:42:51.391544Z",
     "shell.execute_reply.started": "2022-04-07T04:42:46.116335Z"
    }
   },
   "outputs": [
    {
     "data": {
      "application/vnd.jupyter.widget-view+json": {
       "model_id": "fd21206eda4c485e8bf77605f821b4a3",
       "version_major": 2,
       "version_minor": 0
      },
      "text/plain": [
       "VBox()"
      ]
     },
     "metadata": {},
     "output_type": "display_data"
    },
    {
     "data": {
      "application/vnd.jupyter.widget-view+json": {
       "model_id": "",
       "version_major": 2,
       "version_minor": 0
      },
      "text/plain": [
       "FloatProgress(value=0.0, bar_style='info', description='Progress:', layout=Layout(height='25px', width='50%'),…"
      ]
     },
     "metadata": {},
     "output_type": "display_data"
    }
   ],
   "source": [
    "import matplotlib.pyplot as plt"
   ]
  },
  {
   "cell_type": "code",
   "execution_count": 6,
   "id": "151a4c6c-e51e-43f8-8f41-3b48bc9139e3",
   "metadata": {
    "execution": {
     "iopub.execute_input": "2022-04-07T03:32:32.878529Z",
     "iopub.status.busy": "2022-04-07T03:32:32.878155Z",
     "iopub.status.idle": "2022-04-07T03:32:38.200943Z",
     "shell.execute_reply": "2022-04-07T03:32:38.200320Z",
     "shell.execute_reply.started": "2022-04-07T03:32:32.878493Z"
    },
    "tags": []
   },
   "outputs": [
    {
     "data": {
      "application/vnd.jupyter.widget-view+json": {
       "model_id": "cbedcabba1114be59f3c855ee7c83aa3",
       "version_major": 2,
       "version_minor": 0
      },
      "text/plain": [
       "VBox()"
      ]
     },
     "metadata": {},
     "output_type": "display_data"
    },
    {
     "data": {
      "application/vnd.jupyter.widget-view+json": {
       "model_id": "",
       "version_major": 2,
       "version_minor": 0
      },
      "text/plain": [
       "FloatProgress(value=0.0, bar_style='info', description='Progress:', layout=Layout(height='25px', width='50%'),…"
      ]
     },
     "metadata": {},
     "output_type": "display_data"
    }
   ],
   "source": [
    "review = spark.read.orc(\"s3://mukeshproj/shrink_data/yelp_academic_dataset_review_shrunk/\")"
   ]
  },
  {
   "cell_type": "code",
   "execution_count": 7,
   "id": "41cd071d-a1dd-437b-842f-064a142a73c8",
   "metadata": {
    "execution": {
     "iopub.execute_input": "2022-04-07T03:32:38.203477Z",
     "iopub.status.busy": "2022-04-07T03:32:38.203228Z",
     "iopub.status.idle": "2022-04-07T03:32:43.521432Z",
     "shell.execute_reply": "2022-04-07T03:32:43.520785Z",
     "shell.execute_reply.started": "2022-04-07T03:32:38.203442Z"
    },
    "tags": []
   },
   "outputs": [
    {
     "data": {
      "application/vnd.jupyter.widget-view+json": {
       "model_id": "81e70a61653347289dbfb7ab85fbf1c4",
       "version_major": 2,
       "version_minor": 0
      },
      "text/plain": [
       "VBox()"
      ]
     },
     "metadata": {},
     "output_type": "display_data"
    },
    {
     "data": {
      "application/vnd.jupyter.widget-view+json": {
       "model_id": "",
       "version_major": 2,
       "version_minor": 0
      },
      "text/plain": [
       "FloatProgress(value=0.0, bar_style='info', description='Progress:', layout=Layout(height='25px', width='50%'),…"
      ]
     },
     "metadata": {},
     "output_type": "display_data"
    },
    {
     "name": "stdout",
     "output_type": "stream",
     "text": [
      "+-----+--------------------+\n",
      "|stars|                text|\n",
      "+-----+--------------------+\n",
      "|  5.0|What a great find...|\n",
      "|  2.0|The only reason I...|\n",
      "|  2.0|It's fun that it'...|\n",
      "|  3.0|I've been to Smit...|\n",
      "|  4.0|We do love the fo...|\n",
      "+-----+--------------------+\n",
      "only showing top 5 rows"
     ]
    }
   ],
   "source": [
    "review.show(5)"
   ]
  },
  {
   "cell_type": "code",
   "execution_count": 8,
   "id": "d434e622-c897-4fe1-97e4-25588aa976eb",
   "metadata": {
    "execution": {
     "iopub.execute_input": "2022-04-07T03:32:43.522850Z",
     "iopub.status.busy": "2022-04-07T03:32:43.522669Z",
     "iopub.status.idle": "2022-04-07T03:32:43.794656Z",
     "shell.execute_reply": "2022-04-07T03:32:43.794053Z",
     "shell.execute_reply.started": "2022-04-07T03:32:43.522820Z"
    },
    "tags": []
   },
   "outputs": [
    {
     "data": {
      "application/vnd.jupyter.widget-view+json": {
       "model_id": "452866b58f094d1c97bcb1ab2bfba97a",
       "version_major": 2,
       "version_minor": 0
      },
      "text/plain": [
       "VBox()"
      ]
     },
     "metadata": {},
     "output_type": "display_data"
    },
    {
     "data": {
      "application/vnd.jupyter.widget-view+json": {
       "model_id": "",
       "version_major": 2,
       "version_minor": 0
      },
      "text/plain": [
       "FloatProgress(value=0.0, bar_style='info', description='Progress:', layout=Layout(height='25px', width='50%'),…"
      ]
     },
     "metadata": {},
     "output_type": "display_data"
    }
   ],
   "source": [
    "def remove_punct(text):\n",
    "    regex = re.compile('[' + re.escape(string.punctuation) + '0-9\\\\r\\\\t\\\\n]')\n",
    "    nopunct = regex.sub(\" \", text) \n",
    "    return nopunct\n",
    "\n",
    "    \n",
    "# binarize rating\n",
    "def convert_rating(rating):\n",
    "    rating = int(rating)\n",
    "    if rating < 2: return 1\n",
    "    else: return 0\n",
    "\n",
    "# udf\n",
    "punct_remover = udf(lambda x: remove_punct(x))\n",
    "rating_convert = udf(lambda x: convert_rating(x))\n",
    "review_df = review.select( punct_remover('text'), rating_convert('stars'))\n",
    "review_df = review_df.withColumnRenamed('<lambda>(text)', 'text')\\\n",
    "                     .withColumn('label', review_df[\"<lambda>(stars)\"].cast(IntegerType()))\\\n",
    "                     .drop('<lambda>(stars)')"
   ]
  },
  {
   "cell_type": "code",
   "execution_count": 9,
   "id": "2b8c3f0c-8096-4cd2-a22d-44b35e959bde",
   "metadata": {
    "execution": {
     "iopub.execute_input": "2022-04-07T03:32:43.795930Z",
     "iopub.status.busy": "2022-04-07T03:32:43.795681Z",
     "iopub.status.idle": "2022-04-07T03:32:49.101880Z",
     "shell.execute_reply": "2022-04-07T03:32:49.101181Z",
     "shell.execute_reply.started": "2022-04-07T03:32:43.795895Z"
    },
    "tags": []
   },
   "outputs": [
    {
     "data": {
      "application/vnd.jupyter.widget-view+json": {
       "model_id": "c5b22022ec2f4ca680044029220dd13c",
       "version_major": 2,
       "version_minor": 0
      },
      "text/plain": [
       "VBox()"
      ]
     },
     "metadata": {},
     "output_type": "display_data"
    },
    {
     "data": {
      "application/vnd.jupyter.widget-view+json": {
       "model_id": "",
       "version_major": 2,
       "version_minor": 0
      },
      "text/plain": [
       "FloatProgress(value=0.0, bar_style='info', description='Progress:', layout=Layout(height='25px', width='50%'),…"
      ]
     },
     "metadata": {},
     "output_type": "display_data"
    },
    {
     "name": "stdout",
     "output_type": "stream",
     "text": [
      "+--------------------+-----+\n",
      "|                text|label|\n",
      "+--------------------+-----+\n",
      "|What a great find...|    0|\n",
      "|The only reason I...|    0|\n",
      "+--------------------+-----+\n",
      "only showing top 2 rows"
     ]
    }
   ],
   "source": [
    "review_df.show(2)"
   ]
  },
  {
   "cell_type": "code",
   "execution_count": 10,
   "id": "8a2345a2-1646-4f3a-ad07-38b5ecdb46ef",
   "metadata": {
    "execution": {
     "iopub.execute_input": "2022-04-07T03:32:49.103049Z",
     "iopub.status.busy": "2022-04-07T03:32:49.102846Z",
     "iopub.status.idle": "2022-04-07T03:32:52.392144Z",
     "shell.execute_reply": "2022-04-07T03:32:52.391211Z",
     "shell.execute_reply.started": "2022-04-07T03:32:49.103027Z"
    },
    "tags": []
   },
   "outputs": [
    {
     "data": {
      "application/vnd.jupyter.widget-view+json": {
       "model_id": "0b479e4e340340dba4fab726642b6bb4",
       "version_major": 2,
       "version_minor": 0
      },
      "text/plain": [
       "VBox()"
      ]
     },
     "metadata": {},
     "output_type": "display_data"
    },
    {
     "data": {
      "application/vnd.jupyter.widget-view+json": {
       "model_id": "",
       "version_major": 2,
       "version_minor": 0
      },
      "text/plain": [
       "FloatProgress(value=0.0, bar_style='info', description='Progress:', layout=Layout(height='25px', width='50%'),…"
      ]
     },
     "metadata": {},
     "output_type": "display_data"
    },
    {
     "name": "stdout",
     "output_type": "stream",
     "text": [
      "3548711"
     ]
    }
   ],
   "source": [
    "review_df.count()"
   ]
  },
  {
   "cell_type": "code",
   "execution_count": 11,
   "id": "454f6174-56ba-4a9f-9dbc-6cbd0288e4ac",
   "metadata": {
    "execution": {
     "iopub.execute_input": "2022-04-07T03:32:52.393673Z",
     "iopub.status.busy": "2022-04-07T03:32:52.393411Z",
     "iopub.status.idle": "2022-04-07T03:32:52.672868Z",
     "shell.execute_reply": "2022-04-07T03:32:52.672308Z",
     "shell.execute_reply.started": "2022-04-07T03:32:52.393636Z"
    },
    "tags": []
   },
   "outputs": [
    {
     "data": {
      "application/vnd.jupyter.widget-view+json": {
       "model_id": "7b7a10a052b9435aa0fced80ccfe4f99",
       "version_major": 2,
       "version_minor": 0
      },
      "text/plain": [
       "VBox()"
      ]
     },
     "metadata": {},
     "output_type": "display_data"
    },
    {
     "data": {
      "application/vnd.jupyter.widget-view+json": {
       "model_id": "",
       "version_major": 2,
       "version_minor": 0
      },
      "text/plain": [
       "FloatProgress(value=0.0, bar_style='info', description='Progress:', layout=Layout(height='25px', width='50%'),…"
      ]
     },
     "metadata": {},
     "output_type": "display_data"
    }
   ],
   "source": [
    "rgtoken = RegexTokenizer(inputCol=\"text\",outputCol=\"words\",pattern=\"\\\\W\")\n",
    "token = Tokenizer(inputCol= \"words\", outputCol = \"tokens\")\n"
   ]
  },
  {
   "cell_type": "code",
   "execution_count": null,
   "id": "e68b06f7-f5dc-4dde-836e-5a3a2cb5ff37",
   "metadata": {},
   "outputs": [],
   "source": []
  },
  {
   "cell_type": "code",
   "execution_count": 12,
   "id": "48e523b4-bf85-42bf-91a1-0a2a307db9a2",
   "metadata": {
    "execution": {
     "iopub.execute_input": "2022-04-07T03:32:52.673948Z",
     "iopub.status.busy": "2022-04-07T03:32:52.673741Z",
     "iopub.status.idle": "2022-04-07T03:32:52.735201Z",
     "shell.execute_reply": "2022-04-07T03:32:52.734638Z",
     "shell.execute_reply.started": "2022-04-07T03:32:52.673924Z"
    },
    "tags": []
   },
   "outputs": [
    {
     "data": {
      "application/vnd.jupyter.widget-view+json": {
       "model_id": "52a095c4906b42dc8076adbe04b5d17a",
       "version_major": 2,
       "version_minor": 0
      },
      "text/plain": [
       "VBox()"
      ]
     },
     "metadata": {},
     "output_type": "display_data"
    },
    {
     "data": {
      "application/vnd.jupyter.widget-view+json": {
       "model_id": "",
       "version_major": 2,
       "version_minor": 0
      },
      "text/plain": [
       "FloatProgress(value=0.0, bar_style='info', description='Progress:', layout=Layout(height='25px', width='50%'),…"
      ]
     },
     "metadata": {},
     "output_type": "display_data"
    }
   ],
   "source": [
    "# from nltk.corpus import stopwords\n",
    "# eng_stopwords = stopwords.words('english')"
   ]
  },
  {
   "cell_type": "code",
   "execution_count": 13,
   "id": "712b982c-3ef5-4a6b-b640-0ac8d86085a0",
   "metadata": {
    "execution": {
     "iopub.execute_input": "2022-04-07T03:32:52.736225Z",
     "iopub.status.busy": "2022-04-07T03:32:52.736053Z",
     "iopub.status.idle": "2022-04-07T03:32:52.798116Z",
     "shell.execute_reply": "2022-04-07T03:32:52.797380Z",
     "shell.execute_reply.started": "2022-04-07T03:32:52.736204Z"
    },
    "tags": []
   },
   "outputs": [
    {
     "data": {
      "application/vnd.jupyter.widget-view+json": {
       "model_id": "f415c828f0af426abf52fe5feea99cfc",
       "version_major": 2,
       "version_minor": 0
      },
      "text/plain": [
       "VBox()"
      ]
     },
     "metadata": {},
     "output_type": "display_data"
    },
    {
     "data": {
      "application/vnd.jupyter.widget-view+json": {
       "model_id": "",
       "version_major": 2,
       "version_minor": 0
      },
      "text/plain": [
       "FloatProgress(value=0.0, bar_style='info', description='Progress:', layout=Layout(height='25px', width='50%'),…"
      ]
     },
     "metadata": {},
     "output_type": "display_data"
    }
   ],
   "source": [
    "# len(eng_stopwords)"
   ]
  },
  {
   "cell_type": "code",
   "execution_count": 14,
   "id": "c6fa9416-5710-48e3-8039-08f44edcb36f",
   "metadata": {
    "execution": {
     "iopub.execute_input": "2022-04-07T03:32:52.800082Z",
     "iopub.status.busy": "2022-04-07T03:32:52.799825Z",
     "iopub.status.idle": "2022-04-07T03:32:52.884322Z",
     "shell.execute_reply": "2022-04-07T03:32:52.883750Z",
     "shell.execute_reply.started": "2022-04-07T03:32:52.800046Z"
    },
    "tags": []
   },
   "outputs": [
    {
     "data": {
      "application/vnd.jupyter.widget-view+json": {
       "model_id": "bb6411d20c66448caa061f4370bc2c04",
       "version_major": 2,
       "version_minor": 0
      },
      "text/plain": [
       "VBox()"
      ]
     },
     "metadata": {},
     "output_type": "display_data"
    },
    {
     "data": {
      "application/vnd.jupyter.widget-view+json": {
       "model_id": "",
       "version_major": 2,
       "version_minor": 0
      },
      "text/plain": [
       "FloatProgress(value=0.0, bar_style='info', description='Progress:', layout=Layout(height='25px', width='50%'),…"
      ]
     },
     "metadata": {},
     "output_type": "display_data"
    }
   ],
   "source": [
    "stops = [\"0o\", \"0s\", \"3a\", \"3b\", \"3d\", \"6b\", \"6o\", \"a\", \"a1\", \"a2\", \"a3\", \"a4\", \"ab\", \"able\", \"about\", \"above\", \"abst\", \"ac\", \"accordance\", \"according\", \"accordingly\", \"across\", \"act\", \"actually\", \"ad\", \"added\", \"adj\", \"ae\", \"af\", \"affected\", \"affecting\", \"affects\", \"after\", \"afterwards\", \"ag\", \"again\", \"against\", \"ah\", \"ain\", \"ain't\", \"aj\", \"al\", \"all\", \"allow\", \"allows\", \"almost\", \"alone\", \"along\", \"already\", \"also\", \"although\", \"always\", \"am\", \"among\", \"amongst\", \"amoungst\", \"amount\", \"an\", \"and\", \"announce\", \"another\", \"any\", \"anybody\", \"anyhow\", \"anymore\", \"anyone\", \"anything\", \"anyway\", \"anyways\", \"anywhere\", \"ao\", \"ap\", \"apart\", \"apparently\", \"appear\", \"appreciate\", \"appropriate\", \"approximately\", \"ar\", \"are\", \"aren\", \"arent\", \"aren't\", \"arise\", \"around\", \"as\", \"a's\", \"aside\", \"ask\", \"asking\", \"associated\", \"at\", \"au\", \"auth\", \"av\", \"available\", \"aw\", \"away\", \"awfully\", \"ax\", \"ay\", \"az\", \"b\", \"b1\", \"b2\", \"b3\", \"ba\", \"back\", \"bc\", \"bd\", \"be\", \"became\", \"because\", \"become\", \"becomes\", \"becoming\", \"been\", \"before\", \"beforehand\", \"begin\", \"beginning\", \"beginnings\", \"begins\", \"behind\", \"being\", \"believe\", \"below\", \"beside\", \"besides\", \"best\", \"better\", \"between\", \"beyond\", \"bi\", \"bill\", \"biol\", \"bj\", \"bk\", \"bl\", \"bn\", \"both\", \"bottom\", \"bp\", \"br\", \"brief\", \"briefly\", \"bs\", \"bt\", \"bu\", \"but\", \"bx\", \"by\", \"c\", \"c1\", \"c2\", \"c3\", \"ca\", \"call\", \"came\", \"can\", \"cannot\", \"cant\", \"can't\", \"cause\", \"causes\", \"cc\", \"cd\", \"ce\", \"certain\", \"certainly\", \"cf\", \"cg\", \"ch\", \"changes\", \"ci\", \"cit\", \"cj\", \"cl\", \"clearly\", \"cm\", \"c'mon\", \"cn\", \"co\", \"com\", \"come\", \"comes\", \"con\", \"concerning\", \"consequently\", \"consider\", \"considering\", \"contain\", \"containing\", \"contains\", \"corresponding\", \"could\", \"couldn\", \"couldnt\", \"couldn't\", \"course\", \"cp\", \"cq\", \"cr\", \"cry\", \"cs\", \"c's\", \"ct\", \"cu\", \"currently\", \"cv\", \"cx\", \"cy\", \"cz\", \"d\", \"d2\", \"da\", \"date\", \"dc\", \"dd\", \"de\", \"definitely\", \"describe\", \"described\", \"despite\", \"detail\", \"df\", \"di\", \"did\", \"didn\", \"didn't\", \"different\", \"dj\", \"dk\", \"dl\", \"do\", \"does\", \"doesn\", \"doesn't\", \"doing\", \"don\", \"done\", \"don't\", \"down\", \"downwards\", \"dp\", \"dr\", \"ds\", \"dt\", \"du\", \"due\", \"during\", \"dx\", \"dy\", \"e\", \"e2\", \"e3\", \"ea\", \"each\", \"ec\", \"ed\", \"edu\", \"ee\", \"ef\", \"effect\", \"eg\", \"ei\", \"eight\", \"eighty\", \"either\", \"ej\", \"el\", \"eleven\", \"else\", \"elsewhere\", \"em\", \"empty\", \"en\", \"end\", \"ending\", \"enough\", \"entirely\", \"eo\", \"ep\", \"eq\", \"er\", \"es\", \"especially\", \"est\", \"et\", \"et-al\", \"etc\", \"eu\", \"ev\", \"even\", \"ever\", \"every\", \"everybody\", \"everyone\", \"everything\", \"everywhere\", \"ex\", \"exactly\", \"example\", \"except\", \"ey\", \"f\", \"f2\", \"fa\", \"far\", \"fc\", \"few\", \"ff\", \"fi\", \"fifteen\", \"fifth\", \"fify\", \"fill\", \"find\", \"fire\", \"first\", \"five\", \"fix\", \"fj\", \"fl\", \"fn\", \"fo\", \"followed\", \"following\", \"follows\", \"for\", \"former\", \"formerly\", \"forth\", \"forty\", \"found\", \"four\", \"fr\", \"from\", \"front\", \"fs\", \"ft\", \"fu\", \"full\", \"further\", \"furthermore\", \"fy\", \"g\", \"ga\", \"gave\", \"ge\", \"get\", \"gets\", \"getting\", \"gi\", \"give\", \"given\", \"gives\", \"giving\", \"gj\", \"gl\", \"go\", \"goes\", \"going\", \"gone\", \"got\", \"gotten\", \"gr\", \"greetings\", \"gs\", \"gy\", \"h\", \"h2\", \"h3\", \"had\", \"hadn\", \"hadn't\", \"happens\", \"hardly\", \"has\", \"hasn\", \"hasnt\", \"hasn't\", \"have\", \"haven\", \"haven't\", \"having\", \"he\", \"hed\", \"he'd\", \"he'll\", \"hello\", \"help\", \"hence\", \"her\", \"here\", \"hereafter\", \"hereby\", \"herein\", \"heres\", \"here's\", \"hereupon\", \"hers\", \"herself\", \"hes\", \"he's\", \"hh\", \"hi\", \"hid\", \"him\", \"himself\", \"his\", \"hither\", \"hj\", \"ho\", \"home\", \"hopefully\", \"how\", \"howbeit\", \"however\", \"how's\", \"hr\", \"hs\", \"http\", \"hu\", \"hundred\", \"hy\", \"i\", \"i2\", \"i3\", \"i4\", \"i6\", \"i7\", \"i8\", \"ia\", \"ib\", \"ibid\", \"ic\", \"id\", \"i'd\", \"ie\", \"if\", \"ig\", \"ignored\", \"ih\", \"ii\", \"ij\", \"il\", \"i'll\", \"im\", \"i'm\", \"immediate\", \"immediately\", \"importance\", \"important\", \"in\", \"inasmuch\", \"inc\", \"indeed\", \"index\", \"indicate\", \"indicated\", \"indicates\", \"information\", \"inner\", \"insofar\", \"instead\", \"interest\", \"into\", \"invention\", \"inward\", \"io\", \"ip\", \"iq\", \"ir\", \"is\", \"isn\", \"isn't\", \"it\", \"itd\", \"it'd\", \"it'll\", \"its\", \"it's\", \"itself\", \"iv\", \"i've\", \"ix\", \"iy\", \"iz\", \"j\", \"jj\", \"jr\", \"js\", \"jt\", \"ju\", \"just\", \"k\", \"ke\", \"keep\", \"keeps\", \"kept\", \"kg\", \"kj\", \"km\", \"know\", \"known\", \"knows\", \"ko\", \"l\", \"l2\", \"la\", \"largely\", \"last\", \"lately\", \"later\", \"latter\", \"latterly\", \"lb\", \"lc\", \"le\", \"least\", \"les\", \"less\", \"lest\", \"let\", \"lets\", \"let's\", \"lf\", \"like\", \"liked\", \"likely\", \"line\", \"little\", \"lj\", \"ll\", \"ll\", \"ln\", \"lo\", \"look\", \"looking\", \"looks\", \"los\", \"lr\", \"ls\", \"lt\", \"ltd\", \"m\", \"m2\", \"ma\", \"made\", \"mainly\", \"make\", \"makes\", \"many\", \"may\", \"maybe\", \"me\", \"mean\", \"means\", \"meantime\", \"meanwhile\", \"merely\", \"mg\", \"might\", \"mightn\", \"mightn't\", \"mill\", \"million\", \"mine\", \"miss\", \"ml\", \"mn\", \"mo\", \"more\", \"moreover\", \"most\", \"mostly\", \"move\", \"mr\", \"mrs\", \"ms\", \"mt\", \"mu\", \"much\", \"mug\", \"must\", \"mustn\", \"mustn't\", \"my\", \"myself\", \"n\", \"n2\", \"na\", \"name\", \"namely\", \"nay\", \"nc\", \"nd\", \"ne\", \"near\", \"nearly\", \"necessarily\", \"necessary\", \"need\", \"needn\", \"needn't\", \"needs\", \"neither\", \"never\", \"nevertheless\", \"new\", \"next\", \"ng\", \"ni\", \"nine\", \"ninety\", \"nj\", \"nl\", \"nn\", \"no\", \"nobody\", \"non\", \"none\", \"nonetheless\", \"noone\", \"nor\", \"normally\", \"nos\", \"not\", \"noted\", \"nothing\", \"novel\", \"now\", \"nowhere\", \"nr\", \"ns\", \"nt\", \"ny\", \"o\", \"oa\", \"ob\", \"obtain\", \"obtained\", \"obviously\", \"oc\", \"od\", \"of\", \"off\", \"often\", \"og\", \"oh\", \"oi\", \"oj\", \"ok\", \"okay\", \"ol\", \"old\", \"om\", \"omitted\", \"on\", \"once\", \"one\", \"ones\", \"only\", \"onto\", \"oo\", \"op\", \"oq\", \"or\", \"ord\", \"os\", \"ot\", \"other\", \"others\", \"otherwise\", \"ou\", \"ought\", \"our\", \"ours\", \"ourselves\", \"out\", \"outside\", \"over\", \"overall\", \"ow\", \"owing\", \"own\", \"ox\", \"oz\", \"p\", \"p1\", \"p2\", \"p3\", \"page\", \"pagecount\", \"pages\", \"par\", \"part\", \"particular\", \"particularly\", \"pas\", \"past\", \"pc\", \"pd\", \"pe\", \"per\", \"perhaps\", \"pf\", \"ph\", \"pi\", \"pj\", \"pk\", \"pl\", \"placed\", \"please\", \"plus\", \"pm\", \"pn\", \"po\", \"poorly\", \"possible\", \"possibly\", \"potentially\", \"pp\", \"pq\", \"pr\", \"predominantly\", \"present\", \"presumably\", \"previously\", \"primarily\", \"probably\", \"promptly\", \"proud\", \"provides\", \"ps\", \"pt\", \"pu\", \"put\", \"py\", \"q\", \"qj\", \"qu\", \"que\", \"quickly\", \"quite\", \"qv\", \"r\", \"r2\", \"ra\", \"ran\", \"rather\", \"rc\", \"rd\", \"re\", \"readily\", \"really\", \"reasonably\", \"recent\", \"recently\", \"ref\", \"refs\", \"regarding\", \"regardless\", \"regards\", \"related\", \"relatively\", \"research\", \"research-articl\", \"respectively\", \"resulted\", \"resulting\", \"results\", \"rf\", \"rh\", \"ri\", \"right\", \"rj\", \"rl\", \"rm\", \"rn\", \"ro\", \"rq\", \"rr\", \"rs\", \"rt\", \"ru\", \"run\", \"rv\", \"ry\", \"s\", \"s2\", \"sa\", \"said\", \"same\", \"saw\", \"say\", \"saying\", \"says\", \"sc\", \"sd\", \"se\", \"sec\", \"second\", \"secondly\", \"section\", \"see\", \"seeing\", \"seem\", \"seemed\", \"seeming\", \"seems\", \"seen\", \"self\", \"selves\", \"sensible\", \"sent\", \"serious\", \"seriously\", \"seven\", \"several\", \"sf\", \"shall\", \"shan\", \"shan't\", \"she\", \"shed\", \"she'd\", \"she'll\", \"shes\", \"she's\", \"should\", \"shouldn\", \"shouldn't\", \"should've\", \"show\", \"showed\", \"shown\", \"showns\", \"shows\", \"si\", \"side\", \"significant\", \"significantly\", \"similar\", \"similarly\", \"since\", \"sincere\", \"six\", \"sixty\", \"sj\", \"sl\", \"slightly\", \"sm\", \"sn\", \"so\", \"some\", \"somebody\", \"somehow\", \"someone\", \"somethan\", \"something\", \"sometime\", \"sometimes\", \"somewhat\", \"somewhere\", \"soon\", \"sorry\", \"sp\", \"specifically\", \"specified\", \"specify\", \"specifying\", \"sq\", \"sr\", \"ss\", \"st\", \"still\", \"stop\", \"strongly\", \"sub\", \"substantially\", \"successfully\", \"such\", \"sufficiently\", \"suggest\", \"sup\", \"sure\", \"sy\", \"system\", \"sz\", \"t\", \"t1\", \"t2\", \"t3\", \"take\", \"taken\", \"taking\", \"tb\", \"tc\", \"td\", \"te\", \"tell\", \"ten\", \"tends\", \"tf\", \"th\", \"than\", \"thank\", \"thanks\", \"thanx\", \"that\", \"that'll\", \"thats\", \"that's\", \"that've\", \"the\", \"their\", \"theirs\", \"them\", \"themselves\", \"then\", \"thence\", \"there\", \"thereafter\", \"thereby\", \"thered\", \"therefore\", \"therein\", \"there'll\", \"thereof\", \"therere\", \"theres\", \"there's\", \"thereto\", \"thereupon\", \"there've\", \"these\", \"they\", \"theyd\", \"they'd\", \"they'll\", \"theyre\", \"they're\", \"they've\", \"thickv\", \"thin\", \"think\", \"third\", \"this\", \"thorough\", \"thoroughly\", \"those\", \"thou\", \"though\", \"thoughh\", \"thousand\", \"three\", \"throug\", \"through\", \"throughout\", \"thru\", \"thus\", \"ti\", \"til\", \"tip\", \"tj\", \"tl\", \"tm\", \"tn\", \"to\", \"together\", \"too\", \"took\", \"top\", \"toward\", \"towards\", \"tp\", \"tq\", \"tr\", \"tried\", \"tries\", \"truly\", \"try\", \"trying\", \"ts\", \"t's\", \"tt\", \"tv\", \"twelve\", \"twenty\", \"twice\", \"two\", \"tx\", \"u\", \"u201d\", \"ue\", \"ui\", \"uj\", \"uk\", \"um\", \"un\", \"under\", \"unfortunately\", \"unless\", \"unlike\", \"unlikely\", \"until\", \"unto\", \"uo\", \"up\", \"upon\", \"ups\", \"ur\", \"us\", \"use\", \"used\", \"useful\", \"usefully\", \"usefulness\", \"uses\", \"using\", \"usually\", \"ut\", \"v\", \"va\", \"value\", \"various\", \"vd\", \"ve\", \"ve\", \"very\", \"via\", \"viz\", \"vj\", \"vo\", \"vol\", \"vols\", \"volumtype\", \"vq\", \"vs\", \"vt\", \"vu\", \"w\", \"wa\", \"want\", \"wants\", \"was\", \"wasn\", \"wasnt\", \"wasn't\", \"way\", \"we\", \"wed\", \"we'd\", \"welcome\", \"well\", \"we'll\", \"well-b\", \"went\", \"were\", \"we're\", \"weren\", \"werent\", \"weren't\", \"we've\", \"what\", \"whatever\", \"what'll\", \"whats\", \"what's\", \"when\", \"whence\", \"whenever\", \"when's\", \"where\", \"whereafter\", \"whereas\", \"whereby\", \"wherein\", \"wheres\", \"where's\", \"whereupon\", \"wherever\", \"whether\", \"which\", \"while\", \"whim\", \"whither\", \"who\", \"whod\", \"whoever\", \"whole\", \"who'll\", \"whom\", \"whomever\", \"whos\", \"who's\", \"whose\", \"why\", \"why's\", \"wi\", \"widely\", \"will\", \"willing\", \"wish\", \"with\", \"within\", \"without\", \"wo\", \"won\", \"wonder\", \"wont\", \"won't\", \"words\", \"world\", \"would\", \"wouldn\", \"wouldnt\", \"wouldn't\", \"www\", \"x\", \"x1\", \"x2\", \"x3\", \"xf\", \"xi\", \"xj\", \"xk\", \"xl\", \"xn\", \"xo\", \"xs\", \"xt\", \"xv\", \"xx\", \"y\", \"y2\", \"yes\", \"yet\", \"yj\", \"yl\", \"you\", \"youd\", \"you'd\", \"you'll\", \"your\", \"youre\", \"you're\", \"yours\", \"yourself\", \"yourselves\", \"you've\", \"yr\", \"ys\", \"yt\", \"z\", \"zero\", \"zi\", \"zz\"]"
   ]
  },
  {
   "cell_type": "code",
   "execution_count": 15,
   "id": "31b58487-df1c-42cb-9e4b-06369189eaaf",
   "metadata": {
    "execution": {
     "iopub.execute_input": "2022-04-07T03:32:52.885339Z",
     "iopub.status.busy": "2022-04-07T03:32:52.885171Z",
     "iopub.status.idle": "2022-04-07T03:32:53.149493Z",
     "shell.execute_reply": "2022-04-07T03:32:53.148906Z",
     "shell.execute_reply.started": "2022-04-07T03:32:52.885317Z"
    },
    "tags": []
   },
   "outputs": [
    {
     "data": {
      "application/vnd.jupyter.widget-view+json": {
       "model_id": "a4b2614ea5de4b68a3b005ab3d4a3105",
       "version_major": 2,
       "version_minor": 0
      },
      "text/plain": [
       "VBox()"
      ]
     },
     "metadata": {},
     "output_type": "display_data"
    },
    {
     "data": {
      "application/vnd.jupyter.widget-view+json": {
       "model_id": "",
       "version_major": 2,
       "version_minor": 0
      },
      "text/plain": [
       "FloatProgress(value=0.0, bar_style='info', description='Progress:', layout=Layout(height='25px', width='50%'),…"
      ]
     },
     "metadata": {},
     "output_type": "display_data"
    }
   ],
   "source": [
    "stopword_remover = StopWordsRemover(inputCol=\"words\", outputCol=\"filtered\")\\\n",
    "                    .setStopWords(stops)"
   ]
  },
  {
   "cell_type": "code",
   "execution_count": 16,
   "id": "403eb215-a5d7-4b69-897e-faa290aa8fb0",
   "metadata": {
    "execution": {
     "iopub.execute_input": "2022-04-07T03:32:53.150999Z",
     "iopub.status.busy": "2022-04-07T03:32:53.150739Z",
     "iopub.status.idle": "2022-04-07T03:32:53.210812Z",
     "shell.execute_reply": "2022-04-07T03:32:53.210246Z",
     "shell.execute_reply.started": "2022-04-07T03:32:53.150962Z"
    },
    "tags": []
   },
   "outputs": [
    {
     "data": {
      "application/vnd.jupyter.widget-view+json": {
       "model_id": "b15077dc5cf34a23bfcdddb20069e1b4",
       "version_major": 2,
       "version_minor": 0
      },
      "text/plain": [
       "VBox()"
      ]
     },
     "metadata": {},
     "output_type": "display_data"
    },
    {
     "data": {
      "application/vnd.jupyter.widget-view+json": {
       "model_id": "",
       "version_major": 2,
       "version_minor": 0
      },
      "text/plain": [
       "FloatProgress(value=0.0, bar_style='info', description='Progress:', layout=Layout(height='25px', width='50%'),…"
      ]
     },
     "metadata": {},
     "output_type": "display_data"
    }
   ],
   "source": [
    "class PorterStemming(Transformer, HasInputCol, HasOutputCol):\n",
    "    \"\"\"\n",
    "    PosterStemming class using the NLTK Porter Stemmer\n",
    "    \n",
    "    This comes from https://stackoverflow.com/questions/32331848/create-a-custom-transformer-in-pyspark-ml\n",
    "    Adapted to work with the Porter Stemmer from NLTK.\n",
    "    \"\"\"\n",
    "    \n",
    "    @keyword_only\n",
    "    def __init__(self, \n",
    "                 inputCol  : str = None, \n",
    "                 outputCol : str = None, \n",
    "                 min_size  : int = None):\n",
    "        \"\"\"\n",
    "        Constructor takes in the input column name, output column name,\n",
    "        plus the minimum legnth of a token (min_size)\n",
    "        \"\"\"\n",
    "        # call Transformer classes constructor since were extending it.\n",
    "        super(Transformer, self).__init__()\n",
    "\n",
    "        # set Parameter objects minimum token size\n",
    "        self.min_size = Param(self, \"min_size\", \"\")\n",
    "        self._setDefault(min_size=0)\n",
    "\n",
    "        # set the input keywork arguments\n",
    "        kwargs = self._input_kwargs\n",
    "        self.setParams(**kwargs)\n",
    "\n",
    "        # initialize Stemmer object\n",
    "        self.stemmer  = PorterStemmer()\n",
    "\n",
    "        \n",
    "    @keyword_only\n",
    "    def setParams(self, \n",
    "                  inputCol  : str = None, \n",
    "                  outputCol : str = None, \n",
    "                  min_size  : int = None\n",
    "      ) -> None:\n",
    "        \"\"\"\n",
    "        Function to set the keyword arguemnts\n",
    "        \"\"\"\n",
    "        kwargs = self._input_kwargs\n",
    "        return self._set(**kwargs)\n",
    "    \n",
    "\n",
    "    def _stem_func(self, words  : list) -> list:\n",
    "        \"\"\"\n",
    "        Stemmer function call that performs stemming on a\n",
    "        list of tokens in words and returns a list of tokens\n",
    "        that have meet the minimum length requiremnt.\n",
    "        \"\"\"\n",
    "        # We need a way to get min_size and cannot access it \n",
    "        # with self.min_size\n",
    "        min_size       = self.getMinSize()\n",
    "\n",
    "        # stem that actual tokens by applying \n",
    "        # self.stemmer.stem function to each token in \n",
    "        # the words list\n",
    "        stemmed_words  = map(self.stemmer.stem, words)\n",
    "\n",
    "        # now create the new list of tokens from\n",
    "        # stemmed_words by filtering out those\n",
    "        # that are not of legnth > min_size\n",
    "        filtered_words = filter(lambda x: len(x) > min_size, stemmed_words)\n",
    "\n",
    "        return list(filtered_words)\n",
    "    \n",
    "    def _transform(self, df: DataFrame) -> DataFrame:\n",
    "        \"\"\"\n",
    "        Transform function is the method that is called in the \n",
    "        MLPipleline.  We have to override this function for our own use\n",
    "        and have it call the _stem_func.\n",
    "\n",
    "        Notice how it takes in a type DataFrame and returns type Dataframe\n",
    "        \"\"\"\n",
    "        # Get the names of the input and output columns to use\n",
    "        out_col       = self.getOutputCol()\n",
    "        in_col        = self.getInputCol()\n",
    "\n",
    "        # create the stemming function UDF by wrapping the stemmer \n",
    "        # method function\n",
    "        stem_func_udf = F.udf(self._stem_func, ArrayType(StringType()))\n",
    "        \n",
    "        # now apply that UDF to the column in the dataframe to return\n",
    "        # a new column that has the same list of words after being stemmed\n",
    "        df2           = df.withColumn(out_col, stem_func_udf(df[in_col]))\n",
    "\n",
    "        return df2\n",
    "  \n",
    "  \n",
    "    def setMinSize(self,value):\n",
    "        \"\"\"\n",
    "        This method sets the minimum size value\n",
    "        for the _paramMap dictionary.\n",
    "        \"\"\"\n",
    "        self._paramMap[self.min_size] = value\n",
    "        return self\n",
    "\n",
    "    def getMinSize(self) -> int:\n",
    "        \"\"\"\n",
    "        This method uses the parent classes (Transformer)\n",
    "        .getOrDefault method to get the minimum\n",
    "        size of a token.\n",
    "        \"\"\"\n",
    "        return self.getOrDefault(self.min_size)"
   ]
  },
  {
   "cell_type": "code",
   "execution_count": 17,
   "id": "2ee59edd-fc27-4fd3-adc1-7eed00721f1c",
   "metadata": {
    "execution": {
     "iopub.execute_input": "2022-04-07T03:32:53.211889Z",
     "iopub.status.busy": "2022-04-07T03:32:53.211718Z",
     "iopub.status.idle": "2022-04-07T03:32:53.262761Z",
     "shell.execute_reply": "2022-04-07T03:32:53.262190Z",
     "shell.execute_reply.started": "2022-04-07T03:32:53.211868Z"
    },
    "tags": []
   },
   "outputs": [
    {
     "data": {
      "application/vnd.jupyter.widget-view+json": {
       "model_id": "11e48df6d5264e549234b82deede895c",
       "version_major": 2,
       "version_minor": 0
      },
      "text/plain": [
       "VBox()"
      ]
     },
     "metadata": {},
     "output_type": "display_data"
    },
    {
     "data": {
      "application/vnd.jupyter.widget-view+json": {
       "model_id": "",
       "version_major": 2,
       "version_minor": 0
      },
      "text/plain": [
       "FloatProgress(value=0.0, bar_style='info', description='Progress:', layout=Layout(height='25px', width='50%'),…"
      ]
     },
     "metadata": {},
     "output_type": "display_data"
    }
   ],
   "source": [
    "stem2 = PorterStemming(inputCol=\"filtered\", outputCol=\"stemmed\")"
   ]
  },
  {
   "cell_type": "code",
   "execution_count": 18,
   "id": "8ce5ee07-7f38-48fb-a539-f22e8c1c09a6",
   "metadata": {
    "execution": {
     "iopub.execute_input": "2022-04-07T03:32:53.265468Z",
     "iopub.status.busy": "2022-04-07T03:32:53.263825Z",
     "iopub.status.idle": "2022-04-07T03:32:53.349334Z",
     "shell.execute_reply": "2022-04-07T03:32:53.348770Z",
     "shell.execute_reply.started": "2022-04-07T03:32:53.265438Z"
    },
    "tags": []
   },
   "outputs": [
    {
     "data": {
      "application/vnd.jupyter.widget-view+json": {
       "model_id": "9ebf8bda76ed4663a4408b83146c13cf",
       "version_major": 2,
       "version_minor": 0
      },
      "text/plain": [
       "VBox()"
      ]
     },
     "metadata": {},
     "output_type": "display_data"
    },
    {
     "data": {
      "application/vnd.jupyter.widget-view+json": {
       "model_id": "",
       "version_major": 2,
       "version_minor": 0
      },
      "text/plain": [
       "FloatProgress(value=0.0, bar_style='info', description='Progress:', layout=Layout(height='25px', width='50%'),…"
      ]
     },
     "metadata": {},
     "output_type": "display_data"
    }
   ],
   "source": [
    "# countVectors = CountVectorizer(inputCol=\"stemmed\", outputCol=\"features\", vocabSize=10000, minDF=5)"
   ]
  },
  {
   "cell_type": "code",
   "execution_count": 19,
   "id": "60bffebe-b73b-48a0-afca-a3c720cd83bb",
   "metadata": {
    "execution": {
     "iopub.execute_input": "2022-04-07T03:32:53.350373Z",
     "iopub.status.busy": "2022-04-07T03:32:53.350197Z",
     "iopub.status.idle": "2022-04-07T03:32:53.401159Z",
     "shell.execute_reply": "2022-04-07T03:32:53.400629Z",
     "shell.execute_reply.started": "2022-04-07T03:32:53.350352Z"
    },
    "tags": []
   },
   "outputs": [
    {
     "data": {
      "application/vnd.jupyter.widget-view+json": {
       "model_id": "a76aebb7a8c84142802e62c21c00dd0d",
       "version_major": 2,
       "version_minor": 0
      },
      "text/plain": [
       "VBox()"
      ]
     },
     "metadata": {},
     "output_type": "display_data"
    },
    {
     "data": {
      "application/vnd.jupyter.widget-view+json": {
       "model_id": "",
       "version_major": 2,
       "version_minor": 0
      },
      "text/plain": [
       "FloatProgress(value=0.0, bar_style='info', description='Progress:', layout=Layout(height='25px', width='50%'),…"
      ]
     },
     "metadata": {},
     "output_type": "display_data"
    }
   ],
   "source": [
    "# pipeline  = Pipeline(stages=[rgtoken,stopword_remover,stem2,countVectors])"
   ]
  },
  {
   "cell_type": "code",
   "execution_count": 20,
   "id": "3b98d81a-bde0-4839-90b3-25ac00313d68",
   "metadata": {
    "execution": {
     "iopub.execute_input": "2022-04-07T03:32:53.402522Z",
     "iopub.status.busy": "2022-04-07T03:32:53.402273Z",
     "iopub.status.idle": "2022-04-07T03:32:53.459295Z",
     "shell.execute_reply": "2022-04-07T03:32:53.458752Z",
     "shell.execute_reply.started": "2022-04-07T03:32:53.402487Z"
    },
    "tags": []
   },
   "outputs": [
    {
     "data": {
      "application/vnd.jupyter.widget-view+json": {
       "model_id": "d2851cd1ecd242b19e3da2688493febc",
       "version_major": 2,
       "version_minor": 0
      },
      "text/plain": [
       "VBox()"
      ]
     },
     "metadata": {},
     "output_type": "display_data"
    },
    {
     "data": {
      "application/vnd.jupyter.widget-view+json": {
       "model_id": "",
       "version_major": 2,
       "version_minor": 0
      },
      "text/plain": [
       "FloatProgress(value=0.0, bar_style='info', description='Progress:', layout=Layout(height='25px', width='50%'),…"
      ]
     },
     "metadata": {},
     "output_type": "display_data"
    }
   ],
   "source": [
    "pipeline  = Pipeline(stages=[rgtoken,stopword_remover,stem2])"
   ]
  },
  {
   "cell_type": "code",
   "execution_count": 22,
   "id": "37180637-6c2b-47af-89ea-5b97638e3702",
   "metadata": {
    "execution": {
     "iopub.execute_input": "2022-04-07T03:32:53.527710Z",
     "iopub.status.busy": "2022-04-07T03:32:53.527508Z",
     "iopub.status.idle": "2022-04-07T03:32:53.581184Z",
     "shell.execute_reply": "2022-04-07T03:32:53.580610Z",
     "shell.execute_reply.started": "2022-04-07T03:32:53.527688Z"
    },
    "tags": []
   },
   "outputs": [
    {
     "data": {
      "application/vnd.jupyter.widget-view+json": {
       "model_id": "63b2721cecaf4b6abfa6e1751d9f9fdc",
       "version_major": 2,
       "version_minor": 0
      },
      "text/plain": [
       "VBox()"
      ]
     },
     "metadata": {},
     "output_type": "display_data"
    },
    {
     "data": {
      "application/vnd.jupyter.widget-view+json": {
       "model_id": "",
       "version_major": 2,
       "version_minor": 0
      },
      "text/plain": [
       "FloatProgress(value=0.0, bar_style='info', description='Progress:', layout=Layout(height='25px', width='50%'),…"
      ]
     },
     "metadata": {},
     "output_type": "display_data"
    }
   ],
   "source": [
    "processed = pipeline.fit(review_df)"
   ]
  },
  {
   "cell_type": "code",
   "execution_count": 23,
   "id": "f974daef-5a33-4963-b762-9755b1a31eda",
   "metadata": {
    "execution": {
     "iopub.execute_input": "2022-04-07T03:32:53.582863Z",
     "iopub.status.busy": "2022-04-07T03:32:53.582600Z",
     "iopub.status.idle": "2022-04-07T03:32:54.381021Z",
     "shell.execute_reply": "2022-04-07T03:32:54.380417Z",
     "shell.execute_reply.started": "2022-04-07T03:32:53.582826Z"
    },
    "tags": []
   },
   "outputs": [
    {
     "data": {
      "application/vnd.jupyter.widget-view+json": {
       "model_id": "081a48bceb5f46ba8c3245abcf07a86e",
       "version_major": 2,
       "version_minor": 0
      },
      "text/plain": [
       "VBox()"
      ]
     },
     "metadata": {},
     "output_type": "display_data"
    },
    {
     "data": {
      "application/vnd.jupyter.widget-view+json": {
       "model_id": "",
       "version_major": 2,
       "version_minor": 0
      },
      "text/plain": [
       "FloatProgress(value=0.0, bar_style='info', description='Progress:', layout=Layout(height='25px', width='50%'),…"
      ]
     },
     "metadata": {},
     "output_type": "display_data"
    }
   ],
   "source": [
    "df_train = processed.transform(review_df)"
   ]
  },
  {
   "cell_type": "code",
   "execution_count": 24,
   "id": "72402304-9b14-4411-8633-7054b3145dc2",
   "metadata": {
    "execution": {
     "iopub.execute_input": "2022-04-07T03:32:54.382355Z",
     "iopub.status.busy": "2022-04-07T03:32:54.382069Z",
     "iopub.status.idle": "2022-04-07T03:33:03.700900Z",
     "shell.execute_reply": "2022-04-07T03:33:03.700320Z",
     "shell.execute_reply.started": "2022-04-07T03:32:54.382319Z"
    },
    "tags": []
   },
   "outputs": [
    {
     "data": {
      "application/vnd.jupyter.widget-view+json": {
       "model_id": "a57a93ce47584b59a3b6f1e7becac08d",
       "version_major": 2,
       "version_minor": 0
      },
      "text/plain": [
       "VBox()"
      ]
     },
     "metadata": {},
     "output_type": "display_data"
    },
    {
     "data": {
      "application/vnd.jupyter.widget-view+json": {
       "model_id": "",
       "version_major": 2,
       "version_minor": 0
      },
      "text/plain": [
       "FloatProgress(value=0.0, bar_style='info', description='Progress:', layout=Layout(height='25px', width='50%'),…"
      ]
     },
     "metadata": {},
     "output_type": "display_data"
    },
    {
     "name": "stdout",
     "output_type": "stream",
     "text": [
      "+--------------------+-----+--------------------+--------------------+--------------------+\n",
      "|                text|label|               words|            filtered|             stemmed|\n",
      "+--------------------+-----+--------------------+--------------------+--------------------+\n",
      "|What a great find...|    0|[what, a, great, ...|[great, piece, po...|[great, piec, por...|\n",
      "|The only reason I...|    0|[the, only, reaso...|[reason, stars, s...|[reason, star, st...|\n",
      "|It s fun that it ...|    0|[it, s, fun, that...|[fun, water, grea...|[fun, water, grea...|\n",
      "|I ve been to Smit...|    0|[i, ve, been, to,...|[smith, couple, t...|[smith, coupl, ti...|\n",
      "|We do love the fo...|    0|[we, do, love, th...|[love, food, remi...|[love, food, remi...|\n",
      "|This place was al...|    0|[this, place, was...|[place, alright, ...|[place, alright, ...|\n",
      "|Nice shopping exp...|    0|[nice, shopping, ...|[nice, shopping, ...|[nice, shop, expe...|\n",
      "|How do you downgr...|    0|[how, do, you, do...|[downgrade, laund...|[downgrad, laundr...|\n",
      "|Really fun place ...|    0|[really, fun, pla...|[fun, place, uniq...|[fun, place, uniq...|\n",
      "|Fresh OJ     The ...|    0|[fresh, oj, the, ...|[fresh, chorizo, ...|[fresh, chorizo, ...|\n",
      "+--------------------+-----+--------------------+--------------------+--------------------+\n",
      "only showing top 10 rows"
     ]
    }
   ],
   "source": [
    "df_train.show(10)"
   ]
  },
  {
   "cell_type": "code",
   "execution_count": 25,
   "id": "35ceecc9-411f-4147-b84b-28f50e75557c",
   "metadata": {
    "execution": {
     "iopub.execute_input": "2022-04-07T03:33:03.701950Z",
     "iopub.status.busy": "2022-04-07T03:33:03.701777Z",
     "iopub.status.idle": "2022-04-07T03:33:03.775766Z",
     "shell.execute_reply": "2022-04-07T03:33:03.774866Z",
     "shell.execute_reply.started": "2022-04-07T03:33:03.701929Z"
    },
    "tags": []
   },
   "outputs": [
    {
     "data": {
      "application/vnd.jupyter.widget-view+json": {
       "model_id": "31a4bb69d64c4c10a00c1d0c42ac99a5",
       "version_major": 2,
       "version_minor": 0
      },
      "text/plain": [
       "VBox()"
      ]
     },
     "metadata": {},
     "output_type": "display_data"
    },
    {
     "data": {
      "application/vnd.jupyter.widget-view+json": {
       "model_id": "",
       "version_major": 2,
       "version_minor": 0
      },
      "text/plain": [
       "FloatProgress(value=0.0, bar_style='info', description='Progress:', layout=Layout(height='25px', width='50%'),…"
      ]
     },
     "metadata": {},
     "output_type": "display_data"
    }
   ],
   "source": [
    "df_train1 = df_train.select(\"stemmed\")"
   ]
  },
  {
   "cell_type": "code",
   "execution_count": 31,
   "id": "03c0a08d-c3d1-4c31-b16a-cbabb4efd2c5",
   "metadata": {
    "execution": {
     "iopub.execute_input": "2022-04-06T04:22:57.898183Z",
     "iopub.status.busy": "2022-04-06T04:22:57.897826Z",
     "iopub.status.idle": "2022-04-06T04:48:11.621471Z",
     "shell.execute_reply": "2022-04-06T04:48:11.620554Z",
     "shell.execute_reply.started": "2022-04-06T04:22:57.898112Z"
    },
    "tags": []
   },
   "outputs": [
    {
     "data": {
      "application/vnd.jupyter.widget-view+json": {
       "model_id": "4a9df9431b7948fc983cf4190148aef9",
       "version_major": 2,
       "version_minor": 0
      },
      "text/plain": [
       "VBox()"
      ]
     },
     "metadata": {},
     "output_type": "display_data"
    },
    {
     "data": {
      "application/vnd.jupyter.widget-view+json": {
       "model_id": "",
       "version_major": 2,
       "version_minor": 0
      },
      "text/plain": [
       "FloatProgress(value=0.0, bar_style='info', description='Progress:', layout=Layout(height='25px', width='50%'),…"
      ]
     },
     "metadata": {},
     "output_type": "display_data"
    }
   ],
   "source": [
    "# df_train.write.parquet(\"s3://mukeshproj/Topic_modelling_pipeline_backup/topic_modelling_parquet_pipeline/shrink_data_piprline_backup\")"
   ]
  },
  {
   "cell_type": "code",
   "execution_count": null,
   "id": "7d99bff0-ab19-4947-9641-bb89b4414a9f",
   "metadata": {
    "tags": []
   },
   "outputs": [],
   "source": [
    "# df_train= spark.read.parquet(\"hdfs:///review_shrunk_pipeline/\")"
   ]
  },
  {
   "cell_type": "code",
   "execution_count": 27,
   "id": "eaee4130-cfdb-47f7-b270-ee3adf72e2b5",
   "metadata": {
    "execution": {
     "iopub.execute_input": "2022-04-07T03:33:06.127931Z",
     "iopub.status.busy": "2022-04-07T03:33:06.127679Z",
     "iopub.status.idle": "2022-04-07T03:33:08.472744Z",
     "shell.execute_reply": "2022-04-07T03:33:08.471995Z",
     "shell.execute_reply.started": "2022-04-07T03:33:06.127896Z"
    },
    "tags": []
   },
   "outputs": [
    {
     "data": {
      "application/vnd.jupyter.widget-view+json": {
       "model_id": "c98fe1b1bed84c8bad40aa4696434d4f",
       "version_major": 2,
       "version_minor": 0
      },
      "text/plain": [
       "VBox()"
      ]
     },
     "metadata": {},
     "output_type": "display_data"
    },
    {
     "data": {
      "application/vnd.jupyter.widget-view+json": {
       "model_id": "",
       "version_major": 2,
       "version_minor": 0
      },
      "text/plain": [
       "FloatProgress(value=0.0, bar_style='info', description='Progress:', layout=Layout(height='25px', width='50%'),…"
      ]
     },
     "metadata": {},
     "output_type": "display_data"
    },
    {
     "name": "stdout",
     "output_type": "stream",
     "text": [
      "+--------------------+\n",
      "|             stemmed|\n",
      "+--------------------+\n",
      "|[great, piec, por...|\n",
      "|[reason, star, st...|\n",
      "|[fun, water, grea...|\n",
      "|[smith, coupl, ti...|\n",
      "|[love, food, remi...|\n",
      "+--------------------+\n",
      "only showing top 5 rows"
     ]
    }
   ],
   "source": [
    "df_train1.show(5)"
   ]
  },
  {
   "cell_type": "code",
   "execution_count": 28,
   "id": "1b8b0077-0a45-4850-8484-fc130955c589",
   "metadata": {
    "execution": {
     "iopub.execute_input": "2022-04-07T03:33:08.474203Z",
     "iopub.status.busy": "2022-04-07T03:33:08.473979Z",
     "iopub.status.idle": "2022-04-07T03:33:08.738551Z",
     "shell.execute_reply": "2022-04-07T03:33:08.737095Z",
     "shell.execute_reply.started": "2022-04-07T03:33:08.474179Z"
    },
    "tags": []
   },
   "outputs": [
    {
     "data": {
      "application/vnd.jupyter.widget-view+json": {
       "model_id": "ae46defbb2e04f12b599a11614355042",
       "version_major": 2,
       "version_minor": 0
      },
      "text/plain": [
       "VBox()"
      ]
     },
     "metadata": {},
     "output_type": "display_data"
    },
    {
     "data": {
      "application/vnd.jupyter.widget-view+json": {
       "model_id": "",
       "version_major": 2,
       "version_minor": 0
      },
      "text/plain": [
       "FloatProgress(value=0.0, bar_style='info', description='Progress:', layout=Layout(height='25px', width='50%'),…"
      ]
     },
     "metadata": {},
     "output_type": "display_data"
    }
   ],
   "source": [
    "cv = CountVectorizer(inputCol=\"stemmed\", outputCol=\"features\", vocabSize=10000, minDF=3.0)"
   ]
  },
  {
   "cell_type": "code",
   "execution_count": 29,
   "id": "e2d03493-d485-4897-bd99-07a66e3eed43",
   "metadata": {
    "execution": {
     "iopub.execute_input": "2022-04-07T03:33:08.739964Z",
     "iopub.status.busy": "2022-04-07T03:33:08.739711Z",
     "iopub.status.idle": "2022-04-07T03:40:13.154027Z",
     "shell.execute_reply": "2022-04-07T03:40:13.153400Z",
     "shell.execute_reply.started": "2022-04-07T03:33:08.739927Z"
    },
    "tags": []
   },
   "outputs": [
    {
     "data": {
      "application/vnd.jupyter.widget-view+json": {
       "model_id": "be061d3a369b4714ba295d524af9668d",
       "version_major": 2,
       "version_minor": 0
      },
      "text/plain": [
       "VBox()"
      ]
     },
     "metadata": {},
     "output_type": "display_data"
    },
    {
     "data": {
      "application/vnd.jupyter.widget-view+json": {
       "model_id": "",
       "version_major": 2,
       "version_minor": 0
      },
      "text/plain": [
       "FloatProgress(value=0.0, bar_style='info', description='Progress:', layout=Layout(height='25px', width='50%'),…"
      ]
     },
     "metadata": {},
     "output_type": "display_data"
    }
   ],
   "source": [
    "cv_model = cv.fit(df_train1)"
   ]
  },
  {
   "cell_type": "code",
   "execution_count": 35,
   "id": "4678ee40-3790-4ed4-bf17-41fe8ab01722",
   "metadata": {
    "execution": {
     "iopub.execute_input": "2022-04-07T03:42:17.997236Z",
     "iopub.status.busy": "2022-04-07T03:42:17.997007Z",
     "iopub.status.idle": "2022-04-07T03:42:18.265233Z",
     "shell.execute_reply": "2022-04-07T03:42:18.264656Z",
     "shell.execute_reply.started": "2022-04-07T03:42:17.997213Z"
    },
    "tags": []
   },
   "outputs": [
    {
     "data": {
      "application/vnd.jupyter.widget-view+json": {
       "model_id": "8c6b07cd2ce540d09fcc1e29786ee4a6",
       "version_major": 2,
       "version_minor": 0
      },
      "text/plain": [
       "VBox()"
      ]
     },
     "metadata": {},
     "output_type": "display_data"
    },
    {
     "data": {
      "application/vnd.jupyter.widget-view+json": {
       "model_id": "",
       "version_major": 2,
       "version_minor": 0
      },
      "text/plain": [
       "FloatProgress(value=0.0, bar_style='info', description='Progress:', layout=Layout(height='25px', width='50%'),…"
      ]
     },
     "metadata": {},
     "output_type": "display_data"
    }
   ],
   "source": [
    "vectorized_tokens = cv_model.transform(df_train1)"
   ]
  },
  {
   "cell_type": "code",
   "execution_count": 36,
   "id": "5039ca7a-2307-4505-b5b3-cc91b8ae074d",
   "metadata": {
    "execution": {
     "iopub.execute_input": "2022-04-07T03:42:19.759310Z",
     "iopub.status.busy": "2022-04-07T03:42:19.759091Z",
     "iopub.status.idle": "2022-04-07T03:42:19.810793Z",
     "shell.execute_reply": "2022-04-07T03:42:19.810216Z",
     "shell.execute_reply.started": "2022-04-07T03:42:19.759286Z"
    },
    "tags": []
   },
   "outputs": [
    {
     "data": {
      "application/vnd.jupyter.widget-view+json": {
       "model_id": "7899c5ef442a4890a522d6d0ccbb7ea1",
       "version_major": 2,
       "version_minor": 0
      },
      "text/plain": [
       "VBox()"
      ]
     },
     "metadata": {},
     "output_type": "display_data"
    },
    {
     "data": {
      "application/vnd.jupyter.widget-view+json": {
       "model_id": "",
       "version_major": 2,
       "version_minor": 0
      },
      "text/plain": [
       "FloatProgress(value=0.0, bar_style='info', description='Progress:', layout=Layout(height='25px', width='50%'),…"
      ]
     },
     "metadata": {},
     "output_type": "display_data"
    },
    {
     "name": "stdout",
     "output_type": "stream",
     "text": [
      "<class 'pyspark.sql.dataframe.DataFrame'>"
     ]
    }
   ],
   "source": [
    "type(vectorized_tokens)"
   ]
  },
  {
   "cell_type": "code",
   "execution_count": 37,
   "id": "bd1330ef-4cdd-4bf9-8a41-1af6b5605877",
   "metadata": {
    "execution": {
     "iopub.execute_input": "2022-04-07T03:42:23.351797Z",
     "iopub.status.busy": "2022-04-07T03:42:23.351558Z",
     "iopub.status.idle": "2022-04-07T03:42:25.623128Z",
     "shell.execute_reply": "2022-04-07T03:42:25.622414Z",
     "shell.execute_reply.started": "2022-04-07T03:42:23.351772Z"
    },
    "tags": []
   },
   "outputs": [
    {
     "data": {
      "application/vnd.jupyter.widget-view+json": {
       "model_id": "8d858f12db4f451a8c553d7837241728",
       "version_major": 2,
       "version_minor": 0
      },
      "text/plain": [
       "VBox()"
      ]
     },
     "metadata": {},
     "output_type": "display_data"
    },
    {
     "data": {
      "application/vnd.jupyter.widget-view+json": {
       "model_id": "",
       "version_major": 2,
       "version_minor": 0
      },
      "text/plain": [
       "FloatProgress(value=0.0, bar_style='info', description='Progress:', layout=Layout(height='25px', width='50%'),…"
      ]
     },
     "metadata": {},
     "output_type": "display_data"
    },
    {
     "name": "stdout",
     "output_type": "stream",
     "text": [
      "+--------------------+--------------------+\n",
      "|             stemmed|            features|\n",
      "+--------------------+--------------------+\n",
      "|[great, piec, por...|(10000,[0,1,5,6,1...|\n",
      "|[reason, star, st...|(10000,[1,7,11,13...|\n",
      "|[fun, water, grea...|(10000,[0,2,6,7,1...|\n",
      "|[smith, coupl, ti...|(10000,[0,1,3,4,5...|\n",
      "|[love, food, remi...|(10000,[0,11,16,4...|\n",
      "+--------------------+--------------------+\n",
      "only showing top 5 rows"
     ]
    }
   ],
   "source": [
    "vectorized_tokens.show(5)"
   ]
  },
  {
   "cell_type": "code",
   "execution_count": 38,
   "id": "0e583d75-fd5a-4142-8e7b-e266c000d618",
   "metadata": {
    "execution": {
     "iopub.execute_input": "2022-04-07T03:42:31.487786Z",
     "iopub.status.busy": "2022-04-07T03:42:31.487539Z",
     "iopub.status.idle": "2022-04-07T03:42:31.772212Z",
     "shell.execute_reply": "2022-04-07T03:42:31.771610Z",
     "shell.execute_reply.started": "2022-04-07T03:42:31.487760Z"
    },
    "tags": []
   },
   "outputs": [
    {
     "data": {
      "application/vnd.jupyter.widget-view+json": {
       "model_id": "78fcef2247774a849f5b3c9a30803a50",
       "version_major": 2,
       "version_minor": 0
      },
      "text/plain": [
       "VBox()"
      ]
     },
     "metadata": {},
     "output_type": "display_data"
    },
    {
     "data": {
      "application/vnd.jupyter.widget-view+json": {
       "model_id": "",
       "version_major": 2,
       "version_minor": 0
      },
      "text/plain": [
       "FloatProgress(value=0.0, bar_style='info', description='Progress:', layout=Layout(height='25px', width='50%'),…"
      ]
     },
     "metadata": {},
     "output_type": "display_data"
    },
    {
     "name": "stdout",
     "output_type": "stream",
     "text": [
      "21"
     ]
    }
   ],
   "source": [
    "vectorized_tokens.rdd.getNumPartitions()"
   ]
  },
  {
   "cell_type": "code",
   "execution_count": 39,
   "id": "2851b831-cffd-4332-b07e-a03c5bea6fe4",
   "metadata": {
    "execution": {
     "iopub.execute_input": "2022-04-07T03:42:33.575659Z",
     "iopub.status.busy": "2022-04-07T03:42:33.575440Z",
     "iopub.status.idle": "2022-04-07T03:42:33.843237Z",
     "shell.execute_reply": "2022-04-07T03:42:33.842408Z",
     "shell.execute_reply.started": "2022-04-07T03:42:33.575636Z"
    },
    "tags": []
   },
   "outputs": [
    {
     "data": {
      "application/vnd.jupyter.widget-view+json": {
       "model_id": "ef499110b98d4678adbe1a0fd8c0625b",
       "version_major": 2,
       "version_minor": 0
      },
      "text/plain": [
       "VBox()"
      ]
     },
     "metadata": {},
     "output_type": "display_data"
    },
    {
     "data": {
      "application/vnd.jupyter.widget-view+json": {
       "model_id": "",
       "version_major": 2,
       "version_minor": 0
      },
      "text/plain": [
       "FloatProgress(value=0.0, bar_style='info', description='Progress:', layout=Layout(height='25px', width='50%'),…"
      ]
     },
     "metadata": {},
     "output_type": "display_data"
    }
   ],
   "source": [
    "vectorized_tokens=vectorized_tokens.cache()"
   ]
  },
  {
   "cell_type": "code",
   "execution_count": 40,
   "id": "18206584-de20-4efd-a856-f1c05ae23c36",
   "metadata": {
    "execution": {
     "iopub.execute_input": "2022-04-07T03:42:36.064772Z",
     "iopub.status.busy": "2022-04-07T03:42:36.064485Z",
     "iopub.status.idle": "2022-04-07T03:42:36.134891Z",
     "shell.execute_reply": "2022-04-07T03:42:36.134181Z",
     "shell.execute_reply.started": "2022-04-07T03:42:36.064744Z"
    },
    "tags": []
   },
   "outputs": [
    {
     "data": {
      "application/vnd.jupyter.widget-view+json": {
       "model_id": "218bf7f79f92414d86d2e2d1d5fd66f0",
       "version_major": 2,
       "version_minor": 0
      },
      "text/plain": [
       "VBox()"
      ]
     },
     "metadata": {},
     "output_type": "display_data"
    },
    {
     "data": {
      "application/vnd.jupyter.widget-view+json": {
       "model_id": "",
       "version_major": 2,
       "version_minor": 0
      },
      "text/plain": [
       "FloatProgress(value=0.0, bar_style='info', description='Progress:', layout=Layout(height='25px', width='50%'),…"
      ]
     },
     "metadata": {},
     "output_type": "display_data"
    }
   ],
   "source": [
    "vectorized_tokens=vectorized_tokens.repartition(10000)"
   ]
  },
  {
   "cell_type": "code",
   "execution_count": 41,
   "id": "4264a621-e576-411a-a97c-9db2eaad3e0f",
   "metadata": {
    "collapsed": true,
    "execution": {
     "iopub.execute_input": "2022-04-07T03:42:38.037189Z",
     "iopub.status.busy": "2022-04-07T03:42:38.036953Z",
     "iopub.status.idle": "2022-04-07T04:25:01.069779Z",
     "shell.execute_reply": "2022-04-07T04:25:01.068917Z",
     "shell.execute_reply.started": "2022-04-07T03:42:38.037163Z"
    },
    "jupyter": {
     "outputs_hidden": true
    },
    "tags": []
   },
   "outputs": [
    {
     "data": {
      "application/vnd.jupyter.widget-view+json": {
       "model_id": "6b19ddbd3d85472b88d429ef7c613313",
       "version_major": 2,
       "version_minor": 0
      },
      "text/plain": [
       "VBox()"
      ]
     },
     "metadata": {},
     "output_type": "display_data"
    },
    {
     "data": {
      "application/vnd.jupyter.widget-view+json": {
       "model_id": "",
       "version_major": 2,
       "version_minor": 0
      },
      "text/plain": [
       "FloatProgress(value=0.0, bar_style='info', description='Progress:', layout=Layout(height='25px', width='50%'),…"
      ]
     },
     "metadata": {},
     "output_type": "display_data"
    },
    {
     "name": "stdout",
     "output_type": "stream",
     "text": [
      "The lower bound on the log likelihood of the entire corpus: -1129065342.9442372\n",
      "The upper bound on perplexity: 7.401379405414593"
     ]
    }
   ],
   "source": [
    "from pyspark.ml.clustering import LDA\n",
    "num_topics = 10\n",
    "lda = LDA(k=num_topics, maxIter=2)\n",
    "model = lda.fit(vectorized_tokens)\n",
    "ll = model.logLikelihood(vectorized_tokens)\n",
    "lp = model.logPerplexity(vectorized_tokens)\n",
    "print(\"The lower bound on the log likelihood of the entire corpus: \" + str(ll))\n",
    "print(\"The upper bound on perplexity: \" + str(lp))"
   ]
  },
  {
   "cell_type": "code",
   "execution_count": 49,
   "id": "d5f86246-7a2f-41c2-9bfe-45c3f0098a03",
   "metadata": {
    "execution": {
     "iopub.execute_input": "2022-04-07T04:35:30.306953Z",
     "iopub.status.busy": "2022-04-07T04:35:30.306709Z",
     "iopub.status.idle": "2022-04-07T04:35:31.072276Z",
     "shell.execute_reply": "2022-04-07T04:35:31.071532Z",
     "shell.execute_reply.started": "2022-04-07T04:35:30.306928Z"
    },
    "tags": []
   },
   "outputs": [
    {
     "data": {
      "application/vnd.jupyter.widget-view+json": {
       "model_id": "aba1450c785f4a0e87a5276e2366b337",
       "version_major": 2,
       "version_minor": 0
      },
      "text/plain": [
       "VBox()"
      ]
     },
     "metadata": {},
     "output_type": "display_data"
    },
    {
     "data": {
      "application/vnd.jupyter.widget-view+json": {
       "model_id": "",
       "version_major": 2,
       "version_minor": 0
      },
      "text/plain": [
       "FloatProgress(value=0.0, bar_style='info', description='Progress:', layout=Layout(height='25px', width='50%'),…"
      ]
     },
     "metadata": {},
     "output_type": "display_data"
    },
    {
     "name": "stdout",
     "output_type": "stream",
     "text": [
      "topic: 0\n",
      "*************************\n",
      "time order good place pizza great food love wait dog \n",
      "\n",
      "*************************\n",
      "topic: 1\n",
      "*************************\n",
      "food place time good servic order great nice drink peopl \n",
      "\n",
      "*************************\n",
      "topic: 2\n",
      "*************************\n",
      "food great servic place good order restaur price roll sushi \n",
      "\n",
      "*************************\n",
      "topic: 3\n",
      "*************************\n",
      "good order food chicken place servic fri great restaur time \n",
      "\n",
      "*************************\n",
      "topic: 4\n",
      "*************************\n",
      "good food place great time servic coffe delici restaur flavor \n",
      "\n",
      "*************************\n",
      "topic: 5\n",
      "*************************\n",
      "place time servic told work day food peopl ask staff \n",
      "\n",
      "*************************\n",
      "topic: 6\n",
      "*************************\n",
      "food time place order wait great good servic price minut \n",
      "\n",
      "*************************\n",
      "topic: 7\n",
      "*************************\n",
      "place great time good price work love food peopl year \n",
      "\n",
      "*************************\n",
      "topic: 8\n",
      "*************************\n",
      "time good servic order burger car work call custom place \n",
      "\n",
      "*************************\n",
      "topic: 9\n",
      "*************************\n",
      "food time order wait tabl place servic good drink restaur \n",
      "\n",
      "*************************"
     ]
    }
   ],
   "source": [
    "# extract vocabulary from CountVectorizer\n",
    "vocab = cv_model.vocabulary\n",
    "topics = model.describeTopics()   \n",
    "topics_rdd = topics.rdd\n",
    "topics_words = topics_rdd\\\n",
    "       .map(lambda row: row['termIndices'])\\\n",
    "       .map(lambda idx_list: [vocab[idx] for idx in idx_list])\\\n",
    "       .collect()\n",
    "for idx, topic in enumerate(topics_words):\n",
    "    print(\"topic: {}\".format(idx))\n",
    "    print(\"*\"*25)\n",
    "    for word in topic:\n",
    "       print(word,end=\" \")\n",
    "    print(\"\\n\")\n",
    "    print(\"*\"*25)"
   ]
  },
  {
   "cell_type": "code",
   "execution_count": 58,
   "id": "c43404df-98db-4fb9-b725-c54f60a5d344",
   "metadata": {
    "execution": {
     "iopub.execute_input": "2022-04-07T04:45:42.829410Z",
     "iopub.status.busy": "2022-04-07T04:45:42.829183Z",
     "iopub.status.idle": "2022-04-07T04:45:43.087590Z",
     "shell.execute_reply": "2022-04-07T04:45:43.087017Z",
     "shell.execute_reply.started": "2022-04-07T04:45:42.829387Z"
    },
    "tags": []
   },
   "outputs": [
    {
     "data": {
      "application/vnd.jupyter.widget-view+json": {
       "model_id": "8f1703c761f344d39eee191b6de95f95",
       "version_major": 2,
       "version_minor": 0
      },
      "text/plain": [
       "VBox()"
      ]
     },
     "metadata": {},
     "output_type": "display_data"
    },
    {
     "data": {
      "application/vnd.jupyter.widget-view+json": {
       "model_id": "",
       "version_major": 2,
       "version_minor": 0
      },
      "text/plain": [
       "FloatProgress(value=0.0, bar_style='info', description='Progress:', layout=Layout(height='25px', width='50%'),…"
      ]
     },
     "metadata": {},
     "output_type": "display_data"
    }
   ],
   "source": [
    "topics_words = topics_rdd\\\n",
    "       .map(lambda row: row['termIndices'])\\\n",
    "       .map(lambda idx_list: [vocab[idx] for idx in idx_list])\\\n",
    "       .collect()"
   ]
  },
  {
   "cell_type": "code",
   "execution_count": 59,
   "id": "f421fd8c-c63d-4c31-b3ae-59dbfa818201",
   "metadata": {
    "collapsed": true,
    "execution": {
     "iopub.execute_input": "2022-04-07T04:45:50.618663Z",
     "iopub.status.busy": "2022-04-07T04:45:50.618416Z",
     "iopub.status.idle": "2022-04-07T04:45:50.677994Z",
     "shell.execute_reply": "2022-04-07T04:45:50.677367Z",
     "shell.execute_reply.started": "2022-04-07T04:45:50.618640Z"
    },
    "jupyter": {
     "outputs_hidden": true
    },
    "tags": []
   },
   "outputs": [
    {
     "data": {
      "application/vnd.jupyter.widget-view+json": {
       "model_id": "bb9f9d663991402cb52843c8be0b54b7",
       "version_major": 2,
       "version_minor": 0
      },
      "text/plain": [
       "VBox()"
      ]
     },
     "metadata": {},
     "output_type": "display_data"
    },
    {
     "data": {
      "application/vnd.jupyter.widget-view+json": {
       "model_id": "",
       "version_major": 2,
       "version_minor": 0
      },
      "text/plain": [
       "FloatProgress(value=0.0, bar_style='info', description='Progress:', layout=Layout(height='25px', width='50%'),…"
      ]
     },
     "metadata": {},
     "output_type": "display_data"
    },
    {
     "name": "stdout",
     "output_type": "stream",
     "text": [
      "[['time', 'order', 'good', 'place', 'pizza', 'great', 'food', 'love', 'wait', 'dog'], ['food', 'place', 'time', 'good', 'servic', 'order', 'great', 'nice', 'drink', 'peopl'], ['food', 'great', 'servic', 'place', 'good', 'order', 'restaur', 'price', 'roll', 'sushi'], ['good', 'order', 'food', 'chicken', 'place', 'servic', 'fri', 'great', 'restaur', 'time'], ['good', 'food', 'place', 'great', 'time', 'servic', 'coffe', 'delici', 'restaur', 'flavor'], ['place', 'time', 'servic', 'told', 'work', 'day', 'food', 'peopl', 'ask', 'staff'], ['food', 'time', 'place', 'order', 'wait', 'great', 'good', 'servic', 'price', 'minut'], ['place', 'great', 'time', 'good', 'price', 'work', 'love', 'food', 'peopl', 'year'], ['time', 'good', 'servic', 'order', 'burger', 'car', 'work', 'call', 'custom', 'place'], ['food', 'time', 'order', 'wait', 'tabl', 'place', 'servic', 'good', 'drink', 'restaur']]"
     ]
    }
   ],
   "source": [
    "topics_words"
   ]
  },
  {
   "cell_type": "code",
   "execution_count": 70,
   "id": "872d293e-4627-41e1-8b6e-9e697c744a91",
   "metadata": {
    "execution": {
     "iopub.execute_input": "2022-04-07T05:14:13.010020Z",
     "iopub.status.busy": "2022-04-07T05:14:13.009781Z",
     "iopub.status.idle": "2022-04-07T05:14:13.067459Z",
     "shell.execute_reply": "2022-04-07T05:14:13.066900Z",
     "shell.execute_reply.started": "2022-04-07T05:14:13.009994Z"
    },
    "tags": []
   },
   "outputs": [
    {
     "data": {
      "application/vnd.jupyter.widget-view+json": {
       "model_id": "978dea06c0a44491abd5b122e3fc4326",
       "version_major": 2,
       "version_minor": 0
      },
      "text/plain": [
       "VBox()"
      ]
     },
     "metadata": {},
     "output_type": "display_data"
    },
    {
     "data": {
      "application/vnd.jupyter.widget-view+json": {
       "model_id": "",
       "version_major": 2,
       "version_minor": 0
      },
      "text/plain": [
       "FloatProgress(value=0.0, bar_style='info', description='Progress:', layout=Layout(height='25px', width='50%'),…"
      ]
     },
     "metadata": {},
     "output_type": "display_data"
    }
   ],
   "source": [
    "def plot_top_words(model, feature_names, n_top_words, title):\n",
    "    #Modified from SKlearn\n",
    "    fig, axes = plt.subplots(2, 5, figsize=(15, 7))\n",
    "    axes = axes.flatten()\n",
    "    for topic_idx, topic in enumerate(model.components_):\n",
    "        top_features_ind = topic.argsort()[:-n_top_words - 1:-1]\n",
    "        top_features = [feature_names[i] for i in top_features_ind]\n",
    "        weights = topic[top_features_ind]\n",
    "\n",
    "        ax = axes[topic_idx]\n",
    "        ax.barh(top_features, weights, height=0.7)\n",
    "        ax.set_title(f'Topic {topic_idx +1}',\n",
    "                     fontdict={'fontsize': 15})\n",
    "        ax.invert_yaxis()\n",
    "        ax.tick_params(axis='both', which='major', labelsize=20)\n",
    "        for i in 'top right left'.split():\n",
    "            ax.spines[i].set_visible(False)\n",
    "        fig.suptitle(title, fontsize=15)\n",
    "        ax.tick_params(bottom=False)\n",
    "        ax.set(xticklabels=[])\n",
    "\n",
    "    plt.subplots_adjust(top=0.90, bottom=0.05, wspace=0.90, hspace=0.3)\n",
    "    plt.show()"
   ]
  },
  {
   "cell_type": "code",
   "execution_count": 71,
   "id": "f59c04c1-17d7-4707-a179-4bee8b1bd609",
   "metadata": {
    "execution": {
     "iopub.execute_input": "2022-04-07T05:14:13.884512Z",
     "iopub.status.busy": "2022-04-07T05:14:13.884295Z",
     "iopub.status.idle": "2022-04-07T05:14:13.936626Z",
     "shell.execute_reply": "2022-04-07T05:14:13.936050Z",
     "shell.execute_reply.started": "2022-04-07T05:14:13.884489Z"
    },
    "tags": []
   },
   "outputs": [
    {
     "data": {
      "application/vnd.jupyter.widget-view+json": {
       "model_id": "0efc2de40bff49c8874cafb00711e0c5",
       "version_major": 2,
       "version_minor": 0
      },
      "text/plain": [
       "VBox()"
      ]
     },
     "metadata": {},
     "output_type": "display_data"
    },
    {
     "data": {
      "application/vnd.jupyter.widget-view+json": {
       "model_id": "",
       "version_major": 2,
       "version_minor": 0
      },
      "text/plain": [
       "FloatProgress(value=0.0, bar_style='info', description='Progress:', layout=Layout(height='25px', width='50%'),…"
      ]
     },
     "metadata": {},
     "output_type": "display_data"
    }
   ],
   "source": [
    "no_top_words = 10"
   ]
  },
  {
   "cell_type": "code",
   "execution_count": 72,
   "id": "e34b33ee-d9cc-41e7-a508-e24999c4a491",
   "metadata": {
    "execution": {
     "iopub.execute_input": "2022-04-07T05:14:14.247705Z",
     "iopub.status.busy": "2022-04-07T05:14:14.247482Z",
     "iopub.status.idle": "2022-04-07T05:14:14.508568Z",
     "shell.execute_reply": "2022-04-07T05:14:14.507906Z",
     "shell.execute_reply.started": "2022-04-07T05:14:14.247681Z"
    },
    "tags": []
   },
   "outputs": [
    {
     "data": {
      "application/vnd.jupyter.widget-view+json": {
       "model_id": "4c3c721353054b71a511ad9e7baecbc8",
       "version_major": 2,
       "version_minor": 0
      },
      "text/plain": [
       "VBox()"
      ]
     },
     "metadata": {},
     "output_type": "display_data"
    },
    {
     "data": {
      "application/vnd.jupyter.widget-view+json": {
       "model_id": "",
       "version_major": 2,
       "version_minor": 0
      },
      "text/plain": [
       "FloatProgress(value=0.0, bar_style='info', description='Progress:', layout=Layout(height='25px', width='50%'),…"
      ]
     },
     "metadata": {},
     "output_type": "display_data"
    },
    {
     "name": "stderr",
     "output_type": "stream",
     "text": [
      "An error was encountered:\n",
      "'LDA' object has no attribute 'components_'\n",
      "Traceback (most recent call last):\n",
      "  File \"<stdin>\", line 5, in plot_top_words\n",
      "AttributeError: 'LDA' object has no attribute 'components_'\n",
      "\n"
     ]
    }
   ],
   "source": [
    "plot_top_words(lda,vectorized_tokens, no_top_words,'Topics in LDa')"
   ]
  },
  {
   "cell_type": "code",
   "execution_count": 63,
   "id": "6bb4c76d-d668-4c9a-af8b-4a00b6b9c790",
   "metadata": {
    "execution": {
     "iopub.execute_input": "2022-04-07T04:49:22.709863Z",
     "iopub.status.busy": "2022-04-07T04:49:22.709631Z",
     "iopub.status.idle": "2022-04-07T04:49:22.765836Z",
     "shell.execute_reply": "2022-04-07T04:49:22.765097Z",
     "shell.execute_reply.started": "2022-04-07T04:49:22.709838Z"
    }
   },
   "outputs": [
    {
     "data": {
      "application/vnd.jupyter.widget-view+json": {
       "model_id": "61ade036e32d4c9ea6118bdeb878dcaa",
       "version_major": 2,
       "version_minor": 0
      },
      "text/plain": [
       "VBox()"
      ]
     },
     "metadata": {},
     "output_type": "display_data"
    },
    {
     "data": {
      "application/vnd.jupyter.widget-view+json": {
       "model_id": "",
       "version_major": 2,
       "version_minor": 0
      },
      "text/plain": [
       "FloatProgress(value=0.0, bar_style='info', description='Progress:', layout=Layout(height='25px', width='50%'),…"
      ]
     },
     "metadata": {},
     "output_type": "display_data"
    },
    {
     "name": "stderr",
     "output_type": "stream",
     "text": [
      "An error was encountered:\n",
      "'Param' object is not iterable\n",
      "Traceback (most recent call last):\n",
      "TypeError: 'Param' object is not iterable\n",
      "\n"
     ]
    }
   ],
   "source": [
    "for topic_idx,topic in enumerate(model.vo):\n",
    "    print(topic_idx,topic)"
   ]
  },
  {
   "cell_type": "code",
   "execution_count": null,
   "id": "6216cece-6402-4ede-9486-e8d9708dd048",
   "metadata": {},
   "outputs": [],
   "source": []
  }
 ],
 "metadata": {
  "kernelspec": {
   "display_name": "PySpark",
   "language": "python",
   "name": "pysparkkernel"
  },
  "language_info": {
   "codemirror_mode": {
    "name": "python",
    "version": 3
   },
   "file_extension": ".py",
   "mimetype": "text/x-python",
   "name": "pyspark",
   "pygments_lexer": "python3"
  }
 },
 "nbformat": 4,
 "nbformat_minor": 5
}
