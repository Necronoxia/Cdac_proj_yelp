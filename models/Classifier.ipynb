{
 "cells": [
  {
   "cell_type": "code",
   "execution_count": 1,
   "id": "9fc78abd",
   "metadata": {
    "execution": {
     "iopub.execute_input": "2022-04-05T18:30:33.839468Z",
     "iopub.status.busy": "2022-04-05T18:30:33.839106Z",
     "iopub.status.idle": "2022-04-05T18:30:58.529834Z",
     "shell.execute_reply": "2022-04-05T18:30:58.528886Z",
     "shell.execute_reply.started": "2022-04-05T18:30:33.839425Z"
    },
    "tags": []
   },
   "outputs": [
    {
     "data": {
      "application/vnd.jupyter.widget-view+json": {
       "model_id": "6abe26460f7b4abe99931aec2de20542",
       "version_major": 2,
       "version_minor": 0
      },
      "text/plain": [
       "VBox()"
      ]
     },
     "metadata": {},
     "output_type": "display_data"
    },
    {
     "name": "stdout",
     "output_type": "stream",
     "text": [
      "Starting Spark application\n"
     ]
    },
    {
     "data": {
      "text/html": [
       "<table>\n",
       "<tr><th>ID</th><th>YARN Application ID</th><th>Kind</th><th>State</th><th>Spark UI</th><th>Driver log</th><th>User</th><th>Current session?</th></tr><tr><td>7</td><td>application_1649178090023_0012</td><td>pyspark</td><td>idle</td><td><a target=\"_blank\" href=\"http://ip-172-31-9-113.ec2.internal:20888/proxy/application_1649178090023_0012/\" class=\"emr-proxy-link\" emr-resource=\"j-39VF6BXHI2EJ7\n",
       "\" application-id=\"application_1649178090023_0012\">Link</a></td><td><a target=\"_blank\" href=\"http://ip-172-31-14-53.ec2.internal:8042/node/containerlogs/container_1649178090023_0012_01_000001/livy\" >Link</a></td><td>None</td><td>✔</td></tr></table>"
      ],
      "text/plain": [
       "<IPython.core.display.HTML object>"
      ]
     },
     "metadata": {},
     "output_type": "display_data"
    },
    {
     "data": {
      "application/vnd.jupyter.widget-view+json": {
       "model_id": "",
       "version_major": 2,
       "version_minor": 0
      },
      "text/plain": [
       "FloatProgress(value=0.0, bar_style='info', description='Progress:', layout=Layout(height='25px', width='50%'),…"
      ]
     },
     "metadata": {},
     "output_type": "display_data"
    },
    {
     "name": "stdout",
     "output_type": "stream",
     "text": [
      "SparkSession available as 'spark'.\n"
     ]
    },
    {
     "data": {
      "application/vnd.jupyter.widget-view+json": {
       "model_id": "",
       "version_major": 2,
       "version_minor": 0
      },
      "text/plain": [
       "FloatProgress(value=0.0, bar_style='info', description='Progress:', layout=Layout(height='25px', width='50%'),…"
      ]
     },
     "metadata": {},
     "output_type": "display_data"
    }
   ],
   "source": [
    "conf = spark.sparkContext._conf.setAll([('spark.executor.memory', '16g'), ('spark.driver.memory','15g'),(\"spark.driver.maxResultSize\",\"0\"),(\"spark.executor.cores\", '4'),(\"spark.dynamicAllocation.enabled\",\"False\")])"
   ]
  },
  {
   "cell_type": "code",
   "execution_count": 2,
   "id": "dbb9316e-e112-42af-a223-3f6a7d8022c9",
   "metadata": {
    "execution": {
     "iopub.execute_input": "2022-04-05T18:30:58.531753Z",
     "iopub.status.busy": "2022-04-05T18:30:58.531300Z",
     "iopub.status.idle": "2022-04-05T18:30:58.619352Z",
     "shell.execute_reply": "2022-04-05T18:30:58.618655Z",
     "shell.execute_reply.started": "2022-04-05T18:30:58.531714Z"
    },
    "tags": []
   },
   "outputs": [
    {
     "data": {
      "application/vnd.jupyter.widget-view+json": {
       "model_id": "cf9ef78832ee4c7ebc46f0f8622e732e",
       "version_major": 2,
       "version_minor": 0
      },
      "text/plain": [
       "VBox()"
      ]
     },
     "metadata": {},
     "output_type": "display_data"
    },
    {
     "data": {
      "application/vnd.jupyter.widget-view+json": {
       "model_id": "",
       "version_major": 2,
       "version_minor": 0
      },
      "text/plain": [
       "FloatProgress(value=0.0, bar_style='info', description='Progress:', layout=Layout(height='25px', width='50%'),…"
      ]
     },
     "metadata": {},
     "output_type": "display_data"
    }
   ],
   "source": [
    "import pyspark"
   ]
  },
  {
   "cell_type": "code",
   "execution_count": 14,
   "id": "978f9b66",
   "metadata": {
    "execution": {
     "iopub.execute_input": "2022-04-05T18:34:26.790431Z",
     "iopub.status.busy": "2022-04-05T18:34:26.790210Z",
     "iopub.status.idle": "2022-04-05T18:34:26.845307Z",
     "shell.execute_reply": "2022-04-05T18:34:26.844743Z",
     "shell.execute_reply.started": "2022-04-05T18:34:26.790408Z"
    },
    "tags": []
   },
   "outputs": [
    {
     "data": {
      "application/vnd.jupyter.widget-view+json": {
       "model_id": "c31c05b732f04689a5b3881c10491dc6",
       "version_major": 2,
       "version_minor": 0
      },
      "text/plain": [
       "VBox()"
      ]
     },
     "metadata": {},
     "output_type": "display_data"
    },
    {
     "data": {
      "application/vnd.jupyter.widget-view+json": {
       "model_id": "",
       "version_major": 2,
       "version_minor": 0
      },
      "text/plain": [
       "FloatProgress(value=0.0, bar_style='info', description='Progress:', layout=Layout(height='25px', width='50%'),…"
      ]
     },
     "metadata": {},
     "output_type": "display_data"
    },
    {
     "name": "stderr",
     "output_type": "stream",
     "text": [
      "An error was encountered:\n",
      "cannot import name 'TrainValidationSplit' from 'pyspark.ml.evaluation' (/usr/lib/spark/python/lib/pyspark.zip/pyspark/ml/evaluation.py)\n",
      "Traceback (most recent call last):\n",
      "ImportError: cannot import name 'TrainValidationSplit' from 'pyspark.ml.evaluation' (/usr/lib/spark/python/lib/pyspark.zip/pyspark/ml/evaluation.py)\n",
      "\n"
     ]
    }
   ],
   "source": [
    "from pyspark.storagelevel import StorageLevel\n",
    "\n",
    "from pyspark.ml import Pipeline\n",
    "from pyspark.ml.classification import GBTClassifier\n",
    "from pyspark.ml import Transformer, classification\n",
    "from pyspark.ml import tuning\n",
    "from pyspark.ml.evaluation import MulticlassClassificationEvaluator"
   ]
  },
  {
   "cell_type": "code",
   "execution_count": 4,
   "id": "57e159a0",
   "metadata": {
    "execution": {
     "iopub.execute_input": "2022-04-05T18:30:58.918512Z",
     "iopub.status.busy": "2022-04-05T18:30:58.918119Z",
     "iopub.status.idle": "2022-04-05T18:31:04.329403Z",
     "shell.execute_reply": "2022-04-05T18:31:04.328846Z",
     "shell.execute_reply.started": "2022-04-05T18:30:58.918473Z"
    },
    "tags": []
   },
   "outputs": [
    {
     "data": {
      "application/vnd.jupyter.widget-view+json": {
       "model_id": "292a801e304b45378e0f9ca33428c78c",
       "version_major": 2,
       "version_minor": 0
      },
      "text/plain": [
       "VBox()"
      ]
     },
     "metadata": {},
     "output_type": "display_data"
    },
    {
     "data": {
      "application/vnd.jupyter.widget-view+json": {
       "model_id": "",
       "version_major": 2,
       "version_minor": 0
      },
      "text/plain": [
       "FloatProgress(value=0.0, bar_style='info', description='Progress:', layout=Layout(height='25px', width='50%'),…"
      ]
     },
     "metadata": {},
     "output_type": "display_data"
    }
   ],
   "source": [
    "df = sqlContext.read.parquet(\"hdfs:///NLP-parquet\")"
   ]
  },
  {
   "cell_type": "code",
   "execution_count": 5,
   "id": "451702f9-eeae-49dd-8e8b-ab3b668b6c49",
   "metadata": {
    "execution": {
     "iopub.execute_input": "2022-04-05T18:31:04.330440Z",
     "iopub.status.busy": "2022-04-05T18:31:04.330261Z",
     "iopub.status.idle": "2022-04-05T18:31:04.587043Z",
     "shell.execute_reply": "2022-04-05T18:31:04.586422Z",
     "shell.execute_reply.started": "2022-04-05T18:31:04.330415Z"
    },
    "tags": []
   },
   "outputs": [
    {
     "data": {
      "application/vnd.jupyter.widget-view+json": {
       "model_id": "262f07595c0a4263b762b675d3ddde8a",
       "version_major": 2,
       "version_minor": 0
      },
      "text/plain": [
       "VBox()"
      ]
     },
     "metadata": {},
     "output_type": "display_data"
    },
    {
     "data": {
      "application/vnd.jupyter.widget-view+json": {
       "model_id": "",
       "version_major": 2,
       "version_minor": 0
      },
      "text/plain": [
       "FloatProgress(value=0.0, bar_style='info', description='Progress:', layout=Layout(height='25px', width='50%'),…"
      ]
     },
     "metadata": {},
     "output_type": "display_data"
    }
   ],
   "source": [
    "df = df.withColumnRenamed(\"stars\",\"label\")"
   ]
  },
  {
   "cell_type": "code",
   "execution_count": 6,
   "id": "a8bf6e79-76d6-4692-b8c0-0e160e7726f9",
   "metadata": {
    "execution": {
     "iopub.execute_input": "2022-04-05T18:31:04.588349Z",
     "iopub.status.busy": "2022-04-05T18:31:04.588100Z",
     "iopub.status.idle": "2022-04-05T18:31:04.649040Z",
     "shell.execute_reply": "2022-04-05T18:31:04.648480Z",
     "shell.execute_reply.started": "2022-04-05T18:31:04.588314Z"
    },
    "tags": []
   },
   "outputs": [
    {
     "data": {
      "application/vnd.jupyter.widget-view+json": {
       "model_id": "9f25f8079f1b4c5e85b9ef4b9257d4a7",
       "version_major": 2,
       "version_minor": 0
      },
      "text/plain": [
       "VBox()"
      ]
     },
     "metadata": {},
     "output_type": "display_data"
    },
    {
     "data": {
      "application/vnd.jupyter.widget-view+json": {
       "model_id": "",
       "version_major": 2,
       "version_minor": 0
      },
      "text/plain": [
       "FloatProgress(value=0.0, bar_style='info', description='Progress:', layout=Layout(height='25px', width='50%'),…"
      ]
     },
     "metadata": {},
     "output_type": "display_data"
    },
    {
     "name": "stdout",
     "output_type": "stream",
     "text": [
      "root\n",
      " |-- rawFeatures: vector (nullable = true)\n",
      " |-- label: double (nullable = true)\n",
      " |-- features: vector (nullable = true)"
     ]
    }
   ],
   "source": [
    "df.printSchema()"
   ]
  },
  {
   "cell_type": "code",
   "execution_count": 7,
   "id": "eb255ccc",
   "metadata": {
    "execution": {
     "iopub.execute_input": "2022-04-05T18:31:04.650346Z",
     "iopub.status.busy": "2022-04-05T18:31:04.650097Z",
     "iopub.status.idle": "2022-04-05T18:31:04.918380Z",
     "shell.execute_reply": "2022-04-05T18:31:04.917809Z",
     "shell.execute_reply.started": "2022-04-05T18:31:04.650310Z"
    },
    "tags": []
   },
   "outputs": [
    {
     "data": {
      "application/vnd.jupyter.widget-view+json": {
       "model_id": "738a806f200a471ab20d7067aef64b69",
       "version_major": 2,
       "version_minor": 0
      },
      "text/plain": [
       "VBox()"
      ]
     },
     "metadata": {},
     "output_type": "display_data"
    },
    {
     "data": {
      "application/vnd.jupyter.widget-view+json": {
       "model_id": "",
       "version_major": 2,
       "version_minor": 0
      },
      "text/plain": [
       "FloatProgress(value=0.0, bar_style='info', description='Progress:', layout=Layout(height='25px', width='50%'),…"
      ]
     },
     "metadata": {},
     "output_type": "display_data"
    }
   ],
   "source": [
    "#gbt = Classifier(featuresCol='features',labelCol=\"stars\")\n",
    "#model = DecisionTree.trainClassifier(sc.parallelize(df), 5, {})\n",
    "#NB = NaiveBayes(featuresCol='features', labelCol='label', smoothing=1.0, modelType='multinomial', thresholds=None, weightCol=None)\n",
    "#rf = classification.DecisionTreeClassifier(featuresCol='features',maxDepth=3, labelCol=\"stars\",predictionCol='prediction', seed=42)\n",
    "\n",
    "#lr = classification.LogisticRegression(maxIter=100, regParam=0.03, elasticNetParam=0.1, tol=1E-6, standardization=True, family=\"binomial\")\n",
    "lr = classification.LogisticRegression()\n",
    "ovr = classification.OneVsRest(classifier=lr)"
   ]
  },
  {
   "cell_type": "code",
   "execution_count": null,
   "id": "e1876aea-9c3c-4ab3-99b0-a590ebb4f080",
   "metadata": {
    "execution": {
     "iopub.execute_input": "2022-04-05T18:34:52.430404Z",
     "iopub.status.busy": "2022-04-05T18:34:52.430179Z"
    },
    "tags": []
   },
   "outputs": [
    {
     "data": {
      "application/vnd.jupyter.widget-view+json": {
       "model_id": "3f4b6ad62964476cb5fabd19f6515dbd",
       "version_major": 2,
       "version_minor": 0
      },
      "text/plain": [
       "VBox()"
      ]
     },
     "metadata": {},
     "output_type": "display_data"
    },
    {
     "data": {
      "application/vnd.jupyter.widget-view+json": {
       "model_id": "296aed2be25b48e3a1a33a5ece8fdcc4",
       "version_major": 2,
       "version_minor": 0
      },
      "text/plain": [
       "FloatProgress(value=0.0, bar_style='info', description='Progress:', layout=Layout(height='25px', width='50%'),…"
      ]
     },
     "metadata": {},
     "output_type": "display_data"
    },
    {
     "name": "stderr",
     "output_type": "stream",
     "text": [
      "Exception in thread cell_monitor-15:\n",
      "Traceback (most recent call last):\n",
      "  File \"/mnt/notebook-env/lib/python3.7/threading.py\", line 926, in _bootstrap_inner\n",
      "    self.run()\n",
      "  File \"/mnt/notebook-env/lib/python3.7/threading.py\", line 870, in run\n",
      "    self._target(*self._args, **self._kwargs)\n",
      "  File \"/mnt/notebook-env/lib/python3.7/site-packages/awseditorssparkmonitoringwidget-1.0-py3.7.egg/awseditorssparkmonitoringwidget/cellmonitor.py\", line 178, in cell_monitor\n",
      "    job_binned_stages[job_id][stage_id] = all_stages[stage_id]\n",
      "KeyError: 1190\n",
      "\n"
     ]
    }
   ],
   "source": [
    "\n",
    "paramGrid = tuning.ParamGridBuilder().addGrid(lr.maxIter, [50,75,100]) \\\n",
    "                              .addGrid(lr.regParam, [0.03, 0.04, 0.05, 0.06]) \\\n",
    "                              .addGrid(lr.elasticNetParam, [0.1,0.2,0.3,0.4]) \\\n",
    "                              .build()\n",
    "evaluator = MulticlassClassificationEvaluator()\n",
    "valid = tuning.TrainValidationSplit(estimator=ovr,\n",
    "                             estimatorParamMaps=paramGrid,\n",
    "                             evaluator=evaluator,\n",
    "                             trainRatio=0.50)\n",
    "model = valid.fit(df)\n",
    "result = model.bestModel.transform(df)"
   ]
  },
  {
   "cell_type": "code",
   "execution_count": 11,
   "id": "6df18521",
   "metadata": {
    "execution": {
     "iopub.execute_input": "2022-04-05T18:00:36.614052Z",
     "iopub.status.busy": "2022-04-05T18:00:36.613627Z",
     "iopub.status.idle": "2022-04-05T18:08:08.494173Z",
     "shell.execute_reply": "2022-04-05T18:08:08.493346Z",
     "shell.execute_reply.started": "2022-04-05T18:00:36.614011Z"
    },
    "tags": []
   },
   "outputs": [
    {
     "data": {
      "application/vnd.jupyter.widget-view+json": {
       "model_id": "685510920d594409a6640dff1421d903",
       "version_major": 2,
       "version_minor": 0
      },
      "text/plain": [
       "VBox()"
      ]
     },
     "metadata": {},
     "output_type": "display_data"
    },
    {
     "data": {
      "application/vnd.jupyter.widget-view+json": {
       "model_id": "",
       "version_major": 2,
       "version_minor": 0
      },
      "text/plain": [
       "FloatProgress(value=0.0, bar_style='info', description='Progress:', layout=Layout(height='25px', width='50%'),…"
      ]
     },
     "metadata": {},
     "output_type": "display_data"
    },
    {
     "name": "stderr",
     "output_type": "stream",
     "text": [
      "An error was encountered:\n",
      "'requirement failed: LinearSVC only supports binary classification. 1 classes detected in LinearSVC_854a91718e66__labelCol'\n",
      "Traceback (most recent call last):\n",
      "  File \"/usr/lib/spark/python/lib/pyspark.zip/pyspark/ml/base.py\", line 132, in fit\n",
      "    return self._fit(dataset)\n",
      "  File \"/usr/lib/spark/python/lib/pyspark.zip/pyspark/ml/classification.py\", line 1838, in _fit\n",
      "    models = pool.map(trainSingleClass, range(numClasses))\n",
      "  File \"/usr/lib64/python3.7/multiprocessing/pool.py\", line 268, in map\n",
      "    return self._map_async(func, iterable, mapstar, chunksize).get()\n",
      "  File \"/usr/lib64/python3.7/multiprocessing/pool.py\", line 657, in get\n",
      "    raise self._value\n",
      "  File \"/usr/lib64/python3.7/multiprocessing/pool.py\", line 121, in worker\n",
      "    result = (True, func(*args, **kwds))\n",
      "  File \"/usr/lib64/python3.7/multiprocessing/pool.py\", line 44, in mapstar\n",
      "    return list(map(*args))\n",
      "  File \"/usr/lib/spark/python/lib/pyspark.zip/pyspark/ml/classification.py\", line 1834, in trainSingleClass\n",
      "    return classifier.fit(trainingDataset, paramMap)\n",
      "  File \"/usr/lib/spark/python/lib/pyspark.zip/pyspark/ml/base.py\", line 130, in fit\n",
      "    return self.copy(params)._fit(dataset)\n",
      "  File \"/usr/lib/spark/python/lib/pyspark.zip/pyspark/ml/wrapper.py\", line 295, in _fit\n",
      "    java_model = self._fit_java(dataset)\n",
      "  File \"/usr/lib/spark/python/lib/pyspark.zip/pyspark/ml/wrapper.py\", line 292, in _fit_java\n",
      "    return self._java_obj.fit(dataset._jdf)\n",
      "  File \"/usr/lib/spark/python/lib/py4j-0.10.7-src.zip/py4j/java_gateway.py\", line 1257, in __call__\n",
      "    answer, self.gateway_client, self.target_id, self.name)\n",
      "  File \"/usr/lib/spark/python/lib/pyspark.zip/pyspark/sql/utils.py\", line 79, in deco\n",
      "    raise IllegalArgumentException(s.split(': ', 1)[1], stackTrace)\n",
      "pyspark.sql.utils.IllegalArgumentException: 'requirement failed: LinearSVC only supports binary classification. 1 classes detected in LinearSVC_854a91718e66__labelCol'\n",
      "\n"
     ]
    }
   ],
   "source": [
    "#rf_model = rf.fit(df)\n",
    "\n",
    "#lrModel = ovr.fit(df)"
   ]
  },
  {
   "cell_type": "code",
   "execution_count": 9,
   "id": "cddce223",
   "metadata": {
    "execution": {
     "iopub.execute_input": "2022-04-05T17:59:57.775019Z",
     "iopub.status.busy": "2022-04-05T17:59:57.774856Z",
     "iopub.status.idle": "2022-04-05T17:59:57.851226Z",
     "shell.execute_reply": "2022-04-05T17:59:57.850595Z",
     "shell.execute_reply.started": "2022-04-05T17:59:57.774998Z"
    },
    "tags": []
   },
   "outputs": [
    {
     "data": {
      "application/vnd.jupyter.widget-view+json": {
       "model_id": "c76e00b7e4e54f6faefd3ad6e028d820",
       "version_major": 2,
       "version_minor": 0
      },
      "text/plain": [
       "VBox()"
      ]
     },
     "metadata": {},
     "output_type": "display_data"
    },
    {
     "data": {
      "application/vnd.jupyter.widget-view+json": {
       "model_id": "",
       "version_major": 2,
       "version_minor": 0
      },
      "text/plain": [
       "FloatProgress(value=0.0, bar_style='info', description='Progress:', layout=Layout(height='25px', width='50%'),…"
      ]
     },
     "metadata": {},
     "output_type": "display_data"
    },
    {
     "name": "stderr",
     "output_type": "stream",
     "text": [
      "An error was encountered:\n",
      "name 'lrModel' is not defined\n",
      "Traceback (most recent call last):\n",
      "NameError: name 'lrModel' is not defined\n",
      "\n"
     ]
    }
   ],
   "source": [
    "result = lrModel.transform(df)"
   ]
  },
  {
   "cell_type": "code",
   "execution_count": 11,
   "id": "c2c12d66-9132-4c1c-8672-330a517b4179",
   "metadata": {
    "execution": {
     "iopub.execute_input": "2022-04-05T17:51:04.421267Z",
     "iopub.status.busy": "2022-04-05T17:51:04.420905Z",
     "iopub.status.idle": "2022-04-05T17:51:04.492329Z",
     "shell.execute_reply": "2022-04-05T17:51:04.491704Z",
     "shell.execute_reply.started": "2022-04-05T17:51:04.421224Z"
    },
    "tags": []
   },
   "outputs": [
    {
     "data": {
      "application/vnd.jupyter.widget-view+json": {
       "model_id": "19f99c64b2784fb09e25675dfe293cfb",
       "version_major": 2,
       "version_minor": 0
      },
      "text/plain": [
       "VBox()"
      ]
     },
     "metadata": {},
     "output_type": "display_data"
    },
    {
     "data": {
      "application/vnd.jupyter.widget-view+json": {
       "model_id": "",
       "version_major": 2,
       "version_minor": 0
      },
      "text/plain": [
       "FloatProgress(value=0.0, bar_style='info', description='Progress:', layout=Layout(height='25px', width='50%'),…"
      ]
     },
     "metadata": {},
     "output_type": "display_data"
    },
    {
     "name": "stdout",
     "output_type": "stream",
     "text": [
      "root\n",
      " |-- rawFeatures: vector (nullable = true)\n",
      " |-- label: double (nullable = true)\n",
      " |-- features: vector (nullable = true)\n",
      " |-- prediction: double (nullable = true)"
     ]
    }
   ],
   "source": [
    "result.printSchema()"
   ]
  },
  {
   "cell_type": "code",
   "execution_count": 12,
   "id": "d2e217ef-5c20-4646-acf9-93c95b2d84af",
   "metadata": {
    "execution": {
     "iopub.execute_input": "2022-04-05T17:51:05.507480Z",
     "iopub.status.busy": "2022-04-05T17:51:05.507255Z",
     "iopub.status.idle": "2022-04-05T17:51:14.829046Z",
     "shell.execute_reply": "2022-04-05T17:51:14.828313Z",
     "shell.execute_reply.started": "2022-04-05T17:51:05.507454Z"
    },
    "tags": []
   },
   "outputs": [
    {
     "data": {
      "application/vnd.jupyter.widget-view+json": {
       "model_id": "d92517b009a34df5abe88ccf22866efa",
       "version_major": 2,
       "version_minor": 0
      },
      "text/plain": [
       "VBox()"
      ]
     },
     "metadata": {},
     "output_type": "display_data"
    },
    {
     "data": {
      "application/vnd.jupyter.widget-view+json": {
       "model_id": "",
       "version_major": 2,
       "version_minor": 0
      },
      "text/plain": [
       "FloatProgress(value=0.0, bar_style='info', description='Progress:', layout=Layout(height='25px', width='50%'),…"
      ]
     },
     "metadata": {},
     "output_type": "display_data"
    },
    {
     "name": "stdout",
     "output_type": "stream",
     "text": [
      "+--------------------+-----+--------------------+----------+\n",
      "|         rawFeatures|label|            features|prediction|\n",
      "+--------------------+-----+--------------------+----------+\n",
      "|(65536,[2579,2742...|  3.0|(65536,[2579,2742...|       3.0|\n",
      "|(65536,[3067,4072...|  3.0|(65536,[3067,4072...|       3.0|\n",
      "|(65536,[3923,4943...|  3.0|(65536,[3923,4943...|       3.0|\n",
      "|(65536,[2346,3923...|  1.0|(65536,[2346,3923...|       1.0|\n",
      "|(65536,[28848,307...|  5.0|(65536,[28848,307...|       2.0|\n",
      "|(65536,[1431,3067...|  2.0|(65536,[1431,3067...|       3.0|\n",
      "|(65536,[1431,3923...|  2.0|(65536,[1431,3923...|       4.0|\n",
      "|(65536,[6908,7792...|  3.0|(65536,[6908,7792...|       5.0|\n",
      "|(65536,[5325,7051...|  4.0|(65536,[5325,7051...|       5.0|\n",
      "|(65536,[7284,1481...|  5.0|(65536,[7284,1481...|       5.0|\n",
      "|(65536,[2182,6908...|  1.0|(65536,[2182,6908...|       1.0|\n",
      "|(65536,[1038,1969...|  5.0|(65536,[1038,1969...|       5.0|\n",
      "|(65536,[714,895,1...|  2.0|(65536,[714,895,1...|       1.0|\n",
      "|(65536,[7284,2014...|  4.0|(65536,[7284,2014...|       4.0|\n",
      "|(65536,[531,2406,...|  4.0|(65536,[531,2406,...|       5.0|\n",
      "|(65536,[1165,1951...|  2.0|(65536,[1165,1951...|       2.0|\n",
      "|(65536,[14646,172...|  3.0|(65536,[14646,172...|       5.0|\n",
      "|(65536,[2182,3747...|  2.0|(65536,[2182,3747...|       1.0|\n",
      "|(65536,[6693,7284...|  5.0|(65536,[6693,7284...|       5.0|\n",
      "|(65536,[4909,5171...|  1.0|(65536,[4909,5171...|       1.0|\n",
      "+--------------------+-----+--------------------+----------+\n",
      "only showing top 20 rows"
     ]
    }
   ],
   "source": [
    "result.show()"
   ]
  },
  {
   "cell_type": "code",
   "execution_count": 13,
   "id": "ffc68673-084d-46b1-963c-993ca856186a",
   "metadata": {
    "execution": {
     "iopub.execute_input": "2022-04-05T17:51:21.502854Z",
     "iopub.status.busy": "2022-04-05T17:51:21.502632Z",
     "iopub.status.idle": "2022-04-05T17:54:33.417378Z",
     "shell.execute_reply": "2022-04-05T17:54:33.416800Z",
     "shell.execute_reply.started": "2022-04-05T17:51:21.502829Z"
    },
    "tags": []
   },
   "outputs": [
    {
     "data": {
      "application/vnd.jupyter.widget-view+json": {
       "model_id": "4ed2845b4fcf498086f46b0afb581ace",
       "version_major": 2,
       "version_minor": 0
      },
      "text/plain": [
       "VBox()"
      ]
     },
     "metadata": {},
     "output_type": "display_data"
    },
    {
     "data": {
      "application/vnd.jupyter.widget-view+json": {
       "model_id": "",
       "version_major": 2,
       "version_minor": 0
      },
      "text/plain": [
       "FloatProgress(value=0.0, bar_style='info', description='Progress:', layout=Layout(height='25px', width='50%'),…"
      ]
     },
     "metadata": {},
     "output_type": "display_data"
    },
    {
     "name": "stdout",
     "output_type": "stream",
     "text": [
      "0.5292433626942162"
     ]
    }
   ],
   "source": [
    "\n",
    "evaluator = MulticlassClassificationEvaluator(predictionCol=\"prediction\")\n",
    "evaluator.evaluate(result)"
   ]
  },
  {
   "cell_type": "code",
   "execution_count": 7,
   "id": "3aaa2c6a-00a9-419b-82f2-d11f48204bd8",
   "metadata": {
    "execution": {
     "iopub.execute_input": "2022-04-03T10:06:07.805451Z",
     "iopub.status.busy": "2022-04-03T10:06:07.805208Z",
     "iopub.status.idle": "2022-04-03T10:06:08.076526Z",
     "shell.execute_reply": "2022-04-03T10:06:08.075771Z",
     "shell.execute_reply.started": "2022-04-03T10:06:07.805424Z"
    }
   },
   "outputs": [
    {
     "data": {
      "application/vnd.jupyter.widget-view+json": {
       "model_id": "6a9a3d8e6b564ecbaef20a36fb03455f",
       "version_major": 2,
       "version_minor": 0
      },
      "text/plain": [
       "VBox()"
      ]
     },
     "metadata": {},
     "output_type": "display_data"
    },
    {
     "data": {
      "application/vnd.jupyter.widget-view+json": {
       "model_id": "",
       "version_major": 2,
       "version_minor": 0
      },
      "text/plain": [
       "FloatProgress(value=0.0, bar_style='info', description='Progress:', layout=Layout(height='25px', width='50%'),…"
      ]
     },
     "metadata": {},
     "output_type": "display_data"
    }
   ],
   "source": [
    "sc.stop()"
   ]
  },
  {
   "cell_type": "code",
   "execution_count": null,
   "id": "06d11f38-2091-474e-b6ec-3af0d771791a",
   "metadata": {},
   "outputs": [],
   "source": []
  }
 ],
 "metadata": {
  "kernelspec": {
   "display_name": "PySpark",
   "language": "python",
   "name": "pysparkkernel"
  },
  "language_info": {
   "codemirror_mode": {
    "name": "python",
    "version": 3
   },
   "file_extension": ".py",
   "mimetype": "text/x-python",
   "name": "pyspark",
   "pygments_lexer": "python3"
  }
 },
 "nbformat": 4,
 "nbformat_minor": 5
}
