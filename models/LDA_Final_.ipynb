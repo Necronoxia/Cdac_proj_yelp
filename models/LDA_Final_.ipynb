{
 "cells": [
  {
   "cell_type": "markdown",
   "id": "2706c4c9-d623-4de4-853d-309b82848dfe",
   "metadata": {},
   "source": [
    "# Installing  Libraries"
   ]
  },
  {
   "cell_type": "code",
   "execution_count": 1,
   "id": "0b506afa-ee1b-4cfa-bed6-cd4ec54a91b9",
   "metadata": {
    "collapsed": true,
    "execution": {
     "iopub.execute_input": "2022-04-10T03:26:44.801296Z",
     "iopub.status.busy": "2022-04-10T03:26:44.801061Z",
     "iopub.status.idle": "2022-04-10T03:26:48.169730Z",
     "shell.execute_reply": "2022-04-10T03:26:48.168975Z",
     "shell.execute_reply.started": "2022-04-10T03:26:44.801267Z"
    },
    "jupyter": {
     "outputs_hidden": true
    },
    "tags": []
   },
   "outputs": [
    {
     "name": "stdout",
     "output_type": "stream",
     "text": [
      "Defaulting to user installation because normal site-packages is not writeable\n",
      "Collecting nltk\n",
      "  Downloading nltk-3.7-py3-none-any.whl (1.5 MB)\n",
      "\u001b[K     |████████████████████████████████| 1.5 MB 31.8 MB/s eta 0:00:01\n",
      "\u001b[?25hCollecting click\n",
      "  Downloading click-8.1.2-py3-none-any.whl (96 kB)\n",
      "\u001b[K     |████████████████████████████████| 96 kB 6.5 MB/s  eta 0:00:01\n",
      "\u001b[?25hRequirement already satisfied: tqdm in /mnt/notebook-env/lib/python3.7/site-packages (from nltk) (4.59.0)\n",
      "Collecting joblib\n",
      "  Downloading joblib-1.1.0-py2.py3-none-any.whl (306 kB)\n",
      "\u001b[K     |████████████████████████████████| 306 kB 78.7 MB/s eta 0:00:01\n",
      "\u001b[?25hCollecting regex>=2021.8.3\n",
      "  Downloading regex-2022.3.15-cp37-cp37m-manylinux_2_17_x86_64.manylinux2014_x86_64.whl (749 kB)\n",
      "\u001b[K     |████████████████████████████████| 749 kB 78.4 MB/s eta 0:00:01\n",
      "\u001b[?25hRequirement already satisfied: importlib-metadata in /mnt/notebook-env/lib/python3.7/site-packages (from click->nltk) (3.7.3)\n",
      "Requirement already satisfied: typing-extensions>=3.6.4 in /mnt/notebook-env/lib/python3.7/site-packages (from importlib-metadata->click->nltk) (3.7.4.3)\n",
      "Requirement already satisfied: zipp>=0.5 in /mnt/notebook-env/lib/python3.7/site-packages (from importlib-metadata->click->nltk) (3.4.1)\n",
      "Installing collected packages: regex, joblib, click, nltk\n",
      "\u001b[33m  WARNING: The script nltk is installed in '/home/emr-notebook/.local/bin' which is not on PATH.\n",
      "  Consider adding this directory to PATH or, if you prefer to suppress this warning, use --no-warn-script-location.\u001b[0m\n",
      "Successfully installed click-8.1.2 joblib-1.1.0 nltk-3.7 regex-2022.3.15\n",
      "Note: you may need to restart the kernel to use updated packages.\n"
     ]
    }
   ],
   "source": [
    "%pip install nltk"
   ]
  },
  {
   "cell_type": "code",
   "execution_count": 2,
   "id": "b23e8a9e-2c51-4aed-a9b5-56767ea9a21e",
   "metadata": {
    "collapsed": true,
    "execution": {
     "iopub.execute_input": "2022-04-10T03:26:51.290510Z",
     "iopub.status.busy": "2022-04-10T03:26:51.290279Z",
     "iopub.status.idle": "2022-04-10T03:27:30.240910Z",
     "shell.execute_reply": "2022-04-10T03:27:30.240210Z",
     "shell.execute_reply.started": "2022-04-10T03:26:51.290483Z"
    },
    "jupyter": {
     "outputs_hidden": true
    },
    "tags": []
   },
   "outputs": [
    {
     "data": {
      "application/vnd.jupyter.widget-view+json": {
       "model_id": "65b32191032c4243b62d8c23311393c3",
       "version_major": 2,
       "version_minor": 0
      },
      "text/plain": [
       "VBox()"
      ]
     },
     "metadata": {},
     "output_type": "display_data"
    },
    {
     "name": "stdout",
     "output_type": "stream",
     "text": [
      "Starting Spark application\n"
     ]
    },
    {
     "data": {
      "text/html": [
       "<table>\n",
       "<tr><th>ID</th><th>YARN Application ID</th><th>Kind</th><th>State</th><th>Spark UI</th><th>Driver log</th><th>Current session?</th></tr><tr><td>0</td><td>application_1649559326072_0006</td><td>pyspark</td><td>idle</td><td><a target=\"_blank\" href=\"http://ip-172-31-73-202.ec2.internal:20888/proxy/application_1649559326072_0006/\" class=\"emr-proxy-link\" emr-resource=\"j-2BFI8VA4KGSTG\n",
       "\" application-id=\"application_1649559326072_0006\">Link</a></td><td><a target=\"_blank\" href=\"http://ip-172-31-77-175.ec2.internal:8042/node/containerlogs/container_1649559326072_0006_01_000001/livy\" >Link</a></td><td>✔</td></tr></table>"
      ],
      "text/plain": [
       "<IPython.core.display.HTML object>"
      ]
     },
     "metadata": {},
     "output_type": "display_data"
    },
    {
     "data": {
      "application/vnd.jupyter.widget-view+json": {
       "model_id": "",
       "version_major": 2,
       "version_minor": 0
      },
      "text/plain": [
       "FloatProgress(value=0.0, bar_style='info', description='Progress:', layout=Layout(height='25px', width='50%'),…"
      ]
     },
     "metadata": {},
     "output_type": "display_data"
    },
    {
     "name": "stdout",
     "output_type": "stream",
     "text": [
      "SparkSession available as 'spark'.\n"
     ]
    },
    {
     "data": {
      "application/vnd.jupyter.widget-view+json": {
       "model_id": "",
       "version_major": 2,
       "version_minor": 0
      },
      "text/plain": [
       "FloatProgress(value=0.0, bar_style='info', description='Progress:', layout=Layout(height='25px', width='50%'),…"
      ]
     },
     "metadata": {},
     "output_type": "display_data"
    },
    {
     "name": "stdout",
     "output_type": "stream",
     "text": [
      "Collecting matplotlib==3.1.1\n",
      "  Downloading https://files.pythonhosted.org/packages/19/7a/60bd79c5d79559150f8bba866dd7d434f0a170312e4d15e8aefa5faba294/matplotlib-3.1.1-cp37-cp37m-manylinux1_x86_64.whl (13.1MB)\n",
      "Collecting python-dateutil>=2.1 (from matplotlib==3.1.1)\n",
      "  Downloading https://files.pythonhosted.org/packages/36/7a/87837f39d0296e723bb9b62bbb257d0355c7f6128853c78955f57342a56d/python_dateutil-2.8.2-py2.py3-none-any.whl (247kB)\n",
      "Collecting pyparsing!=2.0.4,!=2.1.2,!=2.1.6,>=2.0.1 (from matplotlib==3.1.1)\n",
      "  Downloading https://files.pythonhosted.org/packages/d9/41/d9cfb4410589805cd787f8a82cddd13142d9bf7449d12adf2d05a4a7d633/pyparsing-3.0.8-py3-none-any.whl (98kB)\n",
      "Collecting cycler>=0.10 (from matplotlib==3.1.1)\n",
      "  Downloading https://files.pythonhosted.org/packages/5c/f9/695d6bedebd747e5eb0fe8fad57b72fdf25411273a39791cde838d5a8f51/cycler-0.11.0-py3-none-any.whl\n",
      "Requirement already satisfied: numpy>=1.11 in /usr/local/lib64/python3.7/site-packages (from matplotlib==3.1.1)\n",
      "Collecting kiwisolver>=1.0.1 (from matplotlib==3.1.1)\n",
      "  Downloading https://files.pythonhosted.org/packages/51/50/9a9a94afa26c50fc5d9127272737806990aa698c7a1c220b8e5075e70304/kiwisolver-1.4.2-cp37-cp37m-manylinux_2_5_x86_64.manylinux1_x86_64.whl (1.1MB)\n",
      "Requirement already satisfied: six>=1.5 in /usr/local/lib/python3.7/site-packages (from python-dateutil>=2.1->matplotlib==3.1.1)\n",
      "Collecting typing-extensions; python_version < \"3.8\" (from kiwisolver>=1.0.1->matplotlib==3.1.1)\n",
      "  Downloading https://files.pythonhosted.org/packages/45/6b/44f7f8f1e110027cf88956b59f2fad776cca7e1704396d043f89effd3a0e/typing_extensions-4.1.1-py3-none-any.whl\n",
      "Installing collected packages: python-dateutil, pyparsing, cycler, typing-extensions, kiwisolver, matplotlib\n",
      "Successfully installed cycler-0.11.0 kiwisolver-1.4.2 matplotlib-3.1.1 pyparsing-3.0.8 python-dateutil-2.8.2 typing-extensions-4.1.1"
     ]
    }
   ],
   "source": [
    "sc.install_pypi_package(\"matplotlib==3.1.1\", \"https://pypi.org/simple\")"
   ]
  },
  {
   "cell_type": "code",
   "execution_count": 3,
   "id": "dd70d7b6-1839-40f8-bdab-81dfd42725e2",
   "metadata": {
    "collapsed": true,
    "execution": {
     "iopub.execute_input": "2022-04-10T03:27:30.242053Z",
     "iopub.status.busy": "2022-04-10T03:27:30.241880Z",
     "iopub.status.idle": "2022-04-10T03:27:39.602217Z",
     "shell.execute_reply": "2022-04-10T03:27:39.601533Z",
     "shell.execute_reply.started": "2022-04-10T03:27:30.242031Z"
    },
    "jupyter": {
     "outputs_hidden": true
    },
    "tags": []
   },
   "outputs": [
    {
     "data": {
      "application/vnd.jupyter.widget-view+json": {
       "model_id": "6aac6f778b3a4a6fb3cd8eaf3528db69",
       "version_major": 2,
       "version_minor": 0
      },
      "text/plain": [
       "VBox()"
      ]
     },
     "metadata": {},
     "output_type": "display_data"
    },
    {
     "data": {
      "application/vnd.jupyter.widget-view+json": {
       "model_id": "",
       "version_major": 2,
       "version_minor": 0
      },
      "text/plain": [
       "FloatProgress(value=0.0, bar_style='info', description='Progress:', layout=Layout(height='25px', width='50%'),…"
      ]
     },
     "metadata": {},
     "output_type": "display_data"
    },
    {
     "name": "stdout",
     "output_type": "stream",
     "text": [
      "Collecting pandas==0.25.1\n",
      "  Downloading https://files.pythonhosted.org/packages/7e/ab/ea76361f9d3e732e114adcd801d2820d5319c23d0ac5482fa3b412db217e/pandas-0.25.1-cp37-cp37m-manylinux1_x86_64.whl (10.4MB)\n",
      "Requirement already satisfied: pytz>=2017.2 in /usr/local/lib/python3.7/site-packages (from pandas==0.25.1)\n",
      "Requirement already satisfied: numpy>=1.13.3 in /usr/local/lib64/python3.7/site-packages (from pandas==0.25.1)\n",
      "Requirement already satisfied: python-dateutil>=2.6.1 in /mnt/tmp/1649561233583-0/lib/python3.7/site-packages (from pandas==0.25.1)\n",
      "Requirement already satisfied: six>=1.5 in /usr/local/lib/python3.7/site-packages (from python-dateutil>=2.6.1->pandas==0.25.1)\n",
      "Installing collected packages: pandas\n",
      "Successfully installed pandas-0.25.1"
     ]
    }
   ],
   "source": [
    "sc.install_pypi_package(\"pandas==0.25.1\")"
   ]
  },
  {
   "cell_type": "markdown",
   "id": "1492c607-9915-476c-b08c-51ff8fe7fd2d",
   "metadata": {},
   "source": [
    "# Importing Libraries"
   ]
  },
  {
   "cell_type": "code",
   "execution_count": 7,
   "id": "669c9652-e0fd-4fe0-a70b-ac843297d296",
   "metadata": {
    "execution": {
     "iopub.execute_input": "2022-04-10T03:31:43.865749Z",
     "iopub.status.busy": "2022-04-10T03:31:43.865392Z",
     "iopub.status.idle": "2022-04-10T03:31:43.947599Z",
     "shell.execute_reply": "2022-04-10T03:31:43.946662Z",
     "shell.execute_reply.started": "2022-04-10T03:31:43.865709Z"
    },
    "tags": []
   },
   "outputs": [
    {
     "data": {
      "application/vnd.jupyter.widget-view+json": {
       "model_id": "ddb983ac2e7444929e88e4fdc0337b50",
       "version_major": 2,
       "version_minor": 0
      },
      "text/plain": [
       "VBox()"
      ]
     },
     "metadata": {},
     "output_type": "display_data"
    },
    {
     "data": {
      "application/vnd.jupyter.widget-view+json": {
       "model_id": "",
       "version_major": 2,
       "version_minor": 0
      },
      "text/plain": [
       "FloatProgress(value=0.0, bar_style='info', description='Progress:', layout=Layout(height='25px', width='50%'),…"
      ]
     },
     "metadata": {},
     "output_type": "display_data"
    }
   ],
   "source": [
    "from pyspark.sql.functions import *\n",
    "from pyspark.sql.functions import udf\n",
    "from pyspark.sql.types import IntegerType\n",
    "\n",
    "from pyspark.mllib.classification import SVMModel, SVMWithSGD\n",
    "from pyspark.mllib.regression import LabeledPoint\n",
    "from pyspark.mllib.linalg import Vectors as MLLibVectors\n",
    "from pyspark.ml.evaluation import BinaryClassificationEvaluator, MulticlassClassificationEvaluator\n",
    "from pyspark.ml.feature import * \n",
    "from pyspark.ml.tuning import CrossValidator"
   ]
  },
  {
   "cell_type": "code",
   "execution_count": 8,
   "id": "ef573ec1-9f99-443a-8f61-387eaaeaf63a",
   "metadata": {
    "execution": {
     "iopub.execute_input": "2022-04-10T03:31:44.282028Z",
     "iopub.status.busy": "2022-04-10T03:31:44.281793Z",
     "iopub.status.idle": "2022-04-10T03:31:44.366128Z",
     "shell.execute_reply": "2022-04-10T03:31:44.365430Z",
     "shell.execute_reply.started": "2022-04-10T03:31:44.281995Z"
    },
    "tags": []
   },
   "outputs": [
    {
     "data": {
      "application/vnd.jupyter.widget-view+json": {
       "model_id": "e1303751081942cd9d5e26f9deeaeff6",
       "version_major": 2,
       "version_minor": 0
      },
      "text/plain": [
       "VBox()"
      ]
     },
     "metadata": {},
     "output_type": "display_data"
    },
    {
     "data": {
      "application/vnd.jupyter.widget-view+json": {
       "model_id": "",
       "version_major": 2,
       "version_minor": 0
      },
      "text/plain": [
       "FloatProgress(value=0.0, bar_style='info', description='Progress:', layout=Layout(height='25px', width='50%'),…"
      ]
     },
     "metadata": {},
     "output_type": "display_data"
    }
   ],
   "source": [
    "from pyspark.ml import Pipeline, PipelineModel\n",
    "from pyspark.ml.feature import OneHotEncoder, StringIndexer, VectorAssembler, RegexTokenizer\n",
    "from pyspark.ml.feature import StopWordsRemover, CountVectorizer, Tokenizer, HashingTF, IDF\n",
    "from pyspark.ml.classification import LogisticRegression\n",
    "from pyspark.sql.functions import array\n",
    "\n",
    "import nltk"
   ]
  },
  {
   "cell_type": "code",
   "execution_count": 9,
   "id": "90000eec-fa1f-4c2a-a3dd-699e7384a750",
   "metadata": {
    "execution": {
     "iopub.execute_input": "2022-04-10T03:31:44.801239Z",
     "iopub.status.busy": "2022-04-10T03:31:44.801004Z",
     "iopub.status.idle": "2022-04-10T03:31:44.877534Z",
     "shell.execute_reply": "2022-04-10T03:31:44.876849Z",
     "shell.execute_reply.started": "2022-04-10T03:31:44.801215Z"
    },
    "tags": []
   },
   "outputs": [
    {
     "data": {
      "application/vnd.jupyter.widget-view+json": {
       "model_id": "a99124c1785e45ba9590eb30d9d25b5c",
       "version_major": 2,
       "version_minor": 0
      },
      "text/plain": [
       "VBox()"
      ]
     },
     "metadata": {},
     "output_type": "display_data"
    },
    {
     "data": {
      "application/vnd.jupyter.widget-view+json": {
       "model_id": "",
       "version_major": 2,
       "version_minor": 0
      },
      "text/plain": [
       "FloatProgress(value=0.0, bar_style='info', description='Progress:', layout=Layout(height='25px', width='50%'),…"
      ]
     },
     "metadata": {},
     "output_type": "display_data"
    }
   ],
   "source": [
    "from pyspark import keyword_only\n",
    "import pyspark.sql.functions as F\n",
    "from pyspark.sql import DataFrame\n",
    "from pyspark.sql.types import ArrayType, StringType\n",
    "from pyspark.ml import Transformer, classification\n",
    "from pyspark.ml.param.shared import HasInputCol, HasOutputCol, Param\n",
    "from nltk.stem import PorterStemmer"
   ]
  },
  {
   "cell_type": "code",
   "execution_count": 10,
   "id": "769a79cf-9485-41a7-82e7-e4804f896e43",
   "metadata": {
    "execution": {
     "iopub.execute_input": "2022-04-10T03:31:45.385603Z",
     "iopub.status.busy": "2022-04-10T03:31:45.385376Z",
     "iopub.status.idle": "2022-04-10T03:31:45.464960Z",
     "shell.execute_reply": "2022-04-10T03:31:45.464375Z",
     "shell.execute_reply.started": "2022-04-10T03:31:45.385578Z"
    },
    "tags": []
   },
   "outputs": [
    {
     "data": {
      "application/vnd.jupyter.widget-view+json": {
       "model_id": "4c5783a843fb436fbe78d4b9deeb478a",
       "version_major": 2,
       "version_minor": 0
      },
      "text/plain": [
       "VBox()"
      ]
     },
     "metadata": {},
     "output_type": "display_data"
    },
    {
     "data": {
      "application/vnd.jupyter.widget-view+json": {
       "model_id": "",
       "version_major": 2,
       "version_minor": 0
      },
      "text/plain": [
       "FloatProgress(value=0.0, bar_style='info', description='Progress:', layout=Layout(height='25px', width='50%'),…"
      ]
     },
     "metadata": {},
     "output_type": "display_data"
    }
   ],
   "source": [
    "import string \n",
    "import re "
   ]
  },
  {
   "cell_type": "code",
   "execution_count": 11,
   "id": "6af6b4b7-8328-4224-87fd-8ca0e45af909",
   "metadata": {
    "execution": {
     "iopub.execute_input": "2022-04-10T03:31:46.039908Z",
     "iopub.status.busy": "2022-04-10T03:31:46.039578Z",
     "iopub.status.idle": "2022-04-10T03:31:48.368710Z",
     "shell.execute_reply": "2022-04-10T03:31:48.368084Z",
     "shell.execute_reply.started": "2022-04-10T03:31:46.039870Z"
    },
    "tags": []
   },
   "outputs": [
    {
     "data": {
      "application/vnd.jupyter.widget-view+json": {
       "model_id": "980a26fcd11f4d618172c6d24674ea8e",
       "version_major": 2,
       "version_minor": 0
      },
      "text/plain": [
       "VBox()"
      ]
     },
     "metadata": {},
     "output_type": "display_data"
    },
    {
     "data": {
      "application/vnd.jupyter.widget-view+json": {
       "model_id": "",
       "version_major": 2,
       "version_minor": 0
      },
      "text/plain": [
       "FloatProgress(value=0.0, bar_style='info', description='Progress:', layout=Layout(height='25px', width='50%'),…"
      ]
     },
     "metadata": {},
     "output_type": "display_data"
    }
   ],
   "source": [
    "import matplotlib.pyplot as plt"
   ]
  },
  {
   "cell_type": "markdown",
   "id": "6b5a782d-b717-4eda-aa62-22f66ad4c149",
   "metadata": {},
   "source": [
    "# Loading Data"
   ]
  },
  {
   "cell_type": "code",
   "execution_count": 12,
   "id": "5e154241-aa9d-4db6-9078-4f63068daa97",
   "metadata": {
    "execution": {
     "iopub.execute_input": "2022-04-10T03:31:48.373287Z",
     "iopub.status.busy": "2022-04-10T03:31:48.373028Z",
     "iopub.status.idle": "2022-04-10T03:31:49.673229Z",
     "shell.execute_reply": "2022-04-10T03:31:49.672445Z",
     "shell.execute_reply.started": "2022-04-10T03:31:48.373251Z"
    },
    "tags": []
   },
   "outputs": [
    {
     "data": {
      "application/vnd.jupyter.widget-view+json": {
       "model_id": "9128d3dceca7422b93d0f9f750b76a6b",
       "version_major": 2,
       "version_minor": 0
      },
      "text/plain": [
       "VBox()"
      ]
     },
     "metadata": {},
     "output_type": "display_data"
    },
    {
     "data": {
      "application/vnd.jupyter.widget-view+json": {
       "model_id": "",
       "version_major": 2,
       "version_minor": 0
      },
      "text/plain": [
       "FloatProgress(value=0.0, bar_style='info', description='Progress:', layout=Layout(height='25px', width='50%'),…"
      ]
     },
     "metadata": {},
     "output_type": "display_data"
    }
   ],
   "source": [
    "review=spark.read.orc(\"hdfs:///NLP-shrunk/\")"
   ]
  },
  {
   "cell_type": "code",
   "execution_count": 13,
   "id": "41cd071d-a1dd-437b-842f-064a142a73c8",
   "metadata": {
    "execution": {
     "iopub.execute_input": "2022-04-10T03:31:49.674853Z",
     "iopub.status.busy": "2022-04-10T03:31:49.674601Z",
     "iopub.status.idle": "2022-04-10T03:31:56.993850Z",
     "shell.execute_reply": "2022-04-10T03:31:56.993108Z",
     "shell.execute_reply.started": "2022-04-10T03:31:49.674818Z"
    },
    "tags": []
   },
   "outputs": [
    {
     "data": {
      "application/vnd.jupyter.widget-view+json": {
       "model_id": "1d04a3e3ac934ee6971f2e5afc8e8254",
       "version_major": 2,
       "version_minor": 0
      },
      "text/plain": [
       "VBox()"
      ]
     },
     "metadata": {},
     "output_type": "display_data"
    },
    {
     "data": {
      "application/vnd.jupyter.widget-view+json": {
       "model_id": "",
       "version_major": 2,
       "version_minor": 0
      },
      "text/plain": [
       "FloatProgress(value=0.0, bar_style='info', description='Progress:', layout=Layout(height='25px', width='50%'),…"
      ]
     },
     "metadata": {},
     "output_type": "display_data"
    },
    {
     "name": "stdout",
     "output_type": "stream",
     "text": [
      "+-----+--------------------+\n",
      "|stars|                text|\n",
      "+-----+--------------------+\n",
      "|  5.0|What a great find...|\n",
      "|  2.0|The only reason I...|\n",
      "|  2.0|It's fun that it'...|\n",
      "|  3.0|I've been to Smit...|\n",
      "|  4.0|We do love the fo...|\n",
      "+-----+--------------------+\n",
      "only showing top 5 rows"
     ]
    }
   ],
   "source": [
    "review.show(5)"
   ]
  },
  {
   "cell_type": "markdown",
   "id": "a40451fc-196c-4a9f-91d9-0e1a79576f25",
   "metadata": {},
   "source": [
    "# Data Cleaning"
   ]
  },
  {
   "cell_type": "code",
   "execution_count": 14,
   "id": "d434e622-c897-4fe1-97e4-25588aa976eb",
   "metadata": {
    "execution": {
     "iopub.execute_input": "2022-04-10T03:31:56.995739Z",
     "iopub.status.busy": "2022-04-10T03:31:56.995475Z",
     "iopub.status.idle": "2022-04-10T03:31:57.267305Z",
     "shell.execute_reply": "2022-04-10T03:31:57.266666Z",
     "shell.execute_reply.started": "2022-04-10T03:31:56.995703Z"
    },
    "tags": []
   },
   "outputs": [
    {
     "data": {
      "application/vnd.jupyter.widget-view+json": {
       "model_id": "04cd4ea0d30e4332a649c45a6af298d5",
       "version_major": 2,
       "version_minor": 0
      },
      "text/plain": [
       "VBox()"
      ]
     },
     "metadata": {},
     "output_type": "display_data"
    },
    {
     "data": {
      "application/vnd.jupyter.widget-view+json": {
       "model_id": "",
       "version_major": 2,
       "version_minor": 0
      },
      "text/plain": [
       "FloatProgress(value=0.0, bar_style='info', description='Progress:', layout=Layout(height='25px', width='50%'),…"
      ]
     },
     "metadata": {},
     "output_type": "display_data"
    }
   ],
   "source": [
    "def remove_punct(text):\n",
    "    regex = re.compile('[' + re.escape(string.punctuation) + '0-9\\\\r\\\\t\\\\n]')\n",
    "    nopunct = regex.sub(\" \", text) \n",
    "    return nopunct\n",
    "\n",
    "    \n",
    "# binarize rating\n",
    "def convert_rating(rating):\n",
    "    rating = int(rating)\n",
    "    if rating < 2: return 1\n",
    "    else: return 0\n",
    "\n",
    "# udf\n",
    "punct_remover = udf(lambda x: remove_punct(x))\n",
    "rating_convert = udf(lambda x: convert_rating(x))\n",
    "review_df = review.select( punct_remover('text'), rating_convert('stars'))\n",
    "review_df = review_df.withColumnRenamed('<lambda>(text)', 'text')\\\n",
    "                     .withColumn('label', review_df[\"<lambda>(stars)\"].cast(IntegerType()))\\\n",
    "                     .drop('<lambda>(stars)')"
   ]
  },
  {
   "cell_type": "code",
   "execution_count": 15,
   "id": "2b8c3f0c-8096-4cd2-a22d-44b35e959bde",
   "metadata": {
    "execution": {
     "iopub.execute_input": "2022-04-10T03:31:57.268826Z",
     "iopub.status.busy": "2022-04-10T03:31:57.268593Z",
     "iopub.status.idle": "2022-04-10T03:32:08.603024Z",
     "shell.execute_reply": "2022-04-10T03:32:08.602396Z",
     "shell.execute_reply.started": "2022-04-10T03:31:57.268793Z"
    },
    "tags": []
   },
   "outputs": [
    {
     "data": {
      "application/vnd.jupyter.widget-view+json": {
       "model_id": "44408ebc1fe748e9b01b95fa38a95f85",
       "version_major": 2,
       "version_minor": 0
      },
      "text/plain": [
       "VBox()"
      ]
     },
     "metadata": {},
     "output_type": "display_data"
    },
    {
     "data": {
      "application/vnd.jupyter.widget-view+json": {
       "model_id": "",
       "version_major": 2,
       "version_minor": 0
      },
      "text/plain": [
       "FloatProgress(value=0.0, bar_style='info', description='Progress:', layout=Layout(height='25px', width='50%'),…"
      ]
     },
     "metadata": {},
     "output_type": "display_data"
    },
    {
     "name": "stdout",
     "output_type": "stream",
     "text": [
      "+--------------------+-----+\n",
      "|                text|label|\n",
      "+--------------------+-----+\n",
      "|What a great find...|    0|\n",
      "|The only reason I...|    0|\n",
      "+--------------------+-----+\n",
      "only showing top 2 rows"
     ]
    }
   ],
   "source": [
    "review_df.show(2)"
   ]
  },
  {
   "cell_type": "code",
   "execution_count": 16,
   "id": "8a2345a2-1646-4f3a-ad07-38b5ecdb46ef",
   "metadata": {
    "execution": {
     "iopub.execute_input": "2022-04-10T03:32:08.604102Z",
     "iopub.status.busy": "2022-04-10T03:32:08.603929Z",
     "iopub.status.idle": "2022-04-10T03:32:09.897159Z",
     "shell.execute_reply": "2022-04-10T03:32:09.896317Z",
     "shell.execute_reply.started": "2022-04-10T03:32:08.604080Z"
    },
    "tags": []
   },
   "outputs": [
    {
     "data": {
      "application/vnd.jupyter.widget-view+json": {
       "model_id": "aa3bc43b855c42bf90394cae1417bf39",
       "version_major": 2,
       "version_minor": 0
      },
      "text/plain": [
       "VBox()"
      ]
     },
     "metadata": {},
     "output_type": "display_data"
    },
    {
     "data": {
      "application/vnd.jupyter.widget-view+json": {
       "model_id": "",
       "version_major": 2,
       "version_minor": 0
      },
      "text/plain": [
       "FloatProgress(value=0.0, bar_style='info', description='Progress:', layout=Layout(height='25px', width='50%'),…"
      ]
     },
     "metadata": {},
     "output_type": "display_data"
    },
    {
     "name": "stdout",
     "output_type": "stream",
     "text": [
      "3548711"
     ]
    }
   ],
   "source": [
    "review_df.count()"
   ]
  },
  {
   "cell_type": "code",
   "execution_count": 17,
   "id": "454f6174-56ba-4a9f-9dbc-6cbd0288e4ac",
   "metadata": {
    "execution": {
     "iopub.execute_input": "2022-04-10T03:32:09.898341Z",
     "iopub.status.busy": "2022-04-10T03:32:09.898169Z",
     "iopub.status.idle": "2022-04-10T03:32:10.181992Z",
     "shell.execute_reply": "2022-04-10T03:32:10.181337Z",
     "shell.execute_reply.started": "2022-04-10T03:32:09.898320Z"
    },
    "tags": []
   },
   "outputs": [
    {
     "data": {
      "application/vnd.jupyter.widget-view+json": {
       "model_id": "1c77560a49634f5ca09256f2f08fbb7b",
       "version_major": 2,
       "version_minor": 0
      },
      "text/plain": [
       "VBox()"
      ]
     },
     "metadata": {},
     "output_type": "display_data"
    },
    {
     "data": {
      "application/vnd.jupyter.widget-view+json": {
       "model_id": "",
       "version_major": 2,
       "version_minor": 0
      },
      "text/plain": [
       "FloatProgress(value=0.0, bar_style='info', description='Progress:', layout=Layout(height='25px', width='50%'),…"
      ]
     },
     "metadata": {},
     "output_type": "display_data"
    }
   ],
   "source": [
    "rgtoken = RegexTokenizer(inputCol=\"text\",outputCol=\"words\",pattern=\"\\\\W\")\n",
    "token = Tokenizer(inputCol= \"words\", outputCol = \"tokens\")\n"
   ]
  },
  {
   "cell_type": "code",
   "execution_count": 18,
   "id": "c6fa9416-5710-48e3-8039-08f44edcb36f",
   "metadata": {
    "execution": {
     "iopub.execute_input": "2022-04-10T03:32:10.184933Z",
     "iopub.status.busy": "2022-04-10T03:32:10.184750Z",
     "iopub.status.idle": "2022-04-10T03:32:10.261880Z",
     "shell.execute_reply": "2022-04-10T03:32:10.261302Z",
     "shell.execute_reply.started": "2022-04-10T03:32:10.184910Z"
    },
    "tags": []
   },
   "outputs": [
    {
     "data": {
      "application/vnd.jupyter.widget-view+json": {
       "model_id": "2575af681cbe44378e420410e28bee2e",
       "version_major": 2,
       "version_minor": 0
      },
      "text/plain": [
       "VBox()"
      ]
     },
     "metadata": {},
     "output_type": "display_data"
    },
    {
     "data": {
      "application/vnd.jupyter.widget-view+json": {
       "model_id": "",
       "version_major": 2,
       "version_minor": 0
      },
      "text/plain": [
       "FloatProgress(value=0.0, bar_style='info', description='Progress:', layout=Layout(height='25px', width='50%'),…"
      ]
     },
     "metadata": {},
     "output_type": "display_data"
    }
   ],
   "source": [
    "stops = [\"0o\", \"0s\", \"3a\", \"3b\", \"3d\", \"6b\", \"6o\", \"a\", \"a1\", \"a2\", \"a3\", \"a4\", \"ab\", \"able\", \"about\", \"above\", \"abst\", \"ac\", \"accordance\", \"according\", \"accordingly\", \"across\", \"act\", \"actually\", \"ad\", \"added\", \"adj\", \"ae\", \"af\", \"affected\", \"affecting\", \"affects\", \"after\", \"afterwards\", \"ag\", \"again\", \"against\", \"ah\", \"ain\", \"ain't\", \"aj\", \"al\", \"all\", \"allow\", \"allows\", \"almost\", \"alone\", \"along\", \"already\", \"also\", \"although\", \"always\", \"am\", \"among\", \"amongst\", \"amoungst\", \"amount\", \"an\", \"and\", \"announce\", \"another\", \"any\", \"anybody\", \"anyhow\", \"anymore\", \"anyone\", \"anything\", \"anyway\", \"anyways\", \"anywhere\", \"ao\", \"ap\", \"apart\", \"apparently\", \"appear\", \"appreciate\", \"appropriate\", \"approximately\", \"ar\", \"are\", \"aren\", \"arent\", \"aren't\", \"arise\", \"around\", \"as\", \"a's\", \"aside\", \"ask\", \"asking\", \"associated\", \"at\", \"au\", \"auth\", \"av\", \"available\", \"aw\", \"away\", \"awfully\", \"ax\", \"ay\", \"az\", \"b\", \"b1\", \"b2\", \"b3\", \"ba\", \"back\", \"bc\", \"bd\", \"be\", \"became\", \"because\", \"become\", \"becomes\", \"becoming\", \"been\", \"before\", \"beforehand\", \"begin\", \"beginning\", \"beginnings\", \"begins\", \"behind\", \"being\", \"believe\", \"below\", \"beside\", \"besides\", \"best\", \"better\", \"between\", \"beyond\", \"bi\", \"bill\", \"biol\", \"bj\", \"bk\", \"bl\", \"bn\", \"both\", \"bottom\", \"bp\", \"br\", \"brief\", \"briefly\", \"bs\", \"bt\", \"bu\", \"but\", \"bx\", \"by\", \"c\", \"c1\", \"c2\", \"c3\", \"ca\", \"call\", \"came\", \"can\", \"cannot\", \"cant\", \"can't\", \"cause\", \"causes\", \"cc\", \"cd\", \"ce\", \"certain\", \"certainly\", \"cf\", \"cg\", \"ch\", \"changes\", \"ci\", \"cit\", \"cj\", \"cl\", \"clearly\", \"cm\", \"c'mon\", \"cn\", \"co\", \"com\", \"come\", \"comes\", \"con\", \"concerning\", \"consequently\", \"consider\", \"considering\", \"contain\", \"containing\", \"contains\", \"corresponding\", \"could\", \"couldn\", \"couldnt\", \"couldn't\", \"course\", \"cp\", \"cq\", \"cr\", \"cry\", \"cs\", \"c's\", \"ct\", \"cu\", \"currently\", \"cv\", \"cx\", \"cy\", \"cz\", \"d\", \"d2\", \"da\", \"date\", \"dc\", \"dd\", \"de\", \"definitely\", \"describe\", \"described\", \"despite\", \"detail\", \"df\", \"di\", \"did\", \"didn\", \"didn't\", \"different\", \"dj\", \"dk\", \"dl\", \"do\", \"does\", \"doesn\", \"doesn't\", \"doing\", \"don\", \"done\", \"don't\", \"down\", \"downwards\", \"dp\", \"dr\", \"ds\", \"dt\", \"du\", \"due\", \"during\", \"dx\", \"dy\", \"e\", \"e2\", \"e3\", \"ea\", \"each\", \"ec\", \"ed\", \"edu\", \"ee\", \"ef\", \"effect\", \"eg\", \"ei\", \"eight\", \"eighty\", \"either\", \"ej\", \"el\", \"eleven\", \"else\", \"elsewhere\", \"em\", \"empty\", \"en\", \"end\", \"ending\", \"enough\", \"entirely\", \"eo\", \"ep\", \"eq\", \"er\", \"es\", \"especially\", \"est\", \"et\", \"et-al\", \"etc\", \"eu\", \"ev\", \"even\", \"ever\", \"every\", \"everybody\", \"everyone\", \"everything\", \"everywhere\", \"ex\", \"exactly\", \"example\", \"except\", \"ey\", \"f\", \"f2\", \"fa\", \"far\", \"fc\", \"few\", \"ff\", \"fi\", \"fifteen\", \"fifth\", \"fify\", \"fill\", \"find\", \"fire\", \"first\", \"five\", \"fix\", \"fj\", \"fl\", \"fn\", \"fo\", \"followed\", \"following\", \"follows\", \"for\", \"former\", \"formerly\", \"forth\", \"forty\", \"found\", \"four\", \"fr\", \"from\", \"front\", \"fs\", \"ft\", \"fu\", \"full\", \"further\", \"furthermore\", \"fy\", \"g\", \"ga\", \"gave\", \"ge\", \"get\", \"gets\", \"getting\", \"gi\", \"give\", \"given\", \"gives\", \"giving\", \"gj\", \"gl\", \"go\", \"goes\", \"going\", \"gone\", \"got\", \"gotten\", \"gr\", \"greetings\", \"gs\", \"gy\", \"h\", \"h2\", \"h3\", \"had\", \"hadn\", \"hadn't\", \"happens\", \"hardly\", \"has\", \"hasn\", \"hasnt\", \"hasn't\", \"have\", \"haven\", \"haven't\", \"having\", \"he\", \"hed\", \"he'd\", \"he'll\", \"hello\", \"help\", \"hence\", \"her\", \"here\", \"hereafter\", \"hereby\", \"herein\", \"heres\", \"here's\", \"hereupon\", \"hers\", \"herself\", \"hes\", \"he's\", \"hh\", \"hi\", \"hid\", \"him\", \"himself\", \"his\", \"hither\", \"hj\", \"ho\", \"home\", \"hopefully\", \"how\", \"howbeit\", \"however\", \"how's\", \"hr\", \"hs\", \"http\", \"hu\", \"hundred\", \"hy\", \"i\", \"i2\", \"i3\", \"i4\", \"i6\", \"i7\", \"i8\", \"ia\", \"ib\", \"ibid\", \"ic\", \"id\", \"i'd\", \"ie\", \"if\", \"ig\", \"ignored\", \"ih\", \"ii\", \"ij\", \"il\", \"i'll\", \"im\", \"i'm\", \"immediate\", \"immediately\", \"importance\", \"important\", \"in\", \"inasmuch\", \"inc\", \"indeed\", \"index\", \"indicate\", \"indicated\", \"indicates\", \"information\", \"inner\", \"insofar\", \"instead\", \"interest\", \"into\", \"invention\", \"inward\", \"io\", \"ip\", \"iq\", \"ir\", \"is\", \"isn\", \"isn't\", \"it\", \"itd\", \"it'd\", \"it'll\", \"its\", \"it's\", \"itself\", \"iv\", \"i've\", \"ix\", \"iy\", \"iz\", \"j\", \"jj\", \"jr\", \"js\", \"jt\", \"ju\", \"just\", \"k\", \"ke\", \"keep\", \"keeps\", \"kept\", \"kg\", \"kj\", \"km\", \"know\", \"known\", \"knows\", \"ko\", \"l\", \"l2\", \"la\", \"largely\", \"last\", \"lately\", \"later\", \"latter\", \"latterly\", \"lb\", \"lc\", \"le\", \"least\", \"les\", \"less\", \"lest\", \"let\", \"lets\", \"let's\", \"lf\", \"like\", \"liked\", \"likely\", \"line\", \"little\", \"lj\", \"ll\", \"ll\", \"ln\", \"lo\", \"look\", \"looking\", \"looks\", \"los\", \"lr\", \"ls\", \"lt\", \"ltd\", \"m\", \"m2\", \"ma\", \"made\", \"mainly\", \"make\", \"makes\", \"many\", \"may\", \"maybe\", \"me\", \"mean\", \"means\", \"meantime\", \"meanwhile\", \"merely\", \"mg\", \"might\", \"mightn\", \"mightn't\", \"mill\", \"million\", \"mine\", \"miss\", \"ml\", \"mn\", \"mo\", \"more\", \"moreover\", \"most\", \"mostly\", \"move\", \"mr\", \"mrs\", \"ms\", \"mt\", \"mu\", \"much\", \"mug\", \"must\", \"mustn\", \"mustn't\", \"my\", \"myself\", \"n\", \"n2\", \"na\", \"name\", \"namely\", \"nay\", \"nc\", \"nd\", \"ne\", \"near\", \"nearly\", \"necessarily\", \"necessary\", \"need\", \"needn\", \"needn't\", \"needs\", \"neither\", \"never\", \"nevertheless\", \"new\", \"next\", \"ng\", \"ni\", \"nine\", \"ninety\", \"nj\", \"nl\", \"nn\", \"no\", \"nobody\", \"non\", \"none\", \"nonetheless\", \"noone\", \"nor\", \"normally\", \"nos\", \"not\", \"noted\", \"nothing\", \"novel\", \"now\", \"nowhere\", \"nr\", \"ns\", \"nt\", \"ny\", \"o\", \"oa\", \"ob\", \"obtain\", \"obtained\", \"obviously\", \"oc\", \"od\", \"of\", \"off\", \"often\", \"og\", \"oh\", \"oi\", \"oj\", \"ok\", \"okay\", \"ol\", \"old\", \"om\", \"omitted\", \"on\", \"once\", \"one\", \"ones\", \"only\", \"onto\", \"oo\", \"op\", \"oq\", \"or\", \"ord\", \"os\", \"ot\", \"other\", \"others\", \"otherwise\", \"ou\", \"ought\", \"our\", \"ours\", \"ourselves\", \"out\", \"outside\", \"over\", \"overall\", \"ow\", \"owing\", \"own\", \"ox\", \"oz\", \"p\", \"p1\", \"p2\", \"p3\", \"page\", \"pagecount\", \"pages\", \"par\", \"part\", \"particular\", \"particularly\", \"pas\", \"past\", \"pc\", \"pd\", \"pe\", \"per\", \"perhaps\", \"pf\", \"ph\", \"pi\", \"pj\", \"pk\", \"pl\", \"placed\", \"please\", \"plus\", \"pm\", \"pn\", \"po\", \"poorly\", \"possible\", \"possibly\", \"potentially\", \"pp\", \"pq\", \"pr\", \"predominantly\", \"present\", \"presumably\", \"previously\", \"primarily\", \"probably\", \"promptly\", \"proud\", \"provides\", \"ps\", \"pt\", \"pu\", \"put\", \"py\", \"q\", \"qj\", \"qu\", \"que\", \"quickly\", \"quite\", \"qv\", \"r\", \"r2\", \"ra\", \"ran\", \"rather\", \"rc\", \"rd\", \"re\", \"readily\", \"really\", \"reasonably\", \"recent\", \"recently\", \"ref\", \"refs\", \"regarding\", \"regardless\", \"regards\", \"related\", \"relatively\", \"research\", \"research-articl\", \"respectively\", \"resulted\", \"resulting\", \"results\", \"rf\", \"rh\", \"ri\", \"right\", \"rj\", \"rl\", \"rm\", \"rn\", \"ro\", \"rq\", \"rr\", \"rs\", \"rt\", \"ru\", \"run\", \"rv\", \"ry\", \"s\", \"s2\", \"sa\", \"said\", \"same\", \"saw\", \"say\", \"saying\", \"says\", \"sc\", \"sd\", \"se\", \"sec\", \"second\", \"secondly\", \"section\", \"see\", \"seeing\", \"seem\", \"seemed\", \"seeming\", \"seems\", \"seen\", \"self\", \"selves\", \"sensible\", \"sent\", \"serious\", \"seriously\", \"seven\", \"several\", \"sf\", \"shall\", \"shan\", \"shan't\", \"she\", \"shed\", \"she'd\", \"she'll\", \"shes\", \"she's\", \"should\", \"shouldn\", \"shouldn't\", \"should've\", \"show\", \"showed\", \"shown\", \"showns\", \"shows\", \"si\", \"side\", \"significant\", \"significantly\", \"similar\", \"similarly\", \"since\", \"sincere\", \"six\", \"sixty\", \"sj\", \"sl\", \"slightly\", \"sm\", \"sn\", \"so\", \"some\", \"somebody\", \"somehow\", \"someone\", \"somethan\", \"something\", \"sometime\", \"sometimes\", \"somewhat\", \"somewhere\", \"soon\", \"sorry\", \"sp\", \"specifically\", \"specified\", \"specify\", \"specifying\", \"sq\", \"sr\", \"ss\", \"st\", \"still\", \"stop\", \"strongly\", \"sub\", \"substantially\", \"successfully\", \"such\", \"sufficiently\", \"suggest\", \"sup\", \"sure\", \"sy\", \"system\", \"sz\", \"t\", \"t1\", \"t2\", \"t3\", \"take\", \"taken\", \"taking\", \"tb\", \"tc\", \"td\", \"te\", \"tell\", \"ten\", \"tends\", \"tf\", \"th\", \"than\", \"thank\", \"thanks\", \"thanx\", \"that\", \"that'll\", \"thats\", \"that's\", \"that've\", \"the\", \"their\", \"theirs\", \"them\", \"themselves\", \"then\", \"thence\", \"there\", \"thereafter\", \"thereby\", \"thered\", \"therefore\", \"therein\", \"there'll\", \"thereof\", \"therere\", \"theres\", \"there's\", \"thereto\", \"thereupon\", \"there've\", \"these\", \"they\", \"theyd\", \"they'd\", \"they'll\", \"theyre\", \"they're\", \"they've\", \"thickv\", \"thin\", \"think\", \"third\", \"this\", \"thorough\", \"thoroughly\", \"those\", \"thou\", \"though\", \"thoughh\", \"thousand\", \"three\", \"throug\", \"through\", \"throughout\", \"thru\", \"thus\", \"ti\", \"til\", \"tip\", \"tj\", \"tl\", \"tm\", \"tn\", \"to\", \"together\", \"too\", \"took\", \"top\", \"toward\", \"towards\", \"tp\", \"tq\", \"tr\", \"tried\", \"tries\", \"truly\", \"try\", \"trying\", \"ts\", \"t's\", \"tt\", \"tv\", \"twelve\", \"twenty\", \"twice\", \"two\", \"tx\", \"u\", \"u201d\", \"ue\", \"ui\", \"uj\", \"uk\", \"um\", \"un\", \"under\", \"unfortunately\", \"unless\", \"unlike\", \"unlikely\", \"until\", \"unto\", \"uo\", \"up\", \"upon\", \"ups\", \"ur\", \"us\", \"use\", \"used\", \"useful\", \"usefully\", \"usefulness\", \"uses\", \"using\", \"usually\", \"ut\", \"v\", \"va\", \"value\", \"various\", \"vd\", \"ve\", \"ve\", \"very\", \"via\", \"viz\", \"vj\", \"vo\", \"vol\", \"vols\", \"volumtype\", \"vq\", \"vs\", \"vt\", \"vu\", \"w\", \"wa\", \"want\", \"wants\", \"was\", \"wasn\", \"wasnt\", \"wasn't\", \"way\", \"we\", \"wed\", \"we'd\", \"welcome\", \"well\", \"we'll\", \"well-b\", \"went\", \"were\", \"we're\", \"weren\", \"werent\", \"weren't\", \"we've\", \"what\", \"whatever\", \"what'll\", \"whats\", \"what's\", \"when\", \"whence\", \"whenever\", \"when's\", \"where\", \"whereafter\", \"whereas\", \"whereby\", \"wherein\", \"wheres\", \"where's\", \"whereupon\", \"wherever\", \"whether\", \"which\", \"while\", \"whim\", \"whither\", \"who\", \"whod\", \"whoever\", \"whole\", \"who'll\", \"whom\", \"whomever\", \"whos\", \"who's\", \"whose\", \"why\", \"why's\", \"wi\", \"widely\", \"will\", \"willing\", \"wish\", \"with\", \"within\", \"without\", \"wo\", \"won\", \"wonder\", \"wont\", \"won't\", \"words\", \"world\", \"would\", \"wouldn\", \"wouldnt\", \"wouldn't\", \"www\", \"x\", \"x1\", \"x2\", \"x3\", \"xf\", \"xi\", \"xj\", \"xk\", \"xl\", \"xn\", \"xo\", \"xs\", \"xt\", \"xv\", \"xx\", \"y\", \"y2\", \"yes\", \"yet\", \"yj\", \"yl\", \"you\", \"youd\", \"you'd\", \"you'll\", \"your\", \"youre\", \"you're\", \"yours\", \"yourself\", \"yourselves\", \"you've\", \"yr\", \"ys\", \"yt\", \"z\", \"zero\", \"zi\", \"zz\"]"
   ]
  },
  {
   "cell_type": "code",
   "execution_count": 19,
   "id": "31b58487-df1c-42cb-9e4b-06369189eaaf",
   "metadata": {
    "execution": {
     "iopub.execute_input": "2022-04-10T03:32:10.263179Z",
     "iopub.status.busy": "2022-04-10T03:32:10.263000Z",
     "iopub.status.idle": "2022-04-10T03:32:10.531917Z",
     "shell.execute_reply": "2022-04-10T03:32:10.531277Z",
     "shell.execute_reply.started": "2022-04-10T03:32:10.263152Z"
    },
    "tags": []
   },
   "outputs": [
    {
     "data": {
      "application/vnd.jupyter.widget-view+json": {
       "model_id": "3569a5245ade4ba5be1cc403b53ce88a",
       "version_major": 2,
       "version_minor": 0
      },
      "text/plain": [
       "VBox()"
      ]
     },
     "metadata": {},
     "output_type": "display_data"
    },
    {
     "data": {
      "application/vnd.jupyter.widget-view+json": {
       "model_id": "",
       "version_major": 2,
       "version_minor": 0
      },
      "text/plain": [
       "FloatProgress(value=0.0, bar_style='info', description='Progress:', layout=Layout(height='25px', width='50%'),…"
      ]
     },
     "metadata": {},
     "output_type": "display_data"
    }
   ],
   "source": [
    "stopword_remover = StopWordsRemover(inputCol=\"words\", outputCol=\"filtered\")\\\n",
    "                    .setStopWords(stops)"
   ]
  },
  {
   "cell_type": "code",
   "execution_count": 20,
   "id": "403eb215-a5d7-4b69-897e-faa290aa8fb0",
   "metadata": {
    "execution": {
     "iopub.execute_input": "2022-04-10T03:32:10.533057Z",
     "iopub.status.busy": "2022-04-10T03:32:10.532880Z",
     "iopub.status.idle": "2022-04-10T03:32:10.602082Z",
     "shell.execute_reply": "2022-04-10T03:32:10.601545Z",
     "shell.execute_reply.started": "2022-04-10T03:32:10.533035Z"
    },
    "tags": []
   },
   "outputs": [
    {
     "data": {
      "application/vnd.jupyter.widget-view+json": {
       "model_id": "ab55b1036d144c1196f31122ed7d71dc",
       "version_major": 2,
       "version_minor": 0
      },
      "text/plain": [
       "VBox()"
      ]
     },
     "metadata": {},
     "output_type": "display_data"
    },
    {
     "data": {
      "application/vnd.jupyter.widget-view+json": {
       "model_id": "",
       "version_major": 2,
       "version_minor": 0
      },
      "text/plain": [
       "FloatProgress(value=0.0, bar_style='info', description='Progress:', layout=Layout(height='25px', width='50%'),…"
      ]
     },
     "metadata": {},
     "output_type": "display_data"
    }
   ],
   "source": [
    "class PorterStemming(Transformer, HasInputCol, HasOutputCol):\n",
    "    \"\"\"\n",
    "    PosterStemming class using the NLTK Porter Stemmer\n",
    "    \n",
    "    This comes from https://stackoverflow.com/questions/32331848/create-a-custom-transformer-in-pyspark-ml\n",
    "    Adapted to work with the Porter Stemmer from NLTK.\n",
    "    \"\"\"\n",
    "    \n",
    "    @keyword_only\n",
    "    def __init__(self, \n",
    "                 inputCol  : str = None, \n",
    "                 outputCol : str = None, \n",
    "                 min_size  : int = None):\n",
    "        \"\"\"\n",
    "        Constructor takes in the input column name, output column name,\n",
    "        plus the minimum legnth of a token (min_size)\n",
    "        \"\"\"\n",
    "        # call Transformer classes constructor since were extending it.\n",
    "        super(Transformer, self).__init__()\n",
    "\n",
    "        # set Parameter objects minimum token size\n",
    "        self.min_size = Param(self, \"min_size\", \"\")\n",
    "        self._setDefault(min_size=0)\n",
    "\n",
    "        # set the input keywork arguments\n",
    "        kwargs = self._input_kwargs\n",
    "        self.setParams(**kwargs)\n",
    "\n",
    "        # initialize Stemmer object\n",
    "        self.stemmer  = PorterStemmer()\n",
    "\n",
    "        \n",
    "    @keyword_only\n",
    "    def setParams(self, \n",
    "                  inputCol  : str = None, \n",
    "                  outputCol : str = None, \n",
    "                  min_size  : int = None\n",
    "      ) -> None:\n",
    "        \"\"\"\n",
    "        Function to set the keyword arguemnts\n",
    "        \"\"\"\n",
    "        kwargs = self._input_kwargs\n",
    "        return self._set(**kwargs)\n",
    "    \n",
    "\n",
    "    def _stem_func(self, words  : list) -> list:\n",
    "        \"\"\"\n",
    "        Stemmer function call that performs stemming on a\n",
    "        list of tokens in words and returns a list of tokens\n",
    "        that have meet the minimum length requiremnt.\n",
    "        \"\"\"\n",
    "        # We need a way to get min_size and cannot access it \n",
    "        # with self.min_size\n",
    "        min_size       = self.getMinSize()\n",
    "\n",
    "        # stem that actual tokens by applying \n",
    "        # self.stemmer.stem function to each token in \n",
    "        # the words list\n",
    "        stemmed_words  = map(self.stemmer.stem, words)\n",
    "\n",
    "        # now create the new list of tokens from\n",
    "        # stemmed_words by filtering out those\n",
    "        # that are not of legnth > min_size\n",
    "        filtered_words = filter(lambda x: len(x) > min_size, stemmed_words)\n",
    "\n",
    "        return list(filtered_words)\n",
    "    \n",
    "    def _transform(self, df: DataFrame) -> DataFrame:\n",
    "        \"\"\"\n",
    "        Transform function is the method that is called in the \n",
    "        MLPipleline.  We have to override this function for our own use\n",
    "        and have it call the _stem_func.\n",
    "\n",
    "        Notice how it takes in a type DataFrame and returns type Dataframe\n",
    "        \"\"\"\n",
    "        # Get the names of the input and output columns to use\n",
    "        out_col       = self.getOutputCol()\n",
    "        in_col        = self.getInputCol()\n",
    "\n",
    "        # create the stemming function UDF by wrapping the stemmer \n",
    "        # method function\n",
    "        stem_func_udf = F.udf(self._stem_func, ArrayType(StringType()))\n",
    "        \n",
    "        # now apply that UDF to the column in the dataframe to return\n",
    "        # a new column that has the same list of words after being stemmed\n",
    "        df2           = df.withColumn(out_col, stem_func_udf(df[in_col]))\n",
    "\n",
    "        return df2\n",
    "  \n",
    "  \n",
    "    def setMinSize(self,value):\n",
    "        \"\"\"\n",
    "        This method sets the minimum size value\n",
    "        for the _paramMap dictionary.\n",
    "        \"\"\"\n",
    "        self._paramMap[self.min_size] = value\n",
    "        return self\n",
    "\n",
    "    def getMinSize(self) -> int:\n",
    "        \"\"\"\n",
    "        This method uses the parent classes (Transformer)\n",
    "        .getOrDefault method to get the minimum\n",
    "        size of a token.\n",
    "        \"\"\"\n",
    "        return self.getOrDefault(self.min_size)"
   ]
  },
  {
   "cell_type": "code",
   "execution_count": 21,
   "id": "2ee59edd-fc27-4fd3-adc1-7eed00721f1c",
   "metadata": {
    "execution": {
     "iopub.execute_input": "2022-04-10T03:32:10.603083Z",
     "iopub.status.busy": "2022-04-10T03:32:10.602908Z",
     "iopub.status.idle": "2022-04-10T03:32:10.664091Z",
     "shell.execute_reply": "2022-04-10T03:32:10.663550Z",
     "shell.execute_reply.started": "2022-04-10T03:32:10.603060Z"
    },
    "tags": []
   },
   "outputs": [
    {
     "data": {
      "application/vnd.jupyter.widget-view+json": {
       "model_id": "72fbeb89d2fd489a8391189674adc190",
       "version_major": 2,
       "version_minor": 0
      },
      "text/plain": [
       "VBox()"
      ]
     },
     "metadata": {},
     "output_type": "display_data"
    },
    {
     "data": {
      "application/vnd.jupyter.widget-view+json": {
       "model_id": "",
       "version_major": 2,
       "version_minor": 0
      },
      "text/plain": [
       "FloatProgress(value=0.0, bar_style='info', description='Progress:', layout=Layout(height='25px', width='50%'),…"
      ]
     },
     "metadata": {},
     "output_type": "display_data"
    }
   ],
   "source": [
    "stem2 = PorterStemming(inputCol=\"filtered\", outputCol=\"stemmed\")"
   ]
  },
  {
   "cell_type": "code",
   "execution_count": 22,
   "id": "8ce5ee07-7f38-48fb-a539-f22e8c1c09a6",
   "metadata": {
    "execution": {
     "iopub.execute_input": "2022-04-10T03:32:10.665045Z",
     "iopub.status.busy": "2022-04-10T03:32:10.664862Z",
     "iopub.status.idle": "2022-04-10T03:32:10.721328Z",
     "shell.execute_reply": "2022-04-10T03:32:10.720646Z",
     "shell.execute_reply.started": "2022-04-10T03:32:10.665021Z"
    },
    "tags": []
   },
   "outputs": [
    {
     "data": {
      "application/vnd.jupyter.widget-view+json": {
       "model_id": "1483a32a7c9f4e7583483b74bd2d5a2c",
       "version_major": 2,
       "version_minor": 0
      },
      "text/plain": [
       "VBox()"
      ]
     },
     "metadata": {},
     "output_type": "display_data"
    },
    {
     "data": {
      "application/vnd.jupyter.widget-view+json": {
       "model_id": "",
       "version_major": 2,
       "version_minor": 0
      },
      "text/plain": [
       "FloatProgress(value=0.0, bar_style='info', description='Progress:', layout=Layout(height='25px', width='50%'),…"
      ]
     },
     "metadata": {},
     "output_type": "display_data"
    }
   ],
   "source": [
    "#countVectors = CountVectorizer(inputCol=\"stemmed\", outputCol=\"features\", vocabSize=10000, minDF=5)"
   ]
  },
  {
   "cell_type": "markdown",
   "id": "82449349-7182-46c5-842d-080cdd46e897",
   "metadata": {},
   "source": [
    "# Pipeline "
   ]
  },
  {
   "cell_type": "code",
   "execution_count": 23,
   "id": "60bffebe-b73b-48a0-afca-a3c720cd83bb",
   "metadata": {
    "execution": {
     "iopub.execute_input": "2022-04-10T03:32:10.722732Z",
     "iopub.status.busy": "2022-04-10T03:32:10.722496Z",
     "iopub.status.idle": "2022-04-10T03:32:10.788286Z",
     "shell.execute_reply": "2022-04-10T03:32:10.787711Z",
     "shell.execute_reply.started": "2022-04-10T03:32:10.722700Z"
    },
    "tags": []
   },
   "outputs": [
    {
     "data": {
      "application/vnd.jupyter.widget-view+json": {
       "model_id": "a8c2181e00264504a741eeb3d7314f52",
       "version_major": 2,
       "version_minor": 0
      },
      "text/plain": [
       "VBox()"
      ]
     },
     "metadata": {},
     "output_type": "display_data"
    },
    {
     "data": {
      "application/vnd.jupyter.widget-view+json": {
       "model_id": "",
       "version_major": 2,
       "version_minor": 0
      },
      "text/plain": [
       "FloatProgress(value=0.0, bar_style='info', description='Progress:', layout=Layout(height='25px', width='50%'),…"
      ]
     },
     "metadata": {},
     "output_type": "display_data"
    }
   ],
   "source": [
    "pipeline  = Pipeline(stages=[rgtoken,stopword_remover,stem2])"
   ]
  },
  {
   "cell_type": "code",
   "execution_count": 24,
   "id": "37180637-6c2b-47af-89ea-5b97638e3702",
   "metadata": {
    "execution": {
     "iopub.execute_input": "2022-04-10T03:32:10.789501Z",
     "iopub.status.busy": "2022-04-10T03:32:10.789241Z",
     "iopub.status.idle": "2022-04-10T03:32:10.845375Z",
     "shell.execute_reply": "2022-04-10T03:32:10.844591Z",
     "shell.execute_reply.started": "2022-04-10T03:32:10.789466Z"
    },
    "tags": []
   },
   "outputs": [
    {
     "data": {
      "application/vnd.jupyter.widget-view+json": {
       "model_id": "e3a3e940e1ce4cf9a0236d0c7baf5e00",
       "version_major": 2,
       "version_minor": 0
      },
      "text/plain": [
       "VBox()"
      ]
     },
     "metadata": {},
     "output_type": "display_data"
    },
    {
     "data": {
      "application/vnd.jupyter.widget-view+json": {
       "model_id": "",
       "version_major": 2,
       "version_minor": 0
      },
      "text/plain": [
       "FloatProgress(value=0.0, bar_style='info', description='Progress:', layout=Layout(height='25px', width='50%'),…"
      ]
     },
     "metadata": {},
     "output_type": "display_data"
    }
   ],
   "source": [
    "processed = pipeline.fit(review_df)"
   ]
  },
  {
   "cell_type": "code",
   "execution_count": 25,
   "id": "f974daef-5a33-4963-b762-9755b1a31eda",
   "metadata": {
    "execution": {
     "iopub.execute_input": "2022-04-10T03:32:10.846643Z",
     "iopub.status.busy": "2022-04-10T03:32:10.846393Z",
     "iopub.status.idle": "2022-04-10T03:32:11.660354Z",
     "shell.execute_reply": "2022-04-10T03:32:11.659753Z",
     "shell.execute_reply.started": "2022-04-10T03:32:10.846608Z"
    },
    "tags": []
   },
   "outputs": [
    {
     "data": {
      "application/vnd.jupyter.widget-view+json": {
       "model_id": "67fb73e9bd624f7587b359d54bce5115",
       "version_major": 2,
       "version_minor": 0
      },
      "text/plain": [
       "VBox()"
      ]
     },
     "metadata": {},
     "output_type": "display_data"
    },
    {
     "data": {
      "application/vnd.jupyter.widget-view+json": {
       "model_id": "",
       "version_major": 2,
       "version_minor": 0
      },
      "text/plain": [
       "FloatProgress(value=0.0, bar_style='info', description='Progress:', layout=Layout(height='25px', width='50%'),…"
      ]
     },
     "metadata": {},
     "output_type": "display_data"
    }
   ],
   "source": [
    "df_train = processed.transform(review_df)"
   ]
  },
  {
   "cell_type": "markdown",
   "id": "bb726458-f2ca-4baa-9ce3-793dead6f03d",
   "metadata": {},
   "source": [
    "# Count Vectorizer"
   ]
  },
  {
   "cell_type": "code",
   "execution_count": 26,
   "id": "efbf64af-ccdd-4bda-8696-bd486215f8e4",
   "metadata": {
    "execution": {
     "iopub.execute_input": "2022-04-10T03:32:11.661453Z",
     "iopub.status.busy": "2022-04-10T03:32:11.661277Z",
     "iopub.status.idle": "2022-04-10T03:42:02.807853Z",
     "shell.execute_reply": "2022-04-10T03:42:02.806942Z",
     "shell.execute_reply.started": "2022-04-10T03:32:11.661430Z"
    },
    "tags": []
   },
   "outputs": [
    {
     "data": {
      "application/vnd.jupyter.widget-view+json": {
       "model_id": "80452d862a8a4e4da3859a27b232c582",
       "version_major": 2,
       "version_minor": 0
      },
      "text/plain": [
       "VBox()"
      ]
     },
     "metadata": {},
     "output_type": "display_data"
    },
    {
     "data": {
      "application/vnd.jupyter.widget-view+json": {
       "model_id": "",
       "version_major": 2,
       "version_minor": 0
      },
      "text/plain": [
       "FloatProgress(value=0.0, bar_style='info', description='Progress:', layout=Layout(height='25px', width='50%'),…"
      ]
     },
     "metadata": {},
     "output_type": "display_data"
    }
   ],
   "source": [
    "cv = CountVectorizer(inputCol=\"stemmed\", outputCol=\"features\", vocabSize=10000, minDF=3.0)\n",
    "cv_model = cv.fit(df_train)\n"
   ]
  },
  {
   "cell_type": "code",
   "execution_count": 27,
   "id": "6115d073-6346-4457-8627-09ba48bdb3eb",
   "metadata": {
    "execution": {
     "iopub.execute_input": "2022-04-10T03:42:08.270022Z",
     "iopub.status.busy": "2022-04-10T03:42:08.269746Z",
     "iopub.status.idle": "2022-04-10T03:42:09.043372Z",
     "shell.execute_reply": "2022-04-10T03:42:09.042761Z",
     "shell.execute_reply.started": "2022-04-10T03:42:08.269993Z"
    },
    "tags": []
   },
   "outputs": [
    {
     "data": {
      "application/vnd.jupyter.widget-view+json": {
       "model_id": "80eddcab15a94695bdd09aebc20b6b49",
       "version_major": 2,
       "version_minor": 0
      },
      "text/plain": [
       "VBox()"
      ]
     },
     "metadata": {},
     "output_type": "display_data"
    },
    {
     "data": {
      "application/vnd.jupyter.widget-view+json": {
       "model_id": "",
       "version_major": 2,
       "version_minor": 0
      },
      "text/plain": [
       "FloatProgress(value=0.0, bar_style='info', description='Progress:', layout=Layout(height='25px', width='50%'),…"
      ]
     },
     "metadata": {},
     "output_type": "display_data"
    }
   ],
   "source": [
    "vectorized_tokens = cv_model.transform(df_train)"
   ]
  },
  {
   "cell_type": "code",
   "execution_count": 28,
   "id": "e679063f-e3d7-438b-abc2-90b5d7ed6197",
   "metadata": {
    "execution": {
     "iopub.execute_input": "2022-04-10T03:42:09.116566Z",
     "iopub.status.busy": "2022-04-10T03:42:09.116347Z",
     "iopub.status.idle": "2022-04-10T03:42:11.417167Z",
     "shell.execute_reply": "2022-04-10T03:42:11.416175Z",
     "shell.execute_reply.started": "2022-04-10T03:42:09.116541Z"
    },
    "tags": []
   },
   "outputs": [
    {
     "data": {
      "application/vnd.jupyter.widget-view+json": {
       "model_id": "a3c46bf0379e48bfb68a2366dcee7247",
       "version_major": 2,
       "version_minor": 0
      },
      "text/plain": [
       "VBox()"
      ]
     },
     "metadata": {},
     "output_type": "display_data"
    },
    {
     "data": {
      "application/vnd.jupyter.widget-view+json": {
       "model_id": "",
       "version_major": 2,
       "version_minor": 0
      },
      "text/plain": [
       "FloatProgress(value=0.0, bar_style='info', description='Progress:', layout=Layout(height='25px', width='50%'),…"
      ]
     },
     "metadata": {},
     "output_type": "display_data"
    },
    {
     "name": "stdout",
     "output_type": "stream",
     "text": [
      "+--------------------+-----+--------------------+--------------------+--------------------+--------------------+\n",
      "|                text|label|               words|            filtered|             stemmed|            features|\n",
      "+--------------------+-----+--------------------+--------------------+--------------------+--------------------+\n",
      "|What a great find...|    0|[what, a, great, ...|[great, piece, po...|[great, piec, por...|(10000,[0,1,5,6,1...|\n",
      "|The only reason I...|    0|[the, only, reaso...|[reason, stars, s...|[reason, star, st...|(10000,[1,7,11,13...|\n",
      "|It s fun that it ...|    0|[it, s, fun, that...|[fun, water, grea...|[fun, water, grea...|(10000,[0,2,6,7,1...|\n",
      "|I ve been to Smit...|    0|[i, ve, been, to,...|[smith, couple, t...|[smith, coupl, ti...|(10000,[0,1,3,4,5...|\n",
      "|We do love the fo...|    0|[we, do, love, th...|[love, food, remi...|[love, food, remi...|(10000,[0,11,16,4...|\n",
      "|This place was al...|    0|[this, place, was...|[place, alright, ...|[place, alright, ...|(10000,[0,1,2,6,1...|\n",
      "|Nice shopping exp...|    0|[nice, shopping, ...|[nice, shopping, ...|[nice, shop, expe...|(10000,[0,9,10,18...|\n",
      "|How do you downgr...|    0|[how, do, you, do...|[downgrade, laund...|[downgrad, laundr...|(10000,[3,11,15,2...|\n",
      "|Really fun place ...|    0|[really, fun, pla...|[fun, place, uniq...|[fun, place, uniq...|(10000,[2,5,14,73...|\n",
      "|Fresh OJ     The ...|    0|[fresh, oj, the, ...|[fresh, chorizo, ...|[fresh, chorizo, ...|(10000,[1,28,74,1...|\n",
      "|This cafe is so c...|    0|[this, cafe, is, ...|[cafe, cute, serv...|[cafe, cute, serv...|(10000,[5,45,73,4...|\n",
      "|Eb   Bean serves ...|    0|[eb, bean, serves...|[eb, bean, serves...|[eb, bean, serv, ...|(10000,[1,42,45,6...|\n",
      "|I get it   capita...|    0|[i, get, it, capi...|[capitalism, comp...|[capit, competit,...|(10000,[0,4,5,7,8...|\n",
      "|Food was good but...|    0|[food, was, good,...|[food, good, abso...|[food, good, abso...|(10000,[0,1,5,7,3...|\n",
      "|Theres not a lot ...|    0|[theres, not, a, ...|[lot, record, sto...|[lot, record, sto...|(10000,[2,10,34,7...|\n",
      "|Best place we ate...|    0|[best, place, we,...|[place, ate, visi...|[place, ate, visi...|(10000,[0,2,3,8,3...|\n",
      "|I m a froyo lover...|    0|[i, m, a, froyo, ...|[froyo, lover, ha...|[froyo, lover, ha...|(10000,[1,42,62,2...|\n",
      "|Great staff  Non ...|    0|[great, staff, no...|[great, staff, gr...|[great, staff, gr...|(10000,[0,6,19,13...|\n",
      "|If you want to be...|    1|[if, you, want, t...|[scalped, barber,...|[scalp, barber, l...|(10000,[2,366,692...|\n",
      "|My husband and I ...|    0|[my, husband, and...|[husband, ordered...|[husband, order, ...|(10000,[1,3,4,11,...|\n",
      "+--------------------+-----+--------------------+--------------------+--------------------+--------------------+\n",
      "only showing top 20 rows"
     ]
    }
   ],
   "source": [
    "vectorized_tokens.show()"
   ]
  },
  {
   "cell_type": "code",
   "execution_count": null,
   "id": "03c0a08d-c3d1-4c31-b16a-cbabb4efd2c5",
   "metadata": {
    "execution": {
     "iopub.status.busy": "2022-04-07T15:09:38.275843Z",
     "iopub.status.idle": "2022-04-07T15:09:38.276303Z",
     "shell.execute_reply": "2022-04-07T15:09:38.276068Z"
    },
    "tags": []
   },
   "outputs": [],
   "source": [
    "#df_train.write.parquet(\"s3://mukeshproj/Topic_modelling_pipeline_backup/topic_modelling_parquet_pipeline/shrink_data_piprline_backup\")"
   ]
  },
  {
   "cell_type": "code",
   "execution_count": 30,
   "id": "7d99bff0-ab19-4947-9641-bb89b4414a9f",
   "metadata": {
    "execution": {
     "iopub.execute_input": "2022-04-10T03:42:56.119914Z",
     "iopub.status.busy": "2022-04-10T03:42:56.119678Z",
     "iopub.status.idle": "2022-04-10T03:42:56.172737Z",
     "shell.execute_reply": "2022-04-10T03:42:56.172244Z",
     "shell.execute_reply.started": "2022-04-10T03:42:56.119889Z"
    },
    "tags": []
   },
   "outputs": [
    {
     "data": {
      "application/vnd.jupyter.widget-view+json": {
       "model_id": "0079a5a5dbcf42f9876698e3a8492e52",
       "version_major": 2,
       "version_minor": 0
      },
      "text/plain": [
       "VBox()"
      ]
     },
     "metadata": {},
     "output_type": "display_data"
    },
    {
     "data": {
      "application/vnd.jupyter.widget-view+json": {
       "model_id": "",
       "version_major": 2,
       "version_minor": 0
      },
      "text/plain": [
       "FloatProgress(value=0.0, bar_style='info', description='Progress:', layout=Layout(height='25px', width='50%'),…"
      ]
     },
     "metadata": {},
     "output_type": "display_data"
    }
   ],
   "source": [
    "#df_train= spark.read.parquet(\"s3://mukeshproj/Topic_modelling_pipeline_backup/topic_modelling_parquet_pipeline/shrink_data_piprline_backup\")"
   ]
  },
  {
   "cell_type": "code",
   "execution_count": 29,
   "id": "c68a3c1e-8ecd-4f4e-87d5-59b4d48955a2",
   "metadata": {
    "execution": {
     "iopub.execute_input": "2022-04-10T03:42:17.907032Z",
     "iopub.status.busy": "2022-04-10T03:42:17.906678Z",
     "iopub.status.idle": "2022-04-10T03:42:17.978372Z",
     "shell.execute_reply": "2022-04-10T03:42:17.977532Z",
     "shell.execute_reply.started": "2022-04-10T03:42:17.906990Z"
    },
    "tags": []
   },
   "outputs": [
    {
     "data": {
      "application/vnd.jupyter.widget-view+json": {
       "model_id": "c0ffd842391a419da96d60a9080750cc",
       "version_major": 2,
       "version_minor": 0
      },
      "text/plain": [
       "VBox()"
      ]
     },
     "metadata": {},
     "output_type": "display_data"
    },
    {
     "data": {
      "application/vnd.jupyter.widget-view+json": {
       "model_id": "",
       "version_major": 2,
       "version_minor": 0
      },
      "text/plain": [
       "FloatProgress(value=0.0, bar_style='info', description='Progress:', layout=Layout(height='25px', width='50%'),…"
      ]
     },
     "metadata": {},
     "output_type": "display_data"
    }
   ],
   "source": [
    "vectorized_tokens= vectorized_tokens.select(\"stemmed\",\"features\")"
   ]
  },
  {
   "cell_type": "code",
   "execution_count": 31,
   "id": "bd1330ef-4cdd-4bf9-8a41-1af6b5605877",
   "metadata": {
    "execution": {
     "iopub.execute_input": "2022-04-10T03:43:01.516570Z",
     "iopub.status.busy": "2022-04-10T03:43:01.516351Z",
     "iopub.status.idle": "2022-04-10T03:43:02.788389Z",
     "shell.execute_reply": "2022-04-10T03:43:02.787719Z",
     "shell.execute_reply.started": "2022-04-10T03:43:01.516546Z"
    },
    "tags": []
   },
   "outputs": [
    {
     "data": {
      "application/vnd.jupyter.widget-view+json": {
       "model_id": "5eb74870ec064b9cbbcac8dce39f6af5",
       "version_major": 2,
       "version_minor": 0
      },
      "text/plain": [
       "VBox()"
      ]
     },
     "metadata": {},
     "output_type": "display_data"
    },
    {
     "data": {
      "application/vnd.jupyter.widget-view+json": {
       "model_id": "",
       "version_major": 2,
       "version_minor": 0
      },
      "text/plain": [
       "FloatProgress(value=0.0, bar_style='info', description='Progress:', layout=Layout(height='25px', width='50%'),…"
      ]
     },
     "metadata": {},
     "output_type": "display_data"
    },
    {
     "name": "stdout",
     "output_type": "stream",
     "text": [
      "+--------------------+--------------------+\n",
      "|             stemmed|            features|\n",
      "+--------------------+--------------------+\n",
      "|[great, piec, por...|(10000,[0,1,5,6,1...|\n",
      "|[reason, star, st...|(10000,[1,7,11,13...|\n",
      "|[fun, water, grea...|(10000,[0,2,6,7,1...|\n",
      "|[smith, coupl, ti...|(10000,[0,1,3,4,5...|\n",
      "|[love, food, remi...|(10000,[0,11,16,4...|\n",
      "+--------------------+--------------------+\n",
      "only showing top 5 rows"
     ]
    }
   ],
   "source": [
    "vectorized_tokens.show(5)"
   ]
  },
  {
   "cell_type": "code",
   "execution_count": 32,
   "id": "0e583d75-fd5a-4142-8e7b-e266c000d618",
   "metadata": {
    "execution": {
     "iopub.execute_input": "2022-04-10T03:43:09.410108Z",
     "iopub.status.busy": "2022-04-10T03:43:09.409869Z",
     "iopub.status.idle": "2022-04-10T03:43:09.681988Z",
     "shell.execute_reply": "2022-04-10T03:43:09.681176Z",
     "shell.execute_reply.started": "2022-04-10T03:43:09.410082Z"
    },
    "tags": []
   },
   "outputs": [
    {
     "data": {
      "application/vnd.jupyter.widget-view+json": {
       "model_id": "a208481bc38f416faf0476a337628006",
       "version_major": 2,
       "version_minor": 0
      },
      "text/plain": [
       "VBox()"
      ]
     },
     "metadata": {},
     "output_type": "display_data"
    },
    {
     "data": {
      "application/vnd.jupyter.widget-view+json": {
       "model_id": "",
       "version_major": 2,
       "version_minor": 0
      },
      "text/plain": [
       "FloatProgress(value=0.0, bar_style='info', description='Progress:', layout=Layout(height='25px', width='50%'),…"
      ]
     },
     "metadata": {},
     "output_type": "display_data"
    },
    {
     "name": "stdout",
     "output_type": "stream",
     "text": [
      "14"
     ]
    }
   ],
   "source": [
    "vectorized_tokens.rdd.getNumPartitions()"
   ]
  },
  {
   "cell_type": "code",
   "execution_count": 33,
   "id": "2851b831-cffd-4332-b07e-a03c5bea6fe4",
   "metadata": {
    "execution": {
     "iopub.execute_input": "2022-04-10T03:43:12.407063Z",
     "iopub.status.busy": "2022-04-10T03:43:12.406845Z",
     "iopub.status.idle": "2022-04-10T03:43:12.687274Z",
     "shell.execute_reply": "2022-04-10T03:43:12.686520Z",
     "shell.execute_reply.started": "2022-04-10T03:43:12.407039Z"
    },
    "tags": []
   },
   "outputs": [
    {
     "data": {
      "application/vnd.jupyter.widget-view+json": {
       "model_id": "6e9ebaf2db6b4113933353cd382df948",
       "version_major": 2,
       "version_minor": 0
      },
      "text/plain": [
       "VBox()"
      ]
     },
     "metadata": {},
     "output_type": "display_data"
    },
    {
     "data": {
      "application/vnd.jupyter.widget-view+json": {
       "model_id": "",
       "version_major": 2,
       "version_minor": 0
      },
      "text/plain": [
       "FloatProgress(value=0.0, bar_style='info', description='Progress:', layout=Layout(height='25px', width='50%'),…"
      ]
     },
     "metadata": {},
     "output_type": "display_data"
    }
   ],
   "source": [
    "vectorized_tokens=vectorized_tokens.cache()"
   ]
  },
  {
   "cell_type": "code",
   "execution_count": 34,
   "id": "18206584-de20-4efd-a856-f1c05ae23c36",
   "metadata": {
    "execution": {
     "iopub.execute_input": "2022-04-10T03:43:13.824304Z",
     "iopub.status.busy": "2022-04-10T03:43:13.823973Z",
     "iopub.status.idle": "2022-04-10T03:43:13.896815Z",
     "shell.execute_reply": "2022-04-10T03:43:13.896099Z",
     "shell.execute_reply.started": "2022-04-10T03:43:13.824263Z"
    },
    "tags": []
   },
   "outputs": [
    {
     "data": {
      "application/vnd.jupyter.widget-view+json": {
       "model_id": "e4f571b51ee44082b1d127096e6e7b11",
       "version_major": 2,
       "version_minor": 0
      },
      "text/plain": [
       "VBox()"
      ]
     },
     "metadata": {},
     "output_type": "display_data"
    },
    {
     "data": {
      "application/vnd.jupyter.widget-view+json": {
       "model_id": "",
       "version_major": 2,
       "version_minor": 0
      },
      "text/plain": [
       "FloatProgress(value=0.0, bar_style='info', description='Progress:', layout=Layout(height='25px', width='50%'),…"
      ]
     },
     "metadata": {},
     "output_type": "display_data"
    }
   ],
   "source": [
    "vectorized_tokens=vectorized_tokens.repartition(20000)"
   ]
  },
  {
   "cell_type": "markdown",
   "id": "b0431729-f8e0-4e70-82fe-1f01863d5efd",
   "metadata": {},
   "source": [
    "# LDA Model"
   ]
  },
  {
   "cell_type": "code",
   "execution_count": 35,
   "id": "c1ab1480-5187-44a4-8e2a-1841dbea4e5d",
   "metadata": {
    "execution": {
     "iopub.execute_input": "2022-04-10T03:44:00.501165Z",
     "iopub.status.busy": "2022-04-10T03:44:00.500941Z",
     "iopub.status.idle": "2022-04-10T03:44:00.759493Z",
     "shell.execute_reply": "2022-04-10T03:44:00.758815Z",
     "shell.execute_reply.started": "2022-04-10T03:44:00.501141Z"
    },
    "tags": []
   },
   "outputs": [
    {
     "data": {
      "application/vnd.jupyter.widget-view+json": {
       "model_id": "7b04c98b81d24b6ea8c9a17e59c1361c",
       "version_major": 2,
       "version_minor": 0
      },
      "text/plain": [
       "VBox()"
      ]
     },
     "metadata": {},
     "output_type": "display_data"
    },
    {
     "data": {
      "application/vnd.jupyter.widget-view+json": {
       "model_id": "",
       "version_major": 2,
       "version_minor": 0
      },
      "text/plain": [
       "FloatProgress(value=0.0, bar_style='info', description='Progress:', layout=Layout(height='25px', width='50%'),…"
      ]
     },
     "metadata": {},
     "output_type": "display_data"
    }
   ],
   "source": [
    "from pyspark.ml.clustering import LDA\n",
    "num_topics = 10\n",
    "lda = LDA(k=num_topics, maxIter=10,checkpointInterval = 2,learningDecay=0.1,optimizer='online')"
   ]
  },
  {
   "cell_type": "code",
   "execution_count": 36,
   "id": "4264a621-e576-411a-a97c-9db2eaad3e0f",
   "metadata": {
    "execution": {
     "iopub.execute_input": "2022-04-10T03:44:05.736652Z",
     "iopub.status.busy": "2022-04-10T03:44:05.736422Z",
     "iopub.status.idle": "2022-04-10T04:08:26.511489Z",
     "shell.execute_reply": "2022-04-10T04:08:26.510789Z",
     "shell.execute_reply.started": "2022-04-10T03:44:05.736626Z"
    },
    "tags": []
   },
   "outputs": [
    {
     "data": {
      "application/vnd.jupyter.widget-view+json": {
       "model_id": "53209f9f4e6341c69739f2424a5cd328",
       "version_major": 2,
       "version_minor": 0
      },
      "text/plain": [
       "VBox()"
      ]
     },
     "metadata": {},
     "output_type": "display_data"
    },
    {
     "data": {
      "application/vnd.jupyter.widget-view+json": {
       "model_id": "",
       "version_major": 2,
       "version_minor": 0
      },
      "text/plain": [
       "FloatProgress(value=0.0, bar_style='info', description='Progress:', layout=Layout(height='25px', width='50%'),…"
      ]
     },
     "metadata": {},
     "output_type": "display_data"
    }
   ],
   "source": [
    "model = lda.fit(vectorized_tokens)"
   ]
  },
  {
   "cell_type": "code",
   "execution_count": null,
   "id": "ca1582d5-6c28-43c4-aa08-4e1e8199bfc5",
   "metadata": {
    "execution": {
     "iopub.execute_input": "2022-04-10T04:18:22.211008Z",
     "iopub.status.busy": "2022-04-10T04:18:22.210775Z",
     "iopub.status.idle": "2022-04-10T05:15:32.665037Z"
    },
    "tags": []
   },
   "outputs": [
    {
     "data": {
      "application/vnd.jupyter.widget-view+json": {
       "model_id": "57626d0afba9490f9d39f2184dea61d2",
       "version_major": 2,
       "version_minor": 0
      },
      "text/plain": [
       "VBox()"
      ]
     },
     "metadata": {},
     "output_type": "display_data"
    },
    {
     "data": {
      "application/vnd.jupyter.widget-view+json": {
       "model_id": "",
       "version_major": 2,
       "version_minor": 0
      },
      "text/plain": [
       "FloatProgress(value=0.0, bar_style='info', description='Progress:', layout=Layout(height='25px', width='50%'),…"
      ]
     },
     "metadata": {},
     "output_type": "display_data"
    },
    {
     "name": "stdout",
     "output_type": "stream",
     "text": [
      "The lower bound on the log likelihood of the entire corpus: -1100037273.3025417\n",
      "The upper bound on perplexity: 7.211088494661005"
     ]
    }
   ],
   "source": [
    "ll = model.logLikelihood(vectorized_tokens)\n",
    "lp = model.logPerplexity(vectorized_tokens)\n",
    "print(\"The lower bound on the log likelihood of the entire corpus: \" + str(ll))\n",
    "print(\"The upper bound on perplexity: \" + str(lp))"
   ]
  },
  {
   "cell_type": "markdown",
   "id": "1a467845-7e32-481e-a727-60d987c08c6d",
   "metadata": {},
   "source": [
    "# Top 10 words in each topics"
   ]
  },
  {
   "cell_type": "code",
   "execution_count": 44,
   "id": "d5f86246-7a2f-41c2-9bfe-45c3f0098a03",
   "metadata": {
    "execution": {
     "iopub.execute_input": "2022-04-10T04:12:03.387038Z",
     "iopub.status.busy": "2022-04-10T04:12:03.386813Z",
     "iopub.status.idle": "2022-04-10T04:12:04.158314Z",
     "shell.execute_reply": "2022-04-10T04:12:04.157646Z",
     "shell.execute_reply.started": "2022-04-10T04:12:03.387013Z"
    },
    "tags": []
   },
   "outputs": [
    {
     "data": {
      "application/vnd.jupyter.widget-view+json": {
       "model_id": "e88a5bb0b4bf4d81bbbc0f0b34b2c395",
       "version_major": 2,
       "version_minor": 0
      },
      "text/plain": [
       "VBox()"
      ]
     },
     "metadata": {},
     "output_type": "display_data"
    },
    {
     "data": {
      "application/vnd.jupyter.widget-view+json": {
       "model_id": "",
       "version_major": 2,
       "version_minor": 0
      },
      "text/plain": [
       "FloatProgress(value=0.0, bar_style='info', description='Progress:', layout=Layout(height='25px', width='50%'),…"
      ]
     },
     "metadata": {},
     "output_type": "display_data"
    },
    {
     "name": "stdout",
     "output_type": "stream",
     "text": [
      "topic: 0\n",
      "*************************\n",
      "pizza order sandwich good place burger chees time dog slice \n",
      "\n",
      "*************************\n",
      "topic: 1\n",
      "*************************\n",
      "food place good great servic bar drink time beer nice \n",
      "\n",
      "*************************\n",
      "topic: 2\n",
      "*************************\n",
      "food good place order roll sushi restaur dish rice great \n",
      "\n",
      "*************************\n",
      "topic: 3\n",
      "*************************\n",
      "good chicken order food fri salad sauc tast place chees \n",
      "\n",
      "*************************\n",
      "topic: 4\n",
      "*************************\n",
      "good place coffe great love food flavor delici ice cream \n",
      "\n",
      "*************************\n",
      "topic: 5\n",
      "*************************\n",
      "time custom servic told call manag work day ask phone \n",
      "\n",
      "*************************\n",
      "topic: 6\n",
      "*************************\n",
      "room hotel clean stay place nice locat time staff park \n",
      "\n",
      "*************************\n",
      "topic: 7\n",
      "*************************\n",
      "place park great time store peopl love lot good price \n",
      "\n",
      "*************************\n",
      "topic: 8\n",
      "*************************\n",
      "car time work hair servic great appoint day experi recommend \n",
      "\n",
      "*************************\n",
      "topic: 9\n",
      "*************************\n",
      "order food wait tabl time minut servic server restaur drink \n",
      "\n",
      "*************************"
     ]
    }
   ],
   "source": [
    "# extract vocabulary from CountVectorizer\n",
    "vocab = cv_model.vocabulary\n",
    "topics = model.describeTopics()   \n",
    "topics_rdd = topics.rdd\n",
    "topics_words = topics_rdd\\\n",
    "       .map(lambda row: row['termIndices'])\\\n",
    "       .map(lambda idx_list: [vocab[idx] for idx in idx_list])\\\n",
    "       .collect()\n",
    "for idx, topic in enumerate(topics_words):\n",
    "    print(\"topic: {}\".format(idx))\n",
    "    print(\"*\"*25)\n",
    "    for word in topic:\n",
    "        print(word,end=\" \")\n",
    "    print(\"\\n\")\n",
    "    print(\"*\"*25)"
   ]
  },
  {
   "cell_type": "markdown",
   "id": "af4e0028",
   "metadata": {},
   "source": [
    "# top 20 words in 10 topics"
   ]
  },
  {
   "cell_type": "code",
   "execution_count": 52,
   "id": "679227b7-d30d-4e26-8acf-23891febf3c4",
   "metadata": {
    "execution": {
     "iopub.execute_input": "2022-04-10T04:13:29.126521Z",
     "iopub.status.busy": "2022-04-10T04:13:29.126287Z",
     "iopub.status.idle": "2022-04-10T04:13:29.410233Z",
     "shell.execute_reply": "2022-04-10T04:13:29.409451Z",
     "shell.execute_reply.started": "2022-04-10T04:13:29.126496Z"
    },
    "scrolled": true,
    "tags": []
   },
   "outputs": [
    {
     "data": {
      "application/vnd.jupyter.widget-view+json": {
       "model_id": "e6d1d19a59694a01b2bb4e300d55db5e",
       "version_major": 2,
       "version_minor": 0
      },
      "text/plain": [
       "VBox()"
      ]
     },
     "metadata": {},
     "output_type": "display_data"
    },
    {
     "data": {
      "application/vnd.jupyter.widget-view+json": {
       "model_id": "",
       "version_major": 2,
       "version_minor": 0
      },
      "text/plain": [
       "FloatProgress(value=0.0, bar_style='info', description='Progress:', layout=Layout(height='25px', width='50%'),…"
      ]
     },
     "metadata": {},
     "output_type": "display_data"
    },
    {
     "name": "stdout",
     "output_type": "stream",
     "text": [
      "The topics describe by their top-weighted terms:\n",
      "+-----+---------------------------------------------------------------------------------+----------------------------------------------------------------------------------------------------------------------------------------------------------------------------------------------------------------------------------------------------------------------------------------------------------------------------------------------------------------------------------------------------------------------------------------------------------+\n",
      "|topic|termIndices                                                                      |termWeights                                                                                                                                                                                                                                                                                                                                                                                                                                               |\n",
      "+-----+---------------------------------------------------------------------------------+----------------------------------------------------------------------------------------------------------------------------------------------------------------------------------------------------------------------------------------------------------------------------------------------------------------------------------------------------------------------------------------------------------------------------------------------------------+\n",
      "|0    |[47, 4, 84, 1, 2, 70, 59, 3, 202, 318, 26, 0, 6, 509, 11, 27, 21, 501, 306, 239] |[0.038915259317105516, 0.02501453093710473, 0.015049471619282547, 0.014994880798905694, 0.01435671768558332, 0.014262533518589993, 0.012866813035015252, 0.012230503626738061, 0.0091671359911368, 0.006663043530883554, 0.006412477639409061, 0.006389320264650595, 0.006005271531879518, 0.0056993013445293715, 0.005622957822442367, 0.005457033714290346, 0.005353326500030113, 0.004961862667822555, 0.00463711189302199, 0.004600323692101706]      |\n",
      "|1    |[0, 2, 1, 6, 5, 32, 14, 3, 80, 9, 23, 8, 39, 10, 13, 4, 19, 41, 26, 136]         |[0.04227084236237723, 0.03393590251866458, 0.027765225117901794, 0.0185062738232257, 0.01746918576491558, 0.015567191883126826, 0.014877356672910685, 0.0145696486073026, 0.010176292830350245, 0.008319241639731594, 0.007956698031734044, 0.007676333008160599, 0.007614313802565144, 0.006940872880297521, 0.0065092992318119556, 0.005993028640909437, 0.005981734602206701, 0.005899192033554974, 0.005772044215740021, 0.00574549095406835]         |\n",
      "|2    |[0, 1, 2, 4, 107, 152, 8, 48, 111, 6, 235, 5, 140, 10, 21, 309, 16, 3, 43, 184]  |[0.02482298573587543, 0.018841709716937004, 0.017836304198355205, 0.013722957862939467, 0.013022043030215457, 0.012961860951607125, 0.011569790057269309, 0.01134677454411113, 0.01055669626312337, 0.009955848024472622, 0.009170850097295234, 0.008986691521762655, 0.008756456760267388, 0.008098716037860765, 0.007975593311853595, 0.007479310172442301, 0.007384820677282702, 0.007337406578226943, 0.006539626476810541, 0.0065389772592670614]    |\n",
      "|3    |[1, 16, 4, 0, 27, 67, 43, 21, 2, 59, 6, 8, 48, 42, 24, 54, 93, 178, 5, 9]        |[0.019134094169631466, 0.01867318270535182, 0.015676363067917243, 0.014895110214789868, 0.013781161483764879, 0.010818412570243135, 0.010193662951831316, 0.008505933966269088, 0.00804052815312703, 0.0075735049398494075, 0.007392760840767498, 0.006955864964958537, 0.00690064319648603, 0.006847228005100666, 0.0063710076824842555, 0.006348196748409642, 0.005726979545328772, 0.005615124412949056, 0.005557879974961275, 0.005432400013021661]   |\n",
      "|4    |[1, 2, 91, 6, 11, 0, 42, 45, 151, 165, 189, 21, 102, 154, 3, 285, 9, 35, 135, 4] |[0.018114071147764796, 0.017101887266504124, 0.013313484752113351, 0.012659853182717333, 0.010571460832419262, 0.00979910846805185, 0.009332585990116873, 0.00879861079480983, 0.008753277438985546, 0.008365685275368361, 0.007619731986486165, 0.007472689937405088, 0.007240917048731516, 0.006719587813835851, 0.006094944816796615, 0.005840059491841935, 0.005746677140764083, 0.005599463786841326, 0.005572466852896308, 0.005415901639274282]    |\n",
      "|5    |[3, 25, 5, 29, 63, 53, 15, 12, 33, 157, 38, 231, 13, 153, 2, 7, 22, 72, 78, 112] |[0.016099235737807374, 0.014910673652841802, 0.013618473528827175, 0.011211504082559203, 0.009737242035655111, 0.008622941333611875, 0.00797714092171068, 0.007950170552041348, 0.007767242783695711, 0.006598420735713244, 0.006464394379427267, 0.006352983703499218, 0.0063359074916837, 0.006326124125191413, 0.00617202693780242, 0.006044360676339904, 0.005669559446824714, 0.005549108858379954, 0.005424620264853389, 0.005374353707819535]      |\n",
      "|6    |[56, 190, 75, 131, 2, 9, 30, 3, 19, 60, 39, 401, 301, 72, 49, 12, 534, 44, 1, 52]|[0.028618664200517445, 0.016744682510495566, 0.015242535090791565, 0.013592394885028527, 0.008158097492092562, 0.007907005133882948, 0.007813653616606662, 0.007470339042819887, 0.007414599079856126, 0.007060575434452947, 0.006320958032012085, 0.006234697243568253, 0.006172208001398092, 0.0060722149020260964, 0.006022488728539118, 0.005891027569442247, 0.005686341945446041, 0.005593034267812459, 0.005565959760944756, 0.0054124596476837206]|\n",
      "|7    |[2, 60, 6, 3, 72, 13, 11, 34, 1, 10, 46, 52, 20, 103, 9, 15, 163, 12, 418, 19]   |[0.010613844953687843, 0.009767741668330663, 0.009038751384381694, 0.008681923580341496, 0.006722144078700983, 0.006622314313329671, 0.006197975336872721, 0.006131379665598283, 0.005972334949544864, 0.005461237124251675, 0.00519889849445346, 0.004794454500017751, 0.004786014580576625, 0.004538428767432251, 0.004421587290183575, 0.0042732794218477655, 0.004255715612806803, 0.0042096177420738535, 0.0041547355685411175, 0.004082560807391409]|\n",
      "|8    |[71, 3, 15, 172, 5, 6, 221, 12, 18, 40, 29, 46, 1, 99, 63, 10, 180, 2, 161, 37]  |[0.01739083276162294, 0.015522968216277295, 0.010769628898330191, 0.010719398367768244, 0.01051514739998706, 0.008543263377464052, 0.008222547522934201, 0.0080908235912477, 0.007132805359381385, 0.007111040614071506, 0.006150143593542235, 0.005771043821622704, 0.005750755588436662, 0.005693915731016125, 0.005489755275807619, 0.005375833216649657, 0.005302669732895582, 0.00524879474517201, 0.004749321342070889, 0.004491749560715495]       |\n",
      "|9    |[4, 0, 7, 17, 3, 22, 5, 64, 8, 14, 55, 33, 122, 1, 2, 18, 24, 186, 54, 114]      |[0.029483078700511686, 0.02840374138766673, 0.023623342143738617, 0.02213334919091387, 0.016919621741971317, 0.015848386185442532, 0.015176140576277596, 0.012551271835045046, 0.01223621225099999, 0.012154631915785469, 0.010670061991410573, 0.009090693398360819, 0.008601819823915436, 0.008429529006548475, 0.007942750141138787, 0.0067706365267737045, 0.006620389194224561, 0.006439731575951032, 0.006424823162039807, 0.006046864506456345]    |\n",
      "+-----+---------------------------------------------------------------------------------+----------------------------------------------------------------------------------------------------------------------------------------------------------------------------------------------------------------------------------------------------------------------------------------------------------------------------------------------------------------------------------------------------------------------------------------------------------+"
     ]
    }
   ],
   "source": [
    "topicswords=20\n",
    "topics=model.describeTopics(topicswords)\n",
    "print(\"The topics describe by their top-weighted terms:\")\n",
    "topics.show(truncate=False)"
   ]
  },
  {
   "cell_type": "code",
   "execution_count": 53,
   "id": "1742d21c-9299-407f-8cf3-e0deee2c2f71",
   "metadata": {
    "execution": {
     "iopub.execute_input": "2022-04-10T04:13:31.061125Z",
     "iopub.status.busy": "2022-04-10T04:13:31.060891Z",
     "iopub.status.idle": "2022-04-10T04:13:31.403607Z",
     "shell.execute_reply": "2022-04-10T04:13:31.402577Z",
     "shell.execute_reply.started": "2022-04-10T04:13:31.061101Z"
    },
    "tags": []
   },
   "outputs": [
    {
     "data": {
      "application/vnd.jupyter.widget-view+json": {
       "model_id": "556f9f241cbb428bae082fa5ae2c6236",
       "version_major": 2,
       "version_minor": 0
      },
      "text/plain": [
       "VBox()"
      ]
     },
     "metadata": {},
     "output_type": "display_data"
    },
    {
     "data": {
      "application/vnd.jupyter.widget-view+json": {
       "model_id": "",
       "version_major": 2,
       "version_minor": 0
      },
      "text/plain": [
       "FloatProgress(value=0.0, bar_style='info', description='Progress:', layout=Layout(height='25px', width='50%'),…"
      ]
     },
     "metadata": {},
     "output_type": "display_data"
    }
   ],
   "source": [
    "tRDD=topics.rdd.map(list)"
   ]
  },
  {
   "cell_type": "code",
   "execution_count": 54,
   "id": "864daceb-809c-4186-91ec-a5a376b66c36",
   "metadata": {
    "execution": {
     "iopub.execute_input": "2022-04-10T04:13:47.576183Z",
     "iopub.status.busy": "2022-04-10T04:13:47.575874Z",
     "iopub.status.idle": "2022-04-10T04:13:47.640765Z",
     "shell.execute_reply": "2022-04-10T04:13:47.640204Z",
     "shell.execute_reply.started": "2022-04-10T04:13:47.576147Z"
    },
    "tags": []
   },
   "outputs": [
    {
     "data": {
      "application/vnd.jupyter.widget-view+json": {
       "model_id": "8b1640e6540449ed93c302e333ab6a7e",
       "version_major": 2,
       "version_minor": 0
      },
      "text/plain": [
       "VBox()"
      ]
     },
     "metadata": {},
     "output_type": "display_data"
    },
    {
     "data": {
      "application/vnd.jupyter.widget-view+json": {
       "model_id": "",
       "version_major": 2,
       "version_minor": 0
      },
      "text/plain": [
       "FloatProgress(value=0.0, bar_style='info', description='Progress:', layout=Layout(height='25px', width='50%'),…"
      ]
     },
     "metadata": {},
     "output_type": "display_data"
    },
    {
     "name": "stdout",
     "output_type": "stream",
     "text": [
      "root\n",
      " |-- topic: integer (nullable = false)\n",
      " |-- termIndices: array (nullable = true)\n",
      " |    |-- element: integer (containsNull = false)\n",
      " |-- termWeights: array (nullable = true)\n",
      " |    |-- element: double (containsNull = false)"
     ]
    }
   ],
   "source": [
    "topics.printSchema()"
   ]
  },
  {
   "cell_type": "code",
   "execution_count": 55,
   "id": "0b4c0185-c660-4033-8373-4e1541206c0b",
   "metadata": {
    "execution": {
     "iopub.execute_input": "2022-04-10T04:13:49.035705Z",
     "iopub.status.busy": "2022-04-10T04:13:49.035481Z",
     "iopub.status.idle": "2022-04-10T04:13:49.317357Z",
     "shell.execute_reply": "2022-04-10T04:13:49.316692Z",
     "shell.execute_reply.started": "2022-04-10T04:13:49.035681Z"
    },
    "tags": []
   },
   "outputs": [
    {
     "data": {
      "application/vnd.jupyter.widget-view+json": {
       "model_id": "1074add47a2340be8f165a9982b781a9",
       "version_major": 2,
       "version_minor": 0
      },
      "text/plain": [
       "VBox()"
      ]
     },
     "metadata": {},
     "output_type": "display_data"
    },
    {
     "data": {
      "application/vnd.jupyter.widget-view+json": {
       "model_id": "",
       "version_major": 2,
       "version_minor": 0
      },
      "text/plain": [
       "FloatProgress(value=0.0, bar_style='info', description='Progress:', layout=Layout(height='25px', width='50%'),…"
      ]
     },
     "metadata": {},
     "output_type": "display_data"
    },
    {
     "name": "stdout",
     "output_type": "stream",
     "text": [
      "[[0, [47, 4, 84, 1, 2, 70, 59, 3, 202, 318, 26, 0, 6, 509, 11, 27, 21, 501, 306, 239], [0.038915259317105516, 0.02501453093710473, 0.015049471619282547, 0.014994880798905694, 0.01435671768558332, 0.014262533518589993, 0.012866813035015252, 0.012230503626738061, 0.0091671359911368, 0.006663043530883554, 0.006412477639409061, 0.006389320264650595, 0.006005271531879518, 0.0056993013445293715, 0.005622957822442367, 0.005457033714290346, 0.005353326500030113, 0.004961862667822555, 0.00463711189302199, 0.004600323692101706]], [1, [0, 2, 1, 6, 5, 32, 14, 3, 80, 9, 23, 8, 39, 10, 13, 4, 19, 41, 26, 136], [0.04227084236237723, 0.03393590251866458, 0.027765225117901794, 0.0185062738232257, 0.01746918576491558, 0.015567191883126826, 0.014877356672910685, 0.0145696486073026, 0.010176292830350245, 0.008319241639731594, 0.007956698031734044, 0.007676333008160599, 0.007614313802565144, 0.006940872880297521, 0.0065092992318119556, 0.005993028640909437, 0.005981734602206701, 0.005899192033554974, 0.005772044215740021, 0.00574549095406835]], [2, [0, 1, 2, 4, 107, 152, 8, 48, 111, 6, 235, 5, 140, 10, 21, 309, 16, 3, 43, 184], [0.02482298573587543, 0.018841709716937004, 0.017836304198355205, 0.013722957862939467, 0.013022043030215457, 0.012961860951607125, 0.011569790057269309, 0.01134677454411113, 0.01055669626312337, 0.009955848024472622, 0.009170850097295234, 0.008986691521762655, 0.008756456760267388, 0.008098716037860765, 0.007975593311853595, 0.007479310172442301, 0.007384820677282702, 0.007337406578226943, 0.006539626476810541, 0.0065389772592670614]], [3, [1, 16, 4, 0, 27, 67, 43, 21, 2, 59, 6, 8, 48, 42, 24, 54, 93, 178, 5, 9], [0.019134094169631466, 0.01867318270535182, 0.015676363067917243, 0.014895110214789868, 0.013781161483764879, 0.010818412570243135, 0.010193662951831316, 0.008505933966269088, 0.00804052815312703, 0.0075735049398494075, 0.007392760840767498, 0.006955864964958537, 0.00690064319648603, 0.006847228005100666, 0.0063710076824842555, 0.006348196748409642, 0.005726979545328772, 0.005615124412949056, 0.005557879974961275, 0.005432400013021661]], [4, [1, 2, 91, 6, 11, 0, 42, 45, 151, 165, 189, 21, 102, 154, 3, 285, 9, 35, 135, 4], [0.018114071147764796, 0.017101887266504124, 0.013313484752113351, 0.012659853182717333, 0.010571460832419262, 0.00979910846805185, 0.009332585990116873, 0.00879861079480983, 0.008753277438985546, 0.008365685275368361, 0.007619731986486165, 0.007472689937405088, 0.007240917048731516, 0.006719587813835851, 0.006094944816796615, 0.005840059491841935, 0.005746677140764083, 0.005599463786841326, 0.005572466852896308, 0.005415901639274282]], [5, [3, 25, 5, 29, 63, 53, 15, 12, 33, 157, 38, 231, 13, 153, 2, 7, 22, 72, 78, 112], [0.016099235737807374, 0.014910673652841802, 0.013618473528827175, 0.011211504082559203, 0.009737242035655111, 0.008622941333611875, 0.00797714092171068, 0.007950170552041348, 0.007767242783695711, 0.006598420735713244, 0.006464394379427267, 0.006352983703499218, 0.0063359074916837, 0.006326124125191413, 0.00617202693780242, 0.006044360676339904, 0.005669559446824714, 0.005549108858379954, 0.005424620264853389, 0.005374353707819535]], [6, [56, 190, 75, 131, 2, 9, 30, 3, 19, 60, 39, 401, 301, 72, 49, 12, 534, 44, 1, 52], [0.028618664200517445, 0.016744682510495566, 0.015242535090791565, 0.013592394885028527, 0.008158097492092562, 0.007907005133882948, 0.007813653616606662, 0.007470339042819887, 0.007414599079856126, 0.007060575434452947, 0.006320958032012085, 0.006234697243568253, 0.006172208001398092, 0.0060722149020260964, 0.006022488728539118, 0.005891027569442247, 0.005686341945446041, 0.005593034267812459, 0.005565959760944756, 0.0054124596476837206]], [7, [2, 60, 6, 3, 72, 13, 11, 34, 1, 10, 46, 52, 20, 103, 9, 15, 163, 12, 418, 19], [0.010613844953687843, 0.009767741668330663, 0.009038751384381694, 0.008681923580341496, 0.006722144078700983, 0.006622314313329671, 0.006197975336872721, 0.006131379665598283, 0.005972334949544864, 0.005461237124251675, 0.00519889849445346, 0.004794454500017751, 0.004786014580576625, 0.004538428767432251, 0.004421587290183575, 0.0042732794218477655, 0.004255715612806803, 0.0042096177420738535, 0.0041547355685411175, 0.004082560807391409]], [8, [71, 3, 15, 172, 5, 6, 221, 12, 18, 40, 29, 46, 1, 99, 63, 10, 180, 2, 161, 37], [0.01739083276162294, 0.015522968216277295, 0.010769628898330191, 0.010719398367768244, 0.01051514739998706, 0.008543263377464052, 0.008222547522934201, 0.0080908235912477, 0.007132805359381385, 0.007111040614071506, 0.006150143593542235, 0.005771043821622704, 0.005750755588436662, 0.005693915731016125, 0.005489755275807619, 0.005375833216649657, 0.005302669732895582, 0.00524879474517201, 0.004749321342070889, 0.004491749560715495]], [9, [4, 0, 7, 17, 3, 22, 5, 64, 8, 14, 55, 33, 122, 1, 2, 18, 24, 186, 54, 114], [0.029483078700511686, 0.02840374138766673, 0.023623342143738617, 0.02213334919091387, 0.016919621741971317, 0.015848386185442532, 0.015176140576277596, 0.012551271835045046, 0.01223621225099999, 0.012154631915785469, 0.010670061991410573, 0.009090693398360819, 0.008601819823915436, 0.008429529006548475, 0.007942750141138787, 0.0067706365267737045, 0.006620389194224561, 0.006439731575951032, 0.006424823162039807, 0.006046864506456345]]]"
     ]
    }
   ],
   "source": [
    "tRDD.collect()"
   ]
  },
  {
   "cell_type": "code",
   "execution_count": 56,
   "id": "0071a616-c382-47ad-b030-467fbaccc13a",
   "metadata": {
    "execution": {
     "iopub.execute_input": "2022-04-10T04:13:55.262122Z",
     "iopub.status.busy": "2022-04-10T04:13:55.261884Z",
     "iopub.status.idle": "2022-04-10T04:13:55.313542Z",
     "shell.execute_reply": "2022-04-10T04:13:55.313005Z",
     "shell.execute_reply.started": "2022-04-10T04:13:55.262097Z"
    },
    "tags": []
   },
   "outputs": [
    {
     "data": {
      "application/vnd.jupyter.widget-view+json": {
       "model_id": "8bded19d9cb542f8955a8b1f879cc17c",
       "version_major": 2,
       "version_minor": 0
      },
      "text/plain": [
       "VBox()"
      ]
     },
     "metadata": {},
     "output_type": "display_data"
    },
    {
     "data": {
      "application/vnd.jupyter.widget-view+json": {
       "model_id": "",
       "version_major": 2,
       "version_minor": 0
      },
      "text/plain": [
       "FloatProgress(value=0.0, bar_style='info', description='Progress:', layout=Layout(height='25px', width='50%'),…"
      ]
     },
     "metadata": {},
     "output_type": "display_data"
    }
   ],
   "source": [
    "def topic_vocab(topic):\n",
    "    print(topic)\n",
    "    topicNum=topic[0]\n",
    "    terms=topic[1]\n",
    "    weight=topic[2]\n",
    "    result=[]\n",
    "    for i in range(topicswords):\n",
    "        term=vocab[terms[i]]\n",
    "        out=str(topicNum)+\",\"+term+\",\"+str(weight[i])\n",
    "        print(\"\\n\")\n",
    "        result.append(out)\n",
    "    return result"
   ]
  },
  {
   "cell_type": "code",
   "execution_count": 57,
   "id": "dd8aeaca-44a5-4e70-91ee-abca9fa8ad7f",
   "metadata": {
    "execution": {
     "iopub.execute_input": "2022-04-10T04:13:56.857549Z",
     "iopub.status.busy": "2022-04-10T04:13:56.857323Z",
     "iopub.status.idle": "2022-04-10T04:13:56.908880Z",
     "shell.execute_reply": "2022-04-10T04:13:56.908263Z",
     "shell.execute_reply.started": "2022-04-10T04:13:56.857525Z"
    },
    "tags": []
   },
   "outputs": [
    {
     "data": {
      "application/vnd.jupyter.widget-view+json": {
       "model_id": "538f337a6d86440bb8b1b8ccde52bcc0",
       "version_major": 2,
       "version_minor": 0
      },
      "text/plain": [
       "VBox()"
      ]
     },
     "metadata": {},
     "output_type": "display_data"
    },
    {
     "data": {
      "application/vnd.jupyter.widget-view+json": {
       "model_id": "",
       "version_major": 2,
       "version_minor": 0
      },
      "text/plain": [
       "FloatProgress(value=0.0, bar_style='info', description='Progress:', layout=Layout(height='25px', width='50%'),…"
      ]
     },
     "metadata": {},
     "output_type": "display_data"
    }
   ],
   "source": [
    "topic=tRDD.map(lambda topic:topic_vocab(topic))"
   ]
  },
  {
   "cell_type": "code",
   "execution_count": 58,
   "id": "09773674-61f0-4bfe-a2c1-0c278c67a656",
   "metadata": {
    "execution": {
     "iopub.execute_input": "2022-04-10T04:13:59.398636Z",
     "iopub.status.busy": "2022-04-10T04:13:59.398405Z",
     "iopub.status.idle": "2022-04-10T04:13:59.450138Z",
     "shell.execute_reply": "2022-04-10T04:13:59.449599Z",
     "shell.execute_reply.started": "2022-04-10T04:13:59.398611Z"
    },
    "tags": []
   },
   "outputs": [
    {
     "data": {
      "application/vnd.jupyter.widget-view+json": {
       "model_id": "63b6396e4baf4dd48a6a42d7f1659ead",
       "version_major": 2,
       "version_minor": 0
      },
      "text/plain": [
       "VBox()"
      ]
     },
     "metadata": {},
     "output_type": "display_data"
    },
    {
     "data": {
      "application/vnd.jupyter.widget-view+json": {
       "model_id": "",
       "version_major": 2,
       "version_minor": 0
      },
      "text/plain": [
       "FloatProgress(value=0.0, bar_style='info', description='Progress:', layout=Layout(height='25px', width='50%'),…"
      ]
     },
     "metadata": {},
     "output_type": "display_data"
    }
   ],
   "source": [
    "import pandas as pd"
   ]
  },
  {
   "cell_type": "code",
   "execution_count": 59,
   "id": "36719bbf-e5e4-4004-972c-0bf7110aed89",
   "metadata": {
    "execution": {
     "iopub.execute_input": "2022-04-10T04:14:00.617144Z",
     "iopub.status.busy": "2022-04-10T04:14:00.616914Z",
     "iopub.status.idle": "2022-04-10T04:14:01.390337Z",
     "shell.execute_reply": "2022-04-10T04:14:01.389604Z",
     "shell.execute_reply.started": "2022-04-10T04:14:00.617120Z"
    },
    "tags": []
   },
   "outputs": [
    {
     "data": {
      "application/vnd.jupyter.widget-view+json": {
       "model_id": "9a0dbf2b0cde44c5a891ea82282804c8",
       "version_major": 2,
       "version_minor": 0
      },
      "text/plain": [
       "VBox()"
      ]
     },
     "metadata": {},
     "output_type": "display_data"
    },
    {
     "data": {
      "application/vnd.jupyter.widget-view+json": {
       "model_id": "",
       "version_major": 2,
       "version_minor": 0
      },
      "text/plain": [
       "FloatProgress(value=0.0, bar_style='info', description='Progress:', layout=Layout(height='25px', width='50%'),…"
      ]
     },
     "metadata": {},
     "output_type": "display_data"
    }
   ],
   "source": [
    "ng_pd=spark.createDataFrame(topic).toPandas()"
   ]
  },
  {
   "cell_type": "code",
   "execution_count": 60,
   "id": "3dfaa0ab-3014-4d87-836b-c9e59ab5f6c6",
   "metadata": {
    "execution": {
     "iopub.execute_input": "2022-04-10T04:15:09.032338Z",
     "iopub.status.busy": "2022-04-10T04:15:09.032098Z",
     "iopub.status.idle": "2022-04-10T04:15:09.089531Z",
     "shell.execute_reply": "2022-04-10T04:15:09.088844Z",
     "shell.execute_reply.started": "2022-04-10T04:15:09.032311Z"
    },
    "tags": []
   },
   "outputs": [
    {
     "data": {
      "application/vnd.jupyter.widget-view+json": {
       "model_id": "3afd8ea8a56340bbadd2cd50f940e609",
       "version_major": 2,
       "version_minor": 0
      },
      "text/plain": [
       "VBox()"
      ]
     },
     "metadata": {},
     "output_type": "display_data"
    },
    {
     "data": {
      "application/vnd.jupyter.widget-view+json": {
       "model_id": "",
       "version_major": 2,
       "version_minor": 0
      },
      "text/plain": [
       "FloatProgress(value=0.0, bar_style='info', description='Progress:', layout=Layout(height='25px', width='50%'),…"
      ]
     },
     "metadata": {},
     "output_type": "display_data"
    }
   ],
   "source": [
    "pd.set_option('display.max_rows', 1000)\n",
    "pd.set_option('display.max_columns', 1000)"
   ]
  },
  {
   "cell_type": "code",
   "execution_count": 61,
   "id": "8a27076d-2d6b-4bef-8e54-65c3757564a3",
   "metadata": {
    "execution": {
     "iopub.execute_input": "2022-04-10T04:15:13.216966Z",
     "iopub.status.busy": "2022-04-10T04:15:13.216734Z",
     "iopub.status.idle": "2022-04-10T04:15:13.284962Z",
     "shell.execute_reply": "2022-04-10T04:15:13.284147Z",
     "shell.execute_reply.started": "2022-04-10T04:15:13.216941Z"
    },
    "tags": []
   },
   "outputs": [
    {
     "data": {
      "application/vnd.jupyter.widget-view+json": {
       "model_id": "10d786c5a8a44b59ba5daf0aa9f91f76",
       "version_major": 2,
       "version_minor": 0
      },
      "text/plain": [
       "VBox()"
      ]
     },
     "metadata": {},
     "output_type": "display_data"
    },
    {
     "data": {
      "application/vnd.jupyter.widget-view+json": {
       "model_id": "",
       "version_major": 2,
       "version_minor": 0
      },
      "text/plain": [
       "FloatProgress(value=0.0, bar_style='info', description='Progress:', layout=Layout(height='25px', width='50%'),…"
      ]
     },
     "metadata": {},
     "output_type": "display_data"
    },
    {
     "name": "stdout",
     "output_type": "stream",
     "text": [
      "                                   0                                1  \\\n",
      "_1      0,pizza,0.038915259317105516       1,food,0.04227084236237723   \n",
      "_2       0,order,0.02501453093710473      1,place,0.03393590251866458   \n",
      "_3   0,sandwich,0.015049471619282547      1,good,0.027765225117901794   \n",
      "_4       0,good,0.014994880798905694       1,great,0.0185062738232257   \n",
      "_5       0,place,0.01435671768558332     1,servic,0.01746918576491558   \n",
      "_6     0,burger,0.014262533518589993       1,bar,0.015567191883126826   \n",
      "_7      0,chees,0.012866813035015252     1,drink,0.014877356672910685   \n",
      "_8       0,time,0.012230503626738061        1,time,0.0145696486073026   \n",
      "_9          0,dog,0.0091671359911368      1,beer,0.010176292830350245   \n",
      "_10     0,slice,0.006663043530883554      1,nice,0.008319241639731594   \n",
      "_11       0,eat,0.006412477639409061    1,pretti,0.007956698031734044   \n",
      "_12      0,food,0.006389320264650595   1,restaur,0.007676333008160599   \n",
      "_13     0,great,0.006005271531879518     1,night,0.007614313802565144   \n",
      "_14    0,crust,0.0056993013445293715     1,price,0.006940872880297521   \n",
      "_15      0,love,0.005622957822442367    1,peopl,0.0065092992318119556   \n",
      "_16       0,fri,0.005457033714290346     1,order,0.005993028640909437   \n",
      "_17      0,tast,0.005353326500030113     1,staff,0.005981734602206701   \n",
      "_18       0,pie,0.004961862667822555       1,bad,0.005899192033554974   \n",
      "_19        0,top,0.00463711189302199       1,eat,0.005772044215740021   \n",
      "_20      0,cake,0.004600323692101706  1,atmospher,0.00574549095406835   \n",
      "\n",
      "                                  2                               3  \\\n",
      "_1       2,food,0.02482298573587543     3,good,0.019134094169631466   \n",
      "_2      2,good,0.018841709716937004   3,chicken,0.01867318270535182   \n",
      "_3     2,place,0.017836304198355205    3,order,0.015676363067917243   \n",
      "_4     2,order,0.013722957862939467     3,food,0.014895110214789868   \n",
      "_5      2,roll,0.013022043030215457      3,fri,0.013781161483764879   \n",
      "_6     2,sushi,0.012961860951607125    3,salad,0.010818412570243135   \n",
      "_7   2,restaur,0.011569790057269309     3,sauc,0.010193662951831316   \n",
      "_8       2,dish,0.01134677454411113     3,tast,0.008505933966269088   \n",
      "_9       2,rice,0.01055669626312337     3,place,0.00804052815312703   \n",
      "_10    2,great,0.009955848024472622   3,chees,0.0075735049398494075   \n",
      "_11    2,noodl,0.009170850097295234    3,great,0.007392760840767498   \n",
      "_12   2,servic,0.008986691521762655  3,restaur,0.006955864964958537   \n",
      "_13     2,soup,0.008756456760267388      3,dish,0.00690064319648603   \n",
      "_14    2,price,0.008098716037860765   3,flavor,0.006847228005100666   \n",
      "_15     2,tast,0.007975593311853595    3,menu,0.0063710076824842555   \n",
      "_16     2,thai,0.007479310172442301     3,meal,0.006348196748409642   \n",
      "_17  2,chicken,0.007384820677282702     3,cook,0.005726979545328772   \n",
      "_18     2,time,0.007337406578226943    3,steak,0.005615124412949056   \n",
      "_19     2,sauc,0.006539626476810541   3,servic,0.005557879974961275   \n",
      "_20   2,spici,0.0065389772592670614     3,nice,0.005432400013021661   \n",
      "\n",
      "                                    4                              5  \\\n",
      "_1        4,good,0.018114071147764796    5,time,0.016099235737807374   \n",
      "_2       4,place,0.017101887266504124  5,custom,0.014910673652841802   \n",
      "_3       4,coffe,0.013313484752113351  5,servic,0.013618473528827175   \n",
      "_4       4,great,0.012659853182717333    5,told,0.011211504082559203   \n",
      "_5        4,love,0.010571460832419262    5,call,0.009737242035655111   \n",
      "_6         4,food,0.00979910846805185   5,manag,0.008622941333611875   \n",
      "_7      4,flavor,0.009332585990116873     5,work,0.00797714092171068   \n",
      "_8       4,delici,0.00879861079480983     5,day,0.007950170552041348   \n",
      "_9         4,ice,0.008753277438985546     5,ask,0.007767242783695711   \n",
      "_10      4,cream,0.008365685275368361   5,phone,0.006598420735713244   \n",
      "_11        4,tea,0.007619731986486165    5,busi,0.006464394379427267   \n",
      "_12       4,tast,0.007472689937405088    5,nail,0.006352983703499218   \n",
      "_13      4,sweet,0.007240917048731516     5,peopl,0.0063359074916837   \n",
      "_14  4,breakfast,0.006719587813835851    5,rude,0.006326124125191413   \n",
      "_15       4,time,0.006094944816796615    5,place,0.00617202693780242   \n",
      "_16     4,chocol,0.005840059491841935    5,wait,0.006044360676339904   \n",
      "_17       4,nice,0.005746677140764083   5,minut,0.005669559446824714   \n",
      "_18   4,friendli,0.005599463786841326   5,store,0.005549108858379954   \n",
      "_19       4,taco,0.005572466852896308     5,pay,0.005424620264853389   \n",
      "_20      4,order,0.005415901639274282   5,charg,0.005374353707819535   \n",
      "\n",
      "                                   6                              7  \\\n",
      "_1       6,room,0.028618664200517445   7,place,0.010613844953687843   \n",
      "_2      6,hotel,0.016744682510495566    7,park,0.009767741668330663   \n",
      "_3      6,clean,0.015242535090791565   7,great,0.009038751384381694   \n",
      "_4       6,stay,0.013592394885028527    7,time,0.008681923580341496   \n",
      "_5      6,place,0.008158097492092562   7,store,0.006722144078700983   \n",
      "_6       6,nice,0.007907005133882948   7,peopl,0.006622314313329671   \n",
      "_7      6,locat,0.007813653616606662    7,love,0.006197975336872721   \n",
      "_8       6,time,0.007470339042819887     7,lot,0.006131379665598283   \n",
      "_9      6,staff,0.007414599079856126    7,good,0.005972334949544864   \n",
      "_10      6,park,0.007060575434452947   7,price,0.005461237124251675   \n",
      "_11     6,night,0.006320958032012085     7,year,0.00519889849445346   \n",
      "_12  6,bathroom,0.006234697243568253    7,area,0.004794454500017751   \n",
      "_13     6,floor,0.006172208001398092   7,thing,0.004786014580576625   \n",
      "_14    6,store,0.0060722149020260964    7,shop,0.004538428767432251   \n",
      "_15     6,check,0.006022488728539118    7,nice,0.004421587290183575   \n",
      "_16       6,day,0.005891027569442247   7,work,0.0042732794218477655   \n",
      "_17       6,bed,0.005686341945446041     7,kid,0.004255715612806803   \n",
      "_18      6,walk,0.005593034267812459    7,day,0.0042096177420738535   \n",
      "_19      6,good,0.005565959760944756  7,class,0.0041547355685411175   \n",
      "_20     6,area,0.0054124596476837206   7,staff,0.004082560807391409   \n",
      "\n",
      "                                    8                                9  \n",
      "_1          8,car,0.01739083276162294     9,order,0.029483078700511686  \n",
      "_2        8,time,0.015522968216277295       9,food,0.02840374138766673  \n",
      "_3        8,work,0.010769628898330191      9,wait,0.023623342143738617  \n",
      "_4        8,hair,0.010719398367768244       9,tabl,0.02213334919091387  \n",
      "_5       8,servic,0.01051514739998706      9,time,0.016919621741971317  \n",
      "_6       8,great,0.008543263377464052     9,minut,0.015848386185442532  \n",
      "_7     8,appoint,0.008222547522934201    9,servic,0.015176140576277596  \n",
      "_8           8,day,0.0080908235912477    9,server,0.012551271835045046  \n",
      "_9      8,experi,0.007132805359381385    9,restaur,0.01223621225099999  \n",
      "_10  8,recommend,0.007111040614071506     9,drink,0.012154631915785469  \n",
      "_11       8,told,0.006150143593542235      9,seat,0.010670061991410573  \n",
      "_12       8,year,0.005771043821622704       9,ask,0.009090693398360819  \n",
      "_13       8,good,0.005750755588436662  9,waitress,0.008601819823915436  \n",
      "_14       8,care,0.005693915731016125      9,good,0.008429529006548475  \n",
      "_15       8,call,0.005489755275807619     9,place,0.007942750141138787  \n",
      "_16      8,price,0.005375833216649657   9,experi,0.0067706365267737045  \n",
      "_17        8,cut,0.005302669732895582      9,menu,0.006620389194224561  \n",
      "_18       8,place,0.00524879474517201    9,waiter,0.006439731575951032  \n",
      "_19        8,job,0.004749321342070889      9,meal,0.006424823162039807  \n",
      "_20     8,review,0.004491749560715495     9,arriv,0.006046864506456345"
     ]
    }
   ],
   "source": [
    "ng_pd.T"
   ]
  },
  {
   "cell_type": "code",
   "execution_count": null,
   "id": "9bc55e3e-ff20-4378-a8b1-a0442f107449",
   "metadata": {},
   "outputs": [],
   "source": []
  }
 ],
 "metadata": {
  "kernelspec": {
   "display_name": "PySpark",
   "language": "",
   "name": "pysparkkernel"
  },
  "language_info": {
   "codemirror_mode": {
    "name": "python",
    "version": 3
   },
   "mimetype": "text/x-python",
   "name": "pyspark",
   "pygments_lexer": "python3"
  }
 },
 "nbformat": 4,
 "nbformat_minor": 5
}
