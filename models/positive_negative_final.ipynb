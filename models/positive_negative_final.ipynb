{
 "cells": [
  {
   "cell_type": "markdown",
   "id": "dd590b3e-291d-4fcb-81df-4637713bdc7f",
   "metadata": {},
   "source": [
    "Installing Libraries"
   ]
  },
  {
   "cell_type": "code",
   "execution_count": 1,
   "id": "17a5645a-5cfd-4240-9569-89e25e9d5153",
   "metadata": {
    "collapsed": true,
    "execution": {
     "iopub.execute_input": "2022-04-09T04:07:40.658985Z",
     "iopub.status.busy": "2022-04-09T04:07:40.658723Z",
     "iopub.status.idle": "2022-04-09T04:08:32.730039Z",
     "shell.execute_reply": "2022-04-09T04:08:32.729017Z",
     "shell.execute_reply.started": "2022-04-09T04:07:40.658951Z"
    },
    "jupyter": {
     "outputs_hidden": true
    },
    "tags": []
   },
   "outputs": [
    {
     "data": {
      "application/vnd.jupyter.widget-view+json": {
       "model_id": "cca281440ff04372be9a59bfcf3eb7c6",
       "version_major": 2,
       "version_minor": 0
      },
      "text/plain": [
       "VBox()"
      ]
     },
     "metadata": {},
     "output_type": "display_data"
    },
    {
     "name": "stdout",
     "output_type": "stream",
     "text": [
      "Starting Spark application\n"
     ]
    },
    {
     "data": {
      "text/html": [
       "<table>\n",
       "<tr><th>ID</th><th>YARN Application ID</th><th>Kind</th><th>State</th><th>Spark UI</th><th>Driver log</th><th>Current session?</th></tr><tr><td>4</td><td>application_1649473413669_0008</td><td>pyspark</td><td>idle</td><td><a target=\"_blank\" href=\"http://ip-172-31-56-186.ec2.internal:20888/proxy/application_1649473413669_0008/\" class=\"emr-proxy-link\" emr-resource=\"j-4CW27WERYHZ4\n",
       "\" application-id=\"application_1649473413669_0008\">Link</a></td><td><a target=\"_blank\" href=\"http://ip-172-31-55-182.ec2.internal:8042/node/containerlogs/container_1649473413669_0008_01_000001/livy\" >Link</a></td><td>✔</td></tr></table>"
      ],
      "text/plain": [
       "<IPython.core.display.HTML object>"
      ]
     },
     "metadata": {},
     "output_type": "display_data"
    },
    {
     "data": {
      "application/vnd.jupyter.widget-view+json": {
       "model_id": "",
       "version_major": 2,
       "version_minor": 0
      },
      "text/plain": [
       "FloatProgress(value=0.0, bar_style='info', description='Progress:', layout=Layout(height='25px', width='50%'),…"
      ]
     },
     "metadata": {},
     "output_type": "display_data"
    },
    {
     "name": "stdout",
     "output_type": "stream",
     "text": [
      "SparkSession available as 'spark'.\n"
     ]
    },
    {
     "data": {
      "application/vnd.jupyter.widget-view+json": {
       "model_id": "",
       "version_major": 2,
       "version_minor": 0
      },
      "text/plain": [
       "FloatProgress(value=0.0, bar_style='info', description='Progress:', layout=Layout(height='25px', width='50%'),…"
      ]
     },
     "metadata": {},
     "output_type": "display_data"
    },
    {
     "name": "stdout",
     "output_type": "stream",
     "text": [
      "Collecting pandas==0.25.1\n",
      "  Using cached https://files.pythonhosted.org/packages/7e/ab/ea76361f9d3e732e114adcd801d2820d5319c23d0ac5482fa3b412db217e/pandas-0.25.1-cp37-cp37m-manylinux1_x86_64.whl\n",
      "Requirement already satisfied: pytz>=2017.2 in /usr/local/lib/python3.7/site-packages (from pandas==0.25.1)\n",
      "Requirement already satisfied: numpy>=1.13.3 in /usr/local/lib64/python3.7/site-packages (from pandas==0.25.1)\n",
      "Collecting python-dateutil>=2.6.1 (from pandas==0.25.1)\n",
      "  Using cached https://files.pythonhosted.org/packages/36/7a/87837f39d0296e723bb9b62bbb257d0355c7f6128853c78955f57342a56d/python_dateutil-2.8.2-py2.py3-none-any.whl\n",
      "Requirement already satisfied: six>=1.5 in /usr/local/lib/python3.7/site-packages (from python-dateutil>=2.6.1->pandas==0.25.1)\n",
      "Installing collected packages: python-dateutil, pandas\n",
      "Successfully installed pandas-0.25.1 python-dateutil-2.8.2\n",
      "\n",
      "Collecting textblob\n",
      "  Using cached https://files.pythonhosted.org/packages/44/a4/595b66c1342a830f4ff476307c4367541cce3e361b9ee96d22a5eeeddd1d/textblob-0.17.1-py2.py3-none-any.whl\n",
      "Requirement already satisfied: nltk>=3.1; python_version >= \"3\" in /usr/local/lib/python3.7/site-packages (from textblob)\n",
      "Requirement already satisfied: click in /usr/local/lib64/python3.7/site-packages (from nltk>=3.1; python_version >= \"3\"->textblob)\n",
      "Requirement already satisfied: joblib in /usr/local/lib64/python3.7/site-packages (from nltk>=3.1; python_version >= \"3\"->textblob)\n",
      "Requirement already satisfied: regex in /usr/local/lib64/python3.7/site-packages (from nltk>=3.1; python_version >= \"3\"->textblob)\n",
      "Requirement already satisfied: tqdm in /usr/local/lib64/python3.7/site-packages (from nltk>=3.1; python_version >= \"3\"->textblob)\n",
      "Installing collected packages: textblob\n",
      "Successfully installed textblob-0.17.1\n",
      "\n",
      "Collecting matplotlib==3.1.1\n",
      "\n",
      "You are using pip version 9.0.1, however version 22.0.4 is available.\n",
      "You should consider upgrading via the 'pip install --upgrade pip' command.\n",
      "\n",
      "You are using pip version 9.0.1, however version 22.0.4 is available.\n",
      "You should consider upgrading via the 'pip install --upgrade pip' command.\n",
      "\n",
      "  Could not find a version that satisfies the requirement matplotlib==3.1.1 (from versions: )\n",
      "No matching distribution found for matplotlib==3.1.1\n",
      "You are using pip version 9.0.1, however version 22.0.4 is available.\n",
      "You should consider upgrading via the 'pip install --upgrade pip' command."
     ]
    }
   ],
   "source": [
    "sc.install_pypi_package(\"pandas==0.25.1\")\n",
    "sc.install_pypi_package(\"textblob\")\n",
    "sc.install_pypi_package(\"matplotlib==3.1.1\", \"https://pypi.org/simple\")"
   ]
  },
  {
   "cell_type": "markdown",
   "id": "583e153c-b2f2-4878-abfd-971d6d8c7f88",
   "metadata": {},
   "source": [
    "# Importing Libraries"
   ]
  },
  {
   "cell_type": "code",
   "execution_count": 2,
   "id": "fe806516-fb0d-4fda-a241-8cd0d25ad5a4",
   "metadata": {
    "execution": {
     "iopub.execute_input": "2022-04-09T04:08:32.732244Z",
     "iopub.status.busy": "2022-04-09T04:08:32.731897Z",
     "iopub.status.idle": "2022-04-09T04:08:33.543849Z",
     "shell.execute_reply": "2022-04-09T04:08:33.542912Z",
     "shell.execute_reply.started": "2022-04-09T04:08:32.732193Z"
    },
    "tags": []
   },
   "outputs": [
    {
     "data": {
      "application/vnd.jupyter.widget-view+json": {
       "model_id": "e0078b4f33364a8098790a3943b6e768",
       "version_major": 2,
       "version_minor": 0
      },
      "text/plain": [
       "VBox()"
      ]
     },
     "metadata": {},
     "output_type": "display_data"
    },
    {
     "data": {
      "application/vnd.jupyter.widget-view+json": {
       "model_id": "",
       "version_major": 2,
       "version_minor": 0
      },
      "text/plain": [
       "FloatProgress(value=0.0, bar_style='info', description='Progress:', layout=Layout(height='25px', width='50%'),…"
      ]
     },
     "metadata": {},
     "output_type": "display_data"
    }
   ],
   "source": [
    "from pyspark.sql.functions import *\n",
    "from pyspark.sql.functions import udf\n",
    "from pyspark.sql.types import IntegerType\n",
    "\n",
    "from pyspark.mllib.classification import SVMModel, SVMWithSGD\n",
    "from pyspark.mllib.regression import LabeledPoint\n",
    "from pyspark.mllib.linalg import Vectors as MLLibVectors\n",
    "from pyspark.ml import Pipeline\n",
    "from pyspark.ml.evaluation import BinaryClassificationEvaluator, MulticlassClassificationEvaluator\n",
    "from pyspark.ml.feature import * \n",
    "from pyspark.ml.tuning import CrossValidator\n",
    "from pyspark.ml.tuning import ParamGridBuilder\n",
    "\n",
    "\n",
    "from nltk.stem.porter import *\n",
    "from nltk.tokenize import word_tokenize, sent_tokenize\n",
    "from nltk.corpus import stopwords\n",
    "\n",
    "\n",
    "from pyspark.ml.feature import IDF\n",
    "\n",
    "#import pandas as pd\n",
    "import string \n",
    "import re \n",
    "\n",
    "from textblob import TextBlob\n",
    "from pyspark.sql.functions import udf\n",
    "from pyspark.sql.types import DoubleType\n",
    "\n",
    "from pyspark.ml import Pipeline\n",
    "from pyspark.ml.feature import OneHotEncoder, StringIndexer, VectorAssembler\n"
   ]
  },
  {
   "cell_type": "markdown",
   "id": "c0e483dd-68e5-4dd4-9a1c-3a8f48ebb14f",
   "metadata": {},
   "source": [
    "# Data Loading"
   ]
  },
  {
   "cell_type": "code",
   "execution_count": 3,
   "id": "ec8b70ef-27ae-459c-b66a-e74310911f93",
   "metadata": {
    "execution": {
     "iopub.execute_input": "2022-04-09T04:08:33.551207Z",
     "iopub.status.busy": "2022-04-09T04:08:33.548704Z",
     "iopub.status.idle": "2022-04-09T04:08:36.157799Z",
     "shell.execute_reply": "2022-04-09T04:08:36.157013Z",
     "shell.execute_reply.started": "2022-04-09T04:08:33.551153Z"
    },
    "tags": []
   },
   "outputs": [
    {
     "data": {
      "application/vnd.jupyter.widget-view+json": {
       "model_id": "6a8e536639ce4e2d803cdeb4fc9c9e95",
       "version_major": 2,
       "version_minor": 0
      },
      "text/plain": [
       "VBox()"
      ]
     },
     "metadata": {},
     "output_type": "display_data"
    },
    {
     "data": {
      "application/vnd.jupyter.widget-view+json": {
       "model_id": "",
       "version_major": 2,
       "version_minor": 0
      },
      "text/plain": [
       "FloatProgress(value=0.0, bar_style='info', description='Progress:', layout=Layout(height='25px', width='50%'),…"
      ]
     },
     "metadata": {},
     "output_type": "display_data"
    }
   ],
   "source": [
    "review = spark.read.orc(\"hdfs:///NLP_orc_shrunk/\")"
   ]
  },
  {
   "cell_type": "code",
   "execution_count": 4,
   "id": "cd21aa9a-c0de-4b21-9551-4ee3e9934c98",
   "metadata": {
    "execution": {
     "iopub.execute_input": "2022-04-09T04:08:36.159868Z",
     "iopub.status.busy": "2022-04-09T04:08:36.159346Z",
     "iopub.status.idle": "2022-04-09T04:08:39.474203Z",
     "shell.execute_reply": "2022-04-09T04:08:39.473267Z",
     "shell.execute_reply.started": "2022-04-09T04:08:36.159816Z"
    },
    "tags": []
   },
   "outputs": [
    {
     "data": {
      "application/vnd.jupyter.widget-view+json": {
       "model_id": "bc7dd3291ad94407bc8269d7de60cb89",
       "version_major": 2,
       "version_minor": 0
      },
      "text/plain": [
       "VBox()"
      ]
     },
     "metadata": {},
     "output_type": "display_data"
    },
    {
     "data": {
      "application/vnd.jupyter.widget-view+json": {
       "model_id": "",
       "version_major": 2,
       "version_minor": 0
      },
      "text/plain": [
       "FloatProgress(value=0.0, bar_style='info', description='Progress:', layout=Layout(height='25px', width='50%'),…"
      ]
     },
     "metadata": {},
     "output_type": "display_data"
    },
    {
     "name": "stdout",
     "output_type": "stream",
     "text": [
      "+-----+--------------------+\n",
      "|stars|                text|\n",
      "+-----+--------------------+\n",
      "|  5.0|What a great find...|\n",
      "|  2.0|The only reason I...|\n",
      "+-----+--------------------+\n",
      "only showing top 2 rows"
     ]
    }
   ],
   "source": [
    "review.show(2)"
   ]
  },
  {
   "cell_type": "markdown",
   "id": "46163a67-cfe6-4231-b90e-e7b89c7b8fd4",
   "metadata": {},
   "source": [
    "# Remove punctuation"
   ]
  },
  {
   "cell_type": "code",
   "execution_count": 5,
   "id": "0efecde3-1a4b-4ef6-92da-b79840d9e308",
   "metadata": {
    "execution": {
     "iopub.execute_input": "2022-04-09T04:08:39.476055Z",
     "iopub.status.busy": "2022-04-09T04:08:39.475693Z",
     "iopub.status.idle": "2022-04-09T04:08:39.761602Z",
     "shell.execute_reply": "2022-04-09T04:08:39.760831Z",
     "shell.execute_reply.started": "2022-04-09T04:08:39.475997Z"
    },
    "tags": []
   },
   "outputs": [
    {
     "data": {
      "application/vnd.jupyter.widget-view+json": {
       "model_id": "80ec5399544f4e7aa6395a2754868613",
       "version_major": 2,
       "version_minor": 0
      },
      "text/plain": [
       "VBox()"
      ]
     },
     "metadata": {},
     "output_type": "display_data"
    },
    {
     "data": {
      "application/vnd.jupyter.widget-view+json": {
       "model_id": "",
       "version_major": 2,
       "version_minor": 0
      },
      "text/plain": [
       "FloatProgress(value=0.0, bar_style='info', description='Progress:', layout=Layout(height='25px', width='50%'),…"
      ]
     },
     "metadata": {},
     "output_type": "display_data"
    }
   ],
   "source": [
    "# remove punctuation\n",
    "def remove_punct(text):\n",
    "    regex = re.compile('[' + re.escape(string.punctuation) + '0-9\\\\r\\\\t\\\\n]')\n",
    "    nopunct = regex.sub(\" \", text) \n",
    "    \n",
    "    return nopunct\n",
    "    \n",
    "# binarize rating\n",
    "def convert_rating(rating):\n",
    "    rating = int(rating)\n",
    "    if rating >=4: return 1\n",
    "    else: return 0\n",
    "\n",
    "# udf\n",
    "punct_remover = udf(lambda x: remove_punct(x))\n",
    "rating_convert = udf(lambda x: convert_rating(x))\n",
    "\n",
    "# apply to review raw data\n",
    "review_df = review.select(punct_remover('text'), rating_convert('stars'))\n",
    "\n",
    "review_df = review_df.withColumnRenamed('<lambda>(text)', 'text')\\\n",
    "                     .withColumn('label', review_df[\"<lambda>(stars)\"].cast(IntegerType()))\\\n",
    "                     .drop('<lambda>(stars)')"
   ]
  },
  {
   "cell_type": "code",
   "execution_count": 6,
   "id": "470add4c-5db6-445e-b81a-ec91f784d4ec",
   "metadata": {
    "execution": {
     "iopub.execute_input": "2022-04-09T04:08:39.762923Z",
     "iopub.status.busy": "2022-04-09T04:08:39.762681Z",
     "iopub.status.idle": "2022-04-09T04:08:43.079875Z",
     "shell.execute_reply": "2022-04-09T04:08:43.079010Z",
     "shell.execute_reply.started": "2022-04-09T04:08:39.762892Z"
    },
    "tags": []
   },
   "outputs": [
    {
     "data": {
      "application/vnd.jupyter.widget-view+json": {
       "model_id": "c3ca6250b7ed4d609481be4f37cc2980",
       "version_major": 2,
       "version_minor": 0
      },
      "text/plain": [
       "VBox()"
      ]
     },
     "metadata": {},
     "output_type": "display_data"
    },
    {
     "data": {
      "application/vnd.jupyter.widget-view+json": {
       "model_id": "",
       "version_major": 2,
       "version_minor": 0
      },
      "text/plain": [
       "FloatProgress(value=0.0, bar_style='info', description='Progress:', layout=Layout(height='25px', width='50%'),…"
      ]
     },
     "metadata": {},
     "output_type": "display_data"
    },
    {
     "name": "stdout",
     "output_type": "stream",
     "text": [
      "+--------------------+-----+\n",
      "|                text|label|\n",
      "+--------------------+-----+\n",
      "|What a great find...|    1|\n",
      "|The only reason I...|    0|\n",
      "|It s fun that it ...|    0|\n",
      "|I ve been to Smit...|    0|\n",
      "|We do love the fo...|    1|\n",
      "+--------------------+-----+\n",
      "only showing top 5 rows"
     ]
    }
   ],
   "source": [
    "review_df.show(5)"
   ]
  },
  {
   "cell_type": "markdown",
   "id": "f6518e9b-218f-4a01-adad-f9f47941e353",
   "metadata": {
    "execution": {
     "iopub.execute_input": "2022-04-09T05:01:44.623178Z",
     "iopub.status.busy": "2022-04-09T05:01:44.622870Z",
     "iopub.status.idle": "2022-04-09T05:01:44.701056Z",
     "shell.execute_reply": "2022-04-09T05:01:44.700184Z",
     "shell.execute_reply.started": "2022-04-09T05:01:44.623142Z"
    }
   },
   "source": [
    "# Stopwaods"
   ]
  },
  {
   "cell_type": "code",
   "execution_count": 7,
   "id": "dba426fa-d8ad-43f5-8ca5-b75e1556e727",
   "metadata": {
    "execution": {
     "iopub.execute_input": "2022-04-09T04:08:43.081732Z",
     "iopub.status.busy": "2022-04-09T04:08:43.081469Z",
     "iopub.status.idle": "2022-04-09T04:08:43.212618Z",
     "shell.execute_reply": "2022-04-09T04:08:43.211543Z",
     "shell.execute_reply.started": "2022-04-09T04:08:43.081693Z"
    },
    "tags": []
   },
   "outputs": [
    {
     "data": {
      "application/vnd.jupyter.widget-view+json": {
       "model_id": "c262284fb6ff46e8b039e8350498ceb3",
       "version_major": 2,
       "version_minor": 0
      },
      "text/plain": [
       "VBox()"
      ]
     },
     "metadata": {},
     "output_type": "display_data"
    },
    {
     "data": {
      "application/vnd.jupyter.widget-view+json": {
       "model_id": "",
       "version_major": 2,
       "version_minor": 0
      },
      "text/plain": [
       "FloatProgress(value=0.0, bar_style='info', description='Progress:', layout=Layout(height='25px', width='50%'),…"
      ]
     },
     "metadata": {},
     "output_type": "display_data"
    }
   ],
   "source": [
    "stops = [\"0o\", \"0s\", \"3a\", \"3b\", \"3d\", \"6b\", \"6o\", \"a\", \"a1\", \"a2\", \"a3\", \"a4\", \"ab\", \"able\", \"about\", \"above\", \"abst\", \"ac\", \"accordance\", \"according\", \"accordingly\", \"across\", \"act\", \"actually\", \"ad\", \"added\", \"adj\", \"ae\", \"af\", \"affected\", \"affecting\", \"affects\", \"after\", \"afterwards\", \"ag\", \"again\", \"against\", \"ah\", \"ain\", \"ain't\", \"aj\", \"al\", \"all\", \"allow\", \"allows\", \"almost\", \"alone\", \"along\", \"already\", \"also\", \"although\", \"always\", \"am\", \"among\", \"amongst\", \"amoungst\", \"amount\", \"an\", \"and\", \"announce\", \"another\", \"any\", \"anybody\", \"anyhow\", \"anymore\", \"anyone\", \"anything\", \"anyway\", \"anyways\", \"anywhere\", \"ao\", \"ap\", \"apart\", \"apparently\", \"appear\", \"appreciate\", \"appropriate\", \"approximately\", \"ar\", \"are\", \"aren\", \"arent\", \"aren't\", \"arise\", \"around\", \"as\", \"a's\", \"aside\", \"ask\", \"asking\", \"associated\", \"at\", \"au\", \"auth\", \"av\", \"available\", \"aw\", \"away\", \"awfully\", \"ax\", \"ay\", \"az\", \"b\", \"b1\", \"b2\", \"b3\", \"ba\", \"back\", \"bc\", \"bd\", \"be\", \"became\", \"because\", \"become\", \"becomes\", \"becoming\", \"been\", \"before\", \"beforehand\", \"begin\", \"beginning\", \"beginnings\", \"begins\", \"behind\", \"being\", \"believe\", \"below\", \"beside\", \"besides\", \"best\", \"better\", \"between\", \"beyond\", \"bi\", \"bill\", \"biol\", \"bj\", \"bk\", \"bl\", \"bn\", \"both\", \"bottom\", \"bp\", \"br\", \"brief\", \"briefly\", \"bs\", \"bt\", \"bu\", \"but\", \"bx\", \"by\", \"c\", \"c1\", \"c2\", \"c3\", \"ca\", \"call\", \"came\", \"can\", \"cannot\", \"cant\", \"can't\", \"cause\", \"causes\", \"cc\", \"cd\", \"ce\", \"certain\", \"certainly\", \"cf\", \"cg\", \"ch\", \"changes\", \"ci\", \"cit\", \"cj\", \"cl\", \"clearly\", \"cm\", \"c'mon\", \"cn\", \"co\", \"com\", \"come\", \"comes\", \"con\", \"concerning\", \"consequently\", \"consider\", \"considering\", \"contain\", \"containing\", \"contains\", \"corresponding\", \"could\", \"couldn\", \"couldnt\", \"couldn't\", \"course\", \"cp\", \"cq\", \"cr\", \"cry\", \"cs\", \"c's\", \"ct\", \"cu\", \"currently\", \"cv\", \"cx\", \"cy\", \"cz\", \"d\", \"d2\", \"da\", \"date\", \"dc\", \"dd\", \"de\", \"definitely\", \"describe\", \"described\", \"despite\", \"detail\", \"df\", \"di\", \"did\", \"didn\", \"didn't\", \"different\", \"dj\", \"dk\", \"dl\", \"do\", \"does\", \"doesn\", \"doesn't\", \"doing\", \"don\", \"done\", \"don't\", \"down\", \"downwards\", \"dp\", \"dr\", \"ds\", \"dt\", \"du\", \"due\", \"during\", \"dx\", \"dy\", \"e\", \"e2\", \"e3\", \"ea\", \"each\", \"ec\", \"ed\", \"edu\", \"ee\", \"ef\", \"effect\", \"eg\", \"ei\", \"eight\", \"eighty\", \"either\", \"ej\", \"el\", \"eleven\", \"else\", \"elsewhere\", \"em\", \"empty\", \"en\", \"end\", \"ending\", \"enough\", \"entirely\", \"eo\", \"ep\", \"eq\", \"er\", \"es\", \"especially\", \"est\", \"et\", \"et-al\", \"etc\", \"eu\", \"ev\", \"even\", \"ever\", \"every\", \"everybody\", \"everyone\", \"everything\", \"everywhere\", \"ex\", \"exactly\", \"example\", \"except\", \"ey\", \"f\", \"f2\", \"fa\", \"far\", \"fc\", \"few\", \"ff\", \"fi\", \"fifteen\", \"fifth\", \"fify\", \"fill\", \"find\", \"fire\", \"first\", \"five\", \"fix\", \"fj\", \"fl\", \"fn\", \"fo\", \"followed\", \"following\", \"follows\", \"for\", \"former\", \"formerly\", \"forth\", \"forty\", \"found\", \"four\", \"fr\", \"from\", \"front\", \"fs\", \"ft\", \"fu\", \"full\", \"further\", \"furthermore\", \"fy\", \"g\", \"ga\", \"gave\", \"ge\", \"get\", \"gets\", \"getting\", \"gi\", \"give\", \"given\", \"gives\", \"giving\", \"gj\", \"gl\", \"go\", \"goes\", \"going\", \"gone\", \"got\", \"gotten\", \"gr\", \"greetings\", \"gs\", \"gy\", \"h\", \"h2\", \"h3\", \"had\", \"hadn\", \"hadn't\", \"happens\", \"hardly\", \"has\", \"hasn\", \"hasnt\", \"hasn't\", \"have\", \"haven\", \"haven't\", \"having\", \"he\", \"hed\", \"he'd\", \"he'll\", \"hello\", \"help\", \"hence\", \"her\", \"here\", \"hereafter\", \"hereby\", \"herein\", \"heres\", \"here's\", \"hereupon\", \"hers\", \"herself\", \"hes\", \"he's\", \"hh\", \"hi\", \"hid\", \"him\", \"himself\", \"his\", \"hither\", \"hj\", \"ho\", \"home\", \"hopefully\", \"how\", \"howbeit\", \"however\", \"how's\", \"hr\", \"hs\", \"http\", \"hu\", \"hundred\", \"hy\", \"i\", \"i2\", \"i3\", \"i4\", \"i6\", \"i7\", \"i8\", \"ia\", \"ib\", \"ibid\", \"ic\", \"id\", \"i'd\", \"ie\", \"if\", \"ig\", \"ignored\", \"ih\", \"ii\", \"ij\", \"il\", \"i'll\", \"im\", \"i'm\", \"immediate\", \"immediately\", \"importance\", \"important\", \"in\", \"inasmuch\", \"inc\", \"indeed\", \"index\", \"indicate\", \"indicated\", \"indicates\", \"information\", \"inner\", \"insofar\", \"instead\", \"interest\", \"into\", \"invention\", \"inward\", \"io\", \"ip\", \"iq\", \"ir\", \"is\", \"isn\", \"isn't\", \"it\", \"itd\", \"it'd\", \"it'll\", \"its\", \"it's\", \"itself\", \"iv\", \"i've\", \"ix\", \"iy\", \"iz\", \"j\", \"jj\", \"jr\", \"js\", \"jt\", \"ju\", \"just\", \"k\", \"ke\", \"keep\", \"keeps\", \"kept\", \"kg\", \"kj\", \"km\", \"know\", \"known\", \"knows\", \"ko\", \"l\", \"l2\", \"la\", \"largely\", \"last\", \"lately\", \"later\", \"latter\", \"latterly\", \"lb\", \"lc\", \"le\", \"least\", \"les\", \"less\", \"lest\", \"let\", \"lets\", \"let's\", \"lf\", \"like\", \"liked\", \"likely\", \"line\", \"little\", \"lj\", \"ll\", \"ll\", \"ln\", \"lo\", \"look\", \"looking\", \"looks\", \"los\", \"lr\", \"ls\", \"lt\", \"ltd\", \"m\", \"m2\", \"ma\", \"made\", \"mainly\", \"make\", \"makes\", \"many\", \"may\", \"maybe\", \"me\", \"mean\", \"means\", \"meantime\", \"meanwhile\", \"merely\", \"mg\", \"might\", \"mightn\", \"mightn't\", \"mill\", \"million\", \"mine\", \"miss\", \"ml\", \"mn\", \"mo\", \"more\", \"moreover\", \"most\", \"mostly\", \"move\", \"mr\", \"mrs\", \"ms\", \"mt\", \"mu\", \"much\", \"mug\", \"must\", \"mustn\", \"mustn't\", \"my\", \"myself\", \"n\", \"n2\", \"na\", \"name\", \"namely\", \"nay\", \"nc\", \"nd\", \"ne\", \"near\", \"nearly\", \"necessarily\", \"necessary\", \"need\", \"needn\", \"needn't\", \"needs\", \"neither\", \"never\", \"nevertheless\", \"new\", \"next\", \"ng\", \"ni\", \"nine\", \"ninety\", \"nj\", \"nl\", \"nn\", \"no\", \"nobody\", \"non\", \"none\", \"nonetheless\", \"noone\", \"nor\", \"normally\", \"nos\", \"not\", \"noted\", \"nothing\", \"novel\", \"now\", \"nowhere\", \"nr\", \"ns\", \"nt\", \"ny\", \"o\", \"oa\", \"ob\", \"obtain\", \"obtained\", \"obviously\", \"oc\", \"od\", \"of\", \"off\", \"often\", \"og\", \"oh\", \"oi\", \"oj\", \"ok\", \"okay\", \"ol\", \"old\", \"om\", \"omitted\", \"on\", \"once\", \"one\", \"ones\", \"only\", \"onto\", \"oo\", \"op\", \"oq\", \"or\", \"ord\", \"os\", \"ot\", \"other\", \"others\", \"otherwise\", \"ou\", \"ought\", \"our\", \"ours\", \"ourselves\", \"out\", \"outside\", \"over\", \"overall\", \"ow\", \"owing\", \"own\", \"ox\", \"oz\", \"p\", \"p1\", \"p2\", \"p3\", \"page\", \"pagecount\", \"pages\", \"par\", \"part\", \"particular\", \"particularly\", \"pas\", \"past\", \"pc\", \"pd\", \"pe\", \"per\", \"perhaps\", \"pf\", \"ph\", \"pi\", \"pj\", \"pk\", \"pl\", \"placed\", \"please\", \"plus\", \"pm\", \"pn\", \"po\", \"poorly\", \"possible\", \"possibly\", \"potentially\", \"pp\", \"pq\", \"pr\", \"predominantly\", \"present\", \"presumably\", \"previously\", \"primarily\", \"probably\", \"promptly\", \"proud\", \"provides\", \"ps\", \"pt\", \"pu\", \"put\", \"py\", \"q\", \"qj\", \"qu\", \"que\", \"quickly\", \"quite\", \"qv\", \"r\", \"r2\", \"ra\", \"ran\", \"rather\", \"rc\", \"rd\", \"re\", \"readily\", \"really\", \"reasonably\", \"recent\", \"recently\", \"ref\", \"refs\", \"regarding\", \"regardless\", \"regards\", \"related\", \"relatively\", \"research\", \"research-articl\", \"respectively\", \"resulted\", \"resulting\", \"results\", \"rf\", \"rh\", \"ri\", \"right\", \"rj\", \"rl\", \"rm\", \"rn\", \"ro\", \"rq\", \"rr\", \"rs\", \"rt\", \"ru\", \"run\", \"rv\", \"ry\", \"s\", \"s2\", \"sa\", \"said\", \"same\", \"saw\", \"say\", \"saying\", \"says\", \"sc\", \"sd\", \"se\", \"sec\", \"second\", \"secondly\", \"section\", \"see\", \"seeing\", \"seem\", \"seemed\", \"seeming\", \"seems\", \"seen\", \"self\", \"selves\", \"sensible\", \"sent\", \"serious\", \"seriously\", \"seven\", \"several\", \"sf\", \"shall\", \"shan\", \"shan't\", \"she\", \"shed\", \"she'd\", \"she'll\", \"shes\", \"she's\", \"should\", \"shouldn\", \"shouldn't\", \"should've\", \"show\", \"showed\", \"shown\", \"showns\", \"shows\", \"si\", \"side\", \"significant\", \"significantly\", \"similar\", \"similarly\", \"since\", \"sincere\", \"six\", \"sixty\", \"sj\", \"sl\", \"slightly\", \"sm\", \"sn\", \"so\", \"some\", \"somebody\", \"somehow\", \"someone\", \"somethan\", \"something\", \"sometime\", \"sometimes\", \"somewhat\", \"somewhere\", \"soon\", \"sorry\", \"sp\", \"specifically\", \"specified\", \"specify\", \"specifying\", \"sq\", \"sr\", \"ss\", \"st\", \"still\", \"stop\", \"strongly\", \"sub\", \"substantially\", \"successfully\", \"such\", \"sufficiently\", \"suggest\", \"sup\", \"sure\", \"sy\", \"system\", \"sz\", \"t\", \"t1\", \"t2\", \"t3\", \"take\", \"taken\", \"taking\", \"tb\", \"tc\", \"td\", \"te\", \"tell\", \"ten\", \"tends\", \"tf\", \"th\", \"than\", \"thank\", \"thanks\", \"thanx\", \"that\", \"that'll\", \"thats\", \"that's\", \"that've\", \"the\", \"their\", \"theirs\", \"them\", \"themselves\", \"then\", \"thence\", \"there\", \"thereafter\", \"thereby\", \"thered\", \"therefore\", \"therein\", \"there'll\", \"thereof\", \"therere\", \"theres\", \"there's\", \"thereto\", \"thereupon\", \"there've\", \"these\", \"they\", \"theyd\", \"they'd\", \"they'll\", \"theyre\", \"they're\", \"they've\", \"thickv\", \"thin\", \"think\", \"third\", \"this\", \"thorough\", \"thoroughly\", \"those\", \"thou\", \"though\", \"thoughh\", \"thousand\", \"three\", \"throug\", \"through\", \"throughout\", \"thru\", \"thus\", \"ti\", \"til\", \"tip\", \"tj\", \"tl\", \"tm\", \"tn\", \"to\", \"together\", \"too\", \"took\", \"top\", \"toward\", \"towards\", \"tp\", \"tq\", \"tr\", \"tried\", \"tries\", \"truly\", \"try\", \"trying\", \"ts\", \"t's\", \"tt\", \"tv\", \"twelve\", \"twenty\", \"twice\", \"two\", \"tx\", \"u\", \"u201d\", \"ue\", \"ui\", \"uj\", \"uk\", \"um\", \"un\", \"under\", \"unfortunately\", \"unless\", \"unlike\", \"unlikely\", \"until\", \"unto\", \"uo\", \"up\", \"upon\", \"ups\", \"ur\", \"us\", \"use\", \"used\", \"useful\", \"usefully\", \"usefulness\", \"uses\", \"using\", \"usually\", \"ut\", \"v\", \"va\", \"value\", \"various\", \"vd\", \"ve\", \"ve\", \"very\", \"via\", \"viz\", \"vj\", \"vo\", \"vol\", \"vols\", \"volumtype\", \"vq\", \"vs\", \"vt\", \"vu\", \"w\", \"wa\", \"want\", \"wants\", \"was\", \"wasn\", \"wasnt\", \"wasn't\", \"way\", \"we\", \"wed\", \"we'd\", \"welcome\", \"well\", \"we'll\", \"well-b\", \"went\", \"were\", \"we're\", \"weren\", \"werent\", \"weren't\", \"we've\", \"what\", \"whatever\", \"what'll\", \"whats\", \"what's\", \"when\", \"whence\", \"whenever\", \"when's\", \"where\", \"whereafter\", \"whereas\", \"whereby\", \"wherein\", \"wheres\", \"where's\", \"whereupon\", \"wherever\", \"whether\", \"which\", \"while\", \"whim\", \"whither\", \"who\", \"whod\", \"whoever\", \"whole\", \"who'll\", \"whom\", \"whomever\", \"whos\", \"who's\", \"whose\", \"why\", \"why's\", \"wi\", \"widely\", \"will\", \"willing\", \"wish\", \"with\", \"within\", \"without\", \"wo\", \"won\", \"wonder\", \"wont\", \"won't\", \"words\", \"world\", \"would\", \"wouldn\", \"wouldnt\", \"wouldn't\", \"www\", \"x\", \"x1\", \"x2\", \"x3\", \"xf\", \"xi\", \"xj\", \"xk\", \"xl\", \"xn\", \"xo\", \"xs\", \"xt\", \"xv\", \"xx\", \"y\", \"y2\", \"yes\", \"yet\", \"yj\", \"yl\", \"you\", \"youd\", \"you'd\", \"you'll\", \"your\", \"youre\", \"you're\", \"yours\", \"yourself\", \"yourselves\", \"you've\", \"yr\", \"ys\", \"yt\", \"z\", \"zero\", \"zi\", \"zz\"]"
   ]
  },
  {
   "cell_type": "markdown",
   "id": "f7fe1fd5-0d7f-44e5-9fb4-97d3d3642f8a",
   "metadata": {},
   "source": [
    "# RegexTokenizer"
   ]
  },
  {
   "cell_type": "code",
   "execution_count": 8,
   "id": "511d1dba-d535-462f-9abf-a2e9e752df3d",
   "metadata": {
    "execution": {
     "iopub.execute_input": "2022-04-09T04:08:43.216899Z",
     "iopub.status.busy": "2022-04-09T04:08:43.216541Z",
     "iopub.status.idle": "2022-04-09T04:08:43.506858Z",
     "shell.execute_reply": "2022-04-09T04:08:43.506084Z",
     "shell.execute_reply.started": "2022-04-09T04:08:43.216845Z"
    },
    "tags": []
   },
   "outputs": [
    {
     "data": {
      "application/vnd.jupyter.widget-view+json": {
       "model_id": "f6947614fabc4cc88b60b34a74cc6010",
       "version_major": 2,
       "version_minor": 0
      },
      "text/plain": [
       "VBox()"
      ]
     },
     "metadata": {},
     "output_type": "display_data"
    },
    {
     "data": {
      "application/vnd.jupyter.widget-view+json": {
       "model_id": "",
       "version_major": 2,
       "version_minor": 0
      },
      "text/plain": [
       "FloatProgress(value=0.0, bar_style='info', description='Progress:', layout=Layout(height='25px', width='50%'),…"
      ]
     },
     "metadata": {},
     "output_type": "display_data"
    }
   ],
   "source": [
    "rgtoken = RegexTokenizer(inputCol=\"text\",outputCol=\"words\",pattern=\"\\\\W\")\n",
    "\n",
    "token = Tokenizer(inputCol= \"words\", outputCol = \"tokens\")"
   ]
  },
  {
   "cell_type": "markdown",
   "id": "fdbc1acc-c7b1-467c-944d-98117d8a0f26",
   "metadata": {},
   "source": [
    "# StopWordsRemover"
   ]
  },
  {
   "cell_type": "code",
   "execution_count": 9,
   "id": "4a036ff4-a5f2-4341-8b14-f52fa5535fe6",
   "metadata": {
    "execution": {
     "iopub.execute_input": "2022-04-09T04:08:43.508663Z",
     "iopub.status.busy": "2022-04-09T04:08:43.508399Z",
     "iopub.status.idle": "2022-04-09T04:08:43.786307Z",
     "shell.execute_reply": "2022-04-09T04:08:43.785512Z",
     "shell.execute_reply.started": "2022-04-09T04:08:43.508631Z"
    },
    "tags": []
   },
   "outputs": [
    {
     "data": {
      "application/vnd.jupyter.widget-view+json": {
       "model_id": "22153f1b0cdc485584354accab1cd7fe",
       "version_major": 2,
       "version_minor": 0
      },
      "text/plain": [
       "VBox()"
      ]
     },
     "metadata": {},
     "output_type": "display_data"
    },
    {
     "data": {
      "application/vnd.jupyter.widget-view+json": {
       "model_id": "",
       "version_major": 2,
       "version_minor": 0
      },
      "text/plain": [
       "FloatProgress(value=0.0, bar_style='info', description='Progress:', layout=Layout(height='25px', width='50%'),…"
      ]
     },
     "metadata": {},
     "output_type": "display_data"
    }
   ],
   "source": [
    "stopword_remover = StopWordsRemover(inputCol=\"words\", outputCol=\"cleaned_tokens\")\\\n",
    "                    .setStopWords(stops)"
   ]
  },
  {
   "cell_type": "markdown",
   "id": "82952840-c269-4895-b049-6fbbcb4aaaa2",
   "metadata": {},
   "source": [
    "# HashingTF"
   ]
  },
  {
   "cell_type": "code",
   "execution_count": 10,
   "id": "25a35b7c-e733-4e03-b5a7-df2b7e3dd7fb",
   "metadata": {
    "execution": {
     "iopub.execute_input": "2022-04-09T04:08:43.787692Z",
     "iopub.status.busy": "2022-04-09T04:08:43.787370Z",
     "iopub.status.idle": "2022-04-09T04:08:43.860619Z",
     "shell.execute_reply": "2022-04-09T04:08:43.859684Z",
     "shell.execute_reply.started": "2022-04-09T04:08:43.787657Z"
    },
    "tags": []
   },
   "outputs": [
    {
     "data": {
      "application/vnd.jupyter.widget-view+json": {
       "model_id": "f78e7a9e12ea4b0e8d5b898d0670e1ec",
       "version_major": 2,
       "version_minor": 0
      },
      "text/plain": [
       "VBox()"
      ]
     },
     "metadata": {},
     "output_type": "display_data"
    },
    {
     "data": {
      "application/vnd.jupyter.widget-view+json": {
       "model_id": "",
       "version_major": 2,
       "version_minor": 0
      },
      "text/plain": [
       "FloatProgress(value=0.0, bar_style='info', description='Progress:', layout=Layout(height='25px', width='50%'),…"
      ]
     },
     "metadata": {},
     "output_type": "display_data"
    }
   ],
   "source": [
    "Hashtf = HashingTF(inputCol=\"cleaned_tokens\", outputCol=\"rawFeatures\", numFeatures=2**14)"
   ]
  },
  {
   "cell_type": "markdown",
   "id": "ffe6aeea-205f-4a2b-b03f-59596d27e66b",
   "metadata": {},
   "source": [
    "# IDF"
   ]
  },
  {
   "cell_type": "code",
   "execution_count": 11,
   "id": "7059b1ee-36b2-49a0-87ba-286c8cc55330",
   "metadata": {
    "execution": {
     "iopub.execute_input": "2022-04-09T04:08:43.861947Z",
     "iopub.status.busy": "2022-04-09T04:08:43.861728Z",
     "iopub.status.idle": "2022-04-09T04:08:43.940694Z",
     "shell.execute_reply": "2022-04-09T04:08:43.939836Z",
     "shell.execute_reply.started": "2022-04-09T04:08:43.861915Z"
    },
    "tags": []
   },
   "outputs": [
    {
     "data": {
      "application/vnd.jupyter.widget-view+json": {
       "model_id": "bbbd85cbaa5c4222a355cfcd28601078",
       "version_major": 2,
       "version_minor": 0
      },
      "text/plain": [
       "VBox()"
      ]
     },
     "metadata": {},
     "output_type": "display_data"
    },
    {
     "data": {
      "application/vnd.jupyter.widget-view+json": {
       "model_id": "",
       "version_major": 2,
       "version_minor": 0
      },
      "text/plain": [
       "FloatProgress(value=0.0, bar_style='info', description='Progress:', layout=Layout(height='25px', width='50%'),…"
      ]
     },
     "metadata": {},
     "output_type": "display_data"
    }
   ],
   "source": [
    "idf = IDF(inputCol=\"rawFeatures\", outputCol=\"features\", minDocFreq=5.0)"
   ]
  },
  {
   "cell_type": "markdown",
   "id": "3ee39376-0516-4209-9c29-af3aa739d936",
   "metadata": {},
   "source": [
    "# Pipeline Stages"
   ]
  },
  {
   "cell_type": "code",
   "execution_count": 12,
   "id": "0b905056-b153-467e-ae10-ba539f2c8924",
   "metadata": {
    "execution": {
     "iopub.execute_input": "2022-04-09T04:08:43.941987Z",
     "iopub.status.busy": "2022-04-09T04:08:43.941759Z",
     "iopub.status.idle": "2022-04-09T04:08:44.018266Z",
     "shell.execute_reply": "2022-04-09T04:08:44.017596Z",
     "shell.execute_reply.started": "2022-04-09T04:08:43.941954Z"
    },
    "tags": []
   },
   "outputs": [
    {
     "data": {
      "application/vnd.jupyter.widget-view+json": {
       "model_id": "8c3297c854d34f188508101f6d6c44fd",
       "version_major": 2,
       "version_minor": 0
      },
      "text/plain": [
       "VBox()"
      ]
     },
     "metadata": {},
     "output_type": "display_data"
    },
    {
     "data": {
      "application/vnd.jupyter.widget-view+json": {
       "model_id": "",
       "version_major": 2,
       "version_minor": 0
      },
      "text/plain": [
       "FloatProgress(value=0.0, bar_style='info', description='Progress:', layout=Layout(height='25px', width='50%'),…"
      ]
     },
     "metadata": {},
     "output_type": "display_data"
    }
   ],
   "source": [
    "pipeline  = Pipeline(stages=[rgtoken,stopword_remover,Hashtf,idf])"
   ]
  },
  {
   "cell_type": "markdown",
   "id": "41a4eee0-44d7-4d01-87d2-caef765ecb72",
   "metadata": {},
   "source": [
    "# Pipeline Fit"
   ]
  },
  {
   "cell_type": "code",
   "execution_count": 13,
   "id": "8213448d-489d-472d-ba19-8a6c8b32231a",
   "metadata": {
    "execution": {
     "iopub.execute_input": "2022-04-09T04:08:44.019949Z",
     "iopub.status.busy": "2022-04-09T04:08:44.019614Z",
     "iopub.status.idle": "2022-04-09T04:09:29.511708Z",
     "shell.execute_reply": "2022-04-09T04:09:29.510559Z",
     "shell.execute_reply.started": "2022-04-09T04:08:44.019899Z"
    },
    "tags": []
   },
   "outputs": [
    {
     "data": {
      "application/vnd.jupyter.widget-view+json": {
       "model_id": "4b960314c6cb4b1881c904299d550a0e",
       "version_major": 2,
       "version_minor": 0
      },
      "text/plain": [
       "VBox()"
      ]
     },
     "metadata": {},
     "output_type": "display_data"
    },
    {
     "data": {
      "application/vnd.jupyter.widget-view+json": {
       "model_id": "",
       "version_major": 2,
       "version_minor": 0
      },
      "text/plain": [
       "FloatProgress(value=0.0, bar_style='info', description='Progress:', layout=Layout(height='25px', width='50%'),…"
      ]
     },
     "metadata": {},
     "output_type": "display_data"
    }
   ],
   "source": [
    "processed = pipeline.fit(review_df)"
   ]
  },
  {
   "cell_type": "code",
   "execution_count": 14,
   "id": "c9ea45db-8817-4cfe-a855-8c2898cdf78e",
   "metadata": {
    "execution": {
     "iopub.execute_input": "2022-04-09T04:09:29.515511Z",
     "iopub.status.busy": "2022-04-09T04:09:29.514530Z",
     "iopub.status.idle": "2022-04-09T04:09:30.331282Z",
     "shell.execute_reply": "2022-04-09T04:09:30.330413Z",
     "shell.execute_reply.started": "2022-04-09T04:09:29.515332Z"
    },
    "tags": []
   },
   "outputs": [
    {
     "data": {
      "application/vnd.jupyter.widget-view+json": {
       "model_id": "85cf6aa038824e2982373e5f914e6dc9",
       "version_major": 2,
       "version_minor": 0
      },
      "text/plain": [
       "VBox()"
      ]
     },
     "metadata": {},
     "output_type": "display_data"
    },
    {
     "data": {
      "application/vnd.jupyter.widget-view+json": {
       "model_id": "",
       "version_major": 2,
       "version_minor": 0
      },
      "text/plain": [
       "FloatProgress(value=0.0, bar_style='info', description='Progress:', layout=Layout(height='25px', width='50%'),…"
      ]
     },
     "metadata": {},
     "output_type": "display_data"
    }
   ],
   "source": [
    "df_train = processed.transform(review_df)"
   ]
  },
  {
   "cell_type": "code",
   "execution_count": 15,
   "id": "7e88d698-80c1-457b-9b37-743002158c2f",
   "metadata": {
    "execution": {
     "iopub.execute_input": "2022-04-09T04:09:30.337927Z",
     "iopub.status.busy": "2022-04-09T04:09:30.335688Z",
     "iopub.status.idle": "2022-04-09T04:09:31.702067Z",
     "shell.execute_reply": "2022-04-09T04:09:31.700875Z",
     "shell.execute_reply.started": "2022-04-09T04:09:30.337877Z"
    },
    "tags": []
   },
   "outputs": [
    {
     "data": {
      "application/vnd.jupyter.widget-view+json": {
       "model_id": "0993b603d4fa456f92d132734f75bf5f",
       "version_major": 2,
       "version_minor": 0
      },
      "text/plain": [
       "VBox()"
      ]
     },
     "metadata": {},
     "output_type": "display_data"
    },
    {
     "data": {
      "application/vnd.jupyter.widget-view+json": {
       "model_id": "",
       "version_major": 2,
       "version_minor": 0
      },
      "text/plain": [
       "FloatProgress(value=0.0, bar_style='info', description='Progress:', layout=Layout(height='25px', width='50%'),…"
      ]
     },
     "metadata": {},
     "output_type": "display_data"
    },
    {
     "name": "stdout",
     "output_type": "stream",
     "text": [
      "+--------------------+-----+--------------------+--------------------+--------------------+--------------------+\n",
      "|                text|label|               words|      cleaned_tokens|         rawFeatures|            features|\n",
      "+--------------------+-----+--------------------+--------------------+--------------------+--------------------+\n",
      "|What a great find...|    1|[what, a, great, ...|[great, piece, po...|(16384,[42,1466,1...|(16384,[42,1466,1...|\n",
      "|The only reason I...|    0|[the, only, reaso...|[reason, stars, s...|(16384,[389,666,8...|(16384,[389,666,8...|\n",
      "+--------------------+-----+--------------------+--------------------+--------------------+--------------------+\n",
      "only showing top 2 rows"
     ]
    }
   ],
   "source": [
    "df_train.show(2)"
   ]
  },
  {
   "cell_type": "code",
   "execution_count": 16,
   "id": "2b458555-aa38-4bd1-822c-909784e63f9c",
   "metadata": {
    "execution": {
     "iopub.execute_input": "2022-04-09T04:09:31.704574Z",
     "iopub.status.busy": "2022-04-09T04:09:31.703902Z",
     "iopub.status.idle": "2022-04-09T04:09:31.799835Z",
     "shell.execute_reply": "2022-04-09T04:09:31.798834Z",
     "shell.execute_reply.started": "2022-04-09T04:09:31.704519Z"
    },
    "tags": []
   },
   "outputs": [
    {
     "data": {
      "application/vnd.jupyter.widget-view+json": {
       "model_id": "b8e33f4db3454ed58010d3501be00c00",
       "version_major": 2,
       "version_minor": 0
      },
      "text/plain": [
       "VBox()"
      ]
     },
     "metadata": {},
     "output_type": "display_data"
    },
    {
     "data": {
      "application/vnd.jupyter.widget-view+json": {
       "model_id": "",
       "version_major": 2,
       "version_minor": 0
      },
      "text/plain": [
       "FloatProgress(value=0.0, bar_style='info', description='Progress:', layout=Layout(height='25px', width='50%'),…"
      ]
     },
     "metadata": {},
     "output_type": "display_data"
    }
   ],
   "source": [
    "df_train=df_train.drop(\"label\")"
   ]
  },
  {
   "cell_type": "markdown",
   "id": "ba8e11ba-6a00-41c8-91ca-52abdc0b3045",
   "metadata": {},
   "source": [
    "# Function to get sentiment"
   ]
  },
  {
   "cell_type": "code",
   "execution_count": 17,
   "id": "c9c04a8e-2347-43eb-9f33-23ec230e7d5f",
   "metadata": {
    "execution": {
     "iopub.execute_input": "2022-04-09T04:09:31.801565Z",
     "iopub.status.busy": "2022-04-09T04:09:31.801203Z",
     "iopub.status.idle": "2022-04-09T04:09:31.917436Z",
     "shell.execute_reply": "2022-04-09T04:09:31.912170Z",
     "shell.execute_reply.started": "2022-04-09T04:09:31.801512Z"
    },
    "tags": []
   },
   "outputs": [
    {
     "data": {
      "application/vnd.jupyter.widget-view+json": {
       "model_id": "c9593fd544774103b258fd1476db117e",
       "version_major": 2,
       "version_minor": 0
      },
      "text/plain": [
       "VBox()"
      ]
     },
     "metadata": {},
     "output_type": "display_data"
    },
    {
     "data": {
      "application/vnd.jupyter.widget-view+json": {
       "model_id": "",
       "version_major": 2,
       "version_minor": 0
      },
      "text/plain": [
       "FloatProgress(value=0.0, bar_style='info', description='Progress:', layout=Layout(height='25px', width='50%'),…"
      ]
     },
     "metadata": {},
     "output_type": "display_data"
    }
   ],
   "source": [
    "def apply_blob(sentence):\n",
    "    temp = TextBlob(sentence).sentiment[0]   \n",
    "    if temp >= 0.0:\n",
    "        return 1.0 # Positive\n",
    "    elif temp == 0.0:\n",
    "        return 0.0 # Neutral\n",
    "    else:\n",
    "        return 2.0 # Negative\n",
    "# UDF to write sentiment on DF\n",
    "sentiment = udf(apply_blob, DoubleType())"
   ]
  },
  {
   "cell_type": "code",
   "execution_count": 18,
   "id": "191c430b-7b3f-4d9f-806c-68c44e7d3477",
   "metadata": {
    "execution": {
     "iopub.execute_input": "2022-04-09T04:09:31.919010Z",
     "iopub.status.busy": "2022-04-09T04:09:31.918567Z",
     "iopub.status.idle": "2022-04-09T04:09:32.220172Z",
     "shell.execute_reply": "2022-04-09T04:09:32.216044Z",
     "shell.execute_reply.started": "2022-04-09T04:09:31.918974Z"
    },
    "tags": []
   },
   "outputs": [
    {
     "data": {
      "application/vnd.jupyter.widget-view+json": {
       "model_id": "ddc18963b2dd422295bf72f0b1760338",
       "version_major": 2,
       "version_minor": 0
      },
      "text/plain": [
       "VBox()"
      ]
     },
     "metadata": {},
     "output_type": "display_data"
    },
    {
     "data": {
      "application/vnd.jupyter.widget-view+json": {
       "model_id": "",
       "version_major": 2,
       "version_minor": 0
      },
      "text/plain": [
       "FloatProgress(value=0.0, bar_style='info', description='Progress:', layout=Layout(height='25px', width='50%'),…"
      ]
     },
     "metadata": {},
     "output_type": "display_data"
    }
   ],
   "source": [
    "df=df_train.withColumn(\"label\", sentiment(df_train['text']))"
   ]
  },
  {
   "cell_type": "code",
   "execution_count": 19,
   "id": "06e1cbbf-730f-46be-ba14-14bd83ca093c",
   "metadata": {
    "execution": {
     "iopub.execute_input": "2022-04-09T04:09:32.222547Z",
     "iopub.status.busy": "2022-04-09T04:09:32.222230Z",
     "iopub.status.idle": "2022-04-09T04:09:33.587830Z",
     "shell.execute_reply": "2022-04-09T04:09:33.586812Z",
     "shell.execute_reply.started": "2022-04-09T04:09:32.222500Z"
    },
    "tags": []
   },
   "outputs": [
    {
     "data": {
      "application/vnd.jupyter.widget-view+json": {
       "model_id": "4ab4d4f07f2a482fb92f51e54eb9d315",
       "version_major": 2,
       "version_minor": 0
      },
      "text/plain": [
       "VBox()"
      ]
     },
     "metadata": {},
     "output_type": "display_data"
    },
    {
     "data": {
      "application/vnd.jupyter.widget-view+json": {
       "model_id": "",
       "version_major": 2,
       "version_minor": 0
      },
      "text/plain": [
       "FloatProgress(value=0.0, bar_style='info', description='Progress:', layout=Layout(height='25px', width='50%'),…"
      ]
     },
     "metadata": {},
     "output_type": "display_data"
    },
    {
     "name": "stdout",
     "output_type": "stream",
     "text": [
      "+--------------------+--------------------+--------------------+--------------------+--------------------+-----+\n",
      "|                text|               words|      cleaned_tokens|         rawFeatures|            features|label|\n",
      "+--------------------+--------------------+--------------------+--------------------+--------------------+-----+\n",
      "|What a great find...|[what, a, great, ...|[great, piece, po...|(16384,[42,1466,1...|(16384,[42,1466,1...|  1.0|\n",
      "|The only reason I...|[the, only, reaso...|[reason, stars, s...|(16384,[389,666,8...|(16384,[389,666,8...|  1.0|\n",
      "|It s fun that it ...|[it, s, fun, that...|[fun, water, grea...|(16384,[158,931,1...|(16384,[158,931,1...|  1.0|\n",
      "|I ve been to Smit...|[i, ve, been, to,...|[smith, couple, t...|(16384,[191,215,2...|(16384,[191,215,2...|  1.0|\n",
      "|We do love the fo...|[we, do, love, th...|[love, food, remi...|(16384,[37,620,16...|(16384,[37,620,16...|  1.0|\n",
      "|This place was al...|[this, place, was...|[place, alright, ...|(16384,[110,622,1...|(16384,[110,622,1...|  1.0|\n",
      "|Nice shopping exp...|[nice, shopping, ...|[nice, shopping, ...|(16384,[166,328,5...|(16384,[166,328,5...|  1.0|\n",
      "|How do you downgr...|[how, do, you, do...|[downgrade, laund...|(16384,[127,441,8...|(16384,[127,441,8...|  1.0|\n",
      "|Really fun place ...|[really, fun, pla...|[fun, place, uniq...|(16384,[42,747,22...|(16384,[42,747,22...|  1.0|\n",
      "|Fresh OJ     The ...|[fresh, oj, the, ...|[fresh, chorizo, ...|(16384,[4,577,240...|(16384,[4,577,240...|  1.0|\n",
      "|This cafe is so c...|[this, cafe, is, ...|[cafe, cute, serv...|(16384,[42,6923,7...|(16384,[42,6923,7...|  1.0|\n",
      "|Eb   Bean serves ...|[eb, bean, serves...|[eb, bean, serves...|(16384,[809,1071,...|(16384,[809,1071,...|  1.0|\n",
      "|I get it   capita...|[i, get, it, capi...|[capitalism, comp...|(16384,[263,475,5...|(16384,[263,475,5...|  1.0|\n",
      "|Food was good but...|[food, was, good,...|[food, good, abso...|(16384,[2495,2613...|(16384,[2495,2613...|  2.0|\n",
      "|Theres not a lot ...|[theres, not, a, ...|[lot, record, sto...|(16384,[167,777,1...|(16384,[167,777,1...|  1.0|\n",
      "|Best place we ate...|[best, place, we,...|[place, ate, visi...|(16384,[1081,1886...|(16384,[1081,1886...|  1.0|\n",
      "|I m a froyo lover...|[i, m, a, froyo, ...|[froyo, lover, ha...|(16384,[809,2254,...|(16384,[809,2254,...|  1.0|\n",
      "|Great staff  Non ...|[great, staff, no...|[great, staff, gr...|(16384,[1944,4417...|(16384,[1944,4417...|  1.0|\n",
      "|If you want to be...|[if, you, want, t...|[scalped, barber,...|(16384,[2271,6100...|(16384,[2271,6100...|  1.0|\n",
      "|My husband and I ...|[my, husband, and...|[husband, ordered...|(16384,[37,1165,1...|(16384,[37,1165,1...|  1.0|\n",
      "+--------------------+--------------------+--------------------+--------------------+--------------------+-----+\n",
      "only showing top 20 rows"
     ]
    }
   ],
   "source": [
    "df.show()"
   ]
  },
  {
   "cell_type": "code",
   "execution_count": 20,
   "id": "9240e036-09f4-4c80-a8f0-cd2ab1ef406b",
   "metadata": {
    "execution": {
     "iopub.execute_input": "2022-04-09T04:09:33.590422Z",
     "iopub.status.busy": "2022-04-09T04:09:33.590184Z",
     "iopub.status.idle": "2022-04-09T04:09:33.672584Z",
     "shell.execute_reply": "2022-04-09T04:09:33.671608Z",
     "shell.execute_reply.started": "2022-04-09T04:09:33.590390Z"
    },
    "tags": []
   },
   "outputs": [
    {
     "data": {
      "application/vnd.jupyter.widget-view+json": {
       "model_id": "1dda211044014079a47742cc30228c51",
       "version_major": 2,
       "version_minor": 0
      },
      "text/plain": [
       "VBox()"
      ]
     },
     "metadata": {},
     "output_type": "display_data"
    },
    {
     "data": {
      "application/vnd.jupyter.widget-view+json": {
       "model_id": "",
       "version_major": 2,
       "version_minor": 0
      },
      "text/plain": [
       "FloatProgress(value=0.0, bar_style='info', description='Progress:', layout=Layout(height='25px', width='50%'),…"
      ]
     },
     "metadata": {},
     "output_type": "display_data"
    },
    {
     "name": "stdout",
     "output_type": "stream",
     "text": [
      "root\n",
      " |-- text: string (nullable = true)\n",
      " |-- words: array (nullable = true)\n",
      " |    |-- element: string (containsNull = true)\n",
      " |-- cleaned_tokens: array (nullable = true)\n",
      " |    |-- element: string (containsNull = true)\n",
      " |-- rawFeatures: vector (nullable = true)\n",
      " |-- features: vector (nullable = true)\n",
      " |-- label: double (nullable = true)"
     ]
    }
   ],
   "source": [
    "df.printSchema()"
   ]
  },
  {
   "cell_type": "markdown",
   "id": "e4bc9701-c2bc-4383-abaf-39b77fd101e4",
   "metadata": {},
   "source": [
    "# Train Test Split"
   ]
  },
  {
   "cell_type": "code",
   "execution_count": 21,
   "id": "d94c4bb5-d8db-44f7-857b-4b37bdb5df8e",
   "metadata": {
    "execution": {
     "iopub.execute_input": "2022-04-09T04:09:33.674308Z",
     "iopub.status.busy": "2022-04-09T04:09:33.674054Z",
     "iopub.status.idle": "2022-04-09T04:09:34.482350Z",
     "shell.execute_reply": "2022-04-09T04:09:34.481417Z",
     "shell.execute_reply.started": "2022-04-09T04:09:33.674276Z"
    },
    "tags": []
   },
   "outputs": [
    {
     "data": {
      "application/vnd.jupyter.widget-view+json": {
       "model_id": "7b92ee1bb0ce4d3d98488409fa7900b3",
       "version_major": 2,
       "version_minor": 0
      },
      "text/plain": [
       "VBox()"
      ]
     },
     "metadata": {},
     "output_type": "display_data"
    },
    {
     "data": {
      "application/vnd.jupyter.widget-view+json": {
       "model_id": "",
       "version_major": 2,
       "version_minor": 0
      },
      "text/plain": [
       "FloatProgress(value=0.0, bar_style='info', description='Progress:', layout=Layout(height='25px', width='50%'),…"
      ]
     },
     "metadata": {},
     "output_type": "display_data"
    }
   ],
   "source": [
    "splits =df.select(['features', 'label']).randomSplit([0.7,0.3],seed=100)\n",
    "train = splits[0].cache()\n",
    "test = splits[1].cache()"
   ]
  },
  {
   "cell_type": "markdown",
   "id": "c93b7415-df3a-4b73-a001-2a169d8b9d15",
   "metadata": {},
   "source": [
    "# LogisticRegression"
   ]
  },
  {
   "cell_type": "markdown",
   "id": "c750e212-e329-49aa-81f2-d8ac95c34431",
   "metadata": {
    "execution": {
     "iopub.execute_input": "2022-04-09T04:09:34.607567Z",
     "iopub.status.busy": "2022-04-09T04:09:34.607208Z",
     "iopub.status.idle": "2022-04-09T04:09:34.904360Z",
     "shell.execute_reply": "2022-04-09T04:09:34.903510Z",
     "shell.execute_reply.started": "2022-04-09T04:09:34.607520Z"
    },
    "tags": []
   },
   "source": [
    "from pyspark.ml.classification import LogisticRegression"
   ]
  },
  {
   "cell_type": "code",
   "execution_count": 24,
   "id": "15dfed07-8cf8-419d-8f69-f1a48e6269d9",
   "metadata": {
    "collapsed": true,
    "execution": {
     "iopub.execute_input": "2022-04-09T04:09:34.905907Z",
     "iopub.status.busy": "2022-04-09T04:09:34.905645Z",
     "iopub.status.idle": "2022-04-09T04:15:25.665345Z",
     "shell.execute_reply": "2022-04-09T04:15:25.664376Z",
     "shell.execute_reply.started": "2022-04-09T04:09:34.905875Z"
    },
    "jupyter": {
     "outputs_hidden": true
    },
    "tags": []
   },
   "outputs": [
    {
     "data": {
      "application/vnd.jupyter.widget-view+json": {
       "model_id": "8bfc6bfa62aa4537bca71e9ef2fa20bc",
       "version_major": 2,
       "version_minor": 0
      },
      "text/plain": [
       "VBox()"
      ]
     },
     "metadata": {},
     "output_type": "display_data"
    },
    {
     "data": {
      "application/vnd.jupyter.widget-view+json": {
       "model_id": "",
       "version_major": 2,
       "version_minor": 0
      },
      "text/plain": [
       "FloatProgress(value=0.0, bar_style='info', description='Progress:', layout=Layout(height='25px', width='50%'),…"
      ]
     },
     "metadata": {},
     "output_type": "display_data"
    }
   ],
   "source": [
    "lr = LogisticRegression(maxIter=30, regParam=0.3, elasticNetParam=0)\n",
    "lrModel = lr.fit(train)"
   ]
  },
  {
   "cell_type": "code",
   "execution_count": 25,
   "id": "3e6ed6cd-123f-4e54-99cc-7f0d70af3e33",
   "metadata": {
    "execution": {
     "iopub.execute_input": "2022-04-09T04:15:25.666927Z",
     "iopub.status.busy": "2022-04-09T04:15:25.666610Z",
     "iopub.status.idle": "2022-04-09T04:15:26.152268Z",
     "shell.execute_reply": "2022-04-09T04:15:26.033557Z",
     "shell.execute_reply.started": "2022-04-09T04:15:25.666877Z"
    },
    "tags": []
   },
   "outputs": [
    {
     "data": {
      "application/vnd.jupyter.widget-view+json": {
       "model_id": "8f7c47d6e25d43c4a3dfa9140391bf4f",
       "version_major": 2,
       "version_minor": 0
      },
      "text/plain": [
       "VBox()"
      ]
     },
     "metadata": {},
     "output_type": "display_data"
    },
    {
     "data": {
      "application/vnd.jupyter.widget-view+json": {
       "model_id": "",
       "version_major": 2,
       "version_minor": 0
      },
      "text/plain": [
       "FloatProgress(value=0.0, bar_style='info', description='Progress:', layout=Layout(height='25px', width='50%'),…"
      ]
     },
     "metadata": {},
     "output_type": "display_data"
    }
   ],
   "source": [
    "trainpredictions = lrModel.transform(train)\n",
    "predictions = lrModel.transform(test)"
   ]
  },
  {
   "cell_type": "markdown",
   "id": "b075525d-d7b1-421f-aa50-e0c89e2cb939",
   "metadata": {},
   "source": [
    "# Model Evaluation"
   ]
  },
  {
   "cell_type": "code",
   "execution_count": 65,
   "id": "f030cc74-8859-406b-a295-25ea18ab9869",
   "metadata": {
    "execution": {
     "iopub.execute_input": "2022-04-09T04:47:29.909043Z",
     "iopub.status.busy": "2022-04-09T04:47:29.908764Z",
     "iopub.status.idle": "2022-04-09T04:47:31.218909Z",
     "shell.execute_reply": "2022-04-09T04:47:31.217863Z",
     "shell.execute_reply.started": "2022-04-09T04:47:29.909009Z"
    },
    "tags": []
   },
   "outputs": [
    {
     "data": {
      "application/vnd.jupyter.widget-view+json": {
       "model_id": "a2c52d80720247be81849dcd35413531",
       "version_major": 2,
       "version_minor": 0
      },
      "text/plain": [
       "VBox()"
      ]
     },
     "metadata": {},
     "output_type": "display_data"
    },
    {
     "data": {
      "application/vnd.jupyter.widget-view+json": {
       "model_id": "",
       "version_major": 2,
       "version_minor": 0
      },
      "text/plain": [
       "FloatProgress(value=0.0, bar_style='info', description='Progress:', layout=Layout(height='25px', width='50%'),…"
      ]
     },
     "metadata": {},
     "output_type": "display_data"
    },
    {
     "name": "stdout",
     "output_type": "stream",
     "text": [
      "0.8372403358083664"
     ]
    }
   ],
   "source": [
    "from pyspark.ml.evaluation import MulticlassClassificationEvaluator\n",
    "evaluator = MulticlassClassificationEvaluator(predictionCol=\"prediction\")\n",
    "evaluator.evaluate(predictions)"
   ]
  },
  {
   "cell_type": "code",
   "execution_count": 28,
   "id": "ba956523-77c4-48f2-9a86-0464a0127197",
   "metadata": {
    "execution": {
     "iopub.execute_input": "2022-04-09T04:20:53.175786Z",
     "iopub.status.busy": "2022-04-09T04:20:53.175366Z",
     "iopub.status.idle": "2022-04-09T04:21:04.613430Z",
     "shell.execute_reply": "2022-04-09T04:21:04.612484Z",
     "shell.execute_reply.started": "2022-04-09T04:20:53.175734Z"
    },
    "tags": []
   },
   "outputs": [
    {
     "data": {
      "application/vnd.jupyter.widget-view+json": {
       "model_id": "648476371a4f4503aa9a094a6bb5a30f",
       "version_major": 2,
       "version_minor": 0
      },
      "text/plain": [
       "VBox()"
      ]
     },
     "metadata": {},
     "output_type": "display_data"
    },
    {
     "data": {
      "application/vnd.jupyter.widget-view+json": {
       "model_id": "",
       "version_major": 2,
       "version_minor": 0
      },
      "text/plain": [
       "FloatProgress(value=0.0, bar_style='info', description='Progress:', layout=Layout(height='25px', width='50%'),…"
      ]
     },
     "metadata": {},
     "output_type": "display_data"
    },
    {
     "name": "stdout",
     "output_type": "stream",
     "text": [
      "Training F1 with logistic regression 0.8384438398619574\n",
      "Training F1 with logistic regression 0.8384438398619574\n",
      "Training weightedRecall with logistic regression 0.8649600767595184\n",
      "Training weightedPrecision with logistic regression 0.8697295052118257\n",
      "Training accuracy with logistic regression 0.8649600767595184\n",
      "Test accuracy with logistic regression 0.8640519214937391"
     ]
    }
   ],
   "source": [
    "print(\"Training F1 with logistic regression\",evaluator.evaluate(trainpredictions,{evaluator.metricName: \"f1\"}))\n",
    "print(\"Training F1 with logistic regression\",evaluator.evaluate(trainpredictions,{evaluator.metricName: \"f1\"}))\n",
    "print(\"Training weightedRecall with logistic regression\",evaluator.evaluate(trainpredictions,{evaluator.metricName: \"weightedRecall\"}))\n",
    "print(\"Training weightedPrecision with logistic regression\",evaluator.evaluate(trainpredictions,{evaluator.metricName: \"weightedPrecision\"}))\n",
    "print(\"Training accuracy with logistic regression\",evaluator.evaluate(trainpredictions,{evaluator.metricName: \"accuracy\"}))\n",
    "print(\"Test accuracy with logistic regression\",evaluator.evaluate(predictions,{evaluator.metricName: \"accuracy\"}))"
   ]
  },
  {
   "cell_type": "code",
   "execution_count": null,
   "id": "6731a6f1-df17-49cd-86bc-3ef9d8e2a75a",
   "metadata": {},
   "outputs": [],
   "source": []
  }
 ],
 "metadata": {
  "kernelspec": {
   "display_name": "PySpark",
   "language": "",
   "name": "pysparkkernel"
  },
  "language_info": {
   "codemirror_mode": {
    "name": "python",
    "version": 3
   },
   "mimetype": "text/x-python",
   "name": "pyspark",
   "pygments_lexer": "python3"
  }
 },
 "nbformat": 4,
 "nbformat_minor": 5
}
