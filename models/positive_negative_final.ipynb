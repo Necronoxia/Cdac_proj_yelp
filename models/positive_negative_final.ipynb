{
 "cells": [
  {
   "cell_type": "markdown",
   "id": "dd590b3e-291d-4fcb-81df-4637713bdc7f",
   "metadata": {},
   "source": [
    "# Installing Libraries"
   ]
  },
  {
   "cell_type": "code",
   "execution_count": 1,
   "id": "17a5645a-5cfd-4240-9569-89e25e9d5153",
   "metadata": {
    "execution": {
     "iopub.execute_input": "2022-04-09T07:19:38.024631Z",
     "iopub.status.busy": "2022-04-09T07:19:38.024362Z",
     "iopub.status.idle": "2022-04-09T07:20:47.761564Z",
     "shell.execute_reply": "2022-04-09T07:20:47.760652Z",
     "shell.execute_reply.started": "2022-04-09T07:19:38.024594Z"
    },
    "tags": []
   },
   "outputs": [
    {
     "data": {
      "application/vnd.jupyter.widget-view+json": {
       "model_id": "f102e5df14db43c69b8542e311baca0e",
       "version_major": 2,
       "version_minor": 0
      },
      "text/plain": [
       "VBox()"
      ]
     },
     "metadata": {},
     "output_type": "display_data"
    },
    {
     "name": "stdout",
     "output_type": "stream",
     "text": [
      "Starting Spark application\n"
     ]
    },
    {
     "data": {
      "text/html": [
       "<table>\n",
       "<tr><th>ID</th><th>YARN Application ID</th><th>Kind</th><th>State</th><th>Spark UI</th><th>Driver log</th><th>Current session?</th></tr><tr><td>0</td><td>application_1649488384065_0004</td><td>pyspark</td><td>idle</td><td><a target=\"_blank\" href=\"http://ip-172-31-53-190.ec2.internal:20888/proxy/application_1649488384065_0004/\" class=\"emr-proxy-link\" emr-resource=\"j-32WT0OJUN16ZU\n",
       "\" application-id=\"application_1649488384065_0004\">Link</a></td><td><a target=\"_blank\" href=\"http://ip-172-31-52-114.ec2.internal:8042/node/containerlogs/container_1649488384065_0004_01_000001/livy\" >Link</a></td><td>✔</td></tr></table>"
      ],
      "text/plain": [
       "<IPython.core.display.HTML object>"
      ]
     },
     "metadata": {},
     "output_type": "display_data"
    },
    {
     "data": {
      "application/vnd.jupyter.widget-view+json": {
       "model_id": "",
       "version_major": 2,
       "version_minor": 0
      },
      "text/plain": [
       "FloatProgress(value=0.0, bar_style='info', description='Progress:', layout=Layout(height='25px', width='50%'),…"
      ]
     },
     "metadata": {},
     "output_type": "display_data"
    },
    {
     "name": "stdout",
     "output_type": "stream",
     "text": [
      "SparkSession available as 'spark'.\n"
     ]
    },
    {
     "data": {
      "application/vnd.jupyter.widget-view+json": {
       "model_id": "",
       "version_major": 2,
       "version_minor": 0
      },
      "text/plain": [
       "FloatProgress(value=0.0, bar_style='info', description='Progress:', layout=Layout(height='25px', width='50%'),…"
      ]
     },
     "metadata": {},
     "output_type": "display_data"
    },
    {
     "name": "stdout",
     "output_type": "stream",
     "text": [
      "Collecting pandas==0.25.1\n",
      "  Downloading https://files.pythonhosted.org/packages/7e/ab/ea76361f9d3e732e114adcd801d2820d5319c23d0ac5482fa3b412db217e/pandas-0.25.1-cp37-cp37m-manylinux1_x86_64.whl (10.4MB)\n",
      "Requirement already satisfied: pytz>=2017.2 in /usr/local/lib/python3.7/site-packages (from pandas==0.25.1)\n",
      "Requirement already satisfied: numpy>=1.13.3 in /usr/local/lib64/python3.7/site-packages (from pandas==0.25.1)\n",
      "Collecting python-dateutil>=2.6.1 (from pandas==0.25.1)\n",
      "  Downloading https://files.pythonhosted.org/packages/36/7a/87837f39d0296e723bb9b62bbb257d0355c7f6128853c78955f57342a56d/python_dateutil-2.8.2-py2.py3-none-any.whl (247kB)\n",
      "Requirement already satisfied: six>=1.5 in /usr/local/lib/python3.7/site-packages (from python-dateutil>=2.6.1->pandas==0.25.1)\n",
      "Installing collected packages: python-dateutil, pandas\n",
      "Successfully installed pandas-0.25.1 python-dateutil-2.8.2\n",
      "\n",
      "Collecting textblob\n",
      "  Downloading https://files.pythonhosted.org/packages/44/a4/595b66c1342a830f4ff476307c4367541cce3e361b9ee96d22a5eeeddd1d/textblob-0.17.1-py2.py3-none-any.whl (636kB)\n",
      "Requirement already satisfied: nltk>=3.1; python_version >= \"3\" in /usr/local/lib/python3.7/site-packages (from textblob)\n",
      "Requirement already satisfied: click in /usr/local/lib64/python3.7/site-packages (from nltk>=3.1; python_version >= \"3\"->textblob)\n",
      "Requirement already satisfied: joblib in /usr/local/lib64/python3.7/site-packages (from nltk>=3.1; python_version >= \"3\"->textblob)\n",
      "Requirement already satisfied: regex in /usr/local/lib64/python3.7/site-packages (from nltk>=3.1; python_version >= \"3\"->textblob)\n",
      "Requirement already satisfied: tqdm in /usr/local/lib64/python3.7/site-packages (from nltk>=3.1; python_version >= \"3\"->textblob)\n",
      "Installing collected packages: textblob\n",
      "Successfully installed textblob-0.17.1\n",
      "\n",
      "Collecting matplotlib==3.1.1\n",
      "  Downloading https://files.pythonhosted.org/packages/19/7a/60bd79c5d79559150f8bba866dd7d434f0a170312e4d15e8aefa5faba294/matplotlib-3.1.1-cp37-cp37m-manylinux1_x86_64.whl (13.1MB)\n",
      "Requirement already satisfied: python-dateutil>=2.1 in /mnt/tmp/1649488808817-0/lib/python3.7/site-packages (from matplotlib==3.1.1)\n",
      "Collecting pyparsing!=2.0.4,!=2.1.2,!=2.1.6,>=2.0.1 (from matplotlib==3.1.1)\n",
      "  Downloading https://files.pythonhosted.org/packages/80/c1/23fd82ad3121656b585351aba6c19761926bb0db2ebed9e4ff09a43a3fcc/pyparsing-3.0.7-py3-none-any.whl (98kB)\n",
      "Collecting cycler>=0.10 (from matplotlib==3.1.1)\n",
      "  Downloading https://files.pythonhosted.org/packages/5c/f9/695d6bedebd747e5eb0fe8fad57b72fdf25411273a39791cde838d5a8f51/cycler-0.11.0-py3-none-any.whl\n",
      "Requirement already satisfied: numpy>=1.11 in /usr/local/lib64/python3.7/site-packages (from matplotlib==3.1.1)\n",
      "Collecting kiwisolver>=1.0.1 (from matplotlib==3.1.1)\n",
      "  Downloading https://files.pythonhosted.org/packages/51/50/9a9a94afa26c50fc5d9127272737806990aa698c7a1c220b8e5075e70304/kiwisolver-1.4.2-cp37-cp37m-manylinux_2_5_x86_64.manylinux1_x86_64.whl (1.1MB)\n",
      "Requirement already satisfied: six>=1.5 in /usr/local/lib/python3.7/site-packages (from python-dateutil>=2.1->matplotlib==3.1.1)\n",
      "Collecting typing-extensions; python_version < \"3.8\" (from kiwisolver>=1.0.1->matplotlib==3.1.1)\n",
      "  Downloading https://files.pythonhosted.org/packages/45/6b/44f7f8f1e110027cf88956b59f2fad776cca7e1704396d043f89effd3a0e/typing_extensions-4.1.1-py3-none-any.whl\n",
      "Installing collected packages: pyparsing, cycler, typing-extensions, kiwisolver, matplotlib\n",
      "Successfully installed cycler-0.11.0 kiwisolver-1.4.2 matplotlib-3.1.1 pyparsing-3.0.7 typing-extensions-4.1.1\n",
      "\n",
      "You are using pip version 9.0.1, however version 22.0.4 is available.\n",
      "You should consider upgrading via the 'pip install --upgrade pip' command.\n",
      "\n",
      "You are using pip version 9.0.1, however version 22.0.4 is available.\n",
      "You should consider upgrading via the 'pip install --upgrade pip' command.\n",
      "\n",
      "You are using pip version 9.0.1, however version 22.0.4 is available.\n",
      "You should consider upgrading via the 'pip install --upgrade pip' command."
     ]
    }
   ],
   "source": [
    "sc.install_pypi_package(\"pandas==0.25.1\")\n",
    "sc.install_pypi_package(\"textblob\")\n",
    "sc.install_pypi_package(\"matplotlib==3.1.1\", \"https://pypi.org/simple\")"
   ]
  },
  {
   "cell_type": "markdown",
   "id": "583e153c-b2f2-4878-abfd-971d6d8c7f88",
   "metadata": {},
   "source": [
    "# Importing Libraries"
   ]
  },
  {
   "cell_type": "code",
   "execution_count": 2,
   "id": "fe806516-fb0d-4fda-a241-8cd0d25ad5a4",
   "metadata": {
    "execution": {
     "iopub.execute_input": "2022-04-09T07:20:47.763724Z",
     "iopub.status.busy": "2022-04-09T07:20:47.763382Z",
     "iopub.status.idle": "2022-04-09T07:20:50.106092Z",
     "shell.execute_reply": "2022-04-09T07:20:50.105158Z",
     "shell.execute_reply.started": "2022-04-09T07:20:47.763673Z"
    },
    "tags": []
   },
   "outputs": [
    {
     "data": {
      "application/vnd.jupyter.widget-view+json": {
       "model_id": "789807fd6b4e45b58da2f335c01eef26",
       "version_major": 2,
       "version_minor": 0
      },
      "text/plain": [
       "VBox()"
      ]
     },
     "metadata": {},
     "output_type": "display_data"
    },
    {
     "data": {
      "application/vnd.jupyter.widget-view+json": {
       "model_id": "",
       "version_major": 2,
       "version_minor": 0
      },
      "text/plain": [
       "FloatProgress(value=0.0, bar_style='info', description='Progress:', layout=Layout(height='25px', width='50%'),…"
      ]
     },
     "metadata": {},
     "output_type": "display_data"
    }
   ],
   "source": [
    "from pyspark.sql.functions import *\n",
    "from pyspark.sql.functions import udf\n",
    "from pyspark.sql.types import IntegerType\n",
    "\n",
    "from pyspark.mllib.classification import SVMModel, SVMWithSGD\n",
    "from pyspark.mllib.regression import LabeledPoint\n",
    "from pyspark.mllib.linalg import Vectors as MLLibVectors\n",
    "from pyspark.ml import Pipeline\n",
    "from pyspark.ml.evaluation import BinaryClassificationEvaluator, MulticlassClassificationEvaluator\n",
    "from pyspark.ml.feature import * \n",
    "from pyspark.ml.tuning import CrossValidator\n",
    "from pyspark.ml.tuning import ParamGridBuilder\n",
    "\n",
    "\n",
    "from nltk.stem.porter import *\n",
    "from nltk.tokenize import word_tokenize, sent_tokenize\n",
    "from nltk.corpus import stopwords\n",
    "\n",
    "\n",
    "from pyspark.ml.feature import IDF\n",
    "\n",
    "#import pandas as pd\n",
    "import string \n",
    "import re \n",
    "\n",
    "from textblob import TextBlob\n",
    "from pyspark.sql.functions import udf\n",
    "from pyspark.sql.types import DoubleType\n",
    "\n",
    "from pyspark.ml import Pipeline\n",
    "from pyspark.ml.feature import OneHotEncoder, StringIndexer, VectorAssembler\n"
   ]
  },
  {
   "cell_type": "markdown",
   "id": "c0e483dd-68e5-4dd4-9a1c-3a8f48ebb14f",
   "metadata": {},
   "source": [
    "# Data Loading"
   ]
  },
  {
   "cell_type": "code",
   "execution_count": 3,
   "id": "ec8b70ef-27ae-459c-b66a-e74310911f93",
   "metadata": {
    "execution": {
     "iopub.execute_input": "2022-04-09T07:20:50.108034Z",
     "iopub.status.busy": "2022-04-09T07:20:50.107745Z",
     "iopub.status.idle": "2022-04-09T07:20:52.459411Z",
     "shell.execute_reply": "2022-04-09T07:20:52.458352Z",
     "shell.execute_reply.started": "2022-04-09T07:20:50.108002Z"
    },
    "tags": []
   },
   "outputs": [
    {
     "data": {
      "application/vnd.jupyter.widget-view+json": {
       "model_id": "fc23572e754e421e99c61454053b0b53",
       "version_major": 2,
       "version_minor": 0
      },
      "text/plain": [
       "VBox()"
      ]
     },
     "metadata": {},
     "output_type": "display_data"
    },
    {
     "data": {
      "application/vnd.jupyter.widget-view+json": {
       "model_id": "",
       "version_major": 2,
       "version_minor": 0
      },
      "text/plain": [
       "FloatProgress(value=0.0, bar_style='info', description='Progress:', layout=Layout(height='25px', width='50%'),…"
      ]
     },
     "metadata": {},
     "output_type": "display_data"
    }
   ],
   "source": [
    "review = spark.read.orc(\"hdfs:///NLP_orc_shrunk/\")"
   ]
  },
  {
   "cell_type": "code",
   "execution_count": 4,
   "id": "cd21aa9a-c0de-4b21-9551-4ee3e9934c98",
   "metadata": {
    "execution": {
     "iopub.execute_input": "2022-04-09T07:20:52.462470Z",
     "iopub.status.busy": "2022-04-09T07:20:52.461460Z",
     "iopub.status.idle": "2022-04-09T07:20:55.873040Z",
     "shell.execute_reply": "2022-04-09T07:20:55.871993Z",
     "shell.execute_reply.started": "2022-04-09T07:20:52.462416Z"
    },
    "tags": []
   },
   "outputs": [
    {
     "data": {
      "application/vnd.jupyter.widget-view+json": {
       "model_id": "0518737cba8e479a97bd86fcc6b712dd",
       "version_major": 2,
       "version_minor": 0
      },
      "text/plain": [
       "VBox()"
      ]
     },
     "metadata": {},
     "output_type": "display_data"
    },
    {
     "data": {
      "application/vnd.jupyter.widget-view+json": {
       "model_id": "",
       "version_major": 2,
       "version_minor": 0
      },
      "text/plain": [
       "FloatProgress(value=0.0, bar_style='info', description='Progress:', layout=Layout(height='25px', width='50%'),…"
      ]
     },
     "metadata": {},
     "output_type": "display_data"
    },
    {
     "name": "stdout",
     "output_type": "stream",
     "text": [
      "+-----+--------------------+\n",
      "|stars|                text|\n",
      "+-----+--------------------+\n",
      "|  5.0|What a great find...|\n",
      "|  2.0|The only reason I...|\n",
      "+-----+--------------------+\n",
      "only showing top 2 rows"
     ]
    }
   ],
   "source": [
    "review.show(2)"
   ]
  },
  {
   "cell_type": "markdown",
   "id": "46163a67-cfe6-4231-b90e-e7b89c7b8fd4",
   "metadata": {},
   "source": [
    "# Remove punctuation"
   ]
  },
  {
   "cell_type": "code",
   "execution_count": 5,
   "id": "0efecde3-1a4b-4ef6-92da-b79840d9e308",
   "metadata": {
    "execution": {
     "iopub.execute_input": "2022-04-09T07:20:55.874253Z",
     "iopub.status.busy": "2022-04-09T07:20:55.874016Z",
     "iopub.status.idle": "2022-04-09T07:20:56.184822Z",
     "shell.execute_reply": "2022-04-09T07:20:56.183748Z",
     "shell.execute_reply.started": "2022-04-09T07:20:55.874194Z"
    },
    "tags": []
   },
   "outputs": [
    {
     "data": {
      "application/vnd.jupyter.widget-view+json": {
       "model_id": "62c87faedb3d4b63bc7d49cca366c188",
       "version_major": 2,
       "version_minor": 0
      },
      "text/plain": [
       "VBox()"
      ]
     },
     "metadata": {},
     "output_type": "display_data"
    },
    {
     "data": {
      "application/vnd.jupyter.widget-view+json": {
       "model_id": "",
       "version_major": 2,
       "version_minor": 0
      },
      "text/plain": [
       "FloatProgress(value=0.0, bar_style='info', description='Progress:', layout=Layout(height='25px', width='50%'),…"
      ]
     },
     "metadata": {},
     "output_type": "display_data"
    }
   ],
   "source": [
    "# remove punctuation\n",
    "def remove_punct(text):\n",
    "    regex = re.compile('[' + re.escape(string.punctuation) + '0-9\\\\r\\\\t\\\\n]')\n",
    "    nopunct = regex.sub(\" \", text) \n",
    "    \n",
    "    return nopunct\n",
    "    \n",
    "# binarize rating\n",
    "def convert_rating(rating):\n",
    "    rating = int(rating)\n",
    "    if rating >=4: return 1\n",
    "    else: return 0\n",
    "\n",
    "# udf\n",
    "punct_remover = udf(lambda x: remove_punct(x))\n",
    "rating_convert = udf(lambda x: convert_rating(x))\n",
    "\n",
    "# apply to review raw data\n",
    "review_df = review.select(punct_remover('text'), rating_convert('stars'))\n",
    "\n",
    "review_df = review_df.withColumnRenamed('<lambda>(text)', 'text')\\\n",
    "                     .withColumn('label', review_df[\"<lambda>(stars)\"].cast(IntegerType()))\\\n",
    "                     .drop('<lambda>(stars)')"
   ]
  },
  {
   "cell_type": "code",
   "execution_count": 6,
   "id": "470add4c-5db6-445e-b81a-ec91f784d4ec",
   "metadata": {
    "execution": {
     "iopub.execute_input": "2022-04-09T07:20:56.188059Z",
     "iopub.status.busy": "2022-04-09T07:20:56.187746Z",
     "iopub.status.idle": "2022-04-09T07:20:59.592642Z",
     "shell.execute_reply": "2022-04-09T07:20:59.591490Z",
     "shell.execute_reply.started": "2022-04-09T07:20:56.188014Z"
    },
    "tags": []
   },
   "outputs": [
    {
     "data": {
      "application/vnd.jupyter.widget-view+json": {
       "model_id": "bd86048cbdb8463a881335dae61f189f",
       "version_major": 2,
       "version_minor": 0
      },
      "text/plain": [
       "VBox()"
      ]
     },
     "metadata": {},
     "output_type": "display_data"
    },
    {
     "data": {
      "application/vnd.jupyter.widget-view+json": {
       "model_id": "",
       "version_major": 2,
       "version_minor": 0
      },
      "text/plain": [
       "FloatProgress(value=0.0, bar_style='info', description='Progress:', layout=Layout(height='25px', width='50%'),…"
      ]
     },
     "metadata": {},
     "output_type": "display_data"
    },
    {
     "name": "stdout",
     "output_type": "stream",
     "text": [
      "+--------------------+-----+\n",
      "|                text|label|\n",
      "+--------------------+-----+\n",
      "|What a great find...|    1|\n",
      "|The only reason I...|    0|\n",
      "|It s fun that it ...|    0|\n",
      "|I ve been to Smit...|    0|\n",
      "|We do love the fo...|    1|\n",
      "+--------------------+-----+\n",
      "only showing top 5 rows"
     ]
    }
   ],
   "source": [
    "review_df.show(5)"
   ]
  },
  {
   "cell_type": "markdown",
   "id": "f6518e9b-218f-4a01-adad-f9f47941e353",
   "metadata": {
    "execution": {
     "iopub.execute_input": "2022-04-09T05:01:44.623178Z",
     "iopub.status.busy": "2022-04-09T05:01:44.622870Z",
     "iopub.status.idle": "2022-04-09T05:01:44.701056Z",
     "shell.execute_reply": "2022-04-09T05:01:44.700184Z",
     "shell.execute_reply.started": "2022-04-09T05:01:44.623142Z"
    }
   },
   "source": [
    "# Stopwaods"
   ]
  },
  {
   "cell_type": "code",
   "execution_count": 7,
   "id": "dba426fa-d8ad-43f5-8ca5-b75e1556e727",
   "metadata": {
    "execution": {
     "iopub.execute_input": "2022-04-09T07:20:59.594468Z",
     "iopub.status.busy": "2022-04-09T07:20:59.594176Z",
     "iopub.status.idle": "2022-04-09T07:20:59.776474Z",
     "shell.execute_reply": "2022-04-09T07:20:59.775251Z",
     "shell.execute_reply.started": "2022-04-09T07:20:59.594436Z"
    },
    "tags": []
   },
   "outputs": [
    {
     "data": {
      "application/vnd.jupyter.widget-view+json": {
       "model_id": "f90215af22f04753814f5f24521e6934",
       "version_major": 2,
       "version_minor": 0
      },
      "text/plain": [
       "VBox()"
      ]
     },
     "metadata": {},
     "output_type": "display_data"
    },
    {
     "data": {
      "application/vnd.jupyter.widget-view+json": {
       "model_id": "",
       "version_major": 2,
       "version_minor": 0
      },
      "text/plain": [
       "FloatProgress(value=0.0, bar_style='info', description='Progress:', layout=Layout(height='25px', width='50%'),…"
      ]
     },
     "metadata": {},
     "output_type": "display_data"
    }
   ],
   "source": [
    "stops = [\"0o\", \"0s\", \"3a\", \"3b\", \"3d\", \"6b\", \"6o\", \"a\", \"a1\", \"a2\", \"a3\", \"a4\", \"ab\", \"able\", \"about\", \"above\", \"abst\", \"ac\", \"accordance\", \"according\", \"accordingly\", \"across\", \"act\", \"actually\", \"ad\", \"added\", \"adj\", \"ae\", \"af\", \"affected\", \"affecting\", \"affects\", \"after\", \"afterwards\", \"ag\", \"again\", \"against\", \"ah\", \"ain\", \"ain't\", \"aj\", \"al\", \"all\", \"allow\", \"allows\", \"almost\", \"alone\", \"along\", \"already\", \"also\", \"although\", \"always\", \"am\", \"among\", \"amongst\", \"amoungst\", \"amount\", \"an\", \"and\", \"announce\", \"another\", \"any\", \"anybody\", \"anyhow\", \"anymore\", \"anyone\", \"anything\", \"anyway\", \"anyways\", \"anywhere\", \"ao\", \"ap\", \"apart\", \"apparently\", \"appear\", \"appreciate\", \"appropriate\", \"approximately\", \"ar\", \"are\", \"aren\", \"arent\", \"aren't\", \"arise\", \"around\", \"as\", \"a's\", \"aside\", \"ask\", \"asking\", \"associated\", \"at\", \"au\", \"auth\", \"av\", \"available\", \"aw\", \"away\", \"awfully\", \"ax\", \"ay\", \"az\", \"b\", \"b1\", \"b2\", \"b3\", \"ba\", \"back\", \"bc\", \"bd\", \"be\", \"became\", \"because\", \"become\", \"becomes\", \"becoming\", \"been\", \"before\", \"beforehand\", \"begin\", \"beginning\", \"beginnings\", \"begins\", \"behind\", \"being\", \"believe\", \"below\", \"beside\", \"besides\", \"best\", \"better\", \"between\", \"beyond\", \"bi\", \"bill\", \"biol\", \"bj\", \"bk\", \"bl\", \"bn\", \"both\", \"bottom\", \"bp\", \"br\", \"brief\", \"briefly\", \"bs\", \"bt\", \"bu\", \"but\", \"bx\", \"by\", \"c\", \"c1\", \"c2\", \"c3\", \"ca\", \"call\", \"came\", \"can\", \"cannot\", \"cant\", \"can't\", \"cause\", \"causes\", \"cc\", \"cd\", \"ce\", \"certain\", \"certainly\", \"cf\", \"cg\", \"ch\", \"changes\", \"ci\", \"cit\", \"cj\", \"cl\", \"clearly\", \"cm\", \"c'mon\", \"cn\", \"co\", \"com\", \"come\", \"comes\", \"con\", \"concerning\", \"consequently\", \"consider\", \"considering\", \"contain\", \"containing\", \"contains\", \"corresponding\", \"could\", \"couldn\", \"couldnt\", \"couldn't\", \"course\", \"cp\", \"cq\", \"cr\", \"cry\", \"cs\", \"c's\", \"ct\", \"cu\", \"currently\", \"cv\", \"cx\", \"cy\", \"cz\", \"d\", \"d2\", \"da\", \"date\", \"dc\", \"dd\", \"de\", \"definitely\", \"describe\", \"described\", \"despite\", \"detail\", \"df\", \"di\", \"did\", \"didn\", \"didn't\", \"different\", \"dj\", \"dk\", \"dl\", \"do\", \"does\", \"doesn\", \"doesn't\", \"doing\", \"don\", \"done\", \"don't\", \"down\", \"downwards\", \"dp\", \"dr\", \"ds\", \"dt\", \"du\", \"due\", \"during\", \"dx\", \"dy\", \"e\", \"e2\", \"e3\", \"ea\", \"each\", \"ec\", \"ed\", \"edu\", \"ee\", \"ef\", \"effect\", \"eg\", \"ei\", \"eight\", \"eighty\", \"either\", \"ej\", \"el\", \"eleven\", \"else\", \"elsewhere\", \"em\", \"empty\", \"en\", \"end\", \"ending\", \"enough\", \"entirely\", \"eo\", \"ep\", \"eq\", \"er\", \"es\", \"especially\", \"est\", \"et\", \"et-al\", \"etc\", \"eu\", \"ev\", \"even\", \"ever\", \"every\", \"everybody\", \"everyone\", \"everything\", \"everywhere\", \"ex\", \"exactly\", \"example\", \"except\", \"ey\", \"f\", \"f2\", \"fa\", \"far\", \"fc\", \"few\", \"ff\", \"fi\", \"fifteen\", \"fifth\", \"fify\", \"fill\", \"find\", \"fire\", \"first\", \"five\", \"fix\", \"fj\", \"fl\", \"fn\", \"fo\", \"followed\", \"following\", \"follows\", \"for\", \"former\", \"formerly\", \"forth\", \"forty\", \"found\", \"four\", \"fr\", \"from\", \"front\", \"fs\", \"ft\", \"fu\", \"full\", \"further\", \"furthermore\", \"fy\", \"g\", \"ga\", \"gave\", \"ge\", \"get\", \"gets\", \"getting\", \"gi\", \"give\", \"given\", \"gives\", \"giving\", \"gj\", \"gl\", \"go\", \"goes\", \"going\", \"gone\", \"got\", \"gotten\", \"gr\", \"greetings\", \"gs\", \"gy\", \"h\", \"h2\", \"h3\", \"had\", \"hadn\", \"hadn't\", \"happens\", \"hardly\", \"has\", \"hasn\", \"hasnt\", \"hasn't\", \"have\", \"haven\", \"haven't\", \"having\", \"he\", \"hed\", \"he'd\", \"he'll\", \"hello\", \"help\", \"hence\", \"her\", \"here\", \"hereafter\", \"hereby\", \"herein\", \"heres\", \"here's\", \"hereupon\", \"hers\", \"herself\", \"hes\", \"he's\", \"hh\", \"hi\", \"hid\", \"him\", \"himself\", \"his\", \"hither\", \"hj\", \"ho\", \"home\", \"hopefully\", \"how\", \"howbeit\", \"however\", \"how's\", \"hr\", \"hs\", \"http\", \"hu\", \"hundred\", \"hy\", \"i\", \"i2\", \"i3\", \"i4\", \"i6\", \"i7\", \"i8\", \"ia\", \"ib\", \"ibid\", \"ic\", \"id\", \"i'd\", \"ie\", \"if\", \"ig\", \"ignored\", \"ih\", \"ii\", \"ij\", \"il\", \"i'll\", \"im\", \"i'm\", \"immediate\", \"immediately\", \"importance\", \"important\", \"in\", \"inasmuch\", \"inc\", \"indeed\", \"index\", \"indicate\", \"indicated\", \"indicates\", \"information\", \"inner\", \"insofar\", \"instead\", \"interest\", \"into\", \"invention\", \"inward\", \"io\", \"ip\", \"iq\", \"ir\", \"is\", \"isn\", \"isn't\", \"it\", \"itd\", \"it'd\", \"it'll\", \"its\", \"it's\", \"itself\", \"iv\", \"i've\", \"ix\", \"iy\", \"iz\", \"j\", \"jj\", \"jr\", \"js\", \"jt\", \"ju\", \"just\", \"k\", \"ke\", \"keep\", \"keeps\", \"kept\", \"kg\", \"kj\", \"km\", \"know\", \"known\", \"knows\", \"ko\", \"l\", \"l2\", \"la\", \"largely\", \"last\", \"lately\", \"later\", \"latter\", \"latterly\", \"lb\", \"lc\", \"le\", \"least\", \"les\", \"less\", \"lest\", \"let\", \"lets\", \"let's\", \"lf\", \"like\", \"liked\", \"likely\", \"line\", \"little\", \"lj\", \"ll\", \"ll\", \"ln\", \"lo\", \"look\", \"looking\", \"looks\", \"los\", \"lr\", \"ls\", \"lt\", \"ltd\", \"m\", \"m2\", \"ma\", \"made\", \"mainly\", \"make\", \"makes\", \"many\", \"may\", \"maybe\", \"me\", \"mean\", \"means\", \"meantime\", \"meanwhile\", \"merely\", \"mg\", \"might\", \"mightn\", \"mightn't\", \"mill\", \"million\", \"mine\", \"miss\", \"ml\", \"mn\", \"mo\", \"more\", \"moreover\", \"most\", \"mostly\", \"move\", \"mr\", \"mrs\", \"ms\", \"mt\", \"mu\", \"much\", \"mug\", \"must\", \"mustn\", \"mustn't\", \"my\", \"myself\", \"n\", \"n2\", \"na\", \"name\", \"namely\", \"nay\", \"nc\", \"nd\", \"ne\", \"near\", \"nearly\", \"necessarily\", \"necessary\", \"need\", \"needn\", \"needn't\", \"needs\", \"neither\", \"never\", \"nevertheless\", \"new\", \"next\", \"ng\", \"ni\", \"nine\", \"ninety\", \"nj\", \"nl\", \"nn\", \"no\", \"nobody\", \"non\", \"none\", \"nonetheless\", \"noone\", \"nor\", \"normally\", \"nos\", \"not\", \"noted\", \"nothing\", \"novel\", \"now\", \"nowhere\", \"nr\", \"ns\", \"nt\", \"ny\", \"o\", \"oa\", \"ob\", \"obtain\", \"obtained\", \"obviously\", \"oc\", \"od\", \"of\", \"off\", \"often\", \"og\", \"oh\", \"oi\", \"oj\", \"ok\", \"okay\", \"ol\", \"old\", \"om\", \"omitted\", \"on\", \"once\", \"one\", \"ones\", \"only\", \"onto\", \"oo\", \"op\", \"oq\", \"or\", \"ord\", \"os\", \"ot\", \"other\", \"others\", \"otherwise\", \"ou\", \"ought\", \"our\", \"ours\", \"ourselves\", \"out\", \"outside\", \"over\", \"overall\", \"ow\", \"owing\", \"own\", \"ox\", \"oz\", \"p\", \"p1\", \"p2\", \"p3\", \"page\", \"pagecount\", \"pages\", \"par\", \"part\", \"particular\", \"particularly\", \"pas\", \"past\", \"pc\", \"pd\", \"pe\", \"per\", \"perhaps\", \"pf\", \"ph\", \"pi\", \"pj\", \"pk\", \"pl\", \"placed\", \"please\", \"plus\", \"pm\", \"pn\", \"po\", \"poorly\", \"possible\", \"possibly\", \"potentially\", \"pp\", \"pq\", \"pr\", \"predominantly\", \"present\", \"presumably\", \"previously\", \"primarily\", \"probably\", \"promptly\", \"proud\", \"provides\", \"ps\", \"pt\", \"pu\", \"put\", \"py\", \"q\", \"qj\", \"qu\", \"que\", \"quickly\", \"quite\", \"qv\", \"r\", \"r2\", \"ra\", \"ran\", \"rather\", \"rc\", \"rd\", \"re\", \"readily\", \"really\", \"reasonably\", \"recent\", \"recently\", \"ref\", \"refs\", \"regarding\", \"regardless\", \"regards\", \"related\", \"relatively\", \"research\", \"research-articl\", \"respectively\", \"resulted\", \"resulting\", \"results\", \"rf\", \"rh\", \"ri\", \"right\", \"rj\", \"rl\", \"rm\", \"rn\", \"ro\", \"rq\", \"rr\", \"rs\", \"rt\", \"ru\", \"run\", \"rv\", \"ry\", \"s\", \"s2\", \"sa\", \"said\", \"same\", \"saw\", \"say\", \"saying\", \"says\", \"sc\", \"sd\", \"se\", \"sec\", \"second\", \"secondly\", \"section\", \"see\", \"seeing\", \"seem\", \"seemed\", \"seeming\", \"seems\", \"seen\", \"self\", \"selves\", \"sensible\", \"sent\", \"serious\", \"seriously\", \"seven\", \"several\", \"sf\", \"shall\", \"shan\", \"shan't\", \"she\", \"shed\", \"she'd\", \"she'll\", \"shes\", \"she's\", \"should\", \"shouldn\", \"shouldn't\", \"should've\", \"show\", \"showed\", \"shown\", \"showns\", \"shows\", \"si\", \"side\", \"significant\", \"significantly\", \"similar\", \"similarly\", \"since\", \"sincere\", \"six\", \"sixty\", \"sj\", \"sl\", \"slightly\", \"sm\", \"sn\", \"so\", \"some\", \"somebody\", \"somehow\", \"someone\", \"somethan\", \"something\", \"sometime\", \"sometimes\", \"somewhat\", \"somewhere\", \"soon\", \"sorry\", \"sp\", \"specifically\", \"specified\", \"specify\", \"specifying\", \"sq\", \"sr\", \"ss\", \"st\", \"still\", \"stop\", \"strongly\", \"sub\", \"substantially\", \"successfully\", \"such\", \"sufficiently\", \"suggest\", \"sup\", \"sure\", \"sy\", \"system\", \"sz\", \"t\", \"t1\", \"t2\", \"t3\", \"take\", \"taken\", \"taking\", \"tb\", \"tc\", \"td\", \"te\", \"tell\", \"ten\", \"tends\", \"tf\", \"th\", \"than\", \"thank\", \"thanks\", \"thanx\", \"that\", \"that'll\", \"thats\", \"that's\", \"that've\", \"the\", \"their\", \"theirs\", \"them\", \"themselves\", \"then\", \"thence\", \"there\", \"thereafter\", \"thereby\", \"thered\", \"therefore\", \"therein\", \"there'll\", \"thereof\", \"therere\", \"theres\", \"there's\", \"thereto\", \"thereupon\", \"there've\", \"these\", \"they\", \"theyd\", \"they'd\", \"they'll\", \"theyre\", \"they're\", \"they've\", \"thickv\", \"thin\", \"think\", \"third\", \"this\", \"thorough\", \"thoroughly\", \"those\", \"thou\", \"though\", \"thoughh\", \"thousand\", \"three\", \"throug\", \"through\", \"throughout\", \"thru\", \"thus\", \"ti\", \"til\", \"tip\", \"tj\", \"tl\", \"tm\", \"tn\", \"to\", \"together\", \"too\", \"took\", \"top\", \"toward\", \"towards\", \"tp\", \"tq\", \"tr\", \"tried\", \"tries\", \"truly\", \"try\", \"trying\", \"ts\", \"t's\", \"tt\", \"tv\", \"twelve\", \"twenty\", \"twice\", \"two\", \"tx\", \"u\", \"u201d\", \"ue\", \"ui\", \"uj\", \"uk\", \"um\", \"un\", \"under\", \"unfortunately\", \"unless\", \"unlike\", \"unlikely\", \"until\", \"unto\", \"uo\", \"up\", \"upon\", \"ups\", \"ur\", \"us\", \"use\", \"used\", \"useful\", \"usefully\", \"usefulness\", \"uses\", \"using\", \"usually\", \"ut\", \"v\", \"va\", \"value\", \"various\", \"vd\", \"ve\", \"ve\", \"very\", \"via\", \"viz\", \"vj\", \"vo\", \"vol\", \"vols\", \"volumtype\", \"vq\", \"vs\", \"vt\", \"vu\", \"w\", \"wa\", \"want\", \"wants\", \"was\", \"wasn\", \"wasnt\", \"wasn't\", \"way\", \"we\", \"wed\", \"we'd\", \"welcome\", \"well\", \"we'll\", \"well-b\", \"went\", \"were\", \"we're\", \"weren\", \"werent\", \"weren't\", \"we've\", \"what\", \"whatever\", \"what'll\", \"whats\", \"what's\", \"when\", \"whence\", \"whenever\", \"when's\", \"where\", \"whereafter\", \"whereas\", \"whereby\", \"wherein\", \"wheres\", \"where's\", \"whereupon\", \"wherever\", \"whether\", \"which\", \"while\", \"whim\", \"whither\", \"who\", \"whod\", \"whoever\", \"whole\", \"who'll\", \"whom\", \"whomever\", \"whos\", \"who's\", \"whose\", \"why\", \"why's\", \"wi\", \"widely\", \"will\", \"willing\", \"wish\", \"with\", \"within\", \"without\", \"wo\", \"won\", \"wonder\", \"wont\", \"won't\", \"words\", \"world\", \"would\", \"wouldn\", \"wouldnt\", \"wouldn't\", \"www\", \"x\", \"x1\", \"x2\", \"x3\", \"xf\", \"xi\", \"xj\", \"xk\", \"xl\", \"xn\", \"xo\", \"xs\", \"xt\", \"xv\", \"xx\", \"y\", \"y2\", \"yes\", \"yet\", \"yj\", \"yl\", \"you\", \"youd\", \"you'd\", \"you'll\", \"your\", \"youre\", \"you're\", \"yours\", \"yourself\", \"yourselves\", \"you've\", \"yr\", \"ys\", \"yt\", \"z\", \"zero\", \"zi\", \"zz\"]"
   ]
  },
  {
   "cell_type": "markdown",
   "id": "f7fe1fd5-0d7f-44e5-9fb4-97d3d3642f8a",
   "metadata": {},
   "source": [
    "# RegexTokenizer"
   ]
  },
  {
   "cell_type": "code",
   "execution_count": 8,
   "id": "511d1dba-d535-462f-9abf-a2e9e752df3d",
   "metadata": {
    "execution": {
     "iopub.execute_input": "2022-04-09T07:20:59.780557Z",
     "iopub.status.busy": "2022-04-09T07:20:59.780208Z",
     "iopub.status.idle": "2022-04-09T07:21:00.115378Z",
     "shell.execute_reply": "2022-04-09T07:21:00.114326Z",
     "shell.execute_reply.started": "2022-04-09T07:20:59.780505Z"
    },
    "tags": []
   },
   "outputs": [
    {
     "data": {
      "application/vnd.jupyter.widget-view+json": {
       "model_id": "161cce3227d249eea8b65fff59d69d3f",
       "version_major": 2,
       "version_minor": 0
      },
      "text/plain": [
       "VBox()"
      ]
     },
     "metadata": {},
     "output_type": "display_data"
    },
    {
     "data": {
      "application/vnd.jupyter.widget-view+json": {
       "model_id": "",
       "version_major": 2,
       "version_minor": 0
      },
      "text/plain": [
       "FloatProgress(value=0.0, bar_style='info', description='Progress:', layout=Layout(height='25px', width='50%'),…"
      ]
     },
     "metadata": {},
     "output_type": "display_data"
    }
   ],
   "source": [
    "rgtoken = RegexTokenizer(inputCol=\"text\",outputCol=\"words\",pattern=\"\\\\W\")\n",
    "\n",
    "token = Tokenizer(inputCol= \"words\", outputCol = \"tokens\")"
   ]
  },
  {
   "cell_type": "markdown",
   "id": "fdbc1acc-c7b1-467c-944d-98117d8a0f26",
   "metadata": {},
   "source": [
    "# StopWordsRemover"
   ]
  },
  {
   "cell_type": "code",
   "execution_count": 9,
   "id": "4a036ff4-a5f2-4341-8b14-f52fa5535fe6",
   "metadata": {
    "execution": {
     "iopub.execute_input": "2022-04-09T07:21:00.117270Z",
     "iopub.status.busy": "2022-04-09T07:21:00.117043Z",
     "iopub.status.idle": "2022-04-09T07:21:00.436770Z",
     "shell.execute_reply": "2022-04-09T07:21:00.435531Z",
     "shell.execute_reply.started": "2022-04-09T07:21:00.117240Z"
    },
    "tags": []
   },
   "outputs": [
    {
     "data": {
      "application/vnd.jupyter.widget-view+json": {
       "model_id": "5abded1605c24128925f9cb6dd8fa27e",
       "version_major": 2,
       "version_minor": 0
      },
      "text/plain": [
       "VBox()"
      ]
     },
     "metadata": {},
     "output_type": "display_data"
    },
    {
     "data": {
      "application/vnd.jupyter.widget-view+json": {
       "model_id": "",
       "version_major": 2,
       "version_minor": 0
      },
      "text/plain": [
       "FloatProgress(value=0.0, bar_style='info', description='Progress:', layout=Layout(height='25px', width='50%'),…"
      ]
     },
     "metadata": {},
     "output_type": "display_data"
    }
   ],
   "source": [
    "stopword_remover = StopWordsRemover(inputCol=\"words\", outputCol=\"cleaned_tokens\")\\\n",
    "                    .setStopWords(stops)"
   ]
  },
  {
   "cell_type": "markdown",
   "id": "82952840-c269-4895-b049-6fbbcb4aaaa2",
   "metadata": {},
   "source": [
    "# HashingTF"
   ]
  },
  {
   "cell_type": "code",
   "execution_count": 10,
   "id": "25a35b7c-e733-4e03-b5a7-df2b7e3dd7fb",
   "metadata": {
    "execution": {
     "iopub.execute_input": "2022-04-09T07:21:00.438965Z",
     "iopub.status.busy": "2022-04-09T07:21:00.438394Z",
     "iopub.status.idle": "2022-04-09T07:21:00.553158Z",
     "shell.execute_reply": "2022-04-09T07:21:00.552295Z",
     "shell.execute_reply.started": "2022-04-09T07:21:00.438915Z"
    },
    "tags": []
   },
   "outputs": [
    {
     "data": {
      "application/vnd.jupyter.widget-view+json": {
       "model_id": "9e31cd9076334ceeb7efd906f99e4210",
       "version_major": 2,
       "version_minor": 0
      },
      "text/plain": [
       "VBox()"
      ]
     },
     "metadata": {},
     "output_type": "display_data"
    },
    {
     "data": {
      "application/vnd.jupyter.widget-view+json": {
       "model_id": "",
       "version_major": 2,
       "version_minor": 0
      },
      "text/plain": [
       "FloatProgress(value=0.0, bar_style='info', description='Progress:', layout=Layout(height='25px', width='50%'),…"
      ]
     },
     "metadata": {},
     "output_type": "display_data"
    }
   ],
   "source": [
    "Hashtf = HashingTF(inputCol=\"cleaned_tokens\", outputCol=\"rawFeatures\", numFeatures=2**16)"
   ]
  },
  {
   "cell_type": "markdown",
   "id": "ffe6aeea-205f-4a2b-b03f-59596d27e66b",
   "metadata": {},
   "source": [
    "# IDF"
   ]
  },
  {
   "cell_type": "code",
   "execution_count": 11,
   "id": "7059b1ee-36b2-49a0-87ba-286c8cc55330",
   "metadata": {
    "execution": {
     "iopub.execute_input": "2022-04-09T07:21:00.554749Z",
     "iopub.status.busy": "2022-04-09T07:21:00.554520Z",
     "iopub.status.idle": "2022-04-09T07:21:00.658874Z",
     "shell.execute_reply": "2022-04-09T07:21:00.657670Z",
     "shell.execute_reply.started": "2022-04-09T07:21:00.554716Z"
    },
    "tags": []
   },
   "outputs": [
    {
     "data": {
      "application/vnd.jupyter.widget-view+json": {
       "model_id": "df17d138b9e547b5ad5689a06d1bd7b3",
       "version_major": 2,
       "version_minor": 0
      },
      "text/plain": [
       "VBox()"
      ]
     },
     "metadata": {},
     "output_type": "display_data"
    },
    {
     "data": {
      "application/vnd.jupyter.widget-view+json": {
       "model_id": "",
       "version_major": 2,
       "version_minor": 0
      },
      "text/plain": [
       "FloatProgress(value=0.0, bar_style='info', description='Progress:', layout=Layout(height='25px', width='50%'),…"
      ]
     },
     "metadata": {},
     "output_type": "display_data"
    }
   ],
   "source": [
    "idf = IDF(inputCol=\"rawFeatures\", outputCol=\"features\", minDocFreq=10.0)"
   ]
  },
  {
   "cell_type": "markdown",
   "id": "3ee39376-0516-4209-9c29-af3aa739d936",
   "metadata": {},
   "source": [
    "# Pipeline Stages"
   ]
  },
  {
   "cell_type": "code",
   "execution_count": 12,
   "id": "0b905056-b153-467e-ae10-ba539f2c8924",
   "metadata": {
    "execution": {
     "iopub.execute_input": "2022-04-09T07:21:00.660926Z",
     "iopub.status.busy": "2022-04-09T07:21:00.660553Z",
     "iopub.status.idle": "2022-04-09T07:21:00.767044Z",
     "shell.execute_reply": "2022-04-09T07:21:00.766131Z",
     "shell.execute_reply.started": "2022-04-09T07:21:00.660871Z"
    },
    "tags": []
   },
   "outputs": [
    {
     "data": {
      "application/vnd.jupyter.widget-view+json": {
       "model_id": "9dd1787d91264a52810ad90b8947464f",
       "version_major": 2,
       "version_minor": 0
      },
      "text/plain": [
       "VBox()"
      ]
     },
     "metadata": {},
     "output_type": "display_data"
    },
    {
     "data": {
      "application/vnd.jupyter.widget-view+json": {
       "model_id": "",
       "version_major": 2,
       "version_minor": 0
      },
      "text/plain": [
       "FloatProgress(value=0.0, bar_style='info', description='Progress:', layout=Layout(height='25px', width='50%'),…"
      ]
     },
     "metadata": {},
     "output_type": "display_data"
    }
   ],
   "source": [
    "pipeline  = Pipeline(stages=[rgtoken,stopword_remover,Hashtf,idf])"
   ]
  },
  {
   "cell_type": "markdown",
   "id": "41a4eee0-44d7-4d01-87d2-caef765ecb72",
   "metadata": {},
   "source": [
    "# Pipeline Fit"
   ]
  },
  {
   "cell_type": "code",
   "execution_count": 13,
   "id": "8213448d-489d-472d-ba19-8a6c8b32231a",
   "metadata": {
    "execution": {
     "iopub.execute_input": "2022-04-09T07:21:00.768349Z",
     "iopub.status.busy": "2022-04-09T07:21:00.768126Z",
     "iopub.status.idle": "2022-04-09T07:21:46.358851Z",
     "shell.execute_reply": "2022-04-09T07:21:46.358082Z",
     "shell.execute_reply.started": "2022-04-09T07:21:00.768319Z"
    },
    "tags": []
   },
   "outputs": [
    {
     "data": {
      "application/vnd.jupyter.widget-view+json": {
       "model_id": "4c5473f6d3d545deb415b86e521f42d0",
       "version_major": 2,
       "version_minor": 0
      },
      "text/plain": [
       "VBox()"
      ]
     },
     "metadata": {},
     "output_type": "display_data"
    },
    {
     "data": {
      "application/vnd.jupyter.widget-view+json": {
       "model_id": "",
       "version_major": 2,
       "version_minor": 0
      },
      "text/plain": [
       "FloatProgress(value=0.0, bar_style='info', description='Progress:', layout=Layout(height='25px', width='50%'),…"
      ]
     },
     "metadata": {},
     "output_type": "display_data"
    }
   ],
   "source": [
    "processed = pipeline.fit(review_df)"
   ]
  },
  {
   "cell_type": "code",
   "execution_count": 14,
   "id": "c9ea45db-8817-4cfe-a855-8c2898cdf78e",
   "metadata": {
    "execution": {
     "iopub.execute_input": "2022-04-09T07:21:46.362012Z",
     "iopub.status.busy": "2022-04-09T07:21:46.361798Z",
     "iopub.status.idle": "2022-04-09T07:21:47.175751Z",
     "shell.execute_reply": "2022-04-09T07:21:47.174876Z",
     "shell.execute_reply.started": "2022-04-09T07:21:46.361981Z"
    },
    "tags": []
   },
   "outputs": [
    {
     "data": {
      "application/vnd.jupyter.widget-view+json": {
       "model_id": "aac093da61704e99a5d4d6f2012f6c08",
       "version_major": 2,
       "version_minor": 0
      },
      "text/plain": [
       "VBox()"
      ]
     },
     "metadata": {},
     "output_type": "display_data"
    },
    {
     "data": {
      "application/vnd.jupyter.widget-view+json": {
       "model_id": "",
       "version_major": 2,
       "version_minor": 0
      },
      "text/plain": [
       "FloatProgress(value=0.0, bar_style='info', description='Progress:', layout=Layout(height='25px', width='50%'),…"
      ]
     },
     "metadata": {},
     "output_type": "display_data"
    }
   ],
   "source": [
    "df_train = processed.transform(review_df)"
   ]
  },
  {
   "cell_type": "code",
   "execution_count": 15,
   "id": "7e88d698-80c1-457b-9b37-743002158c2f",
   "metadata": {
    "execution": {
     "iopub.execute_input": "2022-04-09T07:21:47.177114Z",
     "iopub.status.busy": "2022-04-09T07:21:47.176873Z",
     "iopub.status.idle": "2022-04-09T07:21:47.997916Z",
     "shell.execute_reply": "2022-04-09T07:21:47.996911Z",
     "shell.execute_reply.started": "2022-04-09T07:21:47.177081Z"
    },
    "tags": []
   },
   "outputs": [
    {
     "data": {
      "application/vnd.jupyter.widget-view+json": {
       "model_id": "2794199581fd498dbc20b4b9692b2694",
       "version_major": 2,
       "version_minor": 0
      },
      "text/plain": [
       "VBox()"
      ]
     },
     "metadata": {},
     "output_type": "display_data"
    },
    {
     "data": {
      "application/vnd.jupyter.widget-view+json": {
       "model_id": "",
       "version_major": 2,
       "version_minor": 0
      },
      "text/plain": [
       "FloatProgress(value=0.0, bar_style='info', description='Progress:', layout=Layout(height='25px', width='50%'),…"
      ]
     },
     "metadata": {},
     "output_type": "display_data"
    },
    {
     "name": "stdout",
     "output_type": "stream",
     "text": [
      "+--------------------+-----+--------------------+--------------------+--------------------+--------------------+\n",
      "|                text|label|               words|      cleaned_tokens|         rawFeatures|            features|\n",
      "+--------------------+-----+--------------------+--------------------+--------------------+--------------------+\n",
      "|What a great find...|    1|[what, a, great, ...|[great, piece, po...|(65536,[1466,5988...|(65536,[1466,5988...|\n",
      "|The only reason I...|    0|[the, only, reaso...|[reason, stars, s...|(65536,[389,666,1...|(65536,[389,666,1...|\n",
      "+--------------------+-----+--------------------+--------------------+--------------------+--------------------+\n",
      "only showing top 2 rows"
     ]
    }
   ],
   "source": [
    "df_train.show(2)"
   ]
  },
  {
   "cell_type": "code",
   "execution_count": 16,
   "id": "2b458555-aa38-4bd1-822c-909784e63f9c",
   "metadata": {
    "execution": {
     "iopub.execute_input": "2022-04-09T07:21:47.999787Z",
     "iopub.status.busy": "2022-04-09T07:21:47.999424Z",
     "iopub.status.idle": "2022-04-09T07:21:48.078732Z",
     "shell.execute_reply": "2022-04-09T07:21:48.077783Z",
     "shell.execute_reply.started": "2022-04-09T07:21:47.999737Z"
    },
    "tags": []
   },
   "outputs": [
    {
     "data": {
      "application/vnd.jupyter.widget-view+json": {
       "model_id": "7abec82521e347f7907677cd580ed7d6",
       "version_major": 2,
       "version_minor": 0
      },
      "text/plain": [
       "VBox()"
      ]
     },
     "metadata": {},
     "output_type": "display_data"
    },
    {
     "data": {
      "application/vnd.jupyter.widget-view+json": {
       "model_id": "",
       "version_major": 2,
       "version_minor": 0
      },
      "text/plain": [
       "FloatProgress(value=0.0, bar_style='info', description='Progress:', layout=Layout(height='25px', width='50%'),…"
      ]
     },
     "metadata": {},
     "output_type": "display_data"
    }
   ],
   "source": [
    "df_train=df_train.drop(\"label\")"
   ]
  },
  {
   "cell_type": "markdown",
   "id": "ba8e11ba-6a00-41c8-91ca-52abdc0b3045",
   "metadata": {},
   "source": [
    "# Function to get sentiment"
   ]
  },
  {
   "cell_type": "code",
   "execution_count": 17,
   "id": "c9c04a8e-2347-43eb-9f33-23ec230e7d5f",
   "metadata": {
    "execution": {
     "iopub.execute_input": "2022-04-09T07:21:48.080530Z",
     "iopub.status.busy": "2022-04-09T07:21:48.080095Z",
     "iopub.status.idle": "2022-04-09T07:21:48.165580Z",
     "shell.execute_reply": "2022-04-09T07:21:48.164455Z",
     "shell.execute_reply.started": "2022-04-09T07:21:48.080480Z"
    },
    "tags": []
   },
   "outputs": [
    {
     "data": {
      "application/vnd.jupyter.widget-view+json": {
       "model_id": "6ed1821f12d24b67bd2ca663b4f15ea8",
       "version_major": 2,
       "version_minor": 0
      },
      "text/plain": [
       "VBox()"
      ]
     },
     "metadata": {},
     "output_type": "display_data"
    },
    {
     "data": {
      "application/vnd.jupyter.widget-view+json": {
       "model_id": "",
       "version_major": 2,
       "version_minor": 0
      },
      "text/plain": [
       "FloatProgress(value=0.0, bar_style='info', description='Progress:', layout=Layout(height='25px', width='50%'),…"
      ]
     },
     "metadata": {},
     "output_type": "display_data"
    }
   ],
   "source": [
    "def apply_blob(sentence):\n",
    "    temp = TextBlob(sentence).sentiment[0]   \n",
    "    if temp > 0.0:\n",
    "        return 1.0 # Positive\n",
    "    elif temp == 0.0:\n",
    "        return 0.0 # Neutral\n",
    "    else:\n",
    "        return 2.0 # Negative\n",
    "# UDF to write sentiment on DF\n",
    "sentiment = udf(apply_blob, DoubleType())"
   ]
  },
  {
   "cell_type": "code",
   "execution_count": 18,
   "id": "191c430b-7b3f-4d9f-806c-68c44e7d3477",
   "metadata": {
    "execution": {
     "iopub.execute_input": "2022-04-09T07:21:48.166864Z",
     "iopub.status.busy": "2022-04-09T07:21:48.166631Z",
     "iopub.status.idle": "2022-04-09T07:21:48.252086Z",
     "shell.execute_reply": "2022-04-09T07:21:48.251138Z",
     "shell.execute_reply.started": "2022-04-09T07:21:48.166832Z"
    },
    "tags": []
   },
   "outputs": [
    {
     "data": {
      "application/vnd.jupyter.widget-view+json": {
       "model_id": "4672c06de42541ed989129f658634850",
       "version_major": 2,
       "version_minor": 0
      },
      "text/plain": [
       "VBox()"
      ]
     },
     "metadata": {},
     "output_type": "display_data"
    },
    {
     "data": {
      "application/vnd.jupyter.widget-view+json": {
       "model_id": "",
       "version_major": 2,
       "version_minor": 0
      },
      "text/plain": [
       "FloatProgress(value=0.0, bar_style='info', description='Progress:', layout=Layout(height='25px', width='50%'),…"
      ]
     },
     "metadata": {},
     "output_type": "display_data"
    }
   ],
   "source": [
    "df=df_train.withColumn(\"label\", sentiment(df_train['text']))"
   ]
  },
  {
   "cell_type": "code",
   "execution_count": 19,
   "id": "06e1cbbf-730f-46be-ba14-14bd83ca093c",
   "metadata": {
    "execution": {
     "iopub.execute_input": "2022-04-09T07:21:48.253836Z",
     "iopub.status.busy": "2022-04-09T07:21:48.253497Z",
     "iopub.status.idle": "2022-04-09T07:21:50.790308Z",
     "shell.execute_reply": "2022-04-09T07:21:50.789377Z",
     "shell.execute_reply.started": "2022-04-09T07:21:48.253786Z"
    },
    "tags": []
   },
   "outputs": [
    {
     "data": {
      "application/vnd.jupyter.widget-view+json": {
       "model_id": "8e8347cd6cc0473793c5ef278e1ac1c4",
       "version_major": 2,
       "version_minor": 0
      },
      "text/plain": [
       "VBox()"
      ]
     },
     "metadata": {},
     "output_type": "display_data"
    },
    {
     "data": {
      "application/vnd.jupyter.widget-view+json": {
       "model_id": "",
       "version_major": 2,
       "version_minor": 0
      },
      "text/plain": [
       "FloatProgress(value=0.0, bar_style='info', description='Progress:', layout=Layout(height='25px', width='50%'),…"
      ]
     },
     "metadata": {},
     "output_type": "display_data"
    },
    {
     "name": "stdout",
     "output_type": "stream",
     "text": [
      "+--------------------+--------------------+--------------------+--------------------+--------------------+-----+\n",
      "|                text|               words|      cleaned_tokens|         rawFeatures|            features|label|\n",
      "+--------------------+--------------------+--------------------+--------------------+--------------------+-----+\n",
      "|What a great find...|[what, a, great, ...|[great, piece, po...|(65536,[1466,5988...|(65536,[1466,5988...|  1.0|\n",
      "|The only reason I...|[the, only, reaso...|[reason, stars, s...|(65536,[389,666,1...|(65536,[389,666,1...|  1.0|\n",
      "|It s fun that it ...|[it, s, fun, that...|[fun, water, grea...|(65536,[158,4630,...|(65536,[158,4630,...|  1.0|\n",
      "|I ve been to Smit...|[i, ve, been, to,...|[smith, couple, t...|(65536,[389,1928,...|(65536,[389,1928,...|  1.0|\n",
      "|We do love the fo...|[we, do, love, th...|[love, food, remi...|(65536,[4917,5125...|(65536,[4917,5125...|  1.0|\n",
      "|This place was al...|[this, place, was...|[place, alright, ...|(65536,[622,2395,...|(65536,[622,2395,...|  1.0|\n",
      "|Nice shopping exp...|[nice, shopping, ...|[nice, shopping, ...|(65536,[166,556,6...|(65536,[166,556,6...|  1.0|\n",
      "|How do you downgr...|[how, do, you, do...|[downgrade, laund...|(65536,[2702,3191...|(65536,[2702,3191...|  1.0|\n",
      "|Really fun place ...|[really, fun, pla...|[fun, place, uniq...|(65536,[8443,9261...|(65536,[8443,9261...|  1.0|\n",
      "|Fresh OJ     The ...|[fresh, oj, the, ...|[fresh, chorizo, ...|(65536,[2406,9439...|(65536,[2406,9439...|  1.0|\n",
      "|This cafe is so c...|[this, cafe, is, ...|[cafe, cute, serv...|(65536,[6923,1493...|(65536,[6923,1493...|  1.0|\n",
      "|Eb   Bean serves ...|[eb, bean, serves...|[eb, bean, serves...|(65536,[809,4430,...|(65536,[809,4430,...|  1.0|\n",
      "|I get it   capita...|[i, get, it, capi...|[capitalism, comp...|(65536,[1804,2182...|(65536,[1804,2182...|  1.0|\n",
      "|Food was good but...|[food, was, good,...|[food, good, abso...|(65536,[3067,1899...|(65536,[3067,1899...|  2.0|\n",
      "|Theres not a lot ...|[theres, not, a, ...|[lot, record, sto...|(65536,[4853,4948...|(65536,[4853,4948...|  1.0|\n",
      "|Best place we ate...|[best, place, we,...|[place, ate, visi...|(65536,[7148,9261...|(65536,[7148,9261...|  1.0|\n",
      "|I m a froyo lover...|[i, m, a, froyo, ...|[froyo, lover, ha...|(65536,[809,8955,...|(65536,[809,8955,...|  1.0|\n",
      "|Great staff  Non ...|[great, staff, no...|[great, staff, gr...|(65536,[7284,8939...|(65536,[7284,8939...|  1.0|\n",
      "|If you want to be...|[if, you, want, t...|[scalped, barber,...|(65536,[6304,7099...|(65536,[6304,7099...|  0.0|\n",
      "|My husband and I ...|[my, husband, and...|[husband, ordered...|(65536,[4879,8587...|(65536,[4879,8587...|  1.0|\n",
      "+--------------------+--------------------+--------------------+--------------------+--------------------+-----+\n",
      "only showing top 20 rows"
     ]
    }
   ],
   "source": [
    "df.show()"
   ]
  },
  {
   "cell_type": "code",
   "execution_count": 20,
   "id": "9240e036-09f4-4c80-a8f0-cd2ab1ef406b",
   "metadata": {
    "execution": {
     "iopub.execute_input": "2022-04-09T07:21:50.791630Z",
     "iopub.status.busy": "2022-04-09T07:21:50.791398Z",
     "iopub.status.idle": "2022-04-09T07:21:50.889148Z",
     "shell.execute_reply": "2022-04-09T07:21:50.888012Z",
     "shell.execute_reply.started": "2022-04-09T07:21:50.791599Z"
    },
    "tags": []
   },
   "outputs": [
    {
     "data": {
      "application/vnd.jupyter.widget-view+json": {
       "model_id": "41f75dc65f1f4f60997f0eaaf0751500",
       "version_major": 2,
       "version_minor": 0
      },
      "text/plain": [
       "VBox()"
      ]
     },
     "metadata": {},
     "output_type": "display_data"
    },
    {
     "data": {
      "application/vnd.jupyter.widget-view+json": {
       "model_id": "",
       "version_major": 2,
       "version_minor": 0
      },
      "text/plain": [
       "FloatProgress(value=0.0, bar_style='info', description='Progress:', layout=Layout(height='25px', width='50%'),…"
      ]
     },
     "metadata": {},
     "output_type": "display_data"
    },
    {
     "name": "stdout",
     "output_type": "stream",
     "text": [
      "root\n",
      " |-- text: string (nullable = true)\n",
      " |-- words: array (nullable = true)\n",
      " |    |-- element: string (containsNull = true)\n",
      " |-- cleaned_tokens: array (nullable = true)\n",
      " |    |-- element: string (containsNull = true)\n",
      " |-- rawFeatures: vector (nullable = true)\n",
      " |-- features: vector (nullable = true)\n",
      " |-- label: double (nullable = true)"
     ]
    }
   ],
   "source": [
    "df.printSchema()"
   ]
  },
  {
   "cell_type": "markdown",
   "id": "e4bc9701-c2bc-4383-abaf-39b77fd101e4",
   "metadata": {},
   "source": [
    "# Train Test Split"
   ]
  },
  {
   "cell_type": "code",
   "execution_count": 21,
   "id": "d94c4bb5-d8db-44f7-857b-4b37bdb5df8e",
   "metadata": {
    "execution": {
     "iopub.execute_input": "2022-04-09T07:21:50.891520Z",
     "iopub.status.busy": "2022-04-09T07:21:50.890925Z",
     "iopub.status.idle": "2022-04-09T07:21:51.747147Z",
     "shell.execute_reply": "2022-04-09T07:21:51.746109Z",
     "shell.execute_reply.started": "2022-04-09T07:21:50.891464Z"
    },
    "tags": []
   },
   "outputs": [
    {
     "data": {
      "application/vnd.jupyter.widget-view+json": {
       "model_id": "b979f3bf36cd45849b98db36b55b7d09",
       "version_major": 2,
       "version_minor": 0
      },
      "text/plain": [
       "VBox()"
      ]
     },
     "metadata": {},
     "output_type": "display_data"
    },
    {
     "data": {
      "application/vnd.jupyter.widget-view+json": {
       "model_id": "",
       "version_major": 2,
       "version_minor": 0
      },
      "text/plain": [
       "FloatProgress(value=0.0, bar_style='info', description='Progress:', layout=Layout(height='25px', width='50%'),…"
      ]
     },
     "metadata": {},
     "output_type": "display_data"
    }
   ],
   "source": [
    "splits =df.select(['features', 'label']).randomSplit([0.75,0.25],seed=42)\n",
    "train = splits[0].cache()\n",
    "test = splits[1].cache()"
   ]
  },
  {
   "cell_type": "markdown",
   "id": "c93b7415-df3a-4b73-a001-2a169d8b9d15",
   "metadata": {},
   "source": [
    "# LogisticRegression"
   ]
  },
  {
   "cell_type": "code",
   "execution_count": 26,
   "id": "4a802bcf-8077-4903-98c4-8d2c9a9c83a9",
   "metadata": {
    "execution": {
     "iopub.execute_input": "2022-04-09T07:22:57.949259Z",
     "iopub.status.busy": "2022-04-09T07:22:57.948984Z",
     "iopub.status.idle": "2022-04-09T07:22:58.065347Z",
     "shell.execute_reply": "2022-04-09T07:22:58.064090Z",
     "shell.execute_reply.started": "2022-04-09T07:22:57.949227Z"
    },
    "tags": []
   },
   "outputs": [
    {
     "data": {
      "application/vnd.jupyter.widget-view+json": {
       "model_id": "8108e43e2bcd40ec91ce808ebf3804c9",
       "version_major": 2,
       "version_minor": 0
      },
      "text/plain": [
       "VBox()"
      ]
     },
     "metadata": {},
     "output_type": "display_data"
    },
    {
     "data": {
      "application/vnd.jupyter.widget-view+json": {
       "model_id": "",
       "version_major": 2,
       "version_minor": 0
      },
      "text/plain": [
       "FloatProgress(value=0.0, bar_style='info', description='Progress:', layout=Layout(height='25px', width='50%'),…"
      ]
     },
     "metadata": {},
     "output_type": "display_data"
    }
   ],
   "source": [
    "from pyspark.ml.classification import LogisticRegression"
   ]
  },
  {
   "cell_type": "code",
   "execution_count": 27,
   "id": "15dfed07-8cf8-419d-8f69-f1a48e6269d9",
   "metadata": {
    "execution": {
     "iopub.execute_input": "2022-04-09T07:22:58.229334Z",
     "iopub.status.busy": "2022-04-09T07:22:58.229071Z",
     "iopub.status.idle": "2022-04-09T07:32:24.218885Z",
     "shell.execute_reply": "2022-04-09T07:32:24.217870Z",
     "shell.execute_reply.started": "2022-04-09T07:22:58.229303Z"
    },
    "tags": []
   },
   "outputs": [
    {
     "data": {
      "application/vnd.jupyter.widget-view+json": {
       "model_id": "2a60de2a7b17473097d60eeea8a68b6d",
       "version_major": 2,
       "version_minor": 0
      },
      "text/plain": [
       "VBox()"
      ]
     },
     "metadata": {},
     "output_type": "display_data"
    },
    {
     "data": {
      "application/vnd.jupyter.widget-view+json": {
       "model_id": "",
       "version_major": 2,
       "version_minor": 0
      },
      "text/plain": [
       "FloatProgress(value=0.0, bar_style='info', description='Progress:', layout=Layout(height='25px', width='50%'),…"
      ]
     },
     "metadata": {},
     "output_type": "display_data"
    }
   ],
   "source": [
    "lr = LogisticRegression(maxIter=50, regParam=0.3, elasticNetParam=0,standardization=True, family=\"multinomial\")\n",
    "lrModel = lr.fit(train)"
   ]
  },
  {
   "cell_type": "code",
   "execution_count": 28,
   "id": "3e6ed6cd-123f-4e54-99cc-7f0d70af3e33",
   "metadata": {
    "execution": {
     "iopub.execute_input": "2022-04-09T07:32:24.220901Z",
     "iopub.status.busy": "2022-04-09T07:32:24.220555Z",
     "iopub.status.idle": "2022-04-09T07:32:24.512935Z",
     "shell.execute_reply": "2022-04-09T07:32:24.512013Z",
     "shell.execute_reply.started": "2022-04-09T07:32:24.220852Z"
    },
    "tags": []
   },
   "outputs": [
    {
     "data": {
      "application/vnd.jupyter.widget-view+json": {
       "model_id": "8ac4f350df9e4a558b7b86c225ebd13b",
       "version_major": 2,
       "version_minor": 0
      },
      "text/plain": [
       "VBox()"
      ]
     },
     "metadata": {},
     "output_type": "display_data"
    },
    {
     "data": {
      "application/vnd.jupyter.widget-view+json": {
       "model_id": "",
       "version_major": 2,
       "version_minor": 0
      },
      "text/plain": [
       "FloatProgress(value=0.0, bar_style='info', description='Progress:', layout=Layout(height='25px', width='50%'),…"
      ]
     },
     "metadata": {},
     "output_type": "display_data"
    }
   ],
   "source": [
    "trainpredictions = lrModel.transform(train)\n",
    "predictions = lrModel.transform(test)"
   ]
  },
  {
   "cell_type": "markdown",
   "id": "b075525d-d7b1-421f-aa50-e0c89e2cb939",
   "metadata": {},
   "source": [
    "# Model Evaluation"
   ]
  },
  {
   "cell_type": "code",
   "execution_count": null,
   "id": "f030cc74-8859-406b-a295-25ea18ab9869",
   "metadata": {
    "execution": {
     "iopub.execute_input": "2022-04-09T07:32:24.515174Z",
     "iopub.status.busy": "2022-04-09T07:32:24.514864Z"
    },
    "tags": []
   },
   "outputs": [
    {
     "data": {
      "application/vnd.jupyter.widget-view+json": {
       "model_id": "32614347a0e444978fd45a0020b1b26f",
       "version_major": 2,
       "version_minor": 0
      },
      "text/plain": [
       "VBox()"
      ]
     },
     "metadata": {},
     "output_type": "display_data"
    },
    {
     "data": {
      "application/vnd.jupyter.widget-view+json": {
       "model_id": "c48d9b917b0c499bb155f57c63916eae",
       "version_major": 2,
       "version_minor": 0
      },
      "text/plain": [
       "FloatProgress(value=0.0, bar_style='info', description='Progress:', layout=Layout(height='25px', width='50%'),…"
      ]
     },
     "metadata": {},
     "output_type": "display_data"
    }
   ],
   "source": [
    "from pyspark.ml.evaluation import MulticlassClassificationEvaluator\n",
    "evaluator = MulticlassClassificationEvaluator(predictionCol=\"prediction\")\n",
    "evaluator.evaluate(predictions)"
   ]
  },
  {
   "cell_type": "code",
   "execution_count": null,
   "id": "ba956523-77c4-48f2-9a86-0464a0127197",
   "metadata": {
    "tags": []
   },
   "outputs": [],
   "source": [
    "print(\"Training F1 with logistic regression\",evaluator.evaluate(trainpredictions,{evaluator.metricName: \"f1\"}))\n",
    "print(\"Training weightedRecall with logistic regression\",evaluator.evaluate(trainpredictions,{evaluator.metricName: \"weightedRecall\"}))\n",
    "print(\"Training weightedPrecision with logistic regression\",evaluator.evaluate(trainpredictions,{evaluator.metricName: \"weightedPrecision\"}))\n",
    "print(\"Training accuracy with logistic regression\",evaluator.evaluate(trainpredictions,{evaluator.metricName: \"accuracy\"}))\n",
    "print(\"Test accuracy with logistic regression\",evaluator.evaluate(predictions,{evaluator.metricName: \"accuracy\"}))"
   ]
  },
  {
   "cell_type": "code",
   "execution_count": null,
   "id": "6731a6f1-df17-49cd-86bc-3ef9d8e2a75a",
   "metadata": {},
   "outputs": [],
   "source": []
  }
 ],
 "metadata": {
  "kernelspec": {
   "display_name": "PySpark",
   "language": "",
   "name": "pysparkkernel"
  },
  "language_info": {
   "codemirror_mode": {
    "name": "python",
    "version": 3
   },
   "mimetype": "text/x-python",
   "name": "pyspark",
   "pygments_lexer": "python3"
  }
 },
 "nbformat": 4,
 "nbformat_minor": 5
}
