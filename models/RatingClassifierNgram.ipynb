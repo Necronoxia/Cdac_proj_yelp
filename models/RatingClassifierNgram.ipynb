{
 "cells": [
  {
   "cell_type": "markdown",
   "id": "b5f647a0-9fd2-4766-9dd1-3da6e6c28986",
   "metadata": {},
   "source": [
    "# NGram Rating classifier"
   ]
  },
  {
   "cell_type": "markdown",
   "id": "abfdb491-ee27-48fb-89d5-97c263e6ce25",
   "metadata": {
    "tags": []
   },
   "source": [
    "### Cluster environment Configurations"
   ]
  },
  {
   "cell_type": "code",
   "execution_count": 1,
   "id": "9fc78abd",
   "metadata": {
    "execution": {
     "iopub.execute_input": "2022-04-08T11:27:19.320381Z",
     "iopub.status.busy": "2022-04-08T11:27:19.320154Z",
     "iopub.status.idle": "2022-04-08T11:27:44.001791Z",
     "shell.execute_reply": "2022-04-08T11:27:44.001184Z",
     "shell.execute_reply.started": "2022-04-08T11:27:19.320358Z"
    },
    "tags": []
   },
   "outputs": [
    {
     "data": {
      "application/vnd.jupyter.widget-view+json": {
       "model_id": "9edf816e902448a6a950d395097feb78",
       "version_major": 2,
       "version_minor": 0
      },
      "text/plain": [
       "VBox()"
      ]
     },
     "metadata": {},
     "output_type": "display_data"
    },
    {
     "name": "stdout",
     "output_type": "stream",
     "text": [
      "Starting Spark application\n"
     ]
    },
    {
     "data": {
      "text/html": [
       "<table>\n",
       "<tr><th>ID</th><th>YARN Application ID</th><th>Kind</th><th>State</th><th>Spark UI</th><th>Driver log</th><th>User</th><th>Current session?</th></tr><tr><td>2</td><td>application_1649415277018_0008</td><td>pyspark</td><td>idle</td><td><a target=\"_blank\" href=\"http://ip-172-31-47-107.ec2.internal:20888/proxy/application_1649415277018_0008/\" class=\"emr-proxy-link\" emr-resource=\"j-FHR8STQV5DYN\n",
       "\" application-id=\"application_1649415277018_0008\">Link</a></td><td><a target=\"_blank\" href=\"http://ip-172-31-40-219.ec2.internal:8042/node/containerlogs/container_1649415277018_0008_01_000001/livy\" >Link</a></td><td>None</td><td>✔</td></tr></table>"
      ],
      "text/plain": [
       "<IPython.core.display.HTML object>"
      ]
     },
     "metadata": {},
     "output_type": "display_data"
    },
    {
     "data": {
      "application/vnd.jupyter.widget-view+json": {
       "model_id": "",
       "version_major": 2,
       "version_minor": 0
      },
      "text/plain": [
       "FloatProgress(value=0.0, bar_style='info', description='Progress:', layout=Layout(height='25px', width='50%'),…"
      ]
     },
     "metadata": {},
     "output_type": "display_data"
    },
    {
     "name": "stdout",
     "output_type": "stream",
     "text": [
      "SparkSession available as 'spark'.\n"
     ]
    },
    {
     "data": {
      "application/vnd.jupyter.widget-view+json": {
       "model_id": "",
       "version_major": 2,
       "version_minor": 0
      },
      "text/plain": [
       "FloatProgress(value=0.0, bar_style='info', description='Progress:', layout=Layout(height='25px', width='50%'),…"
      ]
     },
     "metadata": {},
     "output_type": "display_data"
    }
   ],
   "source": [
    "conf = spark.sparkContext._conf.setAll([('spark.executor.memory', '8g'), ('spark.driver.memory','15g'),(\"spark.driver.maxResultSize\",\"0\"),(\"spark.executor.cores\", '2'),(\"spark.executor.instances\", \"12\"),(\"spark.dynamicAllocation.enabled\",\"False\")])"
   ]
  },
  {
   "cell_type": "markdown",
   "id": "5c03640e-ab3f-4a34-8603-1549b6b8877b",
   "metadata": {
    "execution": {
     "iopub.execute_input": "2022-04-08T09:46:10.503674Z",
     "iopub.status.busy": "2022-04-08T09:46:10.503432Z",
     "iopub.status.idle": "2022-04-08T09:46:10.590080Z",
     "shell.execute_reply": "2022-04-08T09:46:10.589379Z",
     "shell.execute_reply.started": "2022-04-08T09:46:10.503648Z"
    },
    "tags": []
   },
   "source": [
    "### Imports"
   ]
  },
  {
   "cell_type": "code",
   "execution_count": 2,
   "id": "dbb9316e-e112-42af-a223-3f6a7d8022c9",
   "metadata": {
    "execution": {
     "iopub.execute_input": "2022-04-08T11:27:44.003309Z",
     "iopub.status.busy": "2022-04-08T11:27:44.003053Z",
     "iopub.status.idle": "2022-04-08T11:27:44.065855Z",
     "shell.execute_reply": "2022-04-08T11:27:44.065245Z",
     "shell.execute_reply.started": "2022-04-08T11:27:44.003274Z"
    },
    "tags": []
   },
   "outputs": [
    {
     "data": {
      "application/vnd.jupyter.widget-view+json": {
       "model_id": "989d838ab07c40aabd375397b3d87681",
       "version_major": 2,
       "version_minor": 0
      },
      "text/plain": [
       "VBox()"
      ]
     },
     "metadata": {},
     "output_type": "display_data"
    },
    {
     "data": {
      "application/vnd.jupyter.widget-view+json": {
       "model_id": "",
       "version_major": 2,
       "version_minor": 0
      },
      "text/plain": [
       "FloatProgress(value=0.0, bar_style='info', description='Progress:', layout=Layout(height='25px', width='50%'),…"
      ]
     },
     "metadata": {},
     "output_type": "display_data"
    }
   ],
   "source": [
    "import pyspark"
   ]
  },
  {
   "cell_type": "code",
   "execution_count": 3,
   "id": "978f9b66",
   "metadata": {
    "execution": {
     "iopub.execute_input": "2022-04-08T11:27:44.068834Z",
     "iopub.status.busy": "2022-04-08T11:27:44.068658Z",
     "iopub.status.idle": "2022-04-08T11:27:44.346391Z",
     "shell.execute_reply": "2022-04-08T11:27:44.345755Z",
     "shell.execute_reply.started": "2022-04-08T11:27:44.068812Z"
    },
    "tags": []
   },
   "outputs": [
    {
     "data": {
      "application/vnd.jupyter.widget-view+json": {
       "model_id": "5abccb73f15d40e8a76ec6f4ba359cd7",
       "version_major": 2,
       "version_minor": 0
      },
      "text/plain": [
       "VBox()"
      ]
     },
     "metadata": {},
     "output_type": "display_data"
    },
    {
     "data": {
      "application/vnd.jupyter.widget-view+json": {
       "model_id": "",
       "version_major": 2,
       "version_minor": 0
      },
      "text/plain": [
       "FloatProgress(value=0.0, bar_style='info', description='Progress:', layout=Layout(height='25px', width='50%'),…"
      ]
     },
     "metadata": {},
     "output_type": "display_data"
    }
   ],
   "source": [
    "from pyspark.storagelevel import StorageLevel\n",
    "\n",
    "from pyspark.ml import Pipeline\n",
    "from pyspark.ml.classification import GBTClassifier\n",
    "from pyspark.ml import Transformer, classification\n",
    "from pyspark.ml import tuning\n",
    "from pyspark.ml.evaluation import MulticlassClassificationEvaluator"
   ]
  },
  {
   "cell_type": "markdown",
   "id": "46a77f5c-77e5-4426-8d66-aa49fc3a8156",
   "metadata": {
    "tags": []
   },
   "source": [
    "### Data Loading"
   ]
  },
  {
   "cell_type": "code",
   "execution_count": 4,
   "id": "57e159a0",
   "metadata": {
    "execution": {
     "iopub.execute_input": "2022-04-08T11:27:44.348139Z",
     "iopub.status.busy": "2022-04-08T11:27:44.347751Z",
     "iopub.status.idle": "2022-04-08T11:27:49.806034Z",
     "shell.execute_reply": "2022-04-08T11:27:49.805280Z",
     "shell.execute_reply.started": "2022-04-08T11:27:44.348103Z"
    },
    "tags": []
   },
   "outputs": [
    {
     "data": {
      "application/vnd.jupyter.widget-view+json": {
       "model_id": "ed7b3b2513c946f2b7ddac2c72578ac8",
       "version_major": 2,
       "version_minor": 0
      },
      "text/plain": [
       "VBox()"
      ]
     },
     "metadata": {},
     "output_type": "display_data"
    },
    {
     "data": {
      "application/vnd.jupyter.widget-view+json": {
       "model_id": "",
       "version_major": 2,
       "version_minor": 0
      },
      "text/plain": [
       "FloatProgress(value=0.0, bar_style='info', description='Progress:', layout=Layout(height='25px', width='50%'),…"
      ]
     },
     "metadata": {},
     "output_type": "display_data"
    }
   ],
   "source": [
    "df = sqlContext.read.parquet(\"hdfs:///NLP-parquet-processed/\").repartition(4800)"
   ]
  },
  {
   "cell_type": "code",
   "execution_count": 5,
   "id": "451702f9-eeae-49dd-8e8b-ab3b668b6c49",
   "metadata": {
    "execution": {
     "iopub.execute_input": "2022-04-08T11:27:49.807432Z",
     "iopub.status.busy": "2022-04-08T11:27:49.807192Z",
     "iopub.status.idle": "2022-04-08T11:27:50.082079Z",
     "shell.execute_reply": "2022-04-08T11:27:50.081516Z",
     "shell.execute_reply.started": "2022-04-08T11:27:49.807398Z"
    },
    "tags": []
   },
   "outputs": [
    {
     "data": {
      "application/vnd.jupyter.widget-view+json": {
       "model_id": "15412c6d928646d996f7316b46136c99",
       "version_major": 2,
       "version_minor": 0
      },
      "text/plain": [
       "VBox()"
      ]
     },
     "metadata": {},
     "output_type": "display_data"
    },
    {
     "data": {
      "application/vnd.jupyter.widget-view+json": {
       "model_id": "",
       "version_major": 2,
       "version_minor": 0
      },
      "text/plain": [
       "FloatProgress(value=0.0, bar_style='info', description='Progress:', layout=Layout(height='25px', width='50%'),…"
      ]
     },
     "metadata": {},
     "output_type": "display_data"
    }
   ],
   "source": [
    "df = df.withColumnRenamed(\"stars\",\"label\")"
   ]
  },
  {
   "cell_type": "code",
   "execution_count": 6,
   "id": "c06b8fa0-149d-49fd-9cd1-235775cd8b20",
   "metadata": {
    "execution": {
     "iopub.execute_input": "2022-04-08T11:27:50.083106Z",
     "iopub.status.busy": "2022-04-08T11:27:50.082935Z",
     "iopub.status.idle": "2022-04-08T11:27:50.137658Z",
     "shell.execute_reply": "2022-04-08T11:27:50.137115Z",
     "shell.execute_reply.started": "2022-04-08T11:27:50.083084Z"
    },
    "tags": []
   },
   "outputs": [
    {
     "data": {
      "application/vnd.jupyter.widget-view+json": {
       "model_id": "1c5d466c9aba4c10905e540fbd061219",
       "version_major": 2,
       "version_minor": 0
      },
      "text/plain": [
       "VBox()"
      ]
     },
     "metadata": {},
     "output_type": "display_data"
    },
    {
     "data": {
      "application/vnd.jupyter.widget-view+json": {
       "model_id": "",
       "version_major": 2,
       "version_minor": 0
      },
      "text/plain": [
       "FloatProgress(value=0.0, bar_style='info', description='Progress:', layout=Layout(height='25px', width='50%'),…"
      ]
     },
     "metadata": {},
     "output_type": "display_data"
    }
   ],
   "source": [
    "#df = df.localCheckpoint()"
   ]
  },
  {
   "cell_type": "code",
   "execution_count": 7,
   "id": "a8bf6e79-76d6-4692-b8c0-0e160e7726f9",
   "metadata": {
    "execution": {
     "iopub.execute_input": "2022-04-08T11:27:50.138944Z",
     "iopub.status.busy": "2022-04-08T11:27:50.138698Z",
     "iopub.status.idle": "2022-04-08T11:27:50.194088Z",
     "shell.execute_reply": "2022-04-08T11:27:50.193021Z",
     "shell.execute_reply.started": "2022-04-08T11:27:50.138909Z"
    },
    "tags": []
   },
   "outputs": [
    {
     "data": {
      "application/vnd.jupyter.widget-view+json": {
       "model_id": "8544eb153d004993b32fb3b34ab11686",
       "version_major": 2,
       "version_minor": 0
      },
      "text/plain": [
       "VBox()"
      ]
     },
     "metadata": {},
     "output_type": "display_data"
    },
    {
     "data": {
      "application/vnd.jupyter.widget-view+json": {
       "model_id": "",
       "version_major": 2,
       "version_minor": 0
      },
      "text/plain": [
       "FloatProgress(value=0.0, bar_style='info', description='Progress:', layout=Layout(height='25px', width='50%'),…"
      ]
     },
     "metadata": {},
     "output_type": "display_data"
    },
    {
     "name": "stdout",
     "output_type": "stream",
     "text": [
      "root\n",
      " |-- label: double (nullable = true)\n",
      " |-- text: string (nullable = true)\n",
      " |-- stemmed: array (nullable = true)\n",
      " |    |-- element: string (containsNull = true)\n",
      " |-- Bigrams: array (nullable = true)\n",
      " |    |-- element: string (containsNull = true)\n",
      " |-- Trigrams: array (nullable = true)\n",
      " |    |-- element: string (containsNull = true)\n",
      " |-- featuresUni: vector (nullable = true)\n",
      " |-- featuresBi: vector (nullable = true)\n",
      " |-- featuresTri: vector (nullable = true)"
     ]
    }
   ],
   "source": [
    "df.printSchema()"
   ]
  },
  {
   "cell_type": "markdown",
   "id": "1889b464-affd-467a-8791-f9968d72e7e5",
   "metadata": {
    "tags": []
   },
   "source": [
<<<<<<< HEAD:models/Classifier.ipynb
    "#gbt = Classifier(featuresCol='features',labelCol=\"stars\")\n",
    "#model = DecisionTree.trainClassifier(sc.parallelize(df), 5, {})\n",
    "#NB = NaiveBayes(featuresCol='features', labelCol='label', smoothing=1.0, modelType='multinomial', thresholds=None, weightCol=None)\n",
    "#rf = classification.DecisionTreeClassifier(featuresCol='features',maxDepth=3, labelCol=\"stars\",predictionCol='prediction', seed=42)\n",
    "\n",
    "lr = classification.LogisticRegression(maxIter=500, regParam=0.02, elasticNetParam=0, tol=1E-6, standardization=False, family=\"binomial\")\n",
    "\n",
    "#lr = classification.LogisticRegression(family=\"multinomial\")\n",
    "ovr = classification.OneVsRest(classifier=lr)"
=======
    "#### Separating features"
>>>>>>> dba2d0eb1c4bb2d3bdd370a83f2f59416be09d64:models/RatingClassifierNgram.ipynb
   ]
  },
  {
   "cell_type": "code",
   "execution_count": 8,
   "id": "b2fb87a2-f6fa-42c0-94cc-ca59010e16a8",
   "metadata": {
    "execution": {
     "iopub.execute_input": "2022-04-08T11:27:50.196584Z",
     "iopub.status.busy": "2022-04-08T11:27:50.196411Z",
     "iopub.status.idle": "2022-04-08T11:27:50.967584Z",
     "shell.execute_reply": "2022-04-08T11:27:50.966988Z",
     "shell.execute_reply.started": "2022-04-08T11:27:50.196561Z"
    },
    "tags": []
   },
   "outputs": [
    {
     "data": {
      "application/vnd.jupyter.widget-view+json": {
       "model_id": "75a2e5bca4634909be29fb747dbe6390",
       "version_major": 2,
       "version_minor": 0
      },
      "text/plain": [
       "VBox()"
      ]
     },
     "metadata": {},
     "output_type": "display_data"
    },
    {
     "data": {
      "application/vnd.jupyter.widget-view+json": {
       "model_id": "",
       "version_major": 2,
       "version_minor": 0
      },
      "text/plain": [
       "FloatProgress(value=0.0, bar_style='info', description='Progress:', layout=Layout(height='25px', width='50%'),…"
      ]
     },
     "metadata": {},
     "output_type": "display_data"
    }
   ],
   "source": [
    "dfUni = df.select(\"label\",\"featuresUni\").withColumnRenamed(\"featuresUni\",\"features\").repartition(3200).cache()\n",
    "dfBi = df.select(\"label\",\"featuresBi\").withColumnRenamed(\"featuresBi\",\"features\").repartition(3200).cache()\n",
    "dfTri = df.select(\"label\",\"featuresTri\").withColumnRenamed(\"featuresTri\",\"features\").repartition(3200).cache()"
   ]
  },
  {
   "cell_type": "markdown",
   "id": "0e1a9e5f-33d3-43cb-bd8e-e0dfb052e0b2",
   "metadata": {
    "tags": []
   },
   "source": [
    "### Model declaration"
   ]
  },
  {
   "cell_type": "code",
   "execution_count": 52,
   "id": "eb255ccc",
   "metadata": {
    "execution": {
     "iopub.execute_input": "2022-04-08T13:21:58.636522Z",
     "iopub.status.busy": "2022-04-08T13:21:58.636188Z",
     "iopub.status.idle": "2022-04-08T13:21:58.707610Z",
     "shell.execute_reply": "2022-04-08T13:21:58.706824Z",
     "shell.execute_reply.started": "2022-04-08T13:21:58.636479Z"
    },
    "tags": []
   },
   "outputs": [
    {
     "data": {
      "application/vnd.jupyter.widget-view+json": {
       "model_id": "7e99172efb36465e8692823dd1d537db",
       "version_major": 2,
       "version_minor": 0
      },
      "text/plain": [
       "VBox()"
      ]
     },
     "metadata": {},
     "output_type": "display_data"
    },
    {
     "data": {
      "application/vnd.jupyter.widget-view+json": {
       "model_id": "",
       "version_major": 2,
       "version_minor": 0
      },
      "text/plain": [
       "FloatProgress(value=0.0, bar_style='info', description='Progress:', layout=Layout(height='25px', width='50%'),…"
      ]
     },
     "metadata": {},
     "output_type": "display_data"
    }
   ],
   "source": [
    "lr= classification.LogisticRegression(maxIter=75, regParam=0, elasticNetParam=0, tol=1E-6, standardization=False, family=\"binomial\")\n",
    "lrBi = classification.LogisticRegression(maxIter=75, regParam=0, elasticNetParam=0, tol=1E-6, standardization=False, family=\"binomial\")\n",
    "lrTri = classification.LogisticRegression(maxIter=75, regParam=0, elasticNetParam=0, tol=1E-6, standardization=False, family=\"binomial\")\n",
    "ovrUni = classification.OneVsRest(classifier=lr)\n",
    "ovrBi = classification.OneVsRest(classifier=lrBi)\n",
    "ovrTri = classification.OneVsRest(classifier=lrTri)"
   ]
  },
  {
   "cell_type": "markdown",
   "id": "ae1a1d69-0fc5-44b6-b950-0ceb63c970f7",
   "metadata": {
    "tags": []
   },
   "source": [
    "#### Declare evaluator"
   ]
  },
  {
   "cell_type": "code",
   "execution_count": 53,
   "id": "ca973a74-b730-4791-90b4-e9231296afe2",
   "metadata": {
    "execution": {
     "iopub.execute_input": "2022-04-08T13:21:59.421972Z",
     "iopub.status.busy": "2022-04-08T13:21:59.421732Z",
     "iopub.status.idle": "2022-04-08T13:21:59.500874Z",
     "shell.execute_reply": "2022-04-08T13:21:59.500305Z",
     "shell.execute_reply.started": "2022-04-08T13:21:59.421945Z"
    },
    "tags": []
   },
   "outputs": [
    {
     "data": {
      "application/vnd.jupyter.widget-view+json": {
       "model_id": "28ebe6c7b326467f8dbd381f82cf79f0",
       "version_major": 2,
       "version_minor": 0
      },
      "text/plain": [
       "VBox()"
      ]
     },
     "metadata": {},
     "output_type": "display_data"
    },
    {
     "data": {
      "application/vnd.jupyter.widget-view+json": {
       "model_id": "",
       "version_major": 2,
       "version_minor": 0
      },
      "text/plain": [
       "FloatProgress(value=0.0, bar_style='info', description='Progress:', layout=Layout(height='25px', width='50%'),…"
      ]
     },
     "metadata": {},
     "output_type": "display_data"
    }
   ],
   "source": [
    "evaluator = MulticlassClassificationEvaluator(predictionCol=\"prediction\")"
   ]
  },
  {
   "cell_type": "markdown",
   "id": "06fd96ca-9b09-428a-9826-0cdb57d0a323",
   "metadata": {
    "tags": []
   },
   "source": [
    "### One Vs Rest Unigram"
   ]
  },
  {
   "cell_type": "code",
   "execution_count": 54,
   "id": "6a94cf28-8ebc-442d-8b14-bf7bbbd41910",
   "metadata": {
    "execution": {
     "iopub.execute_input": "2022-04-08T13:22:01.108705Z",
     "iopub.status.busy": "2022-04-08T13:22:01.108465Z",
     "iopub.status.idle": "2022-04-08T13:35:12.527047Z",
     "shell.execute_reply": "2022-04-08T13:35:12.526487Z",
     "shell.execute_reply.started": "2022-04-08T13:22:01.108681Z"
    },
    "tags": []
   },
   "outputs": [
    {
     "data": {
      "application/vnd.jupyter.widget-view+json": {
       "model_id": "ef342d0aeb59485584c32ce3274416a4",
       "version_major": 2,
       "version_minor": 0
      },
      "text/plain": [
       "VBox()"
      ]
     },
     "metadata": {},
     "output_type": "display_data"
    },
    {
     "data": {
      "application/vnd.jupyter.widget-view+json": {
       "model_id": "",
       "version_major": 2,
       "version_minor": 0
      },
      "text/plain": [
       "FloatProgress(value=0.0, bar_style='info', description='Progress:', layout=Layout(height='25px', width='50%'),…"
      ]
     },
     "metadata": {},
     "output_type": "display_data"
    },
    {
     "name": "stderr",
     "output_type": "stream",
     "text": [
      "Exception in thread cell_monitor-54:\n",
      "Traceback (most recent call last):\n",
      "  File \"/mnt/notebook-env/lib/python3.7/threading.py\", line 926, in _bootstrap_inner\n",
      "    self.run()\n",
      "  File \"/mnt/notebook-env/lib/python3.7/threading.py\", line 870, in run\n",
      "    self._target(*self._args, **self._kwargs)\n",
      "  File \"/mnt/notebook-env/lib/python3.7/site-packages/awseditorssparkmonitoringwidget-1.0-py3.7.egg/awseditorssparkmonitoringwidget/cellmonitor.py\", line 178, in cell_monitor\n",
      "    job_binned_stages[job_id][stage_id] = all_stages[stage_id]\n",
      "KeyError: 8994\n",
      "\n"
     ]
    }
   ],
   "source": [
    "ovrModelUni = ovrUni.fit(dfUni)"
   ]
  },
  {
   "cell_type": "code",
   "execution_count": 55,
   "id": "ae16f3e5-231b-4f60-8d3e-c2ec54c5d816",
   "metadata": {
    "execution": {
     "iopub.execute_input": "2022-04-08T13:36:24.981669Z",
     "iopub.status.busy": "2022-04-08T13:36:24.981284Z",
     "iopub.status.idle": "2022-04-08T13:36:25.781018Z",
     "shell.execute_reply": "2022-04-08T13:36:25.779805Z",
     "shell.execute_reply.started": "2022-04-08T13:36:24.981622Z"
    },
    "tags": []
   },
   "outputs": [
    {
     "data": {
      "application/vnd.jupyter.widget-view+json": {
       "model_id": "9d2d9bef1e7a48c0aa49d5fdc1d72c86",
       "version_major": 2,
       "version_minor": 0
      },
      "text/plain": [
       "VBox()"
      ]
     },
     "metadata": {},
     "output_type": "display_data"
    },
    {
     "data": {
      "application/vnd.jupyter.widget-view+json": {
       "model_id": "",
       "version_major": 2,
       "version_minor": 0
      },
      "text/plain": [
       "FloatProgress(value=0.0, bar_style='info', description='Progress:', layout=Layout(height='25px', width='50%'),…"
      ]
     },
     "metadata": {},
     "output_type": "display_data"
    }
   ],
   "source": [
    "resultUni = ovrModelUni.transform(dfUni)"
   ]
  },
  {
   "cell_type": "markdown",
   "id": "82f0e67b-a70d-485f-aa34-3b33a04c2442",
   "metadata": {},
   "source": [
    "#### Metric"
   ]
  },
  {
   "cell_type": "code",
   "execution_count": 57,
   "id": "e45eda35-c740-4549-8b79-2f601abc97f8",
   "metadata": {
    "execution": {
     "iopub.execute_input": "2022-04-08T13:36:29.229275Z",
     "iopub.status.busy": "2022-04-08T13:36:29.229026Z",
     "iopub.status.idle": "2022-04-08T13:37:50.995777Z",
     "shell.execute_reply": "2022-04-08T13:37:50.995053Z",
     "shell.execute_reply.started": "2022-04-08T13:36:29.229248Z"
    },
    "tags": []
   },
   "outputs": [
    {
     "data": {
      "application/vnd.jupyter.widget-view+json": {
       "model_id": "2357d9075fac4121bc12a2fe997d9d88",
       "version_major": 2,
       "version_minor": 0
      },
      "text/plain": [
       "VBox()"
      ]
     },
     "metadata": {},
     "output_type": "display_data"
    },
    {
     "data": {
      "application/vnd.jupyter.widget-view+json": {
       "model_id": "",
       "version_major": 2,
       "version_minor": 0
      },
      "text/plain": [
       "FloatProgress(value=0.0, bar_style='info', description='Progress:', layout=Layout(height='25px', width='50%'),…"
      ]
     },
     "metadata": {},
     "output_type": "display_data"
    },
    {
     "name": "stdout",
     "output_type": "stream",
     "text": [
      "0.5984332967644009"
     ]
    }
   ],
   "source": [
    "evaluator.evaluate(resultUni,{evaluator.metricName: \"accuracy\"})"
   ]
  },
  {
   "cell_type": "code",
   "execution_count": 58,
   "id": "ba3677b4-08f2-44c7-8ffe-0d4749965e27",
   "metadata": {
    "execution": {
     "iopub.execute_input": "2022-04-08T13:40:56.333786Z",
     "iopub.status.busy": "2022-04-08T13:40:56.333376Z",
     "iopub.status.idle": "2022-04-08T13:41:04.103872Z",
     "shell.execute_reply": "2022-04-08T13:41:04.093647Z",
     "shell.execute_reply.started": "2022-04-08T13:40:56.333743Z"
    },
    "tags": []
   },
   "outputs": [
    {
     "data": {
      "application/vnd.jupyter.widget-view+json": {
       "model_id": "46ebc643849d4d18b51e014459e394f8",
       "version_major": 2,
       "version_minor": 0
      },
      "text/plain": [
       "VBox()"
      ]
     },
     "metadata": {},
     "output_type": "display_data"
    },
    {
     "data": {
      "application/vnd.jupyter.widget-view+json": {
       "model_id": "",
       "version_major": 2,
       "version_minor": 0
      },
      "text/plain": [
       "FloatProgress(value=0.0, bar_style='info', description='Progress:', layout=Layout(height='25px', width='50%'),…"
      ]
     },
     "metadata": {},
     "output_type": "display_data"
    }
   ],
   "source": [
    "ovrModelUni.save('s3://dataset-26-proj/yelp_academic_dataset_review_ovrUni/ovrUniV3.model')"
   ]
  },
  {
   "cell_type": "markdown",
   "id": "dd818810-3236-42e5-b56b-a66daa8af43c",
   "metadata": {
    "tags": []
   },
   "source": [
    "### One Vs Rest Bigram"
   ]
  },
  {
   "cell_type": "code",
   "execution_count": 59,
   "id": "2b8fdbbe-31aa-4b3e-9333-84c8196ee193",
   "metadata": {
    "execution": {
     "iopub.execute_input": "2022-04-08T13:41:19.975153Z",
     "iopub.status.busy": "2022-04-08T13:41:19.974877Z",
     "iopub.status.idle": "2022-04-08T13:51:05.973503Z",
     "shell.execute_reply": "2022-04-08T13:51:05.972733Z",
     "shell.execute_reply.started": "2022-04-08T13:41:19.975127Z"
    },
    "tags": []
   },
   "outputs": [
    {
     "data": {
      "application/vnd.jupyter.widget-view+json": {
       "model_id": "a1586500ce4145eb8cd971feae86ae50",
       "version_major": 2,
       "version_minor": 0
      },
      "text/plain": [
       "VBox()"
      ]
     },
     "metadata": {},
     "output_type": "display_data"
    },
    {
     "data": {
      "application/vnd.jupyter.widget-view+json": {
       "model_id": "",
       "version_major": 2,
       "version_minor": 0
      },
      "text/plain": [
       "FloatProgress(value=0.0, bar_style='info', description='Progress:', layout=Layout(height='25px', width='50%'),…"
      ]
     },
     "metadata": {},
     "output_type": "display_data"
    },
    {
     "name": "stderr",
     "output_type": "stream",
     "text": [
      "Exception in thread cell_monitor-59:\n",
      "Traceback (most recent call last):\n",
      "  File \"/mnt/notebook-env/lib/python3.7/threading.py\", line 926, in _bootstrap_inner\n",
      "    self.run()\n",
      "  File \"/mnt/notebook-env/lib/python3.7/threading.py\", line 870, in run\n",
      "    self._target(*self._args, **self._kwargs)\n",
      "  File \"/mnt/notebook-env/lib/python3.7/site-packages/awseditorssparkmonitoringwidget-1.0-py3.7.egg/awseditorssparkmonitoringwidget/cellmonitor.py\", line 178, in cell_monitor\n",
      "    job_binned_stages[job_id][stage_id] = all_stages[stage_id]\n",
      "KeyError: 10596\n",
      "\n"
     ]
    }
   ],
   "source": [
    "ovrModelBi = ovrBi.fit(dfBi)"
   ]
  },
  {
   "cell_type": "code",
   "execution_count": 60,
   "id": "98d446e1-cb3e-44c9-9b87-cbe99a109078",
   "metadata": {
    "execution": {
     "iopub.execute_input": "2022-04-08T13:51:05.975159Z",
     "iopub.status.busy": "2022-04-08T13:51:05.974782Z",
     "iopub.status.idle": "2022-04-08T13:51:06.763391Z",
     "shell.execute_reply": "2022-04-08T13:51:06.762577Z",
     "shell.execute_reply.started": "2022-04-08T13:51:05.975123Z"
    },
    "tags": []
   },
   "outputs": [
    {
     "data": {
      "application/vnd.jupyter.widget-view+json": {
       "model_id": "5efab3a5258e46968faabdc3be1491f6",
       "version_major": 2,
       "version_minor": 0
      },
      "text/plain": [
       "VBox()"
      ]
     },
     "metadata": {},
     "output_type": "display_data"
    },
    {
     "data": {
      "application/vnd.jupyter.widget-view+json": {
       "model_id": "",
       "version_major": 2,
       "version_minor": 0
      },
      "text/plain": [
       "FloatProgress(value=0.0, bar_style='info', description='Progress:', layout=Layout(height='25px', width='50%'),…"
      ]
     },
     "metadata": {},
     "output_type": "display_data"
    }
   ],
   "source": [
    "resultBi = ovrModelBi.transform(dfBi)"
   ]
  },
  {
   "cell_type": "markdown",
   "id": "804be3e2-619f-42ce-90e4-f5c64cf58196",
   "metadata": {},
   "source": [
    "#### Metric"
   ]
  },
  {
   "cell_type": "code",
   "execution_count": 62,
   "id": "5b339285-9c01-4901-85fa-6948643ebc31",
   "metadata": {
    "execution": {
     "iopub.execute_input": "2022-04-08T13:51:50.489259Z",
     "iopub.status.busy": "2022-04-08T13:51:50.489021Z",
     "iopub.status.idle": "2022-04-08T13:53:12.196777Z",
     "shell.execute_reply": "2022-04-08T13:53:12.196044Z",
     "shell.execute_reply.started": "2022-04-08T13:51:50.489234Z"
    },
    "tags": []
   },
   "outputs": [
    {
     "data": {
      "application/vnd.jupyter.widget-view+json": {
       "model_id": "1ed6c366710247c59dab4a03001a4843",
       "version_major": 2,
       "version_minor": 0
      },
      "text/plain": [
       "VBox()"
      ]
     },
     "metadata": {},
     "output_type": "display_data"
    },
    {
     "data": {
      "application/vnd.jupyter.widget-view+json": {
       "model_id": "",
       "version_major": 2,
       "version_minor": 0
      },
      "text/plain": [
       "FloatProgress(value=0.0, bar_style='info', description='Progress:', layout=Layout(height='25px', width='50%'),…"
      ]
     },
     "metadata": {},
     "output_type": "display_data"
    },
    {
     "name": "stdout",
     "output_type": "stream",
     "text": [
      "0.5485745630513518"
     ]
    }
   ],
   "source": [
    "evaluator.evaluate(resultBi,{evaluator.metricName: \"accuracy\"})"
   ]
  },
  {
   "cell_type": "code",
   "execution_count": 64,
   "id": "39af2039-5574-4758-959a-4e76e62a924e",
   "metadata": {
    "execution": {
     "iopub.execute_input": "2022-04-08T13:53:46.944995Z",
     "iopub.status.busy": "2022-04-08T13:53:46.944645Z",
     "iopub.status.idle": "2022-04-08T13:53:54.447812Z",
     "shell.execute_reply": "2022-04-08T13:53:54.434575Z",
     "shell.execute_reply.started": "2022-04-08T13:53:46.944952Z"
    },
    "tags": []
   },
   "outputs": [
    {
     "data": {
      "application/vnd.jupyter.widget-view+json": {
       "model_id": "5575c7b30c3d4583bb185298e5552c8f",
       "version_major": 2,
       "version_minor": 0
      },
      "text/plain": [
       "VBox()"
      ]
     },
     "metadata": {},
     "output_type": "display_data"
    },
    {
     "data": {
      "application/vnd.jupyter.widget-view+json": {
       "model_id": "",
       "version_major": 2,
       "version_minor": 0
      },
      "text/plain": [
       "FloatProgress(value=0.0, bar_style='info', description='Progress:', layout=Layout(height='25px', width='50%'),…"
      ]
     },
     "metadata": {},
     "output_type": "display_data"
    }
   ],
   "source": [
    "ovrModelBi.save('s3://dataset-26-proj/yelp_academic_dataset_review_ovrBi/ovrBiV3.model')"
   ]
  },
  {
   "cell_type": "markdown",
   "id": "0aa65544-26a8-45a2-82fe-a00d66f18dd0",
   "metadata": {
    "tags": []
   },
   "source": [
    "### One Vs Rest Trigram"
   ]
  },
  {
   "cell_type": "code",
   "execution_count": 65,
   "id": "0afb931e-29ba-411e-8053-6cb898ac001d",
   "metadata": {
    "execution": {
     "iopub.execute_input": "2022-04-08T13:54:04.338727Z",
     "iopub.status.busy": "2022-04-08T13:54:04.338477Z",
     "iopub.status.idle": "2022-04-08T14:04:07.477135Z",
     "shell.execute_reply": "2022-04-08T14:04:07.476541Z",
     "shell.execute_reply.started": "2022-04-08T13:54:04.338703Z"
    },
    "tags": []
   },
   "outputs": [
    {
     "data": {
      "application/vnd.jupyter.widget-view+json": {
       "model_id": "0e6e971d0e274198ac0c6e1c8968e57e",
       "version_major": 2,
       "version_minor": 0
      },
      "text/plain": [
       "VBox()"
      ]
     },
     "metadata": {},
     "output_type": "display_data"
    },
    {
     "data": {
      "application/vnd.jupyter.widget-view+json": {
       "model_id": "",
       "version_major": 2,
       "version_minor": 0
      },
      "text/plain": [
       "FloatProgress(value=0.0, bar_style='info', description='Progress:', layout=Layout(height='25px', width='50%'),…"
      ]
     },
     "metadata": {},
     "output_type": "display_data"
    },
    {
     "name": "stderr",
     "output_type": "stream",
     "text": [
      "Exception in thread cell_monitor-65:\n",
      "Traceback (most recent call last):\n",
      "  File \"/mnt/notebook-env/lib/python3.7/threading.py\", line 926, in _bootstrap_inner\n",
      "    self.run()\n",
      "  File \"/mnt/notebook-env/lib/python3.7/threading.py\", line 870, in run\n",
      "    self._target(*self._args, **self._kwargs)\n",
      "  File \"/mnt/notebook-env/lib/python3.7/site-packages/awseditorssparkmonitoringwidget-1.0-py3.7.egg/awseditorssparkmonitoringwidget/cellmonitor.py\", line 178, in cell_monitor\n",
      "    job_binned_stages[job_id][stage_id] = all_stages[stage_id]\n",
      "KeyError: 11794\n",
      "\n"
     ]
    }
   ],
   "source": [
    "ovrModelTri = ovrTri.fit(dfTri)"
   ]
  },
  {
   "cell_type": "code",
   "execution_count": 66,
   "id": "4dc35245-7bbf-456c-bdce-1d993d5bfc47",
   "metadata": {
    "execution": {
     "iopub.execute_input": "2022-04-08T14:04:07.478290Z",
     "iopub.status.busy": "2022-04-08T14:04:07.478107Z",
     "iopub.status.idle": "2022-04-08T14:04:08.255378Z",
     "shell.execute_reply": "2022-04-08T14:04:08.254661Z",
     "shell.execute_reply.started": "2022-04-08T14:04:07.478261Z"
    },
    "tags": []
   },
   "outputs": [
    {
     "data": {
      "application/vnd.jupyter.widget-view+json": {
       "model_id": "985a5772a0db42ad8fdbfb5f9cccc4c2",
       "version_major": 2,
       "version_minor": 0
      },
      "text/plain": [
       "VBox()"
      ]
     },
     "metadata": {},
     "output_type": "display_data"
    },
    {
     "data": {
      "application/vnd.jupyter.widget-view+json": {
       "model_id": "",
       "version_major": 2,
       "version_minor": 0
      },
      "text/plain": [
       "FloatProgress(value=0.0, bar_style='info', description='Progress:', layout=Layout(height='25px', width='50%'),…"
      ]
     },
     "metadata": {},
     "output_type": "display_data"
    }
   ],
   "source": [
    "resultTri = ovrModelTri.transform(dfTri)"
   ]
  },
  {
   "cell_type": "markdown",
   "id": "45cc87f3-81e2-4215-ba1f-6421cab954f1",
   "metadata": {},
   "source": [
    "#### Metric"
   ]
  },
  {
   "cell_type": "code",
   "execution_count": 67,
   "id": "bda40341-b74e-4c08-baa0-0bb3cf5a9fb7",
   "metadata": {
    "execution": {
     "iopub.execute_input": "2022-04-08T14:05:40.439985Z",
     "iopub.status.busy": "2022-04-08T14:05:40.439705Z",
     "iopub.status.idle": "2022-04-08T14:07:04.210089Z",
     "shell.execute_reply": "2022-04-08T14:07:04.209493Z",
     "shell.execute_reply.started": "2022-04-08T14:05:40.439958Z"
    },
    "tags": []
   },
   "outputs": [
    {
     "data": {
      "application/vnd.jupyter.widget-view+json": {
       "model_id": "5a7527d5c4f14378aa811fa6f640e277",
       "version_major": 2,
       "version_minor": 0
      },
      "text/plain": [
       "VBox()"
      ]
     },
     "metadata": {},
     "output_type": "display_data"
    },
    {
     "data": {
      "application/vnd.jupyter.widget-view+json": {
       "model_id": "",
       "version_major": 2,
       "version_minor": 0
      },
      "text/plain": [
       "FloatProgress(value=0.0, bar_style='info', description='Progress:', layout=Layout(height='25px', width='50%'),…"
      ]
     },
     "metadata": {},
     "output_type": "display_data"
    },
    {
     "name": "stdout",
     "output_type": "stream",
     "text": [
      "0.36941284320944984"
     ]
    }
   ],
   "source": [
    "evaluator.evaluate(resultTri,{evaluator.metricName: \"accuracy\"})"
   ]
  },
  {
   "cell_type": "code",
   "execution_count": 28,
   "id": "8903e148-070d-47f9-8cd6-e33590d94dc3",
   "metadata": {
    "execution": {
     "iopub.execute_input": "2022-04-08T09:43:41.977613Z",
     "iopub.status.busy": "2022-04-08T09:43:41.977148Z",
     "iopub.status.idle": "2022-04-08T09:43:49.402109Z",
     "shell.execute_reply": "2022-04-08T09:43:49.401236Z",
     "shell.execute_reply.started": "2022-04-08T09:43:41.977574Z"
    }
   },
   "outputs": [
    {
     "data": {
      "application/vnd.jupyter.widget-view+json": {
       "model_id": "dbc610f9d3014ab682dd556c506554da",
       "version_major": 2,
       "version_minor": 0
      },
      "text/plain": [
       "VBox()"
      ]
     },
     "metadata": {},
     "output_type": "display_data"
    },
    {
     "data": {
      "application/vnd.jupyter.widget-view+json": {
       "model_id": "",
       "version_major": 2,
       "version_minor": 0
      },
      "text/plain": [
       "FloatProgress(value=0.0, bar_style='info', description='Progress:', layout=Layout(height='25px', width='50%'),…"
      ]
     },
     "metadata": {},
     "output_type": "display_data"
    }
   ],
   "source": [
    "ovrModelTri.save('s3://dataset-26-proj/yelp_academic_dataset_review_ovrTri/ovrTriV1')"
   ]
  },
  {
   "cell_type": "markdown",
   "id": "f606c104-14ff-4ee3-a529-89a0d84b2e6c",
   "metadata": {
    "tags": []
   },
   "source": [
    "## Test"
   ]
  },
  {
   "cell_type": "code",
   "execution_count": null,
   "id": "e1876aea-9c3c-4ab3-99b0-a590ebb4f080",
   "metadata": {
    "collapsed": true,
    "execution": {
     "iopub.execute_input": "2022-04-06T17:37:52.868154Z",
     "iopub.status.busy": "2022-04-06T17:37:52.867926Z"
    },
    "jupyter": {
     "outputs_hidden": true,
     "source_hidden": true
    },
    "tags": []
   },
   "outputs": [
    {
     "data": {
      "application/vnd.jupyter.widget-view+json": {
       "model_id": "c921d2ff62ac4438b4149c98d3374c4a",
       "version_major": 2,
       "version_minor": 0
      },
      "text/plain": [
       "VBox()"
      ]
     },
     "metadata": {},
     "output_type": "display_data"
    },
    {
     "data": {
      "application/vnd.jupyter.widget-view+json": {
       "model_id": "3738a80abdf64c4eb06506bd1368f4fc",
       "version_major": 2,
       "version_minor": 0
      },
      "text/plain": [
       "FloatProgress(value=0.0, bar_style='info', description='Progress:', layout=Layout(height='25px', width='50%'),…"
      ]
     },
     "metadata": {},
     "output_type": "display_data"
    },
    {
     "name": "stderr",
     "output_type": "stream",
     "text": [
      "Exception in thread cell_monitor-12:\n",
      "Traceback (most recent call last):\n",
      "  File \"/mnt/notebook-env/lib/python3.7/threading.py\", line 926, in _bootstrap_inner\n",
      "    self.run()\n",
      "  File \"/mnt/notebook-env/lib/python3.7/threading.py\", line 870, in run\n",
      "    self._target(*self._args, **self._kwargs)\n",
      "  File \"/mnt/notebook-env/lib/python3.7/site-packages/awseditorssparkmonitoringwidget-1.0-py3.7.egg/awseditorssparkmonitoringwidget/cellmonitor.py\", line 178, in cell_monitor\n",
      "    job_binned_stages[job_id][stage_id] = all_stages[stage_id]\n",
      "KeyError: 1397\n",
      "\n"
     ]
    }
   ],
   "source": [
    "\n",
    "# paramGrid = tuning.ParamGridBuilder().addGrid(lr.maxIter, [30,50,75]) \\\n",
    "#                               .addGrid(lr.regParam, [0.03, 0.04, 0.05]) \\\n",
    "#                               .addGrid(lr.elasticNetParam, [0.1,0.2,0.3]) \\\n",
    "#                               .build()\n",
    "# evaluator = MulticlassClassificationEvaluator()\n",
    "# valid = tuning.TrainValidationSplit(estimator=lr,\n",
    "#                              estimatorParamMaps=paramGrid,\n",
    "#                              evaluator=evaluator,\n",
    "#                              trainRatio=0.80)\n",
    "# model = valid.fit(df)"
   ]
  },
  {
   "cell_type": "code",
   "execution_count": 14,
   "id": "302650b7-4ffc-4457-a32d-c7b502b13bcb",
   "metadata": {
    "collapsed": true,
    "execution": {
     "iopub.execute_input": "2022-04-06T15:04:03.110681Z",
     "iopub.status.busy": "2022-04-06T15:04:03.110451Z",
     "iopub.status.idle": "2022-04-06T15:04:03.373402Z",
     "shell.execute_reply": "2022-04-06T15:04:03.372567Z",
     "shell.execute_reply.started": "2022-04-06T15:04:03.110657Z"
    },
    "jupyter": {
     "outputs_hidden": true,
     "source_hidden": true
    },
    "tags": []
   },
   "outputs": [
    {
     "data": {
      "application/vnd.jupyter.widget-view+json": {
       "model_id": "51a4b21d2f124f3bba8f7f6954ae086d",
       "version_major": 2,
       "version_minor": 0
      },
      "text/plain": [
       "VBox()"
      ]
     },
     "metadata": {},
     "output_type": "display_data"
    },
    {
     "data": {
      "application/vnd.jupyter.widget-view+json": {
       "model_id": "",
       "version_major": 2,
       "version_minor": 0
      },
      "text/plain": [
       "FloatProgress(value=0.0, bar_style='info', description='Progress:', layout=Layout(height='25px', width='50%'),…"
      ]
     },
     "metadata": {},
     "output_type": "display_data"
    }
   ],
   "source": [
    "best_model = model.transform(df)"
   ]
  },
  {
   "cell_type": "code",
   "execution_count": null,
   "id": "6df18521",
   "metadata": {
    "jupyter": {
     "source_hidden": true
    },
    "tags": []
   },
   "outputs": [],
   "source": [
    "#rf_model = rf.fit(df)\n",
    "\n",
    "#lrModel = ovr.fit(df)"
   ]
  },
  {
   "cell_type": "code",
   "execution_count": 13,
   "id": "c2c12d66-9132-4c1c-8672-330a517b4179",
   "metadata": {
    "collapsed": true,
    "execution": {
     "iopub.execute_input": "2022-04-08T06:17:14.481348Z",
     "iopub.status.busy": "2022-04-08T06:17:14.481004Z",
     "iopub.status.idle": "2022-04-08T06:17:14.574208Z",
     "shell.execute_reply": "2022-04-08T06:17:14.573532Z",
     "shell.execute_reply.started": "2022-04-08T06:17:14.481302Z"
    },
    "jupyter": {
     "outputs_hidden": true,
     "source_hidden": true
    },
    "tags": []
   },
   "outputs": [
    {
     "data": {
      "application/vnd.jupyter.widget-view+json": {
       "model_id": "c15a4f247411419d8a7c7bad1b481ab6",
       "version_major": 2,
       "version_minor": 0
      },
      "text/plain": [
       "VBox()"
      ]
     },
     "metadata": {},
     "output_type": "display_data"
    },
    {
     "data": {
      "application/vnd.jupyter.widget-view+json": {
       "model_id": "",
       "version_major": 2,
       "version_minor": 0
      },
      "text/plain": [
       "FloatProgress(value=0.0, bar_style='info', description='Progress:', layout=Layout(height='25px', width='50%'),…"
      ]
     },
     "metadata": {},
     "output_type": "display_data"
    },
    {
     "name": "stdout",
     "output_type": "stream",
     "text": [
      "root\n",
      " |-- label: double (nullable = true)\n",
      " |-- features: vector (nullable = true)\n",
      " |-- prediction: double (nullable = true)"
     ]
    }
   ],
   "source": [
    "#best_model.printSchema()\n"
   ]
  },
  {
   "cell_type": "markdown",
   "id": "961b34b5-e666-4113-95b4-82dc464acf69",
   "metadata": {
    "tags": []
   },
   "source": [
    "### Shutdown"
   ]
  },
  {
   "cell_type": "code",
   "execution_count": 7,
   "id": "3aaa2c6a-00a9-419b-82f2-d11f48204bd8",
   "metadata": {
    "execution": {
     "iopub.execute_input": "2022-04-03T10:06:07.805451Z",
     "iopub.status.busy": "2022-04-03T10:06:07.805208Z",
     "iopub.status.idle": "2022-04-03T10:06:08.076526Z",
     "shell.execute_reply": "2022-04-03T10:06:08.075771Z",
     "shell.execute_reply.started": "2022-04-03T10:06:07.805424Z"
    }
   },
   "outputs": [
    {
     "data": {
      "application/vnd.jupyter.widget-view+json": {
       "model_id": "6a9a3d8e6b564ecbaef20a36fb03455f",
       "version_major": 2,
       "version_minor": 0
      },
      "text/plain": [
       "VBox()"
      ]
     },
     "metadata": {},
     "output_type": "display_data"
    },
    {
     "data": {
      "application/vnd.jupyter.widget-view+json": {
       "model_id": "",
       "version_major": 2,
       "version_minor": 0
      },
      "text/plain": [
       "FloatProgress(value=0.0, bar_style='info', description='Progress:', layout=Layout(height='25px', width='50%'),…"
      ]
     },
     "metadata": {},
     "output_type": "display_data"
    }
   ],
   "source": [
    "sc.stop()"
   ]
  }
 ],
 "metadata": {
  "kernelspec": {
   "display_name": "PySpark",
   "language": "python",
   "name": "pysparkkernel"
  },
  "language_info": {
   "codemirror_mode": {
    "name": "python",
    "version": 3
   },
   "file_extension": ".py",
   "mimetype": "text/x-python",
   "name": "pyspark",
   "pygments_lexer": "python3"
  }
 },
 "nbformat": 4,
 "nbformat_minor": 5
}
