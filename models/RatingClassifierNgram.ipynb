{
 "cells": [
  {
   "cell_type": "markdown",
   "id": "b5f647a0-9fd2-4766-9dd1-3da6e6c28986",
   "metadata": {},
   "source": [
    "# NGram Rating classifier"
   ]
  },
  {
   "cell_type": "markdown",
   "id": "abfdb491-ee27-48fb-89d5-97c263e6ce25",
   "metadata": {
    "jp-MarkdownHeadingCollapsed": true,
    "tags": []
   },
   "source": [
    "### Cluster environment Configurations"
   ]
  },
  {
   "cell_type": "code",
   "execution_count": 1,
   "id": "9fc78abd",
   "metadata": {
    "execution": {
     "iopub.execute_input": "2022-04-08T08:51:11.244477Z",
     "iopub.status.busy": "2022-04-08T08:51:11.244243Z",
     "iopub.status.idle": "2022-04-08T08:51:43.211728Z",
     "shell.execute_reply": "2022-04-08T08:51:43.211088Z",
     "shell.execute_reply.started": "2022-04-08T08:51:11.244454Z"
    },
    "tags": []
   },
   "outputs": [
    {
     "data": {
      "application/vnd.jupyter.widget-view+json": {
       "model_id": "9170bb8e90b346ad8f47cb4aa25140b9",
       "version_major": 2,
       "version_minor": 0
      },
      "text/plain": [
       "VBox()"
      ]
     },
     "metadata": {},
     "output_type": "display_data"
    },
    {
     "name": "stdout",
     "output_type": "stream",
     "text": [
      "Starting Spark application\n"
     ]
    },
    {
     "data": {
      "text/html": [
       "<table>\n",
       "<tr><th>ID</th><th>YARN Application ID</th><th>Kind</th><th>State</th><th>Spark UI</th><th>Driver log</th><th>User</th><th>Current session?</th></tr><tr><td>0</td><td>application_1649407528976_0003</td><td>pyspark</td><td>idle</td><td><a target=\"_blank\" href=\"http://ip-172-31-39-185.ec2.internal:20888/proxy/application_1649407528976_0003/\" class=\"emr-proxy-link\" emr-resource=\"j-1WDPVFJK14972\n",
       "\" application-id=\"application_1649407528976_0003\">Link</a></td><td><a target=\"_blank\" href=\"http://ip-172-31-44-132.ec2.internal:8042/node/containerlogs/container_1649407528976_0003_01_000001/livy\" >Link</a></td><td>None</td><td>✔</td></tr></table>"
      ],
      "text/plain": [
       "<IPython.core.display.HTML object>"
      ]
     },
     "metadata": {},
     "output_type": "display_data"
    },
    {
     "data": {
      "application/vnd.jupyter.widget-view+json": {
       "model_id": "",
       "version_major": 2,
       "version_minor": 0
      },
      "text/plain": [
       "FloatProgress(value=0.0, bar_style='info', description='Progress:', layout=Layout(height='25px', width='50%'),…"
      ]
     },
     "metadata": {},
     "output_type": "display_data"
    },
    {
     "name": "stdout",
     "output_type": "stream",
     "text": [
      "SparkSession available as 'spark'.\n"
     ]
    },
    {
     "data": {
      "application/vnd.jupyter.widget-view+json": {
       "model_id": "",
       "version_major": 2,
       "version_minor": 0
      },
      "text/plain": [
       "FloatProgress(value=0.0, bar_style='info', description='Progress:', layout=Layout(height='25px', width='50%'),…"
      ]
     },
     "metadata": {},
     "output_type": "display_data"
    }
   ],
   "source": [
    "conf = spark.sparkContext._conf.setAll([('spark.executor.memory', '8g'), ('spark.driver.memory','15g'),(\"spark.driver.maxResultSize\",\"0\"),(\"spark.executor.cores\", '2'),(\"spark.executor.instances\", \"12\"),(\"spark.dynamicAllocation.enabled\",\"False\")])"
   ]
  },
  {
   "cell_type": "markdown",
   "id": "5c03640e-ab3f-4a34-8603-1549b6b8877b",
   "metadata": {
    "execution": {
     "iopub.execute_input": "2022-04-08T09:46:10.503674Z",
     "iopub.status.busy": "2022-04-08T09:46:10.503432Z",
     "iopub.status.idle": "2022-04-08T09:46:10.590080Z",
     "shell.execute_reply": "2022-04-08T09:46:10.589379Z",
     "shell.execute_reply.started": "2022-04-08T09:46:10.503648Z"
    },
    "jp-MarkdownHeadingCollapsed": true,
    "tags": []
   },
   "source": [
    "### Imports"
   ]
  },
  {
   "cell_type": "code",
   "execution_count": 2,
   "id": "dbb9316e-e112-42af-a223-3f6a7d8022c9",
   "metadata": {
    "execution": {
     "iopub.execute_input": "2022-04-08T08:51:43.213006Z",
     "iopub.status.busy": "2022-04-08T08:51:43.212755Z",
     "iopub.status.idle": "2022-04-08T08:51:43.317284Z",
     "shell.execute_reply": "2022-04-08T08:51:43.316384Z",
     "shell.execute_reply.started": "2022-04-08T08:51:43.212973Z"
    },
    "tags": []
   },
   "outputs": [
    {
     "data": {
      "application/vnd.jupyter.widget-view+json": {
       "model_id": "2912988f5b45467aa1774dcf8d7a1f5d",
       "version_major": 2,
       "version_minor": 0
      },
      "text/plain": [
       "VBox()"
      ]
     },
     "metadata": {},
     "output_type": "display_data"
    },
    {
     "data": {
      "application/vnd.jupyter.widget-view+json": {
       "model_id": "",
       "version_major": 2,
       "version_minor": 0
      },
      "text/plain": [
       "FloatProgress(value=0.0, bar_style='info', description='Progress:', layout=Layout(height='25px', width='50%'),…"
      ]
     },
     "metadata": {},
     "output_type": "display_data"
    }
   ],
   "source": [
    "import pyspark"
   ]
  },
  {
   "cell_type": "code",
   "execution_count": 3,
   "id": "978f9b66",
   "metadata": {
    "execution": {
     "iopub.execute_input": "2022-04-08T08:51:43.319137Z",
     "iopub.status.busy": "2022-04-08T08:51:43.318833Z",
     "iopub.status.idle": "2022-04-08T08:51:44.147215Z",
     "shell.execute_reply": "2022-04-08T08:51:44.146386Z",
     "shell.execute_reply.started": "2022-04-08T08:51:43.319100Z"
    },
    "tags": []
   },
   "outputs": [
    {
     "data": {
      "application/vnd.jupyter.widget-view+json": {
       "model_id": "9c29e0016b26476c99e3bf211b2c0139",
       "version_major": 2,
       "version_minor": 0
      },
      "text/plain": [
       "VBox()"
      ]
     },
     "metadata": {},
     "output_type": "display_data"
    },
    {
     "data": {
      "application/vnd.jupyter.widget-view+json": {
       "model_id": "",
       "version_major": 2,
       "version_minor": 0
      },
      "text/plain": [
       "FloatProgress(value=0.0, bar_style='info', description='Progress:', layout=Layout(height='25px', width='50%'),…"
      ]
     },
     "metadata": {},
     "output_type": "display_data"
    }
   ],
   "source": [
    "from pyspark.storagelevel import StorageLevel\n",
    "\n",
    "from pyspark.ml import Pipeline\n",
    "from pyspark.ml.classification import GBTClassifier\n",
    "from pyspark.ml import Transformer, classification\n",
    "from pyspark.ml import tuning\n",
    "from pyspark.ml.evaluation import MulticlassClassificationEvaluator"
   ]
  },
  {
   "cell_type": "markdown",
   "id": "46a77f5c-77e5-4426-8d66-aa49fc3a8156",
   "metadata": {
    "jp-MarkdownHeadingCollapsed": true,
    "tags": []
   },
   "source": [
    "### Data Loading"
   ]
  },
  {
   "cell_type": "code",
   "execution_count": 4,
   "id": "57e159a0",
   "metadata": {
    "execution": {
     "iopub.execute_input": "2022-04-08T08:51:44.150240Z",
     "iopub.status.busy": "2022-04-08T08:51:44.149979Z",
     "iopub.status.idle": "2022-04-08T08:51:49.609828Z",
     "shell.execute_reply": "2022-04-08T08:51:49.609149Z",
     "shell.execute_reply.started": "2022-04-08T08:51:44.150206Z"
    },
    "tags": []
   },
   "outputs": [
    {
     "data": {
      "application/vnd.jupyter.widget-view+json": {
       "model_id": "4a53a9d2fe6b498198cccf9907cee897",
       "version_major": 2,
       "version_minor": 0
      },
      "text/plain": [
       "VBox()"
      ]
     },
     "metadata": {},
     "output_type": "display_data"
    },
    {
     "data": {
      "application/vnd.jupyter.widget-view+json": {
       "model_id": "",
       "version_major": 2,
       "version_minor": 0
      },
      "text/plain": [
       "FloatProgress(value=0.0, bar_style='info', description='Progress:', layout=Layout(height='25px', width='50%'),…"
      ]
     },
     "metadata": {},
     "output_type": "display_data"
    }
   ],
   "source": [
    "df = sqlContext.read.parquet(\"hdfs:///NLP-parquet-processed/\").repartition(4800)"
   ]
  },
  {
   "cell_type": "code",
   "execution_count": 5,
   "id": "451702f9-eeae-49dd-8e8b-ab3b668b6c49",
   "metadata": {
    "execution": {
     "iopub.execute_input": "2022-04-08T08:51:49.611298Z",
     "iopub.status.busy": "2022-04-08T08:51:49.610929Z",
     "iopub.status.idle": "2022-04-08T08:51:49.940775Z",
     "shell.execute_reply": "2022-04-08T08:51:49.939990Z",
     "shell.execute_reply.started": "2022-04-08T08:51:49.611259Z"
    },
    "tags": []
   },
   "outputs": [
    {
     "data": {
      "application/vnd.jupyter.widget-view+json": {
       "model_id": "f566f38cbd994779b4f5aeb9cfb5858b",
       "version_major": 2,
       "version_minor": 0
      },
      "text/plain": [
       "VBox()"
      ]
     },
     "metadata": {},
     "output_type": "display_data"
    },
    {
     "data": {
      "application/vnd.jupyter.widget-view+json": {
       "model_id": "",
       "version_major": 2,
       "version_minor": 0
      },
      "text/plain": [
       "FloatProgress(value=0.0, bar_style='info', description='Progress:', layout=Layout(height='25px', width='50%'),…"
      ]
     },
     "metadata": {},
     "output_type": "display_data"
    }
   ],
   "source": [
    "df = df.withColumnRenamed(\"stars\",\"label\")"
   ]
  },
  {
   "cell_type": "code",
   "execution_count": 6,
   "id": "c06b8fa0-149d-49fd-9cd1-235775cd8b20",
   "metadata": {
    "execution": {
     "iopub.execute_input": "2022-04-08T08:51:49.942223Z",
     "iopub.status.busy": "2022-04-08T08:51:49.941961Z",
     "iopub.status.idle": "2022-04-08T08:51:50.026544Z",
     "shell.execute_reply": "2022-04-08T08:51:50.025684Z",
     "shell.execute_reply.started": "2022-04-08T08:51:49.942187Z"
    },
    "tags": []
   },
   "outputs": [
    {
     "data": {
      "application/vnd.jupyter.widget-view+json": {
       "model_id": "757ca6d5b0ff47289f613c494ae191c5",
       "version_major": 2,
       "version_minor": 0
      },
      "text/plain": [
       "VBox()"
      ]
     },
     "metadata": {},
     "output_type": "display_data"
    },
    {
     "data": {
      "application/vnd.jupyter.widget-view+json": {
       "model_id": "",
       "version_major": 2,
       "version_minor": 0
      },
      "text/plain": [
       "FloatProgress(value=0.0, bar_style='info', description='Progress:', layout=Layout(height='25px', width='50%'),…"
      ]
     },
     "metadata": {},
     "output_type": "display_data"
    }
   ],
   "source": [
    "#df = df.localCheckpoint()"
   ]
  },
  {
   "cell_type": "code",
   "execution_count": 7,
   "id": "a8bf6e79-76d6-4692-b8c0-0e160e7726f9",
   "metadata": {
    "execution": {
     "iopub.execute_input": "2022-04-08T08:51:50.028048Z",
     "iopub.status.busy": "2022-04-08T08:51:50.027791Z",
     "iopub.status.idle": "2022-04-08T08:51:50.133156Z",
     "shell.execute_reply": "2022-04-08T08:51:50.132411Z",
     "shell.execute_reply.started": "2022-04-08T08:51:50.028014Z"
    },
    "tags": []
   },
   "outputs": [
    {
     "data": {
      "application/vnd.jupyter.widget-view+json": {
       "model_id": "6f280f3dc0934098b6f9b229cd71347a",
       "version_major": 2,
       "version_minor": 0
      },
      "text/plain": [
       "VBox()"
      ]
     },
     "metadata": {},
     "output_type": "display_data"
    },
    {
     "data": {
      "application/vnd.jupyter.widget-view+json": {
       "model_id": "",
       "version_major": 2,
       "version_minor": 0
      },
      "text/plain": [
       "FloatProgress(value=0.0, bar_style='info', description='Progress:', layout=Layout(height='25px', width='50%'),…"
      ]
     },
     "metadata": {},
     "output_type": "display_data"
    },
    {
     "name": "stdout",
     "output_type": "stream",
     "text": [
      "root\n",
      " |-- label: double (nullable = true)\n",
      " |-- text: string (nullable = true)\n",
      " |-- stemmed: array (nullable = true)\n",
      " |    |-- element: string (containsNull = true)\n",
      " |-- Bigrams: array (nullable = true)\n",
      " |    |-- element: string (containsNull = true)\n",
      " |-- Trigrams: array (nullable = true)\n",
      " |    |-- element: string (containsNull = true)\n",
      " |-- featuresUni: vector (nullable = true)\n",
      " |-- featuresBi: vector (nullable = true)\n",
      " |-- featuresTri: vector (nullable = true)"
     ]
    }
   ],
   "source": [
    "df.printSchema()"
   ]
  },
  {
   "cell_type": "markdown",
   "id": "1889b464-affd-467a-8791-f9968d72e7e5",
   "metadata": {
    "jp-MarkdownHeadingCollapsed": true,
    "tags": []
   },
   "source": [
    "#### Separating features"
   ]
  },
  {
   "cell_type": "code",
   "execution_count": 8,
   "id": "b2fb87a2-f6fa-42c0-94cc-ca59010e16a8",
   "metadata": {
    "execution": {
     "iopub.execute_input": "2022-04-08T08:56:38.792887Z",
     "iopub.status.busy": "2022-04-08T08:56:38.792655Z",
     "iopub.status.idle": "2022-04-08T08:56:39.614809Z",
     "shell.execute_reply": "2022-04-08T08:56:39.613953Z",
     "shell.execute_reply.started": "2022-04-08T08:56:38.792861Z"
    },
    "tags": []
   },
   "outputs": [
    {
     "data": {
      "application/vnd.jupyter.widget-view+json": {
       "model_id": "bd0ff2581a2344bb841e9547dd8451d2",
       "version_major": 2,
       "version_minor": 0
      },
      "text/plain": [
       "VBox()"
      ]
     },
     "metadata": {},
     "output_type": "display_data"
    },
    {
     "data": {
      "application/vnd.jupyter.widget-view+json": {
       "model_id": "",
       "version_major": 2,
       "version_minor": 0
      },
      "text/plain": [
       "FloatProgress(value=0.0, bar_style='info', description='Progress:', layout=Layout(height='25px', width='50%'),…"
      ]
     },
     "metadata": {},
     "output_type": "display_data"
    }
   ],
   "source": [
    "dfUni = df.select(\"label\",\"featuresUni\").withColumnRenamed(\"featuresUni\",\"features\").repartition(3200).cache()\n",
    "dfBi = df.select(\"label\",\"featuresBi\").withColumnRenamed(\"featuresBi\",\"features\").repartition(3200).cache()\n",
    "dfTri = df.select(\"label\",\"featuresTri\").withColumnRenamed(\"featuresTri\",\"features\").repartition(3200).cache()"
   ]
  },
  {
   "cell_type": "markdown",
   "id": "0e1a9e5f-33d3-43cb-bd8e-e0dfb052e0b2",
   "metadata": {
    "jp-MarkdownHeadingCollapsed": true,
    "tags": []
   },
   "source": [
    "### Model declaration"
   ]
  },
  {
   "cell_type": "code",
   "execution_count": 9,
   "id": "eb255ccc",
   "metadata": {
    "execution": {
     "iopub.execute_input": "2022-04-08T08:56:40.755241Z",
     "iopub.status.busy": "2022-04-08T08:56:40.755017Z",
     "iopub.status.idle": "2022-04-08T08:56:41.037538Z",
     "shell.execute_reply": "2022-04-08T08:56:41.036715Z",
     "shell.execute_reply.started": "2022-04-08T08:56:40.755218Z"
    },
    "tags": []
   },
   "outputs": [
    {
     "data": {
      "application/vnd.jupyter.widget-view+json": {
       "model_id": "9c4ab3df779c4c71bf5729990b42c371",
       "version_major": 2,
       "version_minor": 0
      },
      "text/plain": [
       "VBox()"
      ]
     },
     "metadata": {},
     "output_type": "display_data"
    },
    {
     "data": {
      "application/vnd.jupyter.widget-view+json": {
       "model_id": "",
       "version_major": 2,
       "version_minor": 0
      },
      "text/plain": [
       "FloatProgress(value=0.0, bar_style='info', description='Progress:', layout=Layout(height='25px', width='50%'),…"
      ]
     },
     "metadata": {},
     "output_type": "display_data"
    }
   ],
   "source": [
    "lr= classification.LogisticRegression(maxIter=75, regParam=0.01, elasticNetParam=0, tol=1E-6, standardization=False, family=\"binomial\")\n",
    "lrBi = classification.LogisticRegression(maxIter=75, regParam=0.01, elasticNetParam=0, tol=1E-6, standardization=False, family=\"binomial\")\n",
    "lrTri = classification.LogisticRegression(maxIter=75, regParam=0.01, elasticNetParam=0, tol=1E-6, standardization=False, family=\"binomial\")\n",
    "ovrUni = classification.OneVsRest(classifier=lr)\n",
    "ovrBi = classification.OneVsRest(classifier=lrBi)\n",
    "ovrTri = classification.OneVsRest(classifier=lrTri)"
   ]
  },
  {
   "cell_type": "markdown",
   "id": "ae1a1d69-0fc5-44b6-b950-0ceb63c970f7",
   "metadata": {
    "jp-MarkdownHeadingCollapsed": true,
    "tags": []
   },
   "source": [
    "#### Declare evaluator"
   ]
  },
  {
   "cell_type": "code",
   "execution_count": 10,
   "id": "ca973a74-b730-4791-90b4-e9231296afe2",
   "metadata": {
    "execution": {
     "iopub.execute_input": "2022-04-08T08:56:43.864528Z",
     "iopub.status.busy": "2022-04-08T08:56:43.864293Z",
     "iopub.status.idle": "2022-04-08T08:56:43.955832Z",
     "shell.execute_reply": "2022-04-08T08:56:43.955021Z",
     "shell.execute_reply.started": "2022-04-08T08:56:43.864503Z"
    }
   },
   "outputs": [
    {
     "data": {
      "application/vnd.jupyter.widget-view+json": {
       "model_id": "d2d73dec9a974c618f77b73d32c2a6ae",
       "version_major": 2,
       "version_minor": 0
      },
      "text/plain": [
       "VBox()"
      ]
     },
     "metadata": {},
     "output_type": "display_data"
    },
    {
     "data": {
      "application/vnd.jupyter.widget-view+json": {
       "model_id": "",
       "version_major": 2,
       "version_minor": 0
      },
      "text/plain": [
       "FloatProgress(value=0.0, bar_style='info', description='Progress:', layout=Layout(height='25px', width='50%'),…"
      ]
     },
     "metadata": {},
     "output_type": "display_data"
    }
   ],
   "source": [
    "evaluator = MulticlassClassificationEvaluator(predictionCol=\"prediction\")"
   ]
  },
  {
   "cell_type": "markdown",
   "id": "06fd96ca-9b09-428a-9826-0cdb57d0a323",
   "metadata": {
    "jp-MarkdownHeadingCollapsed": true,
    "tags": []
   },
   "source": [
    "### One Vs Rest Unigram"
   ]
  },
  {
   "cell_type": "code",
   "execution_count": 11,
   "id": "6a94cf28-8ebc-442d-8b14-bf7bbbd41910",
   "metadata": {
    "execution": {
     "iopub.execute_input": "2022-04-08T08:56:52.550420Z",
     "iopub.status.busy": "2022-04-08T08:56:52.550190Z",
     "iopub.status.idle": "2022-04-08T09:12:56.958832Z",
     "shell.execute_reply": "2022-04-08T09:12:56.958205Z",
     "shell.execute_reply.started": "2022-04-08T08:56:52.550395Z"
    },
    "tags": []
   },
   "outputs": [
    {
     "data": {
      "application/vnd.jupyter.widget-view+json": {
       "model_id": "e7b9a45db4a14f999578735ff776b787",
       "version_major": 2,
       "version_minor": 0
      },
      "text/plain": [
       "VBox()"
      ]
     },
     "metadata": {},
     "output_type": "display_data"
    },
    {
     "data": {
      "application/vnd.jupyter.widget-view+json": {
       "model_id": "",
       "version_major": 2,
       "version_minor": 0
      },
      "text/plain": [
       "FloatProgress(value=0.0, bar_style='info', description='Progress:', layout=Layout(height='25px', width='50%'),…"
      ]
     },
     "metadata": {},
     "output_type": "display_data"
    },
    {
     "name": "stderr",
     "output_type": "stream",
     "text": [
      "Exception in thread cell_monitor-11:\n",
      "Traceback (most recent call last):\n",
      "  File \"/mnt/notebook-env/lib/python3.7/threading.py\", line 926, in _bootstrap_inner\n",
      "    self.run()\n",
      "  File \"/mnt/notebook-env/lib/python3.7/threading.py\", line 870, in run\n",
      "    self._target(*self._args, **self._kwargs)\n",
      "  File \"/mnt/notebook-env/lib/python3.7/site-packages/awseditorssparkmonitoringwidget-1.0-py3.7.egg/awseditorssparkmonitoringwidget/cellmonitor.py\", line 178, in cell_monitor\n",
      "    job_binned_stages[job_id][stage_id] = all_stages[stage_id]\n",
      "KeyError: 1200\n",
      "\n"
     ]
    }
   ],
   "source": [
    "ovrModelUni = ovrUni.fit(dfUni)"
   ]
  },
  {
   "cell_type": "code",
   "execution_count": 12,
   "id": "ae16f3e5-231b-4f60-8d3e-c2ec54c5d816",
   "metadata": {
    "execution": {
     "iopub.execute_input": "2022-04-08T09:12:56.960028Z",
     "iopub.status.busy": "2022-04-08T09:12:56.959854Z",
     "iopub.status.idle": "2022-04-08T09:12:58.583979Z",
     "shell.execute_reply": "2022-04-08T09:12:58.583286Z",
     "shell.execute_reply.started": "2022-04-08T09:12:56.960006Z"
    }
   },
   "outputs": [
    {
     "data": {
      "application/vnd.jupyter.widget-view+json": {
       "model_id": "7a268951e8b04e1b9912c1514a6e2671",
       "version_major": 2,
       "version_minor": 0
      },
      "text/plain": [
       "VBox()"
      ]
     },
     "metadata": {},
     "output_type": "display_data"
    },
    {
     "data": {
      "application/vnd.jupyter.widget-view+json": {
       "model_id": "",
       "version_major": 2,
       "version_minor": 0
      },
      "text/plain": [
       "FloatProgress(value=0.0, bar_style='info', description='Progress:', layout=Layout(height='25px', width='50%'),…"
      ]
     },
     "metadata": {},
     "output_type": "display_data"
    }
   ],
   "source": [
    "resultUni = ovrModelUni.transform(dfUni)"
   ]
  },
  {
   "cell_type": "code",
   "execution_count": 13,
   "id": "1673a583-d3c9-4258-8779-4f1f743cdb6e",
   "metadata": {
    "execution": {
     "iopub.execute_input": "2022-04-08T09:12:58.585872Z",
     "iopub.status.busy": "2022-04-08T09:12:58.585594Z",
     "iopub.status.idle": "2022-04-08T09:12:58.662258Z",
     "shell.execute_reply": "2022-04-08T09:12:58.661634Z",
     "shell.execute_reply.started": "2022-04-08T09:12:58.585836Z"
    }
   },
   "outputs": [
    {
     "data": {
      "application/vnd.jupyter.widget-view+json": {
       "model_id": "bc7805a476d54a73a740cc9d3716fab1",
       "version_major": 2,
       "version_minor": 0
      },
      "text/plain": [
       "VBox()"
      ]
     },
     "metadata": {},
     "output_type": "display_data"
    },
    {
     "data": {
      "application/vnd.jupyter.widget-view+json": {
       "model_id": "",
       "version_major": 2,
       "version_minor": 0
      },
      "text/plain": [
       "FloatProgress(value=0.0, bar_style='info', description='Progress:', layout=Layout(height='25px', width='50%'),…"
      ]
     },
     "metadata": {},
     "output_type": "display_data"
    },
    {
     "name": "stdout",
     "output_type": "stream",
     "text": [
      "root\n",
      " |-- label: double (nullable = true)\n",
      " |-- features: vector (nullable = true)\n",
      " |-- prediction: double (nullable = true)"
     ]
    }
   ],
   "source": [
    "resultUni.printSchema()"
   ]
  },
  {
   "cell_type": "markdown",
   "id": "82f0e67b-a70d-485f-aa34-3b33a04c2442",
   "metadata": {},
   "source": [
    "#### Metric"
   ]
  },
  {
   "cell_type": "code",
   "execution_count": 14,
   "id": "e45eda35-c740-4549-8b79-2f601abc97f8",
   "metadata": {
    "execution": {
     "iopub.execute_input": "2022-04-08T09:12:58.663513Z",
     "iopub.status.busy": "2022-04-08T09:12:58.663320Z",
     "iopub.status.idle": "2022-04-08T09:14:33.033493Z",
     "shell.execute_reply": "2022-04-08T09:14:33.032759Z",
     "shell.execute_reply.started": "2022-04-08T09:12:58.663490Z"
    }
   },
   "outputs": [
    {
     "data": {
      "application/vnd.jupyter.widget-view+json": {
       "model_id": "e1f6430309ab425da2922282072954a4",
       "version_major": 2,
       "version_minor": 0
      },
      "text/plain": [
       "VBox()"
      ]
     },
     "metadata": {},
     "output_type": "display_data"
    },
    {
     "data": {
      "application/vnd.jupyter.widget-view+json": {
       "model_id": "",
       "version_major": 2,
       "version_minor": 0
      },
      "text/plain": [
       "FloatProgress(value=0.0, bar_style='info', description='Progress:', layout=Layout(height='25px', width='50%'),…"
      ]
     },
     "metadata": {},
     "output_type": "display_data"
    },
    {
     "name": "stdout",
     "output_type": "stream",
     "text": [
      "0.5767985152011542"
     ]
    }
   ],
   "source": [
    "evaluator.evaluate(resultUni,{evaluator.metricName: \"accuracy\"})"
   ]
  },
  {
   "cell_type": "code",
   "execution_count": 15,
   "id": "ba3677b4-08f2-44c7-8ffe-0d4749965e27",
   "metadata": {
    "execution": {
     "iopub.execute_input": "2022-04-08T09:14:33.035247Z",
     "iopub.status.busy": "2022-04-08T09:14:33.034736Z",
     "iopub.status.idle": "2022-04-08T09:14:50.578601Z",
     "shell.execute_reply": "2022-04-08T09:14:50.577805Z",
     "shell.execute_reply.started": "2022-04-08T09:14:33.035206Z"
    }
   },
   "outputs": [
    {
     "data": {
      "application/vnd.jupyter.widget-view+json": {
       "model_id": "3f2bfc124c9248a5a271cf7c370b6fb4",
       "version_major": 2,
       "version_minor": 0
      },
      "text/plain": [
       "VBox()"
      ]
     },
     "metadata": {},
     "output_type": "display_data"
    },
    {
     "data": {
      "application/vnd.jupyter.widget-view+json": {
       "model_id": "",
       "version_major": 2,
       "version_minor": 0
      },
      "text/plain": [
       "FloatProgress(value=0.0, bar_style='info', description='Progress:', layout=Layout(height='25px', width='50%'),…"
      ]
     },
     "metadata": {},
     "output_type": "display_data"
    }
   ],
   "source": [
    "ovrModelUni.save('s3://dataset-26-proj/yelp_academic_dataset_review_ovrUni/ovrUniV1')"
   ]
  },
  {
   "cell_type": "markdown",
   "id": "dd818810-3236-42e5-b56b-a66daa8af43c",
   "metadata": {
    "jp-MarkdownHeadingCollapsed": true,
    "tags": []
   },
   "source": [
    "### One Vs Rest Bigram"
   ]
  },
  {
   "cell_type": "code",
   "execution_count": 16,
   "id": "2b8fdbbe-31aa-4b3e-9333-84c8196ee193",
   "metadata": {
    "execution": {
     "iopub.execute_input": "2022-04-08T09:16:22.101203Z",
     "iopub.status.busy": "2022-04-08T09:16:22.100931Z",
     "iopub.status.idle": "2022-04-08T09:25:48.350800Z",
     "shell.execute_reply": "2022-04-08T09:25:48.349800Z",
     "shell.execute_reply.started": "2022-04-08T09:16:22.101178Z"
    },
    "tags": []
   },
   "outputs": [
    {
     "data": {
      "application/vnd.jupyter.widget-view+json": {
       "model_id": "8bba3b84092045ff9ad73438650d3ef9",
       "version_major": 2,
       "version_minor": 0
      },
      "text/plain": [
       "VBox()"
      ]
     },
     "metadata": {},
     "output_type": "display_data"
    },
    {
     "data": {
      "application/vnd.jupyter.widget-view+json": {
       "model_id": "",
       "version_major": 2,
       "version_minor": 0
      },
      "text/plain": [
       "FloatProgress(value=0.0, bar_style='info', description='Progress:', layout=Layout(height='25px', width='50%'),…"
      ]
     },
     "metadata": {},
     "output_type": "display_data"
    },
    {
     "name": "stderr",
     "output_type": "stream",
     "text": [
      "Exception in thread cell_monitor-16:\n",
      "Traceback (most recent call last):\n",
      "  File \"/mnt/notebook-env/lib/python3.7/threading.py\", line 926, in _bootstrap_inner\n",
      "    self.run()\n",
      "  File \"/mnt/notebook-env/lib/python3.7/threading.py\", line 870, in run\n",
      "    self._target(*self._args, **self._kwargs)\n",
      "  File \"/mnt/notebook-env/lib/python3.7/site-packages/awseditorssparkmonitoringwidget-1.0-py3.7.egg/awseditorssparkmonitoringwidget/cellmonitor.py\", line 178, in cell_monitor\n",
      "    job_binned_stages[job_id][stage_id] = all_stages[stage_id]\n",
      "KeyError: 1794\n",
      "\n"
     ]
    }
   ],
   "source": [
    "ovrModelBi = ovrBi.fit(dfBi)"
   ]
  },
  {
   "cell_type": "code",
   "execution_count": 20,
   "id": "98d446e1-cb3e-44c9-9b87-cbe99a109078",
   "metadata": {
    "execution": {
     "iopub.execute_input": "2022-04-08T09:27:14.074595Z",
     "iopub.status.busy": "2022-04-08T09:27:14.073086Z",
     "iopub.status.idle": "2022-04-08T09:27:14.954294Z",
     "shell.execute_reply": "2022-04-08T09:27:14.953491Z",
     "shell.execute_reply.started": "2022-04-08T09:27:14.074554Z"
    },
    "tags": []
   },
   "outputs": [
    {
     "data": {
      "application/vnd.jupyter.widget-view+json": {
       "model_id": "75f5c56f13a348d8bcafd2dfc4798867",
       "version_major": 2,
       "version_minor": 0
      },
      "text/plain": [
       "VBox()"
      ]
     },
     "metadata": {},
     "output_type": "display_data"
    },
    {
     "data": {
      "application/vnd.jupyter.widget-view+json": {
       "model_id": "",
       "version_major": 2,
       "version_minor": 0
      },
      "text/plain": [
       "FloatProgress(value=0.0, bar_style='info', description='Progress:', layout=Layout(height='25px', width='50%'),…"
      ]
     },
     "metadata": {},
     "output_type": "display_data"
    }
   ],
   "source": [
    "resultBi = ovrModelBi.transform(dfBi)"
   ]
  },
  {
   "cell_type": "code",
   "execution_count": 21,
   "id": "951c0dc6-2c44-4867-b338-ba9e244c9618",
   "metadata": {
    "execution": {
     "iopub.execute_input": "2022-04-08T09:27:14.956567Z",
     "iopub.status.busy": "2022-04-08T09:27:14.956075Z",
     "iopub.status.idle": "2022-04-08T09:27:15.081149Z",
     "shell.execute_reply": "2022-04-08T09:27:15.080415Z",
     "shell.execute_reply.started": "2022-04-08T09:27:14.956526Z"
    },
    "tags": []
   },
   "outputs": [
    {
     "data": {
      "application/vnd.jupyter.widget-view+json": {
       "model_id": "3dc8c313a722445f938273afd190d882",
       "version_major": 2,
       "version_minor": 0
      },
      "text/plain": [
       "VBox()"
      ]
     },
     "metadata": {},
     "output_type": "display_data"
    },
    {
     "data": {
      "application/vnd.jupyter.widget-view+json": {
       "model_id": "",
       "version_major": 2,
       "version_minor": 0
      },
      "text/plain": [
       "FloatProgress(value=0.0, bar_style='info', description='Progress:', layout=Layout(height='25px', width='50%'),…"
      ]
     },
     "metadata": {},
     "output_type": "display_data"
    },
    {
     "name": "stdout",
     "output_type": "stream",
     "text": [
      "root\n",
      " |-- label: double (nullable = true)\n",
      " |-- features: vector (nullable = true)\n",
      " |-- prediction: double (nullable = true)"
     ]
    }
   ],
   "source": [
    "resultBi.printSchema()"
   ]
  },
  {
   "cell_type": "markdown",
   "id": "804be3e2-619f-42ce-90e4-f5c64cf58196",
   "metadata": {},
   "source": [
    "#### Metric"
   ]
  },
  {
   "cell_type": "code",
   "execution_count": 22,
   "id": "5b339285-9c01-4901-85fa-6948643ebc31",
   "metadata": {
    "execution": {
     "iopub.execute_input": "2022-04-08T09:27:15.082426Z",
     "iopub.status.busy": "2022-04-08T09:27:15.082152Z",
     "iopub.status.idle": "2022-04-08T09:28:35.237357Z",
     "shell.execute_reply": "2022-04-08T09:28:35.236497Z",
     "shell.execute_reply.started": "2022-04-08T09:27:15.082368Z"
    },
    "tags": []
   },
   "outputs": [
    {
     "data": {
      "application/vnd.jupyter.widget-view+json": {
       "model_id": "c499769402774d39965d86319da5ed28",
       "version_major": 2,
       "version_minor": 0
      },
      "text/plain": [
       "VBox()"
      ]
     },
     "metadata": {},
     "output_type": "display_data"
    },
    {
     "data": {
      "application/vnd.jupyter.widget-view+json": {
       "model_id": "",
       "version_major": 2,
       "version_minor": 0
      },
      "text/plain": [
       "FloatProgress(value=0.0, bar_style='info', description='Progress:', layout=Layout(height='25px', width='50%'),…"
      ]
     },
     "metadata": {},
     "output_type": "display_data"
    },
    {
     "name": "stdout",
     "output_type": "stream",
     "text": [
      "0.5289084925083783"
     ]
    }
   ],
   "source": [
    "evaluator.evaluate(resultBi,{evaluator.metricName: \"accuracy\"})"
   ]
  },
  {
   "cell_type": "code",
   "execution_count": 23,
   "id": "39af2039-5574-4758-959a-4e76e62a924e",
   "metadata": {
    "execution": {
     "iopub.execute_input": "2022-04-08T09:28:35.239271Z",
     "iopub.status.busy": "2022-04-08T09:28:35.239019Z",
     "iopub.status.idle": "2022-04-08T09:28:44.707249Z",
     "shell.execute_reply": "2022-04-08T09:28:44.706459Z",
     "shell.execute_reply.started": "2022-04-08T09:28:35.239237Z"
    }
   },
   "outputs": [
    {
     "data": {
      "application/vnd.jupyter.widget-view+json": {
       "model_id": "3794baec90aa4a0dbe5eae7a09acc5f5",
       "version_major": 2,
       "version_minor": 0
      },
      "text/plain": [
       "VBox()"
      ]
     },
     "metadata": {},
     "output_type": "display_data"
    },
    {
     "data": {
      "application/vnd.jupyter.widget-view+json": {
       "model_id": "",
       "version_major": 2,
       "version_minor": 0
      },
      "text/plain": [
       "FloatProgress(value=0.0, bar_style='info', description='Progress:', layout=Layout(height='25px', width='50%'),…"
      ]
     },
     "metadata": {},
     "output_type": "display_data"
    }
   ],
   "source": [
    "ovrModelBi.save('s3://dataset-26-proj/yelp_academic_dataset_review_ovrBi/ovrBiV1')"
   ]
  },
  {
   "cell_type": "markdown",
   "id": "0aa65544-26a8-45a2-82fe-a00d66f18dd0",
   "metadata": {
    "jp-MarkdownHeadingCollapsed": true,
    "tags": []
   },
   "source": [
    "### One Vs Rest Trigram"
   ]
  },
  {
   "cell_type": "code",
   "execution_count": 24,
   "id": "0afb931e-29ba-411e-8053-6cb898ac001d",
   "metadata": {
    "execution": {
     "iopub.execute_input": "2022-04-08T09:31:06.174377Z",
     "iopub.status.busy": "2022-04-08T09:31:06.174076Z",
     "iopub.status.idle": "2022-04-08T09:39:26.596372Z",
     "shell.execute_reply": "2022-04-08T09:39:26.595632Z",
     "shell.execute_reply.started": "2022-04-08T09:31:06.174350Z"
    },
    "tags": []
   },
   "outputs": [
    {
     "data": {
      "application/vnd.jupyter.widget-view+json": {
       "model_id": "afd3eeaeb4684ac7b83c33e39781e388",
       "version_major": 2,
       "version_minor": 0
      },
      "text/plain": [
       "VBox()"
      ]
     },
     "metadata": {},
     "output_type": "display_data"
    },
    {
     "data": {
      "application/vnd.jupyter.widget-view+json": {
       "model_id": "",
       "version_major": 2,
       "version_minor": 0
      },
      "text/plain": [
       "FloatProgress(value=0.0, bar_style='info', description='Progress:', layout=Layout(height='25px', width='50%'),…"
      ]
     },
     "metadata": {},
     "output_type": "display_data"
    },
    {
     "name": "stderr",
     "output_type": "stream",
     "text": [
      "Exception in thread cell_monitor-24:\n",
      "Traceback (most recent call last):\n",
      "  File \"/mnt/notebook-env/lib/python3.7/threading.py\", line 926, in _bootstrap_inner\n",
      "    self.run()\n",
      "  File \"/mnt/notebook-env/lib/python3.7/threading.py\", line 870, in run\n",
      "    self._target(*self._args, **self._kwargs)\n",
      "  File \"/mnt/notebook-env/lib/python3.7/site-packages/awseditorssparkmonitoringwidget-1.0-py3.7.egg/awseditorssparkmonitoringwidget/cellmonitor.py\", line 178, in cell_monitor\n",
      "    job_binned_stages[job_id][stage_id] = all_stages[stage_id]\n",
      "KeyError: 2695\n",
      "\n"
     ]
    }
   ],
   "source": [
    "ovrModelTri = ovrTri.fit(dfTri)"
   ]
  },
  {
   "cell_type": "code",
   "execution_count": 25,
   "id": "da79a37e-cd1f-4847-8fb4-eb0a8d56a489",
   "metadata": {
    "execution": {
     "iopub.execute_input": "2022-04-08T09:39:26.597659Z",
     "iopub.status.busy": "2022-04-08T09:39:26.597449Z",
     "iopub.status.idle": "2022-04-08T09:39:27.387591Z",
     "shell.execute_reply": "2022-04-08T09:39:27.386864Z",
     "shell.execute_reply.started": "2022-04-08T09:39:26.597634Z"
    }
   },
   "outputs": [
    {
     "data": {
      "application/vnd.jupyter.widget-view+json": {
       "model_id": "989f32e823414a0fbdae4500fca8f55a",
       "version_major": 2,
       "version_minor": 0
      },
      "text/plain": [
       "VBox()"
      ]
     },
     "metadata": {},
     "output_type": "display_data"
    },
    {
     "data": {
      "application/vnd.jupyter.widget-view+json": {
       "model_id": "",
       "version_major": 2,
       "version_minor": 0
      },
      "text/plain": [
       "FloatProgress(value=0.0, bar_style='info', description='Progress:', layout=Layout(height='25px', width='50%'),…"
      ]
     },
     "metadata": {},
     "output_type": "display_data"
    }
   ],
   "source": [
    "resultTri = ovrModelTri.transform(dfTri)"
   ]
  },
  {
   "cell_type": "code",
   "execution_count": 26,
   "id": "311c6686-831f-403a-813e-d90129d848c6",
   "metadata": {
    "execution": {
     "iopub.execute_input": "2022-04-08T09:39:27.388996Z",
     "iopub.status.busy": "2022-04-08T09:39:27.388786Z",
     "iopub.status.idle": "2022-04-08T09:39:27.453535Z",
     "shell.execute_reply": "2022-04-08T09:39:27.451612Z",
     "shell.execute_reply.started": "2022-04-08T09:39:27.388970Z"
    }
   },
   "outputs": [
    {
     "data": {
      "application/vnd.jupyter.widget-view+json": {
       "model_id": "5a756c6bcd35443aab05f3736e744815",
       "version_major": 2,
       "version_minor": 0
      },
      "text/plain": [
       "VBox()"
      ]
     },
     "metadata": {},
     "output_type": "display_data"
    },
    {
     "data": {
      "application/vnd.jupyter.widget-view+json": {
       "model_id": "",
       "version_major": 2,
       "version_minor": 0
      },
      "text/plain": [
       "FloatProgress(value=0.0, bar_style='info', description='Progress:', layout=Layout(height='25px', width='50%'),…"
      ]
     },
     "metadata": {},
     "output_type": "display_data"
    },
    {
     "name": "stdout",
     "output_type": "stream",
     "text": [
      "root\n",
      " |-- label: double (nullable = true)\n",
      " |-- features: vector (nullable = true)\n",
      " |-- prediction: double (nullable = true)"
     ]
    }
   ],
   "source": [
    "resultTri.printSchema()"
   ]
  },
  {
   "cell_type": "markdown",
   "id": "45cc87f3-81e2-4215-ba1f-6421cab954f1",
   "metadata": {},
   "source": [
    "#### Metric"
   ]
  },
  {
   "cell_type": "code",
   "execution_count": 27,
   "id": "bda40341-b74e-4c08-baa0-0bb3cf5a9fb7",
   "metadata": {
    "execution": {
     "iopub.execute_input": "2022-04-08T09:42:15.420901Z",
     "iopub.status.busy": "2022-04-08T09:42:15.420569Z",
     "iopub.status.idle": "2022-04-08T09:43:41.975681Z",
     "shell.execute_reply": "2022-04-08T09:43:41.974761Z",
     "shell.execute_reply.started": "2022-04-08T09:42:15.420861Z"
    }
   },
   "outputs": [
    {
     "data": {
      "application/vnd.jupyter.widget-view+json": {
       "model_id": "08c1dac31dd64155ac2947577c7555a5",
       "version_major": 2,
       "version_minor": 0
      },
      "text/plain": [
       "VBox()"
      ]
     },
     "metadata": {},
     "output_type": "display_data"
    },
    {
     "data": {
      "application/vnd.jupyter.widget-view+json": {
       "model_id": "",
       "version_major": 2,
       "version_minor": 0
      },
      "text/plain": [
       "FloatProgress(value=0.0, bar_style='info', description='Progress:', layout=Layout(height='25px', width='50%'),…"
      ]
     },
     "metadata": {},
     "output_type": "display_data"
    },
    {
     "name": "stdout",
     "output_type": "stream",
     "text": [
      "0.3578598157526938"
     ]
    }
   ],
   "source": [
    "evaluator.evaluate(resultTri,{evaluator.metricName: \"accuracy\"})"
   ]
  },
  {
   "cell_type": "code",
   "execution_count": 28,
   "id": "8903e148-070d-47f9-8cd6-e33590d94dc3",
   "metadata": {
    "execution": {
     "iopub.execute_input": "2022-04-08T09:43:41.977613Z",
     "iopub.status.busy": "2022-04-08T09:43:41.977148Z",
     "iopub.status.idle": "2022-04-08T09:43:49.402109Z",
     "shell.execute_reply": "2022-04-08T09:43:49.401236Z",
     "shell.execute_reply.started": "2022-04-08T09:43:41.977574Z"
    }
   },
   "outputs": [
    {
     "data": {
      "application/vnd.jupyter.widget-view+json": {
       "model_id": "dbc610f9d3014ab682dd556c506554da",
       "version_major": 2,
       "version_minor": 0
      },
      "text/plain": [
       "VBox()"
      ]
     },
     "metadata": {},
     "output_type": "display_data"
    },
    {
     "data": {
      "application/vnd.jupyter.widget-view+json": {
       "model_id": "",
       "version_major": 2,
       "version_minor": 0
      },
      "text/plain": [
       "FloatProgress(value=0.0, bar_style='info', description='Progress:', layout=Layout(height='25px', width='50%'),…"
      ]
     },
     "metadata": {},
     "output_type": "display_data"
    }
   ],
   "source": [
    "ovrModelTri.save('s3://dataset-26-proj/yelp_academic_dataset_review_ovrTri/ovrTriV1')"
   ]
  },
  {
   "cell_type": "markdown",
   "id": "f606c104-14ff-4ee3-a529-89a0d84b2e6c",
   "metadata": {
    "tags": []
   },
   "source": [
    "## Test"
   ]
  },
  {
   "cell_type": "code",
   "execution_count": null,
   "id": "e1876aea-9c3c-4ab3-99b0-a590ebb4f080",
   "metadata": {
    "collapsed": true,
    "execution": {
     "iopub.execute_input": "2022-04-06T17:37:52.868154Z",
     "iopub.status.busy": "2022-04-06T17:37:52.867926Z"
    },
    "jupyter": {
     "outputs_hidden": true,
     "source_hidden": true
    },
    "tags": []
   },
   "outputs": [
    {
     "data": {
      "application/vnd.jupyter.widget-view+json": {
       "model_id": "c921d2ff62ac4438b4149c98d3374c4a",
       "version_major": 2,
       "version_minor": 0
      },
      "text/plain": [
       "VBox()"
      ]
     },
     "metadata": {},
     "output_type": "display_data"
    },
    {
     "data": {
      "application/vnd.jupyter.widget-view+json": {
       "model_id": "3738a80abdf64c4eb06506bd1368f4fc",
       "version_major": 2,
       "version_minor": 0
      },
      "text/plain": [
       "FloatProgress(value=0.0, bar_style='info', description='Progress:', layout=Layout(height='25px', width='50%'),…"
      ]
     },
     "metadata": {},
     "output_type": "display_data"
    },
    {
     "name": "stderr",
     "output_type": "stream",
     "text": [
      "Exception in thread cell_monitor-12:\n",
      "Traceback (most recent call last):\n",
      "  File \"/mnt/notebook-env/lib/python3.7/threading.py\", line 926, in _bootstrap_inner\n",
      "    self.run()\n",
      "  File \"/mnt/notebook-env/lib/python3.7/threading.py\", line 870, in run\n",
      "    self._target(*self._args, **self._kwargs)\n",
      "  File \"/mnt/notebook-env/lib/python3.7/site-packages/awseditorssparkmonitoringwidget-1.0-py3.7.egg/awseditorssparkmonitoringwidget/cellmonitor.py\", line 178, in cell_monitor\n",
      "    job_binned_stages[job_id][stage_id] = all_stages[stage_id]\n",
      "KeyError: 1397\n",
      "\n"
     ]
    }
   ],
   "source": [
    "\n",
    "# paramGrid = tuning.ParamGridBuilder().addGrid(lr.maxIter, [30,50,75]) \\\n",
    "#                               .addGrid(lr.regParam, [0.03, 0.04, 0.05]) \\\n",
    "#                               .addGrid(lr.elasticNetParam, [0.1,0.2,0.3]) \\\n",
    "#                               .build()\n",
    "# evaluator = MulticlassClassificationEvaluator()\n",
    "# valid = tuning.TrainValidationSplit(estimator=lr,\n",
    "#                              estimatorParamMaps=paramGrid,\n",
    "#                              evaluator=evaluator,\n",
    "#                              trainRatio=0.80)\n",
    "# model = valid.fit(df)"
   ]
  },
  {
   "cell_type": "code",
   "execution_count": 14,
   "id": "302650b7-4ffc-4457-a32d-c7b502b13bcb",
   "metadata": {
    "collapsed": true,
    "execution": {
     "iopub.execute_input": "2022-04-06T15:04:03.110681Z",
     "iopub.status.busy": "2022-04-06T15:04:03.110451Z",
     "iopub.status.idle": "2022-04-06T15:04:03.373402Z",
     "shell.execute_reply": "2022-04-06T15:04:03.372567Z",
     "shell.execute_reply.started": "2022-04-06T15:04:03.110657Z"
    },
    "jupyter": {
     "outputs_hidden": true,
     "source_hidden": true
    },
    "tags": []
   },
   "outputs": [
    {
     "data": {
      "application/vnd.jupyter.widget-view+json": {
       "model_id": "51a4b21d2f124f3bba8f7f6954ae086d",
       "version_major": 2,
       "version_minor": 0
      },
      "text/plain": [
       "VBox()"
      ]
     },
     "metadata": {},
     "output_type": "display_data"
    },
    {
     "data": {
      "application/vnd.jupyter.widget-view+json": {
       "model_id": "",
       "version_major": 2,
       "version_minor": 0
      },
      "text/plain": [
       "FloatProgress(value=0.0, bar_style='info', description='Progress:', layout=Layout(height='25px', width='50%'),…"
      ]
     },
     "metadata": {},
     "output_type": "display_data"
    }
   ],
   "source": [
    "best_model = model.transform(df)"
   ]
  },
  {
   "cell_type": "code",
   "execution_count": null,
   "id": "6df18521",
   "metadata": {
    "jupyter": {
     "source_hidden": true
    },
    "tags": []
   },
   "outputs": [],
   "source": [
    "#rf_model = rf.fit(df)\n",
    "\n",
    "#lrModel = ovr.fit(df)"
   ]
  },
  {
   "cell_type": "code",
   "execution_count": 13,
   "id": "c2c12d66-9132-4c1c-8672-330a517b4179",
   "metadata": {
    "collapsed": true,
    "execution": {
     "iopub.execute_input": "2022-04-08T06:17:14.481348Z",
     "iopub.status.busy": "2022-04-08T06:17:14.481004Z",
     "iopub.status.idle": "2022-04-08T06:17:14.574208Z",
     "shell.execute_reply": "2022-04-08T06:17:14.573532Z",
     "shell.execute_reply.started": "2022-04-08T06:17:14.481302Z"
    },
    "jupyter": {
     "outputs_hidden": true,
     "source_hidden": true
    },
    "tags": []
   },
   "outputs": [
    {
     "data": {
      "application/vnd.jupyter.widget-view+json": {
       "model_id": "c15a4f247411419d8a7c7bad1b481ab6",
       "version_major": 2,
       "version_minor": 0
      },
      "text/plain": [
       "VBox()"
      ]
     },
     "metadata": {},
     "output_type": "display_data"
    },
    {
     "data": {
      "application/vnd.jupyter.widget-view+json": {
       "model_id": "",
       "version_major": 2,
       "version_minor": 0
      },
      "text/plain": [
       "FloatProgress(value=0.0, bar_style='info', description='Progress:', layout=Layout(height='25px', width='50%'),…"
      ]
     },
     "metadata": {},
     "output_type": "display_data"
    },
    {
     "name": "stdout",
     "output_type": "stream",
     "text": [
      "root\n",
      " |-- label: double (nullable = true)\n",
      " |-- features: vector (nullable = true)\n",
      " |-- prediction: double (nullable = true)"
     ]
    }
   ],
   "source": [
    "#best_model.printSchema()\n"
   ]
  },
  {
   "cell_type": "markdown",
   "id": "961b34b5-e666-4113-95b4-82dc464acf69",
   "metadata": {
    "tags": []
   },
   "source": [
    "### Shutdown"
   ]
  },
  {
   "cell_type": "code",
   "execution_count": 7,
   "id": "3aaa2c6a-00a9-419b-82f2-d11f48204bd8",
   "metadata": {
    "execution": {
     "iopub.execute_input": "2022-04-03T10:06:07.805451Z",
     "iopub.status.busy": "2022-04-03T10:06:07.805208Z",
     "iopub.status.idle": "2022-04-03T10:06:08.076526Z",
     "shell.execute_reply": "2022-04-03T10:06:08.075771Z",
     "shell.execute_reply.started": "2022-04-03T10:06:07.805424Z"
    }
   },
   "outputs": [
    {
     "data": {
      "application/vnd.jupyter.widget-view+json": {
       "model_id": "6a9a3d8e6b564ecbaef20a36fb03455f",
       "version_major": 2,
       "version_minor": 0
      },
      "text/plain": [
       "VBox()"
      ]
     },
     "metadata": {},
     "output_type": "display_data"
    },
    {
     "data": {
      "application/vnd.jupyter.widget-view+json": {
       "model_id": "",
       "version_major": 2,
       "version_minor": 0
      },
      "text/plain": [
       "FloatProgress(value=0.0, bar_style='info', description='Progress:', layout=Layout(height='25px', width='50%'),…"
      ]
     },
     "metadata": {},
     "output_type": "display_data"
    }
   ],
   "source": [
    "sc.stop()"
   ]
  }
 ],
 "metadata": {
  "kernelspec": {
   "display_name": "PySpark",
   "language": "python",
   "name": "pysparkkernel"
  },
  "language_info": {
   "codemirror_mode": {
    "name": "python",
    "version": 3
   },
   "file_extension": ".py",
   "mimetype": "text/x-python",
   "name": "pyspark",
   "pygments_lexer": "python3"
  }
 },
 "nbformat": 4,
 "nbformat_minor": 5
}
