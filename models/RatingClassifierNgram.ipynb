{
 "cells": [
  {
   "cell_type": "code",
   "execution_count": 1,
   "id": "9fc78abd",
   "metadata": {
    "execution": {
     "iopub.execute_input": "2022-04-08T07:11:06.025462Z",
     "iopub.status.busy": "2022-04-08T07:11:06.025098Z",
     "iopub.status.idle": "2022-04-08T07:11:46.964933Z",
     "shell.execute_reply": "2022-04-08T07:11:46.964202Z",
     "shell.execute_reply.started": "2022-04-08T07:11:06.025421Z"
    },
    "tags": []
   },
   "outputs": [
    {
     "data": {
      "application/vnd.jupyter.widget-view+json": {
       "model_id": "f83425660fe04b62a73e7c75a738fd6f",
       "version_major": 2,
       "version_minor": 0
      },
      "text/plain": [
       "VBox()"
      ]
     },
     "metadata": {},
     "output_type": "display_data"
    },
    {
     "name": "stdout",
     "output_type": "stream",
     "text": [
      "Starting Spark application\n"
     ]
    },
    {
     "data": {
      "text/html": [
       "<table>\n",
       "<tr><th>ID</th><th>YARN Application ID</th><th>Kind</th><th>State</th><th>Spark UI</th><th>Driver log</th><th>User</th><th>Current session?</th></tr><tr><td>4</td><td>application_1649396207307_0007</td><td>pyspark</td><td>idle</td><td><a target=\"_blank\" href=\"http://ip-172-31-45-38.ec2.internal:20888/proxy/application_1649396207307_0007/\" class=\"emr-proxy-link\" emr-resource=\"j-1EUF0M7F0TVS3\n",
       "\" application-id=\"application_1649396207307_0007\">Link</a></td><td><a target=\"_blank\" href=\"http://ip-172-31-47-83.ec2.internal:8042/node/containerlogs/container_1649396207307_0007_01_000001/livy\" >Link</a></td><td>None</td><td>✔</td></tr></table>"
      ],
      "text/plain": [
       "<IPython.core.display.HTML object>"
      ]
     },
     "metadata": {},
     "output_type": "display_data"
    },
    {
     "data": {
      "application/vnd.jupyter.widget-view+json": {
       "model_id": "",
       "version_major": 2,
       "version_minor": 0
      },
      "text/plain": [
       "FloatProgress(value=0.0, bar_style='info', description='Progress:', layout=Layout(height='25px', width='50%'),…"
      ]
     },
     "metadata": {},
     "output_type": "display_data"
    },
    {
     "name": "stdout",
     "output_type": "stream",
     "text": [
      "SparkSession available as 'spark'.\n"
     ]
    },
    {
     "data": {
      "application/vnd.jupyter.widget-view+json": {
       "model_id": "",
       "version_major": 2,
       "version_minor": 0
      },
      "text/plain": [
       "FloatProgress(value=0.0, bar_style='info', description='Progress:', layout=Layout(height='25px', width='50%'),…"
      ]
     },
     "metadata": {},
     "output_type": "display_data"
    }
   ],
   "source": [
    "conf = spark.sparkContext._conf.setAll([('spark.executor.memory', '8g'), ('spark.driver.memory','15g'),(\"spark.driver.maxResultSize\",\"0\"),(\"spark.executor.cores\", '2'),(\"spark.executor.instances\", \"12\"),(\"spark.dynamicAllocation.enabled\",\"False\")])"
   ]
  },
  {
   "cell_type": "code",
   "execution_count": 9,
   "id": "dbb9316e-e112-42af-a223-3f6a7d8022c9",
   "metadata": {
    "execution": {
     "iopub.execute_input": "2022-04-08T07:12:47.550411Z",
     "iopub.status.busy": "2022-04-08T07:12:47.550089Z",
     "iopub.status.idle": "2022-04-08T07:12:47.688451Z",
     "shell.execute_reply": "2022-04-08T07:12:47.687771Z",
     "shell.execute_reply.started": "2022-04-08T07:12:47.550378Z"
    },
    "tags": []
   },
   "outputs": [
    {
     "data": {
      "application/vnd.jupyter.widget-view+json": {
       "model_id": "450841f680924ad180d3ebbffbd6b6a9",
       "version_major": 2,
       "version_minor": 0
      },
      "text/plain": [
       "VBox()"
      ]
     },
     "metadata": {},
     "output_type": "display_data"
    },
    {
     "data": {
      "application/vnd.jupyter.widget-view+json": {
       "model_id": "",
       "version_major": 2,
       "version_minor": 0
      },
      "text/plain": [
       "FloatProgress(value=0.0, bar_style='info', description='Progress:', layout=Layout(height='25px', width='50%'),…"
      ]
     },
     "metadata": {},
     "output_type": "display_data"
    }
   ],
   "source": [
    "import pyspark"
   ]
  },
  {
   "cell_type": "code",
   "execution_count": 10,
   "id": "978f9b66",
   "metadata": {
    "execution": {
     "iopub.execute_input": "2022-04-08T07:12:57.828692Z",
     "iopub.status.busy": "2022-04-08T07:12:57.828341Z",
     "iopub.status.idle": "2022-04-08T07:12:57.912864Z",
     "shell.execute_reply": "2022-04-08T07:12:57.912078Z",
     "shell.execute_reply.started": "2022-04-08T07:12:57.828652Z"
    },
    "tags": []
   },
   "outputs": [
    {
     "data": {
      "application/vnd.jupyter.widget-view+json": {
       "model_id": "d0f5be7f7ea1481cb4c7bff25dc84697",
       "version_major": 2,
       "version_minor": 0
      },
      "text/plain": [
       "VBox()"
      ]
     },
     "metadata": {},
     "output_type": "display_data"
    },
    {
     "data": {
      "application/vnd.jupyter.widget-view+json": {
       "model_id": "",
       "version_major": 2,
       "version_minor": 0
      },
      "text/plain": [
       "FloatProgress(value=0.0, bar_style='info', description='Progress:', layout=Layout(height='25px', width='50%'),…"
      ]
     },
     "metadata": {},
     "output_type": "display_data"
    }
   ],
   "source": [
    "from pyspark.storagelevel import StorageLevel\n",
    "\n",
    "from pyspark.ml import Pipeline\n",
    "from pyspark.ml.classification import GBTClassifier\n",
    "from pyspark.ml import Transformer, classification\n",
    "from pyspark.ml import tuning\n",
    "from pyspark.ml.evaluation import MulticlassClassificationEvaluator"
   ]
  },
  {
   "cell_type": "code",
   "execution_count": 11,
   "id": "57e159a0",
   "metadata": {
    "execution": {
     "iopub.execute_input": "2022-04-08T07:12:58.740015Z",
     "iopub.status.busy": "2022-04-08T07:12:58.739730Z",
     "iopub.status.idle": "2022-04-08T07:13:06.113589Z",
     "shell.execute_reply": "2022-04-08T07:13:06.112828Z",
     "shell.execute_reply.started": "2022-04-08T07:12:58.739984Z"
    },
    "tags": []
   },
   "outputs": [
    {
     "data": {
      "application/vnd.jupyter.widget-view+json": {
       "model_id": "74477e0afbb34322bf9bccfc683182f1",
       "version_major": 2,
       "version_minor": 0
      },
      "text/plain": [
       "VBox()"
      ]
     },
     "metadata": {},
     "output_type": "display_data"
    },
    {
     "data": {
      "application/vnd.jupyter.widget-view+json": {
       "model_id": "",
       "version_major": 2,
       "version_minor": 0
      },
      "text/plain": [
       "FloatProgress(value=0.0, bar_style='info', description='Progress:', layout=Layout(height='25px', width='50%'),…"
      ]
     },
     "metadata": {},
     "output_type": "display_data"
    }
   ],
   "source": [
    "df = sqlContext.read.parquet(\"hdfs:///NLP-parquet-processed/\").repartition(4800)"
   ]
  },
  {
   "cell_type": "code",
   "execution_count": 12,
   "id": "451702f9-eeae-49dd-8e8b-ab3b668b6c49",
   "metadata": {
    "execution": {
     "iopub.execute_input": "2022-04-08T07:13:06.115474Z",
     "iopub.status.busy": "2022-04-08T07:13:06.114979Z",
     "iopub.status.idle": "2022-04-08T07:13:06.216081Z",
     "shell.execute_reply": "2022-04-08T07:13:06.215481Z",
     "shell.execute_reply.started": "2022-04-08T07:13:06.115437Z"
    },
    "tags": []
   },
   "outputs": [
    {
     "data": {
      "application/vnd.jupyter.widget-view+json": {
       "model_id": "f89da3a518364240b948f442d0b532a0",
       "version_major": 2,
       "version_minor": 0
      },
      "text/plain": [
       "VBox()"
      ]
     },
     "metadata": {},
     "output_type": "display_data"
    },
    {
     "data": {
      "application/vnd.jupyter.widget-view+json": {
       "model_id": "",
       "version_major": 2,
       "version_minor": 0
      },
      "text/plain": [
       "FloatProgress(value=0.0, bar_style='info', description='Progress:', layout=Layout(height='25px', width='50%'),…"
      ]
     },
     "metadata": {},
     "output_type": "display_data"
    }
   ],
   "source": [
    "df = df.withColumnRenamed(\"stars\",\"label\")"
   ]
  },
  {
   "cell_type": "code",
   "execution_count": 13,
   "id": "c06b8fa0-149d-49fd-9cd1-235775cd8b20",
   "metadata": {
    "execution": {
     "iopub.execute_input": "2022-04-08T07:13:08.306336Z",
     "iopub.status.busy": "2022-04-08T07:13:08.305708Z",
     "iopub.status.idle": "2022-04-08T07:13:08.463458Z",
     "shell.execute_reply": "2022-04-08T07:13:08.462799Z",
     "shell.execute_reply.started": "2022-04-08T07:13:08.306289Z"
    },
    "tags": []
   },
   "outputs": [
    {
     "data": {
      "application/vnd.jupyter.widget-view+json": {
       "model_id": "49a52c1381b846b7aa3e75059c7c7ee3",
       "version_major": 2,
       "version_minor": 0
      },
      "text/plain": [
       "VBox()"
      ]
     },
     "metadata": {},
     "output_type": "display_data"
    },
    {
     "data": {
      "application/vnd.jupyter.widget-view+json": {
       "model_id": "",
       "version_major": 2,
       "version_minor": 0
      },
      "text/plain": [
       "FloatProgress(value=0.0, bar_style='info', description='Progress:', layout=Layout(height='25px', width='50%'),…"
      ]
     },
     "metadata": {},
     "output_type": "display_data"
    }
   ],
   "source": [
    "#df = df.localCheckpoint()"
   ]
  },
  {
   "cell_type": "code",
   "execution_count": 14,
   "id": "a8bf6e79-76d6-4692-b8c0-0e160e7726f9",
   "metadata": {
    "execution": {
     "iopub.execute_input": "2022-04-08T07:13:08.774984Z",
     "iopub.status.busy": "2022-04-08T07:13:08.774529Z",
     "iopub.status.idle": "2022-04-08T07:13:08.859657Z",
     "shell.execute_reply": "2022-04-08T07:13:08.859009Z",
     "shell.execute_reply.started": "2022-04-08T07:13:08.774951Z"
    },
    "tags": []
   },
   "outputs": [
    {
     "data": {
      "application/vnd.jupyter.widget-view+json": {
       "model_id": "9b6fbb52679d4f238817aa790d81e57f",
       "version_major": 2,
       "version_minor": 0
      },
      "text/plain": [
       "VBox()"
      ]
     },
     "metadata": {},
     "output_type": "display_data"
    },
    {
     "data": {
      "application/vnd.jupyter.widget-view+json": {
       "model_id": "",
       "version_major": 2,
       "version_minor": 0
      },
      "text/plain": [
       "FloatProgress(value=0.0, bar_style='info', description='Progress:', layout=Layout(height='25px', width='50%'),…"
      ]
     },
     "metadata": {},
     "output_type": "display_data"
    },
    {
     "name": "stdout",
     "output_type": "stream",
     "text": [
      "root\n",
      " |-- label: double (nullable = true)\n",
      " |-- text: string (nullable = true)\n",
      " |-- stemmed: array (nullable = true)\n",
      " |    |-- element: string (containsNull = true)\n",
      " |-- Bigrams: array (nullable = true)\n",
      " |    |-- element: string (containsNull = true)\n",
      " |-- Trigrams: array (nullable = true)\n",
      " |    |-- element: string (containsNull = true)\n",
      " |-- featuresUni: vector (nullable = true)\n",
      " |-- featuresBi: vector (nullable = true)\n",
      " |-- featuresTri: vector (nullable = true)"
     ]
    }
   ],
   "source": [
    "df.printSchema()"
   ]
  },
  {
   "cell_type": "code",
   "execution_count": 15,
   "id": "b2fb87a2-f6fa-42c0-94cc-ca59010e16a8",
   "metadata": {
    "execution": {
     "iopub.execute_input": "2022-04-08T07:13:09.750458Z",
     "iopub.status.busy": "2022-04-08T07:13:09.750102Z",
     "iopub.status.idle": "2022-04-08T07:13:10.049840Z",
     "shell.execute_reply": "2022-04-08T07:13:10.049221Z",
     "shell.execute_reply.started": "2022-04-08T07:13:09.750418Z"
    },
    "tags": []
   },
   "outputs": [
    {
     "data": {
      "application/vnd.jupyter.widget-view+json": {
       "model_id": "dccea40960e0431f9518bc1962c8dc96",
       "version_major": 2,
       "version_minor": 0
      },
      "text/plain": [
       "VBox()"
      ]
     },
     "metadata": {},
     "output_type": "display_data"
    },
    {
     "data": {
      "application/vnd.jupyter.widget-view+json": {
       "model_id": "",
       "version_major": 2,
       "version_minor": 0
      },
      "text/plain": [
       "FloatProgress(value=0.0, bar_style='info', description='Progress:', layout=Layout(height='25px', width='50%'),…"
      ]
     },
     "metadata": {},
     "output_type": "display_data"
    }
   ],
   "source": [
    "dfUni = df.select(\"label\",\"featuresUni\").withColumnRenamed(\"featuresUni\",\"features\").repartition(3200).cache()\n",
    "dfBi = df.select(\"label\",\"featuresBi\").withColumnRenamed(\"featuresBi\",\"features\").repartition(3200).cache()\n",
    "dfTri = df.select(\"label\",\"featuresTri\").withColumnRenamed(\"featuresTri\",\"features\").repartition(3200).cache()"
   ]
  },
  {
   "cell_type": "code",
   "execution_count": 22,
   "id": "eb255ccc",
   "metadata": {
    "execution": {
     "iopub.execute_input": "2022-04-08T07:30:20.940227Z",
     "iopub.status.busy": "2022-04-08T07:30:20.939907Z",
     "iopub.status.idle": "2022-04-08T07:30:21.044119Z",
     "shell.execute_reply": "2022-04-08T07:30:21.043481Z",
     "shell.execute_reply.started": "2022-04-08T07:30:20.940192Z"
    },
    "tags": []
   },
   "outputs": [
    {
     "data": {
      "application/vnd.jupyter.widget-view+json": {
       "model_id": "daf87c0c08264d7fbfe64895621eeb97",
       "version_major": 2,
       "version_minor": 0
      },
      "text/plain": [
       "VBox()"
      ]
     },
     "metadata": {},
     "output_type": "display_data"
    },
    {
     "data": {
      "application/vnd.jupyter.widget-view+json": {
       "model_id": "",
       "version_major": 2,
       "version_minor": 0
      },
      "text/plain": [
       "FloatProgress(value=0.0, bar_style='info', description='Progress:', layout=Layout(height='25px', width='50%'),…"
      ]
     },
     "metadata": {},
     "output_type": "display_data"
    }
   ],
   "source": [
    "lr= classification.LogisticRegression(maxIter=75, regParam=0.01, elasticNetParam=0, tol=1E-6, standardization=False, family=\"binomial\")\n",
    "lrBi = classification.LogisticRegression(maxIter=75, regParam=0.01, elasticNetParam=0, tol=1E-6, standardization=False, family=\"binomial\")\n",
    "lrTri = classification.LogisticRegression(maxIter=75, regParam=0.01, elasticNetParam=0, tol=1E-6, standardization=False, family=\"binomial\")\n",
    "ovrUni = classification.OneVsRest(classifier=lr)\n",
    "ovrBi = classification.OneVsRest(classifier=lrBi)\n",
    "ovrTri = classification.OneVsRest(classifier=lrTri)"
   ]
  },
  {
   "cell_type": "markdown",
   "id": "ae1a1d69-0fc5-44b6-b950-0ceb63c970f7",
   "metadata": {},
   "source": [
    "#### Declare evaluator"
   ]
  },
  {
   "cell_type": "code",
   "execution_count": null,
   "id": "ca973a74-b730-4791-90b4-e9231296afe2",
   "metadata": {},
   "outputs": [],
   "source": [
    "evaluator = MulticlassClassificationEvaluator(predictionCol=\"prediction\")"
   ]
  },
  {
   "cell_type": "markdown",
   "id": "06fd96ca-9b09-428a-9826-0cdb57d0a323",
   "metadata": {},
   "source": [
    "### One Vs Rest Unigram"
   ]
  },
  {
   "cell_type": "code",
   "execution_count": null,
   "id": "6a94cf28-8ebc-442d-8b14-bf7bbbd41910",
   "metadata": {
    "execution": {
     "iopub.execute_input": "2022-04-08T07:31:04.686478Z",
     "iopub.status.busy": "2022-04-08T07:31:04.686138Z"
    },
    "tags": []
   },
   "outputs": [
    {
     "data": {
      "application/vnd.jupyter.widget-view+json": {
       "model_id": "24911b761e024644b1c989cb7f510c86",
       "version_major": 2,
       "version_minor": 0
      },
      "text/plain": [
       "VBox()"
      ]
     },
     "metadata": {},
     "output_type": "display_data"
    },
    {
     "data": {
      "application/vnd.jupyter.widget-view+json": {
       "model_id": "87fe5f24c26545a6aa78c75556792fa2",
       "version_major": 2,
       "version_minor": 0
      },
      "text/plain": [
       "FloatProgress(value=0.0, bar_style='info', description='Progress:', layout=Layout(height='25px', width='50%'),…"
      ]
     },
     "metadata": {},
     "output_type": "display_data"
    }
   ],
   "source": [
    "ovrModelUni = ovrUni.fit(dfUni)"
   ]
  },
  {
   "cell_type": "code",
   "execution_count": null,
   "id": "ae16f3e5-231b-4f60-8d3e-c2ec54c5d816",
   "metadata": {},
   "outputs": [],
   "source": [
    "resultUni = ovrModelUni.transform(dfUni)"
   ]
  },
  {
   "cell_type": "code",
   "execution_count": null,
   "id": "1673a583-d3c9-4258-8779-4f1f743cdb6e",
   "metadata": {},
   "outputs": [],
   "source": [
    "resultUni.printSchema()"
   ]
  },
  {
   "cell_type": "markdown",
   "id": "82f0e67b-a70d-485f-aa34-3b33a04c2442",
   "metadata": {},
   "source": [
    "#### Metric"
   ]
  },
  {
   "cell_type": "code",
   "execution_count": null,
   "id": "e45eda35-c740-4549-8b79-2f601abc97f8",
   "metadata": {},
   "outputs": [],
   "source": [
    "evaluator.evaluate(resultUni,{evaluator.metricName: \"accuracy\"})"
   ]
  },
  {
   "cell_type": "code",
   "execution_count": null,
   "id": "ba3677b4-08f2-44c7-8ffe-0d4749965e27",
   "metadata": {},
   "outputs": [],
   "source": [
    "ovrModelUni.save('s3://dataset-26-proj/yelp_academic_dataset_review_ovrUni/ovrUniV1')"
   ]
  },
  {
   "cell_type": "markdown",
   "id": "dd818810-3236-42e5-b56b-a66daa8af43c",
   "metadata": {
    "jp-MarkdownHeadingCollapsed": true,
    "tags": []
   },
   "source": [
    "### One Vs Rest Bigram"
   ]
  },
  {
   "cell_type": "code",
   "execution_count": 10,
   "id": "2b8fdbbe-31aa-4b3e-9333-84c8196ee193",
   "metadata": {
    "execution": {
     "iopub.execute_input": "2022-04-08T06:51:48.485748Z",
     "iopub.status.busy": "2022-04-08T06:51:48.485192Z",
     "iopub.status.idle": "2022-04-08T07:04:19.054009Z",
     "shell.execute_reply": "2022-04-08T07:04:19.053344Z",
     "shell.execute_reply.started": "2022-04-08T06:51:48.485709Z"
    },
    "tags": []
   },
   "outputs": [
    {
     "data": {
      "application/vnd.jupyter.widget-view+json": {
       "model_id": "4d82b7fc6d084400b705fb76aea3fc19",
       "version_major": 2,
       "version_minor": 0
      },
      "text/plain": [
       "VBox()"
      ]
     },
     "metadata": {},
     "output_type": "display_data"
    },
    {
     "data": {
      "application/vnd.jupyter.widget-view+json": {
       "model_id": "",
       "version_major": 2,
       "version_minor": 0
      },
      "text/plain": [
       "FloatProgress(value=0.0, bar_style='info', description='Progress:', layout=Layout(height='25px', width='50%'),…"
      ]
     },
     "metadata": {},
     "output_type": "display_data"
    }
   ],
   "source": [
    "ovrModelBi = ovrBi.fit(dfBi)"
   ]
  },
  {
   "cell_type": "code",
   "execution_count": null,
   "id": "98d446e1-cb3e-44c9-9b87-cbe99a109078",
   "metadata": {},
   "outputs": [],
   "source": [
    "resultBi = ovrModelBi.transform(dfBi)"
   ]
  },
  {
   "cell_type": "code",
   "execution_count": null,
   "id": "951c0dc6-2c44-4867-b338-ba9e244c9618",
   "metadata": {},
   "outputs": [],
   "source": [
    "resultBi.printSchema()"
   ]
  },
  {
   "cell_type": "markdown",
   "id": "804be3e2-619f-42ce-90e4-f5c64cf58196",
   "metadata": {},
   "source": [
    "#### Metric"
   ]
  },
  {
   "cell_type": "code",
   "execution_count": null,
   "id": "5b339285-9c01-4901-85fa-6948643ebc31",
   "metadata": {},
   "outputs": [],
   "source": [
    "evaluator.evaluate(resultBi,{evaluator.metricName: \"accuracy\"})"
   ]
  },
  {
   "cell_type": "code",
   "execution_count": null,
   "id": "39af2039-5574-4758-959a-4e76e62a924e",
   "metadata": {},
   "outputs": [],
   "source": [
    "ovrModelBi.save('s3://dataset-26-proj/yelp_academic_dataset_review_ovrBi/ovrBiV1')"
   ]
  },
  {
   "cell_type": "markdown",
   "id": "0aa65544-26a8-45a2-82fe-a00d66f18dd0",
   "metadata": {
    "jp-MarkdownHeadingCollapsed": true,
    "tags": []
   },
   "source": [
    "### One Vs Rest Trigram"
   ]
  },
  {
   "cell_type": "code",
   "execution_count": 17,
   "id": "0afb931e-29ba-411e-8053-6cb898ac001d",
   "metadata": {
    "execution": {
     "iopub.execute_input": "2022-04-08T07:13:18.782430Z",
     "iopub.status.busy": "2022-04-08T07:13:18.782086Z",
     "iopub.status.idle": "2022-04-08T07:23:10.483687Z",
     "shell.execute_reply": "2022-04-08T07:23:10.482935Z",
     "shell.execute_reply.started": "2022-04-08T07:13:18.782387Z"
    },
    "tags": []
   },
   "outputs": [
    {
     "data": {
      "application/vnd.jupyter.widget-view+json": {
       "model_id": "da36102d08d147d4962cceac143177ea",
       "version_major": 2,
       "version_minor": 0
      },
      "text/plain": [
       "VBox()"
      ]
     },
     "metadata": {},
     "output_type": "display_data"
    },
    {
     "data": {
      "application/vnd.jupyter.widget-view+json": {
       "model_id": "",
       "version_major": 2,
       "version_minor": 0
      },
      "text/plain": [
       "FloatProgress(value=0.0, bar_style='info', description='Progress:', layout=Layout(height='25px', width='50%'),…"
      ]
     },
     "metadata": {},
     "output_type": "display_data"
    }
   ],
   "source": [
    "ovrModelTri = ovrTri.fit(dfTri)"
   ]
  },
  {
   "cell_type": "code",
   "execution_count": null,
   "id": "da79a37e-cd1f-4847-8fb4-eb0a8d56a489",
   "metadata": {},
   "outputs": [],
   "source": [
    "resultTri = ovrModelTri.transform(dfTri)"
   ]
  },
  {
   "cell_type": "code",
   "execution_count": null,
   "id": "311c6686-831f-403a-813e-d90129d848c6",
   "metadata": {},
   "outputs": [],
   "source": [
    "resultTri.printSchema()"
   ]
  },
  {
   "cell_type": "markdown",
   "id": "45cc87f3-81e2-4215-ba1f-6421cab954f1",
   "metadata": {},
   "source": [
    "#### Metric"
   ]
  },
  {
   "cell_type": "code",
   "execution_count": null,
   "id": "bda40341-b74e-4c08-baa0-0bb3cf5a9fb7",
   "metadata": {},
   "outputs": [],
   "source": [
    "evaluator.evaluate(resultTri,{evaluator.metricName: \"accuracy\"})"
   ]
  },
  {
   "cell_type": "code",
   "execution_count": null,
   "id": "8903e148-070d-47f9-8cd6-e33590d94dc3",
   "metadata": {},
   "outputs": [],
   "source": [
    "ovrModelTri.save('s3://dataset-26-proj/yelp_academic_dataset_review_ovrTri/ovrTriV1')"
   ]
  },
  {
   "cell_type": "markdown",
   "id": "f606c104-14ff-4ee3-a529-89a0d84b2e6c",
   "metadata": {
    "jp-MarkdownHeadingCollapsed": true,
    "tags": []
   },
   "source": [
    "### Test"
   ]
  },
  {
   "cell_type": "code",
   "execution_count": null,
   "id": "e1876aea-9c3c-4ab3-99b0-a590ebb4f080",
   "metadata": {
    "execution": {
     "iopub.execute_input": "2022-04-06T17:37:52.868154Z",
     "iopub.status.busy": "2022-04-06T17:37:52.867926Z"
    },
    "tags": []
   },
   "outputs": [
    {
     "data": {
      "application/vnd.jupyter.widget-view+json": {
       "model_id": "c921d2ff62ac4438b4149c98d3374c4a",
       "version_major": 2,
       "version_minor": 0
      },
      "text/plain": [
       "VBox()"
      ]
     },
     "metadata": {},
     "output_type": "display_data"
    },
    {
     "data": {
      "application/vnd.jupyter.widget-view+json": {
       "model_id": "3738a80abdf64c4eb06506bd1368f4fc",
       "version_major": 2,
       "version_minor": 0
      },
      "text/plain": [
       "FloatProgress(value=0.0, bar_style='info', description='Progress:', layout=Layout(height='25px', width='50%'),…"
      ]
     },
     "metadata": {},
     "output_type": "display_data"
    },
    {
     "name": "stderr",
     "output_type": "stream",
     "text": [
      "Exception in thread cell_monitor-12:\n",
      "Traceback (most recent call last):\n",
      "  File \"/mnt/notebook-env/lib/python3.7/threading.py\", line 926, in _bootstrap_inner\n",
      "    self.run()\n",
      "  File \"/mnt/notebook-env/lib/python3.7/threading.py\", line 870, in run\n",
      "    self._target(*self._args, **self._kwargs)\n",
      "  File \"/mnt/notebook-env/lib/python3.7/site-packages/awseditorssparkmonitoringwidget-1.0-py3.7.egg/awseditorssparkmonitoringwidget/cellmonitor.py\", line 178, in cell_monitor\n",
      "    job_binned_stages[job_id][stage_id] = all_stages[stage_id]\n",
      "KeyError: 1397\n",
      "\n"
     ]
    }
   ],
   "source": [
    "\n",
    "# paramGrid = tuning.ParamGridBuilder().addGrid(lr.maxIter, [30,50,75]) \\\n",
    "#                               .addGrid(lr.regParam, [0.03, 0.04, 0.05]) \\\n",
    "#                               .addGrid(lr.elasticNetParam, [0.1,0.2,0.3]) \\\n",
    "#                               .build()\n",
    "# evaluator = MulticlassClassificationEvaluator()\n",
    "# valid = tuning.TrainValidationSplit(estimator=lr,\n",
    "#                              estimatorParamMaps=paramGrid,\n",
    "#                              evaluator=evaluator,\n",
    "#                              trainRatio=0.80)\n",
    "# model = valid.fit(df)"
   ]
  },
  {
   "cell_type": "code",
   "execution_count": 14,
   "id": "302650b7-4ffc-4457-a32d-c7b502b13bcb",
   "metadata": {
    "execution": {
     "iopub.execute_input": "2022-04-06T15:04:03.110681Z",
     "iopub.status.busy": "2022-04-06T15:04:03.110451Z",
     "iopub.status.idle": "2022-04-06T15:04:03.373402Z",
     "shell.execute_reply": "2022-04-06T15:04:03.372567Z",
     "shell.execute_reply.started": "2022-04-06T15:04:03.110657Z"
    },
    "tags": []
   },
   "outputs": [
    {
     "data": {
      "application/vnd.jupyter.widget-view+json": {
       "model_id": "51a4b21d2f124f3bba8f7f6954ae086d",
       "version_major": 2,
       "version_minor": 0
      },
      "text/plain": [
       "VBox()"
      ]
     },
     "metadata": {},
     "output_type": "display_data"
    },
    {
     "data": {
      "application/vnd.jupyter.widget-view+json": {
       "model_id": "",
       "version_major": 2,
       "version_minor": 0
      },
      "text/plain": [
       "FloatProgress(value=0.0, bar_style='info', description='Progress:', layout=Layout(height='25px', width='50%'),…"
      ]
     },
     "metadata": {},
     "output_type": "display_data"
    }
   ],
   "source": [
    "best_model = model.transform(df)"
   ]
  },
  {
   "cell_type": "code",
   "execution_count": null,
   "id": "6df18521",
   "metadata": {
    "tags": []
   },
   "outputs": [],
   "source": [
    "#rf_model = rf.fit(df)\n",
    "\n",
    "#lrModel = ovr.fit(df)"
   ]
  },
  {
   "cell_type": "code",
   "execution_count": 13,
   "id": "c2c12d66-9132-4c1c-8672-330a517b4179",
   "metadata": {
    "execution": {
     "iopub.execute_input": "2022-04-08T06:17:14.481348Z",
     "iopub.status.busy": "2022-04-08T06:17:14.481004Z",
     "iopub.status.idle": "2022-04-08T06:17:14.574208Z",
     "shell.execute_reply": "2022-04-08T06:17:14.573532Z",
     "shell.execute_reply.started": "2022-04-08T06:17:14.481302Z"
    },
    "tags": []
   },
   "outputs": [
    {
     "data": {
      "application/vnd.jupyter.widget-view+json": {
       "model_id": "c15a4f247411419d8a7c7bad1b481ab6",
       "version_major": 2,
       "version_minor": 0
      },
      "text/plain": [
       "VBox()"
      ]
     },
     "metadata": {},
     "output_type": "display_data"
    },
    {
     "data": {
      "application/vnd.jupyter.widget-view+json": {
       "model_id": "",
       "version_major": 2,
       "version_minor": 0
      },
      "text/plain": [
       "FloatProgress(value=0.0, bar_style='info', description='Progress:', layout=Layout(height='25px', width='50%'),…"
      ]
     },
     "metadata": {},
     "output_type": "display_data"
    },
    {
     "name": "stdout",
     "output_type": "stream",
     "text": [
      "root\n",
      " |-- label: double (nullable = true)\n",
      " |-- features: vector (nullable = true)\n",
      " |-- prediction: double (nullable = true)"
     ]
    }
   ],
   "source": [
    "#best_model.printSchema()\n"
   ]
  },
  {
   "cell_type": "code",
   "execution_count": 7,
   "id": "3aaa2c6a-00a9-419b-82f2-d11f48204bd8",
   "metadata": {
    "execution": {
     "iopub.execute_input": "2022-04-03T10:06:07.805451Z",
     "iopub.status.busy": "2022-04-03T10:06:07.805208Z",
     "iopub.status.idle": "2022-04-03T10:06:08.076526Z",
     "shell.execute_reply": "2022-04-03T10:06:08.075771Z",
     "shell.execute_reply.started": "2022-04-03T10:06:07.805424Z"
    }
   },
   "outputs": [
    {
     "data": {
      "application/vnd.jupyter.widget-view+json": {
       "model_id": "6a9a3d8e6b564ecbaef20a36fb03455f",
       "version_major": 2,
       "version_minor": 0
      },
      "text/plain": [
       "VBox()"
      ]
     },
     "metadata": {},
     "output_type": "display_data"
    },
    {
     "data": {
      "application/vnd.jupyter.widget-view+json": {
       "model_id": "",
       "version_major": 2,
       "version_minor": 0
      },
      "text/plain": [
       "FloatProgress(value=0.0, bar_style='info', description='Progress:', layout=Layout(height='25px', width='50%'),…"
      ]
     },
     "metadata": {},
     "output_type": "display_data"
    }
   ],
   "source": [
    "sc.stop()"
   ]
  },
  {
   "cell_type": "code",
   "execution_count": null,
   "id": "06d11f38-2091-474e-b6ec-3af0d771791a",
   "metadata": {},
   "outputs": [],
   "source": []
  }
 ],
 "metadata": {
  "kernelspec": {
   "display_name": "PySpark",
   "language": "python",
   "name": "pysparkkernel"
  },
  "language_info": {
   "codemirror_mode": {
    "name": "python",
    "version": 3
   },
   "file_extension": ".py",
   "mimetype": "text/x-python",
   "name": "pyspark",
   "pygments_lexer": "python3"
  }
 },
 "nbformat": 4,
 "nbformat_minor": 5
}
