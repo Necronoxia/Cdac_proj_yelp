{
 "cells": [
  {
   "cell_type": "markdown",
   "id": "bcdf9238-059b-46d7-b0e0-0722187dce81",
   "metadata": {
    "execution": {
     "iopub.execute_input": "2022-04-09T05:09:24.409020Z",
     "iopub.status.busy": "2022-04-09T05:09:24.408776Z"
    },
    "tags": []
   },
   "source": [
    "# Installing Libraries"
   ]
  },
  {
   "cell_type": "code",
   "execution_count": 1,
   "id": "0b506afa-ee1b-4cfa-bed6-cd4ec54a91b9",
   "metadata": {
    "collapsed": true,
    "execution": {
     "iopub.execute_input": "2022-04-07T14:57:08.078914Z",
     "iopub.status.busy": "2022-04-07T14:57:08.078508Z",
     "iopub.status.idle": "2022-04-07T14:57:12.459499Z",
     "shell.execute_reply": "2022-04-07T14:57:12.458072Z",
     "shell.execute_reply.started": "2022-04-07T14:57:08.078861Z"
    },
    "jupyter": {
     "outputs_hidden": true
    },
    "tags": []
   },
   "outputs": [
    {
     "name": "stdout",
     "output_type": "stream",
     "text": [
      "Defaulting to user installation because normal site-packages is not writeable\n",
      "Collecting nltk\n",
      "  Downloading nltk-3.7-py3-none-any.whl (1.5 MB)\n",
      "\u001b[K     |████████████████████████████████| 1.5 MB 14.5 MB/s eta 0:00:01\n",
      "\u001b[?25hCollecting joblib\n",
      "  Downloading joblib-1.1.0-py2.py3-none-any.whl (306 kB)\n",
      "\u001b[K     |████████████████████████████████| 306 kB 55.2 MB/s eta 0:00:01\n",
      "\u001b[?25hRequirement already satisfied: tqdm in /mnt/notebook-env/lib/python3.7/site-packages (from nltk) (4.62.3)\n",
      "Collecting click\n",
      "  Downloading click-8.1.2-py3-none-any.whl (96 kB)\n",
      "\u001b[K     |████████████████████████████████| 96 kB 1.8 MB/s  eta 0:00:01\n",
      "\u001b[?25hCollecting regex>=2021.8.3\n",
      "  Downloading regex-2022.3.15-cp37-cp37m-manylinux_2_17_x86_64.manylinux2014_x86_64.whl (749 kB)\n",
      "\u001b[K     |████████████████████████████████| 749 kB 56.5 MB/s eta 0:00:01\n",
      "\u001b[?25hRequirement already satisfied: importlib-metadata in /mnt/notebook-env/lib/python3.7/site-packages (from click->nltk) (4.8.2)\n",
      "Requirement already satisfied: typing-extensions>=3.6.4 in /mnt/notebook-env/lib/python3.7/site-packages (from importlib-metadata->click->nltk) (3.10.0.2)\n",
      "Requirement already satisfied: zipp>=0.5 in /mnt/notebook-env/lib/python3.7/site-packages (from importlib-metadata->click->nltk) (3.7.0)\n",
      "Installing collected packages: regex, joblib, click, nltk\n",
      "\u001b[33m  WARNING: The script nltk is installed in '/home/emr-notebook/.local/bin' which is not on PATH.\n",
      "  Consider adding this directory to PATH or, if you prefer to suppress this warning, use --no-warn-script-location.\u001b[0m\n",
      "Successfully installed click-8.1.2 joblib-1.1.0 nltk-3.7 regex-2022.3.15\n",
      "Note: you may need to restart the kernel to use updated packages.\n"
     ]
    }
   ],
   "source": [
    "%pip install nltk"
   ]
  },
  {
   "cell_type": "code",
   "execution_count": 9,
   "id": "b23e8a9e-2c51-4aed-a9b5-56767ea9a21e",
   "metadata": {
    "execution": {
     "iopub.execute_input": "2022-04-07T16:08:24.923069Z",
     "iopub.status.busy": "2022-04-07T16:08:24.922793Z",
     "iopub.status.idle": "2022-04-07T16:08:40.328274Z",
     "shell.execute_reply": "2022-04-07T16:08:40.327309Z",
     "shell.execute_reply.started": "2022-04-07T16:08:24.923036Z"
    },
    "tags": []
   },
   "outputs": [
    {
     "data": {
      "application/vnd.jupyter.widget-view+json": {
       "model_id": "5b87392e78774047ad6a761310fd25a8",
       "version_major": 2,
       "version_minor": 0
      },
      "text/plain": [
       "VBox()"
      ]
     },
     "metadata": {},
     "output_type": "display_data"
    },
    {
     "data": {
      "application/vnd.jupyter.widget-view+json": {
       "model_id": "",
       "version_major": 2,
       "version_minor": 0
      },
      "text/plain": [
       "FloatProgress(value=0.0, bar_style='info', description='Progress:', layout=Layout(height='25px', width='50%'),…"
      ]
     },
     "metadata": {},
     "output_type": "display_data"
    },
    {
     "name": "stdout",
     "output_type": "stream",
     "text": [
      "Collecting matplotlib==3.1.1\n",
      "  Downloading https://files.pythonhosted.org/packages/19/7a/60bd79c5d79559150f8bba866dd7d434f0a170312e4d15e8aefa5faba294/matplotlib-3.1.1-cp37-cp37m-manylinux1_x86_64.whl (13.1MB)\n",
      "Collecting python-dateutil>=2.1 (from matplotlib==3.1.1)\n",
      "  Downloading https://files.pythonhosted.org/packages/36/7a/87837f39d0296e723bb9b62bbb257d0355c7f6128853c78955f57342a56d/python_dateutil-2.8.2-py2.py3-none-any.whl (247kB)\n",
      "Collecting pyparsing!=2.0.4,!=2.1.2,!=2.1.6,>=2.0.1 (from matplotlib==3.1.1)\n",
      "  Downloading https://files.pythonhosted.org/packages/80/c1/23fd82ad3121656b585351aba6c19761926bb0db2ebed9e4ff09a43a3fcc/pyparsing-3.0.7-py3-none-any.whl (98kB)\n",
      "Collecting cycler>=0.10 (from matplotlib==3.1.1)\n",
      "  Downloading https://files.pythonhosted.org/packages/5c/f9/695d6bedebd747e5eb0fe8fad57b72fdf25411273a39791cde838d5a8f51/cycler-0.11.0-py3-none-any.whl\n",
      "Requirement already satisfied: numpy>=1.11 in /usr/local/lib64/python3.7/site-packages (from matplotlib==3.1.1)\n",
      "Collecting kiwisolver>=1.0.1 (from matplotlib==3.1.1)\n",
      "  Downloading https://files.pythonhosted.org/packages/51/50/9a9a94afa26c50fc5d9127272737806990aa698c7a1c220b8e5075e70304/kiwisolver-1.4.2-cp37-cp37m-manylinux_2_5_x86_64.manylinux1_x86_64.whl (1.1MB)\n",
      "Requirement already satisfied: six>=1.5 in /usr/local/lib/python3.7/site-packages (from python-dateutil>=2.1->matplotlib==3.1.1)\n",
      "Collecting typing-extensions; python_version < \"3.8\" (from kiwisolver>=1.0.1->matplotlib==3.1.1)\n",
      "  Downloading https://files.pythonhosted.org/packages/45/6b/44f7f8f1e110027cf88956b59f2fad776cca7e1704396d043f89effd3a0e/typing_extensions-4.1.1-py3-none-any.whl\n",
      "Installing collected packages: python-dateutil, pyparsing, cycler, typing-extensions, kiwisolver, matplotlib\n",
      "Successfully installed cycler-0.11.0 kiwisolver-1.4.2 matplotlib-3.1.1 pyparsing-3.0.7 python-dateutil-2.8.2 typing-extensions-4.1.1\n",
      "\n",
      "You are using pip version 9.0.1, however version 22.0.4 is available.\n",
      "You should consider upgrading via the 'pip install --upgrade pip' command."
     ]
    }
   ],
   "source": [
    "sc.install_pypi_package(\"matplotlib==3.1.1\", \"https://pypi.org/simple\")"
   ]
  },
  {
   "cell_type": "code",
   "execution_count": 10,
   "id": "dd70d7b6-1839-40f8-bdab-81dfd42725e2",
   "metadata": {
    "collapsed": true,
    "execution": {
     "iopub.execute_input": "2022-04-07T16:08:40.329940Z",
     "iopub.status.busy": "2022-04-07T16:08:40.329707Z",
     "iopub.status.idle": "2022-04-07T16:08:51.715091Z",
     "shell.execute_reply": "2022-04-07T16:08:51.714230Z",
     "shell.execute_reply.started": "2022-04-07T16:08:40.329908Z"
    },
    "jupyter": {
     "outputs_hidden": true
    },
    "tags": []
   },
   "outputs": [
    {
     "data": {
      "application/vnd.jupyter.widget-view+json": {
       "model_id": "43dddad61ac44d4282da89e9f8d4c0b0",
       "version_major": 2,
       "version_minor": 0
      },
      "text/plain": [
       "VBox()"
      ]
     },
     "metadata": {},
     "output_type": "display_data"
    },
    {
     "data": {
      "application/vnd.jupyter.widget-view+json": {
       "model_id": "",
       "version_major": 2,
       "version_minor": 0
      },
      "text/plain": [
       "FloatProgress(value=0.0, bar_style='info', description='Progress:', layout=Layout(height='25px', width='50%'),…"
      ]
     },
     "metadata": {},
     "output_type": "display_data"
    },
    {
     "name": "stdout",
     "output_type": "stream",
     "text": [
      "Collecting pandas==0.25.1\n",
      "  Downloading https://files.pythonhosted.org/packages/7e/ab/ea76361f9d3e732e114adcd801d2820d5319c23d0ac5482fa3b412db217e/pandas-0.25.1-cp37-cp37m-manylinux1_x86_64.whl (10.4MB)\n",
      "Requirement already satisfied: pytz>=2017.2 in /usr/local/lib/python3.7/site-packages (from pandas==0.25.1)\n",
      "Requirement already satisfied: numpy>=1.13.3 in /usr/local/lib64/python3.7/site-packages (from pandas==0.25.1)\n",
      "Requirement already satisfied: python-dateutil>=2.6.1 in /mnt/tmp/1649347634218-0/lib/python3.7/site-packages (from pandas==0.25.1)\n",
      "Requirement already satisfied: six>=1.5 in /usr/local/lib/python3.7/site-packages (from python-dateutil>=2.6.1->pandas==0.25.1)\n",
      "Installing collected packages: pandas\n",
      "Successfully installed pandas-0.25.1\n",
      "\n",
      "You are using pip version 9.0.1, however version 22.0.4 is available.\n",
      "You should consider upgrading via the 'pip install --upgrade pip' command."
     ]
    }
   ],
   "source": [
    "sc.install_pypi_package(\"pandas==0.25.1\")"
   ]
  },
  {
   "cell_type": "markdown",
   "id": "0ad06f7e-e7e0-4c0a-9eb5-698cac9a6b09",
   "metadata": {},
   "source": [
    "# Importing Libraries"
   ]
  },
  {
   "cell_type": "code",
   "execution_count": 4,
   "id": "669c9652-e0fd-4fe0-a70b-ac843297d296",
   "metadata": {
    "execution": {
     "iopub.execute_input": "2022-04-07T16:08:10.959542Z",
     "iopub.status.busy": "2022-04-07T16:08:10.959261Z",
     "iopub.status.idle": "2022-04-07T16:08:11.777858Z",
     "shell.execute_reply": "2022-04-07T16:08:11.776630Z",
     "shell.execute_reply.started": "2022-04-07T16:08:10.959509Z"
    },
    "tags": []
   },
   "outputs": [
    {
     "data": {
      "application/vnd.jupyter.widget-view+json": {
       "model_id": "64f681a8011b4830aa75a04ad04309f9",
       "version_major": 2,
       "version_minor": 0
      },
      "text/plain": [
       "VBox()"
      ]
     },
     "metadata": {},
     "output_type": "display_data"
    },
    {
     "data": {
      "application/vnd.jupyter.widget-view+json": {
       "model_id": "",
       "version_major": 2,
       "version_minor": 0
      },
      "text/plain": [
       "FloatProgress(value=0.0, bar_style='info', description='Progress:', layout=Layout(height='25px', width='50%'),…"
      ]
     },
     "metadata": {},
     "output_type": "display_data"
    }
   ],
   "source": [
    "from pyspark.sql.functions import *\n",
    "from pyspark.sql.functions import udf\n",
    "from pyspark.sql.types import IntegerType\n",
    "\n",
    "from pyspark.mllib.classification import SVMModel, SVMWithSGD\n",
    "from pyspark.mllib.regression import LabeledPoint\n",
    "from pyspark.mllib.linalg import Vectors as MLLibVectors\n",
    "from pyspark.ml import Pipeline\n",
    "from pyspark.ml.evaluation import BinaryClassificationEvaluator, MulticlassClassificationEvaluator\n",
    "from pyspark.ml.feature import * \n",
    "from pyspark.ml.tuning import CrossValidator"
   ]
  },
  {
   "cell_type": "code",
   "execution_count": 5,
   "id": "ef573ec1-9f99-443a-8f61-387eaaeaf63a",
   "metadata": {
    "execution": {
     "iopub.execute_input": "2022-04-07T16:08:12.621840Z",
     "iopub.status.busy": "2022-04-07T16:08:12.621559Z",
     "iopub.status.idle": "2022-04-07T16:08:13.938884Z",
     "shell.execute_reply": "2022-04-07T16:08:13.937892Z",
     "shell.execute_reply.started": "2022-04-07T16:08:12.621806Z"
    },
    "tags": []
   },
   "outputs": [
    {
     "data": {
      "application/vnd.jupyter.widget-view+json": {
       "model_id": "240a899b47864ea3ae59f288441fd020",
       "version_major": 2,
       "version_minor": 0
      },
      "text/plain": [
       "VBox()"
      ]
     },
     "metadata": {},
     "output_type": "display_data"
    },
    {
     "data": {
      "application/vnd.jupyter.widget-view+json": {
       "model_id": "",
       "version_major": 2,
       "version_minor": 0
      },
      "text/plain": [
       "FloatProgress(value=0.0, bar_style='info', description='Progress:', layout=Layout(height='25px', width='50%'),…"
      ]
     },
     "metadata": {},
     "output_type": "display_data"
    }
   ],
   "source": [
    "from pyspark.ml import Pipeline, PipelineModel\n",
    "from pyspark.ml.feature import OneHotEncoder, StringIndexer, VectorAssembler, RegexTokenizer\n",
    "from pyspark.ml.feature import StopWordsRemover, CountVectorizer, Tokenizer, HashingTF, IDF\n",
    "from pyspark.ml.classification import LogisticRegression\n",
    "from pyspark.sql.functions import array\n",
    "\n",
    "import nltk"
   ]
  },
  {
   "cell_type": "code",
   "execution_count": 6,
   "id": "90000eec-fa1f-4c2a-a3dd-699e7384a750",
   "metadata": {
    "execution": {
     "iopub.execute_input": "2022-04-07T16:08:13.940531Z",
     "iopub.status.busy": "2022-04-07T16:08:13.940301Z",
     "iopub.status.idle": "2022-04-07T16:08:14.027724Z",
     "shell.execute_reply": "2022-04-07T16:08:14.026916Z",
     "shell.execute_reply.started": "2022-04-07T16:08:13.940499Z"
    },
    "tags": []
   },
   "outputs": [
    {
     "data": {
      "application/vnd.jupyter.widget-view+json": {
       "model_id": "dfc094a0d44c42c29da4e236069a7274",
       "version_major": 2,
       "version_minor": 0
      },
      "text/plain": [
       "VBox()"
      ]
     },
     "metadata": {},
     "output_type": "display_data"
    },
    {
     "data": {
      "application/vnd.jupyter.widget-view+json": {
       "model_id": "",
       "version_major": 2,
       "version_minor": 0
      },
      "text/plain": [
       "FloatProgress(value=0.0, bar_style='info', description='Progress:', layout=Layout(height='25px', width='50%'),…"
      ]
     },
     "metadata": {},
     "output_type": "display_data"
    }
   ],
   "source": [
    "from pyspark import keyword_only\n",
    "import pyspark.sql.functions as F\n",
    "from pyspark.sql import DataFrame\n",
    "from pyspark.sql.types import ArrayType, StringType\n",
    "from pyspark.ml import Transformer, classification\n",
    "from pyspark.ml.param.shared import HasInputCol, HasOutputCol, Param\n",
    "from nltk.stem import PorterStemmer"
   ]
  },
  {
   "cell_type": "code",
   "execution_count": 11,
   "id": "769a79cf-9485-41a7-82e7-e4804f896e43",
   "metadata": {
    "execution": {
     "iopub.execute_input": "2022-04-07T16:08:57.338387Z",
     "iopub.status.busy": "2022-04-07T16:08:57.338116Z",
     "iopub.status.idle": "2022-04-07T16:08:57.424306Z",
     "shell.execute_reply": "2022-04-07T16:08:57.423401Z",
     "shell.execute_reply.started": "2022-04-07T16:08:57.338351Z"
    },
    "tags": []
   },
   "outputs": [
    {
     "data": {
      "application/vnd.jupyter.widget-view+json": {
       "model_id": "f5a07342d4fe4b1698feac542e443252",
       "version_major": 2,
       "version_minor": 0
      },
      "text/plain": [
       "VBox()"
      ]
     },
     "metadata": {},
     "output_type": "display_data"
    },
    {
     "data": {
      "application/vnd.jupyter.widget-view+json": {
       "model_id": "",
       "version_major": 2,
       "version_minor": 0
      },
      "text/plain": [
       "FloatProgress(value=0.0, bar_style='info', description='Progress:', layout=Layout(height='25px', width='50%'),…"
      ]
     },
     "metadata": {},
     "output_type": "display_data"
    }
   ],
   "source": [
    "import string \n",
    "import re "
   ]
  },
  {
   "cell_type": "code",
   "execution_count": 12,
   "id": "6af6b4b7-8328-4224-87fd-8ca0e45af909",
   "metadata": {
    "execution": {
     "iopub.execute_input": "2022-04-07T16:08:58.693943Z",
     "iopub.status.busy": "2022-04-07T16:08:58.693537Z",
     "iopub.status.idle": "2022-04-07T16:09:04.083528Z",
     "shell.execute_reply": "2022-04-07T16:09:04.082146Z",
     "shell.execute_reply.started": "2022-04-07T16:08:58.693892Z"
    },
    "tags": []
   },
   "outputs": [
    {
     "data": {
      "application/vnd.jupyter.widget-view+json": {
       "model_id": "5aea762556f6400e94469f13679fcb12",
       "version_major": 2,
       "version_minor": 0
      },
      "text/plain": [
       "VBox()"
      ]
     },
     "metadata": {},
     "output_type": "display_data"
    },
    {
     "data": {
      "application/vnd.jupyter.widget-view+json": {
       "model_id": "",
       "version_major": 2,
       "version_minor": 0
      },
      "text/plain": [
       "FloatProgress(value=0.0, bar_style='info', description='Progress:', layout=Layout(height='25px', width='50%'),…"
      ]
     },
     "metadata": {},
     "output_type": "display_data"
    }
   ],
   "source": [
    "import matplotlib.pyplot as plt"
   ]
  },
  {
   "cell_type": "markdown",
   "id": "b579d548-142b-4078-bb9b-1ec1bd48fe8b",
   "metadata": {},
   "source": [
    "# Loading Data "
   ]
  },
  {
   "cell_type": "code",
   "execution_count": 13,
   "id": "5e154241-aa9d-4db6-9078-4f63068daa97",
   "metadata": {
    "collapsed": true,
    "execution": {
     "iopub.execute_input": "2022-04-07T16:09:05.360799Z",
     "iopub.status.busy": "2022-04-07T16:09:05.360492Z",
     "iopub.status.idle": "2022-04-07T16:09:05.688755Z",
     "shell.execute_reply": "2022-04-07T16:09:05.687561Z",
     "shell.execute_reply.started": "2022-04-07T16:09:05.360762Z"
    },
    "jupyter": {
     "outputs_hidden": true
    },
    "tags": []
   },
   "outputs": [
    {
     "data": {
      "application/vnd.jupyter.widget-view+json": {
       "model_id": "667125e885f042a08912fae4302fd096",
       "version_major": 2,
       "version_minor": 0
      },
      "text/plain": [
       "VBox()"
      ]
     },
     "metadata": {},
     "output_type": "display_data"
    },
    {
     "data": {
      "application/vnd.jupyter.widget-view+json": {
       "model_id": "",
       "version_major": 2,
       "version_minor": 0
      },
      "text/plain": [
       "FloatProgress(value=0.0, bar_style='info', description='Progress:', layout=Layout(height='25px', width='50%'),…"
      ]
     },
     "metadata": {},
     "output_type": "display_data"
    },
    {
     "name": "stderr",
     "output_type": "stream",
     "text": [
      "An error was encountered:\n",
      "'Path does not exist: hdfs://ip-172-31-48-94.ec2.internal:8020/NLP-orc111;'\n",
      "Traceback (most recent call last):\n",
      "  File \"/usr/lib/spark/python/lib/pyspark.zip/pyspark/sql/readwriter.py\", line 512, in orc\n",
      "    return self._df(self._jreader.orc(_to_seq(self._spark._sc, path)))\n",
      "  File \"/usr/lib/spark/python/lib/py4j-0.10.7-src.zip/py4j/java_gateway.py\", line 1257, in __call__\n",
      "    answer, self.gateway_client, self.target_id, self.name)\n",
      "  File \"/usr/lib/spark/python/lib/pyspark.zip/pyspark/sql/utils.py\", line 69, in deco\n",
      "    raise AnalysisException(s.split(': ', 1)[1], stackTrace)\n",
      "pyspark.sql.utils.AnalysisException: 'Path does not exist: hdfs://ip-172-31-48-94.ec2.internal:8020/NLP-orc111;'\n",
      "\n"
     ]
    }
   ],
   "source": [
    "review=spark.read.orc(\"hdfs:///NLP-orc111/\")"
   ]
  },
  {
   "cell_type": "code",
   "execution_count": 13,
   "id": "41cd071d-a1dd-437b-842f-064a142a73c8",
   "metadata": {
    "execution": {
     "iopub.execute_input": "2022-04-07T15:00:29.442323Z",
     "iopub.status.busy": "2022-04-07T15:00:29.442000Z",
     "iopub.status.idle": "2022-04-07T15:00:38.826311Z",
     "shell.execute_reply": "2022-04-07T15:00:38.825088Z",
     "shell.execute_reply.started": "2022-04-07T15:00:29.442290Z"
    },
    "tags": []
   },
   "outputs": [
    {
     "data": {
      "application/vnd.jupyter.widget-view+json": {
       "model_id": "adf12f3a713a4ba6975d4923669cb6af",
       "version_major": 2,
       "version_minor": 0
      },
      "text/plain": [
       "VBox()"
      ]
     },
     "metadata": {},
     "output_type": "display_data"
    },
    {
     "data": {
      "application/vnd.jupyter.widget-view+json": {
       "model_id": "",
       "version_major": 2,
       "version_minor": 0
      },
      "text/plain": [
       "FloatProgress(value=0.0, bar_style='info', description='Progress:', layout=Layout(height='25px', width='50%'),…"
      ]
     },
     "metadata": {},
     "output_type": "display_data"
    },
    {
     "name": "stdout",
     "output_type": "stream",
     "text": [
      "+-----+--------------------+\n",
      "|stars|                text|\n",
      "+-----+--------------------+\n",
      "|  5.0|What a great find...|\n",
      "|  2.0|The only reason I...|\n",
      "|  2.0|It's fun that it'...|\n",
      "|  3.0|I've been to Smit...|\n",
      "|  4.0|We do love the fo...|\n",
      "+-----+--------------------+\n",
      "only showing top 5 rows"
     ]
    }
   ],
   "source": [
    "review.show(5)"
   ]
  },
  {
   "cell_type": "markdown",
   "id": "feb6de04-c549-4336-8f23-3aa1f18048fe",
   "metadata": {},
   "source": [
    "# Remove Punctuation"
   ]
  },
  {
   "cell_type": "code",
   "execution_count": 14,
   "id": "d434e622-c897-4fe1-97e4-25588aa976eb",
   "metadata": {
    "execution": {
     "iopub.execute_input": "2022-04-07T15:00:38.828515Z",
     "iopub.status.busy": "2022-04-07T15:00:38.828186Z",
     "iopub.status.idle": "2022-04-07T15:00:39.156219Z",
     "shell.execute_reply": "2022-04-07T15:00:39.155022Z",
     "shell.execute_reply.started": "2022-04-07T15:00:38.828468Z"
    },
    "tags": []
   },
   "outputs": [
    {
     "data": {
      "application/vnd.jupyter.widget-view+json": {
       "model_id": "3c1d2688af5f480088906e20344a9ae3",
       "version_major": 2,
       "version_minor": 0
      },
      "text/plain": [
       "VBox()"
      ]
     },
     "metadata": {},
     "output_type": "display_data"
    },
    {
     "data": {
      "application/vnd.jupyter.widget-view+json": {
       "model_id": "",
       "version_major": 2,
       "version_minor": 0
      },
      "text/plain": [
       "FloatProgress(value=0.0, bar_style='info', description='Progress:', layout=Layout(height='25px', width='50%'),…"
      ]
     },
     "metadata": {},
     "output_type": "display_data"
    }
   ],
   "source": [
    "def remove_punct(text):\n",
    "    regex = re.compile('[' + re.escape(string.punctuation) + '0-9\\\\r\\\\t\\\\n]')\n",
    "    nopunct = regex.sub(\" \", text) \n",
    "    return nopunct\n",
    "\n",
    "    \n",
    "# binarize rating\n",
    "def convert_rating(rating):\n",
    "    rating = int(rating)\n",
    "    if rating < 2: return 1\n",
    "    else: return 0\n",
    "\n",
    "# udf\n",
    "punct_remover = udf(lambda x: remove_punct(x))\n",
    "rating_convert = udf(lambda x: convert_rating(x))\n",
    "review_df = review.select( punct_remover('text'), rating_convert('stars'))\n",
    "review_df = review_df.withColumnRenamed('<lambda>(text)', 'text')\\\n",
    "                     .withColumn('label', review_df[\"<lambda>(stars)\"].cast(IntegerType()))\\\n",
    "                     .drop('<lambda>(stars)')"
   ]
  },
  {
   "cell_type": "code",
   "execution_count": 15,
   "id": "2b8c3f0c-8096-4cd2-a22d-44b35e959bde",
   "metadata": {
    "execution": {
     "iopub.execute_input": "2022-04-07T15:00:39.159397Z",
     "iopub.status.busy": "2022-04-07T15:00:39.158862Z",
     "iopub.status.idle": "2022-04-07T15:00:48.588363Z",
     "shell.execute_reply": "2022-04-07T15:00:48.587341Z",
     "shell.execute_reply.started": "2022-04-07T15:00:39.159346Z"
    },
    "tags": []
   },
   "outputs": [
    {
     "data": {
      "application/vnd.jupyter.widget-view+json": {
       "model_id": "fe99a5344c274b769af22ba863e92e88",
       "version_major": 2,
       "version_minor": 0
      },
      "text/plain": [
       "VBox()"
      ]
     },
     "metadata": {},
     "output_type": "display_data"
    },
    {
     "data": {
      "application/vnd.jupyter.widget-view+json": {
       "model_id": "",
       "version_major": 2,
       "version_minor": 0
      },
      "text/plain": [
       "FloatProgress(value=0.0, bar_style='info', description='Progress:', layout=Layout(height='25px', width='50%'),…"
      ]
     },
     "metadata": {},
     "output_type": "display_data"
    },
    {
     "name": "stdout",
     "output_type": "stream",
     "text": [
      "+--------------------+-----+\n",
      "|                text|label|\n",
      "+--------------------+-----+\n",
      "|What a great find...|    0|\n",
      "|The only reason I...|    0|\n",
      "+--------------------+-----+\n",
      "only showing top 2 rows"
     ]
    }
   ],
   "source": [
    "review_df.show(2)"
   ]
  },
  {
   "cell_type": "code",
   "execution_count": 16,
   "id": "8a2345a2-1646-4f3a-ad07-38b5ecdb46ef",
   "metadata": {
    "execution": {
     "iopub.execute_input": "2022-04-07T15:00:48.590612Z",
     "iopub.status.busy": "2022-04-07T15:00:48.590281Z",
     "iopub.status.idle": "2022-04-07T15:00:49.921276Z",
     "shell.execute_reply": "2022-04-07T15:00:49.920072Z",
     "shell.execute_reply.started": "2022-04-07T15:00:48.590564Z"
    },
    "tags": []
   },
   "outputs": [
    {
     "data": {
      "application/vnd.jupyter.widget-view+json": {
       "model_id": "e40df11324674d7fb001e21c8d333de4",
       "version_major": 2,
       "version_minor": 0
      },
      "text/plain": [
       "VBox()"
      ]
     },
     "metadata": {},
     "output_type": "display_data"
    },
    {
     "data": {
      "application/vnd.jupyter.widget-view+json": {
       "model_id": "",
       "version_major": 2,
       "version_minor": 0
      },
      "text/plain": [
       "FloatProgress(value=0.0, bar_style='info', description='Progress:', layout=Layout(height='25px', width='50%'),…"
      ]
     },
     "metadata": {},
     "output_type": "display_data"
    },
    {
     "name": "stdout",
     "output_type": "stream",
     "text": [
      "3548711"
     ]
    }
   ],
   "source": [
    "review_df.count()"
   ]
  },
  {
   "cell_type": "markdown",
   "id": "e7fa7cc8-4759-49b0-a85c-2a1a521fd6e7",
   "metadata": {},
   "source": [
    "# Tokenize"
   ]
  },
  {
   "cell_type": "code",
   "execution_count": 29,
   "id": "454f6174-56ba-4a9f-9dbc-6cbd0288e4ac",
   "metadata": {
    "execution": {
     "iopub.execute_input": "2022-04-07T15:02:43.769549Z",
     "iopub.status.busy": "2022-04-07T15:02:43.769254Z",
     "iopub.status.idle": "2022-04-07T15:02:43.854542Z",
     "shell.execute_reply": "2022-04-07T15:02:43.853495Z",
     "shell.execute_reply.started": "2022-04-07T15:02:43.769516Z"
    },
    "tags": []
   },
   "outputs": [
    {
     "data": {
      "application/vnd.jupyter.widget-view+json": {
       "model_id": "7b9568903396494f8a7b2dd51c4e9c57",
       "version_major": 2,
       "version_minor": 0
      },
      "text/plain": [
       "VBox()"
      ]
     },
     "metadata": {},
     "output_type": "display_data"
    },
    {
     "data": {
      "application/vnd.jupyter.widget-view+json": {
       "model_id": "",
       "version_major": 2,
       "version_minor": 0
      },
      "text/plain": [
       "FloatProgress(value=0.0, bar_style='info', description='Progress:', layout=Layout(height='25px', width='50%'),…"
      ]
     },
     "metadata": {},
     "output_type": "display_data"
    }
   ],
   "source": [
    "rgtoken = RegexTokenizer(inputCol=\"text\",outputCol=\"words\",pattern=\"\\\\W\")\n",
    "token = Tokenizer(inputCol= \"words\", outputCol = \"tokens\")\n"
   ]
  },
  {
   "cell_type": "markdown",
   "id": "d348fabb-ebc3-4e59-a8b7-7632cdc4afe7",
   "metadata": {},
   "source": [
    "# Stop word Removal"
   ]
  },
  {
   "cell_type": "code",
   "execution_count": 32,
   "id": "c6fa9416-5710-48e3-8039-08f44edcb36f",
   "metadata": {
    "execution": {
     "iopub.execute_input": "2022-04-07T15:02:44.494069Z",
     "iopub.status.busy": "2022-04-07T15:02:44.493789Z",
     "iopub.status.idle": "2022-04-07T15:02:44.592353Z",
     "shell.execute_reply": "2022-04-07T15:02:44.591156Z",
     "shell.execute_reply.started": "2022-04-07T15:02:44.494015Z"
    },
    "tags": []
   },
   "outputs": [
    {
     "data": {
      "application/vnd.jupyter.widget-view+json": {
       "model_id": "491f4a8fbabb4aecb167095141458ef4",
       "version_major": 2,
       "version_minor": 0
      },
      "text/plain": [
       "VBox()"
      ]
     },
     "metadata": {},
     "output_type": "display_data"
    },
    {
     "data": {
      "application/vnd.jupyter.widget-view+json": {
       "model_id": "",
       "version_major": 2,
       "version_minor": 0
      },
      "text/plain": [
       "FloatProgress(value=0.0, bar_style='info', description='Progress:', layout=Layout(height='25px', width='50%'),…"
      ]
     },
     "metadata": {},
     "output_type": "display_data"
    }
   ],
   "source": [
    "stops = [\"0o\", \"0s\", \"3a\", \"3b\", \"3d\", \"6b\", \"6o\", \"a\", \"a1\", \"a2\", \"a3\", \"a4\", \"ab\", \"able\", \"about\", \"above\", \"abst\", \"ac\", \"accordance\", \"according\", \"accordingly\", \"across\", \"act\", \"actually\", \"ad\", \"added\", \"adj\", \"ae\", \"af\", \"affected\", \"affecting\", \"affects\", \"after\", \"afterwards\", \"ag\", \"again\", \"against\", \"ah\", \"ain\", \"ain't\", \"aj\", \"al\", \"all\", \"allow\", \"allows\", \"almost\", \"alone\", \"along\", \"already\", \"also\", \"although\", \"always\", \"am\", \"among\", \"amongst\", \"amoungst\", \"amount\", \"an\", \"and\", \"announce\", \"another\", \"any\", \"anybody\", \"anyhow\", \"anymore\", \"anyone\", \"anything\", \"anyway\", \"anyways\", \"anywhere\", \"ao\", \"ap\", \"apart\", \"apparently\", \"appear\", \"appreciate\", \"appropriate\", \"approximately\", \"ar\", \"are\", \"aren\", \"arent\", \"aren't\", \"arise\", \"around\", \"as\", \"a's\", \"aside\", \"ask\", \"asking\", \"associated\", \"at\", \"au\", \"auth\", \"av\", \"available\", \"aw\", \"away\", \"awfully\", \"ax\", \"ay\", \"az\", \"b\", \"b1\", \"b2\", \"b3\", \"ba\", \"back\", \"bc\", \"bd\", \"be\", \"became\", \"because\", \"become\", \"becomes\", \"becoming\", \"been\", \"before\", \"beforehand\", \"begin\", \"beginning\", \"beginnings\", \"begins\", \"behind\", \"being\", \"believe\", \"below\", \"beside\", \"besides\", \"best\", \"better\", \"between\", \"beyond\", \"bi\", \"bill\", \"biol\", \"bj\", \"bk\", \"bl\", \"bn\", \"both\", \"bottom\", \"bp\", \"br\", \"brief\", \"briefly\", \"bs\", \"bt\", \"bu\", \"but\", \"bx\", \"by\", \"c\", \"c1\", \"c2\", \"c3\", \"ca\", \"call\", \"came\", \"can\", \"cannot\", \"cant\", \"can't\", \"cause\", \"causes\", \"cc\", \"cd\", \"ce\", \"certain\", \"certainly\", \"cf\", \"cg\", \"ch\", \"changes\", \"ci\", \"cit\", \"cj\", \"cl\", \"clearly\", \"cm\", \"c'mon\", \"cn\", \"co\", \"com\", \"come\", \"comes\", \"con\", \"concerning\", \"consequently\", \"consider\", \"considering\", \"contain\", \"containing\", \"contains\", \"corresponding\", \"could\", \"couldn\", \"couldnt\", \"couldn't\", \"course\", \"cp\", \"cq\", \"cr\", \"cry\", \"cs\", \"c's\", \"ct\", \"cu\", \"currently\", \"cv\", \"cx\", \"cy\", \"cz\", \"d\", \"d2\", \"da\", \"date\", \"dc\", \"dd\", \"de\", \"definitely\", \"describe\", \"described\", \"despite\", \"detail\", \"df\", \"di\", \"did\", \"didn\", \"didn't\", \"different\", \"dj\", \"dk\", \"dl\", \"do\", \"does\", \"doesn\", \"doesn't\", \"doing\", \"don\", \"done\", \"don't\", \"down\", \"downwards\", \"dp\", \"dr\", \"ds\", \"dt\", \"du\", \"due\", \"during\", \"dx\", \"dy\", \"e\", \"e2\", \"e3\", \"ea\", \"each\", \"ec\", \"ed\", \"edu\", \"ee\", \"ef\", \"effect\", \"eg\", \"ei\", \"eight\", \"eighty\", \"either\", \"ej\", \"el\", \"eleven\", \"else\", \"elsewhere\", \"em\", \"empty\", \"en\", \"end\", \"ending\", \"enough\", \"entirely\", \"eo\", \"ep\", \"eq\", \"er\", \"es\", \"especially\", \"est\", \"et\", \"et-al\", \"etc\", \"eu\", \"ev\", \"even\", \"ever\", \"every\", \"everybody\", \"everyone\", \"everything\", \"everywhere\", \"ex\", \"exactly\", \"example\", \"except\", \"ey\", \"f\", \"f2\", \"fa\", \"far\", \"fc\", \"few\", \"ff\", \"fi\", \"fifteen\", \"fifth\", \"fify\", \"fill\", \"find\", \"fire\", \"first\", \"five\", \"fix\", \"fj\", \"fl\", \"fn\", \"fo\", \"followed\", \"following\", \"follows\", \"for\", \"former\", \"formerly\", \"forth\", \"forty\", \"found\", \"four\", \"fr\", \"from\", \"front\", \"fs\", \"ft\", \"fu\", \"full\", \"further\", \"furthermore\", \"fy\", \"g\", \"ga\", \"gave\", \"ge\", \"get\", \"gets\", \"getting\", \"gi\", \"give\", \"given\", \"gives\", \"giving\", \"gj\", \"gl\", \"go\", \"goes\", \"going\", \"gone\", \"got\", \"gotten\", \"gr\", \"greetings\", \"gs\", \"gy\", \"h\", \"h2\", \"h3\", \"had\", \"hadn\", \"hadn't\", \"happens\", \"hardly\", \"has\", \"hasn\", \"hasnt\", \"hasn't\", \"have\", \"haven\", \"haven't\", \"having\", \"he\", \"hed\", \"he'd\", \"he'll\", \"hello\", \"help\", \"hence\", \"her\", \"here\", \"hereafter\", \"hereby\", \"herein\", \"heres\", \"here's\", \"hereupon\", \"hers\", \"herself\", \"hes\", \"he's\", \"hh\", \"hi\", \"hid\", \"him\", \"himself\", \"his\", \"hither\", \"hj\", \"ho\", \"home\", \"hopefully\", \"how\", \"howbeit\", \"however\", \"how's\", \"hr\", \"hs\", \"http\", \"hu\", \"hundred\", \"hy\", \"i\", \"i2\", \"i3\", \"i4\", \"i6\", \"i7\", \"i8\", \"ia\", \"ib\", \"ibid\", \"ic\", \"id\", \"i'd\", \"ie\", \"if\", \"ig\", \"ignored\", \"ih\", \"ii\", \"ij\", \"il\", \"i'll\", \"im\", \"i'm\", \"immediate\", \"immediately\", \"importance\", \"important\", \"in\", \"inasmuch\", \"inc\", \"indeed\", \"index\", \"indicate\", \"indicated\", \"indicates\", \"information\", \"inner\", \"insofar\", \"instead\", \"interest\", \"into\", \"invention\", \"inward\", \"io\", \"ip\", \"iq\", \"ir\", \"is\", \"isn\", \"isn't\", \"it\", \"itd\", \"it'd\", \"it'll\", \"its\", \"it's\", \"itself\", \"iv\", \"i've\", \"ix\", \"iy\", \"iz\", \"j\", \"jj\", \"jr\", \"js\", \"jt\", \"ju\", \"just\", \"k\", \"ke\", \"keep\", \"keeps\", \"kept\", \"kg\", \"kj\", \"km\", \"know\", \"known\", \"knows\", \"ko\", \"l\", \"l2\", \"la\", \"largely\", \"last\", \"lately\", \"later\", \"latter\", \"latterly\", \"lb\", \"lc\", \"le\", \"least\", \"les\", \"less\", \"lest\", \"let\", \"lets\", \"let's\", \"lf\", \"like\", \"liked\", \"likely\", \"line\", \"little\", \"lj\", \"ll\", \"ll\", \"ln\", \"lo\", \"look\", \"looking\", \"looks\", \"los\", \"lr\", \"ls\", \"lt\", \"ltd\", \"m\", \"m2\", \"ma\", \"made\", \"mainly\", \"make\", \"makes\", \"many\", \"may\", \"maybe\", \"me\", \"mean\", \"means\", \"meantime\", \"meanwhile\", \"merely\", \"mg\", \"might\", \"mightn\", \"mightn't\", \"mill\", \"million\", \"mine\", \"miss\", \"ml\", \"mn\", \"mo\", \"more\", \"moreover\", \"most\", \"mostly\", \"move\", \"mr\", \"mrs\", \"ms\", \"mt\", \"mu\", \"much\", \"mug\", \"must\", \"mustn\", \"mustn't\", \"my\", \"myself\", \"n\", \"n2\", \"na\", \"name\", \"namely\", \"nay\", \"nc\", \"nd\", \"ne\", \"near\", \"nearly\", \"necessarily\", \"necessary\", \"need\", \"needn\", \"needn't\", \"needs\", \"neither\", \"never\", \"nevertheless\", \"new\", \"next\", \"ng\", \"ni\", \"nine\", \"ninety\", \"nj\", \"nl\", \"nn\", \"no\", \"nobody\", \"non\", \"none\", \"nonetheless\", \"noone\", \"nor\", \"normally\", \"nos\", \"not\", \"noted\", \"nothing\", \"novel\", \"now\", \"nowhere\", \"nr\", \"ns\", \"nt\", \"ny\", \"o\", \"oa\", \"ob\", \"obtain\", \"obtained\", \"obviously\", \"oc\", \"od\", \"of\", \"off\", \"often\", \"og\", \"oh\", \"oi\", \"oj\", \"ok\", \"okay\", \"ol\", \"old\", \"om\", \"omitted\", \"on\", \"once\", \"one\", \"ones\", \"only\", \"onto\", \"oo\", \"op\", \"oq\", \"or\", \"ord\", \"os\", \"ot\", \"other\", \"others\", \"otherwise\", \"ou\", \"ought\", \"our\", \"ours\", \"ourselves\", \"out\", \"outside\", \"over\", \"overall\", \"ow\", \"owing\", \"own\", \"ox\", \"oz\", \"p\", \"p1\", \"p2\", \"p3\", \"page\", \"pagecount\", \"pages\", \"par\", \"part\", \"particular\", \"particularly\", \"pas\", \"past\", \"pc\", \"pd\", \"pe\", \"per\", \"perhaps\", \"pf\", \"ph\", \"pi\", \"pj\", \"pk\", \"pl\", \"placed\", \"please\", \"plus\", \"pm\", \"pn\", \"po\", \"poorly\", \"possible\", \"possibly\", \"potentially\", \"pp\", \"pq\", \"pr\", \"predominantly\", \"present\", \"presumably\", \"previously\", \"primarily\", \"probably\", \"promptly\", \"proud\", \"provides\", \"ps\", \"pt\", \"pu\", \"put\", \"py\", \"q\", \"qj\", \"qu\", \"que\", \"quickly\", \"quite\", \"qv\", \"r\", \"r2\", \"ra\", \"ran\", \"rather\", \"rc\", \"rd\", \"re\", \"readily\", \"really\", \"reasonably\", \"recent\", \"recently\", \"ref\", \"refs\", \"regarding\", \"regardless\", \"regards\", \"related\", \"relatively\", \"research\", \"research-articl\", \"respectively\", \"resulted\", \"resulting\", \"results\", \"rf\", \"rh\", \"ri\", \"right\", \"rj\", \"rl\", \"rm\", \"rn\", \"ro\", \"rq\", \"rr\", \"rs\", \"rt\", \"ru\", \"run\", \"rv\", \"ry\", \"s\", \"s2\", \"sa\", \"said\", \"same\", \"saw\", \"say\", \"saying\", \"says\", \"sc\", \"sd\", \"se\", \"sec\", \"second\", \"secondly\", \"section\", \"see\", \"seeing\", \"seem\", \"seemed\", \"seeming\", \"seems\", \"seen\", \"self\", \"selves\", \"sensible\", \"sent\", \"serious\", \"seriously\", \"seven\", \"several\", \"sf\", \"shall\", \"shan\", \"shan't\", \"she\", \"shed\", \"she'd\", \"she'll\", \"shes\", \"she's\", \"should\", \"shouldn\", \"shouldn't\", \"should've\", \"show\", \"showed\", \"shown\", \"showns\", \"shows\", \"si\", \"side\", \"significant\", \"significantly\", \"similar\", \"similarly\", \"since\", \"sincere\", \"six\", \"sixty\", \"sj\", \"sl\", \"slightly\", \"sm\", \"sn\", \"so\", \"some\", \"somebody\", \"somehow\", \"someone\", \"somethan\", \"something\", \"sometime\", \"sometimes\", \"somewhat\", \"somewhere\", \"soon\", \"sorry\", \"sp\", \"specifically\", \"specified\", \"specify\", \"specifying\", \"sq\", \"sr\", \"ss\", \"st\", \"still\", \"stop\", \"strongly\", \"sub\", \"substantially\", \"successfully\", \"such\", \"sufficiently\", \"suggest\", \"sup\", \"sure\", \"sy\", \"system\", \"sz\", \"t\", \"t1\", \"t2\", \"t3\", \"take\", \"taken\", \"taking\", \"tb\", \"tc\", \"td\", \"te\", \"tell\", \"ten\", \"tends\", \"tf\", \"th\", \"than\", \"thank\", \"thanks\", \"thanx\", \"that\", \"that'll\", \"thats\", \"that's\", \"that've\", \"the\", \"their\", \"theirs\", \"them\", \"themselves\", \"then\", \"thence\", \"there\", \"thereafter\", \"thereby\", \"thered\", \"therefore\", \"therein\", \"there'll\", \"thereof\", \"therere\", \"theres\", \"there's\", \"thereto\", \"thereupon\", \"there've\", \"these\", \"they\", \"theyd\", \"they'd\", \"they'll\", \"theyre\", \"they're\", \"they've\", \"thickv\", \"thin\", \"think\", \"third\", \"this\", \"thorough\", \"thoroughly\", \"those\", \"thou\", \"though\", \"thoughh\", \"thousand\", \"three\", \"throug\", \"through\", \"throughout\", \"thru\", \"thus\", \"ti\", \"til\", \"tip\", \"tj\", \"tl\", \"tm\", \"tn\", \"to\", \"together\", \"too\", \"took\", \"top\", \"toward\", \"towards\", \"tp\", \"tq\", \"tr\", \"tried\", \"tries\", \"truly\", \"try\", \"trying\", \"ts\", \"t's\", \"tt\", \"tv\", \"twelve\", \"twenty\", \"twice\", \"two\", \"tx\", \"u\", \"u201d\", \"ue\", \"ui\", \"uj\", \"uk\", \"um\", \"un\", \"under\", \"unfortunately\", \"unless\", \"unlike\", \"unlikely\", \"until\", \"unto\", \"uo\", \"up\", \"upon\", \"ups\", \"ur\", \"us\", \"use\", \"used\", \"useful\", \"usefully\", \"usefulness\", \"uses\", \"using\", \"usually\", \"ut\", \"v\", \"va\", \"value\", \"various\", \"vd\", \"ve\", \"ve\", \"very\", \"via\", \"viz\", \"vj\", \"vo\", \"vol\", \"vols\", \"volumtype\", \"vq\", \"vs\", \"vt\", \"vu\", \"w\", \"wa\", \"want\", \"wants\", \"was\", \"wasn\", \"wasnt\", \"wasn't\", \"way\", \"we\", \"wed\", \"we'd\", \"welcome\", \"well\", \"we'll\", \"well-b\", \"went\", \"were\", \"we're\", \"weren\", \"werent\", \"weren't\", \"we've\", \"what\", \"whatever\", \"what'll\", \"whats\", \"what's\", \"when\", \"whence\", \"whenever\", \"when's\", \"where\", \"whereafter\", \"whereas\", \"whereby\", \"wherein\", \"wheres\", \"where's\", \"whereupon\", \"wherever\", \"whether\", \"which\", \"while\", \"whim\", \"whither\", \"who\", \"whod\", \"whoever\", \"whole\", \"who'll\", \"whom\", \"whomever\", \"whos\", \"who's\", \"whose\", \"why\", \"why's\", \"wi\", \"widely\", \"will\", \"willing\", \"wish\", \"with\", \"within\", \"without\", \"wo\", \"won\", \"wonder\", \"wont\", \"won't\", \"words\", \"world\", \"would\", \"wouldn\", \"wouldnt\", \"wouldn't\", \"www\", \"x\", \"x1\", \"x2\", \"x3\", \"xf\", \"xi\", \"xj\", \"xk\", \"xl\", \"xn\", \"xo\", \"xs\", \"xt\", \"xv\", \"xx\", \"y\", \"y2\", \"yes\", \"yet\", \"yj\", \"yl\", \"you\", \"youd\", \"you'd\", \"you'll\", \"your\", \"youre\", \"you're\", \"yours\", \"yourself\", \"yourselves\", \"you've\", \"yr\", \"ys\", \"yt\", \"z\", \"zero\", \"zi\", \"zz\"]"
   ]
  },
  {
   "cell_type": "code",
   "execution_count": 33,
   "id": "31b58487-df1c-42cb-9e4b-06369189eaaf",
   "metadata": {
    "execution": {
     "iopub.execute_input": "2022-04-07T15:02:44.618228Z",
     "iopub.status.busy": "2022-04-07T15:02:44.617993Z",
     "iopub.status.idle": "2022-04-07T15:02:44.901657Z",
     "shell.execute_reply": "2022-04-07T15:02:44.900745Z",
     "shell.execute_reply.started": "2022-04-07T15:02:44.618197Z"
    },
    "tags": []
   },
   "outputs": [
    {
     "data": {
      "application/vnd.jupyter.widget-view+json": {
       "model_id": "f3beb55a723541999f141d09b9362020",
       "version_major": 2,
       "version_minor": 0
      },
      "text/plain": [
       "VBox()"
      ]
     },
     "metadata": {},
     "output_type": "display_data"
    },
    {
     "data": {
      "application/vnd.jupyter.widget-view+json": {
       "model_id": "",
       "version_major": 2,
       "version_minor": 0
      },
      "text/plain": [
       "FloatProgress(value=0.0, bar_style='info', description='Progress:', layout=Layout(height='25px', width='50%'),…"
      ]
     },
     "metadata": {},
     "output_type": "display_data"
    }
   ],
   "source": [
    "stopword_remover = StopWordsRemover(inputCol=\"words\", outputCol=\"filtered\")\\\n",
    "                    .setStopWords(stops)"
   ]
  },
  {
   "cell_type": "markdown",
   "id": "b9f52d51-5f16-411f-becf-7407b862fecf",
   "metadata": {},
   "source": [
    "# Stemming "
   ]
  },
  {
   "cell_type": "code",
   "execution_count": 34,
   "id": "403eb215-a5d7-4b69-897e-faa290aa8fb0",
   "metadata": {
    "execution": {
     "iopub.execute_input": "2022-04-07T15:02:44.903207Z",
     "iopub.status.busy": "2022-04-07T15:02:44.902966Z",
     "iopub.status.idle": "2022-04-07T15:02:44.987170Z",
     "shell.execute_reply": "2022-04-07T15:02:44.986234Z",
     "shell.execute_reply.started": "2022-04-07T15:02:44.903177Z"
    },
    "tags": []
   },
   "outputs": [
    {
     "data": {
      "application/vnd.jupyter.widget-view+json": {
       "model_id": "cc567c08c72949419824d72fd59a2eef",
       "version_major": 2,
       "version_minor": 0
      },
      "text/plain": [
       "VBox()"
      ]
     },
     "metadata": {},
     "output_type": "display_data"
    },
    {
     "data": {
      "application/vnd.jupyter.widget-view+json": {
       "model_id": "",
       "version_major": 2,
       "version_minor": 0
      },
      "text/plain": [
       "FloatProgress(value=0.0, bar_style='info', description='Progress:', layout=Layout(height='25px', width='50%'),…"
      ]
     },
     "metadata": {},
     "output_type": "display_data"
    }
   ],
   "source": [
    "class PorterStemming(Transformer, HasInputCol, HasOutputCol):\n",
    "    \"\"\"\n",
    "    PosterStemming class using the NLTK Porter Stemmer\n",
    "    \n",
    "    This comes from https://stackoverflow.com/questions/32331848/create-a-custom-transformer-in-pyspark-ml\n",
    "    Adapted to work with the Porter Stemmer from NLTK.\n",
    "    \"\"\"\n",
    "    \n",
    "    @keyword_only\n",
    "    def __init__(self, \n",
    "                 inputCol  : str = None, \n",
    "                 outputCol : str = None, \n",
    "                 min_size  : int = None):\n",
    "        \"\"\"\n",
    "        Constructor takes in the input column name, output column name,\n",
    "        plus the minimum legnth of a token (min_size)\n",
    "        \"\"\"\n",
    "        # call Transformer classes constructor since were extending it.\n",
    "        super(Transformer, self).__init__()\n",
    "\n",
    "        # set Parameter objects minimum token size\n",
    "        self.min_size = Param(self, \"min_size\", \"\")\n",
    "        self._setDefault(min_size=0)\n",
    "\n",
    "        # set the input keywork arguments\n",
    "        kwargs = self._input_kwargs\n",
    "        self.setParams(**kwargs)\n",
    "\n",
    "        # initialize Stemmer object\n",
    "        self.stemmer  = PorterStemmer()\n",
    "\n",
    "        \n",
    "    @keyword_only\n",
    "    def setParams(self, \n",
    "                  inputCol  : str = None, \n",
    "                  outputCol : str = None, \n",
    "                  min_size  : int = None\n",
    "      ) -> None:\n",
    "        \"\"\"\n",
    "        Function to set the keyword arguemnts\n",
    "        \"\"\"\n",
    "        kwargs = self._input_kwargs\n",
    "        return self._set(**kwargs)\n",
    "    \n",
    "\n",
    "    def _stem_func(self, words  : list) -> list:\n",
    "        \"\"\"\n",
    "        Stemmer function call that performs stemming on a\n",
    "        list of tokens in words and returns a list of tokens\n",
    "        that have meet the minimum length requiremnt.\n",
    "        \"\"\"\n",
    "        # We need a way to get min_size and cannot access it \n",
    "        # with self.min_size\n",
    "        min_size       = self.getMinSize()\n",
    "\n",
    "        # stem that actual tokens by applying \n",
    "        # self.stemmer.stem function to each token in \n",
    "        # the words list\n",
    "        stemmed_words  = map(self.stemmer.stem, words)\n",
    "\n",
    "        # now create the new list of tokens from\n",
    "        # stemmed_words by filtering out those\n",
    "        # that are not of legnth > min_size\n",
    "        filtered_words = filter(lambda x: len(x) > min_size, stemmed_words)\n",
    "\n",
    "        return list(filtered_words)\n",
    "    \n",
    "    def _transform(self, df: DataFrame) -> DataFrame:\n",
    "        \"\"\"\n",
    "        Transform function is the method that is called in the \n",
    "        MLPipleline.  We have to override this function for our own use\n",
    "        and have it call the _stem_func.\n",
    "\n",
    "        Notice how it takes in a type DataFrame and returns type Dataframe\n",
    "        \"\"\"\n",
    "        # Get the names of the input and output columns to use\n",
    "        out_col       = self.getOutputCol()\n",
    "        in_col        = self.getInputCol()\n",
    "\n",
    "        # create the stemming function UDF by wrapping the stemmer \n",
    "        # method function\n",
    "        stem_func_udf = F.udf(self._stem_func, ArrayType(StringType()))\n",
    "        \n",
    "        # now apply that UDF to the column in the dataframe to return\n",
    "        # a new column that has the same list of words after being stemmed\n",
    "        df2           = df.withColumn(out_col, stem_func_udf(df[in_col]))\n",
    "\n",
    "        return df2\n",
    "  \n",
    "  \n",
    "    def setMinSize(self,value):\n",
    "        \"\"\"\n",
    "        This method sets the minimum size value\n",
    "        for the _paramMap dictionary.\n",
    "        \"\"\"\n",
    "        self._paramMap[self.min_size] = value\n",
    "        return self\n",
    "\n",
    "    def getMinSize(self) -> int:\n",
    "        \"\"\"\n",
    "        This method uses the parent classes (Transformer)\n",
    "        .getOrDefault method to get the minimum\n",
    "        size of a token.\n",
    "        \"\"\"\n",
    "        return self.getOrDefault(self.min_size)"
   ]
  },
  {
   "cell_type": "code",
   "execution_count": 35,
   "id": "2ee59edd-fc27-4fd3-adc1-7eed00721f1c",
   "metadata": {
    "execution": {
     "iopub.execute_input": "2022-04-07T15:02:44.989216Z",
     "iopub.status.busy": "2022-04-07T15:02:44.988889Z",
     "iopub.status.idle": "2022-04-07T15:02:45.060693Z",
     "shell.execute_reply": "2022-04-07T15:02:45.059729Z",
     "shell.execute_reply.started": "2022-04-07T15:02:44.989168Z"
    },
    "tags": []
   },
   "outputs": [
    {
     "data": {
      "application/vnd.jupyter.widget-view+json": {
       "model_id": "eb91c26fed514e16895b0d9f15890870",
       "version_major": 2,
       "version_minor": 0
      },
      "text/plain": [
       "VBox()"
      ]
     },
     "metadata": {},
     "output_type": "display_data"
    },
    {
     "data": {
      "application/vnd.jupyter.widget-view+json": {
       "model_id": "",
       "version_major": 2,
       "version_minor": 0
      },
      "text/plain": [
       "FloatProgress(value=0.0, bar_style='info', description='Progress:', layout=Layout(height='25px', width='50%'),…"
      ]
     },
     "metadata": {},
     "output_type": "display_data"
    }
   ],
   "source": [
    "stem2 = PorterStemming(inputCol=\"filtered\", outputCol=\"stemmed\")"
   ]
  },
  {
   "cell_type": "markdown",
   "id": "54f2cbc3-269b-4d70-b366-fa07f753e1d2",
   "metadata": {},
   "source": [
    "# Count vectorize"
   ]
  },
  {
   "cell_type": "code",
   "execution_count": 36,
   "id": "8ce5ee07-7f38-48fb-a539-f22e8c1c09a6",
   "metadata": {
    "execution": {
     "iopub.execute_input": "2022-04-07T15:02:45.114551Z",
     "iopub.status.busy": "2022-04-07T15:02:45.114312Z",
     "iopub.status.idle": "2022-04-07T15:02:45.194226Z",
     "shell.execute_reply": "2022-04-07T15:02:45.193279Z",
     "shell.execute_reply.started": "2022-04-07T15:02:45.114520Z"
    },
    "tags": []
   },
   "outputs": [
    {
     "data": {
      "application/vnd.jupyter.widget-view+json": {
       "model_id": "ca99f48b2d284d33910cf7d18cf7616f",
       "version_major": 2,
       "version_minor": 0
      },
      "text/plain": [
       "VBox()"
      ]
     },
     "metadata": {},
     "output_type": "display_data"
    },
    {
     "data": {
      "application/vnd.jupyter.widget-view+json": {
       "model_id": "",
       "version_major": 2,
       "version_minor": 0
      },
      "text/plain": [
       "FloatProgress(value=0.0, bar_style='info', description='Progress:', layout=Layout(height='25px', width='50%'),…"
      ]
     },
     "metadata": {},
     "output_type": "display_data"
    }
   ],
   "source": [
    "countVectors = CountVectorizer(inputCol=\"stemmed\", outputCol=\"features\", vocabSize=10000, minDF=5)"
   ]
  },
  {
   "cell_type": "markdown",
   "id": "dd81afc0-91fe-4f19-8cc5-bb4f3b97014c",
   "metadata": {},
   "source": [
    "# Pipeline Stages"
   ]
  },
  {
   "cell_type": "code",
   "execution_count": 37,
   "id": "60bffebe-b73b-48a0-afca-a3c720cd83bb",
   "metadata": {
    "execution": {
     "iopub.execute_input": "2022-04-07T15:02:45.293365Z",
     "iopub.status.busy": "2022-04-07T15:02:45.293095Z",
     "iopub.status.idle": "2022-04-07T15:02:45.378402Z",
     "shell.execute_reply": "2022-04-07T15:02:45.377183Z",
     "shell.execute_reply.started": "2022-04-07T15:02:45.293334Z"
    },
    "tags": []
   },
   "outputs": [
    {
     "data": {
      "application/vnd.jupyter.widget-view+json": {
       "model_id": "eff6da3313c049209056b569cc9da460",
       "version_major": 2,
       "version_minor": 0
      },
      "text/plain": [
       "VBox()"
      ]
     },
     "metadata": {},
     "output_type": "display_data"
    },
    {
     "data": {
      "application/vnd.jupyter.widget-view+json": {
       "model_id": "",
       "version_major": 2,
       "version_minor": 0
      },
      "text/plain": [
       "FloatProgress(value=0.0, bar_style='info', description='Progress:', layout=Layout(height='25px', width='50%'),…"
      ]
     },
     "metadata": {},
     "output_type": "display_data"
    }
   ],
   "source": [
    "pipeline  = Pipeline(stages=[rgtoken,stopword_remover,stem2,countVectors])"
   ]
  },
  {
   "cell_type": "markdown",
   "id": "25973c68-9f11-4b79-ba87-6a9804db0a6f",
   "metadata": {},
   "source": [
    "# Pipeline Fitting"
   ]
  },
  {
   "cell_type": "code",
   "execution_count": 39,
   "id": "37180637-6c2b-47af-89ea-5b97638e3702",
   "metadata": {
    "execution": {
     "iopub.execute_input": "2022-04-07T15:02:45.622040Z",
     "iopub.status.busy": "2022-04-07T15:02:45.621745Z",
     "iopub.status.idle": "2022-04-07T15:09:38.269053Z",
     "shell.execute_reply": "2022-04-07T15:09:38.265559Z",
     "shell.execute_reply.started": "2022-04-07T15:02:45.622007Z"
    },
    "tags": []
   },
   "outputs": [
    {
     "data": {
      "application/vnd.jupyter.widget-view+json": {
       "model_id": "ac16f99df7b04f64a51188dd8e34c380",
       "version_major": 2,
       "version_minor": 0
      },
      "text/plain": [
       "VBox()"
      ]
     },
     "metadata": {},
     "output_type": "display_data"
    },
    {
     "data": {
      "application/vnd.jupyter.widget-view+json": {
       "model_id": "45406c9eb004472cb73d571a24a1563c",
       "version_major": 2,
       "version_minor": 0
      },
      "text/plain": [
       "FloatProgress(value=0.0, bar_style='info', description='Progress:', layout=Layout(height='25px', width='50%'),…"
      ]
     },
     "metadata": {},
     "output_type": "display_data"
    },
    {
     "name": "stderr",
     "output_type": "stream",
     "text": [
      "Interrupted by user\n"
     ]
    }
   ],
   "source": [
    "processed = pipeline.fit(review_df)"
   ]
  },
  {
   "cell_type": "code",
   "execution_count": null,
   "id": "f974daef-5a33-4963-b762-9755b1a31eda",
   "metadata": {
    "execution": {
     "iopub.status.busy": "2022-04-07T15:09:38.270307Z",
     "iopub.status.idle": "2022-04-07T15:09:38.270778Z",
     "shell.execute_reply": "2022-04-07T15:09:38.270543Z"
    },
    "tags": []
   },
   "outputs": [],
   "source": [
    "df_train = processed.transform(review_df)"
   ]
  },
  {
   "cell_type": "code",
   "execution_count": null,
   "id": "72402304-9b14-4411-8633-7054b3145dc2",
   "metadata": {
    "execution": {
     "iopub.status.busy": "2022-04-07T15:09:38.272455Z",
     "iopub.status.idle": "2022-04-07T15:09:38.272962Z",
     "shell.execute_reply": "2022-04-07T15:09:38.272699Z"
    },
    "tags": []
   },
   "outputs": [],
   "source": [
    "df_train.show(10)"
   ]
  },
  {
   "cell_type": "code",
   "execution_count": null,
   "id": "35ceecc9-411f-4147-b84b-28f50e75557c",
   "metadata": {
    "execution": {
     "iopub.status.busy": "2022-04-07T15:09:38.274317Z",
     "iopub.status.idle": "2022-04-07T15:09:38.274784Z",
     "shell.execute_reply": "2022-04-07T15:09:38.274548Z"
    },
    "tags": []
   },
   "outputs": [],
   "source": [
    "df_train1 = df_train.select(\"stemmed\",\"features\")"
   ]
  },
  {
   "cell_type": "code",
   "execution_count": null,
   "id": "03c0a08d-c3d1-4c31-b16a-cbabb4efd2c5",
   "metadata": {
    "execution": {
     "iopub.status.busy": "2022-04-07T15:09:38.275843Z",
     "iopub.status.idle": "2022-04-07T15:09:38.276303Z",
     "shell.execute_reply": "2022-04-07T15:09:38.276068Z"
    },
    "tags": []
   },
   "outputs": [],
   "source": [
    "#df_train.write.parquet(\"s3://mukeshproj/Topic_modelling_pipeline_backup/topic_modelling_parquet_pipeline/shrink_data_piprline_backup\")"
   ]
  },
  {
   "cell_type": "code",
   "execution_count": 1,
   "id": "7d99bff0-ab19-4947-9641-bb89b4414a9f",
   "metadata": {
    "execution": {
     "iopub.execute_input": "2022-04-07T16:06:43.399419Z",
     "iopub.status.busy": "2022-04-07T16:06:43.399110Z",
     "iopub.status.idle": "2022-04-07T16:07:31.745957Z",
     "shell.execute_reply": "2022-04-07T16:07:31.744912Z",
     "shell.execute_reply.started": "2022-04-07T16:06:43.399380Z"
    },
    "tags": []
   },
   "outputs": [
    {
     "data": {
      "application/vnd.jupyter.widget-view+json": {
       "model_id": "f2b71e26f5ab44bc938650034208f609",
       "version_major": 2,
       "version_minor": 0
      },
      "text/plain": [
       "VBox()"
      ]
     },
     "metadata": {},
     "output_type": "display_data"
    },
    {
     "name": "stdout",
     "output_type": "stream",
     "text": [
      "Starting Spark application\n"
     ]
    },
    {
     "data": {
      "text/html": [
       "<table>\n",
       "<tr><th>ID</th><th>YARN Application ID</th><th>Kind</th><th>State</th><th>Spark UI</th><th>Driver log</th><th>User</th><th>Current session?</th></tr><tr><td>0</td><td>application_1649346763510_0002</td><td>pyspark</td><td>idle</td><td><a target=\"_blank\" href=\"http://ip-172-31-48-94.ec2.internal:20888/proxy/application_1649346763510_0002/\" class=\"emr-proxy-link\" emr-resource=\"j-E90MUGY1TRTD\n",
       "\" application-id=\"application_1649346763510_0002\">Link</a></td><td><a target=\"_blank\" href=\"http://ip-172-31-48-141.ec2.internal:8042/node/containerlogs/container_1649346763510_0002_01_000001/livy\" >Link</a></td><td>None</td><td>✔</td></tr></table>"
      ],
      "text/plain": [
       "<IPython.core.display.HTML object>"
      ]
     },
     "metadata": {},
     "output_type": "display_data"
    },
    {
     "data": {
      "application/vnd.jupyter.widget-view+json": {
       "model_id": "",
       "version_major": 2,
       "version_minor": 0
      },
      "text/plain": [
       "FloatProgress(value=0.0, bar_style='info', description='Progress:', layout=Layout(height='25px', width='50%'),…"
      ]
     },
     "metadata": {},
     "output_type": "display_data"
    },
    {
     "name": "stdout",
     "output_type": "stream",
     "text": [
      "SparkSession available as 'spark'.\n"
     ]
    },
    {
     "data": {
      "application/vnd.jupyter.widget-view+json": {
       "model_id": "",
       "version_major": 2,
       "version_minor": 0
      },
      "text/plain": [
       "FloatProgress(value=0.0, bar_style='info', description='Progress:', layout=Layout(height='25px', width='50%'),…"
      ]
     },
     "metadata": {},
     "output_type": "display_data"
    }
   ],
   "source": [
    "df_train= spark.read.parquet(\"s3://mukeshproj/Topic_modelling_pipeline_backup/topic_modelling_parquet_pipeline/shrink_data_piprline_backup\")"
   ]
  },
  {
   "cell_type": "code",
   "execution_count": 53,
   "id": "eaee4130-cfdb-47f7-b270-ee3adf72e2b5",
   "metadata": {
    "execution": {
     "iopub.execute_input": "2022-04-07T15:12:44.291580Z",
     "iopub.status.busy": "2022-04-07T15:12:44.291303Z",
     "iopub.status.idle": "2022-04-07T15:12:47.606708Z",
     "shell.execute_reply": "2022-04-07T15:12:47.605603Z",
     "shell.execute_reply.started": "2022-04-07T15:12:44.291546Z"
    },
    "tags": []
   },
   "outputs": [
    {
     "data": {
      "application/vnd.jupyter.widget-view+json": {
       "model_id": "cb294e6f60bc4392a157de3924d35ca6",
       "version_major": 2,
       "version_minor": 0
      },
      "text/plain": [
       "VBox()"
      ]
     },
     "metadata": {},
     "output_type": "display_data"
    },
    {
     "data": {
      "application/vnd.jupyter.widget-view+json": {
       "model_id": "",
       "version_major": 2,
       "version_minor": 0
      },
      "text/plain": [
       "FloatProgress(value=0.0, bar_style='info', description='Progress:', layout=Layout(height='25px', width='50%'),…"
      ]
     },
     "metadata": {},
     "output_type": "display_data"
    },
    {
     "name": "stdout",
     "output_type": "stream",
     "text": [
      "+--------------------+-----+--------------------+--------------------+--------------------+--------------------+\n",
      "|                text|label|               words|            filtered|             stemmed|            features|\n",
      "+--------------------+-----+--------------------+--------------------+--------------------+--------------------+\n",
      "|What a great find...|    0|[what, a, great, ...|[great, piece, po...|[great, piec, por...|(10000,[0,1,5,6,1...|\n",
      "|The only reason I...|    0|[the, only, reaso...|[reason, stars, s...|[reason, star, st...|(10000,[1,7,11,13...|\n",
      "|It s fun that it ...|    0|[it, s, fun, that...|[fun, water, grea...|[fun, water, grea...|(10000,[0,2,6,7,1...|\n",
      "|I ve been to Smit...|    0|[i, ve, been, to,...|[smith, couple, t...|[smith, coupl, ti...|(10000,[0,1,3,4,5...|\n",
      "|We do love the fo...|    0|[we, do, love, th...|[love, food, remi...|[love, food, remi...|(10000,[0,11,16,4...|\n",
      "+--------------------+-----+--------------------+--------------------+--------------------+--------------------+\n",
      "only showing top 5 rows"
     ]
    }
   ],
   "source": [
    "df_train.show(5)"
   ]
  },
  {
   "cell_type": "code",
   "execution_count": 14,
   "id": "1b8b0077-0a45-4850-8484-fc130955c589",
   "metadata": {
    "execution": {
     "iopub.execute_input": "2022-04-07T16:09:10.710549Z",
     "iopub.status.busy": "2022-04-07T16:09:10.710250Z",
     "iopub.status.idle": "2022-04-07T16:09:11.002788Z",
     "shell.execute_reply": "2022-04-07T16:09:11.001812Z",
     "shell.execute_reply.started": "2022-04-07T16:09:10.710515Z"
    },
    "tags": []
   },
   "outputs": [
    {
     "data": {
      "application/vnd.jupyter.widget-view+json": {
       "model_id": "972599a6ad014e2ab13f2e6a85855cc7",
       "version_major": 2,
       "version_minor": 0
      },
      "text/plain": [
       "VBox()"
      ]
     },
     "metadata": {},
     "output_type": "display_data"
    },
    {
     "data": {
      "application/vnd.jupyter.widget-view+json": {
       "model_id": "",
       "version_major": 2,
       "version_minor": 0
      },
      "text/plain": [
       "FloatProgress(value=0.0, bar_style='info', description='Progress:', layout=Layout(height='25px', width='50%'),…"
      ]
     },
     "metadata": {},
     "output_type": "display_data"
    }
   ],
   "source": [
    "cv = CountVectorizer(inputCol=\"stemmed\", outputCol=\"features1\", vocabSize=10000, minDF=3.0)"
   ]
  },
  {
   "cell_type": "code",
   "execution_count": 15,
   "id": "e2d03493-d485-4897-bd99-07a66e3eed43",
   "metadata": {
    "execution": {
     "iopub.execute_input": "2022-04-07T16:09:11.792014Z",
     "iopub.status.busy": "2022-04-07T16:09:11.791751Z",
     "iopub.status.idle": "2022-04-07T16:09:41.257135Z",
     "shell.execute_reply": "2022-04-07T16:09:41.256217Z",
     "shell.execute_reply.started": "2022-04-07T16:09:11.791982Z"
    },
    "tags": []
   },
   "outputs": [
    {
     "data": {
      "application/vnd.jupyter.widget-view+json": {
       "model_id": "ff168bdb082948e2bddc895af982ae3b",
       "version_major": 2,
       "version_minor": 0
      },
      "text/plain": [
       "VBox()"
      ]
     },
     "metadata": {},
     "output_type": "display_data"
    },
    {
     "data": {
      "application/vnd.jupyter.widget-view+json": {
       "model_id": "",
       "version_major": 2,
       "version_minor": 0
      },
      "text/plain": [
       "FloatProgress(value=0.0, bar_style='info', description='Progress:', layout=Layout(height='25px', width='50%'),…"
      ]
     },
     "metadata": {},
     "output_type": "display_data"
    }
   ],
   "source": [
    "cv_model = cv.fit(df_train)"
   ]
  },
  {
   "cell_type": "code",
   "execution_count": 16,
   "id": "4678ee40-3790-4ed4-bf17-41fe8ab01722",
   "metadata": {
    "execution": {
     "iopub.execute_input": "2022-04-07T16:09:57.680102Z",
     "iopub.status.busy": "2022-04-07T16:09:57.679821Z",
     "iopub.status.idle": "2022-04-07T16:09:57.975659Z",
     "shell.execute_reply": "2022-04-07T16:09:57.974755Z",
     "shell.execute_reply.started": "2022-04-07T16:09:57.680059Z"
    },
    "tags": []
   },
   "outputs": [
    {
     "data": {
      "application/vnd.jupyter.widget-view+json": {
       "model_id": "2a8ba0e488ac4cdc821341c90c41650d",
       "version_major": 2,
       "version_minor": 0
      },
      "text/plain": [
       "VBox()"
      ]
     },
     "metadata": {},
     "output_type": "display_data"
    },
    {
     "data": {
      "application/vnd.jupyter.widget-view+json": {
       "model_id": "",
       "version_major": 2,
       "version_minor": 0
      },
      "text/plain": [
       "FloatProgress(value=0.0, bar_style='info', description='Progress:', layout=Layout(height='25px', width='50%'),…"
      ]
     },
     "metadata": {},
     "output_type": "display_data"
    }
   ],
   "source": [
    "vectorized_tokens = df_train.select(\"stemmed\",\"features\")"
   ]
  },
  {
   "cell_type": "code",
   "execution_count": 17,
   "id": "5039ca7a-2307-4505-b5b3-cc91b8ae074d",
   "metadata": {
    "execution": {
     "iopub.execute_input": "2022-04-07T16:09:58.799608Z",
     "iopub.status.busy": "2022-04-07T16:09:58.799310Z",
     "iopub.status.idle": "2022-04-07T16:09:58.913130Z",
     "shell.execute_reply": "2022-04-07T16:09:58.912212Z",
     "shell.execute_reply.started": "2022-04-07T16:09:58.799551Z"
    },
    "tags": []
   },
   "outputs": [
    {
     "data": {
      "application/vnd.jupyter.widget-view+json": {
       "model_id": "d01d39c9ae4b44a098a7e96d62cbde68",
       "version_major": 2,
       "version_minor": 0
      },
      "text/plain": [
       "VBox()"
      ]
     },
     "metadata": {},
     "output_type": "display_data"
    },
    {
     "data": {
      "application/vnd.jupyter.widget-view+json": {
       "model_id": "",
       "version_major": 2,
       "version_minor": 0
      },
      "text/plain": [
       "FloatProgress(value=0.0, bar_style='info', description='Progress:', layout=Layout(height='25px', width='50%'),…"
      ]
     },
     "metadata": {},
     "output_type": "display_data"
    },
    {
     "name": "stdout",
     "output_type": "stream",
     "text": [
      "<class 'pyspark.sql.dataframe.DataFrame'>"
     ]
    }
   ],
   "source": [
    "type(vectorized_tokens)"
   ]
  },
  {
   "cell_type": "code",
   "execution_count": 18,
   "id": "bd1330ef-4cdd-4bf9-8a41-1af6b5605877",
   "metadata": {
    "execution": {
     "iopub.execute_input": "2022-04-07T16:09:59.603841Z",
     "iopub.status.busy": "2022-04-07T16:09:59.603385Z",
     "iopub.status.idle": "2022-04-07T16:10:01.957331Z",
     "shell.execute_reply": "2022-04-07T16:10:01.956031Z",
     "shell.execute_reply.started": "2022-04-07T16:09:59.603782Z"
    },
    "tags": []
   },
   "outputs": [
    {
     "data": {
      "application/vnd.jupyter.widget-view+json": {
       "model_id": "925de6e4547d45c4bd508447ea01a3c4",
       "version_major": 2,
       "version_minor": 0
      },
      "text/plain": [
       "VBox()"
      ]
     },
     "metadata": {},
     "output_type": "display_data"
    },
    {
     "data": {
      "application/vnd.jupyter.widget-view+json": {
       "model_id": "",
       "version_major": 2,
       "version_minor": 0
      },
      "text/plain": [
       "FloatProgress(value=0.0, bar_style='info', description='Progress:', layout=Layout(height='25px', width='50%'),…"
      ]
     },
     "metadata": {},
     "output_type": "display_data"
    },
    {
     "name": "stdout",
     "output_type": "stream",
     "text": [
      "+--------------------+--------------------+\n",
      "|             stemmed|            features|\n",
      "+--------------------+--------------------+\n",
      "|[great, piec, por...|(10000,[0,1,5,6,1...|\n",
      "|[reason, star, st...|(10000,[1,7,11,13...|\n",
      "|[fun, water, grea...|(10000,[0,2,6,7,1...|\n",
      "|[smith, coupl, ti...|(10000,[0,1,3,4,5...|\n",
      "|[love, food, remi...|(10000,[0,11,16,4...|\n",
      "+--------------------+--------------------+\n",
      "only showing top 5 rows"
     ]
    }
   ],
   "source": [
    "vectorized_tokens.show(5)"
   ]
  },
  {
   "cell_type": "code",
   "execution_count": 19,
   "id": "0e583d75-fd5a-4142-8e7b-e266c000d618",
   "metadata": {
    "execution": {
     "iopub.execute_input": "2022-04-07T16:10:01.959762Z",
     "iopub.status.busy": "2022-04-07T16:10:01.959145Z",
     "iopub.status.idle": "2022-04-07T16:10:02.527888Z",
     "shell.execute_reply": "2022-04-07T16:10:02.526948Z",
     "shell.execute_reply.started": "2022-04-07T16:10:01.959710Z"
    },
    "tags": []
   },
   "outputs": [
    {
     "data": {
      "application/vnd.jupyter.widget-view+json": {
       "model_id": "45a4325c7a8c4c85b7d189c201cabc8f",
       "version_major": 2,
       "version_minor": 0
      },
      "text/plain": [
       "VBox()"
      ]
     },
     "metadata": {},
     "output_type": "display_data"
    },
    {
     "data": {
      "application/vnd.jupyter.widget-view+json": {
       "model_id": "",
       "version_major": 2,
       "version_minor": 0
      },
      "text/plain": [
       "FloatProgress(value=0.0, bar_style='info', description='Progress:', layout=Layout(height='25px', width='50%'),…"
      ]
     },
     "metadata": {},
     "output_type": "display_data"
    },
    {
     "name": "stdout",
     "output_type": "stream",
     "text": [
      "27"
     ]
    }
   ],
   "source": [
    "vectorized_tokens.rdd.getNumPartitions()"
   ]
  },
  {
   "cell_type": "code",
   "execution_count": 20,
   "id": "2851b831-cffd-4332-b07e-a03c5bea6fe4",
   "metadata": {
    "execution": {
     "iopub.execute_input": "2022-04-07T16:10:02.529674Z",
     "iopub.status.busy": "2022-04-07T16:10:02.529442Z",
     "iopub.status.idle": "2022-04-07T16:10:02.834440Z",
     "shell.execute_reply": "2022-04-07T16:10:02.833326Z",
     "shell.execute_reply.started": "2022-04-07T16:10:02.529642Z"
    },
    "tags": []
   },
   "outputs": [
    {
     "data": {
      "application/vnd.jupyter.widget-view+json": {
       "model_id": "5cc2c856135c440aa525e816f8ff73e8",
       "version_major": 2,
       "version_minor": 0
      },
      "text/plain": [
       "VBox()"
      ]
     },
     "metadata": {},
     "output_type": "display_data"
    },
    {
     "data": {
      "application/vnd.jupyter.widget-view+json": {
       "model_id": "",
       "version_major": 2,
       "version_minor": 0
      },
      "text/plain": [
       "FloatProgress(value=0.0, bar_style='info', description='Progress:', layout=Layout(height='25px', width='50%'),…"
      ]
     },
     "metadata": {},
     "output_type": "display_data"
    }
   ],
   "source": [
    "vectorized_tokens=vectorized_tokens.cache()"
   ]
  },
  {
   "cell_type": "code",
   "execution_count": 21,
   "id": "18206584-de20-4efd-a856-f1c05ae23c36",
   "metadata": {
    "execution": {
     "iopub.execute_input": "2022-04-07T16:10:02.836171Z",
     "iopub.status.busy": "2022-04-07T16:10:02.835947Z",
     "iopub.status.idle": "2022-04-07T16:10:02.943965Z",
     "shell.execute_reply": "2022-04-07T16:10:02.942850Z",
     "shell.execute_reply.started": "2022-04-07T16:10:02.836140Z"
    },
    "tags": []
   },
   "outputs": [
    {
     "data": {
      "application/vnd.jupyter.widget-view+json": {
       "model_id": "ee318b8cbc484874953570ada4cea0fb",
       "version_major": 2,
       "version_minor": 0
      },
      "text/plain": [
       "VBox()"
      ]
     },
     "metadata": {},
     "output_type": "display_data"
    },
    {
     "data": {
      "application/vnd.jupyter.widget-view+json": {
       "model_id": "",
       "version_major": 2,
       "version_minor": 0
      },
      "text/plain": [
       "FloatProgress(value=0.0, bar_style='info', description='Progress:', layout=Layout(height='25px', width='50%'),…"
      ]
     },
     "metadata": {},
     "output_type": "display_data"
    }
   ],
   "source": [
    "vectorized_tokens=vectorized_tokens.repartition(20000)"
   ]
  },
  {
   "cell_type": "markdown",
   "id": "3feb3fc0-af36-4191-b244-8a22e11dea14",
   "metadata": {},
   "source": [
    "# LDA MODEL"
   ]
  },
  {
   "cell_type": "code",
   "execution_count": 22,
   "id": "c1ab1480-5187-44a4-8e2a-1841dbea4e5d",
   "metadata": {
    "execution": {
     "iopub.execute_input": "2022-04-07T16:10:02.946225Z",
     "iopub.status.busy": "2022-04-07T16:10:02.945624Z",
     "iopub.status.idle": "2022-04-07T16:10:03.253185Z",
     "shell.execute_reply": "2022-04-07T16:10:03.252299Z",
     "shell.execute_reply.started": "2022-04-07T16:10:02.946171Z"
    },
    "tags": []
   },
   "outputs": [
    {
     "data": {
      "application/vnd.jupyter.widget-view+json": {
       "model_id": "be83017cb68d4c3aa0e00557f90939e9",
       "version_major": 2,
       "version_minor": 0
      },
      "text/plain": [
       "VBox()"
      ]
     },
     "metadata": {},
     "output_type": "display_data"
    },
    {
     "data": {
      "application/vnd.jupyter.widget-view+json": {
       "model_id": "",
       "version_major": 2,
       "version_minor": 0
      },
      "text/plain": [
       "FloatProgress(value=0.0, bar_style='info', description='Progress:', layout=Layout(height='25px', width='50%'),…"
      ]
     },
     "metadata": {},
     "output_type": "display_data"
    }
   ],
   "source": [
    "from pyspark.ml.clustering import LDA\n",
    "num_topics = 10\n",
    "lda = LDA(k=num_topics, maxIter=5,checkpointInterval = 1,learningDecay=0.1,optimizer='online')"
   ]
  },
  {
   "cell_type": "code",
   "execution_count": 23,
   "id": "4264a621-e576-411a-a97c-9db2eaad3e0f",
   "metadata": {
    "execution": {
     "iopub.execute_input": "2022-04-07T16:10:03.254707Z",
     "iopub.status.busy": "2022-04-07T16:10:03.254443Z",
     "iopub.status.idle": "2022-04-07T16:14:59.599801Z",
     "shell.execute_reply": "2022-04-07T16:14:59.598651Z",
     "shell.execute_reply.started": "2022-04-07T16:10:03.254664Z"
    },
    "tags": []
   },
   "outputs": [
    {
     "data": {
      "application/vnd.jupyter.widget-view+json": {
       "model_id": "ca18af87a6ae438987eccb035b5d442d",
       "version_major": 2,
       "version_minor": 0
      },
      "text/plain": [
       "VBox()"
      ]
     },
     "metadata": {},
     "output_type": "display_data"
    },
    {
     "data": {
      "application/vnd.jupyter.widget-view+json": {
       "model_id": "",
       "version_major": 2,
       "version_minor": 0
      },
      "text/plain": [
       "FloatProgress(value=0.0, bar_style='info', description='Progress:', layout=Layout(height='25px', width='50%'),…"
      ]
     },
     "metadata": {},
     "output_type": "display_data"
    }
   ],
   "source": [
    "model = lda.fit(vectorized_tokens)"
   ]
  },
  {
   "cell_type": "code",
   "execution_count": 24,
   "id": "ca1582d5-6c28-43c4-aa08-4e1e8199bfc5",
   "metadata": {
    "execution": {
     "iopub.execute_input": "2022-04-07T16:14:59.601681Z",
     "iopub.status.busy": "2022-04-07T16:14:59.601320Z",
     "iopub.status.idle": "2022-04-07T16:14:59.736966Z",
     "shell.execute_reply": "2022-04-07T16:14:59.736026Z",
     "shell.execute_reply.started": "2022-04-07T16:14:59.601631Z"
    },
    "tags": []
   },
   "outputs": [
    {
     "data": {
      "application/vnd.jupyter.widget-view+json": {
       "model_id": "350b2bd78bb1421a9c6e407cc62496f4",
       "version_major": 2,
       "version_minor": 0
      },
      "text/plain": [
       "VBox()"
      ]
     },
     "metadata": {},
     "output_type": "display_data"
    },
    {
     "data": {
      "application/vnd.jupyter.widget-view+json": {
       "model_id": "",
       "version_major": 2,
       "version_minor": 0
      },
      "text/plain": [
       "FloatProgress(value=0.0, bar_style='info', description='Progress:', layout=Layout(height='25px', width='50%'),…"
      ]
     },
     "metadata": {},
     "output_type": "display_data"
    }
   ],
   "source": [
    "# ll = model.logLikelihood(vectorized_tokens)\n",
    "# lp = model.logPerplexity(vectorized_tokens)\n",
    "# print(\"The lower bound on the log likelihood of the entire corpus: \" + str(ll))\n",
    "# print(\"The upper bound on perplexity: \" + str(lp))"
   ]
  },
  {
   "cell_type": "code",
   "execution_count": 25,
   "id": "3ad5603c-5806-49ef-93ea-e5e6f149ab5c",
   "metadata": {
    "execution": {
     "iopub.execute_input": "2022-04-07T16:14:59.748389Z",
     "iopub.status.busy": "2022-04-07T16:14:59.747695Z",
     "iopub.status.idle": "2022-04-07T16:14:59.892984Z",
     "shell.execute_reply": "2022-04-07T16:14:59.891813Z",
     "shell.execute_reply.started": "2022-04-07T16:14:59.748333Z"
    },
    "tags": []
   },
   "outputs": [
    {
     "data": {
      "application/vnd.jupyter.widget-view+json": {
       "model_id": "eed0881836434eb285b9b023e1fb503a",
       "version_major": 2,
       "version_minor": 0
      },
      "text/plain": [
       "VBox()"
      ]
     },
     "metadata": {},
     "output_type": "display_data"
    },
    {
     "data": {
      "application/vnd.jupyter.widget-view+json": {
       "model_id": "",
       "version_major": 2,
       "version_minor": 0
      },
      "text/plain": [
       "FloatProgress(value=0.0, bar_style='info', description='Progress:', layout=Layout(height='25px', width='50%'),…"
      ]
     },
     "metadata": {},
     "output_type": "display_data"
    }
   ],
   "source": [
    "#model.save(\"s3://ttbuckets/lda_model1/\")"
   ]
  },
  {
   "cell_type": "code",
   "execution_count": 26,
   "id": "7d24ca1a-0dc8-4aba-b016-4139499928e7",
   "metadata": {
    "execution": {
     "iopub.execute_input": "2022-04-07T16:14:59.895973Z",
     "iopub.status.busy": "2022-04-07T16:14:59.895433Z",
     "iopub.status.idle": "2022-04-07T16:15:00.009216Z",
     "shell.execute_reply": "2022-04-07T16:15:00.008227Z",
     "shell.execute_reply.started": "2022-04-07T16:14:59.895916Z"
    },
    "tags": []
   },
   "outputs": [
    {
     "data": {
      "application/vnd.jupyter.widget-view+json": {
       "model_id": "1911d81fc9e844a0bbf742a973c2e98b",
       "version_major": 2,
       "version_minor": 0
      },
      "text/plain": [
       "VBox()"
      ]
     },
     "metadata": {},
     "output_type": "display_data"
    },
    {
     "data": {
      "application/vnd.jupyter.widget-view+json": {
       "model_id": "",
       "version_major": 2,
       "version_minor": 0
      },
      "text/plain": [
       "FloatProgress(value=0.0, bar_style='info', description='Progress:', layout=Layout(height='25px', width='50%'),…"
      ]
     },
     "metadata": {},
     "output_type": "display_data"
    }
   ],
   "source": [
    "#lda=PipelineModel.load(\"hdfs:///lda_model/\")"
   ]
  },
  {
   "cell_type": "code",
   "execution_count": 27,
   "id": "d5f86246-7a2f-41c2-9bfe-45c3f0098a03",
   "metadata": {
    "execution": {
     "iopub.execute_input": "2022-04-07T16:15:00.011192Z",
     "iopub.status.busy": "2022-04-07T16:15:00.010843Z",
     "iopub.status.idle": "2022-04-07T16:15:15.868228Z",
     "shell.execute_reply": "2022-04-07T16:15:15.867026Z",
     "shell.execute_reply.started": "2022-04-07T16:15:00.011140Z"
    },
    "tags": []
   },
   "outputs": [
    {
     "data": {
      "application/vnd.jupyter.widget-view+json": {
       "model_id": "46a5d99f8ed840c7980ff2c8c828c86d",
       "version_major": 2,
       "version_minor": 0
      },
      "text/plain": [
       "VBox()"
      ]
     },
     "metadata": {},
     "output_type": "display_data"
    },
    {
     "data": {
      "application/vnd.jupyter.widget-view+json": {
       "model_id": "",
       "version_major": 2,
       "version_minor": 0
      },
      "text/plain": [
       "FloatProgress(value=0.0, bar_style='info', description='Progress:', layout=Layout(height='25px', width='50%'),…"
      ]
     },
     "metadata": {},
     "output_type": "display_data"
    },
    {
     "name": "stdout",
     "output_type": "stream",
     "text": [
      "topic: 0\n",
      "*************************\n",
      "pizza order good place time chees great dog love sandwich \n",
      "\n",
      "*************************\n",
      "topic: 1\n",
      "*************************\n",
      "food place good time servic order bar drink great peopl \n",
      "\n",
      "*************************\n",
      "topic: 2\n",
      "*************************\n",
      "food good place great servic restaur roll order sushi dish \n",
      "\n",
      "*************************\n",
      "topic: 3\n",
      "*************************\n",
      "good order chicken food fri place salad sauc tast great \n",
      "\n",
      "*************************\n",
      "topic: 4\n",
      "*************************\n",
      "place good food great coffe love flavor delici time tast \n",
      "\n",
      "*************************\n",
      "topic: 5\n",
      "*************************\n",
      "time servic told custom place work day ask nail peopl \n",
      "\n",
      "*************************\n",
      "topic: 6\n",
      "*************************\n",
      "room hotel stay clean time place locat nice walk park \n",
      "\n",
      "*************************\n",
      "topic: 7\n",
      "*************************\n",
      "place great time good park peopl price love work store \n",
      "\n",
      "*************************\n",
      "topic: 8\n",
      "*************************\n",
      "car time servic call work day custom hair told appoint \n",
      "\n",
      "*************************\n",
      "topic: 9\n",
      "*************************\n",
      "food order tabl wait time servic drink minut restaur server \n",
      "\n",
      "*************************"
     ]
    }
   ],
   "source": [
    "# extract vocabulary from CountVectorizer\n",
    "vocab = cv_model.vocabulary\n",
    "topics = model.describeTopics()   \n",
    "topics_rdd = topics.rdd\n",
    "topics_words = topics_rdd\\\n",
    "       .map(lambda row: row['termIndices'])\\\n",
    "       .map(lambda idx_list: [vocab[idx] for idx in idx_list])\\\n",
    "       .collect()\n",
    "for idx, topic in enumerate(topics_words):\n",
    "    print(\"topic: {}\".format(idx))\n",
    "    print(\"*\"*25)\n",
    "    for word in topic:\n",
    "       print(word,end=\" \")\n",
    "    print(\"\\n\")\n",
    "    print(\"*\"*25)"
   ]
  },
  {
   "cell_type": "code",
   "execution_count": 36,
   "id": "c43404df-98db-4fb9-b725-c54f60a5d344",
   "metadata": {
    "execution": {
     "iopub.execute_input": "2022-04-07T16:15:50.565446Z",
     "iopub.status.busy": "2022-04-07T16:15:50.565128Z",
     "iopub.status.idle": "2022-04-07T16:15:50.847121Z",
     "shell.execute_reply": "2022-04-07T16:15:50.846008Z",
     "shell.execute_reply.started": "2022-04-07T16:15:50.565412Z"
    },
    "tags": []
   },
   "outputs": [
    {
     "data": {
      "application/vnd.jupyter.widget-view+json": {
       "model_id": "694e0ad97ad04124863e99daf35a7550",
       "version_major": 2,
       "version_minor": 0
      },
      "text/plain": [
       "VBox()"
      ]
     },
     "metadata": {},
     "output_type": "display_data"
    },
    {
     "data": {
      "application/vnd.jupyter.widget-view+json": {
       "model_id": "",
       "version_major": 2,
       "version_minor": 0
      },
      "text/plain": [
       "FloatProgress(value=0.0, bar_style='info', description='Progress:', layout=Layout(height='25px', width='50%'),…"
      ]
     },
     "metadata": {},
     "output_type": "display_data"
    }
   ],
   "source": [
    "topics_words = topics_rdd\\\n",
    "       .map(lambda row: row['termIndices'])\\\n",
    "       .map(lambda idx_list: [vocab[idx] for idx in idx_list])\\\n",
    "       .collect()"
   ]
  },
  {
   "cell_type": "markdown",
   "id": "08759f3a-9906-416f-8e0d-202c4864d05d",
   "metadata": {},
   "source": [
    "# Visualization"
   ]
  },
  {
   "cell_type": "code",
   "execution_count": 149,
   "id": "679227b7-d30d-4e26-8acf-23891febf3c4",
   "metadata": {
    "execution": {
     "iopub.execute_input": "2022-04-07T17:03:30.231861Z",
     "iopub.status.busy": "2022-04-07T17:03:30.231559Z",
     "iopub.status.idle": "2022-04-07T17:03:30.548262Z",
     "shell.execute_reply": "2022-04-07T17:03:30.547062Z",
     "shell.execute_reply.started": "2022-04-07T17:03:30.231807Z"
    }
   },
   "outputs": [
    {
     "data": {
      "application/vnd.jupyter.widget-view+json": {
       "model_id": "1da160ba3168406f9d483df3240dc43b",
       "version_major": 2,
       "version_minor": 0
      },
      "text/plain": [
       "VBox()"
      ]
     },
     "metadata": {},
     "output_type": "display_data"
    },
    {
     "data": {
      "application/vnd.jupyter.widget-view+json": {
       "model_id": "",
       "version_major": 2,
       "version_minor": 0
      },
      "text/plain": [
       "FloatProgress(value=0.0, bar_style='info', description='Progress:', layout=Layout(height='25px', width='50%'),…"
      ]
     },
     "metadata": {},
     "output_type": "display_data"
    },
    {
     "name": "stdout",
     "output_type": "stream",
     "text": [
      "The topics describe by their top-weighted terms:\n",
      "+-----+------------------------------------------------------------------------------+----------------------------------------------------------------------------------------------------------------------------------------------------------------------------------------------------------------------------------------------------------------------------------------------------------------------------------------------------------------------------------------------------------------------------------------------------------+\n",
      "|topic|termIndices                                                                   |termWeights                                                                                                                                                                                                                                                                                                                                                                                                                                               |\n",
      "+-----+------------------------------------------------------------------------------+----------------------------------------------------------------------------------------------------------------------------------------------------------------------------------------------------------------------------------------------------------------------------------------------------------------------------------------------------------------------------------------------------------------------------------------------------------+\n",
      "|0    |[47, 4, 1, 2, 3, 59, 6, 202, 11, 84, 0, 70, 239, 7, 164, 318, 20, 21, 154, 26]|[0.027555948101487746, 0.017321301639663014, 0.015103289982246903, 0.013986936775919522, 0.012256531127210556, 0.009653376304421547, 0.007912765126335916, 0.007718638111385999, 0.007054488419285881, 0.006847335086386271, 0.0065156249637059694, 0.0057068255502581225, 0.005145406533346006, 0.005109908123907574, 0.0049775650648686285, 0.0049676538465938756, 0.004486526638376235, 0.004466741435194613, 0.0042832947645776, 0.004217609102242646]|\n",
      "|1    |[0, 2, 1, 3, 5, 4, 32, 14, 6, 13, 41, 9, 8, 26, 23, 28, 25, 39, 36, 19]       |[0.03456333471541104, 0.02736300912889119, 0.020564300124364, 0.01854676475010111, 0.015412514682185968, 0.011131768417892445, 0.010446766021040629, 0.009986240055814138, 0.009032460075257789, 0.007590587705676412, 0.006986904587366604, 0.006787716500194815, 0.00654429467141081, 0.006503289668122066, 0.006274089946552105, 0.006067880071020108, 0.005650452529006427, 0.005555500773413693, 0.005007443210760632, 0.004909943586341842]         |\n",
      "|2    |[0, 1, 2, 6, 5, 8, 107, 4, 152, 48, 10, 235, 3, 24, 111, 21, 140, 309, 43, 9] |[0.02781493474857691, 0.018485845226158735, 0.01765229781730129, 0.016358916322378434, 0.01372494668006383, 0.01171792527667371, 0.011383862331106167, 0.011062762154758243, 0.010888907357203282, 0.01000181530665893, 0.008962080393905966, 0.007575442378558252, 0.006944359097945655, 0.006726065281308434, 0.006641718767964523, 0.006515430405165069, 0.006244609605308193, 0.005922178803290383, 0.005655900382154238, 0.005447744321888378]       |\n",
      "|3    |[1, 4, 16, 0, 27, 2, 67, 43, 21, 6, 5, 59, 8, 24, 3, 54, 42, 9, 48, 26]       |[0.02078031647780203, 0.018796844405270376, 0.017671326428508296, 0.01664831729650161, 0.013013961912430642, 0.009730940326132627, 0.00906420744776603, 0.008064853427198636, 0.007893539627984591, 0.006786760457753166, 0.006621106995566023, 0.006471086480528306, 0.006225293273220679, 0.005966879173320781, 0.005724453553059586, 0.0057080660954477854, 0.005507667976560535, 0.005237902641678954, 0.005207296482590158, 0.005099997787402752]    |\n",
      "|4    |[2, 1, 0, 6, 91, 11, 42, 45, 3, 21, 5, 135, 35, 9, 4, 189, 10, 102, 74, 23]   |[0.0195912698264962, 0.019527130359102217, 0.016035797234879516, 0.013593359113003826, 0.009916227770540792, 0.009600380462617054, 0.008753653504960246, 0.008034293448052577, 0.00726976990639229, 0.006808336730854302, 0.006543038612194341, 0.006489439277602659, 0.006173676860899143, 0.005976141514943579, 0.005417045380196624, 0.005409527529061187, 0.004999581623443523, 0.004806720853392094, 0.004589072788236536, 0.0045550431282848245]    |\n",
      "|5    |[3, 5, 29, 25, 2, 15, 12, 33, 231, 13, 7, 63, 22, 31, 19, 18, 53, 46, 72, 153]|[0.01449947143846812, 0.010288700294886398, 0.00929805009144863, 0.008970721496943602, 0.008239617967569127, 0.007870522825706935, 0.007005669221682468, 0.006664389943137751, 0.006475667267076465, 0.006247140740422464, 0.00587852948810156, 0.005717868829970552, 0.005454949518159829, 0.0051475740371165445, 0.004998390784350805, 0.0049332758571381365, 0.004868200520879549, 0.004863018447676303, 0.004656018892112827, 0.004600153171789962]   |\n",
      "|6    |[56, 190, 131, 75, 3, 2, 30, 9, 44, 60, 1, 72, 19, 6, 0, 12, 5, 39, 10, 49]   |[0.021143508493069372, 0.01308737557708152, 0.010021940570328014, 0.009546349480852112, 0.008587764067813697, 0.00831015035501014, 0.006541418861537967, 0.006438855446982049, 0.0062807305261026415, 0.006019094182443833, 0.005890547646963236, 0.00571766351875914, 0.005701000254899478, 0.005476157305455502, 0.005396430049681839, 0.00537809506208391, 0.005276636950256505, 0.0052318540258106914, 0.005155251659401404, 0.005133354415149286]    |\n",
      "|7    |[2, 6, 3, 1, 60, 13, 10, 11, 15, 72, 46, 34, 80, 52, 20, 12, 19, 9, 113, 163] |[0.012656703112136373, 0.010540261693895029, 0.009536249366595806, 0.007157441522092927, 0.0067776826643448735, 0.0061045555308670745, 0.005933009837283933, 0.005564453055899587, 0.005487870397522359, 0.005077591090490731, 0.00480886660535165, 0.004785342949361483, 0.004704947255980463, 0.004648248714343137, 0.004593823131258547, 0.004558527209125864, 0.004440934325330979, 0.004319028662473682, 0.003975355942700838, 0.003713324309173128] |\n",
      "|8    |[71, 3, 5, 63, 15, 12, 25, 172, 29, 221, 4, 1, 6, 7, 18, 10, 2, 31, 38, 37]   |[0.01781087483738307, 0.015382319728036305, 0.014149295850175663, 0.01022700536309601, 0.009277075985275258, 0.008817902822113885, 0.008769884598392364, 0.008604421400384114, 0.007919871852768866, 0.007060383996868586, 0.0070485505665072576, 0.006346062244047067, 0.006134986783049882, 0.005980123366648682, 0.00575136225664709, 0.0048285656026326495, 0.0046959893743711775, 0.004544860605076429, 0.004535365937034133, 0.004514391185724358]  |\n",
      "|9    |[0, 4, 17, 7, 3, 5, 14, 22, 8, 64, 2, 1, 55, 33, 122, 24, 32, 186, 18, 54]    |[0.024378407928333994, 0.021562833297450644, 0.018642445600832752, 0.017897824827461658, 0.01494429185827481, 0.012717490033890404, 0.011941024899054005, 0.01140946264814176, 0.009986645309485474, 0.009855965538632537, 0.00938821675900554, 0.009167836776436865, 0.008756437851497842, 0.007306353772945691, 0.006598858872073837, 0.00616680926546646, 0.005862269764838872, 0.005186061307051462, 0.005158715099293228, 0.005117397279778505]      |\n",
      "+-----+------------------------------------------------------------------------------+----------------------------------------------------------------------------------------------------------------------------------------------------------------------------------------------------------------------------------------------------------------------------------------------------------------------------------------------------------------------------------------------------------------------------------------------------------+"
     ]
    }
   ],
   "source": [
    "topicswords=20\n",
    "topics=model.describeTopics(topicswords)\n",
    "print(\"The topics describe by their top-weighted terms:\")\n",
    "topics.show(truncate=False)"
   ]
  },
  {
   "cell_type": "code",
   "execution_count": 37,
   "id": "f421fd8c-c63d-4c31-b3ae-59dbfa818201",
   "metadata": {
    "execution": {
     "iopub.execute_input": "2022-04-07T16:15:51.758297Z",
     "iopub.status.busy": "2022-04-07T16:15:51.758010Z",
     "iopub.status.idle": "2022-04-07T16:15:51.839397Z",
     "shell.execute_reply": "2022-04-07T16:15:51.838484Z",
     "shell.execute_reply.started": "2022-04-07T16:15:51.758263Z"
    },
    "tags": []
   },
   "outputs": [
    {
     "data": {
      "application/vnd.jupyter.widget-view+json": {
       "model_id": "0e1e0a7be2a0417a83c6eadcb573f005",
       "version_major": 2,
       "version_minor": 0
      },
      "text/plain": [
       "VBox()"
      ]
     },
     "metadata": {},
     "output_type": "display_data"
    },
    {
     "data": {
      "application/vnd.jupyter.widget-view+json": {
       "model_id": "",
       "version_major": 2,
       "version_minor": 0
      },
      "text/plain": [
       "FloatProgress(value=0.0, bar_style='info', description='Progress:', layout=Layout(height='25px', width='50%'),…"
      ]
     },
     "metadata": {},
     "output_type": "display_data"
    },
    {
     "name": "stdout",
     "output_type": "stream",
     "text": [
      "[['pizza', 'order', 'good', 'place', 'time', 'chees', 'great', 'dog', 'love', 'sandwich'], ['food', 'place', 'good', 'time', 'servic', 'order', 'bar', 'drink', 'great', 'peopl'], ['food', 'good', 'place', 'great', 'servic', 'restaur', 'roll', 'order', 'sushi', 'dish'], ['good', 'order', 'chicken', 'food', 'fri', 'place', 'salad', 'sauc', 'tast', 'great'], ['place', 'good', 'food', 'great', 'coffe', 'love', 'flavor', 'delici', 'time', 'tast'], ['time', 'servic', 'told', 'custom', 'place', 'work', 'day', 'ask', 'nail', 'peopl'], ['room', 'hotel', 'stay', 'clean', 'time', 'place', 'locat', 'nice', 'walk', 'park'], ['place', 'great', 'time', 'good', 'park', 'peopl', 'price', 'love', 'work', 'store'], ['car', 'time', 'servic', 'call', 'work', 'day', 'custom', 'hair', 'told', 'appoint'], ['food', 'order', 'tabl', 'wait', 'time', 'servic', 'drink', 'minut', 'restaur', 'server']]"
     ]
    }
   ],
   "source": [
    "topics_words"
   ]
  },
  {
   "cell_type": "code",
   "execution_count": 133,
   "id": "1742d21c-9299-407f-8cf3-e0deee2c2f71",
   "metadata": {
    "execution": {
     "iopub.execute_input": "2022-04-07T17:00:22.285778Z",
     "iopub.status.busy": "2022-04-07T17:00:22.285490Z",
     "iopub.status.idle": "2022-04-07T17:00:22.355957Z",
     "shell.execute_reply": "2022-04-07T17:00:22.354981Z",
     "shell.execute_reply.started": "2022-04-07T17:00:22.285746Z"
    },
    "tags": []
   },
   "outputs": [
    {
     "data": {
      "application/vnd.jupyter.widget-view+json": {
       "model_id": "388a3bb61a0b4f82a79dd9d780698e20",
       "version_major": 2,
       "version_minor": 0
      },
      "text/plain": [
       "VBox()"
      ]
     },
     "metadata": {},
     "output_type": "display_data"
    },
    {
     "data": {
      "application/vnd.jupyter.widget-view+json": {
       "model_id": "",
       "version_major": 2,
       "version_minor": 0
      },
      "text/plain": [
       "FloatProgress(value=0.0, bar_style='info', description='Progress:', layout=Layout(height='25px', width='50%'),…"
      ]
     },
     "metadata": {},
     "output_type": "display_data"
    }
   ],
   "source": [
    "tRDD=topics.rdd.map(list)"
   ]
  },
  {
   "cell_type": "code",
   "execution_count": 134,
   "id": "864daceb-809c-4186-91ec-a5a376b66c36",
   "metadata": {
    "execution": {
     "iopub.execute_input": "2022-04-07T17:00:23.162441Z",
     "iopub.status.busy": "2022-04-07T17:00:23.162015Z",
     "iopub.status.idle": "2022-04-07T17:00:23.295924Z",
     "shell.execute_reply": "2022-04-07T17:00:23.294922Z",
     "shell.execute_reply.started": "2022-04-07T17:00:23.162388Z"
    },
    "tags": []
   },
   "outputs": [
    {
     "data": {
      "application/vnd.jupyter.widget-view+json": {
       "model_id": "170d4093e2504c7abb88ba1adf38fea8",
       "version_major": 2,
       "version_minor": 0
      },
      "text/plain": [
       "VBox()"
      ]
     },
     "metadata": {},
     "output_type": "display_data"
    },
    {
     "data": {
      "application/vnd.jupyter.widget-view+json": {
       "model_id": "",
       "version_major": 2,
       "version_minor": 0
      },
      "text/plain": [
       "FloatProgress(value=0.0, bar_style='info', description='Progress:', layout=Layout(height='25px', width='50%'),…"
      ]
     },
     "metadata": {},
     "output_type": "display_data"
    },
    {
     "name": "stdout",
     "output_type": "stream",
     "text": [
      "root\n",
      " |-- topic: integer (nullable = false)\n",
      " |-- termIndices: array (nullable = true)\n",
      " |    |-- element: integer (containsNull = false)\n",
      " |-- termWeights: array (nullable = true)\n",
      " |    |-- element: double (containsNull = false)"
     ]
    }
   ],
   "source": [
    "topics.printSchema()"
   ]
  },
  {
   "cell_type": "code",
   "execution_count": 135,
   "id": "0b4c0185-c660-4033-8373-4e1541206c0b",
   "metadata": {
    "execution": {
     "iopub.execute_input": "2022-04-07T17:00:24.242850Z",
     "iopub.status.busy": "2022-04-07T17:00:24.242570Z",
     "iopub.status.idle": "2022-04-07T17:00:24.546549Z",
     "shell.execute_reply": "2022-04-07T17:00:24.545481Z",
     "shell.execute_reply.started": "2022-04-07T17:00:24.242817Z"
    },
    "tags": []
   },
   "outputs": [
    {
     "data": {
      "application/vnd.jupyter.widget-view+json": {
       "model_id": "42b982ce914043c7ba68615cbde46e14",
       "version_major": 2,
       "version_minor": 0
      },
      "text/plain": [
       "VBox()"
      ]
     },
     "metadata": {},
     "output_type": "display_data"
    },
    {
     "data": {
      "application/vnd.jupyter.widget-view+json": {
       "model_id": "",
       "version_major": 2,
       "version_minor": 0
      },
      "text/plain": [
       "FloatProgress(value=0.0, bar_style='info', description='Progress:', layout=Layout(height='25px', width='50%'),…"
      ]
     },
     "metadata": {},
     "output_type": "display_data"
    },
    {
     "name": "stdout",
     "output_type": "stream",
     "text": [
      "[[0, [47, 4, 1, 2, 3, 59, 6, 202, 11, 84, 0, 70, 239, 7, 164, 318, 20, 21, 154, 26], [0.027555948101487746, 0.017321301639663014, 0.015103289982246903, 0.013986936775919522, 0.012256531127210556, 0.009653376304421547, 0.007912765126335916, 0.007718638111385999, 0.007054488419285881, 0.006847335086386271, 0.0065156249637059694, 0.0057068255502581225, 0.005145406533346006, 0.005109908123907574, 0.0049775650648686285, 0.0049676538465938756, 0.004486526638376235, 0.004466741435194613, 0.0042832947645776, 0.004217609102242646]], [1, [0, 2, 1, 3, 5, 4, 32, 14, 6, 13, 41, 9, 8, 26, 23, 28, 25, 39, 36, 19], [0.03456333471541104, 0.02736300912889119, 0.020564300124364, 0.01854676475010111, 0.015412514682185968, 0.011131768417892445, 0.010446766021040629, 0.009986240055814138, 0.009032460075257789, 0.007590587705676412, 0.006986904587366604, 0.006787716500194815, 0.00654429467141081, 0.006503289668122066, 0.006274089946552105, 0.006067880071020108, 0.005650452529006427, 0.005555500773413693, 0.005007443210760632, 0.004909943586341842]], [2, [0, 1, 2, 6, 5, 8, 107, 4, 152, 48, 10, 235, 3, 24, 111, 21, 140, 309, 43, 9], [0.02781493474857691, 0.018485845226158735, 0.01765229781730129, 0.016358916322378434, 0.01372494668006383, 0.01171792527667371, 0.011383862331106167, 0.011062762154758243, 0.010888907357203282, 0.01000181530665893, 0.008962080393905966, 0.007575442378558252, 0.006944359097945655, 0.006726065281308434, 0.006641718767964523, 0.006515430405165069, 0.006244609605308193, 0.005922178803290383, 0.005655900382154238, 0.005447744321888378]], [3, [1, 4, 16, 0, 27, 2, 67, 43, 21, 6, 5, 59, 8, 24, 3, 54, 42, 9, 48, 26], [0.02078031647780203, 0.018796844405270376, 0.017671326428508296, 0.01664831729650161, 0.013013961912430642, 0.009730940326132627, 0.00906420744776603, 0.008064853427198636, 0.007893539627984591, 0.006786760457753166, 0.006621106995566023, 0.006471086480528306, 0.006225293273220679, 0.005966879173320781, 0.005724453553059586, 0.0057080660954477854, 0.005507667976560535, 0.005237902641678954, 0.005207296482590158, 0.005099997787402752]], [4, [2, 1, 0, 6, 91, 11, 42, 45, 3, 21, 5, 135, 35, 9, 4, 189, 10, 102, 74, 23], [0.0195912698264962, 0.019527130359102217, 0.016035797234879516, 0.013593359113003826, 0.009916227770540792, 0.009600380462617054, 0.008753653504960246, 0.008034293448052577, 0.00726976990639229, 0.006808336730854302, 0.006543038612194341, 0.006489439277602659, 0.006173676860899143, 0.005976141514943579, 0.005417045380196624, 0.005409527529061187, 0.004999581623443523, 0.004806720853392094, 0.004589072788236536, 0.0045550431282848245]], [5, [3, 5, 29, 25, 2, 15, 12, 33, 231, 13, 7, 63, 22, 31, 19, 18, 53, 46, 72, 153], [0.01449947143846812, 0.010288700294886398, 0.00929805009144863, 0.008970721496943602, 0.008239617967569127, 0.007870522825706935, 0.007005669221682468, 0.006664389943137751, 0.006475667267076465, 0.006247140740422464, 0.00587852948810156, 0.005717868829970552, 0.005454949518159829, 0.0051475740371165445, 0.004998390784350805, 0.0049332758571381365, 0.004868200520879549, 0.004863018447676303, 0.004656018892112827, 0.004600153171789962]], [6, [56, 190, 131, 75, 3, 2, 30, 9, 44, 60, 1, 72, 19, 6, 0, 12, 5, 39, 10, 49], [0.021143508493069372, 0.01308737557708152, 0.010021940570328014, 0.009546349480852112, 0.008587764067813697, 0.00831015035501014, 0.006541418861537967, 0.006438855446982049, 0.0062807305261026415, 0.006019094182443833, 0.005890547646963236, 0.00571766351875914, 0.005701000254899478, 0.005476157305455502, 0.005396430049681839, 0.00537809506208391, 0.005276636950256505, 0.0052318540258106914, 0.005155251659401404, 0.005133354415149286]], [7, [2, 6, 3, 1, 60, 13, 10, 11, 15, 72, 46, 34, 80, 52, 20, 12, 19, 9, 113, 163], [0.012656703112136373, 0.010540261693895029, 0.009536249366595806, 0.007157441522092927, 0.0067776826643448735, 0.0061045555308670745, 0.005933009837283933, 0.005564453055899587, 0.005487870397522359, 0.005077591090490731, 0.00480886660535165, 0.004785342949361483, 0.004704947255980463, 0.004648248714343137, 0.004593823131258547, 0.004558527209125864, 0.004440934325330979, 0.004319028662473682, 0.003975355942700838, 0.003713324309173128]], [8, [71, 3, 5, 63, 15, 12, 25, 172, 29, 221, 4, 1, 6, 7, 18, 10, 2, 31, 38, 37], [0.01781087483738307, 0.015382319728036305, 0.014149295850175663, 0.01022700536309601, 0.009277075985275258, 0.008817902822113885, 0.008769884598392364, 0.008604421400384114, 0.007919871852768866, 0.007060383996868586, 0.0070485505665072576, 0.006346062244047067, 0.006134986783049882, 0.005980123366648682, 0.00575136225664709, 0.0048285656026326495, 0.0046959893743711775, 0.004544860605076429, 0.004535365937034133, 0.004514391185724358]], [9, [0, 4, 17, 7, 3, 5, 14, 22, 8, 64, 2, 1, 55, 33, 122, 24, 32, 186, 18, 54], [0.024378407928333994, 0.021562833297450644, 0.018642445600832752, 0.017897824827461658, 0.01494429185827481, 0.012717490033890404, 0.011941024899054005, 0.01140946264814176, 0.009986645309485474, 0.009855965538632537, 0.00938821675900554, 0.009167836776436865, 0.008756437851497842, 0.007306353772945691, 0.006598858872073837, 0.00616680926546646, 0.005862269764838872, 0.005186061307051462, 0.005158715099293228, 0.005117397279778505]]]"
     ]
    }
   ],
   "source": [
    "tRDD.collect()"
   ]
  },
  {
   "cell_type": "code",
   "execution_count": 145,
   "id": "0071a616-c382-47ad-b030-467fbaccc13a",
   "metadata": {
    "execution": {
     "iopub.execute_input": "2022-04-07T17:03:00.420725Z",
     "iopub.status.busy": "2022-04-07T17:03:00.420407Z",
     "iopub.status.idle": "2022-04-07T17:03:00.506269Z",
     "shell.execute_reply": "2022-04-07T17:03:00.504658Z",
     "shell.execute_reply.started": "2022-04-07T17:03:00.420691Z"
    },
    "tags": []
   },
   "outputs": [
    {
     "data": {
      "application/vnd.jupyter.widget-view+json": {
       "model_id": "5be22648cf1043b09e0b4751633caaa5",
       "version_major": 2,
       "version_minor": 0
      },
      "text/plain": [
       "VBox()"
      ]
     },
     "metadata": {},
     "output_type": "display_data"
    },
    {
     "data": {
      "application/vnd.jupyter.widget-view+json": {
       "model_id": "",
       "version_major": 2,
       "version_minor": 0
      },
      "text/plain": [
       "FloatProgress(value=0.0, bar_style='info', description='Progress:', layout=Layout(height='25px', width='50%'),…"
      ]
     },
     "metadata": {},
     "output_type": "display_data"
    }
   ],
   "source": [
    "\n",
    "\n",
    "def topic_vocab(topic):\n",
    "    print(topic)\n",
    "    topicNum=topic[0]\n",
    "    terms=topic[1]\n",
    "    weight=topic[2]\n",
    "    result=[]\n",
    "    for i in range(topicswords):\n",
    "        term=vocab[terms[i]]\n",
    "        out=str(topicNum)+\",\"+term+\",\"+str(weight[i])\n",
    "        print(\"\\n\")\n",
    "        result.append(out)\n",
    "    return result"
   ]
  },
  {
   "cell_type": "code",
   "execution_count": 146,
   "id": "dd8aeaca-44a5-4e70-91ee-abca9fa8ad7f",
   "metadata": {
    "execution": {
     "iopub.execute_input": "2022-04-07T17:03:00.831067Z",
     "iopub.status.busy": "2022-04-07T17:03:00.830654Z",
     "iopub.status.idle": "2022-04-07T17:03:00.913121Z",
     "shell.execute_reply": "2022-04-07T17:03:00.912198Z",
     "shell.execute_reply.started": "2022-04-07T17:03:00.831014Z"
    }
   },
   "outputs": [
    {
     "data": {
      "application/vnd.jupyter.widget-view+json": {
       "model_id": "2255ae17c37340639b2055d56ec7afca",
       "version_major": 2,
       "version_minor": 0
      },
      "text/plain": [
       "VBox()"
      ]
     },
     "metadata": {},
     "output_type": "display_data"
    },
    {
     "data": {
      "application/vnd.jupyter.widget-view+json": {
       "model_id": "",
       "version_major": 2,
       "version_minor": 0
      },
      "text/plain": [
       "FloatProgress(value=0.0, bar_style='info', description='Progress:', layout=Layout(height='25px', width='50%'),…"
      ]
     },
     "metadata": {},
     "output_type": "display_data"
    }
   ],
   "source": [
    "topic=tRDD.map(lambda topic:topic_vocab(topic))"
   ]
  },
  {
   "cell_type": "code",
   "execution_count": 147,
   "id": "09773674-61f0-4bfe-a2c1-0c278c67a656",
   "metadata": {
    "execution": {
     "iopub.execute_input": "2022-04-07T17:03:01.777019Z",
     "iopub.status.busy": "2022-04-07T17:03:01.776362Z",
     "iopub.status.idle": "2022-04-07T17:03:01.868313Z",
     "shell.execute_reply": "2022-04-07T17:03:01.867086Z",
     "shell.execute_reply.started": "2022-04-07T17:03:01.776959Z"
    },
    "tags": []
   },
   "outputs": [
    {
     "data": {
      "application/vnd.jupyter.widget-view+json": {
       "model_id": "5d0ba321c55a45b68985887a26dc7017",
       "version_major": 2,
       "version_minor": 0
      },
      "text/plain": [
       "VBox()"
      ]
     },
     "metadata": {},
     "output_type": "display_data"
    },
    {
     "data": {
      "application/vnd.jupyter.widget-view+json": {
       "model_id": "",
       "version_major": 2,
       "version_minor": 0
      },
      "text/plain": [
       "FloatProgress(value=0.0, bar_style='info', description='Progress:', layout=Layout(height='25px', width='50%'),…"
      ]
     },
     "metadata": {},
     "output_type": "display_data"
    }
   ],
   "source": [
    "import pandas as pd"
   ]
  },
  {
   "cell_type": "code",
   "execution_count": 148,
   "id": "dadf1de9-9060-483b-ac25-39314f13a67e",
   "metadata": {
    "execution": {
     "iopub.execute_input": "2022-04-07T17:03:02.363515Z",
     "iopub.status.busy": "2022-04-07T17:03:02.363240Z",
     "iopub.status.idle": "2022-04-07T17:03:02.456701Z",
     "shell.execute_reply": "2022-04-07T17:03:02.455592Z",
     "shell.execute_reply.started": "2022-04-07T17:03:02.363483Z"
    },
    "tags": []
   },
   "outputs": [
    {
     "data": {
      "application/vnd.jupyter.widget-view+json": {
       "model_id": "4fdc4a284e064cd18df0d307fe419a90",
       "version_major": 2,
       "version_minor": 0
      },
      "text/plain": [
       "VBox()"
      ]
     },
     "metadata": {},
     "output_type": "display_data"
    },
    {
     "data": {
      "application/vnd.jupyter.widget-view+json": {
       "model_id": "",
       "version_major": 2,
       "version_minor": 0
      },
      "text/plain": [
       "FloatProgress(value=0.0, bar_style='info', description='Progress:', layout=Layout(height='25px', width='50%'),…"
      ]
     },
     "metadata": {},
     "output_type": "display_data"
    },
    {
     "name": "stderr",
     "output_type": "stream",
     "text": [
      "An error was encountered:\n",
      "DataFrame constructor not properly called!\n",
      "Traceback (most recent call last):\n",
      "  File \"/tmp/1649347634218-0/lib/python3.7/site-packages/pandas/core/frame.py\", line 485, in __init__\n",
      "    raise ValueError(\"DataFrame constructor not properly called!\")\n",
      "ValueError: DataFrame constructor not properly called!\n",
      "\n"
     ]
    }
   ],
   "source": [
    "df1=pd.DataFrame(tRDD)\n"
   ]
  },
  {
   "cell_type": "code",
   "execution_count": 138,
   "id": "a6b1fbd8-0446-413d-923c-59eecab9a469",
   "metadata": {
    "execution": {
     "iopub.execute_input": "2022-04-07T17:00:46.273277Z",
     "iopub.status.busy": "2022-04-07T17:00:46.272970Z",
     "iopub.status.idle": "2022-04-07T17:00:46.341671Z",
     "shell.execute_reply": "2022-04-07T17:00:46.340827Z",
     "shell.execute_reply.started": "2022-04-07T17:00:46.273243Z"
    },
    "tags": []
   },
   "outputs": [
    {
     "data": {
      "application/vnd.jupyter.widget-view+json": {
       "model_id": "4c988ad87ebb4918a7cb5c2f78e450eb",
       "version_major": 2,
       "version_minor": 0
      },
      "text/plain": [
       "VBox()"
      ]
     },
     "metadata": {},
     "output_type": "display_data"
    },
    {
     "data": {
      "application/vnd.jupyter.widget-view+json": {
       "model_id": "",
       "version_major": 2,
       "version_minor": 0
      },
      "text/plain": [
       "FloatProgress(value=0.0, bar_style='info', description='Progress:', layout=Layout(height='25px', width='50%'),…"
      ]
     },
     "metadata": {},
     "output_type": "display_data"
    }
   ],
   "source": [
    "pd.set_option('display.max_rows', 1000)\n",
    "pd.set_option('display.max_columns', 1000)"
   ]
  },
  {
   "cell_type": "code",
   "execution_count": 139,
   "id": "0555e673-cad1-47d1-87e4-c0a22e855944",
   "metadata": {
    "execution": {
     "iopub.execute_input": "2022-04-07T17:00:46.569168Z",
     "iopub.status.busy": "2022-04-07T17:00:46.568891Z",
     "iopub.status.idle": "2022-04-07T17:00:46.842632Z",
     "shell.execute_reply": "2022-04-07T17:00:46.841528Z",
     "shell.execute_reply.started": "2022-04-07T17:00:46.569135Z"
    },
    "tags": []
   },
   "outputs": [
    {
     "data": {
      "application/vnd.jupyter.widget-view+json": {
       "model_id": "0f945abf4d0a440cad8562f76efa0589",
       "version_major": 2,
       "version_minor": 0
      },
      "text/plain": [
       "VBox()"
      ]
     },
     "metadata": {},
     "output_type": "display_data"
    },
    {
     "data": {
      "application/vnd.jupyter.widget-view+json": {
       "model_id": "",
       "version_major": 2,
       "version_minor": 0
      },
      "text/plain": [
       "FloatProgress(value=0.0, bar_style='info', description='Progress:', layout=Layout(height='25px', width='50%'),…"
      ]
     },
     "metadata": {},
     "output_type": "display_data"
    },
    {
     "name": "stdout",
     "output_type": "stream",
     "text": [
      "                              0                              1  \\\n",
      "0  0,pizza,0.027555948101487746   0,order,0.017321301639663014   \n",
      "1    1,food,0.03456333471541104    1,place,0.02736300912889119   \n",
      "2    2,food,0.02781493474857691    2,good,0.018485845226158735   \n",
      "3    3,good,0.02078031647780203   3,order,0.018796844405270376   \n",
      "4    4,place,0.0195912698264962    4,good,0.019527130359102217   \n",
      "5    5,time,0.01449947143846812  5,servic,0.010288700294886398   \n",
      "6   6,room,0.021143508493069372    6,hotel,0.01308737557708152   \n",
      "7  7,place,0.012656703112136373   7,great,0.010540261693895029   \n",
      "8     8,car,0.01781087483738307    8,time,0.015382319728036305   \n",
      "9   9,food,0.024378407928333994   9,order,0.021562833297450644   \n",
      "\n",
      "                                2                              3  \\\n",
      "0     0,good,0.015103289982246903   0,place,0.013986936775919522   \n",
      "1        1,good,0.020564300124364     1,time,0.01854676475010111   \n",
      "2     2,place,0.01765229781730129   2,great,0.016358916322378434   \n",
      "3  3,chicken,0.017671326428508296     3,food,0.01664831729650161   \n",
      "4     4,food,0.016035797234879516   4,great,0.013593359113003826   \n",
      "5      5,told,0.00929805009144863  5,custom,0.008970721496943602   \n",
      "6     6,stay,0.010021940570328014   6,clean,0.009546349480852112   \n",
      "7     7,time,0.009536249366595806    7,good,0.007157441522092927   \n",
      "8   8,servic,0.014149295850175663     8,call,0.01022700536309601   \n",
      "9     9,tabl,0.018642445600832752    9,wait,0.017897824827461658   \n",
      "\n",
      "                               4                              5  \\\n",
      "0    0,time,0.012256531127210556   0,chees,0.009653376304421547   \n",
      "1  1,servic,0.015412514682185968   1,order,0.011131768417892445   \n",
      "2   2,servic,0.01372494668006383  2,restaur,0.01171792527667371   \n",
      "3     3,fri,0.013013961912430642   3,place,0.009730940326132627   \n",
      "4   4,coffe,0.009916227770540792    4,love,0.009600380462617054   \n",
      "5   5,place,0.008239617967569127    5,work,0.007870522825706935   \n",
      "6    6,time,0.008587764067813697    6,place,0.00831015035501014   \n",
      "7   7,park,0.0067776826643448735  7,peopl,0.0061045555308670745   \n",
      "8    8,work,0.009277075985275258     8,day,0.008817902822113885   \n",
      "9     9,time,0.01494429185827481  9,servic,0.012717490033890404   \n",
      "\n",
      "                               6                              7  \\\n",
      "0   0,great,0.007912765126335916     0,dog,0.007718638111385999   \n",
      "1     1,bar,0.010446766021040629   1,drink,0.009986240055814138   \n",
      "2    2,roll,0.011383862331106167   2,order,0.011062762154758243   \n",
      "3    3,salad,0.00906420744776603    3,sauc,0.008064853427198636   \n",
      "4  4,flavor,0.008753653504960246  4,delici,0.008034293448052577   \n",
      "5     5,day,0.007005669221682468     5,ask,0.006664389943137751   \n",
      "6   6,locat,0.006541418861537967    6,nice,0.006438855446982049   \n",
      "7   7,price,0.005933009837283933    7,love,0.005564453055899587   \n",
      "8  8,custom,0.008769884598392364    8,hair,0.008604421400384114   \n",
      "9   9,drink,0.011941024899054005    9,minut,0.01140946264814176   \n",
      "\n",
      "                                8                                9  \\\n",
      "0     0,love,0.007054488419285881  0,sandwich,0.006847335086386271   \n",
      "1    1,great,0.009032460075257789     1,peopl,0.007590587705676412   \n",
      "2    2,sushi,0.010888907357203282       2,dish,0.01000181530665893   \n",
      "3     3,tast,0.007893539627984591     3,great,0.006786760457753166   \n",
      "4      4,time,0.00726976990639229      4,tast,0.006808336730854302   \n",
      "5     5,nail,0.006475667267076465     5,peopl,0.006247140740422464   \n",
      "6    6,walk,0.0062807305261026415      6,park,0.006019094182443833   \n",
      "7     7,work,0.005487870397522359     7,store,0.005077591090490731   \n",
      "8     8,told,0.007919871852768866   8,appoint,0.007060383996868586   \n",
      "9  9,restaur,0.009986645309485474    9,server,0.009855965538632537   \n",
      "\n",
      "                              10                              11  \\\n",
      "0   0,food,0.0065156249637059694  0,burger,0.0057068255502581225   \n",
      "1     1,bad,0.006986904587366604     1,nice,0.006787716500194815   \n",
      "2   2,price,0.008962080393905966    2,noodl,0.007575442378558252   \n",
      "3  3,servic,0.006621106995566023    3,chees,0.006471086480528306   \n",
      "4  4,servic,0.006543038612194341     4,taco,0.006489439277602659   \n",
      "5     5,wait,0.00587852948810156     5,call,0.005717868829970552   \n",
      "6    6,good,0.005890547646963236     6,store,0.00571766351875914   \n",
      "7     7,year,0.00480886660535165      7,lot,0.004785342949361483   \n",
      "8  8,order,0.0070485505665072576     8,good,0.006346062244047067   \n",
      "9    9,place,0.00938821675900554     9,good,0.009167836776436865   \n",
      "\n",
      "                                12                            13  \\\n",
      "0      0,cake,0.005145406533346006   0,wait,0.005109908123907574   \n",
      "1    1,restaur,0.00654429467141081    1,eat,0.006503289668122066   \n",
      "2      2,time,0.006944359097945655   2,menu,0.006726065281308434   \n",
      "3   3,restaur,0.006225293273220679   3,menu,0.005966879173320781   \n",
      "4  4,friendli,0.006173676860899143   4,nice,0.005976141514943579   \n",
      "5     5,minut,0.005454949518159829  5,hour,0.0051475740371165445   \n",
      "6     6,staff,0.005701000254899478  6,great,0.005476157305455502   \n",
      "7      7,beer,0.004704947255980463   7,area,0.004648248714343137   \n",
      "8     8,great,0.006134986783049882   8,wait,0.005980123366648682   \n",
      "9      9,seat,0.008756437851497842    9,ask,0.007306353772945691   \n",
      "\n",
      "                                14                              15  \\\n",
      "0      0,egg,0.0049775650648686285   0,slice,0.0049676538465938756   \n",
      "1    1,pretti,0.006274089946552105     1,star,0.006067880071020108   \n",
      "2      2,rice,0.006641718767964523     2,tast,0.006515430405165069   \n",
      "3      3,time,0.005724453553059586    3,meal,0.0057080660954477854   \n",
      "4     4,order,0.005417045380196624      4,tea,0.005409527529061187   \n",
      "5     5,staff,0.004998390784350805  5,experi,0.0049332758571381365   \n",
      "6      6,food,0.005396430049681839       6,day,0.00537809506208391   \n",
      "7     7,thing,0.004593823131258547      7,day,0.004558527209125864   \n",
      "8     8,experi,0.00575136225664709   8,price,0.0048285656026326495   \n",
      "9  9,waitress,0.006598858872073837      9,menu,0.00616680926546646   \n",
      "\n",
      "                              16                             17  \\\n",
      "0   0,thing,0.004486526638376235    0,tast,0.004466741435194613   \n",
      "1  1,custom,0.005650452529006427   1,night,0.005555500773413693   \n",
      "2    2,soup,0.006244609605308193    2,thai,0.005922178803290383   \n",
      "3  3,flavor,0.005507667976560535    3,nice,0.005237902641678954   \n",
      "4   4,price,0.004999581623443523   4,sweet,0.004806720853392094   \n",
      "5   5,manag,0.004868200520879549    5,year,0.004863018447676303   \n",
      "6  6,servic,0.005276636950256505  6,night,0.0052318540258106914   \n",
      "7   7,staff,0.004440934325330979    7,nice,0.004319028662473682   \n",
      "8  8,place,0.0046959893743711775    8,hour,0.004544860605076429   \n",
      "9     9,bar,0.005862269764838872  9,waiter,0.005186061307051462   \n",
      "\n",
      "                               18                              19  \n",
      "0  0,breakfast,0.0042832947645776      0,eat,0.004217609102242646  \n",
      "1   1,friend,0.005007443210760632    1,staff,0.004909943586341842  \n",
      "2     2,sauc,0.005655900382154238     2,nice,0.005447744321888378  \n",
      "3     3,dish,0.005207296482590158      3,eat,0.005099997787402752  \n",
      "4    4,fresh,0.004589072788236536  4,pretti,0.0045550431282848245  \n",
      "5    5,store,0.004656018892112827     5,rude,0.004600153171789962  \n",
      "6    6,price,0.005155251659401404    6,check,0.005133354415149286  \n",
      "7     7,live,0.003975355942700838      7,kid,0.003713324309173128  \n",
      "8     8,busi,0.004535365937034133   8,review,0.004514391185724358  \n",
      "9   9,experi,0.005158715099293228     9,meal,0.005117397279778505"
     ]
    }
   ],
   "source": [
    "print(df1)"
   ]
  },
  {
   "cell_type": "code",
   "execution_count": null,
   "id": "9bc55e3e-ff20-4378-a8b1-a0442f107449",
   "metadata": {},
   "outputs": [],
   "source": []
  }
 ],
 "metadata": {
  "kernelspec": {
   "display_name": "PySpark",
   "language": "",
   "name": "pysparkkernel"
  },
  "language_info": {
   "codemirror_mode": {
    "name": "python",
    "version": 3
   },
   "mimetype": "text/x-python",
   "name": "pyspark",
   "pygments_lexer": "python3"
  }
 },
 "nbformat": 4,
 "nbformat_minor": 5
}
