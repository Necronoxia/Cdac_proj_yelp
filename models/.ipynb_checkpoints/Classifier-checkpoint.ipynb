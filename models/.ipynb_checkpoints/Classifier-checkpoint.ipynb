{
 "cells": [
  {
   "cell_type": "code",
   "execution_count": 1,
   "id": "9fc78abd",
   "metadata": {
    "execution": {
     "iopub.execute_input": "2022-04-06T20:42:05.864236Z",
     "iopub.status.busy": "2022-04-06T20:42:05.863835Z",
     "iopub.status.idle": "2022-04-06T20:42:42.684071Z",
     "shell.execute_reply": "2022-04-06T20:42:42.683418Z",
     "shell.execute_reply.started": "2022-04-06T20:42:05.864197Z"
    },
    "tags": []
   },
   "outputs": [
    {
     "data": {
      "application/vnd.jupyter.widget-view+json": {
       "model_id": "0332803d548f48d28185b6f8951d878f",
       "version_major": 2,
       "version_minor": 0
      },
      "text/plain": [
       "VBox()"
      ]
     },
     "metadata": {},
     "output_type": "display_data"
    },
    {
     "name": "stdout",
     "output_type": "stream",
     "text": [
      "Starting Spark application\n"
     ]
    },
    {
     "data": {
      "text/html": [
       "<table>\n",
       "<tr><th>ID</th><th>YARN Application ID</th><th>Kind</th><th>State</th><th>Spark UI</th><th>Driver log</th><th>Current session?</th></tr><tr><td>3</td><td>application_1649273430244_0007</td><td>pyspark</td><td>idle</td><td><a target=\"_blank\" href=\"http://ip-172-31-8-189.ec2.internal:20888/proxy/application_1649273430244_0007/\" class=\"emr-proxy-link\" emr-resource=\"j-649ZK57HE7U\n",
       "\" application-id=\"application_1649273430244_0007\">Link</a></td><td><a target=\"_blank\" href=\"http://ip-172-31-9-56.ec2.internal:8042/node/containerlogs/container_1649273430244_0007_01_000001/livy\" >Link</a></td><td>✔</td></tr></table>"
      ],
      "text/plain": [
       "<IPython.core.display.HTML object>"
      ]
     },
     "metadata": {},
     "output_type": "display_data"
    },
    {
     "data": {
      "application/vnd.jupyter.widget-view+json": {
       "model_id": "",
       "version_major": 2,
       "version_minor": 0
      },
      "text/plain": [
       "FloatProgress(value=0.0, bar_style='info', description='Progress:', layout=Layout(height='25px', width='50%'),…"
      ]
     },
     "metadata": {},
     "output_type": "display_data"
    },
    {
     "name": "stdout",
     "output_type": "stream",
     "text": [
      "SparkSession available as 'spark'.\n"
     ]
    },
    {
     "data": {
      "application/vnd.jupyter.widget-view+json": {
       "model_id": "",
       "version_major": 2,
       "version_minor": 0
      },
      "text/plain": [
       "FloatProgress(value=0.0, bar_style='info', description='Progress:', layout=Layout(height='25px', width='50%'),…"
      ]
     },
     "metadata": {},
     "output_type": "display_data"
    }
   ],
   "source": [
    "conf = spark.sparkContext._conf.setAll([('spark.executor.memory', '8g'), ('spark.driver.memory','15g'),(\"spark.driver.maxResultSize\",\"0\"),(\"spark.executor.cores\", '2'),(\"spark.executor.instances\", \"8\"),(\"spark.dynamicAllocation.enabled\",\"False\")])"
   ]
  },
  {
   "cell_type": "code",
   "execution_count": 2,
   "id": "dbb9316e-e112-42af-a223-3f6a7d8022c9",
   "metadata": {
    "execution": {
     "iopub.execute_input": "2022-04-06T20:42:42.685886Z",
     "iopub.status.busy": "2022-04-06T20:42:42.685441Z",
     "iopub.status.idle": "2022-04-06T20:42:42.789017Z",
     "shell.execute_reply": "2022-04-06T20:42:42.788334Z",
     "shell.execute_reply.started": "2022-04-06T20:42:42.685850Z"
    },
    "tags": []
   },
   "outputs": [
    {
     "data": {
      "application/vnd.jupyter.widget-view+json": {
       "model_id": "013116b483874c46adbcc96b74461faa",
       "version_major": 2,
       "version_minor": 0
      },
      "text/plain": [
       "VBox()"
      ]
     },
     "metadata": {},
     "output_type": "display_data"
    },
    {
     "data": {
      "application/vnd.jupyter.widget-view+json": {
       "model_id": "",
       "version_major": 2,
       "version_minor": 0
      },
      "text/plain": [
       "FloatProgress(value=0.0, bar_style='info', description='Progress:', layout=Layout(height='25px', width='50%'),…"
      ]
     },
     "metadata": {},
     "output_type": "display_data"
    }
   ],
   "source": [
    "import pyspark"
   ]
  },
  {
   "cell_type": "code",
   "execution_count": 3,
   "id": "978f9b66",
   "metadata": {
    "execution": {
     "iopub.execute_input": "2022-04-06T20:42:42.791073Z",
     "iopub.status.busy": "2022-04-06T20:42:42.790879Z",
     "iopub.status.idle": "2022-04-06T20:42:43.581156Z",
     "shell.execute_reply": "2022-04-06T20:42:43.580350Z",
     "shell.execute_reply.started": "2022-04-06T20:42:42.791045Z"
    },
    "tags": []
   },
   "outputs": [
    {
     "data": {
      "application/vnd.jupyter.widget-view+json": {
       "model_id": "e74415122f3a4a0a97625b2abcecbda5",
       "version_major": 2,
       "version_minor": 0
      },
      "text/plain": [
       "VBox()"
      ]
     },
     "metadata": {},
     "output_type": "display_data"
    },
    {
     "data": {
      "application/vnd.jupyter.widget-view+json": {
       "model_id": "",
       "version_major": 2,
       "version_minor": 0
      },
      "text/plain": [
       "FloatProgress(value=0.0, bar_style='info', description='Progress:', layout=Layout(height='25px', width='50%'),…"
      ]
     },
     "metadata": {},
     "output_type": "display_data"
    }
   ],
   "source": [
    "from pyspark.storagelevel import StorageLevel\n",
    "\n",
    "from pyspark.ml import Pipeline\n",
    "from pyspark.ml.classification import GBTClassifier\n",
    "from pyspark.ml import Transformer, classification\n",
    "from pyspark.ml import tuning\n",
    "from pyspark.ml.evaluation import MulticlassClassificationEvaluator"
   ]
  },
  {
   "cell_type": "code",
   "execution_count": 4,
   "id": "57e159a0",
   "metadata": {
    "execution": {
     "iopub.execute_input": "2022-04-06T20:42:43.588964Z",
     "iopub.status.busy": "2022-04-06T20:42:43.585370Z",
     "iopub.status.idle": "2022-04-06T20:42:49.404798Z",
     "shell.execute_reply": "2022-04-06T20:42:49.404117Z",
     "shell.execute_reply.started": "2022-04-06T20:42:43.588922Z"
    },
    "tags": []
   },
   "outputs": [
    {
     "data": {
      "application/vnd.jupyter.widget-view+json": {
       "model_id": "7e8284efc89f4e1097a731a7864ce928",
       "version_major": 2,
       "version_minor": 0
      },
      "text/plain": [
       "VBox()"
      ]
     },
     "metadata": {},
     "output_type": "display_data"
    },
    {
     "data": {
      "application/vnd.jupyter.widget-view+json": {
       "model_id": "",
       "version_major": 2,
       "version_minor": 0
      },
      "text/plain": [
       "FloatProgress(value=0.0, bar_style='info', description='Progress:', layout=Layout(height='25px', width='50%'),…"
      ]
     },
     "metadata": {},
     "output_type": "display_data"
    }
   ],
   "source": [
    "df = sqlContext.read.parquet(\"hdfs:///NLP-parquet/\").cache()"
   ]
  },
  {
   "cell_type": "code",
   "execution_count": 5,
   "id": "451702f9-eeae-49dd-8e8b-ab3b668b6c49",
   "metadata": {
    "execution": {
     "iopub.execute_input": "2022-04-06T20:42:49.406029Z",
     "iopub.status.busy": "2022-04-06T20:42:49.405781Z",
     "iopub.status.idle": "2022-04-06T20:42:49.584404Z",
     "shell.execute_reply": "2022-04-06T20:42:49.573109Z",
     "shell.execute_reply.started": "2022-04-06T20:42:49.405994Z"
    },
    "tags": []
   },
   "outputs": [
    {
     "data": {
      "application/vnd.jupyter.widget-view+json": {
       "model_id": "370385634eee4739b1537b014654adfe",
       "version_major": 2,
       "version_minor": 0
      },
      "text/plain": [
       "VBox()"
      ]
     },
     "metadata": {},
     "output_type": "display_data"
    },
    {
     "data": {
      "application/vnd.jupyter.widget-view+json": {
       "model_id": "",
       "version_major": 2,
       "version_minor": 0
      },
      "text/plain": [
       "FloatProgress(value=0.0, bar_style='info', description='Progress:', layout=Layout(height='25px', width='50%'),…"
      ]
     },
     "metadata": {},
     "output_type": "display_data"
    }
   ],
   "source": [
    "df = df.withColumnRenamed(\"stars\",\"label\")"
   ]
  },
  {
   "cell_type": "code",
   "execution_count": 6,
   "id": "d8fcd859-5092-4bc1-a343-8e047e7d6fdb",
   "metadata": {
    "execution": {
     "iopub.execute_input": "2022-04-06T20:42:49.587470Z",
     "iopub.status.busy": "2022-04-06T20:42:49.585588Z",
     "iopub.status.idle": "2022-04-06T20:42:52.009847Z",
     "shell.execute_reply": "2022-04-06T20:42:52.009005Z",
     "shell.execute_reply.started": "2022-04-06T20:42:49.587426Z"
    },
    "tags": []
   },
   "outputs": [
    {
     "data": {
      "application/vnd.jupyter.widget-view+json": {
       "model_id": "3e02a769872b4d3d84fdf1670ad4f609",
       "version_major": 2,
       "version_minor": 0
      },
      "text/plain": [
       "VBox()"
      ]
     },
     "metadata": {},
     "output_type": "display_data"
    },
    {
     "data": {
      "application/vnd.jupyter.widget-view+json": {
       "model_id": "",
       "version_major": 2,
       "version_minor": 0
      },
      "text/plain": [
       "FloatProgress(value=0.0, bar_style='info', description='Progress:', layout=Layout(height='25px', width='50%'),…"
      ]
     },
     "metadata": {},
     "output_type": "display_data"
    },
    {
     "name": "stdout",
     "output_type": "stream",
     "text": [
      "17"
     ]
    }
   ],
   "source": [
    "df.rdd.getNumPartitions()"
   ]
  },
  {
   "cell_type": "code",
   "execution_count": 7,
   "id": "c06b8fa0-149d-49fd-9cd1-235775cd8b20",
   "metadata": {
    "execution": {
     "iopub.execute_input": "2022-04-06T20:42:52.011306Z",
     "iopub.status.busy": "2022-04-06T20:42:52.010881Z",
     "iopub.status.idle": "2022-04-06T20:43:11.411930Z",
     "shell.execute_reply": "2022-04-06T20:43:11.411115Z",
     "shell.execute_reply.started": "2022-04-06T20:42:52.011266Z"
    },
    "tags": []
   },
   "outputs": [
    {
     "data": {
      "application/vnd.jupyter.widget-view+json": {
       "model_id": "b06c349c5c9743118976fc425df2dc04",
       "version_major": 2,
       "version_minor": 0
      },
      "text/plain": [
       "VBox()"
      ]
     },
     "metadata": {},
     "output_type": "display_data"
    },
    {
     "data": {
      "application/vnd.jupyter.widget-view+json": {
       "model_id": "",
       "version_major": 2,
       "version_minor": 0
      },
      "text/plain": [
       "FloatProgress(value=0.0, bar_style='info', description='Progress:', layout=Layout(height='25px', width='50%'),…"
      ]
     },
     "metadata": {},
     "output_type": "display_data"
    }
   ],
   "source": [
    "df = df.repartition(800).localCheckpoint()"
   ]
  },
  {
   "cell_type": "code",
   "execution_count": 8,
   "id": "53b6d52b-7ff4-4f5c-91b6-46d8f6e2fd85",
   "metadata": {
    "execution": {
     "iopub.execute_input": "2022-04-06T20:43:11.414886Z",
     "iopub.status.busy": "2022-04-06T20:43:11.414374Z",
     "iopub.status.idle": "2022-04-06T20:43:11.572370Z",
     "shell.execute_reply": "2022-04-06T20:43:11.571514Z",
     "shell.execute_reply.started": "2022-04-06T20:43:11.414827Z"
    },
    "tags": []
   },
   "outputs": [
    {
     "data": {
      "application/vnd.jupyter.widget-view+json": {
       "model_id": "51fd64bc0272407b93e8745593d32c90",
       "version_major": 2,
       "version_minor": 0
      },
      "text/plain": [
       "VBox()"
      ]
     },
     "metadata": {},
     "output_type": "display_data"
    },
    {
     "data": {
      "application/vnd.jupyter.widget-view+json": {
       "model_id": "",
       "version_major": 2,
       "version_minor": 0
      },
      "text/plain": [
       "FloatProgress(value=0.0, bar_style='info', description='Progress:', layout=Layout(height='25px', width='50%'),…"
      ]
     },
     "metadata": {},
     "output_type": "display_data"
    },
    {
     "name": "stdout",
     "output_type": "stream",
     "text": [
      "800"
     ]
    }
   ],
   "source": [
    "df.rdd.getNumPartitions()"
   ]
  },
  {
   "cell_type": "code",
   "execution_count": 9,
   "id": "a8bf6e79-76d6-4692-b8c0-0e160e7726f9",
   "metadata": {
    "execution": {
     "iopub.execute_input": "2022-04-06T20:43:11.574409Z",
     "iopub.status.busy": "2022-04-06T20:43:11.573914Z",
     "iopub.status.idle": "2022-04-06T20:43:11.654101Z",
     "shell.execute_reply": "2022-04-06T20:43:11.653374Z",
     "shell.execute_reply.started": "2022-04-06T20:43:11.574380Z"
    },
    "tags": []
   },
   "outputs": [
    {
     "data": {
      "application/vnd.jupyter.widget-view+json": {
       "model_id": "b5d97d01077e436aad933d76cffbede8",
       "version_major": 2,
       "version_minor": 0
      },
      "text/plain": [
       "VBox()"
      ]
     },
     "metadata": {},
     "output_type": "display_data"
    },
    {
     "data": {
      "application/vnd.jupyter.widget-view+json": {
       "model_id": "",
       "version_major": 2,
       "version_minor": 0
      },
      "text/plain": [
       "FloatProgress(value=0.0, bar_style='info', description='Progress:', layout=Layout(height='25px', width='50%'),…"
      ]
     },
     "metadata": {},
     "output_type": "display_data"
    },
    {
     "name": "stdout",
     "output_type": "stream",
     "text": [
      "root\n",
      " |-- label: double (nullable = true)\n",
      " |-- stemmed: array (nullable = true)\n",
      " |    |-- element: string (containsNull = true)\n",
      " |-- features: vector (nullable = true)"
     ]
    }
   ],
   "source": [
    "df.printSchema()"
   ]
  },
  {
   "cell_type": "code",
   "execution_count": 10,
   "id": "eb255ccc",
   "metadata": {
    "execution": {
     "iopub.execute_input": "2022-04-06T20:43:11.661102Z",
     "iopub.status.busy": "2022-04-06T20:43:11.660700Z",
     "iopub.status.idle": "2022-04-06T20:43:11.855540Z",
     "shell.execute_reply": "2022-04-06T20:43:11.853810Z",
     "shell.execute_reply.started": "2022-04-06T20:43:11.661063Z"
    },
    "tags": []
   },
   "outputs": [
    {
     "data": {
      "application/vnd.jupyter.widget-view+json": {
       "model_id": "fe09cfa2fab24de9bc313f7f8a521159",
       "version_major": 2,
       "version_minor": 0
      },
      "text/plain": [
       "VBox()"
      ]
     },
     "metadata": {},
     "output_type": "display_data"
    },
    {
     "data": {
      "application/vnd.jupyter.widget-view+json": {
       "model_id": "",
       "version_major": 2,
       "version_minor": 0
      },
      "text/plain": [
       "FloatProgress(value=0.0, bar_style='info', description='Progress:', layout=Layout(height='25px', width='50%'),…"
      ]
     },
     "metadata": {},
     "output_type": "display_data"
    }
   ],
   "source": [
    "#gbt = Classifier(featuresCol='features',labelCol=\"stars\")\n",
    "#model = DecisionTree.trainClassifier(sc.parallelize(df), 5, {})\n",
    "#NB = NaiveBayes(featuresCol='features', labelCol='label', smoothing=1.0, modelType='multinomial', thresholds=None, weightCol=None)\n",
    "#rf = classification.DecisionTreeClassifier(featuresCol='features',maxDepth=3, labelCol=\"stars\",predictionCol='prediction', seed=42)\n",
    "\n",
    "lr = classification.LogisticRegression(maxIter=500, regParam=0.02, elasticNetParam=0, tol=1E-6, standardization=False, family=\"binomial\")\n",
    "\n",
    "#lr = classification.LogisticRegression(family=\"multinomial\")\n",
    "ovr = classification.OneVsRest(classifier=lr)"
   ]
  },
  {
   "cell_type": "code",
   "execution_count": 11,
   "id": "be3a1433-454c-4845-b4a7-5ecbdbbd917e",
   "metadata": {
    "execution": {
     "iopub.execute_input": "2022-04-06T20:43:11.856679Z",
     "iopub.status.busy": "2022-04-06T20:43:11.856451Z",
     "iopub.status.idle": "2022-04-06T20:53:26.832197Z",
     "shell.execute_reply": "2022-04-06T20:53:26.831533Z",
     "shell.execute_reply.started": "2022-04-06T20:43:11.856644Z"
    },
    "tags": []
   },
   "outputs": [
    {
     "data": {
      "application/vnd.jupyter.widget-view+json": {
       "model_id": "b10b5192bb154b27b3912e50b6b4b647",
       "version_major": 2,
       "version_minor": 0
      },
      "text/plain": [
       "VBox()"
      ]
     },
     "metadata": {},
     "output_type": "display_data"
    },
    {
     "data": {
      "application/vnd.jupyter.widget-view+json": {
       "model_id": "",
       "version_major": 2,
       "version_minor": 0
      },
      "text/plain": [
       "FloatProgress(value=0.0, bar_style='info', description='Progress:', layout=Layout(height='25px', width='50%'),…"
      ]
     },
     "metadata": {},
     "output_type": "display_data"
    }
   ],
   "source": [
    "ovrModel = ovr.fit(df)"
   ]
  },
  {
   "cell_type": "code",
   "execution_count": null,
   "id": "e1876aea-9c3c-4ab3-99b0-a590ebb4f080",
   "metadata": {
    "execution": {
     "iopub.execute_input": "2022-04-06T17:37:52.868154Z",
     "iopub.status.busy": "2022-04-06T17:37:52.867926Z"
    },
    "tags": []
   },
   "outputs": [
    {
     "data": {
      "application/vnd.jupyter.widget-view+json": {
       "model_id": "c921d2ff62ac4438b4149c98d3374c4a",
       "version_major": 2,
       "version_minor": 0
      },
      "text/plain": [
       "VBox()"
      ]
     },
     "metadata": {},
     "output_type": "display_data"
    },
    {
     "data": {
      "application/vnd.jupyter.widget-view+json": {
       "model_id": "3738a80abdf64c4eb06506bd1368f4fc",
       "version_major": 2,
       "version_minor": 0
      },
      "text/plain": [
       "FloatProgress(value=0.0, bar_style='info', description='Progress:', layout=Layout(height='25px', width='50%'),…"
      ]
     },
     "metadata": {},
     "output_type": "display_data"
    },
    {
     "name": "stderr",
     "output_type": "stream",
     "text": [
      "Exception in thread cell_monitor-12:\n",
      "Traceback (most recent call last):\n",
      "  File \"/mnt/notebook-env/lib/python3.7/threading.py\", line 926, in _bootstrap_inner\n",
      "    self.run()\n",
      "  File \"/mnt/notebook-env/lib/python3.7/threading.py\", line 870, in run\n",
      "    self._target(*self._args, **self._kwargs)\n",
      "  File \"/mnt/notebook-env/lib/python3.7/site-packages/awseditorssparkmonitoringwidget-1.0-py3.7.egg/awseditorssparkmonitoringwidget/cellmonitor.py\", line 178, in cell_monitor\n",
      "    job_binned_stages[job_id][stage_id] = all_stages[stage_id]\n",
      "KeyError: 1397\n",
      "\n"
     ]
    }
   ],
   "source": [
    "\n",
    "# paramGrid = tuning.ParamGridBuilder().addGrid(lr.maxIter, [30,50,75]) \\\n",
    "#                               .addGrid(lr.regParam, [0.03, 0.04, 0.05]) \\\n",
    "#                               .addGrid(lr.elasticNetParam, [0.1,0.2,0.3]) \\\n",
    "#                               .build()\n",
    "# evaluator = MulticlassClassificationEvaluator()\n",
    "# valid = tuning.TrainValidationSplit(estimator=lr,\n",
    "#                              estimatorParamMaps=paramGrid,\n",
    "#                              evaluator=evaluator,\n",
    "#                              trainRatio=0.80)\n",
    "# model = valid.fit(df)"
   ]
  },
  {
   "cell_type": "code",
   "execution_count": 14,
   "id": "302650b7-4ffc-4457-a32d-c7b502b13bcb",
   "metadata": {
    "execution": {
     "iopub.execute_input": "2022-04-06T15:04:03.110681Z",
     "iopub.status.busy": "2022-04-06T15:04:03.110451Z",
     "iopub.status.idle": "2022-04-06T15:04:03.373402Z",
     "shell.execute_reply": "2022-04-06T15:04:03.372567Z",
     "shell.execute_reply.started": "2022-04-06T15:04:03.110657Z"
    },
    "tags": []
   },
   "outputs": [
    {
     "data": {
      "application/vnd.jupyter.widget-view+json": {
       "model_id": "51a4b21d2f124f3bba8f7f6954ae086d",
       "version_major": 2,
       "version_minor": 0
      },
      "text/plain": [
       "VBox()"
      ]
     },
     "metadata": {},
     "output_type": "display_data"
    },
    {
     "data": {
      "application/vnd.jupyter.widget-view+json": {
       "model_id": "",
       "version_major": 2,
       "version_minor": 0
      },
      "text/plain": [
       "FloatProgress(value=0.0, bar_style='info', description='Progress:', layout=Layout(height='25px', width='50%'),…"
      ]
     },
     "metadata": {},
     "output_type": "display_data"
    }
   ],
   "source": [
    "best_model = model.transform(df)"
   ]
  },
  {
   "cell_type": "code",
   "execution_count": null,
   "id": "6df18521",
   "metadata": {
    "tags": []
   },
   "outputs": [],
   "source": [
    "#rf_model = rf.fit(df)\n",
    "\n",
    "#lrModel = ovr.fit(df)"
   ]
  },
  {
   "cell_type": "code",
   "execution_count": 12,
   "id": "cddce223",
   "metadata": {
    "execution": {
     "iopub.execute_input": "2022-04-06T20:53:40.751921Z",
     "iopub.status.busy": "2022-04-06T20:53:40.751403Z",
     "iopub.status.idle": "2022-04-06T20:53:41.566511Z",
     "shell.execute_reply": "2022-04-06T20:53:41.564629Z",
     "shell.execute_reply.started": "2022-04-06T20:53:40.751776Z"
    },
    "tags": []
   },
   "outputs": [
    {
     "data": {
      "application/vnd.jupyter.widget-view+json": {
       "model_id": "b801deace41644218caf4bd015ef4e06",
       "version_major": 2,
       "version_minor": 0
      },
      "text/plain": [
       "VBox()"
      ]
     },
     "metadata": {},
     "output_type": "display_data"
    },
    {
     "data": {
      "application/vnd.jupyter.widget-view+json": {
       "model_id": "",
       "version_major": 2,
       "version_minor": 0
      },
      "text/plain": [
       "FloatProgress(value=0.0, bar_style='info', description='Progress:', layout=Layout(height='25px', width='50%'),…"
      ]
     },
     "metadata": {},
     "output_type": "display_data"
    }
   ],
   "source": [
    "result = ovrModel.transform(df)"
   ]
  },
  {
   "cell_type": "code",
   "execution_count": 20,
   "id": "c2c12d66-9132-4c1c-8672-330a517b4179",
   "metadata": {
    "execution": {
     "iopub.execute_input": "2022-04-06T20:39:38.443833Z",
     "iopub.status.busy": "2022-04-06T20:39:38.443495Z",
     "iopub.status.idle": "2022-04-06T20:39:38.541138Z",
     "shell.execute_reply": "2022-04-06T20:39:38.540469Z",
     "shell.execute_reply.started": "2022-04-06T20:39:38.443791Z"
    },
    "tags": []
   },
   "outputs": [
    {
     "data": {
      "application/vnd.jupyter.widget-view+json": {
       "model_id": "264113243718402b948b35cb54b57e34",
       "version_major": 2,
       "version_minor": 0
      },
      "text/plain": [
       "VBox()"
      ]
     },
     "metadata": {},
     "output_type": "display_data"
    },
    {
     "data": {
      "application/vnd.jupyter.widget-view+json": {
       "model_id": "",
       "version_major": 2,
       "version_minor": 0
      },
      "text/plain": [
       "FloatProgress(value=0.0, bar_style='info', description='Progress:', layout=Layout(height='25px', width='50%'),…"
      ]
     },
     "metadata": {},
     "output_type": "display_data"
    },
    {
     "name": "stdout",
     "output_type": "stream",
     "text": [
      "root\n",
      " |-- label: double (nullable = true)\n",
      " |-- stemmed: array (nullable = true)\n",
      " |    |-- element: string (containsNull = true)\n",
      " |-- features: vector (nullable = true)\n",
      " |-- prediction: double (nullable = true)"
     ]
    }
   ],
   "source": [
    "#best_model.printSchema()\n",
    "result.printSchema()"
   ]
  },
  {
   "cell_type": "code",
   "execution_count": 14,
   "id": "d2e217ef-5c20-4646-acf9-93c95b2d84af",
   "metadata": {
    "execution": {
     "iopub.execute_input": "2022-04-06T20:28:56.838481Z",
     "iopub.status.busy": "2022-04-06T20:28:56.838137Z",
     "iopub.status.idle": "2022-04-06T20:29:02.185576Z",
     "shell.execute_reply": "2022-04-06T20:29:02.184864Z",
     "shell.execute_reply.started": "2022-04-06T20:28:56.838439Z"
    },
    "tags": []
   },
   "outputs": [
    {
     "data": {
      "application/vnd.jupyter.widget-view+json": {
       "model_id": "0d723d0fe1324745a18b41630e5158e7",
       "version_major": 2,
       "version_minor": 0
      },
      "text/plain": [
       "VBox()"
      ]
     },
     "metadata": {},
     "output_type": "display_data"
    },
    {
     "data": {
      "application/vnd.jupyter.widget-view+json": {
       "model_id": "",
       "version_major": 2,
       "version_minor": 0
      },
      "text/plain": [
       "FloatProgress(value=0.0, bar_style='info', description='Progress:', layout=Layout(height='25px', width='50%'),…"
      ]
     },
     "metadata": {},
     "output_type": "display_data"
    },
    {
     "name": "stdout",
     "output_type": "stream",
     "text": [
      "+-----+--------------------+--------------------+----------+\n",
      "|label|             stemmed|            features|prediction|\n",
      "+-----+--------------------+--------------------+----------+\n",
      "|  2.0|[tonight, place, ...|(65536,[1810,3584...|       1.0|\n",
      "|  3.0|[great, dog, loca...|(65536,[2392,3683...|       4.0|\n",
      "|  1.0|[busi, sell, expe...|(65536,[2089,5173...|       1.0|\n",
      "|  2.0|[micki, spell, wo...|(65536,[755,2579,...|       1.0|\n",
      "|  1.0|[1, instanc, cowo...|(65536,[2182,2673...|       1.0|\n",
      "|  2.0|[pho, unremark, g...|(65536,[3811,7663...|       3.0|\n",
      "|  2.0|[dish, order, tot...|(65536,[427,2182,...|       4.0|\n",
      "|  5.0|[live, close, del...|(65536,[16842,176...|       1.0|\n",
      "|  1.0|[edit, friend, fo...|(65536,[338,556,1...|       2.0|\n",
      "|  5.0|[realiz, written,...|(65536,[556,1971,...|       5.0|\n",
      "+-----+--------------------+--------------------+----------+\n",
      "only showing top 10 rows"
     ]
    }
   ],
   "source": [
    "#best_model.show()\n",
    "result.show(10)"
   ]
  },
  {
   "cell_type": "code",
   "execution_count": 15,
   "id": "d052ced0-b045-4488-8aec-e6f6113db295",
   "metadata": {
    "execution": {
     "iopub.execute_input": "2022-04-06T20:29:06.366467Z",
     "iopub.status.busy": "2022-04-06T20:29:06.366104Z",
     "iopub.status.idle": "2022-04-06T20:29:06.466117Z",
     "shell.execute_reply": "2022-04-06T20:29:06.465427Z",
     "shell.execute_reply.started": "2022-04-06T20:29:06.366422Z"
    },
    "tags": []
   },
   "outputs": [
    {
     "data": {
      "application/vnd.jupyter.widget-view+json": {
       "model_id": "980966b05c62454b8e73c6d949bdf364",
       "version_major": 2,
       "version_minor": 0
      },
      "text/plain": [
       "VBox()"
      ]
     },
     "metadata": {},
     "output_type": "display_data"
    },
    {
     "data": {
      "application/vnd.jupyter.widget-view+json": {
       "model_id": "",
       "version_major": 2,
       "version_minor": 0
      },
      "text/plain": [
       "FloatProgress(value=0.0, bar_style='info', description='Progress:', layout=Layout(height='25px', width='50%'),…"
      ]
     },
     "metadata": {},
     "output_type": "display_data"
    },
    {
     "name": "stdout",
     "output_type": "stream",
     "text": [
      "'classifier: base binary classifier (current: LogisticRegression_450e9fd26efb)\\nfeaturesCol: features column name. (default: features)\\nlabelCol: label column name. (default: label)\\npredictionCol: prediction column name. (default: prediction)\\nweightCol: weight column name. If this is not set or empty, we treat all instance weights as 1.0. (undefined)'"
     ]
    }
   ],
   "source": [
    "ovrModel.explainParams()"
   ]
  },
  {
   "cell_type": "code",
   "execution_count": 25,
   "id": "0ba0c94f-6bb6-49ef-9980-26b6e845045e",
   "metadata": {
    "execution": {
     "iopub.execute_input": "2022-04-06T15:17:12.541852Z",
     "iopub.status.busy": "2022-04-06T15:17:12.541625Z",
     "iopub.status.idle": "2022-04-06T15:17:12.601031Z",
     "shell.execute_reply": "2022-04-06T15:17:12.600128Z",
     "shell.execute_reply.started": "2022-04-06T15:17:12.541827Z"
    },
    "tags": []
   },
   "outputs": [
    {
     "data": {
      "application/vnd.jupyter.widget-view+json": {
       "model_id": "9c665a8a80dc4bcd9a6b0b77bbed3eba",
       "version_major": 2,
       "version_minor": 0
      },
      "text/plain": [
       "VBox()"
      ]
     },
     "metadata": {},
     "output_type": "display_data"
    },
    {
     "data": {
      "application/vnd.jupyter.widget-view+json": {
       "model_id": "",
       "version_major": 2,
       "version_minor": 0
      },
      "text/plain": [
       "FloatProgress(value=0.0, bar_style='info', description='Progress:', layout=Layout(height='25px', width='50%'),…"
      ]
     },
     "metadata": {},
     "output_type": "display_data"
    },
    {
     "name": "stdout",
     "output_type": "stream",
     "text": [
      "{Param(parent='LogisticRegression_664b4ff26ea8', name='aggregationDepth', doc='suggested depth for treeAggregate (>= 2)'): 2, Param(parent='LogisticRegression_664b4ff26ea8', name='elasticNetParam', doc='the ElasticNet mixing parameter, in range [0, 1]. For alpha = 0, the penalty is an L2 penalty. For alpha = 1, it is an L1 penalty'): 0.1, Param(parent='LogisticRegression_664b4ff26ea8', name='family', doc='The name of family which is a description of the label distribution to be used in the model. Supported options: auto, binomial, multinomial.'): 'multinomial', Param(parent='LogisticRegression_664b4ff26ea8', name='featuresCol', doc='features column name'): 'features', Param(parent='LogisticRegression_664b4ff26ea8', name='fitIntercept', doc='whether to fit an intercept term'): True, Param(parent='LogisticRegression_664b4ff26ea8', name='labelCol', doc='label column name'): 'label', Param(parent='LogisticRegression_664b4ff26ea8', name='maxIter', doc='maximum number of iterations (>= 0)'): 75, Param(parent='LogisticRegression_664b4ff26ea8', name='predictionCol', doc='prediction column name'): 'prediction', Param(parent='LogisticRegression_664b4ff26ea8', name='probabilityCol', doc='Column name for predicted class conditional probabilities. Note: Not all models output well-calibrated probability estimates! These probabilities should be treated as confidences, not precise probabilities'): 'probability', Param(parent='LogisticRegression_664b4ff26ea8', name='rawPredictionCol', doc='raw prediction (a.k.a. confidence) column name'): 'rawPrediction', Param(parent='LogisticRegression_664b4ff26ea8', name='regParam', doc='regularization parameter (>= 0)'): 0.03, Param(parent='LogisticRegression_664b4ff26ea8', name='standardization', doc='whether to standardize the training features before fitting the model'): True, Param(parent='LogisticRegression_664b4ff26ea8', name='threshold', doc='threshold in binary classification prediction, in range [0, 1]'): 0.5, Param(parent='LogisticRegression_664b4ff26ea8', name='tol', doc='the convergence tolerance for iterative algorithms (>= 0)'): 1e-06}"
     ]
    }
   ],
   "source": [
    "#best_model = model.bestModel.transform(df)"
   ]
  },
  {
   "cell_type": "code",
   "execution_count": 26,
   "id": "bb134c06-6301-4731-8488-57d90a45e6e9",
   "metadata": {
    "execution": {
     "iopub.execute_input": "2022-04-06T15:19:31.207639Z",
     "iopub.status.busy": "2022-04-06T15:19:31.207413Z",
     "iopub.status.idle": "2022-04-06T15:19:31.465588Z",
     "shell.execute_reply": "2022-04-06T15:19:31.464836Z",
     "shell.execute_reply.started": "2022-04-06T15:19:31.207616Z"
    }
   },
   "outputs": [
    {
     "data": {
      "application/vnd.jupyter.widget-view+json": {
       "model_id": "a0144cad080c49fab1b13fda597999ad",
       "version_major": 2,
       "version_minor": 0
      },
      "text/plain": [
       "VBox()"
      ]
     },
     "metadata": {},
     "output_type": "display_data"
    },
    {
     "data": {
      "application/vnd.jupyter.widget-view+json": {
       "model_id": "",
       "version_major": 2,
       "version_minor": 0
      },
      "text/plain": [
       "FloatProgress(value=0.0, bar_style='info', description='Progress:', layout=Layout(height='25px', width='50%'),…"
      ]
     },
     "metadata": {},
     "output_type": "display_data"
    }
   ],
   "source": [
    "best_model_t = model.bestModel.transform(df)"
   ]
  },
  {
   "cell_type": "code",
   "execution_count": null,
   "id": "ffc68673-084d-46b1-963c-993ca856186a",
   "metadata": {
    "execution": {
     "iopub.execute_input": "2022-04-06T20:53:46.433270Z",
     "iopub.status.busy": "2022-04-06T20:53:46.432649Z"
    },
    "tags": []
   },
   "outputs": [
    {
     "data": {
      "application/vnd.jupyter.widget-view+json": {
       "model_id": "af5f0d8b183d46e28bf31befa08f8b65",
       "version_major": 2,
       "version_minor": 0
      },
      "text/plain": [
       "VBox()"
      ]
     },
     "metadata": {},
     "output_type": "display_data"
    },
    {
     "data": {
      "application/vnd.jupyter.widget-view+json": {
       "model_id": "ea19a7fb9b4943f19bfe1f32d7f6f76c",
       "version_major": 2,
       "version_minor": 0
      },
      "text/plain": [
       "FloatProgress(value=0.0, bar_style='info', description='Progress:', layout=Layout(height='25px', width='50%'),…"
      ]
     },
     "metadata": {},
     "output_type": "display_data"
    }
   ],
   "source": [
    "\n",
    "evaluator = MulticlassClassificationEvaluator(predictionCol=\"prediction\")\n",
    "evaluator.evaluate(result,{evaluator.metricName: \"accuracy\"})"
   ]
  },
  {
   "cell_type": "code",
   "execution_count": 7,
   "id": "3aaa2c6a-00a9-419b-82f2-d11f48204bd8",
   "metadata": {
    "execution": {
     "iopub.execute_input": "2022-04-03T10:06:07.805451Z",
     "iopub.status.busy": "2022-04-03T10:06:07.805208Z",
     "iopub.status.idle": "2022-04-03T10:06:08.076526Z",
     "shell.execute_reply": "2022-04-03T10:06:08.075771Z",
     "shell.execute_reply.started": "2022-04-03T10:06:07.805424Z"
    }
   },
   "outputs": [
    {
     "data": {
      "application/vnd.jupyter.widget-view+json": {
       "model_id": "6a9a3d8e6b564ecbaef20a36fb03455f",
       "version_major": 2,
       "version_minor": 0
      },
      "text/plain": [
       "VBox()"
      ]
     },
     "metadata": {},
     "output_type": "display_data"
    },
    {
     "data": {
      "application/vnd.jupyter.widget-view+json": {
       "model_id": "",
       "version_major": 2,
       "version_minor": 0
      },
      "text/plain": [
       "FloatProgress(value=0.0, bar_style='info', description='Progress:', layout=Layout(height='25px', width='50%'),…"
      ]
     },
     "metadata": {},
     "output_type": "display_data"
    }
   ],
   "source": [
    "sc.stop()"
   ]
  },
  {
   "cell_type": "code",
   "execution_count": null,
   "id": "06d11f38-2091-474e-b6ec-3af0d771791a",
   "metadata": {},
   "outputs": [],
   "source": []
  }
 ],
 "metadata": {
  "kernelspec": {
   "display_name": "PySpark",
   "language": "",
   "name": "pysparkkernel"
  },
  "language_info": {
   "codemirror_mode": {
    "name": "python",
    "version": 3
   },
   "mimetype": "text/x-python",
   "name": "pyspark",
   "pygments_lexer": "python3"
  }
 },
 "nbformat": 4,
 "nbformat_minor": 5
}
