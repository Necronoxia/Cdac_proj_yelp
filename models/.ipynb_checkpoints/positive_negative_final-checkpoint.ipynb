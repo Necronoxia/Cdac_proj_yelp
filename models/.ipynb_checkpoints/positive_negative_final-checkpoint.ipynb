{
 "cells": [
  {
   "cell_type": "markdown",
   "id": "dd590b3e-291d-4fcb-81df-4637713bdc7f",
   "metadata": {},
   "source": [
    "# Installing Libraries"
   ]
  },
  {
   "cell_type": "code",
   "execution_count": 1,
   "id": "17a5645a-5cfd-4240-9569-89e25e9d5153",
   "metadata": {
    "execution": {
     "iopub.execute_input": "2022-04-09T14:52:35.216991Z",
     "iopub.status.busy": "2022-04-09T14:52:35.216723Z",
     "iopub.status.idle": "2022-04-09T14:53:41.667761Z",
     "shell.execute_reply": "2022-04-09T14:53:41.666778Z",
     "shell.execute_reply.started": "2022-04-09T14:52:35.216959Z"
    },
    "tags": []
   },
   "outputs": [
    {
     "data": {
      "application/vnd.jupyter.widget-view+json": {
       "model_id": "1210d96dc9f74b15b4385e6eea3bfe29",
       "version_major": 2,
       "version_minor": 0
      },
      "text/plain": [
       "VBox()"
      ]
     },
     "metadata": {},
     "output_type": "display_data"
    },
    {
     "name": "stdout",
     "output_type": "stream",
     "text": [
      "Starting Spark application\n"
     ]
    },
    {
     "data": {
      "text/html": [
       "<table>\n",
       "<tr><th>ID</th><th>YARN Application ID</th><th>Kind</th><th>State</th><th>Spark UI</th><th>Driver log</th><th>Current session?</th></tr><tr><td>3</td><td>application_1649515087951_0013</td><td>pyspark</td><td>idle</td><td><a target=\"_blank\" href=\"http://ip-172-31-53-84.ec2.internal:20888/proxy/application_1649515087951_0013/\" class=\"emr-proxy-link\" emr-resource=\"j-1FI14ZNJJ6D1E\n",
       "\" application-id=\"application_1649515087951_0013\">Link</a></td><td><a target=\"_blank\" href=\"http://ip-172-31-62-226.ec2.internal:8042/node/containerlogs/container_1649515087951_0013_01_000001/livy\" >Link</a></td><td>✔</td></tr></table>"
      ],
      "text/plain": [
       "<IPython.core.display.HTML object>"
      ]
     },
     "metadata": {},
     "output_type": "display_data"
    },
    {
     "data": {
      "application/vnd.jupyter.widget-view+json": {
       "model_id": "",
       "version_major": 2,
       "version_minor": 0
      },
      "text/plain": [
       "FloatProgress(value=0.0, bar_style='info', description='Progress:', layout=Layout(height='25px', width='50%'),…"
      ]
     },
     "metadata": {},
     "output_type": "display_data"
    },
    {
     "name": "stdout",
     "output_type": "stream",
     "text": [
      "SparkSession available as 'spark'.\n"
     ]
    },
    {
     "data": {
      "application/vnd.jupyter.widget-view+json": {
       "model_id": "",
       "version_major": 2,
       "version_minor": 0
      },
      "text/plain": [
       "FloatProgress(value=0.0, bar_style='info', description='Progress:', layout=Layout(height='25px', width='50%'),…"
      ]
     },
     "metadata": {},
     "output_type": "display_data"
    },
    {
     "name": "stdout",
     "output_type": "stream",
     "text": [
      "Collecting pandas==0.25.1\n",
      "  Downloading https://files.pythonhosted.org/packages/7e/ab/ea76361f9d3e732e114adcd801d2820d5319c23d0ac5482fa3b412db217e/pandas-0.25.1-cp37-cp37m-manylinux1_x86_64.whl (10.4MB)\n",
      "Requirement already satisfied: pytz>=2017.2 in /usr/local/lib/python3.7/site-packages (from pandas==0.25.1)\n",
      "Requirement already satisfied: numpy>=1.13.3 in /usr/local/lib64/python3.7/site-packages (from pandas==0.25.1)\n",
      "Collecting python-dateutil>=2.6.1 (from pandas==0.25.1)\n",
      "  Downloading https://files.pythonhosted.org/packages/36/7a/87837f39d0296e723bb9b62bbb257d0355c7f6128853c78955f57342a56d/python_dateutil-2.8.2-py2.py3-none-any.whl (247kB)\n",
      "Requirement already satisfied: six>=1.5 in /usr/local/lib/python3.7/site-packages (from python-dateutil>=2.6.1->pandas==0.25.1)\n",
      "Installing collected packages: python-dateutil, pandas\n",
      "Successfully installed pandas-0.25.1 python-dateutil-2.8.2\n",
      "\n",
      "Collecting textblob\n",
      "  Downloading https://files.pythonhosted.org/packages/44/a4/595b66c1342a830f4ff476307c4367541cce3e361b9ee96d22a5eeeddd1d/textblob-0.17.1-py2.py3-none-any.whl (636kB)\n",
      "Requirement already satisfied: nltk>=3.1; python_version >= \"3\" in /usr/local/lib/python3.7/site-packages (from textblob)\n",
      "Requirement already satisfied: click in /usr/local/lib64/python3.7/site-packages (from nltk>=3.1; python_version >= \"3\"->textblob)\n",
      "Requirement already satisfied: joblib in /usr/local/lib64/python3.7/site-packages (from nltk>=3.1; python_version >= \"3\"->textblob)\n",
      "Requirement already satisfied: regex in /usr/local/lib64/python3.7/site-packages (from nltk>=3.1; python_version >= \"3\"->textblob)\n",
      "Requirement already satisfied: tqdm in /usr/local/lib64/python3.7/site-packages (from nltk>=3.1; python_version >= \"3\"->textblob)\n",
      "Installing collected packages: textblob\n",
      "Successfully installed textblob-0.17.1\n",
      "\n",
      "Collecting matplotlib==3.1.1\n",
      "  Downloading https://files.pythonhosted.org/packages/19/7a/60bd79c5d79559150f8bba866dd7d434f0a170312e4d15e8aefa5faba294/matplotlib-3.1.1-cp37-cp37m-manylinux1_x86_64.whl (13.1MB)\n",
      "Requirement already satisfied: python-dateutil>=2.1 in /mnt/tmp/1649515984805-0/lib/python3.7/site-packages (from matplotlib==3.1.1)\n",
      "Collecting pyparsing!=2.0.4,!=2.1.2,!=2.1.6,>=2.0.1 (from matplotlib==3.1.1)\n",
      "  Downloading https://files.pythonhosted.org/packages/80/c1/23fd82ad3121656b585351aba6c19761926bb0db2ebed9e4ff09a43a3fcc/pyparsing-3.0.7-py3-none-any.whl (98kB)\n",
      "Collecting cycler>=0.10 (from matplotlib==3.1.1)\n",
      "  Downloading https://files.pythonhosted.org/packages/5c/f9/695d6bedebd747e5eb0fe8fad57b72fdf25411273a39791cde838d5a8f51/cycler-0.11.0-py3-none-any.whl\n",
      "Requirement already satisfied: numpy>=1.11 in /usr/local/lib64/python3.7/site-packages (from matplotlib==3.1.1)\n",
      "Collecting kiwisolver>=1.0.1 (from matplotlib==3.1.1)\n",
      "  Downloading https://files.pythonhosted.org/packages/51/50/9a9a94afa26c50fc5d9127272737806990aa698c7a1c220b8e5075e70304/kiwisolver-1.4.2-cp37-cp37m-manylinux_2_5_x86_64.manylinux1_x86_64.whl (1.1MB)\n",
      "Requirement already satisfied: six>=1.5 in /usr/local/lib/python3.7/site-packages (from python-dateutil>=2.1->matplotlib==3.1.1)\n",
      "Collecting typing-extensions; python_version < \"3.8\" (from kiwisolver>=1.0.1->matplotlib==3.1.1)\n",
      "  Downloading https://files.pythonhosted.org/packages/45/6b/44f7f8f1e110027cf88956b59f2fad776cca7e1704396d043f89effd3a0e/typing_extensions-4.1.1-py3-none-any.whl\n",
      "Installing collected packages: pyparsing, cycler, typing-extensions, kiwisolver, matplotlib\n",
      "Successfully installed cycler-0.11.0 kiwisolver-1.4.2 matplotlib-3.1.1 pyparsing-3.0.7 typing-extensions-4.1.1"
     ]
    }
   ],
   "source": [
    "sc.install_pypi_package(\"pandas==0.25.1\")\n",
    "sc.install_pypi_package(\"textblob\")\n",
    "sc.install_pypi_package(\"matplotlib==3.1.1\", \"https://pypi.org/simple\")"
   ]
  },
  {
   "cell_type": "markdown",
   "id": "583e153c-b2f2-4878-abfd-971d6d8c7f88",
   "metadata": {},
   "source": [
    "# Importing Libraries"
   ]
  },
  {
   "cell_type": "code",
   "execution_count": 2,
   "id": "fe806516-fb0d-4fda-a241-8cd0d25ad5a4",
   "metadata": {
    "execution": {
     "iopub.execute_input": "2022-04-09T14:53:41.669356Z",
     "iopub.status.busy": "2022-04-09T14:53:41.669126Z",
     "iopub.status.idle": "2022-04-09T14:53:42.487540Z",
     "shell.execute_reply": "2022-04-09T14:53:42.486506Z",
     "shell.execute_reply.started": "2022-04-09T14:53:41.669327Z"
    },
    "tags": []
   },
   "outputs": [
    {
     "data": {
      "application/vnd.jupyter.widget-view+json": {
       "model_id": "6cb7cfe9f50e41b0b8ddbb85c4a276cd",
       "version_major": 2,
       "version_minor": 0
      },
      "text/plain": [
       "VBox()"
      ]
     },
     "metadata": {},
     "output_type": "display_data"
    },
    {
     "data": {
      "application/vnd.jupyter.widget-view+json": {
       "model_id": "",
       "version_major": 2,
       "version_minor": 0
      },
      "text/plain": [
       "FloatProgress(value=0.0, bar_style='info', description='Progress:', layout=Layout(height='25px', width='50%'),…"
      ]
     },
     "metadata": {},
     "output_type": "display_data"
    }
   ],
   "source": [
    "from pyspark.sql.functions import *\n",
    "from pyspark.sql.functions import udf\n",
    "from pyspark.sql.types import IntegerType\n",
    "\n",
    "from pyspark.mllib.classification import SVMModel, SVMWithSGD\n",
    "from pyspark.mllib.regression import LabeledPoint\n",
    "from pyspark.mllib.linalg import Vectors as MLLibVectors\n",
    "from pyspark.ml import Pipeline\n",
    "from pyspark.ml.evaluation import BinaryClassificationEvaluator, MulticlassClassificationEvaluator\n",
    "from pyspark.ml.feature import * \n",
    "from pyspark.ml.tuning import CrossValidator\n",
    "from pyspark.ml.tuning import ParamGridBuilder\n",
    "\n",
    "\n",
    "from nltk.stem.porter import *\n",
    "from nltk.tokenize import word_tokenize, sent_tokenize\n",
    "from nltk.corpus import stopwords\n",
    "\n",
    "\n",
    "from pyspark.ml.feature import IDF\n",
    "\n",
    "#import pandas as pd\n",
    "import string \n",
    "import re \n",
    "\n",
    "from textblob import TextBlob\n",
    "from pyspark.sql.functions import udf\n",
    "from pyspark.sql.types import DoubleType\n",
    "\n",
    "from pyspark.ml import Pipeline\n",
    "from pyspark.ml.feature import OneHotEncoder, StringIndexer, VectorAssembler\n"
   ]
  },
  {
   "cell_type": "markdown",
   "id": "c0e483dd-68e5-4dd4-9a1c-3a8f48ebb14f",
   "metadata": {},
   "source": [
    "# Data Loading"
   ]
  },
  {
   "cell_type": "code",
   "execution_count": 27,
   "id": "ec8b70ef-27ae-459c-b66a-e74310911f93",
   "metadata": {
    "execution": {
     "iopub.execute_input": "2022-04-09T15:02:11.976085Z",
     "iopub.status.busy": "2022-04-09T15:02:11.975779Z",
     "iopub.status.idle": "2022-04-09T15:02:12.767922Z",
     "shell.execute_reply": "2022-04-09T15:02:12.767164Z",
     "shell.execute_reply.started": "2022-04-09T15:02:11.976053Z"
    },
    "tags": []
   },
   "outputs": [
    {
     "data": {
      "application/vnd.jupyter.widget-view+json": {
       "model_id": "5a2df69cb03348bcb9aea968b227e63d",
       "version_major": 2,
       "version_minor": 0
      },
      "text/plain": [
       "VBox()"
      ]
     },
     "metadata": {},
     "output_type": "display_data"
    },
    {
     "data": {
      "application/vnd.jupyter.widget-view+json": {
       "model_id": "",
       "version_major": 2,
       "version_minor": 0
      },
      "text/plain": [
       "FloatProgress(value=0.0, bar_style='info', description='Progress:', layout=Layout(height='25px', width='50%'),…"
      ]
     },
     "metadata": {},
     "output_type": "display_data"
    }
   ],
   "source": [
    "review = spark.read.orc(\"hdfs:///orc_review_shrunk/\")"
   ]
  },
  {
   "cell_type": "code",
   "execution_count": 28,
   "id": "cd21aa9a-c0de-4b21-9551-4ee3e9934c98",
   "metadata": {
    "execution": {
     "iopub.execute_input": "2022-04-09T15:02:14.367943Z",
     "iopub.status.busy": "2022-04-09T15:02:14.367676Z",
     "iopub.status.idle": "2022-04-09T15:02:23.717736Z",
     "shell.execute_reply": "2022-04-09T15:02:23.716853Z",
     "shell.execute_reply.started": "2022-04-09T15:02:14.367911Z"
    },
    "tags": []
   },
   "outputs": [
    {
     "data": {
      "application/vnd.jupyter.widget-view+json": {
       "model_id": "c6dc2e002f2949d497927621e3cd22bd",
       "version_major": 2,
       "version_minor": 0
      },
      "text/plain": [
       "VBox()"
      ]
     },
     "metadata": {},
     "output_type": "display_data"
    },
    {
     "data": {
      "application/vnd.jupyter.widget-view+json": {
       "model_id": "",
       "version_major": 2,
       "version_minor": 0
      },
      "text/plain": [
       "FloatProgress(value=0.0, bar_style='info', description='Progress:', layout=Layout(height='25px', width='50%'),…"
      ]
     },
     "metadata": {},
     "output_type": "display_data"
    },
    {
     "name": "stdout",
     "output_type": "stream",
     "text": [
      "+-----+--------------------+\n",
      "|stars|                text|\n",
      "+-----+--------------------+\n",
      "|  5.0|What a great find...|\n",
      "|  2.0|The only reason I...|\n",
      "+-----+--------------------+\n",
      "only showing top 2 rows"
     ]
    }
   ],
   "source": [
    "review.show(2)"
   ]
  },
  {
   "cell_type": "markdown",
   "id": "46163a67-cfe6-4231-b90e-e7b89c7b8fd4",
   "metadata": {},
   "source": [
    "# Remove punctuation"
   ]
  },
  {
   "cell_type": "code",
   "execution_count": 29,
   "id": "0efecde3-1a4b-4ef6-92da-b79840d9e308",
   "metadata": {
    "execution": {
     "iopub.execute_input": "2022-04-09T15:02:23.719402Z",
     "iopub.status.busy": "2022-04-09T15:02:23.719151Z",
     "iopub.status.idle": "2022-04-09T15:02:24.020457Z",
     "shell.execute_reply": "2022-04-09T15:02:24.019398Z",
     "shell.execute_reply.started": "2022-04-09T15:02:23.719358Z"
    },
    "tags": []
   },
   "outputs": [
    {
     "data": {
      "application/vnd.jupyter.widget-view+json": {
       "model_id": "442dd332adf64175aa1568e5adc39033",
       "version_major": 2,
       "version_minor": 0
      },
      "text/plain": [
       "VBox()"
      ]
     },
     "metadata": {},
     "output_type": "display_data"
    },
    {
     "data": {
      "application/vnd.jupyter.widget-view+json": {
       "model_id": "",
       "version_major": 2,
       "version_minor": 0
      },
      "text/plain": [
       "FloatProgress(value=0.0, bar_style='info', description='Progress:', layout=Layout(height='25px', width='50%'),…"
      ]
     },
     "metadata": {},
     "output_type": "display_data"
    }
   ],
   "source": [
    "# remove punctuation\n",
    "def remove_punct(text):\n",
    "    regex = re.compile('[' + re.escape(string.punctuation) + '0-9\\\\r\\\\t\\\\n]')\n",
    "    nopunct = regex.sub(\" \", text) \n",
    "    \n",
    "    return nopunct\n",
    "    \n",
    "# binarize rating\n",
    "def convert_rating(rating):\n",
    "    rating = int(rating)\n",
    "    if rating >=4: return 1\n",
    "    else: return 0\n",
    "\n",
    "# udf\n",
    "punct_remover = udf(lambda x: remove_punct(x))\n",
    "rating_convert = udf(lambda x: convert_rating(x))\n",
    "\n",
    "# apply to review raw data\n",
    "review_df = review.select(punct_remover('text'), rating_convert('stars'))\n",
    "\n",
    "review_df = review_df.withColumnRenamed('<lambda>(text)', 'text')\\\n",
    "                     .withColumn('label', review_df[\"<lambda>(stars)\"].cast(IntegerType()))\\\n",
    "                     .drop('<lambda>(stars)')"
   ]
  },
  {
   "cell_type": "code",
   "execution_count": 30,
   "id": "470add4c-5db6-445e-b81a-ec91f784d4ec",
   "metadata": {
    "execution": {
     "iopub.execute_input": "2022-04-09T15:02:24.024052Z",
     "iopub.status.busy": "2022-04-09T15:02:24.023746Z",
     "iopub.status.idle": "2022-04-09T15:02:39.469247Z",
     "shell.execute_reply": "2022-04-09T15:02:39.468266Z",
     "shell.execute_reply.started": "2022-04-09T15:02:24.024002Z"
    },
    "tags": []
   },
   "outputs": [
    {
     "data": {
      "application/vnd.jupyter.widget-view+json": {
       "model_id": "b8f0a31c7c474f7ea64e1cf71b191642",
       "version_major": 2,
       "version_minor": 0
      },
      "text/plain": [
       "VBox()"
      ]
     },
     "metadata": {},
     "output_type": "display_data"
    },
    {
     "data": {
      "application/vnd.jupyter.widget-view+json": {
       "model_id": "",
       "version_major": 2,
       "version_minor": 0
      },
      "text/plain": [
       "FloatProgress(value=0.0, bar_style='info', description='Progress:', layout=Layout(height='25px', width='50%'),…"
      ]
     },
     "metadata": {},
     "output_type": "display_data"
    },
    {
     "name": "stdout",
     "output_type": "stream",
     "text": [
      "+--------------------+-----+\n",
      "|                text|label|\n",
      "+--------------------+-----+\n",
      "|What a great find...|    1|\n",
      "|The only reason I...|    0|\n",
      "|It s fun that it ...|    0|\n",
      "|I ve been to Smit...|    0|\n",
      "|We do love the fo...|    1|\n",
      "+--------------------+-----+\n",
      "only showing top 5 rows"
     ]
    }
   ],
   "source": [
    "review_df.show(5)"
   ]
  },
  {
   "cell_type": "markdown",
   "id": "f6518e9b-218f-4a01-adad-f9f47941e353",
   "metadata": {
    "execution": {
     "iopub.execute_input": "2022-04-09T05:01:44.623178Z",
     "iopub.status.busy": "2022-04-09T05:01:44.622870Z",
     "iopub.status.idle": "2022-04-09T05:01:44.701056Z",
     "shell.execute_reply": "2022-04-09T05:01:44.700184Z",
     "shell.execute_reply.started": "2022-04-09T05:01:44.623142Z"
    }
   },
   "source": [
    "# StopWords"
   ]
  },
  {
   "cell_type": "code",
   "execution_count": 31,
   "id": "dba426fa-d8ad-43f5-8ca5-b75e1556e727",
   "metadata": {
    "execution": {
     "iopub.execute_input": "2022-04-09T15:02:39.474034Z",
     "iopub.status.busy": "2022-04-09T15:02:39.473649Z",
     "iopub.status.idle": "2022-04-09T15:02:39.577437Z",
     "shell.execute_reply": "2022-04-09T15:02:39.576563Z",
     "shell.execute_reply.started": "2022-04-09T15:02:39.473960Z"
    },
    "tags": []
   },
   "outputs": [
    {
     "data": {
      "application/vnd.jupyter.widget-view+json": {
       "model_id": "21c11974cefd48e1b8216512bbc882bf",
       "version_major": 2,
       "version_minor": 0
      },
      "text/plain": [
       "VBox()"
      ]
     },
     "metadata": {},
     "output_type": "display_data"
    },
    {
     "data": {
      "application/vnd.jupyter.widget-view+json": {
       "model_id": "",
       "version_major": 2,
       "version_minor": 0
      },
      "text/plain": [
       "FloatProgress(value=0.0, bar_style='info', description='Progress:', layout=Layout(height='25px', width='50%'),…"
      ]
     },
     "metadata": {},
     "output_type": "display_data"
    }
   ],
   "source": [
    "stops = [\"0o\", \"0s\", \"3a\", \"3b\", \"3d\", \"6b\", \"6o\", \"a\", \"a1\", \"a2\", \"a3\", \"a4\", \"ab\", \"able\", \"about\", \"above\", \"abst\", \"ac\", \"accordance\", \"according\", \"accordingly\", \"across\", \"act\", \"actually\", \"ad\", \"added\", \"adj\", \"ae\", \"af\", \"affected\", \"affecting\", \"affects\", \"after\", \"afterwards\", \"ag\", \"again\", \"against\", \"ah\", \"ain\", \"ain't\", \"aj\", \"al\", \"all\", \"allow\", \"allows\", \"almost\", \"alone\", \"along\", \"already\", \"also\", \"although\", \"always\", \"am\", \"among\", \"amongst\", \"amoungst\", \"amount\", \"an\", \"and\", \"announce\", \"another\", \"any\", \"anybody\", \"anyhow\", \"anymore\", \"anyone\", \"anything\", \"anyway\", \"anyways\", \"anywhere\", \"ao\", \"ap\", \"apart\", \"apparently\", \"appear\", \"appreciate\", \"appropriate\", \"approximately\", \"ar\", \"are\", \"aren\", \"arent\", \"aren't\", \"arise\", \"around\", \"as\", \"a's\", \"aside\", \"ask\", \"asking\", \"associated\", \"at\", \"au\", \"auth\", \"av\", \"available\", \"aw\", \"away\", \"awfully\", \"ax\", \"ay\", \"az\", \"b\", \"b1\", \"b2\", \"b3\", \"ba\", \"back\", \"bc\", \"bd\", \"be\", \"became\", \"because\", \"become\", \"becomes\", \"becoming\", \"been\", \"before\", \"beforehand\", \"begin\", \"beginning\", \"beginnings\", \"begins\", \"behind\", \"being\", \"believe\", \"below\", \"beside\", \"besides\", \"best\", \"better\", \"between\", \"beyond\", \"bi\", \"bill\", \"biol\", \"bj\", \"bk\", \"bl\", \"bn\", \"both\", \"bottom\", \"bp\", \"br\", \"brief\", \"briefly\", \"bs\", \"bt\", \"bu\", \"but\", \"bx\", \"by\", \"c\", \"c1\", \"c2\", \"c3\", \"ca\", \"call\", \"came\", \"can\", \"cannot\", \"cant\", \"can't\", \"cause\", \"causes\", \"cc\", \"cd\", \"ce\", \"certain\", \"certainly\", \"cf\", \"cg\", \"ch\", \"changes\", \"ci\", \"cit\", \"cj\", \"cl\", \"clearly\", \"cm\", \"c'mon\", \"cn\", \"co\", \"com\", \"come\", \"comes\", \"con\", \"concerning\", \"consequently\", \"consider\", \"considering\", \"contain\", \"containing\", \"contains\", \"corresponding\", \"could\", \"couldn\", \"couldnt\", \"couldn't\", \"course\", \"cp\", \"cq\", \"cr\", \"cry\", \"cs\", \"c's\", \"ct\", \"cu\", \"currently\", \"cv\", \"cx\", \"cy\", \"cz\", \"d\", \"d2\", \"da\", \"date\", \"dc\", \"dd\", \"de\", \"definitely\", \"describe\", \"described\", \"despite\", \"detail\", \"df\", \"di\", \"did\", \"didn\", \"didn't\", \"different\", \"dj\", \"dk\", \"dl\", \"do\", \"does\", \"doesn\", \"doesn't\", \"doing\", \"don\", \"done\", \"don't\", \"down\", \"downwards\", \"dp\", \"dr\", \"ds\", \"dt\", \"du\", \"due\", \"during\", \"dx\", \"dy\", \"e\", \"e2\", \"e3\", \"ea\", \"each\", \"ec\", \"ed\", \"edu\", \"ee\", \"ef\", \"effect\", \"eg\", \"ei\", \"eight\", \"eighty\", \"either\", \"ej\", \"el\", \"eleven\", \"else\", \"elsewhere\", \"em\", \"empty\", \"en\", \"end\", \"ending\", \"enough\", \"entirely\", \"eo\", \"ep\", \"eq\", \"er\", \"es\", \"especially\", \"est\", \"et\", \"et-al\", \"etc\", \"eu\", \"ev\", \"even\", \"ever\", \"every\", \"everybody\", \"everyone\", \"everything\", \"everywhere\", \"ex\", \"exactly\", \"example\", \"except\", \"ey\", \"f\", \"f2\", \"fa\", \"far\", \"fc\", \"few\", \"ff\", \"fi\", \"fifteen\", \"fifth\", \"fify\", \"fill\", \"find\", \"fire\", \"first\", \"five\", \"fix\", \"fj\", \"fl\", \"fn\", \"fo\", \"followed\", \"following\", \"follows\", \"for\", \"former\", \"formerly\", \"forth\", \"forty\", \"found\", \"four\", \"fr\", \"from\", \"front\", \"fs\", \"ft\", \"fu\", \"full\", \"further\", \"furthermore\", \"fy\", \"g\", \"ga\", \"gave\", \"ge\", \"get\", \"gets\", \"getting\", \"gi\", \"give\", \"given\", \"gives\", \"giving\", \"gj\", \"gl\", \"go\", \"goes\", \"going\", \"gone\", \"got\", \"gotten\", \"gr\", \"greetings\", \"gs\", \"gy\", \"h\", \"h2\", \"h3\", \"had\", \"hadn\", \"hadn't\", \"happens\", \"hardly\", \"has\", \"hasn\", \"hasnt\", \"hasn't\", \"have\", \"haven\", \"haven't\", \"having\", \"he\", \"hed\", \"he'd\", \"he'll\", \"hello\", \"help\", \"hence\", \"her\", \"here\", \"hereafter\", \"hereby\", \"herein\", \"heres\", \"here's\", \"hereupon\", \"hers\", \"herself\", \"hes\", \"he's\", \"hh\", \"hi\", \"hid\", \"him\", \"himself\", \"his\", \"hither\", \"hj\", \"ho\", \"home\", \"hopefully\", \"how\", \"howbeit\", \"however\", \"how's\", \"hr\", \"hs\", \"http\", \"hu\", \"hundred\", \"hy\", \"i\", \"i2\", \"i3\", \"i4\", \"i6\", \"i7\", \"i8\", \"ia\", \"ib\", \"ibid\", \"ic\", \"id\", \"i'd\", \"ie\", \"if\", \"ig\", \"ignored\", \"ih\", \"ii\", \"ij\", \"il\", \"i'll\", \"im\", \"i'm\", \"immediate\", \"immediately\", \"importance\", \"important\", \"in\", \"inasmuch\", \"inc\", \"indeed\", \"index\", \"indicate\", \"indicated\", \"indicates\", \"information\", \"inner\", \"insofar\", \"instead\", \"interest\", \"into\", \"invention\", \"inward\", \"io\", \"ip\", \"iq\", \"ir\", \"is\", \"isn\", \"isn't\", \"it\", \"itd\", \"it'd\", \"it'll\", \"its\", \"it's\", \"itself\", \"iv\", \"i've\", \"ix\", \"iy\", \"iz\", \"j\", \"jj\", \"jr\", \"js\", \"jt\", \"ju\", \"just\", \"k\", \"ke\", \"keep\", \"keeps\", \"kept\", \"kg\", \"kj\", \"km\", \"know\", \"known\", \"knows\", \"ko\", \"l\", \"l2\", \"la\", \"largely\", \"last\", \"lately\", \"later\", \"latter\", \"latterly\", \"lb\", \"lc\", \"le\", \"least\", \"les\", \"less\", \"lest\", \"let\", \"lets\", \"let's\", \"lf\", \"like\", \"liked\", \"likely\", \"line\", \"little\", \"lj\", \"ll\", \"ll\", \"ln\", \"lo\", \"look\", \"looking\", \"looks\", \"los\", \"lr\", \"ls\", \"lt\", \"ltd\", \"m\", \"m2\", \"ma\", \"made\", \"mainly\", \"make\", \"makes\", \"many\", \"may\", \"maybe\", \"me\", \"mean\", \"means\", \"meantime\", \"meanwhile\", \"merely\", \"mg\", \"might\", \"mightn\", \"mightn't\", \"mill\", \"million\", \"mine\", \"miss\", \"ml\", \"mn\", \"mo\", \"more\", \"moreover\", \"most\", \"mostly\", \"move\", \"mr\", \"mrs\", \"ms\", \"mt\", \"mu\", \"much\", \"mug\", \"must\", \"mustn\", \"mustn't\", \"my\", \"myself\", \"n\", \"n2\", \"na\", \"name\", \"namely\", \"nay\", \"nc\", \"nd\", \"ne\", \"near\", \"nearly\", \"necessarily\", \"necessary\", \"need\", \"needn\", \"needn't\", \"needs\", \"neither\", \"never\", \"nevertheless\", \"new\", \"next\", \"ng\", \"ni\", \"nine\", \"ninety\", \"nj\", \"nl\", \"nn\", \"no\", \"nobody\", \"non\", \"none\", \"nonetheless\", \"noone\", \"nor\", \"normally\", \"nos\", \"not\", \"noted\", \"nothing\", \"novel\", \"now\", \"nowhere\", \"nr\", \"ns\", \"nt\", \"ny\", \"o\", \"oa\", \"ob\", \"obtain\", \"obtained\", \"obviously\", \"oc\", \"od\", \"of\", \"off\", \"often\", \"og\", \"oh\", \"oi\", \"oj\", \"ok\", \"okay\", \"ol\", \"old\", \"om\", \"omitted\", \"on\", \"once\", \"one\", \"ones\", \"only\", \"onto\", \"oo\", \"op\", \"oq\", \"or\", \"ord\", \"os\", \"ot\", \"other\", \"others\", \"otherwise\", \"ou\", \"ought\", \"our\", \"ours\", \"ourselves\", \"out\", \"outside\", \"over\", \"overall\", \"ow\", \"owing\", \"own\", \"ox\", \"oz\", \"p\", \"p1\", \"p2\", \"p3\", \"page\", \"pagecount\", \"pages\", \"par\", \"part\", \"particular\", \"particularly\", \"pas\", \"past\", \"pc\", \"pd\", \"pe\", \"per\", \"perhaps\", \"pf\", \"ph\", \"pi\", \"pj\", \"pk\", \"pl\", \"placed\", \"please\", \"plus\", \"pm\", \"pn\", \"po\", \"poorly\", \"possible\", \"possibly\", \"potentially\", \"pp\", \"pq\", \"pr\", \"predominantly\", \"present\", \"presumably\", \"previously\", \"primarily\", \"probably\", \"promptly\", \"proud\", \"provides\", \"ps\", \"pt\", \"pu\", \"put\", \"py\", \"q\", \"qj\", \"qu\", \"que\", \"quickly\", \"quite\", \"qv\", \"r\", \"r2\", \"ra\", \"ran\", \"rather\", \"rc\", \"rd\", \"re\", \"readily\", \"really\", \"reasonably\", \"recent\", \"recently\", \"ref\", \"refs\", \"regarding\", \"regardless\", \"regards\", \"related\", \"relatively\", \"research\", \"research-articl\", \"respectively\", \"resulted\", \"resulting\", \"results\", \"rf\", \"rh\", \"ri\", \"right\", \"rj\", \"rl\", \"rm\", \"rn\", \"ro\", \"rq\", \"rr\", \"rs\", \"rt\", \"ru\", \"run\", \"rv\", \"ry\", \"s\", \"s2\", \"sa\", \"said\", \"same\", \"saw\", \"say\", \"saying\", \"says\", \"sc\", \"sd\", \"se\", \"sec\", \"second\", \"secondly\", \"section\", \"see\", \"seeing\", \"seem\", \"seemed\", \"seeming\", \"seems\", \"seen\", \"self\", \"selves\", \"sensible\", \"sent\", \"serious\", \"seriously\", \"seven\", \"several\", \"sf\", \"shall\", \"shan\", \"shan't\", \"she\", \"shed\", \"she'd\", \"she'll\", \"shes\", \"she's\", \"should\", \"shouldn\", \"shouldn't\", \"should've\", \"show\", \"showed\", \"shown\", \"showns\", \"shows\", \"si\", \"side\", \"significant\", \"significantly\", \"similar\", \"similarly\", \"since\", \"sincere\", \"six\", \"sixty\", \"sj\", \"sl\", \"slightly\", \"sm\", \"sn\", \"so\", \"some\", \"somebody\", \"somehow\", \"someone\", \"somethan\", \"something\", \"sometime\", \"sometimes\", \"somewhat\", \"somewhere\", \"soon\", \"sorry\", \"sp\", \"specifically\", \"specified\", \"specify\", \"specifying\", \"sq\", \"sr\", \"ss\", \"st\", \"still\", \"stop\", \"strongly\", \"sub\", \"substantially\", \"successfully\", \"such\", \"sufficiently\", \"suggest\", \"sup\", \"sure\", \"sy\", \"system\", \"sz\", \"t\", \"t1\", \"t2\", \"t3\", \"take\", \"taken\", \"taking\", \"tb\", \"tc\", \"td\", \"te\", \"tell\", \"ten\", \"tends\", \"tf\", \"th\", \"than\", \"thank\", \"thanks\", \"thanx\", \"that\", \"that'll\", \"thats\", \"that's\", \"that've\", \"the\", \"their\", \"theirs\", \"them\", \"themselves\", \"then\", \"thence\", \"there\", \"thereafter\", \"thereby\", \"thered\", \"therefore\", \"therein\", \"there'll\", \"thereof\", \"therere\", \"theres\", \"there's\", \"thereto\", \"thereupon\", \"there've\", \"these\", \"they\", \"theyd\", \"they'd\", \"they'll\", \"theyre\", \"they're\", \"they've\", \"thickv\", \"thin\", \"think\", \"third\", \"this\", \"thorough\", \"thoroughly\", \"those\", \"thou\", \"though\", \"thoughh\", \"thousand\", \"three\", \"throug\", \"through\", \"throughout\", \"thru\", \"thus\", \"ti\", \"til\", \"tip\", \"tj\", \"tl\", \"tm\", \"tn\", \"to\", \"together\", \"too\", \"took\", \"top\", \"toward\", \"towards\", \"tp\", \"tq\", \"tr\", \"tried\", \"tries\", \"truly\", \"try\", \"trying\", \"ts\", \"t's\", \"tt\", \"tv\", \"twelve\", \"twenty\", \"twice\", \"two\", \"tx\", \"u\", \"u201d\", \"ue\", \"ui\", \"uj\", \"uk\", \"um\", \"un\", \"under\", \"unfortunately\", \"unless\", \"unlike\", \"unlikely\", \"until\", \"unto\", \"uo\", \"up\", \"upon\", \"ups\", \"ur\", \"us\", \"use\", \"used\", \"useful\", \"usefully\", \"usefulness\", \"uses\", \"using\", \"usually\", \"ut\", \"v\", \"va\", \"value\", \"various\", \"vd\", \"ve\", \"ve\", \"very\", \"via\", \"viz\", \"vj\", \"vo\", \"vol\", \"vols\", \"volumtype\", \"vq\", \"vs\", \"vt\", \"vu\", \"w\", \"wa\", \"want\", \"wants\", \"was\", \"wasn\", \"wasnt\", \"wasn't\", \"way\", \"we\", \"wed\", \"we'd\", \"welcome\", \"well\", \"we'll\", \"well-b\", \"went\", \"were\", \"we're\", \"weren\", \"werent\", \"weren't\", \"we've\", \"what\", \"whatever\", \"what'll\", \"whats\", \"what's\", \"when\", \"whence\", \"whenever\", \"when's\", \"where\", \"whereafter\", \"whereas\", \"whereby\", \"wherein\", \"wheres\", \"where's\", \"whereupon\", \"wherever\", \"whether\", \"which\", \"while\", \"whim\", \"whither\", \"who\", \"whod\", \"whoever\", \"whole\", \"who'll\", \"whom\", \"whomever\", \"whos\", \"who's\", \"whose\", \"why\", \"why's\", \"wi\", \"widely\", \"will\", \"willing\", \"wish\", \"with\", \"within\", \"without\", \"wo\", \"won\", \"wonder\", \"wont\", \"won't\", \"words\", \"world\", \"would\", \"wouldn\", \"wouldnt\", \"wouldn't\", \"www\", \"x\", \"x1\", \"x2\", \"x3\", \"xf\", \"xi\", \"xj\", \"xk\", \"xl\", \"xn\", \"xo\", \"xs\", \"xt\", \"xv\", \"xx\", \"y\", \"y2\", \"yes\", \"yet\", \"yj\", \"yl\", \"you\", \"youd\", \"you'd\", \"you'll\", \"your\", \"youre\", \"you're\", \"yours\", \"yourself\", \"yourselves\", \"you've\", \"yr\", \"ys\", \"yt\", \"z\", \"zero\", \"zi\", \"zz\"]"
   ]
  },
  {
   "cell_type": "markdown",
   "id": "f7fe1fd5-0d7f-44e5-9fb4-97d3d3642f8a",
   "metadata": {},
   "source": [
    "# RegexTokenizer"
   ]
  },
  {
   "cell_type": "code",
   "execution_count": 32,
   "id": "511d1dba-d535-462f-9abf-a2e9e752df3d",
   "metadata": {
    "execution": {
     "iopub.execute_input": "2022-04-09T15:02:39.580285Z",
     "iopub.status.busy": "2022-04-09T15:02:39.579947Z",
     "iopub.status.idle": "2022-04-09T15:02:39.657421Z",
     "shell.execute_reply": "2022-04-09T15:02:39.656752Z",
     "shell.execute_reply.started": "2022-04-09T15:02:39.580237Z"
    },
    "tags": []
   },
   "outputs": [
    {
     "data": {
      "application/vnd.jupyter.widget-view+json": {
       "model_id": "cef46c233d52477aad8a03d6b5a0de51",
       "version_major": 2,
       "version_minor": 0
      },
      "text/plain": [
       "VBox()"
      ]
     },
     "metadata": {},
     "output_type": "display_data"
    },
    {
     "data": {
      "application/vnd.jupyter.widget-view+json": {
       "model_id": "",
       "version_major": 2,
       "version_minor": 0
      },
      "text/plain": [
       "FloatProgress(value=0.0, bar_style='info', description='Progress:', layout=Layout(height='25px', width='50%'),…"
      ]
     },
     "metadata": {},
     "output_type": "display_data"
    }
   ],
   "source": [
    "rgtoken = RegexTokenizer(inputCol=\"text\",outputCol=\"words\",pattern=\"\\\\W\")\n",
    "\n",
    "token = Tokenizer(inputCol= \"words\", outputCol = \"tokens\")"
   ]
  },
  {
   "cell_type": "markdown",
   "id": "fdbc1acc-c7b1-467c-944d-98117d8a0f26",
   "metadata": {},
   "source": [
    "# StopWordsRemover"
   ]
  },
  {
   "cell_type": "code",
   "execution_count": 33,
   "id": "4a036ff4-a5f2-4341-8b14-f52fa5535fe6",
   "metadata": {
    "execution": {
     "iopub.execute_input": "2022-04-09T15:02:39.659382Z",
     "iopub.status.busy": "2022-04-09T15:02:39.659026Z",
     "iopub.status.idle": "2022-04-09T15:02:39.943778Z",
     "shell.execute_reply": "2022-04-09T15:02:39.942961Z",
     "shell.execute_reply.started": "2022-04-09T15:02:39.659333Z"
    },
    "tags": []
   },
   "outputs": [
    {
     "data": {
      "application/vnd.jupyter.widget-view+json": {
       "model_id": "36e8039991dc48feaa68b289f7a58f3f",
       "version_major": 2,
       "version_minor": 0
      },
      "text/plain": [
       "VBox()"
      ]
     },
     "metadata": {},
     "output_type": "display_data"
    },
    {
     "data": {
      "application/vnd.jupyter.widget-view+json": {
       "model_id": "",
       "version_major": 2,
       "version_minor": 0
      },
      "text/plain": [
       "FloatProgress(value=0.0, bar_style='info', description='Progress:', layout=Layout(height='25px', width='50%'),…"
      ]
     },
     "metadata": {},
     "output_type": "display_data"
    }
   ],
   "source": [
    "stopword_remover = StopWordsRemover(inputCol=\"words\", outputCol=\"cleaned_tokens\")\\\n",
    "                    .setStopWords(stops)"
   ]
  },
  {
   "cell_type": "markdown",
   "id": "82952840-c269-4895-b049-6fbbcb4aaaa2",
   "metadata": {},
   "source": [
    "# HashingTF"
   ]
  },
  {
   "cell_type": "code",
   "execution_count": 34,
   "id": "25a35b7c-e733-4e03-b5a7-df2b7e3dd7fb",
   "metadata": {
    "execution": {
     "iopub.execute_input": "2022-04-09T15:02:39.944991Z",
     "iopub.status.busy": "2022-04-09T15:02:39.944702Z",
     "iopub.status.idle": "2022-04-09T15:02:40.022737Z",
     "shell.execute_reply": "2022-04-09T15:02:40.021852Z",
     "shell.execute_reply.started": "2022-04-09T15:02:39.944937Z"
    },
    "tags": []
   },
   "outputs": [
    {
     "data": {
      "application/vnd.jupyter.widget-view+json": {
       "model_id": "29c3af5c598c49629d9939b7a06e2c7f",
       "version_major": 2,
       "version_minor": 0
      },
      "text/plain": [
       "VBox()"
      ]
     },
     "metadata": {},
     "output_type": "display_data"
    },
    {
     "data": {
      "application/vnd.jupyter.widget-view+json": {
       "model_id": "",
       "version_major": 2,
       "version_minor": 0
      },
      "text/plain": [
       "FloatProgress(value=0.0, bar_style='info', description='Progress:', layout=Layout(height='25px', width='50%'),…"
      ]
     },
     "metadata": {},
     "output_type": "display_data"
    }
   ],
   "source": [
    "Hashtf = HashingTF(inputCol=\"cleaned_tokens\", outputCol=\"rawFeatures\", numFeatures=2**16)"
   ]
  },
  {
   "cell_type": "markdown",
   "id": "ffe6aeea-205f-4a2b-b03f-59596d27e66b",
   "metadata": {},
   "source": [
    "# IDF"
   ]
  },
  {
   "cell_type": "code",
   "execution_count": 35,
   "id": "7059b1ee-36b2-49a0-87ba-286c8cc55330",
   "metadata": {
    "execution": {
     "iopub.execute_input": "2022-04-09T15:02:40.024062Z",
     "iopub.status.busy": "2022-04-09T15:02:40.023839Z",
     "iopub.status.idle": "2022-04-09T15:02:40.101405Z",
     "shell.execute_reply": "2022-04-09T15:02:40.100555Z",
     "shell.execute_reply.started": "2022-04-09T15:02:40.024033Z"
    },
    "tags": []
   },
   "outputs": [
    {
     "data": {
      "application/vnd.jupyter.widget-view+json": {
       "model_id": "dbd7c348c1664ac0a102186a3d9d3a86",
       "version_major": 2,
       "version_minor": 0
      },
      "text/plain": [
       "VBox()"
      ]
     },
     "metadata": {},
     "output_type": "display_data"
    },
    {
     "data": {
      "application/vnd.jupyter.widget-view+json": {
       "model_id": "",
       "version_major": 2,
       "version_minor": 0
      },
      "text/plain": [
       "FloatProgress(value=0.0, bar_style='info', description='Progress:', layout=Layout(height='25px', width='50%'),…"
      ]
     },
     "metadata": {},
     "output_type": "display_data"
    }
   ],
   "source": [
    "idf = IDF(inputCol=\"rawFeatures\", outputCol=\"features\", minDocFreq=10.0)"
   ]
  },
  {
   "cell_type": "markdown",
   "id": "3ee39376-0516-4209-9c29-af3aa739d936",
   "metadata": {},
   "source": [
    "# Pipeline Stages"
   ]
  },
  {
   "cell_type": "code",
   "execution_count": 36,
   "id": "0b905056-b153-467e-ae10-ba539f2c8924",
   "metadata": {
    "execution": {
     "iopub.execute_input": "2022-04-09T15:02:40.103365Z",
     "iopub.status.busy": "2022-04-09T15:02:40.103029Z",
     "iopub.status.idle": "2022-04-09T15:02:40.177277Z",
     "shell.execute_reply": "2022-04-09T15:02:40.176326Z",
     "shell.execute_reply.started": "2022-04-09T15:02:40.103316Z"
    },
    "tags": []
   },
   "outputs": [
    {
     "data": {
      "application/vnd.jupyter.widget-view+json": {
       "model_id": "19eb658da20245f9b5e39dc17fc3edc7",
       "version_major": 2,
       "version_minor": 0
      },
      "text/plain": [
       "VBox()"
      ]
     },
     "metadata": {},
     "output_type": "display_data"
    },
    {
     "data": {
      "application/vnd.jupyter.widget-view+json": {
       "model_id": "",
       "version_major": 2,
       "version_minor": 0
      },
      "text/plain": [
       "FloatProgress(value=0.0, bar_style='info', description='Progress:', layout=Layout(height='25px', width='50%'),…"
      ]
     },
     "metadata": {},
     "output_type": "display_data"
    }
   ],
   "source": [
    "pipeline  = Pipeline(stages=[rgtoken,stopword_remover,Hashtf,idf])"
   ]
  },
  {
   "cell_type": "markdown",
   "id": "41a4eee0-44d7-4d01-87d2-caef765ecb72",
   "metadata": {},
   "source": [
    "# Pipeline Fit"
   ]
  },
  {
   "cell_type": "code",
   "execution_count": 37,
   "id": "8213448d-489d-472d-ba19-8a6c8b32231a",
   "metadata": {
    "execution": {
     "iopub.execute_input": "2022-04-09T15:02:40.182002Z",
     "iopub.status.busy": "2022-04-09T15:02:40.181738Z",
     "iopub.status.idle": "2022-04-09T15:04:05.824642Z",
     "shell.execute_reply": "2022-04-09T15:04:05.823794Z",
     "shell.execute_reply.started": "2022-04-09T15:02:40.181922Z"
    },
    "tags": []
   },
   "outputs": [
    {
     "data": {
      "application/vnd.jupyter.widget-view+json": {
       "model_id": "c770ee62768f4b09bf7cf64d02b1b31e",
       "version_major": 2,
       "version_minor": 0
      },
      "text/plain": [
       "VBox()"
      ]
     },
     "metadata": {},
     "output_type": "display_data"
    },
    {
     "data": {
      "application/vnd.jupyter.widget-view+json": {
       "model_id": "",
       "version_major": 2,
       "version_minor": 0
      },
      "text/plain": [
       "FloatProgress(value=0.0, bar_style='info', description='Progress:', layout=Layout(height='25px', width='50%'),…"
      ]
     },
     "metadata": {},
     "output_type": "display_data"
    }
   ],
   "source": [
    "processed = pipeline.fit(review_df)"
   ]
  },
  {
   "cell_type": "code",
   "execution_count": 38,
   "id": "c9ea45db-8817-4cfe-a855-8c2898cdf78e",
   "metadata": {
    "execution": {
     "iopub.execute_input": "2022-04-09T15:04:05.826338Z",
     "iopub.status.busy": "2022-04-09T15:04:05.826112Z",
     "iopub.status.idle": "2022-04-09T15:04:06.618294Z",
     "shell.execute_reply": "2022-04-09T15:04:06.617413Z",
     "shell.execute_reply.started": "2022-04-09T15:04:05.826308Z"
    },
    "tags": []
   },
   "outputs": [
    {
     "data": {
      "application/vnd.jupyter.widget-view+json": {
       "model_id": "46a512eff0004093af64cfbced3e8853",
       "version_major": 2,
       "version_minor": 0
      },
      "text/plain": [
       "VBox()"
      ]
     },
     "metadata": {},
     "output_type": "display_data"
    },
    {
     "data": {
      "application/vnd.jupyter.widget-view+json": {
       "model_id": "",
       "version_major": 2,
       "version_minor": 0
      },
      "text/plain": [
       "FloatProgress(value=0.0, bar_style='info', description='Progress:', layout=Layout(height='25px', width='50%'),…"
      ]
     },
     "metadata": {},
     "output_type": "display_data"
    }
   ],
   "source": [
    "df_train = processed.transform(review_df)"
   ]
  },
  {
   "cell_type": "code",
   "execution_count": 39,
   "id": "7e88d698-80c1-457b-9b37-743002158c2f",
   "metadata": {
    "execution": {
     "iopub.execute_input": "2022-04-09T15:04:06.619881Z",
     "iopub.status.busy": "2022-04-09T15:04:06.619655Z",
     "iopub.status.idle": "2022-04-09T15:04:07.411337Z",
     "shell.execute_reply": "2022-04-09T15:04:07.410350Z",
     "shell.execute_reply.started": "2022-04-09T15:04:06.619850Z"
    },
    "tags": []
   },
   "outputs": [
    {
     "data": {
      "application/vnd.jupyter.widget-view+json": {
       "model_id": "9372c209b74a458fa7d9bb400a87f0e3",
       "version_major": 2,
       "version_minor": 0
      },
      "text/plain": [
       "VBox()"
      ]
     },
     "metadata": {},
     "output_type": "display_data"
    },
    {
     "data": {
      "application/vnd.jupyter.widget-view+json": {
       "model_id": "",
       "version_major": 2,
       "version_minor": 0
      },
      "text/plain": [
       "FloatProgress(value=0.0, bar_style='info', description='Progress:', layout=Layout(height='25px', width='50%'),…"
      ]
     },
     "metadata": {},
     "output_type": "display_data"
    },
    {
     "name": "stdout",
     "output_type": "stream",
     "text": [
      "+--------------------+-----+--------------------+--------------------+--------------------+--------------------+\n",
      "|                text|label|               words|      cleaned_tokens|         rawFeatures|            features|\n",
      "+--------------------+-----+--------------------+--------------------+--------------------+--------------------+\n",
      "|What a great find...|    1|[what, a, great, ...|[great, piece, po...|(65536,[1466,5988...|(65536,[1466,5988...|\n",
      "|The only reason I...|    0|[the, only, reaso...|[reason, stars, s...|(65536,[389,666,1...|(65536,[389,666,1...|\n",
      "+--------------------+-----+--------------------+--------------------+--------------------+--------------------+\n",
      "only showing top 2 rows"
     ]
    }
   ],
   "source": [
    "df_train.show(2)"
   ]
  },
  {
   "cell_type": "code",
   "execution_count": 40,
   "id": "2b458555-aa38-4bd1-822c-909784e63f9c",
   "metadata": {
    "execution": {
     "iopub.execute_input": "2022-04-09T15:04:07.413169Z",
     "iopub.status.busy": "2022-04-09T15:04:07.412790Z",
     "iopub.status.idle": "2022-04-09T15:04:07.489163Z",
     "shell.execute_reply": "2022-04-09T15:04:07.488228Z",
     "shell.execute_reply.started": "2022-04-09T15:04:07.413120Z"
    },
    "tags": []
   },
   "outputs": [
    {
     "data": {
      "application/vnd.jupyter.widget-view+json": {
       "model_id": "605fb0fc1612464488fb52a09152220f",
       "version_major": 2,
       "version_minor": 0
      },
      "text/plain": [
       "VBox()"
      ]
     },
     "metadata": {},
     "output_type": "display_data"
    },
    {
     "data": {
      "application/vnd.jupyter.widget-view+json": {
       "model_id": "",
       "version_major": 2,
       "version_minor": 0
      },
      "text/plain": [
       "FloatProgress(value=0.0, bar_style='info', description='Progress:', layout=Layout(height='25px', width='50%'),…"
      ]
     },
     "metadata": {},
     "output_type": "display_data"
    }
   ],
   "source": [
    "df_train=df_train.drop(\"label\")"
   ]
  },
  {
   "cell_type": "markdown",
   "id": "ba8e11ba-6a00-41c8-91ca-52abdc0b3045",
   "metadata": {},
   "source": [
    "# Function to get sentiment"
   ]
  },
  {
   "cell_type": "code",
   "execution_count": 41,
   "id": "c9c04a8e-2347-43eb-9f33-23ec230e7d5f",
   "metadata": {
    "execution": {
     "iopub.execute_input": "2022-04-09T15:04:07.492362Z",
     "iopub.status.busy": "2022-04-09T15:04:07.492012Z",
     "iopub.status.idle": "2022-04-09T15:04:07.574307Z",
     "shell.execute_reply": "2022-04-09T15:04:07.573392Z",
     "shell.execute_reply.started": "2022-04-09T15:04:07.492314Z"
    },
    "tags": []
   },
   "outputs": [
    {
     "data": {
      "application/vnd.jupyter.widget-view+json": {
       "model_id": "1a57cac493c74a6cae1f37fcd2ceb12e",
       "version_major": 2,
       "version_minor": 0
      },
      "text/plain": [
       "VBox()"
      ]
     },
     "metadata": {},
     "output_type": "display_data"
    },
    {
     "data": {
      "application/vnd.jupyter.widget-view+json": {
       "model_id": "",
       "version_major": 2,
       "version_minor": 0
      },
      "text/plain": [
       "FloatProgress(value=0.0, bar_style='info', description='Progress:', layout=Layout(height='25px', width='50%'),…"
      ]
     },
     "metadata": {},
     "output_type": "display_data"
    }
   ],
   "source": [
    "def apply_blob(sentence):\n",
    "    temp = TextBlob(sentence).sentiment[0]   \n",
    "    if temp > 0.0:\n",
    "        return 1.0 # Positive\n",
    "    elif temp == 0.0:\n",
    "        return 0.0 # Neutral\n",
    "    else:\n",
    "        return 2.0 # Negative\n",
    "# UDF to write sentiment on DF\n",
    "sentiment = udf(apply_blob, DoubleType())"
   ]
  },
  {
   "cell_type": "code",
   "execution_count": 42,
   "id": "191c430b-7b3f-4d9f-806c-68c44e7d3477",
   "metadata": {
    "execution": {
     "iopub.execute_input": "2022-04-09T15:04:07.576744Z",
     "iopub.status.busy": "2022-04-09T15:04:07.576416Z",
     "iopub.status.idle": "2022-04-09T15:04:07.860843Z",
     "shell.execute_reply": "2022-04-09T15:04:07.860146Z",
     "shell.execute_reply.started": "2022-04-09T15:04:07.576696Z"
    },
    "tags": []
   },
   "outputs": [
    {
     "data": {
      "application/vnd.jupyter.widget-view+json": {
       "model_id": "c52e574ad21b4554936587bd933f6e91",
       "version_major": 2,
       "version_minor": 0
      },
      "text/plain": [
       "VBox()"
      ]
     },
     "metadata": {},
     "output_type": "display_data"
    },
    {
     "data": {
      "application/vnd.jupyter.widget-view+json": {
       "model_id": "",
       "version_major": 2,
       "version_minor": 0
      },
      "text/plain": [
       "FloatProgress(value=0.0, bar_style='info', description='Progress:', layout=Layout(height='25px', width='50%'),…"
      ]
     },
     "metadata": {},
     "output_type": "display_data"
    }
   ],
   "source": [
    "df=df_train.withColumn(\"label\", sentiment(df_train['text']))"
   ]
  },
  {
   "cell_type": "code",
   "execution_count": 43,
   "id": "06e1cbbf-730f-46be-ba14-14bd83ca093c",
   "metadata": {
    "execution": {
     "iopub.execute_input": "2022-04-09T15:04:07.862077Z",
     "iopub.status.busy": "2022-04-09T15:04:07.861844Z",
     "iopub.status.idle": "2022-04-09T15:04:10.177349Z",
     "shell.execute_reply": "2022-04-09T15:04:10.176278Z",
     "shell.execute_reply.started": "2022-04-09T15:04:07.862037Z"
    },
    "tags": []
   },
   "outputs": [
    {
     "data": {
      "application/vnd.jupyter.widget-view+json": {
       "model_id": "99d54e3c2a8248b89c500ac7962d94c6",
       "version_major": 2,
       "version_minor": 0
      },
      "text/plain": [
       "VBox()"
      ]
     },
     "metadata": {},
     "output_type": "display_data"
    },
    {
     "data": {
      "application/vnd.jupyter.widget-view+json": {
       "model_id": "",
       "version_major": 2,
       "version_minor": 0
      },
      "text/plain": [
       "FloatProgress(value=0.0, bar_style='info', description='Progress:', layout=Layout(height='25px', width='50%'),…"
      ]
     },
     "metadata": {},
     "output_type": "display_data"
    },
    {
     "name": "stdout",
     "output_type": "stream",
     "text": [
      "+--------------------+--------------------+--------------------+--------------------+--------------------+-----+\n",
      "|                text|               words|      cleaned_tokens|         rawFeatures|            features|label|\n",
      "+--------------------+--------------------+--------------------+--------------------+--------------------+-----+\n",
      "|What a great find...|[what, a, great, ...|[great, piece, po...|(65536,[1466,5988...|(65536,[1466,5988...|  1.0|\n",
      "|The only reason I...|[the, only, reaso...|[reason, stars, s...|(65536,[389,666,1...|(65536,[389,666,1...|  1.0|\n",
      "|It s fun that it ...|[it, s, fun, that...|[fun, water, grea...|(65536,[158,4630,...|(65536,[158,4630,...|  1.0|\n",
      "|I ve been to Smit...|[i, ve, been, to,...|[smith, couple, t...|(65536,[389,1928,...|(65536,[389,1928,...|  1.0|\n",
      "|We do love the fo...|[we, do, love, th...|[love, food, remi...|(65536,[4917,5125...|(65536,[4917,5125...|  1.0|\n",
      "|This place was al...|[this, place, was...|[place, alright, ...|(65536,[622,2395,...|(65536,[622,2395,...|  1.0|\n",
      "|Nice shopping exp...|[nice, shopping, ...|[nice, shopping, ...|(65536,[166,556,6...|(65536,[166,556,6...|  1.0|\n",
      "|How do you downgr...|[how, do, you, do...|[downgrade, laund...|(65536,[2702,3191...|(65536,[2702,3191...|  1.0|\n",
      "|Really fun place ...|[really, fun, pla...|[fun, place, uniq...|(65536,[8443,9261...|(65536,[8443,9261...|  1.0|\n",
      "|Fresh OJ     The ...|[fresh, oj, the, ...|[fresh, chorizo, ...|(65536,[2406,9439...|(65536,[2406,9439...|  1.0|\n",
      "|This cafe is so c...|[this, cafe, is, ...|[cafe, cute, serv...|(65536,[6923,1493...|(65536,[6923,1493...|  1.0|\n",
      "|Eb   Bean serves ...|[eb, bean, serves...|[eb, bean, serves...|(65536,[809,4430,...|(65536,[809,4430,...|  1.0|\n",
      "|I get it   capita...|[i, get, it, capi...|[capitalism, comp...|(65536,[1804,2182...|(65536,[1804,2182...|  1.0|\n",
      "|Food was good but...|[food, was, good,...|[food, good, abso...|(65536,[3067,1899...|(65536,[3067,1899...|  2.0|\n",
      "|Theres not a lot ...|[theres, not, a, ...|[lot, record, sto...|(65536,[4853,4948...|(65536,[4853,4948...|  1.0|\n",
      "|Best place we ate...|[best, place, we,...|[place, ate, visi...|(65536,[7148,9261...|(65536,[7148,9261...|  1.0|\n",
      "|I m a froyo lover...|[i, m, a, froyo, ...|[froyo, lover, ha...|(65536,[809,8955,...|(65536,[809,8955,...|  1.0|\n",
      "|Great staff  Non ...|[great, staff, no...|[great, staff, gr...|(65536,[7284,8939...|(65536,[7284,8939...|  1.0|\n",
      "|If you want to be...|[if, you, want, t...|[scalped, barber,...|(65536,[6304,7099...|(65536,[6304,7099...|  0.0|\n",
      "|My husband and I ...|[my, husband, and...|[husband, ordered...|(65536,[4879,8587...|(65536,[4879,8587...|  1.0|\n",
      "+--------------------+--------------------+--------------------+--------------------+--------------------+-----+\n",
      "only showing top 20 rows"
     ]
    }
   ],
   "source": [
    "df.show()"
   ]
  },
  {
   "cell_type": "code",
   "execution_count": 44,
   "id": "9240e036-09f4-4c80-a8f0-cd2ab1ef406b",
   "metadata": {
    "execution": {
     "iopub.execute_input": "2022-04-09T15:04:10.179320Z",
     "iopub.status.busy": "2022-04-09T15:04:10.178714Z",
     "iopub.status.idle": "2022-04-09T15:04:10.443221Z",
     "shell.execute_reply": "2022-04-09T15:04:10.442155Z",
     "shell.execute_reply.started": "2022-04-09T15:04:10.179269Z"
    },
    "tags": []
   },
   "outputs": [
    {
     "data": {
      "application/vnd.jupyter.widget-view+json": {
       "model_id": "a4e39050d5c544b49f0ec8bc0e82bc7d",
       "version_major": 2,
       "version_minor": 0
      },
      "text/plain": [
       "VBox()"
      ]
     },
     "metadata": {},
     "output_type": "display_data"
    },
    {
     "data": {
      "application/vnd.jupyter.widget-view+json": {
       "model_id": "",
       "version_major": 2,
       "version_minor": 0
      },
      "text/plain": [
       "FloatProgress(value=0.0, bar_style='info', description='Progress:', layout=Layout(height='25px', width='50%'),…"
      ]
     },
     "metadata": {},
     "output_type": "display_data"
    },
    {
     "name": "stdout",
     "output_type": "stream",
     "text": [
      "root\n",
      " |-- text: string (nullable = true)\n",
      " |-- words: array (nullable = true)\n",
      " |    |-- element: string (containsNull = true)\n",
      " |-- cleaned_tokens: array (nullable = true)\n",
      " |    |-- element: string (containsNull = true)\n",
      " |-- rawFeatures: vector (nullable = true)\n",
      " |-- features: vector (nullable = true)\n",
      " |-- label: double (nullable = true)"
     ]
    }
   ],
   "source": [
    "df.printSchema()"
   ]
  },
  {
   "cell_type": "markdown",
   "id": "e4bc9701-c2bc-4383-abaf-39b77fd101e4",
   "metadata": {},
   "source": [
    "# Train Test Split"
   ]
  },
  {
   "cell_type": "code",
   "execution_count": 45,
   "id": "d94c4bb5-d8db-44f7-857b-4b37bdb5df8e",
   "metadata": {
    "execution": {
     "iopub.execute_input": "2022-04-09T15:04:10.445125Z",
     "iopub.status.busy": "2022-04-09T15:04:10.444783Z",
     "iopub.status.idle": "2022-04-09T15:04:10.766609Z",
     "shell.execute_reply": "2022-04-09T15:04:10.763680Z",
     "shell.execute_reply.started": "2022-04-09T15:04:10.445076Z"
    },
    "tags": []
   },
   "outputs": [
    {
     "data": {
      "application/vnd.jupyter.widget-view+json": {
       "model_id": "e0f86f8e3768491ebdc77077ac4ad476",
       "version_major": 2,
       "version_minor": 0
      },
      "text/plain": [
       "VBox()"
      ]
     },
     "metadata": {},
     "output_type": "display_data"
    },
    {
     "data": {
      "application/vnd.jupyter.widget-view+json": {
       "model_id": "",
       "version_major": 2,
       "version_minor": 0
      },
      "text/plain": [
       "FloatProgress(value=0.0, bar_style='info', description='Progress:', layout=Layout(height='25px', width='50%'),…"
      ]
     },
     "metadata": {},
     "output_type": "display_data"
    }
   ],
   "source": [
    "splits =df.select(['features', 'label']).randomSplit([0.75,0.25],seed=42)\n",
    "train = splits[0].cache()\n",
    "test = splits[1].cache()"
   ]
  },
  {
   "cell_type": "markdown",
   "id": "c93b7415-df3a-4b73-a001-2a169d8b9d15",
   "metadata": {},
   "source": [
    "# LogisticRegression"
   ]
  },
  {
   "cell_type": "code",
   "execution_count": 46,
   "id": "4a802bcf-8077-4903-98c4-8d2c9a9c83a9",
   "metadata": {
    "execution": {
     "iopub.execute_input": "2022-04-09T15:04:10.775530Z",
     "iopub.status.busy": "2022-04-09T15:04:10.775286Z",
     "iopub.status.idle": "2022-04-09T15:04:10.858196Z",
     "shell.execute_reply": "2022-04-09T15:04:10.857336Z",
     "shell.execute_reply.started": "2022-04-09T15:04:10.775500Z"
    },
    "tags": []
   },
   "outputs": [
    {
     "data": {
      "application/vnd.jupyter.widget-view+json": {
       "model_id": "c406ddf8b5a247db9ab9a2347ed53e5c",
       "version_major": 2,
       "version_minor": 0
      },
      "text/plain": [
       "VBox()"
      ]
     },
     "metadata": {},
     "output_type": "display_data"
    },
    {
     "data": {
      "application/vnd.jupyter.widget-view+json": {
       "model_id": "",
       "version_major": 2,
       "version_minor": 0
      },
      "text/plain": [
       "FloatProgress(value=0.0, bar_style='info', description='Progress:', layout=Layout(height='25px', width='50%'),…"
      ]
     },
     "metadata": {},
     "output_type": "display_data"
    }
   ],
   "source": [
    "from pyspark.ml.classification import LogisticRegression"
   ]
  },
  {
   "cell_type": "code",
   "execution_count": 47,
   "id": "15dfed07-8cf8-419d-8f69-f1a48e6269d9",
   "metadata": {
    "execution": {
     "iopub.execute_input": "2022-04-09T15:04:10.859561Z",
     "iopub.status.busy": "2022-04-09T15:04:10.859336Z",
     "iopub.status.idle": "2022-04-09T15:10:42.998182Z",
     "shell.execute_reply": "2022-04-09T15:10:42.982965Z",
     "shell.execute_reply.started": "2022-04-09T15:04:10.859532Z"
    },
    "tags": []
   },
   "outputs": [
    {
     "data": {
      "application/vnd.jupyter.widget-view+json": {
       "model_id": "30ae957badfd4e629d9814db69c3bd22",
       "version_major": 2,
       "version_minor": 0
      },
      "text/plain": [
       "VBox()"
      ]
     },
     "metadata": {},
     "output_type": "display_data"
    },
    {
     "data": {
      "application/vnd.jupyter.widget-view+json": {
       "model_id": "",
       "version_major": 2,
       "version_minor": 0
      },
      "text/plain": [
       "FloatProgress(value=0.0, bar_style='info', description='Progress:', layout=Layout(height='25px', width='50%'),…"
      ]
     },
     "metadata": {},
     "output_type": "display_data"
    }
   ],
   "source": [
    "lr = LogisticRegression(maxIter=50, regParam=0.3, elasticNetParam=0,standardization=True, family=\"multinomial\")\n",
    "lrModel = lr.fit(train)"
   ]
  },
  {
   "cell_type": "code",
   "execution_count": 48,
   "id": "3e6ed6cd-123f-4e54-99cc-7f0d70af3e33",
   "metadata": {
    "execution": {
     "iopub.execute_input": "2022-04-09T15:10:43.001430Z",
     "iopub.status.busy": "2022-04-09T15:10:43.001042Z",
     "iopub.status.idle": "2022-04-09T15:10:43.297861Z",
     "shell.execute_reply": "2022-04-09T15:10:43.296892Z",
     "shell.execute_reply.started": "2022-04-09T15:10:43.001381Z"
    },
    "tags": []
   },
   "outputs": [
    {
     "data": {
      "application/vnd.jupyter.widget-view+json": {
       "model_id": "b1a85715fca64e93acf417e5b63b7cfd",
       "version_major": 2,
       "version_minor": 0
      },
      "text/plain": [
       "VBox()"
      ]
     },
     "metadata": {},
     "output_type": "display_data"
    },
    {
     "data": {
      "application/vnd.jupyter.widget-view+json": {
       "model_id": "",
       "version_major": 2,
       "version_minor": 0
      },
      "text/plain": [
       "FloatProgress(value=0.0, bar_style='info', description='Progress:', layout=Layout(height='25px', width='50%'),…"
      ]
     },
     "metadata": {},
     "output_type": "display_data"
    }
   ],
   "source": [
    "trainpredictions = lrModel.transform(train)\n",
    "predictions = lrModel.transform(test)"
   ]
  },
  {
   "cell_type": "markdown",
   "id": "b075525d-d7b1-421f-aa50-e0c89e2cb939",
   "metadata": {},
   "source": [
    "# Model Evaluation"
   ]
  },
  {
   "cell_type": "code",
   "execution_count": 49,
   "id": "f030cc74-8859-406b-a295-25ea18ab9869",
   "metadata": {
    "execution": {
     "iopub.execute_input": "2022-04-09T15:10:43.299810Z",
     "iopub.status.busy": "2022-04-09T15:10:43.299475Z",
     "iopub.status.idle": "2022-04-09T15:16:09.718544Z",
     "shell.execute_reply": "2022-04-09T15:16:09.717498Z",
     "shell.execute_reply.started": "2022-04-09T15:10:43.299762Z"
    },
    "tags": []
   },
   "outputs": [
    {
     "data": {
      "application/vnd.jupyter.widget-view+json": {
       "model_id": "47da87ed336e4f458967ed59b562057a",
       "version_major": 2,
       "version_minor": 0
      },
      "text/plain": [
       "VBox()"
      ]
     },
     "metadata": {},
     "output_type": "display_data"
    },
    {
     "data": {
      "application/vnd.jupyter.widget-view+json": {
       "model_id": "",
       "version_major": 2,
       "version_minor": 0
      },
      "text/plain": [
       "FloatProgress(value=0.0, bar_style='info', description='Progress:', layout=Layout(height='25px', width='50%'),…"
      ]
     },
     "metadata": {},
     "output_type": "display_data"
    },
    {
     "name": "stdout",
     "output_type": "stream",
     "text": [
      "0.8333485106557563"
     ]
    }
   ],
   "source": [
    "from pyspark.ml.evaluation import MulticlassClassificationEvaluator\n",
    "evaluator = MulticlassClassificationEvaluator(predictionCol=\"prediction\")\n",
    "evaluator.evaluate(predictions)"
   ]
  },
  {
   "cell_type": "code",
   "execution_count": 50,
   "id": "ba956523-77c4-48f2-9a86-0464a0127197",
   "metadata": {
    "execution": {
     "iopub.execute_input": "2022-04-09T15:16:09.720773Z",
     "iopub.status.busy": "2022-04-09T15:16:09.720556Z",
     "iopub.status.idle": "2022-04-09T15:16:20.107851Z",
     "shell.execute_reply": "2022-04-09T15:16:20.098801Z",
     "shell.execute_reply.started": "2022-04-09T15:16:09.720743Z"
    },
    "tags": []
   },
   "outputs": [
    {
     "data": {
      "application/vnd.jupyter.widget-view+json": {
       "model_id": "413ba28539684605ba9d68278c4e4201",
       "version_major": 2,
       "version_minor": 0
      },
      "text/plain": [
       "VBox()"
      ]
     },
     "metadata": {},
     "output_type": "display_data"
    },
    {
     "data": {
      "application/vnd.jupyter.widget-view+json": {
       "model_id": "",
       "version_major": 2,
       "version_minor": 0
      },
      "text/plain": [
       "FloatProgress(value=0.0, bar_style='info', description='Progress:', layout=Layout(height='25px', width='50%'),…"
      ]
     },
     "metadata": {},
     "output_type": "display_data"
    },
    {
     "name": "stdout",
     "output_type": "stream",
     "text": [
      "Training F1 with logistic regression 0.8385122342491779\n",
      "Training weightedRecall with logistic regression 0.8644454374429703\n",
      "Training weightedPrecision with logistic regression 0.8701605807876484\n",
      "Training accuracy with logistic regression 0.8644454374429704\n",
      "Test accuracy with logistic regression 0.860624482712287"
     ]
    }
   ],
   "source": [
    "print(\"Training F1 with logistic regression\",evaluator.evaluate(trainpredictions,{evaluator.metricName: \"f1\"}))\n",
    "print(\"Training weightedRecall with logistic regression\",evaluator.evaluate(trainpredictions,{evaluator.metricName: \"weightedRecall\"}))\n",
    "print(\"Training weightedPrecision with logistic regression\",evaluator.evaluate(trainpredictions,{evaluator.metricName: \"weightedPrecision\"}))\n",
    "print(\"Training accuracy with logistic regression\",evaluator.evaluate(trainpredictions,{evaluator.metricName: \"accuracy\"}))\n",
    "print(\"Test accuracy with logistic regression\",evaluator.evaluate(predictions,{evaluator.metricName: \"accuracy\"}))"
   ]
  },
  {
   "cell_type": "code",
   "execution_count": null,
   "id": "6731a6f1-df17-49cd-86bc-3ef9d8e2a75a",
   "metadata": {},
   "outputs": [],
   "source": []
  }
 ],
 "metadata": {
  "kernelspec": {
   "display_name": "PySpark",
   "language": "",
   "name": "pysparkkernel"
  },
  "language_info": {
   "codemirror_mode": {
    "name": "python",
    "version": 3
   },
   "mimetype": "text/x-python",
   "name": "pyspark",
   "pygments_lexer": "python3"
  }
 },
 "nbformat": 4,
 "nbformat_minor": 5
}
