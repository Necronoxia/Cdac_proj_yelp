{
 "cells": [
  {
   "cell_type": "markdown",
   "id": "b5f647a0-9fd2-4766-9dd1-3da6e6c28986",
   "metadata": {},
   "source": [
    "# NGram Rating classifier"
   ]
  },
  {
   "cell_type": "markdown",
   "id": "abfdb491-ee27-48fb-89d5-97c263e6ce25",
   "metadata": {
    "tags": []
   },
   "source": [
    "### Cluster environment Configurations"
   ]
  },
  {
   "cell_type": "code",
   "execution_count": 1,
   "id": "9fc78abd",
   "metadata": {
    "execution": {
     "iopub.execute_input": "2022-04-08T17:12:12.794169Z",
     "iopub.status.busy": "2022-04-08T17:12:12.793568Z",
     "iopub.status.idle": "2022-04-08T17:12:39.551779Z",
     "shell.execute_reply": "2022-04-08T17:12:39.550712Z",
     "shell.execute_reply.started": "2022-04-08T17:12:12.794126Z"
    },
    "tags": []
   },
   "outputs": [
    {
     "data": {
      "application/vnd.jupyter.widget-view+json": {
       "model_id": "d9fd9f48033842ed9d238454c64765b6",
       "version_major": 2,
       "version_minor": 0
      },
      "text/plain": [
       "VBox()"
      ]
     },
     "metadata": {},
     "output_type": "display_data"
    },
    {
     "name": "stdout",
     "output_type": "stream",
     "text": [
      "Starting Spark application\n"
     ]
    },
    {
     "data": {
      "text/html": [
       "<table>\n",
       "<tr><th>ID</th><th>YARN Application ID</th><th>Kind</th><th>State</th><th>Spark UI</th><th>Driver log</th><th>User</th><th>Current session?</th></tr><tr><td>2</td><td>application_1649434868265_0010</td><td>pyspark</td><td>idle</td><td><a target=\"_blank\" href=\"http://ip-172-31-47-63.ec2.internal:20888/proxy/application_1649434868265_0010/\" class=\"emr-proxy-link\" emr-resource=\"j-13KHCUPQS89N1\n",
       "\" application-id=\"application_1649434868265_0010\">Link</a></td><td><a target=\"_blank\" href=\"http://ip-172-31-34-67.ec2.internal:8042/node/containerlogs/container_1649434868265_0010_01_000002/livy\" >Link</a></td><td>None</td><td>✔</td></tr></table>"
      ],
      "text/plain": [
       "<IPython.core.display.HTML object>"
      ]
     },
     "metadata": {},
     "output_type": "display_data"
    },
    {
     "data": {
      "application/vnd.jupyter.widget-view+json": {
       "model_id": "",
       "version_major": 2,
       "version_minor": 0
      },
      "text/plain": [
       "FloatProgress(value=0.0, bar_style='info', description='Progress:', layout=Layout(height='25px', width='50%'),…"
      ]
     },
     "metadata": {},
     "output_type": "display_data"
    },
    {
     "name": "stdout",
     "output_type": "stream",
     "text": [
      "SparkSession available as 'spark'.\n"
     ]
    },
    {
     "data": {
      "application/vnd.jupyter.widget-view+json": {
       "model_id": "",
       "version_major": 2,
       "version_minor": 0
      },
      "text/plain": [
       "FloatProgress(value=0.0, bar_style='info', description='Progress:', layout=Layout(height='25px', width='50%'),…"
      ]
     },
     "metadata": {},
     "output_type": "display_data"
    }
   ],
   "source": [
    "conf = spark.sparkContext._conf.setAll([('spark.executor.memory', '8g'), ('spark.driver.memory','15g'),(\"spark.driver.maxResultSize\",\"0\"),(\"spark.executor.cores\", '2'),(\"spark.executor.instances\", \"12\"),(\"spark.dynamicAllocation.enabled\",\"False\")])"
   ]
  },
  {
   "cell_type": "markdown",
   "id": "5c03640e-ab3f-4a34-8603-1549b6b8877b",
   "metadata": {
    "execution": {
     "iopub.execute_input": "2022-04-08T09:46:10.503674Z",
     "iopub.status.busy": "2022-04-08T09:46:10.503432Z",
     "iopub.status.idle": "2022-04-08T09:46:10.590080Z",
     "shell.execute_reply": "2022-04-08T09:46:10.589379Z",
     "shell.execute_reply.started": "2022-04-08T09:46:10.503648Z"
    },
    "tags": []
   },
   "source": [
    "### Imports"
   ]
  },
  {
   "cell_type": "code",
   "execution_count": 2,
   "id": "dbb9316e-e112-42af-a223-3f6a7d8022c9",
   "metadata": {
    "execution": {
     "iopub.execute_input": "2022-04-08T17:12:39.553733Z",
     "iopub.status.busy": "2022-04-08T17:12:39.553251Z",
     "iopub.status.idle": "2022-04-08T17:12:39.612467Z",
     "shell.execute_reply": "2022-04-08T17:12:39.611895Z",
     "shell.execute_reply.started": "2022-04-08T17:12:39.553693Z"
    },
    "tags": []
   },
   "outputs": [
    {
     "data": {
      "application/vnd.jupyter.widget-view+json": {
       "model_id": "c25a5180c0b94d08aeafdf359191fcf2",
       "version_major": 2,
       "version_minor": 0
      },
      "text/plain": [
       "VBox()"
      ]
     },
     "metadata": {},
     "output_type": "display_data"
    },
    {
     "data": {
      "application/vnd.jupyter.widget-view+json": {
       "model_id": "",
       "version_major": 2,
       "version_minor": 0
      },
      "text/plain": [
       "FloatProgress(value=0.0, bar_style='info', description='Progress:', layout=Layout(height='25px', width='50%'),…"
      ]
     },
     "metadata": {},
     "output_type": "display_data"
    }
   ],
   "source": [
    "import pyspark"
   ]
  },
  {
   "cell_type": "code",
   "execution_count": 3,
   "id": "978f9b66",
   "metadata": {
    "execution": {
     "iopub.execute_input": "2022-04-08T17:12:39.613995Z",
     "iopub.status.busy": "2022-04-08T17:12:39.613819Z",
     "iopub.status.idle": "2022-04-08T17:12:39.899719Z",
     "shell.execute_reply": "2022-04-08T17:12:39.899092Z",
     "shell.execute_reply.started": "2022-04-08T17:12:39.613972Z"
    },
    "tags": []
   },
   "outputs": [
    {
     "data": {
      "application/vnd.jupyter.widget-view+json": {
       "model_id": "0c9cfe61b6d344fca66eb5fd1b444992",
       "version_major": 2,
       "version_minor": 0
      },
      "text/plain": [
       "VBox()"
      ]
     },
     "metadata": {},
     "output_type": "display_data"
    },
    {
     "data": {
      "application/vnd.jupyter.widget-view+json": {
       "model_id": "",
       "version_major": 2,
       "version_minor": 0
      },
      "text/plain": [
       "FloatProgress(value=0.0, bar_style='info', description='Progress:', layout=Layout(height='25px', width='50%'),…"
      ]
     },
     "metadata": {},
     "output_type": "display_data"
    }
   ],
   "source": [
    "from pyspark.storagelevel import StorageLevel\n",
    "\n",
    "from pyspark.ml import Pipeline\n",
    "from pyspark.ml.classification import GBTClassifier\n",
    "from pyspark.ml import Transformer, classification\n",
    "from pyspark.ml import tuning\n",
    "from pyspark.ml.evaluation import MulticlassClassificationEvaluator"
   ]
  },
  {
   "cell_type": "markdown",
   "id": "46a77f5c-77e5-4426-8d66-aa49fc3a8156",
   "metadata": {
    "tags": []
   },
   "source": [
    "### Data Loading"
   ]
  },
  {
   "cell_type": "code",
   "execution_count": 4,
   "id": "07373b8c-e385-434d-a868-2236c236de6f",
   "metadata": {
    "execution": {
     "iopub.execute_input": "2022-04-08T17:12:39.900900Z",
     "iopub.status.busy": "2022-04-08T17:12:39.900721Z",
     "iopub.status.idle": "2022-04-08T17:13:33.463002Z",
     "shell.execute_reply": "2022-04-08T17:13:33.462223Z",
     "shell.execute_reply.started": "2022-04-08T17:12:39.900877Z"
    },
    "tags": []
   },
   "outputs": [
    {
     "data": {
      "application/vnd.jupyter.widget-view+json": {
       "model_id": "048430788cea49e89cb0037b22af1187",
       "version_major": 2,
       "version_minor": 0
      },
      "text/plain": [
       "VBox()"
      ]
     },
     "metadata": {},
     "output_type": "display_data"
    },
    {
     "data": {
      "application/vnd.jupyter.widget-view+json": {
       "model_id": "",
       "version_major": 2,
       "version_minor": 0
      },
      "text/plain": [
       "FloatProgress(value=0.0, bar_style='info', description='Progress:', layout=Layout(height='25px', width='50%'),…"
      ]
     },
     "metadata": {},
     "output_type": "display_data"
    }
   ],
   "source": [
    "df_test = sqlContext.read.parquet(\"s3://dataset-26-proj/yelp_academic_dataset_review_processed_train/\").repartition(4800)"
   ]
  },
  {
   "cell_type": "code",
   "execution_count": 5,
   "id": "57e159a0",
   "metadata": {
    "execution": {
     "iopub.execute_input": "2022-04-08T17:13:37.684278Z",
     "iopub.status.busy": "2022-04-08T17:13:37.683930Z",
     "iopub.status.idle": "2022-04-08T17:13:39.998887Z",
     "shell.execute_reply": "2022-04-08T17:13:39.998189Z",
     "shell.execute_reply.started": "2022-04-08T17:13:37.684236Z"
    },
    "tags": []
   },
   "outputs": [
    {
     "data": {
      "application/vnd.jupyter.widget-view+json": {
       "model_id": "c4b55d4bf5874de3afd8c45608c39073",
       "version_major": 2,
       "version_minor": 0
      },
      "text/plain": [
       "VBox()"
      ]
     },
     "metadata": {},
     "output_type": "display_data"
    },
    {
     "data": {
      "application/vnd.jupyter.widget-view+json": {
       "model_id": "",
       "version_major": 2,
       "version_minor": 0
      },
      "text/plain": [
       "FloatProgress(value=0.0, bar_style='info', description='Progress:', layout=Layout(height='25px', width='50%'),…"
      ]
     },
     "metadata": {},
     "output_type": "display_data"
    }
   ],
   "source": [
    "df = sqlContext.read.parquet(\"hdfs:///NLP-parquet-processed/\").repartition(4800)"
   ]
  },
  {
   "cell_type": "code",
   "execution_count": 10,
   "id": "451702f9-eeae-49dd-8e8b-ab3b668b6c49",
   "metadata": {
    "execution": {
     "iopub.execute_input": "2022-04-08T17:13:57.933311Z",
     "iopub.status.busy": "2022-04-08T17:13:57.933079Z",
     "iopub.status.idle": "2022-04-08T17:13:57.999166Z",
     "shell.execute_reply": "2022-04-08T17:13:57.998649Z",
     "shell.execute_reply.started": "2022-04-08T17:13:57.933283Z"
    },
    "tags": []
   },
   "outputs": [
    {
     "data": {
      "application/vnd.jupyter.widget-view+json": {
       "model_id": "fa428885cc504a6f995b01cb1b3ce1e7",
       "version_major": 2,
       "version_minor": 0
      },
      "text/plain": [
       "VBox()"
      ]
     },
     "metadata": {},
     "output_type": "display_data"
    },
    {
     "data": {
      "application/vnd.jupyter.widget-view+json": {
       "model_id": "",
       "version_major": 2,
       "version_minor": 0
      },
      "text/plain": [
       "FloatProgress(value=0.0, bar_style='info', description='Progress:', layout=Layout(height='25px', width='50%'),…"
      ]
     },
     "metadata": {},
     "output_type": "display_data"
    }
   ],
   "source": [
    "df = df.withColumnRenamed(\"stars\",\"label\")\n",
    "df_test = df_test.withColumnRenamed(\"stars\",\"label\")"
   ]
  },
  {
   "cell_type": "code",
   "execution_count": 11,
   "id": "c06b8fa0-149d-49fd-9cd1-235775cd8b20",
   "metadata": {
    "execution": {
     "iopub.execute_input": "2022-04-08T17:13:59.524313Z",
     "iopub.status.busy": "2022-04-08T17:13:59.524077Z",
     "iopub.status.idle": "2022-04-08T17:13:59.580776Z",
     "shell.execute_reply": "2022-04-08T17:13:59.580238Z",
     "shell.execute_reply.started": "2022-04-08T17:13:59.524288Z"
    },
    "tags": []
   },
   "outputs": [
    {
     "data": {
      "application/vnd.jupyter.widget-view+json": {
       "model_id": "4deff10e75ca4d46a6eb1a951cb5b564",
       "version_major": 2,
       "version_minor": 0
      },
      "text/plain": [
       "VBox()"
      ]
     },
     "metadata": {},
     "output_type": "display_data"
    },
    {
     "data": {
      "application/vnd.jupyter.widget-view+json": {
       "model_id": "",
       "version_major": 2,
       "version_minor": 0
      },
      "text/plain": [
       "FloatProgress(value=0.0, bar_style='info', description='Progress:', layout=Layout(height='25px', width='50%'),…"
      ]
     },
     "metadata": {},
     "output_type": "display_data"
    }
   ],
   "source": [
    "#df = df.localCheckpoint()"
   ]
  },
  {
   "cell_type": "code",
   "execution_count": 12,
   "id": "a8bf6e79-76d6-4692-b8c0-0e160e7726f9",
   "metadata": {
    "execution": {
     "iopub.execute_input": "2022-04-08T17:13:59.892203Z",
     "iopub.status.busy": "2022-04-08T17:13:59.892003Z",
     "iopub.status.idle": "2022-04-08T17:13:59.945563Z",
     "shell.execute_reply": "2022-04-08T17:13:59.944903Z",
     "shell.execute_reply.started": "2022-04-08T17:13:59.892180Z"
    },
    "tags": []
   },
   "outputs": [
    {
     "data": {
      "application/vnd.jupyter.widget-view+json": {
       "model_id": "71b58cb50f174fbc99c775d5bfc5bad9",
       "version_major": 2,
       "version_minor": 0
      },
      "text/plain": [
       "VBox()"
      ]
     },
     "metadata": {},
     "output_type": "display_data"
    },
    {
     "data": {
      "application/vnd.jupyter.widget-view+json": {
       "model_id": "",
       "version_major": 2,
       "version_minor": 0
      },
      "text/plain": [
       "FloatProgress(value=0.0, bar_style='info', description='Progress:', layout=Layout(height='25px', width='50%'),…"
      ]
     },
     "metadata": {},
     "output_type": "display_data"
    },
    {
     "name": "stdout",
     "output_type": "stream",
     "text": [
      "root\n",
      " |-- label: double (nullable = true)\n",
      " |-- text: string (nullable = true)\n",
      " |-- stemmed: array (nullable = true)\n",
      " |    |-- element: string (containsNull = true)\n",
      " |-- Bigrams: array (nullable = true)\n",
      " |    |-- element: string (containsNull = true)\n",
      " |-- Trigrams: array (nullable = true)\n",
      " |    |-- element: string (containsNull = true)\n",
      " |-- featuresUni: vector (nullable = true)\n",
      " |-- featuresBi: vector (nullable = true)\n",
      " |-- featuresTri: vector (nullable = true)"
     ]
    }
   ],
   "source": [
    "df.printSchema()"
   ]
  },
  {
   "cell_type": "markdown",
   "id": "1889b464-affd-467a-8791-f9968d72e7e5",
   "metadata": {
    "tags": []
   },
   "source": [
    "#### Separating features"
   ]
  },
  {
   "cell_type": "code",
   "execution_count": 13,
   "id": "b2fb87a2-f6fa-42c0-94cc-ca59010e16a8",
   "metadata": {
    "execution": {
     "iopub.execute_input": "2022-04-08T17:14:32.878731Z",
     "iopub.status.busy": "2022-04-08T17:14:32.878499Z",
     "iopub.status.idle": "2022-04-08T17:14:33.146904Z",
     "shell.execute_reply": "2022-04-08T17:14:33.146340Z",
     "shell.execute_reply.started": "2022-04-08T17:14:32.878705Z"
    },
    "tags": []
   },
   "outputs": [
    {
     "data": {
      "application/vnd.jupyter.widget-view+json": {
       "model_id": "34270c29ae404ba58ceb9f222d3cfdc2",
       "version_major": 2,
       "version_minor": 0
      },
      "text/plain": [
       "VBox()"
      ]
     },
     "metadata": {},
     "output_type": "display_data"
    },
    {
     "data": {
      "application/vnd.jupyter.widget-view+json": {
       "model_id": "",
       "version_major": 2,
       "version_minor": 0
      },
      "text/plain": [
       "FloatProgress(value=0.0, bar_style='info', description='Progress:', layout=Layout(height='25px', width='50%'),…"
      ]
     },
     "metadata": {},
     "output_type": "display_data"
    }
   ],
   "source": [
    "dfUni = df.select(\"label\",\"featuresUni\").withColumnRenamed(\"featuresUni\",\"features\").repartition(3200).cache()\n",
    "dfBi = df.select(\"label\",\"featuresBi\").withColumnRenamed(\"featuresBi\",\"features\").repartition(3200).cache()\n",
    "dfTri = df.select(\"label\",\"featuresTri\").withColumnRenamed(\"featuresTri\",\"features\").repartition(3200).cache()\n",
    "\n",
    "dfUni_test = df_test.select(\"label\",\"featuresUni\").withColumnRenamed(\"featuresUni\",\"features\").repartition(3200).cache()\n",
    "dfBi_test = df_test.select(\"label\",\"featuresBi\").withColumnRenamed(\"featuresBi\",\"features\").repartition(3200).cache()\n",
    "dfTri_test = df_test.select(\"label\",\"featuresTri\").withColumnRenamed(\"featuresTri\",\"features\").repartition(3200).cache()"
   ]
  },
  {
   "cell_type": "markdown",
   "id": "0e1a9e5f-33d3-43cb-bd8e-e0dfb052e0b2",
   "metadata": {
    "tags": []
   },
   "source": [
    "### Model declaration"
   ]
  },
  {
   "cell_type": "code",
   "execution_count": 14,
   "id": "eb255ccc",
   "metadata": {
    "execution": {
     "iopub.execute_input": "2022-04-08T17:14:36.237761Z",
     "iopub.status.busy": "2022-04-08T17:14:36.237514Z",
     "iopub.status.idle": "2022-04-08T17:14:36.498033Z",
     "shell.execute_reply": "2022-04-08T17:14:36.497371Z",
     "shell.execute_reply.started": "2022-04-08T17:14:36.237736Z"
    },
    "tags": []
   },
   "outputs": [
    {
     "data": {
      "application/vnd.jupyter.widget-view+json": {
       "model_id": "624e36629c19427c9b7379d0b5591a67",
       "version_major": 2,
       "version_minor": 0
      },
      "text/plain": [
       "VBox()"
      ]
     },
     "metadata": {},
     "output_type": "display_data"
    },
    {
     "data": {
      "application/vnd.jupyter.widget-view+json": {
       "model_id": "",
       "version_major": 2,
       "version_minor": 0
      },
      "text/plain": [
       "FloatProgress(value=0.0, bar_style='info', description='Progress:', layout=Layout(height='25px', width='50%'),…"
      ]
     },
     "metadata": {},
     "output_type": "display_data"
    }
   ],
   "source": [
    "lr= classification.LogisticRegression(maxIter=75, regParam=0, elasticNetParam=0, tol=1E-6, standardization=False, family=\"binomial\")\n",
    "lrBi = classification.LogisticRegression(maxIter=75, regParam=0, elasticNetParam=0, tol=1E-6, standardization=False, family=\"binomial\")\n",
    "lrTri = classification.LogisticRegression(maxIter=75, regParam=0, elasticNetParam=0, tol=1E-6, standardization=False, family=\"binomial\")\n",
    "ovrUni = classification.OneVsRest(classifier=lr)\n",
    "ovrBi = classification.OneVsRest(classifier=lrBi)\n",
    "ovrTri = classification.OneVsRest(classifier=lrTri)"
   ]
  },
  {
   "cell_type": "markdown",
   "id": "ae1a1d69-0fc5-44b6-b950-0ceb63c970f7",
   "metadata": {
    "tags": []
   },
   "source": [
    "#### Declare evaluator"
   ]
  },
  {
   "cell_type": "code",
   "execution_count": 15,
   "id": "ca973a74-b730-4791-90b4-e9231296afe2",
   "metadata": {
    "execution": {
     "iopub.execute_input": "2022-04-08T17:14:54.780444Z",
     "iopub.status.busy": "2022-04-08T17:14:54.780219Z",
     "iopub.status.idle": "2022-04-08T17:14:54.839367Z",
     "shell.execute_reply": "2022-04-08T17:14:54.838797Z",
     "shell.execute_reply.started": "2022-04-08T17:14:54.780420Z"
    },
    "tags": []
   },
   "outputs": [
    {
     "data": {
      "application/vnd.jupyter.widget-view+json": {
       "model_id": "d40ab495f41c434b99ddeebc38bfcebc",
       "version_major": 2,
       "version_minor": 0
      },
      "text/plain": [
       "VBox()"
      ]
     },
     "metadata": {},
     "output_type": "display_data"
    },
    {
     "data": {
      "application/vnd.jupyter.widget-view+json": {
       "model_id": "",
       "version_major": 2,
       "version_minor": 0
      },
      "text/plain": [
       "FloatProgress(value=0.0, bar_style='info', description='Progress:', layout=Layout(height='25px', width='50%'),…"
      ]
     },
     "metadata": {},
     "output_type": "display_data"
    }
   ],
   "source": [
    "evaluator = MulticlassClassificationEvaluator(predictionCol=\"prediction\")"
   ]
  },
  {
   "cell_type": "markdown",
   "id": "06fd96ca-9b09-428a-9826-0cdb57d0a323",
   "metadata": {
    "tags": []
   },
   "source": [
    "### One Vs Rest Unigram"
   ]
  },
  {
   "cell_type": "code",
   "execution_count": 16,
   "id": "6a94cf28-8ebc-442d-8b14-bf7bbbd41910",
   "metadata": {
    "execution": {
     "iopub.execute_input": "2022-04-08T17:14:55.778176Z",
     "iopub.status.busy": "2022-04-08T17:14:55.777933Z",
     "iopub.status.idle": "2022-04-08T17:29:51.316771Z",
     "shell.execute_reply": "2022-04-08T17:29:51.316127Z",
     "shell.execute_reply.started": "2022-04-08T17:14:55.778149Z"
    },
    "tags": []
   },
   "outputs": [
    {
     "data": {
      "application/vnd.jupyter.widget-view+json": {
       "model_id": "bb6e863ff1c44ffb9fb56cab9df5661f",
       "version_major": 2,
       "version_minor": 0
      },
      "text/plain": [
       "VBox()"
      ]
     },
     "metadata": {},
     "output_type": "display_data"
    },
    {
     "data": {
      "application/vnd.jupyter.widget-view+json": {
       "model_id": "",
       "version_major": 2,
       "version_minor": 0
      },
      "text/plain": [
       "FloatProgress(value=0.0, bar_style='info', description='Progress:', layout=Layout(height='25px', width='50%'),…"
      ]
     },
     "metadata": {},
     "output_type": "display_data"
    }
   ],
   "source": [
    "ovrModelUni = ovrUni.fit(dfUni)"
   ]
  },
  {
   "cell_type": "code",
   "execution_count": 19,
   "id": "ae16f3e5-231b-4f60-8d3e-c2ec54c5d816",
   "metadata": {
    "execution": {
     "iopub.execute_input": "2022-04-08T17:35:43.181221Z",
     "iopub.status.busy": "2022-04-08T17:35:43.180968Z",
     "iopub.status.idle": "2022-04-08T17:35:43.979789Z",
     "shell.execute_reply": "2022-04-08T17:35:43.979106Z",
     "shell.execute_reply.started": "2022-04-08T17:35:43.181195Z"
    },
    "tags": []
   },
   "outputs": [
    {
     "data": {
      "application/vnd.jupyter.widget-view+json": {
       "model_id": "2b2682947ebc41d3bbdbe3dcc18ed783",
       "version_major": 2,
       "version_minor": 0
      },
      "text/plain": [
       "VBox()"
      ]
     },
     "metadata": {},
     "output_type": "display_data"
    },
    {
     "data": {
      "application/vnd.jupyter.widget-view+json": {
       "model_id": "",
       "version_major": 2,
       "version_minor": 0
      },
      "text/plain": [
       "FloatProgress(value=0.0, bar_style='info', description='Progress:', layout=Layout(height='25px', width='50%'),…"
      ]
     },
     "metadata": {},
     "output_type": "display_data"
    }
   ],
   "source": [
    "resultUni = ovrModelUni.transform(dfUni)\n",
    "resultUni_test = ovrModelUni.transform(dfUni_test)"
   ]
  },
  {
   "cell_type": "markdown",
   "id": "82f0e67b-a70d-485f-aa34-3b33a04c2442",
   "metadata": {},
   "source": [
    "#### Metric"
   ]
  },
  {
   "cell_type": "code",
   "execution_count": 32,
   "id": "e45eda35-c740-4549-8b79-2f601abc97f8",
   "metadata": {
    "execution": {
     "iopub.execute_input": "2022-04-08T18:52:08.446072Z",
     "iopub.status.busy": "2022-04-08T18:52:08.445730Z",
     "iopub.status.idle": "2022-04-08T18:59:32.109917Z",
     "shell.execute_reply": "2022-04-08T18:59:32.109155Z",
     "shell.execute_reply.started": "2022-04-08T18:52:08.446031Z"
    },
    "tags": []
   },
   "outputs": [
    {
     "data": {
      "application/vnd.jupyter.widget-view+json": {
       "model_id": "b3ecfa86f4c4418080326b1f641e432e",
       "version_major": 2,
       "version_minor": 0
      },
      "text/plain": [
       "VBox()"
      ]
     },
     "metadata": {},
     "output_type": "display_data"
    },
    {
     "data": {
      "application/vnd.jupyter.widget-view+json": {
       "model_id": "",
       "version_major": 2,
       "version_minor": 0
      },
      "text/plain": [
       "FloatProgress(value=0.0, bar_style='info', description='Progress:', layout=Layout(height='25px', width='50%'),…"
      ]
     },
     "metadata": {},
     "output_type": "display_data"
    },
    {
     "name": "stdout",
     "output_type": "stream",
     "text": [
      "Training F1 for Unigram One vs Rest with logistic regression 0.590775703312456\n",
      "Training weightedRecall for Unigram One vs Rest with logistic regression 0.5984332967644009\n",
      "Training weightedPrecision for Unigram One vs Rest with logistic regression 0.5896686737826645\n",
      "Training accuracy for Unigram One vs Rest with logistic regression 0.5984332967644009\n",
      "Test accuracy for Unigram One vs Rest with logistic regression 0.5656358333916001"
     ]
    }
   ],
   "source": [
    "print(\"Training F1 for Unigram One vs Rest with logistic regression\",evaluator.evaluate(resultUni,{evaluator.metricName: \"f1\"}))\n",
    "print(\"Training weightedRecall for Unigram One vs Rest with logistic regression\",evaluator.evaluate(resultUni,{evaluator.metricName: \"weightedRecall\"}))\n",
    "print(\"Training weightedPrecision for Unigram One vs Rest with logistic regression\",evaluator.evaluate(resultUni,{evaluator.metricName: \"weightedPrecision\"}))\n",
    "print(\"Training accuracy for Unigram One vs Rest with logistic regression\",evaluator.evaluate(resultUni,{evaluator.metricName: \"accuracy\"}))\n",
    "print(\"Test accuracy for Unigram One vs Rest with logistic regression\",evaluator.evaluate(resultUni_test,{evaluator.metricName: \"accuracy\"}))"
   ]
  },
  {
   "cell_type": "code",
   "execution_count": 58,
   "id": "ba3677b4-08f2-44c7-8ffe-0d4749965e27",
   "metadata": {
    "execution": {
     "iopub.execute_input": "2022-04-08T13:40:56.333786Z",
     "iopub.status.busy": "2022-04-08T13:40:56.333376Z",
     "iopub.status.idle": "2022-04-08T13:41:04.103872Z",
     "shell.execute_reply": "2022-04-08T13:41:04.093647Z",
     "shell.execute_reply.started": "2022-04-08T13:40:56.333743Z"
    },
    "tags": []
   },
   "outputs": [
    {
     "data": {
      "application/vnd.jupyter.widget-view+json": {
       "model_id": "46ebc643849d4d18b51e014459e394f8",
       "version_major": 2,
       "version_minor": 0
      },
      "text/plain": [
       "VBox()"
      ]
     },
     "metadata": {},
     "output_type": "display_data"
    },
    {
     "data": {
      "application/vnd.jupyter.widget-view+json": {
       "model_id": "",
       "version_major": 2,
       "version_minor": 0
      },
      "text/plain": [
       "FloatProgress(value=0.0, bar_style='info', description='Progress:', layout=Layout(height='25px', width='50%'),…"
      ]
     },
     "metadata": {},
     "output_type": "display_data"
    }
   ],
   "source": [
    "ovrModelUni.save('s3://dataset-26-proj/yelp_academic_dataset_review_ovrUni/ovrUniV3.model')"
   ]
  },
  {
   "cell_type": "markdown",
   "id": "dd818810-3236-42e5-b56b-a66daa8af43c",
   "metadata": {
    "tags": []
   },
   "source": [
    "### One Vs Rest Bigram"
   ]
  },
  {
   "cell_type": "code",
   "execution_count": 21,
   "id": "2b8fdbbe-31aa-4b3e-9333-84c8196ee193",
   "metadata": {
    "execution": {
     "iopub.execute_input": "2022-04-08T17:40:59.651378Z",
     "iopub.status.busy": "2022-04-08T17:40:59.651132Z",
     "iopub.status.idle": "2022-04-08T17:51:30.481088Z",
     "shell.execute_reply": "2022-04-08T17:51:30.480471Z",
     "shell.execute_reply.started": "2022-04-08T17:40:59.651351Z"
    },
    "tags": []
   },
   "outputs": [
    {
     "data": {
      "application/vnd.jupyter.widget-view+json": {
       "model_id": "3d9c3826f1074106a7e1e1778c6765a9",
       "version_major": 2,
       "version_minor": 0
      },
      "text/plain": [
       "VBox()"
      ]
     },
     "metadata": {},
     "output_type": "display_data"
    },
    {
     "data": {
      "application/vnd.jupyter.widget-view+json": {
       "model_id": "",
       "version_major": 2,
       "version_minor": 0
      },
      "text/plain": [
       "FloatProgress(value=0.0, bar_style='info', description='Progress:', layout=Layout(height='25px', width='50%'),…"
      ]
     },
     "metadata": {},
     "output_type": "display_data"
    },
    {
     "name": "stderr",
     "output_type": "stream",
     "text": [
      "Exception in thread cell_monitor-21:\n",
      "Traceback (most recent call last):\n",
      "  File \"/mnt/notebook-env/lib/python3.7/threading.py\", line 926, in _bootstrap_inner\n",
      "    self.run()\n",
      "  File \"/mnt/notebook-env/lib/python3.7/threading.py\", line 870, in run\n",
      "    self._target(*self._args, **self._kwargs)\n",
      "  File \"/mnt/notebook-env/lib/python3.7/site-packages/awseditorssparkmonitoringwidget-1.0-py3.7.egg/awseditorssparkmonitoringwidget/cellmonitor.py\", line 178, in cell_monitor\n",
      "    job_binned_stages[job_id][stage_id] = all_stages[stage_id]\n",
      "KeyError: 2096\n",
      "\n"
     ]
    }
   ],
   "source": [
    "ovrModelBi = ovrBi.fit(dfBi)"
   ]
  },
  {
   "cell_type": "code",
   "execution_count": 22,
   "id": "98d446e1-cb3e-44c9-9b87-cbe99a109078",
   "metadata": {
    "execution": {
     "iopub.execute_input": "2022-04-08T17:51:35.193805Z",
     "iopub.status.busy": "2022-04-08T17:51:35.193464Z",
     "iopub.status.idle": "2022-04-08T17:51:35.973560Z",
     "shell.execute_reply": "2022-04-08T17:51:35.972803Z",
     "shell.execute_reply.started": "2022-04-08T17:51:35.193766Z"
    },
    "tags": []
   },
   "outputs": [
    {
     "data": {
      "application/vnd.jupyter.widget-view+json": {
       "model_id": "dad4779328154256b7c0e691b9f1ed83",
       "version_major": 2,
       "version_minor": 0
      },
      "text/plain": [
       "VBox()"
      ]
     },
     "metadata": {},
     "output_type": "display_data"
    },
    {
     "data": {
      "application/vnd.jupyter.widget-view+json": {
       "model_id": "",
       "version_major": 2,
       "version_minor": 0
      },
      "text/plain": [
       "FloatProgress(value=0.0, bar_style='info', description='Progress:', layout=Layout(height='25px', width='50%'),…"
      ]
     },
     "metadata": {},
     "output_type": "display_data"
    }
   ],
   "source": [
    "resultBi = ovrModelBi.transform(dfBi)\n",
    "resultBi_test = ovrModelBi.transform(dfBi_test)"
   ]
  },
  {
   "cell_type": "markdown",
   "id": "804be3e2-619f-42ce-90e4-f5c64cf58196",
   "metadata": {},
   "source": [
    "#### Metric"
   ]
  },
  {
   "cell_type": "code",
   "execution_count": 30,
   "id": "5b339285-9c01-4901-85fa-6948643ebc31",
   "metadata": {
    "execution": {
     "iopub.execute_input": "2022-04-08T18:33:52.725952Z",
     "iopub.status.busy": "2022-04-08T18:33:52.725686Z",
     "iopub.status.idle": "2022-04-08T18:41:20.406655Z",
     "shell.execute_reply": "2022-04-08T18:41:20.406074Z",
     "shell.execute_reply.started": "2022-04-08T18:33:52.725911Z"
    },
    "tags": []
   },
   "outputs": [
    {
     "data": {
      "application/vnd.jupyter.widget-view+json": {
       "model_id": "bc7207b5f4bb464cbebf09572d77a8eb",
       "version_major": 2,
       "version_minor": 0
      },
      "text/plain": [
       "VBox()"
      ]
     },
     "metadata": {},
     "output_type": "display_data"
    },
    {
     "data": {
      "application/vnd.jupyter.widget-view+json": {
       "model_id": "",
       "version_major": 2,
       "version_minor": 0
      },
      "text/plain": [
       "FloatProgress(value=0.0, bar_style='info', description='Progress:', layout=Layout(height='25px', width='50%'),…"
      ]
     },
     "metadata": {},
     "output_type": "display_data"
    },
    {
     "name": "stdout",
     "output_type": "stream",
     "text": [
      "Training F1 for Bigram One vs Rest with logistic regression 0.5418588057916316\n",
      "Training weightedRecall for Bigram One vs Rest with logistic regression 0.5485745630513518\n",
      "Training weightedPrecision for Bigram One vs Rest with logistic regression 0.5420593428000069\n",
      "Training accuracy for Bigram One vs Rest with logistic regression 0.5485745630513518\n",
      "Test accuracy for Bigram One vs Rest with logistic regression 0.4966641330016262"
     ]
    }
   ],
   "source": [
    "print(\"Training F1 for Bigram One vs Rest with logistic regression\",evaluator.evaluate(resultBi,{evaluator.metricName: \"f1\"}))\n",
    "print(\"Training weightedRecall for Bigram One vs Rest with logistic regression\",evaluator.evaluate(resultBi,{evaluator.metricName: \"weightedRecall\"}))\n",
    "print(\"Training weightedPrecision for Bigram One vs Rest with logistic regression\",evaluator.evaluate(resultBi,{evaluator.metricName: \"weightedPrecision\"}))\n",
    "print(\"Training accuracy for Bigram One vs Rest with logistic regression\",evaluator.evaluate(resultBi,{evaluator.metricName: \"accuracy\"}))\n",
    "print(\"Test accuracy for Bigram One vs Rest with logistic regression\",evaluator.evaluate(resultBi_test,{evaluator.metricName: \"accuracy\"}))"
   ]
  },
  {
   "cell_type": "code",
   "execution_count": 64,
   "id": "39af2039-5574-4758-959a-4e76e62a924e",
   "metadata": {
    "execution": {
     "iopub.execute_input": "2022-04-08T13:53:46.944995Z",
     "iopub.status.busy": "2022-04-08T13:53:46.944645Z",
     "iopub.status.idle": "2022-04-08T13:53:54.447812Z",
     "shell.execute_reply": "2022-04-08T13:53:54.434575Z",
     "shell.execute_reply.started": "2022-04-08T13:53:46.944952Z"
    },
    "tags": []
   },
   "outputs": [
    {
     "data": {
      "application/vnd.jupyter.widget-view+json": {
       "model_id": "5575c7b30c3d4583bb185298e5552c8f",
       "version_major": 2,
       "version_minor": 0
      },
      "text/plain": [
       "VBox()"
      ]
     },
     "metadata": {},
     "output_type": "display_data"
    },
    {
     "data": {
      "application/vnd.jupyter.widget-view+json": {
       "model_id": "",
       "version_major": 2,
       "version_minor": 0
      },
      "text/plain": [
       "FloatProgress(value=0.0, bar_style='info', description='Progress:', layout=Layout(height='25px', width='50%'),…"
      ]
     },
     "metadata": {},
     "output_type": "display_data"
    }
   ],
   "source": [
    "ovrModelBi.save('s3://dataset-26-proj/yelp_academic_dataset_review_ovrBi/ovrBiV3.model')"
   ]
  },
  {
   "cell_type": "markdown",
   "id": "0aa65544-26a8-45a2-82fe-a00d66f18dd0",
   "metadata": {
    "tags": []
   },
   "source": [
    "### One Vs Rest Trigram"
   ]
  },
  {
   "cell_type": "code",
   "execution_count": 24,
   "id": "0afb931e-29ba-411e-8053-6cb898ac001d",
   "metadata": {
    "execution": {
     "iopub.execute_input": "2022-04-08T17:56:52.714009Z",
     "iopub.status.busy": "2022-04-08T17:56:52.713773Z",
     "iopub.status.idle": "2022-04-08T18:07:16.723375Z",
     "shell.execute_reply": "2022-04-08T18:07:16.722594Z",
     "shell.execute_reply.started": "2022-04-08T17:56:52.713983Z"
    },
    "tags": []
   },
   "outputs": [
    {
     "data": {
      "application/vnd.jupyter.widget-view+json": {
       "model_id": "a104dbfdd1b44deebb3576a3f4922108",
       "version_major": 2,
       "version_minor": 0
      },
      "text/plain": [
       "VBox()"
      ]
     },
     "metadata": {},
     "output_type": "display_data"
    },
    {
     "data": {
      "application/vnd.jupyter.widget-view+json": {
       "model_id": "",
       "version_major": 2,
       "version_minor": 0
      },
      "text/plain": [
       "FloatProgress(value=0.0, bar_style='info', description='Progress:', layout=Layout(height='25px', width='50%'),…"
      ]
     },
     "metadata": {},
     "output_type": "display_data"
    },
    {
     "name": "stderr",
     "output_type": "stream",
     "text": [
      "Exception in thread cell_monitor-24:\n",
      "Traceback (most recent call last):\n",
      "  File \"/mnt/notebook-env/lib/python3.7/threading.py\", line 926, in _bootstrap_inner\n",
      "    self.run()\n",
      "  File \"/mnt/notebook-env/lib/python3.7/threading.py\", line 870, in run\n",
      "    self._target(*self._args, **self._kwargs)\n",
      "  File \"/mnt/notebook-env/lib/python3.7/site-packages/awseditorssparkmonitoringwidget-1.0-py3.7.egg/awseditorssparkmonitoringwidget/cellmonitor.py\", line 178, in cell_monitor\n",
      "    job_binned_stages[job_id][stage_id] = all_stages[stage_id]\n",
      "KeyError: 3095\n",
      "\n"
     ]
    }
   ],
   "source": [
    "ovrModelTri = ovrTri.fit(dfTri)"
   ]
  },
  {
   "cell_type": "code",
   "execution_count": 25,
   "id": "4dc35245-7bbf-456c-bdce-1d993d5bfc47",
   "metadata": {
    "execution": {
     "iopub.execute_input": "2022-04-08T18:07:16.724843Z",
     "iopub.status.busy": "2022-04-08T18:07:16.724465Z",
     "iopub.status.idle": "2022-04-08T18:07:18.006733Z",
     "shell.execute_reply": "2022-04-08T18:07:18.005985Z",
     "shell.execute_reply.started": "2022-04-08T18:07:16.724813Z"
    },
    "tags": []
   },
   "outputs": [
    {
     "data": {
      "application/vnd.jupyter.widget-view+json": {
       "model_id": "e0078206bb814acf92072d7d2edc484a",
       "version_major": 2,
       "version_minor": 0
      },
      "text/plain": [
       "VBox()"
      ]
     },
     "metadata": {},
     "output_type": "display_data"
    },
    {
     "data": {
      "application/vnd.jupyter.widget-view+json": {
       "model_id": "",
       "version_major": 2,
       "version_minor": 0
      },
      "text/plain": [
       "FloatProgress(value=0.0, bar_style='info', description='Progress:', layout=Layout(height='25px', width='50%'),…"
      ]
     },
     "metadata": {},
     "output_type": "display_data"
    }
   ],
   "source": [
    "resultTri = ovrModelTri.transform(dfTri)\n",
    "resultTri_test = ovrModelTri.transform(dfTri_test)"
   ]
  },
  {
   "cell_type": "markdown",
   "id": "45cc87f3-81e2-4215-ba1f-6421cab954f1",
   "metadata": {},
   "source": [
    "#### Metric"
   ]
  },
  {
   "cell_type": "code",
   "execution_count": 31,
   "id": "bda40341-b74e-4c08-baa0-0bb3cf5a9fb7",
   "metadata": {
    "execution": {
     "iopub.execute_input": "2022-04-08T18:41:46.658911Z",
     "iopub.status.busy": "2022-04-08T18:41:46.658664Z",
     "iopub.status.idle": "2022-04-08T18:49:14.116569Z",
     "shell.execute_reply": "2022-04-08T18:49:14.115840Z",
     "shell.execute_reply.started": "2022-04-08T18:41:46.658883Z"
    },
    "tags": []
   },
   "outputs": [
    {
     "data": {
      "application/vnd.jupyter.widget-view+json": {
       "model_id": "33742c055fca4301abee4e0df24bcbf4",
       "version_major": 2,
       "version_minor": 0
      },
      "text/plain": [
       "VBox()"
      ]
     },
     "metadata": {},
     "output_type": "display_data"
    },
    {
     "data": {
      "application/vnd.jupyter.widget-view+json": {
       "model_id": "",
       "version_major": 2,
       "version_minor": 0
      },
      "text/plain": [
       "FloatProgress(value=0.0, bar_style='info', description='Progress:', layout=Layout(height='25px', width='50%'),…"
      ]
     },
     "metadata": {},
     "output_type": "display_data"
    },
    {
     "name": "stdout",
     "output_type": "stream",
     "text": [
      "Training F1 for Trigram One vs Rest with logistic regression 0.3644811915058533\n",
      "Training weightedRecall for Trigram One vs Rest with logistic regression 0.3694128432094498\n",
      "Training weightedPrecision for Trigram One vs Rest with logistic regression 0.36945976463769\n",
      "Training accuracy for Trigram One vs Rest with logistic regression 0.36941284320944984\n",
      "Test accuracy for Trigram One vs Rest with logistic regression 0.30505364678604213"
     ]
    }
   ],
   "source": [
    "print(\"Training F1 for Trigram One vs Rest with logistic regression\",evaluator.evaluate(resultTri,{evaluator.metricName: \"f1\"}))\n",
    "print(\"Training weightedRecall for Trigram One vs Rest with logistic regression\",evaluator.evaluate(resultTri,{evaluator.metricName: \"weightedRecall\"}))\n",
    "print(\"Training weightedPrecision for Trigram One vs Rest with logistic regression\",evaluator.evaluate(resultTri,{evaluator.metricName: \"weightedPrecision\"}))\n",
    "print(\"Training accuracy for Trigram One vs Rest with logistic regression\",evaluator.evaluate(resultTri,{evaluator.metricName: \"accuracy\"}))\n",
    "print(\"Test accuracy for Trigram One vs Rest with logistic regression\",evaluator.evaluate(resultTri_test,{evaluator.metricName: \"accuracy\"}))"
   ]
  },
  {
   "cell_type": "code",
   "execution_count": 28,
   "id": "8903e148-070d-47f9-8cd6-e33590d94dc3",
   "metadata": {
    "execution": {
     "iopub.execute_input": "2022-04-08T09:43:41.977613Z",
     "iopub.status.busy": "2022-04-08T09:43:41.977148Z",
     "iopub.status.idle": "2022-04-08T09:43:49.402109Z",
     "shell.execute_reply": "2022-04-08T09:43:49.401236Z",
     "shell.execute_reply.started": "2022-04-08T09:43:41.977574Z"
    }
   },
   "outputs": [
    {
     "data": {
      "application/vnd.jupyter.widget-view+json": {
       "model_id": "dbc610f9d3014ab682dd556c506554da",
       "version_major": 2,
       "version_minor": 0
      },
      "text/plain": [
       "VBox()"
      ]
     },
     "metadata": {},
     "output_type": "display_data"
    },
    {
     "data": {
      "application/vnd.jupyter.widget-view+json": {
       "model_id": "",
       "version_major": 2,
       "version_minor": 0
      },
      "text/plain": [
       "FloatProgress(value=0.0, bar_style='info', description='Progress:', layout=Layout(height='25px', width='50%'),…"
      ]
     },
     "metadata": {},
     "output_type": "display_data"
    }
   ],
   "source": [
    "ovrModelTri.save('s3://dataset-26-proj/yelp_academic_dataset_review_ovrTri/ovrTriV1')"
   ]
  },
  {
   "cell_type": "markdown",
   "id": "f606c104-14ff-4ee3-a529-89a0d84b2e6c",
   "metadata": {
    "tags": []
   },
   "source": [
    "## Test"
   ]
  },
  {
   "cell_type": "code",
   "execution_count": null,
   "id": "e1876aea-9c3c-4ab3-99b0-a590ebb4f080",
   "metadata": {
    "collapsed": true,
    "execution": {
     "iopub.execute_input": "2022-04-06T17:37:52.868154Z",
     "iopub.status.busy": "2022-04-06T17:37:52.867926Z"
    },
    "jupyter": {
     "outputs_hidden": true,
     "source_hidden": true
    },
    "tags": []
   },
   "outputs": [
    {
     "data": {
      "application/vnd.jupyter.widget-view+json": {
       "model_id": "c921d2ff62ac4438b4149c98d3374c4a",
       "version_major": 2,
       "version_minor": 0
      },
      "text/plain": [
       "VBox()"
      ]
     },
     "metadata": {},
     "output_type": "display_data"
    },
    {
     "data": {
      "application/vnd.jupyter.widget-view+json": {
       "model_id": "3738a80abdf64c4eb06506bd1368f4fc",
       "version_major": 2,
       "version_minor": 0
      },
      "text/plain": [
       "FloatProgress(value=0.0, bar_style='info', description='Progress:', layout=Layout(height='25px', width='50%'),…"
      ]
     },
     "metadata": {},
     "output_type": "display_data"
    },
    {
     "name": "stderr",
     "output_type": "stream",
     "text": [
      "Exception in thread cell_monitor-12:\n",
      "Traceback (most recent call last):\n",
      "  File \"/mnt/notebook-env/lib/python3.7/threading.py\", line 926, in _bootstrap_inner\n",
      "    self.run()\n",
      "  File \"/mnt/notebook-env/lib/python3.7/threading.py\", line 870, in run\n",
      "    self._target(*self._args, **self._kwargs)\n",
      "  File \"/mnt/notebook-env/lib/python3.7/site-packages/awseditorssparkmonitoringwidget-1.0-py3.7.egg/awseditorssparkmonitoringwidget/cellmonitor.py\", line 178, in cell_monitor\n",
      "    job_binned_stages[job_id][stage_id] = all_stages[stage_id]\n",
      "KeyError: 1397\n",
      "\n"
     ]
    }
   ],
   "source": [
    "\n",
    "# paramGrid = tuning.ParamGridBuilder().addGrid(lr.maxIter, [30,50,75]) \\\n",
    "#                               .addGrid(lr.regParam, [0.03, 0.04, 0.05]) \\\n",
    "#                               .addGrid(lr.elasticNetParam, [0.1,0.2,0.3]) \\\n",
    "#                               .build()\n",
    "# evaluator = MulticlassClassificationEvaluator()\n",
    "# valid = tuning.TrainValidationSplit(estimator=lr,\n",
    "#                              estimatorParamMaps=paramGrid,\n",
    "#                              evaluator=evaluator,\n",
    "#                              trainRatio=0.80)\n",
    "# model = valid.fit(df)"
   ]
  },
  {
   "cell_type": "code",
   "execution_count": 14,
   "id": "302650b7-4ffc-4457-a32d-c7b502b13bcb",
   "metadata": {
    "collapsed": true,
    "execution": {
     "iopub.execute_input": "2022-04-06T15:04:03.110681Z",
     "iopub.status.busy": "2022-04-06T15:04:03.110451Z",
     "iopub.status.idle": "2022-04-06T15:04:03.373402Z",
     "shell.execute_reply": "2022-04-06T15:04:03.372567Z",
     "shell.execute_reply.started": "2022-04-06T15:04:03.110657Z"
    },
    "jupyter": {
     "outputs_hidden": true,
     "source_hidden": true
    },
    "tags": []
   },
   "outputs": [
    {
     "data": {
      "application/vnd.jupyter.widget-view+json": {
       "model_id": "51a4b21d2f124f3bba8f7f6954ae086d",
       "version_major": 2,
       "version_minor": 0
      },
      "text/plain": [
       "VBox()"
      ]
     },
     "metadata": {},
     "output_type": "display_data"
    },
    {
     "data": {
      "application/vnd.jupyter.widget-view+json": {
       "model_id": "",
       "version_major": 2,
       "version_minor": 0
      },
      "text/plain": [
       "FloatProgress(value=0.0, bar_style='info', description='Progress:', layout=Layout(height='25px', width='50%'),…"
      ]
     },
     "metadata": {},
     "output_type": "display_data"
    }
   ],
   "source": [
    "best_model = model.transform(df)"
   ]
  },
  {
   "cell_type": "code",
   "execution_count": null,
   "id": "6df18521",
   "metadata": {
    "jupyter": {
     "source_hidden": true
    },
    "tags": []
   },
   "outputs": [],
   "source": [
    "#rf_model = rf.fit(df)\n",
    "\n",
    "#lrModel = ovr.fit(df)"
   ]
  },
  {
   "cell_type": "code",
   "execution_count": 13,
   "id": "c2c12d66-9132-4c1c-8672-330a517b4179",
   "metadata": {
    "collapsed": true,
    "execution": {
     "iopub.execute_input": "2022-04-08T06:17:14.481348Z",
     "iopub.status.busy": "2022-04-08T06:17:14.481004Z",
     "iopub.status.idle": "2022-04-08T06:17:14.574208Z",
     "shell.execute_reply": "2022-04-08T06:17:14.573532Z",
     "shell.execute_reply.started": "2022-04-08T06:17:14.481302Z"
    },
    "jupyter": {
     "outputs_hidden": true,
     "source_hidden": true
    },
    "tags": []
   },
   "outputs": [
    {
     "data": {
      "application/vnd.jupyter.widget-view+json": {
       "model_id": "c15a4f247411419d8a7c7bad1b481ab6",
       "version_major": 2,
       "version_minor": 0
      },
      "text/plain": [
       "VBox()"
      ]
     },
     "metadata": {},
     "output_type": "display_data"
    },
    {
     "data": {
      "application/vnd.jupyter.widget-view+json": {
       "model_id": "",
       "version_major": 2,
       "version_minor": 0
      },
      "text/plain": [
       "FloatProgress(value=0.0, bar_style='info', description='Progress:', layout=Layout(height='25px', width='50%'),…"
      ]
     },
     "metadata": {},
     "output_type": "display_data"
    },
    {
     "name": "stdout",
     "output_type": "stream",
     "text": [
      "root\n",
      " |-- label: double (nullable = true)\n",
      " |-- features: vector (nullable = true)\n",
      " |-- prediction: double (nullable = true)"
     ]
    }
   ],
   "source": [
    "#best_model.printSchema()\n"
   ]
  },
  {
   "cell_type": "markdown",
   "id": "961b34b5-e666-4113-95b4-82dc464acf69",
   "metadata": {
    "tags": []
   },
   "source": [
    "### Shutdown"
   ]
  },
  {
   "cell_type": "code",
   "execution_count": 7,
   "id": "3aaa2c6a-00a9-419b-82f2-d11f48204bd8",
   "metadata": {
    "execution": {
     "iopub.execute_input": "2022-04-03T10:06:07.805451Z",
     "iopub.status.busy": "2022-04-03T10:06:07.805208Z",
     "iopub.status.idle": "2022-04-03T10:06:08.076526Z",
     "shell.execute_reply": "2022-04-03T10:06:08.075771Z",
     "shell.execute_reply.started": "2022-04-03T10:06:07.805424Z"
    }
   },
   "outputs": [
    {
     "data": {
      "application/vnd.jupyter.widget-view+json": {
       "model_id": "6a9a3d8e6b564ecbaef20a36fb03455f",
       "version_major": 2,
       "version_minor": 0
      },
      "text/plain": [
       "VBox()"
      ]
     },
     "metadata": {},
     "output_type": "display_data"
    },
    {
     "data": {
      "application/vnd.jupyter.widget-view+json": {
       "model_id": "",
       "version_major": 2,
       "version_minor": 0
      },
      "text/plain": [
       "FloatProgress(value=0.0, bar_style='info', description='Progress:', layout=Layout(height='25px', width='50%'),…"
      ]
     },
     "metadata": {},
     "output_type": "display_data"
    }
   ],
   "source": [
    "sc.stop()"
   ]
  }
 ],
 "metadata": {
  "kernelspec": {
   "display_name": "Python 3",
   "language": "python",
   "name": "python3"
  },
  "language_info": {
   "codemirror_mode": {
    "name": "ipython",
    "version": 3
   },
   "file_extension": ".py",
   "mimetype": "text/x-python",
   "name": "python",
   "nbconvert_exporter": "python",
   "pygments_lexer": "ipython3",
   "version": "3.8.8"
  }
 },
 "nbformat": 4,
 "nbformat_minor": 5
}
